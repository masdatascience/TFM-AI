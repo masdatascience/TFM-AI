{
  "nbformat": 4,
  "nbformat_minor": 0,
  "metadata": {
    "colab": {
      "name": "TFM-1_Prevention-Dummy.ipynb",
      "version": "0.3.2",
      "provenance": [],
      "collapsed_sections": [],
      "machine_shape": "hm",
      "include_colab_link": true
    },
    "kernelspec": {
      "name": "python3",
      "display_name": "Python 3",
      "language": "python"
    },
    "language_info": {
      "mimetype": "text/x-python",
      "nbconvert_exporter": "python",
      "name": "python",
      "file_extension": ".py",
      "version": "3.5.4",
      "pygments_lexer": "ipython3",
      "codemirror_mode": {
        "version": 3,
        "name": "ipython"
      }
    }
  },
  "cells": [
    {
      "cell_type": "markdown",
      "metadata": {
        "id": "view-in-github",
        "colab_type": "text"
      },
      "source": [
        "<a href=\"https://colab.research.google.com/github/masdatascience/TFM-AI/blob/master/NT3.ipynb\" target=\"_parent\"><img src=\"https://colab.research.google.com/assets/colab-badge.svg\" alt=\"Open In Colab\"/></a>"
      ]
    },
    {
      "cell_type": "markdown",
      "metadata": {
        "id": "k1PvPRCY79m-",
        "colab_type": "text"
      },
      "source": [
        "# Prevención Fuga de Clientes\n",
        "El enfoque de la prevención es disminuir el impacto latente de la posibilidad de que alguno de los clientes deje de comprar productos. \n",
        "Con este fin se realiza la estrategia en 3 sentidos: <br>\n",
        "**1.Motor de Recomendación** <br>\n",
        "**Objetivo:** Aumentar la penetración de los productos a los clientes con el fin de fortalecer la relación comercial y su fidelización. <br>\n",
        "Este enfoque hace parte de la primera parte del notebook, con el objetivo de generar un motor de recomendación con el cual se facilite la venta de nuevos productos por medio de estrategia de datos. <br>\n",
        "*Notebook 1: Motor de recomendación* <br>\n",
        "\n",
        "**2.Nueva segmentación de información con base en los datos de los clientes y sus transacciones** <br>\n",
        "**Objetivo:** Generar nueva información de los clientes, con el objetivo de realizar una mejor gestión de estos y plantear estrategias con base en esta nueva característica de información desarrollada. <br>\n",
        "El segundo enfoque es a través de una nueva segmentación, que permita de igual forma identificar no solo como y que es posible comprar, sino generar nuevas dimensiones de análisis, para que los equipos de business intelligence, comerciales y financieros, tengan más herramientas durante sus estrategias de negocio. <br>\n",
        "*Notebook 2: Segmentación de datos* <br>\n",
        "\n",
        "**3.Predecir la Fuga de clientes** <br>\n",
        "**Objetivo:** Desarrollar un marcaje de fuga de clientes con base en la historia transaccional de cliente, permitiendo esto entrenar un modelo de Machine Learning para predecir la posible baja de clientes. <br>\n",
        "El Tercer enfoque tiene dos frentes de trabajo, el primero permite establecer a través de variables de tendencias de compra y montos, si el cliente se encuentra \"vivo\" o no. Con base en este resultado, se activa el segundo frente, el cual a través de algoritmos de Machine Learning permite predecir la fuga de clientes con base en el marcaje realizado en la primera etapa. <br>\n",
        "*Notebook 3: Predicción Fuga Clientes* <br>\n"
      ]
    },
    {
      "cell_type": "markdown",
      "metadata": {
        "id": "orpOJu6j8zxg",
        "colab_type": "text"
      },
      "source": [
        "### Fuente de datos\n",
        "Los datos usando durante la tesis son de dominio publico y hacen referencia a un comercio de Brasil. <br>\n",
        "Estos datos han sido modelados en un modelo dimensional con el fin de mejorar el performance del análisis del actual tesis y permitir generar modelos de reporting/dashboard con herramientas de BI.<br>\n",
        "Los datos han sido migrados a la plataforma github con el fin que sean de dominio publico. <br>\n"
      ]
    },
    {
      "cell_type": "markdown",
      "metadata": {
        "id": "1LmmcB9U8gN_",
        "colab_type": "text"
      },
      "source": [
        "##2.Segmentación de Clientes\n",
        "Durante esta etapa se utilizará machine learning no supervisada, con el objetivo de generar segmentos de datos, los cuales apoyen a las estrategias del negocio en encontrar nuevas dimensiones de analisis para plantear su información\n",
        "\n",
        "\n",
        "### 2.1 Carga de librerias y datos"
      ]
    },
    {
      "cell_type": "code",
      "metadata": {
        "id": "rlke_DiE7xb2",
        "colab_type": "code",
        "trusted": true,
        "scrolled": true,
        "colab": {}
      },
      "source": [
        "\n",
        "# librerias requeridas\n",
        " \n",
        "import matplotlib.pyplot as plt\n",
        "import pandas as pd\n",
        "import numpy as np\n",
        "%matplotlib inline\n",
        "from sklearn.metrics.pairwise import cosine_similarity\n",
        "from sklearn.cluster import KMeans\n",
        "from sklearn.metrics import silhouette_score\n",
        "import time\n",
        "from sklearn.model_selection import train_test_split\n",
        "#from google.colab import drive\n",
        "#drive.mount('drive')\n",
        "from sklearn.cluster import KMeans\n",
        "from sklearn.metrics import silhouette_score\n",
        "from sklearn.model_selection import train_test_split\n",
        "from sklearn.preprocessing import StandardScaler\n",
        "from sklearn.decomposition import PCA\n",
        "from matplotlib import cm "
      ],
      "execution_count": 0,
      "outputs": []
    },
    {
      "cell_type": "code",
      "metadata": {
        "id": "wcjQe--m9v7_",
        "colab_type": "code",
        "colab": {}
      },
      "source": [
        "## Localización y carga de los datos\n",
        "url = 'https://github.com/masdatascience/TFM-AI/blob/master/data_model_completo.xlsx?raw=true'\n",
        "datos_modelo = pd.ExcelFile(url)\n",
        "datos_facturacion = pd.read_excel(datos_modelo, sheet_name='fac_txn')\n",
        "datos_facturacion = datos_facturacion.dropna(subset=['customer_id'])\n",
        "datos_facturacion = datos_facturacion.dropna(subset=['product_id'])\n",
        "datos_facturacion = datos_facturacion.loc[datos_facturacion['total_value'] > 0]\n",
        "datos_facturacion = datos_facturacion.loc[datos_facturacion['num_txn'] > 0]"
      ],
      "execution_count": 0,
      "outputs": []
    },
    {
      "cell_type": "markdown",
      "metadata": {
        "id": "gknP4zvnDMY2",
        "colab_type": "text"
      },
      "source": [
        "### 2.2 Preparación de los datos \n",
        "En esta sección se estarán consolidando los datos de los clientes, para identificar la cantidad de transacciones que han realizado, número de productos que han adquirido y el total de sus compras. <br>\n",
        "Adicionalmente estaremos aplicando el metodo del codo para identificar una agrupación optima para aplicar posteriormente un algoritmo de machine learning no supervisado como es K-Means. "
      ]
    },
    {
      "cell_type": "markdown",
      "metadata": {
        "id": "nGPFk-v0D00A",
        "colab_type": "text"
      },
      "source": [
        "#### 2.2.1 Información consolidad del clientes\n",
        "\n"
      ]
    },
    {
      "cell_type": "code",
      "metadata": {
        "id": "F3iR_xdeL3V9",
        "colab_type": "code",
        "colab": {
          "base_uri": "https://localhost:8080/",
          "height": 138
        },
        "outputId": "88f83e11-fdca-470b-ee70-cfaaa55f2136"
      },
      "source": [
        "# Se consolidan los datos de los clientes\n",
        "informacion_cliente = datos_facturacion.groupby('customer_id').agg({'total_value': sum,'product_id': lambda x: x.nunique(),'num_txn': sum,}).fillna(0)\n",
        "informacion_cliente.columns = ['IMP_TOTAL_VENTAS', 'NUM_TOTAL_PRODUCTOS','NUM_TOTAL_TXN']\n",
        "informacion_cliente['IMP_VENTA_PROMEDIO'] = informacion_cliente['IMP_TOTAL_VENTAS']/informacion_cliente['NUM_TOTAL_TXN']\n",
        "informacion_cliente.head(2)\n"
      ],
      "execution_count": 3,
      "outputs": [
        {
          "output_type": "execute_result",
          "data": {
            "text/html": [
              "<div>\n",
              "<style scoped>\n",
              "    .dataframe tbody tr th:only-of-type {\n",
              "        vertical-align: middle;\n",
              "    }\n",
              "\n",
              "    .dataframe tbody tr th {\n",
              "        vertical-align: top;\n",
              "    }\n",
              "\n",
              "    .dataframe thead th {\n",
              "        text-align: right;\n",
              "    }\n",
              "</style>\n",
              "<table border=\"1\" class=\"dataframe\">\n",
              "  <thead>\n",
              "    <tr style=\"text-align: right;\">\n",
              "      <th></th>\n",
              "      <th>IMP_TOTAL_VENTAS</th>\n",
              "      <th>NUM_TOTAL_PRODUCTOS</th>\n",
              "      <th>NUM_TOTAL_TXN</th>\n",
              "      <th>IMP_VENTA_PROMEDIO</th>\n",
              "    </tr>\n",
              "    <tr>\n",
              "      <th>customer_id</th>\n",
              "      <th></th>\n",
              "      <th></th>\n",
              "      <th></th>\n",
              "      <th></th>\n",
              "    </tr>\n",
              "  </thead>\n",
              "  <tbody>\n",
              "    <tr>\n",
              "      <th>0000366f3b9a7992bf8c76cfdf3221e2</th>\n",
              "      <td>14190</td>\n",
              "      <td>1</td>\n",
              "      <td>1.0</td>\n",
              "      <td>14190.0</td>\n",
              "    </tr>\n",
              "    <tr>\n",
              "      <th>0000b849f77a49e4a4ce2b2a4ca5be3f</th>\n",
              "      <td>2719</td>\n",
              "      <td>1</td>\n",
              "      <td>1.0</td>\n",
              "      <td>2719.0</td>\n",
              "    </tr>\n",
              "  </tbody>\n",
              "</table>\n",
              "</div>"
            ],
            "text/plain": [
              "                                  IMP_TOTAL_VENTAS  ...  IMP_VENTA_PROMEDIO\n",
              "customer_id                                         ...                    \n",
              "0000366f3b9a7992bf8c76cfdf3221e2             14190  ...             14190.0\n",
              "0000b849f77a49e4a4ce2b2a4ca5be3f              2719  ...              2719.0\n",
              "\n",
              "[2 rows x 4 columns]"
            ]
          },
          "metadata": {
            "tags": []
          },
          "execution_count": 3
        }
      ]
    },
    {
      "cell_type": "markdown",
      "metadata": {
        "id": "_Fzb01hyFs1-",
        "colab_type": "text"
      },
      "source": [
        "#### 2.2.2 Se definen funciones de clustering"
      ]
    },
    {
      "cell_type": "code",
      "metadata": {
        "id": "kh18gKpfF0X4",
        "colab_type": "code",
        "colab": {}
      },
      "source": [
        "# Se define una función que grafica el codo para identificar la mejor agrupación\n",
        "\n",
        "def metodo_codo(datos):\n",
        "\n",
        "  dataset =  datos.iloc[:, :].values\n",
        "  estandar = StandardScaler()\n",
        "  dataset= estandar.fit_transform(dataset)\n",
        "  resultados = [] \n",
        "  # Se realizan una revisión de las primeras 10 agrupaciones\n",
        "  for i in range(1,11): \n",
        "      kmeans = KMeans(n_clusters = i, init ='k-means++',max_iter=300,n_init=10)\n",
        "      kmeans.fit(dataset)\n",
        "      resultados.append(kmeans.inertia_)\n",
        "  plt.plot(range(1,11) , resultados,'ro-', markersize=8, lw=2)\n",
        "  plt.title('Metodo del codo')\n",
        "  plt.xlabel('Número de agrupaciones de clientes')\n",
        "  plt.ylabel('WCSS')\n",
        "  plt.show()\n",
        " \n",
        "\n",
        "  \n",
        "# Función que grafica los clusters\n",
        "def graficarCluster(datos, campo1, campo2, titulo, eje_x, eje_y):\n",
        "  plt.scatter(datos.loc[datos['DATA_SEG'] == 0][campo1], datos.loc[datos['DATA_SEG'] == 0][campo2], c='blue')\n",
        "  plt.scatter(datos.loc[datos['DATA_SEG'] == 1][campo1], datos.loc[datos['DATA_SEG'] == 1][campo2], c='red' )\n",
        "  plt.scatter(datos.loc[datos['DATA_SEG'] == 2][campo1], datos.loc[datos['DATA_SEG'] == 2][campo2],c='orange')\n",
        "  plt.scatter(datos.loc[datos['DATA_SEG'] == 3][campo1], datos.loc[datos['DATA_SEG'] == 3][campo2],c='green')\n",
        "  plt.scatter(datos.loc[datos['DATA_SEG'] == 4][campo1], datos.loc[datos['DATA_SEG'] == 4][campo2],c='yellow')\n",
        "  plt.scatter(datos.loc[datos['DATA_SEG'] == 5][campo1], datos.loc[datos['DATA_SEG'] == 5][campo2],c='black')\n",
        "  plt.title(titulo)\n",
        "  plt.xlabel(eje_x)\n",
        "  plt.ylabel(eje_y)\n",
        "  plt.grid()\n",
        "  plt.show()\n",
        "\n",
        "# Se aplica el metodo de la silueta\n",
        "def metodo_silueta(datos):\n",
        "  \n",
        "  for num_cluster in [3,4,5,6,7,8]:\n",
        "      kmeans = KMeans(n_clusters=num_cluster).fit(datos)\n",
        "      silhouette_avg = silhouette_score(datos,kmeans.labels_ )\n",
        "\n",
        "      print('Scoring silueta para %i Clusters: %0.4f' % (num_cluster, silhouette_avg))\n",
        "      \n",
        " \n",
        " "
      ],
      "execution_count": 0,
      "outputs": []
    },
    {
      "cell_type": "markdown",
      "metadata": {
        "id": "YURTaD1qFEU7",
        "colab_type": "text"
      },
      "source": [
        "### 2.3 Identificar mejor segmentación por clustering para clientes \n",
        "Se aplicarán dos enfoques, el primero el metodo del codo y se comprobará con base en la silueta\n",
        "\n"
      ]
    },
    {
      "cell_type": "code",
      "metadata": {
        "id": "ZLcjmx-ryY5s",
        "colab_type": "code",
        "colab": {
          "base_uri": "https://localhost:8080/",
          "height": 315
        },
        "outputId": "81ed92c0-4c41-4a0a-9cc5-41d8dab868e9"
      },
      "source": [
        "# Normalizo los datos previo a realizar la revisión \n",
        "ranking_cliente = informacion_cliente.rank(method='first')\n",
        "cliente_normalizado = (ranking_cliente - ranking_cliente.mean()) / ranking_cliente.std()\n",
        "\n",
        "# Aplico metodo del codo - su resultado es 4\n",
        "metodo_codo(cliente_normalizado)\n",
        "\n",
        "# Compruebo con silueta\n",
        "metodo_silueta(cliente_normalizado)\n",
        "# Con los valores definidos entre el metodo del codo y silueta se realizará la segmentación con K-means - Su resultado brinda K=4"
      ],
      "execution_count": 0,
      "outputs": [
        {
          "output_type": "display_data",
          "data": {
            "image/png": "[encoded data removed]",
            "text/plain": [
              "<Figure size 432x288 with 1 Axes>"
            ]
          },
          "metadata": {
            "tags": []
          }
        },
        {
          "output_type": "stream",
          "text": [
            "Scoring silueta para 3 Clusters: 0.3563\n"
          ],
          "name": "stdout"
        }
      ]
    },
    {
      "cell_type": "code",
      "metadata": {
        "id": "tAI3qPjP5LXw",
        "colab_type": "code",
        "colab": {}
      },
      "source": [
        "# Se pueden visualizar las correlaciones en la información normalizada\n",
        "data_correlaciones = cliente_normalizado.corr()\n",
        "sns.heatmap(data_correlaciones, annot = True) \n",
        "plt.show() "
      ],
      "execution_count": 0,
      "outputs": []
    },
    {
      "cell_type": "markdown",
      "metadata": {
        "id": "52rVRxv5YF7J",
        "colab_type": "text"
      },
      "source": [
        "### 2.3 Se crea la nueva segmentación de datos\n",
        "Con base en los resultados realizados en los anteriores pasos, se realiza la segmentación de datos, la cual se integra al modelo de datos."
      ]
    },
    {
      "cell_type": "code",
      "metadata": {
        "id": "GIJ-1VLWNuaa",
        "colab_type": "code",
        "colab": {}
      },
      "source": [
        "#se geneará el campo de segmentación DATA_SEG con la cantidad de clusters definidos en el anterior paso\n",
        "clusters=4\n",
        "# Se desactiva la opcion de verbose para no visualizar las iteraciones. Para activar verbose=1\n",
        "kmeans = KMeans(n_clusters=clusters,init='k-means++', n_init=1).fit(cliente_normalizado)\n",
        "cliente_normalizado['DATA_SEG'] = kmeans.labels_\n",
        "# Se visualiza la cantidad de clientes por el nuevo Campo\n",
        "print(str(cliente_normalizado.groupby('DATA_SEG').count()['IMP_TOTAL_VENTAS']))"
      ],
      "execution_count": 0,
      "outputs": []
    },
    {
      "cell_type": "code",
      "metadata": {
        "id": "Y3vmrP9lUXF9",
        "colab_type": "code",
        "colab": {}
      },
      "source": [
        "# Ahora se grafica los segmentos \n",
        "# Para ello se procede a realizar una reduccion dimensional con PCA\n",
        "reductor = PCA(n_components=2)\n",
        "datos_2d = reductor.fit_transform(cliente_normalizado.drop(['DATA_SEG'],axis=1).values)\n",
        "# Se ajusta el algoritmo con los datos\n",
        "kmeans.fit(datos_2d)\n",
        "# Se obtienen descriptores y se definen colores de las agrupaciones\n",
        "labels = estimator.labels_\n",
        "colores = ['#1496BB','#0D3D56','#EBC944','#F08C2D']\n",
        "col_map=dict(zip(set(labels),colores))\n",
        "label_color = [col_map[l] for l in labels];\n",
        "# Se realiza el plot del grafico\n",
        "fig, ax = plt.subplots()\n",
        "ax.scatter(datos_2d[:,0], datos_2d[:,1], c=label_color);\n",
        "ax.scatter(estimator.cluster_centers_[:,0], estimator.cluster_centers_[:,1], marker='x', s=50, c='r');\n",
        "plt.title('K-means en 2D');\n"
      ],
      "execution_count": 0,
      "outputs": []
    },
    {
      "cell_type": "code",
      "metadata": {
        "id": "2c68o0qGMHhL",
        "colab_type": "code",
        "colab": {}
      },
      "source": [
        "#Se puede visualizar nuevamente las correlaciones ahora con el segmento de datos \n",
        "sns.heatmap(cliente_normalizado.corr(), annot = True) \n",
        "plt.show() "
      ],
      "execution_count": 0,
      "outputs": []
    },
    {
      "cell_type": "code",
      "metadata": {
        "id": "doEXX5bJJ-8Q",
        "colab_type": "code",
        "colab": {}
      },
      "source": [
        "# Se define los clientes con mayor valor de ventas\n",
        "clientes_compras_altas = (cliente_normalizado.loc[cliente_normalizado['DATA_SEG'] == 3]).sort_values(ascending=False,by='IMP_TOTAL_VENTAS')\n",
        "informacion_cliente.loc[clientes_compras_altas.index].describe()"
      ],
      "execution_count": 0,
      "outputs": []
    },
    {
      "cell_type": "code",
      "metadata": {
        "id": "AIkHU8aLXwC_",
        "colab_type": "code",
        "colab": {}
      },
      "source": [
        "# grafico las agrupaciones\n",
        "col1='NUM_TOTAL_TXN'\n",
        "col2='IMP_TOTAL_VENTAS'\n",
        "col3='IMP_VENTA_PROMEDIO'\n",
        "col4='NUM_TOTAL_PRODUCTOS'\n",
        "\n",
        "graficarCluster(cliente_normalizado,col1,col4,'Promedio Ventas vs. No. Transacciones Clusters','Número Transacciones','Promedio Ventas') # clustering cantidad vs promedio de facturación\n",
        "graficarCluster(cliente_normalizado,col2,col3,'DATA_SEG','Promedio Ventas vs. No. Transacciones Clusters','Número Transacciones','Promedio Ventas') # clustering cantidad vs promedio de facturación\n",
        "graficarCluster(cliente_normalizado,col2,col3,'DATA_SEG','Promedio Ventas vs. No. Transacciones Clusters','Número Transacciones','Promedio Ventas') # clustering cantidad vs promedio de facturación"
      ],
      "execution_count": 0,
      "outputs": []
    }
  ]
}