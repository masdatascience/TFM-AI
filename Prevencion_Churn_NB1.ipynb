{
  "nbformat": 4,
  "nbformat_minor": 0,
  "metadata": {
    "colab": {
      "name": "Prevencion_Churn-NB1.ipynb",
      "provenance": [],
      "collapsed_sections": [],
      "machine_shape": "hm"
    },
    "kernelspec": {
      "name": "python3",
      "display_name": "Python 3",
      "language": "python"
    },
    "language_info": {
      "mimetype": "text/x-python",
      "nbconvert_exporter": "python",
      "name": "python",
      "file_extension": ".py",
      "version": "3.5.4",
      "pygments_lexer": "ipython3",
      "codemirror_mode": {
        "version": 3,
        "name": "ipython"
      }
    }
  },
  "cells": [
    {
      "cell_type": "markdown",
      "metadata": {
        "id": "k1PvPRCY79m-",
        "colab_type": "text"
      },
      "source": [
        "# Prevención Fuga de Clientes\n",
        "El enfoque de la prevención es disminuir el impacto latente de la posibilidad de que alguno de los clientes deje de comprar productos. \n",
        "Con este fin se realiza la estrategia en 3 sentidos: <br>\n",
        "**1.Motor de Recomendación** <br>\n",
        "**Objetivo:** Aumentar la penetración de los productos a los clientes con el fin de fortalecer la relación comercial y su fidelización. <br>\n",
        "Este enfoque hace parte de la primera parte del notebook, con el objetivo de generar un motor de recomendación con el cual se facilite la venta de nuevos productos por medio de estrategia de datos. <br>\n",
        "*Notebook 1: Motor de recomendación* <br>\n",
        "\n",
        "**2.Nueva segmentación de información con base en los datos de los clientes y sus transacciones** <br>\n",
        "**Objetivo:** Generar nueva información de los clientes, con el objetivo de realizar una mejor gestión de estos y plantear estrategias con base en esta nueva característica de información desarrollada. <br>\n",
        "El segundo enfoque es a través de una nueva segmentación, que permita de igual forma identificar no solo como y que es posible comprar, sino generar nuevas dimensiones de análisis, para que los equipos de business intelligence, comerciales y financieros, tengan más herramientas durante sus estrategias de negocio. <br>\n",
        "*Notebook 2: Segmentación de datos* <br>\n",
        "\n",
        "**3.Predecir la Fuga de clientes** <br>\n",
        "**Objetivo:** Desarrollar un marcaje de fuga de clientes con base en la historia transaccional de cliente, permitiendo esto entrenar un modelo de Machine Learning para predecir la posible baja de clientes. <br>\n",
        "El Tercer enfoque tiene dos frentes de trabajo, el primero permite establecer a través de variables de tendencias de compra y montos, si el cliente se encuentra \"vivo\" o no. Con base en este resultado, se activa el segundo frente, el cual a través de algoritmos de Machine Learning permite predecir la fuga de clientes con base en el marcaje realizado en la primera etapa. <br>\n",
        "*Notebook 3: Predicción Fuga Clientes* <br>\n"
      ]
    },
    {
      "cell_type": "code",
      "metadata": {
        "id": "tXh_3CYtd4e4",
        "colab_type": "code",
        "colab": {}
      },
      "source": [
        ""
      ],
      "execution_count": 0,
      "outputs": []
    },
    {
      "cell_type": "markdown",
      "metadata": {
        "id": "orpOJu6j8zxg",
        "colab_type": "text"
      },
      "source": [
        "### Fuente de datos\n",
        "Los datos usando durante la tesis son de dominio publico y hacen referencia a un comercio de Brasil. <br>\n",
        "Estos datos han sido modelados en un modelo dimensional con el fin de mejorar el performance del análisis del actual tesis y permitir generar modelos de reporting/dashboard con herramientas de BI.<br>\n",
        "Los datos han sido migrados a la plataforma github con el fin que sean de dominio publico. <br>\n"
      ]
    },
    {
      "cell_type": "markdown",
      "metadata": {
        "id": "1LmmcB9U8gN_",
        "colab_type": "text"
      },
      "source": [
        "##1. Motor de Recomendación\n",
        "\n",
        "Durante esta etapa se realizarán dos enfoques de recomendación, el primero con base en productos y el segundo con base en el comportamiento de clientes.\n",
        "\n",
        "\n",
        "### 1.1 Carga de librerias y datos"
      ]
    },
    {
      "cell_type": "code",
      "metadata": {
        "id": "rlke_DiE7xb2",
        "colab_type": "code",
        "trusted": true,
        "scrolled": true,
        "colab": {}
      },
      "source": [
        "#!pip install turicreate\n",
        "# librerias requeridas\n",
        "import turicreate as tc\n",
        "import matplotlib.pyplot as plt\n",
        "import pandas as pd\n",
        "import numpy as np\n",
        "%matplotlib inline\n",
        "from sklearn.metrics.pairwise import cosine_similarity\n",
        "from sklearn.cluster import KMeans\n",
        "from sklearn.metrics import silhouette_score\n",
        "import time\n",
        "from sklearn.model_selection import train_test_split\n"
      ],
      "execution_count": 0,
      "outputs": []
    },
    {
      "cell_type": "code",
      "metadata": {
        "id": "wcjQe--m9v7_",
        "colab_type": "code",
        "colab": {}
      },
      "source": [
        "## Localización y carga de los datos\n",
        "url = 'https://github.com/masdatascience/TFM-AI/blob/master/data_model_completo.xlsx?raw=true'\n",
        "datos_modelo = pd.ExcelFile(url)\n",
        "datos_facturacion = pd.read_excel(datos_modelo, sheet_name='fac_txn')\n",
        "datos_producto = pd.read_excel(datos_modelo, sheet_name='product')\n",
        "datos_clientes = pd.read_excel(datos_modelo, sheet_name='customer')\n",
        "\n",
        "# Se elimian los datos nulos de las dimensiones importantes del analisis que son productos y clientes\n",
        "datos_facturacion = datos_facturacion.dropna(subset=['customer_id'])\n",
        "datos_facturacion = datos_facturacion.dropna(subset=['product_id'])\n",
        "# Se elimina posibles chargeback que se presenten\n",
        "datos_facturacion = datos_facturacion.loc[datos_facturacion['total_value'] > 0]\n",
        "\n",
        "print(\"Facturación:\"+ str(datos_facturacion.shape) + \" Clientes:\"+str(datos_clientes.shape)+\" Productos:\"+str(datos_producto.shape))"
      ],
      "execution_count": 0,
      "outputs": []
    },
    {
      "cell_type": "markdown",
      "metadata": {
        "id": "gknP4zvnDMY2",
        "colab_type": "text"
      },
      "source": [
        "### 1.2 Preparación de los datos \n",
        "En esta sección se estarán preparando tres enfoques de matrices con el fin de permitir desarrollar los motores de recomendación. La primera es la relación entre el cliente y los productos, la siguiente es una matriz normalizada y la última integra valores dummies para la comparación . "
      ]
    },
    {
      "cell_type": "markdown",
      "metadata": {
        "id": "nGPFk-v0D00A",
        "colab_type": "text"
      },
      "source": [
        "#### 1.2.1 Relación Cliente - Producto\n",
        "\n"
      ]
    },
    {
      "cell_type": "code",
      "metadata": {
        "id": "zosJH8OuD6hA",
        "colab_type": "code",
        "outputId": "fdb4583e-cd3d-4d38-bb20-796b61f78917",
        "colab": {
          "base_uri": "https://localhost:8080/",
          "height": 34
        }
      },
      "source": [
        "# Obtengo la Matriz Relación Cliente - Producto , y la normalizo\n",
        "matrix_usuario_producto =pd.crosstab(datos_facturacion['customer_id'],datos_facturacion['product_id'],values=datos_facturacion['total_value'], aggfunc='sum', margins=True, margins_name=\"total_value\")\n",
        "matrix_usuario_producto_norm = (matrix_usuario_producto-matrix_usuario_producto.min())/(matrix_usuario_producto.max()-matrix_usuario_producto.min())\n",
        "d = matrix_usuario_producto_norm.reset_index() \n",
        "d.index.names = ['total_frecuencia'] \n",
        "data_norm = pd.melt(d, id_vars=['customer_id'], value_name='total_frecuencia').dropna()\n",
        "print(\"Matriz normalizada:\" +str(data_norm.shape))"
      ],
      "execution_count": 0,
      "outputs": [
        {
          "output_type": "stream",
          "text": [
            "Matriz normalizada:(14312, 3)\n"
          ],
          "name": "stdout"
        }
      ]
    },
    {
      "cell_type": "markdown",
      "metadata": {
        "id": "YURTaD1qFEU7",
        "colab_type": "text"
      },
      "source": [
        "#### 1.2.2 Relación Cliente Producto - Contraste"
      ]
    },
    {
      "cell_type": "code",
      "metadata": {
        "id": "_NC9OA2RHq1_",
        "colab_type": "code",
        "outputId": "d03a7316-dcb4-44e0-df01-458e25735041",
        "colab": {
          "base_uri": "https://localhost:8080/",
          "height": 34
        }
      },
      "source": [
        "datos_dummy = datos_facturacion.copy()\n",
        "datos_dummy['total_dummy'] = 1\n",
        "print(\"Matriz Dummy:\"+ str(datos_dummy.shape))"
      ],
      "execution_count": 0,
      "outputs": [
        {
          "output_type": "stream",
          "text": [
            "Matriz Dummy:(10000, 22)\n"
          ],
          "name": "stdout"
        }
      ]
    },
    {
      "cell_type": "markdown",
      "metadata": {
        "id": "fvqgw6XDFYJ6",
        "colab_type": "text"
      },
      "source": [
        "#### 1.2.3 Se generan datos de entrenamiento y pruebas"
      ]
    },
    {
      "cell_type": "code",
      "metadata": {
        "id": "P9YYO2PWFcUk",
        "colab_type": "code",
        "colab": {}
      },
      "source": [
        "train_data, test_data  = train_test_split(data_norm, test_size=0.3 ,random_state=1)\n",
        "train_data_dummy, test_data_dummy = train_test_split(datos_dummy, test_size=0.3 ,random_state=1)"
      ],
      "execution_count": 0,
      "outputs": []
    },
    {
      "cell_type": "markdown",
      "metadata": {
        "id": "_Fzb01hyFs1-",
        "colab_type": "text"
      },
      "source": [
        "#### 1.2.4  Se define función para ejecutar los tipos de motores de recomendación"
      ]
    },
    {
      "cell_type": "code",
      "metadata": {
        "id": "kh18gKpfF0X4",
        "colab_type": "code",
        "colab": {}
      },
      "source": [
        "# Se define una función que retorne un modelo resultado segun el enfoque que se requiere:\n",
        "# 1. Popularity : Es el item que más se a consumido en todos los clientes\n",
        "# 2. cosine :\n",
        "# 3. Pearson: \n",
        "def modelo_requerido(modelo,datos ,campo ):\n",
        "\n",
        "    train_data=tc.SFrame(datos)\n",
        "    print(\"Modelo solicitado:\"+ str(modelo))\n",
        "    if modelo == 'producto':\n",
        "        return  tc.popularity_recommender.create(train_data,user_id='customer_id', item_id='product_id', target=campo)\n",
        "    elif modelo == 'distancia_coseno':\n",
        "        return tc.item_similarity_recommender.create(train_data,user_id='customer_id', item_id='product_id', target=campo,similarity_type='cosine')\n",
        "    elif modelo == 'pearson':\n",
        "        return tc.item_similarity_recommender.create(train_data,user_id='customer_id', item_id='product_id', target=campo,similarity_type='pearson')\n",
        "    else : \n",
        "        print(\"ERROR: Modelo solicitado no existe\")\n",
        "\n",
        "#Obtiene las recomendaciones de forma visual para los clientes\n",
        "def productos_recomendado(modelo, usuarios, cantidad_recomendaciones):\n",
        "     modelo.recommend(users=list(usuarios), k=cantidad_recomendaciones).print_rows(cantidad_recomendaciones)\n",
        "\n",
        "#Evalua los modelos generados \n",
        "def evaluacion_modelos(modelo, test):\n",
        "  \n",
        "  if modelo == 'normalizado':\n",
        "        modelos_generados= [fac_producto, fac_coseno, fac_pearson]\n",
        "        nombres_modelos = ['Modelo basado en contenido', 'Modelo Colaborativo - Distancia Coseno', 'Modelo Colaborativo - Pearson']\n",
        "        test_data= tc.SFrame(test) \n",
        "        eval_counts = tc.recommender.util.compare_models(test_data, modelos_generados, model_names=nombres_modelos)\n",
        "  elif modelo == 'dummy':\n",
        "        modelos_generados= [dum_producto, dum_coseno, dum_pearson]\n",
        "        nombres_modelos = ['Modelo Dummy basado en contenido', 'Modelo Dummy Colaborativo - Distancia Coseno', 'Modelo Dummy Colaborativo - Pearson']\n",
        "        test_data= tc.SFrame(test) \n",
        "        eval_counts = tc.recommender.util.compare_models(test_data, modelos_generados, model_names=nombres_modelos)\n",
        "  else : \n",
        "        print(\"ERROR: Modelo solicitado no existe\")\n",
        "      \n",
        "#Exporta cinco  recomendaciones por cliente en google Drive      \n",
        "def exportarRecomendaciones(modelo, clientes):\n",
        "\n",
        "  lista_clientes =  list(clientes)\n",
        "  recomendaciones = modelo.recommend(users=lista_clientes, k=5)\n",
        "  resultado = recomendaciones.to_dataframe()\n",
        "  resultado['id_producto_recomendado'] = resultado.groupby(['customer_id'])['product_id'].transform(lambda x: ';'.join(x.astype(str)))\n",
        "  exportar = resultado[['customer_id', 'id_producto_recomendado']].drop_duplicates().sort_values('customer_id').set_index('customer_id')\n",
        "  exportar.to_csv('recomendaciones.csv')\n",
        "  !cp recomendaciones.csv drive/My\\ Drive/TFM-AI/\n",
        "  print(\"Se han exportado las recomendaciones en Google drive\")\n"
      ],
      "execution_count": 0,
      "outputs": []
    },
    {
      "cell_type": "markdown",
      "metadata": {
        "id": "52rVRxv5YF7J",
        "colab_type": "text"
      },
      "source": [
        "### 1.3 Modelo de recomendación basado en Contenido\n",
        "Este modelo genera recomendaciones con base en la relación de los clientes y sus productos"
      ]
    },
    {
      "cell_type": "code",
      "metadata": {
        "id": "GIJ-1VLWNuaa",
        "colab_type": "code",
        "outputId": "9aeeff27-0a98-4172-d198-cc6b2f9d81cf",
        "colab": {
          "base_uri": "https://localhost:8080/",
          "height": 241
        }
      },
      "source": [
        "# Se generan las recomendaciones por dataset\n",
        "fac_producto = modelo_requerido('producto',train_data,'total_frecuencia' )\n",
        "dum_producto = modelo_requerido('producto' ,train_data_dummy, 'total_dummy')"
      ],
      "execution_count": 0,
      "outputs": [
        {
          "output_type": "stream",
          "text": [
            "Modelo solicitado:producto\n"
          ],
          "name": "stdout"
        },
        {
          "output_type": "display_data",
          "data": {
            "text/html": [
              "<pre>Preparing data set.</pre>"
            ],
            "text/plain": [
              "Preparing data set."
            ]
          },
          "metadata": {
            "tags": []
          }
        },
        {
          "output_type": "display_data",
          "data": {
            "text/html": [
              "<pre>    Data has 10018 observations with 6975 users and 1229 items.</pre>"
            ],
            "text/plain": [
              "    Data has 10018 observations with 6975 users and 1229 items."
            ]
          },
          "metadata": {
            "tags": []
          }
        },
        {
          "output_type": "display_data",
          "data": {
            "text/html": [
              "<pre>    Data prepared in: 0.027246s</pre>"
            ],
            "text/plain": [
              "    Data prepared in: 0.027246s"
            ]
          },
          "metadata": {
            "tags": []
          }
        },
        {
          "output_type": "display_data",
          "data": {
            "text/html": [
              "<pre>10018 observations to process; with 1229 unique items.</pre>"
            ],
            "text/plain": [
              "10018 observations to process; with 1229 unique items."
            ]
          },
          "metadata": {
            "tags": []
          }
        },
        {
          "output_type": "stream",
          "text": [
            "Modelo solicitado:producto\n"
          ],
          "name": "stdout"
        },
        {
          "output_type": "display_data",
          "data": {
            "text/html": [
              "<pre>Warning: Ignoring columns order_id, order_item_id, customer_zip_code_prefix, shipping_limit_date, price, freight_value, total_value, credit_card, debit_card, boleto, voucher, not_defined, num_txn, order_status, order_purchase_timestamp, order_approved_at, order_delivered_carrier_date, order_delivered_customer_date, order_estimated_delivery_date;</pre>"
            ],
            "text/plain": [
              "Warning: Ignoring columns order_id, order_item_id, customer_zip_code_prefix, shipping_limit_date, price, freight_value, total_value, credit_card, debit_card, boleto, voucher, not_defined, num_txn, order_status, order_purchase_timestamp, order_approved_at, order_delivered_carrier_date, order_delivered_customer_date, order_estimated_delivery_date;"
            ]
          },
          "metadata": {
            "tags": []
          }
        },
        {
          "output_type": "display_data",
          "data": {
            "text/html": [
              "<pre>    To use these columns in scoring predictions, use a model that allows the use of additional features.</pre>"
            ],
            "text/plain": [
              "    To use these columns in scoring predictions, use a model that allows the use of additional features."
            ]
          },
          "metadata": {
            "tags": []
          }
        },
        {
          "output_type": "display_data",
          "data": {
            "text/html": [
              "<pre>Preparing data set.</pre>"
            ],
            "text/plain": [
              "Preparing data set."
            ]
          },
          "metadata": {
            "tags": []
          }
        },
        {
          "output_type": "display_data",
          "data": {
            "text/html": [
              "<pre>    Data has 7000 observations with 6296 users and 4627 items.</pre>"
            ],
            "text/plain": [
              "    Data has 7000 observations with 6296 users and 4627 items."
            ]
          },
          "metadata": {
            "tags": []
          }
        },
        {
          "output_type": "display_data",
          "data": {
            "text/html": [
              "<pre>    Data prepared in: 0.023713s</pre>"
            ],
            "text/plain": [
              "    Data prepared in: 0.023713s"
            ]
          },
          "metadata": {
            "tags": []
          }
        },
        {
          "output_type": "display_data",
          "data": {
            "text/html": [
              "<pre>7000 observations to process; with 4627 unique items.</pre>"
            ],
            "text/plain": [
              "7000 observations to process; with 4627 unique items."
            ]
          },
          "metadata": {
            "tags": []
          }
        }
      ]
    },
    {
      "cell_type": "code",
      "metadata": {
        "id": "IpjX_Fr3Sl2Y",
        "colab_type": "code",
        "outputId": "4df62930-4e41-4aaf-8559-490695cedb84",
        "colab": {
          "base_uri": "https://localhost:8080/",
          "height": 391
        }
      },
      "source": [
        "# Se generan las recomendaciones para un Cliente\n",
        "productos_recomendado(fac_producto,'e4bb330e4e0967e8cdd333d1e8b1df2f',5)\n",
        "productos_recomendado(dum_producto,'e4bb330e4e0967e8cdd333d1e8b1df2f',5)"
      ],
      "execution_count": 0,
      "outputs": [
        {
          "output_type": "stream",
          "text": [
            "+-------------+-------------------------------+-------+------+\n",
            "| customer_id |           product_id          | score | rank |\n",
            "+-------------+-------------------------------+-------+------+\n",
            "|      e      | 382132cf96c88a277a65226833... |  1.0  |  1   |\n",
            "|      e      | 672a21bf17c63f71edbe01ecb9... |  1.0  |  2   |\n",
            "|      e      | 82a61259a621866c4ba63743da... |  1.0  |  3   |\n",
            "|      e      | 2e64d11879c5bbda600381dbb5... |  1.0  |  4   |\n",
            "|      e      | c1f5307decb89342351bec5366... |  1.0  |  5   |\n",
            "+-------------+-------------------------------+-------+------+\n",
            "[160 rows x 4 columns]\n",
            "\n",
            "+-------------+-------------------------------+-------+------+\n",
            "| customer_id |           product_id          | score | rank |\n",
            "+-------------+-------------------------------+-------+------+\n",
            "|      e      | aadff88486740e0b0ebe2be6c0... |  1.0  |  1   |\n",
            "|      e      | 7c55ea4aea1acf1ce11440010f... |  1.0  |  2   |\n",
            "|      e      | 68ad45d48d69404aeb71ce87e1... |  1.0  |  3   |\n",
            "|      e      | 4520766ec412348b8d4caa5e8a... |  1.0  |  4   |\n",
            "|      e      | 68bf2e76db1d8e846042e54da8... |  1.0  |  5   |\n",
            "+-------------+-------------------------------+-------+------+\n",
            "[160 rows x 4 columns]\n",
            "\n"
          ],
          "name": "stdout"
        }
      ]
    },
    {
      "cell_type": "markdown",
      "metadata": {
        "id": "D7p0zJxaZKD4",
        "colab_type": "text"
      },
      "source": [
        "### 1.4 Motor de recomendación Colaborativo\n",
        "Este modelo genera recomendaciones con base en el comportamiento de compra que tienen los usuarios. <br>\n",
        "Con este fin se realizan pruebas con dos enfoques, la distancia coseno y pearson para evaluar cual es el que da mejores resultados"
      ]
    },
    {
      "cell_type": "code",
      "metadata": {
        "id": "2ZjeevWDZpNO",
        "colab_type": "code",
        "outputId": "679a830b-a788-4961-fa32-a5d2a6e6404d",
        "colab": {
          "base_uri": "https://localhost:8080/",
          "height": 853
        }
      },
      "source": [
        "# Se generan las recomendaciones por dataset\n",
        "fac_coseno = modelo_requerido('distancia_coseno',train_data,'total_frecuencia' )\n",
        "dum_coseno = modelo_requerido('distancia_coseno' ,train_data_dummy, 'total_dummy')"
      ],
      "execution_count": 0,
      "outputs": [
        {
          "output_type": "stream",
          "text": [
            "Modelo solicitado:distancia_coseno\n"
          ],
          "name": "stdout"
        },
        {
          "output_type": "display_data",
          "data": {
            "text/html": [
              "<pre>Preparing data set.</pre>"
            ],
            "text/plain": [
              "Preparing data set."
            ]
          },
          "metadata": {
            "tags": []
          }
        },
        {
          "output_type": "display_data",
          "data": {
            "text/html": [
              "<pre>    Data has 10018 observations with 6975 users and 1229 items.</pre>"
            ],
            "text/plain": [
              "    Data has 10018 observations with 6975 users and 1229 items."
            ]
          },
          "metadata": {
            "tags": []
          }
        },
        {
          "output_type": "display_data",
          "data": {
            "text/html": [
              "<pre>    Data prepared in: 0.029116s</pre>"
            ],
            "text/plain": [
              "    Data prepared in: 0.029116s"
            ]
          },
          "metadata": {
            "tags": []
          }
        },
        {
          "output_type": "display_data",
          "data": {
            "text/html": [
              "<pre>Training model from provided data.</pre>"
            ],
            "text/plain": [
              "Training model from provided data."
            ]
          },
          "metadata": {
            "tags": []
          }
        },
        {
          "output_type": "display_data",
          "data": {
            "text/html": [
              "<pre>Gathering per-item and per-user statistics.</pre>"
            ],
            "text/plain": [
              "Gathering per-item and per-user statistics."
            ]
          },
          "metadata": {
            "tags": []
          }
        },
        {
          "output_type": "display_data",
          "data": {
            "text/html": [
              "<pre>+--------------------------------+------------+</pre>"
            ],
            "text/plain": [
              "+--------------------------------+------------+"
            ]
          },
          "metadata": {
            "tags": []
          }
        },
        {
          "output_type": "display_data",
          "data": {
            "text/html": [
              "<pre>| Elapsed Time (Item Statistics) | % Complete |</pre>"
            ],
            "text/plain": [
              "| Elapsed Time (Item Statistics) | % Complete |"
            ]
          },
          "metadata": {
            "tags": []
          }
        },
        {
          "output_type": "display_data",
          "data": {
            "text/html": [
              "<pre>+--------------------------------+------------+</pre>"
            ],
            "text/plain": [
              "+--------------------------------+------------+"
            ]
          },
          "metadata": {
            "tags": []
          }
        },
        {
          "output_type": "display_data",
          "data": {
            "text/html": [
              "<pre>| 5.706ms                        | 14.25      |</pre>"
            ],
            "text/plain": [
              "| 5.706ms                        | 14.25      |"
            ]
          },
          "metadata": {
            "tags": []
          }
        },
        {
          "output_type": "display_data",
          "data": {
            "text/html": [
              "<pre>| 6.504ms                        | 100        |</pre>"
            ],
            "text/plain": [
              "| 6.504ms                        | 100        |"
            ]
          },
          "metadata": {
            "tags": []
          }
        },
        {
          "output_type": "display_data",
          "data": {
            "text/html": [
              "<pre>+--------------------------------+------------+</pre>"
            ],
            "text/plain": [
              "+--------------------------------+------------+"
            ]
          },
          "metadata": {
            "tags": []
          }
        },
        {
          "output_type": "display_data",
          "data": {
            "text/html": [
              "<pre>Setting up lookup tables.</pre>"
            ],
            "text/plain": [
              "Setting up lookup tables."
            ]
          },
          "metadata": {
            "tags": []
          }
        },
        {
          "output_type": "display_data",
          "data": {
            "text/html": [
              "<pre>Processing data in one pass using dense lookup tables.</pre>"
            ],
            "text/plain": [
              "Processing data in one pass using dense lookup tables."
            ]
          },
          "metadata": {
            "tags": []
          }
        },
        {
          "output_type": "display_data",
          "data": {
            "text/html": [
              "<pre>+-------------------------------------+------------------+-----------------+</pre>"
            ],
            "text/plain": [
              "+-------------------------------------+------------------+-----------------+"
            ]
          },
          "metadata": {
            "tags": []
          }
        },
        {
          "output_type": "display_data",
          "data": {
            "text/html": [
              "<pre>| Elapsed Time (Constructing Lookups) | Total % Complete | Items Processed |</pre>"
            ],
            "text/plain": [
              "| Elapsed Time (Constructing Lookups) | Total % Complete | Items Processed |"
            ]
          },
          "metadata": {
            "tags": []
          }
        },
        {
          "output_type": "display_data",
          "data": {
            "text/html": [
              "<pre>+-------------------------------------+------------------+-----------------+</pre>"
            ],
            "text/plain": [
              "+-------------------------------------+------------------+-----------------+"
            ]
          },
          "metadata": {
            "tags": []
          }
        },
        {
          "output_type": "display_data",
          "data": {
            "text/html": [
              "<pre>| 10.102ms                            | 0                | 0               |</pre>"
            ],
            "text/plain": [
              "| 10.102ms                            | 0                | 0               |"
            ]
          },
          "metadata": {
            "tags": []
          }
        },
        {
          "output_type": "display_data",
          "data": {
            "text/html": [
              "<pre>| 39.496ms                            | 100              | 1229            |</pre>"
            ],
            "text/plain": [
              "| 39.496ms                            | 100              | 1229            |"
            ]
          },
          "metadata": {
            "tags": []
          }
        },
        {
          "output_type": "display_data",
          "data": {
            "text/html": [
              "<pre>+-------------------------------------+------------------+-----------------+</pre>"
            ],
            "text/plain": [
              "+-------------------------------------+------------------+-----------------+"
            ]
          },
          "metadata": {
            "tags": []
          }
        },
        {
          "output_type": "display_data",
          "data": {
            "text/html": [
              "<pre>Finalizing lookup tables.</pre>"
            ],
            "text/plain": [
              "Finalizing lookup tables."
            ]
          },
          "metadata": {
            "tags": []
          }
        },
        {
          "output_type": "display_data",
          "data": {
            "text/html": [
              "<pre>Generating candidate set for working with new users.</pre>"
            ],
            "text/plain": [
              "Generating candidate set for working with new users."
            ]
          },
          "metadata": {
            "tags": []
          }
        },
        {
          "output_type": "display_data",
          "data": {
            "text/html": [
              "<pre>Finished training in 1.0443s</pre>"
            ],
            "text/plain": [
              "Finished training in 1.0443s"
            ]
          },
          "metadata": {
            "tags": []
          }
        },
        {
          "output_type": "stream",
          "text": [
            "Modelo solicitado:distancia_coseno\n"
          ],
          "name": "stdout"
        },
        {
          "output_type": "display_data",
          "data": {
            "text/html": [
              "<pre>Warning: Ignoring columns order_id, order_item_id, customer_zip_code_prefix, shipping_limit_date, price, freight_value, total_value, credit_card, debit_card, boleto, voucher, not_defined, num_txn, order_status, order_purchase_timestamp, order_approved_at, order_delivered_carrier_date, order_delivered_customer_date, order_estimated_delivery_date;</pre>"
            ],
            "text/plain": [
              "Warning: Ignoring columns order_id, order_item_id, customer_zip_code_prefix, shipping_limit_date, price, freight_value, total_value, credit_card, debit_card, boleto, voucher, not_defined, num_txn, order_status, order_purchase_timestamp, order_approved_at, order_delivered_carrier_date, order_delivered_customer_date, order_estimated_delivery_date;"
            ]
          },
          "metadata": {
            "tags": []
          }
        },
        {
          "output_type": "display_data",
          "data": {
            "text/html": [
              "<pre>    To use these columns in scoring predictions, use a model that allows the use of additional features.</pre>"
            ],
            "text/plain": [
              "    To use these columns in scoring predictions, use a model that allows the use of additional features."
            ]
          },
          "metadata": {
            "tags": []
          }
        },
        {
          "output_type": "display_data",
          "data": {
            "text/html": [
              "<pre>Preparing data set.</pre>"
            ],
            "text/plain": [
              "Preparing data set."
            ]
          },
          "metadata": {
            "tags": []
          }
        },
        {
          "output_type": "display_data",
          "data": {
            "text/html": [
              "<pre>    Data has 7000 observations with 6296 users and 4627 items.</pre>"
            ],
            "text/plain": [
              "    Data has 7000 observations with 6296 users and 4627 items."
            ]
          },
          "metadata": {
            "tags": []
          }
        },
        {
          "output_type": "display_data",
          "data": {
            "text/html": [
              "<pre>    Data prepared in: 0.020944s</pre>"
            ],
            "text/plain": [
              "    Data prepared in: 0.020944s"
            ]
          },
          "metadata": {
            "tags": []
          }
        },
        {
          "output_type": "display_data",
          "data": {
            "text/html": [
              "<pre>Training model from provided data.</pre>"
            ],
            "text/plain": [
              "Training model from provided data."
            ]
          },
          "metadata": {
            "tags": []
          }
        },
        {
          "output_type": "display_data",
          "data": {
            "text/html": [
              "<pre>Gathering per-item and per-user statistics.</pre>"
            ],
            "text/plain": [
              "Gathering per-item and per-user statistics."
            ]
          },
          "metadata": {
            "tags": []
          }
        },
        {
          "output_type": "display_data",
          "data": {
            "text/html": [
              "<pre>+--------------------------------+------------+</pre>"
            ],
            "text/plain": [
              "+--------------------------------+------------+"
            ]
          },
          "metadata": {
            "tags": []
          }
        },
        {
          "output_type": "display_data",
          "data": {
            "text/html": [
              "<pre>| Elapsed Time (Item Statistics) | % Complete |</pre>"
            ],
            "text/plain": [
              "| Elapsed Time (Item Statistics) | % Complete |"
            ]
          },
          "metadata": {
            "tags": []
          }
        },
        {
          "output_type": "display_data",
          "data": {
            "text/html": [
              "<pre>+--------------------------------+------------+</pre>"
            ],
            "text/plain": [
              "+--------------------------------+------------+"
            ]
          },
          "metadata": {
            "tags": []
          }
        },
        {
          "output_type": "display_data",
          "data": {
            "text/html": [
              "<pre>| 350us                          | 15.75      |</pre>"
            ],
            "text/plain": [
              "| 350us                          | 15.75      |"
            ]
          },
          "metadata": {
            "tags": []
          }
        },
        {
          "output_type": "display_data",
          "data": {
            "text/html": [
              "<pre>| 1.332ms                        | 100        |</pre>"
            ],
            "text/plain": [
              "| 1.332ms                        | 100        |"
            ]
          },
          "metadata": {
            "tags": []
          }
        },
        {
          "output_type": "display_data",
          "data": {
            "text/html": [
              "<pre>+--------------------------------+------------+</pre>"
            ],
            "text/plain": [
              "+--------------------------------+------------+"
            ]
          },
          "metadata": {
            "tags": []
          }
        },
        {
          "output_type": "display_data",
          "data": {
            "text/html": [
              "<pre>Setting up lookup tables.</pre>"
            ],
            "text/plain": [
              "Setting up lookup tables."
            ]
          },
          "metadata": {
            "tags": []
          }
        },
        {
          "output_type": "display_data",
          "data": {
            "text/html": [
              "<pre>Processing data in one pass using dense lookup tables.</pre>"
            ],
            "text/plain": [
              "Processing data in one pass using dense lookup tables."
            ]
          },
          "metadata": {
            "tags": []
          }
        },
        {
          "output_type": "display_data",
          "data": {
            "text/html": [
              "<pre>+-------------------------------------+------------------+-----------------+</pre>"
            ],
            "text/plain": [
              "+-------------------------------------+------------------+-----------------+"
            ]
          },
          "metadata": {
            "tags": []
          }
        },
        {
          "output_type": "display_data",
          "data": {
            "text/html": [
              "<pre>| Elapsed Time (Constructing Lookups) | Total % Complete | Items Processed |</pre>"
            ],
            "text/plain": [
              "| Elapsed Time (Constructing Lookups) | Total % Complete | Items Processed |"
            ]
          },
          "metadata": {
            "tags": []
          }
        },
        {
          "output_type": "display_data",
          "data": {
            "text/html": [
              "<pre>+-------------------------------------+------------------+-----------------+</pre>"
            ],
            "text/plain": [
              "+-------------------------------------+------------------+-----------------+"
            ]
          },
          "metadata": {
            "tags": []
          }
        },
        {
          "output_type": "display_data",
          "data": {
            "text/html": [
              "<pre>| 26.494ms                            | 0                | 0               |</pre>"
            ],
            "text/plain": [
              "| 26.494ms                            | 0                | 0               |"
            ]
          },
          "metadata": {
            "tags": []
          }
        },
        {
          "output_type": "display_data",
          "data": {
            "text/html": [
              "<pre>| 138.597ms                           | 100              | 4627            |</pre>"
            ],
            "text/plain": [
              "| 138.597ms                           | 100              | 4627            |"
            ]
          },
          "metadata": {
            "tags": []
          }
        },
        {
          "output_type": "display_data",
          "data": {
            "text/html": [
              "<pre>+-------------------------------------+------------------+-----------------+</pre>"
            ],
            "text/plain": [
              "+-------------------------------------+------------------+-----------------+"
            ]
          },
          "metadata": {
            "tags": []
          }
        },
        {
          "output_type": "display_data",
          "data": {
            "text/html": [
              "<pre>Finalizing lookup tables.</pre>"
            ],
            "text/plain": [
              "Finalizing lookup tables."
            ]
          },
          "metadata": {
            "tags": []
          }
        },
        {
          "output_type": "display_data",
          "data": {
            "text/html": [
              "<pre>Generating candidate set for working with new users.</pre>"
            ],
            "text/plain": [
              "Generating candidate set for working with new users."
            ]
          },
          "metadata": {
            "tags": []
          }
        },
        {
          "output_type": "display_data",
          "data": {
            "text/html": [
              "<pre>Finished training in 0.143237s</pre>"
            ],
            "text/plain": [
              "Finished training in 0.143237s"
            ]
          },
          "metadata": {
            "tags": []
          }
        }
      ]
    },
    {
      "cell_type": "code",
      "metadata": {
        "id": "0AgQTFzOZ7a6",
        "colab_type": "code",
        "outputId": "0d1435d2-5815-4be9-9c04-1a143a8a66cb",
        "colab": {
          "base_uri": "https://localhost:8080/",
          "height": 391
        }
      },
      "source": [
        "productos_recomendado(fac_coseno,'e4bb330e4e0967e8cdd333d1e8b1df2f',5)\n",
        "productos_recomendado(dum_coseno,'e4bb330e4e0967e8cdd333d1e8b1df2f',5)"
      ],
      "execution_count": 0,
      "outputs": [
        {
          "output_type": "stream",
          "text": [
            "+-------------+-------------------------------+---------------------+------+\n",
            "| customer_id |           product_id          |        score        | rank |\n",
            "+-------------+-------------------------------+---------------------+------+\n",
            "|      e      | a5f6ba3fe91a2e73f10b612131... | 0.07471107482910157 |  1   |\n",
            "|      e      | 72ef87b1953a2844ed089bd6dc... | 0.07471107482910157 |  2   |\n",
            "|      e      | 0dadef6ed70b861b14eddb3a3c... | 0.07471107482910157 |  3   |\n",
            "|      e      | 1b0e39ec889889ea1d492603d8... | 0.07471107482910157 |  4   |\n",
            "|      e      | 78a727ba961fe7561d533e153b... | 0.07470573544502258 |  5   |\n",
            "+-------------+-------------------------------+---------------------+------+\n",
            "[160 rows x 4 columns]\n",
            "\n",
            "+-------------+-------------------------------+-------+------+\n",
            "| customer_id |           product_id          | score | rank |\n",
            "+-------------+-------------------------------+-------+------+\n",
            "|      e      | aadff88486740e0b0ebe2be6c0... |  0.0  |  1   |\n",
            "|      e      | 7c55ea4aea1acf1ce11440010f... |  0.0  |  2   |\n",
            "|      e      | 68ad45d48d69404aeb71ce87e1... |  0.0  |  3   |\n",
            "|      e      | 4520766ec412348b8d4caa5e8a... |  0.0  |  4   |\n",
            "|      e      | 68bf2e76db1d8e846042e54da8... |  0.0  |  5   |\n",
            "+-------------+-------------------------------+-------+------+\n",
            "[160 rows x 4 columns]\n",
            "\n"
          ],
          "name": "stdout"
        }
      ]
    },
    {
      "cell_type": "code",
      "metadata": {
        "id": "bM3u55tOaSOg",
        "colab_type": "code",
        "outputId": "e36032c1-ee7e-4921-95c2-c2c6a378f6c5",
        "colab": {
          "base_uri": "https://localhost:8080/",
          "height": 853
        }
      },
      "source": [
        "# Se generan las recomendaciones por dataset\n",
        "fac_pearson= modelo_requerido('pearson',train_data,'total_frecuencia' )\n",
        "dum_pearson = modelo_requerido('pearson' ,train_data_dummy, 'total_dummy')"
      ],
      "execution_count": 0,
      "outputs": [
        {
          "output_type": "stream",
          "text": [
            "Modelo solicitado:pearson\n"
          ],
          "name": "stdout"
        },
        {
          "output_type": "display_data",
          "data": {
            "text/html": [
              "<pre>Preparing data set.</pre>"
            ],
            "text/plain": [
              "Preparing data set."
            ]
          },
          "metadata": {
            "tags": []
          }
        },
        {
          "output_type": "display_data",
          "data": {
            "text/html": [
              "<pre>    Data has 10018 observations with 6975 users and 1229 items.</pre>"
            ],
            "text/plain": [
              "    Data has 10018 observations with 6975 users and 1229 items."
            ]
          },
          "metadata": {
            "tags": []
          }
        },
        {
          "output_type": "display_data",
          "data": {
            "text/html": [
              "<pre>    Data prepared in: 0.029826s</pre>"
            ],
            "text/plain": [
              "    Data prepared in: 0.029826s"
            ]
          },
          "metadata": {
            "tags": []
          }
        },
        {
          "output_type": "display_data",
          "data": {
            "text/html": [
              "<pre>Training model from provided data.</pre>"
            ],
            "text/plain": [
              "Training model from provided data."
            ]
          },
          "metadata": {
            "tags": []
          }
        },
        {
          "output_type": "display_data",
          "data": {
            "text/html": [
              "<pre>Gathering per-item and per-user statistics.</pre>"
            ],
            "text/plain": [
              "Gathering per-item and per-user statistics."
            ]
          },
          "metadata": {
            "tags": []
          }
        },
        {
          "output_type": "display_data",
          "data": {
            "text/html": [
              "<pre>+--------------------------------+------------+</pre>"
            ],
            "text/plain": [
              "+--------------------------------+------------+"
            ]
          },
          "metadata": {
            "tags": []
          }
        },
        {
          "output_type": "display_data",
          "data": {
            "text/html": [
              "<pre>| Elapsed Time (Item Statistics) | % Complete |</pre>"
            ],
            "text/plain": [
              "| Elapsed Time (Item Statistics) | % Complete |"
            ]
          },
          "metadata": {
            "tags": []
          }
        },
        {
          "output_type": "display_data",
          "data": {
            "text/html": [
              "<pre>+--------------------------------+------------+</pre>"
            ],
            "text/plain": [
              "+--------------------------------+------------+"
            ]
          },
          "metadata": {
            "tags": []
          }
        },
        {
          "output_type": "display_data",
          "data": {
            "text/html": [
              "<pre>| 2.335ms                        | 14.25      |</pre>"
            ],
            "text/plain": [
              "| 2.335ms                        | 14.25      |"
            ]
          },
          "metadata": {
            "tags": []
          }
        },
        {
          "output_type": "display_data",
          "data": {
            "text/html": [
              "<pre>| 3.562ms                        | 100        |</pre>"
            ],
            "text/plain": [
              "| 3.562ms                        | 100        |"
            ]
          },
          "metadata": {
            "tags": []
          }
        },
        {
          "output_type": "display_data",
          "data": {
            "text/html": [
              "<pre>+--------------------------------+------------+</pre>"
            ],
            "text/plain": [
              "+--------------------------------+------------+"
            ]
          },
          "metadata": {
            "tags": []
          }
        },
        {
          "output_type": "display_data",
          "data": {
            "text/html": [
              "<pre>Setting up lookup tables.</pre>"
            ],
            "text/plain": [
              "Setting up lookup tables."
            ]
          },
          "metadata": {
            "tags": []
          }
        },
        {
          "output_type": "display_data",
          "data": {
            "text/html": [
              "<pre>Processing data in one pass using dense lookup tables.</pre>"
            ],
            "text/plain": [
              "Processing data in one pass using dense lookup tables."
            ]
          },
          "metadata": {
            "tags": []
          }
        },
        {
          "output_type": "display_data",
          "data": {
            "text/html": [
              "<pre>+-------------------------------------+------------------+-----------------+</pre>"
            ],
            "text/plain": [
              "+-------------------------------------+------------------+-----------------+"
            ]
          },
          "metadata": {
            "tags": []
          }
        },
        {
          "output_type": "display_data",
          "data": {
            "text/html": [
              "<pre>| Elapsed Time (Constructing Lookups) | Total % Complete | Items Processed |</pre>"
            ],
            "text/plain": [
              "| Elapsed Time (Constructing Lookups) | Total % Complete | Items Processed |"
            ]
          },
          "metadata": {
            "tags": []
          }
        },
        {
          "output_type": "display_data",
          "data": {
            "text/html": [
              "<pre>+-------------------------------------+------------------+-----------------+</pre>"
            ],
            "text/plain": [
              "+-------------------------------------+------------------+-----------------+"
            ]
          },
          "metadata": {
            "tags": []
          }
        },
        {
          "output_type": "display_data",
          "data": {
            "text/html": [
              "<pre>| 6.407ms                             | 0                | 0               |</pre>"
            ],
            "text/plain": [
              "| 6.407ms                             | 0                | 0               |"
            ]
          },
          "metadata": {
            "tags": []
          }
        },
        {
          "output_type": "display_data",
          "data": {
            "text/html": [
              "<pre>| 42.153ms                            | 100              | 1229            |</pre>"
            ],
            "text/plain": [
              "| 42.153ms                            | 100              | 1229            |"
            ]
          },
          "metadata": {
            "tags": []
          }
        },
        {
          "output_type": "display_data",
          "data": {
            "text/html": [
              "<pre>+-------------------------------------+------------------+-----------------+</pre>"
            ],
            "text/plain": [
              "+-------------------------------------+------------------+-----------------+"
            ]
          },
          "metadata": {
            "tags": []
          }
        },
        {
          "output_type": "display_data",
          "data": {
            "text/html": [
              "<pre>Finalizing lookup tables.</pre>"
            ],
            "text/plain": [
              "Finalizing lookup tables."
            ]
          },
          "metadata": {
            "tags": []
          }
        },
        {
          "output_type": "display_data",
          "data": {
            "text/html": [
              "<pre>Generating candidate set for working with new users.</pre>"
            ],
            "text/plain": [
              "Generating candidate set for working with new users."
            ]
          },
          "metadata": {
            "tags": []
          }
        },
        {
          "output_type": "display_data",
          "data": {
            "text/html": [
              "<pre>Finished training in 0.04756s</pre>"
            ],
            "text/plain": [
              "Finished training in 0.04756s"
            ]
          },
          "metadata": {
            "tags": []
          }
        },
        {
          "output_type": "stream",
          "text": [
            "Modelo solicitado:pearson\n"
          ],
          "name": "stdout"
        },
        {
          "output_type": "display_data",
          "data": {
            "text/html": [
              "<pre>Warning: Ignoring columns order_id, order_item_id, customer_zip_code_prefix, shipping_limit_date, price, freight_value, total_value, credit_card, debit_card, boleto, voucher, not_defined, num_txn, order_status, order_purchase_timestamp, order_approved_at, order_delivered_carrier_date, order_delivered_customer_date, order_estimated_delivery_date;</pre>"
            ],
            "text/plain": [
              "Warning: Ignoring columns order_id, order_item_id, customer_zip_code_prefix, shipping_limit_date, price, freight_value, total_value, credit_card, debit_card, boleto, voucher, not_defined, num_txn, order_status, order_purchase_timestamp, order_approved_at, order_delivered_carrier_date, order_delivered_customer_date, order_estimated_delivery_date;"
            ]
          },
          "metadata": {
            "tags": []
          }
        },
        {
          "output_type": "display_data",
          "data": {
            "text/html": [
              "<pre>    To use these columns in scoring predictions, use a model that allows the use of additional features.</pre>"
            ],
            "text/plain": [
              "    To use these columns in scoring predictions, use a model that allows the use of additional features."
            ]
          },
          "metadata": {
            "tags": []
          }
        },
        {
          "output_type": "display_data",
          "data": {
            "text/html": [
              "<pre>Preparing data set.</pre>"
            ],
            "text/plain": [
              "Preparing data set."
            ]
          },
          "metadata": {
            "tags": []
          }
        },
        {
          "output_type": "display_data",
          "data": {
            "text/html": [
              "<pre>    Data has 7000 observations with 6296 users and 4627 items.</pre>"
            ],
            "text/plain": [
              "    Data has 7000 observations with 6296 users and 4627 items."
            ]
          },
          "metadata": {
            "tags": []
          }
        },
        {
          "output_type": "display_data",
          "data": {
            "text/html": [
              "<pre>    Data prepared in: 0.024685s</pre>"
            ],
            "text/plain": [
              "    Data prepared in: 0.024685s"
            ]
          },
          "metadata": {
            "tags": []
          }
        },
        {
          "output_type": "display_data",
          "data": {
            "text/html": [
              "<pre>Training model from provided data.</pre>"
            ],
            "text/plain": [
              "Training model from provided data."
            ]
          },
          "metadata": {
            "tags": []
          }
        },
        {
          "output_type": "display_data",
          "data": {
            "text/html": [
              "<pre>Gathering per-item and per-user statistics.</pre>"
            ],
            "text/plain": [
              "Gathering per-item and per-user statistics."
            ]
          },
          "metadata": {
            "tags": []
          }
        },
        {
          "output_type": "display_data",
          "data": {
            "text/html": [
              "<pre>+--------------------------------+------------+</pre>"
            ],
            "text/plain": [
              "+--------------------------------+------------+"
            ]
          },
          "metadata": {
            "tags": []
          }
        },
        {
          "output_type": "display_data",
          "data": {
            "text/html": [
              "<pre>| Elapsed Time (Item Statistics) | % Complete |</pre>"
            ],
            "text/plain": [
              "| Elapsed Time (Item Statistics) | % Complete |"
            ]
          },
          "metadata": {
            "tags": []
          }
        },
        {
          "output_type": "display_data",
          "data": {
            "text/html": [
              "<pre>+--------------------------------+------------+</pre>"
            ],
            "text/plain": [
              "+--------------------------------+------------+"
            ]
          },
          "metadata": {
            "tags": []
          }
        },
        {
          "output_type": "display_data",
          "data": {
            "text/html": [
              "<pre>| 329us                          | 15.75      |</pre>"
            ],
            "text/plain": [
              "| 329us                          | 15.75      |"
            ]
          },
          "metadata": {
            "tags": []
          }
        },
        {
          "output_type": "display_data",
          "data": {
            "text/html": [
              "<pre>| 1.167ms                        | 100        |</pre>"
            ],
            "text/plain": [
              "| 1.167ms                        | 100        |"
            ]
          },
          "metadata": {
            "tags": []
          }
        },
        {
          "output_type": "display_data",
          "data": {
            "text/html": [
              "<pre>+--------------------------------+------------+</pre>"
            ],
            "text/plain": [
              "+--------------------------------+------------+"
            ]
          },
          "metadata": {
            "tags": []
          }
        },
        {
          "output_type": "display_data",
          "data": {
            "text/html": [
              "<pre>Setting up lookup tables.</pre>"
            ],
            "text/plain": [
              "Setting up lookup tables."
            ]
          },
          "metadata": {
            "tags": []
          }
        },
        {
          "output_type": "display_data",
          "data": {
            "text/html": [
              "<pre>Processing data in one pass using dense lookup tables.</pre>"
            ],
            "text/plain": [
              "Processing data in one pass using dense lookup tables."
            ]
          },
          "metadata": {
            "tags": []
          }
        },
        {
          "output_type": "display_data",
          "data": {
            "text/html": [
              "<pre>+-------------------------------------+------------------+-----------------+</pre>"
            ],
            "text/plain": [
              "+-------------------------------------+------------------+-----------------+"
            ]
          },
          "metadata": {
            "tags": []
          }
        },
        {
          "output_type": "display_data",
          "data": {
            "text/html": [
              "<pre>| Elapsed Time (Constructing Lookups) | Total % Complete | Items Processed |</pre>"
            ],
            "text/plain": [
              "| Elapsed Time (Constructing Lookups) | Total % Complete | Items Processed |"
            ]
          },
          "metadata": {
            "tags": []
          }
        },
        {
          "output_type": "display_data",
          "data": {
            "text/html": [
              "<pre>+-------------------------------------+------------------+-----------------+</pre>"
            ],
            "text/plain": [
              "+-------------------------------------+------------------+-----------------+"
            ]
          },
          "metadata": {
            "tags": []
          }
        },
        {
          "output_type": "display_data",
          "data": {
            "text/html": [
              "<pre>| 26.261ms                            | 0                | 0               |</pre>"
            ],
            "text/plain": [
              "| 26.261ms                            | 0                | 0               |"
            ]
          },
          "metadata": {
            "tags": []
          }
        },
        {
          "output_type": "display_data",
          "data": {
            "text/html": [
              "<pre>| 136.961ms                           | 100              | 4627            |</pre>"
            ],
            "text/plain": [
              "| 136.961ms                           | 100              | 4627            |"
            ]
          },
          "metadata": {
            "tags": []
          }
        },
        {
          "output_type": "display_data",
          "data": {
            "text/html": [
              "<pre>+-------------------------------------+------------------+-----------------+</pre>"
            ],
            "text/plain": [
              "+-------------------------------------+------------------+-----------------+"
            ]
          },
          "metadata": {
            "tags": []
          }
        },
        {
          "output_type": "display_data",
          "data": {
            "text/html": [
              "<pre>Finalizing lookup tables.</pre>"
            ],
            "text/plain": [
              "Finalizing lookup tables."
            ]
          },
          "metadata": {
            "tags": []
          }
        },
        {
          "output_type": "display_data",
          "data": {
            "text/html": [
              "<pre>Generating candidate set for working with new users.</pre>"
            ],
            "text/plain": [
              "Generating candidate set for working with new users."
            ]
          },
          "metadata": {
            "tags": []
          }
        },
        {
          "output_type": "display_data",
          "data": {
            "text/html": [
              "<pre>Finished training in 0.141151s</pre>"
            ],
            "text/plain": [
              "Finished training in 0.141151s"
            ]
          },
          "metadata": {
            "tags": []
          }
        }
      ]
    },
    {
      "cell_type": "code",
      "metadata": {
        "id": "JtGtNTB8aU1U",
        "colab_type": "code",
        "outputId": "50760dcc-342c-476d-9607-d33c072de055",
        "colab": {
          "base_uri": "https://localhost:8080/",
          "height": 391
        }
      },
      "source": [
        "productos_recomendado(fac_pearson,'e4bb330e4e0967e8cdd333d1e8b1df2f',5)\n",
        "productos_recomendado(dum_pearson,'e4bb330e4e0967e8cdd333d1e8b1df2f',5)"
      ],
      "execution_count": 0,
      "outputs": [
        {
          "output_type": "stream",
          "text": [
            "+-------------+-------------------------------+-------+------+\n",
            "| customer_id |           product_id          | score | rank |\n",
            "+-------------+-------------------------------+-------+------+\n",
            "|      e      | 382132cf96c88a277a65226833... |  1.0  |  1   |\n",
            "|      e      | 672a21bf17c63f71edbe01ecb9... |  1.0  |  2   |\n",
            "|      e      | 82a61259a621866c4ba63743da... |  1.0  |  3   |\n",
            "|      e      | 2e64d11879c5bbda600381dbb5... |  1.0  |  4   |\n",
            "|      e      | c1f5307decb89342351bec5366... |  1.0  |  5   |\n",
            "+-------------+-------------------------------+-------+------+\n",
            "[160 rows x 4 columns]\n",
            "\n",
            "+-------------+-------------------------------+-------+------+\n",
            "| customer_id |           product_id          | score | rank |\n",
            "+-------------+-------------------------------+-------+------+\n",
            "|      e      | aadff88486740e0b0ebe2be6c0... |  0.0  |  1   |\n",
            "|      e      | 7c55ea4aea1acf1ce11440010f... |  0.0  |  2   |\n",
            "|      e      | 68ad45d48d69404aeb71ce87e1... |  0.0  |  3   |\n",
            "|      e      | 4520766ec412348b8d4caa5e8a... |  0.0  |  4   |\n",
            "|      e      | 68bf2e76db1d8e846042e54da8... |  0.0  |  5   |\n",
            "+-------------+-------------------------------+-------+------+\n",
            "[160 rows x 4 columns]\n",
            "\n"
          ],
          "name": "stdout"
        }
      ]
    },
    {
      "cell_type": "markdown",
      "metadata": {
        "id": "rt1oYyEtGEn3",
        "colab_type": "text"
      },
      "source": [
        "### 1.5 Evaluación de Modelos \n",
        "Con el fin de establecer cual es el mejor modelo entre los tres probados, se realiza una validación de estos de forma conjunta "
      ]
    },
    {
      "cell_type": "code",
      "metadata": {
        "id": "tIVMOHxIa19d",
        "colab_type": "code",
        "outputId": "eeeb8553-675b-4ba7-9610-25509b907717",
        "colab": {
          "base_uri": "https://localhost:8080/",
          "height": 1000
        }
      },
      "source": [
        "evaluacion_modelos('normalizado',test_data)"
      ],
      "execution_count": 0,
      "outputs": [
        {
          "output_type": "stream",
          "text": [
            "PROGRESS: Evaluate model Modelo basado en contenido\n"
          ],
          "name": "stdout"
        },
        {
          "output_type": "display_data",
          "data": {
            "text/html": [
              "<pre>recommendations finished on 1000/3540 queries. users per second: 80076.9</pre>"
            ],
            "text/plain": [
              "recommendations finished on 1000/3540 queries. users per second: 80076.9"
            ]
          },
          "metadata": {
            "tags": []
          }
        },
        {
          "output_type": "display_data",
          "data": {
            "text/html": [
              "<pre>recommendations finished on 2000/3540 queries. users per second: 77178.4</pre>"
            ],
            "text/plain": [
              "recommendations finished on 2000/3540 queries. users per second: 77178.4"
            ]
          },
          "metadata": {
            "tags": []
          }
        },
        {
          "output_type": "display_data",
          "data": {
            "text/html": [
              "<pre>recommendations finished on 3000/3540 queries. users per second: 76151.8</pre>"
            ],
            "text/plain": [
              "recommendations finished on 3000/3540 queries. users per second: 76151.8"
            ]
          },
          "metadata": {
            "tags": []
          }
        },
        {
          "output_type": "stream",
          "text": [
            "\n",
            "Precision and recall summary statistics by cutoff\n",
            "+--------+-----------------------+-----------------------+\n",
            "| cutoff |     mean_precision    |      mean_recall      |\n",
            "+--------+-----------------------+-----------------------+\n",
            "|   1    | 0.0008474576271186458 | 0.0005657435707449598 |\n",
            "|   2    | 0.0007062146892655379 | 0.0008490012657837045 |\n",
            "|   3    | 0.0007532956685499077 | 0.0014147448365286626 |\n",
            "|   4    | 0.0007768361581920927 |  0.001980488407273632 |\n",
            "|   5    | 0.0008474576271186477 | 0.0026874749158716927 |\n",
            "|   6    | 0.0008474576271186435 | 0.0029707326109104444 |\n",
            "|   7    | 0.0008474576271186458 |  0.003536476181655398 |\n",
            "|   8    |  0.00077683615819209  |  0.003537248000987936 |\n",
            "|   9    | 0.0008160703075957321 |  0.004102991571732884 |\n",
            "|   10   | 0.0008192090395480234 |  0.004527492204624739 |\n",
            "+--------+-----------------------+-----------------------+\n",
            "[10 rows x 3 columns]\n",
            "\n",
            "\n",
            "Overall RMSE: 0.35368532108225\n",
            "\n",
            "Per User RMSE (best)\n",
            "+-------------------------------+------+-------+\n",
            "|          customer_id          | rmse | count |\n",
            "+-------------------------------+------+-------+\n",
            "| 74ad7441d374e44fcdf9938fab... | 0.0  |   1   |\n",
            "+-------------------------------+------+-------+\n",
            "[1 rows x 3 columns]\n",
            "\n",
            "\n",
            "Per User RMSE (worst)\n",
            "+-------------------------------+------+-------+\n",
            "|          customer_id          | rmse | count |\n",
            "+-------------------------------+------+-------+\n",
            "| 7738c1fd7e3b64b02ebac8389f... | 1.0  |   1   |\n",
            "+-------------------------------+------+-------+\n",
            "[1 rows x 3 columns]\n",
            "\n",
            "\n",
            "Per Item RMSE (best)\n",
            "+-------------------------------+------+-------+\n",
            "|           product_id          | rmse | count |\n",
            "+-------------------------------+------+-------+\n",
            "| d5140e1d258c83a340419c6522... | 0.0  |   1   |\n",
            "+-------------------------------+------+-------+\n",
            "[1 rows x 3 columns]\n",
            "\n",
            "\n",
            "Per Item RMSE (worst)\n",
            "+-------------------------------+------+-------+\n",
            "|           product_id          | rmse | count |\n",
            "+-------------------------------+------+-------+\n",
            "| c1f5307decb89342351bec5366... | 1.0  |   2   |\n",
            "+-------------------------------+------+-------+\n",
            "[1 rows x 3 columns]\n",
            "\n",
            "PROGRESS: Evaluate model Modelo Colaborativo - Distancia Coseno\n"
          ],
          "name": "stdout"
        },
        {
          "output_type": "display_data",
          "data": {
            "text/html": [
              "<pre>recommendations finished on 1000/3540 queries. users per second: 58575.4</pre>"
            ],
            "text/plain": [
              "recommendations finished on 1000/3540 queries. users per second: 58575.4"
            ]
          },
          "metadata": {
            "tags": []
          }
        },
        {
          "output_type": "display_data",
          "data": {
            "text/html": [
              "<pre>recommendations finished on 2000/3540 queries. users per second: 50888</pre>"
            ],
            "text/plain": [
              "recommendations finished on 2000/3540 queries. users per second: 50888"
            ]
          },
          "metadata": {
            "tags": []
          }
        },
        {
          "output_type": "display_data",
          "data": {
            "text/html": [
              "<pre>recommendations finished on 3000/3540 queries. users per second: 50194.9</pre>"
            ],
            "text/plain": [
              "recommendations finished on 3000/3540 queries. users per second: 50194.9"
            ]
          },
          "metadata": {
            "tags": []
          }
        },
        {
          "output_type": "stream",
          "text": [
            "\n",
            "Precision and recall summary statistics by cutoff\n",
            "+--------+-----------------------+----------------------+\n",
            "| cutoff |     mean_precision    |     mean_recall      |\n",
            "+--------+-----------------------+----------------------+\n",
            "|   1    |  0.029096045197740155 | 0.02881433114136646  |\n",
            "|   2    |  0.015536723163841828 | 0.03051001821493618  |\n",
            "|   3    |  0.010734463276836153 |  0.0312170047235342  |\n",
            "|   4    |  0.008121468926553656 | 0.031217776542866903 |\n",
            "|   5    |  0.006723163841807925 | 0.03192476305146492  |\n",
            "|   6    |  0.005649717514124294 | 0.03192553487079736  |\n",
            "|   7    |  0.004923325262308325 | 0.03206754962798315  |\n",
            "|   8    |  0.004343220338983058 | 0.032068321447315674 |\n",
            "|   9    |  0.003954802259886982 | 0.032634065018060404 |\n",
            "|   10   | 0.0036158192090395623 | 0.032917322713099266 |\n",
            "+--------+-----------------------+----------------------+\n",
            "[10 rows x 3 columns]\n",
            "\n",
            "\n",
            "Overall RMSE: 0.29733332331030304\n",
            "\n",
            "Per User RMSE (best)\n",
            "+-------------------------------+------+-------+\n",
            "|          customer_id          | rmse | count |\n",
            "+-------------------------------+------+-------+\n",
            "| a55d6a572f9ed8a230f10665db... | 0.0  |   1   |\n",
            "+-------------------------------+------+-------+\n",
            "[1 rows x 3 columns]\n",
            "\n",
            "\n",
            "Per User RMSE (worst)\n",
            "+-------------+--------------------+-------+\n",
            "| customer_id |        rmse        | count |\n",
            "+-------------+--------------------+-------+\n",
            "| total_value | 0.9999999954119911 |  366  |\n",
            "+-------------+--------------------+-------+\n",
            "[1 rows x 3 columns]\n",
            "\n",
            "\n",
            "Per Item RMSE (best)\n",
            "+-------------------------------+------+-------+\n",
            "|           product_id          | rmse | count |\n",
            "+-------------------------------+------+-------+\n",
            "| 4c7d4a2efde21e3bf1660926fa... | 0.0  |   1   |\n",
            "+-------------------------------+------+-------+\n",
            "[1 rows x 3 columns]\n",
            "\n",
            "\n",
            "Per Item RMSE (worst)\n",
            "+-------------------------------+------+-------+\n",
            "|           product_id          | rmse | count |\n",
            "+-------------------------------+------+-------+\n",
            "| 1164c17af70425821f88bfbdc9... | 1.0  |   1   |\n",
            "+-------------------------------+------+-------+\n",
            "[1 rows x 3 columns]\n",
            "\n",
            "PROGRESS: Evaluate model Modelo Colaborativo - Pearson\n"
          ],
          "name": "stdout"
        },
        {
          "output_type": "display_data",
          "data": {
            "text/html": [
              "<pre>recommendations finished on 1000/3540 queries. users per second: 56650.8</pre>"
            ],
            "text/plain": [
              "recommendations finished on 1000/3540 queries. users per second: 56650.8"
            ]
          },
          "metadata": {
            "tags": []
          }
        },
        {
          "output_type": "display_data",
          "data": {
            "text/html": [
              "<pre>recommendations finished on 2000/3540 queries. users per second: 52987.2</pre>"
            ],
            "text/plain": [
              "recommendations finished on 2000/3540 queries. users per second: 52987.2"
            ]
          },
          "metadata": {
            "tags": []
          }
        },
        {
          "output_type": "display_data",
          "data": {
            "text/html": [
              "<pre>recommendations finished on 3000/3540 queries. users per second: 52453.1</pre>"
            ],
            "text/plain": [
              "recommendations finished on 3000/3540 queries. users per second: 52453.1"
            ]
          },
          "metadata": {
            "tags": []
          }
        },
        {
          "output_type": "stream",
          "text": [
            "\n",
            "Precision and recall summary statistics by cutoff\n",
            "+--------+-----------------------+-----------------------+\n",
            "| cutoff |     mean_precision    |      mean_recall      |\n",
            "+--------+-----------------------+-----------------------+\n",
            "|   1    | 0.0008474576271186461 | 0.0005657435707449604 |\n",
            "|   2    |  0.000706214689265538 | 0.0008490012657837039 |\n",
            "|   3    |  0.000753295668549908 | 0.0014147448365286633 |\n",
            "|   4    | 0.0007768361581920934 |  0.001980488407273632 |\n",
            "|   5    | 0.0008474576271186472 | 0.0026874749158716914 |\n",
            "|   6    | 0.0008474576271186445 | 0.0029707326109104427 |\n",
            "|   7    | 0.0008474576271186474 |  0.003536476181655398 |\n",
            "|   8    | 0.0007768361581920886 | 0.0035372480009879387 |\n",
            "|   9    | 0.0008160703075957321 |  0.004102991571732876 |\n",
            "|   10   | 0.0008192090395480232 |  0.004527492204624734 |\n",
            "+--------+-----------------------+-----------------------+\n",
            "[10 rows x 3 columns]\n",
            "\n",
            "\n",
            "Overall RMSE: 0.3616483307276593\n",
            "\n",
            "Per User RMSE (best)\n",
            "+-------------------------------+------+-------+\n",
            "|          customer_id          | rmse | count |\n",
            "+-------------------------------+------+-------+\n",
            "| 74ad7441d374e44fcdf9938fab... | 0.0  |   1   |\n",
            "+-------------------------------+------+-------+\n",
            "[1 rows x 3 columns]\n",
            "\n",
            "\n",
            "Per User RMSE (worst)\n",
            "+-------------------------------+------+-------+\n",
            "|          customer_id          | rmse | count |\n",
            "+-------------------------------+------+-------+\n",
            "| 7738c1fd7e3b64b02ebac8389f... | 1.0  |   1   |\n",
            "+-------------------------------+------+-------+\n",
            "[1 rows x 3 columns]\n",
            "\n",
            "\n",
            "Per Item RMSE (best)\n",
            "+-------------------------------+------+-------+\n",
            "|           product_id          | rmse | count |\n",
            "+-------------------------------+------+-------+\n",
            "| d5140e1d258c83a340419c6522... | 0.0  |   1   |\n",
            "+-------------------------------+------+-------+\n",
            "[1 rows x 3 columns]\n",
            "\n",
            "\n",
            "Per Item RMSE (worst)\n",
            "+-------------------------------+------+-------+\n",
            "|           product_id          | rmse | count |\n",
            "+-------------------------------+------+-------+\n",
            "| c1f5307decb89342351bec5366... | 1.0  |   2   |\n",
            "+-------------------------------+------+-------+\n",
            "[1 rows x 3 columns]\n",
            "\n"
          ],
          "name": "stdout"
        }
      ]
    },
    {
      "cell_type": "code",
      "metadata": {
        "id": "jbarhzLxexiC",
        "colab_type": "code",
        "outputId": "792e6b52-0183-4fc2-88bd-3be984d9477d",
        "colab": {
          "base_uri": "https://localhost:8080/",
          "height": 1000
        }
      },
      "source": [
        "evaluacion_modelos('dummy',test_data_dummy)  "
      ],
      "execution_count": 0,
      "outputs": [
        {
          "output_type": "stream",
          "text": [
            "PROGRESS: Evaluate model Modelo Dummy basado en contenido\n"
          ],
          "name": "stdout"
        },
        {
          "output_type": "display_data",
          "data": {
            "text/html": [
              "<pre>recommendations finished on 1000/2869 queries. users per second: 47551.1</pre>"
            ],
            "text/plain": [
              "recommendations finished on 1000/2869 queries. users per second: 47551.1"
            ]
          },
          "metadata": {
            "tags": []
          }
        },
        {
          "output_type": "display_data",
          "data": {
            "text/html": [
              "<pre>recommendations finished on 2000/2869 queries. users per second: 45049.1</pre>"
            ],
            "text/plain": [
              "recommendations finished on 2000/2869 queries. users per second: 45049.1"
            ]
          },
          "metadata": {
            "tags": []
          }
        },
        {
          "output_type": "stream",
          "text": [
            "\n",
            "Precision and recall summary statistics by cutoff\n",
            "+--------+------------------------+-----------------------+\n",
            "| cutoff |     mean_precision     |      mean_recall      |\n",
            "+--------+------------------------+-----------------------+\n",
            "|   1    |          0.0           |          0.0          |\n",
            "|   2    |          0.0           |          0.0          |\n",
            "|   3    | 0.00011618450098756866 | 0.0003485535029627069 |\n",
            "|   4    | 8.713837574067672e-05  | 0.0003485535029627069 |\n",
            "|   5    | 6.971070059254129e-05  | 0.0003485535029627069 |\n",
            "|   6    | 5.809225049378433e-05  | 0.0003485535029627069 |\n",
            "|   7    | 9.958671513220173e-05  | 0.0006971070059254119 |\n",
            "|   8    | 0.00013070756361101477 | 0.0010456605088881182 |\n",
            "|   9    | 0.00011618450098756836 | 0.0010456605088881182 |\n",
            "|   10   | 0.00010456605088881173 | 0.0010456605088881177 |\n",
            "+--------+------------------------+-----------------------+\n",
            "[10 rows x 3 columns]\n",
            "\n",
            "\n",
            "Overall RMSE: 0.0\n",
            "\n",
            "Per User RMSE (best)\n",
            "+-------------------------------+------+-------+\n",
            "|          customer_id          | rmse | count |\n",
            "+-------------------------------+------+-------+\n",
            "| a55d6a572f9ed8a230f10665db... | 0.0  |   1   |\n",
            "+-------------------------------+------+-------+\n",
            "[1 rows x 3 columns]\n",
            "\n",
            "\n",
            "Per User RMSE (worst)\n",
            "+-------------------------------+------+-------+\n",
            "|          customer_id          | rmse | count |\n",
            "+-------------------------------+------+-------+\n",
            "| adea59a1abb5ffb0a7ba18bbaa... | 0.0  |   1   |\n",
            "+-------------------------------+------+-------+\n",
            "[1 rows x 3 columns]\n",
            "\n",
            "\n",
            "Per Item RMSE (best)\n",
            "+-------------------------------+------+-------+\n",
            "|           product_id          | rmse | count |\n",
            "+-------------------------------+------+-------+\n",
            "| 9007d9a8a0d332c61d9dd611fa... | 0.0  |   1   |\n",
            "+-------------------------------+------+-------+\n",
            "[1 rows x 3 columns]\n",
            "\n",
            "\n",
            "Per Item RMSE (worst)\n",
            "+-------------------------------+------+-------+\n",
            "|           product_id          | rmse | count |\n",
            "+-------------------------------+------+-------+\n",
            "| 2d2fbde9939c282238dc0847b0... | 0.0  |   1   |\n",
            "+-------------------------------+------+-------+\n",
            "[1 rows x 3 columns]\n",
            "\n",
            "PROGRESS: Evaluate model Modelo Dummy Colaborativo - Distancia Coseno\n"
          ],
          "name": "stdout"
        },
        {
          "output_type": "display_data",
          "data": {
            "text/html": [
              "<pre>recommendations finished on 1000/2869 queries. users per second: 39217.2</pre>"
            ],
            "text/plain": [
              "recommendations finished on 1000/2869 queries. users per second: 39217.2"
            ]
          },
          "metadata": {
            "tags": []
          }
        },
        {
          "output_type": "display_data",
          "data": {
            "text/html": [
              "<pre>recommendations finished on 2000/2869 queries. users per second: 37234.9</pre>"
            ],
            "text/plain": [
              "recommendations finished on 2000/2869 queries. users per second: 37234.9"
            ]
          },
          "metadata": {
            "tags": []
          }
        },
        {
          "output_type": "stream",
          "text": [
            "\n",
            "Precision and recall summary statistics by cutoff\n",
            "+--------+------------------------+-----------------------+\n",
            "| cutoff |     mean_precision     |      mean_recall      |\n",
            "+--------+------------------------+-----------------------+\n",
            "|   1    | 0.0013942140118508254  | 0.0013942140118508254 |\n",
            "|   2    | 0.0006971070059254127  | 0.0013942140118508254 |\n",
            "|   3    | 0.0005809225049378404  |  0.001742767514813529 |\n",
            "|   4    | 0.00043569187870338223 |  0.001742767514813529 |\n",
            "|   5    | 0.00034855350296270575 | 0.0017427675148135294 |\n",
            "|   6    | 0.0002904612524689202  | 0.0017427675148135294 |\n",
            "|   7    | 0.0002987601453966049  | 0.0020913210177762346 |\n",
            "|   8    | 0.00030498431509236757 | 0.0024398745207389405 |\n",
            "|   9    | 0.00027109716897099245 | 0.0024398745207389405 |\n",
            "|   10   | 0.00024398745207389444 | 0.0024398745207389392 |\n",
            "+--------+------------------------+-----------------------+\n",
            "[10 rows x 3 columns]\n",
            "\n",
            "\n",
            "Overall RMSE: 0.9960470182500112\n",
            "\n",
            "Per User RMSE (best)\n",
            "+-------------------------------+------+-------+\n",
            "|          customer_id          | rmse | count |\n",
            "+-------------------------------+------+-------+\n",
            "| db9a58053c3f7ab8be9970e6b2... | 0.25 |   3   |\n",
            "+-------------------------------+------+-------+\n",
            "[1 rows x 3 columns]\n",
            "\n",
            "\n",
            "Per User RMSE (worst)\n",
            "+-------------------------------+------+-------+\n",
            "|          customer_id          | rmse | count |\n",
            "+-------------------------------+------+-------+\n",
            "| adea59a1abb5ffb0a7ba18bbaa... | 1.0  |   1   |\n",
            "+-------------------------------+------+-------+\n",
            "[1 rows x 3 columns]\n",
            "\n",
            "\n",
            "Per Item RMSE (best)\n",
            "+-------------------------------+------+-------+\n",
            "|           product_id          | rmse | count |\n",
            "+-------------------------------+------+-------+\n",
            "| 83e2059df06602e05d9bc1abf2... | 0.25 |   1   |\n",
            "+-------------------------------+------+-------+\n",
            "[1 rows x 3 columns]\n",
            "\n",
            "\n",
            "Per Item RMSE (worst)\n",
            "+-------------------------------+------+-------+\n",
            "|           product_id          | rmse | count |\n",
            "+-------------------------------+------+-------+\n",
            "| 2d2fbde9939c282238dc0847b0... | 1.0  |   1   |\n",
            "+-------------------------------+------+-------+\n",
            "[1 rows x 3 columns]\n",
            "\n",
            "PROGRESS: Evaluate model Modelo Dummy Colaborativo - Pearson\n"
          ],
          "name": "stdout"
        },
        {
          "output_type": "display_data",
          "data": {
            "text/html": [
              "<pre>recommendations finished on 1000/2869 queries. users per second: 33644</pre>"
            ],
            "text/plain": [
              "recommendations finished on 1000/2869 queries. users per second: 33644"
            ]
          },
          "metadata": {
            "tags": []
          }
        },
        {
          "output_type": "display_data",
          "data": {
            "text/html": [
              "<pre>recommendations finished on 2000/2869 queries. users per second: 32144</pre>"
            ],
            "text/plain": [
              "recommendations finished on 2000/2869 queries. users per second: 32144"
            ]
          },
          "metadata": {
            "tags": []
          }
        },
        {
          "output_type": "stream",
          "text": [
            "\n",
            "Precision and recall summary statistics by cutoff\n",
            "+--------+------------------------+-----------------------+\n",
            "| cutoff |     mean_precision     |      mean_recall      |\n",
            "+--------+------------------------+-----------------------+\n",
            "|   1    |          0.0           |          0.0          |\n",
            "|   2    |          0.0           |          0.0          |\n",
            "|   3    | 0.00011618450098756831 | 0.0003485535029627051 |\n",
            "|   4    | 8.713837574067628e-05  | 0.0003485535029627051 |\n",
            "|   5    |  6.97107005925411e-05  | 0.0003485535029627051 |\n",
            "|   6    | 5.8092250493784154e-05 | 0.0003485535029627051 |\n",
            "|   7    | 9.958671513220154e-05  | 0.0006971070059254107 |\n",
            "|   8    | 0.0001307075636110146  | 0.0010456605088881169 |\n",
            "|   9    | 0.00011618450098756839 | 0.0010456605088881169 |\n",
            "|   10   | 0.00010456605088881179 | 0.0010456605088881169 |\n",
            "+--------+------------------------+-----------------------+\n",
            "[10 rows x 3 columns]\n",
            "\n",
            "\n",
            "Overall RMSE: 1.0\n",
            "\n",
            "Per User RMSE (best)\n",
            "+-------------------------------+------+-------+\n",
            "|          customer_id          | rmse | count |\n",
            "+-------------------------------+------+-------+\n",
            "| a55d6a572f9ed8a230f10665db... | 1.0  |   1   |\n",
            "+-------------------------------+------+-------+\n",
            "[1 rows x 3 columns]\n",
            "\n",
            "\n",
            "Per User RMSE (worst)\n",
            "+-------------------------------+------+-------+\n",
            "|          customer_id          | rmse | count |\n",
            "+-------------------------------+------+-------+\n",
            "| adea59a1abb5ffb0a7ba18bbaa... | 1.0  |   1   |\n",
            "+-------------------------------+------+-------+\n",
            "[1 rows x 3 columns]\n",
            "\n",
            "\n",
            "Per Item RMSE (best)\n",
            "+-------------------------------+------+-------+\n",
            "|           product_id          | rmse | count |\n",
            "+-------------------------------+------+-------+\n",
            "| 9007d9a8a0d332c61d9dd611fa... | 1.0  |   1   |\n",
            "+-------------------------------+------+-------+\n",
            "[1 rows x 3 columns]\n",
            "\n",
            "\n",
            "Per Item RMSE (worst)\n",
            "+-------------------------------+------+-------+\n",
            "|           product_id          | rmse | count |\n",
            "+-------------------------------+------+-------+\n",
            "| 2d2fbde9939c282238dc0847b0... | 1.0  |   1   |\n",
            "+-------------------------------+------+-------+\n",
            "[1 rows x 3 columns]\n",
            "\n"
          ],
          "name": "stdout"
        }
      ]
    },
    {
      "cell_type": "markdown",
      "metadata": {
        "id": "0eS0qbkHwduk",
        "colab_type": "text"
      },
      "source": [
        "### 1.6 Exportar recomendaciones\n",
        "Con los resultado obtenidos podemos identificar que el mejor modelo es el Pearson, por tal motivo se exporta su información . "
      ]
    },
    {
      "cell_type": "code",
      "metadata": {
        "id": "u7JAws8Yc6F2",
        "colab_type": "code",
        "outputId": "d69110a6-19c3-4c06-a9c2-3fed2c2fd4b2",
        "colab": {
          "base_uri": "https://localhost:8080/",
          "height": 1000
        }
      },
      "source": [
        "exportarRecomendaciones(fac_pearson,datos_clientes.customer_id)"
      ],
      "execution_count": 0,
      "outputs": [
        {
          "output_type": "display_data",
          "data": {
            "text/html": [
              "<pre>recommendations finished on 1000/96352 queries. users per second: 65299.7</pre>"
            ],
            "text/plain": [
              "recommendations finished on 1000/96352 queries. users per second: 65299.7"
            ]
          },
          "metadata": {
            "tags": []
          }
        },
        {
          "output_type": "display_data",
          "data": {
            "text/html": [
              "<pre>recommendations finished on 2000/96352 queries. users per second: 64576.5</pre>"
            ],
            "text/plain": [
              "recommendations finished on 2000/96352 queries. users per second: 64576.5"
            ]
          },
          "metadata": {
            "tags": []
          }
        },
        {
          "output_type": "display_data",
          "data": {
            "text/html": [
              "<pre>recommendations finished on 3000/96352 queries. users per second: 64448.2</pre>"
            ],
            "text/plain": [
              "recommendations finished on 3000/96352 queries. users per second: 64448.2"
            ]
          },
          "metadata": {
            "tags": []
          }
        },
        {
          "output_type": "display_data",
          "data": {
            "text/html": [
              "<pre>recommendations finished on 4000/96352 queries. users per second: 64197.2</pre>"
            ],
            "text/plain": [
              "recommendations finished on 4000/96352 queries. users per second: 64197.2"
            ]
          },
          "metadata": {
            "tags": []
          }
        },
        {
          "output_type": "display_data",
          "data": {
            "text/html": [
              "<pre>recommendations finished on 5000/96352 queries. users per second: 63987.7</pre>"
            ],
            "text/plain": [
              "recommendations finished on 5000/96352 queries. users per second: 63987.7"
            ]
          },
          "metadata": {
            "tags": []
          }
        },
        {
          "output_type": "display_data",
          "data": {
            "text/html": [
              "<pre>recommendations finished on 6000/96352 queries. users per second: 62494.1</pre>"
            ],
            "text/plain": [
              "recommendations finished on 6000/96352 queries. users per second: 62494.1"
            ]
          },
          "metadata": {
            "tags": []
          }
        },
        {
          "output_type": "display_data",
          "data": {
            "text/html": [
              "<pre>recommendations finished on 7000/96352 queries. users per second: 62739.8</pre>"
            ],
            "text/plain": [
              "recommendations finished on 7000/96352 queries. users per second: 62739.8"
            ]
          },
          "metadata": {
            "tags": []
          }
        },
        {
          "output_type": "display_data",
          "data": {
            "text/html": [
              "<pre>recommendations finished on 8000/96352 queries. users per second: 62630.6</pre>"
            ],
            "text/plain": [
              "recommendations finished on 8000/96352 queries. users per second: 62630.6"
            ]
          },
          "metadata": {
            "tags": []
          }
        },
        {
          "output_type": "display_data",
          "data": {
            "text/html": [
              "<pre>recommendations finished on 9000/96352 queries. users per second: 62794.8</pre>"
            ],
            "text/plain": [
              "recommendations finished on 9000/96352 queries. users per second: 62794.8"
            ]
          },
          "metadata": {
            "tags": []
          }
        },
        {
          "output_type": "display_data",
          "data": {
            "text/html": [
              "<pre>recommendations finished on 10000/96352 queries. users per second: 62826.7</pre>"
            ],
            "text/plain": [
              "recommendations finished on 10000/96352 queries. users per second: 62826.7"
            ]
          },
          "metadata": {
            "tags": []
          }
        },
        {
          "output_type": "display_data",
          "data": {
            "text/html": [
              "<pre>recommendations finished on 11000/96352 queries. users per second: 62937</pre>"
            ],
            "text/plain": [
              "recommendations finished on 11000/96352 queries. users per second: 62937"
            ]
          },
          "metadata": {
            "tags": []
          }
        },
        {
          "output_type": "display_data",
          "data": {
            "text/html": [
              "<pre>recommendations finished on 12000/96352 queries. users per second: 62991.1</pre>"
            ],
            "text/plain": [
              "recommendations finished on 12000/96352 queries. users per second: 62991.1"
            ]
          },
          "metadata": {
            "tags": []
          }
        },
        {
          "output_type": "display_data",
          "data": {
            "text/html": [
              "<pre>recommendations finished on 13000/96352 queries. users per second: 62849.3</pre>"
            ],
            "text/plain": [
              "recommendations finished on 13000/96352 queries. users per second: 62849.3"
            ]
          },
          "metadata": {
            "tags": []
          }
        },
        {
          "output_type": "display_data",
          "data": {
            "text/html": [
              "<pre>recommendations finished on 14000/96352 queries. users per second: 62662.3</pre>"
            ],
            "text/plain": [
              "recommendations finished on 14000/96352 queries. users per second: 62662.3"
            ]
          },
          "metadata": {
            "tags": []
          }
        },
        {
          "output_type": "display_data",
          "data": {
            "text/html": [
              "<pre>recommendations finished on 15000/96352 queries. users per second: 62746.8</pre>"
            ],
            "text/plain": [
              "recommendations finished on 15000/96352 queries. users per second: 62746.8"
            ]
          },
          "metadata": {
            "tags": []
          }
        },
        {
          "output_type": "display_data",
          "data": {
            "text/html": [
              "<pre>recommendations finished on 16000/96352 queries. users per second: 62751.7</pre>"
            ],
            "text/plain": [
              "recommendations finished on 16000/96352 queries. users per second: 62751.7"
            ]
          },
          "metadata": {
            "tags": []
          }
        },
        {
          "output_type": "display_data",
          "data": {
            "text/html": [
              "<pre>recommendations finished on 17000/96352 queries. users per second: 62803.2</pre>"
            ],
            "text/plain": [
              "recommendations finished on 17000/96352 queries. users per second: 62803.2"
            ]
          },
          "metadata": {
            "tags": []
          }
        },
        {
          "output_type": "display_data",
          "data": {
            "text/html": [
              "<pre>recommendations finished on 18000/96352 queries. users per second: 62786</pre>"
            ],
            "text/plain": [
              "recommendations finished on 18000/96352 queries. users per second: 62786"
            ]
          },
          "metadata": {
            "tags": []
          }
        },
        {
          "output_type": "display_data",
          "data": {
            "text/html": [
              "<pre>recommendations finished on 19000/96352 queries. users per second: 62775.1</pre>"
            ],
            "text/plain": [
              "recommendations finished on 19000/96352 queries. users per second: 62775.1"
            ]
          },
          "metadata": {
            "tags": []
          }
        },
        {
          "output_type": "display_data",
          "data": {
            "text/html": [
              "<pre>recommendations finished on 20000/96352 queries. users per second: 62810.3</pre>"
            ],
            "text/plain": [
              "recommendations finished on 20000/96352 queries. users per second: 62810.3"
            ]
          },
          "metadata": {
            "tags": []
          }
        },
        {
          "output_type": "display_data",
          "data": {
            "text/html": [
              "<pre>recommendations finished on 21000/96352 queries. users per second: 62755.1</pre>"
            ],
            "text/plain": [
              "recommendations finished on 21000/96352 queries. users per second: 62755.1"
            ]
          },
          "metadata": {
            "tags": []
          }
        },
        {
          "output_type": "display_data",
          "data": {
            "text/html": [
              "<pre>recommendations finished on 22000/96352 queries. users per second: 62739.9</pre>"
            ],
            "text/plain": [
              "recommendations finished on 22000/96352 queries. users per second: 62739.9"
            ]
          },
          "metadata": {
            "tags": []
          }
        },
        {
          "output_type": "display_data",
          "data": {
            "text/html": [
              "<pre>recommendations finished on 23000/96352 queries. users per second: 62698.3</pre>"
            ],
            "text/plain": [
              "recommendations finished on 23000/96352 queries. users per second: 62698.3"
            ]
          },
          "metadata": {
            "tags": []
          }
        },
        {
          "output_type": "display_data",
          "data": {
            "text/html": [
              "<pre>recommendations finished on 24000/96352 queries. users per second: 62678.1</pre>"
            ],
            "text/plain": [
              "recommendations finished on 24000/96352 queries. users per second: 62678.1"
            ]
          },
          "metadata": {
            "tags": []
          }
        },
        {
          "output_type": "display_data",
          "data": {
            "text/html": [
              "<pre>recommendations finished on 25000/96352 queries. users per second: 62655.7</pre>"
            ],
            "text/plain": [
              "recommendations finished on 25000/96352 queries. users per second: 62655.7"
            ]
          },
          "metadata": {
            "tags": []
          }
        },
        {
          "output_type": "display_data",
          "data": {
            "text/html": [
              "<pre>recommendations finished on 26000/96352 queries. users per second: 62667.7</pre>"
            ],
            "text/plain": [
              "recommendations finished on 26000/96352 queries. users per second: 62667.7"
            ]
          },
          "metadata": {
            "tags": []
          }
        },
        {
          "output_type": "display_data",
          "data": {
            "text/html": [
              "<pre>recommendations finished on 27000/96352 queries. users per second: 62563.3</pre>"
            ],
            "text/plain": [
              "recommendations finished on 27000/96352 queries. users per second: 62563.3"
            ]
          },
          "metadata": {
            "tags": []
          }
        },
        {
          "output_type": "display_data",
          "data": {
            "text/html": [
              "<pre>recommendations finished on 28000/96352 queries. users per second: 62523.9</pre>"
            ],
            "text/plain": [
              "recommendations finished on 28000/96352 queries. users per second: 62523.9"
            ]
          },
          "metadata": {
            "tags": []
          }
        },
        {
          "output_type": "display_data",
          "data": {
            "text/html": [
              "<pre>recommendations finished on 29000/96352 queries. users per second: 62485.9</pre>"
            ],
            "text/plain": [
              "recommendations finished on 29000/96352 queries. users per second: 62485.9"
            ]
          },
          "metadata": {
            "tags": []
          }
        },
        {
          "output_type": "display_data",
          "data": {
            "text/html": [
              "<pre>recommendations finished on 30000/96352 queries. users per second: 62506.3</pre>"
            ],
            "text/plain": [
              "recommendations finished on 30000/96352 queries. users per second: 62506.3"
            ]
          },
          "metadata": {
            "tags": []
          }
        },
        {
          "output_type": "display_data",
          "data": {
            "text/html": [
              "<pre>recommendations finished on 31000/96352 queries. users per second: 62447</pre>"
            ],
            "text/plain": [
              "recommendations finished on 31000/96352 queries. users per second: 62447"
            ]
          },
          "metadata": {
            "tags": []
          }
        },
        {
          "output_type": "display_data",
          "data": {
            "text/html": [
              "<pre>recommendations finished on 32000/96352 queries. users per second: 62405.8</pre>"
            ],
            "text/plain": [
              "recommendations finished on 32000/96352 queries. users per second: 62405.8"
            ]
          },
          "metadata": {
            "tags": []
          }
        },
        {
          "output_type": "display_data",
          "data": {
            "text/html": [
              "<pre>recommendations finished on 33000/96352 queries. users per second: 62420.8</pre>"
            ],
            "text/plain": [
              "recommendations finished on 33000/96352 queries. users per second: 62420.8"
            ]
          },
          "metadata": {
            "tags": []
          }
        },
        {
          "output_type": "display_data",
          "data": {
            "text/html": [
              "<pre>recommendations finished on 34000/96352 queries. users per second: 62428.7</pre>"
            ],
            "text/plain": [
              "recommendations finished on 34000/96352 queries. users per second: 62428.7"
            ]
          },
          "metadata": {
            "tags": []
          }
        },
        {
          "output_type": "display_data",
          "data": {
            "text/html": [
              "<pre>recommendations finished on 35000/96352 queries. users per second: 62485.5</pre>"
            ],
            "text/plain": [
              "recommendations finished on 35000/96352 queries. users per second: 62485.5"
            ]
          },
          "metadata": {
            "tags": []
          }
        },
        {
          "output_type": "display_data",
          "data": {
            "text/html": [
              "<pre>recommendations finished on 36000/96352 queries. users per second: 62418.4</pre>"
            ],
            "text/plain": [
              "recommendations finished on 36000/96352 queries. users per second: 62418.4"
            ]
          },
          "metadata": {
            "tags": []
          }
        },
        {
          "output_type": "display_data",
          "data": {
            "text/html": [
              "<pre>recommendations finished on 37000/96352 queries. users per second: 62422.6</pre>"
            ],
            "text/plain": [
              "recommendations finished on 37000/96352 queries. users per second: 62422.6"
            ]
          },
          "metadata": {
            "tags": []
          }
        },
        {
          "output_type": "display_data",
          "data": {
            "text/html": [
              "<pre>recommendations finished on 38000/96352 queries. users per second: 62433.4</pre>"
            ],
            "text/plain": [
              "recommendations finished on 38000/96352 queries. users per second: 62433.4"
            ]
          },
          "metadata": {
            "tags": []
          }
        },
        {
          "output_type": "display_data",
          "data": {
            "text/html": [
              "<pre>recommendations finished on 39000/96352 queries. users per second: 62475.6</pre>"
            ],
            "text/plain": [
              "recommendations finished on 39000/96352 queries. users per second: 62475.6"
            ]
          },
          "metadata": {
            "tags": []
          }
        },
        {
          "output_type": "display_data",
          "data": {
            "text/html": [
              "<pre>recommendations finished on 40000/96352 queries. users per second: 62426.1</pre>"
            ],
            "text/plain": [
              "recommendations finished on 40000/96352 queries. users per second: 62426.1"
            ]
          },
          "metadata": {
            "tags": []
          }
        },
        {
          "output_type": "display_data",
          "data": {
            "text/html": [
              "<pre>recommendations finished on 41000/96352 queries. users per second: 62434.6</pre>"
            ],
            "text/plain": [
              "recommendations finished on 41000/96352 queries. users per second: 62434.6"
            ]
          },
          "metadata": {
            "tags": []
          }
        },
        {
          "output_type": "display_data",
          "data": {
            "text/html": [
              "<pre>recommendations finished on 42000/96352 queries. users per second: 62413.3</pre>"
            ],
            "text/plain": [
              "recommendations finished on 42000/96352 queries. users per second: 62413.3"
            ]
          },
          "metadata": {
            "tags": []
          }
        },
        {
          "output_type": "display_data",
          "data": {
            "text/html": [
              "<pre>recommendations finished on 43000/96352 queries. users per second: 62381.6</pre>"
            ],
            "text/plain": [
              "recommendations finished on 43000/96352 queries. users per second: 62381.6"
            ]
          },
          "metadata": {
            "tags": []
          }
        },
        {
          "output_type": "display_data",
          "data": {
            "text/html": [
              "<pre>recommendations finished on 44000/96352 queries. users per second: 62354.6</pre>"
            ],
            "text/plain": [
              "recommendations finished on 44000/96352 queries. users per second: 62354.6"
            ]
          },
          "metadata": {
            "tags": []
          }
        },
        {
          "output_type": "display_data",
          "data": {
            "text/html": [
              "<pre>recommendations finished on 45000/96352 queries. users per second: 62314.5</pre>"
            ],
            "text/plain": [
              "recommendations finished on 45000/96352 queries. users per second: 62314.5"
            ]
          },
          "metadata": {
            "tags": []
          }
        },
        {
          "output_type": "display_data",
          "data": {
            "text/html": [
              "<pre>recommendations finished on 46000/96352 queries. users per second: 62317.6</pre>"
            ],
            "text/plain": [
              "recommendations finished on 46000/96352 queries. users per second: 62317.6"
            ]
          },
          "metadata": {
            "tags": []
          }
        },
        {
          "output_type": "display_data",
          "data": {
            "text/html": [
              "<pre>recommendations finished on 47000/96352 queries. users per second: 62355.2</pre>"
            ],
            "text/plain": [
              "recommendations finished on 47000/96352 queries. users per second: 62355.2"
            ]
          },
          "metadata": {
            "tags": []
          }
        },
        {
          "output_type": "display_data",
          "data": {
            "text/html": [
              "<pre>recommendations finished on 48000/96352 queries. users per second: 62332.5</pre>"
            ],
            "text/plain": [
              "recommendations finished on 48000/96352 queries. users per second: 62332.5"
            ]
          },
          "metadata": {
            "tags": []
          }
        },
        {
          "output_type": "display_data",
          "data": {
            "text/html": [
              "<pre>recommendations finished on 49000/96352 queries. users per second: 62354.5</pre>"
            ],
            "text/plain": [
              "recommendations finished on 49000/96352 queries. users per second: 62354.5"
            ]
          },
          "metadata": {
            "tags": []
          }
        },
        {
          "output_type": "display_data",
          "data": {
            "text/html": [
              "<pre>recommendations finished on 50000/96352 queries. users per second: 62342.6</pre>"
            ],
            "text/plain": [
              "recommendations finished on 50000/96352 queries. users per second: 62342.6"
            ]
          },
          "metadata": {
            "tags": []
          }
        },
        {
          "output_type": "display_data",
          "data": {
            "text/html": [
              "<pre>recommendations finished on 51000/96352 queries. users per second: 62057.5</pre>"
            ],
            "text/plain": [
              "recommendations finished on 51000/96352 queries. users per second: 62057.5"
            ]
          },
          "metadata": {
            "tags": []
          }
        },
        {
          "output_type": "display_data",
          "data": {
            "text/html": [
              "<pre>recommendations finished on 52000/96352 queries. users per second: 61980.8</pre>"
            ],
            "text/plain": [
              "recommendations finished on 52000/96352 queries. users per second: 61980.8"
            ]
          },
          "metadata": {
            "tags": []
          }
        },
        {
          "output_type": "display_data",
          "data": {
            "text/html": [
              "<pre>recommendations finished on 53000/96352 queries. users per second: 62014.9</pre>"
            ],
            "text/plain": [
              "recommendations finished on 53000/96352 queries. users per second: 62014.9"
            ]
          },
          "metadata": {
            "tags": []
          }
        },
        {
          "output_type": "display_data",
          "data": {
            "text/html": [
              "<pre>recommendations finished on 54000/96352 queries. users per second: 61961.2</pre>"
            ],
            "text/plain": [
              "recommendations finished on 54000/96352 queries. users per second: 61961.2"
            ]
          },
          "metadata": {
            "tags": []
          }
        },
        {
          "output_type": "display_data",
          "data": {
            "text/html": [
              "<pre>recommendations finished on 55000/96352 queries. users per second: 62009.4</pre>"
            ],
            "text/plain": [
              "recommendations finished on 55000/96352 queries. users per second: 62009.4"
            ]
          },
          "metadata": {
            "tags": []
          }
        },
        {
          "output_type": "display_data",
          "data": {
            "text/html": [
              "<pre>recommendations finished on 56000/96352 queries. users per second: 62017.6</pre>"
            ],
            "text/plain": [
              "recommendations finished on 56000/96352 queries. users per second: 62017.6"
            ]
          },
          "metadata": {
            "tags": []
          }
        },
        {
          "output_type": "display_data",
          "data": {
            "text/html": [
              "<pre>recommendations finished on 57000/96352 queries. users per second: 62028.5</pre>"
            ],
            "text/plain": [
              "recommendations finished on 57000/96352 queries. users per second: 62028.5"
            ]
          },
          "metadata": {
            "tags": []
          }
        },
        {
          "output_type": "display_data",
          "data": {
            "text/html": [
              "<pre>recommendations finished on 58000/96352 queries. users per second: 61992.4</pre>"
            ],
            "text/plain": [
              "recommendations finished on 58000/96352 queries. users per second: 61992.4"
            ]
          },
          "metadata": {
            "tags": []
          }
        },
        {
          "output_type": "display_data",
          "data": {
            "text/html": [
              "<pre>recommendations finished on 59000/96352 queries. users per second: 62017.7</pre>"
            ],
            "text/plain": [
              "recommendations finished on 59000/96352 queries. users per second: 62017.7"
            ]
          },
          "metadata": {
            "tags": []
          }
        },
        {
          "output_type": "display_data",
          "data": {
            "text/html": [
              "<pre>recommendations finished on 60000/96352 queries. users per second: 61936.7</pre>"
            ],
            "text/plain": [
              "recommendations finished on 60000/96352 queries. users per second: 61936.7"
            ]
          },
          "metadata": {
            "tags": []
          }
        },
        {
          "output_type": "display_data",
          "data": {
            "text/html": [
              "<pre>recommendations finished on 61000/96352 queries. users per second: 61946.2</pre>"
            ],
            "text/plain": [
              "recommendations finished on 61000/96352 queries. users per second: 61946.2"
            ]
          },
          "metadata": {
            "tags": []
          }
        },
        {
          "output_type": "display_data",
          "data": {
            "text/html": [
              "<pre>recommendations finished on 62000/96352 queries. users per second: 61951.4</pre>"
            ],
            "text/plain": [
              "recommendations finished on 62000/96352 queries. users per second: 61951.4"
            ]
          },
          "metadata": {
            "tags": []
          }
        },
        {
          "output_type": "display_data",
          "data": {
            "text/html": [
              "<pre>recommendations finished on 63000/96352 queries. users per second: 61967.3</pre>"
            ],
            "text/plain": [
              "recommendations finished on 63000/96352 queries. users per second: 61967.3"
            ]
          },
          "metadata": {
            "tags": []
          }
        },
        {
          "output_type": "display_data",
          "data": {
            "text/html": [
              "<pre>recommendations finished on 64000/96352 queries. users per second: 61973.3</pre>"
            ],
            "text/plain": [
              "recommendations finished on 64000/96352 queries. users per second: 61973.3"
            ]
          },
          "metadata": {
            "tags": []
          }
        },
        {
          "output_type": "display_data",
          "data": {
            "text/html": [
              "<pre>recommendations finished on 65000/96352 queries. users per second: 61982.2</pre>"
            ],
            "text/plain": [
              "recommendations finished on 65000/96352 queries. users per second: 61982.2"
            ]
          },
          "metadata": {
            "tags": []
          }
        },
        {
          "output_type": "display_data",
          "data": {
            "text/html": [
              "<pre>recommendations finished on 66000/96352 queries. users per second: 62004.9</pre>"
            ],
            "text/plain": [
              "recommendations finished on 66000/96352 queries. users per second: 62004.9"
            ]
          },
          "metadata": {
            "tags": []
          }
        },
        {
          "output_type": "display_data",
          "data": {
            "text/html": [
              "<pre>recommendations finished on 67000/96352 queries. users per second: 61997.7</pre>"
            ],
            "text/plain": [
              "recommendations finished on 67000/96352 queries. users per second: 61997.7"
            ]
          },
          "metadata": {
            "tags": []
          }
        },
        {
          "output_type": "display_data",
          "data": {
            "text/html": [
              "<pre>recommendations finished on 68000/96352 queries. users per second: 61977.7</pre>"
            ],
            "text/plain": [
              "recommendations finished on 68000/96352 queries. users per second: 61977.7"
            ]
          },
          "metadata": {
            "tags": []
          }
        },
        {
          "output_type": "display_data",
          "data": {
            "text/html": [
              "<pre>recommendations finished on 69000/96352 queries. users per second: 62004.2</pre>"
            ],
            "text/plain": [
              "recommendations finished on 69000/96352 queries. users per second: 62004.2"
            ]
          },
          "metadata": {
            "tags": []
          }
        },
        {
          "output_type": "display_data",
          "data": {
            "text/html": [
              "<pre>recommendations finished on 70000/96352 queries. users per second: 62021.4</pre>"
            ],
            "text/plain": [
              "recommendations finished on 70000/96352 queries. users per second: 62021.4"
            ]
          },
          "metadata": {
            "tags": []
          }
        },
        {
          "output_type": "display_data",
          "data": {
            "text/html": [
              "<pre>recommendations finished on 71000/96352 queries. users per second: 62053.4</pre>"
            ],
            "text/plain": [
              "recommendations finished on 71000/96352 queries. users per second: 62053.4"
            ]
          },
          "metadata": {
            "tags": []
          }
        },
        {
          "output_type": "display_data",
          "data": {
            "text/html": [
              "<pre>recommendations finished on 72000/96352 queries. users per second: 62066.2</pre>"
            ],
            "text/plain": [
              "recommendations finished on 72000/96352 queries. users per second: 62066.2"
            ]
          },
          "metadata": {
            "tags": []
          }
        },
        {
          "output_type": "display_data",
          "data": {
            "text/html": [
              "<pre>recommendations finished on 73000/96352 queries. users per second: 62084.9</pre>"
            ],
            "text/plain": [
              "recommendations finished on 73000/96352 queries. users per second: 62084.9"
            ]
          },
          "metadata": {
            "tags": []
          }
        },
        {
          "output_type": "display_data",
          "data": {
            "text/html": [
              "<pre>recommendations finished on 74000/96352 queries. users per second: 62071.7</pre>"
            ],
            "text/plain": [
              "recommendations finished on 74000/96352 queries. users per second: 62071.7"
            ]
          },
          "metadata": {
            "tags": []
          }
        },
        {
          "output_type": "display_data",
          "data": {
            "text/html": [
              "<pre>recommendations finished on 75000/96352 queries. users per second: 62058.5</pre>"
            ],
            "text/plain": [
              "recommendations finished on 75000/96352 queries. users per second: 62058.5"
            ]
          },
          "metadata": {
            "tags": []
          }
        },
        {
          "output_type": "display_data",
          "data": {
            "text/html": [
              "<pre>recommendations finished on 76000/96352 queries. users per second: 62065.8</pre>"
            ],
            "text/plain": [
              "recommendations finished on 76000/96352 queries. users per second: 62065.8"
            ]
          },
          "metadata": {
            "tags": []
          }
        },
        {
          "output_type": "display_data",
          "data": {
            "text/html": [
              "<pre>recommendations finished on 77000/96352 queries. users per second: 62095.5</pre>"
            ],
            "text/plain": [
              "recommendations finished on 77000/96352 queries. users per second: 62095.5"
            ]
          },
          "metadata": {
            "tags": []
          }
        },
        {
          "output_type": "display_data",
          "data": {
            "text/html": [
              "<pre>recommendations finished on 78000/96352 queries. users per second: 62112.3</pre>"
            ],
            "text/plain": [
              "recommendations finished on 78000/96352 queries. users per second: 62112.3"
            ]
          },
          "metadata": {
            "tags": []
          }
        },
        {
          "output_type": "display_data",
          "data": {
            "text/html": [
              "<pre>recommendations finished on 79000/96352 queries. users per second: 62141.3</pre>"
            ],
            "text/plain": [
              "recommendations finished on 79000/96352 queries. users per second: 62141.3"
            ]
          },
          "metadata": {
            "tags": []
          }
        },
        {
          "output_type": "display_data",
          "data": {
            "text/html": [
              "<pre>recommendations finished on 80000/96352 queries. users per second: 62130.3</pre>"
            ],
            "text/plain": [
              "recommendations finished on 80000/96352 queries. users per second: 62130.3"
            ]
          },
          "metadata": {
            "tags": []
          }
        },
        {
          "output_type": "display_data",
          "data": {
            "text/html": [
              "<pre>recommendations finished on 81000/96352 queries. users per second: 62115.3</pre>"
            ],
            "text/plain": [
              "recommendations finished on 81000/96352 queries. users per second: 62115.3"
            ]
          },
          "metadata": {
            "tags": []
          }
        },
        {
          "output_type": "display_data",
          "data": {
            "text/html": [
              "<pre>recommendations finished on 82000/96352 queries. users per second: 62097.3</pre>"
            ],
            "text/plain": [
              "recommendations finished on 82000/96352 queries. users per second: 62097.3"
            ]
          },
          "metadata": {
            "tags": []
          }
        },
        {
          "output_type": "display_data",
          "data": {
            "text/html": [
              "<pre>recommendations finished on 83000/96352 queries. users per second: 62099.3</pre>"
            ],
            "text/plain": [
              "recommendations finished on 83000/96352 queries. users per second: 62099.3"
            ]
          },
          "metadata": {
            "tags": []
          }
        },
        {
          "output_type": "display_data",
          "data": {
            "text/html": [
              "<pre>recommendations finished on 84000/96352 queries. users per second: 62087.6</pre>"
            ],
            "text/plain": [
              "recommendations finished on 84000/96352 queries. users per second: 62087.6"
            ]
          },
          "metadata": {
            "tags": []
          }
        },
        {
          "output_type": "display_data",
          "data": {
            "text/html": [
              "<pre>recommendations finished on 85000/96352 queries. users per second: 62098.1</pre>"
            ],
            "text/plain": [
              "recommendations finished on 85000/96352 queries. users per second: 62098.1"
            ]
          },
          "metadata": {
            "tags": []
          }
        },
        {
          "output_type": "display_data",
          "data": {
            "text/html": [
              "<pre>recommendations finished on 86000/96352 queries. users per second: 62106.2</pre>"
            ],
            "text/plain": [
              "recommendations finished on 86000/96352 queries. users per second: 62106.2"
            ]
          },
          "metadata": {
            "tags": []
          }
        },
        {
          "output_type": "display_data",
          "data": {
            "text/html": [
              "<pre>recommendations finished on 87000/96352 queries. users per second: 62145.7</pre>"
            ],
            "text/plain": [
              "recommendations finished on 87000/96352 queries. users per second: 62145.7"
            ]
          },
          "metadata": {
            "tags": []
          }
        },
        {
          "output_type": "display_data",
          "data": {
            "text/html": [
              "<pre>recommendations finished on 88000/96352 queries. users per second: 62153.2</pre>"
            ],
            "text/plain": [
              "recommendations finished on 88000/96352 queries. users per second: 62153.2"
            ]
          },
          "metadata": {
            "tags": []
          }
        },
        {
          "output_type": "display_data",
          "data": {
            "text/html": [
              "<pre>recommendations finished on 89000/96352 queries. users per second: 62150.3</pre>"
            ],
            "text/plain": [
              "recommendations finished on 89000/96352 queries. users per second: 62150.3"
            ]
          },
          "metadata": {
            "tags": []
          }
        },
        {
          "output_type": "display_data",
          "data": {
            "text/html": [
              "<pre>recommendations finished on 90000/96352 queries. users per second: 62149.7</pre>"
            ],
            "text/plain": [
              "recommendations finished on 90000/96352 queries. users per second: 62149.7"
            ]
          },
          "metadata": {
            "tags": []
          }
        },
        {
          "output_type": "display_data",
          "data": {
            "text/html": [
              "<pre>recommendations finished on 91000/96352 queries. users per second: 62152.7</pre>"
            ],
            "text/plain": [
              "recommendations finished on 91000/96352 queries. users per second: 62152.7"
            ]
          },
          "metadata": {
            "tags": []
          }
        },
        {
          "output_type": "display_data",
          "data": {
            "text/html": [
              "<pre>recommendations finished on 92000/96352 queries. users per second: 62112.8</pre>"
            ],
            "text/plain": [
              "recommendations finished on 92000/96352 queries. users per second: 62112.8"
            ]
          },
          "metadata": {
            "tags": []
          }
        },
        {
          "output_type": "display_data",
          "data": {
            "text/html": [
              "<pre>recommendations finished on 93000/96352 queries. users per second: 61679.5</pre>"
            ],
            "text/plain": [
              "recommendations finished on 93000/96352 queries. users per second: 61679.5"
            ]
          },
          "metadata": {
            "tags": []
          }
        },
        {
          "output_type": "display_data",
          "data": {
            "text/html": [
              "<pre>recommendations finished on 94000/96352 queries. users per second: 61410.9</pre>"
            ],
            "text/plain": [
              "recommendations finished on 94000/96352 queries. users per second: 61410.9"
            ]
          },
          "metadata": {
            "tags": []
          }
        },
        {
          "output_type": "display_data",
          "data": {
            "text/html": [
              "<pre>recommendations finished on 95000/96352 queries. users per second: 61159.9</pre>"
            ],
            "text/plain": [
              "recommendations finished on 95000/96352 queries. users per second: 61159.9"
            ]
          },
          "metadata": {
            "tags": []
          }
        },
        {
          "output_type": "display_data",
          "data": {
            "text/html": [
              "<pre>recommendations finished on 96000/96352 queries. users per second: 60870.2</pre>"
            ],
            "text/plain": [
              "recommendations finished on 96000/96352 queries. users per second: 60870.2"
            ]
          },
          "metadata": {
            "tags": []
          }
        },
        {
          "output_type": "stream",
          "text": [
            "Se han exportado las recomendaciones en Google drive\n"
          ],
          "name": "stdout"
        }
      ]
    }
  ]
}