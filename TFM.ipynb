{
  "nbformat": 4,
  "nbformat_minor": 0,
  "metadata": {
    "colab": {
      "name": "TFM.ipynb",
      "version": "0.3.2",
      "provenance": [],
      "collapsed_sections": [],
      "machine_shape": "hm"
    },
    "kernelspec": {
      "name": "python3",
      "display_name": "Python 3"
    }
  },
  "cells": [
    {
      "cell_type": "code",
      "metadata": {
        "id": "N4Cd8ajF8k-l",
        "colab_type": "code",
        "outputId": "59482c85-d2af-46e6-fdba-8da1bc2c0575",
        "colab": {
          "base_uri": "https://localhost:8080/",
          "height": 578
        }
      },
      "source": [
        "!pip install turicreate\n",
        "!pip install lifetimes"
      ],
      "execution_count": 0,
      "outputs": [
        {
          "output_type": "stream",
          "text": [
            "Requirement already satisfied: turicreate in /usr/local/lib/python3.6/dist-packages (5.7.1)\n",
            "Requirement already satisfied: scipy>=1.1.0 in /usr/local/lib/python3.6/dist-packages (from turicreate) (1.3.1)\n",
            "Requirement already satisfied: six>=1.10.0 in /usr/local/lib/python3.6/dist-packages (from turicreate) (1.12.0)\n",
            "Requirement already satisfied: requests>=2.9.1 in /usr/local/lib/python3.6/dist-packages (from turicreate) (2.21.0)\n",
            "Requirement already satisfied: numpy==1.16.4 in /usr/local/lib/python3.6/dist-packages (from turicreate) (1.16.4)\n",
            "Requirement already satisfied: decorator>=4.0.9 in /usr/local/lib/python3.6/dist-packages (from turicreate) (4.4.0)\n",
            "Requirement already satisfied: pillow>=5.2.0 in /usr/local/lib/python3.6/dist-packages (from turicreate) (6.1.0)\n",
            "Requirement already satisfied: pandas>=0.23.2 in /usr/local/lib/python3.6/dist-packages (from turicreate) (0.24.2)\n",
            "Requirement already satisfied: coremltools==3.0b3 in /usr/local/lib/python3.6/dist-packages (from turicreate) (3.0b3)\n",
            "Requirement already satisfied: prettytable==0.7.2 in /usr/local/lib/python3.6/dist-packages (from turicreate) (0.7.2)\n",
            "Requirement already satisfied: resampy==0.2.1 in /usr/local/lib/python3.6/dist-packages (from turicreate) (0.2.1)\n",
            "Requirement already satisfied: mxnet<1.2.0,>=1.1.0 in /usr/local/lib/python3.6/dist-packages (from turicreate) (1.1.0.post0)\n",
            "Requirement already satisfied: urllib3<1.25,>=1.21.1 in /usr/local/lib/python3.6/dist-packages (from requests>=2.9.1->turicreate) (1.24.3)\n",
            "Requirement already satisfied: certifi>=2017.4.17 in /usr/local/lib/python3.6/dist-packages (from requests>=2.9.1->turicreate) (2019.6.16)\n",
            "Requirement already satisfied: idna<2.9,>=2.5 in /usr/local/lib/python3.6/dist-packages (from requests>=2.9.1->turicreate) (2.8)\n",
            "Requirement already satisfied: chardet<3.1.0,>=3.0.2 in /usr/local/lib/python3.6/dist-packages (from requests>=2.9.1->turicreate) (3.0.4)\n",
            "Requirement already satisfied: pytz>=2011k in /usr/local/lib/python3.6/dist-packages (from pandas>=0.23.2->turicreate) (2018.9)\n",
            "Requirement already satisfied: python-dateutil>=2.5.0 in /usr/local/lib/python3.6/dist-packages (from pandas>=0.23.2->turicreate) (2.5.3)\n",
            "Requirement already satisfied: protobuf>=3.1.0 in /usr/local/lib/python3.6/dist-packages (from coremltools==3.0b3->turicreate) (3.7.1)\n",
            "Requirement already satisfied: numba>=0.32 in /usr/local/lib/python3.6/dist-packages (from resampy==0.2.1->turicreate) (0.40.1)\n",
            "Requirement already satisfied: graphviz<0.9.0,>=0.8.1 in /usr/local/lib/python3.6/dist-packages (from mxnet<1.2.0,>=1.1.0->turicreate) (0.8.4)\n",
            "Requirement already satisfied: setuptools in /usr/local/lib/python3.6/dist-packages (from protobuf>=3.1.0->coremltools==3.0b3->turicreate) (41.2.0)\n",
            "Requirement already satisfied: llvmlite>=0.25.0dev0 in /usr/local/lib/python3.6/dist-packages (from numba>=0.32->resampy==0.2.1->turicreate) (0.29.0)\n",
            "Requirement already satisfied: lifetimes in /usr/local/lib/python3.6/dist-packages (0.11.1)\n",
            "Requirement already satisfied: scipy>=1.0.0 in /usr/local/lib/python3.6/dist-packages (from lifetimes) (1.3.1)\n",
            "Requirement already satisfied: autograd>=1.2.0 in /usr/local/lib/python3.6/dist-packages (from lifetimes) (1.3)\n",
            "Requirement already satisfied: pandas>=0.24.0 in /usr/local/lib/python3.6/dist-packages (from lifetimes) (0.24.2)\n",
            "Requirement already satisfied: dill>=0.2.6 in /usr/local/lib/python3.6/dist-packages (from lifetimes) (0.3.0)\n",
            "Requirement already satisfied: numpy>=1.10.0 in /usr/local/lib/python3.6/dist-packages (from lifetimes) (1.16.4)\n",
            "Requirement already satisfied: future>=0.15.2 in /usr/local/lib/python3.6/dist-packages (from autograd>=1.2.0->lifetimes) (0.16.0)\n",
            "Requirement already satisfied: python-dateutil>=2.5.0 in /usr/local/lib/python3.6/dist-packages (from pandas>=0.24.0->lifetimes) (2.5.3)\n",
            "Requirement already satisfied: pytz>=2011k in /usr/local/lib/python3.6/dist-packages (from pandas>=0.24.0->lifetimes) (2018.9)\n",
            "Requirement already satisfied: six>=1.5 in /usr/local/lib/python3.6/dist-packages (from python-dateutil>=2.5.0->pandas>=0.24.0->lifetimes) (1.12.0)\n"
          ],
          "name": "stdout"
        }
      ]
    },
    {
      "cell_type": "code",
      "metadata": {
        "id": "ON2L7FdD7yG2",
        "colab_type": "code",
        "colab": {}
      },
      "source": [
        "\n",
        "import seaborn as sns\n",
        "import matplotlib.pyplot as plt\n",
        "import pandas as pd\n",
        "import numpy as np\n",
        "%matplotlib inline\n",
        "from sklearn.metrics.pairwise import cosine_similarity\n",
        "from sklearn.cluster import KMeans\n",
        "from sklearn.metrics import silhouette_score\n",
        "import time\n",
        "import turicreate as tc\n",
        "from sklearn.model_selection import train_test_split\n",
        "from sklearn.preprocessing import StandardScaler\n",
        "from google.colab import files\n",
        "from lifetimes.utils import *\n",
        "from lifetimes import BetaGeoFitter,GammaGammaFitter\n",
        "from lifetimes.plotting import plot_probability_alive_matrix, plot_frequency_recency_matrix, plot_period_transactions, plot_cumulative_transactions,plot_incremental_transactions\n",
        "from lifetimes.generate_data import beta_geometric_nbd_model\n",
        "from lifetimes.plotting import plot_calibration_purchases_vs_holdout_purchases, plot_period_transactions,plot_history_alive\n",
        "import sys\n",
        "sys.path.append(\"..\")\n",
        "## Algoritmos de ML\n",
        "from sklearn.metrics import classification_report, confusion_matrix, accuracy_score\n",
        "from sklearn.ensemble import RandomForestClassifier as rfc\n",
        "from sklearn.svm import SVC as svc \n",
        "from sklearn.linear_model import LogisticRegression\n",
        "from sklearn.ensemble import GradientBoostingClassifier\n",
        "\n",
        "from sklearn import tree\n",
        "import graphviz \n",
        "from sklearn import metrics\n",
        "\n",
        "from sklearn import tree\n",
        "from sklearn import svm\n",
        "from sklearn import ensemble\n",
        "from sklearn import neighbors\n",
        "from sklearn import linear_model\n",
        "from sklearn import preprocessing\n",
        "\n",
        "## Codificación de caracteristicas\n",
        "#from sklearn import preprocessing"
      ],
      "execution_count": 0,
      "outputs": []
    },
    {
      "cell_type": "code",
      "metadata": {
        "id": "PzzO96Au7oiw",
        "colab_type": "code",
        "colab": {}
      },
      "source": [
        "url = 'https://github.com/masdatascience/TFM-AI/blob/master/datos.xlsx?raw=true'\n",
        "datos_modelo = pd.ExcelFile(url)"
      ],
      "execution_count": 0,
      "outputs": []
    },
    {
      "cell_type": "code",
      "metadata": {
        "id": "xxQs0wQq8LXw",
        "colab_type": "code",
        "outputId": "0e1d7469-263a-4ff3-c0d3-5a90a2dde205",
        "colab": {
          "base_uri": "https://localhost:8080/",
          "height": 258
        }
      },
      "source": [
        "datos_facturacion = pd.read_excel(datos_modelo, sheet_name='fac_txn')\n",
        "# Se elimian los datos nulos de las dimensiones importantes del analisis que son productos y clientes\n",
        "datos_facturacion = datos_facturacion.dropna(subset=['customer_id'])\n",
        "datos_facturacion = datos_facturacion.dropna(subset=['product_id'])\n",
        "# Se elimina posibles chargeback que se presenten\n",
        "datos_facturacion = datos_facturacion.loc[datos_facturacion['total_value'] > 0]\n",
        "# Se descarcatan las ordenes que han sido canceladas\n",
        "#datos_facturacion = datos_facturacion.loc[datos_facturacion['order_status'] != 'canceled']\n",
        "print(datos_facturacion.shape)\n",
        "datos_producto = pd.read_excel(datos_modelo, sheet_name='product')\n",
        "datos_clientes = pd.read_excel(datos_modelo, sheet_name='customer')\n",
        "print(datos_producto.shape)\n",
        "datos_facturacion.head()"
      ],
      "execution_count": 0,
      "outputs": [
        {
          "output_type": "stream",
          "text": [
            "(10000, 22)\n",
            "(6088, 10)\n"
          ],
          "name": "stdout"
        },
        {
          "output_type": "execute_result",
          "data": {
            "text/html": [
              "<div>\n",
              "<style scoped>\n",
              "    .dataframe tbody tr th:only-of-type {\n",
              "        vertical-align: middle;\n",
              "    }\n",
              "\n",
              "    .dataframe tbody tr th {\n",
              "        vertical-align: top;\n",
              "    }\n",
              "\n",
              "    .dataframe thead th {\n",
              "        text-align: right;\n",
              "    }\n",
              "</style>\n",
              "<table border=\"1\" class=\"dataframe\">\n",
              "  <thead>\n",
              "    <tr style=\"text-align: right;\">\n",
              "      <th></th>\n",
              "      <th>order_id</th>\n",
              "      <th>order_item_id</th>\n",
              "      <th>product_id</th>\n",
              "      <th>customer_id</th>\n",
              "      <th>customer_zip_code_prefix</th>\n",
              "      <th>seller_id</th>\n",
              "      <th>shipping_limit_date</th>\n",
              "      <th>price</th>\n",
              "      <th>freight_value</th>\n",
              "      <th>total_value</th>\n",
              "      <th>credit_card</th>\n",
              "      <th>debit_card</th>\n",
              "      <th>boleto</th>\n",
              "      <th>voucher</th>\n",
              "      <th>not_defined</th>\n",
              "      <th>num_txn</th>\n",
              "      <th>order_status</th>\n",
              "      <th>order_purchase_timestamp</th>\n",
              "      <th>order_approved_at</th>\n",
              "      <th>order_delivered_carrier_date</th>\n",
              "      <th>order_delivered_customer_date</th>\n",
              "      <th>order_estimated_delivery_date</th>\n",
              "    </tr>\n",
              "  </thead>\n",
              "  <tbody>\n",
              "    <tr>\n",
              "      <th>0</th>\n",
              "      <td>00010242fe8c5a6d1ba2dd792cb16214</td>\n",
              "      <td>1</td>\n",
              "      <td>4244733e06e7ecb4970a6e2683c13e61</td>\n",
              "      <td>871766c5855e863f6eccc05f988b23cb</td>\n",
              "      <td>28013</td>\n",
              "      <td>48436dade18ac8b2bce089ec2a041202</td>\n",
              "      <td>2017-09-19 09:45:35</td>\n",
              "      <td>5890</td>\n",
              "      <td>1329</td>\n",
              "      <td>7219</td>\n",
              "      <td>7219</td>\n",
              "      <td>0</td>\n",
              "      <td>0</td>\n",
              "      <td>0</td>\n",
              "      <td>0</td>\n",
              "      <td>1</td>\n",
              "      <td>delivered</td>\n",
              "      <td>2017-09-13 08:59:02</td>\n",
              "      <td>2017-09-13 09:45:35</td>\n",
              "      <td>2017-09-19 18:34:16</td>\n",
              "      <td>2017-09-20 23:43:48</td>\n",
              "      <td>2017-09-29</td>\n",
              "    </tr>\n",
              "    <tr>\n",
              "      <th>1</th>\n",
              "      <td>00018f77f2f0320c557190d7a144bdd3</td>\n",
              "      <td>1</td>\n",
              "      <td>e5f2d52b802189ee658865ca93d83a8f</td>\n",
              "      <td>eb28e67c4c0b83846050ddfb8a35d051</td>\n",
              "      <td>15775</td>\n",
              "      <td>dd7ddc04e1b6c2c614352b383efe2d36</td>\n",
              "      <td>2017-05-03 11:05:13</td>\n",
              "      <td>23990</td>\n",
              "      <td>1993</td>\n",
              "      <td>25983</td>\n",
              "      <td>25983</td>\n",
              "      <td>0</td>\n",
              "      <td>0</td>\n",
              "      <td>0</td>\n",
              "      <td>0</td>\n",
              "      <td>1</td>\n",
              "      <td>delivered</td>\n",
              "      <td>2017-04-26 10:53:06</td>\n",
              "      <td>2017-04-26 11:05:13</td>\n",
              "      <td>2017-05-04 14:35:00</td>\n",
              "      <td>2017-05-12 16:04:24</td>\n",
              "      <td>2017-05-15</td>\n",
              "    </tr>\n",
              "    <tr>\n",
              "      <th>2</th>\n",
              "      <td>000229ec398224ef6ca0657da4fc703e</td>\n",
              "      <td>1</td>\n",
              "      <td>c777355d18b72b67abbeef9df44fd0fd</td>\n",
              "      <td>3818d81c6709e39d06b2738a8d3a2474</td>\n",
              "      <td>35661</td>\n",
              "      <td>5b51032eddd242adc84c38acab88f23d</td>\n",
              "      <td>2018-01-18 14:48:30</td>\n",
              "      <td>19900</td>\n",
              "      <td>1787</td>\n",
              "      <td>21687</td>\n",
              "      <td>21687</td>\n",
              "      <td>0</td>\n",
              "      <td>0</td>\n",
              "      <td>0</td>\n",
              "      <td>0</td>\n",
              "      <td>1</td>\n",
              "      <td>delivered</td>\n",
              "      <td>2018-01-14 14:33:31</td>\n",
              "      <td>2018-01-14 14:48:30</td>\n",
              "      <td>2018-01-16 12:36:48</td>\n",
              "      <td>2018-01-22 13:19:16</td>\n",
              "      <td>2018-02-05</td>\n",
              "    </tr>\n",
              "    <tr>\n",
              "      <th>3</th>\n",
              "      <td>00024acbcdf0a6daa1e931b038114c75</td>\n",
              "      <td>1</td>\n",
              "      <td>7634da152a4610f1595efa32f14722fc</td>\n",
              "      <td>af861d436cfc08b2c2ddefd0ba074622</td>\n",
              "      <td>12952</td>\n",
              "      <td>9d7a1d34a5052409006425275ba1c2b4</td>\n",
              "      <td>2018-08-15 10:10:18</td>\n",
              "      <td>1299</td>\n",
              "      <td>1279</td>\n",
              "      <td>2578</td>\n",
              "      <td>2578</td>\n",
              "      <td>0</td>\n",
              "      <td>0</td>\n",
              "      <td>0</td>\n",
              "      <td>0</td>\n",
              "      <td>1</td>\n",
              "      <td>delivered</td>\n",
              "      <td>2018-08-08 10:00:35</td>\n",
              "      <td>2018-08-08 10:10:18</td>\n",
              "      <td>2018-08-10 13:28:00</td>\n",
              "      <td>2018-08-14 13:32:39</td>\n",
              "      <td>2018-08-20</td>\n",
              "    </tr>\n",
              "    <tr>\n",
              "      <th>4</th>\n",
              "      <td>00042b26cf59d7ce69dfabb4e55b4fd9</td>\n",
              "      <td>1</td>\n",
              "      <td>ac6c3623068f30de03045865e4e10089</td>\n",
              "      <td>64b576fb70d441e8f1b2d7d446e483c5</td>\n",
              "      <td>13226</td>\n",
              "      <td>df560393f3a51e74553ab94004ba5c87</td>\n",
              "      <td>2017-02-13 13:57:51</td>\n",
              "      <td>19990</td>\n",
              "      <td>1814</td>\n",
              "      <td>21804</td>\n",
              "      <td>21804</td>\n",
              "      <td>0</td>\n",
              "      <td>0</td>\n",
              "      <td>0</td>\n",
              "      <td>0</td>\n",
              "      <td>1</td>\n",
              "      <td>delivered</td>\n",
              "      <td>2017-02-04 13:57:51</td>\n",
              "      <td>2017-02-04 14:10:13</td>\n",
              "      <td>2017-02-16 09:46:09</td>\n",
              "      <td>2017-03-01 16:42:31</td>\n",
              "      <td>2017-03-17</td>\n",
              "    </tr>\n",
              "  </tbody>\n",
              "</table>\n",
              "</div>"
            ],
            "text/plain": [
              "                           order_id  ...  order_estimated_delivery_date\n",
              "0  00010242fe8c5a6d1ba2dd792cb16214  ...                     2017-09-29\n",
              "1  00018f77f2f0320c557190d7a144bdd3  ...                     2017-05-15\n",
              "2  000229ec398224ef6ca0657da4fc703e  ...                     2018-02-05\n",
              "3  00024acbcdf0a6daa1e931b038114c75  ...                     2018-08-20\n",
              "4  00042b26cf59d7ce69dfabb4e55b4fd9  ...                     2017-03-17\n",
              "\n",
              "[5 rows x 22 columns]"
            ]
          },
          "metadata": {
            "tags": []
          },
          "execution_count": 198
        }
      ]
    },
    {
      "cell_type": "markdown",
      "metadata": {
        "id": "LnKsW0rz9nCj",
        "colab_type": "text"
      },
      "source": [
        "## 1. MOTOR DE RECOMENDACIÓN"
      ]
    },
    {
      "cell_type": "code",
      "metadata": {
        "id": "xs6yCSsK8xf2",
        "colab_type": "code",
        "outputId": "0afea272-fd2d-44e6-f319-a52deeb9f7fe",
        "colab": {
          "base_uri": "https://localhost:8080/",
          "height": 284
        }
      },
      "source": [
        "matrix_usuario_producto =pd.crosstab(datos_facturacion['customer_id'],datos_facturacion['product_id'],values=datos_facturacion['total_value'], aggfunc='sum', margins=True, margins_name=\"total_value\")\n",
        "matrix_usuario_producto.head()\n",
        "\n"
      ],
      "execution_count": 0,
      "outputs": [
        {
          "output_type": "execute_result",
          "data": {
            "text/html": [
              "<div>\n",
              "<style scoped>\n",
              "    .dataframe tbody tr th:only-of-type {\n",
              "        vertical-align: middle;\n",
              "    }\n",
              "\n",
              "    .dataframe tbody tr th {\n",
              "        vertical-align: top;\n",
              "    }\n",
              "\n",
              "    .dataframe thead th {\n",
              "        text-align: right;\n",
              "    }\n",
              "</style>\n",
              "<table border=\"1\" class=\"dataframe\">\n",
              "  <thead>\n",
              "    <tr style=\"text-align: right;\">\n",
              "      <th>product_id</th>\n",
              "      <th>0009406fd7479715e4bef61dd91f2462</th>\n",
              "      <th>001b72dfd63e9833e8c02742adf472e3</th>\n",
              "      <th>002c6dab60557c48cfd6c2222ef7fd76</th>\n",
              "      <th>0030e635639c898b323826589761cf23</th>\n",
              "      <th>004636c889c7c3dad6631f136b7fa082</th>\n",
              "      <th>005030ef108f58b46b78116f754d8d38</th>\n",
              "      <th>006baa9a5b8f95895f15273a35bc2664</th>\n",
              "      <th>008cff0e5792219fae03e570f980b330</th>\n",
              "      <th>00905d58c87afcbce21420b3712cacaa</th>\n",
              "      <th>00917855135d67fb060dcd81863166a4</th>\n",
              "      <th>00929aaa7751a77220db9caa1ae6d3ab</th>\n",
              "      <th>00989337a1916a0055eedd1fdb35eb53</th>\n",
              "      <th>009af1277432f1a05742df69cdf72d1e</th>\n",
              "      <th>00ab8a8b9fe219511dc3f178c6d79698</th>\n",
              "      <th>00ba6d766f0b1d7b78a5ce3e1e033263</th>\n",
              "      <th>00baba5b58e274d0332a0c8a0a66f877</th>\n",
              "      <th>00cc15e0cef551848c797ab75ba904b1</th>\n",
              "      <th>00dc8a1b2de45a7fca5921544e5f351d</th>\n",
              "      <th>00de7f393d962717eeeb2d7131a40dba</th>\n",
              "      <th>00faa46f36261af8bbf3a4d37fa4841b</th>\n",
              "      <th>00fefaf41156bb4b0d850fb27da97897</th>\n",
              "      <th>00ffe57f0110d73fd84d162252b2c784</th>\n",
              "      <th>0103208eb1ea5a1a7359c0251a65e37a</th>\n",
              "      <th>011967a30ceeaa86acb72e79664544ad</th>\n",
              "      <th>0127db1f4effcf8f5b88d80588bc5624</th>\n",
              "      <th>013ee64977aaa6b2b25475095162e0e9</th>\n",
              "      <th>014a8a503291921f7b004a5215bb3c36</th>\n",
              "      <th>0152f69b6cf919bcdaf117aa8c43e5a2</th>\n",
              "      <th>01545847403c0f1e69d76654d66be35c</th>\n",
              "      <th>0164201c7c8b81dc5779e015e2d7be59</th>\n",
              "      <th>016711f78a6a87696645db0a6a834826</th>\n",
              "      <th>016cae136d358dcdacbd7ac9f1864c09</th>\n",
              "      <th>017692475c1c954ff597feda05131d73</th>\n",
              "      <th>0176bf7839ab4e611dc01cdc3ef6f4e4</th>\n",
              "      <th>01a5038835acf17f141c7247956b72d6</th>\n",
              "      <th>01a88bd2633c52bcc66348307cb3ae15</th>\n",
              "      <th>01b0238705b6ae8e35c6fea837e6ae4a</th>\n",
              "      <th>01bacce2c74317ed2524bcaabae2e9d4</th>\n",
              "      <th>01c666c82f414c762ad21bffa56e8b49</th>\n",
              "      <th>01c9a70868bec5b748c67fcc26ce5895</th>\n",
              "      <th>...</th>\n",
              "      <th>fe61253e50ad6ee9f1d180da22ce5eef</th>\n",
              "      <th>fe6a9515d655fa7936b8a7c841039f34</th>\n",
              "      <th>fe75529a267b76ac6e96f0c322a899a4</th>\n",
              "      <th>fe7ad3e3828f32193dfbe6359f733a8f</th>\n",
              "      <th>fe9dfbe7f974621789683b7b78be2a16</th>\n",
              "      <th>fea7f0c147905a41ca324c0e3234a4c7</th>\n",
              "      <th>fec3b45dc09b257690a09a742870b149</th>\n",
              "      <th>fec85e6c0eab9b4bcddf9ccd917c80bc</th>\n",
              "      <th>fecf6223a3494f35362f670e571d2a04</th>\n",
              "      <th>fed2dca7ba471a3942a070e00ae17381</th>\n",
              "      <th>fed5c40c27e1c88560a9e92d82ee0825</th>\n",
              "      <th>fedbf77eb491dfc9ac276b9ea9ee10c6</th>\n",
              "      <th>feddfbd2585f9007f7ed77b1d1ae8d80</th>\n",
              "      <th>fef0296e6442db59700c92c692c90e90</th>\n",
              "      <th>ff28477a5bcb2fc34bb86a6c2eea1566</th>\n",
              "      <th>ff29d8cb1cd0cd5ea37b80dac9939e1c</th>\n",
              "      <th>ff2b293ae4b3c204113bdec91e27a584</th>\n",
              "      <th>ff415a8a6bfbaf8244f4ee0c7c30d905</th>\n",
              "      <th>ff4f5b008c32f80c3f952b2b56a28e04</th>\n",
              "      <th>ff5d87897ed26d564711df324b98ebee</th>\n",
              "      <th>ff5ecb2f7628793844e861076ab8e467</th>\n",
              "      <th>ff5f8606556b625613f069a5a9a48966</th>\n",
              "      <th>ff6caf9340512b8bf6d2a2a6df032cfa</th>\n",
              "      <th>ff7aa48b8bc68495866b40c4010d58c9</th>\n",
              "      <th>ff7fccf8513f360157f0660fe51d1d88</th>\n",
              "      <th>ff8bd09f659b88af06fdfea61a8b7b45</th>\n",
              "      <th>ff9032482857269e8683f0c2f8ba4709</th>\n",
              "      <th>ff92ca9bb0b3f4ec00a9b76c9f68cb3a</th>\n",
              "      <th>ff95ac47246ef13e48712ea1ff8df0d9</th>\n",
              "      <th>ff96895c6b1d31f34b2d82f86670fa85</th>\n",
              "      <th>ffb2e8c1ddc7c3e590d2bc4c91de53e1</th>\n",
              "      <th>ffbc83054b3741a8d67fc59d9cf9d42d</th>\n",
              "      <th>ffbfa9e143fda4420454d0f4e88a3cd5</th>\n",
              "      <th>ffc0b406806006602c5853b00ab5f7fd</th>\n",
              "      <th>ffc9caf33e2d1e9f44e3e06da19085f7</th>\n",
              "      <th>ffccf0ce5eff1a158891296990107d08</th>\n",
              "      <th>ffd34459c21034d1da6df9800de0d7a3</th>\n",
              "      <th>ffd4bf4306745865e5692f69bd237893</th>\n",
              "      <th>ffd63ee42a5c8cc5a15a1c8e2aa50011</th>\n",
              "      <th>total_value</th>\n",
              "    </tr>\n",
              "    <tr>\n",
              "      <th>customer_id</th>\n",
              "      <th></th>\n",
              "      <th></th>\n",
              "      <th></th>\n",
              "      <th></th>\n",
              "      <th></th>\n",
              "      <th></th>\n",
              "      <th></th>\n",
              "      <th></th>\n",
              "      <th></th>\n",
              "      <th></th>\n",
              "      <th></th>\n",
              "      <th></th>\n",
              "      <th></th>\n",
              "      <th></th>\n",
              "      <th></th>\n",
              "      <th></th>\n",
              "      <th></th>\n",
              "      <th></th>\n",
              "      <th></th>\n",
              "      <th></th>\n",
              "      <th></th>\n",
              "      <th></th>\n",
              "      <th></th>\n",
              "      <th></th>\n",
              "      <th></th>\n",
              "      <th></th>\n",
              "      <th></th>\n",
              "      <th></th>\n",
              "      <th></th>\n",
              "      <th></th>\n",
              "      <th></th>\n",
              "      <th></th>\n",
              "      <th></th>\n",
              "      <th></th>\n",
              "      <th></th>\n",
              "      <th></th>\n",
              "      <th></th>\n",
              "      <th></th>\n",
              "      <th></th>\n",
              "      <th></th>\n",
              "      <th></th>\n",
              "      <th></th>\n",
              "      <th></th>\n",
              "      <th></th>\n",
              "      <th></th>\n",
              "      <th></th>\n",
              "      <th></th>\n",
              "      <th></th>\n",
              "      <th></th>\n",
              "      <th></th>\n",
              "      <th></th>\n",
              "      <th></th>\n",
              "      <th></th>\n",
              "      <th></th>\n",
              "      <th></th>\n",
              "      <th></th>\n",
              "      <th></th>\n",
              "      <th></th>\n",
              "      <th></th>\n",
              "      <th></th>\n",
              "      <th></th>\n",
              "      <th></th>\n",
              "      <th></th>\n",
              "      <th></th>\n",
              "      <th></th>\n",
              "      <th></th>\n",
              "      <th></th>\n",
              "      <th></th>\n",
              "      <th></th>\n",
              "      <th></th>\n",
              "      <th></th>\n",
              "      <th></th>\n",
              "      <th></th>\n",
              "      <th></th>\n",
              "      <th></th>\n",
              "      <th></th>\n",
              "      <th></th>\n",
              "      <th></th>\n",
              "      <th></th>\n",
              "      <th></th>\n",
              "      <th></th>\n",
              "    </tr>\n",
              "  </thead>\n",
              "  <tbody>\n",
              "    <tr>\n",
              "      <th>0005ef4cd20d2893f0d9fbd94d3c0d97</th>\n",
              "      <td>NaN</td>\n",
              "      <td>NaN</td>\n",
              "      <td>NaN</td>\n",
              "      <td>NaN</td>\n",
              "      <td>NaN</td>\n",
              "      <td>NaN</td>\n",
              "      <td>NaN</td>\n",
              "      <td>NaN</td>\n",
              "      <td>NaN</td>\n",
              "      <td>NaN</td>\n",
              "      <td>NaN</td>\n",
              "      <td>NaN</td>\n",
              "      <td>NaN</td>\n",
              "      <td>NaN</td>\n",
              "      <td>NaN</td>\n",
              "      <td>NaN</td>\n",
              "      <td>NaN</td>\n",
              "      <td>NaN</td>\n",
              "      <td>NaN</td>\n",
              "      <td>NaN</td>\n",
              "      <td>NaN</td>\n",
              "      <td>NaN</td>\n",
              "      <td>NaN</td>\n",
              "      <td>NaN</td>\n",
              "      <td>NaN</td>\n",
              "      <td>NaN</td>\n",
              "      <td>NaN</td>\n",
              "      <td>NaN</td>\n",
              "      <td>NaN</td>\n",
              "      <td>NaN</td>\n",
              "      <td>NaN</td>\n",
              "      <td>NaN</td>\n",
              "      <td>NaN</td>\n",
              "      <td>NaN</td>\n",
              "      <td>NaN</td>\n",
              "      <td>NaN</td>\n",
              "      <td>NaN</td>\n",
              "      <td>NaN</td>\n",
              "      <td>NaN</td>\n",
              "      <td>NaN</td>\n",
              "      <td>...</td>\n",
              "      <td>NaN</td>\n",
              "      <td>NaN</td>\n",
              "      <td>NaN</td>\n",
              "      <td>NaN</td>\n",
              "      <td>NaN</td>\n",
              "      <td>NaN</td>\n",
              "      <td>NaN</td>\n",
              "      <td>NaN</td>\n",
              "      <td>NaN</td>\n",
              "      <td>NaN</td>\n",
              "      <td>NaN</td>\n",
              "      <td>NaN</td>\n",
              "      <td>NaN</td>\n",
              "      <td>NaN</td>\n",
              "      <td>NaN</td>\n",
              "      <td>NaN</td>\n",
              "      <td>NaN</td>\n",
              "      <td>NaN</td>\n",
              "      <td>NaN</td>\n",
              "      <td>NaN</td>\n",
              "      <td>NaN</td>\n",
              "      <td>NaN</td>\n",
              "      <td>NaN</td>\n",
              "      <td>NaN</td>\n",
              "      <td>NaN</td>\n",
              "      <td>NaN</td>\n",
              "      <td>NaN</td>\n",
              "      <td>NaN</td>\n",
              "      <td>NaN</td>\n",
              "      <td>NaN</td>\n",
              "      <td>NaN</td>\n",
              "      <td>NaN</td>\n",
              "      <td>NaN</td>\n",
              "      <td>NaN</td>\n",
              "      <td>NaN</td>\n",
              "      <td>NaN</td>\n",
              "      <td>NaN</td>\n",
              "      <td>NaN</td>\n",
              "      <td>NaN</td>\n",
              "      <td>12976</td>\n",
              "    </tr>\n",
              "    <tr>\n",
              "      <th>001ae5a1788703d64536c30362503e49</th>\n",
              "      <td>NaN</td>\n",
              "      <td>NaN</td>\n",
              "      <td>NaN</td>\n",
              "      <td>NaN</td>\n",
              "      <td>NaN</td>\n",
              "      <td>NaN</td>\n",
              "      <td>NaN</td>\n",
              "      <td>NaN</td>\n",
              "      <td>NaN</td>\n",
              "      <td>NaN</td>\n",
              "      <td>NaN</td>\n",
              "      <td>NaN</td>\n",
              "      <td>NaN</td>\n",
              "      <td>NaN</td>\n",
              "      <td>NaN</td>\n",
              "      <td>NaN</td>\n",
              "      <td>NaN</td>\n",
              "      <td>NaN</td>\n",
              "      <td>NaN</td>\n",
              "      <td>NaN</td>\n",
              "      <td>NaN</td>\n",
              "      <td>NaN</td>\n",
              "      <td>NaN</td>\n",
              "      <td>NaN</td>\n",
              "      <td>NaN</td>\n",
              "      <td>NaN</td>\n",
              "      <td>NaN</td>\n",
              "      <td>NaN</td>\n",
              "      <td>NaN</td>\n",
              "      <td>NaN</td>\n",
              "      <td>NaN</td>\n",
              "      <td>NaN</td>\n",
              "      <td>NaN</td>\n",
              "      <td>NaN</td>\n",
              "      <td>NaN</td>\n",
              "      <td>NaN</td>\n",
              "      <td>NaN</td>\n",
              "      <td>NaN</td>\n",
              "      <td>NaN</td>\n",
              "      <td>NaN</td>\n",
              "      <td>...</td>\n",
              "      <td>NaN</td>\n",
              "      <td>NaN</td>\n",
              "      <td>NaN</td>\n",
              "      <td>NaN</td>\n",
              "      <td>NaN</td>\n",
              "      <td>NaN</td>\n",
              "      <td>NaN</td>\n",
              "      <td>NaN</td>\n",
              "      <td>NaN</td>\n",
              "      <td>NaN</td>\n",
              "      <td>NaN</td>\n",
              "      <td>NaN</td>\n",
              "      <td>NaN</td>\n",
              "      <td>NaN</td>\n",
              "      <td>NaN</td>\n",
              "      <td>NaN</td>\n",
              "      <td>NaN</td>\n",
              "      <td>NaN</td>\n",
              "      <td>NaN</td>\n",
              "      <td>NaN</td>\n",
              "      <td>NaN</td>\n",
              "      <td>NaN</td>\n",
              "      <td>NaN</td>\n",
              "      <td>NaN</td>\n",
              "      <td>NaN</td>\n",
              "      <td>NaN</td>\n",
              "      <td>NaN</td>\n",
              "      <td>NaN</td>\n",
              "      <td>NaN</td>\n",
              "      <td>NaN</td>\n",
              "      <td>NaN</td>\n",
              "      <td>NaN</td>\n",
              "      <td>NaN</td>\n",
              "      <td>NaN</td>\n",
              "      <td>NaN</td>\n",
              "      <td>NaN</td>\n",
              "      <td>NaN</td>\n",
              "      <td>NaN</td>\n",
              "      <td>NaN</td>\n",
              "      <td>13508</td>\n",
              "    </tr>\n",
              "    <tr>\n",
              "      <th>0027324a96d26a2bc7d69262f83c8403</th>\n",
              "      <td>NaN</td>\n",
              "      <td>NaN</td>\n",
              "      <td>NaN</td>\n",
              "      <td>NaN</td>\n",
              "      <td>NaN</td>\n",
              "      <td>NaN</td>\n",
              "      <td>NaN</td>\n",
              "      <td>NaN</td>\n",
              "      <td>NaN</td>\n",
              "      <td>NaN</td>\n",
              "      <td>NaN</td>\n",
              "      <td>NaN</td>\n",
              "      <td>NaN</td>\n",
              "      <td>NaN</td>\n",
              "      <td>NaN</td>\n",
              "      <td>NaN</td>\n",
              "      <td>NaN</td>\n",
              "      <td>NaN</td>\n",
              "      <td>NaN</td>\n",
              "      <td>NaN</td>\n",
              "      <td>NaN</td>\n",
              "      <td>NaN</td>\n",
              "      <td>NaN</td>\n",
              "      <td>NaN</td>\n",
              "      <td>NaN</td>\n",
              "      <td>NaN</td>\n",
              "      <td>NaN</td>\n",
              "      <td>NaN</td>\n",
              "      <td>NaN</td>\n",
              "      <td>NaN</td>\n",
              "      <td>NaN</td>\n",
              "      <td>NaN</td>\n",
              "      <td>NaN</td>\n",
              "      <td>NaN</td>\n",
              "      <td>NaN</td>\n",
              "      <td>NaN</td>\n",
              "      <td>NaN</td>\n",
              "      <td>NaN</td>\n",
              "      <td>NaN</td>\n",
              "      <td>NaN</td>\n",
              "      <td>...</td>\n",
              "      <td>NaN</td>\n",
              "      <td>NaN</td>\n",
              "      <td>NaN</td>\n",
              "      <td>NaN</td>\n",
              "      <td>NaN</td>\n",
              "      <td>NaN</td>\n",
              "      <td>NaN</td>\n",
              "      <td>NaN</td>\n",
              "      <td>NaN</td>\n",
              "      <td>NaN</td>\n",
              "      <td>NaN</td>\n",
              "      <td>NaN</td>\n",
              "      <td>NaN</td>\n",
              "      <td>NaN</td>\n",
              "      <td>NaN</td>\n",
              "      <td>NaN</td>\n",
              "      <td>NaN</td>\n",
              "      <td>NaN</td>\n",
              "      <td>NaN</td>\n",
              "      <td>NaN</td>\n",
              "      <td>NaN</td>\n",
              "      <td>NaN</td>\n",
              "      <td>NaN</td>\n",
              "      <td>NaN</td>\n",
              "      <td>NaN</td>\n",
              "      <td>NaN</td>\n",
              "      <td>NaN</td>\n",
              "      <td>NaN</td>\n",
              "      <td>NaN</td>\n",
              "      <td>NaN</td>\n",
              "      <td>NaN</td>\n",
              "      <td>NaN</td>\n",
              "      <td>NaN</td>\n",
              "      <td>NaN</td>\n",
              "      <td>NaN</td>\n",
              "      <td>NaN</td>\n",
              "      <td>NaN</td>\n",
              "      <td>NaN</td>\n",
              "      <td>NaN</td>\n",
              "      <td>4678</td>\n",
              "    </tr>\n",
              "    <tr>\n",
              "      <th>003035f5ec76f2220098377482de93c9</th>\n",
              "      <td>NaN</td>\n",
              "      <td>NaN</td>\n",
              "      <td>NaN</td>\n",
              "      <td>NaN</td>\n",
              "      <td>NaN</td>\n",
              "      <td>NaN</td>\n",
              "      <td>NaN</td>\n",
              "      <td>NaN</td>\n",
              "      <td>NaN</td>\n",
              "      <td>NaN</td>\n",
              "      <td>NaN</td>\n",
              "      <td>NaN</td>\n",
              "      <td>NaN</td>\n",
              "      <td>NaN</td>\n",
              "      <td>NaN</td>\n",
              "      <td>NaN</td>\n",
              "      <td>NaN</td>\n",
              "      <td>NaN</td>\n",
              "      <td>NaN</td>\n",
              "      <td>NaN</td>\n",
              "      <td>NaN</td>\n",
              "      <td>NaN</td>\n",
              "      <td>NaN</td>\n",
              "      <td>NaN</td>\n",
              "      <td>NaN</td>\n",
              "      <td>NaN</td>\n",
              "      <td>NaN</td>\n",
              "      <td>NaN</td>\n",
              "      <td>NaN</td>\n",
              "      <td>NaN</td>\n",
              "      <td>NaN</td>\n",
              "      <td>NaN</td>\n",
              "      <td>NaN</td>\n",
              "      <td>NaN</td>\n",
              "      <td>NaN</td>\n",
              "      <td>NaN</td>\n",
              "      <td>NaN</td>\n",
              "      <td>NaN</td>\n",
              "      <td>NaN</td>\n",
              "      <td>NaN</td>\n",
              "      <td>...</td>\n",
              "      <td>NaN</td>\n",
              "      <td>NaN</td>\n",
              "      <td>NaN</td>\n",
              "      <td>NaN</td>\n",
              "      <td>NaN</td>\n",
              "      <td>NaN</td>\n",
              "      <td>NaN</td>\n",
              "      <td>NaN</td>\n",
              "      <td>NaN</td>\n",
              "      <td>NaN</td>\n",
              "      <td>NaN</td>\n",
              "      <td>NaN</td>\n",
              "      <td>NaN</td>\n",
              "      <td>NaN</td>\n",
              "      <td>NaN</td>\n",
              "      <td>NaN</td>\n",
              "      <td>NaN</td>\n",
              "      <td>NaN</td>\n",
              "      <td>NaN</td>\n",
              "      <td>NaN</td>\n",
              "      <td>NaN</td>\n",
              "      <td>NaN</td>\n",
              "      <td>NaN</td>\n",
              "      <td>NaN</td>\n",
              "      <td>NaN</td>\n",
              "      <td>NaN</td>\n",
              "      <td>NaN</td>\n",
              "      <td>NaN</td>\n",
              "      <td>NaN</td>\n",
              "      <td>NaN</td>\n",
              "      <td>NaN</td>\n",
              "      <td>NaN</td>\n",
              "      <td>NaN</td>\n",
              "      <td>NaN</td>\n",
              "      <td>NaN</td>\n",
              "      <td>NaN</td>\n",
              "      <td>NaN</td>\n",
              "      <td>NaN</td>\n",
              "      <td>NaN</td>\n",
              "      <td>6247</td>\n",
              "    </tr>\n",
              "    <tr>\n",
              "      <th>00324c9f4d710e7bac5c5ba679714430</th>\n",
              "      <td>NaN</td>\n",
              "      <td>NaN</td>\n",
              "      <td>NaN</td>\n",
              "      <td>NaN</td>\n",
              "      <td>NaN</td>\n",
              "      <td>NaN</td>\n",
              "      <td>NaN</td>\n",
              "      <td>NaN</td>\n",
              "      <td>NaN</td>\n",
              "      <td>NaN</td>\n",
              "      <td>NaN</td>\n",
              "      <td>NaN</td>\n",
              "      <td>NaN</td>\n",
              "      <td>NaN</td>\n",
              "      <td>NaN</td>\n",
              "      <td>NaN</td>\n",
              "      <td>NaN</td>\n",
              "      <td>NaN</td>\n",
              "      <td>NaN</td>\n",
              "      <td>NaN</td>\n",
              "      <td>NaN</td>\n",
              "      <td>NaN</td>\n",
              "      <td>NaN</td>\n",
              "      <td>NaN</td>\n",
              "      <td>NaN</td>\n",
              "      <td>NaN</td>\n",
              "      <td>NaN</td>\n",
              "      <td>NaN</td>\n",
              "      <td>NaN</td>\n",
              "      <td>NaN</td>\n",
              "      <td>NaN</td>\n",
              "      <td>NaN</td>\n",
              "      <td>NaN</td>\n",
              "      <td>NaN</td>\n",
              "      <td>NaN</td>\n",
              "      <td>NaN</td>\n",
              "      <td>NaN</td>\n",
              "      <td>NaN</td>\n",
              "      <td>NaN</td>\n",
              "      <td>NaN</td>\n",
              "      <td>...</td>\n",
              "      <td>NaN</td>\n",
              "      <td>NaN</td>\n",
              "      <td>NaN</td>\n",
              "      <td>NaN</td>\n",
              "      <td>NaN</td>\n",
              "      <td>NaN</td>\n",
              "      <td>NaN</td>\n",
              "      <td>NaN</td>\n",
              "      <td>NaN</td>\n",
              "      <td>NaN</td>\n",
              "      <td>NaN</td>\n",
              "      <td>NaN</td>\n",
              "      <td>NaN</td>\n",
              "      <td>NaN</td>\n",
              "      <td>NaN</td>\n",
              "      <td>NaN</td>\n",
              "      <td>NaN</td>\n",
              "      <td>NaN</td>\n",
              "      <td>NaN</td>\n",
              "      <td>NaN</td>\n",
              "      <td>NaN</td>\n",
              "      <td>NaN</td>\n",
              "      <td>NaN</td>\n",
              "      <td>NaN</td>\n",
              "      <td>NaN</td>\n",
              "      <td>NaN</td>\n",
              "      <td>NaN</td>\n",
              "      <td>NaN</td>\n",
              "      <td>NaN</td>\n",
              "      <td>NaN</td>\n",
              "      <td>NaN</td>\n",
              "      <td>NaN</td>\n",
              "      <td>NaN</td>\n",
              "      <td>NaN</td>\n",
              "      <td>NaN</td>\n",
              "      <td>NaN</td>\n",
              "      <td>NaN</td>\n",
              "      <td>NaN</td>\n",
              "      <td>NaN</td>\n",
              "      <td>10978</td>\n",
              "    </tr>\n",
              "  </tbody>\n",
              "</table>\n",
              "<p>5 rows × 6089 columns</p>\n",
              "</div>"
            ],
            "text/plain": [
              "product_id                        0009406fd7479715e4bef61dd91f2462  ...  total_value\n",
              "customer_id                                                         ...             \n",
              "0005ef4cd20d2893f0d9fbd94d3c0d97                               NaN  ...        12976\n",
              "001ae5a1788703d64536c30362503e49                               NaN  ...        13508\n",
              "0027324a96d26a2bc7d69262f83c8403                               NaN  ...         4678\n",
              "003035f5ec76f2220098377482de93c9                               NaN  ...         6247\n",
              "00324c9f4d710e7bac5c5ba679714430                               NaN  ...        10978\n",
              "\n",
              "[5 rows x 6089 columns]"
            ]
          },
          "metadata": {
            "tags": []
          },
          "execution_count": 199
        }
      ]
    },
    {
      "cell_type": "code",
      "metadata": {
        "id": "GHT9IxEb9A3R",
        "colab_type": "code",
        "colab": {}
      },
      "source": [
        "matrix_usuario_producto_norm = (matrix_usuario_producto-matrix_usuario_producto.min())/(matrix_usuario_producto.max()-matrix_usuario_producto.min())"
      ],
      "execution_count": 0,
      "outputs": []
    },
    {
      "cell_type": "code",
      "metadata": {
        "id": "v8E0BJl4Azmi",
        "colab_type": "code",
        "outputId": "f25a1828-3473-43df-f6da-fe97d33f8dbf",
        "colab": {
          "base_uri": "https://localhost:8080/",
          "height": 221
        }
      },
      "source": [
        "# Se crea una tabla como resultado de la normalización  \n",
        "d = matrix_usuario_producto_norm.reset_index() \n",
        "d.index.names = ['value_freq'] \n",
        "data_norm = pd.melt(d, id_vars=['customer_id'], value_name='value_freq').dropna()\n",
        "print(data_norm.shape)\n",
        "data_norm.head()"
      ],
      "execution_count": 0,
      "outputs": [
        {
          "output_type": "stream",
          "text": [
            "(14312, 3)\n"
          ],
          "name": "stdout"
        },
        {
          "output_type": "execute_result",
          "data": {
            "text/html": [
              "<div>\n",
              "<style scoped>\n",
              "    .dataframe tbody tr th:only-of-type {\n",
              "        vertical-align: middle;\n",
              "    }\n",
              "\n",
              "    .dataframe tbody tr th {\n",
              "        vertical-align: top;\n",
              "    }\n",
              "\n",
              "    .dataframe thead th {\n",
              "        text-align: right;\n",
              "    }\n",
              "</style>\n",
              "<table border=\"1\" class=\"dataframe\">\n",
              "  <thead>\n",
              "    <tr style=\"text-align: right;\">\n",
              "      <th></th>\n",
              "      <th>customer_id</th>\n",
              "      <th>product_id</th>\n",
              "      <th>value_freq</th>\n",
              "    </tr>\n",
              "  </thead>\n",
              "  <tbody>\n",
              "    <tr>\n",
              "      <th>13281</th>\n",
              "      <td>82a942ca919e963244fbf83c6ae50ab7</td>\n",
              "      <td>001b72dfd63e9833e8c02742adf472e3</td>\n",
              "      <td>0.019964</td>\n",
              "    </tr>\n",
              "    <tr>\n",
              "      <th>14960</th>\n",
              "      <td>b2ff6bd1b406f81f3cfe08aa6e75414b</td>\n",
              "      <td>001b72dfd63e9833e8c02742adf472e3</td>\n",
              "      <td>0.000000</td>\n",
              "    </tr>\n",
              "    <tr>\n",
              "      <th>17551</th>\n",
              "      <td>total_value</td>\n",
              "      <td>001b72dfd63e9833e8c02742adf472e3</td>\n",
              "      <td>1.000000</td>\n",
              "    </tr>\n",
              "    <tr>\n",
              "      <th>64907</th>\n",
              "      <td>657e052d73bd797f2bebba4996558e12</td>\n",
              "      <td>008cff0e5792219fae03e570f980b330</td>\n",
              "      <td>0.000000</td>\n",
              "    </tr>\n",
              "    <tr>\n",
              "      <th>69731</th>\n",
              "      <td>f0e4503675216b3763cac5b231b4c053</td>\n",
              "      <td>008cff0e5792219fae03e570f980b330</td>\n",
              "      <td>0.042893</td>\n",
              "    </tr>\n",
              "  </tbody>\n",
              "</table>\n",
              "</div>"
            ],
            "text/plain": [
              "                            customer_id  ... value_freq\n",
              "13281  82a942ca919e963244fbf83c6ae50ab7  ...   0.019964\n",
              "14960  b2ff6bd1b406f81f3cfe08aa6e75414b  ...   0.000000\n",
              "17551                       total_value  ...   1.000000\n",
              "64907  657e052d73bd797f2bebba4996558e12  ...   0.000000\n",
              "69731  f0e4503675216b3763cac5b231b4c053  ...   0.042893\n",
              "\n",
              "[5 rows x 3 columns]"
            ]
          },
          "metadata": {
            "tags": []
          },
          "execution_count": 201
        }
      ]
    },
    {
      "cell_type": "code",
      "metadata": {
        "id": "Hw2AuD0FADxe",
        "colab_type": "code",
        "outputId": "4376a443-0dda-4a92-ee4b-5c8d25a36cc9",
        "colab": {
          "base_uri": "https://localhost:8080/",
          "height": 224
        }
      },
      "source": [
        "## dummy\n",
        "datos_dummy = datos_facturacion.copy()\n",
        "datos_dummy['total_dummy'] = 1\n",
        "datos_dummy.head()\n",
        "\n"
      ],
      "execution_count": 0,
      "outputs": [
        {
          "output_type": "execute_result",
          "data": {
            "text/html": [
              "<div>\n",
              "<style scoped>\n",
              "    .dataframe tbody tr th:only-of-type {\n",
              "        vertical-align: middle;\n",
              "    }\n",
              "\n",
              "    .dataframe tbody tr th {\n",
              "        vertical-align: top;\n",
              "    }\n",
              "\n",
              "    .dataframe thead th {\n",
              "        text-align: right;\n",
              "    }\n",
              "</style>\n",
              "<table border=\"1\" class=\"dataframe\">\n",
              "  <thead>\n",
              "    <tr style=\"text-align: right;\">\n",
              "      <th></th>\n",
              "      <th>order_id</th>\n",
              "      <th>order_item_id</th>\n",
              "      <th>product_id</th>\n",
              "      <th>customer_id</th>\n",
              "      <th>customer_zip_code_prefix</th>\n",
              "      <th>seller_id</th>\n",
              "      <th>shipping_limit_date</th>\n",
              "      <th>price</th>\n",
              "      <th>freight_value</th>\n",
              "      <th>total_value</th>\n",
              "      <th>credit_card</th>\n",
              "      <th>debit_card</th>\n",
              "      <th>boleto</th>\n",
              "      <th>voucher</th>\n",
              "      <th>not_defined</th>\n",
              "      <th>num_txn</th>\n",
              "      <th>order_status</th>\n",
              "      <th>order_purchase_timestamp</th>\n",
              "      <th>order_approved_at</th>\n",
              "      <th>order_delivered_carrier_date</th>\n",
              "      <th>order_delivered_customer_date</th>\n",
              "      <th>order_estimated_delivery_date</th>\n",
              "      <th>total_dummy</th>\n",
              "    </tr>\n",
              "  </thead>\n",
              "  <tbody>\n",
              "    <tr>\n",
              "      <th>0</th>\n",
              "      <td>00010242fe8c5a6d1ba2dd792cb16214</td>\n",
              "      <td>1</td>\n",
              "      <td>4244733e06e7ecb4970a6e2683c13e61</td>\n",
              "      <td>871766c5855e863f6eccc05f988b23cb</td>\n",
              "      <td>28013</td>\n",
              "      <td>48436dade18ac8b2bce089ec2a041202</td>\n",
              "      <td>2017-09-19 09:45:35</td>\n",
              "      <td>5890</td>\n",
              "      <td>1329</td>\n",
              "      <td>7219</td>\n",
              "      <td>7219</td>\n",
              "      <td>0</td>\n",
              "      <td>0</td>\n",
              "      <td>0</td>\n",
              "      <td>0</td>\n",
              "      <td>1</td>\n",
              "      <td>delivered</td>\n",
              "      <td>2017-09-13 08:59:02</td>\n",
              "      <td>2017-09-13 09:45:35</td>\n",
              "      <td>2017-09-19 18:34:16</td>\n",
              "      <td>2017-09-20 23:43:48</td>\n",
              "      <td>2017-09-29</td>\n",
              "      <td>1</td>\n",
              "    </tr>\n",
              "    <tr>\n",
              "      <th>1</th>\n",
              "      <td>00018f77f2f0320c557190d7a144bdd3</td>\n",
              "      <td>1</td>\n",
              "      <td>e5f2d52b802189ee658865ca93d83a8f</td>\n",
              "      <td>eb28e67c4c0b83846050ddfb8a35d051</td>\n",
              "      <td>15775</td>\n",
              "      <td>dd7ddc04e1b6c2c614352b383efe2d36</td>\n",
              "      <td>2017-05-03 11:05:13</td>\n",
              "      <td>23990</td>\n",
              "      <td>1993</td>\n",
              "      <td>25983</td>\n",
              "      <td>25983</td>\n",
              "      <td>0</td>\n",
              "      <td>0</td>\n",
              "      <td>0</td>\n",
              "      <td>0</td>\n",
              "      <td>1</td>\n",
              "      <td>delivered</td>\n",
              "      <td>2017-04-26 10:53:06</td>\n",
              "      <td>2017-04-26 11:05:13</td>\n",
              "      <td>2017-05-04 14:35:00</td>\n",
              "      <td>2017-05-12 16:04:24</td>\n",
              "      <td>2017-05-15</td>\n",
              "      <td>1</td>\n",
              "    </tr>\n",
              "    <tr>\n",
              "      <th>2</th>\n",
              "      <td>000229ec398224ef6ca0657da4fc703e</td>\n",
              "      <td>1</td>\n",
              "      <td>c777355d18b72b67abbeef9df44fd0fd</td>\n",
              "      <td>3818d81c6709e39d06b2738a8d3a2474</td>\n",
              "      <td>35661</td>\n",
              "      <td>5b51032eddd242adc84c38acab88f23d</td>\n",
              "      <td>2018-01-18 14:48:30</td>\n",
              "      <td>19900</td>\n",
              "      <td>1787</td>\n",
              "      <td>21687</td>\n",
              "      <td>21687</td>\n",
              "      <td>0</td>\n",
              "      <td>0</td>\n",
              "      <td>0</td>\n",
              "      <td>0</td>\n",
              "      <td>1</td>\n",
              "      <td>delivered</td>\n",
              "      <td>2018-01-14 14:33:31</td>\n",
              "      <td>2018-01-14 14:48:30</td>\n",
              "      <td>2018-01-16 12:36:48</td>\n",
              "      <td>2018-01-22 13:19:16</td>\n",
              "      <td>2018-02-05</td>\n",
              "      <td>1</td>\n",
              "    </tr>\n",
              "    <tr>\n",
              "      <th>3</th>\n",
              "      <td>00024acbcdf0a6daa1e931b038114c75</td>\n",
              "      <td>1</td>\n",
              "      <td>7634da152a4610f1595efa32f14722fc</td>\n",
              "      <td>af861d436cfc08b2c2ddefd0ba074622</td>\n",
              "      <td>12952</td>\n",
              "      <td>9d7a1d34a5052409006425275ba1c2b4</td>\n",
              "      <td>2018-08-15 10:10:18</td>\n",
              "      <td>1299</td>\n",
              "      <td>1279</td>\n",
              "      <td>2578</td>\n",
              "      <td>2578</td>\n",
              "      <td>0</td>\n",
              "      <td>0</td>\n",
              "      <td>0</td>\n",
              "      <td>0</td>\n",
              "      <td>1</td>\n",
              "      <td>delivered</td>\n",
              "      <td>2018-08-08 10:00:35</td>\n",
              "      <td>2018-08-08 10:10:18</td>\n",
              "      <td>2018-08-10 13:28:00</td>\n",
              "      <td>2018-08-14 13:32:39</td>\n",
              "      <td>2018-08-20</td>\n",
              "      <td>1</td>\n",
              "    </tr>\n",
              "    <tr>\n",
              "      <th>4</th>\n",
              "      <td>00042b26cf59d7ce69dfabb4e55b4fd9</td>\n",
              "      <td>1</td>\n",
              "      <td>ac6c3623068f30de03045865e4e10089</td>\n",
              "      <td>64b576fb70d441e8f1b2d7d446e483c5</td>\n",
              "      <td>13226</td>\n",
              "      <td>df560393f3a51e74553ab94004ba5c87</td>\n",
              "      <td>2017-02-13 13:57:51</td>\n",
              "      <td>19990</td>\n",
              "      <td>1814</td>\n",
              "      <td>21804</td>\n",
              "      <td>21804</td>\n",
              "      <td>0</td>\n",
              "      <td>0</td>\n",
              "      <td>0</td>\n",
              "      <td>0</td>\n",
              "      <td>1</td>\n",
              "      <td>delivered</td>\n",
              "      <td>2017-02-04 13:57:51</td>\n",
              "      <td>2017-02-04 14:10:13</td>\n",
              "      <td>2017-02-16 09:46:09</td>\n",
              "      <td>2017-03-01 16:42:31</td>\n",
              "      <td>2017-03-17</td>\n",
              "      <td>1</td>\n",
              "    </tr>\n",
              "  </tbody>\n",
              "</table>\n",
              "</div>"
            ],
            "text/plain": [
              "                           order_id  ...  total_dummy\n",
              "0  00010242fe8c5a6d1ba2dd792cb16214  ...            1\n",
              "1  00018f77f2f0320c557190d7a144bdd3  ...            1\n",
              "2  000229ec398224ef6ca0657da4fc703e  ...            1\n",
              "3  00024acbcdf0a6daa1e931b038114c75  ...            1\n",
              "4  00042b26cf59d7ce69dfabb4e55b4fd9  ...            1\n",
              "\n",
              "[5 rows x 23 columns]"
            ]
          },
          "metadata": {
            "tags": []
          },
          "execution_count": 202
        }
      ]
    },
    {
      "cell_type": "code",
      "metadata": {
        "id": "lRLT83L4_51Z",
        "colab_type": "code",
        "colab": {}
      },
      "source": [
        "# genero particionamiento de los conjuntos a usar\n",
        "train_data, test_data  = train_test_split(datos_facturacion, test_size=0.2 ,random_state=1)\n",
        "train_data_dummy, test_data_dummy = train_test_split(datos_dummy, test_size=0.2 ,random_state=1)\n",
        "train_data_norm, test_data_norm = train_test_split(data_norm, test_size=0.2 ,random_state=1)"
      ],
      "execution_count": 0,
      "outputs": []
    },
    {
      "cell_type": "markdown",
      "metadata": {
        "id": "MYMsjcrvCW6v",
        "colab_type": "text"
      },
      "source": [
        "##Colaborativo"
      ]
    },
    {
      "cell_type": "code",
      "metadata": {
        "id": "7R6FxV5WBd7R",
        "colab_type": "code",
        "colab": {}
      },
      "source": [
        "# se definen parametros para recomendar el nu´meruo de productos a recomendar y una previsualziación definida del resultado\n",
        "user_id = 'customer_id'\n",
        "item_id = 'product_id'\n",
        "users_to_recommend = list(datos_clientes[user_id])\n",
        "n_rec = 5 # number of items to recommend\n",
        "n_display = 15 # to display the first few rows in an output dataset"
      ],
      "execution_count": 0,
      "outputs": []
    },
    {
      "cell_type": "code",
      "metadata": {
        "id": "aOYkRABZBvYx",
        "colab_type": "code",
        "colab": {}
      },
      "source": [
        "# Se define una función que retorne un modelo resultado segun el enfoque que se requiere:\n",
        "# 1. Popularity : Es el item que más se a consumido en todos los clientes\n",
        "# 2. cosine :\n",
        "# 3. Pearson: \n",
        "def model(train_data, name, user_id, item_id, target, users_to_recommend, n_rec, n_display):\n",
        "    if name == 'popularity':\n",
        "        model = tc.popularity_recommender.create(train_data, \n",
        "                                                    user_id=user_id, \n",
        "                                                    item_id=item_id, \n",
        "                                                    target=target)\n",
        "    elif name == 'cosine':\n",
        "        model = tc.item_similarity_recommender.create(train_data, \n",
        "                                                    user_id=user_id, \n",
        "                                                    item_id=item_id, \n",
        "                                                    target=target, \n",
        "                                                    similarity_type='cosine')\n",
        "    elif name == 'pearson':\n",
        "        model = tc.item_similarity_recommender.create(train_data, \n",
        "                                                    user_id=user_id, \n",
        "                                                    item_id=item_id, \n",
        "                                                    target=target, \n",
        "                                                    similarity_type='pearson')\n",
        "        \n",
        "    recom = model.recommend(users=users_to_recommend, k=n_rec)\n",
        "    recom.print_rows(n_display)\n",
        "    return model"
      ],
      "execution_count": 0,
      "outputs": []
    },
    {
      "cell_type": "markdown",
      "metadata": {
        "id": "vskW4kjrDe3w",
        "colab_type": "text"
      },
      "source": [
        "## Producto más comprado"
      ]
    },
    {
      "cell_type": "code",
      "metadata": {
        "id": "hERQ1CsZC39R",
        "colab_type": "code",
        "outputId": "f913e363-8cc8-456b-979b-11a7e403ad3b",
        "colab": {
          "base_uri": "https://localhost:8080/",
          "height": 632
        }
      },
      "source": [
        "name = 'popularity'\n",
        "target = 'total_value'\n",
        "train_dataF=tc.SFrame(train_data)\n",
        "test_dataF=tc.SFrame(test_data)\n",
        "popularity_model = model(train_dataF, name, user_id, item_id, target, users_to_recommend, n_rec, n_display)"
      ],
      "execution_count": 0,
      "outputs": [
        {
          "output_type": "display_data",
          "data": {
            "text/html": [
              "<pre>Warning: Ignoring columns order_id, order_item_id, customer_zip_code_prefix, seller_id, shipping_limit_date, price, freight_value, credit_card, debit_card, boleto, voucher, not_defined, num_txn, order_status, order_purchase_timestamp, order_approved_at, order_delivered_carrier_date, order_delivered_customer_date, order_estimated_delivery_date;</pre>"
            ],
            "text/plain": [
              "Warning: Ignoring columns order_id, order_item_id, customer_zip_code_prefix, seller_id, shipping_limit_date, price, freight_value, credit_card, debit_card, boleto, voucher, not_defined, num_txn, order_status, order_purchase_timestamp, order_approved_at, order_delivered_carrier_date, order_delivered_customer_date, order_estimated_delivery_date;"
            ]
          },
          "metadata": {
            "tags": []
          }
        },
        {
          "output_type": "display_data",
          "data": {
            "text/html": [
              "<pre>    To use these columns in scoring predictions, use a model that allows the use of additional features.</pre>"
            ],
            "text/plain": [
              "    To use these columns in scoring predictions, use a model that allows the use of additional features."
            ]
          },
          "metadata": {
            "tags": []
          }
        },
        {
          "output_type": "display_data",
          "data": {
            "text/html": [
              "<pre>Preparing data set.</pre>"
            ],
            "text/plain": [
              "Preparing data set."
            ]
          },
          "metadata": {
            "tags": []
          }
        },
        {
          "output_type": "display_data",
          "data": {
            "text/html": [
              "<pre>    Data has 8000 observations with 7145 users and 5152 items.</pre>"
            ],
            "text/plain": [
              "    Data has 8000 observations with 7145 users and 5152 items."
            ]
          },
          "metadata": {
            "tags": []
          }
        },
        {
          "output_type": "display_data",
          "data": {
            "text/html": [
              "<pre>    Data prepared in: 0.029726s</pre>"
            ],
            "text/plain": [
              "    Data prepared in: 0.029726s"
            ]
          },
          "metadata": {
            "tags": []
          }
        },
        {
          "output_type": "display_data",
          "data": {
            "text/html": [
              "<pre>8000 observations to process; with 5152 unique items.</pre>"
            ],
            "text/plain": [
              "8000 observations to process; with 5152 unique items."
            ]
          },
          "metadata": {
            "tags": []
          }
        },
        {
          "output_type": "display_data",
          "data": {
            "text/html": [
              "<pre>recommendations finished on 1000/8823 queries. users per second: 80495.9</pre>"
            ],
            "text/plain": [
              "recommendations finished on 1000/8823 queries. users per second: 80495.9"
            ]
          },
          "metadata": {
            "tags": []
          }
        },
        {
          "output_type": "display_data",
          "data": {
            "text/html": [
              "<pre>recommendations finished on 2000/8823 queries. users per second: 80834.2</pre>"
            ],
            "text/plain": [
              "recommendations finished on 2000/8823 queries. users per second: 80834.2"
            ]
          },
          "metadata": {
            "tags": []
          }
        },
        {
          "output_type": "display_data",
          "data": {
            "text/html": [
              "<pre>recommendations finished on 3000/8823 queries. users per second: 81100.8</pre>"
            ],
            "text/plain": [
              "recommendations finished on 3000/8823 queries. users per second: 81100.8"
            ]
          },
          "metadata": {
            "tags": []
          }
        },
        {
          "output_type": "display_data",
          "data": {
            "text/html": [
              "<pre>recommendations finished on 4000/8823 queries. users per second: 81328.9</pre>"
            ],
            "text/plain": [
              "recommendations finished on 4000/8823 queries. users per second: 81328.9"
            ]
          },
          "metadata": {
            "tags": []
          }
        },
        {
          "output_type": "display_data",
          "data": {
            "text/html": [
              "<pre>recommendations finished on 5000/8823 queries. users per second: 80195</pre>"
            ],
            "text/plain": [
              "recommendations finished on 5000/8823 queries. users per second: 80195"
            ]
          },
          "metadata": {
            "tags": []
          }
        },
        {
          "output_type": "display_data",
          "data": {
            "text/html": [
              "<pre>recommendations finished on 6000/8823 queries. users per second: 80026.7</pre>"
            ],
            "text/plain": [
              "recommendations finished on 6000/8823 queries. users per second: 80026.7"
            ]
          },
          "metadata": {
            "tags": []
          }
        },
        {
          "output_type": "display_data",
          "data": {
            "text/html": [
              "<pre>recommendations finished on 7000/8823 queries. users per second: 75291.5</pre>"
            ],
            "text/plain": [
              "recommendations finished on 7000/8823 queries. users per second: 75291.5"
            ]
          },
          "metadata": {
            "tags": []
          }
        },
        {
          "output_type": "display_data",
          "data": {
            "text/html": [
              "<pre>recommendations finished on 8000/8823 queries. users per second: 70643.9</pre>"
            ],
            "text/plain": [
              "recommendations finished on 8000/8823 queries. users per second: 70643.9"
            ]
          },
          "metadata": {
            "tags": []
          }
        },
        {
          "output_type": "stream",
          "text": [
            "+-------------------------------+-------------------------------+----------+------+\n",
            "|          customer_id          |           product_id          |  score   | rank |\n",
            "+-------------------------------+-------------------------------+----------+------+\n",
            "| 0005ef4cd20d2893f0d9fbd94d... | 34f99d82cfc355d08d8db780d1... | 312650.0 |  1   |\n",
            "| 0005ef4cd20d2893f0d9fbd94d... | a233df9a388d27dbdfd31731d4... | 278416.0 |  2   |\n",
            "| 0005ef4cd20d2893f0d9fbd94d... | a3cd9517ebf5a50dca25acce54... | 271336.0 |  3   |\n",
            "| 0005ef4cd20d2893f0d9fbd94d... | ada6a9116c85d8e56232e0a426... | 232522.0 |  4   |\n",
            "| 0005ef4cd20d2893f0d9fbd94d... | 8a12c0e223d9dbd49ccfcd2ad2... | 218742.0 |  5   |\n",
            "| 001ae5a1788703d64536c30362... | 34f99d82cfc355d08d8db780d1... | 312650.0 |  1   |\n",
            "| 001ae5a1788703d64536c30362... | a233df9a388d27dbdfd31731d4... | 278416.0 |  2   |\n",
            "| 001ae5a1788703d64536c30362... | a3cd9517ebf5a50dca25acce54... | 271336.0 |  3   |\n",
            "| 001ae5a1788703d64536c30362... | ada6a9116c85d8e56232e0a426... | 232522.0 |  4   |\n",
            "| 001ae5a1788703d64536c30362... | 8a12c0e223d9dbd49ccfcd2ad2... | 218742.0 |  5   |\n",
            "| 0027324a96d26a2bc7d69262f8... | 34f99d82cfc355d08d8db780d1... | 312650.0 |  1   |\n",
            "| 0027324a96d26a2bc7d69262f8... | a233df9a388d27dbdfd31731d4... | 278416.0 |  2   |\n",
            "| 0027324a96d26a2bc7d69262f8... | a3cd9517ebf5a50dca25acce54... | 271336.0 |  3   |\n",
            "| 0027324a96d26a2bc7d69262f8... | ada6a9116c85d8e56232e0a426... | 232522.0 |  4   |\n",
            "| 0027324a96d26a2bc7d69262f8... | 8a12c0e223d9dbd49ccfcd2ad2... | 218742.0 |  5   |\n",
            "+-------------------------------+-------------------------------+----------+------+\n",
            "[44115 rows x 4 columns]\n",
            "\n"
          ],
          "name": "stdout"
        }
      ]
    },
    {
      "cell_type": "code",
      "metadata": {
        "id": "QSvJ6EN0D_3C",
        "colab_type": "code",
        "outputId": "5af5a5dd-7450-49b2-93ff-b43372162bf5",
        "colab": {
          "base_uri": "https://localhost:8080/",
          "height": 632
        }
      },
      "source": [
        "name = 'popularity'\n",
        "target = 'total_dummy'\n",
        "train_data_dummyF=tc.SFrame(train_data_dummy)\n",
        "test_data_dummyF=tc.SFrame(test_data_dummy)\n",
        "pop_dummy = model(train_data_dummyF, name, user_id, item_id, target, users_to_recommend, n_rec, n_display)"
      ],
      "execution_count": 0,
      "outputs": [
        {
          "output_type": "display_data",
          "data": {
            "text/html": [
              "<pre>Warning: Ignoring columns order_id, order_item_id, customer_zip_code_prefix, seller_id, shipping_limit_date, price, freight_value, total_value, credit_card, debit_card, boleto, voucher, not_defined, num_txn, order_status, order_purchase_timestamp, order_approved_at, order_delivered_carrier_date, order_delivered_customer_date, order_estimated_delivery_date;</pre>"
            ],
            "text/plain": [
              "Warning: Ignoring columns order_id, order_item_id, customer_zip_code_prefix, seller_id, shipping_limit_date, price, freight_value, total_value, credit_card, debit_card, boleto, voucher, not_defined, num_txn, order_status, order_purchase_timestamp, order_approved_at, order_delivered_carrier_date, order_delivered_customer_date, order_estimated_delivery_date;"
            ]
          },
          "metadata": {
            "tags": []
          }
        },
        {
          "output_type": "display_data",
          "data": {
            "text/html": [
              "<pre>    To use these columns in scoring predictions, use a model that allows the use of additional features.</pre>"
            ],
            "text/plain": [
              "    To use these columns in scoring predictions, use a model that allows the use of additional features."
            ]
          },
          "metadata": {
            "tags": []
          }
        },
        {
          "output_type": "display_data",
          "data": {
            "text/html": [
              "<pre>Preparing data set.</pre>"
            ],
            "text/plain": [
              "Preparing data set."
            ]
          },
          "metadata": {
            "tags": []
          }
        },
        {
          "output_type": "display_data",
          "data": {
            "text/html": [
              "<pre>    Data has 8000 observations with 7145 users and 5152 items.</pre>"
            ],
            "text/plain": [
              "    Data has 8000 observations with 7145 users and 5152 items."
            ]
          },
          "metadata": {
            "tags": []
          }
        },
        {
          "output_type": "display_data",
          "data": {
            "text/html": [
              "<pre>    Data prepared in: 0.026324s</pre>"
            ],
            "text/plain": [
              "    Data prepared in: 0.026324s"
            ]
          },
          "metadata": {
            "tags": []
          }
        },
        {
          "output_type": "display_data",
          "data": {
            "text/html": [
              "<pre>8000 observations to process; with 5152 unique items.</pre>"
            ],
            "text/plain": [
              "8000 observations to process; with 5152 unique items."
            ]
          },
          "metadata": {
            "tags": []
          }
        },
        {
          "output_type": "display_data",
          "data": {
            "text/html": [
              "<pre>recommendations finished on 1000/8823 queries. users per second: 75171</pre>"
            ],
            "text/plain": [
              "recommendations finished on 1000/8823 queries. users per second: 75171"
            ]
          },
          "metadata": {
            "tags": []
          }
        },
        {
          "output_type": "display_data",
          "data": {
            "text/html": [
              "<pre>recommendations finished on 2000/8823 queries. users per second: 76746</pre>"
            ],
            "text/plain": [
              "recommendations finished on 2000/8823 queries. users per second: 76746"
            ]
          },
          "metadata": {
            "tags": []
          }
        },
        {
          "output_type": "display_data",
          "data": {
            "text/html": [
              "<pre>recommendations finished on 3000/8823 queries. users per second: 77010</pre>"
            ],
            "text/plain": [
              "recommendations finished on 3000/8823 queries. users per second: 77010"
            ]
          },
          "metadata": {
            "tags": []
          }
        },
        {
          "output_type": "display_data",
          "data": {
            "text/html": [
              "<pre>recommendations finished on 4000/8823 queries. users per second: 77839.2</pre>"
            ],
            "text/plain": [
              "recommendations finished on 4000/8823 queries. users per second: 77839.2"
            ]
          },
          "metadata": {
            "tags": []
          }
        },
        {
          "output_type": "display_data",
          "data": {
            "text/html": [
              "<pre>recommendations finished on 5000/8823 queries. users per second: 77093.9</pre>"
            ],
            "text/plain": [
              "recommendations finished on 5000/8823 queries. users per second: 77093.9"
            ]
          },
          "metadata": {
            "tags": []
          }
        },
        {
          "output_type": "display_data",
          "data": {
            "text/html": [
              "<pre>recommendations finished on 6000/8823 queries. users per second: 77797.8</pre>"
            ],
            "text/plain": [
              "recommendations finished on 6000/8823 queries. users per second: 77797.8"
            ]
          },
          "metadata": {
            "tags": []
          }
        },
        {
          "output_type": "display_data",
          "data": {
            "text/html": [
              "<pre>recommendations finished on 7000/8823 queries. users per second: 75184.7</pre>"
            ],
            "text/plain": [
              "recommendations finished on 7000/8823 queries. users per second: 75184.7"
            ]
          },
          "metadata": {
            "tags": []
          }
        },
        {
          "output_type": "display_data",
          "data": {
            "text/html": [
              "<pre>recommendations finished on 8000/8823 queries. users per second: 71729.6</pre>"
            ],
            "text/plain": [
              "recommendations finished on 8000/8823 queries. users per second: 71729.6"
            ]
          },
          "metadata": {
            "tags": []
          }
        },
        {
          "output_type": "stream",
          "text": [
            "+-------------------------------+-------------------------------+-------+------+\n",
            "|          customer_id          |           product_id          | score | rank |\n",
            "+-------------------------------+-------------------------------+-------+------+\n",
            "| 0005ef4cd20d2893f0d9fbd94d... | 89e4362d74afa10ac57f8d6721... |  1.0  |  1   |\n",
            "| 0005ef4cd20d2893f0d9fbd94d... | c0380894bd866c75c47c00359d... |  1.0  |  2   |\n",
            "| 0005ef4cd20d2893f0d9fbd94d... | 6f3b5b605d91b7439c5e3f5a8d... |  1.0  |  3   |\n",
            "| 0005ef4cd20d2893f0d9fbd94d... | 2a478a360a293f087e352e88f1... |  1.0  |  4   |\n",
            "| 0005ef4cd20d2893f0d9fbd94d... | 2d27434c710806b971a721da33... |  1.0  |  5   |\n",
            "| 001ae5a1788703d64536c30362... | 89e4362d74afa10ac57f8d6721... |  1.0  |  1   |\n",
            "| 001ae5a1788703d64536c30362... | c0380894bd866c75c47c00359d... |  1.0  |  2   |\n",
            "| 001ae5a1788703d64536c30362... | 6f3b5b605d91b7439c5e3f5a8d... |  1.0  |  3   |\n",
            "| 001ae5a1788703d64536c30362... | 2a478a360a293f087e352e88f1... |  1.0  |  4   |\n",
            "| 001ae5a1788703d64536c30362... | 2d27434c710806b971a721da33... |  1.0  |  5   |\n",
            "| 0027324a96d26a2bc7d69262f8... | 89e4362d74afa10ac57f8d6721... |  1.0  |  1   |\n",
            "| 0027324a96d26a2bc7d69262f8... | c0380894bd866c75c47c00359d... |  1.0  |  2   |\n",
            "| 0027324a96d26a2bc7d69262f8... | 6f3b5b605d91b7439c5e3f5a8d... |  1.0  |  3   |\n",
            "| 0027324a96d26a2bc7d69262f8... | 2a478a360a293f087e352e88f1... |  1.0  |  4   |\n",
            "| 0027324a96d26a2bc7d69262f8... | 2d27434c710806b971a721da33... |  1.0  |  5   |\n",
            "+-------------------------------+-------------------------------+-------+------+\n",
            "[44115 rows x 4 columns]\n",
            "\n"
          ],
          "name": "stdout"
        }
      ]
    },
    {
      "cell_type": "code",
      "metadata": {
        "id": "3Aie9UT4EF2o",
        "colab_type": "code",
        "outputId": "ac6c7a87-6257-4013-c5f1-cac219dac509",
        "colab": {
          "base_uri": "https://localhost:8080/",
          "height": 578
        }
      },
      "source": [
        "name = 'popularity'\n",
        "target = 'value_freq'\n",
        "train_data_normF=tc.SFrame(train_data_norm)\n",
        "test_data_normF=tc.SFrame(test_data_norm)\n",
        "pop_norm = model(test_data_normF, name, user_id, item_id, target, users_to_recommend, n_rec, n_display)"
      ],
      "execution_count": 0,
      "outputs": [
        {
          "output_type": "display_data",
          "data": {
            "text/html": [
              "<pre>Preparing data set.</pre>"
            ],
            "text/plain": [
              "Preparing data set."
            ]
          },
          "metadata": {
            "tags": []
          }
        },
        {
          "output_type": "display_data",
          "data": {
            "text/html": [
              "<pre>    Data has 2863 observations with 2456 users and 719 items.</pre>"
            ],
            "text/plain": [
              "    Data has 2863 observations with 2456 users and 719 items."
            ]
          },
          "metadata": {
            "tags": []
          }
        },
        {
          "output_type": "display_data",
          "data": {
            "text/html": [
              "<pre>    Data prepared in: 0.009644s</pre>"
            ],
            "text/plain": [
              "    Data prepared in: 0.009644s"
            ]
          },
          "metadata": {
            "tags": []
          }
        },
        {
          "output_type": "display_data",
          "data": {
            "text/html": [
              "<pre>2863 observations to process; with 719 unique items.</pre>"
            ],
            "text/plain": [
              "2863 observations to process; with 719 unique items."
            ]
          },
          "metadata": {
            "tags": []
          }
        },
        {
          "output_type": "display_data",
          "data": {
            "text/html": [
              "<pre>recommendations finished on 1000/8823 queries. users per second: 239808</pre>"
            ],
            "text/plain": [
              "recommendations finished on 1000/8823 queries. users per second: 239808"
            ]
          },
          "metadata": {
            "tags": []
          }
        },
        {
          "output_type": "display_data",
          "data": {
            "text/html": [
              "<pre>recommendations finished on 2000/8823 queries. users per second: 263227</pre>"
            ],
            "text/plain": [
              "recommendations finished on 2000/8823 queries. users per second: 263227"
            ]
          },
          "metadata": {
            "tags": []
          }
        },
        {
          "output_type": "display_data",
          "data": {
            "text/html": [
              "<pre>recommendations finished on 3000/8823 queries. users per second: 289995</pre>"
            ],
            "text/plain": [
              "recommendations finished on 3000/8823 queries. users per second: 289995"
            ]
          },
          "metadata": {
            "tags": []
          }
        },
        {
          "output_type": "display_data",
          "data": {
            "text/html": [
              "<pre>recommendations finished on 4000/8823 queries. users per second: 301500</pre>"
            ],
            "text/plain": [
              "recommendations finished on 4000/8823 queries. users per second: 301500"
            ]
          },
          "metadata": {
            "tags": []
          }
        },
        {
          "output_type": "display_data",
          "data": {
            "text/html": [
              "<pre>recommendations finished on 5000/8823 queries. users per second: 300102</pre>"
            ],
            "text/plain": [
              "recommendations finished on 5000/8823 queries. users per second: 300102"
            ]
          },
          "metadata": {
            "tags": []
          }
        },
        {
          "output_type": "display_data",
          "data": {
            "text/html": [
              "<pre>recommendations finished on 6000/8823 queries. users per second: 261051</pre>"
            ],
            "text/plain": [
              "recommendations finished on 6000/8823 queries. users per second: 261051"
            ]
          },
          "metadata": {
            "tags": []
          }
        },
        {
          "output_type": "display_data",
          "data": {
            "text/html": [
              "<pre>recommendations finished on 7000/8823 queries. users per second: 262802</pre>"
            ],
            "text/plain": [
              "recommendations finished on 7000/8823 queries. users per second: 262802"
            ]
          },
          "metadata": {
            "tags": []
          }
        },
        {
          "output_type": "display_data",
          "data": {
            "text/html": [
              "<pre>recommendations finished on 8000/8823 queries. users per second: 257583</pre>"
            ],
            "text/plain": [
              "recommendations finished on 8000/8823 queries. users per second: 257583"
            ]
          },
          "metadata": {
            "tags": []
          }
        },
        {
          "output_type": "stream",
          "text": [
            "+-------------------------------+-------------------------------+-------+------+\n",
            "|          customer_id          |           product_id          | score | rank |\n",
            "+-------------------------------+-------------------------------+-------+------+\n",
            "| 0005ef4cd20d2893f0d9fbd94d... | afeeea6271148ee1bb15173b81... |  1.0  |  1   |\n",
            "| 0005ef4cd20d2893f0d9fbd94d... | 3439529926df110506c6752e8f... |  1.0  |  2   |\n",
            "| 0005ef4cd20d2893f0d9fbd94d... | eef3286d1162cb7eb46becab2a... |  1.0  |  3   |\n",
            "| 0005ef4cd20d2893f0d9fbd94d... | 07c055536ebf10dfbb6c6db6db... |  1.0  |  4   |\n",
            "| 0005ef4cd20d2893f0d9fbd94d... | fb7a100ec8c7b34f60cec22b1a... |  1.0  |  5   |\n",
            "| 001ae5a1788703d64536c30362... | afeeea6271148ee1bb15173b81... |  1.0  |  1   |\n",
            "| 001ae5a1788703d64536c30362... | 3439529926df110506c6752e8f... |  1.0  |  2   |\n",
            "| 001ae5a1788703d64536c30362... | eef3286d1162cb7eb46becab2a... |  1.0  |  3   |\n",
            "| 001ae5a1788703d64536c30362... | 07c055536ebf10dfbb6c6db6db... |  1.0  |  4   |\n",
            "| 001ae5a1788703d64536c30362... | fb7a100ec8c7b34f60cec22b1a... |  1.0  |  5   |\n",
            "| 0027324a96d26a2bc7d69262f8... | afeeea6271148ee1bb15173b81... |  1.0  |  1   |\n",
            "| 0027324a96d26a2bc7d69262f8... | 3439529926df110506c6752e8f... |  1.0  |  2   |\n",
            "| 0027324a96d26a2bc7d69262f8... | eef3286d1162cb7eb46becab2a... |  1.0  |  3   |\n",
            "| 0027324a96d26a2bc7d69262f8... | 07c055536ebf10dfbb6c6db6db... |  1.0  |  4   |\n",
            "| 0027324a96d26a2bc7d69262f8... | fb7a100ec8c7b34f60cec22b1a... |  1.0  |  5   |\n",
            "+-------------------------------+-------------------------------+-------+------+\n",
            "[44115 rows x 4 columns]\n",
            "\n"
          ],
          "name": "stdout"
        }
      ]
    },
    {
      "cell_type": "markdown",
      "metadata": {
        "id": "ZbPnUlPVEbdS",
        "colab_type": "text"
      },
      "source": [
        "Se identifica que el primer modelo genera los mismos valores ya es basado en la popularidad de todos los clientes y por ende es la misma recomendación para todos. De hecho si se agrupan los productos porel más vendido, se puede ver a continuación que tiene coherencia.\n"
      ]
    },
    {
      "cell_type": "code",
      "metadata": {
        "id": "6Y6x7dONEzJF",
        "colab_type": "code",
        "outputId": "28ddd4ad-ab8f-4e9d-cdf6-5afff022e11b",
        "colab": {
          "base_uri": "https://localhost:8080/",
          "height": 136
        }
      },
      "source": [
        "train_data.groupby(by='product_id')['total_value'].mean().sort_values(ascending=False).head()"
      ],
      "execution_count": 0,
      "outputs": [
        {
          "output_type": "execute_result",
          "data": {
            "text/plain": [
              "product_id\n",
              "34f99d82cfc355d08d8db780d14aa002    312650.0\n",
              "a233df9a388d27dbdfd31731d4236db0    278416.0\n",
              "a3cd9517ebf5a50dca25acce54f3b171    271336.0\n",
              "ada6a9116c85d8e56232e0a4265d7db9    232522.0\n",
              "8a12c0e223d9dbd49ccfcd2ad25d1b30    218742.0\n",
              "Name: total_value, dtype: float64"
            ]
          },
          "metadata": {
            "tags": []
          },
          "execution_count": 209
        }
      ]
    },
    {
      "cell_type": "markdown",
      "metadata": {
        "id": "ikvJB6QgF35m",
        "colab_type": "text"
      },
      "source": [
        "## Colaborativo\n",
        "Se evaluarán dos enfoques la distancia coseno y Pearson\n",
        "### Coseno"
      ]
    },
    {
      "cell_type": "code",
      "metadata": {
        "id": "PG6kIo9CE-e2",
        "colab_type": "code",
        "outputId": "dba18aa7-6006-43fb-97d8-005715795abb",
        "colab": {
          "base_uri": "https://localhost:8080/",
          "height": 1000
        }
      },
      "source": [
        "name = 'cosine'\n",
        "target = 'total_value'\n",
        "cos = model(train_dataF, name, user_id, item_id, target, users_to_recommend, n_rec, n_display)"
      ],
      "execution_count": 0,
      "outputs": [
        {
          "output_type": "display_data",
          "data": {
            "text/html": [
              "<pre>Warning: Ignoring columns order_id, order_item_id, customer_zip_code_prefix, seller_id, shipping_limit_date, price, freight_value, credit_card, debit_card, boleto, voucher, not_defined, num_txn, order_status, order_purchase_timestamp, order_approved_at, order_delivered_carrier_date, order_delivered_customer_date, order_estimated_delivery_date;</pre>"
            ],
            "text/plain": [
              "Warning: Ignoring columns order_id, order_item_id, customer_zip_code_prefix, seller_id, shipping_limit_date, price, freight_value, credit_card, debit_card, boleto, voucher, not_defined, num_txn, order_status, order_purchase_timestamp, order_approved_at, order_delivered_carrier_date, order_delivered_customer_date, order_estimated_delivery_date;"
            ]
          },
          "metadata": {
            "tags": []
          }
        },
        {
          "output_type": "display_data",
          "data": {
            "text/html": [
              "<pre>    To use these columns in scoring predictions, use a model that allows the use of additional features.</pre>"
            ],
            "text/plain": [
              "    To use these columns in scoring predictions, use a model that allows the use of additional features."
            ]
          },
          "metadata": {
            "tags": []
          }
        },
        {
          "output_type": "display_data",
          "data": {
            "text/html": [
              "<pre>Preparing data set.</pre>"
            ],
            "text/plain": [
              "Preparing data set."
            ]
          },
          "metadata": {
            "tags": []
          }
        },
        {
          "output_type": "display_data",
          "data": {
            "text/html": [
              "<pre>    Data has 8000 observations with 7145 users and 5152 items.</pre>"
            ],
            "text/plain": [
              "    Data has 8000 observations with 7145 users and 5152 items."
            ]
          },
          "metadata": {
            "tags": []
          }
        },
        {
          "output_type": "display_data",
          "data": {
            "text/html": [
              "<pre>    Data prepared in: 0.02511s</pre>"
            ],
            "text/plain": [
              "    Data prepared in: 0.02511s"
            ]
          },
          "metadata": {
            "tags": []
          }
        },
        {
          "output_type": "display_data",
          "data": {
            "text/html": [
              "<pre>Training model from provided data.</pre>"
            ],
            "text/plain": [
              "Training model from provided data."
            ]
          },
          "metadata": {
            "tags": []
          }
        },
        {
          "output_type": "display_data",
          "data": {
            "text/html": [
              "<pre>Gathering per-item and per-user statistics.</pre>"
            ],
            "text/plain": [
              "Gathering per-item and per-user statistics."
            ]
          },
          "metadata": {
            "tags": []
          }
        },
        {
          "output_type": "display_data",
          "data": {
            "text/html": [
              "<pre>+--------------------------------+------------+</pre>"
            ],
            "text/plain": [
              "+--------------------------------+------------+"
            ]
          },
          "metadata": {
            "tags": []
          }
        },
        {
          "output_type": "display_data",
          "data": {
            "text/html": [
              "<pre>| Elapsed Time (Item Statistics) | % Complete |</pre>"
            ],
            "text/plain": [
              "| Elapsed Time (Item Statistics) | % Complete |"
            ]
          },
          "metadata": {
            "tags": []
          }
        },
        {
          "output_type": "display_data",
          "data": {
            "text/html": [
              "<pre>+--------------------------------+------------+</pre>"
            ],
            "text/plain": [
              "+--------------------------------+------------+"
            ]
          },
          "metadata": {
            "tags": []
          }
        },
        {
          "output_type": "display_data",
          "data": {
            "text/html": [
              "<pre>| 216us                          | 13.75      |</pre>"
            ],
            "text/plain": [
              "| 216us                          | 13.75      |"
            ]
          },
          "metadata": {
            "tags": []
          }
        },
        {
          "output_type": "display_data",
          "data": {
            "text/html": [
              "<pre>| 2.102ms                        | 100        |</pre>"
            ],
            "text/plain": [
              "| 2.102ms                        | 100        |"
            ]
          },
          "metadata": {
            "tags": []
          }
        },
        {
          "output_type": "display_data",
          "data": {
            "text/html": [
              "<pre>+--------------------------------+------------+</pre>"
            ],
            "text/plain": [
              "+--------------------------------+------------+"
            ]
          },
          "metadata": {
            "tags": []
          }
        },
        {
          "output_type": "display_data",
          "data": {
            "text/html": [
              "<pre>Setting up lookup tables.</pre>"
            ],
            "text/plain": [
              "Setting up lookup tables."
            ]
          },
          "metadata": {
            "tags": []
          }
        },
        {
          "output_type": "display_data",
          "data": {
            "text/html": [
              "<pre>Processing data in one pass using dense lookup tables.</pre>"
            ],
            "text/plain": [
              "Processing data in one pass using dense lookup tables."
            ]
          },
          "metadata": {
            "tags": []
          }
        },
        {
          "output_type": "display_data",
          "data": {
            "text/html": [
              "<pre>+-------------------------------------+------------------+-----------------+</pre>"
            ],
            "text/plain": [
              "+-------------------------------------+------------------+-----------------+"
            ]
          },
          "metadata": {
            "tags": []
          }
        },
        {
          "output_type": "display_data",
          "data": {
            "text/html": [
              "<pre>| Elapsed Time (Constructing Lookups) | Total % Complete | Items Processed |</pre>"
            ],
            "text/plain": [
              "| Elapsed Time (Constructing Lookups) | Total % Complete | Items Processed |"
            ]
          },
          "metadata": {
            "tags": []
          }
        },
        {
          "output_type": "display_data",
          "data": {
            "text/html": [
              "<pre>+-------------------------------------+------------------+-----------------+</pre>"
            ],
            "text/plain": [
              "+-------------------------------------+------------------+-----------------+"
            ]
          },
          "metadata": {
            "tags": []
          }
        },
        {
          "output_type": "display_data",
          "data": {
            "text/html": [
              "<pre>| 29.905ms                            | 0                | 2               |</pre>"
            ],
            "text/plain": [
              "| 29.905ms                            | 0                | 2               |"
            ]
          },
          "metadata": {
            "tags": []
          }
        },
        {
          "output_type": "display_data",
          "data": {
            "text/html": [
              "<pre>| 157.098ms                           | 100              | 5152            |</pre>"
            ],
            "text/plain": [
              "| 157.098ms                           | 100              | 5152            |"
            ]
          },
          "metadata": {
            "tags": []
          }
        },
        {
          "output_type": "display_data",
          "data": {
            "text/html": [
              "<pre>+-------------------------------------+------------------+-----------------+</pre>"
            ],
            "text/plain": [
              "+-------------------------------------+------------------+-----------------+"
            ]
          },
          "metadata": {
            "tags": []
          }
        },
        {
          "output_type": "display_data",
          "data": {
            "text/html": [
              "<pre>Finalizing lookup tables.</pre>"
            ],
            "text/plain": [
              "Finalizing lookup tables."
            ]
          },
          "metadata": {
            "tags": []
          }
        },
        {
          "output_type": "display_data",
          "data": {
            "text/html": [
              "<pre>Generating candidate set for working with new users.</pre>"
            ],
            "text/plain": [
              "Generating candidate set for working with new users."
            ]
          },
          "metadata": {
            "tags": []
          }
        },
        {
          "output_type": "display_data",
          "data": {
            "text/html": [
              "<pre>Finished training in 0.161047s</pre>"
            ],
            "text/plain": [
              "Finished training in 0.161047s"
            ]
          },
          "metadata": {
            "tags": []
          }
        },
        {
          "output_type": "display_data",
          "data": {
            "text/html": [
              "<pre>recommendations finished on 1000/8823 queries. users per second: 44851.1</pre>"
            ],
            "text/plain": [
              "recommendations finished on 1000/8823 queries. users per second: 44851.1"
            ]
          },
          "metadata": {
            "tags": []
          }
        },
        {
          "output_type": "display_data",
          "data": {
            "text/html": [
              "<pre>recommendations finished on 2000/8823 queries. users per second: 47489</pre>"
            ],
            "text/plain": [
              "recommendations finished on 2000/8823 queries. users per second: 47489"
            ]
          },
          "metadata": {
            "tags": []
          }
        },
        {
          "output_type": "display_data",
          "data": {
            "text/html": [
              "<pre>recommendations finished on 3000/8823 queries. users per second: 48681.5</pre>"
            ],
            "text/plain": [
              "recommendations finished on 3000/8823 queries. users per second: 48681.5"
            ]
          },
          "metadata": {
            "tags": []
          }
        },
        {
          "output_type": "display_data",
          "data": {
            "text/html": [
              "<pre>recommendations finished on 4000/8823 queries. users per second: 49123.8</pre>"
            ],
            "text/plain": [
              "recommendations finished on 4000/8823 queries. users per second: 49123.8"
            ]
          },
          "metadata": {
            "tags": []
          }
        },
        {
          "output_type": "display_data",
          "data": {
            "text/html": [
              "<pre>recommendations finished on 5000/8823 queries. users per second: 49510.3</pre>"
            ],
            "text/plain": [
              "recommendations finished on 5000/8823 queries. users per second: 49510.3"
            ]
          },
          "metadata": {
            "tags": []
          }
        },
        {
          "output_type": "display_data",
          "data": {
            "text/html": [
              "<pre>recommendations finished on 6000/8823 queries. users per second: 49197.7</pre>"
            ],
            "text/plain": [
              "recommendations finished on 6000/8823 queries. users per second: 49197.7"
            ]
          },
          "metadata": {
            "tags": []
          }
        },
        {
          "output_type": "display_data",
          "data": {
            "text/html": [
              "<pre>recommendations finished on 7000/8823 queries. users per second: 48528.9</pre>"
            ],
            "text/plain": [
              "recommendations finished on 7000/8823 queries. users per second: 48528.9"
            ]
          },
          "metadata": {
            "tags": []
          }
        },
        {
          "output_type": "display_data",
          "data": {
            "text/html": [
              "<pre>recommendations finished on 8000/8823 queries. users per second: 44189.9</pre>"
            ],
            "text/plain": [
              "recommendations finished on 8000/8823 queries. users per second: 44189.9"
            ]
          },
          "metadata": {
            "tags": []
          }
        },
        {
          "output_type": "stream",
          "text": [
            "+-------------------------------+-------------------------------+\n",
            "|          customer_id          |           product_id          |\n",
            "+-------------------------------+-------------------------------+\n",
            "| 0005ef4cd20d2893f0d9fbd94d... | 2b2d98d1e9b6f68a472c5ace64... |\n",
            "| 0005ef4cd20d2893f0d9fbd94d... | 481aad97c80d6786a7c6096991... |\n",
            "| 0005ef4cd20d2893f0d9fbd94d... | 2f70195374f6c3d3c6542edf5b... |\n",
            "| 0005ef4cd20d2893f0d9fbd94d... | 89e4362d74afa10ac57f8d6721... |\n",
            "| 0005ef4cd20d2893f0d9fbd94d... | c0380894bd866c75c47c00359d... |\n",
            "| 001ae5a1788703d64536c30362... | 2b2d98d1e9b6f68a472c5ace64... |\n",
            "| 001ae5a1788703d64536c30362... | 481aad97c80d6786a7c6096991... |\n",
            "| 001ae5a1788703d64536c30362... | 2f70195374f6c3d3c6542edf5b... |\n",
            "| 001ae5a1788703d64536c30362... | 89e4362d74afa10ac57f8d6721... |\n",
            "| 001ae5a1788703d64536c30362... | c0380894bd866c75c47c00359d... |\n",
            "| 0027324a96d26a2bc7d69262f8... | 2b2d98d1e9b6f68a472c5ace64... |\n",
            "| 0027324a96d26a2bc7d69262f8... | 481aad97c80d6786a7c6096991... |\n",
            "| 0027324a96d26a2bc7d69262f8... | 2f70195374f6c3d3c6542edf5b... |\n",
            "| 0027324a96d26a2bc7d69262f8... | 89e4362d74afa10ac57f8d6721... |\n",
            "| 0027324a96d26a2bc7d69262f8... | c0380894bd866c75c47c00359d... |\n",
            "+-------------------------------+-------------------------------+\n",
            "+------------------------+------+\n",
            "|         score          | rank |\n",
            "+------------------------+------+\n",
            "|  0.007916791439056397  |  1   |\n",
            "| 0.0017864274978637695  |  2   |\n",
            "| 0.00042510509490966796 |  3   |\n",
            "|          0.0           |  4   |\n",
            "|          0.0           |  5   |\n",
            "|  0.007916791439056397  |  1   |\n",
            "| 0.0017864274978637695  |  2   |\n",
            "| 0.00042510509490966796 |  3   |\n",
            "|          0.0           |  4   |\n",
            "|          0.0           |  5   |\n",
            "|  0.007916791439056397  |  1   |\n",
            "| 0.0017864274978637695  |  2   |\n",
            "| 0.00042510509490966796 |  3   |\n",
            "|          0.0           |  4   |\n",
            "|          0.0           |  5   |\n",
            "+------------------------+------+\n",
            "[44115 rows x 4 columns]\n",
            "\n"
          ],
          "name": "stdout"
        }
      ]
    },
    {
      "cell_type": "code",
      "metadata": {
        "id": "dGRvPLUTHDup",
        "colab_type": "code",
        "outputId": "bb72db14-7e54-4af4-95ee-2e9458742edd",
        "colab": {
          "base_uri": "https://localhost:8080/",
          "height": 938
        }
      },
      "source": [
        "name = 'cosine'\n",
        "target = 'total_dummy'\n",
        "cos_dummy = model(train_data_dummyF, name, user_id, item_id, target, users_to_recommend, n_rec, n_display)"
      ],
      "execution_count": 0,
      "outputs": [
        {
          "output_type": "display_data",
          "data": {
            "text/html": [
              "<pre>Warning: Ignoring columns order_id, order_item_id, customer_zip_code_prefix, seller_id, shipping_limit_date, price, freight_value, total_value, credit_card, debit_card, boleto, voucher, not_defined, num_txn, order_status, order_purchase_timestamp, order_approved_at, order_delivered_carrier_date, order_delivered_customer_date, order_estimated_delivery_date;</pre>"
            ],
            "text/plain": [
              "Warning: Ignoring columns order_id, order_item_id, customer_zip_code_prefix, seller_id, shipping_limit_date, price, freight_value, total_value, credit_card, debit_card, boleto, voucher, not_defined, num_txn, order_status, order_purchase_timestamp, order_approved_at, order_delivered_carrier_date, order_delivered_customer_date, order_estimated_delivery_date;"
            ]
          },
          "metadata": {
            "tags": []
          }
        },
        {
          "output_type": "display_data",
          "data": {
            "text/html": [
              "<pre>    To use these columns in scoring predictions, use a model that allows the use of additional features.</pre>"
            ],
            "text/plain": [
              "    To use these columns in scoring predictions, use a model that allows the use of additional features."
            ]
          },
          "metadata": {
            "tags": []
          }
        },
        {
          "output_type": "display_data",
          "data": {
            "text/html": [
              "<pre>Preparing data set.</pre>"
            ],
            "text/plain": [
              "Preparing data set."
            ]
          },
          "metadata": {
            "tags": []
          }
        },
        {
          "output_type": "display_data",
          "data": {
            "text/html": [
              "<pre>    Data has 8000 observations with 7145 users and 5152 items.</pre>"
            ],
            "text/plain": [
              "    Data has 8000 observations with 7145 users and 5152 items."
            ]
          },
          "metadata": {
            "tags": []
          }
        },
        {
          "output_type": "display_data",
          "data": {
            "text/html": [
              "<pre>    Data prepared in: 0.025575s</pre>"
            ],
            "text/plain": [
              "    Data prepared in: 0.025575s"
            ]
          },
          "metadata": {
            "tags": []
          }
        },
        {
          "output_type": "display_data",
          "data": {
            "text/html": [
              "<pre>Training model from provided data.</pre>"
            ],
            "text/plain": [
              "Training model from provided data."
            ]
          },
          "metadata": {
            "tags": []
          }
        },
        {
          "output_type": "display_data",
          "data": {
            "text/html": [
              "<pre>Gathering per-item and per-user statistics.</pre>"
            ],
            "text/plain": [
              "Gathering per-item and per-user statistics."
            ]
          },
          "metadata": {
            "tags": []
          }
        },
        {
          "output_type": "display_data",
          "data": {
            "text/html": [
              "<pre>+--------------------------------+------------+</pre>"
            ],
            "text/plain": [
              "+--------------------------------+------------+"
            ]
          },
          "metadata": {
            "tags": []
          }
        },
        {
          "output_type": "display_data",
          "data": {
            "text/html": [
              "<pre>| Elapsed Time (Item Statistics) | % Complete |</pre>"
            ],
            "text/plain": [
              "| Elapsed Time (Item Statistics) | % Complete |"
            ]
          },
          "metadata": {
            "tags": []
          }
        },
        {
          "output_type": "display_data",
          "data": {
            "text/html": [
              "<pre>+--------------------------------+------------+</pre>"
            ],
            "text/plain": [
              "+--------------------------------+------------+"
            ]
          },
          "metadata": {
            "tags": []
          }
        },
        {
          "output_type": "display_data",
          "data": {
            "text/html": [
              "<pre>| 310us                          | 13.75      |</pre>"
            ],
            "text/plain": [
              "| 310us                          | 13.75      |"
            ]
          },
          "metadata": {
            "tags": []
          }
        },
        {
          "output_type": "display_data",
          "data": {
            "text/html": [
              "<pre>| 811us                          | 100        |</pre>"
            ],
            "text/plain": [
              "| 811us                          | 100        |"
            ]
          },
          "metadata": {
            "tags": []
          }
        },
        {
          "output_type": "display_data",
          "data": {
            "text/html": [
              "<pre>+--------------------------------+------------+</pre>"
            ],
            "text/plain": [
              "+--------------------------------+------------+"
            ]
          },
          "metadata": {
            "tags": []
          }
        },
        {
          "output_type": "display_data",
          "data": {
            "text/html": [
              "<pre>Setting up lookup tables.</pre>"
            ],
            "text/plain": [
              "Setting up lookup tables."
            ]
          },
          "metadata": {
            "tags": []
          }
        },
        {
          "output_type": "display_data",
          "data": {
            "text/html": [
              "<pre>Processing data in one pass using dense lookup tables.</pre>"
            ],
            "text/plain": [
              "Processing data in one pass using dense lookup tables."
            ]
          },
          "metadata": {
            "tags": []
          }
        },
        {
          "output_type": "display_data",
          "data": {
            "text/html": [
              "<pre>+-------------------------------------+------------------+-----------------+</pre>"
            ],
            "text/plain": [
              "+-------------------------------------+------------------+-----------------+"
            ]
          },
          "metadata": {
            "tags": []
          }
        },
        {
          "output_type": "display_data",
          "data": {
            "text/html": [
              "<pre>| Elapsed Time (Constructing Lookups) | Total % Complete | Items Processed |</pre>"
            ],
            "text/plain": [
              "| Elapsed Time (Constructing Lookups) | Total % Complete | Items Processed |"
            ]
          },
          "metadata": {
            "tags": []
          }
        },
        {
          "output_type": "display_data",
          "data": {
            "text/html": [
              "<pre>+-------------------------------------+------------------+-----------------+</pre>"
            ],
            "text/plain": [
              "+-------------------------------------+------------------+-----------------+"
            ]
          },
          "metadata": {
            "tags": []
          }
        },
        {
          "output_type": "display_data",
          "data": {
            "text/html": [
              "<pre>| 30.244ms                            | 0                | 2               |</pre>"
            ],
            "text/plain": [
              "| 30.244ms                            | 0                | 2               |"
            ]
          },
          "metadata": {
            "tags": []
          }
        },
        {
          "output_type": "display_data",
          "data": {
            "text/html": [
              "<pre>| 129.49ms                            | 100              | 5152            |</pre>"
            ],
            "text/plain": [
              "| 129.49ms                            | 100              | 5152            |"
            ]
          },
          "metadata": {
            "tags": []
          }
        },
        {
          "output_type": "display_data",
          "data": {
            "text/html": [
              "<pre>+-------------------------------------+------------------+-----------------+</pre>"
            ],
            "text/plain": [
              "+-------------------------------------+------------------+-----------------+"
            ]
          },
          "metadata": {
            "tags": []
          }
        },
        {
          "output_type": "display_data",
          "data": {
            "text/html": [
              "<pre>Finalizing lookup tables.</pre>"
            ],
            "text/plain": [
              "Finalizing lookup tables."
            ]
          },
          "metadata": {
            "tags": []
          }
        },
        {
          "output_type": "display_data",
          "data": {
            "text/html": [
              "<pre>Generating candidate set for working with new users.</pre>"
            ],
            "text/plain": [
              "Generating candidate set for working with new users."
            ]
          },
          "metadata": {
            "tags": []
          }
        },
        {
          "output_type": "display_data",
          "data": {
            "text/html": [
              "<pre>Finished training in 0.135843s</pre>"
            ],
            "text/plain": [
              "Finished training in 0.135843s"
            ]
          },
          "metadata": {
            "tags": []
          }
        },
        {
          "output_type": "display_data",
          "data": {
            "text/html": [
              "<pre>recommendations finished on 1000/8823 queries. users per second: 53222.6</pre>"
            ],
            "text/plain": [
              "recommendations finished on 1000/8823 queries. users per second: 53222.6"
            ]
          },
          "metadata": {
            "tags": []
          }
        },
        {
          "output_type": "display_data",
          "data": {
            "text/html": [
              "<pre>recommendations finished on 2000/8823 queries. users per second: 52426</pre>"
            ],
            "text/plain": [
              "recommendations finished on 2000/8823 queries. users per second: 52426"
            ]
          },
          "metadata": {
            "tags": []
          }
        },
        {
          "output_type": "display_data",
          "data": {
            "text/html": [
              "<pre>recommendations finished on 3000/8823 queries. users per second: 51089</pre>"
            ],
            "text/plain": [
              "recommendations finished on 3000/8823 queries. users per second: 51089"
            ]
          },
          "metadata": {
            "tags": []
          }
        },
        {
          "output_type": "display_data",
          "data": {
            "text/html": [
              "<pre>recommendations finished on 4000/8823 queries. users per second: 51223.6</pre>"
            ],
            "text/plain": [
              "recommendations finished on 4000/8823 queries. users per second: 51223.6"
            ]
          },
          "metadata": {
            "tags": []
          }
        },
        {
          "output_type": "display_data",
          "data": {
            "text/html": [
              "<pre>recommendations finished on 5000/8823 queries. users per second: 51260.5</pre>"
            ],
            "text/plain": [
              "recommendations finished on 5000/8823 queries. users per second: 51260.5"
            ]
          },
          "metadata": {
            "tags": []
          }
        },
        {
          "output_type": "display_data",
          "data": {
            "text/html": [
              "<pre>recommendations finished on 6000/8823 queries. users per second: 51166.6</pre>"
            ],
            "text/plain": [
              "recommendations finished on 6000/8823 queries. users per second: 51166.6"
            ]
          },
          "metadata": {
            "tags": []
          }
        },
        {
          "output_type": "display_data",
          "data": {
            "text/html": [
              "<pre>recommendations finished on 7000/8823 queries. users per second: 49390.7</pre>"
            ],
            "text/plain": [
              "recommendations finished on 7000/8823 queries. users per second: 49390.7"
            ]
          },
          "metadata": {
            "tags": []
          }
        },
        {
          "output_type": "display_data",
          "data": {
            "text/html": [
              "<pre>recommendations finished on 8000/8823 queries. users per second: 46350.7</pre>"
            ],
            "text/plain": [
              "recommendations finished on 8000/8823 queries. users per second: 46350.7"
            ]
          },
          "metadata": {
            "tags": []
          }
        },
        {
          "output_type": "stream",
          "text": [
            "+-------------------------------+-------------------------------+-------+------+\n",
            "|          customer_id          |           product_id          | score | rank |\n",
            "+-------------------------------+-------------------------------+-------+------+\n",
            "| 0005ef4cd20d2893f0d9fbd94d... | 89e4362d74afa10ac57f8d6721... |  0.0  |  1   |\n",
            "| 0005ef4cd20d2893f0d9fbd94d... | c0380894bd866c75c47c00359d... |  0.0  |  2   |\n",
            "| 0005ef4cd20d2893f0d9fbd94d... | 6f3b5b605d91b7439c5e3f5a8d... |  0.0  |  3   |\n",
            "| 0005ef4cd20d2893f0d9fbd94d... | 2a478a360a293f087e352e88f1... |  0.0  |  4   |\n",
            "| 0005ef4cd20d2893f0d9fbd94d... | 2d27434c710806b971a721da33... |  0.0  |  5   |\n",
            "| 001ae5a1788703d64536c30362... | 89e4362d74afa10ac57f8d6721... |  0.0  |  1   |\n",
            "| 001ae5a1788703d64536c30362... | c0380894bd866c75c47c00359d... |  0.0  |  2   |\n",
            "| 001ae5a1788703d64536c30362... | 6f3b5b605d91b7439c5e3f5a8d... |  0.0  |  3   |\n",
            "| 001ae5a1788703d64536c30362... | 2a478a360a293f087e352e88f1... |  0.0  |  4   |\n",
            "| 001ae5a1788703d64536c30362... | 2d27434c710806b971a721da33... |  0.0  |  5   |\n",
            "| 0027324a96d26a2bc7d69262f8... | 89e4362d74afa10ac57f8d6721... |  0.0  |  1   |\n",
            "| 0027324a96d26a2bc7d69262f8... | c0380894bd866c75c47c00359d... |  0.0  |  2   |\n",
            "| 0027324a96d26a2bc7d69262f8... | 6f3b5b605d91b7439c5e3f5a8d... |  0.0  |  3   |\n",
            "| 0027324a96d26a2bc7d69262f8... | 2a478a360a293f087e352e88f1... |  0.0  |  4   |\n",
            "| 0027324a96d26a2bc7d69262f8... | 2d27434c710806b971a721da33... |  0.0  |  5   |\n",
            "+-------------------------------+-------------------------------+-------+------+\n",
            "[44115 rows x 4 columns]\n",
            "\n"
          ],
          "name": "stdout"
        }
      ]
    },
    {
      "cell_type": "code",
      "metadata": {
        "id": "wAnWFErzHFab",
        "colab_type": "code",
        "outputId": "bc89aadf-3986-4c0c-dd09-1d0db66e706d",
        "colab": {
          "base_uri": "https://localhost:8080/",
          "height": 1000
        }
      },
      "source": [
        "name = 'cosine'\n",
        "target = 'value_freq'\n",
        "cos_norm = model(train_data_normF, name, user_id, item_id, target, users_to_recommend, n_rec, n_display)\n"
      ],
      "execution_count": 0,
      "outputs": [
        {
          "output_type": "display_data",
          "data": {
            "text/html": [
              "<pre>Preparing data set.</pre>"
            ],
            "text/plain": [
              "Preparing data set."
            ]
          },
          "metadata": {
            "tags": []
          }
        },
        {
          "output_type": "display_data",
          "data": {
            "text/html": [
              "<pre>    Data has 11449 observations with 7672 users and 1243 items.</pre>"
            ],
            "text/plain": [
              "    Data has 11449 observations with 7672 users and 1243 items."
            ]
          },
          "metadata": {
            "tags": []
          }
        },
        {
          "output_type": "display_data",
          "data": {
            "text/html": [
              "<pre>    Data prepared in: 0.029596s</pre>"
            ],
            "text/plain": [
              "    Data prepared in: 0.029596s"
            ]
          },
          "metadata": {
            "tags": []
          }
        },
        {
          "output_type": "display_data",
          "data": {
            "text/html": [
              "<pre>Training model from provided data.</pre>"
            ],
            "text/plain": [
              "Training model from provided data."
            ]
          },
          "metadata": {
            "tags": []
          }
        },
        {
          "output_type": "display_data",
          "data": {
            "text/html": [
              "<pre>Gathering per-item and per-user statistics.</pre>"
            ],
            "text/plain": [
              "Gathering per-item and per-user statistics."
            ]
          },
          "metadata": {
            "tags": []
          }
        },
        {
          "output_type": "display_data",
          "data": {
            "text/html": [
              "<pre>+--------------------------------+------------+</pre>"
            ],
            "text/plain": [
              "+--------------------------------+------------+"
            ]
          },
          "metadata": {
            "tags": []
          }
        },
        {
          "output_type": "display_data",
          "data": {
            "text/html": [
              "<pre>| Elapsed Time (Item Statistics) | % Complete |</pre>"
            ],
            "text/plain": [
              "| Elapsed Time (Item Statistics) | % Complete |"
            ]
          },
          "metadata": {
            "tags": []
          }
        },
        {
          "output_type": "display_data",
          "data": {
            "text/html": [
              "<pre>+--------------------------------+------------+</pre>"
            ],
            "text/plain": [
              "+--------------------------------+------------+"
            ]
          },
          "metadata": {
            "tags": []
          }
        },
        {
          "output_type": "display_data",
          "data": {
            "text/html": [
              "<pre>| 809us                          | 13         |</pre>"
            ],
            "text/plain": [
              "| 809us                          | 13         |"
            ]
          },
          "metadata": {
            "tags": []
          }
        },
        {
          "output_type": "display_data",
          "data": {
            "text/html": [
              "<pre>| 2.817ms                        | 100        |</pre>"
            ],
            "text/plain": [
              "| 2.817ms                        | 100        |"
            ]
          },
          "metadata": {
            "tags": []
          }
        },
        {
          "output_type": "display_data",
          "data": {
            "text/html": [
              "<pre>+--------------------------------+------------+</pre>"
            ],
            "text/plain": [
              "+--------------------------------+------------+"
            ]
          },
          "metadata": {
            "tags": []
          }
        },
        {
          "output_type": "display_data",
          "data": {
            "text/html": [
              "<pre>Setting up lookup tables.</pre>"
            ],
            "text/plain": [
              "Setting up lookup tables."
            ]
          },
          "metadata": {
            "tags": []
          }
        },
        {
          "output_type": "display_data",
          "data": {
            "text/html": [
              "<pre>Processing data in one pass using dense lookup tables.</pre>"
            ],
            "text/plain": [
              "Processing data in one pass using dense lookup tables."
            ]
          },
          "metadata": {
            "tags": []
          }
        },
        {
          "output_type": "display_data",
          "data": {
            "text/html": [
              "<pre>+-------------------------------------+------------------+-----------------+</pre>"
            ],
            "text/plain": [
              "+-------------------------------------+------------------+-----------------+"
            ]
          },
          "metadata": {
            "tags": []
          }
        },
        {
          "output_type": "display_data",
          "data": {
            "text/html": [
              "<pre>| Elapsed Time (Constructing Lookups) | Total % Complete | Items Processed |</pre>"
            ],
            "text/plain": [
              "| Elapsed Time (Constructing Lookups) | Total % Complete | Items Processed |"
            ]
          },
          "metadata": {
            "tags": []
          }
        },
        {
          "output_type": "display_data",
          "data": {
            "text/html": [
              "<pre>+-------------------------------------+------------------+-----------------+</pre>"
            ],
            "text/plain": [
              "+-------------------------------------+------------------+-----------------+"
            ]
          },
          "metadata": {
            "tags": []
          }
        },
        {
          "output_type": "display_data",
          "data": {
            "text/html": [
              "<pre>| 5.974ms                             | 0                | 0               |</pre>"
            ],
            "text/plain": [
              "| 5.974ms                             | 0                | 0               |"
            ]
          },
          "metadata": {
            "tags": []
          }
        },
        {
          "output_type": "display_data",
          "data": {
            "text/html": [
              "<pre>| 46.224ms                            | 100              | 1243            |</pre>"
            ],
            "text/plain": [
              "| 46.224ms                            | 100              | 1243            |"
            ]
          },
          "metadata": {
            "tags": []
          }
        },
        {
          "output_type": "display_data",
          "data": {
            "text/html": [
              "<pre>+-------------------------------------+------------------+-----------------+</pre>"
            ],
            "text/plain": [
              "+-------------------------------------+------------------+-----------------+"
            ]
          },
          "metadata": {
            "tags": []
          }
        },
        {
          "output_type": "display_data",
          "data": {
            "text/html": [
              "<pre>Finalizing lookup tables.</pre>"
            ],
            "text/plain": [
              "Finalizing lookup tables."
            ]
          },
          "metadata": {
            "tags": []
          }
        },
        {
          "output_type": "display_data",
          "data": {
            "text/html": [
              "<pre>Generating candidate set for working with new users.</pre>"
            ],
            "text/plain": [
              "Generating candidate set for working with new users."
            ]
          },
          "metadata": {
            "tags": []
          }
        },
        {
          "output_type": "display_data",
          "data": {
            "text/html": [
              "<pre>Finished training in 0.052336s</pre>"
            ],
            "text/plain": [
              "Finished training in 0.052336s"
            ]
          },
          "metadata": {
            "tags": []
          }
        },
        {
          "output_type": "display_data",
          "data": {
            "text/html": [
              "<pre>recommendations finished on 1000/8823 queries. users per second: 159185</pre>"
            ],
            "text/plain": [
              "recommendations finished on 1000/8823 queries. users per second: 159185"
            ]
          },
          "metadata": {
            "tags": []
          }
        },
        {
          "output_type": "display_data",
          "data": {
            "text/html": [
              "<pre>recommendations finished on 2000/8823 queries. users per second: 170025</pre>"
            ],
            "text/plain": [
              "recommendations finished on 2000/8823 queries. users per second: 170025"
            ]
          },
          "metadata": {
            "tags": []
          }
        },
        {
          "output_type": "display_data",
          "data": {
            "text/html": [
              "<pre>recommendations finished on 3000/8823 queries. users per second: 168757</pre>"
            ],
            "text/plain": [
              "recommendations finished on 3000/8823 queries. users per second: 168757"
            ]
          },
          "metadata": {
            "tags": []
          }
        },
        {
          "output_type": "display_data",
          "data": {
            "text/html": [
              "<pre>recommendations finished on 4000/8823 queries. users per second: 167413</pre>"
            ],
            "text/plain": [
              "recommendations finished on 4000/8823 queries. users per second: 167413"
            ]
          },
          "metadata": {
            "tags": []
          }
        },
        {
          "output_type": "display_data",
          "data": {
            "text/html": [
              "<pre>recommendations finished on 5000/8823 queries. users per second: 169245</pre>"
            ],
            "text/plain": [
              "recommendations finished on 5000/8823 queries. users per second: 169245"
            ]
          },
          "metadata": {
            "tags": []
          }
        },
        {
          "output_type": "display_data",
          "data": {
            "text/html": [
              "<pre>recommendations finished on 6000/8823 queries. users per second: 168686</pre>"
            ],
            "text/plain": [
              "recommendations finished on 6000/8823 queries. users per second: 168686"
            ]
          },
          "metadata": {
            "tags": []
          }
        },
        {
          "output_type": "display_data",
          "data": {
            "text/html": [
              "<pre>recommendations finished on 7000/8823 queries. users per second: 167729</pre>"
            ],
            "text/plain": [
              "recommendations finished on 7000/8823 queries. users per second: 167729"
            ]
          },
          "metadata": {
            "tags": []
          }
        },
        {
          "output_type": "display_data",
          "data": {
            "text/html": [
              "<pre>recommendations finished on 8000/8823 queries. users per second: 167210</pre>"
            ],
            "text/plain": [
              "recommendations finished on 8000/8823 queries. users per second: 167210"
            ]
          },
          "metadata": {
            "tags": []
          }
        },
        {
          "output_type": "stream",
          "text": [
            "+-------------------------------+-------------------------------+\n",
            "|          customer_id          |           product_id          |\n",
            "+-------------------------------+-------------------------------+\n",
            "| 0005ef4cd20d2893f0d9fbd94d... | cba32576375902a87170bedaed... |\n",
            "| 0005ef4cd20d2893f0d9fbd94d... | 1fa52682d6938b129312ef4cff... |\n",
            "| 0005ef4cd20d2893f0d9fbd94d... | 672a21bf17c63f71edbe01ecb9... |\n",
            "| 0005ef4cd20d2893f0d9fbd94d... | c2a1ff8408a1c857c8730e4d12... |\n",
            "| 0005ef4cd20d2893f0d9fbd94d... | b8762d562d810c2f8d7ad7e9c1... |\n",
            "| 001ae5a1788703d64536c30362... | cba32576375902a87170bedaed... |\n",
            "| 001ae5a1788703d64536c30362... | 1fa52682d6938b129312ef4cff... |\n",
            "| 001ae5a1788703d64536c30362... | 672a21bf17c63f71edbe01ecb9... |\n",
            "| 001ae5a1788703d64536c30362... | c2a1ff8408a1c857c8730e4d12... |\n",
            "| 001ae5a1788703d64536c30362... | b8762d562d810c2f8d7ad7e9c1... |\n",
            "| 0027324a96d26a2bc7d69262f8... | cba32576375902a87170bedaed... |\n",
            "| 0027324a96d26a2bc7d69262f8... | 1fa52682d6938b129312ef4cff... |\n",
            "| 0027324a96d26a2bc7d69262f8... | 672a21bf17c63f71edbe01ecb9... |\n",
            "| 0027324a96d26a2bc7d69262f8... | c2a1ff8408a1c857c8730e4d12... |\n",
            "| 0027324a96d26a2bc7d69262f8... | b8762d562d810c2f8d7ad7e9c1... |\n",
            "+-------------------------------+-------------------------------+\n",
            "+------------------------+------+\n",
            "|         score          | rank |\n",
            "+------------------------+------+\n",
            "| 4.1365623474121094e-05 |  1   |\n",
            "| 4.1365623474121094e-05 |  2   |\n",
            "| 4.1365623474121094e-05 |  3   |\n",
            "| 4.1365623474121094e-05 |  4   |\n",
            "| 4.1365623474121094e-05 |  5   |\n",
            "| 8.654594421386719e-05  |  1   |\n",
            "| 8.654594421386719e-05  |  2   |\n",
            "| 8.654594421386719e-05  |  3   |\n",
            "| 8.654594421386719e-05  |  4   |\n",
            "| 8.654594421386719e-05  |  5   |\n",
            "| 2.372264862060547e-05  |  1   |\n",
            "| 2.372264862060547e-05  |  2   |\n",
            "| 2.372264862060547e-05  |  3   |\n",
            "| 2.372264862060547e-05  |  4   |\n",
            "| 2.372264862060547e-05  |  5   |\n",
            "+------------------------+------+\n",
            "[44115 rows x 4 columns]\n",
            "\n"
          ],
          "name": "stdout"
        }
      ]
    },
    {
      "cell_type": "markdown",
      "metadata": {
        "id": "7_llA8A4Ha3L",
        "colab_type": "text"
      },
      "source": [
        "### Pearson"
      ]
    },
    {
      "cell_type": "code",
      "metadata": {
        "id": "30mKRlGlHcOW",
        "colab_type": "code",
        "outputId": "a7fc57fe-4918-4f8d-dc55-20b825f19f42",
        "colab": {
          "base_uri": "https://localhost:8080/",
          "height": 938
        }
      },
      "source": [
        "name = 'pearson'\n",
        "target = 'total_value'\n",
        "pear = model(train_dataF, name, user_id, item_id, target, users_to_recommend, n_rec, n_display)"
      ],
      "execution_count": 0,
      "outputs": [
        {
          "output_type": "display_data",
          "data": {
            "text/html": [
              "<pre>Warning: Ignoring columns order_id, order_item_id, customer_zip_code_prefix, seller_id, shipping_limit_date, price, freight_value, credit_card, debit_card, boleto, voucher, not_defined, num_txn, order_status, order_purchase_timestamp, order_approved_at, order_delivered_carrier_date, order_delivered_customer_date, order_estimated_delivery_date;</pre>"
            ],
            "text/plain": [
              "Warning: Ignoring columns order_id, order_item_id, customer_zip_code_prefix, seller_id, shipping_limit_date, price, freight_value, credit_card, debit_card, boleto, voucher, not_defined, num_txn, order_status, order_purchase_timestamp, order_approved_at, order_delivered_carrier_date, order_delivered_customer_date, order_estimated_delivery_date;"
            ]
          },
          "metadata": {
            "tags": []
          }
        },
        {
          "output_type": "display_data",
          "data": {
            "text/html": [
              "<pre>    To use these columns in scoring predictions, use a model that allows the use of additional features.</pre>"
            ],
            "text/plain": [
              "    To use these columns in scoring predictions, use a model that allows the use of additional features."
            ]
          },
          "metadata": {
            "tags": []
          }
        },
        {
          "output_type": "display_data",
          "data": {
            "text/html": [
              "<pre>Preparing data set.</pre>"
            ],
            "text/plain": [
              "Preparing data set."
            ]
          },
          "metadata": {
            "tags": []
          }
        },
        {
          "output_type": "display_data",
          "data": {
            "text/html": [
              "<pre>    Data has 8000 observations with 7145 users and 5152 items.</pre>"
            ],
            "text/plain": [
              "    Data has 8000 observations with 7145 users and 5152 items."
            ]
          },
          "metadata": {
            "tags": []
          }
        },
        {
          "output_type": "display_data",
          "data": {
            "text/html": [
              "<pre>    Data prepared in: 0.024521s</pre>"
            ],
            "text/plain": [
              "    Data prepared in: 0.024521s"
            ]
          },
          "metadata": {
            "tags": []
          }
        },
        {
          "output_type": "display_data",
          "data": {
            "text/html": [
              "<pre>Training model from provided data.</pre>"
            ],
            "text/plain": [
              "Training model from provided data."
            ]
          },
          "metadata": {
            "tags": []
          }
        },
        {
          "output_type": "display_data",
          "data": {
            "text/html": [
              "<pre>Gathering per-item and per-user statistics.</pre>"
            ],
            "text/plain": [
              "Gathering per-item and per-user statistics."
            ]
          },
          "metadata": {
            "tags": []
          }
        },
        {
          "output_type": "display_data",
          "data": {
            "text/html": [
              "<pre>+--------------------------------+------------+</pre>"
            ],
            "text/plain": [
              "+--------------------------------+------------+"
            ]
          },
          "metadata": {
            "tags": []
          }
        },
        {
          "output_type": "display_data",
          "data": {
            "text/html": [
              "<pre>| Elapsed Time (Item Statistics) | % Complete |</pre>"
            ],
            "text/plain": [
              "| Elapsed Time (Item Statistics) | % Complete |"
            ]
          },
          "metadata": {
            "tags": []
          }
        },
        {
          "output_type": "display_data",
          "data": {
            "text/html": [
              "<pre>+--------------------------------+------------+</pre>"
            ],
            "text/plain": [
              "+--------------------------------+------------+"
            ]
          },
          "metadata": {
            "tags": []
          }
        },
        {
          "output_type": "display_data",
          "data": {
            "text/html": [
              "<pre>| 351us                          | 13.75      |</pre>"
            ],
            "text/plain": [
              "| 351us                          | 13.75      |"
            ]
          },
          "metadata": {
            "tags": []
          }
        },
        {
          "output_type": "display_data",
          "data": {
            "text/html": [
              "<pre>| 2.058ms                        | 100        |</pre>"
            ],
            "text/plain": [
              "| 2.058ms                        | 100        |"
            ]
          },
          "metadata": {
            "tags": []
          }
        },
        {
          "output_type": "display_data",
          "data": {
            "text/html": [
              "<pre>+--------------------------------+------------+</pre>"
            ],
            "text/plain": [
              "+--------------------------------+------------+"
            ]
          },
          "metadata": {
            "tags": []
          }
        },
        {
          "output_type": "display_data",
          "data": {
            "text/html": [
              "<pre>Setting up lookup tables.</pre>"
            ],
            "text/plain": [
              "Setting up lookup tables."
            ]
          },
          "metadata": {
            "tags": []
          }
        },
        {
          "output_type": "display_data",
          "data": {
            "text/html": [
              "<pre>Processing data in one pass using dense lookup tables.</pre>"
            ],
            "text/plain": [
              "Processing data in one pass using dense lookup tables."
            ]
          },
          "metadata": {
            "tags": []
          }
        },
        {
          "output_type": "display_data",
          "data": {
            "text/html": [
              "<pre>+-------------------------------------+------------------+-----------------+</pre>"
            ],
            "text/plain": [
              "+-------------------------------------+------------------+-----------------+"
            ]
          },
          "metadata": {
            "tags": []
          }
        },
        {
          "output_type": "display_data",
          "data": {
            "text/html": [
              "<pre>| Elapsed Time (Constructing Lookups) | Total % Complete | Items Processed |</pre>"
            ],
            "text/plain": [
              "| Elapsed Time (Constructing Lookups) | Total % Complete | Items Processed |"
            ]
          },
          "metadata": {
            "tags": []
          }
        },
        {
          "output_type": "display_data",
          "data": {
            "text/html": [
              "<pre>+-------------------------------------+------------------+-----------------+</pre>"
            ],
            "text/plain": [
              "+-------------------------------------+------------------+-----------------+"
            ]
          },
          "metadata": {
            "tags": []
          }
        },
        {
          "output_type": "display_data",
          "data": {
            "text/html": [
              "<pre>| 31.545ms                            | 0                | 2               |</pre>"
            ],
            "text/plain": [
              "| 31.545ms                            | 0                | 2               |"
            ]
          },
          "metadata": {
            "tags": []
          }
        },
        {
          "output_type": "display_data",
          "data": {
            "text/html": [
              "<pre>| 116.454ms                           | 100              | 5152            |</pre>"
            ],
            "text/plain": [
              "| 116.454ms                           | 100              | 5152            |"
            ]
          },
          "metadata": {
            "tags": []
          }
        },
        {
          "output_type": "display_data",
          "data": {
            "text/html": [
              "<pre>+-------------------------------------+------------------+-----------------+</pre>"
            ],
            "text/plain": [
              "+-------------------------------------+------------------+-----------------+"
            ]
          },
          "metadata": {
            "tags": []
          }
        },
        {
          "output_type": "display_data",
          "data": {
            "text/html": [
              "<pre>Finalizing lookup tables.</pre>"
            ],
            "text/plain": [
              "Finalizing lookup tables."
            ]
          },
          "metadata": {
            "tags": []
          }
        },
        {
          "output_type": "display_data",
          "data": {
            "text/html": [
              "<pre>Generating candidate set for working with new users.</pre>"
            ],
            "text/plain": [
              "Generating candidate set for working with new users."
            ]
          },
          "metadata": {
            "tags": []
          }
        },
        {
          "output_type": "display_data",
          "data": {
            "text/html": [
              "<pre>Finished training in 0.128483s</pre>"
            ],
            "text/plain": [
              "Finished training in 0.128483s"
            ]
          },
          "metadata": {
            "tags": []
          }
        },
        {
          "output_type": "display_data",
          "data": {
            "text/html": [
              "<pre>recommendations finished on 1000/8823 queries. users per second: 49519.7</pre>"
            ],
            "text/plain": [
              "recommendations finished on 1000/8823 queries. users per second: 49519.7"
            ]
          },
          "metadata": {
            "tags": []
          }
        },
        {
          "output_type": "display_data",
          "data": {
            "text/html": [
              "<pre>recommendations finished on 2000/8823 queries. users per second: 48797.2</pre>"
            ],
            "text/plain": [
              "recommendations finished on 2000/8823 queries. users per second: 48797.2"
            ]
          },
          "metadata": {
            "tags": []
          }
        },
        {
          "output_type": "display_data",
          "data": {
            "text/html": [
              "<pre>recommendations finished on 3000/8823 queries. users per second: 48292.1</pre>"
            ],
            "text/plain": [
              "recommendations finished on 3000/8823 queries. users per second: 48292.1"
            ]
          },
          "metadata": {
            "tags": []
          }
        },
        {
          "output_type": "display_data",
          "data": {
            "text/html": [
              "<pre>recommendations finished on 4000/8823 queries. users per second: 47430.5</pre>"
            ],
            "text/plain": [
              "recommendations finished on 4000/8823 queries. users per second: 47430.5"
            ]
          },
          "metadata": {
            "tags": []
          }
        },
        {
          "output_type": "display_data",
          "data": {
            "text/html": [
              "<pre>recommendations finished on 5000/8823 queries. users per second: 47128</pre>"
            ],
            "text/plain": [
              "recommendations finished on 5000/8823 queries. users per second: 47128"
            ]
          },
          "metadata": {
            "tags": []
          }
        },
        {
          "output_type": "display_data",
          "data": {
            "text/html": [
              "<pre>recommendations finished on 6000/8823 queries. users per second: 47003.2</pre>"
            ],
            "text/plain": [
              "recommendations finished on 6000/8823 queries. users per second: 47003.2"
            ]
          },
          "metadata": {
            "tags": []
          }
        },
        {
          "output_type": "display_data",
          "data": {
            "text/html": [
              "<pre>recommendations finished on 7000/8823 queries. users per second: 46591.2</pre>"
            ],
            "text/plain": [
              "recommendations finished on 7000/8823 queries. users per second: 46591.2"
            ]
          },
          "metadata": {
            "tags": []
          }
        },
        {
          "output_type": "display_data",
          "data": {
            "text/html": [
              "<pre>recommendations finished on 8000/8823 queries. users per second: 43563.7</pre>"
            ],
            "text/plain": [
              "recommendations finished on 8000/8823 queries. users per second: 43563.7"
            ]
          },
          "metadata": {
            "tags": []
          }
        },
        {
          "output_type": "stream",
          "text": [
            "+-------------------------------+-------------------------------+----------+------+\n",
            "|          customer_id          |           product_id          |  score   | rank |\n",
            "+-------------------------------+-------------------------------+----------+------+\n",
            "| 0005ef4cd20d2893f0d9fbd94d... | 34f99d82cfc355d08d8db780d1... | 312650.0 |  1   |\n",
            "| 0005ef4cd20d2893f0d9fbd94d... | a233df9a388d27dbdfd31731d4... | 278416.0 |  2   |\n",
            "| 0005ef4cd20d2893f0d9fbd94d... | a3cd9517ebf5a50dca25acce54... | 271336.0 |  3   |\n",
            "| 0005ef4cd20d2893f0d9fbd94d... | ada6a9116c85d8e56232e0a426... | 232522.0 |  4   |\n",
            "| 0005ef4cd20d2893f0d9fbd94d... | 8a12c0e223d9dbd49ccfcd2ad2... | 218742.0 |  5   |\n",
            "| 001ae5a1788703d64536c30362... | 34f99d82cfc355d08d8db780d1... | 312650.0 |  1   |\n",
            "| 001ae5a1788703d64536c30362... | a233df9a388d27dbdfd31731d4... | 278416.0 |  2   |\n",
            "| 001ae5a1788703d64536c30362... | a3cd9517ebf5a50dca25acce54... | 271336.0 |  3   |\n",
            "| 001ae5a1788703d64536c30362... | ada6a9116c85d8e56232e0a426... | 232522.0 |  4   |\n",
            "| 001ae5a1788703d64536c30362... | 8a12c0e223d9dbd49ccfcd2ad2... | 218742.0 |  5   |\n",
            "| 0027324a96d26a2bc7d69262f8... | 34f99d82cfc355d08d8db780d1... | 312650.0 |  1   |\n",
            "| 0027324a96d26a2bc7d69262f8... | a233df9a388d27dbdfd31731d4... | 278416.0 |  2   |\n",
            "| 0027324a96d26a2bc7d69262f8... | a3cd9517ebf5a50dca25acce54... | 271336.0 |  3   |\n",
            "| 0027324a96d26a2bc7d69262f8... | ada6a9116c85d8e56232e0a426... | 232522.0 |  4   |\n",
            "| 0027324a96d26a2bc7d69262f8... | 8a12c0e223d9dbd49ccfcd2ad2... | 218742.0 |  5   |\n",
            "+-------------------------------+-------------------------------+----------+------+\n",
            "[44115 rows x 4 columns]\n",
            "\n"
          ],
          "name": "stdout"
        }
      ]
    },
    {
      "cell_type": "code",
      "metadata": {
        "id": "XVBueeQJHgR8",
        "colab_type": "code",
        "outputId": "93247246-c0c4-4113-ccc5-6625f600d698",
        "colab": {
          "base_uri": "https://localhost:8080/",
          "height": 938
        }
      },
      "source": [
        "name = 'pearson'\n",
        "target = 'total_dummy'\n",
        "pear_dummy = model(train_data_dummyF, name, user_id, item_id, target, users_to_recommend, n_rec, n_display)"
      ],
      "execution_count": 0,
      "outputs": [
        {
          "output_type": "display_data",
          "data": {
            "text/html": [
              "<pre>Warning: Ignoring columns order_id, order_item_id, customer_zip_code_prefix, seller_id, shipping_limit_date, price, freight_value, total_value, credit_card, debit_card, boleto, voucher, not_defined, num_txn, order_status, order_purchase_timestamp, order_approved_at, order_delivered_carrier_date, order_delivered_customer_date, order_estimated_delivery_date;</pre>"
            ],
            "text/plain": [
              "Warning: Ignoring columns order_id, order_item_id, customer_zip_code_prefix, seller_id, shipping_limit_date, price, freight_value, total_value, credit_card, debit_card, boleto, voucher, not_defined, num_txn, order_status, order_purchase_timestamp, order_approved_at, order_delivered_carrier_date, order_delivered_customer_date, order_estimated_delivery_date;"
            ]
          },
          "metadata": {
            "tags": []
          }
        },
        {
          "output_type": "display_data",
          "data": {
            "text/html": [
              "<pre>    To use these columns in scoring predictions, use a model that allows the use of additional features.</pre>"
            ],
            "text/plain": [
              "    To use these columns in scoring predictions, use a model that allows the use of additional features."
            ]
          },
          "metadata": {
            "tags": []
          }
        },
        {
          "output_type": "display_data",
          "data": {
            "text/html": [
              "<pre>Preparing data set.</pre>"
            ],
            "text/plain": [
              "Preparing data set."
            ]
          },
          "metadata": {
            "tags": []
          }
        },
        {
          "output_type": "display_data",
          "data": {
            "text/html": [
              "<pre>    Data has 8000 observations with 7145 users and 5152 items.</pre>"
            ],
            "text/plain": [
              "    Data has 8000 observations with 7145 users and 5152 items."
            ]
          },
          "metadata": {
            "tags": []
          }
        },
        {
          "output_type": "display_data",
          "data": {
            "text/html": [
              "<pre>    Data prepared in: 0.023352s</pre>"
            ],
            "text/plain": [
              "    Data prepared in: 0.023352s"
            ]
          },
          "metadata": {
            "tags": []
          }
        },
        {
          "output_type": "display_data",
          "data": {
            "text/html": [
              "<pre>Training model from provided data.</pre>"
            ],
            "text/plain": [
              "Training model from provided data."
            ]
          },
          "metadata": {
            "tags": []
          }
        },
        {
          "output_type": "display_data",
          "data": {
            "text/html": [
              "<pre>Gathering per-item and per-user statistics.</pre>"
            ],
            "text/plain": [
              "Gathering per-item and per-user statistics."
            ]
          },
          "metadata": {
            "tags": []
          }
        },
        {
          "output_type": "display_data",
          "data": {
            "text/html": [
              "<pre>+--------------------------------+------------+</pre>"
            ],
            "text/plain": [
              "+--------------------------------+------------+"
            ]
          },
          "metadata": {
            "tags": []
          }
        },
        {
          "output_type": "display_data",
          "data": {
            "text/html": [
              "<pre>| Elapsed Time (Item Statistics) | % Complete |</pre>"
            ],
            "text/plain": [
              "| Elapsed Time (Item Statistics) | % Complete |"
            ]
          },
          "metadata": {
            "tags": []
          }
        },
        {
          "output_type": "display_data",
          "data": {
            "text/html": [
              "<pre>+--------------------------------+------------+</pre>"
            ],
            "text/plain": [
              "+--------------------------------+------------+"
            ]
          },
          "metadata": {
            "tags": []
          }
        },
        {
          "output_type": "display_data",
          "data": {
            "text/html": [
              "<pre>| 223us                          | 13.75      |</pre>"
            ],
            "text/plain": [
              "| 223us                          | 13.75      |"
            ]
          },
          "metadata": {
            "tags": []
          }
        },
        {
          "output_type": "display_data",
          "data": {
            "text/html": [
              "<pre>| 1.157ms                        | 100        |</pre>"
            ],
            "text/plain": [
              "| 1.157ms                        | 100        |"
            ]
          },
          "metadata": {
            "tags": []
          }
        },
        {
          "output_type": "display_data",
          "data": {
            "text/html": [
              "<pre>+--------------------------------+------------+</pre>"
            ],
            "text/plain": [
              "+--------------------------------+------------+"
            ]
          },
          "metadata": {
            "tags": []
          }
        },
        {
          "output_type": "display_data",
          "data": {
            "text/html": [
              "<pre>Setting up lookup tables.</pre>"
            ],
            "text/plain": [
              "Setting up lookup tables."
            ]
          },
          "metadata": {
            "tags": []
          }
        },
        {
          "output_type": "display_data",
          "data": {
            "text/html": [
              "<pre>Processing data in one pass using dense lookup tables.</pre>"
            ],
            "text/plain": [
              "Processing data in one pass using dense lookup tables."
            ]
          },
          "metadata": {
            "tags": []
          }
        },
        {
          "output_type": "display_data",
          "data": {
            "text/html": [
              "<pre>+-------------------------------------+------------------+-----------------+</pre>"
            ],
            "text/plain": [
              "+-------------------------------------+------------------+-----------------+"
            ]
          },
          "metadata": {
            "tags": []
          }
        },
        {
          "output_type": "display_data",
          "data": {
            "text/html": [
              "<pre>| Elapsed Time (Constructing Lookups) | Total % Complete | Items Processed |</pre>"
            ],
            "text/plain": [
              "| Elapsed Time (Constructing Lookups) | Total % Complete | Items Processed |"
            ]
          },
          "metadata": {
            "tags": []
          }
        },
        {
          "output_type": "display_data",
          "data": {
            "text/html": [
              "<pre>+-------------------------------------+------------------+-----------------+</pre>"
            ],
            "text/plain": [
              "+-------------------------------------+------------------+-----------------+"
            ]
          },
          "metadata": {
            "tags": []
          }
        },
        {
          "output_type": "display_data",
          "data": {
            "text/html": [
              "<pre>| 26.796ms                            | 0                | 2               |</pre>"
            ],
            "text/plain": [
              "| 26.796ms                            | 0                | 2               |"
            ]
          },
          "metadata": {
            "tags": []
          }
        },
        {
          "output_type": "display_data",
          "data": {
            "text/html": [
              "<pre>| 131.194ms                           | 100              | 5152            |</pre>"
            ],
            "text/plain": [
              "| 131.194ms                           | 100              | 5152            |"
            ]
          },
          "metadata": {
            "tags": []
          }
        },
        {
          "output_type": "display_data",
          "data": {
            "text/html": [
              "<pre>+-------------------------------------+------------------+-----------------+</pre>"
            ],
            "text/plain": [
              "+-------------------------------------+------------------+-----------------+"
            ]
          },
          "metadata": {
            "tags": []
          }
        },
        {
          "output_type": "display_data",
          "data": {
            "text/html": [
              "<pre>Finalizing lookup tables.</pre>"
            ],
            "text/plain": [
              "Finalizing lookup tables."
            ]
          },
          "metadata": {
            "tags": []
          }
        },
        {
          "output_type": "display_data",
          "data": {
            "text/html": [
              "<pre>Generating candidate set for working with new users.</pre>"
            ],
            "text/plain": [
              "Generating candidate set for working with new users."
            ]
          },
          "metadata": {
            "tags": []
          }
        },
        {
          "output_type": "display_data",
          "data": {
            "text/html": [
              "<pre>Finished training in 0.13895s</pre>"
            ],
            "text/plain": [
              "Finished training in 0.13895s"
            ]
          },
          "metadata": {
            "tags": []
          }
        },
        {
          "output_type": "display_data",
          "data": {
            "text/html": [
              "<pre>recommendations finished on 1000/8823 queries. users per second: 29908.8</pre>"
            ],
            "text/plain": [
              "recommendations finished on 1000/8823 queries. users per second: 29908.8"
            ]
          },
          "metadata": {
            "tags": []
          }
        },
        {
          "output_type": "display_data",
          "data": {
            "text/html": [
              "<pre>recommendations finished on 2000/8823 queries. users per second: 30657.9</pre>"
            ],
            "text/plain": [
              "recommendations finished on 2000/8823 queries. users per second: 30657.9"
            ]
          },
          "metadata": {
            "tags": []
          }
        },
        {
          "output_type": "display_data",
          "data": {
            "text/html": [
              "<pre>recommendations finished on 3000/8823 queries. users per second: 30851.5</pre>"
            ],
            "text/plain": [
              "recommendations finished on 3000/8823 queries. users per second: 30851.5"
            ]
          },
          "metadata": {
            "tags": []
          }
        },
        {
          "output_type": "display_data",
          "data": {
            "text/html": [
              "<pre>recommendations finished on 4000/8823 queries. users per second: 30461.6</pre>"
            ],
            "text/plain": [
              "recommendations finished on 4000/8823 queries. users per second: 30461.6"
            ]
          },
          "metadata": {
            "tags": []
          }
        },
        {
          "output_type": "display_data",
          "data": {
            "text/html": [
              "<pre>recommendations finished on 5000/8823 queries. users per second: 30572.1</pre>"
            ],
            "text/plain": [
              "recommendations finished on 5000/8823 queries. users per second: 30572.1"
            ]
          },
          "metadata": {
            "tags": []
          }
        },
        {
          "output_type": "display_data",
          "data": {
            "text/html": [
              "<pre>recommendations finished on 6000/8823 queries. users per second: 30508.3</pre>"
            ],
            "text/plain": [
              "recommendations finished on 6000/8823 queries. users per second: 30508.3"
            ]
          },
          "metadata": {
            "tags": []
          }
        },
        {
          "output_type": "display_data",
          "data": {
            "text/html": [
              "<pre>recommendations finished on 7000/8823 queries. users per second: 30580.6</pre>"
            ],
            "text/plain": [
              "recommendations finished on 7000/8823 queries. users per second: 30580.6"
            ]
          },
          "metadata": {
            "tags": []
          }
        },
        {
          "output_type": "display_data",
          "data": {
            "text/html": [
              "<pre>recommendations finished on 8000/8823 queries. users per second: 30721</pre>"
            ],
            "text/plain": [
              "recommendations finished on 8000/8823 queries. users per second: 30721"
            ]
          },
          "metadata": {
            "tags": []
          }
        },
        {
          "output_type": "stream",
          "text": [
            "+-------------------------------+-------------------------------+-------+------+\n",
            "|          customer_id          |           product_id          | score | rank |\n",
            "+-------------------------------+-------------------------------+-------+------+\n",
            "| 0005ef4cd20d2893f0d9fbd94d... | 89e4362d74afa10ac57f8d6721... |  0.0  |  1   |\n",
            "| 0005ef4cd20d2893f0d9fbd94d... | c0380894bd866c75c47c00359d... |  0.0  |  2   |\n",
            "| 0005ef4cd20d2893f0d9fbd94d... | 6f3b5b605d91b7439c5e3f5a8d... |  0.0  |  3   |\n",
            "| 0005ef4cd20d2893f0d9fbd94d... | 2a478a360a293f087e352e88f1... |  0.0  |  4   |\n",
            "| 0005ef4cd20d2893f0d9fbd94d... | 2d27434c710806b971a721da33... |  0.0  |  5   |\n",
            "| 001ae5a1788703d64536c30362... | 89e4362d74afa10ac57f8d6721... |  0.0  |  1   |\n",
            "| 001ae5a1788703d64536c30362... | c0380894bd866c75c47c00359d... |  0.0  |  2   |\n",
            "| 001ae5a1788703d64536c30362... | 6f3b5b605d91b7439c5e3f5a8d... |  0.0  |  3   |\n",
            "| 001ae5a1788703d64536c30362... | 2a478a360a293f087e352e88f1... |  0.0  |  4   |\n",
            "| 001ae5a1788703d64536c30362... | 2d27434c710806b971a721da33... |  0.0  |  5   |\n",
            "| 0027324a96d26a2bc7d69262f8... | 89e4362d74afa10ac57f8d6721... |  0.0  |  1   |\n",
            "| 0027324a96d26a2bc7d69262f8... | c0380894bd866c75c47c00359d... |  0.0  |  2   |\n",
            "| 0027324a96d26a2bc7d69262f8... | 6f3b5b605d91b7439c5e3f5a8d... |  0.0  |  3   |\n",
            "| 0027324a96d26a2bc7d69262f8... | 2a478a360a293f087e352e88f1... |  0.0  |  4   |\n",
            "| 0027324a96d26a2bc7d69262f8... | 2d27434c710806b971a721da33... |  0.0  |  5   |\n",
            "+-------------------------------+-------------------------------+-------+------+\n",
            "[44115 rows x 4 columns]\n",
            "\n"
          ],
          "name": "stdout"
        }
      ]
    },
    {
      "cell_type": "code",
      "metadata": {
        "id": "BotbzQMfHg4i",
        "colab_type": "code",
        "outputId": "e84fd460-e834-4602-c9da-4a6748375758",
        "colab": {
          "base_uri": "https://localhost:8080/",
          "height": 884
        }
      },
      "source": [
        "name = 'pearson'\n",
        "target = 'value_freq'\n",
        "pear_norm = model(train_data_normF, name, user_id, item_id, target, users_to_recommend, n_rec, n_display)"
      ],
      "execution_count": 0,
      "outputs": [
        {
          "output_type": "display_data",
          "data": {
            "text/html": [
              "<pre>Preparing data set.</pre>"
            ],
            "text/plain": [
              "Preparing data set."
            ]
          },
          "metadata": {
            "tags": []
          }
        },
        {
          "output_type": "display_data",
          "data": {
            "text/html": [
              "<pre>    Data has 11449 observations with 7672 users and 1243 items.</pre>"
            ],
            "text/plain": [
              "    Data has 11449 observations with 7672 users and 1243 items."
            ]
          },
          "metadata": {
            "tags": []
          }
        },
        {
          "output_type": "display_data",
          "data": {
            "text/html": [
              "<pre>    Data prepared in: 0.028263s</pre>"
            ],
            "text/plain": [
              "    Data prepared in: 0.028263s"
            ]
          },
          "metadata": {
            "tags": []
          }
        },
        {
          "output_type": "display_data",
          "data": {
            "text/html": [
              "<pre>Training model from provided data.</pre>"
            ],
            "text/plain": [
              "Training model from provided data."
            ]
          },
          "metadata": {
            "tags": []
          }
        },
        {
          "output_type": "display_data",
          "data": {
            "text/html": [
              "<pre>Gathering per-item and per-user statistics.</pre>"
            ],
            "text/plain": [
              "Gathering per-item and per-user statistics."
            ]
          },
          "metadata": {
            "tags": []
          }
        },
        {
          "output_type": "display_data",
          "data": {
            "text/html": [
              "<pre>+--------------------------------+------------+</pre>"
            ],
            "text/plain": [
              "+--------------------------------+------------+"
            ]
          },
          "metadata": {
            "tags": []
          }
        },
        {
          "output_type": "display_data",
          "data": {
            "text/html": [
              "<pre>| Elapsed Time (Item Statistics) | % Complete |</pre>"
            ],
            "text/plain": [
              "| Elapsed Time (Item Statistics) | % Complete |"
            ]
          },
          "metadata": {
            "tags": []
          }
        },
        {
          "output_type": "display_data",
          "data": {
            "text/html": [
              "<pre>+--------------------------------+------------+</pre>"
            ],
            "text/plain": [
              "+--------------------------------+------------+"
            ]
          },
          "metadata": {
            "tags": []
          }
        },
        {
          "output_type": "display_data",
          "data": {
            "text/html": [
              "<pre>| 508us                          | 13         |</pre>"
            ],
            "text/plain": [
              "| 508us                          | 13         |"
            ]
          },
          "metadata": {
            "tags": []
          }
        },
        {
          "output_type": "display_data",
          "data": {
            "text/html": [
              "<pre>| 2.012ms                        | 100        |</pre>"
            ],
            "text/plain": [
              "| 2.012ms                        | 100        |"
            ]
          },
          "metadata": {
            "tags": []
          }
        },
        {
          "output_type": "display_data",
          "data": {
            "text/html": [
              "<pre>+--------------------------------+------------+</pre>"
            ],
            "text/plain": [
              "+--------------------------------+------------+"
            ]
          },
          "metadata": {
            "tags": []
          }
        },
        {
          "output_type": "display_data",
          "data": {
            "text/html": [
              "<pre>Setting up lookup tables.</pre>"
            ],
            "text/plain": [
              "Setting up lookup tables."
            ]
          },
          "metadata": {
            "tags": []
          }
        },
        {
          "output_type": "display_data",
          "data": {
            "text/html": [
              "<pre>Processing data in one pass using dense lookup tables.</pre>"
            ],
            "text/plain": [
              "Processing data in one pass using dense lookup tables."
            ]
          },
          "metadata": {
            "tags": []
          }
        },
        {
          "output_type": "display_data",
          "data": {
            "text/html": [
              "<pre>+-------------------------------------+------------------+-----------------+</pre>"
            ],
            "text/plain": [
              "+-------------------------------------+------------------+-----------------+"
            ]
          },
          "metadata": {
            "tags": []
          }
        },
        {
          "output_type": "display_data",
          "data": {
            "text/html": [
              "<pre>| Elapsed Time (Constructing Lookups) | Total % Complete | Items Processed |</pre>"
            ],
            "text/plain": [
              "| Elapsed Time (Constructing Lookups) | Total % Complete | Items Processed |"
            ]
          },
          "metadata": {
            "tags": []
          }
        },
        {
          "output_type": "display_data",
          "data": {
            "text/html": [
              "<pre>+-------------------------------------+------------------+-----------------+</pre>"
            ],
            "text/plain": [
              "+-------------------------------------+------------------+-----------------+"
            ]
          },
          "metadata": {
            "tags": []
          }
        },
        {
          "output_type": "display_data",
          "data": {
            "text/html": [
              "<pre>| 4.434ms                             | 0                | 0               |</pre>"
            ],
            "text/plain": [
              "| 4.434ms                             | 0                | 0               |"
            ]
          },
          "metadata": {
            "tags": []
          }
        },
        {
          "output_type": "display_data",
          "data": {
            "text/html": [
              "<pre>| 51.732ms                            | 100              | 1243            |</pre>"
            ],
            "text/plain": [
              "| 51.732ms                            | 100              | 1243            |"
            ]
          },
          "metadata": {
            "tags": []
          }
        },
        {
          "output_type": "display_data",
          "data": {
            "text/html": [
              "<pre>+-------------------------------------+------------------+-----------------+</pre>"
            ],
            "text/plain": [
              "+-------------------------------------+------------------+-----------------+"
            ]
          },
          "metadata": {
            "tags": []
          }
        },
        {
          "output_type": "display_data",
          "data": {
            "text/html": [
              "<pre>Finalizing lookup tables.</pre>"
            ],
            "text/plain": [
              "Finalizing lookup tables."
            ]
          },
          "metadata": {
            "tags": []
          }
        },
        {
          "output_type": "display_data",
          "data": {
            "text/html": [
              "<pre>Generating candidate set for working with new users.</pre>"
            ],
            "text/plain": [
              "Generating candidate set for working with new users."
            ]
          },
          "metadata": {
            "tags": []
          }
        },
        {
          "output_type": "display_data",
          "data": {
            "text/html": [
              "<pre>Finished training in 0.055861s</pre>"
            ],
            "text/plain": [
              "Finished training in 0.055861s"
            ]
          },
          "metadata": {
            "tags": []
          }
        },
        {
          "output_type": "display_data",
          "data": {
            "text/html": [
              "<pre>recommendations finished on 1000/8823 queries. users per second: 125423</pre>"
            ],
            "text/plain": [
              "recommendations finished on 1000/8823 queries. users per second: 125423"
            ]
          },
          "metadata": {
            "tags": []
          }
        },
        {
          "output_type": "display_data",
          "data": {
            "text/html": [
              "<pre>recommendations finished on 2000/8823 queries. users per second: 124224</pre>"
            ],
            "text/plain": [
              "recommendations finished on 2000/8823 queries. users per second: 124224"
            ]
          },
          "metadata": {
            "tags": []
          }
        },
        {
          "output_type": "display_data",
          "data": {
            "text/html": [
              "<pre>recommendations finished on 3000/8823 queries. users per second: 124321</pre>"
            ],
            "text/plain": [
              "recommendations finished on 3000/8823 queries. users per second: 124321"
            ]
          },
          "metadata": {
            "tags": []
          }
        },
        {
          "output_type": "display_data",
          "data": {
            "text/html": [
              "<pre>recommendations finished on 4000/8823 queries. users per second: 124016</pre>"
            ],
            "text/plain": [
              "recommendations finished on 4000/8823 queries. users per second: 124016"
            ]
          },
          "metadata": {
            "tags": []
          }
        },
        {
          "output_type": "display_data",
          "data": {
            "text/html": [
              "<pre>recommendations finished on 5000/8823 queries. users per second: 118047</pre>"
            ],
            "text/plain": [
              "recommendations finished on 5000/8823 queries. users per second: 118047"
            ]
          },
          "metadata": {
            "tags": []
          }
        },
        {
          "output_type": "display_data",
          "data": {
            "text/html": [
              "<pre>recommendations finished on 6000/8823 queries. users per second: 117417</pre>"
            ],
            "text/plain": [
              "recommendations finished on 6000/8823 queries. users per second: 117417"
            ]
          },
          "metadata": {
            "tags": []
          }
        },
        {
          "output_type": "display_data",
          "data": {
            "text/html": [
              "<pre>recommendations finished on 7000/8823 queries. users per second: 117760</pre>"
            ],
            "text/plain": [
              "recommendations finished on 7000/8823 queries. users per second: 117760"
            ]
          },
          "metadata": {
            "tags": []
          }
        },
        {
          "output_type": "display_data",
          "data": {
            "text/html": [
              "<pre>recommendations finished on 8000/8823 queries. users per second: 116087</pre>"
            ],
            "text/plain": [
              "recommendations finished on 8000/8823 queries. users per second: 116087"
            ]
          },
          "metadata": {
            "tags": []
          }
        },
        {
          "output_type": "stream",
          "text": [
            "+-------------------------------+-------------------------------+-------+------+\n",
            "|          customer_id          |           product_id          | score | rank |\n",
            "+-------------------------------+-------------------------------+-------+------+\n",
            "| 0005ef4cd20d2893f0d9fbd94d... | 3a7c9b0413d7b9cc7f4a18318f... |  1.0  |  1   |\n",
            "| 0005ef4cd20d2893f0d9fbd94d... | c1f5307decb89342351bec5366... |  1.0  |  2   |\n",
            "| 0005ef4cd20d2893f0d9fbd94d... | e38bfda757257dee1985af625f... |  1.0  |  3   |\n",
            "| 0005ef4cd20d2893f0d9fbd94d... | fa7be99321f2dbb1e518d2139c... |  1.0  |  4   |\n",
            "| 0005ef4cd20d2893f0d9fbd94d... | c2a1ff8408a1c857c8730e4d12... |  1.0  |  5   |\n",
            "| 001ae5a1788703d64536c30362... | 3a7c9b0413d7b9cc7f4a18318f... |  1.0  |  1   |\n",
            "| 001ae5a1788703d64536c30362... | c1f5307decb89342351bec5366... |  1.0  |  2   |\n",
            "| 001ae5a1788703d64536c30362... | e38bfda757257dee1985af625f... |  1.0  |  3   |\n",
            "| 001ae5a1788703d64536c30362... | fa7be99321f2dbb1e518d2139c... |  1.0  |  4   |\n",
            "| 001ae5a1788703d64536c30362... | c2a1ff8408a1c857c8730e4d12... |  1.0  |  5   |\n",
            "| 0027324a96d26a2bc7d69262f8... | 3a7c9b0413d7b9cc7f4a18318f... |  1.0  |  1   |\n",
            "| 0027324a96d26a2bc7d69262f8... | c1f5307decb89342351bec5366... |  1.0  |  2   |\n",
            "| 0027324a96d26a2bc7d69262f8... | e38bfda757257dee1985af625f... |  1.0  |  3   |\n",
            "| 0027324a96d26a2bc7d69262f8... | fa7be99321f2dbb1e518d2139c... |  1.0  |  4   |\n",
            "| 0027324a96d26a2bc7d69262f8... | c2a1ff8408a1c857c8730e4d12... |  1.0  |  5   |\n",
            "+-------------------------------+-------------------------------+-------+------+\n",
            "[44115 rows x 4 columns]\n",
            "\n"
          ],
          "name": "stdout"
        }
      ]
    },
    {
      "cell_type": "markdown",
      "metadata": {
        "id": "vAxja327H3cs",
        "colab_type": "text"
      },
      "source": [
        "### Evaluación de Modelos"
      ]
    },
    {
      "cell_type": "code",
      "metadata": {
        "id": "l8KqDWzjH5Xp",
        "colab_type": "code",
        "colab": {}
      },
      "source": [
        "models_w_counts = [popularity_model, cos, pear]\n",
        "models_w_dummy = [pop_dummy, cos_dummy, pear_dummy]\n",
        "models_w_norm = [pop_norm, cos_norm, pear_norm]\n",
        "names_w_counts = ['Popularity Model on Purchase Counts', 'Cosine Similarity on Purchase Counts', 'Pearson Similarity on Purchase Counts']\n",
        "names_w_dummy = ['Popularity Model on Purchase Dummy', 'Cosine Similarity on Purchase Dummy', 'Pearson Similarity on Purchase Dummy']\n",
        "names_w_norm = ['Popularity Model on Scaled Purchase Counts', 'Cosine Similarity on Scaled Purchase Counts', 'Pearson Similarity on Scaled Purchase Counts']"
      ],
      "execution_count": 0,
      "outputs": []
    },
    {
      "cell_type": "code",
      "metadata": {
        "id": "9wZ_V_o_H87o",
        "colab_type": "code",
        "outputId": "7c7485fe-3db9-4c4e-ad87-ab84f9130eb5",
        "colab": {
          "base_uri": "https://localhost:8080/",
          "height": 1000
        }
      },
      "source": [
        "eval_counts = tc.recommender.util.compare_models(test_dataF, models_w_counts, model_names=names_w_counts)"
      ],
      "execution_count": 0,
      "outputs": [
        {
          "output_type": "stream",
          "text": [
            "PROGRESS: Evaluate model Popularity Model on Purchase Counts\n"
          ],
          "name": "stdout"
        },
        {
          "output_type": "display_data",
          "data": {
            "text/html": [
              "<pre>recommendations finished on 1000/1925 queries. users per second: 29113.8</pre>"
            ],
            "text/plain": [
              "recommendations finished on 1000/1925 queries. users per second: 29113.8"
            ]
          },
          "metadata": {
            "tags": []
          }
        },
        {
          "output_type": "stream",
          "text": [
            "\n",
            "Precision and recall summary statistics by cutoff\n",
            "+--------+------------------------+-----------------------+\n",
            "| cutoff |     mean_precision     |      mean_recall      |\n",
            "+--------+------------------------+-----------------------+\n",
            "|   1    |          0.0           |          0.0          |\n",
            "|   2    |          0.0           |          0.0          |\n",
            "|   3    |          0.0           |          0.0          |\n",
            "|   4    | 0.00012987012987013011 | 0.0005194805194805205 |\n",
            "|   5    | 0.00010389610389610396 | 0.0005194805194805205 |\n",
            "|   6    | 8.658008658008655e-05  | 0.0005194805194805205 |\n",
            "|   7    | 7.421150278293136e-05  | 0.0005194805194805205 |\n",
            "|   8    | 6.493506493506506e-05  | 0.0005194805194805205 |\n",
            "|   9    | 5.772005772005777e-05  | 0.0005194805194805205 |\n",
            "|   10   | 5.194805194805198e-05  | 0.0005194805194805205 |\n",
            "+--------+------------------------+-----------------------+\n",
            "[10 rows x 3 columns]\n",
            "\n",
            "\n",
            "Overall RMSE: 22151.621327945515\n",
            "\n",
            "Per User RMSE (best)\n",
            "+-------------------------------+------+-------+\n",
            "|          customer_id          | rmse | count |\n",
            "+-------------------------------+------+-------+\n",
            "| 67673cba900e87f119fa66fb71... | 0.0  |   1   |\n",
            "+-------------------------------+------+-------+\n",
            "[1 rows x 3 columns]\n",
            "\n",
            "\n",
            "Per User RMSE (worst)\n",
            "+-------------------------------+-------------+-------+\n",
            "|          customer_id          |     rmse    | count |\n",
            "+-------------------------------+-------------+-------+\n",
            "| dc4802a71eae9be1dd28f5d788... | 679018.4735 |   1   |\n",
            "+-------------------------------+-------------+-------+\n",
            "[1 rows x 3 columns]\n",
            "\n",
            "\n",
            "Per Item RMSE (best)\n",
            "+-------------------------------+------+-------+\n",
            "|           product_id          | rmse | count |\n",
            "+-------------------------------+------+-------+\n",
            "| 426c58d69aa402e5397c4b6471... | 0.0  |   1   |\n",
            "+-------------------------------+------+-------+\n",
            "[1 rows x 3 columns]\n",
            "\n",
            "\n",
            "Per Item RMSE (worst)\n",
            "+-------------------------------+-------------+-------+\n",
            "|           product_id          |     rmse    | count |\n",
            "+-------------------------------+-------------+-------+\n",
            "| 489ae2aa008f021502940f251d... | 679018.4735 |   1   |\n",
            "+-------------------------------+-------------+-------+\n",
            "[1 rows x 3 columns]\n",
            "\n",
            "PROGRESS: Evaluate model Cosine Similarity on Purchase Counts\n"
          ],
          "name": "stdout"
        },
        {
          "output_type": "display_data",
          "data": {
            "text/html": [
              "<pre>recommendations finished on 1000/1925 queries. users per second: 34647.6</pre>"
            ],
            "text/plain": [
              "recommendations finished on 1000/1925 queries. users per second: 34647.6"
            ]
          },
          "metadata": {
            "tags": []
          }
        },
        {
          "output_type": "stream",
          "text": [
            "\n",
            "Precision and recall summary statistics by cutoff\n",
            "+--------+------------------------+-----------------------+\n",
            "| cutoff |     mean_precision     |      mean_recall      |\n",
            "+--------+------------------------+-----------------------+\n",
            "|   1    | 0.0005194805194805214  | 0.0005194805194805214 |\n",
            "|   2    | 0.0002597402597402607  | 0.0005194805194805214 |\n",
            "|   3    | 0.00017316017316017313 | 0.0005194805194805214 |\n",
            "|   4    | 0.00012987012987013036 | 0.0005194805194805214 |\n",
            "|   5    | 0.00010389610389610413 | 0.0005194805194805214 |\n",
            "|   6    | 8.658008658008657e-05  | 0.0005194805194805214 |\n",
            "|   7    | 7.421150278293148e-05  | 0.0005194805194805214 |\n",
            "|   8    | 6.493506493506518e-05  | 0.0005194805194805214 |\n",
            "|   9    | 5.772005772005774e-05  | 0.0005194805194805214 |\n",
            "|   10   | 5.194805194805206e-05  | 0.0005194805194805214 |\n",
            "+--------+------------------------+-----------------------+\n",
            "[10 rows x 3 columns]\n",
            "\n",
            "\n",
            "Overall RMSE: 28745.340672310755\n",
            "\n",
            "Per User RMSE (best)\n",
            "+-------------------------------+--------+-------+\n",
            "|          customer_id          |  rmse  | count |\n",
            "+-------------------------------+--------+-------+\n",
            "| 57b555c68da8a376b55460b582... | 1362.0 |   3   |\n",
            "+-------------------------------+--------+-------+\n",
            "[1 rows x 3 columns]\n",
            "\n",
            "\n",
            "Per User RMSE (worst)\n",
            "+-------------------------------+----------+-------+\n",
            "|          customer_id          |   rmse   | count |\n",
            "+-------------------------------+----------+-------+\n",
            "| dc4802a71eae9be1dd28f5d788... | 692931.0 |   1   |\n",
            "+-------------------------------+----------+-------+\n",
            "[1 rows x 3 columns]\n",
            "\n",
            "\n",
            "Per Item RMSE (best)\n",
            "+-------------------------------+--------+-------+\n",
            "|           product_id          |  rmse  | count |\n",
            "+-------------------------------+--------+-------+\n",
            "| 19fee5d5b066841b45bc3e9783... | 1362.0 |   3   |\n",
            "+-------------------------------+--------+-------+\n",
            "[1 rows x 3 columns]\n",
            "\n",
            "\n",
            "Per Item RMSE (worst)\n",
            "+-------------------------------+----------+-------+\n",
            "|           product_id          |   rmse   | count |\n",
            "+-------------------------------+----------+-------+\n",
            "| 489ae2aa008f021502940f251d... | 692931.0 |   1   |\n",
            "+-------------------------------+----------+-------+\n",
            "[1 rows x 3 columns]\n",
            "\n",
            "PROGRESS: Evaluate model Pearson Similarity on Purchase Counts\n"
          ],
          "name": "stdout"
        },
        {
          "output_type": "display_data",
          "data": {
            "text/html": [
              "<pre>recommendations finished on 1000/1925 queries. users per second: 27401.8</pre>"
            ],
            "text/plain": [
              "recommendations finished on 1000/1925 queries. users per second: 27401.8"
            ]
          },
          "metadata": {
            "tags": []
          }
        },
        {
          "output_type": "stream",
          "text": [
            "\n",
            "Precision and recall summary statistics by cutoff\n",
            "+--------+------------------------+-----------------------+\n",
            "| cutoff |     mean_precision     |      mean_recall      |\n",
            "+--------+------------------------+-----------------------+\n",
            "|   1    |          0.0           |          0.0          |\n",
            "|   2    |          0.0           |          0.0          |\n",
            "|   3    |          0.0           |          0.0          |\n",
            "|   4    | 0.00012987012987012995 | 0.0005194805194805198 |\n",
            "|   5    | 0.00010389610389610391 | 0.0005194805194805198 |\n",
            "|   6    | 8.658008658008657e-05  | 0.0005194805194805198 |\n",
            "|   7    | 7.421150278293143e-05  | 0.0005194805194805198 |\n",
            "|   8    | 6.493506493506498e-05  | 0.0005194805194805198 |\n",
            "|   9    | 5.772005772005773e-05  | 0.0005194805194805198 |\n",
            "|   10   | 5.194805194805196e-05  | 0.0005194805194805198 |\n",
            "+--------+------------------------+-----------------------+\n",
            "[10 rows x 3 columns]\n",
            "\n",
            "\n",
            "Overall RMSE: 24954.44409477508\n",
            "\n",
            "Per User RMSE (best)\n",
            "+-------------------------------+------+-------+\n",
            "|          customer_id          | rmse | count |\n",
            "+-------------------------------+------+-------+\n",
            "| 67673cba900e87f119fa66fb71... | 0.0  |   1   |\n",
            "+-------------------------------+------+-------+\n",
            "[1 rows x 3 columns]\n",
            "\n",
            "\n",
            "Per User RMSE (worst)\n",
            "+-------------------------------+----------+-------+\n",
            "|          customer_id          |   rmse   | count |\n",
            "+-------------------------------+----------+-------+\n",
            "| dc4802a71eae9be1dd28f5d788... | 692931.0 |   1   |\n",
            "+-------------------------------+----------+-------+\n",
            "[1 rows x 3 columns]\n",
            "\n",
            "\n",
            "Per Item RMSE (best)\n",
            "+-------------------------------+------+-------+\n",
            "|           product_id          | rmse | count |\n",
            "+-------------------------------+------+-------+\n",
            "| 426c58d69aa402e5397c4b6471... | 0.0  |   1   |\n",
            "+-------------------------------+------+-------+\n",
            "[1 rows x 3 columns]\n",
            "\n",
            "\n",
            "Per Item RMSE (worst)\n",
            "+-------------------------------+----------+-------+\n",
            "|           product_id          |   rmse   | count |\n",
            "+-------------------------------+----------+-------+\n",
            "| 489ae2aa008f021502940f251d... | 692931.0 |   1   |\n",
            "+-------------------------------+----------+-------+\n",
            "[1 rows x 3 columns]\n",
            "\n"
          ],
          "name": "stdout"
        }
      ]
    },
    {
      "cell_type": "code",
      "metadata": {
        "id": "hErQG7eAICwP",
        "colab_type": "code",
        "outputId": "ddc47957-61bb-4e46-d08d-93e2ec2fc1ea",
        "colab": {
          "base_uri": "https://localhost:8080/",
          "height": 1000
        }
      },
      "source": [
        "eval_dummy = tc.recommender.util.compare_models(test_data_dummyF, models_w_dummy, model_names=names_w_dummy)"
      ],
      "execution_count": 0,
      "outputs": [
        {
          "output_type": "stream",
          "text": [
            "PROGRESS: Evaluate model Popularity Model on Purchase Dummy\n"
          ],
          "name": "stdout"
        },
        {
          "output_type": "display_data",
          "data": {
            "text/html": [
              "<pre>recommendations finished on 1000/1925 queries. users per second: 44577.2</pre>"
            ],
            "text/plain": [
              "recommendations finished on 1000/1925 queries. users per second: 44577.2"
            ]
          },
          "metadata": {
            "tags": []
          }
        },
        {
          "output_type": "stream",
          "text": [
            "\n",
            "Precision and recall summary statistics by cutoff\n",
            "+--------+------------------------+-----------------------+\n",
            "| cutoff |     mean_precision     |      mean_recall      |\n",
            "+--------+------------------------+-----------------------+\n",
            "|   1    |          0.0           |          0.0          |\n",
            "|   2    |          0.0           |          0.0          |\n",
            "|   3    |          0.0           |          0.0          |\n",
            "|   4    |          0.0           |          0.0          |\n",
            "|   5    |          0.0           |          0.0          |\n",
            "|   6    |          0.0           |          0.0          |\n",
            "|   7    |          0.0           |          0.0          |\n",
            "|   8    |          0.0           |          0.0          |\n",
            "|   9    |          0.0           |          0.0          |\n",
            "|   10   | 5.1948051948052154e-05 | 0.0005194805194805222 |\n",
            "+--------+------------------------+-----------------------+\n",
            "[10 rows x 3 columns]\n",
            "\n",
            "\n",
            "Overall RMSE: 0.0\n",
            "\n",
            "Per User RMSE (best)\n",
            "+-------------------------------+------+-------+\n",
            "|          customer_id          | rmse | count |\n",
            "+-------------------------------+------+-------+\n",
            "| a55d6a572f9ed8a230f10665db... | 0.0  |   1   |\n",
            "+-------------------------------+------+-------+\n",
            "[1 rows x 3 columns]\n",
            "\n",
            "\n",
            "Per User RMSE (worst)\n",
            "+-------------------------------+------+-------+\n",
            "|          customer_id          | rmse | count |\n",
            "+-------------------------------+------+-------+\n",
            "| adea59a1abb5ffb0a7ba18bbaa... | 0.0  |   1   |\n",
            "+-------------------------------+------+-------+\n",
            "[1 rows x 3 columns]\n",
            "\n",
            "\n",
            "Per Item RMSE (best)\n",
            "+-------------------------------+------+-------+\n",
            "|           product_id          | rmse | count |\n",
            "+-------------------------------+------+-------+\n",
            "| 9007d9a8a0d332c61d9dd611fa... | 0.0  |   1   |\n",
            "+-------------------------------+------+-------+\n",
            "[1 rows x 3 columns]\n",
            "\n",
            "\n",
            "Per Item RMSE (worst)\n",
            "+-------------------------------+------+-------+\n",
            "|           product_id          | rmse | count |\n",
            "+-------------------------------+------+-------+\n",
            "| 2d2fbde9939c282238dc0847b0... | 0.0  |   1   |\n",
            "+-------------------------------+------+-------+\n",
            "[1 rows x 3 columns]\n",
            "\n",
            "PROGRESS: Evaluate model Cosine Similarity on Purchase Dummy\n"
          ],
          "name": "stdout"
        },
        {
          "output_type": "display_data",
          "data": {
            "text/html": [
              "<pre>recommendations finished on 1000/1925 queries. users per second: 35549.2</pre>"
            ],
            "text/plain": [
              "recommendations finished on 1000/1925 queries. users per second: 35549.2"
            ]
          },
          "metadata": {
            "tags": []
          }
        },
        {
          "output_type": "stream",
          "text": [
            "\n",
            "Precision and recall summary statistics by cutoff\n",
            "+--------+------------------------+-----------------------+\n",
            "| cutoff |     mean_precision     |      mean_recall      |\n",
            "+--------+------------------------+-----------------------+\n",
            "|   1    | 0.0015584415584415595  | 0.0015584415584415595 |\n",
            "|   2    | 0.0007792207792207798  | 0.0015584415584415595 |\n",
            "|   3    | 0.0005194805194805214  | 0.0015584415584415595 |\n",
            "|   4    | 0.0003896103896103899  | 0.0015584415584415595 |\n",
            "|   5    | 0.0003116883116883118  | 0.0015584415584415595 |\n",
            "|   6    | 0.0002597402597402607  | 0.0015584415584415595 |\n",
            "|   7    | 0.00022263450834879414 | 0.0015584415584415595 |\n",
            "|   8    | 0.00019480519480519494 | 0.0015584415584415595 |\n",
            "|   9    | 0.0001731601731601732  | 0.0015584415584415595 |\n",
            "|   10   | 0.00020779220779220826 |  0.002077922077922087 |\n",
            "+--------+------------------------+-----------------------+\n",
            "[10 rows x 3 columns]\n",
            "\n",
            "\n",
            "Overall RMSE: 0.9956131832943412\n",
            "\n",
            "Per User RMSE (best)\n",
            "+-------------------------------+------+-------+\n",
            "|          customer_id          | rmse | count |\n",
            "+-------------------------------+------+-------+\n",
            "| db9a58053c3f7ab8be9970e6b2... | 0.25 |   2   |\n",
            "+-------------------------------+------+-------+\n",
            "[1 rows x 3 columns]\n",
            "\n",
            "\n",
            "Per User RMSE (worst)\n",
            "+-------------------------------+------+-------+\n",
            "|          customer_id          | rmse | count |\n",
            "+-------------------------------+------+-------+\n",
            "| adea59a1abb5ffb0a7ba18bbaa... | 1.0  |   1   |\n",
            "+-------------------------------+------+-------+\n",
            "[1 rows x 3 columns]\n",
            "\n",
            "\n",
            "Per Item RMSE (best)\n",
            "+-------------------------------+------+-------+\n",
            "|           product_id          | rmse | count |\n",
            "+-------------------------------+------+-------+\n",
            "| 83e2059df06602e05d9bc1abf2... | 0.25 |   1   |\n",
            "+-------------------------------+------+-------+\n",
            "[1 rows x 3 columns]\n",
            "\n",
            "\n",
            "Per Item RMSE (worst)\n",
            "+-------------------------------+------+-------+\n",
            "|           product_id          | rmse | count |\n",
            "+-------------------------------+------+-------+\n",
            "| 2d2fbde9939c282238dc0847b0... | 1.0  |   1   |\n",
            "+-------------------------------+------+-------+\n",
            "[1 rows x 3 columns]\n",
            "\n",
            "PROGRESS: Evaluate model Pearson Similarity on Purchase Dummy\n"
          ],
          "name": "stdout"
        },
        {
          "output_type": "display_data",
          "data": {
            "text/html": [
              "<pre>recommendations finished on 1000/1925 queries. users per second: 31020.3</pre>"
            ],
            "text/plain": [
              "recommendations finished on 1000/1925 queries. users per second: 31020.3"
            ]
          },
          "metadata": {
            "tags": []
          }
        },
        {
          "output_type": "stream",
          "text": [
            "\n",
            "Precision and recall summary statistics by cutoff\n",
            "+--------+------------------------+-----------------------+\n",
            "| cutoff |     mean_precision     |      mean_recall      |\n",
            "+--------+------------------------+-----------------------+\n",
            "|   1    |          0.0           |          0.0          |\n",
            "|   2    |          0.0           |          0.0          |\n",
            "|   3    |          0.0           |          0.0          |\n",
            "|   4    |          0.0           |          0.0          |\n",
            "|   5    |          0.0           |          0.0          |\n",
            "|   6    |          0.0           |          0.0          |\n",
            "|   7    |          0.0           |          0.0          |\n",
            "|   8    |          0.0           |          0.0          |\n",
            "|   9    |          0.0           |          0.0          |\n",
            "|   10   | 5.1948051948051944e-05 | 0.0005194805194805198 |\n",
            "+--------+------------------------+-----------------------+\n",
            "[10 rows x 3 columns]\n",
            "\n",
            "\n",
            "Overall RMSE: 1.0\n",
            "\n",
            "Per User RMSE (best)\n",
            "+-------------------------------+------+-------+\n",
            "|          customer_id          | rmse | count |\n",
            "+-------------------------------+------+-------+\n",
            "| a55d6a572f9ed8a230f10665db... | 1.0  |   1   |\n",
            "+-------------------------------+------+-------+\n",
            "[1 rows x 3 columns]\n",
            "\n",
            "\n",
            "Per User RMSE (worst)\n",
            "+-------------------------------+------+-------+\n",
            "|          customer_id          | rmse | count |\n",
            "+-------------------------------+------+-------+\n",
            "| adea59a1abb5ffb0a7ba18bbaa... | 1.0  |   1   |\n",
            "+-------------------------------+------+-------+\n",
            "[1 rows x 3 columns]\n",
            "\n",
            "\n",
            "Per Item RMSE (best)\n",
            "+-------------------------------+------+-------+\n",
            "|           product_id          | rmse | count |\n",
            "+-------------------------------+------+-------+\n",
            "| 9007d9a8a0d332c61d9dd611fa... | 1.0  |   1   |\n",
            "+-------------------------------+------+-------+\n",
            "[1 rows x 3 columns]\n",
            "\n",
            "\n",
            "Per Item RMSE (worst)\n",
            "+-------------------------------+------+-------+\n",
            "|           product_id          | rmse | count |\n",
            "+-------------------------------+------+-------+\n",
            "| 2d2fbde9939c282238dc0847b0... | 1.0  |   1   |\n",
            "+-------------------------------+------+-------+\n",
            "[1 rows x 3 columns]\n",
            "\n"
          ],
          "name": "stdout"
        }
      ]
    },
    {
      "cell_type": "code",
      "metadata": {
        "id": "JMOA4zhXIFXQ",
        "colab_type": "code",
        "outputId": "c44b5763-4fdd-48c5-a5d3-022f37bf8298",
        "colab": {
          "base_uri": "https://localhost:8080/",
          "height": 1000
        }
      },
      "source": [
        "eval_norm = tc.recommender.util.compare_models(test_data_normF, models_w_norm, model_names=names_w_norm)"
      ],
      "execution_count": 0,
      "outputs": [
        {
          "output_type": "stream",
          "text": [
            "PROGRESS: Evaluate model Popularity Model on Scaled Purchase Counts\n"
          ],
          "name": "stdout"
        },
        {
          "output_type": "display_data",
          "data": {
            "text/html": [
              "<pre>recommendations finished on 1000/2456 queries. users per second: 98609.6</pre>"
            ],
            "text/plain": [
              "recommendations finished on 1000/2456 queries. users per second: 98609.6"
            ]
          },
          "metadata": {
            "tags": []
          }
        },
        {
          "output_type": "display_data",
          "data": {
            "text/html": [
              "<pre>recommendations finished on 2000/2456 queries. users per second: 84752.9</pre>"
            ],
            "text/plain": [
              "recommendations finished on 2000/2456 queries. users per second: 84752.9"
            ]
          },
          "metadata": {
            "tags": []
          }
        },
        {
          "output_type": "stream",
          "text": [
            "\n",
            "Precision and recall summary statistics by cutoff\n",
            "+--------+----------------+-------------+\n",
            "| cutoff | mean_precision | mean_recall |\n",
            "+--------+----------------+-------------+\n",
            "|   1    |      0.0       |     0.0     |\n",
            "|   2    |      0.0       |     0.0     |\n",
            "|   3    |      0.0       |     0.0     |\n",
            "|   4    |      0.0       |     0.0     |\n",
            "|   5    |      0.0       |     0.0     |\n",
            "|   6    |      0.0       |     0.0     |\n",
            "|   7    |      0.0       |     0.0     |\n",
            "|   8    |      0.0       |     0.0     |\n",
            "|   9    |      0.0       |     0.0     |\n",
            "|   10   |      0.0       |     0.0     |\n",
            "+--------+----------------+-------------+\n",
            "[10 rows x 3 columns]\n",
            "\n",
            "\n",
            "Overall RMSE: 0.14581298550440988\n",
            "\n",
            "Per User RMSE (best)\n",
            "+-------------------------------+------+-------+\n",
            "|          customer_id          | rmse | count |\n",
            "+-------------------------------+------+-------+\n",
            "| 522e714643e682c9eff7415cff... | 0.0  |   1   |\n",
            "+-------------------------------+------+-------+\n",
            "[1 rows x 3 columns]\n",
            "\n",
            "\n",
            "Per User RMSE (worst)\n",
            "+-------------------------------+--------------------+-------+\n",
            "|          customer_id          |        rmse        | count |\n",
            "+-------------------------------+--------------------+-------+\n",
            "| c1f1840f3fa14ca2f059a4af7c... | 0.5256172839506172 |   1   |\n",
            "+-------------------------------+--------------------+-------+\n",
            "[1 rows x 3 columns]\n",
            "\n",
            "\n",
            "Per Item RMSE (best)\n",
            "+-------------------------------+------+-------+\n",
            "|           product_id          | rmse | count |\n",
            "+-------------------------------+------+-------+\n",
            "| 9007d9a8a0d332c61d9dd611fa... | 0.0  |   1   |\n",
            "+-------------------------------+------+-------+\n",
            "[1 rows x 3 columns]\n",
            "\n",
            "\n",
            "Per Item RMSE (worst)\n",
            "+-------------------------------+------+-------+\n",
            "|           product_id          | rmse | count |\n",
            "+-------------------------------+------+-------+\n",
            "| be837f2e0152a208d4386f4126... | 0.5  |   2   |\n",
            "+-------------------------------+------+-------+\n",
            "[1 rows x 3 columns]\n",
            "\n",
            "PROGRESS: Evaluate model Cosine Similarity on Scaled Purchase Counts\n"
          ],
          "name": "stdout"
        },
        {
          "output_type": "display_data",
          "data": {
            "text/html": [
              "<pre>recommendations finished on 1000/2456 queries. users per second: 58159.8</pre>"
            ],
            "text/plain": [
              "recommendations finished on 1000/2456 queries. users per second: 58159.8"
            ]
          },
          "metadata": {
            "tags": []
          }
        },
        {
          "output_type": "display_data",
          "data": {
            "text/html": [
              "<pre>recommendations finished on 2000/2456 queries. users per second: 56222.4</pre>"
            ],
            "text/plain": [
              "recommendations finished on 2000/2456 queries. users per second: 56222.4"
            ]
          },
          "metadata": {
            "tags": []
          }
        },
        {
          "output_type": "stream",
          "text": [
            "\n",
            "Precision and recall summary statistics by cutoff\n",
            "+--------+-----------------------+----------------------+\n",
            "| cutoff |     mean_precision    |     mean_recall      |\n",
            "+--------+-----------------------+----------------------+\n",
            "|   1    |  0.024837133550488635 | 0.024431629329256136 |\n",
            "|   2    |  0.012825732899022797 | 0.024840457355580645 |\n",
            "|   3    |  0.008821932681867553 | 0.025249285381905153 |\n",
            "|   4    |  0.006820032573289908 | 0.025658113408229703 |\n",
            "|   5    |  0.005618892508143312 | 0.025863358372665016 |\n",
            "|   6    | 0.0048181324647122705 | 0.02627218639898959  |\n",
            "|   7    |  0.00430432759422987  | 0.027088180549092674 |\n",
            "|   8    |  0.003868078175895755 | 0.027497008575417176 |\n",
            "|   9    |  0.003483532392327179 | 0.027498670477963172 |\n",
            "|   10   | 0.0032573289902280054 | 0.02831466462806617  |\n",
            "+--------+-----------------------+----------------------+\n",
            "[10 rows x 3 columns]\n",
            "\n",
            "\n",
            "Overall RMSE: 0.2977646248710141\n",
            "\n",
            "Per User RMSE (best)\n",
            "+-------------------------------+------+-------+\n",
            "|          customer_id          | rmse | count |\n",
            "+-------------------------------+------+-------+\n",
            "| a55d6a572f9ed8a230f10665db... | 0.0  |   1   |\n",
            "+-------------------------------+------+-------+\n",
            "[1 rows x 3 columns]\n",
            "\n",
            "\n",
            "Per User RMSE (worst)\n",
            "+-------------+------+-------+\n",
            "| customer_id | rmse | count |\n",
            "+-------------+------+-------+\n",
            "| total_value | 1.0  |  245  |\n",
            "+-------------+------+-------+\n",
            "[1 rows x 3 columns]\n",
            "\n",
            "\n",
            "Per Item RMSE (best)\n",
            "+-------------------------------+------+-------+\n",
            "|           product_id          | rmse | count |\n",
            "+-------------------------------+------+-------+\n",
            "| 4c7d4a2efde21e3bf1660926fa... | 0.0  |   1   |\n",
            "+-------------------------------+------+-------+\n",
            "[1 rows x 3 columns]\n",
            "\n",
            "\n",
            "Per Item RMSE (worst)\n",
            "+-------------------------------+------+-------+\n",
            "|           product_id          | rmse | count |\n",
            "+-------------------------------+------+-------+\n",
            "| 1164c17af70425821f88bfbdc9... | 1.0  |   1   |\n",
            "+-------------------------------+------+-------+\n",
            "[1 rows x 3 columns]\n",
            "\n",
            "PROGRESS: Evaluate model Pearson Similarity on Scaled Purchase Counts\n"
          ],
          "name": "stdout"
        },
        {
          "output_type": "display_data",
          "data": {
            "text/html": [
              "<pre>recommendations finished on 1000/2456 queries. users per second: 47945.5</pre>"
            ],
            "text/plain": [
              "recommendations finished on 1000/2456 queries. users per second: 47945.5"
            ]
          },
          "metadata": {
            "tags": []
          }
        },
        {
          "output_type": "display_data",
          "data": {
            "text/html": [
              "<pre>recommendations finished on 2000/2456 queries. users per second: 48971.6</pre>"
            ],
            "text/plain": [
              "recommendations finished on 2000/2456 queries. users per second: 48971.6"
            ]
          },
          "metadata": {
            "tags": []
          }
        },
        {
          "output_type": "stream",
          "text": [
            "\n",
            "Precision and recall summary statistics by cutoff\n",
            "+--------+-----------------------+-----------------------+\n",
            "| cutoff |     mean_precision    |      mean_recall      |\n",
            "+--------+-----------------------+-----------------------+\n",
            "|   1    | 0.0012214983713355087 | 0.0008159941501030384 |\n",
            "|   2    |  0.001017915309446258 | 0.0012248221764275748 |\n",
            "|   3    | 0.0010857763300760063 |  0.002040816326530605 |\n",
            "|   4    | 0.0010179153094462552 | 0.0024496443528551426 |\n",
            "|   5    | 0.0010586319218241088 | 0.0032656385029581885 |\n",
            "|   6    | 0.0010179153094462534 | 0.0036744665292827243 |\n",
            "|   7    | 0.0009888320148906476 |  0.004083294555607264 |\n",
            "|   8    | 0.0010688110749185696 |  0.005102871767599549 |\n",
            "|   9    | 0.0011310170104958397 |  0.006122448979591819 |\n",
            "|   10   |  0.001058631921824106 |  0.006124110882137872 |\n",
            "+--------+-----------------------+-----------------------+\n",
            "[10 rows x 3 columns]\n",
            "\n",
            "\n",
            "Overall RMSE: 0.3585921820893735\n",
            "\n",
            "Per User RMSE (best)\n",
            "+-------------------------------+------+-------+\n",
            "|          customer_id          | rmse | count |\n",
            "+-------------------------------+------+-------+\n",
            "| cc0f37fb9aeed171ee1ab8a8d6... | 0.0  |   1   |\n",
            "+-------------------------------+------+-------+\n",
            "[1 rows x 3 columns]\n",
            "\n",
            "\n",
            "Per User RMSE (worst)\n",
            "+-------------------------------+------+-------+\n",
            "|          customer_id          | rmse | count |\n",
            "+-------------------------------+------+-------+\n",
            "| 4cbbfd3f62dbf90d87c23e5827... | 1.0  |   1   |\n",
            "+-------------------------------+------+-------+\n",
            "[1 rows x 3 columns]\n",
            "\n",
            "\n",
            "Per Item RMSE (best)\n",
            "+-------------------------------+------+-------+\n",
            "|           product_id          | rmse | count |\n",
            "+-------------------------------+------+-------+\n",
            "| d5140e1d258c83a340419c6522... | 0.0  |   1   |\n",
            "+-------------------------------+------+-------+\n",
            "[1 rows x 3 columns]\n",
            "\n",
            "\n",
            "Per Item RMSE (worst)\n",
            "+-------------------------------+------+-------+\n",
            "|           product_id          | rmse | count |\n",
            "+-------------------------------+------+-------+\n",
            "| c1f5307decb89342351bec5366... | 1.0  |   2   |\n",
            "+-------------------------------+------+-------+\n",
            "[1 rows x 3 columns]\n",
            "\n"
          ],
          "name": "stdout"
        }
      ]
    },
    {
      "cell_type": "code",
      "metadata": {
        "id": "izpAGxR-IHJs",
        "colab_type": "code",
        "outputId": "615cfd9c-fb47-4a48-b8bb-3ccb18ca3f18",
        "colab": {
          "base_uri": "https://localhost:8080/",
          "height": 1000
        }
      },
      "source": [
        "final_model = tc.item_similarity_recommender.create(tc.SFrame(data_norm), \n",
        "                                            user_id=user_id, \n",
        "                                            item_id=item_id, \n",
        "                                            target='value_freq', similarity_type='cosine')\n",
        "recom = final_model.recommend(users=users_to_recommend, k=n_rec)\n",
        "recom.print_rows(n_display)"
      ],
      "execution_count": 0,
      "outputs": [
        {
          "output_type": "display_data",
          "data": {
            "text/html": [
              "<pre>Preparing data set.</pre>"
            ],
            "text/plain": [
              "Preparing data set."
            ]
          },
          "metadata": {
            "tags": []
          }
        },
        {
          "output_type": "display_data",
          "data": {
            "text/html": [
              "<pre>    Data has 14312 observations with 8776 users and 1253 items.</pre>"
            ],
            "text/plain": [
              "    Data has 14312 observations with 8776 users and 1253 items."
            ]
          },
          "metadata": {
            "tags": []
          }
        },
        {
          "output_type": "display_data",
          "data": {
            "text/html": [
              "<pre>    Data prepared in: 0.034547s</pre>"
            ],
            "text/plain": [
              "    Data prepared in: 0.034547s"
            ]
          },
          "metadata": {
            "tags": []
          }
        },
        {
          "output_type": "display_data",
          "data": {
            "text/html": [
              "<pre>Training model from provided data.</pre>"
            ],
            "text/plain": [
              "Training model from provided data."
            ]
          },
          "metadata": {
            "tags": []
          }
        },
        {
          "output_type": "display_data",
          "data": {
            "text/html": [
              "<pre>Gathering per-item and per-user statistics.</pre>"
            ],
            "text/plain": [
              "Gathering per-item and per-user statistics."
            ]
          },
          "metadata": {
            "tags": []
          }
        },
        {
          "output_type": "display_data",
          "data": {
            "text/html": [
              "<pre>+--------------------------------+------------+</pre>"
            ],
            "text/plain": [
              "+--------------------------------+------------+"
            ]
          },
          "metadata": {
            "tags": []
          }
        },
        {
          "output_type": "display_data",
          "data": {
            "text/html": [
              "<pre>| Elapsed Time (Item Statistics) | % Complete |</pre>"
            ],
            "text/plain": [
              "| Elapsed Time (Item Statistics) | % Complete |"
            ]
          },
          "metadata": {
            "tags": []
          }
        },
        {
          "output_type": "display_data",
          "data": {
            "text/html": [
              "<pre>+--------------------------------+------------+</pre>"
            ],
            "text/plain": [
              "+--------------------------------+------------+"
            ]
          },
          "metadata": {
            "tags": []
          }
        },
        {
          "output_type": "display_data",
          "data": {
            "text/html": [
              "<pre>| 473us                          | 11.25      |</pre>"
            ],
            "text/plain": [
              "| 473us                          | 11.25      |"
            ]
          },
          "metadata": {
            "tags": []
          }
        },
        {
          "output_type": "display_data",
          "data": {
            "text/html": [
              "<pre>| 1.296ms                        | 100        |</pre>"
            ],
            "text/plain": [
              "| 1.296ms                        | 100        |"
            ]
          },
          "metadata": {
            "tags": []
          }
        },
        {
          "output_type": "display_data",
          "data": {
            "text/html": [
              "<pre>+--------------------------------+------------+</pre>"
            ],
            "text/plain": [
              "+--------------------------------+------------+"
            ]
          },
          "metadata": {
            "tags": []
          }
        },
        {
          "output_type": "display_data",
          "data": {
            "text/html": [
              "<pre>Setting up lookup tables.</pre>"
            ],
            "text/plain": [
              "Setting up lookup tables."
            ]
          },
          "metadata": {
            "tags": []
          }
        },
        {
          "output_type": "display_data",
          "data": {
            "text/html": [
              "<pre>Processing data in one pass using dense lookup tables.</pre>"
            ],
            "text/plain": [
              "Processing data in one pass using dense lookup tables."
            ]
          },
          "metadata": {
            "tags": []
          }
        },
        {
          "output_type": "display_data",
          "data": {
            "text/html": [
              "<pre>+-------------------------------------+------------------+-----------------+</pre>"
            ],
            "text/plain": [
              "+-------------------------------------+------------------+-----------------+"
            ]
          },
          "metadata": {
            "tags": []
          }
        },
        {
          "output_type": "display_data",
          "data": {
            "text/html": [
              "<pre>| Elapsed Time (Constructing Lookups) | Total % Complete | Items Processed |</pre>"
            ],
            "text/plain": [
              "| Elapsed Time (Constructing Lookups) | Total % Complete | Items Processed |"
            ]
          },
          "metadata": {
            "tags": []
          }
        },
        {
          "output_type": "display_data",
          "data": {
            "text/html": [
              "<pre>+-------------------------------------+------------------+-----------------+</pre>"
            ],
            "text/plain": [
              "+-------------------------------------+------------------+-----------------+"
            ]
          },
          "metadata": {
            "tags": []
          }
        },
        {
          "output_type": "display_data",
          "data": {
            "text/html": [
              "<pre>| 3.232ms                             | 0                | 0               |</pre>"
            ],
            "text/plain": [
              "| 3.232ms                             | 0                | 0               |"
            ]
          },
          "metadata": {
            "tags": []
          }
        },
        {
          "output_type": "display_data",
          "data": {
            "text/html": [
              "<pre>| 43.15ms                             | 100              | 1253            |</pre>"
            ],
            "text/plain": [
              "| 43.15ms                             | 100              | 1253            |"
            ]
          },
          "metadata": {
            "tags": []
          }
        },
        {
          "output_type": "display_data",
          "data": {
            "text/html": [
              "<pre>+-------------------------------------+------------------+-----------------+</pre>"
            ],
            "text/plain": [
              "+-------------------------------------+------------------+-----------------+"
            ]
          },
          "metadata": {
            "tags": []
          }
        },
        {
          "output_type": "display_data",
          "data": {
            "text/html": [
              "<pre>Finalizing lookup tables.</pre>"
            ],
            "text/plain": [
              "Finalizing lookup tables."
            ]
          },
          "metadata": {
            "tags": []
          }
        },
        {
          "output_type": "display_data",
          "data": {
            "text/html": [
              "<pre>Generating candidate set for working with new users.</pre>"
            ],
            "text/plain": [
              "Generating candidate set for working with new users."
            ]
          },
          "metadata": {
            "tags": []
          }
        },
        {
          "output_type": "display_data",
          "data": {
            "text/html": [
              "<pre>Finished training in 0.047346s</pre>"
            ],
            "text/plain": [
              "Finished training in 0.047346s"
            ]
          },
          "metadata": {
            "tags": []
          }
        },
        {
          "output_type": "display_data",
          "data": {
            "text/html": [
              "<pre>recommendations finished on 1000/8823 queries. users per second: 132345</pre>"
            ],
            "text/plain": [
              "recommendations finished on 1000/8823 queries. users per second: 132345"
            ]
          },
          "metadata": {
            "tags": []
          }
        },
        {
          "output_type": "display_data",
          "data": {
            "text/html": [
              "<pre>recommendations finished on 2000/8823 queries. users per second: 132996</pre>"
            ],
            "text/plain": [
              "recommendations finished on 2000/8823 queries. users per second: 132996"
            ]
          },
          "metadata": {
            "tags": []
          }
        },
        {
          "output_type": "display_data",
          "data": {
            "text/html": [
              "<pre>recommendations finished on 3000/8823 queries. users per second: 133666</pre>"
            ],
            "text/plain": [
              "recommendations finished on 3000/8823 queries. users per second: 133666"
            ]
          },
          "metadata": {
            "tags": []
          }
        },
        {
          "output_type": "display_data",
          "data": {
            "text/html": [
              "<pre>recommendations finished on 4000/8823 queries. users per second: 135676</pre>"
            ],
            "text/plain": [
              "recommendations finished on 4000/8823 queries. users per second: 135676"
            ]
          },
          "metadata": {
            "tags": []
          }
        },
        {
          "output_type": "display_data",
          "data": {
            "text/html": [
              "<pre>recommendations finished on 5000/8823 queries. users per second: 135796</pre>"
            ],
            "text/plain": [
              "recommendations finished on 5000/8823 queries. users per second: 135796"
            ]
          },
          "metadata": {
            "tags": []
          }
        },
        {
          "output_type": "display_data",
          "data": {
            "text/html": [
              "<pre>recommendations finished on 6000/8823 queries. users per second: 134656</pre>"
            ],
            "text/plain": [
              "recommendations finished on 6000/8823 queries. users per second: 134656"
            ]
          },
          "metadata": {
            "tags": []
          }
        },
        {
          "output_type": "display_data",
          "data": {
            "text/html": [
              "<pre>recommendations finished on 7000/8823 queries. users per second: 134836</pre>"
            ],
            "text/plain": [
              "recommendations finished on 7000/8823 queries. users per second: 134836"
            ]
          },
          "metadata": {
            "tags": []
          }
        },
        {
          "output_type": "display_data",
          "data": {
            "text/html": [
              "<pre>recommendations finished on 8000/8823 queries. users per second: 131826</pre>"
            ],
            "text/plain": [
              "recommendations finished on 8000/8823 queries. users per second: 131826"
            ]
          },
          "metadata": {
            "tags": []
          }
        },
        {
          "output_type": "stream",
          "text": [
            "+-------------------------------+-------------------------------+\n",
            "|          customer_id          |           product_id          |\n",
            "+-------------------------------+-------------------------------+\n",
            "| 0005ef4cd20d2893f0d9fbd94d... | 095cb863f2b04911455ad33f51... |\n",
            "| 0005ef4cd20d2893f0d9fbd94d... | 073ed404e3aec5b0a486334c05... |\n",
            "| 0005ef4cd20d2893f0d9fbd94d... | 06bf70b6e1d67d96308235ef35... |\n",
            "| 0005ef4cd20d2893f0d9fbd94d... | 044f05bc9de36e8a693a83e4bc... |\n",
            "| 0005ef4cd20d2893f0d9fbd94d... | 03e931f387c2dd5b006aecdb12... |\n",
            "| 001ae5a1788703d64536c30362... | a70f58bd49225ad1d9f199d376... |\n",
            "| 001ae5a1788703d64536c30362... | a5f6ba3fe91a2e73f10b612131... |\n",
            "| 001ae5a1788703d64536c30362... | 095cb863f2b04911455ad33f51... |\n",
            "| 001ae5a1788703d64536c30362... | 06bf70b6e1d67d96308235ef35... |\n",
            "| 001ae5a1788703d64536c30362... | 03e931f387c2dd5b006aecdb12... |\n",
            "| 0027324a96d26a2bc7d69262f8... | 095cb863f2b04911455ad33f51... |\n",
            "| 0027324a96d26a2bc7d69262f8... | 073ed404e3aec5b0a486334c05... |\n",
            "| 0027324a96d26a2bc7d69262f8... | 06bf70b6e1d67d96308235ef35... |\n",
            "| 0027324a96d26a2bc7d69262f8... | 044f05bc9de36e8a693a83e4bc... |\n",
            "| 0027324a96d26a2bc7d69262f8... | 03e931f387c2dd5b006aecdb12... |\n",
            "+-------------------------------+-------------------------------+\n",
            "+------------------------+------+\n",
            "|         score          | rank |\n",
            "+------------------------+------+\n",
            "| 4.1365623474121094e-05 |  1   |\n",
            "| 4.1365623474121094e-05 |  2   |\n",
            "| 4.1365623474121094e-05 |  3   |\n",
            "| 4.1365623474121094e-05 |  4   |\n",
            "| 4.1365623474121094e-05 |  5   |\n",
            "|  0.006139487028121948  |  1   |\n",
            "|  0.006139487028121948  |  2   |\n",
            "|  0.006139487028121948  |  3   |\n",
            "|  0.006139487028121948  |  4   |\n",
            "|  0.006139487028121948  |  5   |\n",
            "| 2.372264862060547e-05  |  1   |\n",
            "| 2.372264862060547e-05  |  2   |\n",
            "| 2.372264862060547e-05  |  3   |\n",
            "| 2.372264862060547e-05  |  4   |\n",
            "| 2.372264862060547e-05  |  5   |\n",
            "+------------------------+------+\n",
            "[44115 rows x 4 columns]\n",
            "\n"
          ],
          "name": "stdout"
        }
      ]
    },
    {
      "cell_type": "code",
      "metadata": {
        "id": "OxhwBT2WIW1n",
        "colab_type": "code",
        "outputId": "9ed2d1fe-f944-4961-c1c4-c0a556a71615",
        "colab": {
          "base_uri": "https://localhost:8080/",
          "height": 221
        }
      },
      "source": [
        "df_rec = recom.to_dataframe()\n",
        "print(df_rec.shape)\n",
        "df_rec.head()"
      ],
      "execution_count": 0,
      "outputs": [
        {
          "output_type": "stream",
          "text": [
            "(44115, 4)\n"
          ],
          "name": "stdout"
        },
        {
          "output_type": "execute_result",
          "data": {
            "text/html": [
              "<div>\n",
              "<style scoped>\n",
              "    .dataframe tbody tr th:only-of-type {\n",
              "        vertical-align: middle;\n",
              "    }\n",
              "\n",
              "    .dataframe tbody tr th {\n",
              "        vertical-align: top;\n",
              "    }\n",
              "\n",
              "    .dataframe thead th {\n",
              "        text-align: right;\n",
              "    }\n",
              "</style>\n",
              "<table border=\"1\" class=\"dataframe\">\n",
              "  <thead>\n",
              "    <tr style=\"text-align: right;\">\n",
              "      <th></th>\n",
              "      <th>customer_id</th>\n",
              "      <th>product_id</th>\n",
              "      <th>score</th>\n",
              "      <th>rank</th>\n",
              "    </tr>\n",
              "  </thead>\n",
              "  <tbody>\n",
              "    <tr>\n",
              "      <th>0</th>\n",
              "      <td>0005ef4cd20d2893f0d9fbd94d3c0d97</td>\n",
              "      <td>095cb863f2b04911455ad33f5177062e</td>\n",
              "      <td>0.000041</td>\n",
              "      <td>1</td>\n",
              "    </tr>\n",
              "    <tr>\n",
              "      <th>1</th>\n",
              "      <td>0005ef4cd20d2893f0d9fbd94d3c0d97</td>\n",
              "      <td>073ed404e3aec5b0a486334c05ee2fe9</td>\n",
              "      <td>0.000041</td>\n",
              "      <td>2</td>\n",
              "    </tr>\n",
              "    <tr>\n",
              "      <th>2</th>\n",
              "      <td>0005ef4cd20d2893f0d9fbd94d3c0d97</td>\n",
              "      <td>06bf70b6e1d67d96308235ef350edc61</td>\n",
              "      <td>0.000041</td>\n",
              "      <td>3</td>\n",
              "    </tr>\n",
              "    <tr>\n",
              "      <th>3</th>\n",
              "      <td>0005ef4cd20d2893f0d9fbd94d3c0d97</td>\n",
              "      <td>044f05bc9de36e8a693a83e4bc79dd0d</td>\n",
              "      <td>0.000041</td>\n",
              "      <td>4</td>\n",
              "    </tr>\n",
              "    <tr>\n",
              "      <th>4</th>\n",
              "      <td>0005ef4cd20d2893f0d9fbd94d3c0d97</td>\n",
              "      <td>03e931f387c2dd5b006aecdb12515b2e</td>\n",
              "      <td>0.000041</td>\n",
              "      <td>5</td>\n",
              "    </tr>\n",
              "  </tbody>\n",
              "</table>\n",
              "</div>"
            ],
            "text/plain": [
              "                        customer_id  ... rank\n",
              "0  0005ef4cd20d2893f0d9fbd94d3c0d97  ...    1\n",
              "1  0005ef4cd20d2893f0d9fbd94d3c0d97  ...    2\n",
              "2  0005ef4cd20d2893f0d9fbd94d3c0d97  ...    3\n",
              "3  0005ef4cd20d2893f0d9fbd94d3c0d97  ...    4\n",
              "4  0005ef4cd20d2893f0d9fbd94d3c0d97  ...    5\n",
              "\n",
              "[5 rows x 4 columns]"
            ]
          },
          "metadata": {
            "tags": []
          },
          "execution_count": 221
        }
      ]
    },
    {
      "cell_type": "markdown",
      "metadata": {
        "id": "RJwx_0iwIrWt",
        "colab_type": "text"
      },
      "source": [
        "## Se define función para recomendación de productos"
      ]
    },
    {
      "cell_type": "code",
      "metadata": {
        "id": "sk_5P9CpIqxE",
        "colab_type": "code",
        "colab": {}
      },
      "source": [
        "\n",
        "def create_output(model, users_to_recommend, n_rec, print_csv=True):\n",
        "    recomendation = model.recommend(users=users_to_recommend, k=n_rec)\n",
        "    df_rec = recomendation.to_dataframe()\n",
        "    df_rec['recommendedProducts'] = df_rec.groupby([user_id])[item_id] \\\n",
        "        .transform(lambda x: '|'.join(x.astype(str)))\n",
        "    df_output = df_rec[['customer_id', 'recommendedProducts']].drop_duplicates() \\\n",
        "        .sort_values('customer_id').set_index('customer_id')\n",
        "    if print_csv:\n",
        "        df_output.to_csv('option1_recommendation.csv')\n",
        "        #files.download('option1_recommendation.csv')\n",
        "        print(\"An output file can be found in 'output' folder with name 'option1_recommendation.csv'\")\n",
        "    return df_output\n",
        "  \n",
        "def customer_recomendation(customer_id):\n",
        "    if customer_id not in df_output.index:\n",
        "        print('Customer not found.')\n",
        "        return customer_id\n",
        "    return df_output.loc[customer_id]"
      ],
      "execution_count": 0,
      "outputs": []
    },
    {
      "cell_type": "code",
      "metadata": {
        "id": "rT3bWTDAMhwW",
        "colab_type": "code",
        "outputId": "9ffac85a-5fba-4698-bf7d-9a263fe78957",
        "colab": {
          "base_uri": "https://localhost:8080/",
          "height": 405
        }
      },
      "source": [
        "df_output = create_output(pear_norm, users_to_recommend, n_rec, print_csv=True)\n",
        "print(df_output.shape)\n",
        "df_output.head()"
      ],
      "execution_count": 0,
      "outputs": [
        {
          "output_type": "display_data",
          "data": {
            "text/html": [
              "<pre>recommendations finished on 1000/8823 queries. users per second: 124301</pre>"
            ],
            "text/plain": [
              "recommendations finished on 1000/8823 queries. users per second: 124301"
            ]
          },
          "metadata": {
            "tags": []
          }
        },
        {
          "output_type": "display_data",
          "data": {
            "text/html": [
              "<pre>recommendations finished on 2000/8823 queries. users per second: 120156</pre>"
            ],
            "text/plain": [
              "recommendations finished on 2000/8823 queries. users per second: 120156"
            ]
          },
          "metadata": {
            "tags": []
          }
        },
        {
          "output_type": "display_data",
          "data": {
            "text/html": [
              "<pre>recommendations finished on 3000/8823 queries. users per second: 116673</pre>"
            ],
            "text/plain": [
              "recommendations finished on 3000/8823 queries. users per second: 116673"
            ]
          },
          "metadata": {
            "tags": []
          }
        },
        {
          "output_type": "display_data",
          "data": {
            "text/html": [
              "<pre>recommendations finished on 4000/8823 queries. users per second: 118210</pre>"
            ],
            "text/plain": [
              "recommendations finished on 4000/8823 queries. users per second: 118210"
            ]
          },
          "metadata": {
            "tags": []
          }
        },
        {
          "output_type": "display_data",
          "data": {
            "text/html": [
              "<pre>recommendations finished on 5000/8823 queries. users per second: 118131</pre>"
            ],
            "text/plain": [
              "recommendations finished on 5000/8823 queries. users per second: 118131"
            ]
          },
          "metadata": {
            "tags": []
          }
        },
        {
          "output_type": "display_data",
          "data": {
            "text/html": [
              "<pre>recommendations finished on 6000/8823 queries. users per second: 118092</pre>"
            ],
            "text/plain": [
              "recommendations finished on 6000/8823 queries. users per second: 118092"
            ]
          },
          "metadata": {
            "tags": []
          }
        },
        {
          "output_type": "display_data",
          "data": {
            "text/html": [
              "<pre>recommendations finished on 7000/8823 queries. users per second: 118054</pre>"
            ],
            "text/plain": [
              "recommendations finished on 7000/8823 queries. users per second: 118054"
            ]
          },
          "metadata": {
            "tags": []
          }
        },
        {
          "output_type": "display_data",
          "data": {
            "text/html": [
              "<pre>recommendations finished on 8000/8823 queries. users per second: 116489</pre>"
            ],
            "text/plain": [
              "recommendations finished on 8000/8823 queries. users per second: 116489"
            ]
          },
          "metadata": {
            "tags": []
          }
        },
        {
          "output_type": "stream",
          "text": [
            "An output file can be found in 'output' folder with name 'option1_recommendation.csv'\n",
            "(8775, 1)\n"
          ],
          "name": "stdout"
        },
        {
          "output_type": "execute_result",
          "data": {
            "text/html": [
              "<div>\n",
              "<style scoped>\n",
              "    .dataframe tbody tr th:only-of-type {\n",
              "        vertical-align: middle;\n",
              "    }\n",
              "\n",
              "    .dataframe tbody tr th {\n",
              "        vertical-align: top;\n",
              "    }\n",
              "\n",
              "    .dataframe thead th {\n",
              "        text-align: right;\n",
              "    }\n",
              "</style>\n",
              "<table border=\"1\" class=\"dataframe\">\n",
              "  <thead>\n",
              "    <tr style=\"text-align: right;\">\n",
              "      <th></th>\n",
              "      <th>recommendedProducts</th>\n",
              "    </tr>\n",
              "    <tr>\n",
              "      <th>customer_id</th>\n",
              "      <th></th>\n",
              "    </tr>\n",
              "  </thead>\n",
              "  <tbody>\n",
              "    <tr>\n",
              "      <th>0005ef4cd20d2893f0d9fbd94d3c0d97</th>\n",
              "      <td>3a7c9b0413d7b9cc7f4a18318fc5afb3|c1f5307decb89...</td>\n",
              "    </tr>\n",
              "    <tr>\n",
              "      <th>001ae5a1788703d64536c30362503e49</th>\n",
              "      <td>3a7c9b0413d7b9cc7f4a18318fc5afb3|c1f5307decb89...</td>\n",
              "    </tr>\n",
              "    <tr>\n",
              "      <th>0027324a96d26a2bc7d69262f83c8403</th>\n",
              "      <td>3a7c9b0413d7b9cc7f4a18318fc5afb3|c1f5307decb89...</td>\n",
              "    </tr>\n",
              "    <tr>\n",
              "      <th>003035f5ec76f2220098377482de93c9</th>\n",
              "      <td>3a7c9b0413d7b9cc7f4a18318fc5afb3|c1f5307decb89...</td>\n",
              "    </tr>\n",
              "    <tr>\n",
              "      <th>00324c9f4d710e7bac5c5ba679714430</th>\n",
              "      <td>3a7c9b0413d7b9cc7f4a18318fc5afb3|c1f5307decb89...</td>\n",
              "    </tr>\n",
              "  </tbody>\n",
              "</table>\n",
              "</div>"
            ],
            "text/plain": [
              "                                                                recommendedProducts\n",
              "customer_id                                                                        \n",
              "0005ef4cd20d2893f0d9fbd94d3c0d97  3a7c9b0413d7b9cc7f4a18318fc5afb3|c1f5307decb89...\n",
              "001ae5a1788703d64536c30362503e49  3a7c9b0413d7b9cc7f4a18318fc5afb3|c1f5307decb89...\n",
              "0027324a96d26a2bc7d69262f83c8403  3a7c9b0413d7b9cc7f4a18318fc5afb3|c1f5307decb89...\n",
              "003035f5ec76f2220098377482de93c9  3a7c9b0413d7b9cc7f4a18318fc5afb3|c1f5307decb89...\n",
              "00324c9f4d710e7bac5c5ba679714430  3a7c9b0413d7b9cc7f4a18318fc5afb3|c1f5307decb89..."
            ]
          },
          "metadata": {
            "tags": []
          },
          "execution_count": 223
        }
      ]
    },
    {
      "cell_type": "code",
      "metadata": {
        "id": "WOZB_fk0Iz9P",
        "colab_type": "code",
        "outputId": "86fbcfd8-302d-473d-f58b-ebf7b4daad38",
        "colab": {
          "base_uri": "https://localhost:8080/",
          "height": 51
        }
      },
      "source": [
        "customer_recomendation('0005ef4cd20d2893f0d9fbd94d3c0d97')"
      ],
      "execution_count": 0,
      "outputs": [
        {
          "output_type": "execute_result",
          "data": {
            "text/plain": [
              "recommendedProducts    3a7c9b0413d7b9cc7f4a18318fc5afb3|c1f5307decb89...\n",
              "Name: 0005ef4cd20d2893f0d9fbd94d3c0d97, dtype: object"
            ]
          },
          "metadata": {
            "tags": []
          },
          "execution_count": 224
        }
      ]
    },
    {
      "cell_type": "markdown",
      "metadata": {
        "id": "bqqRf06BO-KL",
        "colab_type": "text"
      },
      "source": [
        "#2.Segmentación de Clientes"
      ]
    },
    {
      "cell_type": "code",
      "metadata": {
        "id": "X42_QvD0PCjK",
        "colab_type": "code",
        "outputId": "93473dd8-b7e8-4c95-b294-ef7666140a9f",
        "colab": {
          "base_uri": "https://localhost:8080/",
          "height": 235
        }
      },
      "source": [
        "informacion_cliente = datos_facturacion.groupby('customer_id').agg({\n",
        "    'total_value': sum,\n",
        "    'product_id': lambda x: x.nunique(),\n",
        "    'num_txn': sum,\n",
        "    \n",
        "}).fillna(0)\n",
        "\n",
        "informacion_cliente.columns = ['IMP_TOTAL_VENTAS', 'NUM_TOTAL_PRODUCTOS','NUM_TOTAL_TXN']\n",
        "# ESTE HAY QUE CAMBIARLO POR LA MEDIANA\n",
        "informacion_cliente['IMP_VENTA_PROMEDIO'] = informacion_cliente['IMP_TOTAL_VENTAS']/informacion_cliente['NUM_TOTAL_TXN']\n",
        "informacion_cliente.head()"
      ],
      "execution_count": 0,
      "outputs": [
        {
          "output_type": "execute_result",
          "data": {
            "text/html": [
              "<div>\n",
              "<style scoped>\n",
              "    .dataframe tbody tr th:only-of-type {\n",
              "        vertical-align: middle;\n",
              "    }\n",
              "\n",
              "    .dataframe tbody tr th {\n",
              "        vertical-align: top;\n",
              "    }\n",
              "\n",
              "    .dataframe thead th {\n",
              "        text-align: right;\n",
              "    }\n",
              "</style>\n",
              "<table border=\"1\" class=\"dataframe\">\n",
              "  <thead>\n",
              "    <tr style=\"text-align: right;\">\n",
              "      <th></th>\n",
              "      <th>IMP_TOTAL_VENTAS</th>\n",
              "      <th>NUM_TOTAL_PRODUCTOS</th>\n",
              "      <th>NUM_TOTAL_TXN</th>\n",
              "      <th>IMP_VENTA_PROMEDIO</th>\n",
              "    </tr>\n",
              "    <tr>\n",
              "      <th>customer_id</th>\n",
              "      <th></th>\n",
              "      <th></th>\n",
              "      <th></th>\n",
              "      <th></th>\n",
              "    </tr>\n",
              "  </thead>\n",
              "  <tbody>\n",
              "    <tr>\n",
              "      <th>0005ef4cd20d2893f0d9fbd94d3c0d97</th>\n",
              "      <td>12976</td>\n",
              "      <td>1</td>\n",
              "      <td>1</td>\n",
              "      <td>12976.0</td>\n",
              "    </tr>\n",
              "    <tr>\n",
              "      <th>001ae5a1788703d64536c30362503e49</th>\n",
              "      <td>13508</td>\n",
              "      <td>1</td>\n",
              "      <td>1</td>\n",
              "      <td>13508.0</td>\n",
              "    </tr>\n",
              "    <tr>\n",
              "      <th>0027324a96d26a2bc7d69262f83c8403</th>\n",
              "      <td>4678</td>\n",
              "      <td>1</td>\n",
              "      <td>1</td>\n",
              "      <td>4678.0</td>\n",
              "    </tr>\n",
              "    <tr>\n",
              "      <th>003035f5ec76f2220098377482de93c9</th>\n",
              "      <td>6247</td>\n",
              "      <td>1</td>\n",
              "      <td>1</td>\n",
              "      <td>6247.0</td>\n",
              "    </tr>\n",
              "    <tr>\n",
              "      <th>00324c9f4d710e7bac5c5ba679714430</th>\n",
              "      <td>10978</td>\n",
              "      <td>1</td>\n",
              "      <td>2</td>\n",
              "      <td>5489.0</td>\n",
              "    </tr>\n",
              "  </tbody>\n",
              "</table>\n",
              "</div>"
            ],
            "text/plain": [
              "                                  IMP_TOTAL_VENTAS  ...  IMP_VENTA_PROMEDIO\n",
              "customer_id                                         ...                    \n",
              "0005ef4cd20d2893f0d9fbd94d3c0d97             12976  ...             12976.0\n",
              "001ae5a1788703d64536c30362503e49             13508  ...             13508.0\n",
              "0027324a96d26a2bc7d69262f83c8403              4678  ...              4678.0\n",
              "003035f5ec76f2220098377482de93c9              6247  ...              6247.0\n",
              "00324c9f4d710e7bac5c5ba679714430             10978  ...              5489.0\n",
              "\n",
              "[5 rows x 4 columns]"
            ]
          },
          "metadata": {
            "tags": []
          },
          "execution_count": 225
        }
      ]
    },
    {
      "cell_type": "markdown",
      "metadata": {
        "id": "560xksTtPjSz",
        "colab_type": "text"
      },
      "source": [
        "## Metodo del codo\n",
        "Se aplica el metodo del codo para verificar la partición que tiene"
      ]
    },
    {
      "cell_type": "code",
      "metadata": {
        "id": "KRWzthruPNhZ",
        "colab_type": "code",
        "outputId": "ea564338-a436-4726-ba4a-d8fbe91b4074",
        "colab": {
          "base_uri": "https://localhost:8080/",
          "height": 295
        }
      },
      "source": [
        "# Feature Scaling\n",
        "\n",
        "X = informacion_cliente.iloc[:, :].values\n",
        "sc_X = StandardScaler()\n",
        "X= sc_X.fit_transform(X)\n",
        "wcss = [] #With in cluster sum of squers(Inertia)\n",
        "\n",
        "for i in range(1,11): #From 2-10 doing multiple random initializations can make a huge difference to find a better local optima\n",
        "    kmeans = KMeans(n_clusters = i, init ='k-means++',max_iter=300,n_init=10)\n",
        "    kmeans.fit(X)\n",
        "    wcss.append(kmeans.inertia_)\n",
        "plt.plot(range(1,11) , wcss,'ro-', markersize=8, lw=2)\n",
        "plt.title('The Elbow Method')\n",
        "plt.xlabel('Number Of Customer Clusters(customer type clusters)')\n",
        "plt.ylabel('With in cluster sum of squers(WCSS)')\n",
        "plt.show()"
      ],
      "execution_count": 0,
      "outputs": [
        {
          "output_type": "display_data",
          "data": {
            "image/png": "[encoded data removed]",
            "text/plain": [
              "<Figure size 432x288 with 1 Axes>"
            ]
          },
          "metadata": {
            "tags": []
          }
        }
      ]
    },
    {
      "cell_type": "code",
      "metadata": {
        "id": "1hPAdMN3PsW9",
        "colab_type": "code",
        "outputId": "da0b14c4-44bc-48c9-a62d-4310649bdbc3",
        "colab": {
          "base_uri": "https://localhost:8080/",
          "height": 119
        }
      },
      "source": [
        "# Se enviarán 4 grupos ya que es donde se presenta el mayor pliegue\n",
        "num_clusters= 4\n",
        "\n",
        "# Normalizo los datos previo a la segmentación\n",
        "ranking_cliente = informacion_cliente.rank(method='first')\n",
        "cliente_normalizado = (ranking_cliente - ranking_cliente.mean()) / ranking_cliente.std()\n",
        "kmeans = KMeans(n_clusters=num_clusters).fit(cliente_normalizado[['IMP_TOTAL_VENTAS', 'NUM_TOTAL_TXN', 'IMP_VENTA_PROMEDIO']])\n",
        "\n",
        "\n",
        "cliente_clusters = cliente_normalizado[['IMP_TOTAL_VENTAS', 'NUM_TOTAL_TXN', 'IMP_VENTA_PROMEDIO']].copy(deep=True)\n",
        "cliente_clusters['Cluster'] = kmeans.labels_\n",
        "cliente_clusters.groupby('Cluster').count()['IMP_TOTAL_VENTAS']\n"
      ],
      "execution_count": 0,
      "outputs": [
        {
          "output_type": "execute_result",
          "data": {
            "text/plain": [
              "Cluster\n",
              "0    2234\n",
              "1    2205\n",
              "2    2123\n",
              "3    2213\n",
              "Name: IMP_TOTAL_VENTAS, dtype: int64"
            ]
          },
          "metadata": {
            "tags": []
          },
          "execution_count": 227
        }
      ]
    },
    {
      "cell_type": "code",
      "metadata": {
        "id": "bGK0NxHWP8mb",
        "colab_type": "code",
        "outputId": "ab97f549-b5d8-40ef-cef3-12b228ad70fc",
        "colab": {
          "base_uri": "https://localhost:8080/",
          "height": 868
        }
      },
      "source": [
        "# clustering ventas vs cantidad\n",
        "plt.scatter(\n",
        "    cliente_clusters.loc[cliente_clusters['Cluster'] == 0]['NUM_TOTAL_TXN'], \n",
        "    cliente_clusters.loc[cliente_clusters['Cluster'] == 0]['IMP_TOTAL_VENTAS'],\n",
        "    c='blue'\n",
        ")\n",
        "\n",
        "plt.scatter(\n",
        "    cliente_clusters.loc[cliente_clusters['Cluster'] == 1]['NUM_TOTAL_TXN'], \n",
        "    cliente_clusters.loc[cliente_clusters['Cluster'] == 1]['IMP_TOTAL_VENTAS'],\n",
        "    c='red'\n",
        ")\n",
        "\n",
        "plt.scatter(\n",
        "    cliente_clusters.loc[cliente_clusters['Cluster'] == 2]['NUM_TOTAL_TXN'], \n",
        "    cliente_clusters.loc[cliente_clusters['Cluster'] == 2]['IMP_TOTAL_VENTAS'],\n",
        "    c='orange'\n",
        ")\n",
        "\n",
        "plt.scatter(\n",
        "    cliente_clusters.loc[cliente_clusters['Cluster'] == 3]['NUM_TOTAL_TXN'], \n",
        "    cliente_clusters.loc[cliente_clusters['Cluster'] == 3]['IMP_TOTAL_VENTAS'],\n",
        "    c='green'\n",
        ")\n",
        "\n",
        "\n",
        "plt.scatter(\n",
        "    cliente_clusters.loc[cliente_clusters['Cluster'] == 4]['NUM_TOTAL_TXN'], \n",
        "    cliente_clusters.loc[cliente_clusters['Cluster'] == 4]['IMP_TOTAL_VENTAS'],\n",
        "    c='yellow'\n",
        ")\n",
        "\n",
        "\n",
        "plt.scatter(\n",
        "    cliente_clusters.loc[cliente_clusters['Cluster'] == 5]['NUM_TOTAL_TXN'], \n",
        "    cliente_clusters.loc[cliente_clusters['Cluster'] == 5]['IMP_TOTAL_VENTAS'],\n",
        "    c='black'\n",
        ")\n",
        "\n",
        "\n",
        "plt.title('Ventas  vs. No. Transacciones Clusters')\n",
        "plt.xlabel('Número Transacciones')\n",
        "plt.ylabel('Total Ventas')\n",
        "\n",
        "plt.grid()\n",
        "plt.show()\n",
        "\n",
        "# clustering cantidad vs promedio de facturación\n",
        "plt.scatter(\n",
        "    cliente_clusters.loc[cliente_clusters['Cluster'] == 0]['NUM_TOTAL_TXN'], \n",
        "    cliente_clusters.loc[cliente_clusters['Cluster'] == 0]['IMP_VENTA_PROMEDIO'],\n",
        "    c='blue'\n",
        ")\n",
        "\n",
        "plt.scatter(\n",
        "    cliente_clusters.loc[cliente_clusters['Cluster'] == 1]['NUM_TOTAL_TXN'], \n",
        "    cliente_clusters.loc[cliente_clusters['Cluster'] == 1]['IMP_VENTA_PROMEDIO'],\n",
        "    c='red'\n",
        ")\n",
        "\n",
        "plt.scatter(\n",
        "    cliente_clusters.loc[cliente_clusters['Cluster'] == 2]['NUM_TOTAL_TXN'], \n",
        "    cliente_clusters.loc[cliente_clusters['Cluster'] == 2]['IMP_VENTA_PROMEDIO'],\n",
        "    c='orange'\n",
        ")\n",
        "\n",
        "plt.scatter(\n",
        "    cliente_clusters.loc[cliente_clusters['Cluster'] == 3]['NUM_TOTAL_TXN'], \n",
        "    cliente_clusters.loc[cliente_clusters['Cluster'] == 3]['IMP_VENTA_PROMEDIO'],\n",
        "    c='green'\n",
        ")\n",
        "\n",
        "plt.scatter(\n",
        "    cliente_clusters.loc[cliente_clusters['Cluster'] == 4]['NUM_TOTAL_TXN'], \n",
        "    cliente_clusters.loc[cliente_clusters['Cluster'] == 4]['IMP_VENTA_PROMEDIO'],\n",
        "    c='yellow'\n",
        ")\n",
        "plt.scatter(\n",
        "    cliente_clusters.loc[cliente_clusters['Cluster'] == 5]['NUM_TOTAL_TXN'], \n",
        "    cliente_clusters.loc[cliente_clusters['Cluster'] == 5]['IMP_VENTA_PROMEDIO'],\n",
        "    c='black'\n",
        ")\n",
        "plt.title('Promedio Ventas vs. No. Transacciones Clusters')\n",
        "plt.xlabel('Número Transacciones')\n",
        "plt.ylabel('Promedio Ventas')\n",
        "\n",
        "plt.grid()\n",
        "plt.show()\n",
        "# clustering ventas vs promedio de facturación\n",
        "plt.scatter(\n",
        "    \n",
        "    cliente_clusters.loc[cliente_clusters['Cluster'] == 0]['IMP_TOTAL_VENTAS'], \n",
        "    cliente_clusters.loc[cliente_clusters['Cluster'] == 0]['IMP_VENTA_PROMEDIO'],\n",
        "    c='blue'\n",
        ")\n",
        "\n",
        "plt.scatter(\n",
        "    cliente_clusters.loc[cliente_clusters['Cluster'] == 1]['IMP_TOTAL_VENTAS'], \n",
        "    cliente_clusters.loc[cliente_clusters['Cluster'] == 1]['IMP_VENTA_PROMEDIO'],\n",
        "    c='red'\n",
        ")\n",
        "\n",
        "plt.scatter(\n",
        "    cliente_clusters.loc[cliente_clusters['Cluster'] == 2]['IMP_TOTAL_VENTAS'], \n",
        "    cliente_clusters.loc[cliente_clusters['Cluster'] == 2]['IMP_VENTA_PROMEDIO'],\n",
        "    c='orange'\n",
        ")\n",
        "\n",
        "plt.scatter(\n",
        "    cliente_clusters.loc[cliente_clusters['Cluster'] == 3]['IMP_TOTAL_VENTAS'], \n",
        "    cliente_clusters.loc[cliente_clusters['Cluster'] == 3]['IMP_VENTA_PROMEDIO'],\n",
        "    c='green'\n",
        ")\n",
        "\n",
        "plt.scatter(\n",
        "    cliente_clusters.loc[cliente_clusters['Cluster'] == 4]['IMP_TOTAL_VENTAS'], \n",
        "    cliente_clusters.loc[cliente_clusters['Cluster'] == 4]['IMP_VENTA_PROMEDIO'],\n",
        "    c='yellow'\n",
        ")\n",
        "\n",
        "plt.scatter(\n",
        "    cliente_clusters.loc[cliente_clusters['Cluster'] == 5]['IMP_TOTAL_VENTAS'], \n",
        "    cliente_clusters.loc[cliente_clusters['Cluster'] == 5]['IMP_VENTA_PROMEDIO'],\n",
        "    c='black'\n",
        ")\n",
        "\n",
        "plt.title('Total Ventas vs. Promedio Ventas Clusters')\n",
        "plt.xlabel('Total Ventas')\n",
        "plt.ylabel('Promedio Ventas')\n",
        "\n"
      ],
      "execution_count": 0,
      "outputs": [
        {
          "output_type": "display_data",
          "data": {
            "image/png": "[encoded data removed]",
            "text/plain": [
              "<Figure size 432x288 with 1 Axes>"
            ]
          },
          "metadata": {
            "tags": []
          }
        },
        {
          "output_type": "display_data",
          "data": {
            "image/png": "[encoded data removed]",
            "text/plain": [
              "<Figure size 432x288 with 1 Axes>"
            ]
          },
          "metadata": {
            "tags": []
          }
        },
        {
          "output_type": "execute_result",
          "data": {
            "text/plain": [
              "Text(0, 0.5, 'Promedio Ventas')"
            ]
          },
          "metadata": {
            "tags": []
          },
          "execution_count": 228
        },
        {
          "output_type": "display_data",
          "data": {
            "image/png": "[encoded data removed]",
            "text/plain": [
              "<Figure size 432x288 with 1 Axes>"
            ]
          },
          "metadata": {
            "tags": []
          }
        }
      ]
    },
    {
      "cell_type": "code",
      "metadata": {
        "id": "hwq0tnPnQE4l",
        "colab_type": "code",
        "outputId": "f710a17e-dc80-4fc8-c3bd-df64247cb9d7",
        "colab": {
          "base_uri": "https://localhost:8080/",
          "height": 119
        }
      },
      "source": [
        "# Se comprueba con el enfoque de Silueta\n",
        "# identificar el número de clientes por cluster\n",
        "for n_cluster in [3,4,5,6,7,8]:\n",
        "    kmeans = KMeans(n_clusters=n_cluster).fit(\n",
        "        cliente_normalizado[['IMP_TOTAL_VENTAS', 'NUM_TOTAL_TXN']]\n",
        "    )\n",
        "    silhouette_avg = silhouette_score(\n",
        "        cliente_normalizado[['IMP_TOTAL_VENTAS', 'NUM_TOTAL_TXN']], \n",
        "        kmeans.labels_\n",
        "    )\n",
        "    \n",
        "    print('Scoring silueta para %i Clusters: %0.4f' % (n_cluster, silhouette_avg))"
      ],
      "execution_count": 0,
      "outputs": [
        {
          "output_type": "stream",
          "text": [
            "Scoring silueta para 3 Clusters: 0.3897\n",
            "Scoring silueta para 4 Clusters: 0.4107\n",
            "Scoring silueta para 5 Clusters: 0.3818\n",
            "Scoring silueta para 6 Clusters: 0.3777\n",
            "Scoring silueta para 7 Clusters: 0.3733\n",
            "Scoring silueta para 8 Clusters: 0.3719\n"
          ],
          "name": "stdout"
        }
      ]
    },
    {
      "cell_type": "markdown",
      "metadata": {
        "id": "LUh8CW_2QRGB",
        "colab_type": "text"
      },
      "source": [
        "### Se integra nueva dimensión de información de segmento"
      ]
    },
    {
      "cell_type": "code",
      "metadata": {
        "id": "WiW3dkY4QUik",
        "colab_type": "code",
        "outputId": "621494a6-95b4-4cb0-b31a-a699fa25b61d",
        "colab": {
          "base_uri": "https://localhost:8080/",
          "height": 303
        }
      },
      "source": [
        "kmeans = KMeans(n_clusters=4).fit(\n",
        "    cliente_normalizado[['IMP_TOTAL_VENTAS', 'NUM_TOTAL_TXN']]\n",
        ")\n",
        "cliente_normalizado['DATA_SEG'] = kmeans.labels_\n",
        "print(kmeans.cluster_centers_)\n",
        "cliente_normalizado.head()"
      ],
      "execution_count": 0,
      "outputs": [
        {
          "output_type": "stream",
          "text": [
            "[[ 0.82617258 -0.80084865]\n",
            " [-0.83113965  0.70407166]\n",
            " [-0.89803764 -0.93629123]\n",
            " [ 0.90590752  1.01592316]]\n"
          ],
          "name": "stdout"
        },
        {
          "output_type": "execute_result",
          "data": {
            "text/html": [
              "<div>\n",
              "<style scoped>\n",
              "    .dataframe tbody tr th:only-of-type {\n",
              "        vertical-align: middle;\n",
              "    }\n",
              "\n",
              "    .dataframe tbody tr th {\n",
              "        vertical-align: top;\n",
              "    }\n",
              "\n",
              "    .dataframe thead th {\n",
              "        text-align: right;\n",
              "    }\n",
              "</style>\n",
              "<table border=\"1\" class=\"dataframe\">\n",
              "  <thead>\n",
              "    <tr style=\"text-align: right;\">\n",
              "      <th></th>\n",
              "      <th>IMP_TOTAL_VENTAS</th>\n",
              "      <th>NUM_TOTAL_PRODUCTOS</th>\n",
              "      <th>NUM_TOTAL_TXN</th>\n",
              "      <th>IMP_VENTA_PROMEDIO</th>\n",
              "      <th>DATA_SEG</th>\n",
              "    </tr>\n",
              "    <tr>\n",
              "      <th>customer_id</th>\n",
              "      <th></th>\n",
              "      <th></th>\n",
              "      <th></th>\n",
              "      <th></th>\n",
              "      <th></th>\n",
              "    </tr>\n",
              "  </thead>\n",
              "  <tbody>\n",
              "    <tr>\n",
              "      <th>0005ef4cd20d2893f0d9fbd94d3c0d97</th>\n",
              "      <td>0.350141</td>\n",
              "      <td>-1.731755</td>\n",
              "      <td>-1.731755</td>\n",
              "      <td>0.511987</td>\n",
              "      <td>0</td>\n",
              "    </tr>\n",
              "    <tr>\n",
              "      <th>001ae5a1788703d64536c30362503e49</th>\n",
              "      <td>0.416853</td>\n",
              "      <td>-1.731360</td>\n",
              "      <td>-1.731360</td>\n",
              "      <td>0.573962</td>\n",
              "      <td>0</td>\n",
              "    </tr>\n",
              "    <tr>\n",
              "      <th>0027324a96d26a2bc7d69262f83c8403</th>\n",
              "      <td>-1.245427</td>\n",
              "      <td>-1.730965</td>\n",
              "      <td>-1.730965</td>\n",
              "      <td>-1.138845</td>\n",
              "      <td>2</td>\n",
              "    </tr>\n",
              "    <tr>\n",
              "      <th>003035f5ec76f2220098377482de93c9</th>\n",
              "      <td>-0.873180</td>\n",
              "      <td>-1.730571</td>\n",
              "      <td>-1.730571</td>\n",
              "      <td>-0.726729</td>\n",
              "      <td>2</td>\n",
              "    </tr>\n",
              "    <tr>\n",
              "      <th>00324c9f4d710e7bac5c5ba679714430</th>\n",
              "      <td>0.066317</td>\n",
              "      <td>-1.730176</td>\n",
              "      <td>1.322797</td>\n",
              "      <td>-0.935550</td>\n",
              "      <td>3</td>\n",
              "    </tr>\n",
              "  </tbody>\n",
              "</table>\n",
              "</div>"
            ],
            "text/plain": [
              "                                  IMP_TOTAL_VENTAS  ...  DATA_SEG\n",
              "customer_id                                         ...          \n",
              "0005ef4cd20d2893f0d9fbd94d3c0d97          0.350141  ...         0\n",
              "001ae5a1788703d64536c30362503e49          0.416853  ...         0\n",
              "0027324a96d26a2bc7d69262f83c8403         -1.245427  ...         2\n",
              "003035f5ec76f2220098377482de93c9         -0.873180  ...         2\n",
              "00324c9f4d710e7bac5c5ba679714430          0.066317  ...         3\n",
              "\n",
              "[5 rows x 5 columns]"
            ]
          },
          "metadata": {
            "tags": []
          },
          "execution_count": 230
        }
      ]
    },
    {
      "cell_type": "code",
      "metadata": {
        "id": "unzo8h7MQiH6",
        "colab_type": "code",
        "outputId": "80f3e4b8-07a6-4e29-d419-6ccee28bdd30",
        "colab": {
          "base_uri": "https://localhost:8080/",
          "height": 297
        }
      },
      "source": [
        "# Se verifica\n",
        "high_value_cluster = (cliente_normalizado.loc[cliente_normalizado['DATA_SEG'] == 3]).sort_values(ascending=False,by='IMP_TOTAL_VENTAS')\n",
        "informacion_cliente.loc[high_value_cluster.index].describe()"
      ],
      "execution_count": 0,
      "outputs": [
        {
          "output_type": "execute_result",
          "data": {
            "text/html": [
              "<div>\n",
              "<style scoped>\n",
              "    .dataframe tbody tr th:only-of-type {\n",
              "        vertical-align: middle;\n",
              "    }\n",
              "\n",
              "    .dataframe tbody tr th {\n",
              "        vertical-align: top;\n",
              "    }\n",
              "\n",
              "    .dataframe thead th {\n",
              "        text-align: right;\n",
              "    }\n",
              "</style>\n",
              "<table border=\"1\" class=\"dataframe\">\n",
              "  <thead>\n",
              "    <tr style=\"text-align: right;\">\n",
              "      <th></th>\n",
              "      <th>IMP_TOTAL_VENTAS</th>\n",
              "      <th>NUM_TOTAL_PRODUCTOS</th>\n",
              "      <th>NUM_TOTAL_TXN</th>\n",
              "      <th>IMP_VENTA_PROMEDIO</th>\n",
              "    </tr>\n",
              "  </thead>\n",
              "  <tbody>\n",
              "    <tr>\n",
              "      <th>count</th>\n",
              "      <td>2.162000e+03</td>\n",
              "      <td>2162.000000</td>\n",
              "      <td>2162.000000</td>\n",
              "      <td>2162.000000</td>\n",
              "    </tr>\n",
              "    <tr>\n",
              "      <th>mean</th>\n",
              "      <td>2.757778e+04</td>\n",
              "      <td>1.131822</td>\n",
              "      <td>1.521277</td>\n",
              "      <td>21359.891966</td>\n",
              "    </tr>\n",
              "    <tr>\n",
              "      <th>std</th>\n",
              "      <td>4.163867e+04</td>\n",
              "      <td>0.420127</td>\n",
              "      <td>0.926628</td>\n",
              "      <td>27677.573355</td>\n",
              "    </tr>\n",
              "    <tr>\n",
              "      <th>min</th>\n",
              "      <td>1.006200e+04</td>\n",
              "      <td>1.000000</td>\n",
              "      <td>1.000000</td>\n",
              "      <td>1808.166667</td>\n",
              "    </tr>\n",
              "    <tr>\n",
              "      <th>25%</th>\n",
              "      <td>1.386350e+04</td>\n",
              "      <td>1.000000</td>\n",
              "      <td>1.000000</td>\n",
              "      <td>11271.500000</td>\n",
              "    </tr>\n",
              "    <tr>\n",
              "      <th>50%</th>\n",
              "      <td>1.850000e+04</td>\n",
              "      <td>1.000000</td>\n",
              "      <td>1.000000</td>\n",
              "      <td>15224.000000</td>\n",
              "    </tr>\n",
              "    <tr>\n",
              "      <th>75%</th>\n",
              "      <td>2.848250e+04</td>\n",
              "      <td>1.000000</td>\n",
              "      <td>2.000000</td>\n",
              "      <td>21651.500000</td>\n",
              "    </tr>\n",
              "    <tr>\n",
              "      <th>max</th>\n",
              "      <td>1.366408e+06</td>\n",
              "      <td>6.000000</td>\n",
              "      <td>8.000000</td>\n",
              "      <td>692931.000000</td>\n",
              "    </tr>\n",
              "  </tbody>\n",
              "</table>\n",
              "</div>"
            ],
            "text/plain": [
              "       IMP_TOTAL_VENTAS  NUM_TOTAL_PRODUCTOS  NUM_TOTAL_TXN  IMP_VENTA_PROMEDIO\n",
              "count      2.162000e+03          2162.000000    2162.000000         2162.000000\n",
              "mean       2.757778e+04             1.131822       1.521277        21359.891966\n",
              "std        4.163867e+04             0.420127       0.926628        27677.573355\n",
              "min        1.006200e+04             1.000000       1.000000         1808.166667\n",
              "25%        1.386350e+04             1.000000       1.000000        11271.500000\n",
              "50%        1.850000e+04             1.000000       1.000000        15224.000000\n",
              "75%        2.848250e+04             1.000000       2.000000        21651.500000\n",
              "max        1.366408e+06             6.000000       8.000000       692931.000000"
            ]
          },
          "metadata": {
            "tags": []
          },
          "execution_count": 231
        }
      ]
    },
    {
      "cell_type": "code",
      "metadata": {
        "id": "WFmZZftVStla",
        "colab_type": "code",
        "outputId": "4f13b2e0-a4b0-4b01-f576-04f78f47110a",
        "colab": {
          "base_uri": "https://localhost:8080/",
          "height": 235
        }
      },
      "source": [
        "pd.DataFrame(\n",
        "    datos_facturacion.loc[\n",
        "        datos_facturacion['customer_id'].isin(high_value_cluster.index)\n",
        "    ].groupby('product_id').count()[\n",
        "        'total_value'\n",
        "    ].sort_values(ascending=False).head()\n",
        ")"
      ],
      "execution_count": 0,
      "outputs": [
        {
          "output_type": "execute_result",
          "data": {
            "text/html": [
              "<div>\n",
              "<style scoped>\n",
              "    .dataframe tbody tr th:only-of-type {\n",
              "        vertical-align: middle;\n",
              "    }\n",
              "\n",
              "    .dataframe tbody tr th {\n",
              "        vertical-align: top;\n",
              "    }\n",
              "\n",
              "    .dataframe thead th {\n",
              "        text-align: right;\n",
              "    }\n",
              "</style>\n",
              "<table border=\"1\" class=\"dataframe\">\n",
              "  <thead>\n",
              "    <tr style=\"text-align: right;\">\n",
              "      <th></th>\n",
              "      <th>total_value</th>\n",
              "    </tr>\n",
              "    <tr>\n",
              "      <th>product_id</th>\n",
              "      <th></th>\n",
              "    </tr>\n",
              "  </thead>\n",
              "  <tbody>\n",
              "    <tr>\n",
              "      <th>a62e25e09e05e6faf31d90c6ec1aa3d1</th>\n",
              "      <td>19</td>\n",
              "    </tr>\n",
              "    <tr>\n",
              "      <th>d1c427060a0f73f6b889a5c7c61f2ac4</th>\n",
              "      <td>17</td>\n",
              "    </tr>\n",
              "    <tr>\n",
              "      <th>422879e10f46682990de24d770e7f83d</th>\n",
              "      <td>17</td>\n",
              "    </tr>\n",
              "    <tr>\n",
              "      <th>aca2eb7d00ea1a7b8ebd4e68314663af</th>\n",
              "      <td>14</td>\n",
              "    </tr>\n",
              "    <tr>\n",
              "      <th>368c6c730842d78016ad823897a372db</th>\n",
              "      <td>14</td>\n",
              "    </tr>\n",
              "  </tbody>\n",
              "</table>\n",
              "</div>"
            ],
            "text/plain": [
              "                                  total_value\n",
              "product_id                                   \n",
              "a62e25e09e05e6faf31d90c6ec1aa3d1           19\n",
              "d1c427060a0f73f6b889a5c7c61f2ac4           17\n",
              "422879e10f46682990de24d770e7f83d           17\n",
              "aca2eb7d00ea1a7b8ebd4e68314663af           14\n",
              "368c6c730842d78016ad823897a372db           14"
            ]
          },
          "metadata": {
            "tags": []
          },
          "execution_count": 232
        }
      ]
    },
    {
      "cell_type": "markdown",
      "metadata": {
        "id": "eSJXAioiTe0S",
        "colab_type": "text"
      },
      "source": [
        "# 3. Predicción de Churn con base en el comportamiento de compra"
      ]
    },
    {
      "cell_type": "code",
      "metadata": {
        "id": "PEM5Jme3Tj6_",
        "colab_type": "code",
        "outputId": "6d24cf38-124f-4bcf-d3ef-df275971ae17",
        "colab": {
          "base_uri": "https://localhost:8080/",
          "height": 136
        }
      },
      "source": [
        "url = 'https://github.com/masdatascience/TFM-AI/blob/master/data_model_completo.xlsx?raw=true'\n",
        "datos_modelo_completo = pd.ExcelFile(url)\n",
        "datos_facturacion = pd.read_excel(datos_modelo_completo, sheet_name='fac_txn')\n",
        "# Se elimian los datos nulos de las dimensiones importantes del analisis que son productos y clientes\n",
        "datos_facturacion = datos_facturacion.dropna(subset=['customer_id'])\n",
        "datos_facturacion = datos_facturacion.dropna(subset=['product_id'])\n",
        "# Se elimina posibles chargeback que se presenten\n",
        "datos_facturacion = datos_facturacion.loc[datos_facturacion['total_value'] > 0]\n",
        "datos_producto = pd.read_excel(datos_modelo_completo, sheet_name='product')\n",
        "datos_clientes = pd.read_excel(datos_modelo_completo, sheet_name='customer')\n",
        "\n",
        "print(datos_producto.shape)\n",
        "print(datos_clientes.shape)\n",
        "print(datos_facturacion.shape)\n",
        "\n",
        "\n",
        "\n",
        "# se visualiza el número de comrpas que tiene un cliente\n",
        "datos_clientes.groupby('customer_id').size().value_counts()\n"
      ],
      "execution_count": 0,
      "outputs": [
        {
          "output_type": "stream",
          "text": [
            "(32951, 10)\n",
            "(96352, 4)\n",
            "(112650, 21)\n"
          ],
          "name": "stdout"
        },
        {
          "output_type": "execute_result",
          "data": {
            "text/plain": [
              "1    95844\n",
              "2      248\n",
              "3        4\n",
              "dtype: int64"
            ]
          },
          "metadata": {
            "tags": []
          },
          "execution_count": 233
        }
      ]
    },
    {
      "cell_type": "code",
      "metadata": {
        "id": "YWKbK987UTEi",
        "colab_type": "code",
        "outputId": "5bd6901a-05a0-4c17-c8a9-7b24de61ebf9",
        "colab": {
          "base_uri": "https://localhost:8080/",
          "height": 309
        }
      },
      "source": [
        "# se eliminan posibles ordenes duplicadas\n",
        "datos_facturacion.drop_duplicates('order_id',keep='first',inplace=True)\n",
        "# se convierte la fecha de compra en tipo date para facilitar su gestión\n",
        "datos_facturacion['date'] = pd.to_datetime(datos_facturacion['order_purchase_timestamp']).dt.date\n",
        "datos_facturacion = datos_facturacion.drop('order_purchase_timestamp',axis=1)\n",
        "datos_facturacion.head()"
      ],
      "execution_count": 0,
      "outputs": [
        {
          "output_type": "execute_result",
          "data": {
            "text/html": [
              "<div>\n",
              "<style scoped>\n",
              "    .dataframe tbody tr th:only-of-type {\n",
              "        vertical-align: middle;\n",
              "    }\n",
              "\n",
              "    .dataframe tbody tr th {\n",
              "        vertical-align: top;\n",
              "    }\n",
              "\n",
              "    .dataframe thead th {\n",
              "        text-align: right;\n",
              "    }\n",
              "</style>\n",
              "<table border=\"1\" class=\"dataframe\">\n",
              "  <thead>\n",
              "    <tr style=\"text-align: right;\">\n",
              "      <th></th>\n",
              "      <th>order_id</th>\n",
              "      <th>order_item_id</th>\n",
              "      <th>product_id</th>\n",
              "      <th>customer_id</th>\n",
              "      <th>customer_zip_code_prefix</th>\n",
              "      <th>shipping_limit_date</th>\n",
              "      <th>price</th>\n",
              "      <th>freight_value</th>\n",
              "      <th>total_value</th>\n",
              "      <th>credit_card</th>\n",
              "      <th>debit_card</th>\n",
              "      <th>boleto</th>\n",
              "      <th>voucher</th>\n",
              "      <th>not_defined</th>\n",
              "      <th>num_txn</th>\n",
              "      <th>order_status</th>\n",
              "      <th>order_approved_at</th>\n",
              "      <th>order_delivered_carrier_date</th>\n",
              "      <th>order_delivered_customer_date</th>\n",
              "      <th>order_estimated_delivery_date</th>\n",
              "      <th>date</th>\n",
              "    </tr>\n",
              "  </thead>\n",
              "  <tbody>\n",
              "    <tr>\n",
              "      <th>0</th>\n",
              "      <td>00010242fe8c5a6d1ba2dd792cb16214</td>\n",
              "      <td>1</td>\n",
              "      <td>4244733e06e7ecb4970a6e2683c13e61</td>\n",
              "      <td>871766c5855e863f6eccc05f988b23cb</td>\n",
              "      <td>28013</td>\n",
              "      <td>2017-09-19 09:45:35</td>\n",
              "      <td>5890</td>\n",
              "      <td>1329</td>\n",
              "      <td>7219</td>\n",
              "      <td>7219.0</td>\n",
              "      <td>0.0</td>\n",
              "      <td>0.0</td>\n",
              "      <td>0.0</td>\n",
              "      <td>0.0</td>\n",
              "      <td>1.0</td>\n",
              "      <td>delivered</td>\n",
              "      <td>2017-09-13 09:45:35</td>\n",
              "      <td>2017-09-19 18:34:16</td>\n",
              "      <td>2017-09-20 23:43:48</td>\n",
              "      <td>2017-09-29</td>\n",
              "      <td>2017-09-13</td>\n",
              "    </tr>\n",
              "    <tr>\n",
              "      <th>1</th>\n",
              "      <td>00018f77f2f0320c557190d7a144bdd3</td>\n",
              "      <td>1</td>\n",
              "      <td>e5f2d52b802189ee658865ca93d83a8f</td>\n",
              "      <td>eb28e67c4c0b83846050ddfb8a35d051</td>\n",
              "      <td>15775</td>\n",
              "      <td>2017-05-03 11:05:13</td>\n",
              "      <td>23990</td>\n",
              "      <td>1993</td>\n",
              "      <td>25983</td>\n",
              "      <td>25983.0</td>\n",
              "      <td>0.0</td>\n",
              "      <td>0.0</td>\n",
              "      <td>0.0</td>\n",
              "      <td>0.0</td>\n",
              "      <td>1.0</td>\n",
              "      <td>delivered</td>\n",
              "      <td>2017-04-26 11:05:13</td>\n",
              "      <td>2017-05-04 14:35:00</td>\n",
              "      <td>2017-05-12 16:04:24</td>\n",
              "      <td>2017-05-15</td>\n",
              "      <td>2017-04-26</td>\n",
              "    </tr>\n",
              "    <tr>\n",
              "      <th>2</th>\n",
              "      <td>000229ec398224ef6ca0657da4fc703e</td>\n",
              "      <td>1</td>\n",
              "      <td>c777355d18b72b67abbeef9df44fd0fd</td>\n",
              "      <td>3818d81c6709e39d06b2738a8d3a2474</td>\n",
              "      <td>35661</td>\n",
              "      <td>2018-01-18 14:48:30</td>\n",
              "      <td>19900</td>\n",
              "      <td>1787</td>\n",
              "      <td>21687</td>\n",
              "      <td>21687.0</td>\n",
              "      <td>0.0</td>\n",
              "      <td>0.0</td>\n",
              "      <td>0.0</td>\n",
              "      <td>0.0</td>\n",
              "      <td>1.0</td>\n",
              "      <td>delivered</td>\n",
              "      <td>2018-01-14 14:48:30</td>\n",
              "      <td>2018-01-16 12:36:48</td>\n",
              "      <td>2018-01-22 13:19:16</td>\n",
              "      <td>2018-02-05</td>\n",
              "      <td>2018-01-14</td>\n",
              "    </tr>\n",
              "    <tr>\n",
              "      <th>3</th>\n",
              "      <td>00024acbcdf0a6daa1e931b038114c75</td>\n",
              "      <td>1</td>\n",
              "      <td>7634da152a4610f1595efa32f14722fc</td>\n",
              "      <td>af861d436cfc08b2c2ddefd0ba074622</td>\n",
              "      <td>12952</td>\n",
              "      <td>2018-08-15 10:10:18</td>\n",
              "      <td>1299</td>\n",
              "      <td>1279</td>\n",
              "      <td>2578</td>\n",
              "      <td>2578.0</td>\n",
              "      <td>0.0</td>\n",
              "      <td>0.0</td>\n",
              "      <td>0.0</td>\n",
              "      <td>0.0</td>\n",
              "      <td>1.0</td>\n",
              "      <td>delivered</td>\n",
              "      <td>2018-08-08 10:10:18</td>\n",
              "      <td>2018-08-10 13:28:00</td>\n",
              "      <td>2018-08-14 13:32:39</td>\n",
              "      <td>2018-08-20</td>\n",
              "      <td>2018-08-08</td>\n",
              "    </tr>\n",
              "    <tr>\n",
              "      <th>4</th>\n",
              "      <td>00042b26cf59d7ce69dfabb4e55b4fd9</td>\n",
              "      <td>1</td>\n",
              "      <td>ac6c3623068f30de03045865e4e10089</td>\n",
              "      <td>64b576fb70d441e8f1b2d7d446e483c5</td>\n",
              "      <td>13226</td>\n",
              "      <td>2017-02-13 13:57:51</td>\n",
              "      <td>19990</td>\n",
              "      <td>1814</td>\n",
              "      <td>21804</td>\n",
              "      <td>21804.0</td>\n",
              "      <td>0.0</td>\n",
              "      <td>0.0</td>\n",
              "      <td>0.0</td>\n",
              "      <td>0.0</td>\n",
              "      <td>1.0</td>\n",
              "      <td>delivered</td>\n",
              "      <td>2017-02-04 14:10:13</td>\n",
              "      <td>2017-02-16 09:46:09</td>\n",
              "      <td>2017-03-01 16:42:31</td>\n",
              "      <td>2017-03-17</td>\n",
              "      <td>2017-02-04</td>\n",
              "    </tr>\n",
              "  </tbody>\n",
              "</table>\n",
              "</div>"
            ],
            "text/plain": [
              "                           order_id  ...        date\n",
              "0  00010242fe8c5a6d1ba2dd792cb16214  ...  2017-09-13\n",
              "1  00018f77f2f0320c557190d7a144bdd3  ...  2017-04-26\n",
              "2  000229ec398224ef6ca0657da4fc703e  ...  2018-01-14\n",
              "3  00024acbcdf0a6daa1e931b038114c75  ...  2018-08-08\n",
              "4  00042b26cf59d7ce69dfabb4e55b4fd9  ...  2017-02-04\n",
              "\n",
              "[5 rows x 21 columns]"
            ]
          },
          "metadata": {
            "tags": []
          },
          "execution_count": 234
        }
      ]
    },
    {
      "cell_type": "markdown",
      "metadata": {
        "id": "NaXGr-gPU2U9",
        "colab_type": "text"
      },
      "source": [
        "### Se genera el modelo RFM"
      ]
    },
    {
      "cell_type": "code",
      "metadata": {
        "id": "TQg3HDZvUicQ",
        "colab_type": "code",
        "outputId": "7781d244-f59f-4938-bfad-07987919aa76",
        "colab": {
          "base_uri": "https://localhost:8080/",
          "height": 235
        }
      },
      "source": [
        "# se realiza un subconjunto de columnas con los cuales se analizará el comportamiento de compra\n",
        "transaction_data = datos_facturacion[['customer_id','date','total_value']]\n",
        "# se crea el modelo RFM\n",
        "summary = summary_data_from_transaction_data(transaction_data,'customer_id','date',monetary_value_col='total_value',)\n",
        "# se visualizan los clientes con al menos una compra\n",
        "summary[summary['frequency']>0].head()"
      ],
      "execution_count": 0,
      "outputs": [
        {
          "output_type": "execute_result",
          "data": {
            "text/html": [
              "<div>\n",
              "<style scoped>\n",
              "    .dataframe tbody tr th:only-of-type {\n",
              "        vertical-align: middle;\n",
              "    }\n",
              "\n",
              "    .dataframe tbody tr th {\n",
              "        vertical-align: top;\n",
              "    }\n",
              "\n",
              "    .dataframe thead th {\n",
              "        text-align: right;\n",
              "    }\n",
              "</style>\n",
              "<table border=\"1\" class=\"dataframe\">\n",
              "  <thead>\n",
              "    <tr style=\"text-align: right;\">\n",
              "      <th></th>\n",
              "      <th>frequency</th>\n",
              "      <th>recency</th>\n",
              "      <th>T</th>\n",
              "      <th>monetary_value</th>\n",
              "    </tr>\n",
              "    <tr>\n",
              "      <th>customer_id</th>\n",
              "      <th></th>\n",
              "      <th></th>\n",
              "      <th></th>\n",
              "      <th></th>\n",
              "    </tr>\n",
              "  </thead>\n",
              "  <tbody>\n",
              "    <tr>\n",
              "      <th>004288347e5e88a27ded2bb23747066c</th>\n",
              "      <td>1.0</td>\n",
              "      <td>171.0</td>\n",
              "      <td>403.0</td>\n",
              "      <td>10328.0</td>\n",
              "    </tr>\n",
              "    <tr>\n",
              "      <th>004b45ec5c64187465168251cd1c9c2f</th>\n",
              "      <td>1.0</td>\n",
              "      <td>267.0</td>\n",
              "      <td>367.0</td>\n",
              "      <td>4985.0</td>\n",
              "    </tr>\n",
              "    <tr>\n",
              "      <th>0058f300f57d7b93c477a131a59b36c3</th>\n",
              "      <td>1.0</td>\n",
              "      <td>31.0</td>\n",
              "      <td>196.0</td>\n",
              "      <td>9602.0</td>\n",
              "    </tr>\n",
              "    <tr>\n",
              "      <th>00a39521eb40f7012db50455bf083460</th>\n",
              "      <td>1.0</td>\n",
              "      <td>11.0</td>\n",
              "      <td>103.0</td>\n",
              "      <td>2678.0</td>\n",
              "    </tr>\n",
              "    <tr>\n",
              "      <th>011575986092c30523ecb71ff10cb473</th>\n",
              "      <td>1.0</td>\n",
              "      <td>60.0</td>\n",
              "      <td>198.0</td>\n",
              "      <td>8032.0</td>\n",
              "    </tr>\n",
              "  </tbody>\n",
              "</table>\n",
              "</div>"
            ],
            "text/plain": [
              "                                  frequency  recency      T  monetary_value\n",
              "customer_id                                                                \n",
              "004288347e5e88a27ded2bb23747066c        1.0    171.0  403.0         10328.0\n",
              "004b45ec5c64187465168251cd1c9c2f        1.0    267.0  367.0          4985.0\n",
              "0058f300f57d7b93c477a131a59b36c3        1.0     31.0  196.0          9602.0\n",
              "00a39521eb40f7012db50455bf083460        1.0     11.0  103.0          2678.0\n",
              "011575986092c30523ecb71ff10cb473        1.0     60.0  198.0          8032.0"
            ]
          },
          "metadata": {
            "tags": []
          },
          "execution_count": 235
        }
      ]
    },
    {
      "cell_type": "code",
      "metadata": {
        "id": "-Z8n8abQVGCg",
        "colab_type": "code",
        "outputId": "c64ac454-c5f9-4e61-94d6-dc6a2598131a",
        "colab": {
          "base_uri": "https://localhost:8080/",
          "height": 165
        }
      },
      "source": [
        "# Se compara la frecuencia con la información de la facturación\n",
        "datos_facturacion[datos_facturacion['customer_id']=='065dcef61d5f66b30d2ee51b5343d023']"
      ],
      "execution_count": 0,
      "outputs": [
        {
          "output_type": "execute_result",
          "data": {
            "text/html": [
              "<div>\n",
              "<style scoped>\n",
              "    .dataframe tbody tr th:only-of-type {\n",
              "        vertical-align: middle;\n",
              "    }\n",
              "\n",
              "    .dataframe tbody tr th {\n",
              "        vertical-align: top;\n",
              "    }\n",
              "\n",
              "    .dataframe thead th {\n",
              "        text-align: right;\n",
              "    }\n",
              "</style>\n",
              "<table border=\"1\" class=\"dataframe\">\n",
              "  <thead>\n",
              "    <tr style=\"text-align: right;\">\n",
              "      <th></th>\n",
              "      <th>order_id</th>\n",
              "      <th>order_item_id</th>\n",
              "      <th>product_id</th>\n",
              "      <th>customer_id</th>\n",
              "      <th>customer_zip_code_prefix</th>\n",
              "      <th>shipping_limit_date</th>\n",
              "      <th>price</th>\n",
              "      <th>freight_value</th>\n",
              "      <th>total_value</th>\n",
              "      <th>credit_card</th>\n",
              "      <th>debit_card</th>\n",
              "      <th>boleto</th>\n",
              "      <th>voucher</th>\n",
              "      <th>not_defined</th>\n",
              "      <th>num_txn</th>\n",
              "      <th>order_status</th>\n",
              "      <th>order_approved_at</th>\n",
              "      <th>order_delivered_carrier_date</th>\n",
              "      <th>order_delivered_customer_date</th>\n",
              "      <th>order_estimated_delivery_date</th>\n",
              "      <th>date</th>\n",
              "    </tr>\n",
              "  </thead>\n",
              "  <tbody>\n",
              "    <tr>\n",
              "      <th>1805</th>\n",
              "      <td>04164ec24abde688d0451ee982797344</td>\n",
              "      <td>1</td>\n",
              "      <td>198ec19b3806cc2ad217e159e4e09d58</td>\n",
              "      <td>065dcef61d5f66b30d2ee51b5343d023</td>\n",
              "      <td>3254</td>\n",
              "      <td>2017-12-06 21:38:22</td>\n",
              "      <td>9500</td>\n",
              "      <td>792</td>\n",
              "      <td>10292</td>\n",
              "      <td>10292.0</td>\n",
              "      <td>0.0</td>\n",
              "      <td>0.0</td>\n",
              "      <td>0.0</td>\n",
              "      <td>0.0</td>\n",
              "      <td>1.0</td>\n",
              "      <td>delivered</td>\n",
              "      <td>2017-12-01 10:31:57</td>\n",
              "      <td>2017-12-01 20:00:26</td>\n",
              "      <td>2017-12-07 00:51:40</td>\n",
              "      <td>2017-12-18</td>\n",
              "      <td>2017-11-30</td>\n",
              "    </tr>\n",
              "    <tr>\n",
              "      <th>5214</th>\n",
              "      <td>0bd66289bf194ff3edb0841291f58da1</td>\n",
              "      <td>1</td>\n",
              "      <td>b249cf5fcf68f70e13515489f0fcb627</td>\n",
              "      <td>065dcef61d5f66b30d2ee51b5343d023</td>\n",
              "      <td>3254</td>\n",
              "      <td>2017-04-27 22:50:21</td>\n",
              "      <td>6990</td>\n",
              "      <td>1570</td>\n",
              "      <td>8560</td>\n",
              "      <td>8560.0</td>\n",
              "      <td>0.0</td>\n",
              "      <td>0.0</td>\n",
              "      <td>0.0</td>\n",
              "      <td>0.0</td>\n",
              "      <td>1.0</td>\n",
              "      <td>delivered</td>\n",
              "      <td>2017-04-13 22:50:21</td>\n",
              "      <td>2017-04-20 10:47:48</td>\n",
              "      <td>2017-04-28 09:16:15</td>\n",
              "      <td>2017-05-16</td>\n",
              "      <td>2017-04-13</td>\n",
              "    </tr>\n",
              "  </tbody>\n",
              "</table>\n",
              "</div>"
            ],
            "text/plain": [
              "                              order_id  ...        date\n",
              "1805  04164ec24abde688d0451ee982797344  ...  2017-11-30\n",
              "5214  0bd66289bf194ff3edb0841291f58da1  ...  2017-04-13\n",
              "\n",
              "[2 rows x 21 columns]"
            ]
          },
          "metadata": {
            "tags": []
          },
          "execution_count": 236
        }
      ]
    },
    {
      "cell_type": "code",
      "metadata": {
        "id": "WZ2qExd0VTlL",
        "colab_type": "code",
        "outputId": "955511b8-a542-4df1-8e53-a29a55154bce",
        "colab": {
          "base_uri": "https://localhost:8080/",
          "height": 310
        }
      },
      "source": [
        "bgf = BetaGeoFitter(penalizer_coef=0.0)\n",
        "bgf.fit(summary['frequency'], summary['recency'], summary['T'])\n",
        "plot_frequency_recency_matrix(bgf);"
      ],
      "execution_count": 0,
      "outputs": [
        {
          "output_type": "display_data",
          "data": {
            "image/png": "[encoded data removed]",
            "text/plain": [
              "<Figure size 432x288 with 2 Axes>"
            ]
          },
          "metadata": {
            "tags": []
          }
        }
      ]
    },
    {
      "cell_type": "code",
      "metadata": {
        "id": "FiyyQCOPX67d",
        "colab_type": "code",
        "outputId": "6d4b6b3b-0056-45a6-abdf-4c3b2fc4670b",
        "colab": {
          "base_uri": "https://localhost:8080/",
          "height": 310
        }
      },
      "source": [
        "plot_probability_alive_matrix(bgf);"
      ],
      "execution_count": 0,
      "outputs": [
        {
          "output_type": "display_data",
          "data": {
            "image/png": "[encoded data removed]",
            "text/plain": [
              "<Figure size 432x288 with 2 Axes>"
            ]
          },
          "metadata": {
            "tags": []
          }
        }
      ]
    },
    {
      "cell_type": "code",
      "metadata": {
        "id": "0-rj-UpoX_uJ",
        "colab_type": "code",
        "outputId": "8507c9fd-ec5c-446a-e3b8-2c2bd008bb68",
        "colab": {
          "base_uri": "https://localhost:8080/",
          "height": 301
        }
      },
      "source": [
        "plot_period_transactions(bgf).set_yscale('log');"
      ],
      "execution_count": 0,
      "outputs": [
        {
          "output_type": "display_data",
          "data": {
            "image/png": "[encoded data removed]",
            "text/plain": [
              "<Figure size 432x288 with 1 Axes>"
            ]
          },
          "metadata": {
            "tags": []
          }
        }
      ]
    },
    {
      "cell_type": "markdown",
      "metadata": {
        "id": "aYhepZNwmvlx",
        "colab_type": "text"
      },
      "source": [
        "## ajustes\n"
      ]
    },
    {
      "cell_type": "code",
      "metadata": {
        "id": "Lj1GLU7Lmxxu",
        "colab_type": "code",
        "colab": {}
      },
      "source": [
        "print(summary.median())\n",
        "summary[(summary['frequency']<1) & (summary['T']>300) & (summary['recency']<1) & (summary['recency']<0.000044) ].count()/summary.count()"
      ],
      "execution_count": 0,
      "outputs": []
    },
    {
      "cell_type": "code",
      "metadata": {
        "id": "hm7yXYLgnbwE",
        "colab_type": "code",
        "outputId": "7600d53e-410a-4f5b-938a-cc821e8b2bca",
        "colab": {
          "base_uri": "https://localhost:8080/",
          "height": 235
        }
      },
      "source": [
        "t = 1\n",
        "summary['predicted_purchases'] = bgf.conditional_expected_number_of_purchases_up_to_time(t, summary['frequency'], summary['recency'], summary['T'])\n",
        "summary.sort_values(by='predicted_purchases').tail(5)"
      ],
      "execution_count": 0,
      "outputs": [
        {
          "output_type": "execute_result",
          "data": {
            "text/html": [
              "<div>\n",
              "<style scoped>\n",
              "    .dataframe tbody tr th:only-of-type {\n",
              "        vertical-align: middle;\n",
              "    }\n",
              "\n",
              "    .dataframe tbody tr th {\n",
              "        vertical-align: top;\n",
              "    }\n",
              "\n",
              "    .dataframe thead th {\n",
              "        text-align: right;\n",
              "    }\n",
              "</style>\n",
              "<table border=\"1\" class=\"dataframe\">\n",
              "  <thead>\n",
              "    <tr style=\"text-align: right;\">\n",
              "      <th></th>\n",
              "      <th>frequency</th>\n",
              "      <th>recency</th>\n",
              "      <th>T</th>\n",
              "      <th>monetary_value</th>\n",
              "      <th>predicted_purchases</th>\n",
              "    </tr>\n",
              "    <tr>\n",
              "      <th>customer_id</th>\n",
              "      <th></th>\n",
              "      <th></th>\n",
              "      <th></th>\n",
              "      <th></th>\n",
              "      <th></th>\n",
              "    </tr>\n",
              "  </thead>\n",
              "  <tbody>\n",
              "    <tr>\n",
              "      <th>e0836a97eaae86ac4adc26fbb334a527</th>\n",
              "      <td>2.0</td>\n",
              "      <td>62.0</td>\n",
              "      <td>69.0</td>\n",
              "      <td>3295.50</td>\n",
              "      <td>0.005503</td>\n",
              "    </tr>\n",
              "    <tr>\n",
              "      <th>6469f99c1f9dfae7733b25662e7f1782</th>\n",
              "      <td>5.0</td>\n",
              "      <td>282.0</td>\n",
              "      <td>349.0</td>\n",
              "      <td>12037.00</td>\n",
              "      <td>0.005613</td>\n",
              "    </tr>\n",
              "    <tr>\n",
              "      <th>dc813062e0fc23409cd255f7f53c7074</th>\n",
              "      <td>5.0</td>\n",
              "      <td>418.0</td>\n",
              "      <td>429.0</td>\n",
              "      <td>10713.60</td>\n",
              "      <td>0.006605</td>\n",
              "    </tr>\n",
              "    <tr>\n",
              "      <th>394ac4de8f3acb14253c177f0e15bc58</th>\n",
              "      <td>4.0</td>\n",
              "      <td>236.0</td>\n",
              "      <td>255.0</td>\n",
              "      <td>12663.25</td>\n",
              "      <td>0.006981</td>\n",
              "    </tr>\n",
              "    <tr>\n",
              "      <th>8d50f5eadf50201ccdcedfb9e2ac8455</th>\n",
              "      <td>15.0</td>\n",
              "      <td>462.0</td>\n",
              "      <td>476.0</td>\n",
              "      <td>5861.80</td>\n",
              "      <td>0.022795</td>\n",
              "    </tr>\n",
              "  </tbody>\n",
              "</table>\n",
              "</div>"
            ],
            "text/plain": [
              "                                  frequency  ...  predicted_purchases\n",
              "customer_id                                  ...                     \n",
              "e0836a97eaae86ac4adc26fbb334a527        2.0  ...             0.005503\n",
              "6469f99c1f9dfae7733b25662e7f1782        5.0  ...             0.005613\n",
              "dc813062e0fc23409cd255f7f53c7074        5.0  ...             0.006605\n",
              "394ac4de8f3acb14253c177f0e15bc58        4.0  ...             0.006981\n",
              "8d50f5eadf50201ccdcedfb9e2ac8455       15.0  ...             0.022795\n",
              "\n",
              "[5 rows x 5 columns]"
            ]
          },
          "metadata": {
            "tags": []
          },
          "execution_count": 241
        }
      ]
    },
    {
      "cell_type": "code",
      "metadata": {
        "id": "TwhEh2dIYDCQ",
        "colab_type": "code",
        "colab": {}
      },
      "source": [
        "summary_cal_holdout = calibration_and_holdout_data(datos_facturacion, 'customer_id', 'date',calibration_period_end='2017-09-03', observation_period_end='2018-09-03' )"
      ],
      "execution_count": 0,
      "outputs": []
    },
    {
      "cell_type": "code",
      "metadata": {
        "id": "L0B_-uoSYE3n",
        "colab_type": "code",
        "outputId": "40534c91-86fa-41da-99bd-3e77fe904fcc",
        "colab": {
          "base_uri": "https://localhost:8080/",
          "height": 295
        }
      },
      "source": [
        "bgf.fit(summary_cal_holdout['frequency_cal'], summary_cal_holdout['recency_cal'], summary_cal_holdout['T_cal'])\n",
        "plot_cumulative_transactions(bgf, datos_facturacion, 'date', 'customer_id', 730, 365);"
      ],
      "execution_count": 0,
      "outputs": [
        {
          "output_type": "display_data",
          "data": {
            "image/png": "[encoded data removed]",
            "text/plain": [
              "<Figure size 432x288 with 1 Axes>"
            ]
          },
          "metadata": {
            "tags": []
          }
        }
      ]
    },
    {
      "cell_type": "code",
      "metadata": {
        "id": "Vs00xG5-YHBH",
        "colab_type": "code",
        "outputId": "3f9f28b7-51b0-4771-8fe5-d176d6e88536",
        "colab": {
          "base_uri": "https://localhost:8080/",
          "height": 295
        }
      },
      "source": [
        "plot_incremental_transactions(bgf, datos_facturacion, 'date', 'customer_id', 730, 365);"
      ],
      "execution_count": 0,
      "outputs": [
        {
          "output_type": "display_data",
          "data": {
            "image/png": "[encoded data removed]",
            "text/plain": [
              "<Figure size 432x288 with 1 Axes>"
            ]
          },
          "metadata": {
            "tags": []
          }
        }
      ]
    },
    {
      "cell_type": "code",
      "metadata": {
        "id": "0TVYP1Y9YIsF",
        "colab_type": "code",
        "outputId": "9f879822-c862-4e9f-a3b1-47bfe18cdd35",
        "colab": {
          "base_uri": "https://localhost:8080/",
          "height": 295
        }
      },
      "source": [
        "plot_calibration_purchases_vs_holdout_purchases(bgf, summary_cal_holdout);"
      ],
      "execution_count": 0,
      "outputs": [
        {
          "output_type": "display_data",
          "data": {
            "image/png": "[encoded data removed]",
            "text/plain": [
              "<Figure size 432x288 with 1 Axes>"
            ]
          },
          "metadata": {
            "tags": []
          }
        }
      ]
    },
    {
      "cell_type": "code",
      "metadata": {
        "id": "4bE-diMkYKWF",
        "colab_type": "code",
        "outputId": "f5e289d3-92a8-4f96-b5fb-09c97b65f038",
        "colab": {
          "base_uri": "https://localhost:8080/",
          "height": 85
        }
      },
      "source": [
        "datos_clientes.groupby('customer_id').size().value_counts()"
      ],
      "execution_count": 0,
      "outputs": [
        {
          "output_type": "execute_result",
          "data": {
            "text/plain": [
              "1    95844\n",
              "2      248\n",
              "3        4\n",
              "dtype: int64"
            ]
          },
          "metadata": {
            "tags": []
          },
          "execution_count": 246
        }
      ]
    },
    {
      "cell_type": "code",
      "metadata": {
        "id": "H3pcHn87YMAR",
        "colab_type": "code",
        "outputId": "7b7ec9a0-d3a3-42a6-d59d-b973f7942f21",
        "colab": {
          "base_uri": "https://localhost:8080/",
          "height": 284
        }
      },
      "source": [
        "df = summary[summary['frequency']>0]\n",
        "df['prob_alive'] = bgf.conditional_probability_alive(df['frequency'],df['recency'],df['T'])\n",
        "sns.distplot(df['prob_alive']);"
      ],
      "execution_count": 0,
      "outputs": [
        {
          "output_type": "display_data",
          "data": {
            "image/png": "[encoded data removed]",
            "text/plain": [
              "<Figure size 432x288 with 1 Axes>"
            ]
          },
          "metadata": {
            "tags": []
          }
        }
      ]
    },
    {
      "cell_type": "code",
      "metadata": {
        "id": "2bWH-PR0YNnV",
        "colab_type": "code",
        "outputId": "08553c11-f282-4e19-bd50-57f643d4b2a9",
        "colab": {
          "base_uri": "https://localhost:8080/",
          "height": 283
        }
      },
      "source": [
        "df['churn'] = ['churned' if p < .1 else 'not churned' for p in df['prob_alive']]\n",
        "sns.countplot(df['churn']);"
      ],
      "execution_count": 0,
      "outputs": [
        {
          "output_type": "display_data",
          "data": {
            "image/png": "[encoded data removed]",
            "text/plain": [
              "<Figure size 432x288 with 1 Axes>"
            ]
          },
          "metadata": {
            "tags": []
          }
        }
      ]
    },
    {
      "cell_type": "code",
      "metadata": {
        "id": "oUNpFHJwYQDC",
        "colab_type": "code",
        "outputId": "386d5425-5d04-4901-d803-76dd2ca435f8",
        "colab": {
          "base_uri": "https://localhost:8080/",
          "height": 296
        }
      },
      "source": [
        "sns.distplot(df[df['churn']=='not churned']['prob_alive']).set_title('Probability alive, not churned');"
      ],
      "execution_count": 0,
      "outputs": [
        {
          "output_type": "display_data",
          "data": {
            "image/png": "[encoded data removed]",
            "text/plain": [
              "<Figure size 432x288 with 1 Axes>"
            ]
          },
          "metadata": {
            "tags": []
          }
        }
      ]
    },
    {
      "cell_type": "code",
      "metadata": {
        "id": "DKRV-pCuYR0K",
        "colab_type": "code",
        "outputId": "9705562d-5384-4d43-b8d3-4fe26e1d239c",
        "colab": {
          "base_uri": "https://localhost:8080/",
          "height": 85
        }
      },
      "source": [
        "df['churn'][(df['prob_alive']>=.1) & (df['prob_alive']<.2)] = \"high risk\"\n",
        "df['churn'].value_counts()"
      ],
      "execution_count": 0,
      "outputs": [
        {
          "output_type": "execute_result",
          "data": {
            "text/plain": [
              "churned        1928\n",
              "high risk        84\n",
              "not churned      73\n",
              "Name: churn, dtype: int64"
            ]
          },
          "metadata": {
            "tags": []
          },
          "execution_count": 250
        }
      ]
    },
    {
      "cell_type": "code",
      "metadata": {
        "id": "xR_qdYQ7YToG",
        "colab_type": "code",
        "outputId": "f3d79524-0995-406d-a1bd-307199347dd7",
        "colab": {
          "base_uri": "https://localhost:8080/",
          "height": 235
        }
      },
      "source": [
        "df[df['churn'] =='churned'].head()"
      ],
      "execution_count": 0,
      "outputs": [
        {
          "output_type": "execute_result",
          "data": {
            "text/html": [
              "<div>\n",
              "<style scoped>\n",
              "    .dataframe tbody tr th:only-of-type {\n",
              "        vertical-align: middle;\n",
              "    }\n",
              "\n",
              "    .dataframe tbody tr th {\n",
              "        vertical-align: top;\n",
              "    }\n",
              "\n",
              "    .dataframe thead th {\n",
              "        text-align: right;\n",
              "    }\n",
              "</style>\n",
              "<table border=\"1\" class=\"dataframe\">\n",
              "  <thead>\n",
              "    <tr style=\"text-align: right;\">\n",
              "      <th></th>\n",
              "      <th>frequency</th>\n",
              "      <th>recency</th>\n",
              "      <th>T</th>\n",
              "      <th>monetary_value</th>\n",
              "      <th>predicted_purchases</th>\n",
              "      <th>prob_alive</th>\n",
              "      <th>churn</th>\n",
              "    </tr>\n",
              "    <tr>\n",
              "      <th>customer_id</th>\n",
              "      <th></th>\n",
              "      <th></th>\n",
              "      <th></th>\n",
              "      <th></th>\n",
              "      <th></th>\n",
              "      <th></th>\n",
              "      <th></th>\n",
              "    </tr>\n",
              "  </thead>\n",
              "  <tbody>\n",
              "    <tr>\n",
              "      <th>004288347e5e88a27ded2bb23747066c</th>\n",
              "      <td>1.0</td>\n",
              "      <td>171.0</td>\n",
              "      <td>403.0</td>\n",
              "      <td>10328.0</td>\n",
              "      <td>0.000170</td>\n",
              "      <td>0.053200</td>\n",
              "      <td>churned</td>\n",
              "    </tr>\n",
              "    <tr>\n",
              "      <th>004b45ec5c64187465168251cd1c9c2f</th>\n",
              "      <td>1.0</td>\n",
              "      <td>267.0</td>\n",
              "      <td>367.0</td>\n",
              "      <td>4985.0</td>\n",
              "      <td>0.000271</td>\n",
              "      <td>0.082272</td>\n",
              "      <td>churned</td>\n",
              "    </tr>\n",
              "    <tr>\n",
              "      <th>0058f300f57d7b93c477a131a59b36c3</th>\n",
              "      <td>1.0</td>\n",
              "      <td>31.0</td>\n",
              "      <td>196.0</td>\n",
              "      <td>9602.0</td>\n",
              "      <td>0.000227</td>\n",
              "      <td>0.033793</td>\n",
              "      <td>churned</td>\n",
              "    </tr>\n",
              "    <tr>\n",
              "      <th>00a39521eb40f7012db50455bf083460</th>\n",
              "      <td>1.0</td>\n",
              "      <td>11.0</td>\n",
              "      <td>103.0</td>\n",
              "      <td>2678.0</td>\n",
              "      <td>0.000428</td>\n",
              "      <td>0.039748</td>\n",
              "      <td>churned</td>\n",
              "    </tr>\n",
              "    <tr>\n",
              "      <th>011575986092c30523ecb71ff10cb473</th>\n",
              "      <td>1.0</td>\n",
              "      <td>60.0</td>\n",
              "      <td>198.0</td>\n",
              "      <td>8032.0</td>\n",
              "      <td>0.000286</td>\n",
              "      <td>0.046973</td>\n",
              "      <td>churned</td>\n",
              "    </tr>\n",
              "  </tbody>\n",
              "</table>\n",
              "</div>"
            ],
            "text/plain": [
              "                                  frequency  recency  ...  prob_alive    churn\n",
              "customer_id                                           ...                     \n",
              "004288347e5e88a27ded2bb23747066c        1.0    171.0  ...    0.053200  churned\n",
              "004b45ec5c64187465168251cd1c9c2f        1.0    267.0  ...    0.082272  churned\n",
              "0058f300f57d7b93c477a131a59b36c3        1.0     31.0  ...    0.033793  churned\n",
              "00a39521eb40f7012db50455bf083460        1.0     11.0  ...    0.039748  churned\n",
              "011575986092c30523ecb71ff10cb473        1.0     60.0  ...    0.046973  churned\n",
              "\n",
              "[5 rows x 7 columns]"
            ]
          },
          "metadata": {
            "tags": []
          },
          "execution_count": 251
        }
      ]
    },
    {
      "cell_type": "code",
      "metadata": {
        "id": "Q0-4ZZQ3YVg9",
        "colab_type": "code",
        "colab": {}
      },
      "source": [
        "df['definition'] = df['churn'].apply(lambda x: 1 if x == 'churned' else 0)"
      ],
      "execution_count": 0,
      "outputs": []
    },
    {
      "cell_type": "code",
      "metadata": {
        "id": "s2aemauMYati",
        "colab_type": "code",
        "outputId": "a3c7e2f8-ec15-4787-8ce7-2d4120209847",
        "colab": {
          "base_uri": "https://localhost:8080/",
          "height": 306
        }
      },
      "source": [
        "prueba_clientes = pd.merge(datos_clientes,df[['definition']],on='customer_id', how='left')\n",
        "prueba_clientes['definition'].fillna(0, inplace=True)\n",
        "print(prueba_clientes.count())\n",
        "prueba_clientes.head()"
      ],
      "execution_count": 0,
      "outputs": [
        {
          "output_type": "stream",
          "text": [
            "customer_id                 96352\n",
            "customer_state              96352\n",
            "customer_city               96352\n",
            "customer_zip_code_prefix    96352\n",
            "definition                  96352\n",
            "dtype: int64\n"
          ],
          "name": "stdout"
        },
        {
          "output_type": "execute_result",
          "data": {
            "text/html": [
              "<div>\n",
              "<style scoped>\n",
              "    .dataframe tbody tr th:only-of-type {\n",
              "        vertical-align: middle;\n",
              "    }\n",
              "\n",
              "    .dataframe tbody tr th {\n",
              "        vertical-align: top;\n",
              "    }\n",
              "\n",
              "    .dataframe thead th {\n",
              "        text-align: right;\n",
              "    }\n",
              "</style>\n",
              "<table border=\"1\" class=\"dataframe\">\n",
              "  <thead>\n",
              "    <tr style=\"text-align: right;\">\n",
              "      <th></th>\n",
              "      <th>customer_id</th>\n",
              "      <th>customer_state</th>\n",
              "      <th>customer_city</th>\n",
              "      <th>customer_zip_code_prefix</th>\n",
              "      <th>definition</th>\n",
              "    </tr>\n",
              "  </thead>\n",
              "  <tbody>\n",
              "    <tr>\n",
              "      <th>0</th>\n",
              "      <td>0000366f3b9a7992bf8c76cfdf3221e2</td>\n",
              "      <td>SP</td>\n",
              "      <td>cajamar</td>\n",
              "      <td>7787</td>\n",
              "      <td>0.0</td>\n",
              "    </tr>\n",
              "    <tr>\n",
              "      <th>1</th>\n",
              "      <td>0000b849f77a49e4a4ce2b2a4ca5be3f</td>\n",
              "      <td>SP</td>\n",
              "      <td>osasco</td>\n",
              "      <td>6053</td>\n",
              "      <td>0.0</td>\n",
              "    </tr>\n",
              "    <tr>\n",
              "      <th>2</th>\n",
              "      <td>0000f46a3911fa3c0805444483337064</td>\n",
              "      <td>SC</td>\n",
              "      <td>sao jose</td>\n",
              "      <td>88115</td>\n",
              "      <td>0.0</td>\n",
              "    </tr>\n",
              "    <tr>\n",
              "      <th>3</th>\n",
              "      <td>0000f6ccb0745a6a4b88665a16c9f078</td>\n",
              "      <td>PA</td>\n",
              "      <td>belem</td>\n",
              "      <td>66812</td>\n",
              "      <td>0.0</td>\n",
              "    </tr>\n",
              "    <tr>\n",
              "      <th>4</th>\n",
              "      <td>0004aac84e0df4da2b147fca70cf8255</td>\n",
              "      <td>SP</td>\n",
              "      <td>sorocaba</td>\n",
              "      <td>18040</td>\n",
              "      <td>0.0</td>\n",
              "    </tr>\n",
              "  </tbody>\n",
              "</table>\n",
              "</div>"
            ],
            "text/plain": [
              "                        customer_id  ... definition\n",
              "0  0000366f3b9a7992bf8c76cfdf3221e2  ...        0.0\n",
              "1  0000b849f77a49e4a4ce2b2a4ca5be3f  ...        0.0\n",
              "2  0000f46a3911fa3c0805444483337064  ...        0.0\n",
              "3  0000f6ccb0745a6a4b88665a16c9f078  ...        0.0\n",
              "4  0004aac84e0df4da2b147fca70cf8255  ...        0.0\n",
              "\n",
              "[5 rows x 5 columns]"
            ]
          },
          "metadata": {
            "tags": []
          },
          "execution_count": 253
        }
      ]
    },
    {
      "cell_type": "code",
      "metadata": {
        "id": "3EWs6-lHYcuc",
        "colab_type": "code",
        "outputId": "5e408c70-73db-4850-97c8-f5dd7f71c061",
        "colab": {
          "base_uri": "https://localhost:8080/",
          "height": 34
        }
      },
      "source": [
        "prueba_clientes['definition'].mean()"
      ],
      "execution_count": 0,
      "outputs": [
        {
          "output_type": "execute_result",
          "data": {
            "text/plain": [
              "0.022293258053802723"
            ]
          },
          "metadata": {
            "tags": []
          },
          "execution_count": 254
        }
      ]
    },
    {
      "cell_type": "code",
      "metadata": {
        "id": "tprRvUGNZLdn",
        "colab_type": "code",
        "colab": {}
      },
      "source": [
        "# se aplica hot encoded a las dimensiones\n",
        "\n",
        "# enfoque dos dimensiones\n",
        "#temporal =  prueba_clientes.drop(['customer_state', 'customer_city'], axis=1)\n",
        "#customer_state = pd.get_dummies(prueba_clientes.customer_state).iloc[:,1:]\n",
        "#customer_city = pd.get_dummies(prueba_clientes.customer_city).iloc[:,1:]\n",
        "\n",
        "# enfoque una dimensión \n",
        "temporal =  prueba_clientes.drop(['customer_state'], axis=1)\n",
        "customer_state = pd.get_dummies(prueba_clientes.customer_state).iloc[:,1:]"
      ],
      "execution_count": 0,
      "outputs": []
    },
    {
      "cell_type": "code",
      "metadata": {
        "id": "auvihcD9gi1-",
        "colab_type": "code",
        "colab": {}
      },
      "source": [
        "def labelDatase(dataset):\n",
        "\n",
        "  le = preprocessing.LabelEncoder()\n",
        "\n",
        "  for column_name in dataset.columns:\n",
        "        if dataset[column_name].dtype == object:\n",
        "            dataset[column_name] = le.fit_transform(dataset[column_name])\n",
        "        else:\n",
        "            pass\n",
        "\n",
        "  return dataset"
      ],
      "execution_count": 0,
      "outputs": []
    },
    {
      "cell_type": "code",
      "metadata": {
        "id": "eng9kduqaKJI",
        "colab_type": "code",
        "outputId": "71f55055-0980-4221-97dd-962f09e53a64",
        "colab": {
          "base_uri": "https://localhost:8080/",
          "height": 204
        }
      },
      "source": [
        "dataset = labelDatase(temporal)\n",
        "# con 2 diomensiones \n",
        "#customer = pd.concat([temporal,customer_state,customer_city], axis=1)\n",
        "\n",
        "# con 1 dimensión\n",
        "customer = pd.concat([dataset,customer_state], axis=1)\n",
        "\n",
        "customer.head()"
      ],
      "execution_count": 0,
      "outputs": [
        {
          "output_type": "execute_result",
          "data": {
            "text/html": [
              "<div>\n",
              "<style scoped>\n",
              "    .dataframe tbody tr th:only-of-type {\n",
              "        vertical-align: middle;\n",
              "    }\n",
              "\n",
              "    .dataframe tbody tr th {\n",
              "        vertical-align: top;\n",
              "    }\n",
              "\n",
              "    .dataframe thead th {\n",
              "        text-align: right;\n",
              "    }\n",
              "</style>\n",
              "<table border=\"1\" class=\"dataframe\">\n",
              "  <thead>\n",
              "    <tr style=\"text-align: right;\">\n",
              "      <th></th>\n",
              "      <th>customer_id</th>\n",
              "      <th>customer_city</th>\n",
              "      <th>customer_zip_code_prefix</th>\n",
              "      <th>definition</th>\n",
              "      <th>AL</th>\n",
              "      <th>AM</th>\n",
              "      <th>AP</th>\n",
              "      <th>BA</th>\n",
              "      <th>CE</th>\n",
              "      <th>DF</th>\n",
              "      <th>ES</th>\n",
              "      <th>GO</th>\n",
              "      <th>MA</th>\n",
              "      <th>MG</th>\n",
              "      <th>MS</th>\n",
              "      <th>MT</th>\n",
              "      <th>PA</th>\n",
              "      <th>PB</th>\n",
              "      <th>PE</th>\n",
              "      <th>PI</th>\n",
              "      <th>PR</th>\n",
              "      <th>RJ</th>\n",
              "      <th>RN</th>\n",
              "      <th>RO</th>\n",
              "      <th>RR</th>\n",
              "      <th>RS</th>\n",
              "      <th>SC</th>\n",
              "      <th>SE</th>\n",
              "      <th>SP</th>\n",
              "      <th>TO</th>\n",
              "    </tr>\n",
              "  </thead>\n",
              "  <tbody>\n",
              "    <tr>\n",
              "      <th>0</th>\n",
              "      <td>0</td>\n",
              "      <td>655</td>\n",
              "      <td>7787</td>\n",
              "      <td>0.0</td>\n",
              "      <td>0</td>\n",
              "      <td>0</td>\n",
              "      <td>0</td>\n",
              "      <td>0</td>\n",
              "      <td>0</td>\n",
              "      <td>0</td>\n",
              "      <td>0</td>\n",
              "      <td>0</td>\n",
              "      <td>0</td>\n",
              "      <td>0</td>\n",
              "      <td>0</td>\n",
              "      <td>0</td>\n",
              "      <td>0</td>\n",
              "      <td>0</td>\n",
              "      <td>0</td>\n",
              "      <td>0</td>\n",
              "      <td>0</td>\n",
              "      <td>0</td>\n",
              "      <td>0</td>\n",
              "      <td>0</td>\n",
              "      <td>0</td>\n",
              "      <td>0</td>\n",
              "      <td>0</td>\n",
              "      <td>0</td>\n",
              "      <td>1</td>\n",
              "      <td>0</td>\n",
              "    </tr>\n",
              "    <tr>\n",
              "      <th>1</th>\n",
              "      <td>1</td>\n",
              "      <td>2594</td>\n",
              "      <td>6053</td>\n",
              "      <td>0.0</td>\n",
              "      <td>0</td>\n",
              "      <td>0</td>\n",
              "      <td>0</td>\n",
              "      <td>0</td>\n",
              "      <td>0</td>\n",
              "      <td>0</td>\n",
              "      <td>0</td>\n",
              "      <td>0</td>\n",
              "      <td>0</td>\n",
              "      <td>0</td>\n",
              "      <td>0</td>\n",
              "      <td>0</td>\n",
              "      <td>0</td>\n",
              "      <td>0</td>\n",
              "      <td>0</td>\n",
              "      <td>0</td>\n",
              "      <td>0</td>\n",
              "      <td>0</td>\n",
              "      <td>0</td>\n",
              "      <td>0</td>\n",
              "      <td>0</td>\n",
              "      <td>0</td>\n",
              "      <td>0</td>\n",
              "      <td>0</td>\n",
              "      <td>1</td>\n",
              "      <td>0</td>\n",
              "    </tr>\n",
              "    <tr>\n",
              "      <th>2</th>\n",
              "      <td>2</td>\n",
              "      <td>3520</td>\n",
              "      <td>88115</td>\n",
              "      <td>0.0</td>\n",
              "      <td>0</td>\n",
              "      <td>0</td>\n",
              "      <td>0</td>\n",
              "      <td>0</td>\n",
              "      <td>0</td>\n",
              "      <td>0</td>\n",
              "      <td>0</td>\n",
              "      <td>0</td>\n",
              "      <td>0</td>\n",
              "      <td>0</td>\n",
              "      <td>0</td>\n",
              "      <td>0</td>\n",
              "      <td>0</td>\n",
              "      <td>0</td>\n",
              "      <td>0</td>\n",
              "      <td>0</td>\n",
              "      <td>0</td>\n",
              "      <td>0</td>\n",
              "      <td>0</td>\n",
              "      <td>0</td>\n",
              "      <td>0</td>\n",
              "      <td>0</td>\n",
              "      <td>1</td>\n",
              "      <td>0</td>\n",
              "      <td>0</td>\n",
              "      <td>0</td>\n",
              "    </tr>\n",
              "    <tr>\n",
              "      <th>3</th>\n",
              "      <td>3</td>\n",
              "      <td>448</td>\n",
              "      <td>66812</td>\n",
              "      <td>0.0</td>\n",
              "      <td>0</td>\n",
              "      <td>0</td>\n",
              "      <td>0</td>\n",
              "      <td>0</td>\n",
              "      <td>0</td>\n",
              "      <td>0</td>\n",
              "      <td>0</td>\n",
              "      <td>0</td>\n",
              "      <td>0</td>\n",
              "      <td>0</td>\n",
              "      <td>0</td>\n",
              "      <td>0</td>\n",
              "      <td>1</td>\n",
              "      <td>0</td>\n",
              "      <td>0</td>\n",
              "      <td>0</td>\n",
              "      <td>0</td>\n",
              "      <td>0</td>\n",
              "      <td>0</td>\n",
              "      <td>0</td>\n",
              "      <td>0</td>\n",
              "      <td>0</td>\n",
              "      <td>0</td>\n",
              "      <td>0</td>\n",
              "      <td>0</td>\n",
              "      <td>0</td>\n",
              "    </tr>\n",
              "    <tr>\n",
              "      <th>4</th>\n",
              "      <td>4</td>\n",
              "      <td>3758</td>\n",
              "      <td>18040</td>\n",
              "      <td>0.0</td>\n",
              "      <td>0</td>\n",
              "      <td>0</td>\n",
              "      <td>0</td>\n",
              "      <td>0</td>\n",
              "      <td>0</td>\n",
              "      <td>0</td>\n",
              "      <td>0</td>\n",
              "      <td>0</td>\n",
              "      <td>0</td>\n",
              "      <td>0</td>\n",
              "      <td>0</td>\n",
              "      <td>0</td>\n",
              "      <td>0</td>\n",
              "      <td>0</td>\n",
              "      <td>0</td>\n",
              "      <td>0</td>\n",
              "      <td>0</td>\n",
              "      <td>0</td>\n",
              "      <td>0</td>\n",
              "      <td>0</td>\n",
              "      <td>0</td>\n",
              "      <td>0</td>\n",
              "      <td>0</td>\n",
              "      <td>0</td>\n",
              "      <td>1</td>\n",
              "      <td>0</td>\n",
              "    </tr>\n",
              "  </tbody>\n",
              "</table>\n",
              "</div>"
            ],
            "text/plain": [
              "   customer_id  customer_city  customer_zip_code_prefix  ...  SE  SP  TO\n",
              "0            0            655                      7787  ...   0   1   0\n",
              "1            1           2594                      6053  ...   0   1   0\n",
              "2            2           3520                     88115  ...   0   0   0\n",
              "3            3            448                     66812  ...   0   0   0\n",
              "4            4           3758                     18040  ...   0   1   0\n",
              "\n",
              "[5 rows x 30 columns]"
            ]
          },
          "metadata": {
            "tags": []
          },
          "execution_count": 257
        }
      ]
    },
    {
      "cell_type": "code",
      "metadata": {
        "id": "q-It_43uarcr",
        "colab_type": "code",
        "colab": {}
      },
      "source": [
        "# se obtiene X y Y , además los datasets de entrenamiento y pruebas\n",
        "features = customer.drop(['definition'], axis=1)\n",
        "labels = customer['definition']\n",
        "train_features, test_features, train_labels, test_labels = train_test_split(features, labels, test_size=0.2, random_state=1)"
      ],
      "execution_count": 0,
      "outputs": []
    },
    {
      "cell_type": "markdown",
      "metadata": {
        "id": "A1b5S5t2bnWo",
        "colab_type": "text"
      },
      "source": [
        "### Random Forest Classifier"
      ]
    },
    {
      "cell_type": "code",
      "metadata": {
        "id": "Yft9WQk3bL6Q",
        "colab_type": "code",
        "outputId": "6e32e3f5-2aac-4568-8936-f9f914252a98",
        "colab": {
          "base_uri": "https://localhost:8080/",
          "height": 221
        }
      },
      "source": [
        "# Algoritmo\n",
        "rfc_object = rfc(n_estimators=200, random_state=0)\n",
        "rfc_object.fit(train_features, train_labels)\n",
        "predicted_labels = rfc_object.predict(test_features)\n",
        "# se verifican resultados\n",
        "print(classification_report(test_labels, predicted_labels))\n",
        "print(confusion_matrix(test_labels, predicted_labels))\n",
        "print(accuracy_score(test_labels, predicted_labels))"
      ],
      "execution_count": 0,
      "outputs": [
        {
          "output_type": "stream",
          "text": [
            "              precision    recall  f1-score   support\n",
            "\n",
            "         0.0       0.98      1.00      0.99     18839\n",
            "         1.0       0.09      0.01      0.01       432\n",
            "\n",
            "    accuracy                           0.98     19271\n",
            "   macro avg       0.54      0.50      0.50     19271\n",
            "weighted avg       0.96      0.98      0.97     19271\n",
            "\n",
            "[[18810    29]\n",
            " [  429     3]]\n",
            "0.976233719059727\n"
          ],
          "name": "stdout"
        }
      ]
    },
    {
      "cell_type": "markdown",
      "metadata": {
        "id": "r2pvaAgXbrlG",
        "colab_type": "text"
      },
      "source": [
        "### Support Vector Machines"
      ]
    },
    {
      "cell_type": "code",
      "metadata": {
        "id": "VcQnhdYcbY1K",
        "colab_type": "code",
        "outputId": "6b8d6caf-45ad-4392-a3d2-ab277f33f2b5",
        "colab": {
          "base_uri": "https://localhost:8080/",
          "height": 255
        }
      },
      "source": [
        "# Algoritmo\n",
        "svc_object = svc(kernel='rbf', degree=8)\n",
        "svc_object.fit(train_features, train_labels)\n",
        "predicted_labels = svc_object.predict(test_features) \n",
        "# se verifican resultados\n",
        "print(classification_report(test_labels, predicted_labels))\n",
        "print(confusion_matrix(test_labels, predicted_labels))\n",
        "print(accuracy_score(test_labels, predicted_labels))"
      ],
      "execution_count": 0,
      "outputs": [
        {
          "output_type": "stream",
          "text": [
            "              precision    recall  f1-score   support\n",
            "\n",
            "         0.0       0.98      1.00      0.99     18839\n",
            "         1.0       0.00      0.00      0.00       432\n",
            "\n",
            "    accuracy                           0.98     19271\n",
            "   macro avg       0.49      0.50      0.49     19271\n",
            "weighted avg       0.96      0.98      0.97     19271\n",
            "\n",
            "[[18839     0]\n",
            " [  432     0]]\n",
            "0.9775828965803539\n"
          ],
          "name": "stdout"
        },
        {
          "output_type": "stream",
          "text": [
            "/usr/local/lib/python3.6/dist-packages/sklearn/metrics/classification.py:1437: UndefinedMetricWarning: Precision and F-score are ill-defined and being set to 0.0 in labels with no predicted samples.\n",
            "  'precision', 'predicted', average, warn_for)\n"
          ],
          "name": "stderr"
        }
      ]
    },
    {
      "cell_type": "markdown",
      "metadata": {
        "id": "2DClOPu4b51V",
        "colab_type": "text"
      },
      "source": [
        "### Regresión Logistica"
      ]
    },
    {
      "cell_type": "code",
      "metadata": {
        "id": "5FYVtD6gb82R",
        "colab_type": "code",
        "outputId": "801818a8-6177-4649-ea22-1653edb9a0b4",
        "colab": {
          "base_uri": "https://localhost:8080/",
          "height": 255
        }
      },
      "source": [
        "# Algoritmo\n",
        "lr_object = LogisticRegression()\n",
        "lr_object.fit(train_features, train_labels)\n",
        "predicted_labels = lr_object.predict(test_features)\n",
        "# se verifican resultados\n",
        "print(classification_report(test_labels, predicted_labels))\n",
        "print(confusion_matrix(test_labels, predicted_labels))\n",
        "print(accuracy_score(test_labels, predicted_labels))"
      ],
      "execution_count": 0,
      "outputs": [
        {
          "output_type": "stream",
          "text": [
            "              precision    recall  f1-score   support\n",
            "\n",
            "         0.0       0.98      1.00      0.99     18839\n",
            "         1.0       0.00      0.00      0.00       432\n",
            "\n",
            "    accuracy                           0.98     19271\n",
            "   macro avg       0.49      0.50      0.49     19271\n",
            "weighted avg       0.96      0.98      0.97     19271\n",
            "\n",
            "[[18839     0]\n",
            " [  432     0]]\n",
            "0.9775828965803539\n"
          ],
          "name": "stdout"
        },
        {
          "output_type": "stream",
          "text": [
            "/usr/local/lib/python3.6/dist-packages/sklearn/metrics/classification.py:1437: UndefinedMetricWarning: Precision and F-score are ill-defined and being set to 0.0 in labels with no predicted samples.\n",
            "  'precision', 'predicted', average, warn_for)\n"
          ],
          "name": "stderr"
        }
      ]
    },
    {
      "cell_type": "markdown",
      "metadata": {
        "id": "q7GgeBgZmPPW",
        "colab_type": "text"
      },
      "source": [
        "###Arboles de decisión"
      ]
    },
    {
      "cell_type": "code",
      "metadata": {
        "id": "MUWOJDN3mUiF",
        "colab_type": "code",
        "outputId": "da17186d-55a0-4c99-9931-1529cebdd5e7",
        "colab": {
          "base_uri": "https://localhost:8080/",
          "height": 221
        }
      },
      "source": [
        "from sklearn import tree\n",
        "import graphviz \n",
        "# Create each decision tree (pruned and unpruned)\n",
        "decisionTree_unpruned = tree.DecisionTreeClassifier()\n",
        "decisionTree = tree.DecisionTreeClassifier(max_depth = 4)\n",
        " \n",
        "# Fit each tree to our training data\n",
        "decisionTree_unpruned = decisionTree_unpruned.fit(X=train_features, y=train_labels)\n",
        "decisionTree = decisionTree.fit(X=train_features, y=train_labels)\n",
        " \n",
        "# Generate PDF visual of decision tree\n",
        "churnTree = tree.export_graphviz(decisionTree, out_file=None, \n",
        "                         feature_names = list(train_features.columns.values),  \n",
        "                         class_names = ['No churn', 'Churn'],\n",
        "                         filled=True, rounded=True,  \n",
        "                         special_characters=True)  \n",
        "graph = graphviz.Source(churnTree)\n",
        "graph.render('decision_tree.gv', view=True)\n",
        "predicted_labels = decisionTree.predict(test_features)\n",
        "# se verifican resultados\n",
        "print(classification_report(test_labels, predicted_labels))\n",
        "print(confusion_matrix(test_labels, predicted_labels))\n",
        "print(accuracy_score(test_labels, predicted_labels))\n"
      ],
      "execution_count": 0,
      "outputs": [
        {
          "output_type": "stream",
          "text": [
            "              precision    recall  f1-score   support\n",
            "\n",
            "         0.0       0.98      1.00      0.99     18839\n",
            "         1.0       0.00      0.00      0.00       432\n",
            "\n",
            "    accuracy                           0.98     19271\n",
            "   macro avg       0.49      0.50      0.49     19271\n",
            "weighted avg       0.96      0.98      0.97     19271\n",
            "\n",
            "[[18837     2]\n",
            " [  432     0]]\n",
            "0.9774791136941519\n"
          ],
          "name": "stdout"
        }
      ]
    },
    {
      "cell_type": "markdown",
      "metadata": {
        "id": "hv-OXQNWoemX",
        "colab_type": "text"
      },
      "source": [
        "###Gradient Boosting Classifier\n"
      ]
    },
    {
      "cell_type": "code",
      "metadata": {
        "id": "G71Y8XBSoePM",
        "colab_type": "code",
        "outputId": "7273eb6f-fa67-43a3-ff69-ea82981b0a8e",
        "colab": {
          "base_uri": "https://localhost:8080/",
          "height": 221
        }
      },
      "source": [
        "from sklearn.ensemble import GradientBoostingClassifier\n",
        "\n",
        "#Create Gradient Boosting Classifier\n",
        "gb = GradientBoostingClassifier()\n",
        "#Train the model using the training sets\n",
        "gb.fit(train_features, train_labels)\n",
        "#Predict the response for test dataset\n",
        "predicted_labels = gb.predict(test_features)\n",
        "\n",
        "\n",
        "# Model Accuracy, how often is the classifier correct?\n",
        "#print(\"Accuracy:\",metrics.accuracy_score(test_labels, y_pred))\n",
        "# Model Precision\n",
        "#print(\"Precision:\",metrics.precision_score(test_labels, y_pred))\n",
        "# Model Recall\n",
        "#print(\"Recall:\",metrics.recall_score(test_labels, y_pred))\n",
        "\n",
        "\n",
        "print(classification_report(test_labels, predicted_labels))\n",
        "print(confusion_matrix(test_labels, predicted_labels))\n",
        "print(accuracy_score(test_labels, predicted_labels))\n",
        "\n",
        "\n"
      ],
      "execution_count": 0,
      "outputs": [
        {
          "output_type": "stream",
          "text": [
            "              precision    recall  f1-score   support\n",
            "\n",
            "         0.0       0.98      1.00      0.99     18839\n",
            "         1.0       0.25      0.01      0.02       432\n",
            "\n",
            "    accuracy                           0.98     19271\n",
            "   macro avg       0.61      0.51      0.51     19271\n",
            "weighted avg       0.96      0.98      0.97     19271\n",
            "\n",
            "[[18824    15]\n",
            " [  427     5]]\n",
            "0.9770639821493435\n"
          ],
          "name": "stdout"
        }
      ]
    },
    {
      "cell_type": "markdown",
      "metadata": {
        "id": "Wy02TTaFt84S",
        "colab_type": "text"
      },
      "source": [
        "### Deep Learning"
      ]
    },
    {
      "cell_type": "code",
      "metadata": {
        "id": "f_aHm2T6t-_s",
        "colab_type": "code",
        "outputId": "15e05670-ca95-4f77-828b-af8c28ee9d23",
        "colab": {
          "base_uri": "https://localhost:8080/",
          "height": 232
        }
      },
      "source": [
        "from keras import models\n",
        "from keras import layers\n",
        "sc = StandardScaler()\n",
        "X_train = sc.fit_transform(train_features)\n",
        "X_test  = sc.transform(test_features)\n",
        "#y_train = sc.fit_transform(train_labels)\n",
        "#y_test  = sc.transform(test_labels)\n",
        "\n",
        " \n",
        "#model = Sequential()\n",
        "#model.add(Dense(5, input_dim=11, activation='relu'))\n",
        "#model.add(Dense(1, activation='sigmoid'))\n",
        "#model.compile(loss='binary_crossentropy', optimizer='adam', metrics=['accuracy'])\n",
        "#y = np.unique(y_train)\n",
        "tamano_y = len(test_features)\n",
        "n_cols = train_features.shape[1]\n",
        "\n",
        "red  =Sequential()\n",
        "red.add (Dense (256, activation = 'relu', input_shape = (n_cols,))) \n",
        "red.add(layers.Dropout(0.25))\n",
        "red.add (Dense (128, activation = 'relu')) \n",
        "red.add(layers.Dropout(0.25))\n",
        "red.add (Dense (64, activation = 'relu')) \n",
        "#red.add(layers.Flatten())\n",
        "red.add(layers.Dense(tamano_y, activation='linear'))\n",
        "red.add(layers.Dense(tamano_y, activation='softmax'))\n",
        "\n",
        "##red.add(layers.Conv2D(4, (3,3), activation='relu', input_shape=(128,128,3)))\n",
        "#red.add(layers.Conv2D(8, (3,3), activation='relu'))\n",
        "#red.add(layers.AveragePooling2D((2,2)))\n",
        "#red.add(layers.Conv2D(32, (3,3), activation='relu'))\n",
        "#red.add(layers.Dropout(0.25))\n",
        "#red.add(layers.Conv2D(32, (3,3), activation='relu'))\n",
        "#red.add(layers.Dropout(0.25))\n",
        "#red.add(layers.Conv2D(64, (3,3), activation='relu'))\n",
        "#red.add(layers.Dropout(0.25))\n",
        "#red.add(layers.Conv2D(64, (3,3), activation='relu'))\n",
        "#red.add(layers.Dropout(0.25))\n",
        "#red.add(layers.MaxPooling2D((2,2)))\n",
        "#red.add(layers.Flatten())\n",
        "#red.add(layers.Dense(tamano_y, activation='linear'))\n",
        "#red.add(layers.Dense(tamano_y, activation='softmax'))\n",
        "# se compila y ejecuta \n",
        "red.compile(optimizer='adam', loss='binary_crossentropy', metrics=['accuracy'])\n",
        "#resultado_propia = red.fit_generator(NewData.flow(train_features, test_features,batch_size=34), epochs=10,steps_per_epoch=75,validation_steps=8,validation_data=(x_test, processed_y_test))\n",
        "#guardarResultado(resultado_propia,red,'EXP1','Propia V1')\n",
        "\n",
        "resultado_propia =red.fit(train_features, train_labels, batch_size=32, epochs=50)\n",
        "\n",
        "\n"
      ],
      "execution_count": 0,
      "outputs": [
        {
          "output_type": "error",
          "ename": "NameError",
          "evalue": "ignored",
          "traceback": [
            "\u001b[0;31m---------------------------------------------------------------------------\u001b[0m",
            "\u001b[0;31mNameError\u001b[0m                                 Traceback (most recent call last)",
            "\u001b[0;32m<ipython-input-264-923ee740e87e>\u001b[0m in \u001b[0;36m<module>\u001b[0;34m()\u001b[0m\n\u001b[1;32m     16\u001b[0m \u001b[0mn_cols\u001b[0m \u001b[0;34m=\u001b[0m \u001b[0mtrain_features\u001b[0m\u001b[0;34m.\u001b[0m\u001b[0mshape\u001b[0m\u001b[0;34m[\u001b[0m\u001b[0;36m1\u001b[0m\u001b[0;34m]\u001b[0m\u001b[0;34m\u001b[0m\u001b[0;34m\u001b[0m\u001b[0m\n\u001b[1;32m     17\u001b[0m \u001b[0;34m\u001b[0m\u001b[0m\n\u001b[0;32m---> 18\u001b[0;31m \u001b[0mred\u001b[0m  \u001b[0;34m=\u001b[0m\u001b[0mSequential\u001b[0m\u001b[0;34m(\u001b[0m\u001b[0;34m)\u001b[0m\u001b[0;34m\u001b[0m\u001b[0;34m\u001b[0m\u001b[0m\n\u001b[0m\u001b[1;32m     19\u001b[0m \u001b[0mred\u001b[0m\u001b[0;34m.\u001b[0m\u001b[0madd\u001b[0m \u001b[0;34m(\u001b[0m\u001b[0mDense\u001b[0m \u001b[0;34m(\u001b[0m\u001b[0;36m256\u001b[0m\u001b[0;34m,\u001b[0m \u001b[0mactivation\u001b[0m \u001b[0;34m=\u001b[0m \u001b[0;34m'relu'\u001b[0m\u001b[0;34m,\u001b[0m \u001b[0minput_shape\u001b[0m \u001b[0;34m=\u001b[0m \u001b[0;34m(\u001b[0m\u001b[0mn_cols\u001b[0m\u001b[0;34m,\u001b[0m\u001b[0;34m)\u001b[0m\u001b[0;34m)\u001b[0m\u001b[0;34m)\u001b[0m\u001b[0;34m\u001b[0m\u001b[0;34m\u001b[0m\u001b[0m\n\u001b[1;32m     20\u001b[0m \u001b[0mred\u001b[0m\u001b[0;34m.\u001b[0m\u001b[0madd\u001b[0m\u001b[0;34m(\u001b[0m\u001b[0mlayers\u001b[0m\u001b[0;34m.\u001b[0m\u001b[0mDropout\u001b[0m\u001b[0;34m(\u001b[0m\u001b[0;36m0.25\u001b[0m\u001b[0;34m)\u001b[0m\u001b[0;34m)\u001b[0m\u001b[0;34m\u001b[0m\u001b[0;34m\u001b[0m\u001b[0m\n",
            "\u001b[0;31mNameError\u001b[0m: name 'Sequential' is not defined"
          ]
        }
      ]
    },
    {
      "cell_type": "code",
      "metadata": {
        "id": "WUJyCcTTCoo_",
        "colab_type": "code",
        "colab": {}
      },
      "source": [
        "X_dataset.head()"
      ],
      "execution_count": 0,
      "outputs": []
    },
    {
      "cell_type": "code",
      "metadata": {
        "id": "Jc8YuxagBaLv",
        "colab_type": "code",
        "colab": {}
      },
      "source": [
        "from keras.models import Sequential\n",
        "from keras.layers import Dense\n",
        "from keras.callbacks import EarlyStopping\n",
        "from keras.utils import to_categorical\n",
        "# Se genera el modelo \n",
        "modelo = Sequential()\n",
        "\n",
        "#Se define un monitor de parada temprana para que el modelo deje de entrenar cuando ya no mejore\n",
        "early_stopping_monitor = EarlyStopping(patience=3)\n",
        "\n",
        "#Se obtienen las columnas de entrenamiento\n",
        "\n",
        "X_dataset = customer.drop (columns= ['customer_id','definition'])\n",
        "Y_dataset = to_categorical (customer.definition)\n",
        "n_cols = X_dataset.shape[1]\n",
        "\n",
        "#Se agregan las capas, aumentar el número de nodos en cada capa aumenta la capacidad del modelo pero por Collab lo dejare en esa cantidad\n",
        "# La función de activación que utilizaremos es ReLU o activación lineal rectificada. \n",
        "# Aunque se trata de dos piezas lineales, se ha demostrado que funciona bien en redes neuronales.\n",
        "\n",
        "modelo.add (Dense (28, activation = 'sigmoid', input_shape = (n_cols,))) \n",
        "modelo.add( Dropout(0.3))\n",
        "modelo.add (Dense (14, activation = 'sigmoid')) \n",
        "modelo.add( Dropout(0.2))\n",
        "modelo.add (Dense (2, activation = 'sigmoid')) \n",
        "\n",
        "#modelo.add(layers.Flatten())\n",
        "#Una función de activación permite a los modelos tener en cuenta las relaciones no lineales. \n",
        "#Por ejemplo, si predice la diabetes en los pacientes, pasar de los 10 a los 11 años es diferente a los de los 60 a los 61 años.\n",
        "#La activación es 'softmax'. Softmax hace que la sum\n",
        "  # compilar el modelo utilizando la precisión para medir el rendimiento del modelo \n",
        "modelo.compile(optimizer='adam', loss='binary_crossentropy', metrics=['accuracy'])\n",
        "resultado=modelo.fit(X_dataset, Y_dataset, batch_size=2, epochs=100, validation_split=0.2, callbacks=[early_stopping_monitor])\n",
        "#guardarResultado(resultado,'PROPIA2_EXP1')"
      ],
      "execution_count": 0,
      "outputs": []
    },
    {
      "cell_type": "markdown",
      "metadata": {
        "id": "PFxInb1Bh25B",
        "colab_type": "text"
      },
      "source": [
        "#### Matriz de correlación"
      ]
    },
    {
      "cell_type": "code",
      "metadata": {
        "id": "lWoZY1zch45b",
        "colab_type": "code",
        "colab": {}
      },
      "source": [
        "corr =  customer.drop(['customer_id','definition'], axis=1).corr()\n",
        "sns.heatmap(corr, xticklabels=corr.columns.values, yticklabels=corr.columns.values, annot = True, annot_kws={'size':12})\n",
        "heat_map=plt.gcf()\n",
        "heat_map.set_size_inches(20,15)\n",
        "plt.xticks(fontsize=10)\n",
        "plt.yticks(fontsize=10)\n",
        "plt.show()"
      ],
      "execution_count": 0,
      "outputs": []
    },
    {
      "cell_type": "code",
      "metadata": {
        "id": "g5Ix9-Fcodrz",
        "colab_type": "code",
        "colab": {}
      },
      "source": [
        ""
      ],
      "execution_count": 0,
      "outputs": []
    }
  ]
}