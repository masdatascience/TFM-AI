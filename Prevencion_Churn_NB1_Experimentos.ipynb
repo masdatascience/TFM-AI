{
  "nbformat": 4,
  "nbformat_minor": 0,
  "metadata": {
    "colab": {
      "name": "Prevencion_Churn-NB1-Experimentos.ipynb",
      "version": "0.3.2",
      "provenance": [],
      "collapsed_sections": [],
      "machine_shape": "hm"
    },
    "kernelspec": {
      "name": "python3",
      "display_name": "Python 3"
    },
    "language_info": {
      "mimetype": "text/x-python",
      "nbconvert_exporter": "python",
      "name": "python",
      "file_extension": ".py",
      "version": "3.5.4",
      "pygments_lexer": "ipython3",
      "codemirror_mode": {
        "version": 3,
        "name": "ipython"
      }
    },
    "accelerator": "GPU"
  },
  "cells": [
    {
      "cell_type": "markdown",
      "metadata": {
        "id": "k1PvPRCY79m-",
        "colab_type": "text"
      },
      "source": [
        "# Prevención Fuga de Clientes\n",
        "El enfoque de la prevención es disminuir el impacto latente de la posibilidad de que alguno de los clientes deje de comprar productos. \n",
        "Con este fin se realiza la estrategia en 3 sentidos: <br>\n",
        "**1.Motor de Recomendación** <br>\n",
        "**Objetivo:** Aumentar la penetración de los productos a los clientes con el fin de fortalecer la relación comercial y su fidelización. <br>\n",
        "Este enfoque hace parte de la primera parte del notebook, con el objetivo de generar un motor de recomendación con el cual se facilite la venta de nuevos productos por medio de estrategia de datos. <br>\n",
        "*Notebook 1: Motor de recomendación* <br>\n",
        "\n",
        "**2.Nueva segmentación de información con base en los datos de los clientes y sus transacciones** <br>\n",
        "**Objetivo:** Generar nueva información de los clientes, con el objetivo de realizar una mejor gestión de estos y plantear estrategias con base en esta nueva característica de información desarrollada. <br>\n",
        "El segundo enfoque es a través de una nueva segmentación, que permita de igual forma identificar no solo como y que es posible comprar, sino generar nuevas dimensiones de análisis, para que los equipos de business intelligence, comerciales y financieros, tengan más herramientas durante sus estrategias de negocio. <br>\n",
        "*Notebook 2: Segmentación de datos* <br>\n",
        "\n",
        "**3.Predecir la Fuga de clientes** <br>\n",
        "**Objetivo:** Desarrollar un marcaje de fuga de clientes con base en la historia transaccional de cliente, permitiendo esto entrenar un modelo de Machine Learning para predecir la posible baja de clientes. <br>\n",
        "El Tercer enfoque tiene dos frentes de trabajo, el primero permite establecer a través de variables de tendencias de compra y montos, si el cliente se encuentra \"vivo\" o no. Con base en este resultado, se activa el segundo frente, el cual a través de algoritmos de Machine Learning permite predecir la fuga de clientes con base en el marcaje realizado en la primera etapa. <br>\n",
        "*Notebook 3: Predicción Fuga Clientes* <br>\n"
      ]
    },
    {
      "cell_type": "markdown",
      "metadata": {
        "id": "orpOJu6j8zxg",
        "colab_type": "text"
      },
      "source": [
        "### Fuente de datos\n",
        "Los datos usando durante la tesis son de dominio publico y hacen referencia a un comercio de Brasil. <br>\n",
        "Estos datos han sido modelados en un modelo dimensional con el fin de mejorar el performance del análisis del actual tesis y permitir generar modelos de reporting/dashboard con herramientas de BI.<br>\n",
        "Los datos han sido migrados a la plataforma github con el fin que sean de dominio publico. <br>\n"
      ]
    },
    {
      "cell_type": "markdown",
      "metadata": {
        "id": "1LmmcB9U8gN_",
        "colab_type": "text"
      },
      "source": [
        "##1. Motor de Recomendación\n",
        "\n",
        "Durante esta etapa se realizarán dos enfoques de recomendación, el primero con base en productos y el segundo con base en el comportamiento de clientes.\n",
        "\n",
        "\n",
        "### 1.1 Carga de librerias y datos"
      ]
    },
    {
      "cell_type": "code",
      "metadata": {
        "id": "rlke_DiE7xb2",
        "colab_type": "code",
        "outputId": "060f99ac-cc9a-4e35-97d3-077df354787e",
        "trusted": true,
        "scrolled": true,
        "colab": {
          "base_uri": "https://localhost:8080/",
          "height": 425
        }
      },
      "source": [
        "!pip install turicreate\n",
        "# librerias requeridas\n",
        "import turicreate as tc\n",
        "import matplotlib.pyplot as plt\n",
        "import pandas as pd\n",
        "import numpy as np\n",
        "%matplotlib inline\n",
        "from sklearn.metrics.pairwise import cosine_similarity\n",
        "from sklearn.cluster import KMeans\n",
        "from sklearn.metrics import silhouette_score\n",
        "import time\n",
        "from sklearn.model_selection import train_test_split\n",
        "from google.colab import drive\n",
        "drive.mount('drive')\n"
      ],
      "execution_count": 0,
      "outputs": [
        {
          "output_type": "stream",
          "text": [
            "Requirement already satisfied: turicreate in /usr/local/lib/python3.6/dist-packages (5.7.1)\n",
            "Requirement already satisfied: prettytable==0.7.2 in /usr/local/lib/python3.6/dist-packages (from turicreate) (0.7.2)\n",
            "Requirement already satisfied: resampy==0.2.1 in /usr/local/lib/python3.6/dist-packages (from turicreate) (0.2.1)\n",
            "Requirement already satisfied: scipy>=1.1.0 in /usr/local/lib/python3.6/dist-packages (from turicreate) (1.3.1)\n",
            "Requirement already satisfied: decorator>=4.0.9 in /usr/local/lib/python3.6/dist-packages (from turicreate) (4.4.0)\n",
            "Requirement already satisfied: coremltools==3.0b3 in /usr/local/lib/python3.6/dist-packages (from turicreate) (3.0b3)\n",
            "Requirement already satisfied: mxnet<1.2.0,>=1.1.0 in /usr/local/lib/python3.6/dist-packages (from turicreate) (1.1.0.post0)\n",
            "Requirement already satisfied: pandas>=0.23.2 in /usr/local/lib/python3.6/dist-packages (from turicreate) (0.24.2)\n",
            "Requirement already satisfied: numpy==1.16.4 in /usr/local/lib/python3.6/dist-packages (from turicreate) (1.16.4)\n",
            "Requirement already satisfied: pillow>=5.2.0 in /usr/local/lib/python3.6/dist-packages (from turicreate) (6.1.0)\n",
            "Requirement already satisfied: requests>=2.9.1 in /usr/local/lib/python3.6/dist-packages (from turicreate) (2.21.0)\n",
            "Requirement already satisfied: six>=1.10.0 in /usr/local/lib/python3.6/dist-packages (from turicreate) (1.12.0)\n",
            "Requirement already satisfied: numba>=0.32 in /usr/local/lib/python3.6/dist-packages (from resampy==0.2.1->turicreate) (0.40.1)\n",
            "Requirement already satisfied: protobuf>=3.1.0 in /usr/local/lib/python3.6/dist-packages (from coremltools==3.0b3->turicreate) (3.7.1)\n",
            "Requirement already satisfied: graphviz<0.9.0,>=0.8.1 in /usr/local/lib/python3.6/dist-packages (from mxnet<1.2.0,>=1.1.0->turicreate) (0.8.4)\n",
            "Requirement already satisfied: pytz>=2011k in /usr/local/lib/python3.6/dist-packages (from pandas>=0.23.2->turicreate) (2018.9)\n",
            "Requirement already satisfied: python-dateutil>=2.5.0 in /usr/local/lib/python3.6/dist-packages (from pandas>=0.23.2->turicreate) (2.5.3)\n",
            "Requirement already satisfied: certifi>=2017.4.17 in /usr/local/lib/python3.6/dist-packages (from requests>=2.9.1->turicreate) (2019.6.16)\n",
            "Requirement already satisfied: chardet<3.1.0,>=3.0.2 in /usr/local/lib/python3.6/dist-packages (from requests>=2.9.1->turicreate) (3.0.4)\n",
            "Requirement already satisfied: idna<2.9,>=2.5 in /usr/local/lib/python3.6/dist-packages (from requests>=2.9.1->turicreate) (2.8)\n",
            "Requirement already satisfied: urllib3<1.25,>=1.21.1 in /usr/local/lib/python3.6/dist-packages (from requests>=2.9.1->turicreate) (1.24.3)\n",
            "Requirement already satisfied: llvmlite>=0.25.0dev0 in /usr/local/lib/python3.6/dist-packages (from numba>=0.32->resampy==0.2.1->turicreate) (0.29.0)\n",
            "Requirement already satisfied: setuptools in /usr/local/lib/python3.6/dist-packages (from protobuf>=3.1.0->coremltools==3.0b3->turicreate) (41.2.0)\n",
            "Drive already mounted at drive; to attempt to forcibly remount, call drive.mount(\"drive\", force_remount=True).\n"
          ],
          "name": "stdout"
        }
      ]
    },
    {
      "cell_type": "code",
      "metadata": {
        "id": "wcjQe--m9v7_",
        "colab_type": "code",
        "outputId": "d23ca8fc-822a-4bb0-fba7-db125922678b",
        "colab": {
          "base_uri": "https://localhost:8080/",
          "height": 34
        }
      },
      "source": [
        "## Localización y carga de los datos\n",
        "url = 'https://github.com/masdatascience/TFM-AI/blob/master/data_model_completo.xlsx?raw=true'\n",
        "datos_modelo = pd.ExcelFile(url)\n",
        "datos_facturacion = pd.read_excel(datos_modelo, sheet_name='fac_txn')\n",
        "datos_producto = pd.read_excel(datos_modelo, sheet_name='product')\n",
        "datos_clientes = pd.read_excel(datos_modelo, sheet_name='customer')\n",
        "\n",
        "# Se elimian los datos nulos de las dimensiones importantes del analisis que son productos y clientes\n",
        "datos_facturacion = datos_facturacion.dropna(subset=['customer_id'])\n",
        "datos_facturacion = datos_facturacion.dropna(subset=['product_id'])\n",
        "# Se elimina posibles chargeback que se presenten\n",
        "datos_facturacion = datos_facturacion.loc[datos_facturacion['total_value'] > 0]\n",
        "\n",
        "print(\"Facturación:\"+ str(datos_facturacion.shape) + \" Clientes:\"+str(datos_clientes.shape)+\" Productos:\"+str(datos_producto.shape))"
      ],
      "execution_count": 0,
      "outputs": [
        {
          "output_type": "stream",
          "text": [
            "Facturación:(112650, 21) Clientes:(96352, 4) Productos:(32951, 10)\n"
          ],
          "name": "stdout"
        }
      ]
    },
    {
      "cell_type": "markdown",
      "metadata": {
        "id": "gknP4zvnDMY2",
        "colab_type": "text"
      },
      "source": [
        "### 1.2 Preparación de los datos \n",
        "En esta sección se estarán preparando tres enfoques de matrices con el fin de permitir desarrollar los motores de recomendación. La primera es la relación entre el cliente y los productos, la siguiente es una matriz normalizada y la última integra valores dummies para la comparación . "
      ]
    },
    {
      "cell_type": "markdown",
      "metadata": {
        "id": "nGPFk-v0D00A",
        "colab_type": "text"
      },
      "source": [
        "#### 1.2.1 Relación Cliente - Producto\n",
        "\n"
      ]
    },
    {
      "cell_type": "code",
      "metadata": {
        "id": "F3iR_xdeL3V9",
        "colab_type": "code",
        "colab": {}
      },
      "source": [
        "### Eliminar\n",
        "#data= datos_facturacion.copy()\n",
        "datos_facturacion = data.head(20000)"
      ],
      "execution_count": 0,
      "outputs": []
    },
    {
      "cell_type": "code",
      "metadata": {
        "id": "n1JZCmBPy7Wk",
        "colab_type": "code",
        "colab": {}
      },
      "source": [
        "#data= data.drop_duplicates()\n",
        "#data.groupby(by='order_status').count()\n",
        " #data.groupby(['customer_id','product_id']).agg({'total_value': sum,'product_id': count,'num_txn': sum,}).fillna(0)\n",
        "#data.groupby('customer_id')['product_id'].count()\n",
        "datos_facturacion=datos_facturacion.groupby([\"customer_id\", \"product_id\"]).size().reset_index(name=\"cantidad\")"
      ],
      "execution_count": 0,
      "outputs": []
    },
    {
      "cell_type": "code",
      "metadata": {
        "id": "zosJH8OuD6hA",
        "colab_type": "code",
        "outputId": "910591e3-1868-4497-b5e3-95136b9b54a8",
        "colab": {
          "base_uri": "https://localhost:8080/",
          "height": 34
        }
      },
      "source": [
        "# Obtengo la Matriz Relación Cliente - Producto , y la normalizo\n",
        "matrix_usuario_producto =pd.crosstab(datos_facturacion['customer_id'],datos_facturacion['product_id'],values=datos_facturacion['cantidad'], aggfunc='sum', margins=True, margins_name=\"cantidad\")\n",
        "matrix_usuario_producto_norm = (matrix_usuario_producto-matrix_usuario_producto.min())/(matrix_usuario_producto.max()-matrix_usuario_producto.min())\n",
        "d = matrix_usuario_producto_norm.reset_index() \n",
        "d.index.names = ['total_frecuencia'] \n",
        "data_norm = pd.melt(d, id_vars=['customer_id'], value_name='total_frecuencia').dropna()\n",
        "print(\"Matriz normalizada:\" +str(data_norm.shape))"
      ],
      "execution_count": 0,
      "outputs": [
        {
          "output_type": "stream",
          "text": [
            "Matriz normalizada:(30517, 3)\n"
          ],
          "name": "stdout"
        }
      ]
    },
    {
      "cell_type": "markdown",
      "metadata": {
        "id": "YURTaD1qFEU7",
        "colab_type": "text"
      },
      "source": [
        "#### 1.2.2 Relación Cliente Producto - Contraste"
      ]
    },
    {
      "cell_type": "code",
      "metadata": {
        "id": "_NC9OA2RHq1_",
        "colab_type": "code",
        "outputId": "aa9222e2-9a7c-4068-aec1-12f773cefd98",
        "colab": {
          "base_uri": "https://localhost:8080/",
          "height": 34
        }
      },
      "source": [
        "datos_dummy = datos_facturacion.copy()\n",
        "datos_dummy['total_dummy'] = 1\n",
        "print(\"Matriz Dummy:\"+ str(datos_dummy.shape))"
      ],
      "execution_count": 0,
      "outputs": [
        {
          "output_type": "stream",
          "text": [
            "Matriz Dummy:(18176, 4)\n"
          ],
          "name": "stdout"
        }
      ]
    },
    {
      "cell_type": "markdown",
      "metadata": {
        "id": "fvqgw6XDFYJ6",
        "colab_type": "text"
      },
      "source": [
        "#### 1.2.3 Se generan datos de entrenamiento y pruebas"
      ]
    },
    {
      "cell_type": "code",
      "metadata": {
        "id": "P9YYO2PWFcUk",
        "colab_type": "code",
        "colab": {}
      },
      "source": [
        "train_data, test_data  = train_test_split(data_norm, test_size=0.3 ,random_state=1)\n",
        "train_data_dummy, test_data_dummy = train_test_split(datos_dummy, test_size=0.3 ,random_state=1)"
      ],
      "execution_count": 0,
      "outputs": []
    },
    {
      "cell_type": "markdown",
      "metadata": {
        "id": "_Fzb01hyFs1-",
        "colab_type": "text"
      },
      "source": [
        "#### 1.2.4  Se define función para ejecutar los tipos de motores de recomendación"
      ]
    },
    {
      "cell_type": "code",
      "metadata": {
        "id": "kh18gKpfF0X4",
        "colab_type": "code",
        "colab": {}
      },
      "source": [
        "# Se define una función que retorne un modelo resultado segun el enfoque que se requiere:\n",
        "# 1. Popularity : Es el item que más se a consumido en todos los clientes\n",
        "# 2. cosine :\n",
        "# 3. Pearson: \n",
        "def modelo_requerido(modelo,datos ,campo ):\n",
        "\n",
        "    train_data=tc.SFrame(datos)\n",
        "    print(\"Modelo solicitado:\"+ str(modelo))\n",
        "    if modelo == 'producto':\n",
        "        return  tc.popularity_recommender.create(train_data,user_id='customer_id', item_id='product_id', target=campo)\n",
        "    elif modelo == 'distancia_coseno':\n",
        "        return tc.item_similarity_recommender.create(train_data,user_id='customer_id', item_id='product_id', target=campo,similarity_type='cosine')\n",
        "    elif modelo == 'pearson':\n",
        "        return tc.item_similarity_recommender.create(train_data,user_id='customer_id', item_id='product_id', target=campo,similarity_type='pearson')\n",
        "    else : \n",
        "        print(\"ERROR: Modelo solicitado no existe\")\n",
        "\n",
        "#Obtiene las recomendaciones de forma visual para los clientes\n",
        "def productos_recomendado(modelo, usuarios, cantidad_recomendaciones):\n",
        "     modelo.recommend(users=list(usuarios), k=cantidad_recomendaciones).print_rows(cantidad_recomendaciones)\n",
        "\n",
        "#Evalua los modelos generados \n",
        "def evaluacion_modelos(modelo, test):\n",
        "  \n",
        "  if modelo == 'normalizado':\n",
        "        modelos_generados= [fac_producto, fac_coseno, fac_pearson]\n",
        "        nombres_modelos = ['Modelo basado en contenido', 'Modelo Colaborativo - Distancia Coseno', 'Modelo Colaborativo - Pearson']\n",
        "        test_data= tc.SFrame(test) \n",
        "        eval_counts = tc.recommender.util.compare_models(test_data, modelos_generados, model_names=nombres_modelos)\n",
        "  elif modelo == 'dummy':\n",
        "        modelos_generados= [dum_producto, dum_coseno, dum_pearson]\n",
        "        nombres_modelos = ['Modelo Dummy basado en contenido', 'Modelo Dummy Colaborativo - Distancia Coseno', 'Modelo Dummy Colaborativo - Pearson']\n",
        "        test_data= tc.SFrame(test) \n",
        "        eval_counts = tc.recommender.util.compare_models(test_data, modelos_generados, model_names=nombres_modelos)\n",
        "  else : \n",
        "        print(\"ERROR: Modelo solicitado no existe\")\n",
        "      \n",
        "#Exporta cinco  recomendaciones por cliente en google Drive      \n",
        "def exportarRecomendaciones(modelo, clientes):\n",
        "\n",
        "  lista_clientes =  list(clientes)\n",
        "  recomendaciones = modelo.recommend(users=lista_clientes, k=5)\n",
        "  resultado = recomendaciones.to_dataframe()\n",
        "  resultado['id_producto_recomendado'] = resultado.groupby(['customer_id'])['product_id'].transform(lambda x: ';'.join(x.astype(str)))\n",
        "  exportar = resultado[['customer_id', 'id_producto_recomendado']].drop_duplicates().sort_values('customer_id').set_index('customer_id')\n",
        "  exportar.to_csv('recomendaciones.csv')\n",
        "  !cp recomendaciones.csv drive/My\\ Drive/TFM-AI/\n",
        "  print(\"Se han exportado las recomendaciones en Google drive\")\n"
      ],
      "execution_count": 0,
      "outputs": []
    },
    {
      "cell_type": "markdown",
      "metadata": {
        "id": "52rVRxv5YF7J",
        "colab_type": "text"
      },
      "source": [
        "### 1.3 Modelo de recomendación basado en Contenido\n",
        "Este modelo genera recomendaciones con base en la relación de los clientes y sus productos"
      ]
    },
    {
      "cell_type": "code",
      "metadata": {
        "id": "GIJ-1VLWNuaa",
        "colab_type": "code",
        "outputId": "0ea2b0dd-8193-475b-96ac-b00ac77f0b0c",
        "colab": {
          "base_uri": "https://localhost:8080/",
          "height": 221
        }
      },
      "source": [
        "# Se generan las recomendaciones por dataset\n",
        "fac_producto = modelo_requerido('producto',train_data,'total_frecuencia' )\n",
        "dum_producto = modelo_requerido('producto' ,train_data_dummy, 'total_dummy')"
      ],
      "execution_count": 0,
      "outputs": [
        {
          "output_type": "stream",
          "text": [
            "Modelo solicitado:producto\n"
          ],
          "name": "stdout"
        },
        {
          "output_type": "display_data",
          "data": {
            "text/html": [
              "<pre>Preparing data set.</pre>"
            ],
            "text/plain": [
              "Preparing data set."
            ]
          },
          "metadata": {
            "tags": []
          }
        },
        {
          "output_type": "display_data",
          "data": {
            "text/html": [
              "<pre>    Data has 21361 observations with 14416 users and 2611 items.</pre>"
            ],
            "text/plain": [
              "    Data has 21361 observations with 14416 users and 2611 items."
            ]
          },
          "metadata": {
            "tags": []
          }
        },
        {
          "output_type": "display_data",
          "data": {
            "text/html": [
              "<pre>    Data prepared in: 0.046599s</pre>"
            ],
            "text/plain": [
              "    Data prepared in: 0.046599s"
            ]
          },
          "metadata": {
            "tags": []
          }
        },
        {
          "output_type": "display_data",
          "data": {
            "text/html": [
              "<pre>21361 observations to process; with 2611 unique items.</pre>"
            ],
            "text/plain": [
              "21361 observations to process; with 2611 unique items."
            ]
          },
          "metadata": {
            "tags": []
          }
        },
        {
          "output_type": "stream",
          "text": [
            "Modelo solicitado:producto\n"
          ],
          "name": "stdout"
        },
        {
          "output_type": "display_data",
          "data": {
            "text/html": [
              "<pre>Warning: Ignoring columns cantidad;</pre>"
            ],
            "text/plain": [
              "Warning: Ignoring columns cantidad;"
            ]
          },
          "metadata": {
            "tags": []
          }
        },
        {
          "output_type": "display_data",
          "data": {
            "text/html": [
              "<pre>    To use these columns in scoring predictions, use a model that allows the use of additional features.</pre>"
            ],
            "text/plain": [
              "    To use these columns in scoring predictions, use a model that allows the use of additional features."
            ]
          },
          "metadata": {
            "tags": []
          }
        },
        {
          "output_type": "display_data",
          "data": {
            "text/html": [
              "<pre>Preparing data set.</pre>"
            ],
            "text/plain": [
              "Preparing data set."
            ]
          },
          "metadata": {
            "tags": []
          }
        },
        {
          "output_type": "display_data",
          "data": {
            "text/html": [
              "<pre>    Data has 12723 observations with 12343 users and 7951 items.</pre>"
            ],
            "text/plain": [
              "    Data has 12723 observations with 12343 users and 7951 items."
            ]
          },
          "metadata": {
            "tags": []
          }
        },
        {
          "output_type": "display_data",
          "data": {
            "text/html": [
              "<pre>    Data prepared in: 0.027298s</pre>"
            ],
            "text/plain": [
              "    Data prepared in: 0.027298s"
            ]
          },
          "metadata": {
            "tags": []
          }
        },
        {
          "output_type": "display_data",
          "data": {
            "text/html": [
              "<pre>12723 observations to process; with 7951 unique items.</pre>"
            ],
            "text/plain": [
              "12723 observations to process; with 7951 unique items."
            ]
          },
          "metadata": {
            "tags": []
          }
        }
      ]
    },
    {
      "cell_type": "code",
      "metadata": {
        "id": "lCzifxXtmpkR",
        "colab_type": "code",
        "outputId": "9eaa9f45-dd0c-45e2-a2c5-b9d32d45e6f2",
        "colab": {
          "base_uri": "https://localhost:8080/",
          "height": 204
        }
      },
      "source": [
        "# para el efecto de la prueba se van a utilizar a tres clientes \n",
        "datos_facturacion.head(5)\n",
        "# cliente 1: 871766c5855e863f6eccc05f988b23cb, cliente2: eb28e67c4c0b83846050ddfb8a35d051, cliente3:3818d81c6709e39d06b2738a8d3a2474"
      ],
      "execution_count": 0,
      "outputs": [
        {
          "output_type": "execute_result",
          "data": {
            "text/html": [
              "<div>\n",
              "<style scoped>\n",
              "    .dataframe tbody tr th:only-of-type {\n",
              "        vertical-align: middle;\n",
              "    }\n",
              "\n",
              "    .dataframe tbody tr th {\n",
              "        vertical-align: top;\n",
              "    }\n",
              "\n",
              "    .dataframe thead th {\n",
              "        text-align: right;\n",
              "    }\n",
              "</style>\n",
              "<table border=\"1\" class=\"dataframe\">\n",
              "  <thead>\n",
              "    <tr style=\"text-align: right;\">\n",
              "      <th></th>\n",
              "      <th>customer_id</th>\n",
              "      <th>product_id</th>\n",
              "      <th>cantidad</th>\n",
              "    </tr>\n",
              "  </thead>\n",
              "  <tbody>\n",
              "    <tr>\n",
              "      <th>0</th>\n",
              "      <td>0005ef4cd20d2893f0d9fbd94d3c0d97</td>\n",
              "      <td>4fb3e6ce442ce9c621ea9509e47ac951</td>\n",
              "      <td>1</td>\n",
              "    </tr>\n",
              "    <tr>\n",
              "      <th>1</th>\n",
              "      <td>000ec5bff359e1c0ad76a81a45cb598f</td>\n",
              "      <td>e9aa3fd3f316b44c85f671552a04fa4a</td>\n",
              "      <td>1</td>\n",
              "    </tr>\n",
              "    <tr>\n",
              "      <th>2</th>\n",
              "      <td>0010fb34b966d44409382af9e8fd5b77</td>\n",
              "      <td>9d32095f76b97762307e86cfc18dd7a0</td>\n",
              "      <td>1</td>\n",
              "    </tr>\n",
              "    <tr>\n",
              "      <th>3</th>\n",
              "      <td>00196c4c9a3af7dd2ad10eade69c926f</td>\n",
              "      <td>18b0e642cbae7251e60a64aa07dd9eb9</td>\n",
              "      <td>1</td>\n",
              "    </tr>\n",
              "    <tr>\n",
              "      <th>4</th>\n",
              "      <td>0019e8c501c85848ac0966d45226fa1d</td>\n",
              "      <td>1dfb36d969d347f56f43590ec42c7b8c</td>\n",
              "      <td>1</td>\n",
              "    </tr>\n",
              "  </tbody>\n",
              "</table>\n",
              "</div>"
            ],
            "text/plain": [
              "                        customer_id                        product_id  cantidad\n",
              "0  0005ef4cd20d2893f0d9fbd94d3c0d97  4fb3e6ce442ce9c621ea9509e47ac951         1\n",
              "1  000ec5bff359e1c0ad76a81a45cb598f  e9aa3fd3f316b44c85f671552a04fa4a         1\n",
              "2  0010fb34b966d44409382af9e8fd5b77  9d32095f76b97762307e86cfc18dd7a0         1\n",
              "3  00196c4c9a3af7dd2ad10eade69c926f  18b0e642cbae7251e60a64aa07dd9eb9         1\n",
              "4  0019e8c501c85848ac0966d45226fa1d  1dfb36d969d347f56f43590ec42c7b8c         1"
            ]
          },
          "metadata": {
            "tags": []
          },
          "execution_count": 157
        }
      ]
    },
    {
      "cell_type": "code",
      "metadata": {
        "id": "IpjX_Fr3Sl2Y",
        "colab_type": "code",
        "outputId": "7e2d7238-0550-4670-e45d-bb60d2d1b830",
        "colab": {
          "base_uri": "https://localhost:8080/",
          "height": 578
        }
      },
      "source": [
        "# Se generan cinco  recomendaciones para un Cliente  con el dataset normalizado\n",
        "productos_recomendado(fac_producto,'0005ef4cd20d2893f0d9fbd94d3c0d97',5)\n",
        "productos_recomendado(fac_producto,'000ec5bff359e1c0ad76a81a45cb598f',5)\n",
        "productos_recomendado(fac_producto,'0010fb34b966d44409382af9e8fd5b77',5)\n"
      ],
      "execution_count": 0,
      "outputs": [
        {
          "output_type": "stream",
          "text": [
            "+-------------+-------------------------------+-------+------+\n",
            "| customer_id |           product_id          | score | rank |\n",
            "+-------------+-------------------------------+-------+------+\n",
            "|      0      | 985c412b0ac92ed9d8a76bbeab... |  1.0  |  1   |\n",
            "|      0      | 2bc88b31190908684ebece09e5... |  1.0  |  2   |\n",
            "|      0      | a8b89693eabf7221621a71285e... |  1.0  |  3   |\n",
            "|      0      | 4563095e06df1fa67de2eade86... |  1.0  |  4   |\n",
            "|      0      | 6bd90496e4292446cceb64b93d... |  1.0  |  5   |\n",
            "+-------------+-------------------------------+-------+------+\n",
            "[160 rows x 4 columns]\n",
            "\n",
            "+-------------+-------------------------------+-------+------+\n",
            "| customer_id |           product_id          | score | rank |\n",
            "+-------------+-------------------------------+-------+------+\n",
            "|      0      | 985c412b0ac92ed9d8a76bbeab... |  1.0  |  1   |\n",
            "|      0      | 2bc88b31190908684ebece09e5... |  1.0  |  2   |\n",
            "|      0      | a8b89693eabf7221621a71285e... |  1.0  |  3   |\n",
            "|      0      | 4563095e06df1fa67de2eade86... |  1.0  |  4   |\n",
            "|      0      | 6bd90496e4292446cceb64b93d... |  1.0  |  5   |\n",
            "+-------------+-------------------------------+-------+------+\n",
            "[160 rows x 4 columns]\n",
            "\n",
            "+-------------+-------------------------------+-------+------+\n",
            "| customer_id |           product_id          | score | rank |\n",
            "+-------------+-------------------------------+-------+------+\n",
            "|      0      | 985c412b0ac92ed9d8a76bbeab... |  1.0  |  1   |\n",
            "|      0      | 2bc88b31190908684ebece09e5... |  1.0  |  2   |\n",
            "|      0      | a8b89693eabf7221621a71285e... |  1.0  |  3   |\n",
            "|      0      | 4563095e06df1fa67de2eade86... |  1.0  |  4   |\n",
            "|      0      | 6bd90496e4292446cceb64b93d... |  1.0  |  5   |\n",
            "+-------------+-------------------------------+-------+------+\n",
            "[160 rows x 4 columns]\n",
            "\n"
          ],
          "name": "stdout"
        }
      ]
    },
    {
      "cell_type": "code",
      "metadata": {
        "id": "W9JUWXLum5wG",
        "colab_type": "code",
        "outputId": "8fab5ff4-9b7f-4298-e34d-d182d39da884",
        "colab": {
          "base_uri": "https://localhost:8080/",
          "height": 578
        }
      },
      "source": [
        "# Se generan cinco  recomendaciones para un Cliente  con el dataset dummy\n",
        "productos_recomendado(dum_producto,'871766c5855e863f6eccc05f988b23cb',5)\n",
        "productos_recomendado(dum_producto,'eb28e67c4c0b83846050ddfb8a35d051',5)\n",
        "productos_recomendado(dum_producto,'3818d81c6709e39d06b2738a8d3a2474',5)"
      ],
      "execution_count": 0,
      "outputs": [
        {
          "output_type": "stream",
          "text": [
            "+-------------+-------------------------------+-------+------+\n",
            "| customer_id |           product_id          | score | rank |\n",
            "+-------------+-------------------------------+-------+------+\n",
            "|      8      | cfd6c873a8d86ecd3a2cc3b96f... |  1.0  |  1   |\n",
            "|      8      | 6cc859e89d080218ff4416539f... |  1.0  |  2   |\n",
            "|      8      | 1522589c64efd46731d3522568... |  1.0  |  3   |\n",
            "|      8      | f35927953ed82e19d06ad3aac2... |  1.0  |  4   |\n",
            "|      8      | ff2c1ec09b1bb340e84f0d6b21... |  1.0  |  5   |\n",
            "+-------------+-------------------------------+-------+------+\n",
            "[160 rows x 4 columns]\n",
            "\n",
            "+-------------+-------------------------------+-------+------+\n",
            "| customer_id |           product_id          | score | rank |\n",
            "+-------------+-------------------------------+-------+------+\n",
            "|      e      | cfd6c873a8d86ecd3a2cc3b96f... |  1.0  |  1   |\n",
            "|      e      | 6cc859e89d080218ff4416539f... |  1.0  |  2   |\n",
            "|      e      | 1522589c64efd46731d3522568... |  1.0  |  3   |\n",
            "|      e      | f35927953ed82e19d06ad3aac2... |  1.0  |  4   |\n",
            "|      e      | ff2c1ec09b1bb340e84f0d6b21... |  1.0  |  5   |\n",
            "+-------------+-------------------------------+-------+------+\n",
            "[160 rows x 4 columns]\n",
            "\n",
            "+-------------+-------------------------------+-------+------+\n",
            "| customer_id |           product_id          | score | rank |\n",
            "+-------------+-------------------------------+-------+------+\n",
            "|      3      | cfd6c873a8d86ecd3a2cc3b96f... |  1.0  |  1   |\n",
            "|      3      | 6cc859e89d080218ff4416539f... |  1.0  |  2   |\n",
            "|      3      | 1522589c64efd46731d3522568... |  1.0  |  3   |\n",
            "|      3      | f35927953ed82e19d06ad3aac2... |  1.0  |  4   |\n",
            "|      3      | ff2c1ec09b1bb340e84f0d6b21... |  1.0  |  5   |\n",
            "+-------------+-------------------------------+-------+------+\n",
            "[160 rows x 4 columns]\n",
            "\n"
          ],
          "name": "stdout"
        }
      ]
    },
    {
      "cell_type": "markdown",
      "metadata": {
        "id": "D7p0zJxaZKD4",
        "colab_type": "text"
      },
      "source": [
        "### 1.4 Motor de recomendación Colaborativo\n",
        "Este modelo genera recomendaciones con base en el comportamiento de compra que tienen los usuarios. <br>\n",
        "Con este fin se realizan pruebas con dos enfoques, la distancia coseno y pearson para evaluar cual es el que da mejores resultados"
      ]
    },
    {
      "cell_type": "code",
      "metadata": {
        "id": "2ZjeevWDZpNO",
        "colab_type": "code",
        "outputId": "7d6bde0d-2474-4aa4-f8af-c8392c91f4c2",
        "colab": {
          "base_uri": "https://localhost:8080/",
          "height": 833
        }
      },
      "source": [
        "# Se generan las recomendaciones por dataset\n",
        "fac_coseno = modelo_requerido('distancia_coseno',train_data,'total_frecuencia' )\n",
        "dum_coseno = modelo_requerido('distancia_coseno' ,train_data_dummy, 'total_dummy')"
      ],
      "execution_count": 0,
      "outputs": [
        {
          "output_type": "stream",
          "text": [
            "Modelo solicitado:distancia_coseno\n"
          ],
          "name": "stdout"
        },
        {
          "output_type": "display_data",
          "data": {
            "text/html": [
              "<pre>Preparing data set.</pre>"
            ],
            "text/plain": [
              "Preparing data set."
            ]
          },
          "metadata": {
            "tags": []
          }
        },
        {
          "output_type": "display_data",
          "data": {
            "text/html": [
              "<pre>    Data has 21361 observations with 14416 users and 2611 items.</pre>"
            ],
            "text/plain": [
              "    Data has 21361 observations with 14416 users and 2611 items."
            ]
          },
          "metadata": {
            "tags": []
          }
        },
        {
          "output_type": "display_data",
          "data": {
            "text/html": [
              "<pre>    Data prepared in: 0.041619s</pre>"
            ],
            "text/plain": [
              "    Data prepared in: 0.041619s"
            ]
          },
          "metadata": {
            "tags": []
          }
        },
        {
          "output_type": "display_data",
          "data": {
            "text/html": [
              "<pre>Training model from provided data.</pre>"
            ],
            "text/plain": [
              "Training model from provided data."
            ]
          },
          "metadata": {
            "tags": []
          }
        },
        {
          "output_type": "display_data",
          "data": {
            "text/html": [
              "<pre>Gathering per-item and per-user statistics.</pre>"
            ],
            "text/plain": [
              "Gathering per-item and per-user statistics."
            ]
          },
          "metadata": {
            "tags": []
          }
        },
        {
          "output_type": "display_data",
          "data": {
            "text/html": [
              "<pre>+--------------------------------+------------+</pre>"
            ],
            "text/plain": [
              "+--------------------------------+------------+"
            ]
          },
          "metadata": {
            "tags": []
          }
        },
        {
          "output_type": "display_data",
          "data": {
            "text/html": [
              "<pre>| Elapsed Time (Item Statistics) | % Complete |</pre>"
            ],
            "text/plain": [
              "| Elapsed Time (Item Statistics) | % Complete |"
            ]
          },
          "metadata": {
            "tags": []
          }
        },
        {
          "output_type": "display_data",
          "data": {
            "text/html": [
              "<pre>+--------------------------------+------------+</pre>"
            ],
            "text/plain": [
              "+--------------------------------+------------+"
            ]
          },
          "metadata": {
            "tags": []
          }
        },
        {
          "output_type": "display_data",
          "data": {
            "text/html": [
              "<pre>| 321us                          | 6.75       |</pre>"
            ],
            "text/plain": [
              "| 321us                          | 6.75       |"
            ]
          },
          "metadata": {
            "tags": []
          }
        },
        {
          "output_type": "display_data",
          "data": {
            "text/html": [
              "<pre>| 2.564ms                        | 100        |</pre>"
            ],
            "text/plain": [
              "| 2.564ms                        | 100        |"
            ]
          },
          "metadata": {
            "tags": []
          }
        },
        {
          "output_type": "display_data",
          "data": {
            "text/html": [
              "<pre>+--------------------------------+------------+</pre>"
            ],
            "text/plain": [
              "+--------------------------------+------------+"
            ]
          },
          "metadata": {
            "tags": []
          }
        },
        {
          "output_type": "display_data",
          "data": {
            "text/html": [
              "<pre>Setting up lookup tables.</pre>"
            ],
            "text/plain": [
              "Setting up lookup tables."
            ]
          },
          "metadata": {
            "tags": []
          }
        },
        {
          "output_type": "display_data",
          "data": {
            "text/html": [
              "<pre>Processing data in one pass using dense lookup tables.</pre>"
            ],
            "text/plain": [
              "Processing data in one pass using dense lookup tables."
            ]
          },
          "metadata": {
            "tags": []
          }
        },
        {
          "output_type": "display_data",
          "data": {
            "text/html": [
              "<pre>+-------------------------------------+------------------+-----------------+</pre>"
            ],
            "text/plain": [
              "+-------------------------------------+------------------+-----------------+"
            ]
          },
          "metadata": {
            "tags": []
          }
        },
        {
          "output_type": "display_data",
          "data": {
            "text/html": [
              "<pre>| Elapsed Time (Constructing Lookups) | Total % Complete | Items Processed |</pre>"
            ],
            "text/plain": [
              "| Elapsed Time (Constructing Lookups) | Total % Complete | Items Processed |"
            ]
          },
          "metadata": {
            "tags": []
          }
        },
        {
          "output_type": "display_data",
          "data": {
            "text/html": [
              "<pre>+-------------------------------------+------------------+-----------------+</pre>"
            ],
            "text/plain": [
              "+-------------------------------------+------------------+-----------------+"
            ]
          },
          "metadata": {
            "tags": []
          }
        },
        {
          "output_type": "display_data",
          "data": {
            "text/html": [
              "<pre>| 12.598ms                            | 0                | 0               |</pre>"
            ],
            "text/plain": [
              "| 12.598ms                            | 0                | 0               |"
            ]
          },
          "metadata": {
            "tags": []
          }
        },
        {
          "output_type": "display_data",
          "data": {
            "text/html": [
              "<pre>| 83.444ms                            | 100              | 2611            |</pre>"
            ],
            "text/plain": [
              "| 83.444ms                            | 100              | 2611            |"
            ]
          },
          "metadata": {
            "tags": []
          }
        },
        {
          "output_type": "display_data",
          "data": {
            "text/html": [
              "<pre>+-------------------------------------+------------------+-----------------+</pre>"
            ],
            "text/plain": [
              "+-------------------------------------+------------------+-----------------+"
            ]
          },
          "metadata": {
            "tags": []
          }
        },
        {
          "output_type": "display_data",
          "data": {
            "text/html": [
              "<pre>Finalizing lookup tables.</pre>"
            ],
            "text/plain": [
              "Finalizing lookup tables."
            ]
          },
          "metadata": {
            "tags": []
          }
        },
        {
          "output_type": "display_data",
          "data": {
            "text/html": [
              "<pre>Generating candidate set for working with new users.</pre>"
            ],
            "text/plain": [
              "Generating candidate set for working with new users."
            ]
          },
          "metadata": {
            "tags": []
          }
        },
        {
          "output_type": "display_data",
          "data": {
            "text/html": [
              "<pre>Finished training in 0.087154s</pre>"
            ],
            "text/plain": [
              "Finished training in 0.087154s"
            ]
          },
          "metadata": {
            "tags": []
          }
        },
        {
          "output_type": "stream",
          "text": [
            "Modelo solicitado:distancia_coseno\n"
          ],
          "name": "stdout"
        },
        {
          "output_type": "display_data",
          "data": {
            "text/html": [
              "<pre>Warning: Ignoring columns cantidad;</pre>"
            ],
            "text/plain": [
              "Warning: Ignoring columns cantidad;"
            ]
          },
          "metadata": {
            "tags": []
          }
        },
        {
          "output_type": "display_data",
          "data": {
            "text/html": [
              "<pre>    To use these columns in scoring predictions, use a model that allows the use of additional features.</pre>"
            ],
            "text/plain": [
              "    To use these columns in scoring predictions, use a model that allows the use of additional features."
            ]
          },
          "metadata": {
            "tags": []
          }
        },
        {
          "output_type": "display_data",
          "data": {
            "text/html": [
              "<pre>Preparing data set.</pre>"
            ],
            "text/plain": [
              "Preparing data set."
            ]
          },
          "metadata": {
            "tags": []
          }
        },
        {
          "output_type": "display_data",
          "data": {
            "text/html": [
              "<pre>    Data has 12723 observations with 12343 users and 7951 items.</pre>"
            ],
            "text/plain": [
              "    Data has 12723 observations with 12343 users and 7951 items."
            ]
          },
          "metadata": {
            "tags": []
          }
        },
        {
          "output_type": "display_data",
          "data": {
            "text/html": [
              "<pre>    Data prepared in: 0.030943s</pre>"
            ],
            "text/plain": [
              "    Data prepared in: 0.030943s"
            ]
          },
          "metadata": {
            "tags": []
          }
        },
        {
          "output_type": "display_data",
          "data": {
            "text/html": [
              "<pre>Training model from provided data.</pre>"
            ],
            "text/plain": [
              "Training model from provided data."
            ]
          },
          "metadata": {
            "tags": []
          }
        },
        {
          "output_type": "display_data",
          "data": {
            "text/html": [
              "<pre>Gathering per-item and per-user statistics.</pre>"
            ],
            "text/plain": [
              "Gathering per-item and per-user statistics."
            ]
          },
          "metadata": {
            "tags": []
          }
        },
        {
          "output_type": "display_data",
          "data": {
            "text/html": [
              "<pre>+--------------------------------+------------+</pre>"
            ],
            "text/plain": [
              "+--------------------------------+------------+"
            ]
          },
          "metadata": {
            "tags": []
          }
        },
        {
          "output_type": "display_data",
          "data": {
            "text/html": [
              "<pre>| Elapsed Time (Item Statistics) | % Complete |</pre>"
            ],
            "text/plain": [
              "| Elapsed Time (Item Statistics) | % Complete |"
            ]
          },
          "metadata": {
            "tags": []
          }
        },
        {
          "output_type": "display_data",
          "data": {
            "text/html": [
              "<pre>+--------------------------------+------------+</pre>"
            ],
            "text/plain": [
              "+--------------------------------+------------+"
            ]
          },
          "metadata": {
            "tags": []
          }
        },
        {
          "output_type": "display_data",
          "data": {
            "text/html": [
              "<pre>| 537us                          | 8          |</pre>"
            ],
            "text/plain": [
              "| 537us                          | 8          |"
            ]
          },
          "metadata": {
            "tags": []
          }
        },
        {
          "output_type": "display_data",
          "data": {
            "text/html": [
              "<pre>| 2.891ms                        | 100        |</pre>"
            ],
            "text/plain": [
              "| 2.891ms                        | 100        |"
            ]
          },
          "metadata": {
            "tags": []
          }
        },
        {
          "output_type": "display_data",
          "data": {
            "text/html": [
              "<pre>+--------------------------------+------------+</pre>"
            ],
            "text/plain": [
              "+--------------------------------+------------+"
            ]
          },
          "metadata": {
            "tags": []
          }
        },
        {
          "output_type": "display_data",
          "data": {
            "text/html": [
              "<pre>Setting up lookup tables.</pre>"
            ],
            "text/plain": [
              "Setting up lookup tables."
            ]
          },
          "metadata": {
            "tags": []
          }
        },
        {
          "output_type": "display_data",
          "data": {
            "text/html": [
              "<pre>Processing data in one pass using dense lookup tables.</pre>"
            ],
            "text/plain": [
              "Processing data in one pass using dense lookup tables."
            ]
          },
          "metadata": {
            "tags": []
          }
        },
        {
          "output_type": "display_data",
          "data": {
            "text/html": [
              "<pre>+-------------------------------------+------------------+-----------------+</pre>"
            ],
            "text/plain": [
              "+-------------------------------------+------------------+-----------------+"
            ]
          },
          "metadata": {
            "tags": []
          }
        },
        {
          "output_type": "display_data",
          "data": {
            "text/html": [
              "<pre>| Elapsed Time (Constructing Lookups) | Total % Complete | Items Processed |</pre>"
            ],
            "text/plain": [
              "| Elapsed Time (Constructing Lookups) | Total % Complete | Items Processed |"
            ]
          },
          "metadata": {
            "tags": []
          }
        },
        {
          "output_type": "display_data",
          "data": {
            "text/html": [
              "<pre>+-------------------------------------+------------------+-----------------+</pre>"
            ],
            "text/plain": [
              "+-------------------------------------+------------------+-----------------+"
            ]
          },
          "metadata": {
            "tags": []
          }
        },
        {
          "output_type": "display_data",
          "data": {
            "text/html": [
              "<pre>| 82.356ms                            | 0                | 0               |</pre>"
            ],
            "text/plain": [
              "| 82.356ms                            | 0                | 0               |"
            ]
          },
          "metadata": {
            "tags": []
          }
        },
        {
          "output_type": "display_data",
          "data": {
            "text/html": [
              "<pre>| 383.121ms                           | 100              | 7951            |</pre>"
            ],
            "text/plain": [
              "| 383.121ms                           | 100              | 7951            |"
            ]
          },
          "metadata": {
            "tags": []
          }
        },
        {
          "output_type": "display_data",
          "data": {
            "text/html": [
              "<pre>+-------------------------------------+------------------+-----------------+</pre>"
            ],
            "text/plain": [
              "+-------------------------------------+------------------+-----------------+"
            ]
          },
          "metadata": {
            "tags": []
          }
        },
        {
          "output_type": "display_data",
          "data": {
            "text/html": [
              "<pre>Finalizing lookup tables.</pre>"
            ],
            "text/plain": [
              "Finalizing lookup tables."
            ]
          },
          "metadata": {
            "tags": []
          }
        },
        {
          "output_type": "display_data",
          "data": {
            "text/html": [
              "<pre>Generating candidate set for working with new users.</pre>"
            ],
            "text/plain": [
              "Generating candidate set for working with new users."
            ]
          },
          "metadata": {
            "tags": []
          }
        },
        {
          "output_type": "display_data",
          "data": {
            "text/html": [
              "<pre>Finished training in 0.38864s</pre>"
            ],
            "text/plain": [
              "Finished training in 0.38864s"
            ]
          },
          "metadata": {
            "tags": []
          }
        }
      ]
    },
    {
      "cell_type": "code",
      "metadata": {
        "id": "zC1WPJT8x1qs",
        "colab_type": "code",
        "colab": {}
      },
      "source": [
        "def model(train_data, name, user_id, item_id, target, users_to_recommend, n_rec, n_display):\n",
        "    if name == 'popularity':\n",
        "        model = tc.popularity_recommender.create(train_data, \n",
        "                                                    user_id=user_id, \n",
        "                                                    item_id=item_id, \n",
        "                                                    target=target)\n",
        "    elif name == 'cosine':\n",
        "        model = tc.item_similarity_recommender.create(train_data, \n",
        "                                                    user_id=user_id, \n",
        "                                                    item_id=item_id, \n",
        "                                                    target=target, \n",
        "                                                    similarity_type='cosine')\n",
        "    elif name == 'pearson':\n",
        "        model = tc.item_similarity_recommender.create(train_data, \n",
        "                                                    user_id=user_id, \n",
        "                                                    item_id=item_id, \n",
        "                                                    target=target, \n",
        "                                                    similarity_type='pearson')\n",
        "        \n",
        "    recom = model.recommend(users=users_to_recommend, k=n_rec)\n",
        "    recom.print_rows(n_display)\n",
        "    return model"
      ],
      "execution_count": 0,
      "outputs": []
    },
    {
      "cell_type": "code",
      "metadata": {
        "id": "8nyMPEDayKZD",
        "colab_type": "code",
        "colab": {}
      },
      "source": [
        "user_id = 'customer_id'\n",
        "item_id = 'product_id'\n",
        "users_to_recommend = list(datos_clientes.customer_id)\n",
        "n_rec = 10 # number of items to recommend\n",
        "n_display = 30 # to display the first few rows in an output dataset"
      ],
      "execution_count": 0,
      "outputs": []
    },
    {
      "cell_type": "code",
      "metadata": {
        "id": "p5vYkbwIyYRb",
        "colab_type": "code",
        "outputId": "f6781046-83c5-4b1c-dbb3-0427bc8d9eee",
        "colab": {
          "base_uri": "https://localhost:8080/",
          "height": 1000
        }
      },
      "source": [
        "name = 'cosine'\n",
        "target = 'total_frecuencia'\n",
        "cos = model(tc.SFrame(train_data) , name, user_id, item_id, target, users_to_recommend, n_rec, n_display)"
      ],
      "execution_count": 0,
      "outputs": [
        {
          "output_type": "display_data",
          "data": {
            "text/html": [
              "<pre>Preparing data set.</pre>"
            ],
            "text/plain": [
              "Preparing data set."
            ]
          },
          "metadata": {
            "tags": []
          }
        },
        {
          "output_type": "display_data",
          "data": {
            "text/html": [
              "<pre>    Data has 21361 observations with 14416 users and 2611 items.</pre>"
            ],
            "text/plain": [
              "    Data has 21361 observations with 14416 users and 2611 items."
            ]
          },
          "metadata": {
            "tags": []
          }
        },
        {
          "output_type": "display_data",
          "data": {
            "text/html": [
              "<pre>    Data prepared in: 0.044245s</pre>"
            ],
            "text/plain": [
              "    Data prepared in: 0.044245s"
            ]
          },
          "metadata": {
            "tags": []
          }
        },
        {
          "output_type": "display_data",
          "data": {
            "text/html": [
              "<pre>Training model from provided data.</pre>"
            ],
            "text/plain": [
              "Training model from provided data."
            ]
          },
          "metadata": {
            "tags": []
          }
        },
        {
          "output_type": "display_data",
          "data": {
            "text/html": [
              "<pre>Gathering per-item and per-user statistics.</pre>"
            ],
            "text/plain": [
              "Gathering per-item and per-user statistics."
            ]
          },
          "metadata": {
            "tags": []
          }
        },
        {
          "output_type": "display_data",
          "data": {
            "text/html": [
              "<pre>+--------------------------------+------------+</pre>"
            ],
            "text/plain": [
              "+--------------------------------+------------+"
            ]
          },
          "metadata": {
            "tags": []
          }
        },
        {
          "output_type": "display_data",
          "data": {
            "text/html": [
              "<pre>| Elapsed Time (Item Statistics) | % Complete |</pre>"
            ],
            "text/plain": [
              "| Elapsed Time (Item Statistics) | % Complete |"
            ]
          },
          "metadata": {
            "tags": []
          }
        },
        {
          "output_type": "display_data",
          "data": {
            "text/html": [
              "<pre>+--------------------------------+------------+</pre>"
            ],
            "text/plain": [
              "+--------------------------------+------------+"
            ]
          },
          "metadata": {
            "tags": []
          }
        },
        {
          "output_type": "display_data",
          "data": {
            "text/html": [
              "<pre>| 290us                          | 6.75       |</pre>"
            ],
            "text/plain": [
              "| 290us                          | 6.75       |"
            ]
          },
          "metadata": {
            "tags": []
          }
        },
        {
          "output_type": "display_data",
          "data": {
            "text/html": [
              "<pre>| 1.944ms                        | 100        |</pre>"
            ],
            "text/plain": [
              "| 1.944ms                        | 100        |"
            ]
          },
          "metadata": {
            "tags": []
          }
        },
        {
          "output_type": "display_data",
          "data": {
            "text/html": [
              "<pre>+--------------------------------+------------+</pre>"
            ],
            "text/plain": [
              "+--------------------------------+------------+"
            ]
          },
          "metadata": {
            "tags": []
          }
        },
        {
          "output_type": "display_data",
          "data": {
            "text/html": [
              "<pre>Setting up lookup tables.</pre>"
            ],
            "text/plain": [
              "Setting up lookup tables."
            ]
          },
          "metadata": {
            "tags": []
          }
        },
        {
          "output_type": "display_data",
          "data": {
            "text/html": [
              "<pre>Processing data in one pass using dense lookup tables.</pre>"
            ],
            "text/plain": [
              "Processing data in one pass using dense lookup tables."
            ]
          },
          "metadata": {
            "tags": []
          }
        },
        {
          "output_type": "display_data",
          "data": {
            "text/html": [
              "<pre>+-------------------------------------+------------------+-----------------+</pre>"
            ],
            "text/plain": [
              "+-------------------------------------+------------------+-----------------+"
            ]
          },
          "metadata": {
            "tags": []
          }
        },
        {
          "output_type": "display_data",
          "data": {
            "text/html": [
              "<pre>| Elapsed Time (Constructing Lookups) | Total % Complete | Items Processed |</pre>"
            ],
            "text/plain": [
              "| Elapsed Time (Constructing Lookups) | Total % Complete | Items Processed |"
            ]
          },
          "metadata": {
            "tags": []
          }
        },
        {
          "output_type": "display_data",
          "data": {
            "text/html": [
              "<pre>+-------------------------------------+------------------+-----------------+</pre>"
            ],
            "text/plain": [
              "+-------------------------------------+------------------+-----------------+"
            ]
          },
          "metadata": {
            "tags": []
          }
        },
        {
          "output_type": "display_data",
          "data": {
            "text/html": [
              "<pre>| 14.672ms                            | 0                | 0               |</pre>"
            ],
            "text/plain": [
              "| 14.672ms                            | 0                | 0               |"
            ]
          },
          "metadata": {
            "tags": []
          }
        },
        {
          "output_type": "display_data",
          "data": {
            "text/html": [
              "<pre>| 80.952ms                            | 100              | 2611            |</pre>"
            ],
            "text/plain": [
              "| 80.952ms                            | 100              | 2611            |"
            ]
          },
          "metadata": {
            "tags": []
          }
        },
        {
          "output_type": "display_data",
          "data": {
            "text/html": [
              "<pre>+-------------------------------------+------------------+-----------------+</pre>"
            ],
            "text/plain": [
              "+-------------------------------------+------------------+-----------------+"
            ]
          },
          "metadata": {
            "tags": []
          }
        },
        {
          "output_type": "display_data",
          "data": {
            "text/html": [
              "<pre>Finalizing lookup tables.</pre>"
            ],
            "text/plain": [
              "Finalizing lookup tables."
            ]
          },
          "metadata": {
            "tags": []
          }
        },
        {
          "output_type": "display_data",
          "data": {
            "text/html": [
              "<pre>Generating candidate set for working with new users.</pre>"
            ],
            "text/plain": [
              "Generating candidate set for working with new users."
            ]
          },
          "metadata": {
            "tags": []
          }
        },
        {
          "output_type": "display_data",
          "data": {
            "text/html": [
              "<pre>Finished training in 0.084907s</pre>"
            ],
            "text/plain": [
              "Finished training in 0.084907s"
            ]
          },
          "metadata": {
            "tags": []
          }
        },
        {
          "output_type": "display_data",
          "data": {
            "text/html": [
              "<pre>recommendations finished on 1000/96352 queries. users per second: 52943.7</pre>"
            ],
            "text/plain": [
              "recommendations finished on 1000/96352 queries. users per second: 52943.7"
            ]
          },
          "metadata": {
            "tags": []
          }
        },
        {
          "output_type": "display_data",
          "data": {
            "text/html": [
              "<pre>recommendations finished on 2000/96352 queries. users per second: 52207.1</pre>"
            ],
            "text/plain": [
              "recommendations finished on 2000/96352 queries. users per second: 52207.1"
            ]
          },
          "metadata": {
            "tags": []
          }
        },
        {
          "output_type": "display_data",
          "data": {
            "text/html": [
              "<pre>recommendations finished on 3000/96352 queries. users per second: 52649.1</pre>"
            ],
            "text/plain": [
              "recommendations finished on 3000/96352 queries. users per second: 52649.1"
            ]
          },
          "metadata": {
            "tags": []
          }
        },
        {
          "output_type": "display_data",
          "data": {
            "text/html": [
              "<pre>recommendations finished on 4000/96352 queries. users per second: 52710.6</pre>"
            ],
            "text/plain": [
              "recommendations finished on 4000/96352 queries. users per second: 52710.6"
            ]
          },
          "metadata": {
            "tags": []
          }
        },
        {
          "output_type": "display_data",
          "data": {
            "text/html": [
              "<pre>recommendations finished on 5000/96352 queries. users per second: 52406</pre>"
            ],
            "text/plain": [
              "recommendations finished on 5000/96352 queries. users per second: 52406"
            ]
          },
          "metadata": {
            "tags": []
          }
        },
        {
          "output_type": "display_data",
          "data": {
            "text/html": [
              "<pre>recommendations finished on 6000/96352 queries. users per second: 52091.9</pre>"
            ],
            "text/plain": [
              "recommendations finished on 6000/96352 queries. users per second: 52091.9"
            ]
          },
          "metadata": {
            "tags": []
          }
        },
        {
          "output_type": "display_data",
          "data": {
            "text/html": [
              "<pre>recommendations finished on 7000/96352 queries. users per second: 52047.3</pre>"
            ],
            "text/plain": [
              "recommendations finished on 7000/96352 queries. users per second: 52047.3"
            ]
          },
          "metadata": {
            "tags": []
          }
        },
        {
          "output_type": "display_data",
          "data": {
            "text/html": [
              "<pre>recommendations finished on 8000/96352 queries. users per second: 52163.8</pre>"
            ],
            "text/plain": [
              "recommendations finished on 8000/96352 queries. users per second: 52163.8"
            ]
          },
          "metadata": {
            "tags": []
          }
        },
        {
          "output_type": "display_data",
          "data": {
            "text/html": [
              "<pre>recommendations finished on 9000/96352 queries. users per second: 52187.2</pre>"
            ],
            "text/plain": [
              "recommendations finished on 9000/96352 queries. users per second: 52187.2"
            ]
          },
          "metadata": {
            "tags": []
          }
        },
        {
          "output_type": "display_data",
          "data": {
            "text/html": [
              "<pre>recommendations finished on 10000/96352 queries. users per second: 52476.9</pre>"
            ],
            "text/plain": [
              "recommendations finished on 10000/96352 queries. users per second: 52476.9"
            ]
          },
          "metadata": {
            "tags": []
          }
        },
        {
          "output_type": "display_data",
          "data": {
            "text/html": [
              "<pre>recommendations finished on 11000/96352 queries. users per second: 52791.2</pre>"
            ],
            "text/plain": [
              "recommendations finished on 11000/96352 queries. users per second: 52791.2"
            ]
          },
          "metadata": {
            "tags": []
          }
        },
        {
          "output_type": "display_data",
          "data": {
            "text/html": [
              "<pre>recommendations finished on 12000/96352 queries. users per second: 52901.2</pre>"
            ],
            "text/plain": [
              "recommendations finished on 12000/96352 queries. users per second: 52901.2"
            ]
          },
          "metadata": {
            "tags": []
          }
        },
        {
          "output_type": "display_data",
          "data": {
            "text/html": [
              "<pre>recommendations finished on 13000/96352 queries. users per second: 52635.4</pre>"
            ],
            "text/plain": [
              "recommendations finished on 13000/96352 queries. users per second: 52635.4"
            ]
          },
          "metadata": {
            "tags": []
          }
        },
        {
          "output_type": "display_data",
          "data": {
            "text/html": [
              "<pre>recommendations finished on 14000/96352 queries. users per second: 52478.3</pre>"
            ],
            "text/plain": [
              "recommendations finished on 14000/96352 queries. users per second: 52478.3"
            ]
          },
          "metadata": {
            "tags": []
          }
        },
        {
          "output_type": "display_data",
          "data": {
            "text/html": [
              "<pre>recommendations finished on 15000/96352 queries. users per second: 52270.8</pre>"
            ],
            "text/plain": [
              "recommendations finished on 15000/96352 queries. users per second: 52270.8"
            ]
          },
          "metadata": {
            "tags": []
          }
        },
        {
          "output_type": "display_data",
          "data": {
            "text/html": [
              "<pre>recommendations finished on 16000/96352 queries. users per second: 52444.7</pre>"
            ],
            "text/plain": [
              "recommendations finished on 16000/96352 queries. users per second: 52444.7"
            ]
          },
          "metadata": {
            "tags": []
          }
        },
        {
          "output_type": "display_data",
          "data": {
            "text/html": [
              "<pre>recommendations finished on 17000/96352 queries. users per second: 52519.2</pre>"
            ],
            "text/plain": [
              "recommendations finished on 17000/96352 queries. users per second: 52519.2"
            ]
          },
          "metadata": {
            "tags": []
          }
        },
        {
          "output_type": "display_data",
          "data": {
            "text/html": [
              "<pre>recommendations finished on 18000/96352 queries. users per second: 52383.8</pre>"
            ],
            "text/plain": [
              "recommendations finished on 18000/96352 queries. users per second: 52383.8"
            ]
          },
          "metadata": {
            "tags": []
          }
        },
        {
          "output_type": "display_data",
          "data": {
            "text/html": [
              "<pre>recommendations finished on 19000/96352 queries. users per second: 52407.9</pre>"
            ],
            "text/plain": [
              "recommendations finished on 19000/96352 queries. users per second: 52407.9"
            ]
          },
          "metadata": {
            "tags": []
          }
        },
        {
          "output_type": "display_data",
          "data": {
            "text/html": [
              "<pre>recommendations finished on 20000/96352 queries. users per second: 52416</pre>"
            ],
            "text/plain": [
              "recommendations finished on 20000/96352 queries. users per second: 52416"
            ]
          },
          "metadata": {
            "tags": []
          }
        },
        {
          "output_type": "display_data",
          "data": {
            "text/html": [
              "<pre>recommendations finished on 21000/96352 queries. users per second: 52357.8</pre>"
            ],
            "text/plain": [
              "recommendations finished on 21000/96352 queries. users per second: 52357.8"
            ]
          },
          "metadata": {
            "tags": []
          }
        },
        {
          "output_type": "display_data",
          "data": {
            "text/html": [
              "<pre>recommendations finished on 22000/96352 queries. users per second: 52125.9</pre>"
            ],
            "text/plain": [
              "recommendations finished on 22000/96352 queries. users per second: 52125.9"
            ]
          },
          "metadata": {
            "tags": []
          }
        },
        {
          "output_type": "display_data",
          "data": {
            "text/html": [
              "<pre>recommendations finished on 23000/96352 queries. users per second: 52026.5</pre>"
            ],
            "text/plain": [
              "recommendations finished on 23000/96352 queries. users per second: 52026.5"
            ]
          },
          "metadata": {
            "tags": []
          }
        },
        {
          "output_type": "display_data",
          "data": {
            "text/html": [
              "<pre>recommendations finished on 24000/96352 queries. users per second: 52096.2</pre>"
            ],
            "text/plain": [
              "recommendations finished on 24000/96352 queries. users per second: 52096.2"
            ]
          },
          "metadata": {
            "tags": []
          }
        },
        {
          "output_type": "display_data",
          "data": {
            "text/html": [
              "<pre>recommendations finished on 25000/96352 queries. users per second: 52240.6</pre>"
            ],
            "text/plain": [
              "recommendations finished on 25000/96352 queries. users per second: 52240.6"
            ]
          },
          "metadata": {
            "tags": []
          }
        },
        {
          "output_type": "display_data",
          "data": {
            "text/html": [
              "<pre>recommendations finished on 26000/96352 queries. users per second: 52017.5</pre>"
            ],
            "text/plain": [
              "recommendations finished on 26000/96352 queries. users per second: 52017.5"
            ]
          },
          "metadata": {
            "tags": []
          }
        },
        {
          "output_type": "display_data",
          "data": {
            "text/html": [
              "<pre>recommendations finished on 27000/96352 queries. users per second: 51992.8</pre>"
            ],
            "text/plain": [
              "recommendations finished on 27000/96352 queries. users per second: 51992.8"
            ]
          },
          "metadata": {
            "tags": []
          }
        },
        {
          "output_type": "display_data",
          "data": {
            "text/html": [
              "<pre>recommendations finished on 28000/96352 queries. users per second: 51839</pre>"
            ],
            "text/plain": [
              "recommendations finished on 28000/96352 queries. users per second: 51839"
            ]
          },
          "metadata": {
            "tags": []
          }
        },
        {
          "output_type": "display_data",
          "data": {
            "text/html": [
              "<pre>recommendations finished on 29000/96352 queries. users per second: 51793.8</pre>"
            ],
            "text/plain": [
              "recommendations finished on 29000/96352 queries. users per second: 51793.8"
            ]
          },
          "metadata": {
            "tags": []
          }
        },
        {
          "output_type": "display_data",
          "data": {
            "text/html": [
              "<pre>recommendations finished on 30000/96352 queries. users per second: 51724.1</pre>"
            ],
            "text/plain": [
              "recommendations finished on 30000/96352 queries. users per second: 51724.1"
            ]
          },
          "metadata": {
            "tags": []
          }
        },
        {
          "output_type": "display_data",
          "data": {
            "text/html": [
              "<pre>recommendations finished on 31000/96352 queries. users per second: 51750.8</pre>"
            ],
            "text/plain": [
              "recommendations finished on 31000/96352 queries. users per second: 51750.8"
            ]
          },
          "metadata": {
            "tags": []
          }
        },
        {
          "output_type": "display_data",
          "data": {
            "text/html": [
              "<pre>recommendations finished on 32000/96352 queries. users per second: 51820</pre>"
            ],
            "text/plain": [
              "recommendations finished on 32000/96352 queries. users per second: 51820"
            ]
          },
          "metadata": {
            "tags": []
          }
        },
        {
          "output_type": "display_data",
          "data": {
            "text/html": [
              "<pre>recommendations finished on 33000/96352 queries. users per second: 51895</pre>"
            ],
            "text/plain": [
              "recommendations finished on 33000/96352 queries. users per second: 51895"
            ]
          },
          "metadata": {
            "tags": []
          }
        },
        {
          "output_type": "display_data",
          "data": {
            "text/html": [
              "<pre>recommendations finished on 34000/96352 queries. users per second: 51869.2</pre>"
            ],
            "text/plain": [
              "recommendations finished on 34000/96352 queries. users per second: 51869.2"
            ]
          },
          "metadata": {
            "tags": []
          }
        },
        {
          "output_type": "display_data",
          "data": {
            "text/html": [
              "<pre>recommendations finished on 35000/96352 queries. users per second: 51936.2</pre>"
            ],
            "text/plain": [
              "recommendations finished on 35000/96352 queries. users per second: 51936.2"
            ]
          },
          "metadata": {
            "tags": []
          }
        },
        {
          "output_type": "display_data",
          "data": {
            "text/html": [
              "<pre>recommendations finished on 36000/96352 queries. users per second: 51855.6</pre>"
            ],
            "text/plain": [
              "recommendations finished on 36000/96352 queries. users per second: 51855.6"
            ]
          },
          "metadata": {
            "tags": []
          }
        },
        {
          "output_type": "display_data",
          "data": {
            "text/html": [
              "<pre>recommendations finished on 37000/96352 queries. users per second: 51859.1</pre>"
            ],
            "text/plain": [
              "recommendations finished on 37000/96352 queries. users per second: 51859.1"
            ]
          },
          "metadata": {
            "tags": []
          }
        },
        {
          "output_type": "display_data",
          "data": {
            "text/html": [
              "<pre>recommendations finished on 38000/96352 queries. users per second: 51927.5</pre>"
            ],
            "text/plain": [
              "recommendations finished on 38000/96352 queries. users per second: 51927.5"
            ]
          },
          "metadata": {
            "tags": []
          }
        },
        {
          "output_type": "display_data",
          "data": {
            "text/html": [
              "<pre>recommendations finished on 39000/96352 queries. users per second: 51980</pre>"
            ],
            "text/plain": [
              "recommendations finished on 39000/96352 queries. users per second: 51980"
            ]
          },
          "metadata": {
            "tags": []
          }
        },
        {
          "output_type": "display_data",
          "data": {
            "text/html": [
              "<pre>recommendations finished on 40000/96352 queries. users per second: 52037.3</pre>"
            ],
            "text/plain": [
              "recommendations finished on 40000/96352 queries. users per second: 52037.3"
            ]
          },
          "metadata": {
            "tags": []
          }
        },
        {
          "output_type": "display_data",
          "data": {
            "text/html": [
              "<pre>recommendations finished on 41000/96352 queries. users per second: 52092.2</pre>"
            ],
            "text/plain": [
              "recommendations finished on 41000/96352 queries. users per second: 52092.2"
            ]
          },
          "metadata": {
            "tags": []
          }
        },
        {
          "output_type": "display_data",
          "data": {
            "text/html": [
              "<pre>recommendations finished on 42000/96352 queries. users per second: 52152.5</pre>"
            ],
            "text/plain": [
              "recommendations finished on 42000/96352 queries. users per second: 52152.5"
            ]
          },
          "metadata": {
            "tags": []
          }
        },
        {
          "output_type": "display_data",
          "data": {
            "text/html": [
              "<pre>recommendations finished on 43000/96352 queries. users per second: 52163.9</pre>"
            ],
            "text/plain": [
              "recommendations finished on 43000/96352 queries. users per second: 52163.9"
            ]
          },
          "metadata": {
            "tags": []
          }
        },
        {
          "output_type": "display_data",
          "data": {
            "text/html": [
              "<pre>recommendations finished on 44000/96352 queries. users per second: 52153.1</pre>"
            ],
            "text/plain": [
              "recommendations finished on 44000/96352 queries. users per second: 52153.1"
            ]
          },
          "metadata": {
            "tags": []
          }
        },
        {
          "output_type": "display_data",
          "data": {
            "text/html": [
              "<pre>recommendations finished on 45000/96352 queries. users per second: 52158.6</pre>"
            ],
            "text/plain": [
              "recommendations finished on 45000/96352 queries. users per second: 52158.6"
            ]
          },
          "metadata": {
            "tags": []
          }
        },
        {
          "output_type": "display_data",
          "data": {
            "text/html": [
              "<pre>recommendations finished on 46000/96352 queries. users per second: 52185.8</pre>"
            ],
            "text/plain": [
              "recommendations finished on 46000/96352 queries. users per second: 52185.8"
            ]
          },
          "metadata": {
            "tags": []
          }
        },
        {
          "output_type": "display_data",
          "data": {
            "text/html": [
              "<pre>recommendations finished on 47000/96352 queries. users per second: 52061.3</pre>"
            ],
            "text/plain": [
              "recommendations finished on 47000/96352 queries. users per second: 52061.3"
            ]
          },
          "metadata": {
            "tags": []
          }
        },
        {
          "output_type": "display_data",
          "data": {
            "text/html": [
              "<pre>recommendations finished on 48000/96352 queries. users per second: 52042.2</pre>"
            ],
            "text/plain": [
              "recommendations finished on 48000/96352 queries. users per second: 52042.2"
            ]
          },
          "metadata": {
            "tags": []
          }
        },
        {
          "output_type": "display_data",
          "data": {
            "text/html": [
              "<pre>recommendations finished on 49000/96352 queries. users per second: 51968.3</pre>"
            ],
            "text/plain": [
              "recommendations finished on 49000/96352 queries. users per second: 51968.3"
            ]
          },
          "metadata": {
            "tags": []
          }
        },
        {
          "output_type": "display_data",
          "data": {
            "text/html": [
              "<pre>recommendations finished on 50000/96352 queries. users per second: 51891.3</pre>"
            ],
            "text/plain": [
              "recommendations finished on 50000/96352 queries. users per second: 51891.3"
            ]
          },
          "metadata": {
            "tags": []
          }
        },
        {
          "output_type": "display_data",
          "data": {
            "text/html": [
              "<pre>recommendations finished on 51000/96352 queries. users per second: 51897.7</pre>"
            ],
            "text/plain": [
              "recommendations finished on 51000/96352 queries. users per second: 51897.7"
            ]
          },
          "metadata": {
            "tags": []
          }
        },
        {
          "output_type": "display_data",
          "data": {
            "text/html": [
              "<pre>recommendations finished on 52000/96352 queries. users per second: 51853</pre>"
            ],
            "text/plain": [
              "recommendations finished on 52000/96352 queries. users per second: 51853"
            ]
          },
          "metadata": {
            "tags": []
          }
        },
        {
          "output_type": "display_data",
          "data": {
            "text/html": [
              "<pre>recommendations finished on 53000/96352 queries. users per second: 51641.4</pre>"
            ],
            "text/plain": [
              "recommendations finished on 53000/96352 queries. users per second: 51641.4"
            ]
          },
          "metadata": {
            "tags": []
          }
        },
        {
          "output_type": "display_data",
          "data": {
            "text/html": [
              "<pre>recommendations finished on 54000/96352 queries. users per second: 51632.8</pre>"
            ],
            "text/plain": [
              "recommendations finished on 54000/96352 queries. users per second: 51632.8"
            ]
          },
          "metadata": {
            "tags": []
          }
        },
        {
          "output_type": "display_data",
          "data": {
            "text/html": [
              "<pre>recommendations finished on 55000/96352 queries. users per second: 51613.7</pre>"
            ],
            "text/plain": [
              "recommendations finished on 55000/96352 queries. users per second: 51613.7"
            ]
          },
          "metadata": {
            "tags": []
          }
        },
        {
          "output_type": "display_data",
          "data": {
            "text/html": [
              "<pre>recommendations finished on 56000/96352 queries. users per second: 51605.5</pre>"
            ],
            "text/plain": [
              "recommendations finished on 56000/96352 queries. users per second: 51605.5"
            ]
          },
          "metadata": {
            "tags": []
          }
        },
        {
          "output_type": "display_data",
          "data": {
            "text/html": [
              "<pre>recommendations finished on 57000/96352 queries. users per second: 51569.7</pre>"
            ],
            "text/plain": [
              "recommendations finished on 57000/96352 queries. users per second: 51569.7"
            ]
          },
          "metadata": {
            "tags": []
          }
        },
        {
          "output_type": "display_data",
          "data": {
            "text/html": [
              "<pre>recommendations finished on 58000/96352 queries. users per second: 51507.9</pre>"
            ],
            "text/plain": [
              "recommendations finished on 58000/96352 queries. users per second: 51507.9"
            ]
          },
          "metadata": {
            "tags": []
          }
        },
        {
          "output_type": "display_data",
          "data": {
            "text/html": [
              "<pre>recommendations finished on 59000/96352 queries. users per second: 51498.5</pre>"
            ],
            "text/plain": [
              "recommendations finished on 59000/96352 queries. users per second: 51498.5"
            ]
          },
          "metadata": {
            "tags": []
          }
        },
        {
          "output_type": "display_data",
          "data": {
            "text/html": [
              "<pre>recommendations finished on 60000/96352 queries. users per second: 51522.6</pre>"
            ],
            "text/plain": [
              "recommendations finished on 60000/96352 queries. users per second: 51522.6"
            ]
          },
          "metadata": {
            "tags": []
          }
        },
        {
          "output_type": "display_data",
          "data": {
            "text/html": [
              "<pre>recommendations finished on 61000/96352 queries. users per second: 51505</pre>"
            ],
            "text/plain": [
              "recommendations finished on 61000/96352 queries. users per second: 51505"
            ]
          },
          "metadata": {
            "tags": []
          }
        },
        {
          "output_type": "display_data",
          "data": {
            "text/html": [
              "<pre>recommendations finished on 62000/96352 queries. users per second: 51506.1</pre>"
            ],
            "text/plain": [
              "recommendations finished on 62000/96352 queries. users per second: 51506.1"
            ]
          },
          "metadata": {
            "tags": []
          }
        },
        {
          "output_type": "display_data",
          "data": {
            "text/html": [
              "<pre>recommendations finished on 63000/96352 queries. users per second: 51479.7</pre>"
            ],
            "text/plain": [
              "recommendations finished on 63000/96352 queries. users per second: 51479.7"
            ]
          },
          "metadata": {
            "tags": []
          }
        },
        {
          "output_type": "display_data",
          "data": {
            "text/html": [
              "<pre>recommendations finished on 64000/96352 queries. users per second: 51515.6</pre>"
            ],
            "text/plain": [
              "recommendations finished on 64000/96352 queries. users per second: 51515.6"
            ]
          },
          "metadata": {
            "tags": []
          }
        },
        {
          "output_type": "display_data",
          "data": {
            "text/html": [
              "<pre>recommendations finished on 65000/96352 queries. users per second: 51516.1</pre>"
            ],
            "text/plain": [
              "recommendations finished on 65000/96352 queries. users per second: 51516.1"
            ]
          },
          "metadata": {
            "tags": []
          }
        },
        {
          "output_type": "display_data",
          "data": {
            "text/html": [
              "<pre>recommendations finished on 66000/96352 queries. users per second: 51434</pre>"
            ],
            "text/plain": [
              "recommendations finished on 66000/96352 queries. users per second: 51434"
            ]
          },
          "metadata": {
            "tags": []
          }
        },
        {
          "output_type": "display_data",
          "data": {
            "text/html": [
              "<pre>recommendations finished on 67000/96352 queries. users per second: 51383.9</pre>"
            ],
            "text/plain": [
              "recommendations finished on 67000/96352 queries. users per second: 51383.9"
            ]
          },
          "metadata": {
            "tags": []
          }
        },
        {
          "output_type": "display_data",
          "data": {
            "text/html": [
              "<pre>recommendations finished on 68000/96352 queries. users per second: 51408.8</pre>"
            ],
            "text/plain": [
              "recommendations finished on 68000/96352 queries. users per second: 51408.8"
            ]
          },
          "metadata": {
            "tags": []
          }
        },
        {
          "output_type": "display_data",
          "data": {
            "text/html": [
              "<pre>recommendations finished on 69000/96352 queries. users per second: 51385.3</pre>"
            ],
            "text/plain": [
              "recommendations finished on 69000/96352 queries. users per second: 51385.3"
            ]
          },
          "metadata": {
            "tags": []
          }
        },
        {
          "output_type": "display_data",
          "data": {
            "text/html": [
              "<pre>recommendations finished on 70000/96352 queries. users per second: 51340.5</pre>"
            ],
            "text/plain": [
              "recommendations finished on 70000/96352 queries. users per second: 51340.5"
            ]
          },
          "metadata": {
            "tags": []
          }
        },
        {
          "output_type": "display_data",
          "data": {
            "text/html": [
              "<pre>recommendations finished on 71000/96352 queries. users per second: 51137.2</pre>"
            ],
            "text/plain": [
              "recommendations finished on 71000/96352 queries. users per second: 51137.2"
            ]
          },
          "metadata": {
            "tags": []
          }
        },
        {
          "output_type": "display_data",
          "data": {
            "text/html": [
              "<pre>recommendations finished on 72000/96352 queries. users per second: 51090.4</pre>"
            ],
            "text/plain": [
              "recommendations finished on 72000/96352 queries. users per second: 51090.4"
            ]
          },
          "metadata": {
            "tags": []
          }
        },
        {
          "output_type": "display_data",
          "data": {
            "text/html": [
              "<pre>recommendations finished on 73000/96352 queries. users per second: 51096.2</pre>"
            ],
            "text/plain": [
              "recommendations finished on 73000/96352 queries. users per second: 51096.2"
            ]
          },
          "metadata": {
            "tags": []
          }
        },
        {
          "output_type": "display_data",
          "data": {
            "text/html": [
              "<pre>recommendations finished on 74000/96352 queries. users per second: 51128.5</pre>"
            ],
            "text/plain": [
              "recommendations finished on 74000/96352 queries. users per second: 51128.5"
            ]
          },
          "metadata": {
            "tags": []
          }
        },
        {
          "output_type": "display_data",
          "data": {
            "text/html": [
              "<pre>recommendations finished on 75000/96352 queries. users per second: 51122.9</pre>"
            ],
            "text/plain": [
              "recommendations finished on 75000/96352 queries. users per second: 51122.9"
            ]
          },
          "metadata": {
            "tags": []
          }
        },
        {
          "output_type": "display_data",
          "data": {
            "text/html": [
              "<pre>recommendations finished on 76000/96352 queries. users per second: 51143.4</pre>"
            ],
            "text/plain": [
              "recommendations finished on 76000/96352 queries. users per second: 51143.4"
            ]
          },
          "metadata": {
            "tags": []
          }
        },
        {
          "output_type": "display_data",
          "data": {
            "text/html": [
              "<pre>recommendations finished on 77000/96352 queries. users per second: 51186.1</pre>"
            ],
            "text/plain": [
              "recommendations finished on 77000/96352 queries. users per second: 51186.1"
            ]
          },
          "metadata": {
            "tags": []
          }
        },
        {
          "output_type": "display_data",
          "data": {
            "text/html": [
              "<pre>recommendations finished on 78000/96352 queries. users per second: 51220.3</pre>"
            ],
            "text/plain": [
              "recommendations finished on 78000/96352 queries. users per second: 51220.3"
            ]
          },
          "metadata": {
            "tags": []
          }
        },
        {
          "output_type": "display_data",
          "data": {
            "text/html": [
              "<pre>recommendations finished on 79000/96352 queries. users per second: 51225.3</pre>"
            ],
            "text/plain": [
              "recommendations finished on 79000/96352 queries. users per second: 51225.3"
            ]
          },
          "metadata": {
            "tags": []
          }
        },
        {
          "output_type": "display_data",
          "data": {
            "text/html": [
              "<pre>recommendations finished on 80000/96352 queries. users per second: 51246.7</pre>"
            ],
            "text/plain": [
              "recommendations finished on 80000/96352 queries. users per second: 51246.7"
            ]
          },
          "metadata": {
            "tags": []
          }
        },
        {
          "output_type": "display_data",
          "data": {
            "text/html": [
              "<pre>recommendations finished on 81000/96352 queries. users per second: 51288.4</pre>"
            ],
            "text/plain": [
              "recommendations finished on 81000/96352 queries. users per second: 51288.4"
            ]
          },
          "metadata": {
            "tags": []
          }
        },
        {
          "output_type": "display_data",
          "data": {
            "text/html": [
              "<pre>recommendations finished on 82000/96352 queries. users per second: 51309.5</pre>"
            ],
            "text/plain": [
              "recommendations finished on 82000/96352 queries. users per second: 51309.5"
            ]
          },
          "metadata": {
            "tags": []
          }
        },
        {
          "output_type": "display_data",
          "data": {
            "text/html": [
              "<pre>recommendations finished on 83000/96352 queries. users per second: 51266.6</pre>"
            ],
            "text/plain": [
              "recommendations finished on 83000/96352 queries. users per second: 51266.6"
            ]
          },
          "metadata": {
            "tags": []
          }
        },
        {
          "output_type": "display_data",
          "data": {
            "text/html": [
              "<pre>recommendations finished on 84000/96352 queries. users per second: 51251.3</pre>"
            ],
            "text/plain": [
              "recommendations finished on 84000/96352 queries. users per second: 51251.3"
            ]
          },
          "metadata": {
            "tags": []
          }
        },
        {
          "output_type": "display_data",
          "data": {
            "text/html": [
              "<pre>recommendations finished on 85000/96352 queries. users per second: 51272.1</pre>"
            ],
            "text/plain": [
              "recommendations finished on 85000/96352 queries. users per second: 51272.1"
            ]
          },
          "metadata": {
            "tags": []
          }
        },
        {
          "output_type": "display_data",
          "data": {
            "text/html": [
              "<pre>recommendations finished on 86000/96352 queries. users per second: 51300.9</pre>"
            ],
            "text/plain": [
              "recommendations finished on 86000/96352 queries. users per second: 51300.9"
            ]
          },
          "metadata": {
            "tags": []
          }
        },
        {
          "output_type": "display_data",
          "data": {
            "text/html": [
              "<pre>recommendations finished on 87000/96352 queries. users per second: 51246.3</pre>"
            ],
            "text/plain": [
              "recommendations finished on 87000/96352 queries. users per second: 51246.3"
            ]
          },
          "metadata": {
            "tags": []
          }
        },
        {
          "output_type": "display_data",
          "data": {
            "text/html": [
              "<pre>recommendations finished on 88000/96352 queries. users per second: 51270.5</pre>"
            ],
            "text/plain": [
              "recommendations finished on 88000/96352 queries. users per second: 51270.5"
            ]
          },
          "metadata": {
            "tags": []
          }
        },
        {
          "output_type": "display_data",
          "data": {
            "text/html": [
              "<pre>recommendations finished on 89000/96352 queries. users per second: 51293.4</pre>"
            ],
            "text/plain": [
              "recommendations finished on 89000/96352 queries. users per second: 51293.4"
            ]
          },
          "metadata": {
            "tags": []
          }
        },
        {
          "output_type": "display_data",
          "data": {
            "text/html": [
              "<pre>recommendations finished on 90000/96352 queries. users per second: 51321.1</pre>"
            ],
            "text/plain": [
              "recommendations finished on 90000/96352 queries. users per second: 51321.1"
            ]
          },
          "metadata": {
            "tags": []
          }
        },
        {
          "output_type": "display_data",
          "data": {
            "text/html": [
              "<pre>recommendations finished on 91000/96352 queries. users per second: 51290.8</pre>"
            ],
            "text/plain": [
              "recommendations finished on 91000/96352 queries. users per second: 51290.8"
            ]
          },
          "metadata": {
            "tags": []
          }
        },
        {
          "output_type": "display_data",
          "data": {
            "text/html": [
              "<pre>recommendations finished on 92000/96352 queries. users per second: 51308</pre>"
            ],
            "text/plain": [
              "recommendations finished on 92000/96352 queries. users per second: 51308"
            ]
          },
          "metadata": {
            "tags": []
          }
        },
        {
          "output_type": "display_data",
          "data": {
            "text/html": [
              "<pre>recommendations finished on 93000/96352 queries. users per second: 51309.9</pre>"
            ],
            "text/plain": [
              "recommendations finished on 93000/96352 queries. users per second: 51309.9"
            ]
          },
          "metadata": {
            "tags": []
          }
        },
        {
          "output_type": "display_data",
          "data": {
            "text/html": [
              "<pre>recommendations finished on 94000/96352 queries. users per second: 51250.9</pre>"
            ],
            "text/plain": [
              "recommendations finished on 94000/96352 queries. users per second: 51250.9"
            ]
          },
          "metadata": {
            "tags": []
          }
        },
        {
          "output_type": "display_data",
          "data": {
            "text/html": [
              "<pre>recommendations finished on 95000/96352 queries. users per second: 51222.4</pre>"
            ],
            "text/plain": [
              "recommendations finished on 95000/96352 queries. users per second: 51222.4"
            ]
          },
          "metadata": {
            "tags": []
          }
        },
        {
          "output_type": "display_data",
          "data": {
            "text/html": [
              "<pre>recommendations finished on 96000/96352 queries. users per second: 50948.2</pre>"
            ],
            "text/plain": [
              "recommendations finished on 96000/96352 queries. users per second: 50948.2"
            ]
          },
          "metadata": {
            "tags": []
          }
        },
        {
          "output_type": "stream",
          "text": [
            "+-------------------------------+-------------------------------+\n",
            "|          customer_id          |           product_id          |\n",
            "+-------------------------------+-------------------------------+\n",
            "| 0000366f3b9a7992bf8c76cfdf... | 0e34187d4312b97b5e698836d2... |\n",
            "| 0000366f3b9a7992bf8c76cfdf... | 5526b1ae9ab2688cf600783cec... |\n",
            "| 0000366f3b9a7992bf8c76cfdf... | 15859e3a8aaa3c192c10a91d87... |\n",
            "| 0000366f3b9a7992bf8c76cfdf... | 9a442e31dcb07042eca00d73c1... |\n",
            "| 0000366f3b9a7992bf8c76cfdf... | ad2037645597db38527fe3afbe... |\n",
            "| 0000366f3b9a7992bf8c76cfdf... | 7650dd3b2dc10798a8cbccc78d... |\n",
            "| 0000366f3b9a7992bf8c76cfdf... | ba80c9f47a84d1e08465f72e22... |\n",
            "| 0000366f3b9a7992bf8c76cfdf... | 3ae28b124972bb81eddcb644cd... |\n",
            "| 0000366f3b9a7992bf8c76cfdf... | a00d11a2119bd70d658fc7cdcf... |\n",
            "| 0000366f3b9a7992bf8c76cfdf... | 7c1e2b3fa0233e46fb3bcdcb99... |\n",
            "| 0000b849f77a49e4a4ce2b2a4c... | 0e34187d4312b97b5e698836d2... |\n",
            "| 0000b849f77a49e4a4ce2b2a4c... | 5526b1ae9ab2688cf600783cec... |\n",
            "| 0000b849f77a49e4a4ce2b2a4c... | 15859e3a8aaa3c192c10a91d87... |\n",
            "| 0000b849f77a49e4a4ce2b2a4c... | 9a442e31dcb07042eca00d73c1... |\n",
            "| 0000b849f77a49e4a4ce2b2a4c... | ad2037645597db38527fe3afbe... |\n",
            "| 0000b849f77a49e4a4ce2b2a4c... | 7650dd3b2dc10798a8cbccc78d... |\n",
            "| 0000b849f77a49e4a4ce2b2a4c... | ba80c9f47a84d1e08465f72e22... |\n",
            "| 0000b849f77a49e4a4ce2b2a4c... | 3ae28b124972bb81eddcb644cd... |\n",
            "| 0000b849f77a49e4a4ce2b2a4c... | a00d11a2119bd70d658fc7cdcf... |\n",
            "| 0000b849f77a49e4a4ce2b2a4c... | 7c1e2b3fa0233e46fb3bcdcb99... |\n",
            "| 0000f46a3911fa3c0805444483... | 0e34187d4312b97b5e698836d2... |\n",
            "| 0000f46a3911fa3c0805444483... | 5526b1ae9ab2688cf600783cec... |\n",
            "| 0000f46a3911fa3c0805444483... | 15859e3a8aaa3c192c10a91d87... |\n",
            "| 0000f46a3911fa3c0805444483... | 9a442e31dcb07042eca00d73c1... |\n",
            "| 0000f46a3911fa3c0805444483... | ad2037645597db38527fe3afbe... |\n",
            "| 0000f46a3911fa3c0805444483... | 7650dd3b2dc10798a8cbccc78d... |\n",
            "| 0000f46a3911fa3c0805444483... | ba80c9f47a84d1e08465f72e22... |\n",
            "| 0000f46a3911fa3c0805444483... | 3ae28b124972bb81eddcb644cd... |\n",
            "| 0000f46a3911fa3c0805444483... | a00d11a2119bd70d658fc7cdcf... |\n",
            "| 0000f46a3911fa3c0805444483... | 7c1e2b3fa0233e46fb3bcdcb99... |\n",
            "+-------------------------------+-------------------------------+\n",
            "+----------------------+------+\n",
            "|        score         | rank |\n",
            "+----------------------+------+\n",
            "| 0.040320448875427246 |  1   |\n",
            "| 0.040320448875427246 |  2   |\n",
            "| 0.040320448875427246 |  3   |\n",
            "| 0.040320448875427246 |  4   |\n",
            "| 0.040320448875427246 |  5   |\n",
            "| 0.040320448875427246 |  6   |\n",
            "| 0.040320448875427246 |  7   |\n",
            "| 0.040320448875427246 |  8   |\n",
            "| 0.040320448875427246 |  9   |\n",
            "| 0.040320448875427246 |  10  |\n",
            "| 0.040320448875427246 |  1   |\n",
            "| 0.040320448875427246 |  2   |\n",
            "| 0.040320448875427246 |  3   |\n",
            "| 0.040320448875427246 |  4   |\n",
            "| 0.040320448875427246 |  5   |\n",
            "| 0.040320448875427246 |  6   |\n",
            "| 0.040320448875427246 |  7   |\n",
            "| 0.040320448875427246 |  8   |\n",
            "| 0.040320448875427246 |  9   |\n",
            "| 0.040320448875427246 |  10  |\n",
            "| 0.040320448875427246 |  1   |\n",
            "| 0.040320448875427246 |  2   |\n",
            "| 0.040320448875427246 |  3   |\n",
            "| 0.040320448875427246 |  4   |\n",
            "| 0.040320448875427246 |  5   |\n",
            "| 0.040320448875427246 |  6   |\n",
            "| 0.040320448875427246 |  7   |\n",
            "| 0.040320448875427246 |  8   |\n",
            "| 0.040320448875427246 |  9   |\n",
            "| 0.040320448875427246 |  10  |\n",
            "+----------------------+------+\n",
            "[963520 rows x 4 columns]\n",
            "\n"
          ],
          "name": "stdout"
        }
      ]
    },
    {
      "cell_type": "code",
      "metadata": {
        "id": "0AgQTFzOZ7a6",
        "colab_type": "code",
        "outputId": "344e4517-8b39-4258-ab66-631eeaf5ff4f",
        "colab": {
          "base_uri": "https://localhost:8080/",
          "height": 527
        }
      },
      "source": [
        "# Se generan cinco  recomendaciones para un Cliente  con el dataset normalizado\n",
        "\n",
        "productos_recomendado(fac_coseno,'871766c5855e863f6eccc05f988b23cb',4)\n",
        "productos_recomendado(fac_coseno,'eb28e67c4c0b83846050ddfb8a35d051',3)\n",
        "productos_recomendado(fac_coseno,'3818d81c6709e39d06b2738a8d3a2474',5)"
      ],
      "execution_count": 0,
      "outputs": [
        {
          "output_type": "stream",
          "text": [
            "+-------------+-------------------------------+----------------------+------+\n",
            "| customer_id |           product_id          |        score         | rank |\n",
            "+-------------+-------------------------------+----------------------+------+\n",
            "|      8      | ba80c9f47a84d1e08465f72e22... | 0.040320448875427246 |  1   |\n",
            "|      8      | 3ae28b124972bb81eddcb644cd... | 0.040320448875427246 |  2   |\n",
            "|      8      | a00d11a2119bd70d658fc7cdcf... | 0.040320448875427246 |  3   |\n",
            "|      8      | 7c1e2b3fa0233e46fb3bcdcb99... | 0.040320448875427246 |  4   |\n",
            "+-------------+-------------------------------+----------------------+------+\n",
            "[128 rows x 4 columns]\n",
            "\n",
            "+-------------+-------------------------------+----------------------+------+\n",
            "| customer_id |           product_id          |        score         | rank |\n",
            "+-------------+-------------------------------+----------------------+------+\n",
            "|      e      | 3ae28b124972bb81eddcb644cd... | 0.040320448875427246 |  1   |\n",
            "|      e      | a00d11a2119bd70d658fc7cdcf... | 0.040320448875427246 |  2   |\n",
            "|      e      | 7c1e2b3fa0233e46fb3bcdcb99... | 0.040320448875427246 |  3   |\n",
            "+-------------+-------------------------------+----------------------+------+\n",
            "[96 rows x 4 columns]\n",
            "\n",
            "+-------------+-------------------------------+----------------------+------+\n",
            "| customer_id |           product_id          |        score         | rank |\n",
            "+-------------+-------------------------------+----------------------+------+\n",
            "|      3      | 7650dd3b2dc10798a8cbccc78d... | 0.040320448875427246 |  1   |\n",
            "|      3      | ba80c9f47a84d1e08465f72e22... | 0.040320448875427246 |  2   |\n",
            "|      3      | 3ae28b124972bb81eddcb644cd... | 0.040320448875427246 |  3   |\n",
            "|      3      | a00d11a2119bd70d658fc7cdcf... | 0.040320448875427246 |  4   |\n",
            "|      3      | 7c1e2b3fa0233e46fb3bcdcb99... | 0.040320448875427246 |  5   |\n",
            "+-------------+-------------------------------+----------------------+------+\n",
            "[160 rows x 4 columns]\n",
            "\n"
          ],
          "name": "stdout"
        }
      ]
    },
    {
      "cell_type": "code",
      "metadata": {
        "id": "KWNFN9lyw5UJ",
        "colab_type": "code",
        "outputId": "a4a5d3f4-1ebf-45fe-e195-e7b22b916654",
        "colab": {
          "base_uri": "https://localhost:8080/",
          "height": 578
        }
      },
      "source": [
        "# Se generan cinco  recomendaciones para un Cliente  con el dataset dummy\n",
        "productos_recomendado(dum_coseno,'871766c5855e863f6eccc05f988b23cb',5)\n",
        "productos_recomendado(dum_coseno,'eb28e67c4c0b83846050ddfb8a35d051',4)\n",
        "productos_recomendado(dum_coseno,'3818d81c6709e39d06b2738a8d3a2474',6)"
      ],
      "execution_count": 0,
      "outputs": [
        {
          "output_type": "stream",
          "text": [
            "+-------------+-------------------------------+-------+------+\n",
            "| customer_id |           product_id          | score | rank |\n",
            "+-------------+-------------------------------+-------+------+\n",
            "|      8      | cfd6c873a8d86ecd3a2cc3b96f... |  0.0  |  1   |\n",
            "|      8      | 6cc859e89d080218ff4416539f... |  0.0  |  2   |\n",
            "|      8      | 1522589c64efd46731d3522568... |  0.0  |  3   |\n",
            "|      8      | f35927953ed82e19d06ad3aac2... |  0.0  |  4   |\n",
            "|      8      | ff2c1ec09b1bb340e84f0d6b21... |  0.0  |  5   |\n",
            "+-------------+-------------------------------+-------+------+\n",
            "[160 rows x 4 columns]\n",
            "\n",
            "+-------------+-------------------------------+-------+------+\n",
            "| customer_id |           product_id          | score | rank |\n",
            "+-------------+-------------------------------+-------+------+\n",
            "|      e      | 6cc859e89d080218ff4416539f... |  0.0  |  1   |\n",
            "|      e      | 1522589c64efd46731d3522568... |  0.0  |  2   |\n",
            "|      e      | f35927953ed82e19d06ad3aac2... |  0.0  |  3   |\n",
            "|      e      | ff2c1ec09b1bb340e84f0d6b21... |  0.0  |  4   |\n",
            "+-------------+-------------------------------+-------+------+\n",
            "[128 rows x 4 columns]\n",
            "\n",
            "+-------------+-------------------------------+-------+------+\n",
            "| customer_id |           product_id          | score | rank |\n",
            "+-------------+-------------------------------+-------+------+\n",
            "|      3      | fb829a6572df5239767c1ccde5... |  0.0  |  1   |\n",
            "|      3      | cfd6c873a8d86ecd3a2cc3b96f... |  0.0  |  2   |\n",
            "|      3      | 6cc859e89d080218ff4416539f... |  0.0  |  3   |\n",
            "|      3      | 1522589c64efd46731d3522568... |  0.0  |  4   |\n",
            "|      3      | f35927953ed82e19d06ad3aac2... |  0.0  |  5   |\n",
            "|      3      | ff2c1ec09b1bb340e84f0d6b21... |  0.0  |  6   |\n",
            "+-------------+-------------------------------+-------+------+\n",
            "[192 rows x 4 columns]\n",
            "\n"
          ],
          "name": "stdout"
        }
      ]
    },
    {
      "cell_type": "code",
      "metadata": {
        "id": "F6am1zKVw0XS",
        "colab_type": "code",
        "colab": {}
      },
      "source": [
        "# Se generan cinco  recomendaciones para un Cliente  con el dataset normalizado\n",
        "productos_recomendado(fac_coseno,'871766c5855e863f6eccc05f988b23cb',5)\n",
        "productos_recomendado(fac_coseno,'eb28e67c4c0b83846050ddfb8a35d051',4)\n",
        "productos_recomendado(fac_coseno,'3818d81c6709e39d06b2738a8d3a2474',6)"
      ],
      "execution_count": 0,
      "outputs": []
    },
    {
      "cell_type": "code",
      "metadata": {
        "id": "bM3u55tOaSOg",
        "colab_type": "code",
        "outputId": "de3da5d6-74eb-419c-c786-a8cf5b4e77d6",
        "colab": {
          "base_uri": "https://localhost:8080/",
          "height": 833
        }
      },
      "source": [
        "# Se generan las recomendaciones por dataset\n",
        "fac_pearson= modelo_requerido('pearson',train_data,'total_frecuencia' )\n",
        "dum_pearson = modelo_requerido('pearson' ,train_data_dummy, 'total_dummy')"
      ],
      "execution_count": 0,
      "outputs": [
        {
          "output_type": "stream",
          "text": [
            "Modelo solicitado:pearson\n"
          ],
          "name": "stdout"
        },
        {
          "output_type": "display_data",
          "data": {
            "text/html": [
              "<pre>Preparing data set.</pre>"
            ],
            "text/plain": [
              "Preparing data set."
            ]
          },
          "metadata": {
            "tags": []
          }
        },
        {
          "output_type": "display_data",
          "data": {
            "text/html": [
              "<pre>    Data has 21361 observations with 14416 users and 2611 items.</pre>"
            ],
            "text/plain": [
              "    Data has 21361 observations with 14416 users and 2611 items."
            ]
          },
          "metadata": {
            "tags": []
          }
        },
        {
          "output_type": "display_data",
          "data": {
            "text/html": [
              "<pre>    Data prepared in: 0.042514s</pre>"
            ],
            "text/plain": [
              "    Data prepared in: 0.042514s"
            ]
          },
          "metadata": {
            "tags": []
          }
        },
        {
          "output_type": "display_data",
          "data": {
            "text/html": [
              "<pre>Training model from provided data.</pre>"
            ],
            "text/plain": [
              "Training model from provided data."
            ]
          },
          "metadata": {
            "tags": []
          }
        },
        {
          "output_type": "display_data",
          "data": {
            "text/html": [
              "<pre>Gathering per-item and per-user statistics.</pre>"
            ],
            "text/plain": [
              "Gathering per-item and per-user statistics."
            ]
          },
          "metadata": {
            "tags": []
          }
        },
        {
          "output_type": "display_data",
          "data": {
            "text/html": [
              "<pre>+--------------------------------+------------+</pre>"
            ],
            "text/plain": [
              "+--------------------------------+------------+"
            ]
          },
          "metadata": {
            "tags": []
          }
        },
        {
          "output_type": "display_data",
          "data": {
            "text/html": [
              "<pre>| Elapsed Time (Item Statistics) | % Complete |</pre>"
            ],
            "text/plain": [
              "| Elapsed Time (Item Statistics) | % Complete |"
            ]
          },
          "metadata": {
            "tags": []
          }
        },
        {
          "output_type": "display_data",
          "data": {
            "text/html": [
              "<pre>+--------------------------------+------------+</pre>"
            ],
            "text/plain": [
              "+--------------------------------+------------+"
            ]
          },
          "metadata": {
            "tags": []
          }
        },
        {
          "output_type": "display_data",
          "data": {
            "text/html": [
              "<pre>| 530us                          | 6.75       |</pre>"
            ],
            "text/plain": [
              "| 530us                          | 6.75       |"
            ]
          },
          "metadata": {
            "tags": []
          }
        },
        {
          "output_type": "display_data",
          "data": {
            "text/html": [
              "<pre>| 3.183ms                        | 100        |</pre>"
            ],
            "text/plain": [
              "| 3.183ms                        | 100        |"
            ]
          },
          "metadata": {
            "tags": []
          }
        },
        {
          "output_type": "display_data",
          "data": {
            "text/html": [
              "<pre>+--------------------------------+------------+</pre>"
            ],
            "text/plain": [
              "+--------------------------------+------------+"
            ]
          },
          "metadata": {
            "tags": []
          }
        },
        {
          "output_type": "display_data",
          "data": {
            "text/html": [
              "<pre>Setting up lookup tables.</pre>"
            ],
            "text/plain": [
              "Setting up lookup tables."
            ]
          },
          "metadata": {
            "tags": []
          }
        },
        {
          "output_type": "display_data",
          "data": {
            "text/html": [
              "<pre>Processing data in one pass using dense lookup tables.</pre>"
            ],
            "text/plain": [
              "Processing data in one pass using dense lookup tables."
            ]
          },
          "metadata": {
            "tags": []
          }
        },
        {
          "output_type": "display_data",
          "data": {
            "text/html": [
              "<pre>+-------------------------------------+------------------+-----------------+</pre>"
            ],
            "text/plain": [
              "+-------------------------------------+------------------+-----------------+"
            ]
          },
          "metadata": {
            "tags": []
          }
        },
        {
          "output_type": "display_data",
          "data": {
            "text/html": [
              "<pre>| Elapsed Time (Constructing Lookups) | Total % Complete | Items Processed |</pre>"
            ],
            "text/plain": [
              "| Elapsed Time (Constructing Lookups) | Total % Complete | Items Processed |"
            ]
          },
          "metadata": {
            "tags": []
          }
        },
        {
          "output_type": "display_data",
          "data": {
            "text/html": [
              "<pre>+-------------------------------------+------------------+-----------------+</pre>"
            ],
            "text/plain": [
              "+-------------------------------------+------------------+-----------------+"
            ]
          },
          "metadata": {
            "tags": []
          }
        },
        {
          "output_type": "display_data",
          "data": {
            "text/html": [
              "<pre>| 17.904ms                            | 0                | 0               |</pre>"
            ],
            "text/plain": [
              "| 17.904ms                            | 0                | 0               |"
            ]
          },
          "metadata": {
            "tags": []
          }
        },
        {
          "output_type": "display_data",
          "data": {
            "text/html": [
              "<pre>| 137.73ms                            | 100              | 2611            |</pre>"
            ],
            "text/plain": [
              "| 137.73ms                            | 100              | 2611            |"
            ]
          },
          "metadata": {
            "tags": []
          }
        },
        {
          "output_type": "display_data",
          "data": {
            "text/html": [
              "<pre>+-------------------------------------+------------------+-----------------+</pre>"
            ],
            "text/plain": [
              "+-------------------------------------+------------------+-----------------+"
            ]
          },
          "metadata": {
            "tags": []
          }
        },
        {
          "output_type": "display_data",
          "data": {
            "text/html": [
              "<pre>Finalizing lookup tables.</pre>"
            ],
            "text/plain": [
              "Finalizing lookup tables."
            ]
          },
          "metadata": {
            "tags": []
          }
        },
        {
          "output_type": "display_data",
          "data": {
            "text/html": [
              "<pre>Generating candidate set for working with new users.</pre>"
            ],
            "text/plain": [
              "Generating candidate set for working with new users."
            ]
          },
          "metadata": {
            "tags": []
          }
        },
        {
          "output_type": "display_data",
          "data": {
            "text/html": [
              "<pre>Finished training in 0.14342s</pre>"
            ],
            "text/plain": [
              "Finished training in 0.14342s"
            ]
          },
          "metadata": {
            "tags": []
          }
        },
        {
          "output_type": "stream",
          "text": [
            "Modelo solicitado:pearson\n"
          ],
          "name": "stdout"
        },
        {
          "output_type": "display_data",
          "data": {
            "text/html": [
              "<pre>Warning: Ignoring columns cantidad;</pre>"
            ],
            "text/plain": [
              "Warning: Ignoring columns cantidad;"
            ]
          },
          "metadata": {
            "tags": []
          }
        },
        {
          "output_type": "display_data",
          "data": {
            "text/html": [
              "<pre>    To use these columns in scoring predictions, use a model that allows the use of additional features.</pre>"
            ],
            "text/plain": [
              "    To use these columns in scoring predictions, use a model that allows the use of additional features."
            ]
          },
          "metadata": {
            "tags": []
          }
        },
        {
          "output_type": "display_data",
          "data": {
            "text/html": [
              "<pre>Preparing data set.</pre>"
            ],
            "text/plain": [
              "Preparing data set."
            ]
          },
          "metadata": {
            "tags": []
          }
        },
        {
          "output_type": "display_data",
          "data": {
            "text/html": [
              "<pre>    Data has 12723 observations with 12343 users and 7951 items.</pre>"
            ],
            "text/plain": [
              "    Data has 12723 observations with 12343 users and 7951 items."
            ]
          },
          "metadata": {
            "tags": []
          }
        },
        {
          "output_type": "display_data",
          "data": {
            "text/html": [
              "<pre>    Data prepared in: 0.03455s</pre>"
            ],
            "text/plain": [
              "    Data prepared in: 0.03455s"
            ]
          },
          "metadata": {
            "tags": []
          }
        },
        {
          "output_type": "display_data",
          "data": {
            "text/html": [
              "<pre>Training model from provided data.</pre>"
            ],
            "text/plain": [
              "Training model from provided data."
            ]
          },
          "metadata": {
            "tags": []
          }
        },
        {
          "output_type": "display_data",
          "data": {
            "text/html": [
              "<pre>Gathering per-item and per-user statistics.</pre>"
            ],
            "text/plain": [
              "Gathering per-item and per-user statistics."
            ]
          },
          "metadata": {
            "tags": []
          }
        },
        {
          "output_type": "display_data",
          "data": {
            "text/html": [
              "<pre>+--------------------------------+------------+</pre>"
            ],
            "text/plain": [
              "+--------------------------------+------------+"
            ]
          },
          "metadata": {
            "tags": []
          }
        },
        {
          "output_type": "display_data",
          "data": {
            "text/html": [
              "<pre>| Elapsed Time (Item Statistics) | % Complete |</pre>"
            ],
            "text/plain": [
              "| Elapsed Time (Item Statistics) | % Complete |"
            ]
          },
          "metadata": {
            "tags": []
          }
        },
        {
          "output_type": "display_data",
          "data": {
            "text/html": [
              "<pre>+--------------------------------+------------+</pre>"
            ],
            "text/plain": [
              "+--------------------------------+------------+"
            ]
          },
          "metadata": {
            "tags": []
          }
        },
        {
          "output_type": "display_data",
          "data": {
            "text/html": [
              "<pre>| 1.3ms                          | 8          |</pre>"
            ],
            "text/plain": [
              "| 1.3ms                          | 8          |"
            ]
          },
          "metadata": {
            "tags": []
          }
        },
        {
          "output_type": "display_data",
          "data": {
            "text/html": [
              "<pre>| 2.799ms                        | 100        |</pre>"
            ],
            "text/plain": [
              "| 2.799ms                        | 100        |"
            ]
          },
          "metadata": {
            "tags": []
          }
        },
        {
          "output_type": "display_data",
          "data": {
            "text/html": [
              "<pre>+--------------------------------+------------+</pre>"
            ],
            "text/plain": [
              "+--------------------------------+------------+"
            ]
          },
          "metadata": {
            "tags": []
          }
        },
        {
          "output_type": "display_data",
          "data": {
            "text/html": [
              "<pre>Setting up lookup tables.</pre>"
            ],
            "text/plain": [
              "Setting up lookup tables."
            ]
          },
          "metadata": {
            "tags": []
          }
        },
        {
          "output_type": "display_data",
          "data": {
            "text/html": [
              "<pre>Processing data in one pass using dense lookup tables.</pre>"
            ],
            "text/plain": [
              "Processing data in one pass using dense lookup tables."
            ]
          },
          "metadata": {
            "tags": []
          }
        },
        {
          "output_type": "display_data",
          "data": {
            "text/html": [
              "<pre>+-------------------------------------+------------------+-----------------+</pre>"
            ],
            "text/plain": [
              "+-------------------------------------+------------------+-----------------+"
            ]
          },
          "metadata": {
            "tags": []
          }
        },
        {
          "output_type": "display_data",
          "data": {
            "text/html": [
              "<pre>| Elapsed Time (Constructing Lookups) | Total % Complete | Items Processed |</pre>"
            ],
            "text/plain": [
              "| Elapsed Time (Constructing Lookups) | Total % Complete | Items Processed |"
            ]
          },
          "metadata": {
            "tags": []
          }
        },
        {
          "output_type": "display_data",
          "data": {
            "text/html": [
              "<pre>+-------------------------------------+------------------+-----------------+</pre>"
            ],
            "text/plain": [
              "+-------------------------------------+------------------+-----------------+"
            ]
          },
          "metadata": {
            "tags": []
          }
        },
        {
          "output_type": "display_data",
          "data": {
            "text/html": [
              "<pre>| 79.402ms                            | 0                | 0               |</pre>"
            ],
            "text/plain": [
              "| 79.402ms                            | 0                | 0               |"
            ]
          },
          "metadata": {
            "tags": []
          }
        },
        {
          "output_type": "display_data",
          "data": {
            "text/html": [
              "<pre>| 333.136ms                           | 100              | 7951            |</pre>"
            ],
            "text/plain": [
              "| 333.136ms                           | 100              | 7951            |"
            ]
          },
          "metadata": {
            "tags": []
          }
        },
        {
          "output_type": "display_data",
          "data": {
            "text/html": [
              "<pre>+-------------------------------------+------------------+-----------------+</pre>"
            ],
            "text/plain": [
              "+-------------------------------------+------------------+-----------------+"
            ]
          },
          "metadata": {
            "tags": []
          }
        },
        {
          "output_type": "display_data",
          "data": {
            "text/html": [
              "<pre>Finalizing lookup tables.</pre>"
            ],
            "text/plain": [
              "Finalizing lookup tables."
            ]
          },
          "metadata": {
            "tags": []
          }
        },
        {
          "output_type": "display_data",
          "data": {
            "text/html": [
              "<pre>Generating candidate set for working with new users.</pre>"
            ],
            "text/plain": [
              "Generating candidate set for working with new users."
            ]
          },
          "metadata": {
            "tags": []
          }
        },
        {
          "output_type": "display_data",
          "data": {
            "text/html": [
              "<pre>Finished training in 0.33926s</pre>"
            ],
            "text/plain": [
              "Finished training in 0.33926s"
            ]
          },
          "metadata": {
            "tags": []
          }
        }
      ]
    },
    {
      "cell_type": "code",
      "metadata": {
        "id": "JtGtNTB8aU1U",
        "colab_type": "code",
        "outputId": "e2b35858-0db7-4432-f6fe-2a45243d0a3e",
        "colab": {
          "base_uri": "https://localhost:8080/",
          "height": 578
        }
      },
      "source": [
        "# Se generan cinco  recomendaciones para un Cliente  con el dataset normalizado\n",
        "productos_recomendado(fac_pearson,'0005ef4cd20d2893f0d9fbd94d3c0d97',5)\n",
        "productos_recomendado(fac_pearson,'eb28e67c4c0b83846050ddfb8a35d051',4)\n",
        "productos_recomendado(fac_pearson,'3818d81c6709e39d06b2738a8d3a2474',6)\n",
        "\n"
      ],
      "execution_count": 0,
      "outputs": [
        {
          "output_type": "stream",
          "text": [
            "+-------------+-------------------------------+-------+------+\n",
            "| customer_id |           product_id          | score | rank |\n",
            "+-------------+-------------------------------+-------+------+\n",
            "|      0      | 985c412b0ac92ed9d8a76bbeab... |  1.0  |  1   |\n",
            "|      0      | 2bc88b31190908684ebece09e5... |  1.0  |  2   |\n",
            "|      0      | a8b89693eabf7221621a71285e... |  1.0  |  3   |\n",
            "|      0      | 4563095e06df1fa67de2eade86... |  1.0  |  4   |\n",
            "|      0      | 6bd90496e4292446cceb64b93d... |  1.0  |  5   |\n",
            "+-------------+-------------------------------+-------+------+\n",
            "[160 rows x 4 columns]\n",
            "\n",
            "+-------------+-------------------------------+-------+------+\n",
            "| customer_id |           product_id          | score | rank |\n",
            "+-------------+-------------------------------+-------+------+\n",
            "|      e      | 2bc88b31190908684ebece09e5... |  1.0  |  1   |\n",
            "|      e      | a8b89693eabf7221621a71285e... |  1.0  |  2   |\n",
            "|      e      | 4563095e06df1fa67de2eade86... |  1.0  |  3   |\n",
            "|      e      | 6bd90496e4292446cceb64b93d... |  1.0  |  4   |\n",
            "+-------------+-------------------------------+-------+------+\n",
            "[128 rows x 4 columns]\n",
            "\n",
            "+-------------+-------------------------------+-------+------+\n",
            "| customer_id |           product_id          | score | rank |\n",
            "+-------------+-------------------------------+-------+------+\n",
            "|      3      | b0528299d65ab35e3ed853f6a8... |  1.0  |  1   |\n",
            "|      3      | 985c412b0ac92ed9d8a76bbeab... |  1.0  |  2   |\n",
            "|      3      | 2bc88b31190908684ebece09e5... |  1.0  |  3   |\n",
            "|      3      | a8b89693eabf7221621a71285e... |  1.0  |  4   |\n",
            "|      3      | 4563095e06df1fa67de2eade86... |  1.0  |  5   |\n",
            "|      3      | 6bd90496e4292446cceb64b93d... |  1.0  |  6   |\n",
            "+-------------+-------------------------------+-------+------+\n",
            "[192 rows x 4 columns]\n",
            "\n"
          ],
          "name": "stdout"
        }
      ]
    },
    {
      "cell_type": "code",
      "metadata": {
        "id": "J_U2V9CE7yIY",
        "colab_type": "code",
        "outputId": "cfa2ff3c-738e-44f4-d78a-97130a529068",
        "colab": {
          "base_uri": "https://localhost:8080/",
          "height": 578
        }
      },
      "source": [
        "# Se generan cinco  recomendaciones para un Cliente  con el dataset referencia\n",
        "productos_recomendado(dum_pearson,'871766c5855e863f6eccc05f988b23cb',5)\n",
        "productos_recomendado(dum_pearson,'eb28e67c4c0b83846050ddfb8a35d051',4)\n",
        "productos_recomendado(dum_pearson,'3818d81c6709e39d06b2738a8d3a2474',6)"
      ],
      "execution_count": 0,
      "outputs": [
        {
          "output_type": "stream",
          "text": [
            "+-------------+-------------------------------+-------+------+\n",
            "| customer_id |           product_id          | score | rank |\n",
            "+-------------+-------------------------------+-------+------+\n",
            "|      8      | cfd6c873a8d86ecd3a2cc3b96f... |  0.0  |  1   |\n",
            "|      8      | 6cc859e89d080218ff4416539f... |  0.0  |  2   |\n",
            "|      8      | 1522589c64efd46731d3522568... |  0.0  |  3   |\n",
            "|      8      | f35927953ed82e19d06ad3aac2... |  0.0  |  4   |\n",
            "|      8      | ff2c1ec09b1bb340e84f0d6b21... |  0.0  |  5   |\n",
            "+-------------+-------------------------------+-------+------+\n",
            "[160 rows x 4 columns]\n",
            "\n",
            "+-------------+-------------------------------+-------+------+\n",
            "| customer_id |           product_id          | score | rank |\n",
            "+-------------+-------------------------------+-------+------+\n",
            "|      e      | 6cc859e89d080218ff4416539f... |  0.0  |  1   |\n",
            "|      e      | 1522589c64efd46731d3522568... |  0.0  |  2   |\n",
            "|      e      | f35927953ed82e19d06ad3aac2... |  0.0  |  3   |\n",
            "|      e      | ff2c1ec09b1bb340e84f0d6b21... |  0.0  |  4   |\n",
            "+-------------+-------------------------------+-------+------+\n",
            "[128 rows x 4 columns]\n",
            "\n",
            "+-------------+-------------------------------+-------+------+\n",
            "| customer_id |           product_id          | score | rank |\n",
            "+-------------+-------------------------------+-------+------+\n",
            "|      3      | fb829a6572df5239767c1ccde5... |  0.0  |  1   |\n",
            "|      3      | cfd6c873a8d86ecd3a2cc3b96f... |  0.0  |  2   |\n",
            "|      3      | 6cc859e89d080218ff4416539f... |  0.0  |  3   |\n",
            "|      3      | 1522589c64efd46731d3522568... |  0.0  |  4   |\n",
            "|      3      | f35927953ed82e19d06ad3aac2... |  0.0  |  5   |\n",
            "|      3      | ff2c1ec09b1bb340e84f0d6b21... |  0.0  |  6   |\n",
            "+-------------+-------------------------------+-------+------+\n",
            "[192 rows x 4 columns]\n",
            "\n"
          ],
          "name": "stdout"
        }
      ]
    },
    {
      "cell_type": "markdown",
      "metadata": {
        "id": "rt1oYyEtGEn3",
        "colab_type": "text"
      },
      "source": [
        "### 1.5 Evaluación de Modelos \n",
        "Con el fin de establecer cual es el mejor modelo entre los tres probados, se realiza una validación de estos de forma conjunta "
      ]
    },
    {
      "cell_type": "code",
      "metadata": {
        "id": "tIVMOHxIa19d",
        "colab_type": "code",
        "outputId": "eeeb8553-675b-4ba7-9610-25509b907717",
        "colab": {
          "base_uri": "https://localhost:8080/",
          "height": 1000
        }
      },
      "source": [
        "evaluacion_modelos('normalizado',test_data)"
      ],
      "execution_count": 0,
      "outputs": [
        {
          "output_type": "stream",
          "text": [
            "PROGRESS: Evaluate model Modelo basado en contenido\n"
          ],
          "name": "stdout"
        },
        {
          "output_type": "display_data",
          "data": {
            "text/html": [
              "<pre>recommendations finished on 1000/3540 queries. users per second: 80076.9</pre>"
            ],
            "text/plain": [
              "recommendations finished on 1000/3540 queries. users per second: 80076.9"
            ]
          },
          "metadata": {
            "tags": []
          }
        },
        {
          "output_type": "display_data",
          "data": {
            "text/html": [
              "<pre>recommendations finished on 2000/3540 queries. users per second: 77178.4</pre>"
            ],
            "text/plain": [
              "recommendations finished on 2000/3540 queries. users per second: 77178.4"
            ]
          },
          "metadata": {
            "tags": []
          }
        },
        {
          "output_type": "display_data",
          "data": {
            "text/html": [
              "<pre>recommendations finished on 3000/3540 queries. users per second: 76151.8</pre>"
            ],
            "text/plain": [
              "recommendations finished on 3000/3540 queries. users per second: 76151.8"
            ]
          },
          "metadata": {
            "tags": []
          }
        },
        {
          "output_type": "stream",
          "text": [
            "\n",
            "Precision and recall summary statistics by cutoff\n",
            "+--------+-----------------------+-----------------------+\n",
            "| cutoff |     mean_precision    |      mean_recall      |\n",
            "+--------+-----------------------+-----------------------+\n",
            "|   1    | 0.0008474576271186458 | 0.0005657435707449598 |\n",
            "|   2    | 0.0007062146892655379 | 0.0008490012657837045 |\n",
            "|   3    | 0.0007532956685499077 | 0.0014147448365286626 |\n",
            "|   4    | 0.0007768361581920927 |  0.001980488407273632 |\n",
            "|   5    | 0.0008474576271186477 | 0.0026874749158716927 |\n",
            "|   6    | 0.0008474576271186435 | 0.0029707326109104444 |\n",
            "|   7    | 0.0008474576271186458 |  0.003536476181655398 |\n",
            "|   8    |  0.00077683615819209  |  0.003537248000987936 |\n",
            "|   9    | 0.0008160703075957321 |  0.004102991571732884 |\n",
            "|   10   | 0.0008192090395480234 |  0.004527492204624739 |\n",
            "+--------+-----------------------+-----------------------+\n",
            "[10 rows x 3 columns]\n",
            "\n",
            "\n",
            "Overall RMSE: 0.35368532108225\n",
            "\n",
            "Per User RMSE (best)\n",
            "+-------------------------------+------+-------+\n",
            "|          customer_id          | rmse | count |\n",
            "+-------------------------------+------+-------+\n",
            "| 74ad7441d374e44fcdf9938fab... | 0.0  |   1   |\n",
            "+-------------------------------+------+-------+\n",
            "[1 rows x 3 columns]\n",
            "\n",
            "\n",
            "Per User RMSE (worst)\n",
            "+-------------------------------+------+-------+\n",
            "|          customer_id          | rmse | count |\n",
            "+-------------------------------+------+-------+\n",
            "| 7738c1fd7e3b64b02ebac8389f... | 1.0  |   1   |\n",
            "+-------------------------------+------+-------+\n",
            "[1 rows x 3 columns]\n",
            "\n",
            "\n",
            "Per Item RMSE (best)\n",
            "+-------------------------------+------+-------+\n",
            "|           product_id          | rmse | count |\n",
            "+-------------------------------+------+-------+\n",
            "| d5140e1d258c83a340419c6522... | 0.0  |   1   |\n",
            "+-------------------------------+------+-------+\n",
            "[1 rows x 3 columns]\n",
            "\n",
            "\n",
            "Per Item RMSE (worst)\n",
            "+-------------------------------+------+-------+\n",
            "|           product_id          | rmse | count |\n",
            "+-------------------------------+------+-------+\n",
            "| c1f5307decb89342351bec5366... | 1.0  |   2   |\n",
            "+-------------------------------+------+-------+\n",
            "[1 rows x 3 columns]\n",
            "\n",
            "PROGRESS: Evaluate model Modelo Colaborativo - Distancia Coseno\n"
          ],
          "name": "stdout"
        },
        {
          "output_type": "display_data",
          "data": {
            "text/html": [
              "<pre>recommendations finished on 1000/3540 queries. users per second: 58575.4</pre>"
            ],
            "text/plain": [
              "recommendations finished on 1000/3540 queries. users per second: 58575.4"
            ]
          },
          "metadata": {
            "tags": []
          }
        },
        {
          "output_type": "display_data",
          "data": {
            "text/html": [
              "<pre>recommendations finished on 2000/3540 queries. users per second: 50888</pre>"
            ],
            "text/plain": [
              "recommendations finished on 2000/3540 queries. users per second: 50888"
            ]
          },
          "metadata": {
            "tags": []
          }
        },
        {
          "output_type": "display_data",
          "data": {
            "text/html": [
              "<pre>recommendations finished on 3000/3540 queries. users per second: 50194.9</pre>"
            ],
            "text/plain": [
              "recommendations finished on 3000/3540 queries. users per second: 50194.9"
            ]
          },
          "metadata": {
            "tags": []
          }
        },
        {
          "output_type": "stream",
          "text": [
            "\n",
            "Precision and recall summary statistics by cutoff\n",
            "+--------+-----------------------+----------------------+\n",
            "| cutoff |     mean_precision    |     mean_recall      |\n",
            "+--------+-----------------------+----------------------+\n",
            "|   1    |  0.029096045197740155 | 0.02881433114136646  |\n",
            "|   2    |  0.015536723163841828 | 0.03051001821493618  |\n",
            "|   3    |  0.010734463276836153 |  0.0312170047235342  |\n",
            "|   4    |  0.008121468926553656 | 0.031217776542866903 |\n",
            "|   5    |  0.006723163841807925 | 0.03192476305146492  |\n",
            "|   6    |  0.005649717514124294 | 0.03192553487079736  |\n",
            "|   7    |  0.004923325262308325 | 0.03206754962798315  |\n",
            "|   8    |  0.004343220338983058 | 0.032068321447315674 |\n",
            "|   9    |  0.003954802259886982 | 0.032634065018060404 |\n",
            "|   10   | 0.0036158192090395623 | 0.032917322713099266 |\n",
            "+--------+-----------------------+----------------------+\n",
            "[10 rows x 3 columns]\n",
            "\n",
            "\n",
            "Overall RMSE: 0.29733332331030304\n",
            "\n",
            "Per User RMSE (best)\n",
            "+-------------------------------+------+-------+\n",
            "|          customer_id          | rmse | count |\n",
            "+-------------------------------+------+-------+\n",
            "| a55d6a572f9ed8a230f10665db... | 0.0  |   1   |\n",
            "+-------------------------------+------+-------+\n",
            "[1 rows x 3 columns]\n",
            "\n",
            "\n",
            "Per User RMSE (worst)\n",
            "+-------------+--------------------+-------+\n",
            "| customer_id |        rmse        | count |\n",
            "+-------------+--------------------+-------+\n",
            "| total_value | 0.9999999954119911 |  366  |\n",
            "+-------------+--------------------+-------+\n",
            "[1 rows x 3 columns]\n",
            "\n",
            "\n",
            "Per Item RMSE (best)\n",
            "+-------------------------------+------+-------+\n",
            "|           product_id          | rmse | count |\n",
            "+-------------------------------+------+-------+\n",
            "| 4c7d4a2efde21e3bf1660926fa... | 0.0  |   1   |\n",
            "+-------------------------------+------+-------+\n",
            "[1 rows x 3 columns]\n",
            "\n",
            "\n",
            "Per Item RMSE (worst)\n",
            "+-------------------------------+------+-------+\n",
            "|           product_id          | rmse | count |\n",
            "+-------------------------------+------+-------+\n",
            "| 1164c17af70425821f88bfbdc9... | 1.0  |   1   |\n",
            "+-------------------------------+------+-------+\n",
            "[1 rows x 3 columns]\n",
            "\n",
            "PROGRESS: Evaluate model Modelo Colaborativo - Pearson\n"
          ],
          "name": "stdout"
        },
        {
          "output_type": "display_data",
          "data": {
            "text/html": [
              "<pre>recommendations finished on 1000/3540 queries. users per second: 56650.8</pre>"
            ],
            "text/plain": [
              "recommendations finished on 1000/3540 queries. users per second: 56650.8"
            ]
          },
          "metadata": {
            "tags": []
          }
        },
        {
          "output_type": "display_data",
          "data": {
            "text/html": [
              "<pre>recommendations finished on 2000/3540 queries. users per second: 52987.2</pre>"
            ],
            "text/plain": [
              "recommendations finished on 2000/3540 queries. users per second: 52987.2"
            ]
          },
          "metadata": {
            "tags": []
          }
        },
        {
          "output_type": "display_data",
          "data": {
            "text/html": [
              "<pre>recommendations finished on 3000/3540 queries. users per second: 52453.1</pre>"
            ],
            "text/plain": [
              "recommendations finished on 3000/3540 queries. users per second: 52453.1"
            ]
          },
          "metadata": {
            "tags": []
          }
        },
        {
          "output_type": "stream",
          "text": [
            "\n",
            "Precision and recall summary statistics by cutoff\n",
            "+--------+-----------------------+-----------------------+\n",
            "| cutoff |     mean_precision    |      mean_recall      |\n",
            "+--------+-----------------------+-----------------------+\n",
            "|   1    | 0.0008474576271186461 | 0.0005657435707449604 |\n",
            "|   2    |  0.000706214689265538 | 0.0008490012657837039 |\n",
            "|   3    |  0.000753295668549908 | 0.0014147448365286633 |\n",
            "|   4    | 0.0007768361581920934 |  0.001980488407273632 |\n",
            "|   5    | 0.0008474576271186472 | 0.0026874749158716914 |\n",
            "|   6    | 0.0008474576271186445 | 0.0029707326109104427 |\n",
            "|   7    | 0.0008474576271186474 |  0.003536476181655398 |\n",
            "|   8    | 0.0007768361581920886 | 0.0035372480009879387 |\n",
            "|   9    | 0.0008160703075957321 |  0.004102991571732876 |\n",
            "|   10   | 0.0008192090395480232 |  0.004527492204624734 |\n",
            "+--------+-----------------------+-----------------------+\n",
            "[10 rows x 3 columns]\n",
            "\n",
            "\n",
            "Overall RMSE: 0.3616483307276593\n",
            "\n",
            "Per User RMSE (best)\n",
            "+-------------------------------+------+-------+\n",
            "|          customer_id          | rmse | count |\n",
            "+-------------------------------+------+-------+\n",
            "| 74ad7441d374e44fcdf9938fab... | 0.0  |   1   |\n",
            "+-------------------------------+------+-------+\n",
            "[1 rows x 3 columns]\n",
            "\n",
            "\n",
            "Per User RMSE (worst)\n",
            "+-------------------------------+------+-------+\n",
            "|          customer_id          | rmse | count |\n",
            "+-------------------------------+------+-------+\n",
            "| 7738c1fd7e3b64b02ebac8389f... | 1.0  |   1   |\n",
            "+-------------------------------+------+-------+\n",
            "[1 rows x 3 columns]\n",
            "\n",
            "\n",
            "Per Item RMSE (best)\n",
            "+-------------------------------+------+-------+\n",
            "|           product_id          | rmse | count |\n",
            "+-------------------------------+------+-------+\n",
            "| d5140e1d258c83a340419c6522... | 0.0  |   1   |\n",
            "+-------------------------------+------+-------+\n",
            "[1 rows x 3 columns]\n",
            "\n",
            "\n",
            "Per Item RMSE (worst)\n",
            "+-------------------------------+------+-------+\n",
            "|           product_id          | rmse | count |\n",
            "+-------------------------------+------+-------+\n",
            "| c1f5307decb89342351bec5366... | 1.0  |   2   |\n",
            "+-------------------------------+------+-------+\n",
            "[1 rows x 3 columns]\n",
            "\n"
          ],
          "name": "stdout"
        }
      ]
    },
    {
      "cell_type": "code",
      "metadata": {
        "id": "jbarhzLxexiC",
        "colab_type": "code",
        "outputId": "792e6b52-0183-4fc2-88bd-3be984d9477d",
        "colab": {
          "base_uri": "https://localhost:8080/",
          "height": 1000
        }
      },
      "source": [
        "evaluacion_modelos('dummy',test_data_dummy)  "
      ],
      "execution_count": 0,
      "outputs": [
        {
          "output_type": "stream",
          "text": [
            "PROGRESS: Evaluate model Modelo Dummy basado en contenido\n"
          ],
          "name": "stdout"
        },
        {
          "output_type": "display_data",
          "data": {
            "text/html": [
              "<pre>recommendations finished on 1000/2869 queries. users per second: 47551.1</pre>"
            ],
            "text/plain": [
              "recommendations finished on 1000/2869 queries. users per second: 47551.1"
            ]
          },
          "metadata": {
            "tags": []
          }
        },
        {
          "output_type": "display_data",
          "data": {
            "text/html": [
              "<pre>recommendations finished on 2000/2869 queries. users per second: 45049.1</pre>"
            ],
            "text/plain": [
              "recommendations finished on 2000/2869 queries. users per second: 45049.1"
            ]
          },
          "metadata": {
            "tags": []
          }
        },
        {
          "output_type": "stream",
          "text": [
            "\n",
            "Precision and recall summary statistics by cutoff\n",
            "+--------+------------------------+-----------------------+\n",
            "| cutoff |     mean_precision     |      mean_recall      |\n",
            "+--------+------------------------+-----------------------+\n",
            "|   1    |          0.0           |          0.0          |\n",
            "|   2    |          0.0           |          0.0          |\n",
            "|   3    | 0.00011618450098756866 | 0.0003485535029627069 |\n",
            "|   4    | 8.713837574067672e-05  | 0.0003485535029627069 |\n",
            "|   5    | 6.971070059254129e-05  | 0.0003485535029627069 |\n",
            "|   6    | 5.809225049378433e-05  | 0.0003485535029627069 |\n",
            "|   7    | 9.958671513220173e-05  | 0.0006971070059254119 |\n",
            "|   8    | 0.00013070756361101477 | 0.0010456605088881182 |\n",
            "|   9    | 0.00011618450098756836 | 0.0010456605088881182 |\n",
            "|   10   | 0.00010456605088881173 | 0.0010456605088881177 |\n",
            "+--------+------------------------+-----------------------+\n",
            "[10 rows x 3 columns]\n",
            "\n",
            "\n",
            "Overall RMSE: 0.0\n",
            "\n",
            "Per User RMSE (best)\n",
            "+-------------------------------+------+-------+\n",
            "|          customer_id          | rmse | count |\n",
            "+-------------------------------+------+-------+\n",
            "| a55d6a572f9ed8a230f10665db... | 0.0  |   1   |\n",
            "+-------------------------------+------+-------+\n",
            "[1 rows x 3 columns]\n",
            "\n",
            "\n",
            "Per User RMSE (worst)\n",
            "+-------------------------------+------+-------+\n",
            "|          customer_id          | rmse | count |\n",
            "+-------------------------------+------+-------+\n",
            "| adea59a1abb5ffb0a7ba18bbaa... | 0.0  |   1   |\n",
            "+-------------------------------+------+-------+\n",
            "[1 rows x 3 columns]\n",
            "\n",
            "\n",
            "Per Item RMSE (best)\n",
            "+-------------------------------+------+-------+\n",
            "|           product_id          | rmse | count |\n",
            "+-------------------------------+------+-------+\n",
            "| 9007d9a8a0d332c61d9dd611fa... | 0.0  |   1   |\n",
            "+-------------------------------+------+-------+\n",
            "[1 rows x 3 columns]\n",
            "\n",
            "\n",
            "Per Item RMSE (worst)\n",
            "+-------------------------------+------+-------+\n",
            "|           product_id          | rmse | count |\n",
            "+-------------------------------+------+-------+\n",
            "| 2d2fbde9939c282238dc0847b0... | 0.0  |   1   |\n",
            "+-------------------------------+------+-------+\n",
            "[1 rows x 3 columns]\n",
            "\n",
            "PROGRESS: Evaluate model Modelo Dummy Colaborativo - Distancia Coseno\n"
          ],
          "name": "stdout"
        },
        {
          "output_type": "display_data",
          "data": {
            "text/html": [
              "<pre>recommendations finished on 1000/2869 queries. users per second: 39217.2</pre>"
            ],
            "text/plain": [
              "recommendations finished on 1000/2869 queries. users per second: 39217.2"
            ]
          },
          "metadata": {
            "tags": []
          }
        },
        {
          "output_type": "display_data",
          "data": {
            "text/html": [
              "<pre>recommendations finished on 2000/2869 queries. users per second: 37234.9</pre>"
            ],
            "text/plain": [
              "recommendations finished on 2000/2869 queries. users per second: 37234.9"
            ]
          },
          "metadata": {
            "tags": []
          }
        },
        {
          "output_type": "stream",
          "text": [
            "\n",
            "Precision and recall summary statistics by cutoff\n",
            "+--------+------------------------+-----------------------+\n",
            "| cutoff |     mean_precision     |      mean_recall      |\n",
            "+--------+------------------------+-----------------------+\n",
            "|   1    | 0.0013942140118508254  | 0.0013942140118508254 |\n",
            "|   2    | 0.0006971070059254127  | 0.0013942140118508254 |\n",
            "|   3    | 0.0005809225049378404  |  0.001742767514813529 |\n",
            "|   4    | 0.00043569187870338223 |  0.001742767514813529 |\n",
            "|   5    | 0.00034855350296270575 | 0.0017427675148135294 |\n",
            "|   6    | 0.0002904612524689202  | 0.0017427675148135294 |\n",
            "|   7    | 0.0002987601453966049  | 0.0020913210177762346 |\n",
            "|   8    | 0.00030498431509236757 | 0.0024398745207389405 |\n",
            "|   9    | 0.00027109716897099245 | 0.0024398745207389405 |\n",
            "|   10   | 0.00024398745207389444 | 0.0024398745207389392 |\n",
            "+--------+------------------------+-----------------------+\n",
            "[10 rows x 3 columns]\n",
            "\n",
            "\n",
            "Overall RMSE: 0.9960470182500112\n",
            "\n",
            "Per User RMSE (best)\n",
            "+-------------------------------+------+-------+\n",
            "|          customer_id          | rmse | count |\n",
            "+-------------------------------+------+-------+\n",
            "| db9a58053c3f7ab8be9970e6b2... | 0.25 |   3   |\n",
            "+-------------------------------+------+-------+\n",
            "[1 rows x 3 columns]\n",
            "\n",
            "\n",
            "Per User RMSE (worst)\n",
            "+-------------------------------+------+-------+\n",
            "|          customer_id          | rmse | count |\n",
            "+-------------------------------+------+-------+\n",
            "| adea59a1abb5ffb0a7ba18bbaa... | 1.0  |   1   |\n",
            "+-------------------------------+------+-------+\n",
            "[1 rows x 3 columns]\n",
            "\n",
            "\n",
            "Per Item RMSE (best)\n",
            "+-------------------------------+------+-------+\n",
            "|           product_id          | rmse | count |\n",
            "+-------------------------------+------+-------+\n",
            "| 83e2059df06602e05d9bc1abf2... | 0.25 |   1   |\n",
            "+-------------------------------+------+-------+\n",
            "[1 rows x 3 columns]\n",
            "\n",
            "\n",
            "Per Item RMSE (worst)\n",
            "+-------------------------------+------+-------+\n",
            "|           product_id          | rmse | count |\n",
            "+-------------------------------+------+-------+\n",
            "| 2d2fbde9939c282238dc0847b0... | 1.0  |   1   |\n",
            "+-------------------------------+------+-------+\n",
            "[1 rows x 3 columns]\n",
            "\n",
            "PROGRESS: Evaluate model Modelo Dummy Colaborativo - Pearson\n"
          ],
          "name": "stdout"
        },
        {
          "output_type": "display_data",
          "data": {
            "text/html": [
              "<pre>recommendations finished on 1000/2869 queries. users per second: 33644</pre>"
            ],
            "text/plain": [
              "recommendations finished on 1000/2869 queries. users per second: 33644"
            ]
          },
          "metadata": {
            "tags": []
          }
        },
        {
          "output_type": "display_data",
          "data": {
            "text/html": [
              "<pre>recommendations finished on 2000/2869 queries. users per second: 32144</pre>"
            ],
            "text/plain": [
              "recommendations finished on 2000/2869 queries. users per second: 32144"
            ]
          },
          "metadata": {
            "tags": []
          }
        },
        {
          "output_type": "stream",
          "text": [
            "\n",
            "Precision and recall summary statistics by cutoff\n",
            "+--------+------------------------+-----------------------+\n",
            "| cutoff |     mean_precision     |      mean_recall      |\n",
            "+--------+------------------------+-----------------------+\n",
            "|   1    |          0.0           |          0.0          |\n",
            "|   2    |          0.0           |          0.0          |\n",
            "|   3    | 0.00011618450098756831 | 0.0003485535029627051 |\n",
            "|   4    | 8.713837574067628e-05  | 0.0003485535029627051 |\n",
            "|   5    |  6.97107005925411e-05  | 0.0003485535029627051 |\n",
            "|   6    | 5.8092250493784154e-05 | 0.0003485535029627051 |\n",
            "|   7    | 9.958671513220154e-05  | 0.0006971070059254107 |\n",
            "|   8    | 0.0001307075636110146  | 0.0010456605088881169 |\n",
            "|   9    | 0.00011618450098756839 | 0.0010456605088881169 |\n",
            "|   10   | 0.00010456605088881179 | 0.0010456605088881169 |\n",
            "+--------+------------------------+-----------------------+\n",
            "[10 rows x 3 columns]\n",
            "\n",
            "\n",
            "Overall RMSE: 1.0\n",
            "\n",
            "Per User RMSE (best)\n",
            "+-------------------------------+------+-------+\n",
            "|          customer_id          | rmse | count |\n",
            "+-------------------------------+------+-------+\n",
            "| a55d6a572f9ed8a230f10665db... | 1.0  |   1   |\n",
            "+-------------------------------+------+-------+\n",
            "[1 rows x 3 columns]\n",
            "\n",
            "\n",
            "Per User RMSE (worst)\n",
            "+-------------------------------+------+-------+\n",
            "|          customer_id          | rmse | count |\n",
            "+-------------------------------+------+-------+\n",
            "| adea59a1abb5ffb0a7ba18bbaa... | 1.0  |   1   |\n",
            "+-------------------------------+------+-------+\n",
            "[1 rows x 3 columns]\n",
            "\n",
            "\n",
            "Per Item RMSE (best)\n",
            "+-------------------------------+------+-------+\n",
            "|           product_id          | rmse | count |\n",
            "+-------------------------------+------+-------+\n",
            "| 9007d9a8a0d332c61d9dd611fa... | 1.0  |   1   |\n",
            "+-------------------------------+------+-------+\n",
            "[1 rows x 3 columns]\n",
            "\n",
            "\n",
            "Per Item RMSE (worst)\n",
            "+-------------------------------+------+-------+\n",
            "|           product_id          | rmse | count |\n",
            "+-------------------------------+------+-------+\n",
            "| 2d2fbde9939c282238dc0847b0... | 1.0  |   1   |\n",
            "+-------------------------------+------+-------+\n",
            "[1 rows x 3 columns]\n",
            "\n"
          ],
          "name": "stdout"
        }
      ]
    },
    {
      "cell_type": "markdown",
      "metadata": {
        "id": "0eS0qbkHwduk",
        "colab_type": "text"
      },
      "source": [
        "### 1.6 Exportar recomendaciones\n",
        "Con los resultado obtenidos podemos identificar que el mejor modelo es el Pearson, por tal motivo se exporta su información . "
      ]
    },
    {
      "cell_type": "code",
      "metadata": {
        "id": "u7JAws8Yc6F2",
        "colab_type": "code",
        "outputId": "d69110a6-19c3-4c06-a9c2-3fed2c2fd4b2",
        "colab": {
          "base_uri": "https://localhost:8080/",
          "height": 1000
        }
      },
      "source": [
        "exportarRecomendaciones(fac_pearson,datos_clientes.customer_id)"
      ],
      "execution_count": 0,
      "outputs": [
        {
          "output_type": "display_data",
          "data": {
            "text/html": [
              "<pre>recommendations finished on 1000/96352 queries. users per second: 65299.7</pre>"
            ],
            "text/plain": [
              "recommendations finished on 1000/96352 queries. users per second: 65299.7"
            ]
          },
          "metadata": {
            "tags": []
          }
        },
        {
          "output_type": "display_data",
          "data": {
            "text/html": [
              "<pre>recommendations finished on 2000/96352 queries. users per second: 64576.5</pre>"
            ],
            "text/plain": [
              "recommendations finished on 2000/96352 queries. users per second: 64576.5"
            ]
          },
          "metadata": {
            "tags": []
          }
        },
        {
          "output_type": "display_data",
          "data": {
            "text/html": [
              "<pre>recommendations finished on 3000/96352 queries. users per second: 64448.2</pre>"
            ],
            "text/plain": [
              "recommendations finished on 3000/96352 queries. users per second: 64448.2"
            ]
          },
          "metadata": {
            "tags": []
          }
        },
        {
          "output_type": "display_data",
          "data": {
            "text/html": [
              "<pre>recommendations finished on 4000/96352 queries. users per second: 64197.2</pre>"
            ],
            "text/plain": [
              "recommendations finished on 4000/96352 queries. users per second: 64197.2"
            ]
          },
          "metadata": {
            "tags": []
          }
        },
        {
          "output_type": "display_data",
          "data": {
            "text/html": [
              "<pre>recommendations finished on 5000/96352 queries. users per second: 63987.7</pre>"
            ],
            "text/plain": [
              "recommendations finished on 5000/96352 queries. users per second: 63987.7"
            ]
          },
          "metadata": {
            "tags": []
          }
        },
        {
          "output_type": "display_data",
          "data": {
            "text/html": [
              "<pre>recommendations finished on 6000/96352 queries. users per second: 62494.1</pre>"
            ],
            "text/plain": [
              "recommendations finished on 6000/96352 queries. users per second: 62494.1"
            ]
          },
          "metadata": {
            "tags": []
          }
        },
        {
          "output_type": "display_data",
          "data": {
            "text/html": [
              "<pre>recommendations finished on 7000/96352 queries. users per second: 62739.8</pre>"
            ],
            "text/plain": [
              "recommendations finished on 7000/96352 queries. users per second: 62739.8"
            ]
          },
          "metadata": {
            "tags": []
          }
        },
        {
          "output_type": "display_data",
          "data": {
            "text/html": [
              "<pre>recommendations finished on 8000/96352 queries. users per second: 62630.6</pre>"
            ],
            "text/plain": [
              "recommendations finished on 8000/96352 queries. users per second: 62630.6"
            ]
          },
          "metadata": {
            "tags": []
          }
        },
        {
          "output_type": "display_data",
          "data": {
            "text/html": [
              "<pre>recommendations finished on 9000/96352 queries. users per second: 62794.8</pre>"
            ],
            "text/plain": [
              "recommendations finished on 9000/96352 queries. users per second: 62794.8"
            ]
          },
          "metadata": {
            "tags": []
          }
        },
        {
          "output_type": "display_data",
          "data": {
            "text/html": [
              "<pre>recommendations finished on 10000/96352 queries. users per second: 62826.7</pre>"
            ],
            "text/plain": [
              "recommendations finished on 10000/96352 queries. users per second: 62826.7"
            ]
          },
          "metadata": {
            "tags": []
          }
        },
        {
          "output_type": "display_data",
          "data": {
            "text/html": [
              "<pre>recommendations finished on 11000/96352 queries. users per second: 62937</pre>"
            ],
            "text/plain": [
              "recommendations finished on 11000/96352 queries. users per second: 62937"
            ]
          },
          "metadata": {
            "tags": []
          }
        },
        {
          "output_type": "display_data",
          "data": {
            "text/html": [
              "<pre>recommendations finished on 12000/96352 queries. users per second: 62991.1</pre>"
            ],
            "text/plain": [
              "recommendations finished on 12000/96352 queries. users per second: 62991.1"
            ]
          },
          "metadata": {
            "tags": []
          }
        },
        {
          "output_type": "display_data",
          "data": {
            "text/html": [
              "<pre>recommendations finished on 13000/96352 queries. users per second: 62849.3</pre>"
            ],
            "text/plain": [
              "recommendations finished on 13000/96352 queries. users per second: 62849.3"
            ]
          },
          "metadata": {
            "tags": []
          }
        },
        {
          "output_type": "display_data",
          "data": {
            "text/html": [
              "<pre>recommendations finished on 14000/96352 queries. users per second: 62662.3</pre>"
            ],
            "text/plain": [
              "recommendations finished on 14000/96352 queries. users per second: 62662.3"
            ]
          },
          "metadata": {
            "tags": []
          }
        },
        {
          "output_type": "display_data",
          "data": {
            "text/html": [
              "<pre>recommendations finished on 15000/96352 queries. users per second: 62746.8</pre>"
            ],
            "text/plain": [
              "recommendations finished on 15000/96352 queries. users per second: 62746.8"
            ]
          },
          "metadata": {
            "tags": []
          }
        },
        {
          "output_type": "display_data",
          "data": {
            "text/html": [
              "<pre>recommendations finished on 16000/96352 queries. users per second: 62751.7</pre>"
            ],
            "text/plain": [
              "recommendations finished on 16000/96352 queries. users per second: 62751.7"
            ]
          },
          "metadata": {
            "tags": []
          }
        },
        {
          "output_type": "display_data",
          "data": {
            "text/html": [
              "<pre>recommendations finished on 17000/96352 queries. users per second: 62803.2</pre>"
            ],
            "text/plain": [
              "recommendations finished on 17000/96352 queries. users per second: 62803.2"
            ]
          },
          "metadata": {
            "tags": []
          }
        },
        {
          "output_type": "display_data",
          "data": {
            "text/html": [
              "<pre>recommendations finished on 18000/96352 queries. users per second: 62786</pre>"
            ],
            "text/plain": [
              "recommendations finished on 18000/96352 queries. users per second: 62786"
            ]
          },
          "metadata": {
            "tags": []
          }
        },
        {
          "output_type": "display_data",
          "data": {
            "text/html": [
              "<pre>recommendations finished on 19000/96352 queries. users per second: 62775.1</pre>"
            ],
            "text/plain": [
              "recommendations finished on 19000/96352 queries. users per second: 62775.1"
            ]
          },
          "metadata": {
            "tags": []
          }
        },
        {
          "output_type": "display_data",
          "data": {
            "text/html": [
              "<pre>recommendations finished on 20000/96352 queries. users per second: 62810.3</pre>"
            ],
            "text/plain": [
              "recommendations finished on 20000/96352 queries. users per second: 62810.3"
            ]
          },
          "metadata": {
            "tags": []
          }
        },
        {
          "output_type": "display_data",
          "data": {
            "text/html": [
              "<pre>recommendations finished on 21000/96352 queries. users per second: 62755.1</pre>"
            ],
            "text/plain": [
              "recommendations finished on 21000/96352 queries. users per second: 62755.1"
            ]
          },
          "metadata": {
            "tags": []
          }
        },
        {
          "output_type": "display_data",
          "data": {
            "text/html": [
              "<pre>recommendations finished on 22000/96352 queries. users per second: 62739.9</pre>"
            ],
            "text/plain": [
              "recommendations finished on 22000/96352 queries. users per second: 62739.9"
            ]
          },
          "metadata": {
            "tags": []
          }
        },
        {
          "output_type": "display_data",
          "data": {
            "text/html": [
              "<pre>recommendations finished on 23000/96352 queries. users per second: 62698.3</pre>"
            ],
            "text/plain": [
              "recommendations finished on 23000/96352 queries. users per second: 62698.3"
            ]
          },
          "metadata": {
            "tags": []
          }
        },
        {
          "output_type": "display_data",
          "data": {
            "text/html": [
              "<pre>recommendations finished on 24000/96352 queries. users per second: 62678.1</pre>"
            ],
            "text/plain": [
              "recommendations finished on 24000/96352 queries. users per second: 62678.1"
            ]
          },
          "metadata": {
            "tags": []
          }
        },
        {
          "output_type": "display_data",
          "data": {
            "text/html": [
              "<pre>recommendations finished on 25000/96352 queries. users per second: 62655.7</pre>"
            ],
            "text/plain": [
              "recommendations finished on 25000/96352 queries. users per second: 62655.7"
            ]
          },
          "metadata": {
            "tags": []
          }
        },
        {
          "output_type": "display_data",
          "data": {
            "text/html": [
              "<pre>recommendations finished on 26000/96352 queries. users per second: 62667.7</pre>"
            ],
            "text/plain": [
              "recommendations finished on 26000/96352 queries. users per second: 62667.7"
            ]
          },
          "metadata": {
            "tags": []
          }
        },
        {
          "output_type": "display_data",
          "data": {
            "text/html": [
              "<pre>recommendations finished on 27000/96352 queries. users per second: 62563.3</pre>"
            ],
            "text/plain": [
              "recommendations finished on 27000/96352 queries. users per second: 62563.3"
            ]
          },
          "metadata": {
            "tags": []
          }
        },
        {
          "output_type": "display_data",
          "data": {
            "text/html": [
              "<pre>recommendations finished on 28000/96352 queries. users per second: 62523.9</pre>"
            ],
            "text/plain": [
              "recommendations finished on 28000/96352 queries. users per second: 62523.9"
            ]
          },
          "metadata": {
            "tags": []
          }
        },
        {
          "output_type": "display_data",
          "data": {
            "text/html": [
              "<pre>recommendations finished on 29000/96352 queries. users per second: 62485.9</pre>"
            ],
            "text/plain": [
              "recommendations finished on 29000/96352 queries. users per second: 62485.9"
            ]
          },
          "metadata": {
            "tags": []
          }
        },
        {
          "output_type": "display_data",
          "data": {
            "text/html": [
              "<pre>recommendations finished on 30000/96352 queries. users per second: 62506.3</pre>"
            ],
            "text/plain": [
              "recommendations finished on 30000/96352 queries. users per second: 62506.3"
            ]
          },
          "metadata": {
            "tags": []
          }
        },
        {
          "output_type": "display_data",
          "data": {
            "text/html": [
              "<pre>recommendations finished on 31000/96352 queries. users per second: 62447</pre>"
            ],
            "text/plain": [
              "recommendations finished on 31000/96352 queries. users per second: 62447"
            ]
          },
          "metadata": {
            "tags": []
          }
        },
        {
          "output_type": "display_data",
          "data": {
            "text/html": [
              "<pre>recommendations finished on 32000/96352 queries. users per second: 62405.8</pre>"
            ],
            "text/plain": [
              "recommendations finished on 32000/96352 queries. users per second: 62405.8"
            ]
          },
          "metadata": {
            "tags": []
          }
        },
        {
          "output_type": "display_data",
          "data": {
            "text/html": [
              "<pre>recommendations finished on 33000/96352 queries. users per second: 62420.8</pre>"
            ],
            "text/plain": [
              "recommendations finished on 33000/96352 queries. users per second: 62420.8"
            ]
          },
          "metadata": {
            "tags": []
          }
        },
        {
          "output_type": "display_data",
          "data": {
            "text/html": [
              "<pre>recommendations finished on 34000/96352 queries. users per second: 62428.7</pre>"
            ],
            "text/plain": [
              "recommendations finished on 34000/96352 queries. users per second: 62428.7"
            ]
          },
          "metadata": {
            "tags": []
          }
        },
        {
          "output_type": "display_data",
          "data": {
            "text/html": [
              "<pre>recommendations finished on 35000/96352 queries. users per second: 62485.5</pre>"
            ],
            "text/plain": [
              "recommendations finished on 35000/96352 queries. users per second: 62485.5"
            ]
          },
          "metadata": {
            "tags": []
          }
        },
        {
          "output_type": "display_data",
          "data": {
            "text/html": [
              "<pre>recommendations finished on 36000/96352 queries. users per second: 62418.4</pre>"
            ],
            "text/plain": [
              "recommendations finished on 36000/96352 queries. users per second: 62418.4"
            ]
          },
          "metadata": {
            "tags": []
          }
        },
        {
          "output_type": "display_data",
          "data": {
            "text/html": [
              "<pre>recommendations finished on 37000/96352 queries. users per second: 62422.6</pre>"
            ],
            "text/plain": [
              "recommendations finished on 37000/96352 queries. users per second: 62422.6"
            ]
          },
          "metadata": {
            "tags": []
          }
        },
        {
          "output_type": "display_data",
          "data": {
            "text/html": [
              "<pre>recommendations finished on 38000/96352 queries. users per second: 62433.4</pre>"
            ],
            "text/plain": [
              "recommendations finished on 38000/96352 queries. users per second: 62433.4"
            ]
          },
          "metadata": {
            "tags": []
          }
        },
        {
          "output_type": "display_data",
          "data": {
            "text/html": [
              "<pre>recommendations finished on 39000/96352 queries. users per second: 62475.6</pre>"
            ],
            "text/plain": [
              "recommendations finished on 39000/96352 queries. users per second: 62475.6"
            ]
          },
          "metadata": {
            "tags": []
          }
        },
        {
          "output_type": "display_data",
          "data": {
            "text/html": [
              "<pre>recommendations finished on 40000/96352 queries. users per second: 62426.1</pre>"
            ],
            "text/plain": [
              "recommendations finished on 40000/96352 queries. users per second: 62426.1"
            ]
          },
          "metadata": {
            "tags": []
          }
        },
        {
          "output_type": "display_data",
          "data": {
            "text/html": [
              "<pre>recommendations finished on 41000/96352 queries. users per second: 62434.6</pre>"
            ],
            "text/plain": [
              "recommendations finished on 41000/96352 queries. users per second: 62434.6"
            ]
          },
          "metadata": {
            "tags": []
          }
        },
        {
          "output_type": "display_data",
          "data": {
            "text/html": [
              "<pre>recommendations finished on 42000/96352 queries. users per second: 62413.3</pre>"
            ],
            "text/plain": [
              "recommendations finished on 42000/96352 queries. users per second: 62413.3"
            ]
          },
          "metadata": {
            "tags": []
          }
        },
        {
          "output_type": "display_data",
          "data": {
            "text/html": [
              "<pre>recommendations finished on 43000/96352 queries. users per second: 62381.6</pre>"
            ],
            "text/plain": [
              "recommendations finished on 43000/96352 queries. users per second: 62381.6"
            ]
          },
          "metadata": {
            "tags": []
          }
        },
        {
          "output_type": "display_data",
          "data": {
            "text/html": [
              "<pre>recommendations finished on 44000/96352 queries. users per second: 62354.6</pre>"
            ],
            "text/plain": [
              "recommendations finished on 44000/96352 queries. users per second: 62354.6"
            ]
          },
          "metadata": {
            "tags": []
          }
        },
        {
          "output_type": "display_data",
          "data": {
            "text/html": [
              "<pre>recommendations finished on 45000/96352 queries. users per second: 62314.5</pre>"
            ],
            "text/plain": [
              "recommendations finished on 45000/96352 queries. users per second: 62314.5"
            ]
          },
          "metadata": {
            "tags": []
          }
        },
        {
          "output_type": "display_data",
          "data": {
            "text/html": [
              "<pre>recommendations finished on 46000/96352 queries. users per second: 62317.6</pre>"
            ],
            "text/plain": [
              "recommendations finished on 46000/96352 queries. users per second: 62317.6"
            ]
          },
          "metadata": {
            "tags": []
          }
        },
        {
          "output_type": "display_data",
          "data": {
            "text/html": [
              "<pre>recommendations finished on 47000/96352 queries. users per second: 62355.2</pre>"
            ],
            "text/plain": [
              "recommendations finished on 47000/96352 queries. users per second: 62355.2"
            ]
          },
          "metadata": {
            "tags": []
          }
        },
        {
          "output_type": "display_data",
          "data": {
            "text/html": [
              "<pre>recommendations finished on 48000/96352 queries. users per second: 62332.5</pre>"
            ],
            "text/plain": [
              "recommendations finished on 48000/96352 queries. users per second: 62332.5"
            ]
          },
          "metadata": {
            "tags": []
          }
        },
        {
          "output_type": "display_data",
          "data": {
            "text/html": [
              "<pre>recommendations finished on 49000/96352 queries. users per second: 62354.5</pre>"
            ],
            "text/plain": [
              "recommendations finished on 49000/96352 queries. users per second: 62354.5"
            ]
          },
          "metadata": {
            "tags": []
          }
        },
        {
          "output_type": "display_data",
          "data": {
            "text/html": [
              "<pre>recommendations finished on 50000/96352 queries. users per second: 62342.6</pre>"
            ],
            "text/plain": [
              "recommendations finished on 50000/96352 queries. users per second: 62342.6"
            ]
          },
          "metadata": {
            "tags": []
          }
        },
        {
          "output_type": "display_data",
          "data": {
            "text/html": [
              "<pre>recommendations finished on 51000/96352 queries. users per second: 62057.5</pre>"
            ],
            "text/plain": [
              "recommendations finished on 51000/96352 queries. users per second: 62057.5"
            ]
          },
          "metadata": {
            "tags": []
          }
        },
        {
          "output_type": "display_data",
          "data": {
            "text/html": [
              "<pre>recommendations finished on 52000/96352 queries. users per second: 61980.8</pre>"
            ],
            "text/plain": [
              "recommendations finished on 52000/96352 queries. users per second: 61980.8"
            ]
          },
          "metadata": {
            "tags": []
          }
        },
        {
          "output_type": "display_data",
          "data": {
            "text/html": [
              "<pre>recommendations finished on 53000/96352 queries. users per second: 62014.9</pre>"
            ],
            "text/plain": [
              "recommendations finished on 53000/96352 queries. users per second: 62014.9"
            ]
          },
          "metadata": {
            "tags": []
          }
        },
        {
          "output_type": "display_data",
          "data": {
            "text/html": [
              "<pre>recommendations finished on 54000/96352 queries. users per second: 61961.2</pre>"
            ],
            "text/plain": [
              "recommendations finished on 54000/96352 queries. users per second: 61961.2"
            ]
          },
          "metadata": {
            "tags": []
          }
        },
        {
          "output_type": "display_data",
          "data": {
            "text/html": [
              "<pre>recommendations finished on 55000/96352 queries. users per second: 62009.4</pre>"
            ],
            "text/plain": [
              "recommendations finished on 55000/96352 queries. users per second: 62009.4"
            ]
          },
          "metadata": {
            "tags": []
          }
        },
        {
          "output_type": "display_data",
          "data": {
            "text/html": [
              "<pre>recommendations finished on 56000/96352 queries. users per second: 62017.6</pre>"
            ],
            "text/plain": [
              "recommendations finished on 56000/96352 queries. users per second: 62017.6"
            ]
          },
          "metadata": {
            "tags": []
          }
        },
        {
          "output_type": "display_data",
          "data": {
            "text/html": [
              "<pre>recommendations finished on 57000/96352 queries. users per second: 62028.5</pre>"
            ],
            "text/plain": [
              "recommendations finished on 57000/96352 queries. users per second: 62028.5"
            ]
          },
          "metadata": {
            "tags": []
          }
        },
        {
          "output_type": "display_data",
          "data": {
            "text/html": [
              "<pre>recommendations finished on 58000/96352 queries. users per second: 61992.4</pre>"
            ],
            "text/plain": [
              "recommendations finished on 58000/96352 queries. users per second: 61992.4"
            ]
          },
          "metadata": {
            "tags": []
          }
        },
        {
          "output_type": "display_data",
          "data": {
            "text/html": [
              "<pre>recommendations finished on 59000/96352 queries. users per second: 62017.7</pre>"
            ],
            "text/plain": [
              "recommendations finished on 59000/96352 queries. users per second: 62017.7"
            ]
          },
          "metadata": {
            "tags": []
          }
        },
        {
          "output_type": "display_data",
          "data": {
            "text/html": [
              "<pre>recommendations finished on 60000/96352 queries. users per second: 61936.7</pre>"
            ],
            "text/plain": [
              "recommendations finished on 60000/96352 queries. users per second: 61936.7"
            ]
          },
          "metadata": {
            "tags": []
          }
        },
        {
          "output_type": "display_data",
          "data": {
            "text/html": [
              "<pre>recommendations finished on 61000/96352 queries. users per second: 61946.2</pre>"
            ],
            "text/plain": [
              "recommendations finished on 61000/96352 queries. users per second: 61946.2"
            ]
          },
          "metadata": {
            "tags": []
          }
        },
        {
          "output_type": "display_data",
          "data": {
            "text/html": [
              "<pre>recommendations finished on 62000/96352 queries. users per second: 61951.4</pre>"
            ],
            "text/plain": [
              "recommendations finished on 62000/96352 queries. users per second: 61951.4"
            ]
          },
          "metadata": {
            "tags": []
          }
        },
        {
          "output_type": "display_data",
          "data": {
            "text/html": [
              "<pre>recommendations finished on 63000/96352 queries. users per second: 61967.3</pre>"
            ],
            "text/plain": [
              "recommendations finished on 63000/96352 queries. users per second: 61967.3"
            ]
          },
          "metadata": {
            "tags": []
          }
        },
        {
          "output_type": "display_data",
          "data": {
            "text/html": [
              "<pre>recommendations finished on 64000/96352 queries. users per second: 61973.3</pre>"
            ],
            "text/plain": [
              "recommendations finished on 64000/96352 queries. users per second: 61973.3"
            ]
          },
          "metadata": {
            "tags": []
          }
        },
        {
          "output_type": "display_data",
          "data": {
            "text/html": [
              "<pre>recommendations finished on 65000/96352 queries. users per second: 61982.2</pre>"
            ],
            "text/plain": [
              "recommendations finished on 65000/96352 queries. users per second: 61982.2"
            ]
          },
          "metadata": {
            "tags": []
          }
        },
        {
          "output_type": "display_data",
          "data": {
            "text/html": [
              "<pre>recommendations finished on 66000/96352 queries. users per second: 62004.9</pre>"
            ],
            "text/plain": [
              "recommendations finished on 66000/96352 queries. users per second: 62004.9"
            ]
          },
          "metadata": {
            "tags": []
          }
        },
        {
          "output_type": "display_data",
          "data": {
            "text/html": [
              "<pre>recommendations finished on 67000/96352 queries. users per second: 61997.7</pre>"
            ],
            "text/plain": [
              "recommendations finished on 67000/96352 queries. users per second: 61997.7"
            ]
          },
          "metadata": {
            "tags": []
          }
        },
        {
          "output_type": "display_data",
          "data": {
            "text/html": [
              "<pre>recommendations finished on 68000/96352 queries. users per second: 61977.7</pre>"
            ],
            "text/plain": [
              "recommendations finished on 68000/96352 queries. users per second: 61977.7"
            ]
          },
          "metadata": {
            "tags": []
          }
        },
        {
          "output_type": "display_data",
          "data": {
            "text/html": [
              "<pre>recommendations finished on 69000/96352 queries. users per second: 62004.2</pre>"
            ],
            "text/plain": [
              "recommendations finished on 69000/96352 queries. users per second: 62004.2"
            ]
          },
          "metadata": {
            "tags": []
          }
        },
        {
          "output_type": "display_data",
          "data": {
            "text/html": [
              "<pre>recommendations finished on 70000/96352 queries. users per second: 62021.4</pre>"
            ],
            "text/plain": [
              "recommendations finished on 70000/96352 queries. users per second: 62021.4"
            ]
          },
          "metadata": {
            "tags": []
          }
        },
        {
          "output_type": "display_data",
          "data": {
            "text/html": [
              "<pre>recommendations finished on 71000/96352 queries. users per second: 62053.4</pre>"
            ],
            "text/plain": [
              "recommendations finished on 71000/96352 queries. users per second: 62053.4"
            ]
          },
          "metadata": {
            "tags": []
          }
        },
        {
          "output_type": "display_data",
          "data": {
            "text/html": [
              "<pre>recommendations finished on 72000/96352 queries. users per second: 62066.2</pre>"
            ],
            "text/plain": [
              "recommendations finished on 72000/96352 queries. users per second: 62066.2"
            ]
          },
          "metadata": {
            "tags": []
          }
        },
        {
          "output_type": "display_data",
          "data": {
            "text/html": [
              "<pre>recommendations finished on 73000/96352 queries. users per second: 62084.9</pre>"
            ],
            "text/plain": [
              "recommendations finished on 73000/96352 queries. users per second: 62084.9"
            ]
          },
          "metadata": {
            "tags": []
          }
        },
        {
          "output_type": "display_data",
          "data": {
            "text/html": [
              "<pre>recommendations finished on 74000/96352 queries. users per second: 62071.7</pre>"
            ],
            "text/plain": [
              "recommendations finished on 74000/96352 queries. users per second: 62071.7"
            ]
          },
          "metadata": {
            "tags": []
          }
        },
        {
          "output_type": "display_data",
          "data": {
            "text/html": [
              "<pre>recommendations finished on 75000/96352 queries. users per second: 62058.5</pre>"
            ],
            "text/plain": [
              "recommendations finished on 75000/96352 queries. users per second: 62058.5"
            ]
          },
          "metadata": {
            "tags": []
          }
        },
        {
          "output_type": "display_data",
          "data": {
            "text/html": [
              "<pre>recommendations finished on 76000/96352 queries. users per second: 62065.8</pre>"
            ],
            "text/plain": [
              "recommendations finished on 76000/96352 queries. users per second: 62065.8"
            ]
          },
          "metadata": {
            "tags": []
          }
        },
        {
          "output_type": "display_data",
          "data": {
            "text/html": [
              "<pre>recommendations finished on 77000/96352 queries. users per second: 62095.5</pre>"
            ],
            "text/plain": [
              "recommendations finished on 77000/96352 queries. users per second: 62095.5"
            ]
          },
          "metadata": {
            "tags": []
          }
        },
        {
          "output_type": "display_data",
          "data": {
            "text/html": [
              "<pre>recommendations finished on 78000/96352 queries. users per second: 62112.3</pre>"
            ],
            "text/plain": [
              "recommendations finished on 78000/96352 queries. users per second: 62112.3"
            ]
          },
          "metadata": {
            "tags": []
          }
        },
        {
          "output_type": "display_data",
          "data": {
            "text/html": [
              "<pre>recommendations finished on 79000/96352 queries. users per second: 62141.3</pre>"
            ],
            "text/plain": [
              "recommendations finished on 79000/96352 queries. users per second: 62141.3"
            ]
          },
          "metadata": {
            "tags": []
          }
        },
        {
          "output_type": "display_data",
          "data": {
            "text/html": [
              "<pre>recommendations finished on 80000/96352 queries. users per second: 62130.3</pre>"
            ],
            "text/plain": [
              "recommendations finished on 80000/96352 queries. users per second: 62130.3"
            ]
          },
          "metadata": {
            "tags": []
          }
        },
        {
          "output_type": "display_data",
          "data": {
            "text/html": [
              "<pre>recommendations finished on 81000/96352 queries. users per second: 62115.3</pre>"
            ],
            "text/plain": [
              "recommendations finished on 81000/96352 queries. users per second: 62115.3"
            ]
          },
          "metadata": {
            "tags": []
          }
        },
        {
          "output_type": "display_data",
          "data": {
            "text/html": [
              "<pre>recommendations finished on 82000/96352 queries. users per second: 62097.3</pre>"
            ],
            "text/plain": [
              "recommendations finished on 82000/96352 queries. users per second: 62097.3"
            ]
          },
          "metadata": {
            "tags": []
          }
        },
        {
          "output_type": "display_data",
          "data": {
            "text/html": [
              "<pre>recommendations finished on 83000/96352 queries. users per second: 62099.3</pre>"
            ],
            "text/plain": [
              "recommendations finished on 83000/96352 queries. users per second: 62099.3"
            ]
          },
          "metadata": {
            "tags": []
          }
        },
        {
          "output_type": "display_data",
          "data": {
            "text/html": [
              "<pre>recommendations finished on 84000/96352 queries. users per second: 62087.6</pre>"
            ],
            "text/plain": [
              "recommendations finished on 84000/96352 queries. users per second: 62087.6"
            ]
          },
          "metadata": {
            "tags": []
          }
        },
        {
          "output_type": "display_data",
          "data": {
            "text/html": [
              "<pre>recommendations finished on 85000/96352 queries. users per second: 62098.1</pre>"
            ],
            "text/plain": [
              "recommendations finished on 85000/96352 queries. users per second: 62098.1"
            ]
          },
          "metadata": {
            "tags": []
          }
        },
        {
          "output_type": "display_data",
          "data": {
            "text/html": [
              "<pre>recommendations finished on 86000/96352 queries. users per second: 62106.2</pre>"
            ],
            "text/plain": [
              "recommendations finished on 86000/96352 queries. users per second: 62106.2"
            ]
          },
          "metadata": {
            "tags": []
          }
        },
        {
          "output_type": "display_data",
          "data": {
            "text/html": [
              "<pre>recommendations finished on 87000/96352 queries. users per second: 62145.7</pre>"
            ],
            "text/plain": [
              "recommendations finished on 87000/96352 queries. users per second: 62145.7"
            ]
          },
          "metadata": {
            "tags": []
          }
        },
        {
          "output_type": "display_data",
          "data": {
            "text/html": [
              "<pre>recommendations finished on 88000/96352 queries. users per second: 62153.2</pre>"
            ],
            "text/plain": [
              "recommendations finished on 88000/96352 queries. users per second: 62153.2"
            ]
          },
          "metadata": {
            "tags": []
          }
        },
        {
          "output_type": "display_data",
          "data": {
            "text/html": [
              "<pre>recommendations finished on 89000/96352 queries. users per second: 62150.3</pre>"
            ],
            "text/plain": [
              "recommendations finished on 89000/96352 queries. users per second: 62150.3"
            ]
          },
          "metadata": {
            "tags": []
          }
        },
        {
          "output_type": "display_data",
          "data": {
            "text/html": [
              "<pre>recommendations finished on 90000/96352 queries. users per second: 62149.7</pre>"
            ],
            "text/plain": [
              "recommendations finished on 90000/96352 queries. users per second: 62149.7"
            ]
          },
          "metadata": {
            "tags": []
          }
        },
        {
          "output_type": "display_data",
          "data": {
            "text/html": [
              "<pre>recommendations finished on 91000/96352 queries. users per second: 62152.7</pre>"
            ],
            "text/plain": [
              "recommendations finished on 91000/96352 queries. users per second: 62152.7"
            ]
          },
          "metadata": {
            "tags": []
          }
        },
        {
          "output_type": "display_data",
          "data": {
            "text/html": [
              "<pre>recommendations finished on 92000/96352 queries. users per second: 62112.8</pre>"
            ],
            "text/plain": [
              "recommendations finished on 92000/96352 queries. users per second: 62112.8"
            ]
          },
          "metadata": {
            "tags": []
          }
        },
        {
          "output_type": "display_data",
          "data": {
            "text/html": [
              "<pre>recommendations finished on 93000/96352 queries. users per second: 61679.5</pre>"
            ],
            "text/plain": [
              "recommendations finished on 93000/96352 queries. users per second: 61679.5"
            ]
          },
          "metadata": {
            "tags": []
          }
        },
        {
          "output_type": "display_data",
          "data": {
            "text/html": [
              "<pre>recommendations finished on 94000/96352 queries. users per second: 61410.9</pre>"
            ],
            "text/plain": [
              "recommendations finished on 94000/96352 queries. users per second: 61410.9"
            ]
          },
          "metadata": {
            "tags": []
          }
        },
        {
          "output_type": "display_data",
          "data": {
            "text/html": [
              "<pre>recommendations finished on 95000/96352 queries. users per second: 61159.9</pre>"
            ],
            "text/plain": [
              "recommendations finished on 95000/96352 queries. users per second: 61159.9"
            ]
          },
          "metadata": {
            "tags": []
          }
        },
        {
          "output_type": "display_data",
          "data": {
            "text/html": [
              "<pre>recommendations finished on 96000/96352 queries. users per second: 60870.2</pre>"
            ],
            "text/plain": [
              "recommendations finished on 96000/96352 queries. users per second: 60870.2"
            ]
          },
          "metadata": {
            "tags": []
          }
        },
        {
          "output_type": "stream",
          "text": [
            "Se han exportado las recomendaciones en Google drive\n"
          ],
          "name": "stdout"
        }
      ]
    }
  ]
}