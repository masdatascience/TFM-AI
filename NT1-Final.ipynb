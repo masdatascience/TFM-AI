{
  "nbformat": 4,
  "nbformat_minor": 0,
  "metadata": {
    "colab": {
      "name": "TFM-1_Prevention-Dummy.ipynb",
      "version": "0.3.2",
      "provenance": [],
      "collapsed_sections": [],
      "machine_shape": "hm",
      "include_colab_link": true
    },
    "kernelspec": {
      "name": "python3",
      "display_name": "Python 3",
      "language": "python"
    },
    "language_info": {
      "mimetype": "text/x-python",
      "nbconvert_exporter": "python",
      "name": "python",
      "file_extension": ".py",
      "version": "3.5.4",
      "pygments_lexer": "ipython3",
      "codemirror_mode": {
        "version": 3,
        "name": "ipython"
      }
    }
  },
  "cells": [
    {
      "cell_type": "markdown",
      "metadata": {
        "id": "view-in-github",
        "colab_type": "text"
      },
      "source": [
        "<a href=\"https://colab.research.google.com/github/masdatascience/TFM-AI/blob/master/NT1-Final.ipynb\" target=\"_parent\"><img src=\"https://colab.research.google.com/assets/colab-badge.svg\" alt=\"Open In Colab\"/></a>"
      ]
    },
    {
      "cell_type": "markdown",
      "metadata": {
        "id": "k1PvPRCY79m-",
        "colab_type": "text"
      },
      "source": [
        "# Prevención Fuga de Clientes\n",
        "El enfoque de la prevención es disminuir el impacto latente de la posibilidad de que alguno de los clientes deje de comprar productos. \n",
        "Con este fin se realiza la estrategia en 3 sentidos: <br>\n",
        "**1.Motor de Recomendación** <br>\n",
        "**Objetivo:** Aumentar la penetración de los productos a los clientes con el fin de fortalecer la relación comercial y su fidelización. <br>\n",
        "Este enfoque hace parte de la primera parte del notebook, con el objetivo de generar un motor de recomendación con el cual se facilite la venta de nuevos productos por medio de estrategia de datos. <br>\n",
        "*Notebook 1: Motor de recomendación* <br>\n",
        "\n",
        "**2.Nueva segmentación de información con base en los datos de los clientes y sus transacciones** <br>\n",
        "**Objetivo:** Generar nueva información de los clientes, con el objetivo de realizar una mejor gestión de estos y plantear estrategias con base en esta nueva característica de información desarrollada. <br>\n",
        "El segundo enfoque es a través de una nueva segmentación, que permita de igual forma identificar no solo como y que es posible comprar, sino generar nuevas dimensiones de análisis, para que los equipos de business intelligence, comerciales y financieros, tengan más herramientas durante sus estrategias de negocio. <br>\n",
        "*Notebook 2: Segmentación de datos* <br>\n",
        "\n",
        "**3.Predecir la Fuga de clientes** <br>\n",
        "**Objetivo:** Desarrollar un marcaje de fuga de clientes con base en la historia transaccional de cliente, permitiendo esto entrenar un modelo de Machine Learning para predecir la posible baja de clientes. <br>\n",
        "El Tercer enfoque tiene dos frentes de trabajo, el primero permite establecer a través de variables de tendencias de compra y montos, si el cliente se encuentra \"vivo\" o no. Con base en este resultado, se activa el segundo frente, el cual a través de algoritmos de Machine Learning permite predecir la fuga de clientes con base en el marcaje realizado en la primera etapa. <br>\n",
        "*Notebook 3: Predicción Fuga Clientes* <br>\n"
      ]
    },
    {
      "cell_type": "markdown",
      "metadata": {
        "id": "orpOJu6j8zxg",
        "colab_type": "text"
      },
      "source": [
        "### Fuente de datos\n",
        "Los datos usando durante la tesis son de dominio publico y hacen referencia a un comercio de Brasil. <br>\n",
        "Estos datos han sido modelados en un modelo dimensional con el fin de mejorar el performance del análisis del actual tesis y permitir generar modelos de reporting/dashboard con herramientas de BI.<br>\n",
        "Los datos han sido migrados a la plataforma github con el fin que sean de dominio publico. <br>\n"
      ]
    },
    {
      "cell_type": "markdown",
      "metadata": {
        "id": "1LmmcB9U8gN_",
        "colab_type": "text"
      },
      "source": [
        "##1. Motor de Recomendación\n",
        "\n",
        "Durante esta etapa se realizarán dos enfoques de recomendación, el primero con base en productos y el segundo con base en el comportamiento de clientes.\n",
        "\n",
        "\n",
        "### 1.1 Carga de librerias y datos"
      ]
    },
    {
      "cell_type": "code",
      "metadata": {
        "id": "rlke_DiE7xb2",
        "colab_type": "code",
        "outputId": "a1d16ebf-e08a-477c-aaf6-7a601384fbff",
        "trusted": true,
        "scrolled": true,
        "colab": {
          "base_uri": "https://localhost:8080/",
          "height": 435
        }
      },
      "source": [
        "!pip install turicreate\n",
        "# librerias requeridas\n",
        "import turicreate as tc\n",
        "import matplotlib.pyplot as plt\n",
        "import pandas as pd\n",
        "import numpy as np\n",
        "%matplotlib inline\n",
        "from sklearn.metrics.pairwise import cosine_similarity\n",
        "from sklearn.cluster import KMeans\n",
        "from sklearn.metrics import silhouette_score\n",
        "import time\n",
        "from sklearn.model_selection import train_test_split\n",
        "from google.colab import drive\n",
        "drive.mount('drive')\n"
      ],
      "execution_count": 1,
      "outputs": [
        {
          "output_type": "stream",
          "text": [
            "Requirement already satisfied: turicreate in /usr/local/lib/python3.6/dist-packages (5.7.1)\n",
            "Requirement already satisfied: coremltools==3.0b3 in /usr/local/lib/python3.6/dist-packages (from turicreate) (3.0b3)\n",
            "Requirement already satisfied: mxnet<1.2.0,>=1.1.0 in /usr/local/lib/python3.6/dist-packages (from turicreate) (1.1.0.post0)\n",
            "Requirement already satisfied: scipy>=1.1.0 in /usr/local/lib/python3.6/dist-packages (from turicreate) (1.3.1)\n",
            "Requirement already satisfied: decorator>=4.0.9 in /usr/local/lib/python3.6/dist-packages (from turicreate) (4.4.0)\n",
            "Requirement already satisfied: resampy==0.2.1 in /usr/local/lib/python3.6/dist-packages (from turicreate) (0.2.1)\n",
            "Requirement already satisfied: pandas>=0.23.2 in /usr/local/lib/python3.6/dist-packages (from turicreate) (0.24.2)\n",
            "Requirement already satisfied: requests>=2.9.1 in /usr/local/lib/python3.6/dist-packages (from turicreate) (2.21.0)\n",
            "Requirement already satisfied: six>=1.10.0 in /usr/local/lib/python3.6/dist-packages (from turicreate) (1.12.0)\n",
            "Requirement already satisfied: numpy==1.16.4 in /usr/local/lib/python3.6/dist-packages (from turicreate) (1.16.4)\n",
            "Requirement already satisfied: prettytable==0.7.2 in /usr/local/lib/python3.6/dist-packages (from turicreate) (0.7.2)\n",
            "Requirement already satisfied: pillow>=5.2.0 in /usr/local/lib/python3.6/dist-packages (from turicreate) (6.1.0)\n",
            "Requirement already satisfied: protobuf>=3.1.0 in /usr/local/lib/python3.6/dist-packages (from coremltools==3.0b3->turicreate) (3.7.1)\n",
            "Requirement already satisfied: graphviz<0.9.0,>=0.8.1 in /usr/local/lib/python3.6/dist-packages (from mxnet<1.2.0,>=1.1.0->turicreate) (0.8.4)\n",
            "Requirement already satisfied: numba>=0.32 in /usr/local/lib/python3.6/dist-packages (from resampy==0.2.1->turicreate) (0.40.1)\n",
            "Requirement already satisfied: pytz>=2011k in /usr/local/lib/python3.6/dist-packages (from pandas>=0.23.2->turicreate) (2018.9)\n",
            "Requirement already satisfied: python-dateutil>=2.5.0 in /usr/local/lib/python3.6/dist-packages (from pandas>=0.23.2->turicreate) (2.5.3)\n",
            "Requirement already satisfied: chardet<3.1.0,>=3.0.2 in /usr/local/lib/python3.6/dist-packages (from requests>=2.9.1->turicreate) (3.0.4)\n",
            "Requirement already satisfied: idna<2.9,>=2.5 in /usr/local/lib/python3.6/dist-packages (from requests>=2.9.1->turicreate) (2.8)\n",
            "Requirement already satisfied: certifi>=2017.4.17 in /usr/local/lib/python3.6/dist-packages (from requests>=2.9.1->turicreate) (2019.6.16)\n",
            "Requirement already satisfied: urllib3<1.25,>=1.21.1 in /usr/local/lib/python3.6/dist-packages (from requests>=2.9.1->turicreate) (1.24.3)\n",
            "Requirement already satisfied: setuptools in /usr/local/lib/python3.6/dist-packages (from protobuf>=3.1.0->coremltools==3.0b3->turicreate) (41.2.0)\n",
            "Requirement already satisfied: llvmlite>=0.25.0dev0 in /usr/local/lib/python3.6/dist-packages (from numba>=0.32->resampy==0.2.1->turicreate) (0.29.0)\n"
          ],
          "name": "stdout"
        }
      ]
    },
    {
      "cell_type": "code",
      "metadata": {
        "id": "wcjQe--m9v7_",
        "colab_type": "code",
        "colab": {
          "base_uri": "https://localhost:8080/",
          "height": 35
        },
        "outputId": "865c981e-a290-4102-8e67-82e4152d3ff2"
      },
      "source": [
        "## Localización y carga de los datos\n",
        "url = 'https://github.com/masdatascience/TFM-AI/blob/master/data_model_completo.xlsx?raw=true'\n",
        "datos_modelo = pd.ExcelFile(url)\n",
        "datos_facturacion = pd.read_excel(datos_modelo, sheet_name='fac_txn')\n",
        "datos_producto = pd.read_excel(datos_modelo, sheet_name='product')\n",
        "datos_clientes = pd.read_excel(datos_modelo, sheet_name='customer')\n",
        "\n",
        "# Se elimian los datos nulos de las dimensiones importantes del analisis que son productos y clientes\n",
        "datos_facturacion = datos_facturacion.dropna(subset=['customer_id'])\n",
        "datos_facturacion = datos_facturacion.dropna(subset=['product_id'])\n",
        "# Se elimina posibles chargeback que se presenten\n",
        "datos_facturacion = datos_facturacion.loc[datos_facturacion['total_value'] > 0]\n",
        "\n",
        "print(\"Facturación:\"+ str(datos_facturacion.shape) + \" Clientes:\"+str(datos_clientes.shape)+\" Productos:\"+str(datos_producto.shape))"
      ],
      "execution_count": 2,
      "outputs": [
        {
          "output_type": "stream",
          "text": [
            "Facturación:(112650, 21) Clientes:(96352, 4) Productos:(32951, 10)\n"
          ],
          "name": "stdout"
        }
      ]
    },
    {
      "cell_type": "markdown",
      "metadata": {
        "id": "gknP4zvnDMY2",
        "colab_type": "text"
      },
      "source": [
        "### 1.2 Preparación de los datos \n",
        "En esta sección se estarán preparando tres enfoques de matrices con el fin de permitir desarrollar los motores de recomendación. La primera es la relación entre el cliente y los productos, la siguiente es una matriz normalizada y la última integra valores dummies para la comparación . "
      ]
    },
    {
      "cell_type": "markdown",
      "metadata": {
        "id": "nGPFk-v0D00A",
        "colab_type": "text"
      },
      "source": [
        "#### 1.2.1 Relación Cliente - Producto\n",
        "\n"
      ]
    },
    {
      "cell_type": "code",
      "metadata": {
        "id": "F3iR_xdeL3V9",
        "colab_type": "code",
        "colab": {}
      },
      "source": [
        "### Eliminar\n",
        "data= datos_facturacion.copy()\n",
        "datos_facturacion = datos_facturacion.head(10000)"
      ],
      "execution_count": 0,
      "outputs": []
    },
    {
      "cell_type": "code",
      "metadata": {
        "id": "zosJH8OuD6hA",
        "colab_type": "code",
        "colab": {
          "base_uri": "https://localhost:8080/",
          "height": 35
        },
        "outputId": "c1f96831-39d9-4c94-d6ab-3835da52e87f"
      },
      "source": [
        "# Obtengo la Matriz Relación Cliente - Producto , y la normalizo\n",
        "matrix_usuario_producto =pd.crosstab(datos_facturacion['customer_id'],datos_facturacion['product_id'],values=datos_facturacion['total_value'], aggfunc='sum', margins=True, margins_name=\"total_value\")\n",
        "matrix_usuario_producto_norm = (matrix_usuario_producto-matrix_usuario_producto.min())/(matrix_usuario_producto.max()-matrix_usuario_producto.min())\n",
        "d = matrix_usuario_producto_norm.reset_index() \n",
        "d.index.names = ['total_frecuencia'] \n",
        "data_norm = pd.melt(d, id_vars=['customer_id'], value_name='total_frecuencia').dropna()\n",
        "print(\"Matriz normalizada:\" +str(data_norm.shape))"
      ],
      "execution_count": 4,
      "outputs": [
        {
          "output_type": "stream",
          "text": [
            "Matriz normalizada:(14312, 3)\n"
          ],
          "name": "stdout"
        }
      ]
    },
    {
      "cell_type": "markdown",
      "metadata": {
        "id": "YURTaD1qFEU7",
        "colab_type": "text"
      },
      "source": [
        "#### 1.2.2 Relación Cliente Producto - Contraste"
      ]
    },
    {
      "cell_type": "code",
      "metadata": {
        "id": "_NC9OA2RHq1_",
        "colab_type": "code",
        "colab": {
          "base_uri": "https://localhost:8080/",
          "height": 35
        },
        "outputId": "2d0b536b-3549-4fbe-bb8d-4df05e1d8590"
      },
      "source": [
        "datos_dummy = datos_facturacion.copy()\n",
        "datos_dummy['total_dummy'] = 1\n",
        "print(\"Matriz Dummy:\"+ str(datos_dummy.shape))"
      ],
      "execution_count": 5,
      "outputs": [
        {
          "output_type": "stream",
          "text": [
            "Matriz Dummy:(10000, 22)\n"
          ],
          "name": "stdout"
        }
      ]
    },
    {
      "cell_type": "markdown",
      "metadata": {
        "id": "fvqgw6XDFYJ6",
        "colab_type": "text"
      },
      "source": [
        "#### 1.2.3 Se generan datos de entrenamiento y pruebas"
      ]
    },
    {
      "cell_type": "code",
      "metadata": {
        "id": "P9YYO2PWFcUk",
        "colab_type": "code",
        "colab": {}
      },
      "source": [
        "train_data, test_data  = train_test_split(data_norm, test_size=0.3 ,random_state=1)\n",
        "train_data_dummy, test_data_dummy = train_test_split(datos_dummy, test_size=0.3 ,random_state=1)"
      ],
      "execution_count": 0,
      "outputs": []
    },
    {
      "cell_type": "markdown",
      "metadata": {
        "id": "_Fzb01hyFs1-",
        "colab_type": "text"
      },
      "source": [
        "#### 1.2.4  Se define función para ejecutar los tipos de motores de recomendación"
      ]
    },
    {
      "cell_type": "code",
      "metadata": {
        "id": "kh18gKpfF0X4",
        "colab_type": "code",
        "colab": {}
      },
      "source": [
        "# Se define una función que retorne un modelo resultado segun el enfoque que se requiere:\n",
        "# 1. Popularity : Es el item que más se a consumido en todos los clientes\n",
        "# 2. cosine :\n",
        "# 3. Pearson: \n",
        "def modelo_requerido(modelo,datos ,campo ):\n",
        "\n",
        "    train_data=tc.SFrame(datos)\n",
        "    print(\"Modelo solicitado:\"+ str(modelo))\n",
        "    if modelo == 'producto':\n",
        "        return  tc.popularity_recommender.create(train_data,user_id='customer_id', item_id='product_id', target=campo)\n",
        "    elif modelo == 'distancia_coseno':\n",
        "        return tc.item_similarity_recommender.create(train_data,user_id='customer_id', item_id='product_id', target=campo,similarity_type='cosine')\n",
        "    elif modelo == 'pearson':\n",
        "        return tc.item_similarity_recommender.create(train_data,user_id='customer_id', item_id='product_id', target=campo,similarity_type='pearson')\n",
        "    else : \n",
        "        print(\"ERROR: Modelo solicitado no existe\")\n",
        "\n",
        "#Obtiene las recomendaciones de forma visual para los clientes\n",
        "def productos_recomendado(modelo, usuarios, cantidad_recomendaciones):\n",
        "     modelo.recommend(users=list(usuarios), k=cantidad_recomendaciones).print_rows(cantidad_recomendaciones)\n",
        "\n",
        "#Evalua los modelos generados \n",
        "def evaluacion_modelos(modelo, test):\n",
        "  \n",
        "  if modelo == 'normalizado':\n",
        "        modelos_generados= [fac_producto, fac_coseno, fac_pearson]\n",
        "        nombres_modelos = ['Modelo basado en contenido', 'Modelo Colaborativo - Distancia Coseno', 'Modelo Colaborativo - Pearson']\n",
        "        test_data= tc.SFrame(test) \n",
        "        eval_counts = tc.recommender.util.compare_models(test_data, modelos_generados, model_names=nombres_modelos)\n",
        "  elif modelo == 'dummy':\n",
        "        modelos_generados= [dum_producto, dum_coseno, dum_pearson]\n",
        "        nombres_modelos = ['Modelo Dummy basado en contenido', 'Modelo Dummy Colaborativo - Distancia Coseno', 'Modelo Dummy Colaborativo - Pearson']\n",
        "        test_data= tc.SFrame(test) \n",
        "        eval_counts = tc.recommender.util.compare_models(test_data, modelos_generados, model_names=nombres_modelos)\n",
        "  else : \n",
        "        print(\"ERROR: Modelo solicitado no existe\")\n",
        "      \n",
        "#Exporta cinco  recomendaciones por cliente en google Drive      \n",
        "def exportarRecomendaciones(modelo, clientes):\n",
        "\n",
        "  lista_clientes =  list(clientes)\n",
        "  recomendaciones = modelo.recommend(users=lista_clientes, k=5)\n",
        "  resultado = recomendaciones.to_dataframe()\n",
        "  resultado['id_producto_recomendado'] = resultado.groupby(['customer_id'])['product_id'].transform(lambda x: ';'.join(x.astype(str)))\n",
        "  exportar = resultado[['customer_id', 'recommendedProducts']].drop_duplicates().sort_values('customer_id').set_index('customer_id')\n",
        "  exportar.to_csv('recomendaciones.csv')\n",
        "  !cp df_output.csv drive/My\\ Drive/\n",
        "  print(\"Se han exportado las recomendaciones'\")\n"
      ],
      "execution_count": 0,
      "outputs": []
    },
    {
      "cell_type": "markdown",
      "metadata": {
        "id": "52rVRxv5YF7J",
        "colab_type": "text"
      },
      "source": [
        "### 1.3 Modelo de recomendación basado en Contenido\n",
        "Este modelo genera recomendaciones con base en la relación de los clientes y sus productos"
      ]
    },
    {
      "cell_type": "code",
      "metadata": {
        "id": "GIJ-1VLWNuaa",
        "colab_type": "code",
        "colab": {
          "base_uri": "https://localhost:8080/",
          "height": 246
        },
        "outputId": "cb52ade5-d74e-4d04-bfab-f48ce499df4f"
      },
      "source": [
        "# Se generan las recomendaciones por dataset\n",
        "fac_producto = modelo_requerido('producto',train_data,'total_frecuencia' )\n",
        "dum_producto = modelo_requerido('producto' ,train_data_dummy, 'total_dummy')"
      ],
      "execution_count": 8,
      "outputs": [
        {
          "output_type": "stream",
          "text": [
            "Modelo solicitado:producto\n"
          ],
          "name": "stdout"
        },
        {
          "output_type": "display_data",
          "data": {
            "text/html": [
              "<pre>Preparing data set.</pre>"
            ],
            "text/plain": [
              "Preparing data set."
            ]
          },
          "metadata": {
            "tags": []
          }
        },
        {
          "output_type": "display_data",
          "data": {
            "text/html": [
              "<pre>    Data has 10018 observations with 6975 users and 1229 items.</pre>"
            ],
            "text/plain": [
              "    Data has 10018 observations with 6975 users and 1229 items."
            ]
          },
          "metadata": {
            "tags": []
          }
        },
        {
          "output_type": "display_data",
          "data": {
            "text/html": [
              "<pre>    Data prepared in: 0.031983s</pre>"
            ],
            "text/plain": [
              "    Data prepared in: 0.031983s"
            ]
          },
          "metadata": {
            "tags": []
          }
        },
        {
          "output_type": "display_data",
          "data": {
            "text/html": [
              "<pre>10018 observations to process; with 1229 unique items.</pre>"
            ],
            "text/plain": [
              "10018 observations to process; with 1229 unique items."
            ]
          },
          "metadata": {
            "tags": []
          }
        },
        {
          "output_type": "stream",
          "text": [
            "Modelo solicitado:producto\n"
          ],
          "name": "stdout"
        },
        {
          "output_type": "display_data",
          "data": {
            "text/html": [
              "<pre>Warning: Ignoring columns order_id, order_item_id, customer_zip_code_prefix, shipping_limit_date, price, freight_value, total_value, credit_card, debit_card, boleto, voucher, not_defined, num_txn, order_status, order_purchase_timestamp, order_approved_at, order_delivered_carrier_date, order_delivered_customer_date, order_estimated_delivery_date;</pre>"
            ],
            "text/plain": [
              "Warning: Ignoring columns order_id, order_item_id, customer_zip_code_prefix, shipping_limit_date, price, freight_value, total_value, credit_card, debit_card, boleto, voucher, not_defined, num_txn, order_status, order_purchase_timestamp, order_approved_at, order_delivered_carrier_date, order_delivered_customer_date, order_estimated_delivery_date;"
            ]
          },
          "metadata": {
            "tags": []
          }
        },
        {
          "output_type": "display_data",
          "data": {
            "text/html": [
              "<pre>    To use these columns in scoring predictions, use a model that allows the use of additional features.</pre>"
            ],
            "text/plain": [
              "    To use these columns in scoring predictions, use a model that allows the use of additional features."
            ]
          },
          "metadata": {
            "tags": []
          }
        },
        {
          "output_type": "display_data",
          "data": {
            "text/html": [
              "<pre>Preparing data set.</pre>"
            ],
            "text/plain": [
              "Preparing data set."
            ]
          },
          "metadata": {
            "tags": []
          }
        },
        {
          "output_type": "display_data",
          "data": {
            "text/html": [
              "<pre>    Data has 7000 observations with 6296 users and 4627 items.</pre>"
            ],
            "text/plain": [
              "    Data has 7000 observations with 6296 users and 4627 items."
            ]
          },
          "metadata": {
            "tags": []
          }
        },
        {
          "output_type": "display_data",
          "data": {
            "text/html": [
              "<pre>    Data prepared in: 0.023644s</pre>"
            ],
            "text/plain": [
              "    Data prepared in: 0.023644s"
            ]
          },
          "metadata": {
            "tags": []
          }
        },
        {
          "output_type": "display_data",
          "data": {
            "text/html": [
              "<pre>7000 observations to process; with 4627 unique items.</pre>"
            ],
            "text/plain": [
              "7000 observations to process; with 4627 unique items."
            ]
          },
          "metadata": {
            "tags": []
          }
        }
      ]
    },
    {
      "cell_type": "code",
      "metadata": {
        "id": "IpjX_Fr3Sl2Y",
        "colab_type": "code",
        "colab": {
          "base_uri": "https://localhost:8080/",
          "height": 417
        },
        "outputId": "739ef865-d275-4109-fc07-7bf1d7fc0ebb"
      },
      "source": [
        "# Se generan las recomendaciones para un Cliente\n",
        "productos_recomendado(fac_producto,'e4bb330e4e0967e8cdd333d1e8b1df2f',5)\n",
        "productos_recomendado(dum_producto,'e4bb330e4e0967e8cdd333d1e8b1df2f',5)"
      ],
      "execution_count": 9,
      "outputs": [
        {
          "output_type": "stream",
          "text": [
            "+-------------+-------------------------------+-------+------+\n",
            "| customer_id |           product_id          | score | rank |\n",
            "+-------------+-------------------------------+-------+------+\n",
            "|      e      | 382132cf96c88a277a65226833... |  1.0  |  1   |\n",
            "|      e      | 672a21bf17c63f71edbe01ecb9... |  1.0  |  2   |\n",
            "|      e      | 82a61259a621866c4ba63743da... |  1.0  |  3   |\n",
            "|      e      | 2e64d11879c5bbda600381dbb5... |  1.0  |  4   |\n",
            "|      e      | c1f5307decb89342351bec5366... |  1.0  |  5   |\n",
            "+-------------+-------------------------------+-------+------+\n",
            "[160 rows x 4 columns]\n",
            "\n",
            "+-------------+-------------------------------+-------+------+\n",
            "| customer_id |           product_id          | score | rank |\n",
            "+-------------+-------------------------------+-------+------+\n",
            "|      e      | aadff88486740e0b0ebe2be6c0... |  1.0  |  1   |\n",
            "|      e      | 7c55ea4aea1acf1ce11440010f... |  1.0  |  2   |\n",
            "|      e      | 68ad45d48d69404aeb71ce87e1... |  1.0  |  3   |\n",
            "|      e      | 4520766ec412348b8d4caa5e8a... |  1.0  |  4   |\n",
            "|      e      | 68bf2e76db1d8e846042e54da8... |  1.0  |  5   |\n",
            "+-------------+-------------------------------+-------+------+\n",
            "[160 rows x 4 columns]\n",
            "\n"
          ],
          "name": "stdout"
        }
      ]
    },
    {
      "cell_type": "markdown",
      "metadata": {
        "id": "D7p0zJxaZKD4",
        "colab_type": "text"
      },
      "source": [
        "### 1.4 Motor de recomendación Colaborativo\n",
        "Este modelo genera recomendaciones con base en el comportamiento de compra que tienen los usuarios. <br>\n",
        "Con este fin se realizan pruebas con dos enfoques, la distancia coseno y pearson para evaluar cual es el que da mejores resultados"
      ]
    },
    {
      "cell_type": "code",
      "metadata": {
        "id": "2ZjeevWDZpNO",
        "colab_type": "code",
        "colab": {
          "base_uri": "https://localhost:8080/",
          "height": 868
        },
        "outputId": "31dd82fe-cbac-4dec-f7e5-2f3c8cc8ef06"
      },
      "source": [
        "# Se generan las recomendaciones por dataset\n",
        "fac_coseno = modelo_requerido('distancia_coseno',train_data,'total_frecuencia' )\n",
        "dum_coseno = modelo_requerido('distancia_coseno' ,train_data_dummy, 'total_dummy')"
      ],
      "execution_count": 10,
      "outputs": [
        {
          "output_type": "stream",
          "text": [
            "Modelo solicitado:distancia_coseno\n"
          ],
          "name": "stdout"
        },
        {
          "output_type": "display_data",
          "data": {
            "text/html": [
              "<pre>Preparing data set.</pre>"
            ],
            "text/plain": [
              "Preparing data set."
            ]
          },
          "metadata": {
            "tags": []
          }
        },
        {
          "output_type": "display_data",
          "data": {
            "text/html": [
              "<pre>    Data has 10018 observations with 6975 users and 1229 items.</pre>"
            ],
            "text/plain": [
              "    Data has 10018 observations with 6975 users and 1229 items."
            ]
          },
          "metadata": {
            "tags": []
          }
        },
        {
          "output_type": "display_data",
          "data": {
            "text/html": [
              "<pre>    Data prepared in: 0.032755s</pre>"
            ],
            "text/plain": [
              "    Data prepared in: 0.032755s"
            ]
          },
          "metadata": {
            "tags": []
          }
        },
        {
          "output_type": "display_data",
          "data": {
            "text/html": [
              "<pre>Training model from provided data.</pre>"
            ],
            "text/plain": [
              "Training model from provided data."
            ]
          },
          "metadata": {
            "tags": []
          }
        },
        {
          "output_type": "display_data",
          "data": {
            "text/html": [
              "<pre>Gathering per-item and per-user statistics.</pre>"
            ],
            "text/plain": [
              "Gathering per-item and per-user statistics."
            ]
          },
          "metadata": {
            "tags": []
          }
        },
        {
          "output_type": "display_data",
          "data": {
            "text/html": [
              "<pre>+--------------------------------+------------+</pre>"
            ],
            "text/plain": [
              "+--------------------------------+------------+"
            ]
          },
          "metadata": {
            "tags": []
          }
        },
        {
          "output_type": "display_data",
          "data": {
            "text/html": [
              "<pre>| Elapsed Time (Item Statistics) | % Complete |</pre>"
            ],
            "text/plain": [
              "| Elapsed Time (Item Statistics) | % Complete |"
            ]
          },
          "metadata": {
            "tags": []
          }
        },
        {
          "output_type": "display_data",
          "data": {
            "text/html": [
              "<pre>+--------------------------------+------------+</pre>"
            ],
            "text/plain": [
              "+--------------------------------+------------+"
            ]
          },
          "metadata": {
            "tags": []
          }
        },
        {
          "output_type": "display_data",
          "data": {
            "text/html": [
              "<pre>| 533us                          | 14.25      |</pre>"
            ],
            "text/plain": [
              "| 533us                          | 14.25      |"
            ]
          },
          "metadata": {
            "tags": []
          }
        },
        {
          "output_type": "display_data",
          "data": {
            "text/html": [
              "<pre>| 1.132ms                        | 100        |</pre>"
            ],
            "text/plain": [
              "| 1.132ms                        | 100        |"
            ]
          },
          "metadata": {
            "tags": []
          }
        },
        {
          "output_type": "display_data",
          "data": {
            "text/html": [
              "<pre>+--------------------------------+------------+</pre>"
            ],
            "text/plain": [
              "+--------------------------------+------------+"
            ]
          },
          "metadata": {
            "tags": []
          }
        },
        {
          "output_type": "display_data",
          "data": {
            "text/html": [
              "<pre>Setting up lookup tables.</pre>"
            ],
            "text/plain": [
              "Setting up lookup tables."
            ]
          },
          "metadata": {
            "tags": []
          }
        },
        {
          "output_type": "display_data",
          "data": {
            "text/html": [
              "<pre>Processing data in one pass using dense lookup tables.</pre>"
            ],
            "text/plain": [
              "Processing data in one pass using dense lookup tables."
            ]
          },
          "metadata": {
            "tags": []
          }
        },
        {
          "output_type": "display_data",
          "data": {
            "text/html": [
              "<pre>+-------------------------------------+------------------+-----------------+</pre>"
            ],
            "text/plain": [
              "+-------------------------------------+------------------+-----------------+"
            ]
          },
          "metadata": {
            "tags": []
          }
        },
        {
          "output_type": "display_data",
          "data": {
            "text/html": [
              "<pre>| Elapsed Time (Constructing Lookups) | Total % Complete | Items Processed |</pre>"
            ],
            "text/plain": [
              "| Elapsed Time (Constructing Lookups) | Total % Complete | Items Processed |"
            ]
          },
          "metadata": {
            "tags": []
          }
        },
        {
          "output_type": "display_data",
          "data": {
            "text/html": [
              "<pre>+-------------------------------------+------------------+-----------------+</pre>"
            ],
            "text/plain": [
              "+-------------------------------------+------------------+-----------------+"
            ]
          },
          "metadata": {
            "tags": []
          }
        },
        {
          "output_type": "display_data",
          "data": {
            "text/html": [
              "<pre>| 3.337ms                             | 0                | 0               |</pre>"
            ],
            "text/plain": [
              "| 3.337ms                             | 0                | 0               |"
            ]
          },
          "metadata": {
            "tags": []
          }
        },
        {
          "output_type": "display_data",
          "data": {
            "text/html": [
              "<pre>| 39.165ms                            | 100              | 1229            |</pre>"
            ],
            "text/plain": [
              "| 39.165ms                            | 100              | 1229            |"
            ]
          },
          "metadata": {
            "tags": []
          }
        },
        {
          "output_type": "display_data",
          "data": {
            "text/html": [
              "<pre>+-------------------------------------+------------------+-----------------+</pre>"
            ],
            "text/plain": [
              "+-------------------------------------+------------------+-----------------+"
            ]
          },
          "metadata": {
            "tags": []
          }
        },
        {
          "output_type": "display_data",
          "data": {
            "text/html": [
              "<pre>Finalizing lookup tables.</pre>"
            ],
            "text/plain": [
              "Finalizing lookup tables."
            ]
          },
          "metadata": {
            "tags": []
          }
        },
        {
          "output_type": "display_data",
          "data": {
            "text/html": [
              "<pre>Generating candidate set for working with new users.</pre>"
            ],
            "text/plain": [
              "Generating candidate set for working with new users."
            ]
          },
          "metadata": {
            "tags": []
          }
        },
        {
          "output_type": "display_data",
          "data": {
            "text/html": [
              "<pre>Finished training in 1.04554s</pre>"
            ],
            "text/plain": [
              "Finished training in 1.04554s"
            ]
          },
          "metadata": {
            "tags": []
          }
        },
        {
          "output_type": "stream",
          "text": [
            "Modelo solicitado:distancia_coseno\n"
          ],
          "name": "stdout"
        },
        {
          "output_type": "display_data",
          "data": {
            "text/html": [
              "<pre>Warning: Ignoring columns order_id, order_item_id, customer_zip_code_prefix, shipping_limit_date, price, freight_value, total_value, credit_card, debit_card, boleto, voucher, not_defined, num_txn, order_status, order_purchase_timestamp, order_approved_at, order_delivered_carrier_date, order_delivered_customer_date, order_estimated_delivery_date;</pre>"
            ],
            "text/plain": [
              "Warning: Ignoring columns order_id, order_item_id, customer_zip_code_prefix, shipping_limit_date, price, freight_value, total_value, credit_card, debit_card, boleto, voucher, not_defined, num_txn, order_status, order_purchase_timestamp, order_approved_at, order_delivered_carrier_date, order_delivered_customer_date, order_estimated_delivery_date;"
            ]
          },
          "metadata": {
            "tags": []
          }
        },
        {
          "output_type": "display_data",
          "data": {
            "text/html": [
              "<pre>    To use these columns in scoring predictions, use a model that allows the use of additional features.</pre>"
            ],
            "text/plain": [
              "    To use these columns in scoring predictions, use a model that allows the use of additional features."
            ]
          },
          "metadata": {
            "tags": []
          }
        },
        {
          "output_type": "display_data",
          "data": {
            "text/html": [
              "<pre>Preparing data set.</pre>"
            ],
            "text/plain": [
              "Preparing data set."
            ]
          },
          "metadata": {
            "tags": []
          }
        },
        {
          "output_type": "display_data",
          "data": {
            "text/html": [
              "<pre>    Data has 7000 observations with 6296 users and 4627 items.</pre>"
            ],
            "text/plain": [
              "    Data has 7000 observations with 6296 users and 4627 items."
            ]
          },
          "metadata": {
            "tags": []
          }
        },
        {
          "output_type": "display_data",
          "data": {
            "text/html": [
              "<pre>    Data prepared in: 0.025244s</pre>"
            ],
            "text/plain": [
              "    Data prepared in: 0.025244s"
            ]
          },
          "metadata": {
            "tags": []
          }
        },
        {
          "output_type": "display_data",
          "data": {
            "text/html": [
              "<pre>Training model from provided data.</pre>"
            ],
            "text/plain": [
              "Training model from provided data."
            ]
          },
          "metadata": {
            "tags": []
          }
        },
        {
          "output_type": "display_data",
          "data": {
            "text/html": [
              "<pre>Gathering per-item and per-user statistics.</pre>"
            ],
            "text/plain": [
              "Gathering per-item and per-user statistics."
            ]
          },
          "metadata": {
            "tags": []
          }
        },
        {
          "output_type": "display_data",
          "data": {
            "text/html": [
              "<pre>+--------------------------------+------------+</pre>"
            ],
            "text/plain": [
              "+--------------------------------+------------+"
            ]
          },
          "metadata": {
            "tags": []
          }
        },
        {
          "output_type": "display_data",
          "data": {
            "text/html": [
              "<pre>| Elapsed Time (Item Statistics) | % Complete |</pre>"
            ],
            "text/plain": [
              "| Elapsed Time (Item Statistics) | % Complete |"
            ]
          },
          "metadata": {
            "tags": []
          }
        },
        {
          "output_type": "display_data",
          "data": {
            "text/html": [
              "<pre>+--------------------------------+------------+</pre>"
            ],
            "text/plain": [
              "+--------------------------------+------------+"
            ]
          },
          "metadata": {
            "tags": []
          }
        },
        {
          "output_type": "display_data",
          "data": {
            "text/html": [
              "<pre>| 279us                          | 15.75      |</pre>"
            ],
            "text/plain": [
              "| 279us                          | 15.75      |"
            ]
          },
          "metadata": {
            "tags": []
          }
        },
        {
          "output_type": "display_data",
          "data": {
            "text/html": [
              "<pre>| 999us                          | 100        |</pre>"
            ],
            "text/plain": [
              "| 999us                          | 100        |"
            ]
          },
          "metadata": {
            "tags": []
          }
        },
        {
          "output_type": "display_data",
          "data": {
            "text/html": [
              "<pre>+--------------------------------+------------+</pre>"
            ],
            "text/plain": [
              "+--------------------------------+------------+"
            ]
          },
          "metadata": {
            "tags": []
          }
        },
        {
          "output_type": "display_data",
          "data": {
            "text/html": [
              "<pre>Setting up lookup tables.</pre>"
            ],
            "text/plain": [
              "Setting up lookup tables."
            ]
          },
          "metadata": {
            "tags": []
          }
        },
        {
          "output_type": "display_data",
          "data": {
            "text/html": [
              "<pre>Processing data in one pass using dense lookup tables.</pre>"
            ],
            "text/plain": [
              "Processing data in one pass using dense lookup tables."
            ]
          },
          "metadata": {
            "tags": []
          }
        },
        {
          "output_type": "display_data",
          "data": {
            "text/html": [
              "<pre>+-------------------------------------+------------------+-----------------+</pre>"
            ],
            "text/plain": [
              "+-------------------------------------+------------------+-----------------+"
            ]
          },
          "metadata": {
            "tags": []
          }
        },
        {
          "output_type": "display_data",
          "data": {
            "text/html": [
              "<pre>| Elapsed Time (Constructing Lookups) | Total % Complete | Items Processed |</pre>"
            ],
            "text/plain": [
              "| Elapsed Time (Constructing Lookups) | Total % Complete | Items Processed |"
            ]
          },
          "metadata": {
            "tags": []
          }
        },
        {
          "output_type": "display_data",
          "data": {
            "text/html": [
              "<pre>+-------------------------------------+------------------+-----------------+</pre>"
            ],
            "text/plain": [
              "+-------------------------------------+------------------+-----------------+"
            ]
          },
          "metadata": {
            "tags": []
          }
        },
        {
          "output_type": "display_data",
          "data": {
            "text/html": [
              "<pre>| 23.438ms                            | 0                | 0               |</pre>"
            ],
            "text/plain": [
              "| 23.438ms                            | 0                | 0               |"
            ]
          },
          "metadata": {
            "tags": []
          }
        },
        {
          "output_type": "display_data",
          "data": {
            "text/html": [
              "<pre>| 127.608ms                           | 100              | 4627            |</pre>"
            ],
            "text/plain": [
              "| 127.608ms                           | 100              | 4627            |"
            ]
          },
          "metadata": {
            "tags": []
          }
        },
        {
          "output_type": "display_data",
          "data": {
            "text/html": [
              "<pre>+-------------------------------------+------------------+-----------------+</pre>"
            ],
            "text/plain": [
              "+-------------------------------------+------------------+-----------------+"
            ]
          },
          "metadata": {
            "tags": []
          }
        },
        {
          "output_type": "display_data",
          "data": {
            "text/html": [
              "<pre>Finalizing lookup tables.</pre>"
            ],
            "text/plain": [
              "Finalizing lookup tables."
            ]
          },
          "metadata": {
            "tags": []
          }
        },
        {
          "output_type": "display_data",
          "data": {
            "text/html": [
              "<pre>Generating candidate set for working with new users.</pre>"
            ],
            "text/plain": [
              "Generating candidate set for working with new users."
            ]
          },
          "metadata": {
            "tags": []
          }
        },
        {
          "output_type": "display_data",
          "data": {
            "text/html": [
              "<pre>Finished training in 0.132164s</pre>"
            ],
            "text/plain": [
              "Finished training in 0.132164s"
            ]
          },
          "metadata": {
            "tags": []
          }
        }
      ]
    },
    {
      "cell_type": "code",
      "metadata": {
        "id": "0AgQTFzOZ7a6",
        "colab_type": "code",
        "colab": {
          "base_uri": "https://localhost:8080/",
          "height": 417
        },
        "outputId": "f56b0624-aefe-4bc6-8a7b-18299f3e59c3"
      },
      "source": [
        "productos_recomendado(fac_coseno,'e4bb330e4e0967e8cdd333d1e8b1df2f',5)\n",
        "productos_recomendado(dum_coseno,'e4bb330e4e0967e8cdd333d1e8b1df2f',5)"
      ],
      "execution_count": 11,
      "outputs": [
        {
          "output_type": "stream",
          "text": [
            "+-------------+-------------------------------+---------------------+------+\n",
            "| customer_id |           product_id          |        score        | rank |\n",
            "+-------------+-------------------------------+---------------------+------+\n",
            "|      e      | a5f6ba3fe91a2e73f10b612131... | 0.07471107482910157 |  1   |\n",
            "|      e      | 72ef87b1953a2844ed089bd6dc... | 0.07471107482910157 |  2   |\n",
            "|      e      | 0dadef6ed70b861b14eddb3a3c... | 0.07471107482910157 |  3   |\n",
            "|      e      | 1b0e39ec889889ea1d492603d8... | 0.07471107482910157 |  4   |\n",
            "|      e      | 78a727ba961fe7561d533e153b... | 0.07470573544502258 |  5   |\n",
            "+-------------+-------------------------------+---------------------+------+\n",
            "[160 rows x 4 columns]\n",
            "\n",
            "+-------------+-------------------------------+-------+------+\n",
            "| customer_id |           product_id          | score | rank |\n",
            "+-------------+-------------------------------+-------+------+\n",
            "|      e      | aadff88486740e0b0ebe2be6c0... |  0.0  |  1   |\n",
            "|      e      | 7c55ea4aea1acf1ce11440010f... |  0.0  |  2   |\n",
            "|      e      | 68ad45d48d69404aeb71ce87e1... |  0.0  |  3   |\n",
            "|      e      | 4520766ec412348b8d4caa5e8a... |  0.0  |  4   |\n",
            "|      e      | 68bf2e76db1d8e846042e54da8... |  0.0  |  5   |\n",
            "+-------------+-------------------------------+-------+------+\n",
            "[160 rows x 4 columns]\n",
            "\n"
          ],
          "name": "stdout"
        }
      ]
    },
    {
      "cell_type": "code",
      "metadata": {
        "id": "bM3u55tOaSOg",
        "colab_type": "code",
        "colab": {
          "base_uri": "https://localhost:8080/",
          "height": 868
        },
        "outputId": "3da72faa-1058-45fa-b77a-9bbd0800e277"
      },
      "source": [
        "# Se generan las recomendaciones por dataset\n",
        "fac_pearson= modelo_requerido('pearson',train_data,'total_frecuencia' )\n",
        "dum_pearson = modelo_requerido('pearson' ,train_data_dummy, 'total_dummy')"
      ],
      "execution_count": 12,
      "outputs": [
        {
          "output_type": "stream",
          "text": [
            "Modelo solicitado:pearson\n"
          ],
          "name": "stdout"
        },
        {
          "output_type": "display_data",
          "data": {
            "text/html": [
              "<pre>Preparing data set.</pre>"
            ],
            "text/plain": [
              "Preparing data set."
            ]
          },
          "metadata": {
            "tags": []
          }
        },
        {
          "output_type": "display_data",
          "data": {
            "text/html": [
              "<pre>    Data has 10018 observations with 6975 users and 1229 items.</pre>"
            ],
            "text/plain": [
              "    Data has 10018 observations with 6975 users and 1229 items."
            ]
          },
          "metadata": {
            "tags": []
          }
        },
        {
          "output_type": "display_data",
          "data": {
            "text/html": [
              "<pre>    Data prepared in: 0.031395s</pre>"
            ],
            "text/plain": [
              "    Data prepared in: 0.031395s"
            ]
          },
          "metadata": {
            "tags": []
          }
        },
        {
          "output_type": "display_data",
          "data": {
            "text/html": [
              "<pre>Training model from provided data.</pre>"
            ],
            "text/plain": [
              "Training model from provided data."
            ]
          },
          "metadata": {
            "tags": []
          }
        },
        {
          "output_type": "display_data",
          "data": {
            "text/html": [
              "<pre>Gathering per-item and per-user statistics.</pre>"
            ],
            "text/plain": [
              "Gathering per-item and per-user statistics."
            ]
          },
          "metadata": {
            "tags": []
          }
        },
        {
          "output_type": "display_data",
          "data": {
            "text/html": [
              "<pre>+--------------------------------+------------+</pre>"
            ],
            "text/plain": [
              "+--------------------------------+------------+"
            ]
          },
          "metadata": {
            "tags": []
          }
        },
        {
          "output_type": "display_data",
          "data": {
            "text/html": [
              "<pre>| Elapsed Time (Item Statistics) | % Complete |</pre>"
            ],
            "text/plain": [
              "| Elapsed Time (Item Statistics) | % Complete |"
            ]
          },
          "metadata": {
            "tags": []
          }
        },
        {
          "output_type": "display_data",
          "data": {
            "text/html": [
              "<pre>+--------------------------------+------------+</pre>"
            ],
            "text/plain": [
              "+--------------------------------+------------+"
            ]
          },
          "metadata": {
            "tags": []
          }
        },
        {
          "output_type": "display_data",
          "data": {
            "text/html": [
              "<pre>| 517us                          | 14.25      |</pre>"
            ],
            "text/plain": [
              "| 517us                          | 14.25      |"
            ]
          },
          "metadata": {
            "tags": []
          }
        },
        {
          "output_type": "display_data",
          "data": {
            "text/html": [
              "<pre>| 1.433ms                        | 100        |</pre>"
            ],
            "text/plain": [
              "| 1.433ms                        | 100        |"
            ]
          },
          "metadata": {
            "tags": []
          }
        },
        {
          "output_type": "display_data",
          "data": {
            "text/html": [
              "<pre>+--------------------------------+------------+</pre>"
            ],
            "text/plain": [
              "+--------------------------------+------------+"
            ]
          },
          "metadata": {
            "tags": []
          }
        },
        {
          "output_type": "display_data",
          "data": {
            "text/html": [
              "<pre>Setting up lookup tables.</pre>"
            ],
            "text/plain": [
              "Setting up lookup tables."
            ]
          },
          "metadata": {
            "tags": []
          }
        },
        {
          "output_type": "display_data",
          "data": {
            "text/html": [
              "<pre>Processing data in one pass using dense lookup tables.</pre>"
            ],
            "text/plain": [
              "Processing data in one pass using dense lookup tables."
            ]
          },
          "metadata": {
            "tags": []
          }
        },
        {
          "output_type": "display_data",
          "data": {
            "text/html": [
              "<pre>+-------------------------------------+------------------+-----------------+</pre>"
            ],
            "text/plain": [
              "+-------------------------------------+------------------+-----------------+"
            ]
          },
          "metadata": {
            "tags": []
          }
        },
        {
          "output_type": "display_data",
          "data": {
            "text/html": [
              "<pre>| Elapsed Time (Constructing Lookups) | Total % Complete | Items Processed |</pre>"
            ],
            "text/plain": [
              "| Elapsed Time (Constructing Lookups) | Total % Complete | Items Processed |"
            ]
          },
          "metadata": {
            "tags": []
          }
        },
        {
          "output_type": "display_data",
          "data": {
            "text/html": [
              "<pre>+-------------------------------------+------------------+-----------------+</pre>"
            ],
            "text/plain": [
              "+-------------------------------------+------------------+-----------------+"
            ]
          },
          "metadata": {
            "tags": []
          }
        },
        {
          "output_type": "display_data",
          "data": {
            "text/html": [
              "<pre>| 3.486ms                             | 0                | 0               |</pre>"
            ],
            "text/plain": [
              "| 3.486ms                             | 0                | 0               |"
            ]
          },
          "metadata": {
            "tags": []
          }
        },
        {
          "output_type": "display_data",
          "data": {
            "text/html": [
              "<pre>| 44.507ms                            | 100              | 1229            |</pre>"
            ],
            "text/plain": [
              "| 44.507ms                            | 100              | 1229            |"
            ]
          },
          "metadata": {
            "tags": []
          }
        },
        {
          "output_type": "display_data",
          "data": {
            "text/html": [
              "<pre>+-------------------------------------+------------------+-----------------+</pre>"
            ],
            "text/plain": [
              "+-------------------------------------+------------------+-----------------+"
            ]
          },
          "metadata": {
            "tags": []
          }
        },
        {
          "output_type": "display_data",
          "data": {
            "text/html": [
              "<pre>Finalizing lookup tables.</pre>"
            ],
            "text/plain": [
              "Finalizing lookup tables."
            ]
          },
          "metadata": {
            "tags": []
          }
        },
        {
          "output_type": "display_data",
          "data": {
            "text/html": [
              "<pre>Generating candidate set for working with new users.</pre>"
            ],
            "text/plain": [
              "Generating candidate set for working with new users."
            ]
          },
          "metadata": {
            "tags": []
          }
        },
        {
          "output_type": "display_data",
          "data": {
            "text/html": [
              "<pre>Finished training in 0.05282s</pre>"
            ],
            "text/plain": [
              "Finished training in 0.05282s"
            ]
          },
          "metadata": {
            "tags": []
          }
        },
        {
          "output_type": "stream",
          "text": [
            "Modelo solicitado:pearson\n"
          ],
          "name": "stdout"
        },
        {
          "output_type": "display_data",
          "data": {
            "text/html": [
              "<pre>Warning: Ignoring columns order_id, order_item_id, customer_zip_code_prefix, shipping_limit_date, price, freight_value, total_value, credit_card, debit_card, boleto, voucher, not_defined, num_txn, order_status, order_purchase_timestamp, order_approved_at, order_delivered_carrier_date, order_delivered_customer_date, order_estimated_delivery_date;</pre>"
            ],
            "text/plain": [
              "Warning: Ignoring columns order_id, order_item_id, customer_zip_code_prefix, shipping_limit_date, price, freight_value, total_value, credit_card, debit_card, boleto, voucher, not_defined, num_txn, order_status, order_purchase_timestamp, order_approved_at, order_delivered_carrier_date, order_delivered_customer_date, order_estimated_delivery_date;"
            ]
          },
          "metadata": {
            "tags": []
          }
        },
        {
          "output_type": "display_data",
          "data": {
            "text/html": [
              "<pre>    To use these columns in scoring predictions, use a model that allows the use of additional features.</pre>"
            ],
            "text/plain": [
              "    To use these columns in scoring predictions, use a model that allows the use of additional features."
            ]
          },
          "metadata": {
            "tags": []
          }
        },
        {
          "output_type": "display_data",
          "data": {
            "text/html": [
              "<pre>Preparing data set.</pre>"
            ],
            "text/plain": [
              "Preparing data set."
            ]
          },
          "metadata": {
            "tags": []
          }
        },
        {
          "output_type": "display_data",
          "data": {
            "text/html": [
              "<pre>    Data has 7000 observations with 6296 users and 4627 items.</pre>"
            ],
            "text/plain": [
              "    Data has 7000 observations with 6296 users and 4627 items."
            ]
          },
          "metadata": {
            "tags": []
          }
        },
        {
          "output_type": "display_data",
          "data": {
            "text/html": [
              "<pre>    Data prepared in: 0.02661s</pre>"
            ],
            "text/plain": [
              "    Data prepared in: 0.02661s"
            ]
          },
          "metadata": {
            "tags": []
          }
        },
        {
          "output_type": "display_data",
          "data": {
            "text/html": [
              "<pre>Training model from provided data.</pre>"
            ],
            "text/plain": [
              "Training model from provided data."
            ]
          },
          "metadata": {
            "tags": []
          }
        },
        {
          "output_type": "display_data",
          "data": {
            "text/html": [
              "<pre>Gathering per-item and per-user statistics.</pre>"
            ],
            "text/plain": [
              "Gathering per-item and per-user statistics."
            ]
          },
          "metadata": {
            "tags": []
          }
        },
        {
          "output_type": "display_data",
          "data": {
            "text/html": [
              "<pre>+--------------------------------+------------+</pre>"
            ],
            "text/plain": [
              "+--------------------------------+------------+"
            ]
          },
          "metadata": {
            "tags": []
          }
        },
        {
          "output_type": "display_data",
          "data": {
            "text/html": [
              "<pre>| Elapsed Time (Item Statistics) | % Complete |</pre>"
            ],
            "text/plain": [
              "| Elapsed Time (Item Statistics) | % Complete |"
            ]
          },
          "metadata": {
            "tags": []
          }
        },
        {
          "output_type": "display_data",
          "data": {
            "text/html": [
              "<pre>+--------------------------------+------------+</pre>"
            ],
            "text/plain": [
              "+--------------------------------+------------+"
            ]
          },
          "metadata": {
            "tags": []
          }
        },
        {
          "output_type": "display_data",
          "data": {
            "text/html": [
              "<pre>| 337us                          | 15.75      |</pre>"
            ],
            "text/plain": [
              "| 337us                          | 15.75      |"
            ]
          },
          "metadata": {
            "tags": []
          }
        },
        {
          "output_type": "display_data",
          "data": {
            "text/html": [
              "<pre>| 894us                          | 100        |</pre>"
            ],
            "text/plain": [
              "| 894us                          | 100        |"
            ]
          },
          "metadata": {
            "tags": []
          }
        },
        {
          "output_type": "display_data",
          "data": {
            "text/html": [
              "<pre>+--------------------------------+------------+</pre>"
            ],
            "text/plain": [
              "+--------------------------------+------------+"
            ]
          },
          "metadata": {
            "tags": []
          }
        },
        {
          "output_type": "display_data",
          "data": {
            "text/html": [
              "<pre>Setting up lookup tables.</pre>"
            ],
            "text/plain": [
              "Setting up lookup tables."
            ]
          },
          "metadata": {
            "tags": []
          }
        },
        {
          "output_type": "display_data",
          "data": {
            "text/html": [
              "<pre>Processing data in one pass using dense lookup tables.</pre>"
            ],
            "text/plain": [
              "Processing data in one pass using dense lookup tables."
            ]
          },
          "metadata": {
            "tags": []
          }
        },
        {
          "output_type": "display_data",
          "data": {
            "text/html": [
              "<pre>+-------------------------------------+------------------+-----------------+</pre>"
            ],
            "text/plain": [
              "+-------------------------------------+------------------+-----------------+"
            ]
          },
          "metadata": {
            "tags": []
          }
        },
        {
          "output_type": "display_data",
          "data": {
            "text/html": [
              "<pre>| Elapsed Time (Constructing Lookups) | Total % Complete | Items Processed |</pre>"
            ],
            "text/plain": [
              "| Elapsed Time (Constructing Lookups) | Total % Complete | Items Processed |"
            ]
          },
          "metadata": {
            "tags": []
          }
        },
        {
          "output_type": "display_data",
          "data": {
            "text/html": [
              "<pre>+-------------------------------------+------------------+-----------------+</pre>"
            ],
            "text/plain": [
              "+-------------------------------------+------------------+-----------------+"
            ]
          },
          "metadata": {
            "tags": []
          }
        },
        {
          "output_type": "display_data",
          "data": {
            "text/html": [
              "<pre>| 21.118ms                            | 0                | 0               |</pre>"
            ],
            "text/plain": [
              "| 21.118ms                            | 0                | 0               |"
            ]
          },
          "metadata": {
            "tags": []
          }
        },
        {
          "output_type": "display_data",
          "data": {
            "text/html": [
              "<pre>| 115.719ms                           | 100              | 4627            |</pre>"
            ],
            "text/plain": [
              "| 115.719ms                           | 100              | 4627            |"
            ]
          },
          "metadata": {
            "tags": []
          }
        },
        {
          "output_type": "display_data",
          "data": {
            "text/html": [
              "<pre>+-------------------------------------+------------------+-----------------+</pre>"
            ],
            "text/plain": [
              "+-------------------------------------+------------------+-----------------+"
            ]
          },
          "metadata": {
            "tags": []
          }
        },
        {
          "output_type": "display_data",
          "data": {
            "text/html": [
              "<pre>Finalizing lookup tables.</pre>"
            ],
            "text/plain": [
              "Finalizing lookup tables."
            ]
          },
          "metadata": {
            "tags": []
          }
        },
        {
          "output_type": "display_data",
          "data": {
            "text/html": [
              "<pre>Generating candidate set for working with new users.</pre>"
            ],
            "text/plain": [
              "Generating candidate set for working with new users."
            ]
          },
          "metadata": {
            "tags": []
          }
        },
        {
          "output_type": "display_data",
          "data": {
            "text/html": [
              "<pre>Finished training in 0.121529s</pre>"
            ],
            "text/plain": [
              "Finished training in 0.121529s"
            ]
          },
          "metadata": {
            "tags": []
          }
        }
      ]
    },
    {
      "cell_type": "code",
      "metadata": {
        "id": "JtGtNTB8aU1U",
        "colab_type": "code",
        "colab": {
          "base_uri": "https://localhost:8080/",
          "height": 417
        },
        "outputId": "8ef610ed-f2c2-4a49-9f13-b0eb3df6b95e"
      },
      "source": [
        "productos_recomendado(fac_pearson,'e4bb330e4e0967e8cdd333d1e8b1df2f',5)\n",
        "productos_recomendado(dum_pearson,'e4bb330e4e0967e8cdd333d1e8b1df2f',5)"
      ],
      "execution_count": 13,
      "outputs": [
        {
          "output_type": "stream",
          "text": [
            "+-------------+-------------------------------+-------+------+\n",
            "| customer_id |           product_id          | score | rank |\n",
            "+-------------+-------------------------------+-------+------+\n",
            "|      e      | 382132cf96c88a277a65226833... |  1.0  |  1   |\n",
            "|      e      | 672a21bf17c63f71edbe01ecb9... |  1.0  |  2   |\n",
            "|      e      | 82a61259a621866c4ba63743da... |  1.0  |  3   |\n",
            "|      e      | 2e64d11879c5bbda600381dbb5... |  1.0  |  4   |\n",
            "|      e      | c1f5307decb89342351bec5366... |  1.0  |  5   |\n",
            "+-------------+-------------------------------+-------+------+\n",
            "[160 rows x 4 columns]\n",
            "\n",
            "+-------------+-------------------------------+-------+------+\n",
            "| customer_id |           product_id          | score | rank |\n",
            "+-------------+-------------------------------+-------+------+\n",
            "|      e      | aadff88486740e0b0ebe2be6c0... |  0.0  |  1   |\n",
            "|      e      | 7c55ea4aea1acf1ce11440010f... |  0.0  |  2   |\n",
            "|      e      | 68ad45d48d69404aeb71ce87e1... |  0.0  |  3   |\n",
            "|      e      | 4520766ec412348b8d4caa5e8a... |  0.0  |  4   |\n",
            "|      e      | 68bf2e76db1d8e846042e54da8... |  0.0  |  5   |\n",
            "+-------------+-------------------------------+-------+------+\n",
            "[160 rows x 4 columns]\n",
            "\n"
          ],
          "name": "stdout"
        }
      ]
    },
    {
      "cell_type": "markdown",
      "metadata": {
        "id": "rt1oYyEtGEn3",
        "colab_type": "text"
      },
      "source": [
        "### 1.5 Evaluación de Modelos \n",
        "Con el fin de establecer cual es el mejor modelo entre los tres probados, se realiza una validación de estos de forma conjunta "
      ]
    },
    {
      "cell_type": "code",
      "metadata": {
        "id": "tIVMOHxIa19d",
        "colab_type": "code",
        "colab": {
          "base_uri": "https://localhost:8080/",
          "height": 1000
        },
        "outputId": "ca4fe59e-2ab3-43c4-ee28-abf1bfa571d6"
      },
      "source": [
        "evaluacion_modelos('normalizado',test_data)"
      ],
      "execution_count": 14,
      "outputs": [
        {
          "output_type": "stream",
          "text": [
            "PROGRESS: Evaluate model Modelo basado en contenido\n"
          ],
          "name": "stdout"
        },
        {
          "output_type": "display_data",
          "data": {
            "text/html": [
              "<pre>recommendations finished on 1000/3540 queries. users per second: 77760.5</pre>"
            ],
            "text/plain": [
              "recommendations finished on 1000/3540 queries. users per second: 77760.5"
            ]
          },
          "metadata": {
            "tags": []
          }
        },
        {
          "output_type": "display_data",
          "data": {
            "text/html": [
              "<pre>recommendations finished on 2000/3540 queries. users per second: 79728.9</pre>"
            ],
            "text/plain": [
              "recommendations finished on 2000/3540 queries. users per second: 79728.9"
            ]
          },
          "metadata": {
            "tags": []
          }
        },
        {
          "output_type": "display_data",
          "data": {
            "text/html": [
              "<pre>recommendations finished on 3000/3540 queries. users per second: 73612.4</pre>"
            ],
            "text/plain": [
              "recommendations finished on 3000/3540 queries. users per second: 73612.4"
            ]
          },
          "metadata": {
            "tags": []
          }
        },
        {
          "output_type": "stream",
          "text": [
            "\n",
            "Precision and recall summary statistics by cutoff\n",
            "+--------+-----------------------+-----------------------+\n",
            "| cutoff |     mean_precision    |      mean_recall      |\n",
            "+--------+-----------------------+-----------------------+\n",
            "|   1    |  0.000847457627118646 |  0.00056574357074496  |\n",
            "|   2    | 0.0007062146892655381 |  0.000849001265783704 |\n",
            "|   3    | 0.0007532956685499083 | 0.0014147448365286624 |\n",
            "|   4    | 0.0007768361581920922 | 0.0019804884072736305 |\n",
            "|   5    | 0.0008474576271186472 |  0.002687474915871693 |\n",
            "|   6    | 0.0008474576271186431 |  0.002970732610910442 |\n",
            "|   7    |  0.000847457627118647 | 0.0035364761816553967 |\n",
            "|   8    | 0.0007768361581920891 | 0.0035372480009879348 |\n",
            "|   9    | 0.0008160703075957324 |  0.004102991571732885 |\n",
            "|   10   | 0.0008192090395480221 |  0.004527492204624728 |\n",
            "+--------+-----------------------+-----------------------+\n",
            "[10 rows x 3 columns]\n",
            "\n",
            "\n",
            "Overall RMSE: 0.35368532108225\n",
            "\n",
            "Per User RMSE (best)\n",
            "+-------------------------------+------+-------+\n",
            "|          customer_id          | rmse | count |\n",
            "+-------------------------------+------+-------+\n",
            "| 74ad7441d374e44fcdf9938fab... | 0.0  |   1   |\n",
            "+-------------------------------+------+-------+\n",
            "[1 rows x 3 columns]\n",
            "\n",
            "\n",
            "Per User RMSE (worst)\n",
            "+-------------------------------+------+-------+\n",
            "|          customer_id          | rmse | count |\n",
            "+-------------------------------+------+-------+\n",
            "| 7738c1fd7e3b64b02ebac8389f... | 1.0  |   1   |\n",
            "+-------------------------------+------+-------+\n",
            "[1 rows x 3 columns]\n",
            "\n",
            "\n",
            "Per Item RMSE (best)\n",
            "+-------------------------------+------+-------+\n",
            "|           product_id          | rmse | count |\n",
            "+-------------------------------+------+-------+\n",
            "| d5140e1d258c83a340419c6522... | 0.0  |   1   |\n",
            "+-------------------------------+------+-------+\n",
            "[1 rows x 3 columns]\n",
            "\n",
            "\n",
            "Per Item RMSE (worst)\n",
            "+-------------------------------+------+-------+\n",
            "|           product_id          | rmse | count |\n",
            "+-------------------------------+------+-------+\n",
            "| c1f5307decb89342351bec5366... | 1.0  |   2   |\n",
            "+-------------------------------+------+-------+\n",
            "[1 rows x 3 columns]\n",
            "\n",
            "PROGRESS: Evaluate model Modelo Colaborativo - Distancia Coseno\n"
          ],
          "name": "stdout"
        },
        {
          "output_type": "display_data",
          "data": {
            "text/html": [
              "<pre>recommendations finished on 1000/3540 queries. users per second: 56376.1</pre>"
            ],
            "text/plain": [
              "recommendations finished on 1000/3540 queries. users per second: 56376.1"
            ]
          },
          "metadata": {
            "tags": []
          }
        },
        {
          "output_type": "display_data",
          "data": {
            "text/html": [
              "<pre>recommendations finished on 2000/3540 queries. users per second: 51025.6</pre>"
            ],
            "text/plain": [
              "recommendations finished on 2000/3540 queries. users per second: 51025.6"
            ]
          },
          "metadata": {
            "tags": []
          }
        },
        {
          "output_type": "display_data",
          "data": {
            "text/html": [
              "<pre>recommendations finished on 3000/3540 queries. users per second: 51100.4</pre>"
            ],
            "text/plain": [
              "recommendations finished on 3000/3540 queries. users per second: 51100.4"
            ]
          },
          "metadata": {
            "tags": []
          }
        },
        {
          "output_type": "stream",
          "text": [
            "\n",
            "Precision and recall summary statistics by cutoff\n",
            "+--------+----------------------+----------------------+\n",
            "| cutoff |    mean_precision    |     mean_recall      |\n",
            "+--------+----------------------+----------------------+\n",
            "|   1    | 0.029096045197740124 | 0.02881433114136642  |\n",
            "|   2    | 0.015536723163841868 | 0.03051001821493633  |\n",
            "|   3    | 0.010734463276836165 | 0.03121700472353429  |\n",
            "|   4    | 0.008121468926553695 |  0.0312177765428668  |\n",
            "|   5    | 0.006723163841807916 | 0.031924763051464834 |\n",
            "|   6    | 0.00564971751412429  | 0.03192553487079743  |\n",
            "|   7    | 0.004923325262308312 | 0.03206754962798314  |\n",
            "|   8    | 0.004343220338983046 |  0.0320683214473156  |\n",
            "|   9    | 0.003954802259887005 | 0.03263406501806048  |\n",
            "|   10   | 0.003615819209039549 | 0.03291732271309919  |\n",
            "+--------+----------------------+----------------------+\n",
            "[10 rows x 3 columns]\n",
            "\n",
            "\n",
            "Overall RMSE: 0.297332817530416\n",
            "\n",
            "Per User RMSE (best)\n",
            "+-------------------------------+------+-------+\n",
            "|          customer_id          | rmse | count |\n",
            "+-------------------------------+------+-------+\n",
            "| a55d6a572f9ed8a230f10665db... | 0.0  |   1   |\n",
            "+-------------------------------+------+-------+\n",
            "[1 rows x 3 columns]\n",
            "\n",
            "\n",
            "Per User RMSE (worst)\n",
            "+-------------+-------------------+-------+\n",
            "| customer_id |        rmse       | count |\n",
            "+-------------+-------------------+-------+\n",
            "| total_value | 0.999999995411991 |  366  |\n",
            "+-------------+-------------------+-------+\n",
            "[1 rows x 3 columns]\n",
            "\n",
            "\n",
            "Per Item RMSE (best)\n",
            "+-------------------------------+------+-------+\n",
            "|           product_id          | rmse | count |\n",
            "+-------------------------------+------+-------+\n",
            "| 4c7d4a2efde21e3bf1660926fa... | 0.0  |   1   |\n",
            "+-------------------------------+------+-------+\n",
            "[1 rows x 3 columns]\n",
            "\n",
            "\n",
            "Per Item RMSE (worst)\n",
            "+-------------------------------+------+-------+\n",
            "|           product_id          | rmse | count |\n",
            "+-------------------------------+------+-------+\n",
            "| 1164c17af70425821f88bfbdc9... | 1.0  |   1   |\n",
            "+-------------------------------+------+-------+\n",
            "[1 rows x 3 columns]\n",
            "\n",
            "PROGRESS: Evaluate model Modelo Colaborativo - Pearson\n"
          ],
          "name": "stdout"
        },
        {
          "output_type": "display_data",
          "data": {
            "text/html": [
              "<pre>recommendations finished on 1000/3540 queries. users per second: 51765.2</pre>"
            ],
            "text/plain": [
              "recommendations finished on 1000/3540 queries. users per second: 51765.2"
            ]
          },
          "metadata": {
            "tags": []
          }
        },
        {
          "output_type": "display_data",
          "data": {
            "text/html": [
              "<pre>recommendations finished on 2000/3540 queries. users per second: 51336</pre>"
            ],
            "text/plain": [
              "recommendations finished on 2000/3540 queries. users per second: 51336"
            ]
          },
          "metadata": {
            "tags": []
          }
        },
        {
          "output_type": "display_data",
          "data": {
            "text/html": [
              "<pre>recommendations finished on 3000/3540 queries. users per second: 51772.3</pre>"
            ],
            "text/plain": [
              "recommendations finished on 3000/3540 queries. users per second: 51772.3"
            ]
          },
          "metadata": {
            "tags": []
          }
        },
        {
          "output_type": "stream",
          "text": [
            "\n",
            "Precision and recall summary statistics by cutoff\n",
            "+--------+-----------------------+-----------------------+\n",
            "| cutoff |     mean_precision    |      mean_recall      |\n",
            "+--------+-----------------------+-----------------------+\n",
            "|   1    | 0.0008474576271186459 | 0.0005657435707449604 |\n",
            "|   2    | 0.0007062146892655381 | 0.0008490012657837037 |\n",
            "|   3    | 0.0007532956685499078 | 0.0014147448365286618 |\n",
            "|   4    | 0.0007768361581920923 | 0.0019804884072736314 |\n",
            "|   5    | 0.0008474576271186476 |  0.002687474915871691 |\n",
            "|   6    | 0.0008474576271186425 |  0.00297073261091044  |\n",
            "|   7    | 0.0008474576271186451 | 0.0035364761816554006 |\n",
            "|   8    | 0.0007768361581920915 |  0.003537248000987936 |\n",
            "|   9    | 0.0008160703075957312 | 0.0041029915717328775 |\n",
            "|   10   | 0.0008192090395480197 | 0.0045274922046247374 |\n",
            "+--------+-----------------------+-----------------------+\n",
            "[10 rows x 3 columns]\n",
            "\n",
            "\n",
            "Overall RMSE: 0.3616483307276593\n",
            "\n",
            "Per User RMSE (best)\n",
            "+-------------------------------+------+-------+\n",
            "|          customer_id          | rmse | count |\n",
            "+-------------------------------+------+-------+\n",
            "| 74ad7441d374e44fcdf9938fab... | 0.0  |   1   |\n",
            "+-------------------------------+------+-------+\n",
            "[1 rows x 3 columns]\n",
            "\n",
            "\n",
            "Per User RMSE (worst)\n",
            "+-------------------------------+------+-------+\n",
            "|          customer_id          | rmse | count |\n",
            "+-------------------------------+------+-------+\n",
            "| 7738c1fd7e3b64b02ebac8389f... | 1.0  |   1   |\n",
            "+-------------------------------+------+-------+\n",
            "[1 rows x 3 columns]\n",
            "\n",
            "\n",
            "Per Item RMSE (best)\n",
            "+-------------------------------+------+-------+\n",
            "|           product_id          | rmse | count |\n",
            "+-------------------------------+------+-------+\n",
            "| d5140e1d258c83a340419c6522... | 0.0  |   1   |\n",
            "+-------------------------------+------+-------+\n",
            "[1 rows x 3 columns]\n",
            "\n",
            "\n",
            "Per Item RMSE (worst)\n",
            "+-------------------------------+------+-------+\n",
            "|           product_id          | rmse | count |\n",
            "+-------------------------------+------+-------+\n",
            "| c1f5307decb89342351bec5366... | 1.0  |   2   |\n",
            "+-------------------------------+------+-------+\n",
            "[1 rows x 3 columns]\n",
            "\n"
          ],
          "name": "stdout"
        }
      ]
    },
    {
      "cell_type": "code",
      "metadata": {
        "id": "jbarhzLxexiC",
        "colab_type": "code",
        "colab": {
          "base_uri": "https://localhost:8080/",
          "height": 1000
        },
        "outputId": "3a2303a8-5f0d-493c-dcde-2255a3d445e7"
      },
      "source": [
        "evaluacion_modelos('dummy',test_data_dummy)  "
      ],
      "execution_count": 15,
      "outputs": [
        {
          "output_type": "stream",
          "text": [
            "PROGRESS: Evaluate model Modelo Dummy basado en contenido\n"
          ],
          "name": "stdout"
        },
        {
          "output_type": "display_data",
          "data": {
            "text/html": [
              "<pre>recommendations finished on 1000/2869 queries. users per second: 47808</pre>"
            ],
            "text/plain": [
              "recommendations finished on 1000/2869 queries. users per second: 47808"
            ]
          },
          "metadata": {
            "tags": []
          }
        },
        {
          "output_type": "display_data",
          "data": {
            "text/html": [
              "<pre>recommendations finished on 2000/2869 queries. users per second: 45630.8</pre>"
            ],
            "text/plain": [
              "recommendations finished on 2000/2869 queries. users per second: 45630.8"
            ]
          },
          "metadata": {
            "tags": []
          }
        },
        {
          "output_type": "stream",
          "text": [
            "\n",
            "Precision and recall summary statistics by cutoff\n",
            "+--------+------------------------+------------------------+\n",
            "| cutoff |     mean_precision     |      mean_recall       |\n",
            "+--------+------------------------+------------------------+\n",
            "|   1    |          0.0           |          0.0           |\n",
            "|   2    |          0.0           |          0.0           |\n",
            "|   3    | 0.00011618450098756854 | 0.00034855350296270716 |\n",
            "|   4    | 8.713837574067679e-05  | 0.00034855350296270716 |\n",
            "|   5    | 6.971070059254129e-05  | 0.00034855350296270716 |\n",
            "|   6    | 5.809225049378427e-05  | 0.00034855350296270716 |\n",
            "|   7    | 9.958671513220163e-05  | 0.0006971070059254122  |\n",
            "|   8    | 0.00013070756361101483 | 0.0010456605088881186  |\n",
            "|   9    | 0.00011618450098756854 | 0.0010456605088881186  |\n",
            "|   10   | 0.00010456605088881195 | 0.0010456605088881186  |\n",
            "+--------+------------------------+------------------------+\n",
            "[10 rows x 3 columns]\n",
            "\n",
            "\n",
            "Overall RMSE: 0.0\n",
            "\n",
            "Per User RMSE (best)\n",
            "+-------------------------------+------+-------+\n",
            "|          customer_id          | rmse | count |\n",
            "+-------------------------------+------+-------+\n",
            "| a55d6a572f9ed8a230f10665db... | 0.0  |   1   |\n",
            "+-------------------------------+------+-------+\n",
            "[1 rows x 3 columns]\n",
            "\n",
            "\n",
            "Per User RMSE (worst)\n",
            "+-------------------------------+------+-------+\n",
            "|          customer_id          | rmse | count |\n",
            "+-------------------------------+------+-------+\n",
            "| adea59a1abb5ffb0a7ba18bbaa... | 0.0  |   1   |\n",
            "+-------------------------------+------+-------+\n",
            "[1 rows x 3 columns]\n",
            "\n",
            "\n",
            "Per Item RMSE (best)\n",
            "+-------------------------------+------+-------+\n",
            "|           product_id          | rmse | count |\n",
            "+-------------------------------+------+-------+\n",
            "| 9007d9a8a0d332c61d9dd611fa... | 0.0  |   1   |\n",
            "+-------------------------------+------+-------+\n",
            "[1 rows x 3 columns]\n",
            "\n",
            "\n",
            "Per Item RMSE (worst)\n",
            "+-------------------------------+------+-------+\n",
            "|           product_id          | rmse | count |\n",
            "+-------------------------------+------+-------+\n",
            "| 2d2fbde9939c282238dc0847b0... | 0.0  |   1   |\n",
            "+-------------------------------+------+-------+\n",
            "[1 rows x 3 columns]\n",
            "\n",
            "PROGRESS: Evaluate model Modelo Dummy Colaborativo - Distancia Coseno\n"
          ],
          "name": "stdout"
        },
        {
          "output_type": "display_data",
          "data": {
            "text/html": [
              "<pre>recommendations finished on 1000/2869 queries. users per second: 38377.4</pre>"
            ],
            "text/plain": [
              "recommendations finished on 1000/2869 queries. users per second: 38377.4"
            ]
          },
          "metadata": {
            "tags": []
          }
        },
        {
          "output_type": "display_data",
          "data": {
            "text/html": [
              "<pre>recommendations finished on 2000/2869 queries. users per second: 36618</pre>"
            ],
            "text/plain": [
              "recommendations finished on 2000/2869 queries. users per second: 36618"
            ]
          },
          "metadata": {
            "tags": []
          }
        },
        {
          "output_type": "stream",
          "text": [
            "\n",
            "Precision and recall summary statistics by cutoff\n",
            "+--------+------------------------+-----------------------+\n",
            "| cutoff |     mean_precision     |      mean_recall      |\n",
            "+--------+------------------------+-----------------------+\n",
            "|   1    | 0.0013942140118508254  | 0.0013942140118508254 |\n",
            "|   2    | 0.0006971070059254127  | 0.0013942140118508254 |\n",
            "|   3    | 0.0005809225049378411  | 0.0017427675148135272 |\n",
            "|   4    | 0.0004356918787033818  | 0.0017427675148135272 |\n",
            "|   5    |  0.000348553502962706  | 0.0017427675148135272 |\n",
            "|   6    | 0.00029046125246892066 | 0.0017427675148135272 |\n",
            "|   7    | 0.00029876014539660444 |  0.002091321017776233 |\n",
            "|   8    | 0.00030498431509236724 |  0.002439874520738938 |\n",
            "|   9    | 0.00027109716897099267 |  0.002439874520738938 |\n",
            "|   10   | 0.00024398745207389411 |  0.002439874520738938 |\n",
            "+--------+------------------------+-----------------------+\n",
            "[10 rows x 3 columns]\n",
            "\n",
            "\n",
            "Overall RMSE: 0.9960470182500112\n",
            "\n",
            "Per User RMSE (best)\n",
            "+-------------------------------+------+-------+\n",
            "|          customer_id          | rmse | count |\n",
            "+-------------------------------+------+-------+\n",
            "| db9a58053c3f7ab8be9970e6b2... | 0.25 |   3   |\n",
            "+-------------------------------+------+-------+\n",
            "[1 rows x 3 columns]\n",
            "\n",
            "\n",
            "Per User RMSE (worst)\n",
            "+-------------------------------+------+-------+\n",
            "|          customer_id          | rmse | count |\n",
            "+-------------------------------+------+-------+\n",
            "| adea59a1abb5ffb0a7ba18bbaa... | 1.0  |   1   |\n",
            "+-------------------------------+------+-------+\n",
            "[1 rows x 3 columns]\n",
            "\n",
            "\n",
            "Per Item RMSE (best)\n",
            "+-------------------------------+------+-------+\n",
            "|           product_id          | rmse | count |\n",
            "+-------------------------------+------+-------+\n",
            "| 83e2059df06602e05d9bc1abf2... | 0.25 |   1   |\n",
            "+-------------------------------+------+-------+\n",
            "[1 rows x 3 columns]\n",
            "\n",
            "\n",
            "Per Item RMSE (worst)\n",
            "+-------------------------------+------+-------+\n",
            "|           product_id          | rmse | count |\n",
            "+-------------------------------+------+-------+\n",
            "| 2d2fbde9939c282238dc0847b0... | 1.0  |   1   |\n",
            "+-------------------------------+------+-------+\n",
            "[1 rows x 3 columns]\n",
            "\n",
            "PROGRESS: Evaluate model Modelo Dummy Colaborativo - Pearson\n"
          ],
          "name": "stdout"
        },
        {
          "output_type": "display_data",
          "data": {
            "text/html": [
              "<pre>recommendations finished on 1000/2869 queries. users per second: 32417</pre>"
            ],
            "text/plain": [
              "recommendations finished on 1000/2869 queries. users per second: 32417"
            ]
          },
          "metadata": {
            "tags": []
          }
        },
        {
          "output_type": "display_data",
          "data": {
            "text/html": [
              "<pre>recommendations finished on 2000/2869 queries. users per second: 30458.6</pre>"
            ],
            "text/plain": [
              "recommendations finished on 2000/2869 queries. users per second: 30458.6"
            ]
          },
          "metadata": {
            "tags": []
          }
        },
        {
          "output_type": "stream",
          "text": [
            "\n",
            "Precision and recall summary statistics by cutoff\n",
            "+--------+------------------------+-----------------------+\n",
            "| cutoff |     mean_precision     |      mean_recall      |\n",
            "+--------+------------------------+-----------------------+\n",
            "|   1    |          0.0           |          0.0          |\n",
            "|   2    |          0.0           |          0.0          |\n",
            "|   3    | 0.00011618450098756866 | 0.0003485535029627069 |\n",
            "|   4    | 8.713837574067672e-05  | 0.0003485535029627069 |\n",
            "|   5    | 6.971070059254129e-05  | 0.0003485535029627069 |\n",
            "|   6    | 5.809225049378433e-05  | 0.0003485535029627069 |\n",
            "|   7    | 9.958671513220168e-05  |  0.000697107005925412 |\n",
            "|   8    | 0.00013070756361101472 | 0.0010456605088881177 |\n",
            "|   9    | 0.00011618450098756854 | 0.0010456605088881177 |\n",
            "|   10   | 0.00010456605088881168 | 0.0010456605088881175 |\n",
            "+--------+------------------------+-----------------------+\n",
            "[10 rows x 3 columns]\n",
            "\n",
            "\n",
            "Overall RMSE: 1.0\n",
            "\n",
            "Per User RMSE (best)\n",
            "+-------------------------------+------+-------+\n",
            "|          customer_id          | rmse | count |\n",
            "+-------------------------------+------+-------+\n",
            "| a55d6a572f9ed8a230f10665db... | 1.0  |   1   |\n",
            "+-------------------------------+------+-------+\n",
            "[1 rows x 3 columns]\n",
            "\n",
            "\n",
            "Per User RMSE (worst)\n",
            "+-------------------------------+------+-------+\n",
            "|          customer_id          | rmse | count |\n",
            "+-------------------------------+------+-------+\n",
            "| adea59a1abb5ffb0a7ba18bbaa... | 1.0  |   1   |\n",
            "+-------------------------------+------+-------+\n",
            "[1 rows x 3 columns]\n",
            "\n",
            "\n",
            "Per Item RMSE (best)\n",
            "+-------------------------------+------+-------+\n",
            "|           product_id          | rmse | count |\n",
            "+-------------------------------+------+-------+\n",
            "| 9007d9a8a0d332c61d9dd611fa... | 1.0  |   1   |\n",
            "+-------------------------------+------+-------+\n",
            "[1 rows x 3 columns]\n",
            "\n",
            "\n",
            "Per Item RMSE (worst)\n",
            "+-------------------------------+------+-------+\n",
            "|           product_id          | rmse | count |\n",
            "+-------------------------------+------+-------+\n",
            "| 2d2fbde9939c282238dc0847b0... | 1.0  |   1   |\n",
            "+-------------------------------+------+-------+\n",
            "[1 rows x 3 columns]\n",
            "\n"
          ],
          "name": "stdout"
        }
      ]
    },
    {
      "cell_type": "markdown",
      "metadata": {
        "id": "0eS0qbkHwduk",
        "colab_type": "text"
      },
      "source": [
        "### 1.6 Exportar recomendaciones\n",
        "Con los resultado obtenidos podemos identificar que el mejor modelo es el Pearson "
      ]
    },
    {
      "cell_type": "code",
      "metadata": {
        "id": "u7JAws8Yc6F2",
        "colab_type": "code",
        "colab": {}
      },
      "source": [
        "exportarRecomendaciones(fac_pearson,datos_clientes.customer_id)\n"
      ],
      "execution_count": 0,
      "outputs": []
    },
    {
      "cell_type": "code",
      "metadata": {
        "id": "dNftsM2c8MJH",
        "colab_type": "code",
        "outputId": "1a0da483-d95e-4adc-d3b5-9d596cbe94e5",
        "trusted": true,
        "colab": {
          "base_uri": "https://localhost:8080/",
          "height": 206
        }
      },
      "source": [
        "datos_facturacion.head()\n",
        "cols = ['customer_id', 'product_id','total_value']\n",
        "datos_proceso= pd.DataFrame(datos_facturacion, columns=cols, dtype=object)\n",
        "datos_proceso.dtypes\n",
        "datos_proceso.head()"
      ],
      "execution_count": 0,
      "outputs": [
        {
          "output_type": "execute_result",
          "data": {
            "text/html": [
              "<div>\n",
              "<table border=\"1\" class=\"dataframe\">\n",
              "  <thead>\n",
              "    <tr style=\"text-align: right;\">\n",
              "      <th></th>\n",
              "      <th>customer_id</th>\n",
              "      <th>product_id</th>\n",
              "      <th>total_value</th>\n",
              "    </tr>\n",
              "  </thead>\n",
              "  <tbody>\n",
              "    <tr>\n",
              "      <th>0</th>\n",
              "      <td>871766c5855e863f6eccc05f988b23cb</td>\n",
              "      <td>4244733e06e7ecb4970a6e2683c13e61</td>\n",
              "      <td>7219</td>\n",
              "    </tr>\n",
              "    <tr>\n",
              "      <th>1</th>\n",
              "      <td>eb28e67c4c0b83846050ddfb8a35d051</td>\n",
              "      <td>e5f2d52b802189ee658865ca93d83a8f</td>\n",
              "      <td>25983</td>\n",
              "    </tr>\n",
              "    <tr>\n",
              "      <th>2</th>\n",
              "      <td>3818d81c6709e39d06b2738a8d3a2474</td>\n",
              "      <td>c777355d18b72b67abbeef9df44fd0fd</td>\n",
              "      <td>21687</td>\n",
              "    </tr>\n",
              "    <tr>\n",
              "      <th>3</th>\n",
              "      <td>af861d436cfc08b2c2ddefd0ba074622</td>\n",
              "      <td>7634da152a4610f1595efa32f14722fc</td>\n",
              "      <td>2578</td>\n",
              "    </tr>\n",
              "    <tr>\n",
              "      <th>4</th>\n",
              "      <td>64b576fb70d441e8f1b2d7d446e483c5</td>\n",
              "      <td>ac6c3623068f30de03045865e4e10089</td>\n",
              "      <td>21804</td>\n",
              "    </tr>\n",
              "  </tbody>\n",
              "</table>\n",
              "</div>"
            ],
            "text/plain": [
              "                        customer_id                        product_id  \\\n",
              "0  871766c5855e863f6eccc05f988b23cb  4244733e06e7ecb4970a6e2683c13e61   \n",
              "1  eb28e67c4c0b83846050ddfb8a35d051  e5f2d52b802189ee658865ca93d83a8f   \n",
              "2  3818d81c6709e39d06b2738a8d3a2474  c777355d18b72b67abbeef9df44fd0fd   \n",
              "3  af861d436cfc08b2c2ddefd0ba074622  7634da152a4610f1595efa32f14722fc   \n",
              "4  64b576fb70d441e8f1b2d7d446e483c5  ac6c3623068f30de03045865e4e10089   \n",
              "\n",
              "  total_value  \n",
              "0        7219  \n",
              "1       25983  \n",
              "2       21687  \n",
              "3        2578  \n",
              "4       21804  "
            ]
          },
          "metadata": {
            "tags": []
          },
          "execution_count": 32
        }
      ]
    },
    {
      "cell_type": "code",
      "metadata": {
        "id": "pkSRa5oPK8Fd",
        "colab_type": "code",
        "outputId": "75ae0353-c820-432f-ec35-f9d5ded432f8",
        "trusted": true,
        "colab": {
          "base_uri": "https://localhost:8080/",
          "height": 226
        }
      },
      "source": [
        "datos_dummy = datos_facturacion.copy()\n",
        "datos_dummy['total_dummy'] = 1\n",
        "datos_dummy.head()"
      ],
      "execution_count": 0,
      "outputs": [
        {
          "output_type": "execute_result",
          "data": {
            "text/html": [
              "<div>\n",
              "<table border=\"1\" class=\"dataframe\">\n",
              "  <thead>\n",
              "    <tr style=\"text-align: right;\">\n",
              "      <th></th>\n",
              "      <th>order_id</th>\n",
              "      <th>order_item_id</th>\n",
              "      <th>product_id</th>\n",
              "      <th>customer_id</th>\n",
              "      <th>customer_zip_code_prefix</th>\n",
              "      <th>seller_id</th>\n",
              "      <th>shipping_limit_date</th>\n",
              "      <th>price</th>\n",
              "      <th>freight_value</th>\n",
              "      <th>total_value</th>\n",
              "      <th>...</th>\n",
              "      <th>voucher</th>\n",
              "      <th>not_defined</th>\n",
              "      <th>num_txn</th>\n",
              "      <th>order_status</th>\n",
              "      <th>order_purchase_timestamp</th>\n",
              "      <th>order_approved_at</th>\n",
              "      <th>order_delivered_carrier_date</th>\n",
              "      <th>order_delivered_customer_date</th>\n",
              "      <th>order_estimated_delivery_date</th>\n",
              "      <th>total_dummy</th>\n",
              "    </tr>\n",
              "  </thead>\n",
              "  <tbody>\n",
              "    <tr>\n",
              "      <th>0</th>\n",
              "      <td>00010242fe8c5a6d1ba2dd792cb16214</td>\n",
              "      <td>1</td>\n",
              "      <td>4244733e06e7ecb4970a6e2683c13e61</td>\n",
              "      <td>871766c5855e863f6eccc05f988b23cb</td>\n",
              "      <td>28013</td>\n",
              "      <td>48436dade18ac8b2bce089ec2a041202</td>\n",
              "      <td>2017-09-19 09:45:35</td>\n",
              "      <td>5890</td>\n",
              "      <td>1329</td>\n",
              "      <td>7219</td>\n",
              "      <td>...</td>\n",
              "      <td>0</td>\n",
              "      <td>0</td>\n",
              "      <td>1</td>\n",
              "      <td>delivered</td>\n",
              "      <td>2017-09-13 08:59:02</td>\n",
              "      <td>2017-09-13 09:45:35</td>\n",
              "      <td>2017-09-19 18:34:16</td>\n",
              "      <td>2017-09-20 23:43:48</td>\n",
              "      <td>2017-09-29</td>\n",
              "      <td>1</td>\n",
              "    </tr>\n",
              "    <tr>\n",
              "      <th>1</th>\n",
              "      <td>00018f77f2f0320c557190d7a144bdd3</td>\n",
              "      <td>1</td>\n",
              "      <td>e5f2d52b802189ee658865ca93d83a8f</td>\n",
              "      <td>eb28e67c4c0b83846050ddfb8a35d051</td>\n",
              "      <td>15775</td>\n",
              "      <td>dd7ddc04e1b6c2c614352b383efe2d36</td>\n",
              "      <td>2017-05-03 11:05:13</td>\n",
              "      <td>23990</td>\n",
              "      <td>1993</td>\n",
              "      <td>25983</td>\n",
              "      <td>...</td>\n",
              "      <td>0</td>\n",
              "      <td>0</td>\n",
              "      <td>1</td>\n",
              "      <td>delivered</td>\n",
              "      <td>2017-04-26 10:53:06</td>\n",
              "      <td>2017-04-26 11:05:13</td>\n",
              "      <td>2017-05-04 14:35:00</td>\n",
              "      <td>2017-05-12 16:04:24</td>\n",
              "      <td>2017-05-15</td>\n",
              "      <td>1</td>\n",
              "    </tr>\n",
              "    <tr>\n",
              "      <th>2</th>\n",
              "      <td>000229ec398224ef6ca0657da4fc703e</td>\n",
              "      <td>1</td>\n",
              "      <td>c777355d18b72b67abbeef9df44fd0fd</td>\n",
              "      <td>3818d81c6709e39d06b2738a8d3a2474</td>\n",
              "      <td>35661</td>\n",
              "      <td>5b51032eddd242adc84c38acab88f23d</td>\n",
              "      <td>2018-01-18 14:48:30</td>\n",
              "      <td>19900</td>\n",
              "      <td>1787</td>\n",
              "      <td>21687</td>\n",
              "      <td>...</td>\n",
              "      <td>0</td>\n",
              "      <td>0</td>\n",
              "      <td>1</td>\n",
              "      <td>delivered</td>\n",
              "      <td>2018-01-14 14:33:31</td>\n",
              "      <td>2018-01-14 14:48:30</td>\n",
              "      <td>2018-01-16 12:36:48</td>\n",
              "      <td>2018-01-22 13:19:16</td>\n",
              "      <td>2018-02-05</td>\n",
              "      <td>1</td>\n",
              "    </tr>\n",
              "    <tr>\n",
              "      <th>3</th>\n",
              "      <td>00024acbcdf0a6daa1e931b038114c75</td>\n",
              "      <td>1</td>\n",
              "      <td>7634da152a4610f1595efa32f14722fc</td>\n",
              "      <td>af861d436cfc08b2c2ddefd0ba074622</td>\n",
              "      <td>12952</td>\n",
              "      <td>9d7a1d34a5052409006425275ba1c2b4</td>\n",
              "      <td>2018-08-15 10:10:18</td>\n",
              "      <td>1299</td>\n",
              "      <td>1279</td>\n",
              "      <td>2578</td>\n",
              "      <td>...</td>\n",
              "      <td>0</td>\n",
              "      <td>0</td>\n",
              "      <td>1</td>\n",
              "      <td>delivered</td>\n",
              "      <td>2018-08-08 10:00:35</td>\n",
              "      <td>2018-08-08 10:10:18</td>\n",
              "      <td>2018-08-10 13:28:00</td>\n",
              "      <td>2018-08-14 13:32:39</td>\n",
              "      <td>2018-08-20</td>\n",
              "      <td>1</td>\n",
              "    </tr>\n",
              "    <tr>\n",
              "      <th>4</th>\n",
              "      <td>00042b26cf59d7ce69dfabb4e55b4fd9</td>\n",
              "      <td>1</td>\n",
              "      <td>ac6c3623068f30de03045865e4e10089</td>\n",
              "      <td>64b576fb70d441e8f1b2d7d446e483c5</td>\n",
              "      <td>13226</td>\n",
              "      <td>df560393f3a51e74553ab94004ba5c87</td>\n",
              "      <td>2017-02-13 13:57:51</td>\n",
              "      <td>19990</td>\n",
              "      <td>1814</td>\n",
              "      <td>21804</td>\n",
              "      <td>...</td>\n",
              "      <td>0</td>\n",
              "      <td>0</td>\n",
              "      <td>1</td>\n",
              "      <td>delivered</td>\n",
              "      <td>2017-02-04 13:57:51</td>\n",
              "      <td>2017-02-04 14:10:13</td>\n",
              "      <td>2017-02-16 09:46:09</td>\n",
              "      <td>2017-03-01 16:42:31</td>\n",
              "      <td>2017-03-17</td>\n",
              "      <td>1</td>\n",
              "    </tr>\n",
              "  </tbody>\n",
              "</table>\n",
              "<p>5 rows × 23 columns</p>\n",
              "</div>"
            ],
            "text/plain": [
              "                           order_id  order_item_id  \\\n",
              "0  00010242fe8c5a6d1ba2dd792cb16214              1   \n",
              "1  00018f77f2f0320c557190d7a144bdd3              1   \n",
              "2  000229ec398224ef6ca0657da4fc703e              1   \n",
              "3  00024acbcdf0a6daa1e931b038114c75              1   \n",
              "4  00042b26cf59d7ce69dfabb4e55b4fd9              1   \n",
              "\n",
              "                         product_id                       customer_id  \\\n",
              "0  4244733e06e7ecb4970a6e2683c13e61  871766c5855e863f6eccc05f988b23cb   \n",
              "1  e5f2d52b802189ee658865ca93d83a8f  eb28e67c4c0b83846050ddfb8a35d051   \n",
              "2  c777355d18b72b67abbeef9df44fd0fd  3818d81c6709e39d06b2738a8d3a2474   \n",
              "3  7634da152a4610f1595efa32f14722fc  af861d436cfc08b2c2ddefd0ba074622   \n",
              "4  ac6c3623068f30de03045865e4e10089  64b576fb70d441e8f1b2d7d446e483c5   \n",
              "\n",
              "   customer_zip_code_prefix                         seller_id  \\\n",
              "0                     28013  48436dade18ac8b2bce089ec2a041202   \n",
              "1                     15775  dd7ddc04e1b6c2c614352b383efe2d36   \n",
              "2                     35661  5b51032eddd242adc84c38acab88f23d   \n",
              "3                     12952  9d7a1d34a5052409006425275ba1c2b4   \n",
              "4                     13226  df560393f3a51e74553ab94004ba5c87   \n",
              "\n",
              "  shipping_limit_date  price  freight_value  total_value     ...      voucher  \\\n",
              "0 2017-09-19 09:45:35   5890           1329         7219     ...            0   \n",
              "1 2017-05-03 11:05:13  23990           1993        25983     ...            0   \n",
              "2 2018-01-18 14:48:30  19900           1787        21687     ...            0   \n",
              "3 2018-08-15 10:10:18   1299           1279         2578     ...            0   \n",
              "4 2017-02-13 13:57:51  19990           1814        21804     ...            0   \n",
              "\n",
              "   not_defined  num_txn  order_status  order_purchase_timestamp  \\\n",
              "0            0        1     delivered       2017-09-13 08:59:02   \n",
              "1            0        1     delivered       2017-04-26 10:53:06   \n",
              "2            0        1     delivered       2018-01-14 14:33:31   \n",
              "3            0        1     delivered       2018-08-08 10:00:35   \n",
              "4            0        1     delivered       2017-02-04 13:57:51   \n",
              "\n",
              "    order_approved_at order_delivered_carrier_date  \\\n",
              "0 2017-09-13 09:45:35          2017-09-19 18:34:16   \n",
              "1 2017-04-26 11:05:13          2017-05-04 14:35:00   \n",
              "2 2018-01-14 14:48:30          2018-01-16 12:36:48   \n",
              "3 2018-08-08 10:10:18          2018-08-10 13:28:00   \n",
              "4 2017-02-04 14:10:13          2017-02-16 09:46:09   \n",
              "\n",
              "  order_delivered_customer_date order_estimated_delivery_date total_dummy  \n",
              "0           2017-09-20 23:43:48                    2017-09-29           1  \n",
              "1           2017-05-12 16:04:24                    2017-05-15           1  \n",
              "2           2018-01-22 13:19:16                    2018-02-05           1  \n",
              "3           2018-08-14 13:32:39                    2018-08-20           1  \n",
              "4           2017-03-01 16:42:31                    2017-03-17           1  \n",
              "\n",
              "[5 rows x 23 columns]"
            ]
          },
          "metadata": {
            "tags": []
          },
          "execution_count": 38
        }
      ]
    },
    {
      "cell_type": "markdown",
      "metadata": {
        "id": "aXWcTVTkFTBJ",
        "colab_type": "text"
      },
      "source": [
        "### 1.1 Colaborativo"
      ]
    },
    {
      "cell_type": "code",
      "metadata": {
        "id": "iOQV0Spz8Nst",
        "colab_type": "code",
        "trusted": true,
        "colab": {}
      },
      "source": [
        "# Se genera una pivot especifica para los campos requeridos del motor de recomendación \n",
        "matrix_usuario_producto = datos_proceso.pivot_table(index='customer_id',columns='product_id', values='total_value',aggfunc='sum')\n",
        "# Se comprueba resultado\n",
        "matrix_usuario_producto.head()"
      ],
      "execution_count": 0,
      "outputs": []
    },
    {
      "cell_type": "markdown",
      "metadata": {
        "id": "9ufvM7BjI9hB",
        "colab_type": "text"
      },
      "source": [
        "Se procede a normalizar la compras para ser comparables entre los valores"
      ]
    },
    {
      "cell_type": "code",
      "metadata": {
        "id": "bFpmf4uWRFJE",
        "colab_type": "code",
        "outputId": "eaccc206-967e-4447-c3f3-be512ba0d75d",
        "trusted": true,
        "colab": {
          "base_uri": "https://localhost:8080/",
          "height": 225
        }
      },
      "source": [
        "matrix_usuario_producto_norm = (matrix_usuario_producto-matrix_usuario_producto.min())/(matrix_usuario_producto.max()-matrix_usuario_producto.min())\n",
        "# Se crea una tabla como resultado de la normalización  \n",
        "d = matrix_usuario_producto_norm.reset_index() \n",
        "d.index.names = ['value_freq'] \n",
        "data_norm = pd.melt(d, id_vars=['customer_id'], value_name='value_freq').dropna()\n",
        "print(data_norm.shape)\n",
        "data_norm.head()"
      ],
      "execution_count": 0,
      "outputs": [
        {
          "output_type": "error",
          "ename": "TypeError",
          "evalue": "Could not operate array([24210.,  4909.,  9290., ...,  6811.,  4104., 10012.]) with block values ",
          "traceback": [
            "\u001b[0;31m---------------------------------------------------------------------------\u001b[0m",
            "\u001b[0;31mMemoryError\u001b[0m                               Traceback (most recent call last)",
            "\u001b[0;32m~/anaconda3_420/lib/python3.5/site-packages/pandas/core/internals.py\u001b[0m in \u001b[0;36meval\u001b[0;34m(self, func, other, raise_on_error, try_cast, mgr)\u001b[0m\n\u001b[1;32m   1158\u001b[0m             \u001b[0;32mwith\u001b[0m \u001b[0mnp\u001b[0m\u001b[0;34m.\u001b[0m\u001b[0merrstate\u001b[0m\u001b[0;34m(\u001b[0m\u001b[0mall\u001b[0m\u001b[0;34m=\u001b[0m\u001b[0;34m'ignore'\u001b[0m\u001b[0;34m)\u001b[0m\u001b[0;34m:\u001b[0m\u001b[0;34m\u001b[0m\u001b[0m\n\u001b[0;32m-> 1159\u001b[0;31m                 \u001b[0mresult\u001b[0m \u001b[0;34m=\u001b[0m \u001b[0mget_result\u001b[0m\u001b[0;34m(\u001b[0m\u001b[0mother\u001b[0m\u001b[0;34m)\u001b[0m\u001b[0;34m\u001b[0m\u001b[0m\n\u001b[0m\u001b[1;32m   1160\u001b[0m \u001b[0;34m\u001b[0m\u001b[0m\n",
            "\u001b[0;32m~/anaconda3_420/lib/python3.5/site-packages/pandas/core/internals.py\u001b[0m in \u001b[0;36mget_result\u001b[0;34m(other)\u001b[0m\n\u001b[1;32m   1128\u001b[0m             \u001b[0;32melse\u001b[0m\u001b[0;34m:\u001b[0m\u001b[0;34m\u001b[0m\u001b[0m\n\u001b[0;32m-> 1129\u001b[0;31m                 \u001b[0mresult\u001b[0m \u001b[0;34m=\u001b[0m \u001b[0mfunc\u001b[0m\u001b[0;34m(\u001b[0m\u001b[0mvalues\u001b[0m\u001b[0;34m,\u001b[0m \u001b[0mother\u001b[0m\u001b[0;34m)\u001b[0m\u001b[0;34m\u001b[0m\u001b[0m\n\u001b[0m\u001b[1;32m   1130\u001b[0m \u001b[0;34m\u001b[0m\u001b[0m\n",
            "\u001b[0;32m~/anaconda3_420/lib/python3.5/site-packages/pandas/core/ops.py\u001b[0m in \u001b[0;36mna_op\u001b[0;34m(x, y)\u001b[0m\n\u001b[1;32m   1169\u001b[0m             result = expressions.evaluate(op, str_rep, x, y,\n\u001b[0;32m-> 1170\u001b[0;31m                                           raise_on_error=True, **eval_kwargs)\n\u001b[0m\u001b[1;32m   1171\u001b[0m         \u001b[0;32mexcept\u001b[0m \u001b[0mTypeError\u001b[0m\u001b[0;34m:\u001b[0m\u001b[0;34m\u001b[0m\u001b[0m\n",
            "\u001b[0;32m~/anaconda3_420/lib/python3.5/site-packages/pandas/computation/expressions.py\u001b[0m in \u001b[0;36mevaluate\u001b[0;34m(op, op_str, a, b, raise_on_error, use_numexpr, **eval_kwargs)\u001b[0m\n\u001b[1;32m    209\u001b[0m         return _evaluate(op, op_str, a, b, raise_on_error=raise_on_error,\n\u001b[0;32m--> 210\u001b[0;31m                          **eval_kwargs)\n\u001b[0m\u001b[1;32m    211\u001b[0m     \u001b[0;32mreturn\u001b[0m \u001b[0m_evaluate_standard\u001b[0m\u001b[0;34m(\u001b[0m\u001b[0mop\u001b[0m\u001b[0;34m,\u001b[0m \u001b[0mop_str\u001b[0m\u001b[0;34m,\u001b[0m \u001b[0ma\u001b[0m\u001b[0;34m,\u001b[0m \u001b[0mb\u001b[0m\u001b[0;34m,\u001b[0m \u001b[0mraise_on_error\u001b[0m\u001b[0;34m=\u001b[0m\u001b[0mraise_on_error\u001b[0m\u001b[0;34m)\u001b[0m\u001b[0;34m\u001b[0m\u001b[0m\n",
            "\u001b[0;32m~/anaconda3_420/lib/python3.5/site-packages/pandas/computation/expressions.py\u001b[0m in \u001b[0;36m_evaluate_numexpr\u001b[0;34m(op, op_str, a, b, raise_on_error, truediv, reversed, **eval_kwargs)\u001b[0m\n\u001b[1;32m    108\u001b[0m                                  \u001b[0mcasting\u001b[0m\u001b[0;34m=\u001b[0m\u001b[0;34m'safe'\u001b[0m\u001b[0;34m,\u001b[0m \u001b[0mtruediv\u001b[0m\u001b[0;34m=\u001b[0m\u001b[0mtruediv\u001b[0m\u001b[0;34m,\u001b[0m\u001b[0;34m\u001b[0m\u001b[0m\n\u001b[0;32m--> 109\u001b[0;31m                                  **eval_kwargs)\n\u001b[0m\u001b[1;32m    110\u001b[0m         \u001b[0;32mexcept\u001b[0m \u001b[0mValueError\u001b[0m \u001b[0;32mas\u001b[0m \u001b[0mdetail\u001b[0m\u001b[0;34m:\u001b[0m\u001b[0;34m\u001b[0m\u001b[0m\n",
            "\u001b[0;32m~/anaconda3_420/lib/python3.5/site-packages/numexpr/necompiler.py\u001b[0m in \u001b[0;36mevaluate\u001b[0;34m(ex, local_dict, global_dict, out, order, casting, **kwargs)\u001b[0m\n\u001b[1;32m    801\u001b[0m     \u001b[0;32mwith\u001b[0m \u001b[0mevaluate_lock\u001b[0m\u001b[0;34m:\u001b[0m\u001b[0;34m\u001b[0m\u001b[0m\n\u001b[0;32m--> 802\u001b[0;31m         \u001b[0;32mreturn\u001b[0m \u001b[0mcompiled_ex\u001b[0m\u001b[0;34m(\u001b[0m\u001b[0;34m*\u001b[0m\u001b[0marguments\u001b[0m\u001b[0;34m,\u001b[0m \u001b[0;34m**\u001b[0m\u001b[0mkwargs\u001b[0m\u001b[0;34m)\u001b[0m\u001b[0;34m\u001b[0m\u001b[0m\n\u001b[0m\u001b[1;32m    803\u001b[0m \u001b[0;34m\u001b[0m\u001b[0m\n",
            "\u001b[0;31mMemoryError\u001b[0m: ",
            "\nDuring handling of the above exception, another exception occurred:\n",
            "\u001b[0;31mTypeError\u001b[0m                                 Traceback (most recent call last)",
            "\u001b[0;32m<ipython-input-36-ee59b7320c47>\u001b[0m in \u001b[0;36m<module>\u001b[0;34m()\u001b[0m\n\u001b[0;32m----> 1\u001b[0;31m \u001b[0mmatrix_usuario_producto_norm\u001b[0m \u001b[0;34m=\u001b[0m \u001b[0;34m(\u001b[0m\u001b[0mmatrix_usuario_producto\u001b[0m\u001b[0;34m-\u001b[0m\u001b[0mmatrix_usuario_producto\u001b[0m\u001b[0;34m.\u001b[0m\u001b[0mmin\u001b[0m\u001b[0;34m(\u001b[0m\u001b[0;34m)\u001b[0m\u001b[0;34m)\u001b[0m\u001b[0;34m/\u001b[0m\u001b[0;34m(\u001b[0m\u001b[0mmatrix_usuario_producto\u001b[0m\u001b[0;34m.\u001b[0m\u001b[0mmax\u001b[0m\u001b[0;34m(\u001b[0m\u001b[0;34m)\u001b[0m\u001b[0;34m-\u001b[0m\u001b[0mmatrix_usuario_producto\u001b[0m\u001b[0;34m.\u001b[0m\u001b[0mmin\u001b[0m\u001b[0;34m(\u001b[0m\u001b[0;34m)\u001b[0m\u001b[0;34m)\u001b[0m\u001b[0;34m\u001b[0m\u001b[0m\n\u001b[0m\u001b[1;32m      2\u001b[0m \u001b[0;31m# Se crea una tabla como resultado de la normalización\u001b[0m\u001b[0;34m\u001b[0m\u001b[0;34m\u001b[0m\u001b[0m\n\u001b[1;32m      3\u001b[0m \u001b[0md\u001b[0m \u001b[0;34m=\u001b[0m \u001b[0mmatrix_usuario_producto_norm\u001b[0m\u001b[0;34m.\u001b[0m\u001b[0mreset_index\u001b[0m\u001b[0;34m(\u001b[0m\u001b[0;34m)\u001b[0m\u001b[0;34m\u001b[0m\u001b[0m\n\u001b[1;32m      4\u001b[0m \u001b[0md\u001b[0m\u001b[0;34m.\u001b[0m\u001b[0mindex\u001b[0m\u001b[0;34m.\u001b[0m\u001b[0mnames\u001b[0m \u001b[0;34m=\u001b[0m \u001b[0;34m[\u001b[0m\u001b[0;34m'value_freq'\u001b[0m\u001b[0;34m]\u001b[0m\u001b[0;34m\u001b[0m\u001b[0m\n\u001b[1;32m      5\u001b[0m \u001b[0mdata_norm\u001b[0m \u001b[0;34m=\u001b[0m \u001b[0mpd\u001b[0m\u001b[0;34m.\u001b[0m\u001b[0mmelt\u001b[0m\u001b[0;34m(\u001b[0m\u001b[0md\u001b[0m\u001b[0;34m,\u001b[0m \u001b[0mid_vars\u001b[0m\u001b[0;34m=\u001b[0m\u001b[0;34m[\u001b[0m\u001b[0;34m'customer_id'\u001b[0m\u001b[0;34m]\u001b[0m\u001b[0;34m,\u001b[0m \u001b[0mvalue_name\u001b[0m\u001b[0;34m=\u001b[0m\u001b[0;34m'value_freq'\u001b[0m\u001b[0;34m)\u001b[0m\u001b[0;34m.\u001b[0m\u001b[0mdropna\u001b[0m\u001b[0;34m(\u001b[0m\u001b[0;34m)\u001b[0m\u001b[0;34m\u001b[0m\u001b[0m\n",
            "\u001b[0;32m~/anaconda3_420/lib/python3.5/site-packages/pandas/core/ops.py\u001b[0m in \u001b[0;36mf\u001b[0;34m(self, other, axis, level, fill_value)\u001b[0m\n\u001b[1;32m   1228\u001b[0m             \u001b[0;32mreturn\u001b[0m \u001b[0mself\u001b[0m\u001b[0;34m.\u001b[0m\u001b[0m_combine_frame\u001b[0m\u001b[0;34m(\u001b[0m\u001b[0mother\u001b[0m\u001b[0;34m,\u001b[0m \u001b[0mna_op\u001b[0m\u001b[0;34m,\u001b[0m \u001b[0mfill_value\u001b[0m\u001b[0;34m,\u001b[0m \u001b[0mlevel\u001b[0m\u001b[0;34m)\u001b[0m\u001b[0;34m\u001b[0m\u001b[0m\n\u001b[1;32m   1229\u001b[0m         \u001b[0;32melif\u001b[0m \u001b[0misinstance\u001b[0m\u001b[0;34m(\u001b[0m\u001b[0mother\u001b[0m\u001b[0;34m,\u001b[0m \u001b[0mABCSeries\u001b[0m\u001b[0;34m)\u001b[0m\u001b[0;34m:\u001b[0m\u001b[0;34m\u001b[0m\u001b[0m\n\u001b[0;32m-> 1230\u001b[0;31m             \u001b[0;32mreturn\u001b[0m \u001b[0mself\u001b[0m\u001b[0;34m.\u001b[0m\u001b[0m_combine_series\u001b[0m\u001b[0;34m(\u001b[0m\u001b[0mother\u001b[0m\u001b[0;34m,\u001b[0m \u001b[0mna_op\u001b[0m\u001b[0;34m,\u001b[0m \u001b[0mfill_value\u001b[0m\u001b[0;34m,\u001b[0m \u001b[0maxis\u001b[0m\u001b[0;34m,\u001b[0m \u001b[0mlevel\u001b[0m\u001b[0;34m)\u001b[0m\u001b[0;34m\u001b[0m\u001b[0m\n\u001b[0m\u001b[1;32m   1231\u001b[0m         \u001b[0;32melse\u001b[0m\u001b[0;34m:\u001b[0m\u001b[0;34m\u001b[0m\u001b[0m\n\u001b[1;32m   1232\u001b[0m             \u001b[0;32mif\u001b[0m \u001b[0mfill_value\u001b[0m \u001b[0;32mis\u001b[0m \u001b[0;32mnot\u001b[0m \u001b[0;32mNone\u001b[0m\u001b[0;34m:\u001b[0m\u001b[0;34m\u001b[0m\u001b[0m\n",
            "\u001b[0;32m~/anaconda3_420/lib/python3.5/site-packages/pandas/core/frame.py\u001b[0m in \u001b[0;36m_combine_series\u001b[0;34m(self, other, func, fill_value, axis, level)\u001b[0m\n\u001b[1;32m   3583\u001b[0m                                                    fill_value=fill_value)\n\u001b[1;32m   3584\u001b[0m         return self._combine_series_infer(other, func, level=level,\n\u001b[0;32m-> 3585\u001b[0;31m                                           fill_value=fill_value)\n\u001b[0m\u001b[1;32m   3586\u001b[0m \u001b[0;34m\u001b[0m\u001b[0m\n\u001b[1;32m   3587\u001b[0m     \u001b[0;32mdef\u001b[0m \u001b[0m_combine_series_infer\u001b[0m\u001b[0;34m(\u001b[0m\u001b[0mself\u001b[0m\u001b[0;34m,\u001b[0m \u001b[0mother\u001b[0m\u001b[0;34m,\u001b[0m \u001b[0mfunc\u001b[0m\u001b[0;34m,\u001b[0m \u001b[0mlevel\u001b[0m\u001b[0;34m=\u001b[0m\u001b[0;32mNone\u001b[0m\u001b[0;34m,\u001b[0m \u001b[0mfill_value\u001b[0m\u001b[0;34m=\u001b[0m\u001b[0;32mNone\u001b[0m\u001b[0;34m)\u001b[0m\u001b[0;34m:\u001b[0m\u001b[0;34m\u001b[0m\u001b[0m\n",
            "\u001b[0;32m~/anaconda3_420/lib/python3.5/site-packages/pandas/core/frame.py\u001b[0m in \u001b[0;36m_combine_series_infer\u001b[0;34m(self, other, func, level, fill_value)\u001b[0m\n\u001b[1;32m   3595\u001b[0m \u001b[0;34m\u001b[0m\u001b[0m\n\u001b[1;32m   3596\u001b[0m         return self._combine_match_columns(other, func, level=level,\n\u001b[0;32m-> 3597\u001b[0;31m                                            fill_value=fill_value)\n\u001b[0m\u001b[1;32m   3598\u001b[0m \u001b[0;34m\u001b[0m\u001b[0m\n\u001b[1;32m   3599\u001b[0m     \u001b[0;32mdef\u001b[0m \u001b[0m_combine_match_index\u001b[0m\u001b[0;34m(\u001b[0m\u001b[0mself\u001b[0m\u001b[0;34m,\u001b[0m \u001b[0mother\u001b[0m\u001b[0;34m,\u001b[0m \u001b[0mfunc\u001b[0m\u001b[0;34m,\u001b[0m \u001b[0mlevel\u001b[0m\u001b[0;34m=\u001b[0m\u001b[0;32mNone\u001b[0m\u001b[0;34m,\u001b[0m \u001b[0mfill_value\u001b[0m\u001b[0;34m=\u001b[0m\u001b[0;32mNone\u001b[0m\u001b[0;34m)\u001b[0m\u001b[0;34m:\u001b[0m\u001b[0;34m\u001b[0m\u001b[0m\n",
            "\u001b[0;32m~/anaconda3_420/lib/python3.5/site-packages/pandas/core/frame.py\u001b[0m in \u001b[0;36m_combine_match_columns\u001b[0;34m(self, other, func, level, fill_value)\u001b[0m\n\u001b[1;32m   3615\u001b[0m \u001b[0;34m\u001b[0m\u001b[0m\n\u001b[1;32m   3616\u001b[0m         new_data = left._data.eval(func=func, other=right,\n\u001b[0;32m-> 3617\u001b[0;31m                                    axes=[left.columns, self.index])\n\u001b[0m\u001b[1;32m   3618\u001b[0m         \u001b[0;32mreturn\u001b[0m \u001b[0mself\u001b[0m\u001b[0;34m.\u001b[0m\u001b[0m_constructor\u001b[0m\u001b[0;34m(\u001b[0m\u001b[0mnew_data\u001b[0m\u001b[0;34m)\u001b[0m\u001b[0;34m\u001b[0m\u001b[0m\n\u001b[1;32m   3619\u001b[0m \u001b[0;34m\u001b[0m\u001b[0m\n",
            "\u001b[0;32m~/anaconda3_420/lib/python3.5/site-packages/pandas/core/internals.py\u001b[0m in \u001b[0;36meval\u001b[0;34m(self, **kwargs)\u001b[0m\n\u001b[1;32m   3160\u001b[0m \u001b[0;34m\u001b[0m\u001b[0m\n\u001b[1;32m   3161\u001b[0m     \u001b[0;32mdef\u001b[0m \u001b[0meval\u001b[0m\u001b[0;34m(\u001b[0m\u001b[0mself\u001b[0m\u001b[0;34m,\u001b[0m \u001b[0;34m**\u001b[0m\u001b[0mkwargs\u001b[0m\u001b[0;34m)\u001b[0m\u001b[0;34m:\u001b[0m\u001b[0;34m\u001b[0m\u001b[0m\n\u001b[0;32m-> 3162\u001b[0;31m         \u001b[0;32mreturn\u001b[0m \u001b[0mself\u001b[0m\u001b[0;34m.\u001b[0m\u001b[0mapply\u001b[0m\u001b[0;34m(\u001b[0m\u001b[0;34m'eval'\u001b[0m\u001b[0;34m,\u001b[0m \u001b[0;34m**\u001b[0m\u001b[0mkwargs\u001b[0m\u001b[0;34m)\u001b[0m\u001b[0;34m\u001b[0m\u001b[0m\n\u001b[0m\u001b[1;32m   3163\u001b[0m \u001b[0;34m\u001b[0m\u001b[0m\n\u001b[1;32m   3164\u001b[0m     \u001b[0;32mdef\u001b[0m \u001b[0mquantile\u001b[0m\u001b[0;34m(\u001b[0m\u001b[0mself\u001b[0m\u001b[0;34m,\u001b[0m \u001b[0;34m**\u001b[0m\u001b[0mkwargs\u001b[0m\u001b[0;34m)\u001b[0m\u001b[0;34m:\u001b[0m\u001b[0;34m\u001b[0m\u001b[0m\n",
            "\u001b[0;32m~/anaconda3_420/lib/python3.5/site-packages/pandas/core/internals.py\u001b[0m in \u001b[0;36mapply\u001b[0;34m(self, f, axes, filter, do_integrity_check, consolidate, **kwargs)\u001b[0m\n\u001b[1;32m   3054\u001b[0m \u001b[0;34m\u001b[0m\u001b[0m\n\u001b[1;32m   3055\u001b[0m             \u001b[0mkwargs\u001b[0m\u001b[0;34m[\u001b[0m\u001b[0;34m'mgr'\u001b[0m\u001b[0;34m]\u001b[0m \u001b[0;34m=\u001b[0m \u001b[0mself\u001b[0m\u001b[0;34m\u001b[0m\u001b[0m\n\u001b[0;32m-> 3056\u001b[0;31m             \u001b[0mapplied\u001b[0m \u001b[0;34m=\u001b[0m \u001b[0mgetattr\u001b[0m\u001b[0;34m(\u001b[0m\u001b[0mb\u001b[0m\u001b[0;34m,\u001b[0m \u001b[0mf\u001b[0m\u001b[0;34m)\u001b[0m\u001b[0;34m(\u001b[0m\u001b[0;34m**\u001b[0m\u001b[0mkwargs\u001b[0m\u001b[0;34m)\u001b[0m\u001b[0;34m\u001b[0m\u001b[0m\n\u001b[0m\u001b[1;32m   3057\u001b[0m             \u001b[0mresult_blocks\u001b[0m \u001b[0;34m=\u001b[0m \u001b[0m_extend_blocks\u001b[0m\u001b[0;34m(\u001b[0m\u001b[0mapplied\u001b[0m\u001b[0;34m,\u001b[0m \u001b[0mresult_blocks\u001b[0m\u001b[0;34m)\u001b[0m\u001b[0;34m\u001b[0m\u001b[0m\n\u001b[1;32m   3058\u001b[0m \u001b[0;34m\u001b[0m\u001b[0m\n",
            "\u001b[0;32m~/anaconda3_420/lib/python3.5/site-packages/pandas/core/internals.py\u001b[0m in \u001b[0;36meval\u001b[0;34m(self, func, other, raise_on_error, try_cast, mgr)\u001b[0m\n\u001b[1;32m   1164\u001b[0m             \u001b[0;32mraise\u001b[0m\u001b[0;34m\u001b[0m\u001b[0m\n\u001b[1;32m   1165\u001b[0m         \u001b[0;32mexcept\u001b[0m \u001b[0mException\u001b[0m \u001b[0;32mas\u001b[0m \u001b[0mdetail\u001b[0m\u001b[0;34m:\u001b[0m\u001b[0;34m\u001b[0m\u001b[0m\n\u001b[0;32m-> 1166\u001b[0;31m             \u001b[0mresult\u001b[0m \u001b[0;34m=\u001b[0m \u001b[0mhandle_error\u001b[0m\u001b[0;34m(\u001b[0m\u001b[0;34m)\u001b[0m\u001b[0;34m\u001b[0m\u001b[0m\n\u001b[0m\u001b[1;32m   1167\u001b[0m \u001b[0;34m\u001b[0m\u001b[0m\n\u001b[1;32m   1168\u001b[0m         \u001b[0;31m# technically a broadcast error in numpy can 'work' by returning a\u001b[0m\u001b[0;34m\u001b[0m\u001b[0;34m\u001b[0m\u001b[0m\n",
            "\u001b[0;32m~/anaconda3_420/lib/python3.5/site-packages/pandas/core/internals.py\u001b[0m in \u001b[0;36mhandle_error\u001b[0;34m()\u001b[0m\n\u001b[1;32m   1147\u001b[0m             \u001b[0;32mif\u001b[0m \u001b[0mraise_on_error\u001b[0m\u001b[0;34m:\u001b[0m\u001b[0;34m\u001b[0m\u001b[0m\n\u001b[1;32m   1148\u001b[0m                 raise TypeError('Could not operate %s with block values %s' %\n\u001b[0;32m-> 1149\u001b[0;31m                                 (repr(other), str(detail)))\n\u001b[0m\u001b[1;32m   1150\u001b[0m             \u001b[0;32melse\u001b[0m\u001b[0;34m:\u001b[0m\u001b[0;34m\u001b[0m\u001b[0m\n\u001b[1;32m   1151\u001b[0m                 \u001b[0;31m# return the values\u001b[0m\u001b[0;34m\u001b[0m\u001b[0;34m\u001b[0m\u001b[0m\n",
            "\u001b[0;31mTypeError\u001b[0m: Could not operate array([24210.,  4909.,  9290., ...,  6811.,  4104., 10012.]) with block values "
          ]
        }
      ]
    },
    {
      "cell_type": "code",
      "metadata": {
        "id": "5MFntGA4JSzU",
        "colab_type": "code",
        "trusted": true,
        "colab": {}
      },
      "source": [
        "def split_data(data):\n",
        "    '''\n",
        "    Splits dataset into training and test set.\n",
        "    \n",
        "    Args:\n",
        "        data (pandas.DataFrame)\n",
        "        \n",
        "    Returns\n",
        "        train_data (tc.SFrame)\n",
        "        test_data (tc.SFrame)\n",
        "    '''\n",
        "    train, test = train_test_split(data, test_size = .2)\n",
        "    train_data = tc.SFrame(train)\n",
        "    test_data = tc.SFrame(test)\n",
        "    return train_data, test_data\n",
        "  \n",
        "  \n",
        "\n",
        "#train_data, test_data = train_test_split(datos_facturacion, test_size = .2)\n",
        "#train_data, test_data = train_test_split(datos_dummy, test_size = .2)\n",
        "\n",
        "\n",
        "train_data, test_data = split_data(datos_facturacion)\n",
        "train_data_dummy, test_data_dummy = split_data(datos_dummy)\n",
        "train_data_norm, test_data_norm = split_data(data_norm)"
      ],
      "execution_count": 0,
      "outputs": []
    },
    {
      "cell_type": "code",
      "metadata": {
        "id": "VGi6-R1EKjHB",
        "colab_type": "code",
        "trusted": true,
        "colab": {}
      },
      "source": [
        "#A more complicated but common approach to predict purchase items is collaborative filtering. \n",
        "#I will discuss more about the popularity model and collaborative filtering in the later section. For now, let’s first define our variables to use in the models:\n",
        "\n",
        "# constant variables to define field names include:\n",
        "user_id = 'customer_id'\n",
        "item_id = 'product_id'\n",
        "users_to_recommend = list(datos_clientes[user_id])\n",
        "n_rec = 10 # number of items to recommend\n",
        "n_display = 30 # to display the first few rows in an output dataset"
      ],
      "execution_count": 0,
      "outputs": []
    },
    {
      "cell_type": "code",
      "metadata": {
        "id": "fr2hDc2JMolD",
        "colab_type": "code",
        "trusted": true,
        "colab": {}
      },
      "source": [
        "def model(train_data, name, user_id, item_id, target, users_to_recommend, n_rec, n_display):\n",
        "    if name == 'popularity':\n",
        "        model = tc.popularity_recommender.create(train_data, \n",
        "                                                    user_id=user_id, \n",
        "                                                    item_id=item_id, \n",
        "                                                    target=target)\n",
        "    elif name == 'cosine':\n",
        "        model = tc.item_similarity_recommender.create(train_data, \n",
        "                                                    user_id=user_id, \n",
        "                                                    item_id=item_id, \n",
        "                                                    target=target, \n",
        "                                                    similarity_type='cosine')\n",
        "    elif name == 'pearson':\n",
        "        model = tc.item_similarity_recommender.create(train_data, \n",
        "                                                    user_id=user_id, \n",
        "                                                    item_id=item_id, \n",
        "                                                    target=target, \n",
        "                                                    similarity_type='pearson')\n",
        "        \n",
        "    recom = model.recommend(users=users_to_recommend, k=n_rec)\n",
        "    recom.print_rows(n_display)\n",
        "    return model"
      ],
      "execution_count": 0,
      "outputs": []
    },
    {
      "cell_type": "code",
      "metadata": {
        "id": "hh_vUIr5Moon",
        "colab_type": "code",
        "trusted": true,
        "colab": {}
      },
      "source": [
        "name = 'popularity'\n",
        "target = 'total_value'\n",
        "popularity_model = model(train_data, name, user_id, item_id, target, users_to_recommend, n_rec, n_display)"
      ],
      "execution_count": 0,
      "outputs": []
    },
    {
      "cell_type": "code",
      "metadata": {
        "id": "5xfjcb-nMozK",
        "colab_type": "code",
        "trusted": true,
        "colab": {}
      },
      "source": [
        "name = 'popularity'\n",
        "target = 'total_dummy'\n",
        "pop_dummy = model(train_data_dummy, name, user_id, item_id, target, users_to_recommend, n_rec, n_display)"
      ],
      "execution_count": 0,
      "outputs": []
    },
    {
      "cell_type": "code",
      "metadata": {
        "id": "GpBNCc1JMo34",
        "colab_type": "code",
        "trusted": true,
        "colab": {}
      },
      "source": [
        "name = 'popularity'\n",
        "target = 'value_freq'\n",
        "pop_norm = model(train_data_norm, name, user_id, item_id, target, users_to_recommend, n_rec, n_display)"
      ],
      "execution_count": 0,
      "outputs": []
    },
    {
      "cell_type": "code",
      "metadata": {
        "id": "AD7_lRS2Mo6F",
        "colab_type": "code",
        "trusted": true,
        "colab": {}
      },
      "source": [
        "#colaborativa\n",
        "name = 'cosine'\n",
        "target = 'total_value'\n",
        "cos = model(train_data, name, user_id, item_id, target, users_to_recommend, n_rec, n_display)"
      ],
      "execution_count": 0,
      "outputs": []
    },
    {
      "cell_type": "code",
      "metadata": {
        "id": "G41BNhmAMpAK",
        "colab_type": "code",
        "trusted": true,
        "colab": {}
      },
      "source": [
        "name = 'cosine'\n",
        "target = 'total_dummy'\n",
        "cos_dummy = model(train_data_dummy, name, user_id, item_id, target, users_to_recommend, n_rec, n_display)\n"
      ],
      "execution_count": 0,
      "outputs": []
    },
    {
      "cell_type": "code",
      "metadata": {
        "id": "SuzckFzVMo9e",
        "colab_type": "code",
        "trusted": true,
        "colab": {}
      },
      "source": [
        "\n",
        "name = 'cosine'\n",
        "target = 'value_freq'\n",
        "cos_norm = model(train_data_norm, name, user_id, item_id, target, users_to_recommend, n_rec, n_display)\n"
      ],
      "execution_count": 0,
      "outputs": []
    },
    {
      "cell_type": "code",
      "metadata": {
        "id": "U_0RuA1CMo1X",
        "colab_type": "code",
        "trusted": true,
        "colab": {}
      },
      "source": [
        "name = 'pearson'\n",
        "target = 'total_value'\n",
        "pear = model(train_data, name, user_id, item_id, target, users_to_recommend, n_rec, n_display)"
      ],
      "execution_count": 0,
      "outputs": []
    },
    {
      "cell_type": "code",
      "metadata": {
        "id": "Ps6wOv1_Mox9",
        "colab_type": "code",
        "trusted": true,
        "colab": {}
      },
      "source": [
        "name = 'pearson'\n",
        "target = 'total_dummy'\n",
        "pear_dummy = model(train_data_dummy, name, user_id, item_id, target, users_to_recommend, n_rec, n_display)"
      ],
      "execution_count": 0,
      "outputs": []
    },
    {
      "cell_type": "code",
      "metadata": {
        "id": "nASXZmJaMov1",
        "colab_type": "code",
        "trusted": true,
        "colab": {}
      },
      "source": [
        "name = 'pearson'\n",
        "target = 'value_freq'\n",
        "pear_norm = model(train_data_norm, name, user_id, item_id, target, users_to_recommend, n_rec, n_display)\n"
      ],
      "execution_count": 0,
      "outputs": []
    },
    {
      "cell_type": "code",
      "metadata": {
        "id": "W-ld6TA6Rqgb",
        "colab_type": "code",
        "trusted": true,
        "colab": {}
      },
      "source": [
        "models_w_counts = [popularity_model, cos, pear]\n",
        "models_w_dummy = [pop_dummy, cos_dummy, pear_dummy]\n",
        "models_w_norm = [pop_norm, cos_norm, pear_norm]\n",
        "names_w_counts = ['Popularity Model on Purchase Counts', 'Cosine Similarity on Purchase Counts', 'Pearson Similarity on Purchase Counts']\n",
        "names_w_dummy = ['Popularity Model on Purchase Dummy', 'Cosine Similarity on Purchase Dummy', 'Pearson Similarity on Purchase Dummy']\n",
        "names_w_norm = ['Popularity Model on Scaled Purchase Counts', 'Cosine Similarity on Scaled Purchase Counts', 'Pearson Similarity on Scaled Purchase Counts']"
      ],
      "execution_count": 0,
      "outputs": []
    },
    {
      "cell_type": "code",
      "metadata": {
        "id": "ZUzFVxu4Rqnc",
        "colab_type": "code",
        "trusted": true,
        "colab": {}
      },
      "source": [
        "eval_counts = tc.recommender.util.compare_models(test_data, models_w_counts, model_names=names_w_counts)"
      ],
      "execution_count": 0,
      "outputs": []
    },
    {
      "cell_type": "code",
      "metadata": {
        "id": "wylVm8Ejy4Tc",
        "colab_type": "code",
        "trusted": true,
        "colab": {}
      },
      "source": [
        "eval_dummy = tc.recommender.util.compare_models(test_data_dummy, models_w_dummy, model_names=names_w_dummy)\n"
      ],
      "execution_count": 0,
      "outputs": []
    },
    {
      "cell_type": "code",
      "metadata": {
        "id": "mRwJ6dP3y6Cr",
        "colab_type": "code",
        "trusted": true,
        "colab": {}
      },
      "source": [
        "eval_norm = tc.recommender.util.compare_models(test_data_norm, models_w_norm, model_names=names_w_norm)"
      ],
      "execution_count": 0,
      "outputs": []
    },
    {
      "cell_type": "code",
      "metadata": {
        "id": "biOrWqe5Rqwl",
        "colab_type": "code",
        "trusted": true,
        "colab": {}
      },
      "source": [
        "final_model = tc.item_similarity_recommender.create(tc.SFrame(data_norm), \n",
        "                                            user_id=user_id, \n",
        "                                            item_id=item_id, \n",
        "                                            target='value_freq', similarity_type='cosine')\n",
        "recom = final_model.recommend(users=users_to_recommend, k=n_rec)\n",
        "recom.print_rows(n_display)"
      ],
      "execution_count": 0,
      "outputs": []
    },
    {
      "cell_type": "code",
      "metadata": {
        "id": "dItyeJf0Rq2q",
        "colab_type": "code",
        "trusted": true,
        "colab": {}
      },
      "source": [
        "df_rec = recom.to_dataframe()\n",
        "print(df_rec.shape)\n",
        "df_rec.head()"
      ],
      "execution_count": 0,
      "outputs": []
    },
    {
      "cell_type": "code",
      "metadata": {
        "id": "x_r_3EtlRqzo",
        "colab_type": "code",
        "trusted": true,
        "colab": {}
      },
      "source": [
        "def create_output(model, users_to_recommend, n_rec, print_csv=True):\n",
        "    recomendation = model.recommend(users=users_to_recommend, k=n_rec)\n",
        "    df_rec = recomendation.to_dataframe()\n",
        "    df_rec['recommendedProducts'] = df_rec.groupby([user_id])[item_id] \\\n",
        "        .transform(lambda x: '|'.join(x.astype(str)))\n",
        "    df_output = df_rec[['customer_id', 'recommendedProducts']].drop_duplicates() \\\n",
        "        .sort_values('customer_id').set_index('customer_id')\n",
        "    if print_csv:\n",
        "        df_output.to_csv(directorio+'option1_recommendation.csv')\n",
        "        print(\"An output file can be found in 'output' folder with name 'option1_recommendation.csv'\")\n",
        "    return df_output"
      ],
      "execution_count": 0,
      "outputs": []
    },
    {
      "cell_type": "code",
      "metadata": {
        "id": "0CeASpebRquR",
        "colab_type": "code",
        "trusted": true,
        "colab": {}
      },
      "source": [
        "df_output = create_output(pear_norm, users_to_recommend, n_rec, print_csv=True)\n",
        "print(df_output.shape)\n",
        "df_output.head()"
      ],
      "execution_count": 0,
      "outputs": []
    },
    {
      "cell_type": "code",
      "metadata": {
        "id": "rGhER8WeRqrH",
        "colab_type": "code",
        "trusted": true,
        "colab": {}
      },
      "source": [
        "def customer_recomendation(customer_id):\n",
        "    if customer_id not in df_output.index:\n",
        "        print('Customer not found.')\n",
        "        return customer_id\n",
        "    return df_output.loc[customer_id]"
      ],
      "execution_count": 0,
      "outputs": []
    },
    {
      "cell_type": "code",
      "metadata": {
        "id": "8BRnRuxIRqkT",
        "colab_type": "code",
        "trusted": true,
        "colab": {}
      },
      "source": [
        "customer_recomendation('000379cdec625522490c315e70c7a9fb')"
      ],
      "execution_count": 0,
      "outputs": []
    },
    {
      "cell_type": "code",
      "metadata": {
        "id": "KA63KR10RqdQ",
        "colab_type": "code",
        "trusted": true,
        "colab": {}
      },
      "source": [
        "#train_data.groupby('product_id').agg({'total_value':'mean'}).sort_values(ascending=False)"
      ],
      "execution_count": 0,
      "outputs": []
    },
    {
      "cell_type": "code",
      "metadata": {
        "id": "tZc2nayDMos7",
        "colab_type": "code",
        "trusted": true,
        "colab": {}
      },
      "source": [
        ""
      ],
      "execution_count": 0,
      "outputs": []
    },
    {
      "cell_type": "code",
      "metadata": {
        "id": "rzKGO3Ek8PNR",
        "colab_type": "code",
        "trusted": true,
        "colab": {}
      },
      "source": [
        "# se genera el enfoque de recomendación con base colaborativo (usuarios a usuarios) cuando tienen historia\n",
        "matrix_usuarios = pd.DataFrame(cosine_similarity(matrix_usuario_producto.fillna(0)))\n",
        "# Se verifica resultado\n",
        "matrix_usuarios.head()"
      ],
      "execution_count": 0,
      "outputs": []
    },
    {
      "cell_type": "code",
      "metadata": {
        "id": "7yLm3eHlMVQ9",
        "colab_type": "code",
        "trusted": true,
        "colab": {}
      },
      "source": [
        ""
      ],
      "execution_count": 0,
      "outputs": []
    },
    {
      "cell_type": "code",
      "metadata": {
        "id": "AD2xlcdFnIJS",
        "colab_type": "code",
        "trusted": true,
        "colab": {}
      },
      "source": [
        "# se cambian los nombres de las columnas con los IDs de los usuarios\n",
        "matrix_usuarios.columns = matrix_usuario_producto.index\n",
        "matrix_usuarios['c_id'] = matrix_usuario_producto.index\n",
        "matrix_usuarios = matrix_usuarios.set_index('c_id')\n",
        "matrix_usuarios.head(10)"
      ],
      "execution_count": 0,
      "outputs": []
    },
    {
      "cell_type": "markdown",
      "metadata": {
        "id": "cznSlOk08S-S",
        "colab_type": "text"
      },
      "source": [
        "#### Aplicación para un cliente\n",
        "En este momento ya se tiene la nueva herramienta de recomendación para ser entregada a los vendedores, a traves de esta se podra tomar a un cliente especifico y generarle una estrategia personalizada de penetración con base en la información historica de clientes similares. <br>\n",
        "Se visualizará a continuación como es el resultado de analizar un cliente con esta herramienta. El objtivo de este producto es que sea integrado a una herramienta BI , la cual facilite el uso de la misma a traves de dispositivos mobiles brindandole así al asesor la posibilidad de ir directamente a visitar a los clientes como parte de esta estrategia de fidelización del cliente. <br>\n",
        "Para este ejemplo se tomará al primer cliente con el id : **0281f03348b06722b7e0f92455daafd4** , el cual se visualiza en la anterior matriz. \n"
      ]
    },
    {
      "cell_type": "code",
      "metadata": {
        "id": "bUb00ID38Qen",
        "colab_type": "code",
        "trusted": true,
        "colab": {}
      },
      "source": [
        "# Se identifican los  usuarios que se relacionan mas con el un cliente analizado, apoyando realizar una penentración de productos proactiva\n",
        "matrix_usuarios.loc['0005ef4cd20d2893f0d9fbd94d3c0d97'].sort_values(ascending=False).head(10)  # se obtienen los primeros cuatro clientes\n",
        "# Ahora se analizará como se pueden penetrarle nuevos productos al cliente 17396 con base en la venta de 12347"
      ],
      "execution_count": 0,
      "outputs": []
    },
    {
      "cell_type": "code",
      "metadata": {
        "id": "SpNoyNJ28dDt",
        "colab_type": "code",
        "trusted": true,
        "colab": {}
      },
      "source": [
        "# Se identifican los productos comprados por aeb3d464f6b83eecd79d6fd58d6208fb    \n",
        "productos_comprados_ref = set(matrix_usuarios.loc['0005ef4cd20d2893f0d9fbd94d3c0d97'].iloc[matrix_usuarios.loc['0005ef4cd20d2893f0d9fbd94d3c0d97'].to_numpy().nonzero()].index)\n",
        "print('Productos comprados cliente referencia:' + str(productos_comprados_ref))\n",
        "# Se identifican los productos comprados por d482c96cc23e02b643f79768912442c2        \n",
        "productos_comprados_target = set(matrix_usuarios.loc['bf429f20c75a39eab83442cda8e59832'].iloc[matrix_usuarios.loc['bf429f20c75a39eab83442cda8e59832'].to_numpy().nonzero()].index)\n",
        "print('Productos cliente a venderle nuevo productos:' + str(productos_comprados_target))\n",
        "# Producto con oportunidad de penetrar al cliente d482c96cc23e02b643f79768912442c2\n",
        "recomendados = productos_comprados_ref - productos_comprados_target\n",
        "print('Productos a venderle:' + str(recomendados))\n",
        "\n"
      ],
      "execution_count": 0,
      "outputs": []
    },
    {
      "cell_type": "code",
      "metadata": {
        "id": "rB1ENRMW8ehz",
        "colab_type": "code",
        "trusted": true,
        "colab": {}
      },
      "source": [
        "datos_producto.loc[datos_producto['product_id'].isin(recomendados),['product_id', 'product_category_name_english']].drop_duplicates().set_index('product_id')"
      ],
      "execution_count": 0,
      "outputs": []
    },
    {
      "cell_type": "markdown",
      "metadata": {
        "id": "-MCWVzpFFXGt",
        "colab_type": "text"
      },
      "source": [
        "### 1.2 Producto"
      ]
    },
    {
      "cell_type": "code",
      "metadata": {
        "id": "iZEVh_F0Fkey",
        "colab_type": "code",
        "trusted": true,
        "colab": {}
      },
      "source": [
        "# se genera el enfoque de recomendación con base en los productos (producto a producto), lo cual es un factor interesante para los nuevos clientes que no tienen historia o\n",
        "# sobre clientes que estan en el proceso de lead a new business. Para este enfoque se realiza a traves de la matriz transpuesta original ya que su enfoque es con vista al producto. \n",
        "matrix_producto = pd.DataFrame(cosine_similarity(matrix_usuario_producto.fillna(0).T))\n",
        "# se cambian los nombres de las columnas con los IDs de los productos\n",
        "matrix_producto.columns = matrix_usuario_producto.T.index\n",
        "matrix_producto['p_id'] = matrix_usuario_producto.T.index\n",
        "matrix_producto = matrix_producto.set_index('p_id')\n",
        "# Se verifica resultado\n",
        "matrix_producto.head()"
      ],
      "execution_count": 0,
      "outputs": []
    },
    {
      "cell_type": "code",
      "metadata": {
        "id": "cjlJf-A5GcK_",
        "colab_type": "code",
        "trusted": true,
        "colab": {}
      },
      "source": [
        "# Se identifican el top de clientes\n",
        "top_10_prod = list(matrix_producto.loc['0009406fd7479715e4bef61dd91f2462'].sort_values(ascending=False).iloc[:10].index)\n",
        "datos_producto.loc[datos_producto['product_id'].isin(top_10_prod)]"
      ],
      "execution_count": 0,
      "outputs": []
    },
    {
      "cell_type": "markdown",
      "metadata": {
        "id": "fcY-GkQiG68d",
        "colab_type": "text"
      },
      "source": [
        "## 2. Segmentación de Clientes"
      ]
    },
    {
      "cell_type": "code",
      "metadata": {
        "id": "2O-Ll5wcq6u_",
        "colab_type": "code",
        "trusted": true,
        "colab": {}
      },
      "source": [
        "from numpy import inf\n",
        "def prevDivision(numerador, denominador):\n",
        "  return numerador / denominador if denominador else 0\n",
        "  "
      ],
      "execution_count": 0,
      "outputs": []
    },
    {
      "cell_type": "code",
      "metadata": {
        "id": "NeaI_BBmG-jQ",
        "colab_type": "code",
        "trusted": true,
        "colab": {}
      },
      "source": [
        "# Agrupo la información de cliente para poder segmentarlo \n",
        "\n",
        "informacion_cliente = datos_facturacion.groupby('customer_id').agg({\n",
        "    'total_value': sum,\n",
        "    'product_id': lambda x: x.nunique(),\n",
        "    'num_txn': sum,\n",
        "    \n",
        "}).fillna(0)\n",
        "\n",
        "informacion_cliente.columns = ['IMP_TOTAL_VENTAS', 'NUM_TOTAL_PRODUCTOS','NUM_TOTAL_TXN']\n",
        "# ESTE HAY QUE CAMBIARLO POR LA MEDIANA\n",
        "informacion_cliente['IMP_VENTA_PROMEDIO'] = informacion_cliente['IMP_TOTAL_VENTAS']/informacion_cliente['NUM_TOTAL_TXN']\n",
        "informacion_cliente.head()"
      ],
      "execution_count": 0,
      "outputs": []
    },
    {
      "cell_type": "code",
      "metadata": {
        "id": "Lt3AfpL9Q3hc",
        "colab_type": "code",
        "trusted": true,
        "colab": {}
      },
      "source": [
        "# Limpiar posibles errores\n",
        "informacion_cliente=informacion_cliente.dropna()\n",
        "informacion_cliente=informacion_cliente[~informacion_cliente.isin([np.nan, np.inf, -np.inf]).any(1)]\n",
        "\n",
        "# se pinta el codo\n",
        "X = np.array(informacion_cliente[[\"IMP_TOTAL_VENTAS\",\"NUM_TOTAL_PRODUCTOS\",\"NUM_TOTAL_TXN\",\"IMP_VENTA_PROMEDIO\"]].dropna())\n",
        "Nc = range(1, 20)\n",
        "kmeans = [KMeans(n_clusters=i) for i in Nc]\n",
        "kmeans\n",
        "score = [kmeans[i].fit(X).score(X) for i in range(len(kmeans))]\n",
        "score\n",
        "\n",
        "plt.plot(Nc,score, 'ro-', markersize=8, lw=2)\n",
        "plt.xlabel('Number of Clusters')\n",
        "plt.ylabel('Score')\n",
        "plt.title('Elbow Curve')\n",
        "plt.show()"
      ],
      "execution_count": 0,
      "outputs": []
    },
    {
      "cell_type": "code",
      "metadata": {
        "id": "xYP5CNkiUmA3",
        "colab_type": "code",
        "trusted": true,
        "colab": {}
      },
      "source": [
        "# Feature Scaling\n",
        "from sklearn.preprocessing import StandardScaler\n",
        "\n",
        "X = informacion_cliente.iloc[:, :].values\n",
        "sc_X = StandardScaler()\n",
        "X= sc_X.fit_transform(X)\n",
        "wcss = [] #With in cluster sum of squers(Inertia)\n",
        "#n_clusters is no.of clusters given by this method,\n",
        "#k-means++ is an random initialization methods for centriods to avoid random\n",
        "#intialization trap,\n",
        "#max_iter is max no of iterations defined when k-means is running\n",
        "#n_init is no of times k-means will run with different initial centroids\n",
        "\n",
        "for i in range(1,11): #From 2-10 doing multiple random initializations can make a huge difference to find a better local optima\n",
        "    kmeans = KMeans(n_clusters = i, init ='k-means++',max_iter=300,n_init=10)\n",
        "    kmeans.fit(X)\n",
        "    wcss.append(kmeans.inertia_)\n",
        "plt.plot(range(1,11) , wcss)\n",
        "plt.title('The Elbow Method')\n",
        "plt.xlabel('Number Of Customer Clusters(customer type clusters)')\n",
        "plt.ylabel('With in cluster sum of squers(WCSS)')\n",
        "plt.show()"
      ],
      "execution_count": 0,
      "outputs": []
    },
    {
      "cell_type": "code",
      "metadata": {
        "id": "W0t-7_tZb0QX",
        "colab_type": "code",
        "trusted": true,
        "colab": {}
      },
      "source": [
        "# Fitting K-Means to the dataset\n",
        "kmeans = KMeans(n_clusters = 3, init = 'k-means++')\n",
        "y_kmeans = kmeans.fit_predict(X)\n",
        "\n",
        "# Visualising the clusters\n",
        "plt.scatter(X[y_kmeans == 0, 0], X[y_kmeans == 0, 1], s = 50, c = 'red', label = 'Customer Type 1')\n",
        "plt.scatter(X[y_kmeans == 1, 0], X[y_kmeans == 1, 1], s = 50, c = 'blue', label = 'Customer Type 2')\n",
        "plt.scatter(X[y_kmeans == 2, 0], X[y_kmeans == 2, 1], s = 50, c = 'green', label = 'Customer Type 3')\n",
        "plt.scatter(kmeans.cluster_centers_[:, 0], kmeans.cluster_centers_[:, 1], s = 100, c = 'yellow', label = 'Centroids')\n",
        "plt.title('Type Of Customers(customer type clusters)')\n",
        "plt.xlabel('Number of items Purchased(Quantity)')\n",
        "plt.ylabel('Product price per unit in sterling(Unit Price)')\n",
        "plt.legend()\n",
        "plt.show()\n",
        "\n",
        "x=[];y=[]\n",
        "for i in range(4339):\n",
        "    x.append(X[i][0])\n",
        "    y.append(X[i][1])\n",
        "plt.scatter(x,y)\n",
        "plt.title('Plot of training data')\n",
        "plt.xlabel('Number of items Purchased(Quantity)')\n",
        "plt.ylabel('Product price per unit in sterling(Unit Price)')\n",
        "plt.show()\n"
      ],
      "execution_count": 0,
      "outputs": []
    },
    {
      "cell_type": "code",
      "metadata": {
        "id": "Qe4ZBmfEej2C",
        "colab_type": "code",
        "trusted": true,
        "colab": {}
      },
      "source": [
        "num_clusters= 4\n",
        "\n",
        "#X = np.array(informacion_cliente[[\"IMP_TOTAL_VENTAS\",\"NUM_TOTAL_PRODUCTOS\",\"NUM_TOTAL_TXN\",\"IMP_VENTA_PROMEDIO\"]])\n",
        "\n",
        "# Normalizo los datos previo a la segmentación\n",
        "ranking_cliente = informacion_cliente.rank(method='first')\n",
        "cliente_normalizado = (ranking_cliente - ranking_cliente.mean()) / ranking_cliente.std()\n",
        "kmeans = KMeans(n_clusters=num_clusters).fit(cliente_normalizado[['IMP_TOTAL_VENTAS', 'NUM_TOTAL_TXN', 'IMP_VENTA_PROMEDIO']])\n",
        "\n",
        "\n",
        "cliente_clusters = cliente_normalizado[['IMP_TOTAL_VENTAS', 'NUM_TOTAL_TXN', 'IMP_VENTA_PROMEDIO']].copy(deep=True)\n",
        "cliente_clusters['Cluster'] = kmeans.labels_\n",
        "cliente_clusters.groupby('Cluster').count()['IMP_TOTAL_VENTAS']\n",
        "\n"
      ],
      "execution_count": 0,
      "outputs": []
    },
    {
      "cell_type": "code",
      "metadata": {
        "id": "CRwn9ZCGfO5E",
        "colab_type": "code",
        "trusted": true,
        "colab": {}
      },
      "source": [
        "# clustering ventas vs cantidad\n",
        "plt.scatter(\n",
        "    cliente_clusters.loc[cliente_clusters['Cluster'] == 0]['NUM_TOTAL_TXN'], \n",
        "    cliente_clusters.loc[cliente_clusters['Cluster'] == 0]['IMP_TOTAL_VENTAS'],\n",
        "    c='blue'\n",
        ")\n",
        "\n",
        "plt.scatter(\n",
        "    cliente_clusters.loc[cliente_clusters['Cluster'] == 1]['NUM_TOTAL_TXN'], \n",
        "    cliente_clusters.loc[cliente_clusters['Cluster'] == 1]['IMP_TOTAL_VENTAS'],\n",
        "    c='red'\n",
        ")\n",
        "\n",
        "plt.scatter(\n",
        "    cliente_clusters.loc[cliente_clusters['Cluster'] == 2]['NUM_TOTAL_TXN'], \n",
        "    cliente_clusters.loc[cliente_clusters['Cluster'] == 2]['IMP_TOTAL_VENTAS'],\n",
        "    c='orange'\n",
        ")\n",
        "\n",
        "plt.scatter(\n",
        "    cliente_clusters.loc[cliente_clusters['Cluster'] == 3]['NUM_TOTAL_TXN'], \n",
        "    cliente_clusters.loc[cliente_clusters['Cluster'] == 3]['IMP_TOTAL_VENTAS'],\n",
        "    c='green'\n",
        ")\n",
        "\n",
        "\n",
        "plt.scatter(\n",
        "    cliente_clusters.loc[cliente_clusters['Cluster'] == 4]['NUM_TOTAL_TXN'], \n",
        "    cliente_clusters.loc[cliente_clusters['Cluster'] == 4]['IMP_TOTAL_VENTAS'],\n",
        "    c='yellow'\n",
        ")\n",
        "\n",
        "\n",
        "plt.scatter(\n",
        "    cliente_clusters.loc[cliente_clusters['Cluster'] == 5]['NUM_TOTAL_TXN'], \n",
        "    cliente_clusters.loc[cliente_clusters['Cluster'] == 5]['IMP_TOTAL_VENTAS'],\n",
        "    c='black'\n",
        ")\n",
        "\n",
        "\n",
        "plt.title('Ventas  vs. No. Transacciones Clusters')\n",
        "plt.xlabel('Número Transacciones')\n",
        "plt.ylabel('Total Ventas')\n",
        "\n",
        "plt.grid()\n",
        "plt.show()\n",
        "\n",
        "# clustering cantidad vs promedio de facturación\n",
        "plt.scatter(\n",
        "    cliente_clusters.loc[cliente_clusters['Cluster'] == 0]['NUM_TOTAL_TXN'], \n",
        "    cliente_clusters.loc[cliente_clusters['Cluster'] == 0]['IMP_VENTA_PROMEDIO'],\n",
        "    c='blue'\n",
        ")\n",
        "\n",
        "plt.scatter(\n",
        "    cliente_clusters.loc[cliente_clusters['Cluster'] == 1]['NUM_TOTAL_TXN'], \n",
        "    cliente_clusters.loc[cliente_clusters['Cluster'] == 1]['IMP_VENTA_PROMEDIO'],\n",
        "    c='red'\n",
        ")\n",
        "\n",
        "plt.scatter(\n",
        "    cliente_clusters.loc[cliente_clusters['Cluster'] == 2]['NUM_TOTAL_TXN'], \n",
        "    cliente_clusters.loc[cliente_clusters['Cluster'] == 2]['IMP_VENTA_PROMEDIO'],\n",
        "    c='orange'\n",
        ")\n",
        "\n",
        "plt.scatter(\n",
        "    cliente_clusters.loc[cliente_clusters['Cluster'] == 3]['NUM_TOTAL_TXN'], \n",
        "    cliente_clusters.loc[cliente_clusters['Cluster'] == 3]['IMP_VENTA_PROMEDIO'],\n",
        "    c='green'\n",
        ")\n",
        "\n",
        "plt.scatter(\n",
        "    cliente_clusters.loc[cliente_clusters['Cluster'] == 4]['NUM_TOTAL_TXN'], \n",
        "    cliente_clusters.loc[cliente_clusters['Cluster'] == 4]['IMP_VENTA_PROMEDIO'],\n",
        "    c='yellow'\n",
        ")\n",
        "plt.scatter(\n",
        "    cliente_clusters.loc[cliente_clusters['Cluster'] == 5]['NUM_TOTAL_TXN'], \n",
        "    cliente_clusters.loc[cliente_clusters['Cluster'] == 5]['IMP_VENTA_PROMEDIO'],\n",
        "    c='black'\n",
        ")\n",
        "plt.title('Promedio Ventas vs. No. Transacciones Clusters')\n",
        "plt.xlabel('Número Transacciones')\n",
        "plt.ylabel('Promedio Ventas')\n",
        "\n",
        "plt.grid()\n",
        "plt.show()\n",
        "# clustering ventas vs promedio de facturación\n",
        "plt.scatter(\n",
        "    \n",
        "    cliente_clusters.loc[cliente_clusters['Cluster'] == 0]['IMP_TOTAL_VENTAS'], \n",
        "    cliente_clusters.loc[cliente_clusters['Cluster'] == 0]['IMP_VENTA_PROMEDIO'],\n",
        "    c='blue'\n",
        ")\n",
        "\n",
        "plt.scatter(\n",
        "    cliente_clusters.loc[cliente_clusters['Cluster'] == 1]['IMP_TOTAL_VENTAS'], \n",
        "    cliente_clusters.loc[cliente_clusters['Cluster'] == 1]['IMP_VENTA_PROMEDIO'],\n",
        "    c='red'\n",
        ")\n",
        "\n",
        "plt.scatter(\n",
        "    cliente_clusters.loc[cliente_clusters['Cluster'] == 2]['IMP_TOTAL_VENTAS'], \n",
        "    cliente_clusters.loc[cliente_clusters['Cluster'] == 2]['IMP_VENTA_PROMEDIO'],\n",
        "    c='orange'\n",
        ")\n",
        "\n",
        "plt.scatter(\n",
        "    cliente_clusters.loc[cliente_clusters['Cluster'] == 3]['IMP_TOTAL_VENTAS'], \n",
        "    cliente_clusters.loc[cliente_clusters['Cluster'] == 3]['IMP_VENTA_PROMEDIO'],\n",
        "    c='green'\n",
        ")\n",
        "\n",
        "plt.scatter(\n",
        "    cliente_clusters.loc[cliente_clusters['Cluster'] == 4]['IMP_TOTAL_VENTAS'], \n",
        "    cliente_clusters.loc[cliente_clusters['Cluster'] == 4]['IMP_VENTA_PROMEDIO'],\n",
        "    c='yellow'\n",
        ")\n",
        "\n",
        "plt.scatter(\n",
        "    cliente_clusters.loc[cliente_clusters['Cluster'] == 5]['IMP_TOTAL_VENTAS'], \n",
        "    cliente_clusters.loc[cliente_clusters['Cluster'] == 5]['IMP_VENTA_PROMEDIO'],\n",
        "    c='black'\n",
        ")\n",
        "\n",
        "plt.title('Total Ventas vs. Promedio Ventas Clusters')\n",
        "plt.xlabel('Total Ventas')\n",
        "plt.ylabel('Promedio Ventas')\n",
        "\n"
      ],
      "execution_count": 0,
      "outputs": []
    },
    {
      "cell_type": "code",
      "metadata": {
        "id": "P18nwXxUiKAC",
        "colab_type": "code",
        "trusted": true,
        "colab": {}
      },
      "source": [
        "# identificar el número de clientes por cluster\n",
        "for n_cluster in [3,4,5,6,7,8]:\n",
        "    kmeans = KMeans(n_clusters=n_cluster).fit(\n",
        "        cliente_normalizado[['IMP_TOTAL_VENTAS', 'NUM_TOTAL_TXN', 'IMP_VENTA_PROMEDIO']]\n",
        "    )\n",
        "    silhouette_avg = silhouette_score(\n",
        "        cliente_normalizado[['IMP_TOTAL_VENTAS', 'NUM_TOTAL_TXN', 'IMP_VENTA_PROMEDIO']], \n",
        "        kmeans.labels_\n",
        "    )\n",
        "    \n",
        "    print('Scoring silueta para %i Clusters: %0.4f' % (n_cluster, silhouette_avg))"
      ],
      "execution_count": 0,
      "outputs": []
    },
    {
      "cell_type": "code",
      "metadata": {
        "id": "ANJ0a2Bvj9t4",
        "colab_type": "code",
        "trusted": true,
        "colab": {}
      },
      "source": [
        "# identificar el número de clientes por cluster\n",
        "for n_cluster in [3,4,5,6,7,8]:\n",
        "    kmeans = KMeans(n_clusters=n_cluster).fit(\n",
        "        cliente_normalizado[['IMP_TOTAL_VENTAS', 'NUM_TOTAL_TXN']]\n",
        "    )\n",
        "    silhouette_avg = silhouette_score(\n",
        "        cliente_normalizado[['IMP_TOTAL_VENTAS', 'NUM_TOTAL_TXN']], \n",
        "        kmeans.labels_\n",
        "    )\n",
        "    \n",
        "    print('Scoring silueta para %i Clusters: %0.4f' % (n_cluster, silhouette_avg))"
      ],
      "execution_count": 0,
      "outputs": []
    },
    {
      "cell_type": "code",
      "metadata": {
        "id": "awtZdHNIjTts",
        "colab_type": "code",
        "trusted": true,
        "colab": {}
      },
      "source": [
        "# identificar el número de clientes por cluster\n",
        "for n_cluster in [3,4,5,6,7,8]:\n",
        "    kmeans = KMeans(n_clusters=n_cluster).fit(\n",
        "        cliente_normalizado[['IMP_TOTAL_VENTAS', 'NUM_TOTAL_PRODUCTOS', 'IMP_VENTA_PROMEDIO']]\n",
        "    )\n",
        "    silhouette_avg = silhouette_score(\n",
        "        cliente_normalizado[['IMP_TOTAL_VENTAS', 'NUM_TOTAL_PRODUCTOS', 'IMP_VENTA_PROMEDIO']], \n",
        "        kmeans.labels_\n",
        "    )\n",
        "    \n",
        "    print('Scoring silueta para %i Clusters: %0.4f' % (n_cluster, silhouette_avg))"
      ],
      "execution_count": 0,
      "outputs": []
    },
    {
      "cell_type": "code",
      "metadata": {
        "id": "YrjUJZGQjXtl",
        "colab_type": "code",
        "trusted": true,
        "colab": {}
      },
      "source": [
        "# identificar el número de clientes por cluster\n",
        "for n_cluster in [3,4,5,6,7,8]:\n",
        "    kmeans = KMeans(n_clusters=n_cluster).fit(\n",
        "        cliente_normalizado[['IMP_TOTAL_VENTAS', 'NUM_TOTAL_PRODUCTOS', 'NUM_TOTAL_TXN']]\n",
        "    )\n",
        "    silhouette_avg = silhouette_score(\n",
        "        cliente_normalizado[['IMP_TOTAL_VENTAS', 'NUM_TOTAL_PRODUCTOS', 'NUM_TOTAL_TXN']], \n",
        "        kmeans.labels_\n",
        "    )\n",
        "    \n",
        "    print('Scoring silueta para %i Clusters: %0.4f' % (n_cluster, silhouette_avg))"
      ],
      "execution_count": 0,
      "outputs": []
    },
    {
      "cell_type": "code",
      "metadata": {
        "id": "H-KMfAypjdtb",
        "colab_type": "code",
        "trusted": true,
        "colab": {}
      },
      "source": [
        "# identificar el número de clientes por cluster\n",
        "for n_cluster in [3,4,5,6,7,8]:\n",
        "    kmeans = KMeans(n_clusters=n_cluster).fit(\n",
        "        cliente_normalizado[['IMP_VENTA_PROMEDIO', 'NUM_TOTAL_PRODUCTOS', 'NUM_TOTAL_TXN']]\n",
        "    )\n",
        "    silhouette_avg = silhouette_score(\n",
        "        cliente_normalizado[['IMP_VENTA_PROMEDIO', 'NUM_TOTAL_PRODUCTOS', 'NUM_TOTAL_TXN']], \n",
        "        kmeans.labels_\n",
        "    )\n",
        "    \n",
        "    print('Scoring silueta para %i Clusters: %0.4f' % (n_cluster, silhouette_avg))"
      ],
      "execution_count": 0,
      "outputs": []
    },
    {
      "cell_type": "markdown",
      "metadata": {
        "id": "AaoYclXRzvnk",
        "colab_type": "text"
      },
      "source": [
        "## Generando nueva data al dataset actual"
      ]
    },
    {
      "cell_type": "code",
      "metadata": {
        "id": "szW16a07zvMV",
        "colab_type": "code",
        "trusted": true,
        "colab": {}
      },
      "source": [
        "kmeans = KMeans(n_clusters=4).fit(\n",
        "    cliente_normalizado[['IMP_TOTAL_VENTAS', 'NUM_TOTAL_TXN']]\n",
        ")"
      ],
      "execution_count": 0,
      "outputs": []
    },
    {
      "cell_type": "code",
      "metadata": {
        "id": "MIG0SeUH0IpJ",
        "colab_type": "code",
        "trusted": true,
        "colab": {}
      },
      "source": [
        "cliente_normalizado['DATA_SEG'] = kmeans.labels_"
      ],
      "execution_count": 0,
      "outputs": []
    },
    {
      "cell_type": "code",
      "metadata": {
        "id": "Rff5fzVM0UTN",
        "colab_type": "code",
        "trusted": true,
        "colab": {}
      },
      "source": [
        "cliente_normalizado.head()\n",
        "kmeans.cluster_centers_"
      ],
      "execution_count": 0,
      "outputs": []
    },
    {
      "cell_type": "code",
      "metadata": {
        "id": "cDMuOwSL0ezA",
        "colab_type": "code",
        "trusted": true,
        "colab": {}
      },
      "source": [
        "high_value_cluster = cliente_normalizado.loc[cliente_normalizado['DATA_SEG'] == 3]\n",
        "high_value_cluster.head()"
      ],
      "execution_count": 0,
      "outputs": []
    },
    {
      "cell_type": "code",
      "metadata": {
        "id": "CF4aVbcs0mx1",
        "colab_type": "code",
        "trusted": true,
        "colab": {}
      },
      "source": [
        "informacion_cliente.loc[high_value_cluster.index].describe()"
      ],
      "execution_count": 0,
      "outputs": []
    },
    {
      "cell_type": "code",
      "metadata": {
        "id": "Z-kQwZsY7vMC",
        "colab_type": "code",
        "trusted": true,
        "colab": {}
      },
      "source": [
        "datos_facturacion.head()"
      ],
      "execution_count": 0,
      "outputs": []
    },
    {
      "cell_type": "markdown",
      "metadata": {
        "id": "8bNLBxPP8AkR",
        "colab_type": "text"
      },
      "source": [
        ""
      ]
    },
    {
      "cell_type": "code",
      "metadata": {
        "id": "qfjmO3TO03g7",
        "colab_type": "code",
        "trusted": true,
        "colab": {}
      },
      "source": [
        "pd.DataFrame(\n",
        "    datos_facturacion.loc[\n",
        "        datos_facturacion['customer_id'].isin(high_value_cluster.index)\n",
        "    ].groupby('product_id').count()[\n",
        "        'total_value'\n",
        "    ].sort_values(ascending=False).head()\n",
        ")"
      ],
      "execution_count": 0,
      "outputs": []
    },
    {
      "cell_type": "markdown",
      "metadata": {
        "id": "OfeaQuYktRev",
        "colab_type": "text"
      },
      "source": [
        "## 3. Matriz de Factorización\n",
        "\n",
        "Una vez utilizado los posibles escenarios para las recomendaciónde productos, se procede a generar el motor de recomendación .  Para ello se realiza la matriz de Factorización, la cual se utilizo como referencia el sigueinte paper [Probabilistic Matrix Factorization](https://https://papers.nips.cc/paper/3208-probabilistic-matrix-factorization.pdf)"
      ]
    },
    {
      "cell_type": "code",
      "metadata": {
        "id": "VShZUVT1th5R",
        "colab_type": "code",
        "trusted": true,
        "colab": {}
      },
      "source": [
        "matrix_usuario_producto.values"
      ],
      "execution_count": 0,
      "outputs": []
    },
    {
      "cell_type": "markdown",
      "metadata": {
        "id": "jnRmo9Tqxhdr",
        "colab_type": "text"
      },
      "source": [
        "**Enfoque Cliente**"
      ]
    },
    {
      "cell_type": "code",
      "metadata": {
        "id": "xvJQxegSvl5I",
        "colab_type": "code",
        "trusted": true,
        "colab": {}
      },
      "source": [
        "from sklearn.neighbors import NearestNeighbors\n",
        "from scipy.sparse import csr_matrix\n",
        "# Se convierte la table pivote de cliente - producto a una sparse matrix\n",
        "mat_cliente_prod = csr_matrix(matrix_usuario_producto.values)\n",
        "# Se procede a identificar la relación entre los clientes\n",
        "model_knn = NearestNeighbors(metric='cosine', algorithm='brute', n_neighbors=20, n_jobs=-1)\n"
      ],
      "execution_count": 0,
      "outputs": []
    },
    {
      "cell_type": "code",
      "metadata": {
        "id": "mW_1TKBmxoqy",
        "colab_type": "code",
        "trusted": true,
        "colab": {}
      },
      "source": [
        "final_productos = matrix_usuario_producto.fillna(matrix_usuario_producto.mean(axis=0))\n",
        "final_productos.head()"
      ],
      "execution_count": 0,
      "outputs": []
    },
    {
      "cell_type": "code",
      "metadata": {
        "id": "B9DijYeXyAWU",
        "colab_type": "code",
        "trusted": true,
        "colab": {}
      },
      "source": [
        "final_clientes = matrix_usuario_producto.apply(lambda row: row.fillna(0), axis=1)\n",
        "final_clientes.head()"
      ],
      "execution_count": 0,
      "outputs": []
    },
    {
      "cell_type": "markdown",
      "metadata": {
        "id": "Cqx87j0m1qPY",
        "colab_type": "text"
      },
      "source": [
        "## Similaridad Usuarios"
      ]
    },
    {
      "cell_type": "code",
      "metadata": {
        "id": "BnT4RYwd1sTc",
        "colab_type": "code",
        "trusted": true,
        "colab": {}
      },
      "source": [
        "b = cosine_similarity(final_clientes)\n",
        "np.fill_diagonal(b, 0 )\n",
        "sim_usuario = pd.DataFrame(b,index=final_clientes.index)\n",
        "sim_usuario.columns=final_clientes.index\n",
        "sim_usuario.head()"
      ],
      "execution_count": 0,
      "outputs": []
    },
    {
      "cell_type": "code",
      "metadata": {
        "id": "adVisQ89xzO7",
        "colab_type": "code",
        "trusted": true,
        "colab": {}
      },
      "source": [
        "# user similarity on replacing NAN by item(movie) avg\n",
        "cosine = cosine_similarity(final_productos)\n",
        "np.fill_diagonal(cosine, 0 )\n",
        "sim_producto =pd.DataFrame(cosine,index=final_productos.index)\n",
        "sim_producto.columns=final_clientes.index\n",
        "sim_producto.head()"
      ],
      "execution_count": 0,
      "outputs": []
    },
    {
      "cell_type": "markdown",
      "metadata": {
        "id": "bh3dDtSn2S19",
        "colab_type": "text"
      },
      "source": [
        "##Función para encontrar similares"
      ]
    },
    {
      "cell_type": "code",
      "metadata": {
        "id": "3gh7k44K2PM8",
        "colab_type": "code",
        "trusted": true,
        "colab": {}
      },
      "source": [
        "def identificar_similares(data,cantidad):\n",
        "    order = np.argsort(data.values, axis=1)[:, :cantidad]\n",
        "    data = data.apply(lambda x: pd.Series(x.sort_values(ascending=False).iloc[:cantidad].index, \n",
        "          index=['top{}'.format(i) for i in range(1, cantidad+1)]), axis=1)\n",
        "    return data"
      ],
      "execution_count": 0,
      "outputs": []
    },
    {
      "cell_type": "code",
      "metadata": {
        "id": "56xvLwnmyZgB",
        "colab_type": "code",
        "trusted": true,
        "colab": {}
      },
      "source": [
        "identificar_similares(sim_producto,20)"
      ],
      "execution_count": 0,
      "outputs": []
    },
    {
      "cell_type": "code",
      "metadata": {
        "id": "VRBNZbgc2xiC",
        "colab_type": "code",
        "trusted": true,
        "colab": {}
      },
      "source": [
        "identificar_similares(sim_usuario,20)"
      ],
      "execution_count": 0,
      "outputs": []
    },
    {
      "cell_type": "markdown",
      "metadata": {
        "id": "v_UHUnsY28cB",
        "colab_type": "text"
      },
      "source": [
        "## Función similitud de productos entre usuarios"
      ]
    },
    {
      "cell_type": "code",
      "metadata": {
        "id": "gQ8Nu5aN26f6",
        "colab_type": "code",
        "trusted": true,
        "colab": {}
      },
      "source": [
        "def identificar_productos( cliente1, cliente2 ):\n",
        "    common_movies = datos_facturacion[datos_facturacion.c_id == cliente1].merge(\n",
        "    datos_facturacion[datos_facturacion.c_id == cliente2],\n",
        "    on = \"p_id\",\n",
        "    how = \"inner\" )\n",
        "    return common_movies.merge( datos_producto, on = 'p_id' )"
      ],
      "execution_count": 0,
      "outputs": []
    },
    {
      "cell_type": "code",
      "metadata": {
        "id": "6EfibgM33c1L",
        "colab_type": "code",
        "trusted": true,
        "colab": {}
      },
      "source": [
        "#identificar_productos(7,16)"
      ],
      "execution_count": 0,
      "outputs": []
    },
    {
      "cell_type": "markdown",
      "metadata": {
        "id": "xAanz30-PpAg",
        "colab_type": "text"
      },
      "source": [
        "#Identificar Churn"
      ]
    },
    {
      "cell_type": "code",
      "metadata": {
        "id": "jJ1xy4CiPsjC",
        "colab_type": "code",
        "trusted": true,
        "colab": {}
      },
      "source": [
        "import seaborn as sns\n",
        "import matplotlib.pyplot as plt\n",
        "!pip install lifetimes\n",
        "from lifetimes.utils import *\n",
        "from lifetimes import BetaGeoFitter,GammaGammaFitter\n",
        "from lifetimes.plotting import plot_probability_alive_matrix, plot_frequency_recency_matrix, plot_period_transactions, plot_cumulative_transactions,plot_incremental_transactions\n",
        "from lifetimes.generate_data import beta_geometric_nbd_model\n",
        "from lifetimes.plotting import plot_calibration_purchases_vs_holdout_purchases, plot_period_transactions,plot_history_alive"
      ],
      "execution_count": 0,
      "outputs": []
    },
    {
      "cell_type": "code",
      "metadata": {
        "id": "dqk64AVaQycP",
        "colab_type": "code",
        "trusted": true,
        "colab": {}
      },
      "source": [
        "datos_modelo = pd.ExcelFile(directorio+'data_model.xlsx')\n",
        "datos_facturacion = pd.read_excel(datos_modelo, sheet_name='fac_txn')\n",
        "datos_producto = pd.read_excel(datos_modelo, sheet_name='product')\n",
        "datos_clientes = pd.read_excel(datos_modelo, sheet_name='customer')\n",
        "print('PRODUCTOS :'+ datos_producto.columns)\n",
        "print('CLIENTES:'+ datos_clientes.columns)\n",
        "print('FACTURACION:'+ datos_facturacion.columns)\n"
      ],
      "execution_count": 0,
      "outputs": []
    },
    {
      "cell_type": "code",
      "metadata": {
        "id": "KjRT-5UkbEbU",
        "colab_type": "code",
        "trusted": true,
        "colab": {}
      },
      "source": [
        "datos_clientes.groupby('customer_id').size().value_counts()\n",
        "# la mayoria de clientes solo tienen una compra"
      ],
      "execution_count": 0,
      "outputs": []
    },
    {
      "cell_type": "code",
      "metadata": {
        "id": "uriCF1qTbV_Y",
        "colab_type": "code",
        "trusted": true,
        "colab": {}
      },
      "source": [
        "datos_facturacion.drop_duplicates('order_id',keep='first',inplace=True)"
      ],
      "execution_count": 0,
      "outputs": []
    },
    {
      "cell_type": "code",
      "metadata": {
        "id": "iRXs_-Rgl_fZ",
        "colab_type": "code",
        "trusted": true,
        "colab": {}
      },
      "source": [
        "datos_facturacion['date'] = pd.to_datetime(datos_facturacion['order_purchase_timestamp']).dt.date\n",
        "datos_facturacion = datos_facturacion.drop('order_purchase_timestamp',axis=1)\n",
        "datos_facturacion.head()"
      ],
      "execution_count": 0,
      "outputs": []
    },
    {
      "cell_type": "code",
      "metadata": {
        "id": "AIhstouf8BeO",
        "colab_type": "code",
        "trusted": true,
        "colab": {}
      },
      "source": [
        "transaction_data = datos_facturacion[['customer_id','date','total_value']]\n",
        "transaction_data.head()"
      ],
      "execution_count": 0,
      "outputs": []
    },
    {
      "cell_type": "code",
      "metadata": {
        "id": "XWFCOxmVmPL3",
        "colab_type": "code",
        "trusted": true,
        "colab": {}
      },
      "source": [
        "summary = summary_data_from_transaction_data(transaction_data,'customer_id','date',monetary_value_col='total_value',)\n",
        "summary.describe()"
      ],
      "execution_count": 0,
      "outputs": []
    },
    {
      "cell_type": "code",
      "metadata": {
        "id": "6GsJ8kN19Xti",
        "colab_type": "code",
        "trusted": true,
        "colab": {}
      },
      "source": [
        "summary.head()"
      ],
      "execution_count": 0,
      "outputs": []
    },
    {
      "cell_type": "code",
      "metadata": {
        "id": "0KbayNkvmb40",
        "colab_type": "code",
        "trusted": true,
        "colab": {}
      },
      "source": [
        "summary[summary['frequency']>0].head()"
      ],
      "execution_count": 0,
      "outputs": []
    },
    {
      "cell_type": "code",
      "metadata": {
        "id": "0YaALcxvmek3",
        "colab_type": "code",
        "trusted": true,
        "colab": {}
      },
      "source": [
        "datos_facturacion[datos_facturacion['customer_id']=='004288347e5e88a27ded2bb23747066c']"
      ],
      "execution_count": 0,
      "outputs": []
    },
    {
      "cell_type": "code",
      "metadata": {
        "id": "3vP-Zdb-n3V3",
        "colab_type": "code",
        "trusted": true,
        "colab": {}
      },
      "source": [
        "bgf = BetaGeoFitter(penalizer_coef=0.0)\n",
        "bgf.fit(summary['frequency'], summary['recency'], summary['T']);"
      ],
      "execution_count": 0,
      "outputs": []
    },
    {
      "cell_type": "code",
      "metadata": {
        "id": "KHi6s__7n9Cr",
        "colab_type": "code",
        "trusted": true,
        "colab": {}
      },
      "source": [
        "plot_frequency_recency_matrix(bgf);"
      ],
      "execution_count": 0,
      "outputs": []
    },
    {
      "cell_type": "code",
      "metadata": {
        "id": "Df5aLkB9oDbG",
        "colab_type": "code",
        "trusted": true,
        "colab": {}
      },
      "source": [
        "plot_probability_alive_matrix(bgf);"
      ],
      "execution_count": 0,
      "outputs": []
    },
    {
      "cell_type": "code",
      "metadata": {
        "id": "6_Zn9kDaoFGI",
        "colab_type": "code",
        "trusted": true,
        "colab": {}
      },
      "source": [
        "plot_period_transactions(bgf).set_yscale('log');"
      ],
      "execution_count": 0,
      "outputs": []
    },
    {
      "cell_type": "code",
      "metadata": {
        "id": "OA7x6jlMoIrm",
        "colab_type": "code",
        "trusted": true,
        "colab": {}
      },
      "source": [
        "summary_cal_holdout = calibration_and_holdout_data(datos_facturacion, 'customer_id', 'date',calibration_period_end='2017-09-03', observation_period_end='2018-09-03' )"
      ],
      "execution_count": 0,
      "outputs": []
    },
    {
      "cell_type": "code",
      "metadata": {
        "id": "VAXcOQsmoOqD",
        "colab_type": "code",
        "trusted": true,
        "colab": {}
      },
      "source": [
        "bgf.fit(summary_cal_holdout['frequency_cal'], summary_cal_holdout['recency_cal'], summary_cal_holdout['T_cal'])\n",
        "plot_cumulative_transactions(bgf, datos_facturacion, 'date', 'customer_id', 730, 365);"
      ],
      "execution_count": 0,
      "outputs": []
    },
    {
      "cell_type": "code",
      "metadata": {
        "id": "PaW-dF0toVGc",
        "colab_type": "code",
        "trusted": true,
        "colab": {}
      },
      "source": [
        "plot_incremental_transactions(bgf, datos_facturacion, 'date', 'customer_id', 730, 365);"
      ],
      "execution_count": 0,
      "outputs": []
    },
    {
      "cell_type": "code",
      "metadata": {
        "id": "OPVIja8ToZdU",
        "colab_type": "code",
        "trusted": true,
        "colab": {}
      },
      "source": [
        "plot_calibration_purchases_vs_holdout_purchases(bgf, summary_cal_holdout);"
      ],
      "execution_count": 0,
      "outputs": []
    },
    {
      "cell_type": "code",
      "metadata": {
        "id": "UfYFNAU9odNA",
        "colab_type": "code",
        "trusted": true,
        "colab": {}
      },
      "source": [
        "datos_clientes.groupby('customer_id').size().value_counts()"
      ],
      "execution_count": 0,
      "outputs": []
    },
    {
      "cell_type": "code",
      "metadata": {
        "id": "wRGw8-hgojGk",
        "colab_type": "code",
        "trusted": true,
        "colab": {}
      },
      "source": [
        "df = summary[summary['frequency']>0]\n",
        "df['prob_alive'] = bgf.conditional_probability_alive(df['frequency'],df['recency'],df['T'])\n",
        "sns.distplot(df['prob_alive']);"
      ],
      "execution_count": 0,
      "outputs": []
    },
    {
      "cell_type": "code",
      "metadata": {
        "id": "DK3cV6iBol32",
        "colab_type": "code",
        "trusted": true,
        "colab": {}
      },
      "source": [
        "df['churn'] = ['churned' if p < .1 else 'not churned' for p in df['prob_alive']]\n",
        "sns.countplot(df['churn']);"
      ],
      "execution_count": 0,
      "outputs": []
    },
    {
      "cell_type": "code",
      "metadata": {
        "id": "KER05dnhoqI0",
        "colab_type": "code",
        "trusted": true,
        "colab": {}
      },
      "source": [
        "sns.distplot(df[df['churn']=='not churned']['prob_alive']).set_title('Probability alive, not churned');"
      ],
      "execution_count": 0,
      "outputs": []
    },
    {
      "cell_type": "code",
      "metadata": {
        "id": "V3iPEAWJouYt",
        "colab_type": "code",
        "trusted": true,
        "colab": {}
      },
      "source": [
        "df['churn'][(df['prob_alive']>=.1) & (df['prob_alive']<.2)] = \"high risk\"\n",
        "df['churn'].value_counts()"
      ],
      "execution_count": 0,
      "outputs": []
    },
    {
      "cell_type": "code",
      "metadata": {
        "id": "ZgPbv6dhADHG",
        "colab_type": "code",
        "trusted": true,
        "colab": {}
      },
      "source": [
        "#df[df['churn'] =='high risk'].head()\n",
        "df[df['churn'] =='churned'].head()"
      ],
      "execution_count": 0,
      "outputs": []
    },
    {
      "cell_type": "code",
      "metadata": {
        "id": "4X68gk2EBasa",
        "colab_type": "code",
        "trusted": true,
        "colab": {}
      },
      "source": [
        "df['definition'] = df['churn'].apply(lambda x: 1 if x == 'churned' else 0)"
      ],
      "execution_count": 0,
      "outputs": []
    },
    {
      "cell_type": "code",
      "metadata": {
        "id": "gFmwF8dGBxyX",
        "colab_type": "code",
        "trusted": true,
        "colab": {}
      },
      "source": [
        "df['definition'].count()"
      ],
      "execution_count": 0,
      "outputs": []
    },
    {
      "cell_type": "code",
      "metadata": {
        "id": "hUN1npymB9-l",
        "colab_type": "code",
        "trusted": true,
        "colab": {}
      },
      "source": [
        "datos_clientes.count()"
      ],
      "execution_count": 0,
      "outputs": []
    },
    {
      "cell_type": "code",
      "metadata": {
        "id": "WxddTBErCM3O",
        "colab_type": "code",
        "trusted": true,
        "colab": {}
      },
      "source": [
        "prueba_clientes = pd.merge(datos_clientes,df[['definition']],on='customer_id', how='left')\n",
        "prueba_clientes['definition'].fillna(0, inplace=True)\n",
        "print(prueba_clientes.count())\n",
        "prueba_clientes.head()"
      ],
      "execution_count": 0,
      "outputs": []
    },
    {
      "cell_type": "code",
      "metadata": {
        "id": "aSAwMAtSC2_v",
        "colab_type": "code",
        "trusted": true,
        "colab": {}
      },
      "source": [
        "prueba_clientes['definition'].mean()"
      ],
      "execution_count": 0,
      "outputs": []
    },
    {
      "cell_type": "code",
      "metadata": {
        "id": "H3ArHA99Dsdf",
        "colab_type": "code",
        "trusted": true,
        "colab": {}
      },
      "source": [
        "\n",
        "#df[1].fillna(0, inplace=True)"
      ],
      "execution_count": 0,
      "outputs": []
    }
  ]
}