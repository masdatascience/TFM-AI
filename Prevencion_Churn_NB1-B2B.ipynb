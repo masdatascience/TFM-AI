{
  "nbformat": 4,
  "nbformat_minor": 0,
  "metadata": {
    "colab": {
      "name": "Prevencion_Churn-NB1.ipynb",
      "provenance": [],
      "collapsed_sections": [],
      "machine_shape": "hm"
    },
    "kernelspec": {
      "name": "python3",
      "display_name": "Python 3",
      "language": "python"
    },
    "language_info": {
      "mimetype": "text/x-python",
      "nbconvert_exporter": "python",
      "name": "python",
      "file_extension": ".py",
      "version": "3.5.4",
      "pygments_lexer": "ipython3",
      "codemirror_mode": {
        "version": 3,
        "name": "ipython"
      }
    }
  },
  "cells": [
    {
      "cell_type": "markdown",
      "metadata": {
        "id": "k1PvPRCY79m-",
        "colab_type": "text"
      },
      "source": [
        "# Prevención Fuga de Clientes\n",
        "El enfoque de la prevención es disminuir el impacto latente de la posibilidad de que alguno de los clientes deje de comprar productos. \n",
        "Con este fin se realiza la estrategia en 3 sentidos: <br>\n",
        "**1.Motor de Recomendación** <br>\n",
        "**Objetivo:** Aumentar la penetración de los productos a los clientes con el fin de fortalecer la relación comercial y su fidelización. <br>\n",
        "Este enfoque hace parte de la primera parte del notebook, con el objetivo de generar un motor de recomendación con el cual se facilite la venta de nuevos productos por medio de estrategia de datos. <br>\n",
        "*Notebook 1: Motor de recomendación* <br>\n",
        "\n",
        "**2.Nueva segmentación de información con base en los datos de los clientes y sus transacciones** <br>\n",
        "**Objetivo:** Generar nueva información de los clientes, con el objetivo de realizar una mejor gestión de estos y plantear estrategias con base en esta nueva característica de información desarrollada. <br>\n",
        "El segundo enfoque es a través de una nueva segmentación, que permita de igual forma identificar no solo como y que es posible comprar, sino generar nuevas dimensiones de análisis, para que los equipos de business intelligence, comerciales y financieros, tengan más herramientas durante sus estrategias de negocio. <br>\n",
        "*Notebook 2: Segmentación de datos* <br>\n",
        "\n",
        "**3.Predecir la Fuga de clientes** <br>\n",
        "**Objetivo:** Desarrollar un marcaje de fuga de clientes con base en la historia transaccional de cliente, permitiendo esto entrenar un modelo de Machine Learning para predecir la posible baja de clientes. <br>\n",
        "El Tercer enfoque tiene dos frentes de trabajo, el primero permite establecer a través de variables de tendencias de compra y montos, si el cliente se encuentra \"vivo\" o no. Con base en este resultado, se activa el segundo frente, el cual a través de algoritmos de Machine Learning permite predecir la fuga de clientes con base en el marcaje realizado en la primera etapa. <br>\n",
        "*Notebook 3: Predicción Fuga Clientes* <br>\n"
      ]
    },
    {
      "cell_type": "code",
      "metadata": {
        "id": "tXh_3CYtd4e4",
        "colab_type": "code",
        "colab": {}
      },
      "source": [
        ""
      ],
      "execution_count": 0,
      "outputs": []
    },
    {
      "cell_type": "markdown",
      "metadata": {
        "id": "orpOJu6j8zxg",
        "colab_type": "text"
      },
      "source": [
        "### Fuente de datos\n",
        "Los datos usando durante la tesis son de dominio publico y hacen referencia a un comercio de Brasil. <br>\n",
        "Estos datos han sido modelados en un modelo dimensional con el fin de mejorar el performance del análisis del actual tesis y permitir generar modelos de reporting/dashboard con herramientas de BI.<br>\n",
        "Los datos han sido migrados a la plataforma github con el fin que sean de dominio publico. <br>\n"
      ]
    },
    {
      "cell_type": "markdown",
      "metadata": {
        "id": "1LmmcB9U8gN_",
        "colab_type": "text"
      },
      "source": [
        "##1. Motor de Recomendación\n",
        "\n",
        "Durante esta etapa se realizarán dos enfoques de recomendación, el primero con base en productos y el segundo con base en el comportamiento de clientes.\n",
        "\n",
        "\n",
        "### 1.1 Carga de librerias y datos"
      ]
    },
    {
      "cell_type": "code",
      "metadata": {
        "id": "rlke_DiE7xb2",
        "colab_type": "code",
        "trusted": true,
        "scrolled": true,
        "colab": {}
      },
      "source": [
        "#!pip install turicreate\n",
        "# librerias requeridas\n",
        "import turicreate as tc\n",
        "import matplotlib.pyplot as plt\n",
        "import pandas as pd\n",
        "import numpy as np\n",
        "%matplotlib inline\n",
        "from sklearn.metrics.pairwise import cosine_similarity\n",
        "from sklearn.cluster import KMeans\n",
        "from sklearn.metrics import silhouette_score\n",
        "import time\n",
        "from sklearn.model_selection import train_test_split\n"
      ],
      "execution_count": 0,
      "outputs": []
    },
    {
      "cell_type": "code",
      "metadata": {
        "id": "wcjQe--m9v7_",
        "colab_type": "code",
        "outputId": "fc8ff73b-8c06-450f-c0c4-d566315b2913",
        "colab": {
          "base_uri": "https://localhost:8080/",
          "height": 34
        }
      },
      "source": [
        "## Localización y carga de los datos\n",
        "url = 'https://github.com/masdatascience/TFM-AI/blob/master/2019Tabla.xlsx?raw=true'\n",
        "datos_modelo = pd.ExcelFile(url)\n",
        "t1 = pd.read_excel(datos_modelo, sheet_name='table_col')\n",
        "url = 'https://github.com/masdatascience/TFM-AI/blob/master/2018Tabla-1.xlsx?raw=true'\n",
        "datos_modelo = pd.ExcelFile(url)\n",
        "t2 = pd.read_excel(datos_modelo, sheet_name='Hoja1')\n",
        "url = 'https://github.com/masdatascience/TFM-AI/blob/master/2018Tabla-2.xlsx?raw=true'\n",
        "datos_modelo = pd.ExcelFile(url)\n",
        "t3 = pd.read_excel(datos_modelo, sheet_name='Hoja2')\n",
        "\n",
        "\n",
        "datos_facturacion = pd.concat([t1,t2,t3])\n",
        "\n",
        "\n",
        "# Se elimian los datos nulos de las dimensiones importantes del analisis que son productos y clientes\n",
        "datos_facturacion = datos_facturacion.dropna(subset=['ID_CLIENTE'])\n",
        "datos_facturacion = datos_facturacion.dropna(subset=['ID_PRODUCTO'])\n",
        "# Se elimina posibles chargeback que se presenten\n",
        "datos_facturacion = datos_facturacion.loc[datos_facturacion['IMP_PRECIO_TOTAL'] > 0]\n",
        "\n",
        "print(\"Facturación:\"+ str(datos_facturacion.shape) ) # + \" Clientes:\"+str(datos_clientes.shape)+\" Productos:\"+str(datos_producto.shape))"
      ],
      "execution_count": 13,
      "outputs": [
        {
          "output_type": "stream",
          "text": [
            "Facturación:(499836, 28)\n"
          ],
          "name": "stdout"
        }
      ]
    },
    {
      "cell_type": "markdown",
      "metadata": {
        "id": "gknP4zvnDMY2",
        "colab_type": "text"
      },
      "source": [
        "### 1.2 Preparación de los datos \n",
        "En esta sección se estarán preparando tres enfoques de matrices con el fin de permitir desarrollar los motores de recomendación. La primera es la relación entre el cliente y los productos, la siguiente es una matriz normalizada y la última integra valores dummies para la comparación . "
      ]
    },
    {
      "cell_type": "markdown",
      "metadata": {
        "id": "nGPFk-v0D00A",
        "colab_type": "text"
      },
      "source": [
        "#### 1.2.1 Relación Cliente - Producto\n",
        "\n"
      ]
    },
    {
      "cell_type": "code",
      "metadata": {
        "id": "zosJH8OuD6hA",
        "colab_type": "code",
        "outputId": "8197f90c-b120-4946-dfee-2604bc055887",
        "colab": {
          "base_uri": "https://localhost:8080/",
          "height": 34
        }
      },
      "source": [
        "# Obtengo la Matriz Relación Cliente - Producto , y la normalizo\n",
        "matrix_usuario_producto =pd.crosstab(datos_facturacion['ID_CLIENTE'],datos_facturacion['ID_PRODUCTO'],values=datos_facturacion['IMP_PRECIO_TOTAL'], aggfunc='sum', margins=True, margins_name=\"IMP_PRECIO_TOTAL\")\n",
        "matrix_usuario_producto_norm = (matrix_usuario_producto-matrix_usuario_producto.min())/(matrix_usuario_producto.max()-matrix_usuario_producto.min())\n",
        "d = matrix_usuario_producto_norm.reset_index() \n",
        "d.index.names = ['total_frecuencia'] \n",
        "data_norm = pd.melt(d, id_vars=['ID_CLIENTE'], value_name='total_frecuencia').dropna()\n",
        "data_norm['ID_CLIENTE'] = data_norm['ID_CLIENTE'].astype(str)\n",
        "data_norm['ID_PRODUCTO'] = data_norm['ID_PRODUCTO'].astype(str)\n",
        "print(\"Matriz normalizada:\" +str(data_norm.shape))"
      ],
      "execution_count": 86,
      "outputs": [
        {
          "output_type": "stream",
          "text": [
            "Matriz normalizada:(107002, 3)\n"
          ],
          "name": "stdout"
        }
      ]
    },
    {
      "cell_type": "markdown",
      "metadata": {
        "id": "YURTaD1qFEU7",
        "colab_type": "text"
      },
      "source": [
        "#### 1.2.2 Relación Cliente Producto - Contraste"
      ]
    },
    {
      "cell_type": "code",
      "metadata": {
        "id": "_NC9OA2RHq1_",
        "colab_type": "code",
        "outputId": "ff1b395f-9808-4713-ee5b-39f7dd1f27d2",
        "colab": {
          "base_uri": "https://localhost:8080/",
          "height": 34
        }
      },
      "source": [
        "columnas_requeridas = ['ID_CLIENTE', 'ID_PRODUCTO']\n",
        "\n",
        "# Enfoque \n",
        "datos_dummy = datos_facturacion.loc[:, columnas_requeridas] \n",
        "datos_dummy['total_dummy'] = 1\n",
        "datos_dummy['ID_CLIENTE'] = datos_dummy['ID_CLIENTE'].astype(str)\n",
        "datos_dummy['ID_PRODUCTO'] = datos_dummy['ID_PRODUCTO'].astype(str)\n",
        "print(\"Matriz Dummy:\"+ str(datos_dummy.shape))"
      ],
      "execution_count": 97,
      "outputs": [
        {
          "output_type": "stream",
          "text": [
            "Matriz Dummy:(499836, 3)\n"
          ],
          "name": "stdout"
        }
      ]
    },
    {
      "cell_type": "markdown",
      "metadata": {
        "id": "fvqgw6XDFYJ6",
        "colab_type": "text"
      },
      "source": [
        "#### 1.2.3 Se generan datos de entrenamiento y pruebas"
      ]
    },
    {
      "cell_type": "code",
      "metadata": {
        "id": "P9YYO2PWFcUk",
        "colab_type": "code",
        "colab": {}
      },
      "source": [
        "train_data, test_data  = train_test_split(data_norm, test_size=0.3 ,random_state=1)\n",
        "train_data_dummy, test_data_dummy = train_test_split(datos_dummy, test_size=0.3 ,random_state=1)"
      ],
      "execution_count": 0,
      "outputs": []
    },
    {
      "cell_type": "code",
      "metadata": {
        "id": "9ADUg-F0xfG7",
        "colab_type": "code",
        "colab": {
          "base_uri": "https://localhost:8080/",
          "height": 1000
        },
        "outputId": "7dcc98be-8efd-46c5-99f7-4c0290845ddf"
      },
      "source": [
        "datos_dummy"
      ],
      "execution_count": 91,
      "outputs": [
        {
          "output_type": "execute_result",
          "data": {
            "text/html": [
              "<div>\n",
              "<style scoped>\n",
              "    .dataframe tbody tr th:only-of-type {\n",
              "        vertical-align: middle;\n",
              "    }\n",
              "\n",
              "    .dataframe tbody tr th {\n",
              "        vertical-align: top;\n",
              "    }\n",
              "\n",
              "    .dataframe thead th {\n",
              "        text-align: right;\n",
              "    }\n",
              "</style>\n",
              "<table border=\"1\" class=\"dataframe\">\n",
              "  <thead>\n",
              "    <tr style=\"text-align: right;\">\n",
              "      <th></th>\n",
              "      <th>ID_ANIO</th>\n",
              "      <th>ID_MES</th>\n",
              "      <th>ID_DISTRIBUIDOR</th>\n",
              "      <th>ID_LOC_DISTRIBUIDOR</th>\n",
              "      <th>ID_PRODUCTO</th>\n",
              "      <th>ID_CLIENTE</th>\n",
              "      <th>ID_HOLDING</th>\n",
              "      <th>ID_VENDEDOR</th>\n",
              "      <th>ID_SEGMENTO</th>\n",
              "      <th>ID_SUB_SEGMENTO</th>\n",
              "      <th>NUM_CAJAS</th>\n",
              "      <th>NUM_CANTIDAD</th>\n",
              "      <th>IMP_PRECIO_UNITARIO</th>\n",
              "      <th>IMP_PRECIO_TOTAL</th>\n",
              "      <th>FEC_VENTA</th>\n",
              "      <th>DESC_DISTRIBUIDOR</th>\n",
              "      <th>DESC_LOC_DISTRIBUIDOR</th>\n",
              "      <th>DESC_PRODUCTO</th>\n",
              "      <th>DESC_CLIENTE</th>\n",
              "      <th>DESC_HOLDING</th>\n",
              "      <th>DESC_VENDEDOR</th>\n",
              "      <th>DESC_SEGMENTO</th>\n",
              "      <th>DESC_SUB_SEGMENTO</th>\n",
              "      <th>DESC_CATEGORIA</th>\n",
              "      <th>DESC_SUB_CAT1</th>\n",
              "      <th>DESC_SUB_CAT2</th>\n",
              "      <th>DESC_SUB_CAT3</th>\n",
              "      <th>ID_PAIS</th>\n",
              "      <th>total_dummy</th>\n",
              "    </tr>\n",
              "  </thead>\n",
              "  <tbody>\n",
              "    <tr>\n",
              "      <th>0</th>\n",
              "      <td>2019</td>\n",
              "      <td>6</td>\n",
              "      <td>40162064</td>\n",
              "      <td>40162064</td>\n",
              "      <td>NaN</td>\n",
              "      <td>NaN</td>\n",
              "      <td>NaN</td>\n",
              "      <td>XIOMARA MORALES</td>\n",
              "      <td>1</td>\n",
              "      <td>11</td>\n",
              "      <td>1.0000</td>\n",
              "      <td>36.0</td>\n",
              "      <td>2711.15</td>\n",
              "      <td>97601.40</td>\n",
              "      <td>2019-06-20</td>\n",
              "      <td>DISTRIBUCIONES MVM S.A.S</td>\n",
              "      <td>DISTRIBUCIONES MVM S.A.S</td>\n",
              "      <td>HG HD BULK PACK BLANCO 36*250</td>\n",
              "      <td>GILBERTO ARIAS OSORIO</td>\n",
              "      <td>NaN</td>\n",
              "      <td>XIOMARA MORALES</td>\n",
              "      <td>NaN</td>\n",
              "      <td>NaN</td>\n",
              "      <td>Higienicos</td>\n",
              "      <td>HIGIENICOS</td>\n",
              "      <td>HIGIENICOS</td>\n",
              "      <td>HIGIENICOS</td>\n",
              "      <td>CO</td>\n",
              "      <td>1</td>\n",
              "    </tr>\n",
              "    <tr>\n",
              "      <th>1</th>\n",
              "      <td>2019</td>\n",
              "      <td>6</td>\n",
              "      <td>40162064</td>\n",
              "      <td>40162064</td>\n",
              "      <td>NaN</td>\n",
              "      <td>NaN</td>\n",
              "      <td>NaN</td>\n",
              "      <td>MARIA LUISA VALENCIA MEJIA</td>\n",
              "      <td>19</td>\n",
              "      <td>191</td>\n",
              "      <td>1.0000</td>\n",
              "      <td>1.0</td>\n",
              "      <td>35000.00</td>\n",
              "      <td>35000.00</td>\n",
              "      <td>2019-06-20</td>\n",
              "      <td>DISTRIBUCIONES MVM S.A.S</td>\n",
              "      <td>DISTRIBUCIONES MVM S.A.S</td>\n",
              "      <td>KCP HG HS JUMBO BLANCO 4 X 550 MTS SCOTT SMELL...</td>\n",
              "      <td>JHON JAIRO CASTAÑEDA LLANOS</td>\n",
              "      <td>NaN</td>\n",
              "      <td>MARIA LUISA VALENCIA MEJIA</td>\n",
              "      <td>NaN</td>\n",
              "      <td>NaN</td>\n",
              "      <td>Higienicos</td>\n",
              "      <td>HIGIENICOS</td>\n",
              "      <td>HIGIENICOS</td>\n",
              "      <td>HIGIENICOS</td>\n",
              "      <td>CO</td>\n",
              "      <td>1</td>\n",
              "    </tr>\n",
              "    <tr>\n",
              "      <th>2</th>\n",
              "      <td>2019</td>\n",
              "      <td>6</td>\n",
              "      <td>40162064</td>\n",
              "      <td>40162064</td>\n",
              "      <td>NaN</td>\n",
              "      <td>NaN</td>\n",
              "      <td>NaN</td>\n",
              "      <td>XIOMARA MORALES</td>\n",
              "      <td>1</td>\n",
              "      <td>11</td>\n",
              "      <td>1.0000</td>\n",
              "      <td>6.0</td>\n",
              "      <td>17404.69</td>\n",
              "      <td>104428.14</td>\n",
              "      <td>2019-06-20</td>\n",
              "      <td>DISTRIBUCIONES MVM S.A.S</td>\n",
              "      <td>DISTRIBUCIONES MVM S.A.S</td>\n",
              "      <td>JABON EN SPRAY SCOTT HAND LOTION X 400 ML KCP ...</td>\n",
              "      <td>CENTRO HOTELES SANTA ROSA SAS</td>\n",
              "      <td>NaN</td>\n",
              "      <td>XIOMARA MORALES</td>\n",
              "      <td>NaN</td>\n",
              "      <td>NaN</td>\n",
              "      <td>Jabones</td>\n",
              "      <td>JABONES</td>\n",
              "      <td>JABONES</td>\n",
              "      <td>JABON</td>\n",
              "      <td>CO</td>\n",
              "      <td>1</td>\n",
              "    </tr>\n",
              "    <tr>\n",
              "      <th>3</th>\n",
              "      <td>2019</td>\n",
              "      <td>6</td>\n",
              "      <td>40162064</td>\n",
              "      <td>40162064</td>\n",
              "      <td>NaN</td>\n",
              "      <td>NaN</td>\n",
              "      <td>NaN</td>\n",
              "      <td>XIOMARA MORALES</td>\n",
              "      <td>26</td>\n",
              "      <td>261</td>\n",
              "      <td>0.1667</td>\n",
              "      <td>1.0</td>\n",
              "      <td>34057.91</td>\n",
              "      <td>34057.91</td>\n",
              "      <td>2019-06-20</td>\n",
              "      <td>DISTRIBUCIONES MVM S.A.S</td>\n",
              "      <td>DISTRIBUCIONES MVM S.A.S</td>\n",
              "      <td>WYPALL X80 ROLLO X 80 PAÑOS</td>\n",
              "      <td>MONICA MARIA LOAIZA VELASQUEZ</td>\n",
              "      <td>NaN</td>\n",
              "      <td>XIOMARA MORALES</td>\n",
              "      <td>NaN</td>\n",
              "      <td>NaN</td>\n",
              "      <td>Wipers</td>\n",
              "      <td>WIPERS X</td>\n",
              "      <td>WIPING</td>\n",
              "      <td>WIPERS</td>\n",
              "      <td>CO</td>\n",
              "      <td>1</td>\n",
              "    </tr>\n",
              "    <tr>\n",
              "      <th>4</th>\n",
              "      <td>2019</td>\n",
              "      <td>6</td>\n",
              "      <td>40162064</td>\n",
              "      <td>40162064</td>\n",
              "      <td>NaN</td>\n",
              "      <td>NaN</td>\n",
              "      <td>NaN</td>\n",
              "      <td>MARIA LUISA VALENCIA MEJIA</td>\n",
              "      <td>1</td>\n",
              "      <td>12</td>\n",
              "      <td>1.0000</td>\n",
              "      <td>36.0</td>\n",
              "      <td>3281.22</td>\n",
              "      <td>118123.92</td>\n",
              "      <td>2019-06-20</td>\n",
              "      <td>DISTRIBUCIONES MVM S.A.S</td>\n",
              "      <td>DISTRIBUCIONES MVM S.A.S</td>\n",
              "      <td>HG HD BULK PACK BLANCO 36*250</td>\n",
              "      <td>MARIO HERNAN ROBLEDO</td>\n",
              "      <td>NaN</td>\n",
              "      <td>MARIA LUISA VALENCIA MEJIA</td>\n",
              "      <td>NaN</td>\n",
              "      <td>NaN</td>\n",
              "      <td>Higienicos</td>\n",
              "      <td>HIGIENICOS</td>\n",
              "      <td>HIGIENICOS</td>\n",
              "      <td>HIGIENICOS</td>\n",
              "      <td>CO</td>\n",
              "      <td>1</td>\n",
              "    </tr>\n",
              "    <tr>\n",
              "      <th>5</th>\n",
              "      <td>2019</td>\n",
              "      <td>6</td>\n",
              "      <td>40162064</td>\n",
              "      <td>40162064</td>\n",
              "      <td>NaN</td>\n",
              "      <td>NaN</td>\n",
              "      <td>NaN</td>\n",
              "      <td>XIOMARA MORALES</td>\n",
              "      <td>4</td>\n",
              "      <td>45</td>\n",
              "      <td>10.0000</td>\n",
              "      <td>60.0</td>\n",
              "      <td>7047.84</td>\n",
              "      <td>422870.40</td>\n",
              "      <td>2019-06-20</td>\n",
              "      <td>DISTRIBUCIONES MVM S.A.S</td>\n",
              "      <td>DISTRIBUCIONES MVM S.A.S</td>\n",
              "      <td>TOALLA ROLLO AIRFLEX ECOLOGICA HS X 100 MTS AH...</td>\n",
              "      <td>FAM LTDA</td>\n",
              "      <td>NaN</td>\n",
              "      <td>XIOMARA MORALES</td>\n",
              "      <td>NaN</td>\n",
              "      <td>NaN</td>\n",
              "      <td>Toallas</td>\n",
              "      <td>TOALLAS DE PAPEL</td>\n",
              "      <td>TOALLAS</td>\n",
              "      <td>TOALLAS</td>\n",
              "      <td>CO</td>\n",
              "      <td>1</td>\n",
              "    </tr>\n",
              "    <tr>\n",
              "      <th>6</th>\n",
              "      <td>2019</td>\n",
              "      <td>6</td>\n",
              "      <td>40162064</td>\n",
              "      <td>40162064</td>\n",
              "      <td>NaN</td>\n",
              "      <td>NaN</td>\n",
              "      <td>NaN</td>\n",
              "      <td>XIOMARA MORALES</td>\n",
              "      <td>4</td>\n",
              "      <td>45</td>\n",
              "      <td>0.0000</td>\n",
              "      <td>96.0</td>\n",
              "      <td>990.44</td>\n",
              "      <td>95082.24</td>\n",
              "      <td>2019-06-20</td>\n",
              "      <td>DISTRIBUCIONES MVM S.A.S</td>\n",
              "      <td>DISTRIBUCIONES MVM S.A.S</td>\n",
              "      <td>KCP HG HD ROLLO BLANCO * 28 MTS SCOTT</td>\n",
              "      <td>FAM LTDA</td>\n",
              "      <td>NaN</td>\n",
              "      <td>XIOMARA MORALES</td>\n",
              "      <td>NaN</td>\n",
              "      <td>NaN</td>\n",
              "      <td>Higienicos</td>\n",
              "      <td>HIGIENICOS</td>\n",
              "      <td>HIGIENICOS</td>\n",
              "      <td>HIGIENICOS</td>\n",
              "      <td>CO</td>\n",
              "      <td>1</td>\n",
              "    </tr>\n",
              "    <tr>\n",
              "      <th>7</th>\n",
              "      <td>2019</td>\n",
              "      <td>6</td>\n",
              "      <td>40162064</td>\n",
              "      <td>40162064</td>\n",
              "      <td>NaN</td>\n",
              "      <td>NaN</td>\n",
              "      <td>NaN</td>\n",
              "      <td>LUIS CARVAJAL</td>\n",
              "      <td>10</td>\n",
              "      <td>107</td>\n",
              "      <td>1.0000</td>\n",
              "      <td>1.0</td>\n",
              "      <td>65443.75</td>\n",
              "      <td>65443.75</td>\n",
              "      <td>2019-06-20</td>\n",
              "      <td>DISTRIBUCIONES MVM S.A.S</td>\n",
              "      <td>DISTRIBUCIONES MVM S.A.S</td>\n",
              "      <td>WYPALL ROLLO L20 ECOL RLL 1P KCC (550 MTRS) X ...</td>\n",
              "      <td>CLINICA BIOENERGETICA VETERINARIA BIOENER-VET ...</td>\n",
              "      <td>NaN</td>\n",
              "      <td>LUIS CARVAJAL</td>\n",
              "      <td>NaN</td>\n",
              "      <td>NaN</td>\n",
              "      <td>Wipers</td>\n",
              "      <td>WIPERS X</td>\n",
              "      <td>WIPING</td>\n",
              "      <td>WIPERS</td>\n",
              "      <td>CO</td>\n",
              "      <td>1</td>\n",
              "    </tr>\n",
              "    <tr>\n",
              "      <th>8</th>\n",
              "      <td>2019</td>\n",
              "      <td>6</td>\n",
              "      <td>40162064</td>\n",
              "      <td>40162064</td>\n",
              "      <td>NaN</td>\n",
              "      <td>NaN</td>\n",
              "      <td>NaN</td>\n",
              "      <td>LUIS CARVAJAL</td>\n",
              "      <td>10</td>\n",
              "      <td>107</td>\n",
              "      <td>0.3333</td>\n",
              "      <td>2.0</td>\n",
              "      <td>9732.00</td>\n",
              "      <td>19464.00</td>\n",
              "      <td>2019-06-20</td>\n",
              "      <td>DISTRIBUCIONES MVM S.A.S</td>\n",
              "      <td>DISTRIBUCIONES MVM S.A.S</td>\n",
              "      <td>TOALLA ROLLO AIRFLEX ECOLOGICA HS X 100 MTS AH...</td>\n",
              "      <td>CLINICA BIOENERGETICA VETERINARIA BIOENER-VET ...</td>\n",
              "      <td>NaN</td>\n",
              "      <td>LUIS CARVAJAL</td>\n",
              "      <td>NaN</td>\n",
              "      <td>NaN</td>\n",
              "      <td>Toallas</td>\n",
              "      <td>TOALLAS DE PAPEL</td>\n",
              "      <td>TOALLAS</td>\n",
              "      <td>TOALLAS</td>\n",
              "      <td>CO</td>\n",
              "      <td>1</td>\n",
              "    </tr>\n",
              "    <tr>\n",
              "      <th>9</th>\n",
              "      <td>2019</td>\n",
              "      <td>6</td>\n",
              "      <td>40162064</td>\n",
              "      <td>40162064</td>\n",
              "      <td>NaN</td>\n",
              "      <td>NaN</td>\n",
              "      <td>NaN</td>\n",
              "      <td>XIOMARA MORALES</td>\n",
              "      <td>1</td>\n",
              "      <td>11</td>\n",
              "      <td>1.0000</td>\n",
              "      <td>36.0</td>\n",
              "      <td>2702.20</td>\n",
              "      <td>97279.20</td>\n",
              "      <td>2019-06-20</td>\n",
              "      <td>DISTRIBUCIONES MVM S.A.S</td>\n",
              "      <td>DISTRIBUCIONES MVM S.A.S</td>\n",
              "      <td>HG HD BULK PACK BLANCO 36*250</td>\n",
              "      <td>ANDREA MONTOYA CASTAÑO</td>\n",
              "      <td>NaN</td>\n",
              "      <td>XIOMARA MORALES</td>\n",
              "      <td>NaN</td>\n",
              "      <td>NaN</td>\n",
              "      <td>Higienicos</td>\n",
              "      <td>HIGIENICOS</td>\n",
              "      <td>HIGIENICOS</td>\n",
              "      <td>HIGIENICOS</td>\n",
              "      <td>CO</td>\n",
              "      <td>1</td>\n",
              "    </tr>\n",
              "    <tr>\n",
              "      <th>10</th>\n",
              "      <td>2019</td>\n",
              "      <td>6</td>\n",
              "      <td>40162064</td>\n",
              "      <td>40162064</td>\n",
              "      <td>NaN</td>\n",
              "      <td>NaN</td>\n",
              "      <td>NaN</td>\n",
              "      <td>NELDA ABANED GRANADA PEREZ</td>\n",
              "      <td>19</td>\n",
              "      <td>191</td>\n",
              "      <td>2.0000</td>\n",
              "      <td>2.0</td>\n",
              "      <td>30850.00</td>\n",
              "      <td>61700.00</td>\n",
              "      <td>2019-06-20</td>\n",
              "      <td>DISTRIBUCIONES MVM S.A.S</td>\n",
              "      <td>DISTRIBUCIONES MVM S.A.S</td>\n",
              "      <td>KCP PAP HIG SCOTT JRT 2P BL 250X4X1 PC (Paca x...</td>\n",
              "      <td>BELA DISTRIBUIDORA DE BELLEZA S.A.S</td>\n",
              "      <td>NaN</td>\n",
              "      <td>NELDA ABANED GRANADA PEREZ</td>\n",
              "      <td>NaN</td>\n",
              "      <td>NaN</td>\n",
              "      <td>Higienicos</td>\n",
              "      <td>HIGIENICOS</td>\n",
              "      <td>HIGIENICOS</td>\n",
              "      <td>HIGIENICOS</td>\n",
              "      <td>CO</td>\n",
              "      <td>1</td>\n",
              "    </tr>\n",
              "    <tr>\n",
              "      <th>11</th>\n",
              "      <td>2019</td>\n",
              "      <td>6</td>\n",
              "      <td>40162064</td>\n",
              "      <td>40162064</td>\n",
              "      <td>NaN</td>\n",
              "      <td>NaN</td>\n",
              "      <td>NaN</td>\n",
              "      <td>XIOMARA MORALES</td>\n",
              "      <td>4</td>\n",
              "      <td>45</td>\n",
              "      <td>1.0000</td>\n",
              "      <td>30.0</td>\n",
              "      <td>1287.75</td>\n",
              "      <td>38632.50</td>\n",
              "      <td>2019-06-20</td>\n",
              "      <td>DISTRIBUCIONES MVM S.A.S</td>\n",
              "      <td>DISTRIBUCIONES MVM S.A.S</td>\n",
              "      <td>SERVILLETA AIRFLEX ECONOMICA X 30X120 SCOTT</td>\n",
              "      <td>CRISTIAN DAVID MARTINEZ FERNANDEZ</td>\n",
              "      <td>NaN</td>\n",
              "      <td>XIOMARA MORALES</td>\n",
              "      <td>NaN</td>\n",
              "      <td>NaN</td>\n",
              "      <td>Servilletas</td>\n",
              "      <td>SERVILLETAS</td>\n",
              "      <td>OTROS</td>\n",
              "      <td>Otros</td>\n",
              "      <td>CO</td>\n",
              "      <td>1</td>\n",
              "    </tr>\n",
              "    <tr>\n",
              "      <th>12</th>\n",
              "      <td>2019</td>\n",
              "      <td>6</td>\n",
              "      <td>40162064</td>\n",
              "      <td>40162064</td>\n",
              "      <td>NaN</td>\n",
              "      <td>NaN</td>\n",
              "      <td>NaN</td>\n",
              "      <td>XIOMARA MORALES</td>\n",
              "      <td>5</td>\n",
              "      <td>53</td>\n",
              "      <td>0.1667</td>\n",
              "      <td>1.0</td>\n",
              "      <td>25989.36</td>\n",
              "      <td>25989.36</td>\n",
              "      <td>2019-06-20</td>\n",
              "      <td>DISTRIBUCIONES MVM S.A.S</td>\n",
              "      <td>DISTRIBUCIONES MVM S.A.S</td>\n",
              "      <td>WYPALL ROLLO BLANCO X70 X 88 PAÑOS</td>\n",
              "      <td>JHON FERNANDO MONTOYA GOMEZ</td>\n",
              "      <td>NaN</td>\n",
              "      <td>XIOMARA MORALES</td>\n",
              "      <td>NaN</td>\n",
              "      <td>NaN</td>\n",
              "      <td>Wipers</td>\n",
              "      <td>WIPERS X</td>\n",
              "      <td>WIPING</td>\n",
              "      <td>WIPERS</td>\n",
              "      <td>CO</td>\n",
              "      <td>1</td>\n",
              "    </tr>\n",
              "    <tr>\n",
              "      <th>13</th>\n",
              "      <td>2019</td>\n",
              "      <td>6</td>\n",
              "      <td>40162064</td>\n",
              "      <td>40162064</td>\n",
              "      <td>NaN</td>\n",
              "      <td>NaN</td>\n",
              "      <td>NaN</td>\n",
              "      <td>MARIA LUISA VALENCIA MEJIA</td>\n",
              "      <td>19</td>\n",
              "      <td>191</td>\n",
              "      <td>3.0000</td>\n",
              "      <td>18.0</td>\n",
              "      <td>10842.62</td>\n",
              "      <td>195167.16</td>\n",
              "      <td>2019-06-20</td>\n",
              "      <td>DISTRIBUCIONES MVM S.A.S</td>\n",
              "      <td>DISTRIBUCIONES MVM S.A.S</td>\n",
              "      <td>TOALLA ROLLO AIRFLEX ECOLOGICA HS X 100 MTS AH...</td>\n",
              "      <td>CADENA CENTRALES LTDA</td>\n",
              "      <td>NaN</td>\n",
              "      <td>MARIA LUISA VALENCIA MEJIA</td>\n",
              "      <td>NaN</td>\n",
              "      <td>NaN</td>\n",
              "      <td>Toallas</td>\n",
              "      <td>TOALLAS DE PAPEL</td>\n",
              "      <td>TOALLAS</td>\n",
              "      <td>TOALLAS</td>\n",
              "      <td>CO</td>\n",
              "      <td>1</td>\n",
              "    </tr>\n",
              "    <tr>\n",
              "      <th>14</th>\n",
              "      <td>2019</td>\n",
              "      <td>6</td>\n",
              "      <td>40162064</td>\n",
              "      <td>40162064</td>\n",
              "      <td>NaN</td>\n",
              "      <td>NaN</td>\n",
              "      <td>NaN</td>\n",
              "      <td>MARIA LUISA VALENCIA MEJIA</td>\n",
              "      <td>19</td>\n",
              "      <td>191</td>\n",
              "      <td>5.0000</td>\n",
              "      <td>5.0</td>\n",
              "      <td>30000.00</td>\n",
              "      <td>150000.00</td>\n",
              "      <td>2019-06-20</td>\n",
              "      <td>DISTRIBUCIONES MVM S.A.S</td>\n",
              "      <td>DISTRIBUCIONES MVM S.A.S</td>\n",
              "      <td>JUMBO SCOTT ESSENTIAL BLANCO X 400 MTRS Hoja S...</td>\n",
              "      <td>CADENA CENTRALES LTDA</td>\n",
              "      <td>NaN</td>\n",
              "      <td>MARIA LUISA VALENCIA MEJIA</td>\n",
              "      <td>NaN</td>\n",
              "      <td>NaN</td>\n",
              "      <td>Higienicos</td>\n",
              "      <td>HIGIENICOS</td>\n",
              "      <td>HIGIENICOS</td>\n",
              "      <td>HIGIENICOS</td>\n",
              "      <td>CO</td>\n",
              "      <td>1</td>\n",
              "    </tr>\n",
              "    <tr>\n",
              "      <th>15</th>\n",
              "      <td>2019</td>\n",
              "      <td>6</td>\n",
              "      <td>40162064</td>\n",
              "      <td>40162064</td>\n",
              "      <td>NaN</td>\n",
              "      <td>NaN</td>\n",
              "      <td>NaN</td>\n",
              "      <td>NELDA ABANED GRANADA PEREZ</td>\n",
              "      <td>5</td>\n",
              "      <td>53</td>\n",
              "      <td>1.0000</td>\n",
              "      <td>1.0</td>\n",
              "      <td>100335.00</td>\n",
              "      <td>100335.00</td>\n",
              "      <td>2019-06-20</td>\n",
              "      <td>DISTRIBUCIONES MVM S.A.S</td>\n",
              "      <td>DISTRIBUCIONES MVM S.A.S</td>\n",
              "      <td>WYPALL ROLLO X60 BLANCO KCC X 890 PAÑOS X 300 ...</td>\n",
              "      <td>PRODUCTOS AGUA PURA DE COLOMBIA E U</td>\n",
              "      <td>NaN</td>\n",
              "      <td>NELDA ABANED GRANADA PEREZ</td>\n",
              "      <td>NaN</td>\n",
              "      <td>NaN</td>\n",
              "      <td>Wipers</td>\n",
              "      <td>WIPERS X</td>\n",
              "      <td>WIPING</td>\n",
              "      <td>WIPERS</td>\n",
              "      <td>CO</td>\n",
              "      <td>1</td>\n",
              "    </tr>\n",
              "    <tr>\n",
              "      <th>16</th>\n",
              "      <td>2019</td>\n",
              "      <td>6</td>\n",
              "      <td>40162064</td>\n",
              "      <td>40162064</td>\n",
              "      <td>NaN</td>\n",
              "      <td>NaN</td>\n",
              "      <td>NaN</td>\n",
              "      <td>XIOMARA MORALES</td>\n",
              "      <td>4</td>\n",
              "      <td>45</td>\n",
              "      <td>1.0000</td>\n",
              "      <td>6.0</td>\n",
              "      <td>20174.22</td>\n",
              "      <td>121045.32</td>\n",
              "      <td>2019-06-20</td>\n",
              "      <td>DISTRIBUCIONES MVM S.A.S</td>\n",
              "      <td>DISTRIBUCIONES MVM S.A.S</td>\n",
              "      <td>TOALLA ROLLO AIRFLEX SCOTT ECOLOGICA HD X 150 MTS</td>\n",
              "      <td>BEATRIZ EUGENIA RESTREPO POLANIA</td>\n",
              "      <td>NaN</td>\n",
              "      <td>XIOMARA MORALES</td>\n",
              "      <td>NaN</td>\n",
              "      <td>NaN</td>\n",
              "      <td>Toallas</td>\n",
              "      <td>TOALLAS DE PAPEL</td>\n",
              "      <td>TOALLAS</td>\n",
              "      <td>TOALLAS</td>\n",
              "      <td>CO</td>\n",
              "      <td>1</td>\n",
              "    </tr>\n",
              "    <tr>\n",
              "      <th>17</th>\n",
              "      <td>2019</td>\n",
              "      <td>6</td>\n",
              "      <td>40162064</td>\n",
              "      <td>40162064</td>\n",
              "      <td>NaN</td>\n",
              "      <td>NaN</td>\n",
              "      <td>NaN</td>\n",
              "      <td>XIOMARA MORALES</td>\n",
              "      <td>4</td>\n",
              "      <td>45</td>\n",
              "      <td>1.0000</td>\n",
              "      <td>30.0</td>\n",
              "      <td>1170.45</td>\n",
              "      <td>35113.50</td>\n",
              "      <td>2019-06-20</td>\n",
              "      <td>DISTRIBUCIONES MVM S.A.S</td>\n",
              "      <td>DISTRIBUCIONES MVM S.A.S</td>\n",
              "      <td>SERVILLETA AIRFLEX ECONOMICA X 30X120 SCOTT</td>\n",
              "      <td>BEATRIZ EUGENIA RESTREPO POLANIA</td>\n",
              "      <td>NaN</td>\n",
              "      <td>XIOMARA MORALES</td>\n",
              "      <td>NaN</td>\n",
              "      <td>NaN</td>\n",
              "      <td>Servilletas</td>\n",
              "      <td>SERVILLETAS</td>\n",
              "      <td>OTROS</td>\n",
              "      <td>Otros</td>\n",
              "      <td>CO</td>\n",
              "      <td>1</td>\n",
              "    </tr>\n",
              "    <tr>\n",
              "      <th>18</th>\n",
              "      <td>2019</td>\n",
              "      <td>6</td>\n",
              "      <td>40162064</td>\n",
              "      <td>40162064</td>\n",
              "      <td>NaN</td>\n",
              "      <td>NaN</td>\n",
              "      <td>NaN</td>\n",
              "      <td>NELDA ABANED GRANADA PEREZ</td>\n",
              "      <td>10</td>\n",
              "      <td>105</td>\n",
              "      <td>0.2778</td>\n",
              "      <td>10.0</td>\n",
              "      <td>2702.00</td>\n",
              "      <td>27020.00</td>\n",
              "      <td>2019-06-20</td>\n",
              "      <td>DISTRIBUCIONES MVM S.A.S</td>\n",
              "      <td>DISTRIBUCIONES MVM S.A.S</td>\n",
              "      <td>HG HD BULK PACK BLANCO 36*250</td>\n",
              "      <td>PRERENAL S A S</td>\n",
              "      <td>NaN</td>\n",
              "      <td>NELDA ABANED GRANADA PEREZ</td>\n",
              "      <td>NaN</td>\n",
              "      <td>NaN</td>\n",
              "      <td>Higienicos</td>\n",
              "      <td>HIGIENICOS</td>\n",
              "      <td>HIGIENICOS</td>\n",
              "      <td>HIGIENICOS</td>\n",
              "      <td>CO</td>\n",
              "      <td>1</td>\n",
              "    </tr>\n",
              "    <tr>\n",
              "      <th>19</th>\n",
              "      <td>2019</td>\n",
              "      <td>6</td>\n",
              "      <td>40162064</td>\n",
              "      <td>40162064</td>\n",
              "      <td>NaN</td>\n",
              "      <td>NaN</td>\n",
              "      <td>NaN</td>\n",
              "      <td>XIOMARA MORALES</td>\n",
              "      <td>4</td>\n",
              "      <td>45</td>\n",
              "      <td>1.0000</td>\n",
              "      <td>30.0</td>\n",
              "      <td>1239.46</td>\n",
              "      <td>37183.80</td>\n",
              "      <td>2019-06-20</td>\n",
              "      <td>DISTRIBUCIONES MVM S.A.S</td>\n",
              "      <td>DISTRIBUCIONES MVM S.A.S</td>\n",
              "      <td>SERVILLETA AIRFLEX ECONOMICA X 30X120 SCOTT</td>\n",
              "      <td>BLANCA STELLA AGUDELO DE VEGA</td>\n",
              "      <td>NaN</td>\n",
              "      <td>XIOMARA MORALES</td>\n",
              "      <td>NaN</td>\n",
              "      <td>NaN</td>\n",
              "      <td>Servilletas</td>\n",
              "      <td>SERVILLETAS</td>\n",
              "      <td>OTROS</td>\n",
              "      <td>Otros</td>\n",
              "      <td>CO</td>\n",
              "      <td>1</td>\n",
              "    </tr>\n",
              "    <tr>\n",
              "      <th>20</th>\n",
              "      <td>2019</td>\n",
              "      <td>6</td>\n",
              "      <td>40162064</td>\n",
              "      <td>40162064</td>\n",
              "      <td>NaN</td>\n",
              "      <td>NaN</td>\n",
              "      <td>NaN</td>\n",
              "      <td>XIOMARA MORALES</td>\n",
              "      <td>4</td>\n",
              "      <td>45</td>\n",
              "      <td>1.0000</td>\n",
              "      <td>1.0</td>\n",
              "      <td>37620.00</td>\n",
              "      <td>37620.00</td>\n",
              "      <td>2019-06-20</td>\n",
              "      <td>DISTRIBUCIONES MVM S.A.S</td>\n",
              "      <td>DISTRIBUCIONES MVM S.A.S</td>\n",
              "      <td>KCP PAP HIG SCOTT JRT 2P BL 250X4X1 PC (Paca x...</td>\n",
              "      <td>BLANCA STELLA AGUDELO DE VEGA</td>\n",
              "      <td>NaN</td>\n",
              "      <td>XIOMARA MORALES</td>\n",
              "      <td>NaN</td>\n",
              "      <td>NaN</td>\n",
              "      <td>Higienicos</td>\n",
              "      <td>HIGIENICOS</td>\n",
              "      <td>HIGIENICOS</td>\n",
              "      <td>HIGIENICOS</td>\n",
              "      <td>CO</td>\n",
              "      <td>1</td>\n",
              "    </tr>\n",
              "    <tr>\n",
              "      <th>21</th>\n",
              "      <td>2019</td>\n",
              "      <td>6</td>\n",
              "      <td>40162064</td>\n",
              "      <td>40162064</td>\n",
              "      <td>NaN</td>\n",
              "      <td>NaN</td>\n",
              "      <td>NaN</td>\n",
              "      <td>XIOMARA MORALES</td>\n",
              "      <td>1</td>\n",
              "      <td>13</td>\n",
              "      <td>2.0000</td>\n",
              "      <td>72.0</td>\n",
              "      <td>2702.20</td>\n",
              "      <td>194558.40</td>\n",
              "      <td>2019-06-20</td>\n",
              "      <td>DISTRIBUCIONES MVM S.A.S</td>\n",
              "      <td>DISTRIBUCIONES MVM S.A.S</td>\n",
              "      <td>HG HD BULK PACK BLANCO 36*250</td>\n",
              "      <td>LUZ ELVIRA GUEVARA</td>\n",
              "      <td>NaN</td>\n",
              "      <td>XIOMARA MORALES</td>\n",
              "      <td>NaN</td>\n",
              "      <td>NaN</td>\n",
              "      <td>Higienicos</td>\n",
              "      <td>HIGIENICOS</td>\n",
              "      <td>HIGIENICOS</td>\n",
              "      <td>HIGIENICOS</td>\n",
              "      <td>CO</td>\n",
              "      <td>1</td>\n",
              "    </tr>\n",
              "    <tr>\n",
              "      <th>22</th>\n",
              "      <td>2019</td>\n",
              "      <td>6</td>\n",
              "      <td>40162064</td>\n",
              "      <td>40162064</td>\n",
              "      <td>NaN</td>\n",
              "      <td>NaN</td>\n",
              "      <td>NaN</td>\n",
              "      <td>NELDA ABANED GRANADA PEREZ</td>\n",
              "      <td>26</td>\n",
              "      <td>261</td>\n",
              "      <td>1.0000</td>\n",
              "      <td>1.0</td>\n",
              "      <td>30850.00</td>\n",
              "      <td>30850.00</td>\n",
              "      <td>2019-06-20</td>\n",
              "      <td>DISTRIBUCIONES MVM S.A.S</td>\n",
              "      <td>DISTRIBUCIONES MVM S.A.S</td>\n",
              "      <td>KCP PAP HIG SCOTT JRT 2P BL 250X4X1 PC (Paca x...</td>\n",
              "      <td>CONFECCIONES VAINILLA S A S</td>\n",
              "      <td>NaN</td>\n",
              "      <td>NELDA ABANED GRANADA PEREZ</td>\n",
              "      <td>NaN</td>\n",
              "      <td>NaN</td>\n",
              "      <td>Higienicos</td>\n",
              "      <td>HIGIENICOS</td>\n",
              "      <td>HIGIENICOS</td>\n",
              "      <td>HIGIENICOS</td>\n",
              "      <td>CO</td>\n",
              "      <td>1</td>\n",
              "    </tr>\n",
              "    <tr>\n",
              "      <th>23</th>\n",
              "      <td>2019</td>\n",
              "      <td>6</td>\n",
              "      <td>40162064</td>\n",
              "      <td>40162064</td>\n",
              "      <td>NaN</td>\n",
              "      <td>NaN</td>\n",
              "      <td>NaN</td>\n",
              "      <td>ALBA ADRIANA CALLE CARVAJAL</td>\n",
              "      <td>4</td>\n",
              "      <td>43</td>\n",
              "      <td>2.0000</td>\n",
              "      <td>2.0</td>\n",
              "      <td>30096.00</td>\n",
              "      <td>60192.00</td>\n",
              "      <td>2019-06-20</td>\n",
              "      <td>DISTRIBUCIONES MVM S.A.S</td>\n",
              "      <td>DISTRIBUCIONES MVM S.A.S</td>\n",
              "      <td>KCP PAP HIG SCOTT JRT 2P BL 250X4X1 PC (Paca x...</td>\n",
              "      <td>AMANTA SAS</td>\n",
              "      <td>NaN</td>\n",
              "      <td>ALBA ADRIANA CALLE CARVAJAL</td>\n",
              "      <td>NaN</td>\n",
              "      <td>NaN</td>\n",
              "      <td>Higienicos</td>\n",
              "      <td>HIGIENICOS</td>\n",
              "      <td>HIGIENICOS</td>\n",
              "      <td>HIGIENICOS</td>\n",
              "      <td>CO</td>\n",
              "      <td>1</td>\n",
              "    </tr>\n",
              "    <tr>\n",
              "      <th>24</th>\n",
              "      <td>2019</td>\n",
              "      <td>6</td>\n",
              "      <td>40162064</td>\n",
              "      <td>40162064</td>\n",
              "      <td>NaN</td>\n",
              "      <td>NaN</td>\n",
              "      <td>NaN</td>\n",
              "      <td>NELDA ABANED GRANADA PEREZ</td>\n",
              "      <td>19</td>\n",
              "      <td>191</td>\n",
              "      <td>1.0000</td>\n",
              "      <td>20.0</td>\n",
              "      <td>4548.00</td>\n",
              "      <td>90960.00</td>\n",
              "      <td>2019-06-20</td>\n",
              "      <td>DISTRIBUCIONES MVM S.A.S</td>\n",
              "      <td>DISTRIBUCIONES MVM S.A.S</td>\n",
              "      <td>TOALLA AIRFLEX HS BLANCA 20 X 175 AHORRAMAX</td>\n",
              "      <td>HIGIA DISTRIBUCIONES S A S</td>\n",
              "      <td>NaN</td>\n",
              "      <td>NELDA ABANED GRANADA PEREZ</td>\n",
              "      <td>NaN</td>\n",
              "      <td>NaN</td>\n",
              "      <td>Toallas</td>\n",
              "      <td>TOALLAS DE PAPEL</td>\n",
              "      <td>TOALLAS</td>\n",
              "      <td>TOALLAS</td>\n",
              "      <td>CO</td>\n",
              "      <td>1</td>\n",
              "    </tr>\n",
              "    <tr>\n",
              "      <th>25</th>\n",
              "      <td>2019</td>\n",
              "      <td>6</td>\n",
              "      <td>40162064</td>\n",
              "      <td>40162064</td>\n",
              "      <td>NaN</td>\n",
              "      <td>NaN</td>\n",
              "      <td>NaN</td>\n",
              "      <td>NELDA ABANED GRANADA PEREZ</td>\n",
              "      <td>19</td>\n",
              "      <td>191</td>\n",
              "      <td>12.0000</td>\n",
              "      <td>72.0</td>\n",
              "      <td>9051.11</td>\n",
              "      <td>651679.92</td>\n",
              "      <td>2019-06-20</td>\n",
              "      <td>DISTRIBUCIONES MVM S.A.S</td>\n",
              "      <td>DISTRIBUCIONES MVM S.A.S</td>\n",
              "      <td>TOALLA ROLLO AIRFLEX ECOLOGICA HS X 100 MTS AH...</td>\n",
              "      <td>HIGIA DISTRIBUCIONES S A S</td>\n",
              "      <td>NaN</td>\n",
              "      <td>NELDA ABANED GRANADA PEREZ</td>\n",
              "      <td>NaN</td>\n",
              "      <td>NaN</td>\n",
              "      <td>Toallas</td>\n",
              "      <td>TOALLAS DE PAPEL</td>\n",
              "      <td>TOALLAS</td>\n",
              "      <td>TOALLAS</td>\n",
              "      <td>CO</td>\n",
              "      <td>1</td>\n",
              "    </tr>\n",
              "    <tr>\n",
              "      <th>26</th>\n",
              "      <td>2019</td>\n",
              "      <td>6</td>\n",
              "      <td>40162064</td>\n",
              "      <td>40162064</td>\n",
              "      <td>NaN</td>\n",
              "      <td>NaN</td>\n",
              "      <td>NaN</td>\n",
              "      <td>XIOMARA MORALES</td>\n",
              "      <td>1</td>\n",
              "      <td>11</td>\n",
              "      <td>0.5000</td>\n",
              "      <td>3.0</td>\n",
              "      <td>17404.69</td>\n",
              "      <td>52214.07</td>\n",
              "      <td>2019-06-20</td>\n",
              "      <td>DISTRIBUCIONES MVM S.A.S</td>\n",
              "      <td>DISTRIBUCIONES MVM S.A.S</td>\n",
              "      <td>JABON EN SPRAY SCOTT HAND LOTION X 400 ML KCP ...</td>\n",
              "      <td>JUAN  FELIPE TORRES GONZALEZ</td>\n",
              "      <td>NaN</td>\n",
              "      <td>XIOMARA MORALES</td>\n",
              "      <td>NaN</td>\n",
              "      <td>NaN</td>\n",
              "      <td>Jabones</td>\n",
              "      <td>JABONES</td>\n",
              "      <td>JABONES</td>\n",
              "      <td>JABON</td>\n",
              "      <td>CO</td>\n",
              "      <td>1</td>\n",
              "    </tr>\n",
              "    <tr>\n",
              "      <th>27</th>\n",
              "      <td>2019</td>\n",
              "      <td>6</td>\n",
              "      <td>40162064</td>\n",
              "      <td>40162064</td>\n",
              "      <td>NaN</td>\n",
              "      <td>NaN</td>\n",
              "      <td>NaN</td>\n",
              "      <td>XIOMARA MORALES</td>\n",
              "      <td>1</td>\n",
              "      <td>11</td>\n",
              "      <td>0.2778</td>\n",
              "      <td>10.0</td>\n",
              "      <td>2871.01</td>\n",
              "      <td>28710.10</td>\n",
              "      <td>2019-06-20</td>\n",
              "      <td>DISTRIBUCIONES MVM S.A.S</td>\n",
              "      <td>DISTRIBUCIONES MVM S.A.S</td>\n",
              "      <td>HG HD BULK PACK BLANCO 36*250</td>\n",
              "      <td>JUAN  FELIPE TORRES GONZALEZ</td>\n",
              "      <td>NaN</td>\n",
              "      <td>XIOMARA MORALES</td>\n",
              "      <td>NaN</td>\n",
              "      <td>NaN</td>\n",
              "      <td>Higienicos</td>\n",
              "      <td>HIGIENICOS</td>\n",
              "      <td>HIGIENICOS</td>\n",
              "      <td>HIGIENICOS</td>\n",
              "      <td>CO</td>\n",
              "      <td>1</td>\n",
              "    </tr>\n",
              "    <tr>\n",
              "      <th>28</th>\n",
              "      <td>2019</td>\n",
              "      <td>6</td>\n",
              "      <td>40162064</td>\n",
              "      <td>40162064</td>\n",
              "      <td>NaN</td>\n",
              "      <td>NaN</td>\n",
              "      <td>NaN</td>\n",
              "      <td>ALBA ADRIANA CALLE CARVAJAL</td>\n",
              "      <td>26</td>\n",
              "      <td>261</td>\n",
              "      <td>2.0000</td>\n",
              "      <td>2.0</td>\n",
              "      <td>30096.00</td>\n",
              "      <td>60192.00</td>\n",
              "      <td>2019-06-20</td>\n",
              "      <td>DISTRIBUCIONES MVM S.A.S</td>\n",
              "      <td>DISTRIBUCIONES MVM S.A.S</td>\n",
              "      <td>KCP PAP HIG SCOTT JRT 2P BL 250X4X1 PC (Paca x...</td>\n",
              "      <td>RECAUDOS INTEGRADOS S.A.S</td>\n",
              "      <td>NaN</td>\n",
              "      <td>ALBA ADRIANA CALLE CARVAJAL</td>\n",
              "      <td>NaN</td>\n",
              "      <td>NaN</td>\n",
              "      <td>Higienicos</td>\n",
              "      <td>HIGIENICOS</td>\n",
              "      <td>HIGIENICOS</td>\n",
              "      <td>HIGIENICOS</td>\n",
              "      <td>CO</td>\n",
              "      <td>1</td>\n",
              "    </tr>\n",
              "    <tr>\n",
              "      <th>29</th>\n",
              "      <td>2019</td>\n",
              "      <td>6</td>\n",
              "      <td>40162064</td>\n",
              "      <td>40162064</td>\n",
              "      <td>NaN</td>\n",
              "      <td>NaN</td>\n",
              "      <td>NaN</td>\n",
              "      <td>OFICINA</td>\n",
              "      <td>26</td>\n",
              "      <td>261</td>\n",
              "      <td>0.3333</td>\n",
              "      <td>2.0</td>\n",
              "      <td>14527.82</td>\n",
              "      <td>29055.64</td>\n",
              "      <td>2019-06-20</td>\n",
              "      <td>DISTRIBUCIONES MVM S.A.S</td>\n",
              "      <td>DISTRIBUCIONES MVM S.A.S</td>\n",
              "      <td>WYPALL ROLLO BLANCO X70 X88 MANICURE</td>\n",
              "      <td>FACTOR INK S.A.S</td>\n",
              "      <td>NaN</td>\n",
              "      <td>OFICINA</td>\n",
              "      <td>NaN</td>\n",
              "      <td>NaN</td>\n",
              "      <td>Wipers</td>\n",
              "      <td>WIPERS X</td>\n",
              "      <td>WIPING</td>\n",
              "      <td>WIPERS</td>\n",
              "      <td>CO</td>\n",
              "      <td>1</td>\n",
              "    </tr>\n",
              "    <tr>\n",
              "      <th>...</th>\n",
              "      <td>...</td>\n",
              "      <td>...</td>\n",
              "      <td>...</td>\n",
              "      <td>...</td>\n",
              "      <td>...</td>\n",
              "      <td>...</td>\n",
              "      <td>...</td>\n",
              "      <td>...</td>\n",
              "      <td>...</td>\n",
              "      <td>...</td>\n",
              "      <td>...</td>\n",
              "      <td>...</td>\n",
              "      <td>...</td>\n",
              "      <td>...</td>\n",
              "      <td>...</td>\n",
              "      <td>...</td>\n",
              "      <td>...</td>\n",
              "      <td>...</td>\n",
              "      <td>...</td>\n",
              "      <td>...</td>\n",
              "      <td>...</td>\n",
              "      <td>...</td>\n",
              "      <td>...</td>\n",
              "      <td>...</td>\n",
              "      <td>...</td>\n",
              "      <td>...</td>\n",
              "      <td>...</td>\n",
              "      <td>...</td>\n",
              "      <td>...</td>\n",
              "    </tr>\n",
              "    <tr>\n",
              "      <th>172197</th>\n",
              "      <td>2018</td>\n",
              "      <td>12</td>\n",
              "      <td>40032063</td>\n",
              "      <td>40032063</td>\n",
              "      <td>NaN</td>\n",
              "      <td>NaN</td>\n",
              "      <td>NaN</td>\n",
              "      <td>2</td>\n",
              "      <td>4</td>\n",
              "      <td>45</td>\n",
              "      <td>1.6670</td>\n",
              "      <td>10.0</td>\n",
              "      <td>35041.00</td>\n",
              "      <td>350410.00</td>\n",
              "      <td>2018-12-10</td>\n",
              "      <td>DISTRIBUCIONES ZUBIETA Y CIA LTDA</td>\n",
              "      <td>DISTRIBUCIONES ZUBIETA Y CIA LTDA</td>\n",
              "      <td>197006</td>\n",
              "      <td>OCAMPO CLAVIJO WILFRAN ANDRES</td>\n",
              "      <td>NaN</td>\n",
              "      <td>ISRAEL CESPEDES</td>\n",
              "      <td>NaN</td>\n",
              "      <td>NaN</td>\n",
              "      <td>Jabones</td>\n",
              "      <td>JABONES</td>\n",
              "      <td>JABONES</td>\n",
              "      <td>JABON</td>\n",
              "      <td>CO</td>\n",
              "      <td>1</td>\n",
              "    </tr>\n",
              "    <tr>\n",
              "      <th>172198</th>\n",
              "      <td>2018</td>\n",
              "      <td>12</td>\n",
              "      <td>40032097</td>\n",
              "      <td>40032097</td>\n",
              "      <td>NaN</td>\n",
              "      <td>NaN</td>\n",
              "      <td>NaN</td>\n",
              "      <td>79720104</td>\n",
              "      <td>10</td>\n",
              "      <td>101</td>\n",
              "      <td>4.0000</td>\n",
              "      <td>4.0</td>\n",
              "      <td>56608.00</td>\n",
              "      <td>226432.00</td>\n",
              "      <td>2018-12-10</td>\n",
              "      <td>MASTERQUIMICA WP ESP SAS BTA</td>\n",
              "      <td>MASTER QUIMICA S.A.S.</td>\n",
              "      <td>WYPALL X-60 JUMBO 300 MT</td>\n",
              "      <td>FUNDACION HOSPITAL INFANTIL UNIVERSITARIO DE S...</td>\n",
              "      <td>NaN</td>\n",
              "      <td>MORA VALENCIA ANDRES HUMBERTO</td>\n",
              "      <td>NaN</td>\n",
              "      <td>NaN</td>\n",
              "      <td>Wipers</td>\n",
              "      <td>WIPERS X</td>\n",
              "      <td>WIPING</td>\n",
              "      <td>WIPERS</td>\n",
              "      <td>CO</td>\n",
              "      <td>1</td>\n",
              "    </tr>\n",
              "    <tr>\n",
              "      <th>172199</th>\n",
              "      <td>2018</td>\n",
              "      <td>12</td>\n",
              "      <td>40032097</td>\n",
              "      <td>40032097</td>\n",
              "      <td>NaN</td>\n",
              "      <td>NaN</td>\n",
              "      <td>NaN</td>\n",
              "      <td>77143387</td>\n",
              "      <td>19</td>\n",
              "      <td>191</td>\n",
              "      <td>8.0000</td>\n",
              "      <td>8.0</td>\n",
              "      <td>52000.00</td>\n",
              "      <td>416000.00</td>\n",
              "      <td>2018-12-10</td>\n",
              "      <td>MASTERQUIMICA WP ESP SAS BTA</td>\n",
              "      <td>MASTER QUIMICA S.A.S.</td>\n",
              "      <td>LIMPION WYPALL L20 LIMPIAMAX ROLLO X 550 MTS</td>\n",
              "      <td>COLOMBIANA DE COMERCIO S A ALKOSTO</td>\n",
              "      <td>NaN</td>\n",
              "      <td>GARZON PEDROZO ALBEIRO</td>\n",
              "      <td>NaN</td>\n",
              "      <td>NaN</td>\n",
              "      <td>Wipers</td>\n",
              "      <td>WIPERS X</td>\n",
              "      <td>WIPING</td>\n",
              "      <td>WIPERS</td>\n",
              "      <td>CO</td>\n",
              "      <td>1</td>\n",
              "    </tr>\n",
              "    <tr>\n",
              "      <th>172200</th>\n",
              "      <td>2018</td>\n",
              "      <td>12</td>\n",
              "      <td>40032016</td>\n",
              "      <td>40145375</td>\n",
              "      <td>NaN</td>\n",
              "      <td>NaN</td>\n",
              "      <td>NaN</td>\n",
              "      <td>62</td>\n",
              "      <td>22</td>\n",
              "      <td>221</td>\n",
              "      <td>2.9952</td>\n",
              "      <td>144.0</td>\n",
              "      <td>892.00</td>\n",
              "      <td>128448.00</td>\n",
              "      <td>2018-12-10</td>\n",
              "      <td>DIST. JORGE MARIO URIBE G.S.A</td>\n",
              "      <td>DIST. JORGE MARIO URIBE G.S.A</td>\n",
              "      <td>PAPEL HIG X32 MT BL HD SCOTT    R / 1099</td>\n",
              "      <td>LA S A SOCIEDAD DE APOYO AERONAUTICO S</td>\n",
              "      <td>NaN</td>\n",
              "      <td>MARISOL SANCHEZ</td>\n",
              "      <td>NaN</td>\n",
              "      <td>NaN</td>\n",
              "      <td>Higienicos</td>\n",
              "      <td>HIGIENICOS</td>\n",
              "      <td>HIGIENICOS</td>\n",
              "      <td>HIGIENICOS</td>\n",
              "      <td>CO</td>\n",
              "      <td>1</td>\n",
              "    </tr>\n",
              "    <tr>\n",
              "      <th>172201</th>\n",
              "      <td>2018</td>\n",
              "      <td>12</td>\n",
              "      <td>40032016</td>\n",
              "      <td>40145375</td>\n",
              "      <td>NaN</td>\n",
              "      <td>NaN</td>\n",
              "      <td>NaN</td>\n",
              "      <td>62</td>\n",
              "      <td>22</td>\n",
              "      <td>221</td>\n",
              "      <td>6.0000</td>\n",
              "      <td>6.0</td>\n",
              "      <td>54160.00</td>\n",
              "      <td>324960.00</td>\n",
              "      <td>2018-12-10</td>\n",
              "      <td>DIST. JORGE MARIO URIBE G.S.A</td>\n",
              "      <td>DIST. JORGE MARIO URIBE G.S.A</td>\n",
              "      <td>WYPALL X-60 X200 MTS BL SCOTT   R / 2247</td>\n",
              "      <td>LA S A SOCIEDAD DE APOYO AERONAUTICO S</td>\n",
              "      <td>NaN</td>\n",
              "      <td>MARISOL SANCHEZ</td>\n",
              "      <td>NaN</td>\n",
              "      <td>NaN</td>\n",
              "      <td>Wipers</td>\n",
              "      <td>WIPERS X</td>\n",
              "      <td>WIPING</td>\n",
              "      <td>WIPERS</td>\n",
              "      <td>CO</td>\n",
              "      <td>1</td>\n",
              "    </tr>\n",
              "    <tr>\n",
              "      <th>172202</th>\n",
              "      <td>2018</td>\n",
              "      <td>12</td>\n",
              "      <td>40032016</td>\n",
              "      <td>40145375</td>\n",
              "      <td>NaN</td>\n",
              "      <td>NaN</td>\n",
              "      <td>NaN</td>\n",
              "      <td>930</td>\n",
              "      <td>26</td>\n",
              "      <td>261</td>\n",
              "      <td>0.3125</td>\n",
              "      <td>5.0</td>\n",
              "      <td>4773.00</td>\n",
              "      <td>23865.00</td>\n",
              "      <td>2018-12-10</td>\n",
              "      <td>DIST. JORGE MARIO URIBE G.S.A</td>\n",
              "      <td>DIST. JORGE MARIO URIBE G.S.A</td>\n",
              "      <td>TOALLA X200 UNDS NT HS SCOTT    R / 2817</td>\n",
              "      <td>INVERSIONES CAMPOAMALIA S A</td>\n",
              "      <td>NaN</td>\n",
              "      <td>APOYO LOGISTICO (R.L)</td>\n",
              "      <td>NaN</td>\n",
              "      <td>NaN</td>\n",
              "      <td>Toallas</td>\n",
              "      <td>TOALLAS DE PAPEL</td>\n",
              "      <td>TOALLAS</td>\n",
              "      <td>TOALLAS</td>\n",
              "      <td>CO</td>\n",
              "      <td>1</td>\n",
              "    </tr>\n",
              "    <tr>\n",
              "      <th>172203</th>\n",
              "      <td>2018</td>\n",
              "      <td>12</td>\n",
              "      <td>40032016</td>\n",
              "      <td>40145375</td>\n",
              "      <td>NaN</td>\n",
              "      <td>NaN</td>\n",
              "      <td>NaN</td>\n",
              "      <td>930</td>\n",
              "      <td>26</td>\n",
              "      <td>261</td>\n",
              "      <td>0.0667</td>\n",
              "      <td>1.0</td>\n",
              "      <td>2428.00</td>\n",
              "      <td>2428.00</td>\n",
              "      <td>2018-12-10</td>\n",
              "      <td>DIST. JORGE MARIO URIBE G.S.A</td>\n",
              "      <td>DIST. JORGE MARIO URIBE G.S.A</td>\n",
              "      <td>SERVILLETA X200 Z FOLD BL SCOT  R / 9703</td>\n",
              "      <td>INVERSIONES CAMPOAMALIA S A</td>\n",
              "      <td>NaN</td>\n",
              "      <td>APOYO LOGISTICO (R.L)</td>\n",
              "      <td>NaN</td>\n",
              "      <td>NaN</td>\n",
              "      <td>Servilletas</td>\n",
              "      <td>SERVILLETAS</td>\n",
              "      <td>OTROS</td>\n",
              "      <td>Otros</td>\n",
              "      <td>CO</td>\n",
              "      <td>1</td>\n",
              "    </tr>\n",
              "    <tr>\n",
              "      <th>172204</th>\n",
              "      <td>2018</td>\n",
              "      <td>12</td>\n",
              "      <td>40032016</td>\n",
              "      <td>40145375</td>\n",
              "      <td>NaN</td>\n",
              "      <td>NaN</td>\n",
              "      <td>NaN</td>\n",
              "      <td>930</td>\n",
              "      <td>26</td>\n",
              "      <td>261</td>\n",
              "      <td>1.0000</td>\n",
              "      <td>1.0</td>\n",
              "      <td>29968.00</td>\n",
              "      <td>29968.00</td>\n",
              "      <td>2018-12-10</td>\n",
              "      <td>DIST. JORGE MARIO URIBE G.S.A</td>\n",
              "      <td>DIST. JORGE MARIO URIBE G.S.A</td>\n",
              "      <td>PAPEL HIG X250 MTS X4 BL DH    R/4083 SCOTT</td>\n",
              "      <td>INVERSIONES CAMPOAMALIA S A</td>\n",
              "      <td>NaN</td>\n",
              "      <td>APOYO LOGISTICO (R.L)</td>\n",
              "      <td>NaN</td>\n",
              "      <td>NaN</td>\n",
              "      <td>Higienicos</td>\n",
              "      <td>HIGIENICOS</td>\n",
              "      <td>HIGIENICOS</td>\n",
              "      <td>HIGIENICOS</td>\n",
              "      <td>CO</td>\n",
              "      <td>1</td>\n",
              "    </tr>\n",
              "    <tr>\n",
              "      <th>172205</th>\n",
              "      <td>2018</td>\n",
              "      <td>12</td>\n",
              "      <td>40032016</td>\n",
              "      <td>40145375</td>\n",
              "      <td>NaN</td>\n",
              "      <td>NaN</td>\n",
              "      <td>NaN</td>\n",
              "      <td>930</td>\n",
              "      <td>26</td>\n",
              "      <td>261</td>\n",
              "      <td>0.2500</td>\n",
              "      <td>4.0</td>\n",
              "      <td>6775.00</td>\n",
              "      <td>27100.00</td>\n",
              "      <td>2018-12-10</td>\n",
              "      <td>DIST. JORGE MARIO URIBE G.S.A</td>\n",
              "      <td>DIST. JORGE MARIO URIBE G.S.A</td>\n",
              "      <td>TOALLA X150 UNDS Z BL DH KLEEN  R / 0934</td>\n",
              "      <td>INVERSIONES CAMPOAMALIA S A</td>\n",
              "      <td>NaN</td>\n",
              "      <td>APOYO LOGISTICO (R.L)</td>\n",
              "      <td>NaN</td>\n",
              "      <td>NaN</td>\n",
              "      <td>Toallas</td>\n",
              "      <td>TOALLAS DE PAPEL</td>\n",
              "      <td>TOALLAS</td>\n",
              "      <td>TOALLAS</td>\n",
              "      <td>CO</td>\n",
              "      <td>1</td>\n",
              "    </tr>\n",
              "    <tr>\n",
              "      <th>172206</th>\n",
              "      <td>2018</td>\n",
              "      <td>12</td>\n",
              "      <td>40064737</td>\n",
              "      <td>40064737</td>\n",
              "      <td>NaN</td>\n",
              "      <td>NaN</td>\n",
              "      <td>111.0</td>\n",
              "      <td>80503014</td>\n",
              "      <td>25</td>\n",
              "      <td>255</td>\n",
              "      <td>1.0000</td>\n",
              "      <td>1.0</td>\n",
              "      <td>33627.00</td>\n",
              "      <td>33627.00</td>\n",
              "      <td>2018-12-18</td>\n",
              "      <td>SUMIMAS S A S</td>\n",
              "      <td>SUMIMAS S A S</td>\n",
              "      <td>KCP PAP HIG ESSENTIAL 30226519 BLANCO SCOTT RO...</td>\n",
              "      <td>DHL GLOBAL FORWARDING COLOMBIA LTDA</td>\n",
              "      <td>DHL</td>\n",
              "      <td>NELSON CASTELLANOS PEREZ</td>\n",
              "      <td>NaN</td>\n",
              "      <td>NaN</td>\n",
              "      <td>Higienicos</td>\n",
              "      <td>HIGIENICOS</td>\n",
              "      <td>HIGIENICOS</td>\n",
              "      <td>HIGIENICOS</td>\n",
              "      <td>CO</td>\n",
              "      <td>1</td>\n",
              "    </tr>\n",
              "    <tr>\n",
              "      <th>172207</th>\n",
              "      <td>2018</td>\n",
              "      <td>12</td>\n",
              "      <td>40064737</td>\n",
              "      <td>40064737</td>\n",
              "      <td>NaN</td>\n",
              "      <td>NaN</td>\n",
              "      <td>111.0</td>\n",
              "      <td>80503014</td>\n",
              "      <td>25</td>\n",
              "      <td>255</td>\n",
              "      <td>9.0000</td>\n",
              "      <td>9.0</td>\n",
              "      <td>59300.00</td>\n",
              "      <td>533700.00</td>\n",
              "      <td>2018-12-18</td>\n",
              "      <td>SUMIMAS S A S</td>\n",
              "      <td>SUMIMAS S A S</td>\n",
              "      <td>KCP TOALLA MANOS HS 30210840 NATURAL SCOTT ROL...</td>\n",
              "      <td>DHL GLOBAL FORWARDING COLOMBIA LTDA</td>\n",
              "      <td>DHL</td>\n",
              "      <td>NELSON CASTELLANOS PEREZ</td>\n",
              "      <td>NaN</td>\n",
              "      <td>NaN</td>\n",
              "      <td>Toallas</td>\n",
              "      <td>TOALLAS DE PAPEL</td>\n",
              "      <td>TOALLAS</td>\n",
              "      <td>TOALLAS</td>\n",
              "      <td>CO</td>\n",
              "      <td>1</td>\n",
              "    </tr>\n",
              "    <tr>\n",
              "      <th>172208</th>\n",
              "      <td>2018</td>\n",
              "      <td>12</td>\n",
              "      <td>40064737</td>\n",
              "      <td>40064737</td>\n",
              "      <td>NaN</td>\n",
              "      <td>NaN</td>\n",
              "      <td>111.0</td>\n",
              "      <td>80503014</td>\n",
              "      <td>25</td>\n",
              "      <td>255</td>\n",
              "      <td>14.0000</td>\n",
              "      <td>14.0</td>\n",
              "      <td>59300.00</td>\n",
              "      <td>830200.00</td>\n",
              "      <td>2018-12-18</td>\n",
              "      <td>SUMIMAS S A S</td>\n",
              "      <td>SUMIMAS S A S</td>\n",
              "      <td>KCP TOALLA MANOS HS 30210840 NATURAL SCOTT ROL...</td>\n",
              "      <td>DHL GLOBAL FORWARDING COLOMBIA LTDA</td>\n",
              "      <td>DHL</td>\n",
              "      <td>NELSON CASTELLANOS PEREZ</td>\n",
              "      <td>NaN</td>\n",
              "      <td>NaN</td>\n",
              "      <td>Toallas</td>\n",
              "      <td>TOALLAS DE PAPEL</td>\n",
              "      <td>TOALLAS</td>\n",
              "      <td>TOALLAS</td>\n",
              "      <td>CO</td>\n",
              "      <td>1</td>\n",
              "    </tr>\n",
              "    <tr>\n",
              "      <th>172209</th>\n",
              "      <td>2018</td>\n",
              "      <td>12</td>\n",
              "      <td>40064737</td>\n",
              "      <td>40064737</td>\n",
              "      <td>NaN</td>\n",
              "      <td>NaN</td>\n",
              "      <td>NaN</td>\n",
              "      <td>1019026393</td>\n",
              "      <td>10</td>\n",
              "      <td>107</td>\n",
              "      <td>0.6250</td>\n",
              "      <td>10.0</td>\n",
              "      <td>5136.00</td>\n",
              "      <td>51360.00</td>\n",
              "      <td>2018-12-18</td>\n",
              "      <td>SUMIMAS S A S</td>\n",
              "      <td>SUMIMAS S A S</td>\n",
              "      <td>KCP TOALLA MANOS Z SENCILLA 30212817 NATURAL S...</td>\n",
              "      <td>ASISTENCIA CIENTIFICA DE ALTA COMPLEJIDAD S A S</td>\n",
              "      <td>NaN</td>\n",
              "      <td>JOHN ALEXANDER GONZALEZ</td>\n",
              "      <td>NaN</td>\n",
              "      <td>NaN</td>\n",
              "      <td>Toallas</td>\n",
              "      <td>TOALLAS DE PAPEL</td>\n",
              "      <td>TOALLAS</td>\n",
              "      <td>TOALLAS</td>\n",
              "      <td>CO</td>\n",
              "      <td>1</td>\n",
              "    </tr>\n",
              "    <tr>\n",
              "      <th>172210</th>\n",
              "      <td>2018</td>\n",
              "      <td>12</td>\n",
              "      <td>40064737</td>\n",
              "      <td>40064737</td>\n",
              "      <td>NaN</td>\n",
              "      <td>NaN</td>\n",
              "      <td>111.0</td>\n",
              "      <td>80503014</td>\n",
              "      <td>25</td>\n",
              "      <td>255</td>\n",
              "      <td>21.0000</td>\n",
              "      <td>21.0</td>\n",
              "      <td>32345.00</td>\n",
              "      <td>679245.00</td>\n",
              "      <td>2018-12-18</td>\n",
              "      <td>SUMIMAS S A S</td>\n",
              "      <td>SUMIMAS S A S</td>\n",
              "      <td>KCP PAP HIG JUMBO HD 30224083 BLANCO SCOTT ROL...</td>\n",
              "      <td>DHL GLOBAL FORWARDING COLOMBIA LTDA</td>\n",
              "      <td>DHL</td>\n",
              "      <td>NELSON CASTELLANOS PEREZ</td>\n",
              "      <td>NaN</td>\n",
              "      <td>NaN</td>\n",
              "      <td>Higienicos</td>\n",
              "      <td>HIGIENICOS</td>\n",
              "      <td>HIGIENICOS</td>\n",
              "      <td>HIGIENICOS</td>\n",
              "      <td>CO</td>\n",
              "      <td>1</td>\n",
              "    </tr>\n",
              "    <tr>\n",
              "      <th>172211</th>\n",
              "      <td>2018</td>\n",
              "      <td>12</td>\n",
              "      <td>40064737</td>\n",
              "      <td>40064737</td>\n",
              "      <td>NaN</td>\n",
              "      <td>NaN</td>\n",
              "      <td>111.0</td>\n",
              "      <td>80503014</td>\n",
              "      <td>25</td>\n",
              "      <td>255</td>\n",
              "      <td>1.1000</td>\n",
              "      <td>22.0</td>\n",
              "      <td>5839.00</td>\n",
              "      <td>128458.00</td>\n",
              "      <td>2018-12-18</td>\n",
              "      <td>SUMIMAS S A S</td>\n",
              "      <td>SUMIMAS S A S</td>\n",
              "      <td>KCP TOALLA MANOS (Z) HS 30204383 BLANCA SCOTT ...</td>\n",
              "      <td>DHL GLOBAL FORWARDING COLOMBIA LTDA</td>\n",
              "      <td>DHL</td>\n",
              "      <td>NELSON CASTELLANOS PEREZ</td>\n",
              "      <td>NaN</td>\n",
              "      <td>NaN</td>\n",
              "      <td>Toallas</td>\n",
              "      <td>TOALLAS DE PAPEL</td>\n",
              "      <td>TOALLAS</td>\n",
              "      <td>TOALLAS</td>\n",
              "      <td>CO</td>\n",
              "      <td>1</td>\n",
              "    </tr>\n",
              "    <tr>\n",
              "      <th>172212</th>\n",
              "      <td>2018</td>\n",
              "      <td>12</td>\n",
              "      <td>40064737</td>\n",
              "      <td>40064737</td>\n",
              "      <td>NaN</td>\n",
              "      <td>NaN</td>\n",
              "      <td>NaN</td>\n",
              "      <td>1019026393</td>\n",
              "      <td>10</td>\n",
              "      <td>107</td>\n",
              "      <td>0.6250</td>\n",
              "      <td>10.0</td>\n",
              "      <td>5136.00</td>\n",
              "      <td>51360.00</td>\n",
              "      <td>2018-12-18</td>\n",
              "      <td>SUMIMAS S A S</td>\n",
              "      <td>SUMIMAS S A S</td>\n",
              "      <td>KCP TOALLA MANOS Z SENCILLA 30212817 NATURAL S...</td>\n",
              "      <td>ASISTENCIA CIENTIFICA DE ALTA COMPLEJIDAD S A S</td>\n",
              "      <td>NaN</td>\n",
              "      <td>JOHN ALEXANDER GONZALEZ</td>\n",
              "      <td>NaN</td>\n",
              "      <td>NaN</td>\n",
              "      <td>Toallas</td>\n",
              "      <td>TOALLAS DE PAPEL</td>\n",
              "      <td>TOALLAS</td>\n",
              "      <td>TOALLAS</td>\n",
              "      <td>CO</td>\n",
              "      <td>1</td>\n",
              "    </tr>\n",
              "    <tr>\n",
              "      <th>172213</th>\n",
              "      <td>2018</td>\n",
              "      <td>12</td>\n",
              "      <td>40032097</td>\n",
              "      <td>40032097</td>\n",
              "      <td>NaN</td>\n",
              "      <td>NaN</td>\n",
              "      <td>21.0</td>\n",
              "      <td>51865185</td>\n",
              "      <td>19</td>\n",
              "      <td>191</td>\n",
              "      <td>0.4167</td>\n",
              "      <td>5.0</td>\n",
              "      <td>15344.00</td>\n",
              "      <td>76720.00</td>\n",
              "      <td>2018-12-20</td>\n",
              "      <td>MASTERQUIMICA WP ESP SAS BTA</td>\n",
              "      <td>MASTER QUIMICA S.A.S.</td>\n",
              "      <td>G80 GUANTES NITRILO VERDE 18\" TALLA 8</td>\n",
              "      <td>SODIMAC COLOMBIA S A HOMECENTER</td>\n",
              "      <td>CORONA</td>\n",
              "      <td>SUAREZ GONZALEZ ANA DORIS</td>\n",
              "      <td>NaN</td>\n",
              "      <td>NaN</td>\n",
              "      <td>Guantes</td>\n",
              "      <td>GUANTES</td>\n",
              "      <td>SAFETY</td>\n",
              "      <td>GUANTES</td>\n",
              "      <td>CO</td>\n",
              "      <td>1</td>\n",
              "    </tr>\n",
              "    <tr>\n",
              "      <th>172214</th>\n",
              "      <td>2018</td>\n",
              "      <td>12</td>\n",
              "      <td>40032097</td>\n",
              "      <td>40032097</td>\n",
              "      <td>NaN</td>\n",
              "      <td>NaN</td>\n",
              "      <td>21.0</td>\n",
              "      <td>51865185</td>\n",
              "      <td>19</td>\n",
              "      <td>191</td>\n",
              "      <td>0.2500</td>\n",
              "      <td>3.0</td>\n",
              "      <td>15344.00</td>\n",
              "      <td>46032.00</td>\n",
              "      <td>2018-12-20</td>\n",
              "      <td>MASTERQUIMICA WP ESP SAS BTA</td>\n",
              "      <td>MASTER QUIMICA S.A.S.</td>\n",
              "      <td>G80 GUANTES NITRILO VERDE 18\" TALLA 8</td>\n",
              "      <td>SODIMAC COLOMBIA S A HOMECENTER</td>\n",
              "      <td>CORONA</td>\n",
              "      <td>SUAREZ GONZALEZ ANA DORIS</td>\n",
              "      <td>NaN</td>\n",
              "      <td>NaN</td>\n",
              "      <td>Guantes</td>\n",
              "      <td>GUANTES</td>\n",
              "      <td>SAFETY</td>\n",
              "      <td>GUANTES</td>\n",
              "      <td>CO</td>\n",
              "      <td>1</td>\n",
              "    </tr>\n",
              "    <tr>\n",
              "      <th>172215</th>\n",
              "      <td>2018</td>\n",
              "      <td>12</td>\n",
              "      <td>40032097</td>\n",
              "      <td>40032097</td>\n",
              "      <td>NaN</td>\n",
              "      <td>NaN</td>\n",
              "      <td>21.0</td>\n",
              "      <td>51865185</td>\n",
              "      <td>19</td>\n",
              "      <td>191</td>\n",
              "      <td>0.4167</td>\n",
              "      <td>5.0</td>\n",
              "      <td>15344.00</td>\n",
              "      <td>76720.00</td>\n",
              "      <td>2018-12-20</td>\n",
              "      <td>MASTERQUIMICA WP ESP SAS BTA</td>\n",
              "      <td>MASTER QUIMICA S.A.S.</td>\n",
              "      <td>G80 GUANTES NITRILO VERDE 18\" TALLA 9</td>\n",
              "      <td>SODIMAC COLOMBIA S A HOMECENTER</td>\n",
              "      <td>CORONA</td>\n",
              "      <td>SUAREZ GONZALEZ ANA DORIS</td>\n",
              "      <td>NaN</td>\n",
              "      <td>NaN</td>\n",
              "      <td>Guantes</td>\n",
              "      <td>GUANTES</td>\n",
              "      <td>SAFETY</td>\n",
              "      <td>GUANTES</td>\n",
              "      <td>CO</td>\n",
              "      <td>1</td>\n",
              "    </tr>\n",
              "    <tr>\n",
              "      <th>172216</th>\n",
              "      <td>2018</td>\n",
              "      <td>12</td>\n",
              "      <td>40032097</td>\n",
              "      <td>40032097</td>\n",
              "      <td>NaN</td>\n",
              "      <td>NaN</td>\n",
              "      <td>21.0</td>\n",
              "      <td>51865185</td>\n",
              "      <td>19</td>\n",
              "      <td>191</td>\n",
              "      <td>0.2500</td>\n",
              "      <td>3.0</td>\n",
              "      <td>15344.00</td>\n",
              "      <td>46032.00</td>\n",
              "      <td>2018-12-20</td>\n",
              "      <td>MASTERQUIMICA WP ESP SAS BTA</td>\n",
              "      <td>MASTER QUIMICA S.A.S.</td>\n",
              "      <td>G80 GUANTES NITRILO VERDE 18\" TALLA 9</td>\n",
              "      <td>SODIMAC COLOMBIA S A HOMECENTER</td>\n",
              "      <td>CORONA</td>\n",
              "      <td>SUAREZ GONZALEZ ANA DORIS</td>\n",
              "      <td>NaN</td>\n",
              "      <td>NaN</td>\n",
              "      <td>Guantes</td>\n",
              "      <td>GUANTES</td>\n",
              "      <td>SAFETY</td>\n",
              "      <td>GUANTES</td>\n",
              "      <td>CO</td>\n",
              "      <td>1</td>\n",
              "    </tr>\n",
              "    <tr>\n",
              "      <th>172217</th>\n",
              "      <td>2018</td>\n",
              "      <td>12</td>\n",
              "      <td>40032097</td>\n",
              "      <td>40032097</td>\n",
              "      <td>NaN</td>\n",
              "      <td>NaN</td>\n",
              "      <td>NaN</td>\n",
              "      <td>79688297</td>\n",
              "      <td>15</td>\n",
              "      <td>154</td>\n",
              "      <td>4.0000</td>\n",
              "      <td>100.0</td>\n",
              "      <td>6800.00</td>\n",
              "      <td>680000.00</td>\n",
              "      <td>2018-12-20</td>\n",
              "      <td>MASTERQUIMICA WP ESP SAS BTA</td>\n",
              "      <td>MASTER QUIMICA S.A.S.</td>\n",
              "      <td>TRAJE PROTECTOR KLEENGUARD A35 TALLA XL</td>\n",
              "      <td>DIACO S A</td>\n",
              "      <td>NaN</td>\n",
              "      <td>AGUIRRE VIASUS JUAN CARLOS</td>\n",
              "      <td>NaN</td>\n",
              "      <td>NaN</td>\n",
              "      <td>Ropa Protectora</td>\n",
              "      <td>TRAJES</td>\n",
              "      <td>SAFETY</td>\n",
              "      <td>TRAJES</td>\n",
              "      <td>CO</td>\n",
              "      <td>1</td>\n",
              "    </tr>\n",
              "    <tr>\n",
              "      <th>172218</th>\n",
              "      <td>2018</td>\n",
              "      <td>12</td>\n",
              "      <td>40032097</td>\n",
              "      <td>40032097</td>\n",
              "      <td>NaN</td>\n",
              "      <td>NaN</td>\n",
              "      <td>NaN</td>\n",
              "      <td>79688297</td>\n",
              "      <td>15</td>\n",
              "      <td>154</td>\n",
              "      <td>0.8000</td>\n",
              "      <td>20.0</td>\n",
              "      <td>6800.00</td>\n",
              "      <td>136000.00</td>\n",
              "      <td>2018-12-20</td>\n",
              "      <td>MASTERQUIMICA WP ESP SAS BTA</td>\n",
              "      <td>MASTER QUIMICA S.A.S.</td>\n",
              "      <td>TRAJE PROTECTOR KLEENGUARD A35 TALLA XL</td>\n",
              "      <td>DIACO S A</td>\n",
              "      <td>NaN</td>\n",
              "      <td>AGUIRRE VIASUS JUAN CARLOS</td>\n",
              "      <td>NaN</td>\n",
              "      <td>NaN</td>\n",
              "      <td>Ropa Protectora</td>\n",
              "      <td>TRAJES</td>\n",
              "      <td>SAFETY</td>\n",
              "      <td>TRAJES</td>\n",
              "      <td>CO</td>\n",
              "      <td>1</td>\n",
              "    </tr>\n",
              "    <tr>\n",
              "      <th>172219</th>\n",
              "      <td>2018</td>\n",
              "      <td>12</td>\n",
              "      <td>40032097</td>\n",
              "      <td>40032097</td>\n",
              "      <td>NaN</td>\n",
              "      <td>NaN</td>\n",
              "      <td>NaN</td>\n",
              "      <td>79688297</td>\n",
              "      <td>15</td>\n",
              "      <td>154</td>\n",
              "      <td>2.0000</td>\n",
              "      <td>50.0</td>\n",
              "      <td>6800.00</td>\n",
              "      <td>340000.00</td>\n",
              "      <td>2018-12-20</td>\n",
              "      <td>MASTERQUIMICA WP ESP SAS BTA</td>\n",
              "      <td>MASTER QUIMICA S.A.S.</td>\n",
              "      <td>TRAJE PROTECTOR KLEENGUARD A35 TALLA XL</td>\n",
              "      <td>DIACO S A</td>\n",
              "      <td>NaN</td>\n",
              "      <td>AGUIRRE VIASUS JUAN CARLOS</td>\n",
              "      <td>NaN</td>\n",
              "      <td>NaN</td>\n",
              "      <td>Ropa Protectora</td>\n",
              "      <td>TRAJES</td>\n",
              "      <td>SAFETY</td>\n",
              "      <td>TRAJES</td>\n",
              "      <td>CO</td>\n",
              "      <td>1</td>\n",
              "    </tr>\n",
              "    <tr>\n",
              "      <th>172220</th>\n",
              "      <td>2018</td>\n",
              "      <td>12</td>\n",
              "      <td>40142428</td>\n",
              "      <td>40161544</td>\n",
              "      <td>NaN</td>\n",
              "      <td>NaN</td>\n",
              "      <td>NaN</td>\n",
              "      <td>JSAO</td>\n",
              "      <td>19</td>\n",
              "      <td>191</td>\n",
              "      <td>0.2000</td>\n",
              "      <td>12.0</td>\n",
              "      <td>4890.00</td>\n",
              "      <td>58680.00</td>\n",
              "      <td>2018-12-11</td>\n",
              "      <td>SUMATEC</td>\n",
              "      <td>SUMATEC BUCARAMANGA</td>\n",
              "      <td>KIMB GUANTE POLIURETANO NEGRO G40 T-7</td>\n",
              "      <td>RINCON GOMEZ RODRIGO / COLOR Y DECORACION</td>\n",
              "      <td>NaN</td>\n",
              "      <td>JUAN SEBASTIAN ARIAS OSORIO</td>\n",
              "      <td>NaN</td>\n",
              "      <td>NaN</td>\n",
              "      <td>Guantes</td>\n",
              "      <td>GUANTES</td>\n",
              "      <td>SAFETY</td>\n",
              "      <td>GUANTES</td>\n",
              "      <td>CO</td>\n",
              "      <td>1</td>\n",
              "    </tr>\n",
              "    <tr>\n",
              "      <th>172221</th>\n",
              "      <td>2018</td>\n",
              "      <td>12</td>\n",
              "      <td>40142428</td>\n",
              "      <td>40161544</td>\n",
              "      <td>NaN</td>\n",
              "      <td>NaN</td>\n",
              "      <td>NaN</td>\n",
              "      <td>JSAO</td>\n",
              "      <td>19</td>\n",
              "      <td>191</td>\n",
              "      <td>0.2000</td>\n",
              "      <td>12.0</td>\n",
              "      <td>4890.00</td>\n",
              "      <td>58680.00</td>\n",
              "      <td>2018-12-11</td>\n",
              "      <td>SUMATEC</td>\n",
              "      <td>SUMATEC BUCARAMANGA</td>\n",
              "      <td>KIMB GUANTE POLIURETANO NEGRO G40 T-8</td>\n",
              "      <td>RINCON GOMEZ RODRIGO / COLOR Y DECORACION</td>\n",
              "      <td>NaN</td>\n",
              "      <td>JUAN SEBASTIAN ARIAS OSORIO</td>\n",
              "      <td>NaN</td>\n",
              "      <td>NaN</td>\n",
              "      <td>Guantes</td>\n",
              "      <td>GUANTES</td>\n",
              "      <td>SAFETY</td>\n",
              "      <td>GUANTES</td>\n",
              "      <td>CO</td>\n",
              "      <td>1</td>\n",
              "    </tr>\n",
              "    <tr>\n",
              "      <th>172222</th>\n",
              "      <td>2018</td>\n",
              "      <td>12</td>\n",
              "      <td>40142428</td>\n",
              "      <td>40161947</td>\n",
              "      <td>NaN</td>\n",
              "      <td>NaN</td>\n",
              "      <td>NaN</td>\n",
              "      <td>AJS</td>\n",
              "      <td>26</td>\n",
              "      <td>261</td>\n",
              "      <td>2.0000</td>\n",
              "      <td>24.0</td>\n",
              "      <td>19800.00</td>\n",
              "      <td>475200.00</td>\n",
              "      <td>2018-12-11</td>\n",
              "      <td>SUMATEC</td>\n",
              "      <td>SUMATEC BARRACABERMEJA</td>\n",
              "      <td>KIMB GUANTE NITRILO VERDE LARGO 18\" G80 T-10</td>\n",
              "      <td>ARDILA NARANJO LUIS ENRIQUE</td>\n",
              "      <td>NaN</td>\n",
              "      <td>ANDERSON JAIMEZ SAENZ</td>\n",
              "      <td>NaN</td>\n",
              "      <td>NaN</td>\n",
              "      <td>Guantes</td>\n",
              "      <td>GUANTES</td>\n",
              "      <td>SAFETY</td>\n",
              "      <td>GUANTES</td>\n",
              "      <td>CO</td>\n",
              "      <td>1</td>\n",
              "    </tr>\n",
              "    <tr>\n",
              "      <th>172223</th>\n",
              "      <td>2018</td>\n",
              "      <td>12</td>\n",
              "      <td>40142428</td>\n",
              "      <td>40161947</td>\n",
              "      <td>NaN</td>\n",
              "      <td>NaN</td>\n",
              "      <td>NaN</td>\n",
              "      <td>JSEP</td>\n",
              "      <td>17</td>\n",
              "      <td>172</td>\n",
              "      <td>8.0000</td>\n",
              "      <td>200.0</td>\n",
              "      <td>8200.00</td>\n",
              "      <td>1640000.00</td>\n",
              "      <td>2018-12-11</td>\n",
              "      <td>SUMATEC</td>\n",
              "      <td>SUMATEC BARRACABERMEJA</td>\n",
              "      <td>KIMB TRAJE A35 BLANCO TALLA XL 16582</td>\n",
              "      <td>BRASERV PETROLEO SUCURSAL COLOMBIANA</td>\n",
              "      <td>NaN</td>\n",
              "      <td>JUAN SEBASTIAN ESTEVEZ PLATA</td>\n",
              "      <td>NaN</td>\n",
              "      <td>NaN</td>\n",
              "      <td>Ropa Protectora</td>\n",
              "      <td>TRAJES</td>\n",
              "      <td>SAFETY</td>\n",
              "      <td>TRAJES</td>\n",
              "      <td>CO</td>\n",
              "      <td>1</td>\n",
              "    </tr>\n",
              "    <tr>\n",
              "      <th>172224</th>\n",
              "      <td>2018</td>\n",
              "      <td>12</td>\n",
              "      <td>40142428</td>\n",
              "      <td>40161947</td>\n",
              "      <td>NaN</td>\n",
              "      <td>NaN</td>\n",
              "      <td>NaN</td>\n",
              "      <td>JSEP</td>\n",
              "      <td>17</td>\n",
              "      <td>172</td>\n",
              "      <td>1.6000</td>\n",
              "      <td>40.0</td>\n",
              "      <td>8200.00</td>\n",
              "      <td>328000.00</td>\n",
              "      <td>2018-12-11</td>\n",
              "      <td>SUMATEC</td>\n",
              "      <td>SUMATEC BARRACABERMEJA</td>\n",
              "      <td>KIMB TRAJE A35 BLANCO TALLA XL 16582</td>\n",
              "      <td>BRASERV PETROLEO SUCURSAL COLOMBIANA</td>\n",
              "      <td>NaN</td>\n",
              "      <td>JUAN SEBASTIAN ESTEVEZ PLATA</td>\n",
              "      <td>NaN</td>\n",
              "      <td>NaN</td>\n",
              "      <td>Ropa Protectora</td>\n",
              "      <td>TRAJES</td>\n",
              "      <td>SAFETY</td>\n",
              "      <td>TRAJES</td>\n",
              "      <td>CO</td>\n",
              "      <td>1</td>\n",
              "    </tr>\n",
              "    <tr>\n",
              "      <th>172225</th>\n",
              "      <td>2018</td>\n",
              "      <td>12</td>\n",
              "      <td>40142428</td>\n",
              "      <td>40161947</td>\n",
              "      <td>NaN</td>\n",
              "      <td>NaN</td>\n",
              "      <td>92.0</td>\n",
              "      <td>AJS</td>\n",
              "      <td>25</td>\n",
              "      <td>255</td>\n",
              "      <td>1.0000</td>\n",
              "      <td>10.0</td>\n",
              "      <td>98000.00</td>\n",
              "      <td>980000.00</td>\n",
              "      <td>2018-12-11</td>\n",
              "      <td>SUMATEC</td>\n",
              "      <td>SUMATEC BARRACABERMEJA</td>\n",
              "      <td>JACK CARETA PARA SOLDAR PASIVA W10 HSL2 @</td>\n",
              "      <td>CONSORCIO TURNAROUNDS ALLIANCE</td>\n",
              "      <td>MASA</td>\n",
              "      <td>ANDERSON JAIMEZ SAENZ</td>\n",
              "      <td>NaN</td>\n",
              "      <td>NaN</td>\n",
              "      <td>Caretas</td>\n",
              "      <td>SAFETY</td>\n",
              "      <td>SAFETY</td>\n",
              "      <td>MASCARAS</td>\n",
              "      <td>CO</td>\n",
              "      <td>1</td>\n",
              "    </tr>\n",
              "    <tr>\n",
              "      <th>172226</th>\n",
              "      <td>2018</td>\n",
              "      <td>12</td>\n",
              "      <td>40142428</td>\n",
              "      <td>40161947</td>\n",
              "      <td>NaN</td>\n",
              "      <td>NaN</td>\n",
              "      <td>NaN</td>\n",
              "      <td>LASA</td>\n",
              "      <td>24</td>\n",
              "      <td>240</td>\n",
              "      <td>2.3334</td>\n",
              "      <td>140.0</td>\n",
              "      <td>8834.66</td>\n",
              "      <td>1236852.40</td>\n",
              "      <td>2018-12-11</td>\n",
              "      <td>SUMATEC</td>\n",
              "      <td>SUMATEC BARRACABERMEJA</td>\n",
              "      <td>KIMB GUANTE ALGODON LATEX G40 T-9</td>\n",
              "      <td>HMV INGENIEROS LTDA</td>\n",
              "      <td>NaN</td>\n",
              "      <td>LISNEY AMELIA SANDOVAL ALVAREZ</td>\n",
              "      <td>NaN</td>\n",
              "      <td>NaN</td>\n",
              "      <td>Guantes</td>\n",
              "      <td>GUANTES</td>\n",
              "      <td>SAFETY</td>\n",
              "      <td>GUANTES</td>\n",
              "      <td>CO</td>\n",
              "      <td>1</td>\n",
              "    </tr>\n",
              "  </tbody>\n",
              "</table>\n",
              "<p>499836 rows × 29 columns</p>\n",
              "</div>"
            ],
            "text/plain": [
              "        ID_ANIO  ID_MES  ID_DISTRIBUIDOR  ...  DESC_SUB_CAT3 ID_PAIS total_dummy\n",
              "0          2019       6         40162064  ...     HIGIENICOS      CO           1\n",
              "1          2019       6         40162064  ...     HIGIENICOS      CO           1\n",
              "2          2019       6         40162064  ...          JABON      CO           1\n",
              "3          2019       6         40162064  ...         WIPERS      CO           1\n",
              "4          2019       6         40162064  ...     HIGIENICOS      CO           1\n",
              "5          2019       6         40162064  ...        TOALLAS      CO           1\n",
              "6          2019       6         40162064  ...     HIGIENICOS      CO           1\n",
              "7          2019       6         40162064  ...         WIPERS      CO           1\n",
              "8          2019       6         40162064  ...        TOALLAS      CO           1\n",
              "9          2019       6         40162064  ...     HIGIENICOS      CO           1\n",
              "10         2019       6         40162064  ...     HIGIENICOS      CO           1\n",
              "11         2019       6         40162064  ...          Otros      CO           1\n",
              "12         2019       6         40162064  ...         WIPERS      CO           1\n",
              "13         2019       6         40162064  ...        TOALLAS      CO           1\n",
              "14         2019       6         40162064  ...     HIGIENICOS      CO           1\n",
              "15         2019       6         40162064  ...         WIPERS      CO           1\n",
              "16         2019       6         40162064  ...        TOALLAS      CO           1\n",
              "17         2019       6         40162064  ...          Otros      CO           1\n",
              "18         2019       6         40162064  ...     HIGIENICOS      CO           1\n",
              "19         2019       6         40162064  ...          Otros      CO           1\n",
              "20         2019       6         40162064  ...     HIGIENICOS      CO           1\n",
              "21         2019       6         40162064  ...     HIGIENICOS      CO           1\n",
              "22         2019       6         40162064  ...     HIGIENICOS      CO           1\n",
              "23         2019       6         40162064  ...     HIGIENICOS      CO           1\n",
              "24         2019       6         40162064  ...        TOALLAS      CO           1\n",
              "25         2019       6         40162064  ...        TOALLAS      CO           1\n",
              "26         2019       6         40162064  ...          JABON      CO           1\n",
              "27         2019       6         40162064  ...     HIGIENICOS      CO           1\n",
              "28         2019       6         40162064  ...     HIGIENICOS      CO           1\n",
              "29         2019       6         40162064  ...         WIPERS      CO           1\n",
              "...         ...     ...              ...  ...            ...     ...         ...\n",
              "172197     2018      12         40032063  ...          JABON      CO           1\n",
              "172198     2018      12         40032097  ...         WIPERS      CO           1\n",
              "172199     2018      12         40032097  ...         WIPERS      CO           1\n",
              "172200     2018      12         40032016  ...     HIGIENICOS      CO           1\n",
              "172201     2018      12         40032016  ...         WIPERS      CO           1\n",
              "172202     2018      12         40032016  ...        TOALLAS      CO           1\n",
              "172203     2018      12         40032016  ...          Otros      CO           1\n",
              "172204     2018      12         40032016  ...     HIGIENICOS      CO           1\n",
              "172205     2018      12         40032016  ...        TOALLAS      CO           1\n",
              "172206     2018      12         40064737  ...     HIGIENICOS      CO           1\n",
              "172207     2018      12         40064737  ...        TOALLAS      CO           1\n",
              "172208     2018      12         40064737  ...        TOALLAS      CO           1\n",
              "172209     2018      12         40064737  ...        TOALLAS      CO           1\n",
              "172210     2018      12         40064737  ...     HIGIENICOS      CO           1\n",
              "172211     2018      12         40064737  ...        TOALLAS      CO           1\n",
              "172212     2018      12         40064737  ...        TOALLAS      CO           1\n",
              "172213     2018      12         40032097  ...        GUANTES      CO           1\n",
              "172214     2018      12         40032097  ...        GUANTES      CO           1\n",
              "172215     2018      12         40032097  ...        GUANTES      CO           1\n",
              "172216     2018      12         40032097  ...        GUANTES      CO           1\n",
              "172217     2018      12         40032097  ...         TRAJES      CO           1\n",
              "172218     2018      12         40032097  ...         TRAJES      CO           1\n",
              "172219     2018      12         40032097  ...         TRAJES      CO           1\n",
              "172220     2018      12         40142428  ...        GUANTES      CO           1\n",
              "172221     2018      12         40142428  ...        GUANTES      CO           1\n",
              "172222     2018      12         40142428  ...        GUANTES      CO           1\n",
              "172223     2018      12         40142428  ...         TRAJES      CO           1\n",
              "172224     2018      12         40142428  ...         TRAJES      CO           1\n",
              "172225     2018      12         40142428  ...       MASCARAS      CO           1\n",
              "172226     2018      12         40142428  ...        GUANTES      CO           1\n",
              "\n",
              "[499836 rows x 29 columns]"
            ]
          },
          "metadata": {
            "tags": []
          },
          "execution_count": 91
        }
      ]
    },
    {
      "cell_type": "markdown",
      "metadata": {
        "id": "_Fzb01hyFs1-",
        "colab_type": "text"
      },
      "source": [
        "#### 1.2.4  Se define función para ejecutar los tipos de motores de recomendación"
      ]
    },
    {
      "cell_type": "code",
      "metadata": {
        "id": "kh18gKpfF0X4",
        "colab_type": "code",
        "colab": {}
      },
      "source": [
        "# Se define una función que retorne un modelo resultado segun el enfoque que se requiere:\n",
        "# 1. Popularity : Es el item que más se a consumido en todos los clientes\n",
        "# 2. cosine :\n",
        "# 3. Pearson: \n",
        "def modelo_requerido(modelo,datos ,campo ):\n",
        "\n",
        "    train_data=tc.SFrame(datos)\n",
        "    print(\"Modelo solicitado:\"+ str(modelo))\n",
        "    if modelo == 'producto':\n",
        "        return  tc.popularity_recommender.create(train_data,user_id='ID_CLIENTE', item_id='ID_PRODUCTO', target=campo)\n",
        "    elif modelo == 'distancia_coseno':\n",
        "        return tc.item_similarity_recommender.create(train_data,user_id='ID_CLIENTE', item_id='ID_PRODUCTO', target=campo,similarity_type='cosine')\n",
        "    elif modelo == 'pearson':\n",
        "        return tc.item_similarity_recommender.create(train_data,user_id='ID_CLIENTE', item_id='ID_PRODUCTO', target=campo,similarity_type='pearson')\n",
        "    else : \n",
        "        print(\"ERROR: Modelo solicitado no existe\")\n",
        "\n",
        "#Obtiene las recomendaciones de forma visual para los clientes\n",
        "def productos_recomendado(modelo, usuarios, cantidad_recomendaciones):\n",
        "     modelo.recommend(users=list(usuarios), k=cantidad_recomendaciones).print_rows(cantidad_recomendaciones)\n",
        "\n",
        "#Evalua los modelos generados \n",
        "def evaluacion_modelos(modelo, test):\n",
        "  \n",
        "  if modelo == 'normalizado':\n",
        "        modelos_generados= [fac_producto, fac_coseno, fac_pearson]\n",
        "        nombres_modelos = ['Modelo basado en contenido', 'Modelo Colaborativo - Distancia Coseno', 'Modelo Colaborativo - Pearson']\n",
        "        test_data= tc.SFrame(test) \n",
        "        eval_counts = tc.recommender.util.compare_models(test_data, modelos_generados, model_names=nombres_modelos)\n",
        "  elif modelo == 'dummy':\n",
        "        modelos_generados= [dum_producto, dum_coseno, dum_pearson]\n",
        "        nombres_modelos = ['Modelo Dummy basado en contenido', 'Modelo Dummy Colaborativo - Distancia Coseno', 'Modelo Dummy Colaborativo - Pearson']\n",
        "        test_data= tc.SFrame(test) \n",
        "        eval_counts = tc.recommender.util.compare_models(test_data, modelos_generados, model_names=nombres_modelos)\n",
        "  else : \n",
        "        print(\"ERROR: Modelo solicitado no existe\")\n",
        "      \n",
        "#Exporta cinco  recomendaciones por cliente en google Drive      \n",
        "def exportarRecomendaciones(modelo, clientes):\n",
        "\n",
        "  lista_clientes =  list(clientes)\n",
        "  recomendaciones = modelo.recommend(users=lista_clientes, k=5)\n",
        "  resultado = recomendaciones.to_dataframe()\n",
        "  resultado['id_producto_recomendado'] = resultado.groupby(['ID_CLIENTE'])['ID_PRODUCTO'].transform(lambda x: ';'.join(x.astype(str)))\n",
        "  exportar = resultado[['ID_CLIENTE', 'id_producto_recomendado']].drop_duplicates().sort_values('ID_CLIENTE').set_index('ID_CLIENTE')\n",
        "  exportar.to_csv('recomendaciones.csv')\n",
        "  !cp recomendaciones.csv drive/My\\ Drive/TFM-AI/\n",
        "  print(\"Se han exportado las recomendaciones en Google drive\")\n"
      ],
      "execution_count": 0,
      "outputs": []
    },
    {
      "cell_type": "markdown",
      "metadata": {
        "id": "52rVRxv5YF7J",
        "colab_type": "text"
      },
      "source": [
        "### 1.3 Modelo de recomendación basado en Contenido\n",
        "Este modelo genera recomendaciones con base en la relación de los clientes y sus productos"
      ]
    },
    {
      "cell_type": "code",
      "metadata": {
        "id": "GIJ-1VLWNuaa",
        "colab_type": "code",
        "outputId": "69a8746a-53fa-4019-dedb-16ebfaf2a18f",
        "colab": {
          "base_uri": "https://localhost:8080/",
          "height": 187
        }
      },
      "source": [
        "# Se generan las recomendaciones por dataset\n",
        "fac_producto = modelo_requerido('producto',train_data,'total_frecuencia' )\n",
        "dum_producto = modelo_requerido('producto' ,train_data_dummy, 'total_dummy')"
      ],
      "execution_count": 100,
      "outputs": [
        {
          "output_type": "stream",
          "text": [
            "Modelo solicitado:producto\n"
          ],
          "name": "stdout"
        },
        {
          "output_type": "display_data",
          "data": {
            "text/html": [
              "<pre>Preparing data set.</pre>"
            ],
            "text/plain": [
              "Preparing data set."
            ]
          },
          "metadata": {
            "tags": []
          }
        },
        {
          "output_type": "display_data",
          "data": {
            "text/html": [
              "<pre>    Data has 74901 observations with 22127 users and 254 items.</pre>"
            ],
            "text/plain": [
              "    Data has 74901 observations with 22127 users and 254 items."
            ]
          },
          "metadata": {
            "tags": []
          }
        },
        {
          "output_type": "display_data",
          "data": {
            "text/html": [
              "<pre>    Data prepared in: 0.142101s</pre>"
            ],
            "text/plain": [
              "    Data prepared in: 0.142101s"
            ]
          },
          "metadata": {
            "tags": []
          }
        },
        {
          "output_type": "display_data",
          "data": {
            "text/html": [
              "<pre>74901 observations to process; with 254 unique items.</pre>"
            ],
            "text/plain": [
              "74901 observations to process; with 254 unique items."
            ]
          },
          "metadata": {
            "tags": []
          }
        },
        {
          "output_type": "stream",
          "text": [
            "Modelo solicitado:producto\n"
          ],
          "name": "stdout"
        },
        {
          "output_type": "display_data",
          "data": {
            "text/html": [
              "<pre>Preparing data set.</pre>"
            ],
            "text/plain": [
              "Preparing data set."
            ]
          },
          "metadata": {
            "tags": []
          }
        },
        {
          "output_type": "display_data",
          "data": {
            "text/html": [
              "<pre>    Data has 349885 observations with 21178 users and 272 items.</pre>"
            ],
            "text/plain": [
              "    Data has 349885 observations with 21178 users and 272 items."
            ]
          },
          "metadata": {
            "tags": []
          }
        },
        {
          "output_type": "display_data",
          "data": {
            "text/html": [
              "<pre>    Data prepared in: 0.397158s</pre>"
            ],
            "text/plain": [
              "    Data prepared in: 0.397158s"
            ]
          },
          "metadata": {
            "tags": []
          }
        },
        {
          "output_type": "display_data",
          "data": {
            "text/html": [
              "<pre>349885 observations to process; with 272 unique items.</pre>"
            ],
            "text/plain": [
              "349885 observations to process; with 272 unique items."
            ]
          },
          "metadata": {
            "tags": []
          }
        }
      ]
    },
    {
      "cell_type": "code",
      "metadata": {
        "id": "Bgx-7a87wrap",
        "colab_type": "code",
        "colab": {
          "base_uri": "https://localhost:8080/",
          "height": 51
        },
        "outputId": "8f8d65fd-4b4a-4fda-e0ce-61ef3e0c0ee9"
      },
      "source": [
        "# se obtienen identificadores de clientes \n",
        "data_norm.ID_CLIENTE.unique()"
      ],
      "execution_count": 101,
      "outputs": [
        {
          "output_type": "execute_result",
          "data": {
            "text/plain": [
              "array(['800202080', '806007912', '900042581', ..., '900497906',\n",
              "       '71396397', '900994857'], dtype=object)"
            ]
          },
          "metadata": {
            "tags": []
          },
          "execution_count": 101
        }
      ]
    },
    {
      "cell_type": "code",
      "metadata": {
        "id": "IpjX_Fr3Sl2Y",
        "colab_type": "code",
        "outputId": "19db4c8e-3c13-4cf1-f16c-bc0b7a21cdd8",
        "colab": {
          "base_uri": "https://localhost:8080/",
          "height": 867
        }
      },
      "source": [
        "# Se generan las recomendaciones para un Cliente\n",
        "print(\"=============================================\")  \n",
        "print(\"Metodo: Basado en contenido - DS Normalizado\")\n",
        "print(\"============================================\")  \n",
        "productos_recomendado(fac_producto,'800202080',5)\n",
        "productos_recomendado(fac_producto,'806007912',5)\n",
        "\n",
        "print(\"============================================\")  \n",
        "print(\"Metodo: Basado en contenido - DS Referencia\")\n",
        "print(\"============================================\")  \n",
        "productos_recomendado(dum_producto,'800202080',5)\n",
        "productos_recomendado(dum_producto,'806007912',5)"
      ],
      "execution_count": 103,
      "outputs": [
        {
          "output_type": "stream",
          "text": [
            "=====================================\n",
            "Metodo: Basado en contenido - DS Normalizado\n",
            "=====================================\n",
            "+------------+-------------+--------------------+------+\n",
            "| ID_CLIENTE | ID_PRODUCTO |       score        | rank |\n",
            "+------------+-------------+--------------------+------+\n",
            "|     8      |   30200140  |        1.0         |  1   |\n",
            "|     8      |   30215069  | 0.6576417616289737 |  2   |\n",
            "|     8      |   30196054  | 0.6308287267075577 |  3   |\n",
            "|     8      |   30206514  | 0.6179819195214791 |  4   |\n",
            "|     8      |   30172937  | 0.6129633408147998 |  5   |\n",
            "+------------+-------------+--------------------+------+\n",
            "[45 rows x 4 columns]\n",
            "\n",
            "+------------+-------------+--------------------+------+\n",
            "| ID_CLIENTE | ID_PRODUCTO |       score        | rank |\n",
            "+------------+-------------+--------------------+------+\n",
            "|     8      |   30200140  |        1.0         |  1   |\n",
            "|     8      |   30215069  | 0.6576417616289737 |  2   |\n",
            "|     8      |   30196054  | 0.6308287267075577 |  3   |\n",
            "|     8      |   30206514  | 0.6179819195214791 |  4   |\n",
            "|     8      |   30172937  | 0.6129633408147998 |  5   |\n",
            "+------------+-------------+--------------------+------+\n",
            "[45 rows x 4 columns]\n",
            "\n",
            "=====================================\n",
            "Metodo: Basado en contenido - DS Referencia\n",
            "=====================================\n",
            "+------------+-------------+-------+------+\n",
            "| ID_CLIENTE | ID_PRODUCTO | score | rank |\n",
            "+------------+-------------+-------+------+\n",
            "|     8      |   30208503  |  1.0  |  1   |\n",
            "|     8      |   30221719  |  1.0  |  2   |\n",
            "|     8      |   30224130  |  1.0  |  3   |\n",
            "|     8      |   30224083  |  1.0  |  4   |\n",
            "|     8      |   30163165  |  1.0  |  5   |\n",
            "+------------+-------------+-------+------+\n",
            "[45 rows x 4 columns]\n",
            "\n",
            "+------------+-------------+-------+------+\n",
            "| ID_CLIENTE | ID_PRODUCTO | score | rank |\n",
            "+------------+-------------+-------+------+\n",
            "|     8      |   30208503  |  1.0  |  1   |\n",
            "|     8      |   30221719  |  1.0  |  2   |\n",
            "|     8      |   30224130  |  1.0  |  3   |\n",
            "|     8      |   30224083  |  1.0  |  4   |\n",
            "|     8      |   30163165  |  1.0  |  5   |\n",
            "+------------+-------------+-------+------+\n",
            "[45 rows x 4 columns]\n",
            "\n"
          ],
          "name": "stdout"
        }
      ]
    },
    {
      "cell_type": "markdown",
      "metadata": {
        "id": "D7p0zJxaZKD4",
        "colab_type": "text"
      },
      "source": [
        "### 1.4 Motor de recomendación Colaborativo\n",
        "Este modelo genera recomendaciones con base en el comportamiento de compra que tienen los usuarios. <br>\n",
        "Con este fin se realizan pruebas con dos enfoques, la distancia coseno y pearson para evaluar cual es el que da mejores resultados"
      ]
    },
    {
      "cell_type": "code",
      "metadata": {
        "id": "2ZjeevWDZpNO",
        "colab_type": "code",
        "outputId": "b52dfbce-bf3b-4bfb-cde2-24441e8077aa",
        "colab": {
          "base_uri": "https://localhost:8080/",
          "height": 799
        }
      },
      "source": [
        "# Se generan las recomendaciones por dataset\n",
        "fac_coseno = modelo_requerido('distancia_coseno',train_data,'total_frecuencia' )\n",
        "dum_coseno = modelo_requerido('distancia_coseno' ,train_data_dummy, 'total_dummy')"
      ],
      "execution_count": 104,
      "outputs": [
        {
          "output_type": "stream",
          "text": [
            "Modelo solicitado:distancia_coseno\n"
          ],
          "name": "stdout"
        },
        {
          "output_type": "display_data",
          "data": {
            "text/html": [
              "<pre>Preparing data set.</pre>"
            ],
            "text/plain": [
              "Preparing data set."
            ]
          },
          "metadata": {
            "tags": []
          }
        },
        {
          "output_type": "display_data",
          "data": {
            "text/html": [
              "<pre>    Data has 74901 observations with 22127 users and 254 items.</pre>"
            ],
            "text/plain": [
              "    Data has 74901 observations with 22127 users and 254 items."
            ]
          },
          "metadata": {
            "tags": []
          }
        },
        {
          "output_type": "display_data",
          "data": {
            "text/html": [
              "<pre>    Data prepared in: 0.127852s</pre>"
            ],
            "text/plain": [
              "    Data prepared in: 0.127852s"
            ]
          },
          "metadata": {
            "tags": []
          }
        },
        {
          "output_type": "display_data",
          "data": {
            "text/html": [
              "<pre>Training model from provided data.</pre>"
            ],
            "text/plain": [
              "Training model from provided data."
            ]
          },
          "metadata": {
            "tags": []
          }
        },
        {
          "output_type": "display_data",
          "data": {
            "text/html": [
              "<pre>Gathering per-item and per-user statistics.</pre>"
            ],
            "text/plain": [
              "Gathering per-item and per-user statistics."
            ]
          },
          "metadata": {
            "tags": []
          }
        },
        {
          "output_type": "display_data",
          "data": {
            "text/html": [
              "<pre>+--------------------------------+------------+</pre>"
            ],
            "text/plain": [
              "+--------------------------------+------------+"
            ]
          },
          "metadata": {
            "tags": []
          }
        },
        {
          "output_type": "display_data",
          "data": {
            "text/html": [
              "<pre>| Elapsed Time (Item Statistics) | % Complete |</pre>"
            ],
            "text/plain": [
              "| Elapsed Time (Item Statistics) | % Complete |"
            ]
          },
          "metadata": {
            "tags": []
          }
        },
        {
          "output_type": "display_data",
          "data": {
            "text/html": [
              "<pre>+--------------------------------+------------+</pre>"
            ],
            "text/plain": [
              "+--------------------------------+------------+"
            ]
          },
          "metadata": {
            "tags": []
          }
        },
        {
          "output_type": "display_data",
          "data": {
            "text/html": [
              "<pre>| 618us                          | 4.5        |</pre>"
            ],
            "text/plain": [
              "| 618us                          | 4.5        |"
            ]
          },
          "metadata": {
            "tags": []
          }
        },
        {
          "output_type": "display_data",
          "data": {
            "text/html": [
              "<pre>| 6.339ms                        | 100        |</pre>"
            ],
            "text/plain": [
              "| 6.339ms                        | 100        |"
            ]
          },
          "metadata": {
            "tags": []
          }
        },
        {
          "output_type": "display_data",
          "data": {
            "text/html": [
              "<pre>+--------------------------------+------------+</pre>"
            ],
            "text/plain": [
              "+--------------------------------+------------+"
            ]
          },
          "metadata": {
            "tags": []
          }
        },
        {
          "output_type": "display_data",
          "data": {
            "text/html": [
              "<pre>Setting up lookup tables.</pre>"
            ],
            "text/plain": [
              "Setting up lookup tables."
            ]
          },
          "metadata": {
            "tags": []
          }
        },
        {
          "output_type": "display_data",
          "data": {
            "text/html": [
              "<pre>Processing data in one pass using dense lookup tables.</pre>"
            ],
            "text/plain": [
              "Processing data in one pass using dense lookup tables."
            ]
          },
          "metadata": {
            "tags": []
          }
        },
        {
          "output_type": "display_data",
          "data": {
            "text/html": [
              "<pre>+-------------------------------------+------------------+-----------------+</pre>"
            ],
            "text/plain": [
              "+-------------------------------------+------------------+-----------------+"
            ]
          },
          "metadata": {
            "tags": []
          }
        },
        {
          "output_type": "display_data",
          "data": {
            "text/html": [
              "<pre>| Elapsed Time (Constructing Lookups) | Total % Complete | Items Processed |</pre>"
            ],
            "text/plain": [
              "| Elapsed Time (Constructing Lookups) | Total % Complete | Items Processed |"
            ]
          },
          "metadata": {
            "tags": []
          }
        },
        {
          "output_type": "display_data",
          "data": {
            "text/html": [
              "<pre>+-------------------------------------+------------------+-----------------+</pre>"
            ],
            "text/plain": [
              "+-------------------------------------+------------------+-----------------+"
            ]
          },
          "metadata": {
            "tags": []
          }
        },
        {
          "output_type": "display_data",
          "data": {
            "text/html": [
              "<pre>| 6.772ms                             | 0                | 0               |</pre>"
            ],
            "text/plain": [
              "| 6.772ms                             | 0                | 0               |"
            ]
          },
          "metadata": {
            "tags": []
          }
        },
        {
          "output_type": "display_data",
          "data": {
            "text/html": [
              "<pre>| 17.285ms                            | 100              | 254             |</pre>"
            ],
            "text/plain": [
              "| 17.285ms                            | 100              | 254             |"
            ]
          },
          "metadata": {
            "tags": []
          }
        },
        {
          "output_type": "display_data",
          "data": {
            "text/html": [
              "<pre>+-------------------------------------+------------------+-----------------+</pre>"
            ],
            "text/plain": [
              "+-------------------------------------+------------------+-----------------+"
            ]
          },
          "metadata": {
            "tags": []
          }
        },
        {
          "output_type": "display_data",
          "data": {
            "text/html": [
              "<pre>Finalizing lookup tables.</pre>"
            ],
            "text/plain": [
              "Finalizing lookup tables."
            ]
          },
          "metadata": {
            "tags": []
          }
        },
        {
          "output_type": "display_data",
          "data": {
            "text/html": [
              "<pre>Generating candidate set for working with new users.</pre>"
            ],
            "text/plain": [
              "Generating candidate set for working with new users."
            ]
          },
          "metadata": {
            "tags": []
          }
        },
        {
          "output_type": "display_data",
          "data": {
            "text/html": [
              "<pre>Finished training in 0.029424s</pre>"
            ],
            "text/plain": [
              "Finished training in 0.029424s"
            ]
          },
          "metadata": {
            "tags": []
          }
        },
        {
          "output_type": "stream",
          "text": [
            "Modelo solicitado:distancia_coseno\n"
          ],
          "name": "stdout"
        },
        {
          "output_type": "display_data",
          "data": {
            "text/html": [
              "<pre>Preparing data set.</pre>"
            ],
            "text/plain": [
              "Preparing data set."
            ]
          },
          "metadata": {
            "tags": []
          }
        },
        {
          "output_type": "display_data",
          "data": {
            "text/html": [
              "<pre>    Data has 349885 observations with 21178 users and 272 items.</pre>"
            ],
            "text/plain": [
              "    Data has 349885 observations with 21178 users and 272 items."
            ]
          },
          "metadata": {
            "tags": []
          }
        },
        {
          "output_type": "display_data",
          "data": {
            "text/html": [
              "<pre>    Data prepared in: 0.372192s</pre>"
            ],
            "text/plain": [
              "    Data prepared in: 0.372192s"
            ]
          },
          "metadata": {
            "tags": []
          }
        },
        {
          "output_type": "display_data",
          "data": {
            "text/html": [
              "<pre>Training model from provided data.</pre>"
            ],
            "text/plain": [
              "Training model from provided data."
            ]
          },
          "metadata": {
            "tags": []
          }
        },
        {
          "output_type": "display_data",
          "data": {
            "text/html": [
              "<pre>Gathering per-item and per-user statistics.</pre>"
            ],
            "text/plain": [
              "Gathering per-item and per-user statistics."
            ]
          },
          "metadata": {
            "tags": []
          }
        },
        {
          "output_type": "display_data",
          "data": {
            "text/html": [
              "<pre>+--------------------------------+------------+</pre>"
            ],
            "text/plain": [
              "+--------------------------------+------------+"
            ]
          },
          "metadata": {
            "tags": []
          }
        },
        {
          "output_type": "display_data",
          "data": {
            "text/html": [
              "<pre>| Elapsed Time (Item Statistics) | % Complete |</pre>"
            ],
            "text/plain": [
              "| Elapsed Time (Item Statistics) | % Complete |"
            ]
          },
          "metadata": {
            "tags": []
          }
        },
        {
          "output_type": "display_data",
          "data": {
            "text/html": [
              "<pre>+--------------------------------+------------+</pre>"
            ],
            "text/plain": [
              "+--------------------------------+------------+"
            ]
          },
          "metadata": {
            "tags": []
          }
        },
        {
          "output_type": "display_data",
          "data": {
            "text/html": [
              "<pre>| 851us                          | 4.5        |</pre>"
            ],
            "text/plain": [
              "| 851us                          | 4.5        |"
            ]
          },
          "metadata": {
            "tags": []
          }
        },
        {
          "output_type": "display_data",
          "data": {
            "text/html": [
              "<pre>| 5.981ms                        | 100        |</pre>"
            ],
            "text/plain": [
              "| 5.981ms                        | 100        |"
            ]
          },
          "metadata": {
            "tags": []
          }
        },
        {
          "output_type": "display_data",
          "data": {
            "text/html": [
              "<pre>+--------------------------------+------------+</pre>"
            ],
            "text/plain": [
              "+--------------------------------+------------+"
            ]
          },
          "metadata": {
            "tags": []
          }
        },
        {
          "output_type": "display_data",
          "data": {
            "text/html": [
              "<pre>Setting up lookup tables.</pre>"
            ],
            "text/plain": [
              "Setting up lookup tables."
            ]
          },
          "metadata": {
            "tags": []
          }
        },
        {
          "output_type": "display_data",
          "data": {
            "text/html": [
              "<pre>Processing data in one pass using dense lookup tables.</pre>"
            ],
            "text/plain": [
              "Processing data in one pass using dense lookup tables."
            ]
          },
          "metadata": {
            "tags": []
          }
        },
        {
          "output_type": "display_data",
          "data": {
            "text/html": [
              "<pre>+-------------------------------------+------------------+-----------------+</pre>"
            ],
            "text/plain": [
              "+-------------------------------------+------------------+-----------------+"
            ]
          },
          "metadata": {
            "tags": []
          }
        },
        {
          "output_type": "display_data",
          "data": {
            "text/html": [
              "<pre>| Elapsed Time (Constructing Lookups) | Total % Complete | Items Processed |</pre>"
            ],
            "text/plain": [
              "| Elapsed Time (Constructing Lookups) | Total % Complete | Items Processed |"
            ]
          },
          "metadata": {
            "tags": []
          }
        },
        {
          "output_type": "display_data",
          "data": {
            "text/html": [
              "<pre>+-------------------------------------+------------------+-----------------+</pre>"
            ],
            "text/plain": [
              "+-------------------------------------+------------------+-----------------+"
            ]
          },
          "metadata": {
            "tags": []
          }
        },
        {
          "output_type": "display_data",
          "data": {
            "text/html": [
              "<pre>| 20.536ms                            | 0                | 0               |</pre>"
            ],
            "text/plain": [
              "| 20.536ms                            | 0                | 0               |"
            ]
          },
          "metadata": {
            "tags": []
          }
        },
        {
          "output_type": "display_data",
          "data": {
            "text/html": [
              "<pre>| 32.259ms                            | 100              | 272             |</pre>"
            ],
            "text/plain": [
              "| 32.259ms                            | 100              | 272             |"
            ]
          },
          "metadata": {
            "tags": []
          }
        },
        {
          "output_type": "display_data",
          "data": {
            "text/html": [
              "<pre>+-------------------------------------+------------------+-----------------+</pre>"
            ],
            "text/plain": [
              "+-------------------------------------+------------------+-----------------+"
            ]
          },
          "metadata": {
            "tags": []
          }
        },
        {
          "output_type": "display_data",
          "data": {
            "text/html": [
              "<pre>Finalizing lookup tables.</pre>"
            ],
            "text/plain": [
              "Finalizing lookup tables."
            ]
          },
          "metadata": {
            "tags": []
          }
        },
        {
          "output_type": "display_data",
          "data": {
            "text/html": [
              "<pre>Generating candidate set for working with new users.</pre>"
            ],
            "text/plain": [
              "Generating candidate set for working with new users."
            ]
          },
          "metadata": {
            "tags": []
          }
        },
        {
          "output_type": "display_data",
          "data": {
            "text/html": [
              "<pre>Finished training in 0.067332s</pre>"
            ],
            "text/plain": [
              "Finished training in 0.067332s"
            ]
          },
          "metadata": {
            "tags": []
          }
        }
      ]
    },
    {
      "cell_type": "code",
      "metadata": {
        "id": "0AgQTFzOZ7a6",
        "colab_type": "code",
        "outputId": "0d1435d2-5815-4be9-9c04-1a143a8a66cb",
        "colab": {
          "base_uri": "https://localhost:8080/",
          "height": 391
        }
      },
      "source": [
        "productos_recomendado(fac_coseno,'e4bb330e4e0967e8cdd333d1e8b1df2f',5)\n",
        "productos_recomendado(dum_coseno,'e4bb330e4e0967e8cdd333d1e8b1df2f',5)"
      ],
      "execution_count": 0,
      "outputs": [
        {
          "output_type": "stream",
          "text": [
            "+-------------+-------------------------------+---------------------+------+\n",
            "| customer_id |           product_id          |        score        | rank |\n",
            "+-------------+-------------------------------+---------------------+------+\n",
            "|      e      | a5f6ba3fe91a2e73f10b612131... | 0.07471107482910157 |  1   |\n",
            "|      e      | 72ef87b1953a2844ed089bd6dc... | 0.07471107482910157 |  2   |\n",
            "|      e      | 0dadef6ed70b861b14eddb3a3c... | 0.07471107482910157 |  3   |\n",
            "|      e      | 1b0e39ec889889ea1d492603d8... | 0.07471107482910157 |  4   |\n",
            "|      e      | 78a727ba961fe7561d533e153b... | 0.07470573544502258 |  5   |\n",
            "+-------------+-------------------------------+---------------------+------+\n",
            "[160 rows x 4 columns]\n",
            "\n",
            "+-------------+-------------------------------+-------+------+\n",
            "| customer_id |           product_id          | score | rank |\n",
            "+-------------+-------------------------------+-------+------+\n",
            "|      e      | aadff88486740e0b0ebe2be6c0... |  0.0  |  1   |\n",
            "|      e      | 7c55ea4aea1acf1ce11440010f... |  0.0  |  2   |\n",
            "|      e      | 68ad45d48d69404aeb71ce87e1... |  0.0  |  3   |\n",
            "|      e      | 4520766ec412348b8d4caa5e8a... |  0.0  |  4   |\n",
            "|      e      | 68bf2e76db1d8e846042e54da8... |  0.0  |  5   |\n",
            "+-------------+-------------------------------+-------+------+\n",
            "[160 rows x 4 columns]\n",
            "\n"
          ],
          "name": "stdout"
        }
      ]
    },
    {
      "cell_type": "code",
      "metadata": {
        "id": "bM3u55tOaSOg",
        "colab_type": "code",
        "outputId": "e36032c1-ee7e-4921-95c2-c2c6a378f6c5",
        "colab": {
          "base_uri": "https://localhost:8080/",
          "height": 853
        }
      },
      "source": [
        "# Se generan las recomendaciones por dataset\n",
        "fac_pearson= modelo_requerido('pearson',train_data,'total_frecuencia' )\n",
        "dum_pearson = modelo_requerido('pearson' ,train_data_dummy, 'total_dummy')"
      ],
      "execution_count": 0,
      "outputs": [
        {
          "output_type": "stream",
          "text": [
            "Modelo solicitado:pearson\n"
          ],
          "name": "stdout"
        },
        {
          "output_type": "display_data",
          "data": {
            "text/html": [
              "<pre>Preparing data set.</pre>"
            ],
            "text/plain": [
              "Preparing data set."
            ]
          },
          "metadata": {
            "tags": []
          }
        },
        {
          "output_type": "display_data",
          "data": {
            "text/html": [
              "<pre>    Data has 10018 observations with 6975 users and 1229 items.</pre>"
            ],
            "text/plain": [
              "    Data has 10018 observations with 6975 users and 1229 items."
            ]
          },
          "metadata": {
            "tags": []
          }
        },
        {
          "output_type": "display_data",
          "data": {
            "text/html": [
              "<pre>    Data prepared in: 0.029826s</pre>"
            ],
            "text/plain": [
              "    Data prepared in: 0.029826s"
            ]
          },
          "metadata": {
            "tags": []
          }
        },
        {
          "output_type": "display_data",
          "data": {
            "text/html": [
              "<pre>Training model from provided data.</pre>"
            ],
            "text/plain": [
              "Training model from provided data."
            ]
          },
          "metadata": {
            "tags": []
          }
        },
        {
          "output_type": "display_data",
          "data": {
            "text/html": [
              "<pre>Gathering per-item and per-user statistics.</pre>"
            ],
            "text/plain": [
              "Gathering per-item and per-user statistics."
            ]
          },
          "metadata": {
            "tags": []
          }
        },
        {
          "output_type": "display_data",
          "data": {
            "text/html": [
              "<pre>+--------------------------------+------------+</pre>"
            ],
            "text/plain": [
              "+--------------------------------+------------+"
            ]
          },
          "metadata": {
            "tags": []
          }
        },
        {
          "output_type": "display_data",
          "data": {
            "text/html": [
              "<pre>| Elapsed Time (Item Statistics) | % Complete |</pre>"
            ],
            "text/plain": [
              "| Elapsed Time (Item Statistics) | % Complete |"
            ]
          },
          "metadata": {
            "tags": []
          }
        },
        {
          "output_type": "display_data",
          "data": {
            "text/html": [
              "<pre>+--------------------------------+------------+</pre>"
            ],
            "text/plain": [
              "+--------------------------------+------------+"
            ]
          },
          "metadata": {
            "tags": []
          }
        },
        {
          "output_type": "display_data",
          "data": {
            "text/html": [
              "<pre>| 2.335ms                        | 14.25      |</pre>"
            ],
            "text/plain": [
              "| 2.335ms                        | 14.25      |"
            ]
          },
          "metadata": {
            "tags": []
          }
        },
        {
          "output_type": "display_data",
          "data": {
            "text/html": [
              "<pre>| 3.562ms                        | 100        |</pre>"
            ],
            "text/plain": [
              "| 3.562ms                        | 100        |"
            ]
          },
          "metadata": {
            "tags": []
          }
        },
        {
          "output_type": "display_data",
          "data": {
            "text/html": [
              "<pre>+--------------------------------+------------+</pre>"
            ],
            "text/plain": [
              "+--------------------------------+------------+"
            ]
          },
          "metadata": {
            "tags": []
          }
        },
        {
          "output_type": "display_data",
          "data": {
            "text/html": [
              "<pre>Setting up lookup tables.</pre>"
            ],
            "text/plain": [
              "Setting up lookup tables."
            ]
          },
          "metadata": {
            "tags": []
          }
        },
        {
          "output_type": "display_data",
          "data": {
            "text/html": [
              "<pre>Processing data in one pass using dense lookup tables.</pre>"
            ],
            "text/plain": [
              "Processing data in one pass using dense lookup tables."
            ]
          },
          "metadata": {
            "tags": []
          }
        },
        {
          "output_type": "display_data",
          "data": {
            "text/html": [
              "<pre>+-------------------------------------+------------------+-----------------+</pre>"
            ],
            "text/plain": [
              "+-------------------------------------+------------------+-----------------+"
            ]
          },
          "metadata": {
            "tags": []
          }
        },
        {
          "output_type": "display_data",
          "data": {
            "text/html": [
              "<pre>| Elapsed Time (Constructing Lookups) | Total % Complete | Items Processed |</pre>"
            ],
            "text/plain": [
              "| Elapsed Time (Constructing Lookups) | Total % Complete | Items Processed |"
            ]
          },
          "metadata": {
            "tags": []
          }
        },
        {
          "output_type": "display_data",
          "data": {
            "text/html": [
              "<pre>+-------------------------------------+------------------+-----------------+</pre>"
            ],
            "text/plain": [
              "+-------------------------------------+------------------+-----------------+"
            ]
          },
          "metadata": {
            "tags": []
          }
        },
        {
          "output_type": "display_data",
          "data": {
            "text/html": [
              "<pre>| 6.407ms                             | 0                | 0               |</pre>"
            ],
            "text/plain": [
              "| 6.407ms                             | 0                | 0               |"
            ]
          },
          "metadata": {
            "tags": []
          }
        },
        {
          "output_type": "display_data",
          "data": {
            "text/html": [
              "<pre>| 42.153ms                            | 100              | 1229            |</pre>"
            ],
            "text/plain": [
              "| 42.153ms                            | 100              | 1229            |"
            ]
          },
          "metadata": {
            "tags": []
          }
        },
        {
          "output_type": "display_data",
          "data": {
            "text/html": [
              "<pre>+-------------------------------------+------------------+-----------------+</pre>"
            ],
            "text/plain": [
              "+-------------------------------------+------------------+-----------------+"
            ]
          },
          "metadata": {
            "tags": []
          }
        },
        {
          "output_type": "display_data",
          "data": {
            "text/html": [
              "<pre>Finalizing lookup tables.</pre>"
            ],
            "text/plain": [
              "Finalizing lookup tables."
            ]
          },
          "metadata": {
            "tags": []
          }
        },
        {
          "output_type": "display_data",
          "data": {
            "text/html": [
              "<pre>Generating candidate set for working with new users.</pre>"
            ],
            "text/plain": [
              "Generating candidate set for working with new users."
            ]
          },
          "metadata": {
            "tags": []
          }
        },
        {
          "output_type": "display_data",
          "data": {
            "text/html": [
              "<pre>Finished training in 0.04756s</pre>"
            ],
            "text/plain": [
              "Finished training in 0.04756s"
            ]
          },
          "metadata": {
            "tags": []
          }
        },
        {
          "output_type": "stream",
          "text": [
            "Modelo solicitado:pearson\n"
          ],
          "name": "stdout"
        },
        {
          "output_type": "display_data",
          "data": {
            "text/html": [
              "<pre>Warning: Ignoring columns order_id, order_item_id, customer_zip_code_prefix, shipping_limit_date, price, freight_value, total_value, credit_card, debit_card, boleto, voucher, not_defined, num_txn, order_status, order_purchase_timestamp, order_approved_at, order_delivered_carrier_date, order_delivered_customer_date, order_estimated_delivery_date;</pre>"
            ],
            "text/plain": [
              "Warning: Ignoring columns order_id, order_item_id, customer_zip_code_prefix, shipping_limit_date, price, freight_value, total_value, credit_card, debit_card, boleto, voucher, not_defined, num_txn, order_status, order_purchase_timestamp, order_approved_at, order_delivered_carrier_date, order_delivered_customer_date, order_estimated_delivery_date;"
            ]
          },
          "metadata": {
            "tags": []
          }
        },
        {
          "output_type": "display_data",
          "data": {
            "text/html": [
              "<pre>    To use these columns in scoring predictions, use a model that allows the use of additional features.</pre>"
            ],
            "text/plain": [
              "    To use these columns in scoring predictions, use a model that allows the use of additional features."
            ]
          },
          "metadata": {
            "tags": []
          }
        },
        {
          "output_type": "display_data",
          "data": {
            "text/html": [
              "<pre>Preparing data set.</pre>"
            ],
            "text/plain": [
              "Preparing data set."
            ]
          },
          "metadata": {
            "tags": []
          }
        },
        {
          "output_type": "display_data",
          "data": {
            "text/html": [
              "<pre>    Data has 7000 observations with 6296 users and 4627 items.</pre>"
            ],
            "text/plain": [
              "    Data has 7000 observations with 6296 users and 4627 items."
            ]
          },
          "metadata": {
            "tags": []
          }
        },
        {
          "output_type": "display_data",
          "data": {
            "text/html": [
              "<pre>    Data prepared in: 0.024685s</pre>"
            ],
            "text/plain": [
              "    Data prepared in: 0.024685s"
            ]
          },
          "metadata": {
            "tags": []
          }
        },
        {
          "output_type": "display_data",
          "data": {
            "text/html": [
              "<pre>Training model from provided data.</pre>"
            ],
            "text/plain": [
              "Training model from provided data."
            ]
          },
          "metadata": {
            "tags": []
          }
        },
        {
          "output_type": "display_data",
          "data": {
            "text/html": [
              "<pre>Gathering per-item and per-user statistics.</pre>"
            ],
            "text/plain": [
              "Gathering per-item and per-user statistics."
            ]
          },
          "metadata": {
            "tags": []
          }
        },
        {
          "output_type": "display_data",
          "data": {
            "text/html": [
              "<pre>+--------------------------------+------------+</pre>"
            ],
            "text/plain": [
              "+--------------------------------+------------+"
            ]
          },
          "metadata": {
            "tags": []
          }
        },
        {
          "output_type": "display_data",
          "data": {
            "text/html": [
              "<pre>| Elapsed Time (Item Statistics) | % Complete |</pre>"
            ],
            "text/plain": [
              "| Elapsed Time (Item Statistics) | % Complete |"
            ]
          },
          "metadata": {
            "tags": []
          }
        },
        {
          "output_type": "display_data",
          "data": {
            "text/html": [
              "<pre>+--------------------------------+------------+</pre>"
            ],
            "text/plain": [
              "+--------------------------------+------------+"
            ]
          },
          "metadata": {
            "tags": []
          }
        },
        {
          "output_type": "display_data",
          "data": {
            "text/html": [
              "<pre>| 329us                          | 15.75      |</pre>"
            ],
            "text/plain": [
              "| 329us                          | 15.75      |"
            ]
          },
          "metadata": {
            "tags": []
          }
        },
        {
          "output_type": "display_data",
          "data": {
            "text/html": [
              "<pre>| 1.167ms                        | 100        |</pre>"
            ],
            "text/plain": [
              "| 1.167ms                        | 100        |"
            ]
          },
          "metadata": {
            "tags": []
          }
        },
        {
          "output_type": "display_data",
          "data": {
            "text/html": [
              "<pre>+--------------------------------+------------+</pre>"
            ],
            "text/plain": [
              "+--------------------------------+------------+"
            ]
          },
          "metadata": {
            "tags": []
          }
        },
        {
          "output_type": "display_data",
          "data": {
            "text/html": [
              "<pre>Setting up lookup tables.</pre>"
            ],
            "text/plain": [
              "Setting up lookup tables."
            ]
          },
          "metadata": {
            "tags": []
          }
        },
        {
          "output_type": "display_data",
          "data": {
            "text/html": [
              "<pre>Processing data in one pass using dense lookup tables.</pre>"
            ],
            "text/plain": [
              "Processing data in one pass using dense lookup tables."
            ]
          },
          "metadata": {
            "tags": []
          }
        },
        {
          "output_type": "display_data",
          "data": {
            "text/html": [
              "<pre>+-------------------------------------+------------------+-----------------+</pre>"
            ],
            "text/plain": [
              "+-------------------------------------+------------------+-----------------+"
            ]
          },
          "metadata": {
            "tags": []
          }
        },
        {
          "output_type": "display_data",
          "data": {
            "text/html": [
              "<pre>| Elapsed Time (Constructing Lookups) | Total % Complete | Items Processed |</pre>"
            ],
            "text/plain": [
              "| Elapsed Time (Constructing Lookups) | Total % Complete | Items Processed |"
            ]
          },
          "metadata": {
            "tags": []
          }
        },
        {
          "output_type": "display_data",
          "data": {
            "text/html": [
              "<pre>+-------------------------------------+------------------+-----------------+</pre>"
            ],
            "text/plain": [
              "+-------------------------------------+------------------+-----------------+"
            ]
          },
          "metadata": {
            "tags": []
          }
        },
        {
          "output_type": "display_data",
          "data": {
            "text/html": [
              "<pre>| 26.261ms                            | 0                | 0               |</pre>"
            ],
            "text/plain": [
              "| 26.261ms                            | 0                | 0               |"
            ]
          },
          "metadata": {
            "tags": []
          }
        },
        {
          "output_type": "display_data",
          "data": {
            "text/html": [
              "<pre>| 136.961ms                           | 100              | 4627            |</pre>"
            ],
            "text/plain": [
              "| 136.961ms                           | 100              | 4627            |"
            ]
          },
          "metadata": {
            "tags": []
          }
        },
        {
          "output_type": "display_data",
          "data": {
            "text/html": [
              "<pre>+-------------------------------------+------------------+-----------------+</pre>"
            ],
            "text/plain": [
              "+-------------------------------------+------------------+-----------------+"
            ]
          },
          "metadata": {
            "tags": []
          }
        },
        {
          "output_type": "display_data",
          "data": {
            "text/html": [
              "<pre>Finalizing lookup tables.</pre>"
            ],
            "text/plain": [
              "Finalizing lookup tables."
            ]
          },
          "metadata": {
            "tags": []
          }
        },
        {
          "output_type": "display_data",
          "data": {
            "text/html": [
              "<pre>Generating candidate set for working with new users.</pre>"
            ],
            "text/plain": [
              "Generating candidate set for working with new users."
            ]
          },
          "metadata": {
            "tags": []
          }
        },
        {
          "output_type": "display_data",
          "data": {
            "text/html": [
              "<pre>Finished training in 0.141151s</pre>"
            ],
            "text/plain": [
              "Finished training in 0.141151s"
            ]
          },
          "metadata": {
            "tags": []
          }
        }
      ]
    },
    {
      "cell_type": "code",
      "metadata": {
        "id": "JtGtNTB8aU1U",
        "colab_type": "code",
        "outputId": "50760dcc-342c-476d-9607-d33c072de055",
        "colab": {
          "base_uri": "https://localhost:8080/",
          "height": 391
        }
      },
      "source": [
        "productos_recomendado(fac_pearson,'e4bb330e4e0967e8cdd333d1e8b1df2f',5)\n",
        "productos_recomendado(dum_pearson,'e4bb330e4e0967e8cdd333d1e8b1df2f',5)"
      ],
      "execution_count": 0,
      "outputs": [
        {
          "output_type": "stream",
          "text": [
            "+-------------+-------------------------------+-------+------+\n",
            "| customer_id |           product_id          | score | rank |\n",
            "+-------------+-------------------------------+-------+------+\n",
            "|      e      | 382132cf96c88a277a65226833... |  1.0  |  1   |\n",
            "|      e      | 672a21bf17c63f71edbe01ecb9... |  1.0  |  2   |\n",
            "|      e      | 82a61259a621866c4ba63743da... |  1.0  |  3   |\n",
            "|      e      | 2e64d11879c5bbda600381dbb5... |  1.0  |  4   |\n",
            "|      e      | c1f5307decb89342351bec5366... |  1.0  |  5   |\n",
            "+-------------+-------------------------------+-------+------+\n",
            "[160 rows x 4 columns]\n",
            "\n",
            "+-------------+-------------------------------+-------+------+\n",
            "| customer_id |           product_id          | score | rank |\n",
            "+-------------+-------------------------------+-------+------+\n",
            "|      e      | aadff88486740e0b0ebe2be6c0... |  0.0  |  1   |\n",
            "|      e      | 7c55ea4aea1acf1ce11440010f... |  0.0  |  2   |\n",
            "|      e      | 68ad45d48d69404aeb71ce87e1... |  0.0  |  3   |\n",
            "|      e      | 4520766ec412348b8d4caa5e8a... |  0.0  |  4   |\n",
            "|      e      | 68bf2e76db1d8e846042e54da8... |  0.0  |  5   |\n",
            "+-------------+-------------------------------+-------+------+\n",
            "[160 rows x 4 columns]\n",
            "\n"
          ],
          "name": "stdout"
        }
      ]
    },
    {
      "cell_type": "markdown",
      "metadata": {
        "id": "rt1oYyEtGEn3",
        "colab_type": "text"
      },
      "source": [
        "### 1.5 Evaluación de Modelos \n",
        "Con el fin de establecer cual es el mejor modelo entre los tres probados, se realiza una validación de estos de forma conjunta "
      ]
    },
    {
      "cell_type": "code",
      "metadata": {
        "id": "tIVMOHxIa19d",
        "colab_type": "code",
        "outputId": "eeeb8553-675b-4ba7-9610-25509b907717",
        "colab": {
          "base_uri": "https://localhost:8080/",
          "height": 1000
        }
      },
      "source": [
        "evaluacion_modelos('normalizado',test_data)"
      ],
      "execution_count": 0,
      "outputs": [
        {
          "output_type": "stream",
          "text": [
            "PROGRESS: Evaluate model Modelo basado en contenido\n"
          ],
          "name": "stdout"
        },
        {
          "output_type": "display_data",
          "data": {
            "text/html": [
              "<pre>recommendations finished on 1000/3540 queries. users per second: 80076.9</pre>"
            ],
            "text/plain": [
              "recommendations finished on 1000/3540 queries. users per second: 80076.9"
            ]
          },
          "metadata": {
            "tags": []
          }
        },
        {
          "output_type": "display_data",
          "data": {
            "text/html": [
              "<pre>recommendations finished on 2000/3540 queries. users per second: 77178.4</pre>"
            ],
            "text/plain": [
              "recommendations finished on 2000/3540 queries. users per second: 77178.4"
            ]
          },
          "metadata": {
            "tags": []
          }
        },
        {
          "output_type": "display_data",
          "data": {
            "text/html": [
              "<pre>recommendations finished on 3000/3540 queries. users per second: 76151.8</pre>"
            ],
            "text/plain": [
              "recommendations finished on 3000/3540 queries. users per second: 76151.8"
            ]
          },
          "metadata": {
            "tags": []
          }
        },
        {
          "output_type": "stream",
          "text": [
            "\n",
            "Precision and recall summary statistics by cutoff\n",
            "+--------+-----------------------+-----------------------+\n",
            "| cutoff |     mean_precision    |      mean_recall      |\n",
            "+--------+-----------------------+-----------------------+\n",
            "|   1    | 0.0008474576271186458 | 0.0005657435707449598 |\n",
            "|   2    | 0.0007062146892655379 | 0.0008490012657837045 |\n",
            "|   3    | 0.0007532956685499077 | 0.0014147448365286626 |\n",
            "|   4    | 0.0007768361581920927 |  0.001980488407273632 |\n",
            "|   5    | 0.0008474576271186477 | 0.0026874749158716927 |\n",
            "|   6    | 0.0008474576271186435 | 0.0029707326109104444 |\n",
            "|   7    | 0.0008474576271186458 |  0.003536476181655398 |\n",
            "|   8    |  0.00077683615819209  |  0.003537248000987936 |\n",
            "|   9    | 0.0008160703075957321 |  0.004102991571732884 |\n",
            "|   10   | 0.0008192090395480234 |  0.004527492204624739 |\n",
            "+--------+-----------------------+-----------------------+\n",
            "[10 rows x 3 columns]\n",
            "\n",
            "\n",
            "Overall RMSE: 0.35368532108225\n",
            "\n",
            "Per User RMSE (best)\n",
            "+-------------------------------+------+-------+\n",
            "|          customer_id          | rmse | count |\n",
            "+-------------------------------+------+-------+\n",
            "| 74ad7441d374e44fcdf9938fab... | 0.0  |   1   |\n",
            "+-------------------------------+------+-------+\n",
            "[1 rows x 3 columns]\n",
            "\n",
            "\n",
            "Per User RMSE (worst)\n",
            "+-------------------------------+------+-------+\n",
            "|          customer_id          | rmse | count |\n",
            "+-------------------------------+------+-------+\n",
            "| 7738c1fd7e3b64b02ebac8389f... | 1.0  |   1   |\n",
            "+-------------------------------+------+-------+\n",
            "[1 rows x 3 columns]\n",
            "\n",
            "\n",
            "Per Item RMSE (best)\n",
            "+-------------------------------+------+-------+\n",
            "|           product_id          | rmse | count |\n",
            "+-------------------------------+------+-------+\n",
            "| d5140e1d258c83a340419c6522... | 0.0  |   1   |\n",
            "+-------------------------------+------+-------+\n",
            "[1 rows x 3 columns]\n",
            "\n",
            "\n",
            "Per Item RMSE (worst)\n",
            "+-------------------------------+------+-------+\n",
            "|           product_id          | rmse | count |\n",
            "+-------------------------------+------+-------+\n",
            "| c1f5307decb89342351bec5366... | 1.0  |   2   |\n",
            "+-------------------------------+------+-------+\n",
            "[1 rows x 3 columns]\n",
            "\n",
            "PROGRESS: Evaluate model Modelo Colaborativo - Distancia Coseno\n"
          ],
          "name": "stdout"
        },
        {
          "output_type": "display_data",
          "data": {
            "text/html": [
              "<pre>recommendations finished on 1000/3540 queries. users per second: 58575.4</pre>"
            ],
            "text/plain": [
              "recommendations finished on 1000/3540 queries. users per second: 58575.4"
            ]
          },
          "metadata": {
            "tags": []
          }
        },
        {
          "output_type": "display_data",
          "data": {
            "text/html": [
              "<pre>recommendations finished on 2000/3540 queries. users per second: 50888</pre>"
            ],
            "text/plain": [
              "recommendations finished on 2000/3540 queries. users per second: 50888"
            ]
          },
          "metadata": {
            "tags": []
          }
        },
        {
          "output_type": "display_data",
          "data": {
            "text/html": [
              "<pre>recommendations finished on 3000/3540 queries. users per second: 50194.9</pre>"
            ],
            "text/plain": [
              "recommendations finished on 3000/3540 queries. users per second: 50194.9"
            ]
          },
          "metadata": {
            "tags": []
          }
        },
        {
          "output_type": "stream",
          "text": [
            "\n",
            "Precision and recall summary statistics by cutoff\n",
            "+--------+-----------------------+----------------------+\n",
            "| cutoff |     mean_precision    |     mean_recall      |\n",
            "+--------+-----------------------+----------------------+\n",
            "|   1    |  0.029096045197740155 | 0.02881433114136646  |\n",
            "|   2    |  0.015536723163841828 | 0.03051001821493618  |\n",
            "|   3    |  0.010734463276836153 |  0.0312170047235342  |\n",
            "|   4    |  0.008121468926553656 | 0.031217776542866903 |\n",
            "|   5    |  0.006723163841807925 | 0.03192476305146492  |\n",
            "|   6    |  0.005649717514124294 | 0.03192553487079736  |\n",
            "|   7    |  0.004923325262308325 | 0.03206754962798315  |\n",
            "|   8    |  0.004343220338983058 | 0.032068321447315674 |\n",
            "|   9    |  0.003954802259886982 | 0.032634065018060404 |\n",
            "|   10   | 0.0036158192090395623 | 0.032917322713099266 |\n",
            "+--------+-----------------------+----------------------+\n",
            "[10 rows x 3 columns]\n",
            "\n",
            "\n",
            "Overall RMSE: 0.29733332331030304\n",
            "\n",
            "Per User RMSE (best)\n",
            "+-------------------------------+------+-------+\n",
            "|          customer_id          | rmse | count |\n",
            "+-------------------------------+------+-------+\n",
            "| a55d6a572f9ed8a230f10665db... | 0.0  |   1   |\n",
            "+-------------------------------+------+-------+\n",
            "[1 rows x 3 columns]\n",
            "\n",
            "\n",
            "Per User RMSE (worst)\n",
            "+-------------+--------------------+-------+\n",
            "| customer_id |        rmse        | count |\n",
            "+-------------+--------------------+-------+\n",
            "| total_value | 0.9999999954119911 |  366  |\n",
            "+-------------+--------------------+-------+\n",
            "[1 rows x 3 columns]\n",
            "\n",
            "\n",
            "Per Item RMSE (best)\n",
            "+-------------------------------+------+-------+\n",
            "|           product_id          | rmse | count |\n",
            "+-------------------------------+------+-------+\n",
            "| 4c7d4a2efde21e3bf1660926fa... | 0.0  |   1   |\n",
            "+-------------------------------+------+-------+\n",
            "[1 rows x 3 columns]\n",
            "\n",
            "\n",
            "Per Item RMSE (worst)\n",
            "+-------------------------------+------+-------+\n",
            "|           product_id          | rmse | count |\n",
            "+-------------------------------+------+-------+\n",
            "| 1164c17af70425821f88bfbdc9... | 1.0  |   1   |\n",
            "+-------------------------------+------+-------+\n",
            "[1 rows x 3 columns]\n",
            "\n",
            "PROGRESS: Evaluate model Modelo Colaborativo - Pearson\n"
          ],
          "name": "stdout"
        },
        {
          "output_type": "display_data",
          "data": {
            "text/html": [
              "<pre>recommendations finished on 1000/3540 queries. users per second: 56650.8</pre>"
            ],
            "text/plain": [
              "recommendations finished on 1000/3540 queries. users per second: 56650.8"
            ]
          },
          "metadata": {
            "tags": []
          }
        },
        {
          "output_type": "display_data",
          "data": {
            "text/html": [
              "<pre>recommendations finished on 2000/3540 queries. users per second: 52987.2</pre>"
            ],
            "text/plain": [
              "recommendations finished on 2000/3540 queries. users per second: 52987.2"
            ]
          },
          "metadata": {
            "tags": []
          }
        },
        {
          "output_type": "display_data",
          "data": {
            "text/html": [
              "<pre>recommendations finished on 3000/3540 queries. users per second: 52453.1</pre>"
            ],
            "text/plain": [
              "recommendations finished on 3000/3540 queries. users per second: 52453.1"
            ]
          },
          "metadata": {
            "tags": []
          }
        },
        {
          "output_type": "stream",
          "text": [
            "\n",
            "Precision and recall summary statistics by cutoff\n",
            "+--------+-----------------------+-----------------------+\n",
            "| cutoff |     mean_precision    |      mean_recall      |\n",
            "+--------+-----------------------+-----------------------+\n",
            "|   1    | 0.0008474576271186461 | 0.0005657435707449604 |\n",
            "|   2    |  0.000706214689265538 | 0.0008490012657837039 |\n",
            "|   3    |  0.000753295668549908 | 0.0014147448365286633 |\n",
            "|   4    | 0.0007768361581920934 |  0.001980488407273632 |\n",
            "|   5    | 0.0008474576271186472 | 0.0026874749158716914 |\n",
            "|   6    | 0.0008474576271186445 | 0.0029707326109104427 |\n",
            "|   7    | 0.0008474576271186474 |  0.003536476181655398 |\n",
            "|   8    | 0.0007768361581920886 | 0.0035372480009879387 |\n",
            "|   9    | 0.0008160703075957321 |  0.004102991571732876 |\n",
            "|   10   | 0.0008192090395480232 |  0.004527492204624734 |\n",
            "+--------+-----------------------+-----------------------+\n",
            "[10 rows x 3 columns]\n",
            "\n",
            "\n",
            "Overall RMSE: 0.3616483307276593\n",
            "\n",
            "Per User RMSE (best)\n",
            "+-------------------------------+------+-------+\n",
            "|          customer_id          | rmse | count |\n",
            "+-------------------------------+------+-------+\n",
            "| 74ad7441d374e44fcdf9938fab... | 0.0  |   1   |\n",
            "+-------------------------------+------+-------+\n",
            "[1 rows x 3 columns]\n",
            "\n",
            "\n",
            "Per User RMSE (worst)\n",
            "+-------------------------------+------+-------+\n",
            "|          customer_id          | rmse | count |\n",
            "+-------------------------------+------+-------+\n",
            "| 7738c1fd7e3b64b02ebac8389f... | 1.0  |   1   |\n",
            "+-------------------------------+------+-------+\n",
            "[1 rows x 3 columns]\n",
            "\n",
            "\n",
            "Per Item RMSE (best)\n",
            "+-------------------------------+------+-------+\n",
            "|           product_id          | rmse | count |\n",
            "+-------------------------------+------+-------+\n",
            "| d5140e1d258c83a340419c6522... | 0.0  |   1   |\n",
            "+-------------------------------+------+-------+\n",
            "[1 rows x 3 columns]\n",
            "\n",
            "\n",
            "Per Item RMSE (worst)\n",
            "+-------------------------------+------+-------+\n",
            "|           product_id          | rmse | count |\n",
            "+-------------------------------+------+-------+\n",
            "| c1f5307decb89342351bec5366... | 1.0  |   2   |\n",
            "+-------------------------------+------+-------+\n",
            "[1 rows x 3 columns]\n",
            "\n"
          ],
          "name": "stdout"
        }
      ]
    },
    {
      "cell_type": "code",
      "metadata": {
        "id": "jbarhzLxexiC",
        "colab_type": "code",
        "outputId": "792e6b52-0183-4fc2-88bd-3be984d9477d",
        "colab": {
          "base_uri": "https://localhost:8080/",
          "height": 1000
        }
      },
      "source": [
        "evaluacion_modelos('dummy',test_data_dummy)  "
      ],
      "execution_count": 0,
      "outputs": [
        {
          "output_type": "stream",
          "text": [
            "PROGRESS: Evaluate model Modelo Dummy basado en contenido\n"
          ],
          "name": "stdout"
        },
        {
          "output_type": "display_data",
          "data": {
            "text/html": [
              "<pre>recommendations finished on 1000/2869 queries. users per second: 47551.1</pre>"
            ],
            "text/plain": [
              "recommendations finished on 1000/2869 queries. users per second: 47551.1"
            ]
          },
          "metadata": {
            "tags": []
          }
        },
        {
          "output_type": "display_data",
          "data": {
            "text/html": [
              "<pre>recommendations finished on 2000/2869 queries. users per second: 45049.1</pre>"
            ],
            "text/plain": [
              "recommendations finished on 2000/2869 queries. users per second: 45049.1"
            ]
          },
          "metadata": {
            "tags": []
          }
        },
        {
          "output_type": "stream",
          "text": [
            "\n",
            "Precision and recall summary statistics by cutoff\n",
            "+--------+------------------------+-----------------------+\n",
            "| cutoff |     mean_precision     |      mean_recall      |\n",
            "+--------+------------------------+-----------------------+\n",
            "|   1    |          0.0           |          0.0          |\n",
            "|   2    |          0.0           |          0.0          |\n",
            "|   3    | 0.00011618450098756866 | 0.0003485535029627069 |\n",
            "|   4    | 8.713837574067672e-05  | 0.0003485535029627069 |\n",
            "|   5    | 6.971070059254129e-05  | 0.0003485535029627069 |\n",
            "|   6    | 5.809225049378433e-05  | 0.0003485535029627069 |\n",
            "|   7    | 9.958671513220173e-05  | 0.0006971070059254119 |\n",
            "|   8    | 0.00013070756361101477 | 0.0010456605088881182 |\n",
            "|   9    | 0.00011618450098756836 | 0.0010456605088881182 |\n",
            "|   10   | 0.00010456605088881173 | 0.0010456605088881177 |\n",
            "+--------+------------------------+-----------------------+\n",
            "[10 rows x 3 columns]\n",
            "\n",
            "\n",
            "Overall RMSE: 0.0\n",
            "\n",
            "Per User RMSE (best)\n",
            "+-------------------------------+------+-------+\n",
            "|          customer_id          | rmse | count |\n",
            "+-------------------------------+------+-------+\n",
            "| a55d6a572f9ed8a230f10665db... | 0.0  |   1   |\n",
            "+-------------------------------+------+-------+\n",
            "[1 rows x 3 columns]\n",
            "\n",
            "\n",
            "Per User RMSE (worst)\n",
            "+-------------------------------+------+-------+\n",
            "|          customer_id          | rmse | count |\n",
            "+-------------------------------+------+-------+\n",
            "| adea59a1abb5ffb0a7ba18bbaa... | 0.0  |   1   |\n",
            "+-------------------------------+------+-------+\n",
            "[1 rows x 3 columns]\n",
            "\n",
            "\n",
            "Per Item RMSE (best)\n",
            "+-------------------------------+------+-------+\n",
            "|           product_id          | rmse | count |\n",
            "+-------------------------------+------+-------+\n",
            "| 9007d9a8a0d332c61d9dd611fa... | 0.0  |   1   |\n",
            "+-------------------------------+------+-------+\n",
            "[1 rows x 3 columns]\n",
            "\n",
            "\n",
            "Per Item RMSE (worst)\n",
            "+-------------------------------+------+-------+\n",
            "|           product_id          | rmse | count |\n",
            "+-------------------------------+------+-------+\n",
            "| 2d2fbde9939c282238dc0847b0... | 0.0  |   1   |\n",
            "+-------------------------------+------+-------+\n",
            "[1 rows x 3 columns]\n",
            "\n",
            "PROGRESS: Evaluate model Modelo Dummy Colaborativo - Distancia Coseno\n"
          ],
          "name": "stdout"
        },
        {
          "output_type": "display_data",
          "data": {
            "text/html": [
              "<pre>recommendations finished on 1000/2869 queries. users per second: 39217.2</pre>"
            ],
            "text/plain": [
              "recommendations finished on 1000/2869 queries. users per second: 39217.2"
            ]
          },
          "metadata": {
            "tags": []
          }
        },
        {
          "output_type": "display_data",
          "data": {
            "text/html": [
              "<pre>recommendations finished on 2000/2869 queries. users per second: 37234.9</pre>"
            ],
            "text/plain": [
              "recommendations finished on 2000/2869 queries. users per second: 37234.9"
            ]
          },
          "metadata": {
            "tags": []
          }
        },
        {
          "output_type": "stream",
          "text": [
            "\n",
            "Precision and recall summary statistics by cutoff\n",
            "+--------+------------------------+-----------------------+\n",
            "| cutoff |     mean_precision     |      mean_recall      |\n",
            "+--------+------------------------+-----------------------+\n",
            "|   1    | 0.0013942140118508254  | 0.0013942140118508254 |\n",
            "|   2    | 0.0006971070059254127  | 0.0013942140118508254 |\n",
            "|   3    | 0.0005809225049378404  |  0.001742767514813529 |\n",
            "|   4    | 0.00043569187870338223 |  0.001742767514813529 |\n",
            "|   5    | 0.00034855350296270575 | 0.0017427675148135294 |\n",
            "|   6    | 0.0002904612524689202  | 0.0017427675148135294 |\n",
            "|   7    | 0.0002987601453966049  | 0.0020913210177762346 |\n",
            "|   8    | 0.00030498431509236757 | 0.0024398745207389405 |\n",
            "|   9    | 0.00027109716897099245 | 0.0024398745207389405 |\n",
            "|   10   | 0.00024398745207389444 | 0.0024398745207389392 |\n",
            "+--------+------------------------+-----------------------+\n",
            "[10 rows x 3 columns]\n",
            "\n",
            "\n",
            "Overall RMSE: 0.9960470182500112\n",
            "\n",
            "Per User RMSE (best)\n",
            "+-------------------------------+------+-------+\n",
            "|          customer_id          | rmse | count |\n",
            "+-------------------------------+------+-------+\n",
            "| db9a58053c3f7ab8be9970e6b2... | 0.25 |   3   |\n",
            "+-------------------------------+------+-------+\n",
            "[1 rows x 3 columns]\n",
            "\n",
            "\n",
            "Per User RMSE (worst)\n",
            "+-------------------------------+------+-------+\n",
            "|          customer_id          | rmse | count |\n",
            "+-------------------------------+------+-------+\n",
            "| adea59a1abb5ffb0a7ba18bbaa... | 1.0  |   1   |\n",
            "+-------------------------------+------+-------+\n",
            "[1 rows x 3 columns]\n",
            "\n",
            "\n",
            "Per Item RMSE (best)\n",
            "+-------------------------------+------+-------+\n",
            "|           product_id          | rmse | count |\n",
            "+-------------------------------+------+-------+\n",
            "| 83e2059df06602e05d9bc1abf2... | 0.25 |   1   |\n",
            "+-------------------------------+------+-------+\n",
            "[1 rows x 3 columns]\n",
            "\n",
            "\n",
            "Per Item RMSE (worst)\n",
            "+-------------------------------+------+-------+\n",
            "|           product_id          | rmse | count |\n",
            "+-------------------------------+------+-------+\n",
            "| 2d2fbde9939c282238dc0847b0... | 1.0  |   1   |\n",
            "+-------------------------------+------+-------+\n",
            "[1 rows x 3 columns]\n",
            "\n",
            "PROGRESS: Evaluate model Modelo Dummy Colaborativo - Pearson\n"
          ],
          "name": "stdout"
        },
        {
          "output_type": "display_data",
          "data": {
            "text/html": [
              "<pre>recommendations finished on 1000/2869 queries. users per second: 33644</pre>"
            ],
            "text/plain": [
              "recommendations finished on 1000/2869 queries. users per second: 33644"
            ]
          },
          "metadata": {
            "tags": []
          }
        },
        {
          "output_type": "display_data",
          "data": {
            "text/html": [
              "<pre>recommendations finished on 2000/2869 queries. users per second: 32144</pre>"
            ],
            "text/plain": [
              "recommendations finished on 2000/2869 queries. users per second: 32144"
            ]
          },
          "metadata": {
            "tags": []
          }
        },
        {
          "output_type": "stream",
          "text": [
            "\n",
            "Precision and recall summary statistics by cutoff\n",
            "+--------+------------------------+-----------------------+\n",
            "| cutoff |     mean_precision     |      mean_recall      |\n",
            "+--------+------------------------+-----------------------+\n",
            "|   1    |          0.0           |          0.0          |\n",
            "|   2    |          0.0           |          0.0          |\n",
            "|   3    | 0.00011618450098756831 | 0.0003485535029627051 |\n",
            "|   4    | 8.713837574067628e-05  | 0.0003485535029627051 |\n",
            "|   5    |  6.97107005925411e-05  | 0.0003485535029627051 |\n",
            "|   6    | 5.8092250493784154e-05 | 0.0003485535029627051 |\n",
            "|   7    | 9.958671513220154e-05  | 0.0006971070059254107 |\n",
            "|   8    | 0.0001307075636110146  | 0.0010456605088881169 |\n",
            "|   9    | 0.00011618450098756839 | 0.0010456605088881169 |\n",
            "|   10   | 0.00010456605088881179 | 0.0010456605088881169 |\n",
            "+--------+------------------------+-----------------------+\n",
            "[10 rows x 3 columns]\n",
            "\n",
            "\n",
            "Overall RMSE: 1.0\n",
            "\n",
            "Per User RMSE (best)\n",
            "+-------------------------------+------+-------+\n",
            "|          customer_id          | rmse | count |\n",
            "+-------------------------------+------+-------+\n",
            "| a55d6a572f9ed8a230f10665db... | 1.0  |   1   |\n",
            "+-------------------------------+------+-------+\n",
            "[1 rows x 3 columns]\n",
            "\n",
            "\n",
            "Per User RMSE (worst)\n",
            "+-------------------------------+------+-------+\n",
            "|          customer_id          | rmse | count |\n",
            "+-------------------------------+------+-------+\n",
            "| adea59a1abb5ffb0a7ba18bbaa... | 1.0  |   1   |\n",
            "+-------------------------------+------+-------+\n",
            "[1 rows x 3 columns]\n",
            "\n",
            "\n",
            "Per Item RMSE (best)\n",
            "+-------------------------------+------+-------+\n",
            "|           product_id          | rmse | count |\n",
            "+-------------------------------+------+-------+\n",
            "| 9007d9a8a0d332c61d9dd611fa... | 1.0  |   1   |\n",
            "+-------------------------------+------+-------+\n",
            "[1 rows x 3 columns]\n",
            "\n",
            "\n",
            "Per Item RMSE (worst)\n",
            "+-------------------------------+------+-------+\n",
            "|           product_id          | rmse | count |\n",
            "+-------------------------------+------+-------+\n",
            "| 2d2fbde9939c282238dc0847b0... | 1.0  |   1   |\n",
            "+-------------------------------+------+-------+\n",
            "[1 rows x 3 columns]\n",
            "\n"
          ],
          "name": "stdout"
        }
      ]
    },
    {
      "cell_type": "markdown",
      "metadata": {
        "id": "0eS0qbkHwduk",
        "colab_type": "text"
      },
      "source": [
        "### 1.6 Exportar recomendaciones\n",
        "Con los resultado obtenidos podemos identificar que el mejor modelo es el Pearson, por tal motivo se exporta su información . "
      ]
    },
    {
      "cell_type": "code",
      "metadata": {
        "id": "u7JAws8Yc6F2",
        "colab_type": "code",
        "outputId": "d69110a6-19c3-4c06-a9c2-3fed2c2fd4b2",
        "colab": {
          "base_uri": "https://localhost:8080/",
          "height": 1000
        }
      },
      "source": [
        "exportarRecomendaciones(fac_pearson,datos_clientes.customer_id)"
      ],
      "execution_count": 0,
      "outputs": [
        {
          "output_type": "display_data",
          "data": {
            "text/html": [
              "<pre>recommendations finished on 1000/96352 queries. users per second: 65299.7</pre>"
            ],
            "text/plain": [
              "recommendations finished on 1000/96352 queries. users per second: 65299.7"
            ]
          },
          "metadata": {
            "tags": []
          }
        },
        {
          "output_type": "display_data",
          "data": {
            "text/html": [
              "<pre>recommendations finished on 2000/96352 queries. users per second: 64576.5</pre>"
            ],
            "text/plain": [
              "recommendations finished on 2000/96352 queries. users per second: 64576.5"
            ]
          },
          "metadata": {
            "tags": []
          }
        },
        {
          "output_type": "display_data",
          "data": {
            "text/html": [
              "<pre>recommendations finished on 3000/96352 queries. users per second: 64448.2</pre>"
            ],
            "text/plain": [
              "recommendations finished on 3000/96352 queries. users per second: 64448.2"
            ]
          },
          "metadata": {
            "tags": []
          }
        },
        {
          "output_type": "display_data",
          "data": {
            "text/html": [
              "<pre>recommendations finished on 4000/96352 queries. users per second: 64197.2</pre>"
            ],
            "text/plain": [
              "recommendations finished on 4000/96352 queries. users per second: 64197.2"
            ]
          },
          "metadata": {
            "tags": []
          }
        },
        {
          "output_type": "display_data",
          "data": {
            "text/html": [
              "<pre>recommendations finished on 5000/96352 queries. users per second: 63987.7</pre>"
            ],
            "text/plain": [
              "recommendations finished on 5000/96352 queries. users per second: 63987.7"
            ]
          },
          "metadata": {
            "tags": []
          }
        },
        {
          "output_type": "display_data",
          "data": {
            "text/html": [
              "<pre>recommendations finished on 6000/96352 queries. users per second: 62494.1</pre>"
            ],
            "text/plain": [
              "recommendations finished on 6000/96352 queries. users per second: 62494.1"
            ]
          },
          "metadata": {
            "tags": []
          }
        },
        {
          "output_type": "display_data",
          "data": {
            "text/html": [
              "<pre>recommendations finished on 7000/96352 queries. users per second: 62739.8</pre>"
            ],
            "text/plain": [
              "recommendations finished on 7000/96352 queries. users per second: 62739.8"
            ]
          },
          "metadata": {
            "tags": []
          }
        },
        {
          "output_type": "display_data",
          "data": {
            "text/html": [
              "<pre>recommendations finished on 8000/96352 queries. users per second: 62630.6</pre>"
            ],
            "text/plain": [
              "recommendations finished on 8000/96352 queries. users per second: 62630.6"
            ]
          },
          "metadata": {
            "tags": []
          }
        },
        {
          "output_type": "display_data",
          "data": {
            "text/html": [
              "<pre>recommendations finished on 9000/96352 queries. users per second: 62794.8</pre>"
            ],
            "text/plain": [
              "recommendations finished on 9000/96352 queries. users per second: 62794.8"
            ]
          },
          "metadata": {
            "tags": []
          }
        },
        {
          "output_type": "display_data",
          "data": {
            "text/html": [
              "<pre>recommendations finished on 10000/96352 queries. users per second: 62826.7</pre>"
            ],
            "text/plain": [
              "recommendations finished on 10000/96352 queries. users per second: 62826.7"
            ]
          },
          "metadata": {
            "tags": []
          }
        },
        {
          "output_type": "display_data",
          "data": {
            "text/html": [
              "<pre>recommendations finished on 11000/96352 queries. users per second: 62937</pre>"
            ],
            "text/plain": [
              "recommendations finished on 11000/96352 queries. users per second: 62937"
            ]
          },
          "metadata": {
            "tags": []
          }
        },
        {
          "output_type": "display_data",
          "data": {
            "text/html": [
              "<pre>recommendations finished on 12000/96352 queries. users per second: 62991.1</pre>"
            ],
            "text/plain": [
              "recommendations finished on 12000/96352 queries. users per second: 62991.1"
            ]
          },
          "metadata": {
            "tags": []
          }
        },
        {
          "output_type": "display_data",
          "data": {
            "text/html": [
              "<pre>recommendations finished on 13000/96352 queries. users per second: 62849.3</pre>"
            ],
            "text/plain": [
              "recommendations finished on 13000/96352 queries. users per second: 62849.3"
            ]
          },
          "metadata": {
            "tags": []
          }
        },
        {
          "output_type": "display_data",
          "data": {
            "text/html": [
              "<pre>recommendations finished on 14000/96352 queries. users per second: 62662.3</pre>"
            ],
            "text/plain": [
              "recommendations finished on 14000/96352 queries. users per second: 62662.3"
            ]
          },
          "metadata": {
            "tags": []
          }
        },
        {
          "output_type": "display_data",
          "data": {
            "text/html": [
              "<pre>recommendations finished on 15000/96352 queries. users per second: 62746.8</pre>"
            ],
            "text/plain": [
              "recommendations finished on 15000/96352 queries. users per second: 62746.8"
            ]
          },
          "metadata": {
            "tags": []
          }
        },
        {
          "output_type": "display_data",
          "data": {
            "text/html": [
              "<pre>recommendations finished on 16000/96352 queries. users per second: 62751.7</pre>"
            ],
            "text/plain": [
              "recommendations finished on 16000/96352 queries. users per second: 62751.7"
            ]
          },
          "metadata": {
            "tags": []
          }
        },
        {
          "output_type": "display_data",
          "data": {
            "text/html": [
              "<pre>recommendations finished on 17000/96352 queries. users per second: 62803.2</pre>"
            ],
            "text/plain": [
              "recommendations finished on 17000/96352 queries. users per second: 62803.2"
            ]
          },
          "metadata": {
            "tags": []
          }
        },
        {
          "output_type": "display_data",
          "data": {
            "text/html": [
              "<pre>recommendations finished on 18000/96352 queries. users per second: 62786</pre>"
            ],
            "text/plain": [
              "recommendations finished on 18000/96352 queries. users per second: 62786"
            ]
          },
          "metadata": {
            "tags": []
          }
        },
        {
          "output_type": "display_data",
          "data": {
            "text/html": [
              "<pre>recommendations finished on 19000/96352 queries. users per second: 62775.1</pre>"
            ],
            "text/plain": [
              "recommendations finished on 19000/96352 queries. users per second: 62775.1"
            ]
          },
          "metadata": {
            "tags": []
          }
        },
        {
          "output_type": "display_data",
          "data": {
            "text/html": [
              "<pre>recommendations finished on 20000/96352 queries. users per second: 62810.3</pre>"
            ],
            "text/plain": [
              "recommendations finished on 20000/96352 queries. users per second: 62810.3"
            ]
          },
          "metadata": {
            "tags": []
          }
        },
        {
          "output_type": "display_data",
          "data": {
            "text/html": [
              "<pre>recommendations finished on 21000/96352 queries. users per second: 62755.1</pre>"
            ],
            "text/plain": [
              "recommendations finished on 21000/96352 queries. users per second: 62755.1"
            ]
          },
          "metadata": {
            "tags": []
          }
        },
        {
          "output_type": "display_data",
          "data": {
            "text/html": [
              "<pre>recommendations finished on 22000/96352 queries. users per second: 62739.9</pre>"
            ],
            "text/plain": [
              "recommendations finished on 22000/96352 queries. users per second: 62739.9"
            ]
          },
          "metadata": {
            "tags": []
          }
        },
        {
          "output_type": "display_data",
          "data": {
            "text/html": [
              "<pre>recommendations finished on 23000/96352 queries. users per second: 62698.3</pre>"
            ],
            "text/plain": [
              "recommendations finished on 23000/96352 queries. users per second: 62698.3"
            ]
          },
          "metadata": {
            "tags": []
          }
        },
        {
          "output_type": "display_data",
          "data": {
            "text/html": [
              "<pre>recommendations finished on 24000/96352 queries. users per second: 62678.1</pre>"
            ],
            "text/plain": [
              "recommendations finished on 24000/96352 queries. users per second: 62678.1"
            ]
          },
          "metadata": {
            "tags": []
          }
        },
        {
          "output_type": "display_data",
          "data": {
            "text/html": [
              "<pre>recommendations finished on 25000/96352 queries. users per second: 62655.7</pre>"
            ],
            "text/plain": [
              "recommendations finished on 25000/96352 queries. users per second: 62655.7"
            ]
          },
          "metadata": {
            "tags": []
          }
        },
        {
          "output_type": "display_data",
          "data": {
            "text/html": [
              "<pre>recommendations finished on 26000/96352 queries. users per second: 62667.7</pre>"
            ],
            "text/plain": [
              "recommendations finished on 26000/96352 queries. users per second: 62667.7"
            ]
          },
          "metadata": {
            "tags": []
          }
        },
        {
          "output_type": "display_data",
          "data": {
            "text/html": [
              "<pre>recommendations finished on 27000/96352 queries. users per second: 62563.3</pre>"
            ],
            "text/plain": [
              "recommendations finished on 27000/96352 queries. users per second: 62563.3"
            ]
          },
          "metadata": {
            "tags": []
          }
        },
        {
          "output_type": "display_data",
          "data": {
            "text/html": [
              "<pre>recommendations finished on 28000/96352 queries. users per second: 62523.9</pre>"
            ],
            "text/plain": [
              "recommendations finished on 28000/96352 queries. users per second: 62523.9"
            ]
          },
          "metadata": {
            "tags": []
          }
        },
        {
          "output_type": "display_data",
          "data": {
            "text/html": [
              "<pre>recommendations finished on 29000/96352 queries. users per second: 62485.9</pre>"
            ],
            "text/plain": [
              "recommendations finished on 29000/96352 queries. users per second: 62485.9"
            ]
          },
          "metadata": {
            "tags": []
          }
        },
        {
          "output_type": "display_data",
          "data": {
            "text/html": [
              "<pre>recommendations finished on 30000/96352 queries. users per second: 62506.3</pre>"
            ],
            "text/plain": [
              "recommendations finished on 30000/96352 queries. users per second: 62506.3"
            ]
          },
          "metadata": {
            "tags": []
          }
        },
        {
          "output_type": "display_data",
          "data": {
            "text/html": [
              "<pre>recommendations finished on 31000/96352 queries. users per second: 62447</pre>"
            ],
            "text/plain": [
              "recommendations finished on 31000/96352 queries. users per second: 62447"
            ]
          },
          "metadata": {
            "tags": []
          }
        },
        {
          "output_type": "display_data",
          "data": {
            "text/html": [
              "<pre>recommendations finished on 32000/96352 queries. users per second: 62405.8</pre>"
            ],
            "text/plain": [
              "recommendations finished on 32000/96352 queries. users per second: 62405.8"
            ]
          },
          "metadata": {
            "tags": []
          }
        },
        {
          "output_type": "display_data",
          "data": {
            "text/html": [
              "<pre>recommendations finished on 33000/96352 queries. users per second: 62420.8</pre>"
            ],
            "text/plain": [
              "recommendations finished on 33000/96352 queries. users per second: 62420.8"
            ]
          },
          "metadata": {
            "tags": []
          }
        },
        {
          "output_type": "display_data",
          "data": {
            "text/html": [
              "<pre>recommendations finished on 34000/96352 queries. users per second: 62428.7</pre>"
            ],
            "text/plain": [
              "recommendations finished on 34000/96352 queries. users per second: 62428.7"
            ]
          },
          "metadata": {
            "tags": []
          }
        },
        {
          "output_type": "display_data",
          "data": {
            "text/html": [
              "<pre>recommendations finished on 35000/96352 queries. users per second: 62485.5</pre>"
            ],
            "text/plain": [
              "recommendations finished on 35000/96352 queries. users per second: 62485.5"
            ]
          },
          "metadata": {
            "tags": []
          }
        },
        {
          "output_type": "display_data",
          "data": {
            "text/html": [
              "<pre>recommendations finished on 36000/96352 queries. users per second: 62418.4</pre>"
            ],
            "text/plain": [
              "recommendations finished on 36000/96352 queries. users per second: 62418.4"
            ]
          },
          "metadata": {
            "tags": []
          }
        },
        {
          "output_type": "display_data",
          "data": {
            "text/html": [
              "<pre>recommendations finished on 37000/96352 queries. users per second: 62422.6</pre>"
            ],
            "text/plain": [
              "recommendations finished on 37000/96352 queries. users per second: 62422.6"
            ]
          },
          "metadata": {
            "tags": []
          }
        },
        {
          "output_type": "display_data",
          "data": {
            "text/html": [
              "<pre>recommendations finished on 38000/96352 queries. users per second: 62433.4</pre>"
            ],
            "text/plain": [
              "recommendations finished on 38000/96352 queries. users per second: 62433.4"
            ]
          },
          "metadata": {
            "tags": []
          }
        },
        {
          "output_type": "display_data",
          "data": {
            "text/html": [
              "<pre>recommendations finished on 39000/96352 queries. users per second: 62475.6</pre>"
            ],
            "text/plain": [
              "recommendations finished on 39000/96352 queries. users per second: 62475.6"
            ]
          },
          "metadata": {
            "tags": []
          }
        },
        {
          "output_type": "display_data",
          "data": {
            "text/html": [
              "<pre>recommendations finished on 40000/96352 queries. users per second: 62426.1</pre>"
            ],
            "text/plain": [
              "recommendations finished on 40000/96352 queries. users per second: 62426.1"
            ]
          },
          "metadata": {
            "tags": []
          }
        },
        {
          "output_type": "display_data",
          "data": {
            "text/html": [
              "<pre>recommendations finished on 41000/96352 queries. users per second: 62434.6</pre>"
            ],
            "text/plain": [
              "recommendations finished on 41000/96352 queries. users per second: 62434.6"
            ]
          },
          "metadata": {
            "tags": []
          }
        },
        {
          "output_type": "display_data",
          "data": {
            "text/html": [
              "<pre>recommendations finished on 42000/96352 queries. users per second: 62413.3</pre>"
            ],
            "text/plain": [
              "recommendations finished on 42000/96352 queries. users per second: 62413.3"
            ]
          },
          "metadata": {
            "tags": []
          }
        },
        {
          "output_type": "display_data",
          "data": {
            "text/html": [
              "<pre>recommendations finished on 43000/96352 queries. users per second: 62381.6</pre>"
            ],
            "text/plain": [
              "recommendations finished on 43000/96352 queries. users per second: 62381.6"
            ]
          },
          "metadata": {
            "tags": []
          }
        },
        {
          "output_type": "display_data",
          "data": {
            "text/html": [
              "<pre>recommendations finished on 44000/96352 queries. users per second: 62354.6</pre>"
            ],
            "text/plain": [
              "recommendations finished on 44000/96352 queries. users per second: 62354.6"
            ]
          },
          "metadata": {
            "tags": []
          }
        },
        {
          "output_type": "display_data",
          "data": {
            "text/html": [
              "<pre>recommendations finished on 45000/96352 queries. users per second: 62314.5</pre>"
            ],
            "text/plain": [
              "recommendations finished on 45000/96352 queries. users per second: 62314.5"
            ]
          },
          "metadata": {
            "tags": []
          }
        },
        {
          "output_type": "display_data",
          "data": {
            "text/html": [
              "<pre>recommendations finished on 46000/96352 queries. users per second: 62317.6</pre>"
            ],
            "text/plain": [
              "recommendations finished on 46000/96352 queries. users per second: 62317.6"
            ]
          },
          "metadata": {
            "tags": []
          }
        },
        {
          "output_type": "display_data",
          "data": {
            "text/html": [
              "<pre>recommendations finished on 47000/96352 queries. users per second: 62355.2</pre>"
            ],
            "text/plain": [
              "recommendations finished on 47000/96352 queries. users per second: 62355.2"
            ]
          },
          "metadata": {
            "tags": []
          }
        },
        {
          "output_type": "display_data",
          "data": {
            "text/html": [
              "<pre>recommendations finished on 48000/96352 queries. users per second: 62332.5</pre>"
            ],
            "text/plain": [
              "recommendations finished on 48000/96352 queries. users per second: 62332.5"
            ]
          },
          "metadata": {
            "tags": []
          }
        },
        {
          "output_type": "display_data",
          "data": {
            "text/html": [
              "<pre>recommendations finished on 49000/96352 queries. users per second: 62354.5</pre>"
            ],
            "text/plain": [
              "recommendations finished on 49000/96352 queries. users per second: 62354.5"
            ]
          },
          "metadata": {
            "tags": []
          }
        },
        {
          "output_type": "display_data",
          "data": {
            "text/html": [
              "<pre>recommendations finished on 50000/96352 queries. users per second: 62342.6</pre>"
            ],
            "text/plain": [
              "recommendations finished on 50000/96352 queries. users per second: 62342.6"
            ]
          },
          "metadata": {
            "tags": []
          }
        },
        {
          "output_type": "display_data",
          "data": {
            "text/html": [
              "<pre>recommendations finished on 51000/96352 queries. users per second: 62057.5</pre>"
            ],
            "text/plain": [
              "recommendations finished on 51000/96352 queries. users per second: 62057.5"
            ]
          },
          "metadata": {
            "tags": []
          }
        },
        {
          "output_type": "display_data",
          "data": {
            "text/html": [
              "<pre>recommendations finished on 52000/96352 queries. users per second: 61980.8</pre>"
            ],
            "text/plain": [
              "recommendations finished on 52000/96352 queries. users per second: 61980.8"
            ]
          },
          "metadata": {
            "tags": []
          }
        },
        {
          "output_type": "display_data",
          "data": {
            "text/html": [
              "<pre>recommendations finished on 53000/96352 queries. users per second: 62014.9</pre>"
            ],
            "text/plain": [
              "recommendations finished on 53000/96352 queries. users per second: 62014.9"
            ]
          },
          "metadata": {
            "tags": []
          }
        },
        {
          "output_type": "display_data",
          "data": {
            "text/html": [
              "<pre>recommendations finished on 54000/96352 queries. users per second: 61961.2</pre>"
            ],
            "text/plain": [
              "recommendations finished on 54000/96352 queries. users per second: 61961.2"
            ]
          },
          "metadata": {
            "tags": []
          }
        },
        {
          "output_type": "display_data",
          "data": {
            "text/html": [
              "<pre>recommendations finished on 55000/96352 queries. users per second: 62009.4</pre>"
            ],
            "text/plain": [
              "recommendations finished on 55000/96352 queries. users per second: 62009.4"
            ]
          },
          "metadata": {
            "tags": []
          }
        },
        {
          "output_type": "display_data",
          "data": {
            "text/html": [
              "<pre>recommendations finished on 56000/96352 queries. users per second: 62017.6</pre>"
            ],
            "text/plain": [
              "recommendations finished on 56000/96352 queries. users per second: 62017.6"
            ]
          },
          "metadata": {
            "tags": []
          }
        },
        {
          "output_type": "display_data",
          "data": {
            "text/html": [
              "<pre>recommendations finished on 57000/96352 queries. users per second: 62028.5</pre>"
            ],
            "text/plain": [
              "recommendations finished on 57000/96352 queries. users per second: 62028.5"
            ]
          },
          "metadata": {
            "tags": []
          }
        },
        {
          "output_type": "display_data",
          "data": {
            "text/html": [
              "<pre>recommendations finished on 58000/96352 queries. users per second: 61992.4</pre>"
            ],
            "text/plain": [
              "recommendations finished on 58000/96352 queries. users per second: 61992.4"
            ]
          },
          "metadata": {
            "tags": []
          }
        },
        {
          "output_type": "display_data",
          "data": {
            "text/html": [
              "<pre>recommendations finished on 59000/96352 queries. users per second: 62017.7</pre>"
            ],
            "text/plain": [
              "recommendations finished on 59000/96352 queries. users per second: 62017.7"
            ]
          },
          "metadata": {
            "tags": []
          }
        },
        {
          "output_type": "display_data",
          "data": {
            "text/html": [
              "<pre>recommendations finished on 60000/96352 queries. users per second: 61936.7</pre>"
            ],
            "text/plain": [
              "recommendations finished on 60000/96352 queries. users per second: 61936.7"
            ]
          },
          "metadata": {
            "tags": []
          }
        },
        {
          "output_type": "display_data",
          "data": {
            "text/html": [
              "<pre>recommendations finished on 61000/96352 queries. users per second: 61946.2</pre>"
            ],
            "text/plain": [
              "recommendations finished on 61000/96352 queries. users per second: 61946.2"
            ]
          },
          "metadata": {
            "tags": []
          }
        },
        {
          "output_type": "display_data",
          "data": {
            "text/html": [
              "<pre>recommendations finished on 62000/96352 queries. users per second: 61951.4</pre>"
            ],
            "text/plain": [
              "recommendations finished on 62000/96352 queries. users per second: 61951.4"
            ]
          },
          "metadata": {
            "tags": []
          }
        },
        {
          "output_type": "display_data",
          "data": {
            "text/html": [
              "<pre>recommendations finished on 63000/96352 queries. users per second: 61967.3</pre>"
            ],
            "text/plain": [
              "recommendations finished on 63000/96352 queries. users per second: 61967.3"
            ]
          },
          "metadata": {
            "tags": []
          }
        },
        {
          "output_type": "display_data",
          "data": {
            "text/html": [
              "<pre>recommendations finished on 64000/96352 queries. users per second: 61973.3</pre>"
            ],
            "text/plain": [
              "recommendations finished on 64000/96352 queries. users per second: 61973.3"
            ]
          },
          "metadata": {
            "tags": []
          }
        },
        {
          "output_type": "display_data",
          "data": {
            "text/html": [
              "<pre>recommendations finished on 65000/96352 queries. users per second: 61982.2</pre>"
            ],
            "text/plain": [
              "recommendations finished on 65000/96352 queries. users per second: 61982.2"
            ]
          },
          "metadata": {
            "tags": []
          }
        },
        {
          "output_type": "display_data",
          "data": {
            "text/html": [
              "<pre>recommendations finished on 66000/96352 queries. users per second: 62004.9</pre>"
            ],
            "text/plain": [
              "recommendations finished on 66000/96352 queries. users per second: 62004.9"
            ]
          },
          "metadata": {
            "tags": []
          }
        },
        {
          "output_type": "display_data",
          "data": {
            "text/html": [
              "<pre>recommendations finished on 67000/96352 queries. users per second: 61997.7</pre>"
            ],
            "text/plain": [
              "recommendations finished on 67000/96352 queries. users per second: 61997.7"
            ]
          },
          "metadata": {
            "tags": []
          }
        },
        {
          "output_type": "display_data",
          "data": {
            "text/html": [
              "<pre>recommendations finished on 68000/96352 queries. users per second: 61977.7</pre>"
            ],
            "text/plain": [
              "recommendations finished on 68000/96352 queries. users per second: 61977.7"
            ]
          },
          "metadata": {
            "tags": []
          }
        },
        {
          "output_type": "display_data",
          "data": {
            "text/html": [
              "<pre>recommendations finished on 69000/96352 queries. users per second: 62004.2</pre>"
            ],
            "text/plain": [
              "recommendations finished on 69000/96352 queries. users per second: 62004.2"
            ]
          },
          "metadata": {
            "tags": []
          }
        },
        {
          "output_type": "display_data",
          "data": {
            "text/html": [
              "<pre>recommendations finished on 70000/96352 queries. users per second: 62021.4</pre>"
            ],
            "text/plain": [
              "recommendations finished on 70000/96352 queries. users per second: 62021.4"
            ]
          },
          "metadata": {
            "tags": []
          }
        },
        {
          "output_type": "display_data",
          "data": {
            "text/html": [
              "<pre>recommendations finished on 71000/96352 queries. users per second: 62053.4</pre>"
            ],
            "text/plain": [
              "recommendations finished on 71000/96352 queries. users per second: 62053.4"
            ]
          },
          "metadata": {
            "tags": []
          }
        },
        {
          "output_type": "display_data",
          "data": {
            "text/html": [
              "<pre>recommendations finished on 72000/96352 queries. users per second: 62066.2</pre>"
            ],
            "text/plain": [
              "recommendations finished on 72000/96352 queries. users per second: 62066.2"
            ]
          },
          "metadata": {
            "tags": []
          }
        },
        {
          "output_type": "display_data",
          "data": {
            "text/html": [
              "<pre>recommendations finished on 73000/96352 queries. users per second: 62084.9</pre>"
            ],
            "text/plain": [
              "recommendations finished on 73000/96352 queries. users per second: 62084.9"
            ]
          },
          "metadata": {
            "tags": []
          }
        },
        {
          "output_type": "display_data",
          "data": {
            "text/html": [
              "<pre>recommendations finished on 74000/96352 queries. users per second: 62071.7</pre>"
            ],
            "text/plain": [
              "recommendations finished on 74000/96352 queries. users per second: 62071.7"
            ]
          },
          "metadata": {
            "tags": []
          }
        },
        {
          "output_type": "display_data",
          "data": {
            "text/html": [
              "<pre>recommendations finished on 75000/96352 queries. users per second: 62058.5</pre>"
            ],
            "text/plain": [
              "recommendations finished on 75000/96352 queries. users per second: 62058.5"
            ]
          },
          "metadata": {
            "tags": []
          }
        },
        {
          "output_type": "display_data",
          "data": {
            "text/html": [
              "<pre>recommendations finished on 76000/96352 queries. users per second: 62065.8</pre>"
            ],
            "text/plain": [
              "recommendations finished on 76000/96352 queries. users per second: 62065.8"
            ]
          },
          "metadata": {
            "tags": []
          }
        },
        {
          "output_type": "display_data",
          "data": {
            "text/html": [
              "<pre>recommendations finished on 77000/96352 queries. users per second: 62095.5</pre>"
            ],
            "text/plain": [
              "recommendations finished on 77000/96352 queries. users per second: 62095.5"
            ]
          },
          "metadata": {
            "tags": []
          }
        },
        {
          "output_type": "display_data",
          "data": {
            "text/html": [
              "<pre>recommendations finished on 78000/96352 queries. users per second: 62112.3</pre>"
            ],
            "text/plain": [
              "recommendations finished on 78000/96352 queries. users per second: 62112.3"
            ]
          },
          "metadata": {
            "tags": []
          }
        },
        {
          "output_type": "display_data",
          "data": {
            "text/html": [
              "<pre>recommendations finished on 79000/96352 queries. users per second: 62141.3</pre>"
            ],
            "text/plain": [
              "recommendations finished on 79000/96352 queries. users per second: 62141.3"
            ]
          },
          "metadata": {
            "tags": []
          }
        },
        {
          "output_type": "display_data",
          "data": {
            "text/html": [
              "<pre>recommendations finished on 80000/96352 queries. users per second: 62130.3</pre>"
            ],
            "text/plain": [
              "recommendations finished on 80000/96352 queries. users per second: 62130.3"
            ]
          },
          "metadata": {
            "tags": []
          }
        },
        {
          "output_type": "display_data",
          "data": {
            "text/html": [
              "<pre>recommendations finished on 81000/96352 queries. users per second: 62115.3</pre>"
            ],
            "text/plain": [
              "recommendations finished on 81000/96352 queries. users per second: 62115.3"
            ]
          },
          "metadata": {
            "tags": []
          }
        },
        {
          "output_type": "display_data",
          "data": {
            "text/html": [
              "<pre>recommendations finished on 82000/96352 queries. users per second: 62097.3</pre>"
            ],
            "text/plain": [
              "recommendations finished on 82000/96352 queries. users per second: 62097.3"
            ]
          },
          "metadata": {
            "tags": []
          }
        },
        {
          "output_type": "display_data",
          "data": {
            "text/html": [
              "<pre>recommendations finished on 83000/96352 queries. users per second: 62099.3</pre>"
            ],
            "text/plain": [
              "recommendations finished on 83000/96352 queries. users per second: 62099.3"
            ]
          },
          "metadata": {
            "tags": []
          }
        },
        {
          "output_type": "display_data",
          "data": {
            "text/html": [
              "<pre>recommendations finished on 84000/96352 queries. users per second: 62087.6</pre>"
            ],
            "text/plain": [
              "recommendations finished on 84000/96352 queries. users per second: 62087.6"
            ]
          },
          "metadata": {
            "tags": []
          }
        },
        {
          "output_type": "display_data",
          "data": {
            "text/html": [
              "<pre>recommendations finished on 85000/96352 queries. users per second: 62098.1</pre>"
            ],
            "text/plain": [
              "recommendations finished on 85000/96352 queries. users per second: 62098.1"
            ]
          },
          "metadata": {
            "tags": []
          }
        },
        {
          "output_type": "display_data",
          "data": {
            "text/html": [
              "<pre>recommendations finished on 86000/96352 queries. users per second: 62106.2</pre>"
            ],
            "text/plain": [
              "recommendations finished on 86000/96352 queries. users per second: 62106.2"
            ]
          },
          "metadata": {
            "tags": []
          }
        },
        {
          "output_type": "display_data",
          "data": {
            "text/html": [
              "<pre>recommendations finished on 87000/96352 queries. users per second: 62145.7</pre>"
            ],
            "text/plain": [
              "recommendations finished on 87000/96352 queries. users per second: 62145.7"
            ]
          },
          "metadata": {
            "tags": []
          }
        },
        {
          "output_type": "display_data",
          "data": {
            "text/html": [
              "<pre>recommendations finished on 88000/96352 queries. users per second: 62153.2</pre>"
            ],
            "text/plain": [
              "recommendations finished on 88000/96352 queries. users per second: 62153.2"
            ]
          },
          "metadata": {
            "tags": []
          }
        },
        {
          "output_type": "display_data",
          "data": {
            "text/html": [
              "<pre>recommendations finished on 89000/96352 queries. users per second: 62150.3</pre>"
            ],
            "text/plain": [
              "recommendations finished on 89000/96352 queries. users per second: 62150.3"
            ]
          },
          "metadata": {
            "tags": []
          }
        },
        {
          "output_type": "display_data",
          "data": {
            "text/html": [
              "<pre>recommendations finished on 90000/96352 queries. users per second: 62149.7</pre>"
            ],
            "text/plain": [
              "recommendations finished on 90000/96352 queries. users per second: 62149.7"
            ]
          },
          "metadata": {
            "tags": []
          }
        },
        {
          "output_type": "display_data",
          "data": {
            "text/html": [
              "<pre>recommendations finished on 91000/96352 queries. users per second: 62152.7</pre>"
            ],
            "text/plain": [
              "recommendations finished on 91000/96352 queries. users per second: 62152.7"
            ]
          },
          "metadata": {
            "tags": []
          }
        },
        {
          "output_type": "display_data",
          "data": {
            "text/html": [
              "<pre>recommendations finished on 92000/96352 queries. users per second: 62112.8</pre>"
            ],
            "text/plain": [
              "recommendations finished on 92000/96352 queries. users per second: 62112.8"
            ]
          },
          "metadata": {
            "tags": []
          }
        },
        {
          "output_type": "display_data",
          "data": {
            "text/html": [
              "<pre>recommendations finished on 93000/96352 queries. users per second: 61679.5</pre>"
            ],
            "text/plain": [
              "recommendations finished on 93000/96352 queries. users per second: 61679.5"
            ]
          },
          "metadata": {
            "tags": []
          }
        },
        {
          "output_type": "display_data",
          "data": {
            "text/html": [
              "<pre>recommendations finished on 94000/96352 queries. users per second: 61410.9</pre>"
            ],
            "text/plain": [
              "recommendations finished on 94000/96352 queries. users per second: 61410.9"
            ]
          },
          "metadata": {
            "tags": []
          }
        },
        {
          "output_type": "display_data",
          "data": {
            "text/html": [
              "<pre>recommendations finished on 95000/96352 queries. users per second: 61159.9</pre>"
            ],
            "text/plain": [
              "recommendations finished on 95000/96352 queries. users per second: 61159.9"
            ]
          },
          "metadata": {
            "tags": []
          }
        },
        {
          "output_type": "display_data",
          "data": {
            "text/html": [
              "<pre>recommendations finished on 96000/96352 queries. users per second: 60870.2</pre>"
            ],
            "text/plain": [
              "recommendations finished on 96000/96352 queries. users per second: 60870.2"
            ]
          },
          "metadata": {
            "tags": []
          }
        },
        {
          "output_type": "stream",
          "text": [
            "Se han exportado las recomendaciones en Google drive\n"
          ],
          "name": "stdout"
        }
      ]
    }
  ]
}