{
  "nbformat": 4,
  "nbformat_minor": 0,
  "metadata": {
    "colab": {
      "name": "Prevencion_Churn-NB1.ipynb",
      "provenance": [],
      "collapsed_sections": [],
      "machine_shape": "hm"
    },
    "kernelspec": {
      "name": "python3",
      "display_name": "Python 3",
      "language": "python"
    },
    "language_info": {
      "mimetype": "text/x-python",
      "nbconvert_exporter": "python",
      "name": "python",
      "file_extension": ".py",
      "version": "3.5.4",
      "pygments_lexer": "ipython3",
      "codemirror_mode": {
        "version": 3,
        "name": "ipython"
      }
    }
  },
  "cells": [
    {
      "cell_type": "markdown",
      "metadata": {
        "id": "k1PvPRCY79m-",
        "colab_type": "text"
      },
      "source": [
        "# Prevención Fuga de Clientes\n",
        "El enfoque de la prevención es disminuir el impacto latente de la posibilidad de que alguno de los clientes deje de comprar productos. \n",
        "Con este fin se realiza la estrategia en 3 sentidos: <br>\n",
        "**1.Motor de Recomendación** <br>\n",
        "**Objetivo:** Aumentar la penetración de los productos a los clientes con el fin de fortalecer la relación comercial y su fidelización. <br>\n",
        "Este enfoque hace parte de la primera parte del notebook, con el objetivo de generar un motor de recomendación con el cual se facilite la venta de nuevos productos por medio de estrategia de datos. <br>\n",
        "*Notebook 1: Motor de recomendación* <br>\n",
        "\n",
        "**2.Nueva segmentación de información con base en los datos de los clientes y sus transacciones** <br>\n",
        "**Objetivo:** Generar nueva información de los clientes, con el objetivo de realizar una mejor gestión de estos y plantear estrategias con base en esta nueva característica de información desarrollada. <br>\n",
        "El segundo enfoque es a través de una nueva segmentación, que permita de igual forma identificar no solo como y que es posible comprar, sino generar nuevas dimensiones de análisis, para que los equipos de business intelligence, comerciales y financieros, tengan más herramientas durante sus estrategias de negocio. <br>\n",
        "*Notebook 2: Segmentación de datos* <br>\n",
        "\n",
        "**3.Predecir la Fuga de clientes** <br>\n",
        "**Objetivo:** Desarrollar un marcaje de fuga de clientes con base en la historia transaccional de cliente, permitiendo esto entrenar un modelo de Machine Learning para predecir la posible baja de clientes. <br>\n",
        "El Tercer enfoque tiene dos frentes de trabajo, el primero permite establecer a través de variables de tendencias de compra y montos, si el cliente se encuentra \"vivo\" o no. Con base en este resultado, se activa el segundo frente, el cual a través de algoritmos de Machine Learning permite predecir la fuga de clientes con base en el marcaje realizado en la primera etapa. <br>\n",
        "*Notebook 3: Predicción Fuga Clientes* <br>\n"
      ]
    },
    {
      "cell_type": "code",
      "metadata": {
        "id": "tXh_3CYtd4e4",
        "colab_type": "code",
        "colab": {}
      },
      "source": [
        ""
      ],
      "execution_count": 0,
      "outputs": []
    },
    {
      "cell_type": "markdown",
      "metadata": {
        "id": "orpOJu6j8zxg",
        "colab_type": "text"
      },
      "source": [
        "### Fuente de datos\n",
        "Los datos usando durante la tesis son de dominio publico y hacen referencia a un comercio de Brasil. <br>\n",
        "Estos datos han sido modelados en un modelo dimensional con el fin de mejorar el performance del análisis del actual tesis y permitir generar modelos de reporting/dashboard con herramientas de BI.<br>\n",
        "Los datos han sido migrados a la plataforma github con el fin que sean de dominio publico. <br>\n"
      ]
    },
    {
      "cell_type": "markdown",
      "metadata": {
        "id": "1LmmcB9U8gN_",
        "colab_type": "text"
      },
      "source": [
        "##1. Motor de Recomendación\n",
        "\n",
        "Durante esta etapa se realizarán dos enfoques de recomendación, el primero con base en productos y el segundo con base en el comportamiento de clientes.\n",
        "\n",
        "\n",
        "### 1.1 Carga de librerias y datos"
      ]
    },
    {
      "cell_type": "code",
      "metadata": {
        "id": "rlke_DiE7xb2",
        "colab_type": "code",
        "trusted": true,
        "scrolled": true,
        "colab": {}
      },
      "source": [
        "#!pip install turicreate\n",
        "# librerias requeridas\n",
        "import turicreate as tc\n",
        "import matplotlib.pyplot as plt\n",
        "import pandas as pd\n",
        "import numpy as np\n",
        "%matplotlib inline\n",
        "from sklearn.metrics.pairwise import cosine_similarity\n",
        "from sklearn.cluster import KMeans\n",
        "from sklearn.metrics import silhouette_score\n",
        "import time\n",
        "from sklearn.model_selection import train_test_split\n"
      ],
      "execution_count": 0,
      "outputs": []
    },
    {
      "cell_type": "code",
      "metadata": {
        "id": "wcjQe--m9v7_",
        "colab_type": "code",
        "outputId": "fb5266b1-3a66-4176-fc23-980116189da0",
        "colab": {
          "base_uri": "https://localhost:8080/",
          "height": 34
        }
      },
      "source": [
        "## Localización y carga de los datos\n",
        "url = 'https://github.com/masdatascience/TFM-AI/blob/master/2019Tabla.xlsx?raw=true'\n",
        "datos_modelo = pd.ExcelFile(url)\n",
        "t1 = pd.read_excel(datos_modelo, sheet_name='table_col')\n",
        "url = 'https://github.com/masdatascience/TFM-AI/blob/master/2018Tabla-1.xlsx?raw=true'\n",
        "datos_modelo = pd.ExcelFile(url)\n",
        "t2 = pd.read_excel(datos_modelo, sheet_name='Hoja1')\n",
        "url = 'https://github.com/masdatascience/TFM-AI/blob/master/2018Tabla-2.xlsx?raw=true'\n",
        "datos_modelo = pd.ExcelFile(url)\n",
        "t3 = pd.read_excel(datos_modelo, sheet_name='Hoja2')\n",
        "\n",
        "\n",
        "datos_facturacion = pd.concat([t1,t2,t3])\n",
        "\n",
        "\n",
        "# Se elimian los datos nulos de las dimensiones importantes del analisis que son productos y clientes\n",
        "datos_facturacion = datos_facturacion.dropna(subset=['ID_CLIENTE'])\n",
        "datos_facturacion = datos_facturacion.dropna(subset=['ID_PRODUCTO'])\n",
        "# Se elimina posibles chargeback que se presenten\n",
        "datos_facturacion = datos_facturacion.loc[datos_facturacion['IMP_PRECIO_TOTAL'] > 0]\n",
        "\n",
        "print(\"Facturación:\"+ str(datos_facturacion.shape) ) # + \" Clientes:\"+str(datos_clientes.shape)+\" Productos:\"+str(datos_producto.shape))"
      ],
      "execution_count": 160,
      "outputs": [
        {
          "output_type": "stream",
          "text": [
            "Facturación:(499836, 28)\n"
          ],
          "name": "stdout"
        }
      ]
    },
    {
      "cell_type": "markdown",
      "metadata": {
        "id": "gknP4zvnDMY2",
        "colab_type": "text"
      },
      "source": [
        "### 1.2 Preparación de los datos \n",
        "En esta sección se estarán preparando tres enfoques de matrices con el fin de permitir desarrollar los motores de recomendación. La primera es la relación entre el cliente y los productos, la siguiente es una matriz normalizada y la última integra valores dummies para la comparación . "
      ]
    },
    {
      "cell_type": "markdown",
      "metadata": {
        "id": "nGPFk-v0D00A",
        "colab_type": "text"
      },
      "source": [
        "#### 1.2.1 Relación Cliente - Producto\n",
        "\n"
      ]
    },
    {
      "cell_type": "code",
      "metadata": {
        "id": "zosJH8OuD6hA",
        "colab_type": "code",
        "outputId": "a1e4d370-008f-4eec-dadb-86297c06935b",
        "colab": {
          "base_uri": "https://localhost:8080/",
          "height": 34
        }
      },
      "source": [
        "# Obtengo la Matriz Relación Cliente - Producto , y la normalizo\n",
        "matrix_usuario_producto =pd.crosstab(datos_facturacion['ID_CLIENTE'],datos_facturacion['ID_PRODUCTO'],values=datos_facturacion['IMP_PRECIO_TOTAL'], aggfunc='sum')\n",
        "matrix_usuario_producto_norm = (matrix_usuario_producto-matrix_usuario_producto.min())/(matrix_usuario_producto.max()-matrix_usuario_producto.min())\n",
        "d = matrix_usuario_producto_norm.reset_index() \n",
        "d.index.names = ['total_frecuencia'] \n",
        "data_norm = pd.melt(d, id_vars=['ID_CLIENTE'], value_name='total_frecuencia').dropna()\n",
        "data_norm['ID_CLIENTE'] = data_norm['ID_CLIENTE'].astype(str)\n",
        "data_norm['ID_PRODUCTO'] = data_norm['ID_PRODUCTO'].astype(str)\n",
        "print(\"Matriz normalizada:\" +str(data_norm.shape))"
      ],
      "execution_count": 189,
      "outputs": [
        {
          "output_type": "stream",
          "text": [
            "Matriz normalizada:(83710, 3)\n"
          ],
          "name": "stdout"
        }
      ]
    },
    {
      "cell_type": "markdown",
      "metadata": {
        "id": "YURTaD1qFEU7",
        "colab_type": "text"
      },
      "source": [
        "#### 1.2.2 Relación Cliente Producto - Contraste"
      ]
    },
    {
      "cell_type": "code",
      "metadata": {
        "id": "_NC9OA2RHq1_",
        "colab_type": "code",
        "outputId": "ce330275-fd55-418d-aec7-58ad8cead1e9",
        "colab": {
          "base_uri": "https://localhost:8080/",
          "height": 34
        }
      },
      "source": [
        "columnas_requeridas = ['ID_CLIENTE', 'ID_PRODUCTO']\n",
        "\n",
        "# Enfoque \n",
        "datos_dummy = datos_facturacion.loc[:, columnas_requeridas] \n",
        "datos_dummy['total_dummy'] = 1\n",
        "datos_dummy['ID_CLIENTE'] = datos_dummy['ID_CLIENTE'].astype(str)\n",
        "datos_dummy['ID_PRODUCTO'] = datos_dummy['ID_PRODUCTO'].astype(str)\n",
        "print(\"Matriz Dummy:\"+ str(datos_dummy.shape))"
      ],
      "execution_count": 191,
      "outputs": [
        {
          "output_type": "stream",
          "text": [
            "Matriz Dummy:(499836, 3)\n"
          ],
          "name": "stdout"
        }
      ]
    },
    {
      "cell_type": "markdown",
      "metadata": {
        "id": "fvqgw6XDFYJ6",
        "colab_type": "text"
      },
      "source": [
        "#### 1.2.3 Se generan datos de entrenamiento y pruebas"
      ]
    },
    {
      "cell_type": "code",
      "metadata": {
        "id": "P9YYO2PWFcUk",
        "colab_type": "code",
        "colab": {}
      },
      "source": [
        "train_data, test_data  = train_test_split(data_norm, test_size=0.3 ,random_state=1)\n",
        "train_data_dummy, test_data_dummy = train_test_split(datos_dummy, test_size=0.3 ,random_state=1)"
      ],
      "execution_count": 0,
      "outputs": []
    },
    {
      "cell_type": "markdown",
      "metadata": {
        "id": "_Fzb01hyFs1-",
        "colab_type": "text"
      },
      "source": [
        "#### 1.2.4  Se define función para ejecutar los tipos de motores de recomendación"
      ]
    },
    {
      "cell_type": "code",
      "metadata": {
        "id": "kh18gKpfF0X4",
        "colab_type": "code",
        "colab": {}
      },
      "source": [
        "# Se define una función que retorne un modelo resultado segun el enfoque que se requiere:\n",
        "# 1. Popularity : Es el item que más se a consumido en todos los clientes\n",
        "# 2. cosine :\n",
        "# 3. Pearson: \n",
        "def modelo_requerido(modelo,datos ,campo ):\n",
        "\n",
        "    train_data=tc.SFrame(datos)\n",
        "    print(\"Modelo solicitado:\"+ str(modelo))\n",
        "    if modelo == 'producto':\n",
        "        return  tc.popularity_recommender.create(train_data,user_id='ID_CLIENTE', item_id='ID_PRODUCTO', target=campo)\n",
        "    elif modelo == 'distancia_coseno':\n",
        "        return tc.item_similarity_recommender.create(train_data,user_id='ID_CLIENTE', item_id='ID_PRODUCTO', target=campo,similarity_type='cosine')\n",
        "    elif modelo == 'pearson':\n",
        "        return tc.item_similarity_recommender.create(train_data,user_id='ID_CLIENTE', item_id='ID_PRODUCTO', target=campo,similarity_type='pearson')\n",
        "    else : \n",
        "        print(\"ERROR: Modelo solicitado no existe\")\n",
        "\n",
        "#Obtiene las recomendaciones de forma visual para los clientes\n",
        "def productos_recomendado(modelo, usuarios, cantidad_recomendaciones):\n",
        "     modelo.recommend(users=list(usuarios), k=cantidad_recomendaciones).print_rows(cantidad_recomendaciones)\n",
        "\n",
        "#Evalua los modelos generados \n",
        "def evaluacion_modelos(modelo, test):\n",
        "  \n",
        "  if modelo == 'normalizado':\n",
        "        modelos_generados= [fac_producto, fac_coseno, fac_pearson]\n",
        "        nombres_modelos = ['Modelo basado en contenido', 'Modelo Colaborativo - Distancia Coseno', 'Modelo Colaborativo - Pearson']\n",
        "        test_data= tc.SFrame(test) \n",
        "        eval_counts = tc.recommender.util.compare_models(test_data, modelos_generados, model_names=nombres_modelos)\n",
        "  elif modelo == 'dummy':\n",
        "        modelos_generados= [dum_producto, dum_coseno, dum_pearson]\n",
        "        nombres_modelos = ['Modelo Dummy basado en contenido', 'Modelo Dummy Colaborativo - Distancia Coseno', 'Modelo Dummy Colaborativo - Pearson']\n",
        "        test_data= tc.SFrame(test) \n",
        "        eval_counts = tc.recommender.util.compare_models(test_data, modelos_generados, model_names=nombres_modelos)\n",
        "  else : \n",
        "        print(\"ERROR: Modelo solicitado no existe\")\n",
        "      \n",
        "#Exporta cinco  recomendaciones por cliente en google Drive      \n",
        "def exportarRecomendaciones(modelo, clientes):\n",
        "\n",
        "  lista_clientes =  list(clientes)\n",
        "  recomendaciones = modelo.recommend(users=lista_clientes, k=5)\n",
        "  resultado = recomendaciones.to_dataframe()\n",
        "  resultado['id_producto_recomendado'] = resultado.groupby(['ID_CLIENTE'])['ID_PRODUCTO'].transform(lambda x: ';'.join(x.astype(str)))\n",
        "  exportar = resultado[['ID_CLIENTE', 'id_producto_recomendado']].drop_duplicates().sort_values('ID_CLIENTE').set_index('ID_CLIENTE')\n",
        "  exportar.to_csv('recomendaciones.csv')\n",
        "  !cp recomendaciones.csv drive/My\\ Drive/TFM-AI/\n",
        "  print(\"Se han exportado las recomendaciones en Google drive\")\n"
      ],
      "execution_count": 0,
      "outputs": []
    },
    {
      "cell_type": "markdown",
      "metadata": {
        "id": "52rVRxv5YF7J",
        "colab_type": "text"
      },
      "source": [
        "### 1.3 Modelo de recomendación basado en Contenido\n",
        "Este modelo genera recomendaciones con base en la relación de los clientes y sus productos"
      ]
    },
    {
      "cell_type": "code",
      "metadata": {
        "id": "GIJ-1VLWNuaa",
        "colab_type": "code",
        "outputId": "d31c9755-0347-4fa3-8fa3-296d8247ff63",
        "colab": {
          "base_uri": "https://localhost:8080/",
          "height": 187
        }
      },
      "source": [
        "# Se generan las recomendaciones por dataset\n",
        "fac_producto = modelo_requerido('producto',train_data,'total_frecuencia' )\n",
        "dum_producto = modelo_requerido('producto' ,train_data_dummy, 'total_dummy')"
      ],
      "execution_count": 193,
      "outputs": [
        {
          "output_type": "stream",
          "text": [
            "Modelo solicitado:producto\n"
          ],
          "name": "stdout"
        },
        {
          "output_type": "display_data",
          "data": {
            "text/html": [
              "<pre>Preparing data set.</pre>"
            ],
            "text/plain": [
              "Preparing data set."
            ]
          },
          "metadata": {
            "tags": []
          }
        },
        {
          "output_type": "display_data",
          "data": {
            "text/html": [
              "<pre>    Data has 58597 observations with 20139 users and 249 items.</pre>"
            ],
            "text/plain": [
              "    Data has 58597 observations with 20139 users and 249 items."
            ]
          },
          "metadata": {
            "tags": []
          }
        },
        {
          "output_type": "display_data",
          "data": {
            "text/html": [
              "<pre>    Data prepared in: 0.143254s</pre>"
            ],
            "text/plain": [
              "    Data prepared in: 0.143254s"
            ]
          },
          "metadata": {
            "tags": []
          }
        },
        {
          "output_type": "display_data",
          "data": {
            "text/html": [
              "<pre>58597 observations to process; with 249 unique items.</pre>"
            ],
            "text/plain": [
              "58597 observations to process; with 249 unique items."
            ]
          },
          "metadata": {
            "tags": []
          }
        },
        {
          "output_type": "stream",
          "text": [
            "Modelo solicitado:producto\n"
          ],
          "name": "stdout"
        },
        {
          "output_type": "display_data",
          "data": {
            "text/html": [
              "<pre>Preparing data set.</pre>"
            ],
            "text/plain": [
              "Preparing data set."
            ]
          },
          "metadata": {
            "tags": []
          }
        },
        {
          "output_type": "display_data",
          "data": {
            "text/html": [
              "<pre>    Data has 349885 observations with 21178 users and 272 items.</pre>"
            ],
            "text/plain": [
              "    Data has 349885 observations with 21178 users and 272 items."
            ]
          },
          "metadata": {
            "tags": []
          }
        },
        {
          "output_type": "display_data",
          "data": {
            "text/html": [
              "<pre>    Data prepared in: 0.473849s</pre>"
            ],
            "text/plain": [
              "    Data prepared in: 0.473849s"
            ]
          },
          "metadata": {
            "tags": []
          }
        },
        {
          "output_type": "display_data",
          "data": {
            "text/html": [
              "<pre>349885 observations to process; with 272 unique items.</pre>"
            ],
            "text/plain": [
              "349885 observations to process; with 272 unique items."
            ]
          },
          "metadata": {
            "tags": []
          }
        }
      ]
    },
    {
      "cell_type": "code",
      "metadata": {
        "id": "Bgx-7a87wrap",
        "colab_type": "code",
        "colab": {
          "base_uri": "https://localhost:8080/",
          "height": 51
        },
        "outputId": "0a5aa771-94b9-4b4d-8b33-56a1cf2fe1d4"
      },
      "source": [
        "# se obtienen identificadores de clientes \n",
        "data_norm.ID_CLIENTE.unique()"
      ],
      "execution_count": 194,
      "outputs": [
        {
          "output_type": "execute_result",
          "data": {
            "text/plain": [
              "array(['800202080', '806007912', '900042581', ..., '900497906',\n",
              "       '71396397', '900994857'], dtype=object)"
            ]
          },
          "metadata": {
            "tags": []
          },
          "execution_count": 194
        }
      ]
    },
    {
      "cell_type": "code",
      "metadata": {
        "id": "IpjX_Fr3Sl2Y",
        "colab_type": "code",
        "outputId": "5d0fd2d5-d504-40ed-a6f4-1d618c9acc65",
        "colab": {
          "base_uri": "https://localhost:8080/",
          "height": 867
        }
      },
      "source": [
        "# Se generan las recomendaciones para un Cliente\n",
        "print(\"=============================================\")  \n",
        "print(\"Metodo: Basado en contenido - DS Normalizado\")\n",
        "print(\"============================================\")  \n",
        "productos_recomendado(fac_producto,'800202080',5)\n",
        "productos_recomendado(fac_producto,'806007912',5)\n",
        "\n",
        "print(\"============================================\")  \n",
        "print(\"Metodo: Basado en contenido - DS Referencia\")\n",
        "print(\"============================================\")  \n",
        "productos_recomendado(dum_producto,'800202080',5)\n",
        "productos_recomendado(dum_producto,'806007912',5)"
      ],
      "execution_count": 195,
      "outputs": [
        {
          "output_type": "stream",
          "text": [
            "=============================================\n",
            "Metodo: Basado en contenido - DS Normalizado\n",
            "============================================\n",
            "+------------+-------------+--------------------+------+\n",
            "| ID_CLIENTE | ID_PRODUCTO |       score        | rank |\n",
            "+------------+-------------+--------------------+------+\n",
            "|     8      |   30200140  |        1.0         |  1   |\n",
            "|     8      |   3017988   | 0.8276952865708722 |  2   |\n",
            "|     8      |   30212916  | 0.6250003656435472 |  3   |\n",
            "|     8      |   30212070  | 0.5589940733621657 |  4   |\n",
            "|     8      |   30195708  | 0.5428709215749578 |  5   |\n",
            "+------------+-------------+--------------------+------+\n",
            "[45 rows x 4 columns]\n",
            "\n",
            "+------------+-------------+--------------------+------+\n",
            "| ID_CLIENTE | ID_PRODUCTO |       score        | rank |\n",
            "+------------+-------------+--------------------+------+\n",
            "|     8      |   30200140  |        1.0         |  1   |\n",
            "|     8      |   3017988   | 0.8276952865708722 |  2   |\n",
            "|     8      |   30212916  | 0.6250003656435472 |  3   |\n",
            "|     8      |   30212070  | 0.5589940733621657 |  4   |\n",
            "|     8      |   30195708  | 0.5428709215749578 |  5   |\n",
            "+------------+-------------+--------------------+------+\n",
            "[45 rows x 4 columns]\n",
            "\n",
            "============================================\n",
            "Metodo: Basado en contenido - DS Referencia\n",
            "============================================\n",
            "+------------+-------------+-------+------+\n",
            "| ID_CLIENTE | ID_PRODUCTO | score | rank |\n",
            "+------------+-------------+-------+------+\n",
            "|     8      |   30208503  |  1.0  |  1   |\n",
            "|     8      |   30221719  |  1.0  |  2   |\n",
            "|     8      |   30224130  |  1.0  |  3   |\n",
            "|     8      |   30224083  |  1.0  |  4   |\n",
            "|     8      |   30163165  |  1.0  |  5   |\n",
            "+------------+-------------+-------+------+\n",
            "[45 rows x 4 columns]\n",
            "\n",
            "+------------+-------------+-------+------+\n",
            "| ID_CLIENTE | ID_PRODUCTO | score | rank |\n",
            "+------------+-------------+-------+------+\n",
            "|     8      |   30208503  |  1.0  |  1   |\n",
            "|     8      |   30221719  |  1.0  |  2   |\n",
            "|     8      |   30224130  |  1.0  |  3   |\n",
            "|     8      |   30224083  |  1.0  |  4   |\n",
            "|     8      |   30163165  |  1.0  |  5   |\n",
            "+------------+-------------+-------+------+\n",
            "[45 rows x 4 columns]\n",
            "\n"
          ],
          "name": "stdout"
        }
      ]
    },
    {
      "cell_type": "markdown",
      "metadata": {
        "id": "D7p0zJxaZKD4",
        "colab_type": "text"
      },
      "source": [
        "### 1.4 Motor de recomendación Colaborativo\n",
        "Este modelo genera recomendaciones con base en el comportamiento de compra que tienen los usuarios. <br>\n",
        "Con este fin se realizan pruebas con dos enfoques, la distancia coseno y pearson para evaluar cual es el que da mejores resultados"
      ]
    },
    {
      "cell_type": "code",
      "metadata": {
        "id": "2ZjeevWDZpNO",
        "colab_type": "code",
        "outputId": "9465d667-8279-4895-cfe1-470081d7805e",
        "colab": {
          "base_uri": "https://localhost:8080/",
          "height": 799
        }
      },
      "source": [
        "# Se generan las recomendaciones por dataset\n",
        "fac_coseno = modelo_requerido('distancia_coseno',train_data,'total_frecuencia' )\n",
        "dum_coseno = modelo_requerido('distancia_coseno' ,train_data_dummy, 'total_dummy')"
      ],
      "execution_count": 196,
      "outputs": [
        {
          "output_type": "stream",
          "text": [
            "Modelo solicitado:distancia_coseno\n"
          ],
          "name": "stdout"
        },
        {
          "output_type": "display_data",
          "data": {
            "text/html": [
              "<pre>Preparing data set.</pre>"
            ],
            "text/plain": [
              "Preparing data set."
            ]
          },
          "metadata": {
            "tags": []
          }
        },
        {
          "output_type": "display_data",
          "data": {
            "text/html": [
              "<pre>    Data has 58597 observations with 20139 users and 249 items.</pre>"
            ],
            "text/plain": [
              "    Data has 58597 observations with 20139 users and 249 items."
            ]
          },
          "metadata": {
            "tags": []
          }
        },
        {
          "output_type": "display_data",
          "data": {
            "text/html": [
              "<pre>    Data prepared in: 0.125532s</pre>"
            ],
            "text/plain": [
              "    Data prepared in: 0.125532s"
            ]
          },
          "metadata": {
            "tags": []
          }
        },
        {
          "output_type": "display_data",
          "data": {
            "text/html": [
              "<pre>Training model from provided data.</pre>"
            ],
            "text/plain": [
              "Training model from provided data."
            ]
          },
          "metadata": {
            "tags": []
          }
        },
        {
          "output_type": "display_data",
          "data": {
            "text/html": [
              "<pre>Gathering per-item and per-user statistics.</pre>"
            ],
            "text/plain": [
              "Gathering per-item and per-user statistics."
            ]
          },
          "metadata": {
            "tags": []
          }
        },
        {
          "output_type": "display_data",
          "data": {
            "text/html": [
              "<pre>+--------------------------------+------------+</pre>"
            ],
            "text/plain": [
              "+--------------------------------+------------+"
            ]
          },
          "metadata": {
            "tags": []
          }
        },
        {
          "output_type": "display_data",
          "data": {
            "text/html": [
              "<pre>| Elapsed Time (Item Statistics) | % Complete |</pre>"
            ],
            "text/plain": [
              "| Elapsed Time (Item Statistics) | % Complete |"
            ]
          },
          "metadata": {
            "tags": []
          }
        },
        {
          "output_type": "display_data",
          "data": {
            "text/html": [
              "<pre>+--------------------------------+------------+</pre>"
            ],
            "text/plain": [
              "+--------------------------------+------------+"
            ]
          },
          "metadata": {
            "tags": []
          }
        },
        {
          "output_type": "display_data",
          "data": {
            "text/html": [
              "<pre>| 735us                          | 4.75       |</pre>"
            ],
            "text/plain": [
              "| 735us                          | 4.75       |"
            ]
          },
          "metadata": {
            "tags": []
          }
        },
        {
          "output_type": "display_data",
          "data": {
            "text/html": [
              "<pre>| 5.606ms                        | 100        |</pre>"
            ],
            "text/plain": [
              "| 5.606ms                        | 100        |"
            ]
          },
          "metadata": {
            "tags": []
          }
        },
        {
          "output_type": "display_data",
          "data": {
            "text/html": [
              "<pre>+--------------------------------+------------+</pre>"
            ],
            "text/plain": [
              "+--------------------------------+------------+"
            ]
          },
          "metadata": {
            "tags": []
          }
        },
        {
          "output_type": "display_data",
          "data": {
            "text/html": [
              "<pre>Setting up lookup tables.</pre>"
            ],
            "text/plain": [
              "Setting up lookup tables."
            ]
          },
          "metadata": {
            "tags": []
          }
        },
        {
          "output_type": "display_data",
          "data": {
            "text/html": [
              "<pre>Processing data in one pass using dense lookup tables.</pre>"
            ],
            "text/plain": [
              "Processing data in one pass using dense lookup tables."
            ]
          },
          "metadata": {
            "tags": []
          }
        },
        {
          "output_type": "display_data",
          "data": {
            "text/html": [
              "<pre>+-------------------------------------+------------------+-----------------+</pre>"
            ],
            "text/plain": [
              "+-------------------------------------+------------------+-----------------+"
            ]
          },
          "metadata": {
            "tags": []
          }
        },
        {
          "output_type": "display_data",
          "data": {
            "text/html": [
              "<pre>| Elapsed Time (Constructing Lookups) | Total % Complete | Items Processed |</pre>"
            ],
            "text/plain": [
              "| Elapsed Time (Constructing Lookups) | Total % Complete | Items Processed |"
            ]
          },
          "metadata": {
            "tags": []
          }
        },
        {
          "output_type": "display_data",
          "data": {
            "text/html": [
              "<pre>+-------------------------------------+------------------+-----------------+</pre>"
            ],
            "text/plain": [
              "+-------------------------------------+------------------+-----------------+"
            ]
          },
          "metadata": {
            "tags": []
          }
        },
        {
          "output_type": "display_data",
          "data": {
            "text/html": [
              "<pre>| 6.26ms                              | 0                | 0               |</pre>"
            ],
            "text/plain": [
              "| 6.26ms                              | 0                | 0               |"
            ]
          },
          "metadata": {
            "tags": []
          }
        },
        {
          "output_type": "display_data",
          "data": {
            "text/html": [
              "<pre>| 21.458ms                            | 100              | 249             |</pre>"
            ],
            "text/plain": [
              "| 21.458ms                            | 100              | 249             |"
            ]
          },
          "metadata": {
            "tags": []
          }
        },
        {
          "output_type": "display_data",
          "data": {
            "text/html": [
              "<pre>+-------------------------------------+------------------+-----------------+</pre>"
            ],
            "text/plain": [
              "+-------------------------------------+------------------+-----------------+"
            ]
          },
          "metadata": {
            "tags": []
          }
        },
        {
          "output_type": "display_data",
          "data": {
            "text/html": [
              "<pre>Finalizing lookup tables.</pre>"
            ],
            "text/plain": [
              "Finalizing lookup tables."
            ]
          },
          "metadata": {
            "tags": []
          }
        },
        {
          "output_type": "display_data",
          "data": {
            "text/html": [
              "<pre>Generating candidate set for working with new users.</pre>"
            ],
            "text/plain": [
              "Generating candidate set for working with new users."
            ]
          },
          "metadata": {
            "tags": []
          }
        },
        {
          "output_type": "display_data",
          "data": {
            "text/html": [
              "<pre>Finished training in 0.033343s</pre>"
            ],
            "text/plain": [
              "Finished training in 0.033343s"
            ]
          },
          "metadata": {
            "tags": []
          }
        },
        {
          "output_type": "stream",
          "text": [
            "Modelo solicitado:distancia_coseno\n"
          ],
          "name": "stdout"
        },
        {
          "output_type": "display_data",
          "data": {
            "text/html": [
              "<pre>Preparing data set.</pre>"
            ],
            "text/plain": [
              "Preparing data set."
            ]
          },
          "metadata": {
            "tags": []
          }
        },
        {
          "output_type": "display_data",
          "data": {
            "text/html": [
              "<pre>    Data has 349885 observations with 21178 users and 272 items.</pre>"
            ],
            "text/plain": [
              "    Data has 349885 observations with 21178 users and 272 items."
            ]
          },
          "metadata": {
            "tags": []
          }
        },
        {
          "output_type": "display_data",
          "data": {
            "text/html": [
              "<pre>    Data prepared in: 0.456388s</pre>"
            ],
            "text/plain": [
              "    Data prepared in: 0.456388s"
            ]
          },
          "metadata": {
            "tags": []
          }
        },
        {
          "output_type": "display_data",
          "data": {
            "text/html": [
              "<pre>Training model from provided data.</pre>"
            ],
            "text/plain": [
              "Training model from provided data."
            ]
          },
          "metadata": {
            "tags": []
          }
        },
        {
          "output_type": "display_data",
          "data": {
            "text/html": [
              "<pre>Gathering per-item and per-user statistics.</pre>"
            ],
            "text/plain": [
              "Gathering per-item and per-user statistics."
            ]
          },
          "metadata": {
            "tags": []
          }
        },
        {
          "output_type": "display_data",
          "data": {
            "text/html": [
              "<pre>+--------------------------------+------------+</pre>"
            ],
            "text/plain": [
              "+--------------------------------+------------+"
            ]
          },
          "metadata": {
            "tags": []
          }
        },
        {
          "output_type": "display_data",
          "data": {
            "text/html": [
              "<pre>| Elapsed Time (Item Statistics) | % Complete |</pre>"
            ],
            "text/plain": [
              "| Elapsed Time (Item Statistics) | % Complete |"
            ]
          },
          "metadata": {
            "tags": []
          }
        },
        {
          "output_type": "display_data",
          "data": {
            "text/html": [
              "<pre>+--------------------------------+------------+</pre>"
            ],
            "text/plain": [
              "+--------------------------------+------------+"
            ]
          },
          "metadata": {
            "tags": []
          }
        },
        {
          "output_type": "display_data",
          "data": {
            "text/html": [
              "<pre>| 2.327ms                        | 4.5        |</pre>"
            ],
            "text/plain": [
              "| 2.327ms                        | 4.5        |"
            ]
          },
          "metadata": {
            "tags": []
          }
        },
        {
          "output_type": "display_data",
          "data": {
            "text/html": [
              "<pre>| 11.324ms                       | 100        |</pre>"
            ],
            "text/plain": [
              "| 11.324ms                       | 100        |"
            ]
          },
          "metadata": {
            "tags": []
          }
        },
        {
          "output_type": "display_data",
          "data": {
            "text/html": [
              "<pre>+--------------------------------+------------+</pre>"
            ],
            "text/plain": [
              "+--------------------------------+------------+"
            ]
          },
          "metadata": {
            "tags": []
          }
        },
        {
          "output_type": "display_data",
          "data": {
            "text/html": [
              "<pre>Setting up lookup tables.</pre>"
            ],
            "text/plain": [
              "Setting up lookup tables."
            ]
          },
          "metadata": {
            "tags": []
          }
        },
        {
          "output_type": "display_data",
          "data": {
            "text/html": [
              "<pre>Processing data in one pass using dense lookup tables.</pre>"
            ],
            "text/plain": [
              "Processing data in one pass using dense lookup tables."
            ]
          },
          "metadata": {
            "tags": []
          }
        },
        {
          "output_type": "display_data",
          "data": {
            "text/html": [
              "<pre>+-------------------------------------+------------------+-----------------+</pre>"
            ],
            "text/plain": [
              "+-------------------------------------+------------------+-----------------+"
            ]
          },
          "metadata": {
            "tags": []
          }
        },
        {
          "output_type": "display_data",
          "data": {
            "text/html": [
              "<pre>| Elapsed Time (Constructing Lookups) | Total % Complete | Items Processed |</pre>"
            ],
            "text/plain": [
              "| Elapsed Time (Constructing Lookups) | Total % Complete | Items Processed |"
            ]
          },
          "metadata": {
            "tags": []
          }
        },
        {
          "output_type": "display_data",
          "data": {
            "text/html": [
              "<pre>+-------------------------------------+------------------+-----------------+</pre>"
            ],
            "text/plain": [
              "+-------------------------------------+------------------+-----------------+"
            ]
          },
          "metadata": {
            "tags": []
          }
        },
        {
          "output_type": "display_data",
          "data": {
            "text/html": [
              "<pre>| 12.37ms                             | 0                | 0               |</pre>"
            ],
            "text/plain": [
              "| 12.37ms                             | 0                | 0               |"
            ]
          },
          "metadata": {
            "tags": []
          }
        },
        {
          "output_type": "display_data",
          "data": {
            "text/html": [
              "<pre>| 27.333ms                            | 100              | 272             |</pre>"
            ],
            "text/plain": [
              "| 27.333ms                            | 100              | 272             |"
            ]
          },
          "metadata": {
            "tags": []
          }
        },
        {
          "output_type": "display_data",
          "data": {
            "text/html": [
              "<pre>+-------------------------------------+------------------+-----------------+</pre>"
            ],
            "text/plain": [
              "+-------------------------------------+------------------+-----------------+"
            ]
          },
          "metadata": {
            "tags": []
          }
        },
        {
          "output_type": "display_data",
          "data": {
            "text/html": [
              "<pre>Finalizing lookup tables.</pre>"
            ],
            "text/plain": [
              "Finalizing lookup tables."
            ]
          },
          "metadata": {
            "tags": []
          }
        },
        {
          "output_type": "display_data",
          "data": {
            "text/html": [
              "<pre>Generating candidate set for working with new users.</pre>"
            ],
            "text/plain": [
              "Generating candidate set for working with new users."
            ]
          },
          "metadata": {
            "tags": []
          }
        },
        {
          "output_type": "display_data",
          "data": {
            "text/html": [
              "<pre>Finished training in 0.066928s</pre>"
            ],
            "text/plain": [
              "Finished training in 0.066928s"
            ]
          },
          "metadata": {
            "tags": []
          }
        }
      ]
    },
    {
      "cell_type": "code",
      "metadata": {
        "id": "0AgQTFzOZ7a6",
        "colab_type": "code",
        "outputId": "2cbd880e-ad38-4518-9bde-ccb27ffc14c8",
        "colab": {
          "base_uri": "https://localhost:8080/",
          "height": 714
        }
      },
      "source": [
        "print(\"=============================================\")  \n",
        "print(\"              DISTANCIA COSENO \")\n",
        "print(\"============================================\")  \n",
        "# Se generan las recomendaciones para un Cliente\n",
        "print(\"=============================================\")  \n",
        "print(\"Metodo: Colaborativo - DS Normalizado\")\n",
        "print(\"============================================\")  \n",
        "fac_coseno.recommend(users=list(['800202080','806007912']), k=5).print_rows(10)\n",
        "\n",
        "print(\"============================================\")  \n",
        "print(\"Metodo: Colaborativo - DS Referencia\")\n",
        "print(\"============================================\")  \n",
        "dum_coseno.recommend(users=list(['800202080','806007912']), k=5).print_rows(10)\n"
      ],
      "execution_count": 197,
      "outputs": [
        {
          "output_type": "stream",
          "text": [
            "=============================================\n",
            "              DISTANCIA COSENO \n",
            "============================================\n",
            "=============================================\n",
            "Metodo: Colaborativo - DS Normalizado\n",
            "============================================\n",
            "+------------+-------------+-----------------------+------+\n",
            "| ID_CLIENTE | ID_PRODUCTO |         score         | rank |\n",
            "+------------+-------------+-----------------------+------+\n",
            "| 800202080  |   30179884  | 0.0034851312637329103 |  1   |\n",
            "| 800202080  |   30223194  | 0.0034352898597717284 |  2   |\n",
            "| 800202080  |   30225302  | 0.0030200004577636717 |  3   |\n",
            "| 800202080  |   30212904  | 0.0013657569885253905 |  4   |\n",
            "| 800202080  |   30207868  |  0.001326775550842285 |  5   |\n",
            "| 806007912  |   30193339  | 0.0016566634178161622 |  1   |\n",
            "| 806007912  |   30225282  | 0.0013142943382263184 |  2   |\n",
            "| 806007912  |   30227552  | 0.0006501913070678711 |  3   |\n",
            "| 806007912  |   30223194  | 0.0006324410438537598 |  4   |\n",
            "| 806007912  |   30219085  | 0.0005844950675964356 |  5   |\n",
            "+------------+-------------+-----------------------+------+\n",
            "[10 rows x 4 columns]\n",
            "\n",
            "============================================\n",
            "Metodo: Colaborativo - DS Referencia\n",
            "============================================\n",
            "+------------+-------------+---------------------+------+\n",
            "| ID_CLIENTE | ID_PRODUCTO |        score        | rank |\n",
            "+------------+-------------+---------------------+------+\n",
            "| 800202080  |   30222017  | 0.22607545852661132 |  1   |\n",
            "| 800202080  |   30222037  | 0.18983659744262696 |  2   |\n",
            "| 800202080  |   30179881  | 0.18790926933288574 |  3   |\n",
            "| 800202080  |   30222026  | 0.17087695598602295 |  4   |\n",
            "| 800202080  |   30207866  | 0.16678059101104736 |  5   |\n",
            "| 806007912  |   30222017  | 0.15293165296316147 |  1   |\n",
            "| 806007912  |   30193261  |  0.1479044109582901 |  2   |\n",
            "| 806007912  |   30222037  | 0.13395827263593674 |  3   |\n",
            "| 806007912  |   30222026  | 0.11544761806726456 |  4   |\n",
            "| 806007912  |   30222069  | 0.11377869546413422 |  5   |\n",
            "+------------+-------------+---------------------+------+\n",
            "[10 rows x 4 columns]\n",
            "\n"
          ],
          "name": "stdout"
        }
      ]
    },
    {
      "cell_type": "code",
      "metadata": {
        "id": "bM3u55tOaSOg",
        "colab_type": "code",
        "outputId": "90cf981e-fd30-482f-e088-fe6ac0038865",
        "colab": {
          "base_uri": "https://localhost:8080/",
          "height": 799
        }
      },
      "source": [
        "# Se generan las recomendaciones por dataset\n",
        "fac_pearson= modelo_requerido('pearson',train_data,'total_frecuencia' )\n",
        "dum_pearson = modelo_requerido('pearson' ,train_data_dummy, 'total_dummy')"
      ],
      "execution_count": 198,
      "outputs": [
        {
          "output_type": "stream",
          "text": [
            "Modelo solicitado:pearson\n"
          ],
          "name": "stdout"
        },
        {
          "output_type": "display_data",
          "data": {
            "text/html": [
              "<pre>Preparing data set.</pre>"
            ],
            "text/plain": [
              "Preparing data set."
            ]
          },
          "metadata": {
            "tags": []
          }
        },
        {
          "output_type": "display_data",
          "data": {
            "text/html": [
              "<pre>    Data has 58597 observations with 20139 users and 249 items.</pre>"
            ],
            "text/plain": [
              "    Data has 58597 observations with 20139 users and 249 items."
            ]
          },
          "metadata": {
            "tags": []
          }
        },
        {
          "output_type": "display_data",
          "data": {
            "text/html": [
              "<pre>    Data prepared in: 0.124094s</pre>"
            ],
            "text/plain": [
              "    Data prepared in: 0.124094s"
            ]
          },
          "metadata": {
            "tags": []
          }
        },
        {
          "output_type": "display_data",
          "data": {
            "text/html": [
              "<pre>Training model from provided data.</pre>"
            ],
            "text/plain": [
              "Training model from provided data."
            ]
          },
          "metadata": {
            "tags": []
          }
        },
        {
          "output_type": "display_data",
          "data": {
            "text/html": [
              "<pre>Gathering per-item and per-user statistics.</pre>"
            ],
            "text/plain": [
              "Gathering per-item and per-user statistics."
            ]
          },
          "metadata": {
            "tags": []
          }
        },
        {
          "output_type": "display_data",
          "data": {
            "text/html": [
              "<pre>+--------------------------------+------------+</pre>"
            ],
            "text/plain": [
              "+--------------------------------+------------+"
            ]
          },
          "metadata": {
            "tags": []
          }
        },
        {
          "output_type": "display_data",
          "data": {
            "text/html": [
              "<pre>| Elapsed Time (Item Statistics) | % Complete |</pre>"
            ],
            "text/plain": [
              "| Elapsed Time (Item Statistics) | % Complete |"
            ]
          },
          "metadata": {
            "tags": []
          }
        },
        {
          "output_type": "display_data",
          "data": {
            "text/html": [
              "<pre>+--------------------------------+------------+</pre>"
            ],
            "text/plain": [
              "+--------------------------------+------------+"
            ]
          },
          "metadata": {
            "tags": []
          }
        },
        {
          "output_type": "display_data",
          "data": {
            "text/html": [
              "<pre>| 733us                          | 4.75       |</pre>"
            ],
            "text/plain": [
              "| 733us                          | 4.75       |"
            ]
          },
          "metadata": {
            "tags": []
          }
        },
        {
          "output_type": "display_data",
          "data": {
            "text/html": [
              "<pre>| 5.219ms                        | 100        |</pre>"
            ],
            "text/plain": [
              "| 5.219ms                        | 100        |"
            ]
          },
          "metadata": {
            "tags": []
          }
        },
        {
          "output_type": "display_data",
          "data": {
            "text/html": [
              "<pre>+--------------------------------+------------+</pre>"
            ],
            "text/plain": [
              "+--------------------------------+------------+"
            ]
          },
          "metadata": {
            "tags": []
          }
        },
        {
          "output_type": "display_data",
          "data": {
            "text/html": [
              "<pre>Setting up lookup tables.</pre>"
            ],
            "text/plain": [
              "Setting up lookup tables."
            ]
          },
          "metadata": {
            "tags": []
          }
        },
        {
          "output_type": "display_data",
          "data": {
            "text/html": [
              "<pre>Processing data in one pass using dense lookup tables.</pre>"
            ],
            "text/plain": [
              "Processing data in one pass using dense lookup tables."
            ]
          },
          "metadata": {
            "tags": []
          }
        },
        {
          "output_type": "display_data",
          "data": {
            "text/html": [
              "<pre>+-------------------------------------+------------------+-----------------+</pre>"
            ],
            "text/plain": [
              "+-------------------------------------+------------------+-----------------+"
            ]
          },
          "metadata": {
            "tags": []
          }
        },
        {
          "output_type": "display_data",
          "data": {
            "text/html": [
              "<pre>| Elapsed Time (Constructing Lookups) | Total % Complete | Items Processed |</pre>"
            ],
            "text/plain": [
              "| Elapsed Time (Constructing Lookups) | Total % Complete | Items Processed |"
            ]
          },
          "metadata": {
            "tags": []
          }
        },
        {
          "output_type": "display_data",
          "data": {
            "text/html": [
              "<pre>+-------------------------------------+------------------+-----------------+</pre>"
            ],
            "text/plain": [
              "+-------------------------------------+------------------+-----------------+"
            ]
          },
          "metadata": {
            "tags": []
          }
        },
        {
          "output_type": "display_data",
          "data": {
            "text/html": [
              "<pre>| 5.773ms                             | 0                | 0               |</pre>"
            ],
            "text/plain": [
              "| 5.773ms                             | 0                | 0               |"
            ]
          },
          "metadata": {
            "tags": []
          }
        },
        {
          "output_type": "display_data",
          "data": {
            "text/html": [
              "<pre>| 28.434ms                            | 100              | 249             |</pre>"
            ],
            "text/plain": [
              "| 28.434ms                            | 100              | 249             |"
            ]
          },
          "metadata": {
            "tags": []
          }
        },
        {
          "output_type": "display_data",
          "data": {
            "text/html": [
              "<pre>+-------------------------------------+------------------+-----------------+</pre>"
            ],
            "text/plain": [
              "+-------------------------------------+------------------+-----------------+"
            ]
          },
          "metadata": {
            "tags": []
          }
        },
        {
          "output_type": "display_data",
          "data": {
            "text/html": [
              "<pre>Finalizing lookup tables.</pre>"
            ],
            "text/plain": [
              "Finalizing lookup tables."
            ]
          },
          "metadata": {
            "tags": []
          }
        },
        {
          "output_type": "display_data",
          "data": {
            "text/html": [
              "<pre>Generating candidate set for working with new users.</pre>"
            ],
            "text/plain": [
              "Generating candidate set for working with new users."
            ]
          },
          "metadata": {
            "tags": []
          }
        },
        {
          "output_type": "display_data",
          "data": {
            "text/html": [
              "<pre>Finished training in 0.03919s</pre>"
            ],
            "text/plain": [
              "Finished training in 0.03919s"
            ]
          },
          "metadata": {
            "tags": []
          }
        },
        {
          "output_type": "stream",
          "text": [
            "Modelo solicitado:pearson\n"
          ],
          "name": "stdout"
        },
        {
          "output_type": "display_data",
          "data": {
            "text/html": [
              "<pre>Preparing data set.</pre>"
            ],
            "text/plain": [
              "Preparing data set."
            ]
          },
          "metadata": {
            "tags": []
          }
        },
        {
          "output_type": "display_data",
          "data": {
            "text/html": [
              "<pre>    Data has 349885 observations with 21178 users and 272 items.</pre>"
            ],
            "text/plain": [
              "    Data has 349885 observations with 21178 users and 272 items."
            ]
          },
          "metadata": {
            "tags": []
          }
        },
        {
          "output_type": "display_data",
          "data": {
            "text/html": [
              "<pre>    Data prepared in: 0.495095s</pre>"
            ],
            "text/plain": [
              "    Data prepared in: 0.495095s"
            ]
          },
          "metadata": {
            "tags": []
          }
        },
        {
          "output_type": "display_data",
          "data": {
            "text/html": [
              "<pre>Training model from provided data.</pre>"
            ],
            "text/plain": [
              "Training model from provided data."
            ]
          },
          "metadata": {
            "tags": []
          }
        },
        {
          "output_type": "display_data",
          "data": {
            "text/html": [
              "<pre>Gathering per-item and per-user statistics.</pre>"
            ],
            "text/plain": [
              "Gathering per-item and per-user statistics."
            ]
          },
          "metadata": {
            "tags": []
          }
        },
        {
          "output_type": "display_data",
          "data": {
            "text/html": [
              "<pre>+--------------------------------+------------+</pre>"
            ],
            "text/plain": [
              "+--------------------------------+------------+"
            ]
          },
          "metadata": {
            "tags": []
          }
        },
        {
          "output_type": "display_data",
          "data": {
            "text/html": [
              "<pre>| Elapsed Time (Item Statistics) | % Complete |</pre>"
            ],
            "text/plain": [
              "| Elapsed Time (Item Statistics) | % Complete |"
            ]
          },
          "metadata": {
            "tags": []
          }
        },
        {
          "output_type": "display_data",
          "data": {
            "text/html": [
              "<pre>+--------------------------------+------------+</pre>"
            ],
            "text/plain": [
              "+--------------------------------+------------+"
            ]
          },
          "metadata": {
            "tags": []
          }
        },
        {
          "output_type": "display_data",
          "data": {
            "text/html": [
              "<pre>| 1.229ms                        | 4.5        |</pre>"
            ],
            "text/plain": [
              "| 1.229ms                        | 4.5        |"
            ]
          },
          "metadata": {
            "tags": []
          }
        },
        {
          "output_type": "display_data",
          "data": {
            "text/html": [
              "<pre>| 7.452ms                        | 100        |</pre>"
            ],
            "text/plain": [
              "| 7.452ms                        | 100        |"
            ]
          },
          "metadata": {
            "tags": []
          }
        },
        {
          "output_type": "display_data",
          "data": {
            "text/html": [
              "<pre>+--------------------------------+------------+</pre>"
            ],
            "text/plain": [
              "+--------------------------------+------------+"
            ]
          },
          "metadata": {
            "tags": []
          }
        },
        {
          "output_type": "display_data",
          "data": {
            "text/html": [
              "<pre>Setting up lookup tables.</pre>"
            ],
            "text/plain": [
              "Setting up lookup tables."
            ]
          },
          "metadata": {
            "tags": []
          }
        },
        {
          "output_type": "display_data",
          "data": {
            "text/html": [
              "<pre>Processing data in one pass using dense lookup tables.</pre>"
            ],
            "text/plain": [
              "Processing data in one pass using dense lookup tables."
            ]
          },
          "metadata": {
            "tags": []
          }
        },
        {
          "output_type": "display_data",
          "data": {
            "text/html": [
              "<pre>+-------------------------------------+------------------+-----------------+</pre>"
            ],
            "text/plain": [
              "+-------------------------------------+------------------+-----------------+"
            ]
          },
          "metadata": {
            "tags": []
          }
        },
        {
          "output_type": "display_data",
          "data": {
            "text/html": [
              "<pre>| Elapsed Time (Constructing Lookups) | Total % Complete | Items Processed |</pre>"
            ],
            "text/plain": [
              "| Elapsed Time (Constructing Lookups) | Total % Complete | Items Processed |"
            ]
          },
          "metadata": {
            "tags": []
          }
        },
        {
          "output_type": "display_data",
          "data": {
            "text/html": [
              "<pre>+-------------------------------------+------------------+-----------------+</pre>"
            ],
            "text/plain": [
              "+-------------------------------------+------------------+-----------------+"
            ]
          },
          "metadata": {
            "tags": []
          }
        },
        {
          "output_type": "display_data",
          "data": {
            "text/html": [
              "<pre>| 8.385ms                             | 0                | 0               |</pre>"
            ],
            "text/plain": [
              "| 8.385ms                             | 0                | 0               |"
            ]
          },
          "metadata": {
            "tags": []
          }
        },
        {
          "output_type": "display_data",
          "data": {
            "text/html": [
              "<pre>| 22.493ms                            | 100              | 272             |</pre>"
            ],
            "text/plain": [
              "| 22.493ms                            | 100              | 272             |"
            ]
          },
          "metadata": {
            "tags": []
          }
        },
        {
          "output_type": "display_data",
          "data": {
            "text/html": [
              "<pre>+-------------------------------------+------------------+-----------------+</pre>"
            ],
            "text/plain": [
              "+-------------------------------------+------------------+-----------------+"
            ]
          },
          "metadata": {
            "tags": []
          }
        },
        {
          "output_type": "display_data",
          "data": {
            "text/html": [
              "<pre>Finalizing lookup tables.</pre>"
            ],
            "text/plain": [
              "Finalizing lookup tables."
            ]
          },
          "metadata": {
            "tags": []
          }
        },
        {
          "output_type": "display_data",
          "data": {
            "text/html": [
              "<pre>Generating candidate set for working with new users.</pre>"
            ],
            "text/plain": [
              "Generating candidate set for working with new users."
            ]
          },
          "metadata": {
            "tags": []
          }
        },
        {
          "output_type": "display_data",
          "data": {
            "text/html": [
              "<pre>Finished training in 0.048557s</pre>"
            ],
            "text/plain": [
              "Finished training in 0.048557s"
            ]
          },
          "metadata": {
            "tags": []
          }
        }
      ]
    },
    {
      "cell_type": "code",
      "metadata": {
        "id": "JtGtNTB8aU1U",
        "colab_type": "code",
        "outputId": "b74e9277-0632-4154-bc41-2636c18d9f2b",
        "colab": {
          "base_uri": "https://localhost:8080/",
          "height": 714
        }
      },
      "source": [
        "print(\"=============================================\")  \n",
        "print(\"          CORRELACION PEARSON \")\n",
        "print(\"============================================\")  \n",
        "# Se generan las recomendaciones para un Cliente\n",
        "print(\"=============================================\")  \n",
        "print(\"Metodo: Colaborativo - DS Normalizado\")\n",
        "print(\"============================================\")  \n",
        "fac_pearson.recommend(users=list(['800202080','806007912']), k=5).print_rows(10)\n",
        "\n",
        "print(\"============================================\")  \n",
        "print(\"Metodo: Colaborativo - DS Referencia\")\n",
        "print(\"============================================\") \n",
        "dum_pearson.recommend(users=list(['800202080','806007912']), k=5).print_rows(10) "
      ],
      "execution_count": 199,
      "outputs": [
        {
          "output_type": "stream",
          "text": [
            "=============================================\n",
            "          CORRELACION PEARSON \n",
            "============================================\n",
            "=============================================\n",
            "Metodo: Colaborativo - DS Normalizado\n",
            "============================================\n",
            "+------------+-------------+--------------------+------+\n",
            "| ID_CLIENTE | ID_PRODUCTO |       score        | rank |\n",
            "+------------+-------------+--------------------+------+\n",
            "| 800202080  |   30200140  |        1.0         |  1   |\n",
            "| 800202080  |   30212916  | 0.6250003656435472 |  2   |\n",
            "| 800202080  |   30212070  | 0.5589940733621657 |  3   |\n",
            "| 800202080  |   30195708  | 0.5428709215749578 |  4   |\n",
            "| 800202080  |   30196193  | 0.5373180671453522 |  5   |\n",
            "| 806007912  |   30200140  |        1.0         |  1   |\n",
            "| 806007912  |   3017988   | 0.8276687148202313 |  2   |\n",
            "| 806007912  |   30212916  | 0.6250003656435472 |  3   |\n",
            "| 806007912  |   30212070  | 0.5589940733621657 |  4   |\n",
            "| 806007912  |   30195708  | 0.5428709215749578 |  5   |\n",
            "+------------+-------------+--------------------+------+\n",
            "[10 rows x 4 columns]\n",
            "\n",
            "============================================\n",
            "Metodo: Colaborativo - DS Referencia\n",
            "============================================\n",
            "+------------+-------------+-------+------+\n",
            "| ID_CLIENTE | ID_PRODUCTO | score | rank |\n",
            "+------------+-------------+-------+------+\n",
            "| 800202080  |   30208503  |  0.0  |  1   |\n",
            "| 800202080  |   30221719  |  0.0  |  2   |\n",
            "| 800202080  |   30224130  |  0.0  |  3   |\n",
            "| 800202080  |   30224083  |  0.0  |  4   |\n",
            "| 800202080  |   30163165  |  0.0  |  5   |\n",
            "| 806007912  |   30208503  |  0.0  |  1   |\n",
            "| 806007912  |   30221719  |  0.0  |  2   |\n",
            "| 806007912  |   30224130  |  0.0  |  3   |\n",
            "| 806007912  |   30224083  |  0.0  |  4   |\n",
            "| 806007912  |   30163165  |  0.0  |  5   |\n",
            "+------------+-------------+-------+------+\n",
            "[10 rows x 4 columns]\n",
            "\n"
          ],
          "name": "stdout"
        }
      ]
    },
    {
      "cell_type": "markdown",
      "metadata": {
        "id": "rt1oYyEtGEn3",
        "colab_type": "text"
      },
      "source": [
        "### 1.5 Evaluación de Modelos \n",
        "Con el fin de establecer cual es el mejor modelo entre los tres probados, se realiza una validación de estos de forma conjunta "
      ]
    },
    {
      "cell_type": "code",
      "metadata": {
        "id": "tIVMOHxIa19d",
        "colab_type": "code",
        "outputId": "34ef5ed5-2f38-4e31-a1b7-cda8de0d38a1",
        "colab": {
          "base_uri": "https://localhost:8080/",
          "height": 1000
        }
      },
      "source": [
        "evaluacion_modelos('normalizado',test_data)"
      ],
      "execution_count": 210,
      "outputs": [
        {
          "output_type": "stream",
          "text": [
            "PROGRESS: Evaluate model Modelo basado en contenido\n"
          ],
          "name": "stdout"
        },
        {
          "output_type": "display_data",
          "data": {
            "text/html": [
              "<pre>recommendations finished on 1000/13234 queries. users per second: 59984.4</pre>"
            ],
            "text/plain": [
              "recommendations finished on 1000/13234 queries. users per second: 59984.4"
            ]
          },
          "metadata": {
            "tags": []
          }
        },
        {
          "output_type": "display_data",
          "data": {
            "text/html": [
              "<pre>recommendations finished on 2000/13234 queries. users per second: 60596.9</pre>"
            ],
            "text/plain": [
              "recommendations finished on 2000/13234 queries. users per second: 60596.9"
            ]
          },
          "metadata": {
            "tags": []
          }
        },
        {
          "output_type": "display_data",
          "data": {
            "text/html": [
              "<pre>recommendations finished on 3000/13234 queries. users per second: 61496.8</pre>"
            ],
            "text/plain": [
              "recommendations finished on 3000/13234 queries. users per second: 61496.8"
            ]
          },
          "metadata": {
            "tags": []
          }
        },
        {
          "output_type": "display_data",
          "data": {
            "text/html": [
              "<pre>recommendations finished on 4000/13234 queries. users per second: 61395.8</pre>"
            ],
            "text/plain": [
              "recommendations finished on 4000/13234 queries. users per second: 61395.8"
            ]
          },
          "metadata": {
            "tags": []
          }
        },
        {
          "output_type": "display_data",
          "data": {
            "text/html": [
              "<pre>recommendations finished on 5000/13234 queries. users per second: 63416.4</pre>"
            ],
            "text/plain": [
              "recommendations finished on 5000/13234 queries. users per second: 63416.4"
            ]
          },
          "metadata": {
            "tags": []
          }
        },
        {
          "output_type": "display_data",
          "data": {
            "text/html": [
              "<pre>recommendations finished on 6000/13234 queries. users per second: 63691.6</pre>"
            ],
            "text/plain": [
              "recommendations finished on 6000/13234 queries. users per second: 63691.6"
            ]
          },
          "metadata": {
            "tags": []
          }
        },
        {
          "output_type": "display_data",
          "data": {
            "text/html": [
              "<pre>recommendations finished on 7000/13234 queries. users per second: 63755.8</pre>"
            ],
            "text/plain": [
              "recommendations finished on 7000/13234 queries. users per second: 63755.8"
            ]
          },
          "metadata": {
            "tags": []
          }
        },
        {
          "output_type": "display_data",
          "data": {
            "text/html": [
              "<pre>recommendations finished on 8000/13234 queries. users per second: 64195.2</pre>"
            ],
            "text/plain": [
              "recommendations finished on 8000/13234 queries. users per second: 64195.2"
            ]
          },
          "metadata": {
            "tags": []
          }
        },
        {
          "output_type": "display_data",
          "data": {
            "text/html": [
              "<pre>recommendations finished on 9000/13234 queries. users per second: 64800.9</pre>"
            ],
            "text/plain": [
              "recommendations finished on 9000/13234 queries. users per second: 64800.9"
            ]
          },
          "metadata": {
            "tags": []
          }
        },
        {
          "output_type": "display_data",
          "data": {
            "text/html": [
              "<pre>recommendations finished on 10000/13234 queries. users per second: 64972.2</pre>"
            ],
            "text/plain": [
              "recommendations finished on 10000/13234 queries. users per second: 64972.2"
            ]
          },
          "metadata": {
            "tags": []
          }
        },
        {
          "output_type": "display_data",
          "data": {
            "text/html": [
              "<pre>recommendations finished on 11000/13234 queries. users per second: 63881.4</pre>"
            ],
            "text/plain": [
              "recommendations finished on 11000/13234 queries. users per second: 63881.4"
            ]
          },
          "metadata": {
            "tags": []
          }
        },
        {
          "output_type": "display_data",
          "data": {
            "text/html": [
              "<pre>recommendations finished on 12000/13234 queries. users per second: 62672.3</pre>"
            ],
            "text/plain": [
              "recommendations finished on 12000/13234 queries. users per second: 62672.3"
            ]
          },
          "metadata": {
            "tags": []
          }
        },
        {
          "output_type": "display_data",
          "data": {
            "text/html": [
              "<pre>recommendations finished on 13000/13234 queries. users per second: 62162.9</pre>"
            ],
            "text/plain": [
              "recommendations finished on 13000/13234 queries. users per second: 62162.9"
            ]
          },
          "metadata": {
            "tags": []
          }
        },
        {
          "output_type": "stream",
          "text": [
            "/usr/local/lib/python3.6/dist-packages/turicreate/aggregate.py:92: UserWarning: Passing parameter(s) to COUNT is deprecated. This functionality will be removed in the next major release. Any passed parameters are ignored.\n",
            "  + 'the next major release. Any passed parameters are ignored.')\n"
          ],
          "name": "stderr"
        },
        {
          "output_type": "stream",
          "text": [
            "\n",
            "Precision and recall summary statistics by cutoff\n",
            "+--------+------------------------+------------------------+\n",
            "| cutoff |     mean_precision     |      mean_recall       |\n",
            "+--------+------------------------+------------------------+\n",
            "|   1    | 7.556294393229561e-05  | 1.8890735983073904e-05 |\n",
            "|   2    | 7.556294393229561e-05  | 4.407838396050571e-05  |\n",
            "|   3    | 7.556294393229566e-05  | 8.185985592665368e-05  |\n",
            "|   4    | 9.445367991536947e-05  | 0.0001158631806961866  |\n",
            "|   5    | 0.00010578812150521404 | 0.00026698906856077736 |\n",
            "|   6    | 0.00011334441589844335 | 0.0003677396604705052  |\n",
            "|   7    | 0.00011874176903646443 | 0.0005188655483350956  |\n",
            "|   8    | 0.0001038990479069065  | 0.0005188655483350959  |\n",
            "|   9    | 9.235470925058353e-05  | 0.0005188655483350954  |\n",
            "|   10   | 9.823182711198432e-05  | 0.0005434235051130925  |\n",
            "+--------+------------------------+------------------------+\n",
            "[10 rows x 3 columns]\n",
            "\n",
            "\n",
            "Overall RMSE: 0.08513844447242976\n",
            "\n",
            "Per User RMSE (best)\n",
            "+------------+------------------------+-------+\n",
            "| ID_CLIENTE |          rmse          | count |\n",
            "+------------+------------------------+-------+\n",
            "| 800189984  | 2.1334103439028633e-05 |   1   |\n",
            "+------------+------------------------+-------+\n",
            "[1 rows x 3 columns]\n",
            "\n",
            "\n",
            "Per User RMSE (worst)\n",
            "+------------+--------------------+-------+\n",
            "| ID_CLIENTE |        rmse        | count |\n",
            "+------------+--------------------+-------+\n",
            "| 800021308  | 0.9962958533570296 |   2   |\n",
            "+------------+--------------------+-------+\n",
            "[1 rows x 3 columns]\n",
            "\n",
            "\n",
            "Per Item RMSE (best)\n",
            "+-------------+---------------------+-------+\n",
            "| ID_PRODUCTO |         rmse        | count |\n",
            "+-------------+---------------------+-------+\n",
            "|   30196094  | 0.00600339301986951 |  214  |\n",
            "+-------------+---------------------+-------+\n",
            "[1 rows x 3 columns]\n",
            "\n",
            "\n",
            "Per Item RMSE (worst)\n",
            "+-------------+------+-------+\n",
            "| ID_PRODUCTO | rmse | count |\n",
            "+-------------+------+-------+\n",
            "|   30200140  | 1.0  |   1   |\n",
            "+-------------+------+-------+\n",
            "[1 rows x 3 columns]\n",
            "\n",
            "PROGRESS: Evaluate model Modelo Colaborativo - Distancia Coseno\n"
          ],
          "name": "stdout"
        },
        {
          "output_type": "display_data",
          "data": {
            "text/html": [
              "<pre>recommendations finished on 1000/13234 queries. users per second: 50579.1</pre>"
            ],
            "text/plain": [
              "recommendations finished on 1000/13234 queries. users per second: 50579.1"
            ]
          },
          "metadata": {
            "tags": []
          }
        },
        {
          "output_type": "display_data",
          "data": {
            "text/html": [
              "<pre>recommendations finished on 2000/13234 queries. users per second: 49155.7</pre>"
            ],
            "text/plain": [
              "recommendations finished on 2000/13234 queries. users per second: 49155.7"
            ]
          },
          "metadata": {
            "tags": []
          }
        },
        {
          "output_type": "display_data",
          "data": {
            "text/html": [
              "<pre>recommendations finished on 3000/13234 queries. users per second: 49525.4</pre>"
            ],
            "text/plain": [
              "recommendations finished on 3000/13234 queries. users per second: 49525.4"
            ]
          },
          "metadata": {
            "tags": []
          }
        },
        {
          "output_type": "display_data",
          "data": {
            "text/html": [
              "<pre>recommendations finished on 4000/13234 queries. users per second: 50351.2</pre>"
            ],
            "text/plain": [
              "recommendations finished on 4000/13234 queries. users per second: 50351.2"
            ]
          },
          "metadata": {
            "tags": []
          }
        },
        {
          "output_type": "display_data",
          "data": {
            "text/html": [
              "<pre>recommendations finished on 5000/13234 queries. users per second: 48987.9</pre>"
            ],
            "text/plain": [
              "recommendations finished on 5000/13234 queries. users per second: 48987.9"
            ]
          },
          "metadata": {
            "tags": []
          }
        },
        {
          "output_type": "display_data",
          "data": {
            "text/html": [
              "<pre>recommendations finished on 6000/13234 queries. users per second: 48513.9</pre>"
            ],
            "text/plain": [
              "recommendations finished on 6000/13234 queries. users per second: 48513.9"
            ]
          },
          "metadata": {
            "tags": []
          }
        },
        {
          "output_type": "display_data",
          "data": {
            "text/html": [
              "<pre>recommendations finished on 7000/13234 queries. users per second: 48642.5</pre>"
            ],
            "text/plain": [
              "recommendations finished on 7000/13234 queries. users per second: 48642.5"
            ]
          },
          "metadata": {
            "tags": []
          }
        },
        {
          "output_type": "display_data",
          "data": {
            "text/html": [
              "<pre>recommendations finished on 8000/13234 queries. users per second: 49025.6</pre>"
            ],
            "text/plain": [
              "recommendations finished on 8000/13234 queries. users per second: 49025.6"
            ]
          },
          "metadata": {
            "tags": []
          }
        },
        {
          "output_type": "display_data",
          "data": {
            "text/html": [
              "<pre>recommendations finished on 9000/13234 queries. users per second: 49237.6</pre>"
            ],
            "text/plain": [
              "recommendations finished on 9000/13234 queries. users per second: 49237.6"
            ]
          },
          "metadata": {
            "tags": []
          }
        },
        {
          "output_type": "display_data",
          "data": {
            "text/html": [
              "<pre>recommendations finished on 10000/13234 queries. users per second: 49599.5</pre>"
            ],
            "text/plain": [
              "recommendations finished on 10000/13234 queries. users per second: 49599.5"
            ]
          },
          "metadata": {
            "tags": []
          }
        },
        {
          "output_type": "display_data",
          "data": {
            "text/html": [
              "<pre>recommendations finished on 11000/13234 queries. users per second: 49085</pre>"
            ],
            "text/plain": [
              "recommendations finished on 11000/13234 queries. users per second: 49085"
            ]
          },
          "metadata": {
            "tags": []
          }
        },
        {
          "output_type": "display_data",
          "data": {
            "text/html": [
              "<pre>recommendations finished on 12000/13234 queries. users per second: 47718.5</pre>"
            ],
            "text/plain": [
              "recommendations finished on 12000/13234 queries. users per second: 47718.5"
            ]
          },
          "metadata": {
            "tags": []
          }
        },
        {
          "output_type": "display_data",
          "data": {
            "text/html": [
              "<pre>recommendations finished on 13000/13234 queries. users per second: 46428.4</pre>"
            ],
            "text/plain": [
              "recommendations finished on 13000/13234 queries. users per second: 46428.4"
            ]
          },
          "metadata": {
            "tags": []
          }
        },
        {
          "output_type": "stream",
          "text": [
            "\n",
            "Precision and recall summary statistics by cutoff\n",
            "+--------+----------------------+---------------------+\n",
            "| cutoff |    mean_precision    |     mean_recall     |\n",
            "+--------+----------------------+---------------------+\n",
            "|   1    | 0.09369805047604664  |  0.0573400104897074 |\n",
            "|   2    | 0.08372374187698353  | 0.10010288939084198 |\n",
            "|   3    |  0.0731197420784849  | 0.12578136332909004 |\n",
            "|   4    | 0.06878116971437222  | 0.15620571192249272 |\n",
            "|   5    |  0.0646365422396857  | 0.18057275144395885 |\n",
            "|   6    | 0.06621832653266836  | 0.22846508419247752 |\n",
            "|   7    | 0.06253373345711283  | 0.24950021282138501 |\n",
            "|   8    | 0.06176326129666012  | 0.28216452077911003 |\n",
            "|   9    | 0.05898107568048609  |  0.3004831310697688 |\n",
            "|   10   | 0.057359830739005545 |  0.3223786068794407 |\n",
            "+--------+----------------------+---------------------+\n",
            "[10 rows x 3 columns]\n",
            "\n",
            "\n",
            "Overall RMSE: 0.0882987855811103\n",
            "\n",
            "Per User RMSE (best)\n",
            "+------------+------+-------+\n",
            "| ID_CLIENTE | rmse | count |\n",
            "+------------+------+-------+\n",
            "| 901060665  | 0.0  |   1   |\n",
            "+------------+------+-------+\n",
            "[1 rows x 3 columns]\n",
            "\n",
            "\n",
            "Per User RMSE (worst)\n",
            "+------------+------+-------+\n",
            "| ID_CLIENTE | rmse | count |\n",
            "+------------+------+-------+\n",
            "| 890937619  | 1.0  |   1   |\n",
            "+------------+------+-------+\n",
            "[1 rows x 3 columns]\n",
            "\n",
            "\n",
            "Per Item RMSE (best)\n",
            "+-------------+------+-------+\n",
            "| ID_PRODUCTO | rmse | count |\n",
            "+-------------+------+-------+\n",
            "|   30212916  | 0.0  |   1   |\n",
            "+-------------+------+-------+\n",
            "[1 rows x 3 columns]\n",
            "\n",
            "\n",
            "Per Item RMSE (worst)\n",
            "+-------------+------+-------+\n",
            "| ID_PRODUCTO | rmse | count |\n",
            "+-------------+------+-------+\n",
            "|   30170791  | 1.0  |   1   |\n",
            "+-------------+------+-------+\n",
            "[1 rows x 3 columns]\n",
            "\n",
            "PROGRESS: Evaluate model Modelo Colaborativo - Pearson\n"
          ],
          "name": "stdout"
        },
        {
          "output_type": "display_data",
          "data": {
            "text/html": [
              "<pre>recommendations finished on 1000/13234 queries. users per second: 49977.5</pre>"
            ],
            "text/plain": [
              "recommendations finished on 1000/13234 queries. users per second: 49977.5"
            ]
          },
          "metadata": {
            "tags": []
          }
        },
        {
          "output_type": "display_data",
          "data": {
            "text/html": [
              "<pre>recommendations finished on 2000/13234 queries. users per second: 47789.7</pre>"
            ],
            "text/plain": [
              "recommendations finished on 2000/13234 queries. users per second: 47789.7"
            ]
          },
          "metadata": {
            "tags": []
          }
        },
        {
          "output_type": "display_data",
          "data": {
            "text/html": [
              "<pre>recommendations finished on 3000/13234 queries. users per second: 49558.1</pre>"
            ],
            "text/plain": [
              "recommendations finished on 3000/13234 queries. users per second: 49558.1"
            ]
          },
          "metadata": {
            "tags": []
          }
        },
        {
          "output_type": "display_data",
          "data": {
            "text/html": [
              "<pre>recommendations finished on 4000/13234 queries. users per second: 50764</pre>"
            ],
            "text/plain": [
              "recommendations finished on 4000/13234 queries. users per second: 50764"
            ]
          },
          "metadata": {
            "tags": []
          }
        },
        {
          "output_type": "display_data",
          "data": {
            "text/html": [
              "<pre>recommendations finished on 5000/13234 queries. users per second: 50798</pre>"
            ],
            "text/plain": [
              "recommendations finished on 5000/13234 queries. users per second: 50798"
            ]
          },
          "metadata": {
            "tags": []
          }
        },
        {
          "output_type": "display_data",
          "data": {
            "text/html": [
              "<pre>recommendations finished on 6000/13234 queries. users per second: 50549.7</pre>"
            ],
            "text/plain": [
              "recommendations finished on 6000/13234 queries. users per second: 50549.7"
            ]
          },
          "metadata": {
            "tags": []
          }
        },
        {
          "output_type": "display_data",
          "data": {
            "text/html": [
              "<pre>recommendations finished on 7000/13234 queries. users per second: 50567.4</pre>"
            ],
            "text/plain": [
              "recommendations finished on 7000/13234 queries. users per second: 50567.4"
            ]
          },
          "metadata": {
            "tags": []
          }
        },
        {
          "output_type": "display_data",
          "data": {
            "text/html": [
              "<pre>recommendations finished on 8000/13234 queries. users per second: 51071.2</pre>"
            ],
            "text/plain": [
              "recommendations finished on 8000/13234 queries. users per second: 51071.2"
            ]
          },
          "metadata": {
            "tags": []
          }
        },
        {
          "output_type": "display_data",
          "data": {
            "text/html": [
              "<pre>recommendations finished on 9000/13234 queries. users per second: 52475.4</pre>"
            ],
            "text/plain": [
              "recommendations finished on 9000/13234 queries. users per second: 52475.4"
            ]
          },
          "metadata": {
            "tags": []
          }
        },
        {
          "output_type": "display_data",
          "data": {
            "text/html": [
              "<pre>recommendations finished on 10000/13234 queries. users per second: 52420.5</pre>"
            ],
            "text/plain": [
              "recommendations finished on 10000/13234 queries. users per second: 52420.5"
            ]
          },
          "metadata": {
            "tags": []
          }
        },
        {
          "output_type": "display_data",
          "data": {
            "text/html": [
              "<pre>recommendations finished on 11000/13234 queries. users per second: 52589.3</pre>"
            ],
            "text/plain": [
              "recommendations finished on 11000/13234 queries. users per second: 52589.3"
            ]
          },
          "metadata": {
            "tags": []
          }
        },
        {
          "output_type": "display_data",
          "data": {
            "text/html": [
              "<pre>recommendations finished on 12000/13234 queries. users per second: 52156.9</pre>"
            ],
            "text/plain": [
              "recommendations finished on 12000/13234 queries. users per second: 52156.9"
            ]
          },
          "metadata": {
            "tags": []
          }
        },
        {
          "output_type": "display_data",
          "data": {
            "text/html": [
              "<pre>recommendations finished on 13000/13234 queries. users per second: 49526.5</pre>"
            ],
            "text/plain": [
              "recommendations finished on 13000/13234 queries. users per second: 49526.5"
            ]
          },
          "metadata": {
            "tags": []
          }
        },
        {
          "output_type": "stream",
          "text": [
            "\n",
            "Precision and recall summary statistics by cutoff\n",
            "+--------+------------------------+------------------------+\n",
            "| cutoff |     mean_precision     |      mean_recall       |\n",
            "+--------+------------------------+------------------------+\n",
            "|   1    | 7.556294393229561e-05  | 1.8890735983073904e-05 |\n",
            "|   2    | 7.556294393229561e-05  | 4.407838396050573e-05  |\n",
            "|   3    | 7.556294393229561e-05  |  8.18598559266536e-05  |\n",
            "|   4    |  9.44536799153695e-05  | 0.00011586318069618649 |\n",
            "|   5    | 0.00010578812150521372 | 0.00026698906856077693 |\n",
            "|   6    | 0.00011334441589844339 |  0.000367739660470506  |\n",
            "|   7    | 0.00011874176903646475 | 0.0005188655483350971  |\n",
            "|   8    | 0.00010389904790690649 | 0.0005188655483350974  |\n",
            "|   9    | 9.235470925058366e-05  | 0.0005188655483350956  |\n",
            "|   10   | 9.067553271875468e-05  | 0.0005339781371215545  |\n",
            "+--------+------------------------+------------------------+\n",
            "[10 rows x 3 columns]\n",
            "\n",
            "\n",
            "Overall RMSE: 0.08408501681677932\n",
            "\n",
            "Per User RMSE (best)\n",
            "+------------+------+-------+\n",
            "| ID_CLIENTE | rmse | count |\n",
            "+------------+------+-------+\n",
            "| 900831635  | 0.0  |   1   |\n",
            "+------------+------+-------+\n",
            "[1 rows x 3 columns]\n",
            "\n",
            "\n",
            "Per User RMSE (worst)\n",
            "+------------+------+-------+\n",
            "| ID_CLIENTE | rmse | count |\n",
            "+------------+------+-------+\n",
            "|  17348335  | 1.0  |   1   |\n",
            "+------------+------+-------+\n",
            "[1 rows x 3 columns]\n",
            "\n",
            "\n",
            "Per Item RMSE (best)\n",
            "+-------------+----------------------+-------+\n",
            "| ID_PRODUCTO |         rmse         | count |\n",
            "+-------------+----------------------+-------+\n",
            "|   30196094  | 0.005856732604919737 |  214  |\n",
            "+-------------+----------------------+-------+\n",
            "[1 rows x 3 columns]\n",
            "\n",
            "\n",
            "Per Item RMSE (worst)\n",
            "+-------------+------+-------+\n",
            "| ID_PRODUCTO | rmse | count |\n",
            "+-------------+------+-------+\n",
            "|   30200140  | 1.0  |   1   |\n",
            "+-------------+------+-------+\n",
            "[1 rows x 3 columns]\n",
            "\n"
          ],
          "name": "stdout"
        }
      ]
    },
    {
      "cell_type": "code",
      "metadata": {
        "id": "jbarhzLxexiC",
        "colab_type": "code",
        "outputId": "fe2a6f80-10f0-41e1-c6e3-9aea67512923",
        "colab": {
          "base_uri": "https://localhost:8080/",
          "height": 1000
        }
      },
      "source": [
        "evaluacion_modelos('dummy',test_data_dummy)  "
      ],
      "execution_count": 211,
      "outputs": [
        {
          "output_type": "stream",
          "text": [
            "PROGRESS: Evaluate model Modelo Dummy basado en contenido\n"
          ],
          "name": "stdout"
        },
        {
          "output_type": "display_data",
          "data": {
            "text/html": [
              "<pre>recommendations finished on 1000/16479 queries. users per second: 46663.6</pre>"
            ],
            "text/plain": [
              "recommendations finished on 1000/16479 queries. users per second: 46663.6"
            ]
          },
          "metadata": {
            "tags": []
          }
        },
        {
          "output_type": "display_data",
          "data": {
            "text/html": [
              "<pre>recommendations finished on 2000/16479 queries. users per second: 53587.7</pre>"
            ],
            "text/plain": [
              "recommendations finished on 2000/16479 queries. users per second: 53587.7"
            ]
          },
          "metadata": {
            "tags": []
          }
        },
        {
          "output_type": "display_data",
          "data": {
            "text/html": [
              "<pre>recommendations finished on 3000/16479 queries. users per second: 56026.6</pre>"
            ],
            "text/plain": [
              "recommendations finished on 3000/16479 queries. users per second: 56026.6"
            ]
          },
          "metadata": {
            "tags": []
          }
        },
        {
          "output_type": "display_data",
          "data": {
            "text/html": [
              "<pre>recommendations finished on 4000/16479 queries. users per second: 58936.2</pre>"
            ],
            "text/plain": [
              "recommendations finished on 4000/16479 queries. users per second: 58936.2"
            ]
          },
          "metadata": {
            "tags": []
          }
        },
        {
          "output_type": "display_data",
          "data": {
            "text/html": [
              "<pre>recommendations finished on 5000/16479 queries. users per second: 61342.9</pre>"
            ],
            "text/plain": [
              "recommendations finished on 5000/16479 queries. users per second: 61342.9"
            ]
          },
          "metadata": {
            "tags": []
          }
        },
        {
          "output_type": "display_data",
          "data": {
            "text/html": [
              "<pre>recommendations finished on 6000/16479 queries. users per second: 62565.2</pre>"
            ],
            "text/plain": [
              "recommendations finished on 6000/16479 queries. users per second: 62565.2"
            ]
          },
          "metadata": {
            "tags": []
          }
        },
        {
          "output_type": "display_data",
          "data": {
            "text/html": [
              "<pre>recommendations finished on 7000/16479 queries. users per second: 63477.7</pre>"
            ],
            "text/plain": [
              "recommendations finished on 7000/16479 queries. users per second: 63477.7"
            ]
          },
          "metadata": {
            "tags": []
          }
        },
        {
          "output_type": "display_data",
          "data": {
            "text/html": [
              "<pre>recommendations finished on 8000/16479 queries. users per second: 63948.3</pre>"
            ],
            "text/plain": [
              "recommendations finished on 8000/16479 queries. users per second: 63948.3"
            ]
          },
          "metadata": {
            "tags": []
          }
        },
        {
          "output_type": "display_data",
          "data": {
            "text/html": [
              "<pre>recommendations finished on 9000/16479 queries. users per second: 64412.7</pre>"
            ],
            "text/plain": [
              "recommendations finished on 9000/16479 queries. users per second: 64412.7"
            ]
          },
          "metadata": {
            "tags": []
          }
        },
        {
          "output_type": "display_data",
          "data": {
            "text/html": [
              "<pre>recommendations finished on 10000/16479 queries. users per second: 63759.7</pre>"
            ],
            "text/plain": [
              "recommendations finished on 10000/16479 queries. users per second: 63759.7"
            ]
          },
          "metadata": {
            "tags": []
          }
        },
        {
          "output_type": "display_data",
          "data": {
            "text/html": [
              "<pre>recommendations finished on 11000/16479 queries. users per second: 64240</pre>"
            ],
            "text/plain": [
              "recommendations finished on 11000/16479 queries. users per second: 64240"
            ]
          },
          "metadata": {
            "tags": []
          }
        },
        {
          "output_type": "display_data",
          "data": {
            "text/html": [
              "<pre>recommendations finished on 12000/16479 queries. users per second: 64644.4</pre>"
            ],
            "text/plain": [
              "recommendations finished on 12000/16479 queries. users per second: 64644.4"
            ]
          },
          "metadata": {
            "tags": []
          }
        },
        {
          "output_type": "display_data",
          "data": {
            "text/html": [
              "<pre>recommendations finished on 13000/16479 queries. users per second: 64970.1</pre>"
            ],
            "text/plain": [
              "recommendations finished on 13000/16479 queries. users per second: 64970.1"
            ]
          },
          "metadata": {
            "tags": []
          }
        },
        {
          "output_type": "display_data",
          "data": {
            "text/html": [
              "<pre>recommendations finished on 14000/16479 queries. users per second: 65204.2</pre>"
            ],
            "text/plain": [
              "recommendations finished on 14000/16479 queries. users per second: 65204.2"
            ]
          },
          "metadata": {
            "tags": []
          }
        },
        {
          "output_type": "display_data",
          "data": {
            "text/html": [
              "<pre>recommendations finished on 15000/16479 queries. users per second: 63691.3</pre>"
            ],
            "text/plain": [
              "recommendations finished on 15000/16479 queries. users per second: 63691.3"
            ]
          },
          "metadata": {
            "tags": []
          }
        },
        {
          "output_type": "display_data",
          "data": {
            "text/html": [
              "<pre>recommendations finished on 16000/16479 queries. users per second: 62886.9</pre>"
            ],
            "text/plain": [
              "recommendations finished on 16000/16479 queries. users per second: 62886.9"
            ]
          },
          "metadata": {
            "tags": []
          }
        },
        {
          "output_type": "stream",
          "text": [
            "/usr/local/lib/python3.6/dist-packages/turicreate/aggregate.py:92: UserWarning: Passing parameter(s) to COUNT is deprecated. This functionality will be removed in the next major release. Any passed parameters are ignored.\n",
            "  + 'the next major release. Any passed parameters are ignored.')\n"
          ],
          "name": "stderr"
        },
        {
          "output_type": "stream",
          "text": [
            "\n",
            "Precision and recall summary statistics by cutoff\n",
            "+--------+------------------------+------------------------+\n",
            "| cutoff |     mean_precision     |      mean_recall       |\n",
            "+--------+------------------------+------------------------+\n",
            "|   1    | 0.00030341646944596163 | 7.500009673739604e-05  |\n",
            "|   2    | 0.0003034164694459616  | 0.00017631952492738704 |\n",
            "|   3    | 0.0003640997633351533  | 0.00038020913016283033 |\n",
            "|   4    | 0.0003944414102797501  | 0.0004923297725076306  |\n",
            "|   5    | 0.0005825596213362453  | 0.0011330248315809728  |\n",
            "|   6    | 0.0005764912919473278  | 0.0012596734009757092  |\n",
            "|   7    |  0.000702192400717796  | 0.0014523804618404765  |\n",
            "|   8    | 0.0007964682322956489  | 0.0018496354790189312  |\n",
            "|   9    | 0.0008091105851892287  | 0.0021113020908438158  |\n",
            "|   10   | 0.0008070878087262558  | 0.0024506195587795172  |\n",
            "+--------+------------------------+------------------------+\n",
            "[10 rows x 3 columns]\n",
            "\n",
            "\n",
            "Overall RMSE: 0.0\n",
            "\n",
            "Per User RMSE (best)\n",
            "+------------+------+-------+\n",
            "| ID_CLIENTE | rmse | count |\n",
            "+------------+------+-------+\n",
            "| 890802586  | 0.0  |  110  |\n",
            "+------------+------+-------+\n",
            "[1 rows x 3 columns]\n",
            "\n",
            "\n",
            "Per User RMSE (worst)\n",
            "+------------+------+-------+\n",
            "| ID_CLIENTE | rmse | count |\n",
            "+------------+------+-------+\n",
            "| 900549037  | 0.0  |   1   |\n",
            "+------------+------+-------+\n",
            "[1 rows x 3 columns]\n",
            "\n",
            "\n",
            "Per Item RMSE (best)\n",
            "+-------------+------+-------+\n",
            "| ID_PRODUCTO | rmse | count |\n",
            "+-------------+------+-------+\n",
            "|   30196193  | 0.0  |   4   |\n",
            "+-------------+------+-------+\n",
            "[1 rows x 3 columns]\n",
            "\n",
            "\n",
            "Per Item RMSE (worst)\n",
            "+-------------+------+-------+\n",
            "| ID_PRODUCTO | rmse | count |\n",
            "+-------------+------+-------+\n",
            "|   30216581  | 0.0  |  718  |\n",
            "+-------------+------+-------+\n",
            "[1 rows x 3 columns]\n",
            "\n",
            "PROGRESS: Evaluate model Modelo Dummy Colaborativo - Distancia Coseno\n"
          ],
          "name": "stdout"
        },
        {
          "output_type": "display_data",
          "data": {
            "text/html": [
              "<pre>recommendations finished on 1000/16479 queries. users per second: 50263.9</pre>"
            ],
            "text/plain": [
              "recommendations finished on 1000/16479 queries. users per second: 50263.9"
            ]
          },
          "metadata": {
            "tags": []
          }
        },
        {
          "output_type": "display_data",
          "data": {
            "text/html": [
              "<pre>recommendations finished on 2000/16479 queries. users per second: 55064.6</pre>"
            ],
            "text/plain": [
              "recommendations finished on 2000/16479 queries. users per second: 55064.6"
            ]
          },
          "metadata": {
            "tags": []
          }
        },
        {
          "output_type": "display_data",
          "data": {
            "text/html": [
              "<pre>recommendations finished on 3000/16479 queries. users per second: 55428.3</pre>"
            ],
            "text/plain": [
              "recommendations finished on 3000/16479 queries. users per second: 55428.3"
            ]
          },
          "metadata": {
            "tags": []
          }
        },
        {
          "output_type": "display_data",
          "data": {
            "text/html": [
              "<pre>recommendations finished on 4000/16479 queries. users per second: 56162.4</pre>"
            ],
            "text/plain": [
              "recommendations finished on 4000/16479 queries. users per second: 56162.4"
            ]
          },
          "metadata": {
            "tags": []
          }
        },
        {
          "output_type": "display_data",
          "data": {
            "text/html": [
              "<pre>recommendations finished on 5000/16479 queries. users per second: 56406.7</pre>"
            ],
            "text/plain": [
              "recommendations finished on 5000/16479 queries. users per second: 56406.7"
            ]
          },
          "metadata": {
            "tags": []
          }
        },
        {
          "output_type": "display_data",
          "data": {
            "text/html": [
              "<pre>recommendations finished on 6000/16479 queries. users per second: 55966</pre>"
            ],
            "text/plain": [
              "recommendations finished on 6000/16479 queries. users per second: 55966"
            ]
          },
          "metadata": {
            "tags": []
          }
        },
        {
          "output_type": "display_data",
          "data": {
            "text/html": [
              "<pre>recommendations finished on 7000/16479 queries. users per second: 56865.7</pre>"
            ],
            "text/plain": [
              "recommendations finished on 7000/16479 queries. users per second: 56865.7"
            ]
          },
          "metadata": {
            "tags": []
          }
        },
        {
          "output_type": "display_data",
          "data": {
            "text/html": [
              "<pre>recommendations finished on 8000/16479 queries. users per second: 56843.2</pre>"
            ],
            "text/plain": [
              "recommendations finished on 8000/16479 queries. users per second: 56843.2"
            ]
          },
          "metadata": {
            "tags": []
          }
        },
        {
          "output_type": "display_data",
          "data": {
            "text/html": [
              "<pre>recommendations finished on 9000/16479 queries. users per second: 57243.9</pre>"
            ],
            "text/plain": [
              "recommendations finished on 9000/16479 queries. users per second: 57243.9"
            ]
          },
          "metadata": {
            "tags": []
          }
        },
        {
          "output_type": "display_data",
          "data": {
            "text/html": [
              "<pre>recommendations finished on 10000/16479 queries. users per second: 57199.1</pre>"
            ],
            "text/plain": [
              "recommendations finished on 10000/16479 queries. users per second: 57199.1"
            ]
          },
          "metadata": {
            "tags": []
          }
        },
        {
          "output_type": "display_data",
          "data": {
            "text/html": [
              "<pre>recommendations finished on 11000/16479 queries. users per second: 57093.6</pre>"
            ],
            "text/plain": [
              "recommendations finished on 11000/16479 queries. users per second: 57093.6"
            ]
          },
          "metadata": {
            "tags": []
          }
        },
        {
          "output_type": "display_data",
          "data": {
            "text/html": [
              "<pre>recommendations finished on 12000/16479 queries. users per second: 57303.6</pre>"
            ],
            "text/plain": [
              "recommendations finished on 12000/16479 queries. users per second: 57303.6"
            ]
          },
          "metadata": {
            "tags": []
          }
        },
        {
          "output_type": "display_data",
          "data": {
            "text/html": [
              "<pre>recommendations finished on 13000/16479 queries. users per second: 57490.6</pre>"
            ],
            "text/plain": [
              "recommendations finished on 13000/16479 queries. users per second: 57490.6"
            ]
          },
          "metadata": {
            "tags": []
          }
        },
        {
          "output_type": "display_data",
          "data": {
            "text/html": [
              "<pre>recommendations finished on 14000/16479 queries. users per second: 57525.1</pre>"
            ],
            "text/plain": [
              "recommendations finished on 14000/16479 queries. users per second: 57525.1"
            ]
          },
          "metadata": {
            "tags": []
          }
        },
        {
          "output_type": "display_data",
          "data": {
            "text/html": [
              "<pre>recommendations finished on 15000/16479 queries. users per second: 57340.1</pre>"
            ],
            "text/plain": [
              "recommendations finished on 15000/16479 queries. users per second: 57340.1"
            ]
          },
          "metadata": {
            "tags": []
          }
        },
        {
          "output_type": "display_data",
          "data": {
            "text/html": [
              "<pre>recommendations finished on 16000/16479 queries. users per second: 55802.4</pre>"
            ],
            "text/plain": [
              "recommendations finished on 16000/16479 queries. users per second: 55802.4"
            ]
          },
          "metadata": {
            "tags": []
          }
        },
        {
          "output_type": "stream",
          "text": [
            "\n",
            "Precision and recall summary statistics by cutoff\n",
            "+--------+----------------------+---------------------+\n",
            "| cutoff |    mean_precision    |     mean_recall     |\n",
            "+--------+----------------------+---------------------+\n",
            "|   1    | 0.08962922507433699  |  0.042495555449687  |\n",
            "|   2    | 0.06738879786394789  | 0.05880643215463652 |\n",
            "|   3    | 0.05641523555231926  | 0.07144822781449292 |\n",
            "|   4    | 0.04892590569816131  | 0.08043846687240291 |\n",
            "|   5    | 0.043655561623884946 | 0.08768462970328286 |\n",
            "|   6    | 0.03950482432186413  |  0.0938746295860977 |\n",
            "|   7    | 0.03640130729153151  | 0.09914151123747707 |\n",
            "|   8    | 0.03378542387280772  | 0.10421574914260802 |\n",
            "|   9    | 0.03140023329355178  | 0.10856888605320801 |\n",
            "|   10   | 0.02940105588931372  | 0.11233009188156873 |\n",
            "+--------+----------------------+---------------------+\n",
            "[10 rows x 3 columns]\n",
            "\n",
            "\n",
            "Overall RMSE: 0.8860261395696032\n",
            "\n",
            "Per User RMSE (best)\n",
            "+------------+--------------------+-------+\n",
            "| ID_CLIENTE |        rmse        | count |\n",
            "+------------+--------------------+-------+\n",
            "| 860534340  | 0.3910220265388489 |   1   |\n",
            "+------------+--------------------+-------+\n",
            "[1 rows x 3 columns]\n",
            "\n",
            "\n",
            "Per User RMSE (worst)\n",
            "+------------+------+-------+\n",
            "| ID_CLIENTE | rmse | count |\n",
            "+------------+------+-------+\n",
            "| 900130460  | 1.0  |   7   |\n",
            "+------------+------+-------+\n",
            "[1 rows x 3 columns]\n",
            "\n",
            "\n",
            "Per Item RMSE (best)\n",
            "+-------------+--------------------+-------+\n",
            "| ID_PRODUCTO |        rmse        | count |\n",
            "+-------------+--------------------+-------+\n",
            "|   30212249  | 0.7703818756799208 |  577  |\n",
            "+-------------+--------------------+-------+\n",
            "[1 rows x 3 columns]\n",
            "\n",
            "\n",
            "Per Item RMSE (worst)\n",
            "+-------------+------+-------+\n",
            "| ID_PRODUCTO | rmse | count |\n",
            "+-------------+------+-------+\n",
            "|   30179978  | 1.0  |   21  |\n",
            "+-------------+------+-------+\n",
            "[1 rows x 3 columns]\n",
            "\n",
            "PROGRESS: Evaluate model Modelo Dummy Colaborativo - Pearson\n"
          ],
          "name": "stdout"
        },
        {
          "output_type": "display_data",
          "data": {
            "text/html": [
              "<pre>recommendations finished on 1000/16479 queries. users per second: 47359.7</pre>"
            ],
            "text/plain": [
              "recommendations finished on 1000/16479 queries. users per second: 47359.7"
            ]
          },
          "metadata": {
            "tags": []
          }
        },
        {
          "output_type": "display_data",
          "data": {
            "text/html": [
              "<pre>recommendations finished on 2000/16479 queries. users per second: 52015.6</pre>"
            ],
            "text/plain": [
              "recommendations finished on 2000/16479 queries. users per second: 52015.6"
            ]
          },
          "metadata": {
            "tags": []
          }
        },
        {
          "output_type": "display_data",
          "data": {
            "text/html": [
              "<pre>recommendations finished on 3000/16479 queries. users per second: 53810.7</pre>"
            ],
            "text/plain": [
              "recommendations finished on 3000/16479 queries. users per second: 53810.7"
            ]
          },
          "metadata": {
            "tags": []
          }
        },
        {
          "output_type": "display_data",
          "data": {
            "text/html": [
              "<pre>recommendations finished on 4000/16479 queries. users per second: 55564.8</pre>"
            ],
            "text/plain": [
              "recommendations finished on 4000/16479 queries. users per second: 55564.8"
            ]
          },
          "metadata": {
            "tags": []
          }
        },
        {
          "output_type": "display_data",
          "data": {
            "text/html": [
              "<pre>recommendations finished on 5000/16479 queries. users per second: 56178.5</pre>"
            ],
            "text/plain": [
              "recommendations finished on 5000/16479 queries. users per second: 56178.5"
            ]
          },
          "metadata": {
            "tags": []
          }
        },
        {
          "output_type": "display_data",
          "data": {
            "text/html": [
              "<pre>recommendations finished on 6000/16479 queries. users per second: 55388.9</pre>"
            ],
            "text/plain": [
              "recommendations finished on 6000/16479 queries. users per second: 55388.9"
            ]
          },
          "metadata": {
            "tags": []
          }
        },
        {
          "output_type": "display_data",
          "data": {
            "text/html": [
              "<pre>recommendations finished on 7000/16479 queries. users per second: 55886.9</pre>"
            ],
            "text/plain": [
              "recommendations finished on 7000/16479 queries. users per second: 55886.9"
            ]
          },
          "metadata": {
            "tags": []
          }
        },
        {
          "output_type": "display_data",
          "data": {
            "text/html": [
              "<pre>recommendations finished on 8000/16479 queries. users per second: 56563.1</pre>"
            ],
            "text/plain": [
              "recommendations finished on 8000/16479 queries. users per second: 56563.1"
            ]
          },
          "metadata": {
            "tags": []
          }
        },
        {
          "output_type": "display_data",
          "data": {
            "text/html": [
              "<pre>recommendations finished on 9000/16479 queries. users per second: 57197</pre>"
            ],
            "text/plain": [
              "recommendations finished on 9000/16479 queries. users per second: 57197"
            ]
          },
          "metadata": {
            "tags": []
          }
        },
        {
          "output_type": "display_data",
          "data": {
            "text/html": [
              "<pre>recommendations finished on 10000/16479 queries. users per second: 57737.7</pre>"
            ],
            "text/plain": [
              "recommendations finished on 10000/16479 queries. users per second: 57737.7"
            ]
          },
          "metadata": {
            "tags": []
          }
        },
        {
          "output_type": "display_data",
          "data": {
            "text/html": [
              "<pre>recommendations finished on 11000/16479 queries. users per second: 57975.9</pre>"
            ],
            "text/plain": [
              "recommendations finished on 11000/16479 queries. users per second: 57975.9"
            ]
          },
          "metadata": {
            "tags": []
          }
        },
        {
          "output_type": "display_data",
          "data": {
            "text/html": [
              "<pre>recommendations finished on 12000/16479 queries. users per second: 57378.7</pre>"
            ],
            "text/plain": [
              "recommendations finished on 12000/16479 queries. users per second: 57378.7"
            ]
          },
          "metadata": {
            "tags": []
          }
        },
        {
          "output_type": "display_data",
          "data": {
            "text/html": [
              "<pre>recommendations finished on 13000/16479 queries. users per second: 56732.4</pre>"
            ],
            "text/plain": [
              "recommendations finished on 13000/16479 queries. users per second: 56732.4"
            ]
          },
          "metadata": {
            "tags": []
          }
        },
        {
          "output_type": "display_data",
          "data": {
            "text/html": [
              "<pre>recommendations finished on 14000/16479 queries. users per second: 55130.7</pre>"
            ],
            "text/plain": [
              "recommendations finished on 14000/16479 queries. users per second: 55130.7"
            ]
          },
          "metadata": {
            "tags": []
          }
        },
        {
          "output_type": "display_data",
          "data": {
            "text/html": [
              "<pre>recommendations finished on 15000/16479 queries. users per second: 54675.1</pre>"
            ],
            "text/plain": [
              "recommendations finished on 15000/16479 queries. users per second: 54675.1"
            ]
          },
          "metadata": {
            "tags": []
          }
        },
        {
          "output_type": "display_data",
          "data": {
            "text/html": [
              "<pre>recommendations finished on 16000/16479 queries. users per second: 53884.6</pre>"
            ],
            "text/plain": [
              "recommendations finished on 16000/16479 queries. users per second: 53884.6"
            ]
          },
          "metadata": {
            "tags": []
          }
        },
        {
          "output_type": "stream",
          "text": [
            "\n",
            "Precision and recall summary statistics by cutoff\n",
            "+--------+-----------------------+------------------------+\n",
            "| cutoff |     mean_precision    |      mean_recall       |\n",
            "+--------+-----------------------+------------------------+\n",
            "|   1    | 0.0003034164694459614 | 7.500009673739607e-05  |\n",
            "|   2    | 0.0003034164694459608 | 0.00017631952492738704 |\n",
            "|   3    | 0.0003640997633351539 | 0.00038020913016283077 |\n",
            "|   4    | 0.0003944414102797495 | 0.0004923297725076312  |\n",
            "|   5    | 0.0005825596213362458 | 0.0011330248315809745  |\n",
            "|   6    | 0.0005764912919473269 | 0.0012596734009757077  |\n",
            "|   7    | 0.0007021924007177961 | 0.0014523804618404746  |\n",
            "|   8    | 0.0007964682322956497 | 0.0018496354790189329  |\n",
            "|   9    | 0.0008091105851892289 | 0.0021113020908438093  |\n",
            "|   10   | 0.0008070878087262552 | 0.0024506195587795194  |\n",
            "+--------+-----------------------+------------------------+\n",
            "[10 rows x 3 columns]\n",
            "\n",
            "\n",
            "Overall RMSE: 1.0\n",
            "\n",
            "Per User RMSE (best)\n",
            "+------------+------+-------+\n",
            "| ID_CLIENTE | rmse | count |\n",
            "+------------+------+-------+\n",
            "| 890802586  | 1.0  |  110  |\n",
            "+------------+------+-------+\n",
            "[1 rows x 3 columns]\n",
            "\n",
            "\n",
            "Per User RMSE (worst)\n",
            "+------------+------+-------+\n",
            "| ID_CLIENTE | rmse | count |\n",
            "+------------+------+-------+\n",
            "| 900549037  | 1.0  |   1   |\n",
            "+------------+------+-------+\n",
            "[1 rows x 3 columns]\n",
            "\n",
            "\n",
            "Per Item RMSE (best)\n",
            "+-------------+------+-------+\n",
            "| ID_PRODUCTO | rmse | count |\n",
            "+-------------+------+-------+\n",
            "|   30196193  | 1.0  |   4   |\n",
            "+-------------+------+-------+\n",
            "[1 rows x 3 columns]\n",
            "\n",
            "\n",
            "Per Item RMSE (worst)\n",
            "+-------------+------+-------+\n",
            "| ID_PRODUCTO | rmse | count |\n",
            "+-------------+------+-------+\n",
            "|   30216581  | 1.0  |  718  |\n",
            "+-------------+------+-------+\n",
            "[1 rows x 3 columns]\n",
            "\n"
          ],
          "name": "stdout"
        }
      ]
    },
    {
      "cell_type": "markdown",
      "metadata": {
        "id": "0eS0qbkHwduk",
        "colab_type": "text"
      },
      "source": [
        "### 1.6 Exportar recomendaciones\n",
        "Con los resultado obtenidos podemos identificar que el mejor modelo es la distancia Coseno, por tal motivo se exporta su información . "
      ]
    },
    {
      "cell_type": "code",
      "metadata": {
        "id": "u7JAws8Yc6F2",
        "colab_type": "code",
        "outputId": "bdb2adc5-07be-4ddb-8a6c-88b1db3ca0da",
        "colab": {
          "base_uri": "https://localhost:8080/",
          "height": 408
        }
      },
      "source": [
        "from google.colab import files\n",
        "lista_clientes =  list(data_norm.ID_CLIENTE.unique())\n",
        "recomendaciones = fac_coseno.recommend(users=lista_clientes, k=5) \n",
        "resultado = recomendaciones.to_dataframe()"
      ],
      "execution_count": 212,
      "outputs": [
        {
          "output_type": "display_data",
          "data": {
            "text/html": [
              "<pre>recommendations finished on 1000/23038 queries. users per second: 127926</pre>"
            ],
            "text/plain": [
              "recommendations finished on 1000/23038 queries. users per second: 127926"
            ]
          },
          "metadata": {
            "tags": []
          }
        },
        {
          "output_type": "display_data",
          "data": {
            "text/html": [
              "<pre>recommendations finished on 2000/23038 queries. users per second: 145847</pre>"
            ],
            "text/plain": [
              "recommendations finished on 2000/23038 queries. users per second: 145847"
            ]
          },
          "metadata": {
            "tags": []
          }
        },
        {
          "output_type": "display_data",
          "data": {
            "text/html": [
              "<pre>recommendations finished on 3000/23038 queries. users per second: 143802</pre>"
            ],
            "text/plain": [
              "recommendations finished on 3000/23038 queries. users per second: 143802"
            ]
          },
          "metadata": {
            "tags": []
          }
        },
        {
          "output_type": "display_data",
          "data": {
            "text/html": [
              "<pre>recommendations finished on 4000/23038 queries. users per second: 153315</pre>"
            ],
            "text/plain": [
              "recommendations finished on 4000/23038 queries. users per second: 153315"
            ]
          },
          "metadata": {
            "tags": []
          }
        },
        {
          "output_type": "display_data",
          "data": {
            "text/html": [
              "<pre>recommendations finished on 5000/23038 queries. users per second: 161582</pre>"
            ],
            "text/plain": [
              "recommendations finished on 5000/23038 queries. users per second: 161582"
            ]
          },
          "metadata": {
            "tags": []
          }
        },
        {
          "output_type": "display_data",
          "data": {
            "text/html": [
              "<pre>recommendations finished on 6000/23038 queries. users per second: 165851</pre>"
            ],
            "text/plain": [
              "recommendations finished on 6000/23038 queries. users per second: 165851"
            ]
          },
          "metadata": {
            "tags": []
          }
        },
        {
          "output_type": "display_data",
          "data": {
            "text/html": [
              "<pre>recommendations finished on 7000/23038 queries. users per second: 162946</pre>"
            ],
            "text/plain": [
              "recommendations finished on 7000/23038 queries. users per second: 162946"
            ]
          },
          "metadata": {
            "tags": []
          }
        },
        {
          "output_type": "display_data",
          "data": {
            "text/html": [
              "<pre>recommendations finished on 8000/23038 queries. users per second: 165748</pre>"
            ],
            "text/plain": [
              "recommendations finished on 8000/23038 queries. users per second: 165748"
            ]
          },
          "metadata": {
            "tags": []
          }
        },
        {
          "output_type": "display_data",
          "data": {
            "text/html": [
              "<pre>recommendations finished on 9000/23038 queries. users per second: 168218</pre>"
            ],
            "text/plain": [
              "recommendations finished on 9000/23038 queries. users per second: 168218"
            ]
          },
          "metadata": {
            "tags": []
          }
        },
        {
          "output_type": "display_data",
          "data": {
            "text/html": [
              "<pre>recommendations finished on 10000/23038 queries. users per second: 169621</pre>"
            ],
            "text/plain": [
              "recommendations finished on 10000/23038 queries. users per second: 169621"
            ]
          },
          "metadata": {
            "tags": []
          }
        },
        {
          "output_type": "display_data",
          "data": {
            "text/html": [
              "<pre>recommendations finished on 11000/23038 queries. users per second: 170932</pre>"
            ],
            "text/plain": [
              "recommendations finished on 11000/23038 queries. users per second: 170932"
            ]
          },
          "metadata": {
            "tags": []
          }
        },
        {
          "output_type": "display_data",
          "data": {
            "text/html": [
              "<pre>recommendations finished on 12000/23038 queries. users per second: 171099</pre>"
            ],
            "text/plain": [
              "recommendations finished on 12000/23038 queries. users per second: 171099"
            ]
          },
          "metadata": {
            "tags": []
          }
        },
        {
          "output_type": "display_data",
          "data": {
            "text/html": [
              "<pre>recommendations finished on 13000/23038 queries. users per second: 171794</pre>"
            ],
            "text/plain": [
              "recommendations finished on 13000/23038 queries. users per second: 171794"
            ]
          },
          "metadata": {
            "tags": []
          }
        },
        {
          "output_type": "display_data",
          "data": {
            "text/html": [
              "<pre>recommendations finished on 14000/23038 queries. users per second: 173025</pre>"
            ],
            "text/plain": [
              "recommendations finished on 14000/23038 queries. users per second: 173025"
            ]
          },
          "metadata": {
            "tags": []
          }
        },
        {
          "output_type": "display_data",
          "data": {
            "text/html": [
              "<pre>recommendations finished on 15000/23038 queries. users per second: 174540</pre>"
            ],
            "text/plain": [
              "recommendations finished on 15000/23038 queries. users per second: 174540"
            ]
          },
          "metadata": {
            "tags": []
          }
        },
        {
          "output_type": "display_data",
          "data": {
            "text/html": [
              "<pre>recommendations finished on 16000/23038 queries. users per second: 173705</pre>"
            ],
            "text/plain": [
              "recommendations finished on 16000/23038 queries. users per second: 173705"
            ]
          },
          "metadata": {
            "tags": []
          }
        },
        {
          "output_type": "display_data",
          "data": {
            "text/html": [
              "<pre>recommendations finished on 17000/23038 queries. users per second: 173590</pre>"
            ],
            "text/plain": [
              "recommendations finished on 17000/23038 queries. users per second: 173590"
            ]
          },
          "metadata": {
            "tags": []
          }
        },
        {
          "output_type": "display_data",
          "data": {
            "text/html": [
              "<pre>recommendations finished on 18000/23038 queries. users per second: 173104</pre>"
            ],
            "text/plain": [
              "recommendations finished on 18000/23038 queries. users per second: 173104"
            ]
          },
          "metadata": {
            "tags": []
          }
        },
        {
          "output_type": "display_data",
          "data": {
            "text/html": [
              "<pre>recommendations finished on 19000/23038 queries. users per second: 171801</pre>"
            ],
            "text/plain": [
              "recommendations finished on 19000/23038 queries. users per second: 171801"
            ]
          },
          "metadata": {
            "tags": []
          }
        },
        {
          "output_type": "display_data",
          "data": {
            "text/html": [
              "<pre>recommendations finished on 20000/23038 queries. users per second: 170242</pre>"
            ],
            "text/plain": [
              "recommendations finished on 20000/23038 queries. users per second: 170242"
            ]
          },
          "metadata": {
            "tags": []
          }
        },
        {
          "output_type": "display_data",
          "data": {
            "text/html": [
              "<pre>recommendations finished on 21000/23038 queries. users per second: 169775</pre>"
            ],
            "text/plain": [
              "recommendations finished on 21000/23038 queries. users per second: 169775"
            ]
          },
          "metadata": {
            "tags": []
          }
        },
        {
          "output_type": "display_data",
          "data": {
            "text/html": [
              "<pre>recommendations finished on 22000/23038 queries. users per second: 164851</pre>"
            ],
            "text/plain": [
              "recommendations finished on 22000/23038 queries. users per second: 164851"
            ]
          },
          "metadata": {
            "tags": []
          }
        },
        {
          "output_type": "display_data",
          "data": {
            "text/html": [
              "<pre>recommendations finished on 23000/23038 queries. users per second: 158574</pre>"
            ],
            "text/plain": [
              "recommendations finished on 23000/23038 queries. users per second: 158574"
            ]
          },
          "metadata": {
            "tags": []
          }
        }
      ]
    },
    {
      "cell_type": "code",
      "metadata": {
        "id": "gBMk7LXpQMk6",
        "colab_type": "code",
        "colab": {
          "base_uri": "https://localhost:8080/",
          "height": 51
        },
        "outputId": "2549ef14-75fc-4422-f1b9-12ed18bd3fb1"
      },
      "source": [
        "resultado.to_csv('recomendaciones_prod_cliente.csv')\n",
        "# verifico el archivo \n",
        "!dir"
      ],
      "execution_count": 213,
      "outputs": [
        {
          "output_type": "stream",
          "text": [
            "clientes_segmentos.csv\trecomendaciones_prod_cliente.csv\n",
            "recomendaciones.csv\tsample_data\n"
          ],
          "name": "stdout"
        }
      ]
    },
    {
      "cell_type": "code",
      "metadata": {
        "id": "B7Wv8e02177U",
        "colab_type": "code",
        "colab": {}
      },
      "source": [
        "files.download('recomendaciones_prod_cliente.csv')"
      ],
      "execution_count": 0,
      "outputs": []
    }
  ]
}