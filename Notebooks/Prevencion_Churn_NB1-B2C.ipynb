{
  "nbformat": 4,
  "nbformat_minor": 0,
  "metadata": {
    "colab": {
      "name": "Prevencion_Churn-NB1.ipynb",
      "provenance": [],
      "collapsed_sections": [],
      "machine_shape": "hm"
    },
    "kernelspec": {
      "display_name": "Python 3",
      "language": "python",
      "name": "python3"
    },
    "language_info": {
      "codemirror_mode": {
        "name": "ipython",
        "version": 3
      },
      "file_extension": ".py",
      "mimetype": "text/x-python",
      "name": "python",
      "nbconvert_exporter": "python",
      "pygments_lexer": "ipython3",
      "version": "3.7.3"
    }
  },
  "cells": [
    {
      "cell_type": "markdown",
      "metadata": {
        "colab_type": "text",
        "id": "k1PvPRCY79m-"
      },
      "source": [
        "# Prevención Fuga de Clientes\n",
        "El enfoque de la prevención es disminuir el impacto latente de la posibilidad de que alguno de los clientes deje de comprar productos. \n",
        "Con este fin se realiza la estrategia en 3 sentidos: <br>\n",
        "**1.Motor de Recomendación** <br>\n",
        "**Objetivo:** Aumentar la penetración de los productos a los clientes con el fin de fortalecer la relación comercial y su fidelización. <br>\n",
        "Este enfoque hace parte de la primera parte del notebook, con el objetivo de generar un motor de recomendación con el cual se facilite la venta de nuevos productos por medio de estrategia de datos. <br>\n",
        "*Notebook 1: Motor de recomendación* <br>\n",
        "\n",
        "**2.Nueva segmentación de información con base en los datos de los clientes y sus transacciones** <br>\n",
        "**Objetivo:** Generar nueva información de los clientes, con el objetivo de realizar una mejor gestión de estos y plantear estrategias con base en esta nueva característica de información desarrollada. <br>\n",
        "El segundo enfoque es a través de una nueva segmentación, que permita de igual forma identificar no solo como y que es posible comprar, sino generar nuevas dimensiones de análisis, para que los equipos de business intelligence, comerciales y financieros, tengan más herramientas durante sus estrategias de negocio. <br>\n",
        "*Notebook 2: Segmentación de datos* <br>\n",
        "\n",
        "**3.Predecir la Fuga de clientes** <br>\n",
        "**Objetivo:** Desarrollar un marcaje de fuga de clientes con base en la historia transaccional de cliente, permitiendo esto entrenar un modelo de Machine Learning para predecir la posible baja de clientes. <br>\n",
        "El Tercer enfoque tiene dos frentes de trabajo, el primero permite establecer a través de variables de tendencias de compra y montos, si el cliente se encuentra \"vivo\" o no. Con base en este resultado, se activa el segundo frente, el cual a través de algoritmos de Machine Learning permite predecir la fuga de clientes con base en el marcaje realizado en la primera etapa. <br>\n",
        "*Notebook 3: Predicción Fuga Clientes* <br>\n"
      ]
    },
    {
      "cell_type": "code",
      "metadata": {
        "colab_type": "code",
        "id": "tXh_3CYtd4e4",
        "colab": {}
      },
      "source": [
        ""
      ],
      "execution_count": 0,
      "outputs": []
    },
    {
      "cell_type": "markdown",
      "metadata": {
        "colab_type": "text",
        "id": "orpOJu6j8zxg"
      },
      "source": [
        "### Fuente de datos\n",
        "Los datos usando durante la tesis son de dominio publico y hacen referencia a un comercio de Brasil. <br>\n",
        "Estos datos han sido modelados en un modelo dimensional con el fin de mejorar el performance del análisis del actual tesis y permitir generar modelos de reporting/dashboard con herramientas de BI.<br>\n",
        "Los datos han sido migrados a la plataforma github con el fin que sean de dominio publico. <br>\n"
      ]
    },
    {
      "cell_type": "markdown",
      "metadata": {
        "colab_type": "text",
        "id": "1LmmcB9U8gN_"
      },
      "source": [
        "##1. Motor de Recomendación\n",
        "\n",
        "Durante esta etapa se realizarán dos enfoques de recomendación, el primero con base en productos y el segundo con base en el comportamiento de clientes.\n",
        "\n",
        "\n",
        "### 1.1 Carga de librerias y datos"
      ]
    },
    {
      "cell_type": "code",
      "metadata": {
        "colab_type": "code",
        "id": "rlke_DiE7xb2",
        "outputId": "bbccd611-82cc-4a13-8489-524e5508e7c9",
        "scrolled": true,
        "colab": {
          "base_uri": "https://localhost:8080/",
          "height": 408
        }
      },
      "source": [
        "!pip install turicreate\n",
        "# librerias requeridas\n",
        "import turicreate as tc\n",
        "import matplotlib.pyplot as plt\n",
        "import pandas as pd\n",
        "import numpy as np\n",
        "%matplotlib inline\n",
        "from sklearn.metrics.pairwise import cosine_similarity\n",
        "from sklearn.cluster import KMeans\n",
        "from sklearn.metrics import silhouette_score\n",
        "import time\n",
        "from sklearn.model_selection import train_test_split\n"
      ],
      "execution_count": 6,
      "outputs": [
        {
          "output_type": "stream",
          "text": [
            "Requirement already satisfied: turicreate in /usr/local/lib/python3.6/dist-packages (5.8)\n",
            "Requirement already satisfied: decorator>=4.0.9 in /usr/local/lib/python3.6/dist-packages (from turicreate) (4.4.0)\n",
            "Requirement already satisfied: coremltools==3.0b3 in /usr/local/lib/python3.6/dist-packages (from turicreate) (3.0b3)\n",
            "Requirement already satisfied: mxnet<1.2.0,>=1.1.0 in /usr/local/lib/python3.6/dist-packages (from turicreate) (1.1.0.post0)\n",
            "Requirement already satisfied: numpy==1.16.4 in /usr/local/lib/python3.6/dist-packages (from turicreate) (1.16.4)\n",
            "Requirement already satisfied: resampy==0.2.1 in /usr/local/lib/python3.6/dist-packages (from turicreate) (0.2.1)\n",
            "Requirement already satisfied: requests>=2.9.1 in /usr/local/lib/python3.6/dist-packages (from turicreate) (2.21.0)\n",
            "Requirement already satisfied: prettytable==0.7.2 in /usr/local/lib/python3.6/dist-packages (from turicreate) (0.7.2)\n",
            "Requirement already satisfied: scipy>=1.1.0 in /usr/local/lib/python3.6/dist-packages (from turicreate) (1.3.1)\n",
            "Requirement already satisfied: pillow>=5.2.0 in /usr/local/lib/python3.6/dist-packages (from turicreate) (6.2.0)\n",
            "Requirement already satisfied: pandas>=0.23.2 in /usr/local/lib/python3.6/dist-packages (from turicreate) (0.24.2)\n",
            "Requirement already satisfied: six>=1.10.0 in /usr/local/lib/python3.6/dist-packages (from turicreate) (1.12.0)\n",
            "Requirement already satisfied: protobuf>=3.1.0 in /usr/local/lib/python3.6/dist-packages (from coremltools==3.0b3->turicreate) (3.7.1)\n",
            "Requirement already satisfied: graphviz<0.9.0,>=0.8.1 in /usr/local/lib/python3.6/dist-packages (from mxnet<1.2.0,>=1.1.0->turicreate) (0.8.4)\n",
            "Requirement already satisfied: numba>=0.32 in /usr/local/lib/python3.6/dist-packages (from resampy==0.2.1->turicreate) (0.40.1)\n",
            "Requirement already satisfied: urllib3<1.25,>=1.21.1 in /usr/local/lib/python3.6/dist-packages (from requests>=2.9.1->turicreate) (1.24.3)\n",
            "Requirement already satisfied: certifi>=2017.4.17 in /usr/local/lib/python3.6/dist-packages (from requests>=2.9.1->turicreate) (2019.9.11)\n",
            "Requirement already satisfied: chardet<3.1.0,>=3.0.2 in /usr/local/lib/python3.6/dist-packages (from requests>=2.9.1->turicreate) (3.0.4)\n",
            "Requirement already satisfied: idna<2.9,>=2.5 in /usr/local/lib/python3.6/dist-packages (from requests>=2.9.1->turicreate) (2.8)\n",
            "Requirement already satisfied: python-dateutil>=2.5.0 in /usr/local/lib/python3.6/dist-packages (from pandas>=0.23.2->turicreate) (2.5.3)\n",
            "Requirement already satisfied: pytz>=2011k in /usr/local/lib/python3.6/dist-packages (from pandas>=0.23.2->turicreate) (2018.9)\n",
            "Requirement already satisfied: setuptools in /usr/local/lib/python3.6/dist-packages (from protobuf>=3.1.0->coremltools==3.0b3->turicreate) (41.2.0)\n",
            "Requirement already satisfied: llvmlite>=0.25.0dev0 in /usr/local/lib/python3.6/dist-packages (from numba>=0.32->resampy==0.2.1->turicreate) (0.29.0)\n"
          ],
          "name": "stdout"
        }
      ]
    },
    {
      "cell_type": "code",
      "metadata": {
        "colab_type": "code",
        "id": "wcjQe--m9v7_",
        "outputId": "03673118-663e-4bdd-cd2a-b0e5563e34f1",
        "colab": {
          "base_uri": "https://localhost:8080/",
          "height": 34
        }
      },
      "source": [
        "## Localización y carga de los datos\n",
        "url = 'https://github.com/masdatascience/TFM-AI/blob/master/data_model_completo.xlsx?raw=true'\n",
        "datos_modelo = pd.ExcelFile(url)\n",
        "datos_facturacion = pd.read_excel(datos_modelo, sheet_name='fac_txn')\n",
        "datos_producto = pd.read_excel(datos_modelo, sheet_name='product')\n",
        "datos_clientes = pd.read_excel(datos_modelo, sheet_name='customer')\n",
        "\n",
        "# Se elimian los datos nulos de las dimensiones importantes del analisis que son productos y clientes\n",
        "datos_facturacion = datos_facturacion.dropna(subset=['customer_id'])\n",
        "datos_facturacion = datos_facturacion.dropna(subset=['product_id'])\n",
        "# Se elimina posibles chargeback que se presenten\n",
        "datos_facturacion = datos_facturacion.loc[datos_facturacion['total_value'] > 0]\n",
        "\n",
        "print(\"Facturación:\"+ str(datos_facturacion.shape) + \" Clientes:\"+str(datos_clientes.shape)+\" Productos:\"+str(datos_producto.shape))"
      ],
      "execution_count": 7,
      "outputs": [
        {
          "output_type": "stream",
          "text": [
            "Facturación:(112650, 21) Clientes:(96352, 4) Productos:(32951, 10)\n"
          ],
          "name": "stdout"
        }
      ]
    },
    {
      "cell_type": "code",
      "metadata": {
        "id": "emaovKMPa6zr",
        "colab_type": "code",
        "colab": {}
      },
      "source": [
        "from sklearn.preprocessing import LabelEncoder\n",
        "enconder = LabelEncoder()\n",
        "datos_facturacion['ID_CLIENTE'] = enconder.fit_transform(datos_facturacion['customer_id'])\n",
        "datos_facturacion['ID_PRODUCTO'] = enconder.fit_transform(datos_facturacion['product_id'])\n"
      ],
      "execution_count": 0,
      "outputs": []
    },
    {
      "cell_type": "code",
      "metadata": {
        "id": "VohCX7BtbSIX",
        "colab_type": "code",
        "colab": {}
      },
      "source": [
        "grupo1 = ['ID_CLIENTE', 'ID_PRODUCTO', 'total_value']\n",
        "\n",
        "# Enfoque \n",
        "datos = datos_facturacion.loc[:, grupo1] "
      ],
      "execution_count": 0,
      "outputs": []
    },
    {
      "cell_type": "markdown",
      "metadata": {
        "colab_type": "text",
        "id": "gknP4zvnDMY2"
      },
      "source": [
        "### 1.2 Preparación de los datos \n",
        "En esta sección se estarán preparando tres enfoques de matrices con el fin de permitir desarrollar los motores de recomendación. La primera es la relación entre el cliente y los productos, la siguiente es una matriz normalizada y la última integra valores dummies para la comparación . "
      ]
    },
    {
      "cell_type": "markdown",
      "metadata": {
        "colab_type": "text",
        "id": "nGPFk-v0D00A"
      },
      "source": [
        "#### 1.2.1 Relación Cliente - Producto\n",
        "\n"
      ]
    },
    {
      "cell_type": "code",
      "metadata": {
        "colab_type": "code",
        "id": "zosJH8OuD6hA",
        "colab": {
          "base_uri": "https://localhost:8080/",
          "height": 34
        },
        "outputId": "f5f2a4de-eb59-43f8-80d2-117e535af500"
      },
      "source": [
        "# Obtengo la Matriz Relación Cliente - Producto , y la normalizo\n",
        "matri = datos.tail(27000)\n",
        "matrix_usuario_producto =pd.crosstab(matri['ID_CLIENTE'],matri['ID_PRODUCTO'],values=matri['total_value'], aggfunc='sum')\n",
        "matrix_usuario_producto_norm = (matrix_usuario_producto-matrix_usuario_producto.min())/(matrix_usuario_producto.max()-matrix_usuario_producto.min())\n",
        "d = matrix_usuario_producto_norm.reset_index() \n",
        "d.index.names = ['total_frecuencia'] \n",
        "data_norm = pd.melt(d, id_vars=['ID_CLIENTE'], value_name='total_frecuencia').dropna()\n",
        "data_norm['ID_CLIENTE'] = data_norm['ID_CLIENTE'].astype(str)\n",
        "data_norm['ID_PRODUCTO'] = data_norm['ID_PRODUCTO'].astype(str)\n",
        "print(\"Matriz normalizada:\" +str(data_norm.shape))"
      ],
      "execution_count": 10,
      "outputs": [
        {
          "output_type": "stream",
          "text": [
            "Matriz normalizada:(15019, 3)\n"
          ],
          "name": "stdout"
        }
      ]
    },
    {
      "cell_type": "markdown",
      "metadata": {
        "colab_type": "text",
        "id": "YURTaD1qFEU7"
      },
      "source": [
        "#### 1.2.2 Relación Cliente Producto - Contraste"
      ]
    },
    {
      "cell_type": "code",
      "metadata": {
        "colab_type": "code",
        "id": "_NC9OA2RHq1_",
        "outputId": "b3acadd9-08a6-4404-d963-dd04e094da6a",
        "colab": {
          "base_uri": "https://localhost:8080/",
          "height": 34
        }
      },
      "source": [
        "datos_dummy = datos_facturacion.copy()\n",
        "datos_dummy['total_dummy'] = 1\n",
        "datos_dummy['ID_CLIENTE'] = datos_dummy['ID_CLIENTE'].astype(str)\n",
        "datos_dummy['ID_PRODUCTO'] = datos_dummy['ID_PRODUCTO'].astype(str)\n",
        "print(\"Matriz Dummy:\"+ str(datos_dummy.shape))"
      ],
      "execution_count": 11,
      "outputs": [
        {
          "output_type": "stream",
          "text": [
            "Matriz Dummy:(112650, 24)\n"
          ],
          "name": "stdout"
        }
      ]
    },
    {
      "cell_type": "markdown",
      "metadata": {
        "colab_type": "text",
        "id": "fvqgw6XDFYJ6"
      },
      "source": [
        "#### 1.2.3 Se generan datos de entrenamiento y pruebas"
      ]
    },
    {
      "cell_type": "code",
      "metadata": {
        "colab_type": "code",
        "id": "P9YYO2PWFcUk",
        "colab": {}
      },
      "source": [
        "train_data, test_data  = train_test_split(data_norm, test_size=0.3 ,random_state=1)\n",
        "train_data_dummy, test_data_dummy = train_test_split(datos_dummy, test_size=0.3 ,random_state=1)"
      ],
      "execution_count": 0,
      "outputs": []
    },
    {
      "cell_type": "markdown",
      "metadata": {
        "colab_type": "text",
        "id": "_Fzb01hyFs1-"
      },
      "source": [
        "#### 1.2.4  Se define función para ejecutar los tipos de motores de recomendación"
      ]
    },
    {
      "cell_type": "code",
      "metadata": {
        "colab_type": "code",
        "id": "kh18gKpfF0X4",
        "colab": {}
      },
      "source": [
        "# Se define una función que retorne un modelo resultado segun el enfoque que se requiere:\n",
        "# 1. Popularity : Es el item que más se a consumido en todos los clientes\n",
        "# 2. cosine :\n",
        "# 3. Pearson: \n",
        "def modelo_requerido(modelo,datos ,campo ):\n",
        "\n",
        "    train_data=tc.SFrame(datos)\n",
        "    print(\"Modelo solicitado:\"+ str(modelo))\n",
        "    if modelo == 'producto':\n",
        "        return  tc.popularity_recommender.create(train_data,user_id='ID_CLIENTE', item_id='ID_PRODUCTO', target=campo)\n",
        "    elif modelo == 'distancia_coseno':\n",
        "        return tc.item_similarity_recommender.create(train_data,user_id='ID_CLIENTE', item_id='ID_PRODUCTO', target=campo,similarity_type='cosine')\n",
        "    elif modelo == 'pearson':\n",
        "        return tc.item_similarity_recommender.create(train_data,user_id='ID_CLIENTE', item_id='ID_PRODUCTO', target=campo,similarity_type='pearson')\n",
        "    else : \n",
        "        print(\"ERROR: Modelo solicitado no existe\")\n",
        "\n",
        "#Obtiene las recomendaciones de forma visual para los clientes\n",
        "def productos_recomendado(modelo, usuarios, cantidad_recomendaciones):\n",
        "     modelo.recommend(users=list(usuarios), k=cantidad_recomendaciones).print_rows(cantidad_recomendaciones)\n",
        "\n",
        "#Evalua los modelos generados \n",
        "def evaluacion_modelos(modelo, test):\n",
        "  \n",
        "  if modelo == 'normalizado':\n",
        "        modelos_generados= [fac_producto, fac_coseno, fac_pearson]\n",
        "        nombres_modelos = ['Modelo basado en contenido', 'Modelo Colaborativo - Distancia Coseno', 'Modelo Colaborativo - Pearson']\n",
        "        test_data= tc.SFrame(test) \n",
        "        eval_counts = tc.recommender.util.compare_models(test_data, modelos_generados, model_names=nombres_modelos)\n",
        "  elif modelo == 'dummy':\n",
        "        modelos_generados= [dum_producto, dum_coseno, dum_pearson]\n",
        "        nombres_modelos = ['Modelo Dummy basado en contenido', 'Modelo Dummy Colaborativo - Distancia Coseno', 'Modelo Dummy Colaborativo - Pearson']\n",
        "        test_data= tc.SFrame(test) \n",
        "        eval_counts = tc.recommender.util.compare_models(test_data, modelos_generados, model_names=nombres_modelos)\n",
        "  else : \n",
        "        print(\"ERROR: Modelo solicitado no existe\")\n",
        "      \n",
        "#Exporta cinco  recomendaciones por cliente en google Drive      \n",
        "def exportarRecomendaciones(modelo, clientes):\n",
        "\n",
        "  lista_clientes =  list(clientes)\n",
        "  recomendaciones = modelo.recommend(users=lista_clientes, k=5)\n",
        "  resultado = recomendaciones.to_dataframe()\n",
        "  resultado['id_producto_recomendado'] = resultado.groupby(['customer_id'])['product_id'].transform(lambda x: ';'.join(x.astype(str)))\n",
        "  exportar = resultado[['customer_id', 'id_producto_recomendado']].drop_duplicates().sort_values('customer_id').set_index('customer_id')\n",
        "  exportar.to_csv('recomendaciones.csv')\n",
        "  !cp recomendaciones.csv drive/My\\ Drive/TFM-AI/\n",
        "  print(\"Se han exportado las recomendaciones en Google drive\")\n"
      ],
      "execution_count": 0,
      "outputs": []
    },
    {
      "cell_type": "markdown",
      "metadata": {
        "colab_type": "text",
        "id": "52rVRxv5YF7J"
      },
      "source": [
        "### 1.3 Modelo de recomendación basado en Contenido\n",
        "Este modelo genera recomendaciones con base en la relación de los clientes y sus productos"
      ]
    },
    {
      "cell_type": "code",
      "metadata": {
        "colab_type": "code",
        "id": "GIJ-1VLWNuaa",
        "outputId": "5e924b14-4c2e-489a-807f-bcd8b699c0a5",
        "colab": {
          "base_uri": "https://localhost:8080/",
          "height": 241
        }
      },
      "source": [
        "# Se generan las recomendaciones por dataset\n",
        "fac_producto = modelo_requerido('producto',train_data,'total_frecuencia' )\n",
        "dum_producto = modelo_requerido('producto' ,train_data_dummy, 'total_dummy')"
      ],
      "execution_count": 14,
      "outputs": [
        {
          "output_type": "stream",
          "text": [
            "Modelo solicitado:producto\n"
          ],
          "name": "stdout"
        },
        {
          "output_type": "display_data",
          "data": {
            "text/html": [
              "<pre>Preparing data set.</pre>"
            ],
            "text/plain": [
              "Preparing data set."
            ]
          },
          "metadata": {
            "tags": []
          }
        },
        {
          "output_type": "display_data",
          "data": {
            "text/html": [
              "<pre>    Data has 10513 observations with 10299 users and 3325 items.</pre>"
            ],
            "text/plain": [
              "    Data has 10513 observations with 10299 users and 3325 items."
            ]
          },
          "metadata": {
            "tags": []
          }
        },
        {
          "output_type": "display_data",
          "data": {
            "text/html": [
              "<pre>    Data prepared in: 0.036659s</pre>"
            ],
            "text/plain": [
              "    Data prepared in: 0.036659s"
            ]
          },
          "metadata": {
            "tags": []
          }
        },
        {
          "output_type": "display_data",
          "data": {
            "text/html": [
              "<pre>10513 observations to process; with 3325 unique items.</pre>"
            ],
            "text/plain": [
              "10513 observations to process; with 3325 unique items."
            ]
          },
          "metadata": {
            "tags": []
          }
        },
        {
          "output_type": "stream",
          "text": [
            "Modelo solicitado:producto\n"
          ],
          "name": "stdout"
        },
        {
          "output_type": "display_data",
          "data": {
            "text/html": [
              "<pre>Warning: Ignoring columns order_id, order_item_id, product_id, customer_id, customer_zip_code_prefix, shipping_limit_date, price, freight_value, total_value, credit_card, debit_card, boleto, voucher, not_defined, num_txn, order_status, order_purchase_timestamp, order_approved_at, order_delivered_carrier_date, order_delivered_customer_date, order_estimated_delivery_date;</pre>"
            ],
            "text/plain": [
              "Warning: Ignoring columns order_id, order_item_id, product_id, customer_id, customer_zip_code_prefix, shipping_limit_date, price, freight_value, total_value, credit_card, debit_card, boleto, voucher, not_defined, num_txn, order_status, order_purchase_timestamp, order_approved_at, order_delivered_carrier_date, order_delivered_customer_date, order_estimated_delivery_date;"
            ]
          },
          "metadata": {
            "tags": []
          }
        },
        {
          "output_type": "display_data",
          "data": {
            "text/html": [
              "<pre>    To use these columns in scoring predictions, use a model that allows the use of additional features.</pre>"
            ],
            "text/plain": [
              "    To use these columns in scoring predictions, use a model that allows the use of additional features."
            ]
          },
          "metadata": {
            "tags": []
          }
        },
        {
          "output_type": "display_data",
          "data": {
            "text/html": [
              "<pre>Preparing data set.</pre>"
            ],
            "text/plain": [
              "Preparing data set."
            ]
          },
          "metadata": {
            "tags": []
          }
        },
        {
          "output_type": "display_data",
          "data": {
            "text/html": [
              "<pre>    Data has 78855 observations with 69445 users and 26898 items.</pre>"
            ],
            "text/plain": [
              "    Data has 78855 observations with 69445 users and 26898 items."
            ]
          },
          "metadata": {
            "tags": []
          }
        },
        {
          "output_type": "display_data",
          "data": {
            "text/html": [
              "<pre>    Data prepared in: 0.150769s</pre>"
            ],
            "text/plain": [
              "    Data prepared in: 0.150769s"
            ]
          },
          "metadata": {
            "tags": []
          }
        },
        {
          "output_type": "display_data",
          "data": {
            "text/html": [
              "<pre>78855 observations to process; with 26898 unique items.</pre>"
            ],
            "text/plain": [
              "78855 observations to process; with 26898 unique items."
            ]
          },
          "metadata": {
            "tags": []
          }
        }
      ]
    },
    {
      "cell_type": "code",
      "metadata": {
        "id": "wRAtMNOTtWfE",
        "colab_type": "code",
        "colab": {
          "base_uri": "https://localhost:8080/",
          "height": 51
        },
        "outputId": "5dc84909-c237-4d38-b7e5-25bb92abb3bf"
      },
      "source": [
        "# se obtienen identificadores de clientes \n",
        "data_norm.ID_CLIENTE.unique()"
      ],
      "execution_count": 15,
      "outputs": [
        {
          "output_type": "execute_result",
          "data": {
            "text/plain": [
              "array(['13297', '89261', '40208', ..., '58764', '35851', '67581'],\n",
              "      dtype=object)"
            ]
          },
          "metadata": {
            "tags": []
          },
          "execution_count": 15
        }
      ]
    },
    {
      "cell_type": "code",
      "metadata": {
        "colab_type": "code",
        "id": "IpjX_Fr3Sl2Y",
        "outputId": "20bf5fca-bf0d-4b44-e5f2-1a49ceec004b",
        "colab": {
          "base_uri": "https://localhost:8080/",
          "height": 867
        }
      },
      "source": [
        "# Se generan las recomendaciones para un Cliente\n",
        "print(\"=============================================\")  \n",
        "print(\"Metodo: Basado en contenido - DS Normalizado\")\n",
        "print(\"============================================\")  \n",
        "productos_recomendado(fac_producto,'48821',5)\n",
        "productos_recomendado(fac_producto,'66843',5)\n",
        "\n",
        "print(\"============================================\")  \n",
        "print(\"Metodo: Basado en contenido - DS Referencia\")\n",
        "print(\"============================================\")  \n",
        "productos_recomendado(dum_producto,'48821',5)\n",
        "productos_recomendado(dum_producto,'66843',5)"
      ],
      "execution_count": 16,
      "outputs": [
        {
          "output_type": "stream",
          "text": [
            "=============================================\n",
            "Metodo: Basado en contenido - DS Normalizado\n",
            "============================================\n",
            "+------------+-------------+-------+------+\n",
            "| ID_CLIENTE | ID_PRODUCTO | score | rank |\n",
            "+------------+-------------+-------+------+\n",
            "|     4      |    32148    |  1.0  |  1   |\n",
            "|     4      |    32385    |  1.0  |  2   |\n",
            "|     4      |     531     |  1.0  |  3   |\n",
            "|     4      |     8019    |  1.0  |  4   |\n",
            "|     4      |    24153    |  1.0  |  5   |\n",
            "+------------+-------------+-------+------+\n",
            "[25 rows x 4 columns]\n",
            "\n",
            "+------------+-------------+-------+------+\n",
            "| ID_CLIENTE | ID_PRODUCTO | score | rank |\n",
            "+------------+-------------+-------+------+\n",
            "|     6      |    32148    |  1.0  |  1   |\n",
            "|     6      |    32385    |  1.0  |  2   |\n",
            "|     6      |     531     |  1.0  |  3   |\n",
            "|     6      |     8019    |  1.0  |  4   |\n",
            "|     6      |    24153    |  1.0  |  5   |\n",
            "+------------+-------------+-------+------+\n",
            "[25 rows x 4 columns]\n",
            "\n",
            "============================================\n",
            "Metodo: Basado en contenido - DS Referencia\n",
            "============================================\n",
            "+------------+-------------+-------+------+\n",
            "| ID_CLIENTE | ID_PRODUCTO | score | rank |\n",
            "+------------+-------------+-------+------+\n",
            "|     4      |     3222    |  1.0  |  1   |\n",
            "|     4      |    14119    |  1.0  |  2   |\n",
            "|     4      |    20754    |  1.0  |  3   |\n",
            "|     4      |    15951    |  1.0  |  4   |\n",
            "|     4      |    23169    |  1.0  |  5   |\n",
            "+------------+-------------+-------+------+\n",
            "[25 rows x 4 columns]\n",
            "\n",
            "+------------+-------------+-------+------+\n",
            "| ID_CLIENTE | ID_PRODUCTO | score | rank |\n",
            "+------------+-------------+-------+------+\n",
            "|     6      |     3222    |  1.0  |  1   |\n",
            "|     6      |    14119    |  1.0  |  2   |\n",
            "|     6      |    20754    |  1.0  |  3   |\n",
            "|     6      |    15951    |  1.0  |  4   |\n",
            "|     6      |    23169    |  1.0  |  5   |\n",
            "+------------+-------------+-------+------+\n",
            "[25 rows x 4 columns]\n",
            "\n"
          ],
          "name": "stdout"
        }
      ]
    },
    {
      "cell_type": "markdown",
      "metadata": {
        "colab_type": "text",
        "id": "D7p0zJxaZKD4"
      },
      "source": [
        "### 1.4 Motor de recomendación Colaborativo\n",
        "Este modelo genera recomendaciones con base en el comportamiento de compra que tienen los usuarios. <br>\n",
        "Con este fin se realizan pruebas con dos enfoques, la distancia coseno y pearson para evaluar cual es el que da mejores resultados"
      ]
    },
    {
      "cell_type": "code",
      "metadata": {
        "colab_type": "code",
        "id": "2ZjeevWDZpNO",
        "outputId": "926a2e09-838c-4269-b1ce-e5d830a4f278",
        "colab": {
          "base_uri": "https://localhost:8080/",
          "height": 853
        }
      },
      "source": [
        "# Se generan las recomendaciones por dataset\n",
        "fac_coseno = modelo_requerido('distancia_coseno',train_data,'total_frecuencia' )\n",
        "dum_coseno = modelo_requerido('distancia_coseno' ,train_data_dummy, 'total_dummy')"
      ],
      "execution_count": 17,
      "outputs": [
        {
          "output_type": "stream",
          "text": [
            "Modelo solicitado:distancia_coseno\n"
          ],
          "name": "stdout"
        },
        {
          "output_type": "display_data",
          "data": {
            "text/html": [
              "<pre>Preparing data set.</pre>"
            ],
            "text/plain": [
              "Preparing data set."
            ]
          },
          "metadata": {
            "tags": []
          }
        },
        {
          "output_type": "display_data",
          "data": {
            "text/html": [
              "<pre>    Data has 10513 observations with 10299 users and 3325 items.</pre>"
            ],
            "text/plain": [
              "    Data has 10513 observations with 10299 users and 3325 items."
            ]
          },
          "metadata": {
            "tags": []
          }
        },
        {
          "output_type": "display_data",
          "data": {
            "text/html": [
              "<pre>    Data prepared in: 0.039998s</pre>"
            ],
            "text/plain": [
              "    Data prepared in: 0.039998s"
            ]
          },
          "metadata": {
            "tags": []
          }
        },
        {
          "output_type": "display_data",
          "data": {
            "text/html": [
              "<pre>Training model from provided data.</pre>"
            ],
            "text/plain": [
              "Training model from provided data."
            ]
          },
          "metadata": {
            "tags": []
          }
        },
        {
          "output_type": "display_data",
          "data": {
            "text/html": [
              "<pre>Gathering per-item and per-user statistics.</pre>"
            ],
            "text/plain": [
              "Gathering per-item and per-user statistics."
            ]
          },
          "metadata": {
            "tags": []
          }
        },
        {
          "output_type": "display_data",
          "data": {
            "text/html": [
              "<pre>+--------------------------------+------------+</pre>"
            ],
            "text/plain": [
              "+--------------------------------+------------+"
            ]
          },
          "metadata": {
            "tags": []
          }
        },
        {
          "output_type": "display_data",
          "data": {
            "text/html": [
              "<pre>| Elapsed Time (Item Statistics) | % Complete |</pre>"
            ],
            "text/plain": [
              "| Elapsed Time (Item Statistics) | % Complete |"
            ]
          },
          "metadata": {
            "tags": []
          }
        },
        {
          "output_type": "display_data",
          "data": {
            "text/html": [
              "<pre>+--------------------------------+------------+</pre>"
            ],
            "text/plain": [
              "+--------------------------------+------------+"
            ]
          },
          "metadata": {
            "tags": []
          }
        },
        {
          "output_type": "display_data",
          "data": {
            "text/html": [
              "<pre>| 895us                          | 9.5        |</pre>"
            ],
            "text/plain": [
              "| 895us                          | 9.5        |"
            ]
          },
          "metadata": {
            "tags": []
          }
        },
        {
          "output_type": "display_data",
          "data": {
            "text/html": [
              "<pre>| 1.922ms                        | 100        |</pre>"
            ],
            "text/plain": [
              "| 1.922ms                        | 100        |"
            ]
          },
          "metadata": {
            "tags": []
          }
        },
        {
          "output_type": "display_data",
          "data": {
            "text/html": [
              "<pre>+--------------------------------+------------+</pre>"
            ],
            "text/plain": [
              "+--------------------------------+------------+"
            ]
          },
          "metadata": {
            "tags": []
          }
        },
        {
          "output_type": "display_data",
          "data": {
            "text/html": [
              "<pre>Setting up lookup tables.</pre>"
            ],
            "text/plain": [
              "Setting up lookup tables."
            ]
          },
          "metadata": {
            "tags": []
          }
        },
        {
          "output_type": "display_data",
          "data": {
            "text/html": [
              "<pre>Processing data in one pass using dense lookup tables.</pre>"
            ],
            "text/plain": [
              "Processing data in one pass using dense lookup tables."
            ]
          },
          "metadata": {
            "tags": []
          }
        },
        {
          "output_type": "display_data",
          "data": {
            "text/html": [
              "<pre>+-------------------------------------+------------------+-----------------+</pre>"
            ],
            "text/plain": [
              "+-------------------------------------+------------------+-----------------+"
            ]
          },
          "metadata": {
            "tags": []
          }
        },
        {
          "output_type": "display_data",
          "data": {
            "text/html": [
              "<pre>| Elapsed Time (Constructing Lookups) | Total % Complete | Items Processed |</pre>"
            ],
            "text/plain": [
              "| Elapsed Time (Constructing Lookups) | Total % Complete | Items Processed |"
            ]
          },
          "metadata": {
            "tags": []
          }
        },
        {
          "output_type": "display_data",
          "data": {
            "text/html": [
              "<pre>+-------------------------------------+------------------+-----------------+</pre>"
            ],
            "text/plain": [
              "+-------------------------------------+------------------+-----------------+"
            ]
          },
          "metadata": {
            "tags": []
          }
        },
        {
          "output_type": "display_data",
          "data": {
            "text/html": [
              "<pre>| 49.066ms                            | 0                | 0               |</pre>"
            ],
            "text/plain": [
              "| 49.066ms                            | 0                | 0               |"
            ]
          },
          "metadata": {
            "tags": []
          }
        },
        {
          "output_type": "display_data",
          "data": {
            "text/html": [
              "<pre>| 109.729ms                           | 100              | 3325            |</pre>"
            ],
            "text/plain": [
              "| 109.729ms                           | 100              | 3325            |"
            ]
          },
          "metadata": {
            "tags": []
          }
        },
        {
          "output_type": "display_data",
          "data": {
            "text/html": [
              "<pre>+-------------------------------------+------------------+-----------------+</pre>"
            ],
            "text/plain": [
              "+-------------------------------------+------------------+-----------------+"
            ]
          },
          "metadata": {
            "tags": []
          }
        },
        {
          "output_type": "display_data",
          "data": {
            "text/html": [
              "<pre>Finalizing lookup tables.</pre>"
            ],
            "text/plain": [
              "Finalizing lookup tables."
            ]
          },
          "metadata": {
            "tags": []
          }
        },
        {
          "output_type": "display_data",
          "data": {
            "text/html": [
              "<pre>Generating candidate set for working with new users.</pre>"
            ],
            "text/plain": [
              "Generating candidate set for working with new users."
            ]
          },
          "metadata": {
            "tags": []
          }
        },
        {
          "output_type": "display_data",
          "data": {
            "text/html": [
              "<pre>Finished training in 1.11636s</pre>"
            ],
            "text/plain": [
              "Finished training in 1.11636s"
            ]
          },
          "metadata": {
            "tags": []
          }
        },
        {
          "output_type": "stream",
          "text": [
            "Modelo solicitado:distancia_coseno\n"
          ],
          "name": "stdout"
        },
        {
          "output_type": "display_data",
          "data": {
            "text/html": [
              "<pre>Warning: Ignoring columns order_id, order_item_id, product_id, customer_id, customer_zip_code_prefix, shipping_limit_date, price, freight_value, total_value, credit_card, debit_card, boleto, voucher, not_defined, num_txn, order_status, order_purchase_timestamp, order_approved_at, order_delivered_carrier_date, order_delivered_customer_date, order_estimated_delivery_date;</pre>"
            ],
            "text/plain": [
              "Warning: Ignoring columns order_id, order_item_id, product_id, customer_id, customer_zip_code_prefix, shipping_limit_date, price, freight_value, total_value, credit_card, debit_card, boleto, voucher, not_defined, num_txn, order_status, order_purchase_timestamp, order_approved_at, order_delivered_carrier_date, order_delivered_customer_date, order_estimated_delivery_date;"
            ]
          },
          "metadata": {
            "tags": []
          }
        },
        {
          "output_type": "display_data",
          "data": {
            "text/html": [
              "<pre>    To use these columns in scoring predictions, use a model that allows the use of additional features.</pre>"
            ],
            "text/plain": [
              "    To use these columns in scoring predictions, use a model that allows the use of additional features."
            ]
          },
          "metadata": {
            "tags": []
          }
        },
        {
          "output_type": "display_data",
          "data": {
            "text/html": [
              "<pre>Preparing data set.</pre>"
            ],
            "text/plain": [
              "Preparing data set."
            ]
          },
          "metadata": {
            "tags": []
          }
        },
        {
          "output_type": "display_data",
          "data": {
            "text/html": [
              "<pre>    Data has 78855 observations with 69445 users and 26898 items.</pre>"
            ],
            "text/plain": [
              "    Data has 78855 observations with 69445 users and 26898 items."
            ]
          },
          "metadata": {
            "tags": []
          }
        },
        {
          "output_type": "display_data",
          "data": {
            "text/html": [
              "<pre>    Data prepared in: 0.154366s</pre>"
            ],
            "text/plain": [
              "    Data prepared in: 0.154366s"
            ]
          },
          "metadata": {
            "tags": []
          }
        },
        {
          "output_type": "display_data",
          "data": {
            "text/html": [
              "<pre>Training model from provided data.</pre>"
            ],
            "text/plain": [
              "Training model from provided data."
            ]
          },
          "metadata": {
            "tags": []
          }
        },
        {
          "output_type": "display_data",
          "data": {
            "text/html": [
              "<pre>Gathering per-item and per-user statistics.</pre>"
            ],
            "text/plain": [
              "Gathering per-item and per-user statistics."
            ]
          },
          "metadata": {
            "tags": []
          }
        },
        {
          "output_type": "display_data",
          "data": {
            "text/html": [
              "<pre>+--------------------------------+------------+</pre>"
            ],
            "text/plain": [
              "+--------------------------------+------------+"
            ]
          },
          "metadata": {
            "tags": []
          }
        },
        {
          "output_type": "display_data",
          "data": {
            "text/html": [
              "<pre>| Elapsed Time (Item Statistics) | % Complete |</pre>"
            ],
            "text/plain": [
              "| Elapsed Time (Item Statistics) | % Complete |"
            ]
          },
          "metadata": {
            "tags": []
          }
        },
        {
          "output_type": "display_data",
          "data": {
            "text/html": [
              "<pre>+--------------------------------+------------+</pre>"
            ],
            "text/plain": [
              "+--------------------------------+------------+"
            ]
          },
          "metadata": {
            "tags": []
          }
        },
        {
          "output_type": "display_data",
          "data": {
            "text/html": [
              "<pre>| 1.237ms                        | 1.25       |</pre>"
            ],
            "text/plain": [
              "| 1.237ms                        | 1.25       |"
            ]
          },
          "metadata": {
            "tags": []
          }
        },
        {
          "output_type": "display_data",
          "data": {
            "text/html": [
              "<pre>| 8.769ms                        | 100        |</pre>"
            ],
            "text/plain": [
              "| 8.769ms                        | 100        |"
            ]
          },
          "metadata": {
            "tags": []
          }
        },
        {
          "output_type": "display_data",
          "data": {
            "text/html": [
              "<pre>+--------------------------------+------------+</pre>"
            ],
            "text/plain": [
              "+--------------------------------+------------+"
            ]
          },
          "metadata": {
            "tags": []
          }
        },
        {
          "output_type": "display_data",
          "data": {
            "text/html": [
              "<pre>Setting up lookup tables.</pre>"
            ],
            "text/plain": [
              "Setting up lookup tables."
            ]
          },
          "metadata": {
            "tags": []
          }
        },
        {
          "output_type": "display_data",
          "data": {
            "text/html": [
              "<pre>Processing data in one pass using dense lookup tables.</pre>"
            ],
            "text/plain": [
              "Processing data in one pass using dense lookup tables."
            ]
          },
          "metadata": {
            "tags": []
          }
        },
        {
          "output_type": "display_data",
          "data": {
            "text/html": [
              "<pre>+-------------------------------------+------------------+-----------------+</pre>"
            ],
            "text/plain": [
              "+-------------------------------------+------------------+-----------------+"
            ]
          },
          "metadata": {
            "tags": []
          }
        },
        {
          "output_type": "display_data",
          "data": {
            "text/html": [
              "<pre>| Elapsed Time (Constructing Lookups) | Total % Complete | Items Processed |</pre>"
            ],
            "text/plain": [
              "| Elapsed Time (Constructing Lookups) | Total % Complete | Items Processed |"
            ]
          },
          "metadata": {
            "tags": []
          }
        },
        {
          "output_type": "display_data",
          "data": {
            "text/html": [
              "<pre>+-------------------------------------+------------------+-----------------+</pre>"
            ],
            "text/plain": [
              "+-------------------------------------+------------------+-----------------+"
            ]
          },
          "metadata": {
            "tags": []
          }
        },
        {
          "output_type": "display_data",
          "data": {
            "text/html": [
              "<pre>| 790.357ms                           | 0                | 0               |</pre>"
            ],
            "text/plain": [
              "| 790.357ms                           | 0                | 0               |"
            ]
          },
          "metadata": {
            "tags": []
          }
        },
        {
          "output_type": "display_data",
          "data": {
            "text/html": [
              "<pre>| 4.58s                               | 100              | 26898           |</pre>"
            ],
            "text/plain": [
              "| 4.58s                               | 100              | 26898           |"
            ]
          },
          "metadata": {
            "tags": []
          }
        },
        {
          "output_type": "display_data",
          "data": {
            "text/html": [
              "<pre>+-------------------------------------+------------------+-----------------+</pre>"
            ],
            "text/plain": [
              "+-------------------------------------+------------------+-----------------+"
            ]
          },
          "metadata": {
            "tags": []
          }
        },
        {
          "output_type": "display_data",
          "data": {
            "text/html": [
              "<pre>Finalizing lookup tables.</pre>"
            ],
            "text/plain": [
              "Finalizing lookup tables."
            ]
          },
          "metadata": {
            "tags": []
          }
        },
        {
          "output_type": "display_data",
          "data": {
            "text/html": [
              "<pre>Generating candidate set for working with new users.</pre>"
            ],
            "text/plain": [
              "Generating candidate set for working with new users."
            ]
          },
          "metadata": {
            "tags": []
          }
        },
        {
          "output_type": "display_data",
          "data": {
            "text/html": [
              "<pre>Finished training in 4.60503s</pre>"
            ],
            "text/plain": [
              "Finished training in 4.60503s"
            ]
          },
          "metadata": {
            "tags": []
          }
        }
      ]
    },
    {
      "cell_type": "code",
      "metadata": {
        "colab_type": "code",
        "id": "0AgQTFzOZ7a6",
        "outputId": "7b5122e5-e855-46aa-a08b-9419e624d58e",
        "colab": {
          "base_uri": "https://localhost:8080/",
          "height": 714
        }
      },
      "source": [
        "print(\"=============================================\")  \n",
        "print(\"              DISTANCIA COSENO \")\n",
        "print(\"============================================\")  \n",
        "# Se generan las recomendaciones para un Cliente\n",
        "print(\"=============================================\")  \n",
        "print(\"Metodo: Colaborativo - DS Normalizado\")\n",
        "print(\"============================================\")  \n",
        "fac_coseno.recommend(users=list(['48821','40208']), k=5).print_rows(10)\n",
        "\n",
        "print(\"============================================\")  \n",
        "print(\"Metodo: Colaborativo - DS Referencia\")\n",
        "print(\"============================================\")  \n",
        "dum_coseno.recommend(users=list(['48821','40208']), k=5).print_rows(10)"
      ],
      "execution_count": 18,
      "outputs": [
        {
          "output_type": "stream",
          "text": [
            "=============================================\n",
            "              DISTANCIA COSENO \n",
            "============================================\n",
            "=============================================\n",
            "Metodo: Colaborativo - DS Normalizado\n",
            "============================================\n",
            "+------------+-------------+------------------------+------+\n",
            "| ID_CLIENTE | ID_PRODUCTO |         score          | rank |\n",
            "+------------+-------------+------------------------+------+\n",
            "|   48821    |    29513    |  0.00263270378112793   |  1   |\n",
            "|   48821    |     7131    | 0.0018765747547149659  |  2   |\n",
            "|   48821    |    31399    | 0.0016767871379852295  |  3   |\n",
            "|   48821    |    13831    | 0.0007235562801361084  |  4   |\n",
            "|   48821    |     8227    | 0.00044424653053283693 |  5   |\n",
            "|   40208    |    29513    |  0.00263270378112793   |  1   |\n",
            "|   40208    |     7131    | 0.0018765747547149659  |  2   |\n",
            "|   40208    |    31399    | 0.0016767871379852295  |  3   |\n",
            "|   40208    |    13831    | 0.0007235562801361084  |  4   |\n",
            "|   40208    |     8227    | 0.00044424653053283693 |  5   |\n",
            "+------------+-------------+------------------------+------+\n",
            "[10 rows x 4 columns]\n",
            "\n",
            "============================================\n",
            "Metodo: Colaborativo - DS Referencia\n",
            "============================================\n",
            "+------------+-------------+-------+------+\n",
            "| ID_CLIENTE | ID_PRODUCTO | score | rank |\n",
            "+------------+-------------+-------+------+\n",
            "|   48821    |     3222    |  0.0  |  1   |\n",
            "|   48821    |    14119    |  0.0  |  2   |\n",
            "|   48821    |    20754    |  0.0  |  3   |\n",
            "|   48821    |    15951    |  0.0  |  4   |\n",
            "|   48821    |    23169    |  0.0  |  5   |\n",
            "|   40208    |     3222    |  0.0  |  1   |\n",
            "|   40208    |    14119    |  0.0  |  2   |\n",
            "|   40208    |    20754    |  0.0  |  3   |\n",
            "|   40208    |    15951    |  0.0  |  4   |\n",
            "|   40208    |    23169    |  0.0  |  5   |\n",
            "+------------+-------------+-------+------+\n",
            "[10 rows x 4 columns]\n",
            "\n"
          ],
          "name": "stdout"
        }
      ]
    },
    {
      "cell_type": "code",
      "metadata": {
        "colab_type": "code",
        "id": "bM3u55tOaSOg",
        "outputId": "294e1932-e77e-4b28-daa5-e44b7eb9d3b9",
        "colab": {
          "base_uri": "https://localhost:8080/",
          "height": 853
        }
      },
      "source": [
        "# Se generan las recomendaciones por dataset\n",
        "fac_pearson= modelo_requerido('pearson',train_data,'total_frecuencia' )\n",
        "dum_pearson = modelo_requerido('pearson' ,train_data_dummy, 'total_dummy')"
      ],
      "execution_count": 19,
      "outputs": [
        {
          "output_type": "stream",
          "text": [
            "Modelo solicitado:pearson\n"
          ],
          "name": "stdout"
        },
        {
          "output_type": "display_data",
          "data": {
            "text/html": [
              "<pre>Preparing data set.</pre>"
            ],
            "text/plain": [
              "Preparing data set."
            ]
          },
          "metadata": {
            "tags": []
          }
        },
        {
          "output_type": "display_data",
          "data": {
            "text/html": [
              "<pre>    Data has 10513 observations with 10299 users and 3325 items.</pre>"
            ],
            "text/plain": [
              "    Data has 10513 observations with 10299 users and 3325 items."
            ]
          },
          "metadata": {
            "tags": []
          }
        },
        {
          "output_type": "display_data",
          "data": {
            "text/html": [
              "<pre>    Data prepared in: 0.037368s</pre>"
            ],
            "text/plain": [
              "    Data prepared in: 0.037368s"
            ]
          },
          "metadata": {
            "tags": []
          }
        },
        {
          "output_type": "display_data",
          "data": {
            "text/html": [
              "<pre>Training model from provided data.</pre>"
            ],
            "text/plain": [
              "Training model from provided data."
            ]
          },
          "metadata": {
            "tags": []
          }
        },
        {
          "output_type": "display_data",
          "data": {
            "text/html": [
              "<pre>Gathering per-item and per-user statistics.</pre>"
            ],
            "text/plain": [
              "Gathering per-item and per-user statistics."
            ]
          },
          "metadata": {
            "tags": []
          }
        },
        {
          "output_type": "display_data",
          "data": {
            "text/html": [
              "<pre>+--------------------------------+------------+</pre>"
            ],
            "text/plain": [
              "+--------------------------------+------------+"
            ]
          },
          "metadata": {
            "tags": []
          }
        },
        {
          "output_type": "display_data",
          "data": {
            "text/html": [
              "<pre>| Elapsed Time (Item Statistics) | % Complete |</pre>"
            ],
            "text/plain": [
              "| Elapsed Time (Item Statistics) | % Complete |"
            ]
          },
          "metadata": {
            "tags": []
          }
        },
        {
          "output_type": "display_data",
          "data": {
            "text/html": [
              "<pre>+--------------------------------+------------+</pre>"
            ],
            "text/plain": [
              "+--------------------------------+------------+"
            ]
          },
          "metadata": {
            "tags": []
          }
        },
        {
          "output_type": "display_data",
          "data": {
            "text/html": [
              "<pre>| 428us                          | 9.5        |</pre>"
            ],
            "text/plain": [
              "| 428us                          | 9.5        |"
            ]
          },
          "metadata": {
            "tags": []
          }
        },
        {
          "output_type": "display_data",
          "data": {
            "text/html": [
              "<pre>| 1.629ms                        | 100        |</pre>"
            ],
            "text/plain": [
              "| 1.629ms                        | 100        |"
            ]
          },
          "metadata": {
            "tags": []
          }
        },
        {
          "output_type": "display_data",
          "data": {
            "text/html": [
              "<pre>+--------------------------------+------------+</pre>"
            ],
            "text/plain": [
              "+--------------------------------+------------+"
            ]
          },
          "metadata": {
            "tags": []
          }
        },
        {
          "output_type": "display_data",
          "data": {
            "text/html": [
              "<pre>Setting up lookup tables.</pre>"
            ],
            "text/plain": [
              "Setting up lookup tables."
            ]
          },
          "metadata": {
            "tags": []
          }
        },
        {
          "output_type": "display_data",
          "data": {
            "text/html": [
              "<pre>Processing data in one pass using dense lookup tables.</pre>"
            ],
            "text/plain": [
              "Processing data in one pass using dense lookup tables."
            ]
          },
          "metadata": {
            "tags": []
          }
        },
        {
          "output_type": "display_data",
          "data": {
            "text/html": [
              "<pre>+-------------------------------------+------------------+-----------------+</pre>"
            ],
            "text/plain": [
              "+-------------------------------------+------------------+-----------------+"
            ]
          },
          "metadata": {
            "tags": []
          }
        },
        {
          "output_type": "display_data",
          "data": {
            "text/html": [
              "<pre>| Elapsed Time (Constructing Lookups) | Total % Complete | Items Processed |</pre>"
            ],
            "text/plain": [
              "| Elapsed Time (Constructing Lookups) | Total % Complete | Items Processed |"
            ]
          },
          "metadata": {
            "tags": []
          }
        },
        {
          "output_type": "display_data",
          "data": {
            "text/html": [
              "<pre>+-------------------------------------+------------------+-----------------+</pre>"
            ],
            "text/plain": [
              "+-------------------------------------+------------------+-----------------+"
            ]
          },
          "metadata": {
            "tags": []
          }
        },
        {
          "output_type": "display_data",
          "data": {
            "text/html": [
              "<pre>| 15.671ms                            | 0                | 0               |</pre>"
            ],
            "text/plain": [
              "| 15.671ms                            | 0                | 0               |"
            ]
          },
          "metadata": {
            "tags": []
          }
        },
        {
          "output_type": "display_data",
          "data": {
            "text/html": [
              "<pre>| 89ms                                | 100              | 3325            |</pre>"
            ],
            "text/plain": [
              "| 89ms                                | 100              | 3325            |"
            ]
          },
          "metadata": {
            "tags": []
          }
        },
        {
          "output_type": "display_data",
          "data": {
            "text/html": [
              "<pre>+-------------------------------------+------------------+-----------------+</pre>"
            ],
            "text/plain": [
              "+-------------------------------------+------------------+-----------------+"
            ]
          },
          "metadata": {
            "tags": []
          }
        },
        {
          "output_type": "display_data",
          "data": {
            "text/html": [
              "<pre>Finalizing lookup tables.</pre>"
            ],
            "text/plain": [
              "Finalizing lookup tables."
            ]
          },
          "metadata": {
            "tags": []
          }
        },
        {
          "output_type": "display_data",
          "data": {
            "text/html": [
              "<pre>Generating candidate set for working with new users.</pre>"
            ],
            "text/plain": [
              "Generating candidate set for working with new users."
            ]
          },
          "metadata": {
            "tags": []
          }
        },
        {
          "output_type": "display_data",
          "data": {
            "text/html": [
              "<pre>Finished training in 0.097755s</pre>"
            ],
            "text/plain": [
              "Finished training in 0.097755s"
            ]
          },
          "metadata": {
            "tags": []
          }
        },
        {
          "output_type": "stream",
          "text": [
            "Modelo solicitado:pearson\n"
          ],
          "name": "stdout"
        },
        {
          "output_type": "display_data",
          "data": {
            "text/html": [
              "<pre>Warning: Ignoring columns order_id, order_item_id, product_id, customer_id, customer_zip_code_prefix, shipping_limit_date, price, freight_value, total_value, credit_card, debit_card, boleto, voucher, not_defined, num_txn, order_status, order_purchase_timestamp, order_approved_at, order_delivered_carrier_date, order_delivered_customer_date, order_estimated_delivery_date;</pre>"
            ],
            "text/plain": [
              "Warning: Ignoring columns order_id, order_item_id, product_id, customer_id, customer_zip_code_prefix, shipping_limit_date, price, freight_value, total_value, credit_card, debit_card, boleto, voucher, not_defined, num_txn, order_status, order_purchase_timestamp, order_approved_at, order_delivered_carrier_date, order_delivered_customer_date, order_estimated_delivery_date;"
            ]
          },
          "metadata": {
            "tags": []
          }
        },
        {
          "output_type": "display_data",
          "data": {
            "text/html": [
              "<pre>    To use these columns in scoring predictions, use a model that allows the use of additional features.</pre>"
            ],
            "text/plain": [
              "    To use these columns in scoring predictions, use a model that allows the use of additional features."
            ]
          },
          "metadata": {
            "tags": []
          }
        },
        {
          "output_type": "display_data",
          "data": {
            "text/html": [
              "<pre>Preparing data set.</pre>"
            ],
            "text/plain": [
              "Preparing data set."
            ]
          },
          "metadata": {
            "tags": []
          }
        },
        {
          "output_type": "display_data",
          "data": {
            "text/html": [
              "<pre>    Data has 78855 observations with 69445 users and 26898 items.</pre>"
            ],
            "text/plain": [
              "    Data has 78855 observations with 69445 users and 26898 items."
            ]
          },
          "metadata": {
            "tags": []
          }
        },
        {
          "output_type": "display_data",
          "data": {
            "text/html": [
              "<pre>    Data prepared in: 0.15394s</pre>"
            ],
            "text/plain": [
              "    Data prepared in: 0.15394s"
            ]
          },
          "metadata": {
            "tags": []
          }
        },
        {
          "output_type": "display_data",
          "data": {
            "text/html": [
              "<pre>Training model from provided data.</pre>"
            ],
            "text/plain": [
              "Training model from provided data."
            ]
          },
          "metadata": {
            "tags": []
          }
        },
        {
          "output_type": "display_data",
          "data": {
            "text/html": [
              "<pre>Gathering per-item and per-user statistics.</pre>"
            ],
            "text/plain": [
              "Gathering per-item and per-user statistics."
            ]
          },
          "metadata": {
            "tags": []
          }
        },
        {
          "output_type": "display_data",
          "data": {
            "text/html": [
              "<pre>+--------------------------------+------------+</pre>"
            ],
            "text/plain": [
              "+--------------------------------+------------+"
            ]
          },
          "metadata": {
            "tags": []
          }
        },
        {
          "output_type": "display_data",
          "data": {
            "text/html": [
              "<pre>| Elapsed Time (Item Statistics) | % Complete |</pre>"
            ],
            "text/plain": [
              "| Elapsed Time (Item Statistics) | % Complete |"
            ]
          },
          "metadata": {
            "tags": []
          }
        },
        {
          "output_type": "display_data",
          "data": {
            "text/html": [
              "<pre>+--------------------------------+------------+</pre>"
            ],
            "text/plain": [
              "+--------------------------------+------------+"
            ]
          },
          "metadata": {
            "tags": []
          }
        },
        {
          "output_type": "display_data",
          "data": {
            "text/html": [
              "<pre>| 1.026ms                        | 1.25       |</pre>"
            ],
            "text/plain": [
              "| 1.026ms                        | 1.25       |"
            ]
          },
          "metadata": {
            "tags": []
          }
        },
        {
          "output_type": "display_data",
          "data": {
            "text/html": [
              "<pre>| 10.126ms                       | 100        |</pre>"
            ],
            "text/plain": [
              "| 10.126ms                       | 100        |"
            ]
          },
          "metadata": {
            "tags": []
          }
        },
        {
          "output_type": "display_data",
          "data": {
            "text/html": [
              "<pre>+--------------------------------+------------+</pre>"
            ],
            "text/plain": [
              "+--------------------------------+------------+"
            ]
          },
          "metadata": {
            "tags": []
          }
        },
        {
          "output_type": "display_data",
          "data": {
            "text/html": [
              "<pre>Setting up lookup tables.</pre>"
            ],
            "text/plain": [
              "Setting up lookup tables."
            ]
          },
          "metadata": {
            "tags": []
          }
        },
        {
          "output_type": "display_data",
          "data": {
            "text/html": [
              "<pre>Processing data in one pass using dense lookup tables.</pre>"
            ],
            "text/plain": [
              "Processing data in one pass using dense lookup tables."
            ]
          },
          "metadata": {
            "tags": []
          }
        },
        {
          "output_type": "display_data",
          "data": {
            "text/html": [
              "<pre>+-------------------------------------+------------------+-----------------+</pre>"
            ],
            "text/plain": [
              "+-------------------------------------+------------------+-----------------+"
            ]
          },
          "metadata": {
            "tags": []
          }
        },
        {
          "output_type": "display_data",
          "data": {
            "text/html": [
              "<pre>| Elapsed Time (Constructing Lookups) | Total % Complete | Items Processed |</pre>"
            ],
            "text/plain": [
              "| Elapsed Time (Constructing Lookups) | Total % Complete | Items Processed |"
            ]
          },
          "metadata": {
            "tags": []
          }
        },
        {
          "output_type": "display_data",
          "data": {
            "text/html": [
              "<pre>+-------------------------------------+------------------+-----------------+</pre>"
            ],
            "text/plain": [
              "+-------------------------------------+------------------+-----------------+"
            ]
          },
          "metadata": {
            "tags": []
          }
        },
        {
          "output_type": "display_data",
          "data": {
            "text/html": [
              "<pre>| 795.586ms                           | 0                | 0               |</pre>"
            ],
            "text/plain": [
              "| 795.586ms                           | 0                | 0               |"
            ]
          },
          "metadata": {
            "tags": []
          }
        },
        {
          "output_type": "display_data",
          "data": {
            "text/html": [
              "<pre>| 4.32s                               | 100              | 26898           |</pre>"
            ],
            "text/plain": [
              "| 4.32s                               | 100              | 26898           |"
            ]
          },
          "metadata": {
            "tags": []
          }
        },
        {
          "output_type": "display_data",
          "data": {
            "text/html": [
              "<pre>+-------------------------------------+------------------+-----------------+</pre>"
            ],
            "text/plain": [
              "+-------------------------------------+------------------+-----------------+"
            ]
          },
          "metadata": {
            "tags": []
          }
        },
        {
          "output_type": "display_data",
          "data": {
            "text/html": [
              "<pre>Finalizing lookup tables.</pre>"
            ],
            "text/plain": [
              "Finalizing lookup tables."
            ]
          },
          "metadata": {
            "tags": []
          }
        },
        {
          "output_type": "display_data",
          "data": {
            "text/html": [
              "<pre>Generating candidate set for working with new users.</pre>"
            ],
            "text/plain": [
              "Generating candidate set for working with new users."
            ]
          },
          "metadata": {
            "tags": []
          }
        },
        {
          "output_type": "display_data",
          "data": {
            "text/html": [
              "<pre>Finished training in 4.35216s</pre>"
            ],
            "text/plain": [
              "Finished training in 4.35216s"
            ]
          },
          "metadata": {
            "tags": []
          }
        }
      ]
    },
    {
      "cell_type": "code",
      "metadata": {
        "colab_type": "code",
        "id": "JtGtNTB8aU1U",
        "outputId": "34b90d54-fa23-4610-d7e4-a39afefb9d2f",
        "colab": {
          "base_uri": "https://localhost:8080/",
          "height": 714
        }
      },
      "source": [
        "print(\"=============================================\")  \n",
        "print(\"          CORRELACION PEARSON \")\n",
        "print(\"============================================\")  \n",
        "# Se generan las recomendaciones para un Cliente\n",
        "print(\"=============================================\")  \n",
        "print(\"Metodo: Colaborativo - DS Normalizado\")\n",
        "print(\"=============================================\") \n",
        "fac_pearson.recommend(users=list(['48821','66843']), k=5).print_rows(10)\n",
        "\n",
        "print(\"============================================\")  \n",
        "print(\"Metodo: Colaborativo - DS Referencia\")\n",
        "print(\"============================================\") \n",
        "dum_pearson.recommend(users=list(['48821','66843']), k=5).print_rows(10) "
      ],
      "execution_count": 20,
      "outputs": [
        {
          "output_type": "stream",
          "text": [
            "=============================================\n",
            "          CORRELACION PEARSON \n",
            "============================================\n",
            "=============================================\n",
            "Metodo: Colaborativo - DS Normalizado\n",
            "=============================================\n",
            "+------------+-------------+-------+------+\n",
            "| ID_CLIENTE | ID_PRODUCTO | score | rank |\n",
            "+------------+-------------+-------+------+\n",
            "|   48821    |    32148    |  1.0  |  1   |\n",
            "|   48821    |    32385    |  1.0  |  2   |\n",
            "|   48821    |     531     |  1.0  |  3   |\n",
            "|   48821    |     8019    |  1.0  |  4   |\n",
            "|   48821    |    24153    |  1.0  |  5   |\n",
            "|   66843    |    32148    |  1.0  |  1   |\n",
            "|   66843    |    32385    |  1.0  |  2   |\n",
            "|   66843    |     531     |  1.0  |  3   |\n",
            "|   66843    |     8019    |  1.0  |  4   |\n",
            "|   66843    |    24153    |  1.0  |  5   |\n",
            "+------------+-------------+-------+------+\n",
            "[10 rows x 4 columns]\n",
            "\n",
            "============================================\n",
            "Metodo: Colaborativo - DS Referencia\n",
            "============================================\n",
            "+------------+-------------+-------+------+\n",
            "| ID_CLIENTE | ID_PRODUCTO | score | rank |\n",
            "+------------+-------------+-------+------+\n",
            "|   48821    |     3222    |  0.0  |  1   |\n",
            "|   48821    |    14119    |  0.0  |  2   |\n",
            "|   48821    |    20754    |  0.0  |  3   |\n",
            "|   48821    |    15951    |  0.0  |  4   |\n",
            "|   48821    |    23169    |  0.0  |  5   |\n",
            "|   66843    |     3222    |  0.0  |  1   |\n",
            "|   66843    |    14119    |  0.0  |  2   |\n",
            "|   66843    |    20754    |  0.0  |  3   |\n",
            "|   66843    |    15951    |  0.0  |  4   |\n",
            "|   66843    |    23169    |  0.0  |  5   |\n",
            "+------------+-------------+-------+------+\n",
            "[10 rows x 4 columns]\n",
            "\n"
          ],
          "name": "stdout"
        }
      ]
    },
    {
      "cell_type": "markdown",
      "metadata": {
        "colab_type": "text",
        "id": "rt1oYyEtGEn3"
      },
      "source": [
        "### 1.5 Evaluación de Modelos \n",
        "Con el fin de establecer cual es el mejor modelo entre los tres probados, se realiza una validación de estos de forma conjunta "
      ]
    },
    {
      "cell_type": "code",
      "metadata": {
        "colab_type": "code",
        "id": "tIVMOHxIa19d",
        "outputId": "8120c574-fbde-471c-e79d-4eedd97950f5",
        "colab": {
          "base_uri": "https://localhost:8080/",
          "height": 1000
        }
      },
      "source": [
        "evaluacion_modelos('normalizado',test_data)"
      ],
      "execution_count": 21,
      "outputs": [
        {
          "output_type": "stream",
          "text": [
            "PROGRESS: Evaluate model Modelo basado en contenido\n"
          ],
          "name": "stdout"
        },
        {
          "output_type": "display_data",
          "data": {
            "text/html": [
              "<pre>recommendations finished on 1000/4467 queries. users per second: 43639.5</pre>"
            ],
            "text/plain": [
              "recommendations finished on 1000/4467 queries. users per second: 43639.5"
            ]
          },
          "metadata": {
            "tags": []
          }
        },
        {
          "output_type": "display_data",
          "data": {
            "text/html": [
              "<pre>recommendations finished on 2000/4467 queries. users per second: 42957.2</pre>"
            ],
            "text/plain": [
              "recommendations finished on 2000/4467 queries. users per second: 42957.2"
            ]
          },
          "metadata": {
            "tags": []
          }
        },
        {
          "output_type": "display_data",
          "data": {
            "text/html": [
              "<pre>recommendations finished on 3000/4467 queries. users per second: 43013.8</pre>"
            ],
            "text/plain": [
              "recommendations finished on 3000/4467 queries. users per second: 43013.8"
            ]
          },
          "metadata": {
            "tags": []
          }
        },
        {
          "output_type": "display_data",
          "data": {
            "text/html": [
              "<pre>recommendations finished on 4000/4467 queries. users per second: 43231.1</pre>"
            ],
            "text/plain": [
              "recommendations finished on 4000/4467 queries. users per second: 43231.1"
            ]
          },
          "metadata": {
            "tags": []
          }
        },
        {
          "output_type": "stream",
          "text": [
            "/usr/local/lib/python3.6/dist-packages/turicreate/aggregate.py:92: UserWarning: Passing parameter(s) to COUNT is deprecated. This functionality will be removed in the next major release. Any passed parameters are ignored.\n",
            "  + 'the next major release. Any passed parameters are ignored.')\n"
          ],
          "name": "stderr"
        },
        {
          "output_type": "stream",
          "text": [
            "\n",
            "Precision and recall summary statistics by cutoff\n",
            "+--------+------------------------+-----------------------+\n",
            "| cutoff |     mean_precision     |      mean_recall      |\n",
            "+--------+------------------------+-----------------------+\n",
            "|   1    | 0.0006715916722632639  | 0.0006715916722632639 |\n",
            "|   2    | 0.0005596597268860532  | 0.0011193194537721064 |\n",
            "|   3    | 0.0004477277815088424  |  0.001343183344526526 |\n",
            "|   4    |  0.000391761808820237  |  0.001567047235280948 |\n",
            "|   5    | 0.00035818222520707415 | 0.0017909111260353708 |\n",
            "|   6    | 0.0003357958361316319  | 0.0020147750167897925 |\n",
            "|   7    |  0.000351786114042662  |  0.002462502798298633 |\n",
            "|   8    | 0.0003637788224759347  | 0.0029102305798074774 |\n",
            "|   9    | 0.0003482327189513219  | 0.0031340944705618985 |\n",
            "|   10   | 0.00033579583613163193 |  0.003357958361316321 |\n",
            "+--------+------------------------+-----------------------+\n",
            "[10 rows x 3 columns]\n",
            "\n",
            "\n",
            "Overall RMSE: 0.5847726523553658\n",
            "\n",
            "Per User RMSE (best)\n",
            "+------------+------+-------+\n",
            "| ID_CLIENTE | rmse | count |\n",
            "+------------+------+-------+\n",
            "|   93770    | 0.0  |   1   |\n",
            "+------------+------+-------+\n",
            "[1 rows x 3 columns]\n",
            "\n",
            "\n",
            "Per User RMSE (worst)\n",
            "+------------+------+-------+\n",
            "| ID_CLIENTE | rmse | count |\n",
            "+------------+------+-------+\n",
            "|   94662    | 1.0  |   1   |\n",
            "+------------+------+-------+\n",
            "[1 rows x 3 columns]\n",
            "\n",
            "\n",
            "Per Item RMSE (best)\n",
            "+-------------+------+-------+\n",
            "| ID_PRODUCTO | rmse | count |\n",
            "+-------------+------+-------+\n",
            "|     2922    | 0.0  |   1   |\n",
            "+-------------+------+-------+\n",
            "[1 rows x 3 columns]\n",
            "\n",
            "\n",
            "Per Item RMSE (worst)\n",
            "+-------------+------+-------+\n",
            "| ID_PRODUCTO | rmse | count |\n",
            "+-------------+------+-------+\n",
            "|    26191    | 1.0  |   1   |\n",
            "+-------------+------+-------+\n",
            "[1 rows x 3 columns]\n",
            "\n",
            "PROGRESS: Evaluate model Modelo Colaborativo - Distancia Coseno\n"
          ],
          "name": "stdout"
        },
        {
          "output_type": "display_data",
          "data": {
            "text/html": [
              "<pre>recommendations finished on 1000/4467 queries. users per second: 44430.6</pre>"
            ],
            "text/plain": [
              "recommendations finished on 1000/4467 queries. users per second: 44430.6"
            ]
          },
          "metadata": {
            "tags": []
          }
        },
        {
          "output_type": "display_data",
          "data": {
            "text/html": [
              "<pre>recommendations finished on 2000/4467 queries. users per second: 42265.4</pre>"
            ],
            "text/plain": [
              "recommendations finished on 2000/4467 queries. users per second: 42265.4"
            ]
          },
          "metadata": {
            "tags": []
          }
        },
        {
          "output_type": "display_data",
          "data": {
            "text/html": [
              "<pre>recommendations finished on 3000/4467 queries. users per second: 42933.2</pre>"
            ],
            "text/plain": [
              "recommendations finished on 3000/4467 queries. users per second: 42933.2"
            ]
          },
          "metadata": {
            "tags": []
          }
        },
        {
          "output_type": "display_data",
          "data": {
            "text/html": [
              "<pre>recommendations finished on 4000/4467 queries. users per second: 40473.5</pre>"
            ],
            "text/plain": [
              "recommendations finished on 4000/4467 queries. users per second: 40473.5"
            ]
          },
          "metadata": {
            "tags": []
          }
        },
        {
          "output_type": "stream",
          "text": [
            "\n",
            "Precision and recall summary statistics by cutoff\n",
            "+--------+-----------------------+----------------------+\n",
            "| cutoff |     mean_precision    |     mean_recall      |\n",
            "+--------+-----------------------+----------------------+\n",
            "|   1    | 0.0049250055965972695 | 0.004813073651220058 |\n",
            "|   2    | 0.0030221625251846875 | 0.005932393104992163 |\n",
            "|   3    |  0.002089396313707931 | 0.006156256995746583 |\n",
            "|   4    | 0.0018468770987239754 | 0.007163644504141482 |\n",
            "|   5    | 0.0016118200134318335 | 0.007835236176404735 |\n",
            "|   6    |  0.002164017610626071 | 0.012760241773002015 |\n",
            "|   7    | 0.0019188333493236115 | 0.013207969554510859 |\n",
            "|   8    | 0.0017629281396910682 | 0.013879561226774131 |\n",
            "|   9    | 0.0016416685321990873 | 0.014551152899037386 |\n",
            "|   10   | 0.0014998880680546212 | 0.01477501678979181  |\n",
            "+--------+-----------------------+----------------------+\n",
            "[10 rows x 3 columns]\n",
            "\n",
            "\n",
            "Overall RMSE: 0.5595431702146847\n",
            "\n",
            "Per User RMSE (best)\n",
            "+------------+------+-------+\n",
            "| ID_CLIENTE | rmse | count |\n",
            "+------------+------+-------+\n",
            "|   76716    | 0.0  |   1   |\n",
            "+------------+------+-------+\n",
            "[1 rows x 3 columns]\n",
            "\n",
            "\n",
            "Per User RMSE (worst)\n",
            "+------------+------+-------+\n",
            "| ID_CLIENTE | rmse | count |\n",
            "+------------+------+-------+\n",
            "|   50812    | 1.0  |   1   |\n",
            "+------------+------+-------+\n",
            "[1 rows x 3 columns]\n",
            "\n",
            "\n",
            "Per Item RMSE (best)\n",
            "+-------------+------+-------+\n",
            "| ID_PRODUCTO | rmse | count |\n",
            "+-------------+------+-------+\n",
            "|    20653    | 0.0  |   1   |\n",
            "+-------------+------+-------+\n",
            "[1 rows x 3 columns]\n",
            "\n",
            "\n",
            "Per Item RMSE (worst)\n",
            "+-------------+------+-------+\n",
            "| ID_PRODUCTO | rmse | count |\n",
            "+-------------+------+-------+\n",
            "|    26191    | 1.0  |   1   |\n",
            "+-------------+------+-------+\n",
            "[1 rows x 3 columns]\n",
            "\n",
            "PROGRESS: Evaluate model Modelo Colaborativo - Pearson\n"
          ],
          "name": "stdout"
        },
        {
          "output_type": "display_data",
          "data": {
            "text/html": [
              "<pre>recommendations finished on 1000/4467 queries. users per second: 36893.6</pre>"
            ],
            "text/plain": [
              "recommendations finished on 1000/4467 queries. users per second: 36893.6"
            ]
          },
          "metadata": {
            "tags": []
          }
        },
        {
          "output_type": "display_data",
          "data": {
            "text/html": [
              "<pre>recommendations finished on 2000/4467 queries. users per second: 35496.9</pre>"
            ],
            "text/plain": [
              "recommendations finished on 2000/4467 queries. users per second: 35496.9"
            ]
          },
          "metadata": {
            "tags": []
          }
        },
        {
          "output_type": "display_data",
          "data": {
            "text/html": [
              "<pre>recommendations finished on 3000/4467 queries. users per second: 36140.2</pre>"
            ],
            "text/plain": [
              "recommendations finished on 3000/4467 queries. users per second: 36140.2"
            ]
          },
          "metadata": {
            "tags": []
          }
        },
        {
          "output_type": "display_data",
          "data": {
            "text/html": [
              "<pre>recommendations finished on 4000/4467 queries. users per second: 36911.9</pre>"
            ],
            "text/plain": [
              "recommendations finished on 4000/4467 queries. users per second: 36911.9"
            ]
          },
          "metadata": {
            "tags": []
          }
        },
        {
          "output_type": "stream",
          "text": [
            "\n",
            "Precision and recall summary statistics by cutoff\n",
            "+--------+------------------------+------------------------+\n",
            "| cutoff |     mean_precision     |      mean_recall       |\n",
            "+--------+------------------------+------------------------+\n",
            "|   1    | 0.00022386389075442135 | 0.00022386389075442135 |\n",
            "|   2    | 0.00022386389075442116 | 0.0004477277815088423  |\n",
            "|   3    | 0.00022386389075442132 |  0.000671591672263264  |\n",
            "|   4    | 0.00022386389075442127 | 0.0008954555630176851  |\n",
            "|   5    | 0.00022386389075442127 | 0.0011193194537721073  |\n",
            "|   6    | 0.00022386389075442127 |  0.001343183344526527  |\n",
            "|   7    | 0.0002238638907544212  | 0.0015670472352809486  |\n",
            "|   8    | 0.00022386389075442135 | 0.0017909111260353708  |\n",
            "|   9    | 0.00019899012511504126 | 0.0017909111260353704  |\n",
            "|   10   | 0.00020147750167897924 | 0.0020147750167897917  |\n",
            "+--------+------------------------+------------------------+\n",
            "[10 rows x 3 columns]\n",
            "\n",
            "\n",
            "Overall RMSE: 0.6023458116591319\n",
            "\n",
            "Per User RMSE (best)\n",
            "+------------+------+-------+\n",
            "| ID_CLIENTE | rmse | count |\n",
            "+------------+------+-------+\n",
            "|    7730    | 0.0  |   1   |\n",
            "+------------+------+-------+\n",
            "[1 rows x 3 columns]\n",
            "\n",
            "\n",
            "Per User RMSE (worst)\n",
            "+------------+------+-------+\n",
            "| ID_CLIENTE | rmse | count |\n",
            "+------------+------+-------+\n",
            "|   94662    | 1.0  |   1   |\n",
            "+------------+------+-------+\n",
            "[1 rows x 3 columns]\n",
            "\n",
            "\n",
            "Per Item RMSE (best)\n",
            "+-------------+------+-------+\n",
            "| ID_PRODUCTO | rmse | count |\n",
            "+-------------+------+-------+\n",
            "|     2922    | 0.0  |   1   |\n",
            "+-------------+------+-------+\n",
            "[1 rows x 3 columns]\n",
            "\n",
            "\n",
            "Per Item RMSE (worst)\n",
            "+-------------+------+-------+\n",
            "| ID_PRODUCTO | rmse | count |\n",
            "+-------------+------+-------+\n",
            "|    26191    | 1.0  |   1   |\n",
            "+-------------+------+-------+\n",
            "[1 rows x 3 columns]\n",
            "\n"
          ],
          "name": "stdout"
        }
      ]
    },
    {
      "cell_type": "code",
      "metadata": {
        "colab_type": "code",
        "id": "jbarhzLxexiC",
        "outputId": "e80fbea4-067a-4fee-f9bc-9c794cb7d522",
        "colab": {
          "base_uri": "https://localhost:8080/",
          "height": 1000
        }
      },
      "source": [
        "evaluacion_modelos('dummy',test_data_dummy)  "
      ],
      "execution_count": 22,
      "outputs": [
        {
          "output_type": "stream",
          "text": [
            "PROGRESS: Evaluate model Modelo Dummy basado en contenido\n"
          ],
          "name": "stdout"
        },
        {
          "output_type": "display_data",
          "data": {
            "text/html": [
              "<pre>recommendations finished on 1000/31733 queries. users per second: 10335.4</pre>"
            ],
            "text/plain": [
              "recommendations finished on 1000/31733 queries. users per second: 10335.4"
            ]
          },
          "metadata": {
            "tags": []
          }
        },
        {
          "output_type": "display_data",
          "data": {
            "text/html": [
              "<pre>recommendations finished on 2000/31733 queries. users per second: 10214.6</pre>"
            ],
            "text/plain": [
              "recommendations finished on 2000/31733 queries. users per second: 10214.6"
            ]
          },
          "metadata": {
            "tags": []
          }
        },
        {
          "output_type": "display_data",
          "data": {
            "text/html": [
              "<pre>recommendations finished on 3000/31733 queries. users per second: 10154.2</pre>"
            ],
            "text/plain": [
              "recommendations finished on 3000/31733 queries. users per second: 10154.2"
            ]
          },
          "metadata": {
            "tags": []
          }
        },
        {
          "output_type": "display_data",
          "data": {
            "text/html": [
              "<pre>recommendations finished on 4000/31733 queries. users per second: 10229.9</pre>"
            ],
            "text/plain": [
              "recommendations finished on 4000/31733 queries. users per second: 10229.9"
            ]
          },
          "metadata": {
            "tags": []
          }
        },
        {
          "output_type": "display_data",
          "data": {
            "text/html": [
              "<pre>recommendations finished on 5000/31733 queries. users per second: 10274</pre>"
            ],
            "text/plain": [
              "recommendations finished on 5000/31733 queries. users per second: 10274"
            ]
          },
          "metadata": {
            "tags": []
          }
        },
        {
          "output_type": "display_data",
          "data": {
            "text/html": [
              "<pre>recommendations finished on 6000/31733 queries. users per second: 10254.5</pre>"
            ],
            "text/plain": [
              "recommendations finished on 6000/31733 queries. users per second: 10254.5"
            ]
          },
          "metadata": {
            "tags": []
          }
        },
        {
          "output_type": "display_data",
          "data": {
            "text/html": [
              "<pre>recommendations finished on 7000/31733 queries. users per second: 10241.4</pre>"
            ],
            "text/plain": [
              "recommendations finished on 7000/31733 queries. users per second: 10241.4"
            ]
          },
          "metadata": {
            "tags": []
          }
        },
        {
          "output_type": "display_data",
          "data": {
            "text/html": [
              "<pre>recommendations finished on 8000/31733 queries. users per second: 10257.4</pre>"
            ],
            "text/plain": [
              "recommendations finished on 8000/31733 queries. users per second: 10257.4"
            ]
          },
          "metadata": {
            "tags": []
          }
        },
        {
          "output_type": "display_data",
          "data": {
            "text/html": [
              "<pre>recommendations finished on 9000/31733 queries. users per second: 10284.8</pre>"
            ],
            "text/plain": [
              "recommendations finished on 9000/31733 queries. users per second: 10284.8"
            ]
          },
          "metadata": {
            "tags": []
          }
        },
        {
          "output_type": "display_data",
          "data": {
            "text/html": [
              "<pre>recommendations finished on 10000/31733 queries. users per second: 10303.2</pre>"
            ],
            "text/plain": [
              "recommendations finished on 10000/31733 queries. users per second: 10303.2"
            ]
          },
          "metadata": {
            "tags": []
          }
        },
        {
          "output_type": "display_data",
          "data": {
            "text/html": [
              "<pre>recommendations finished on 11000/31733 queries. users per second: 10274.7</pre>"
            ],
            "text/plain": [
              "recommendations finished on 11000/31733 queries. users per second: 10274.7"
            ]
          },
          "metadata": {
            "tags": []
          }
        },
        {
          "output_type": "display_data",
          "data": {
            "text/html": [
              "<pre>recommendations finished on 12000/31733 queries. users per second: 10247.8</pre>"
            ],
            "text/plain": [
              "recommendations finished on 12000/31733 queries. users per second: 10247.8"
            ]
          },
          "metadata": {
            "tags": []
          }
        },
        {
          "output_type": "display_data",
          "data": {
            "text/html": [
              "<pre>recommendations finished on 13000/31733 queries. users per second: 10257.1</pre>"
            ],
            "text/plain": [
              "recommendations finished on 13000/31733 queries. users per second: 10257.1"
            ]
          },
          "metadata": {
            "tags": []
          }
        },
        {
          "output_type": "display_data",
          "data": {
            "text/html": [
              "<pre>recommendations finished on 14000/31733 queries. users per second: 10259.4</pre>"
            ],
            "text/plain": [
              "recommendations finished on 14000/31733 queries. users per second: 10259.4"
            ]
          },
          "metadata": {
            "tags": []
          }
        },
        {
          "output_type": "display_data",
          "data": {
            "text/html": [
              "<pre>recommendations finished on 15000/31733 queries. users per second: 10262.9</pre>"
            ],
            "text/plain": [
              "recommendations finished on 15000/31733 queries. users per second: 10262.9"
            ]
          },
          "metadata": {
            "tags": []
          }
        },
        {
          "output_type": "display_data",
          "data": {
            "text/html": [
              "<pre>recommendations finished on 16000/31733 queries. users per second: 10280.6</pre>"
            ],
            "text/plain": [
              "recommendations finished on 16000/31733 queries. users per second: 10280.6"
            ]
          },
          "metadata": {
            "tags": []
          }
        },
        {
          "output_type": "display_data",
          "data": {
            "text/html": [
              "<pre>recommendations finished on 17000/31733 queries. users per second: 10273.6</pre>"
            ],
            "text/plain": [
              "recommendations finished on 17000/31733 queries. users per second: 10273.6"
            ]
          },
          "metadata": {
            "tags": []
          }
        },
        {
          "output_type": "display_data",
          "data": {
            "text/html": [
              "<pre>recommendations finished on 18000/31733 queries. users per second: 10280</pre>"
            ],
            "text/plain": [
              "recommendations finished on 18000/31733 queries. users per second: 10280"
            ]
          },
          "metadata": {
            "tags": []
          }
        },
        {
          "output_type": "display_data",
          "data": {
            "text/html": [
              "<pre>recommendations finished on 19000/31733 queries. users per second: 10286.6</pre>"
            ],
            "text/plain": [
              "recommendations finished on 19000/31733 queries. users per second: 10286.6"
            ]
          },
          "metadata": {
            "tags": []
          }
        },
        {
          "output_type": "display_data",
          "data": {
            "text/html": [
              "<pre>recommendations finished on 20000/31733 queries. users per second: 10291.6</pre>"
            ],
            "text/plain": [
              "recommendations finished on 20000/31733 queries. users per second: 10291.6"
            ]
          },
          "metadata": {
            "tags": []
          }
        },
        {
          "output_type": "display_data",
          "data": {
            "text/html": [
              "<pre>recommendations finished on 21000/31733 queries. users per second: 10305.7</pre>"
            ],
            "text/plain": [
              "recommendations finished on 21000/31733 queries. users per second: 10305.7"
            ]
          },
          "metadata": {
            "tags": []
          }
        },
        {
          "output_type": "display_data",
          "data": {
            "text/html": [
              "<pre>recommendations finished on 22000/31733 queries. users per second: 10312.3</pre>"
            ],
            "text/plain": [
              "recommendations finished on 22000/31733 queries. users per second: 10312.3"
            ]
          },
          "metadata": {
            "tags": []
          }
        },
        {
          "output_type": "display_data",
          "data": {
            "text/html": [
              "<pre>recommendations finished on 23000/31733 queries. users per second: 10215.4</pre>"
            ],
            "text/plain": [
              "recommendations finished on 23000/31733 queries. users per second: 10215.4"
            ]
          },
          "metadata": {
            "tags": []
          }
        },
        {
          "output_type": "display_data",
          "data": {
            "text/html": [
              "<pre>recommendations finished on 24000/31733 queries. users per second: 10157.5</pre>"
            ],
            "text/plain": [
              "recommendations finished on 24000/31733 queries. users per second: 10157.5"
            ]
          },
          "metadata": {
            "tags": []
          }
        },
        {
          "output_type": "display_data",
          "data": {
            "text/html": [
              "<pre>recommendations finished on 25000/31733 queries. users per second: 10149.4</pre>"
            ],
            "text/plain": [
              "recommendations finished on 25000/31733 queries. users per second: 10149.4"
            ]
          },
          "metadata": {
            "tags": []
          }
        },
        {
          "output_type": "display_data",
          "data": {
            "text/html": [
              "<pre>recommendations finished on 26000/31733 queries. users per second: 10162.6</pre>"
            ],
            "text/plain": [
              "recommendations finished on 26000/31733 queries. users per second: 10162.6"
            ]
          },
          "metadata": {
            "tags": []
          }
        },
        {
          "output_type": "display_data",
          "data": {
            "text/html": [
              "<pre>recommendations finished on 27000/31733 queries. users per second: 10175.7</pre>"
            ],
            "text/plain": [
              "recommendations finished on 27000/31733 queries. users per second: 10175.7"
            ]
          },
          "metadata": {
            "tags": []
          }
        },
        {
          "output_type": "display_data",
          "data": {
            "text/html": [
              "<pre>recommendations finished on 28000/31733 queries. users per second: 10190</pre>"
            ],
            "text/plain": [
              "recommendations finished on 28000/31733 queries. users per second: 10190"
            ]
          },
          "metadata": {
            "tags": []
          }
        },
        {
          "output_type": "display_data",
          "data": {
            "text/html": [
              "<pre>recommendations finished on 29000/31733 queries. users per second: 10193.3</pre>"
            ],
            "text/plain": [
              "recommendations finished on 29000/31733 queries. users per second: 10193.3"
            ]
          },
          "metadata": {
            "tags": []
          }
        },
        {
          "output_type": "display_data",
          "data": {
            "text/html": [
              "<pre>recommendations finished on 30000/31733 queries. users per second: 10205.1</pre>"
            ],
            "text/plain": [
              "recommendations finished on 30000/31733 queries. users per second: 10205.1"
            ]
          },
          "metadata": {
            "tags": []
          }
        },
        {
          "output_type": "display_data",
          "data": {
            "text/html": [
              "<pre>recommendations finished on 31000/31733 queries. users per second: 10194.8</pre>"
            ],
            "text/plain": [
              "recommendations finished on 31000/31733 queries. users per second: 10194.8"
            ]
          },
          "metadata": {
            "tags": []
          }
        },
        {
          "output_type": "stream",
          "text": [
            "/usr/local/lib/python3.6/dist-packages/turicreate/aggregate.py:92: UserWarning: Passing parameter(s) to COUNT is deprecated. This functionality will be removed in the next major release. Any passed parameters are ignored.\n",
            "  + 'the next major release. Any passed parameters are ignored.')\n"
          ],
          "name": "stderr"
        },
        {
          "output_type": "stream",
          "text": [
            "\n",
            "Precision and recall summary statistics by cutoff\n",
            "+--------+------------------------+------------------------+\n",
            "| cutoff |     mean_precision     |      mean_recall       |\n",
            "+--------+------------------------+------------------------+\n",
            "|   1    |          0.0           |          0.0           |\n",
            "|   2    |          0.0           |          0.0           |\n",
            "|   3    |          0.0           |          0.0           |\n",
            "|   4    | 7.878234015063171e-06  | 3.1512936060252685e-05 |\n",
            "|   5    | 1.890776163615162e-05  | 9.453880818075806e-05  |\n",
            "|   6    | 2.1008624040168457e-05 | 0.00012605174424101063 |\n",
            "|   7    | 1.8007392034430125e-05 | 0.00012605174424101074 |\n",
            "|   8    | 1.575646803012634e-05  | 0.00012605174424101071 |\n",
            "|   9    | 1.400574936011228e-05  | 0.0001260517442410108  |\n",
            "|   10   | 1.2605174424101072e-05 | 0.00012605174424101052 |\n",
            "+--------+------------------------+------------------------+\n",
            "[10 rows x 3 columns]\n",
            "\n",
            "\n",
            "Overall RMSE: 0.0\n",
            "\n",
            "Per User RMSE (best)\n",
            "+------------+------+-------+\n",
            "| ID_CLIENTE | rmse | count |\n",
            "+------------+------+-------+\n",
            "|   47768    | 0.0  |   1   |\n",
            "+------------+------+-------+\n",
            "[1 rows x 3 columns]\n",
            "\n",
            "\n",
            "Per User RMSE (worst)\n",
            "+------------+------+-------+\n",
            "| ID_CLIENTE | rmse | count |\n",
            "+------------+------+-------+\n",
            "|   31998    | 0.0  |   1   |\n",
            "+------------+------+-------+\n",
            "[1 rows x 3 columns]\n",
            "\n",
            "\n",
            "Per Item RMSE (best)\n",
            "+-------------+------+-------+\n",
            "| ID_PRODUCTO | rmse | count |\n",
            "+-------------+------+-------+\n",
            "|     3155    | 0.0  |   1   |\n",
            "+-------------+------+-------+\n",
            "[1 rows x 3 columns]\n",
            "\n",
            "\n",
            "Per Item RMSE (worst)\n",
            "+-------------+------+-------+\n",
            "| ID_PRODUCTO | rmse | count |\n",
            "+-------------+------+-------+\n",
            "|    18653    | 0.0  |   3   |\n",
            "+-------------+------+-------+\n",
            "[1 rows x 3 columns]\n",
            "\n",
            "PROGRESS: Evaluate model Modelo Dummy Colaborativo - Distancia Coseno\n"
          ],
          "name": "stdout"
        },
        {
          "output_type": "display_data",
          "data": {
            "text/html": [
              "<pre>recommendations finished on 1000/31733 queries. users per second: 7608.21</pre>"
            ],
            "text/plain": [
              "recommendations finished on 1000/31733 queries. users per second: 7608.21"
            ]
          },
          "metadata": {
            "tags": []
          }
        },
        {
          "output_type": "display_data",
          "data": {
            "text/html": [
              "<pre>recommendations finished on 2000/31733 queries. users per second: 7711.56</pre>"
            ],
            "text/plain": [
              "recommendations finished on 2000/31733 queries. users per second: 7711.56"
            ]
          },
          "metadata": {
            "tags": []
          }
        },
        {
          "output_type": "display_data",
          "data": {
            "text/html": [
              "<pre>recommendations finished on 3000/31733 queries. users per second: 7788.2</pre>"
            ],
            "text/plain": [
              "recommendations finished on 3000/31733 queries. users per second: 7788.2"
            ]
          },
          "metadata": {
            "tags": []
          }
        },
        {
          "output_type": "display_data",
          "data": {
            "text/html": [
              "<pre>recommendations finished on 4000/31733 queries. users per second: 7845.38</pre>"
            ],
            "text/plain": [
              "recommendations finished on 4000/31733 queries. users per second: 7845.38"
            ]
          },
          "metadata": {
            "tags": []
          }
        },
        {
          "output_type": "display_data",
          "data": {
            "text/html": [
              "<pre>recommendations finished on 5000/31733 queries. users per second: 7859.32</pre>"
            ],
            "text/plain": [
              "recommendations finished on 5000/31733 queries. users per second: 7859.32"
            ]
          },
          "metadata": {
            "tags": []
          }
        },
        {
          "output_type": "display_data",
          "data": {
            "text/html": [
              "<pre>recommendations finished on 6000/31733 queries. users per second: 7824.26</pre>"
            ],
            "text/plain": [
              "recommendations finished on 6000/31733 queries. users per second: 7824.26"
            ]
          },
          "metadata": {
            "tags": []
          }
        },
        {
          "output_type": "display_data",
          "data": {
            "text/html": [
              "<pre>recommendations finished on 7000/31733 queries. users per second: 7846.67</pre>"
            ],
            "text/plain": [
              "recommendations finished on 7000/31733 queries. users per second: 7846.67"
            ]
          },
          "metadata": {
            "tags": []
          }
        },
        {
          "output_type": "display_data",
          "data": {
            "text/html": [
              "<pre>recommendations finished on 8000/31733 queries. users per second: 7835.17</pre>"
            ],
            "text/plain": [
              "recommendations finished on 8000/31733 queries. users per second: 7835.17"
            ]
          },
          "metadata": {
            "tags": []
          }
        },
        {
          "output_type": "display_data",
          "data": {
            "text/html": [
              "<pre>recommendations finished on 9000/31733 queries. users per second: 7833.67</pre>"
            ],
            "text/plain": [
              "recommendations finished on 9000/31733 queries. users per second: 7833.67"
            ]
          },
          "metadata": {
            "tags": []
          }
        },
        {
          "output_type": "display_data",
          "data": {
            "text/html": [
              "<pre>recommendations finished on 10000/31733 queries. users per second: 7841.03</pre>"
            ],
            "text/plain": [
              "recommendations finished on 10000/31733 queries. users per second: 7841.03"
            ]
          },
          "metadata": {
            "tags": []
          }
        },
        {
          "output_type": "display_data",
          "data": {
            "text/html": [
              "<pre>recommendations finished on 11000/31733 queries. users per second: 7841.12</pre>"
            ],
            "text/plain": [
              "recommendations finished on 11000/31733 queries. users per second: 7841.12"
            ]
          },
          "metadata": {
            "tags": []
          }
        },
        {
          "output_type": "display_data",
          "data": {
            "text/html": [
              "<pre>recommendations finished on 12000/31733 queries. users per second: 7819.44</pre>"
            ],
            "text/plain": [
              "recommendations finished on 12000/31733 queries. users per second: 7819.44"
            ]
          },
          "metadata": {
            "tags": []
          }
        },
        {
          "output_type": "display_data",
          "data": {
            "text/html": [
              "<pre>recommendations finished on 13000/31733 queries. users per second: 7820.52</pre>"
            ],
            "text/plain": [
              "recommendations finished on 13000/31733 queries. users per second: 7820.52"
            ]
          },
          "metadata": {
            "tags": []
          }
        },
        {
          "output_type": "display_data",
          "data": {
            "text/html": [
              "<pre>recommendations finished on 14000/31733 queries. users per second: 7821.06</pre>"
            ],
            "text/plain": [
              "recommendations finished on 14000/31733 queries. users per second: 7821.06"
            ]
          },
          "metadata": {
            "tags": []
          }
        },
        {
          "output_type": "display_data",
          "data": {
            "text/html": [
              "<pre>recommendations finished on 15000/31733 queries. users per second: 7827.25</pre>"
            ],
            "text/plain": [
              "recommendations finished on 15000/31733 queries. users per second: 7827.25"
            ]
          },
          "metadata": {
            "tags": []
          }
        },
        {
          "output_type": "display_data",
          "data": {
            "text/html": [
              "<pre>recommendations finished on 16000/31733 queries. users per second: 7828.34</pre>"
            ],
            "text/plain": [
              "recommendations finished on 16000/31733 queries. users per second: 7828.34"
            ]
          },
          "metadata": {
            "tags": []
          }
        },
        {
          "output_type": "display_data",
          "data": {
            "text/html": [
              "<pre>recommendations finished on 17000/31733 queries. users per second: 7835.6</pre>"
            ],
            "text/plain": [
              "recommendations finished on 17000/31733 queries. users per second: 7835.6"
            ]
          },
          "metadata": {
            "tags": []
          }
        },
        {
          "output_type": "display_data",
          "data": {
            "text/html": [
              "<pre>recommendations finished on 18000/31733 queries. users per second: 7839.49</pre>"
            ],
            "text/plain": [
              "recommendations finished on 18000/31733 queries. users per second: 7839.49"
            ]
          },
          "metadata": {
            "tags": []
          }
        },
        {
          "output_type": "display_data",
          "data": {
            "text/html": [
              "<pre>recommendations finished on 19000/31733 queries. users per second: 7844.56</pre>"
            ],
            "text/plain": [
              "recommendations finished on 19000/31733 queries. users per second: 7844.56"
            ]
          },
          "metadata": {
            "tags": []
          }
        },
        {
          "output_type": "display_data",
          "data": {
            "text/html": [
              "<pre>recommendations finished on 20000/31733 queries. users per second: 7824.18</pre>"
            ],
            "text/plain": [
              "recommendations finished on 20000/31733 queries. users per second: 7824.18"
            ]
          },
          "metadata": {
            "tags": []
          }
        },
        {
          "output_type": "display_data",
          "data": {
            "text/html": [
              "<pre>recommendations finished on 21000/31733 queries. users per second: 7830.45</pre>"
            ],
            "text/plain": [
              "recommendations finished on 21000/31733 queries. users per second: 7830.45"
            ]
          },
          "metadata": {
            "tags": []
          }
        },
        {
          "output_type": "display_data",
          "data": {
            "text/html": [
              "<pre>recommendations finished on 22000/31733 queries. users per second: 7838.32</pre>"
            ],
            "text/plain": [
              "recommendations finished on 22000/31733 queries. users per second: 7838.32"
            ]
          },
          "metadata": {
            "tags": []
          }
        },
        {
          "output_type": "display_data",
          "data": {
            "text/html": [
              "<pre>recommendations finished on 23000/31733 queries. users per second: 7794.34</pre>"
            ],
            "text/plain": [
              "recommendations finished on 23000/31733 queries. users per second: 7794.34"
            ]
          },
          "metadata": {
            "tags": []
          }
        },
        {
          "output_type": "display_data",
          "data": {
            "text/html": [
              "<pre>recommendations finished on 24000/31733 queries. users per second: 7744.32</pre>"
            ],
            "text/plain": [
              "recommendations finished on 24000/31733 queries. users per second: 7744.32"
            ]
          },
          "metadata": {
            "tags": []
          }
        },
        {
          "output_type": "display_data",
          "data": {
            "text/html": [
              "<pre>recommendations finished on 25000/31733 queries. users per second: 7723.89</pre>"
            ],
            "text/plain": [
              "recommendations finished on 25000/31733 queries. users per second: 7723.89"
            ]
          },
          "metadata": {
            "tags": []
          }
        },
        {
          "output_type": "display_data",
          "data": {
            "text/html": [
              "<pre>recommendations finished on 26000/31733 queries. users per second: 7734.66</pre>"
            ],
            "text/plain": [
              "recommendations finished on 26000/31733 queries. users per second: 7734.66"
            ]
          },
          "metadata": {
            "tags": []
          }
        },
        {
          "output_type": "display_data",
          "data": {
            "text/html": [
              "<pre>recommendations finished on 27000/31733 queries. users per second: 7743.99</pre>"
            ],
            "text/plain": [
              "recommendations finished on 27000/31733 queries. users per second: 7743.99"
            ]
          },
          "metadata": {
            "tags": []
          }
        },
        {
          "output_type": "display_data",
          "data": {
            "text/html": [
              "<pre>recommendations finished on 28000/31733 queries. users per second: 7750.08</pre>"
            ],
            "text/plain": [
              "recommendations finished on 28000/31733 queries. users per second: 7750.08"
            ]
          },
          "metadata": {
            "tags": []
          }
        },
        {
          "output_type": "display_data",
          "data": {
            "text/html": [
              "<pre>recommendations finished on 29000/31733 queries. users per second: 7756.39</pre>"
            ],
            "text/plain": [
              "recommendations finished on 29000/31733 queries. users per second: 7756.39"
            ]
          },
          "metadata": {
            "tags": []
          }
        },
        {
          "output_type": "display_data",
          "data": {
            "text/html": [
              "<pre>recommendations finished on 30000/31733 queries. users per second: 7761.9</pre>"
            ],
            "text/plain": [
              "recommendations finished on 30000/31733 queries. users per second: 7761.9"
            ]
          },
          "metadata": {
            "tags": []
          }
        },
        {
          "output_type": "display_data",
          "data": {
            "text/html": [
              "<pre>recommendations finished on 31000/31733 queries. users per second: 7748</pre>"
            ],
            "text/plain": [
              "recommendations finished on 31000/31733 queries. users per second: 7748"
            ]
          },
          "metadata": {
            "tags": []
          }
        },
        {
          "output_type": "stream",
          "text": [
            "\n",
            "Precision and recall summary statistics by cutoff\n",
            "+--------+-----------------------+-----------------------+\n",
            "| cutoff |     mean_precision    |      mean_recall      |\n",
            "+--------+-----------------------+-----------------------+\n",
            "|   1    | 0.0033718841584470436 |  0.003109276357944938 |\n",
            "|   2    | 0.0023477137364888317 |  0.004333028708284755 |\n",
            "|   3    | 0.0018067416674544924 |  0.005026313301610308 |\n",
            "|   4    | 0.0014574732927866848 |  0.005435981470393587 |\n",
            "|   5    |  0.001292030378470364 |  0.00604523156755849  |\n",
            "|   6    | 0.0011292135421590594 | 0.0063235958360907145 |\n",
            "|   7    | 0.0010174176499453005 |  0.006638725196693248 |\n",
            "|   8    |  0.000905996911732265 | 0.0067647769409342525 |\n",
            "|   9    | 0.0008123334628865128 |  0.006827802813054758 |\n",
            "|   10   | 0.0007405539974159394 |  0.006922341621235518 |\n",
            "+--------+-----------------------+-----------------------+\n",
            "[10 rows x 3 columns]\n",
            "\n",
            "\n",
            "Overall RMSE: 0.9962646594956646\n",
            "\n",
            "Per User RMSE (best)\n",
            "+------------+--------------------+-------+\n",
            "| ID_CLIENTE |        rmse        | count |\n",
            "+------------+--------------------+-------+\n",
            "|   20642    | 0.2928932309150696 |   1   |\n",
            "+------------+--------------------+-------+\n",
            "[1 rows x 3 columns]\n",
            "\n",
            "\n",
            "Per User RMSE (worst)\n",
            "+------------+------+-------+\n",
            "| ID_CLIENTE | rmse | count |\n",
            "+------------+------+-------+\n",
            "|   31998    | 1.0  |   1   |\n",
            "+------------+------+-------+\n",
            "[1 rows x 3 columns]\n",
            "\n",
            "\n",
            "Per Item RMSE (best)\n",
            "+-------------+---------------------+-------+\n",
            "| ID_PRODUCTO |         rmse        | count |\n",
            "+-------------+---------------------+-------+\n",
            "|    19095    | 0.07692307692307687 |   1   |\n",
            "+-------------+---------------------+-------+\n",
            "[1 rows x 3 columns]\n",
            "\n",
            "\n",
            "Per Item RMSE (worst)\n",
            "+-------------+------+-------+\n",
            "| ID_PRODUCTO | rmse | count |\n",
            "+-------------+------+-------+\n",
            "|    18653    | 1.0  |   3   |\n",
            "+-------------+------+-------+\n",
            "[1 rows x 3 columns]\n",
            "\n",
            "PROGRESS: Evaluate model Modelo Dummy Colaborativo - Pearson\n"
          ],
          "name": "stdout"
        },
        {
          "output_type": "display_data",
          "data": {
            "text/html": [
              "<pre>recommendations finished on 1000/31733 queries. users per second: 6355.34</pre>"
            ],
            "text/plain": [
              "recommendations finished on 1000/31733 queries. users per second: 6355.34"
            ]
          },
          "metadata": {
            "tags": []
          }
        },
        {
          "output_type": "display_data",
          "data": {
            "text/html": [
              "<pre>recommendations finished on 2000/31733 queries. users per second: 6456.61</pre>"
            ],
            "text/plain": [
              "recommendations finished on 2000/31733 queries. users per second: 6456.61"
            ]
          },
          "metadata": {
            "tags": []
          }
        },
        {
          "output_type": "display_data",
          "data": {
            "text/html": [
              "<pre>recommendations finished on 3000/31733 queries. users per second: 6474.89</pre>"
            ],
            "text/plain": [
              "recommendations finished on 3000/31733 queries. users per second: 6474.89"
            ]
          },
          "metadata": {
            "tags": []
          }
        },
        {
          "output_type": "display_data",
          "data": {
            "text/html": [
              "<pre>recommendations finished on 4000/31733 queries. users per second: 6495.68</pre>"
            ],
            "text/plain": [
              "recommendations finished on 4000/31733 queries. users per second: 6495.68"
            ]
          },
          "metadata": {
            "tags": []
          }
        },
        {
          "output_type": "display_data",
          "data": {
            "text/html": [
              "<pre>recommendations finished on 5000/31733 queries. users per second: 6517.85</pre>"
            ],
            "text/plain": [
              "recommendations finished on 5000/31733 queries. users per second: 6517.85"
            ]
          },
          "metadata": {
            "tags": []
          }
        },
        {
          "output_type": "display_data",
          "data": {
            "text/html": [
              "<pre>recommendations finished on 6000/31733 queries. users per second: 6487.88</pre>"
            ],
            "text/plain": [
              "recommendations finished on 6000/31733 queries. users per second: 6487.88"
            ]
          },
          "metadata": {
            "tags": []
          }
        },
        {
          "output_type": "display_data",
          "data": {
            "text/html": [
              "<pre>recommendations finished on 7000/31733 queries. users per second: 6501.83</pre>"
            ],
            "text/plain": [
              "recommendations finished on 7000/31733 queries. users per second: 6501.83"
            ]
          },
          "metadata": {
            "tags": []
          }
        },
        {
          "output_type": "display_data",
          "data": {
            "text/html": [
              "<pre>recommendations finished on 8000/31733 queries. users per second: 6496.76</pre>"
            ],
            "text/plain": [
              "recommendations finished on 8000/31733 queries. users per second: 6496.76"
            ]
          },
          "metadata": {
            "tags": []
          }
        },
        {
          "output_type": "display_data",
          "data": {
            "text/html": [
              "<pre>recommendations finished on 9000/31733 queries. users per second: 6506.5</pre>"
            ],
            "text/plain": [
              "recommendations finished on 9000/31733 queries. users per second: 6506.5"
            ]
          },
          "metadata": {
            "tags": []
          }
        },
        {
          "output_type": "display_data",
          "data": {
            "text/html": [
              "<pre>recommendations finished on 10000/31733 queries. users per second: 6515.45</pre>"
            ],
            "text/plain": [
              "recommendations finished on 10000/31733 queries. users per second: 6515.45"
            ]
          },
          "metadata": {
            "tags": []
          }
        },
        {
          "output_type": "display_data",
          "data": {
            "text/html": [
              "<pre>recommendations finished on 11000/31733 queries. users per second: 6509.36</pre>"
            ],
            "text/plain": [
              "recommendations finished on 11000/31733 queries. users per second: 6509.36"
            ]
          },
          "metadata": {
            "tags": []
          }
        },
        {
          "output_type": "display_data",
          "data": {
            "text/html": [
              "<pre>recommendations finished on 12000/31733 queries. users per second: 6493.19</pre>"
            ],
            "text/plain": [
              "recommendations finished on 12000/31733 queries. users per second: 6493.19"
            ]
          },
          "metadata": {
            "tags": []
          }
        },
        {
          "output_type": "display_data",
          "data": {
            "text/html": [
              "<pre>recommendations finished on 13000/31733 queries. users per second: 6494.99</pre>"
            ],
            "text/plain": [
              "recommendations finished on 13000/31733 queries. users per second: 6494.99"
            ]
          },
          "metadata": {
            "tags": []
          }
        },
        {
          "output_type": "display_data",
          "data": {
            "text/html": [
              "<pre>recommendations finished on 14000/31733 queries. users per second: 6497.26</pre>"
            ],
            "text/plain": [
              "recommendations finished on 14000/31733 queries. users per second: 6497.26"
            ]
          },
          "metadata": {
            "tags": []
          }
        },
        {
          "output_type": "display_data",
          "data": {
            "text/html": [
              "<pre>recommendations finished on 15000/31733 queries. users per second: 6500.3</pre>"
            ],
            "text/plain": [
              "recommendations finished on 15000/31733 queries. users per second: 6500.3"
            ]
          },
          "metadata": {
            "tags": []
          }
        },
        {
          "output_type": "display_data",
          "data": {
            "text/html": [
              "<pre>recommendations finished on 16000/31733 queries. users per second: 6495.5</pre>"
            ],
            "text/plain": [
              "recommendations finished on 16000/31733 queries. users per second: 6495.5"
            ]
          },
          "metadata": {
            "tags": []
          }
        },
        {
          "output_type": "display_data",
          "data": {
            "text/html": [
              "<pre>recommendations finished on 17000/31733 queries. users per second: 6498.92</pre>"
            ],
            "text/plain": [
              "recommendations finished on 17000/31733 queries. users per second: 6498.92"
            ]
          },
          "metadata": {
            "tags": []
          }
        },
        {
          "output_type": "display_data",
          "data": {
            "text/html": [
              "<pre>recommendations finished on 18000/31733 queries. users per second: 6501.76</pre>"
            ],
            "text/plain": [
              "recommendations finished on 18000/31733 queries. users per second: 6501.76"
            ]
          },
          "metadata": {
            "tags": []
          }
        },
        {
          "output_type": "display_data",
          "data": {
            "text/html": [
              "<pre>recommendations finished on 19000/31733 queries. users per second: 6505.2</pre>"
            ],
            "text/plain": [
              "recommendations finished on 19000/31733 queries. users per second: 6505.2"
            ]
          },
          "metadata": {
            "tags": []
          }
        },
        {
          "output_type": "display_data",
          "data": {
            "text/html": [
              "<pre>recommendations finished on 20000/31733 queries. users per second: 6506.27</pre>"
            ],
            "text/plain": [
              "recommendations finished on 20000/31733 queries. users per second: 6506.27"
            ]
          },
          "metadata": {
            "tags": []
          }
        },
        {
          "output_type": "display_data",
          "data": {
            "text/html": [
              "<pre>recommendations finished on 21000/31733 queries. users per second: 6508.18</pre>"
            ],
            "text/plain": [
              "recommendations finished on 21000/31733 queries. users per second: 6508.18"
            ]
          },
          "metadata": {
            "tags": []
          }
        },
        {
          "output_type": "display_data",
          "data": {
            "text/html": [
              "<pre>recommendations finished on 22000/31733 queries. users per second: 6508.65</pre>"
            ],
            "text/plain": [
              "recommendations finished on 22000/31733 queries. users per second: 6508.65"
            ]
          },
          "metadata": {
            "tags": []
          }
        },
        {
          "output_type": "display_data",
          "data": {
            "text/html": [
              "<pre>recommendations finished on 23000/31733 queries. users per second: 6448.44</pre>"
            ],
            "text/plain": [
              "recommendations finished on 23000/31733 queries. users per second: 6448.44"
            ]
          },
          "metadata": {
            "tags": []
          }
        },
        {
          "output_type": "display_data",
          "data": {
            "text/html": [
              "<pre>recommendations finished on 24000/31733 queries. users per second: 6437.25</pre>"
            ],
            "text/plain": [
              "recommendations finished on 24000/31733 queries. users per second: 6437.25"
            ]
          },
          "metadata": {
            "tags": []
          }
        },
        {
          "output_type": "display_data",
          "data": {
            "text/html": [
              "<pre>recommendations finished on 25000/31733 queries. users per second: 6434.62</pre>"
            ],
            "text/plain": [
              "recommendations finished on 25000/31733 queries. users per second: 6434.62"
            ]
          },
          "metadata": {
            "tags": []
          }
        },
        {
          "output_type": "display_data",
          "data": {
            "text/html": [
              "<pre>recommendations finished on 26000/31733 queries. users per second: 6440.08</pre>"
            ],
            "text/plain": [
              "recommendations finished on 26000/31733 queries. users per second: 6440.08"
            ]
          },
          "metadata": {
            "tags": []
          }
        },
        {
          "output_type": "display_data",
          "data": {
            "text/html": [
              "<pre>recommendations finished on 27000/31733 queries. users per second: 6442.45</pre>"
            ],
            "text/plain": [
              "recommendations finished on 27000/31733 queries. users per second: 6442.45"
            ]
          },
          "metadata": {
            "tags": []
          }
        },
        {
          "output_type": "display_data",
          "data": {
            "text/html": [
              "<pre>recommendations finished on 28000/31733 queries. users per second: 6446.11</pre>"
            ],
            "text/plain": [
              "recommendations finished on 28000/31733 queries. users per second: 6446.11"
            ]
          },
          "metadata": {
            "tags": []
          }
        },
        {
          "output_type": "display_data",
          "data": {
            "text/html": [
              "<pre>recommendations finished on 29000/31733 queries. users per second: 6450.45</pre>"
            ],
            "text/plain": [
              "recommendations finished on 29000/31733 queries. users per second: 6450.45"
            ]
          },
          "metadata": {
            "tags": []
          }
        },
        {
          "output_type": "display_data",
          "data": {
            "text/html": [
              "<pre>recommendations finished on 30000/31733 queries. users per second: 6448.37</pre>"
            ],
            "text/plain": [
              "recommendations finished on 30000/31733 queries. users per second: 6448.37"
            ]
          },
          "metadata": {
            "tags": []
          }
        },
        {
          "output_type": "display_data",
          "data": {
            "text/html": [
              "<pre>recommendations finished on 31000/31733 queries. users per second: 6451.65</pre>"
            ],
            "text/plain": [
              "recommendations finished on 31000/31733 queries. users per second: 6451.65"
            ]
          },
          "metadata": {
            "tags": []
          }
        },
        {
          "output_type": "stream",
          "text": [
            "\n",
            "Precision and recall summary statistics by cutoff\n",
            "+--------+------------------------+-----------------------+\n",
            "| cutoff |     mean_precision     |      mean_recall      |\n",
            "+--------+------------------------+-----------------------+\n",
            "|   1    |          0.0           |          0.0          |\n",
            "|   2    |          0.0           |          0.0          |\n",
            "|   3    | 2.1008624040168487e-05 | 6.302587212050537e-05 |\n",
            "|   4    | 1.575646803012636e-05  | 6.302587212050544e-05 |\n",
            "|   5    | 1.260517442410108e-05  | 6.302587212050541e-05 |\n",
            "|   6    | 1.0504312020084247e-05 | 6.302587212050522e-05 |\n",
            "|   7    | 9.003696017215075e-06  | 6.302587212050503e-05 |\n",
            "|   8    |  7.87823401506318e-06  | 6.302587212050544e-05 |\n",
            "|   9    | 1.0504312020084311e-05 |  9.4538808180758e-05  |\n",
            "|   10   | 9.453880818075787e-06  | 9.453880818075812e-05 |\n",
            "+--------+------------------------+-----------------------+\n",
            "[10 rows x 3 columns]\n",
            "\n",
            "\n",
            "Overall RMSE: 1.0\n",
            "\n",
            "Per User RMSE (best)\n",
            "+------------+------+-------+\n",
            "| ID_CLIENTE | rmse | count |\n",
            "+------------+------+-------+\n",
            "|   47768    | 1.0  |   1   |\n",
            "+------------+------+-------+\n",
            "[1 rows x 3 columns]\n",
            "\n",
            "\n",
            "Per User RMSE (worst)\n",
            "+------------+------+-------+\n",
            "| ID_CLIENTE | rmse | count |\n",
            "+------------+------+-------+\n",
            "|   31998    | 1.0  |   1   |\n",
            "+------------+------+-------+\n",
            "[1 rows x 3 columns]\n",
            "\n",
            "\n",
            "Per Item RMSE (best)\n",
            "+-------------+------+-------+\n",
            "| ID_PRODUCTO | rmse | count |\n",
            "+-------------+------+-------+\n",
            "|     3155    | 1.0  |   1   |\n",
            "+-------------+------+-------+\n",
            "[1 rows x 3 columns]\n",
            "\n",
            "\n",
            "Per Item RMSE (worst)\n",
            "+-------------+------+-------+\n",
            "| ID_PRODUCTO | rmse | count |\n",
            "+-------------+------+-------+\n",
            "|    18653    | 1.0  |   3   |\n",
            "+-------------+------+-------+\n",
            "[1 rows x 3 columns]\n",
            "\n"
          ],
          "name": "stdout"
        }
      ]
    },
    {
      "cell_type": "markdown",
      "metadata": {
        "colab_type": "text",
        "id": "0eS0qbkHwduk"
      },
      "source": [
        "### 1.6 Exportar recomendaciones\n",
        "Con los resultado obtenidos podemos identificar que el mejor modelo es el Pearson, por tal motivo se exporta su información . "
      ]
    },
    {
      "cell_type": "code",
      "metadata": {
        "colab_type": "code",
        "id": "u7JAws8Yc6F2",
        "outputId": "1f41c114-e4fc-493c-db7c-e736ae31c78c",
        "colab": {
          "base_uri": "https://localhost:8080/",
          "height": 255
        }
      },
      "source": [
        "from google.colab import files\n",
        "lista_clientes =  list(data_norm.ID_CLIENTE.unique())\n",
        "recomendaciones = fac_coseno.recommend(users=lista_clientes, k=5) \n",
        "resultado = recomendaciones.to_dataframe()"
      ],
      "execution_count": 30,
      "outputs": [
        {
          "output_type": "display_data",
          "data": {
            "text/html": [
              "<pre>recommendations finished on 1000/14598 queries. users per second: 47463.1</pre>"
            ],
            "text/plain": [
              "recommendations finished on 1000/14598 queries. users per second: 47463.1"
            ]
          },
          "metadata": {
            "tags": []
          }
        },
        {
          "output_type": "display_data",
          "data": {
            "text/html": [
              "<pre>recommendations finished on 2000/14598 queries. users per second: 49252.6</pre>"
            ],
            "text/plain": [
              "recommendations finished on 2000/14598 queries. users per second: 49252.6"
            ]
          },
          "metadata": {
            "tags": []
          }
        },
        {
          "output_type": "display_data",
          "data": {
            "text/html": [
              "<pre>recommendations finished on 3000/14598 queries. users per second: 49868.7</pre>"
            ],
            "text/plain": [
              "recommendations finished on 3000/14598 queries. users per second: 49868.7"
            ]
          },
          "metadata": {
            "tags": []
          }
        },
        {
          "output_type": "display_data",
          "data": {
            "text/html": [
              "<pre>recommendations finished on 4000/14598 queries. users per second: 50110.2</pre>"
            ],
            "text/plain": [
              "recommendations finished on 4000/14598 queries. users per second: 50110.2"
            ]
          },
          "metadata": {
            "tags": []
          }
        },
        {
          "output_type": "display_data",
          "data": {
            "text/html": [
              "<pre>recommendations finished on 5000/14598 queries. users per second: 50504.5</pre>"
            ],
            "text/plain": [
              "recommendations finished on 5000/14598 queries. users per second: 50504.5"
            ]
          },
          "metadata": {
            "tags": []
          }
        },
        {
          "output_type": "display_data",
          "data": {
            "text/html": [
              "<pre>recommendations finished on 6000/14598 queries. users per second: 50466.8</pre>"
            ],
            "text/plain": [
              "recommendations finished on 6000/14598 queries. users per second: 50466.8"
            ]
          },
          "metadata": {
            "tags": []
          }
        },
        {
          "output_type": "display_data",
          "data": {
            "text/html": [
              "<pre>recommendations finished on 7000/14598 queries. users per second: 50439.5</pre>"
            ],
            "text/plain": [
              "recommendations finished on 7000/14598 queries. users per second: 50439.5"
            ]
          },
          "metadata": {
            "tags": []
          }
        },
        {
          "output_type": "display_data",
          "data": {
            "text/html": [
              "<pre>recommendations finished on 8000/14598 queries. users per second: 50569.2</pre>"
            ],
            "text/plain": [
              "recommendations finished on 8000/14598 queries. users per second: 50569.2"
            ]
          },
          "metadata": {
            "tags": []
          }
        },
        {
          "output_type": "display_data",
          "data": {
            "text/html": [
              "<pre>recommendations finished on 9000/14598 queries. users per second: 50475.6</pre>"
            ],
            "text/plain": [
              "recommendations finished on 9000/14598 queries. users per second: 50475.6"
            ]
          },
          "metadata": {
            "tags": []
          }
        },
        {
          "output_type": "display_data",
          "data": {
            "text/html": [
              "<pre>recommendations finished on 10000/14598 queries. users per second: 50563</pre>"
            ],
            "text/plain": [
              "recommendations finished on 10000/14598 queries. users per second: 50563"
            ]
          },
          "metadata": {
            "tags": []
          }
        },
        {
          "output_type": "display_data",
          "data": {
            "text/html": [
              "<pre>recommendations finished on 11000/14598 queries. users per second: 50665.1</pre>"
            ],
            "text/plain": [
              "recommendations finished on 11000/14598 queries. users per second: 50665.1"
            ]
          },
          "metadata": {
            "tags": []
          }
        },
        {
          "output_type": "display_data",
          "data": {
            "text/html": [
              "<pre>recommendations finished on 12000/14598 queries. users per second: 50589.8</pre>"
            ],
            "text/plain": [
              "recommendations finished on 12000/14598 queries. users per second: 50589.8"
            ]
          },
          "metadata": {
            "tags": []
          }
        },
        {
          "output_type": "display_data",
          "data": {
            "text/html": [
              "<pre>recommendations finished on 13000/14598 queries. users per second: 50011.3</pre>"
            ],
            "text/plain": [
              "recommendations finished on 13000/14598 queries. users per second: 50011.3"
            ]
          },
          "metadata": {
            "tags": []
          }
        },
        {
          "output_type": "display_data",
          "data": {
            "text/html": [
              "<pre>recommendations finished on 14000/14598 queries. users per second: 48614.8</pre>"
            ],
            "text/plain": [
              "recommendations finished on 14000/14598 queries. users per second: 48614.8"
            ]
          },
          "metadata": {
            "tags": []
          }
        }
      ]
    },
    {
      "cell_type": "code",
      "metadata": {
        "id": "49TvJTRbuCi7",
        "colab_type": "code",
        "colab": {
          "base_uri": "https://localhost:8080/",
          "height": 34
        },
        "outputId": "33dbfc31-badc-470c-b557-6d2c9484c35b"
      },
      "source": [
        "resultado.to_csv('recomendaciones_prod_cliente.csv')\n",
        "# verifico el archivo \n",
        "!dir"
      ],
      "execution_count": 31,
      "outputs": [
        {
          "output_type": "stream",
          "text": [
            "recomendaciones_prod_cliente.csv  sample_data\n"
          ],
          "name": "stdout"
        }
      ]
    },
    {
      "cell_type": "code",
      "metadata": {
        "id": "Bl-NK0b8sxN4",
        "colab_type": "code",
        "colab": {}
      },
      "source": [
        "files.download('recomendaciones_prod_cliente.csv')"
      ],
      "execution_count": 0,
      "outputs": []
    }
  ]
}