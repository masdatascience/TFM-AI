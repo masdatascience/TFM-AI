{
  "nbformat": 4,
  "nbformat_minor": 0,
  "metadata": {
    "colab": {
      "name": "TFM-1_Prevention-Dummy.ipynb",
      "version": "0.3.2",
      "provenance": [],
      "collapsed_sections": [],
      "machine_shape": "hm"
    },
    "kernelspec": {
      "name": "python3",
      "display_name": "Python 3",
      "language": "python"
    },
    "language_info": {
      "mimetype": "text/x-python",
      "nbconvert_exporter": "python",
      "name": "python",
      "file_extension": ".py",
      "version": "3.5.4",
      "pygments_lexer": "ipython3",
      "codemirror_mode": {
        "version": 3,
        "name": "ipython"
      }
    }
  },
  "cells": [
    {
      "cell_type": "markdown",
      "metadata": {
        "id": "k1PvPRCY79m-",
        "colab_type": "text"
      },
      "source": [
        "# Prevención Fuga de Clientes\n",
        "El enfoque de la prevención es disminuir el impacto latente de la posibilidad de que alguno de los clientes deje de comprar productos. \n",
        "Con este fin se realiza la estrategia en 3 sentidos: <br>\n",
        "**1.Motor de Recomendación** <br>\n",
        "**Objetivo:** Aumentar la penetración de los productos a los clientes con el fin de fortalecer la relación comercial y su fidelización. <br>\n",
        "Este enfoque hace parte de la primera parte del notebook, con el objetivo de generar un motor de recomendación con el cual se facilite la venta de nuevos productos por medio de estrategia de datos. <br>\n",
        "*Notebook 1: Motor de recomendación* <br>\n",
        "\n",
        "**2.Nueva segmentación de información con base en los datos de los clientes y sus transacciones** <br>\n",
        "**Objetivo:** Generar nueva información de los clientes, con el objetivo de realizar una mejor gestión de estos y plantear estrategias con base en esta nueva característica de información desarrollada. <br>\n",
        "El segundo enfoque es a través de una nueva segmentación, que permita de igual forma identificar no solo como y que es posible comprar, sino generar nuevas dimensiones de análisis, para que los equipos de business intelligence, comerciales y financieros, tengan más herramientas durante sus estrategias de negocio. <br>\n",
        "*Notebook 2: Segmentación de datos* <br>\n",
        "\n",
        "**3.Predecir la Fuga de clientes** <br>\n",
        "**Objetivo:** Desarrollar un marcaje de fuga de clientes con base en la historia transaccional de cliente, permitiendo esto entrenar un modelo de Machine Learning para predecir la posible baja de clientes. <br>\n",
        "El Tercer enfoque tiene dos frentes de trabajo, el primero permite establecer a través de variables de tendencias de compra y montos, si el cliente se encuentra \"vivo\" o no. Con base en este resultado, se activa el segundo frente, el cual a través de algoritmos de Machine Learning permite predecir la fuga de clientes con base en el marcaje realizado en la primera etapa. <br>\n",
        "*Notebook 3: Predicción Fuga Clientes* <br>\n"
      ]
    },
    {
      "cell_type": "markdown",
      "metadata": {
        "id": "orpOJu6j8zxg",
        "colab_type": "text"
      },
      "source": [
        "### Fuente de datos\n",
        "Los datos usando durante la tesis son de dominio publico y hacen referencia a un comercio de Brasil. <br>\n",
        "Estos datos han sido modelados en un modelo dimensional con el fin de mejorar el performance del análisis del actual tesis y permitir generar modelos de reporting/dashboard con herramientas de BI.<br>\n",
        "Los datos han sido migrados a la plataforma github con el fin que sean de dominio publico. <br>\n"
      ]
    },
    {
      "cell_type": "markdown",
      "metadata": {
        "id": "1LmmcB9U8gN_",
        "colab_type": "text"
      },
      "source": [
        "##1. Motor de Recomendación\n",
        "\n",
        "Durante esta etapa se realizarán dos enfoques de recomendación, el primero con base en productos y el segundo con base en el comportamiento de clientes.\n",
        "\n",
        "\n",
        "### 1.1 Carga de librerias y datos"
      ]
    },
    {
      "cell_type": "code",
      "metadata": {
        "id": "rlke_DiE7xb2",
        "colab_type": "code",
        "trusted": true,
        "scrolled": true,
        "colab": {}
      },
      "source": [
        "!pip install turicreate\n",
        "# librerias requeridas\n",
        "import turicreate as tc\n",
        "import matplotlib.pyplot as plt\n",
        "import pandas as pd\n",
        "import numpy as np\n",
        "%matplotlib inline\n",
        "from sklearn.metrics.pairwise import cosine_similarity\n",
        "from sklearn.cluster import KMeans\n",
        "from sklearn.metrics import silhouette_score\n",
        "import time\n",
        "from sklearn.model_selection import train_test_split"
      ],
      "execution_count": 0,
      "outputs": []
    },
    {
      "cell_type": "code",
      "metadata": {
        "id": "wcjQe--m9v7_",
        "colab_type": "code",
        "colab": {
          "base_uri": "https://localhost:8080/",
          "height": 35
        },
        "outputId": "4fd25f46-f1cf-4bbb-f346-bb0ba9b4df0a"
      },
      "source": [
        "## Localización y carga de los datos\n",
        "url = 'https://github.com/masdatascience/TFM-AI/blob/master/data_model_completo.xlsx?raw=true'\n",
        "datos_modelo = pd.ExcelFile(url)\n",
        "datos_facturacion = pd.read_excel(datos_modelo, sheet_name='fac_txn')\n",
        "datos_producto = pd.read_excel(datos_modelo, sheet_name='product')\n",
        "datos_clientes = pd.read_excel(datos_modelo, sheet_name='customer')\n",
        "\n",
        "# Se elimian los datos nulos de las dimensiones importantes del analisis que son productos y clientes\n",
        "datos_facturacion = datos_facturacion.dropna(subset=['customer_id'])\n",
        "datos_facturacion = datos_facturacion.dropna(subset=['product_id'])\n",
        "# Se elimina posibles chargeback que se presenten\n",
        "datos_facturacion = datos_facturacion.loc[datos_facturacion['total_value'] > 0]\n",
        "\n",
        "print(\"Facturación:\"+ str(datos_facturacion.shape) + \" Clientes:\"+str(datos_clientes.shape)+\" Productos:\"+str(datos_producto.shape))"
      ],
      "execution_count": 3,
      "outputs": [
        {
          "output_type": "stream",
          "text": [
            "Facturación:(112650, 21) Clientes:(96352, 4) Productos:(32951, 10)\n"
          ],
          "name": "stdout"
        }
      ]
    },
    {
      "cell_type": "markdown",
      "metadata": {
        "id": "gknP4zvnDMY2",
        "colab_type": "text"
      },
      "source": [
        "### 1.2 Preparación de los datos \n",
        "En esta sección se estarán preparando tres enfoques de matrices con el fin de permitir desarrollar los motores de recomendación. La primera es la relación entre el cliente y los productos, la siguiente es una matriz normalizada y la última integra valores dummies para la comparación . "
      ]
    },
    {
      "cell_type": "markdown",
      "metadata": {
        "id": "nGPFk-v0D00A",
        "colab_type": "text"
      },
      "source": [
        "#### 1.2.1 Relación Cliente - Producto\n",
        "\n"
      ]
    },
    {
      "cell_type": "code",
      "metadata": {
        "id": "F3iR_xdeL3V9",
        "colab_type": "code",
        "colab": {}
      },
      "source": [
        "### Eliminar\n",
        "data= datos_facturacion.copy()\n",
        "datos_facturacion = datos_facturacion.head(10000)"
      ],
      "execution_count": 0,
      "outputs": []
    },
    {
      "cell_type": "code",
      "metadata": {
        "id": "zosJH8OuD6hA",
        "colab_type": "code",
        "colab": {
          "base_uri": "https://localhost:8080/",
          "height": 35
        },
        "outputId": "adebcfc9-a64e-498c-b147-578c7635cb55"
      },
      "source": [
        "matrix_usuario_producto =pd.crosstab(datos_facturacion['customer_id'],datos_facturacion['product_id'],values=datos_facturacion['total_value'], aggfunc='sum', margins=True, margins_name=\"total_value\")\n",
        "print(\"Matriz Cliente-Producto:\" +str(matrix_usuario_producto.shape))"
      ],
      "execution_count": 39,
      "outputs": [
        {
          "output_type": "stream",
          "text": [
            "Matriz Cliente-Producto:(8776, 6089)\n"
          ],
          "name": "stdout"
        }
      ]
    },
    {
      "cell_type": "markdown",
      "metadata": {
        "id": "99IVET5CE2DG",
        "colab_type": "text"
      },
      "source": [
        "#### 1.2.2 Relación Cliente Producto - Normalizada"
      ]
    },
    {
      "cell_type": "code",
      "metadata": {
        "id": "aTMpltCAE9dY",
        "colab_type": "code",
        "colab": {
          "base_uri": "https://localhost:8080/",
          "height": 35
        },
        "outputId": "01433284-0b7a-40ff-9ef7-e5666ebbf601"
      },
      "source": [
        "matrix_usuario_producto_norm = (matrix_usuario_producto-matrix_usuario_producto.min())/(matrix_usuario_producto.max()-matrix_usuario_producto.min())\n",
        "# Se crea una tabla como resultado de la normalización  \n",
        "d = matrix_usuario_producto_norm.reset_index() \n",
        "d.index.names = ['value_freq'] \n",
        "data_norm = pd.melt(d, id_vars=['customer_id'], value_name='value_freq').dropna()\n",
        "print(\"Matriz normalizada:\" +str(data_norm.shape))"
      ],
      "execution_count": 40,
      "outputs": [
        {
          "output_type": "stream",
          "text": [
            "Matriz normalizada:(14312, 3)\n"
          ],
          "name": "stdout"
        }
      ]
    },
    {
      "cell_type": "markdown",
      "metadata": {
        "id": "YURTaD1qFEU7",
        "colab_type": "text"
      },
      "source": [
        "#### 1.2.3 Relación Cliente Producto - Normalizada"
      ]
    },
    {
      "cell_type": "code",
      "metadata": {
        "id": "_NC9OA2RHq1_",
        "colab_type": "code",
        "colab": {
          "base_uri": "https://localhost:8080/",
          "height": 35
        },
        "outputId": "104d7dc4-ab87-4861-c8be-95894afe0dff"
      },
      "source": [
        "datos_dummy = datos_facturacion.copy()\n",
        "datos_dummy['total_dummy'] = 1\n",
        "print(\"Matriz Dummy:\"+ str(datos_dummy.shape))"
      ],
      "execution_count": 41,
      "outputs": [
        {
          "output_type": "stream",
          "text": [
            "Matriz Dummy:(10000, 22)\n"
          ],
          "name": "stdout"
        }
      ]
    },
    {
      "cell_type": "markdown",
      "metadata": {
        "id": "fvqgw6XDFYJ6",
        "colab_type": "text"
      },
      "source": [
        "#### 1.2.4 Se generan datos de entrenamiento y pruebas"
      ]
    },
    {
      "cell_type": "code",
      "metadata": {
        "id": "P9YYO2PWFcUk",
        "colab_type": "code",
        "colab": {}
      },
      "source": [
        "train_data, test_data  = train_test_split(datos_facturacion, test_size=0.3 ,random_state=1)\n",
        "train_data_dummy, test_data_dummy = train_test_split(datos_dummy, test_size=0.3 ,random_state=1)\n",
        "train_data_norm, test_data_norm = train_test_split(data_norm, test_size=0.3 ,random_state=1)"
      ],
      "execution_count": 0,
      "outputs": []
    },
    {
      "cell_type": "markdown",
      "metadata": {
        "id": "_Fzb01hyFs1-",
        "colab_type": "text"
      },
      "source": [
        "#### 1.2.5  Se define función para ejecutar los tipos de motores de recomendación"
      ]
    },
    {
      "cell_type": "code",
      "metadata": {
        "id": "kh18gKpfF0X4",
        "colab_type": "code",
        "colab": {}
      },
      "source": [
        "# Se define una función que retorne un modelo resultado segun el enfoque que se requiere:\n",
        "# 1. Popularity : Es el item que más se a consumido en todos los clientes\n",
        "# 2. cosine :\n",
        "# 3. Pearson: \n",
        "def modelo_requerido(modelo,datos ,campo ):\n",
        "\n",
        "    train_data=tc.SFrame(datos)\n",
        "    print(\"Modelo solicitado:\"+ str(modelo))\n",
        "    if modelo == 'producto':\n",
        "        return  tc.popularity_recommender.create(train_data,user_id='customer_id', item_id='product_id', target=campo)\n",
        "    elif modelo == 'distancia':\n",
        "        return tc.item_similarity_recommender.create(train_data,user_id='customer_id', item_id='product_id', target=campo,similarity_type='cosine')\n",
        "    elif modelo == 'pearson':\n",
        "        return tc.item_similarity_recommender.create(train_data,user_id='customer_id', item_id='product_id', target=campo,similarity_type='pearson')\n",
        "    else : \n",
        "        print(\"Error: Modelo solicitado no existe\")\n",
        "\n",
        "def productos_recomendado(modelo, usuarios, cantidad_recomendaciones):\n",
        "     modelo.recommend(users=list(usuarios), k=cantidad_recomendaciones).print_rows(cantidad_recomendaciones)"
      ],
      "execution_count": 0,
      "outputs": []
    },
    {
      "cell_type": "code",
      "metadata": {
        "id": "GIJ-1VLWNuaa",
        "colab_type": "code",
        "colab": {}
      },
      "source": [
        "# Se generan las recomendaciones por dataset\n",
        "fac_producto = modelo_requerido('producto',train_data, 'total_value')\n",
        "nor_producto = modelo_requerido('producto',train_data_norm,'value_freq' )\n",
        "dum_producto = modelo_requerido('producto' ,train_data_dummy, 'total_dummy')"
      ],
      "execution_count": 0,
      "outputs": []
    },
    {
      "cell_type": "code",
      "metadata": {
        "id": "IpjX_Fr3Sl2Y",
        "colab_type": "code",
        "colab": {
          "base_uri": "https://localhost:8080/",
          "height": 218
        },
        "outputId": "631b5205-5179-4486-f4fe-d8b40f4922f9"
      },
      "source": [
        "train_data_dummy.head()"
      ],
      "execution_count": 96,
      "outputs": [
        {
          "output_type": "execute_result",
          "data": {
            "text/html": [
              "<div>\n",
              "<style scoped>\n",
              "    .dataframe tbody tr th:only-of-type {\n",
              "        vertical-align: middle;\n",
              "    }\n",
              "\n",
              "    .dataframe tbody tr th {\n",
              "        vertical-align: top;\n",
              "    }\n",
              "\n",
              "    .dataframe thead th {\n",
              "        text-align: right;\n",
              "    }\n",
              "</style>\n",
              "<table border=\"1\" class=\"dataframe\">\n",
              "  <thead>\n",
              "    <tr style=\"text-align: right;\">\n",
              "      <th></th>\n",
              "      <th>order_id</th>\n",
              "      <th>order_item_id</th>\n",
              "      <th>product_id</th>\n",
              "      <th>customer_id</th>\n",
              "      <th>customer_zip_code_prefix</th>\n",
              "      <th>shipping_limit_date</th>\n",
              "      <th>price</th>\n",
              "      <th>freight_value</th>\n",
              "      <th>total_value</th>\n",
              "      <th>credit_card</th>\n",
              "      <th>debit_card</th>\n",
              "      <th>boleto</th>\n",
              "      <th>voucher</th>\n",
              "      <th>not_defined</th>\n",
              "      <th>num_txn</th>\n",
              "      <th>order_status</th>\n",
              "      <th>order_purchase_timestamp</th>\n",
              "      <th>order_approved_at</th>\n",
              "      <th>order_delivered_carrier_date</th>\n",
              "      <th>order_delivered_customer_date</th>\n",
              "      <th>order_estimated_delivery_date</th>\n",
              "      <th>total_dummy</th>\n",
              "    </tr>\n",
              "  </thead>\n",
              "  <tbody>\n",
              "    <tr>\n",
              "      <th>2228</th>\n",
              "      <td>0512bcd90b810913b8177d5324c5ee0d</td>\n",
              "      <td>1</td>\n",
              "      <td>68bf2e76db1d8e846042e54da87399ca</td>\n",
              "      <td>e4bb330e4e0967e8cdd333d1e8b1df2f</td>\n",
              "      <td>6700</td>\n",
              "      <td>2017-06-30 16:45:18</td>\n",
              "      <td>6990</td>\n",
              "      <td>1774</td>\n",
              "      <td>8764</td>\n",
              "      <td>8764.0</td>\n",
              "      <td>0.0</td>\n",
              "      <td>0.0</td>\n",
              "      <td>0.0</td>\n",
              "      <td>0.0</td>\n",
              "      <td>1.0</td>\n",
              "      <td>delivered</td>\n",
              "      <td>2017-06-22 16:28:38</td>\n",
              "      <td>2017-06-22 16:45:18</td>\n",
              "      <td>2017-06-23 10:57:29</td>\n",
              "      <td>2017-07-01 11:23:36</td>\n",
              "      <td>2017-07-18</td>\n",
              "      <td>1</td>\n",
              "    </tr>\n",
              "    <tr>\n",
              "      <th>5910</th>\n",
              "      <td>0d6350e1fa2acb1318e3a53d52333e25</td>\n",
              "      <td>1</td>\n",
              "      <td>4520766ec412348b8d4caa5e8a18c464</td>\n",
              "      <td>c4c85e60adccaf6b8ccb7ff2701f2e36</td>\n",
              "      <td>36572</td>\n",
              "      <td>2018-07-23 22:15:14</td>\n",
              "      <td>2749</td>\n",
              "      <td>1829</td>\n",
              "      <td>4578</td>\n",
              "      <td>4578.0</td>\n",
              "      <td>0.0</td>\n",
              "      <td>0.0</td>\n",
              "      <td>0.0</td>\n",
              "      <td>0.0</td>\n",
              "      <td>1.0</td>\n",
              "      <td>delivered</td>\n",
              "      <td>2018-07-19 22:00:14</td>\n",
              "      <td>2018-07-19 22:15:14</td>\n",
              "      <td>2018-07-20 09:28:00</td>\n",
              "      <td>2018-07-25 12:05:18</td>\n",
              "      <td>2018-08-06</td>\n",
              "      <td>1</td>\n",
              "    </tr>\n",
              "    <tr>\n",
              "      <th>1950</th>\n",
              "      <td>046cb513a5ed6d4f7506af8f88636609</td>\n",
              "      <td>1</td>\n",
              "      <td>68ad45d48d69404aeb71ce87e1b2c948</td>\n",
              "      <td>88613309c9c1df2902d6778360d5f1d9</td>\n",
              "      <td>5271</td>\n",
              "      <td>2018-06-27 23:31:52</td>\n",
              "      <td>5989</td>\n",
              "      <td>917</td>\n",
              "      <td>6906</td>\n",
              "      <td>6906.0</td>\n",
              "      <td>0.0</td>\n",
              "      <td>0.0</td>\n",
              "      <td>0.0</td>\n",
              "      <td>0.0</td>\n",
              "      <td>1.0</td>\n",
              "      <td>delivered</td>\n",
              "      <td>2018-06-24 23:13:35</td>\n",
              "      <td>2018-06-24 23:34:10</td>\n",
              "      <td>2018-06-25 14:44:00</td>\n",
              "      <td>2018-06-28 18:42:02</td>\n",
              "      <td>2018-07-11</td>\n",
              "      <td>1</td>\n",
              "    </tr>\n",
              "    <tr>\n",
              "      <th>2119</th>\n",
              "      <td>04cc9ab9d21b11d7aca691cf7facaaa1</td>\n",
              "      <td>1</td>\n",
              "      <td>7c55ea4aea1acf1ce11440010f5aa298</td>\n",
              "      <td>0e201fc3c7b9b02edb2d1a6e7f188912</td>\n",
              "      <td>3047</td>\n",
              "      <td>2018-05-09 04:15:07</td>\n",
              "      <td>39900</td>\n",
              "      <td>246</td>\n",
              "      <td>40146</td>\n",
              "      <td>0.0</td>\n",
              "      <td>0.0</td>\n",
              "      <td>53609.0</td>\n",
              "      <td>0.0</td>\n",
              "      <td>0.0</td>\n",
              "      <td>1.0</td>\n",
              "      <td>delivered</td>\n",
              "      <td>2018-04-30 09:13:44</td>\n",
              "      <td>2018-05-03 04:15:07</td>\n",
              "      <td>2018-05-03 17:20:00</td>\n",
              "      <td>2018-05-04 12:28:57</td>\n",
              "      <td>2018-05-14</td>\n",
              "      <td>1</td>\n",
              "    </tr>\n",
              "    <tr>\n",
              "      <th>5947</th>\n",
              "      <td>0d79a28c125a4b427a4ee97d86e4546b</td>\n",
              "      <td>1</td>\n",
              "      <td>aadff88486740e0b0ebe2be6c09476ae</td>\n",
              "      <td>fdf983831b2751f645ed24f62f70be6a</td>\n",
              "      <td>8665</td>\n",
              "      <td>2018-05-14 14:14:56</td>\n",
              "      <td>2990</td>\n",
              "      <td>771</td>\n",
              "      <td>3761</td>\n",
              "      <td>3761.0</td>\n",
              "      <td>0.0</td>\n",
              "      <td>0.0</td>\n",
              "      <td>0.0</td>\n",
              "      <td>0.0</td>\n",
              "      <td>1.0</td>\n",
              "      <td>delivered</td>\n",
              "      <td>2018-05-09 13:50:08</td>\n",
              "      <td>2018-05-09 14:14:56</td>\n",
              "      <td>2018-05-10 12:38:00</td>\n",
              "      <td>2018-05-12 14:48:39</td>\n",
              "      <td>2018-05-18</td>\n",
              "      <td>1</td>\n",
              "    </tr>\n",
              "  </tbody>\n",
              "</table>\n",
              "</div>"
            ],
            "text/plain": [
              "                              order_id  ...  total_dummy\n",
              "2228  0512bcd90b810913b8177d5324c5ee0d  ...            1\n",
              "5910  0d6350e1fa2acb1318e3a53d52333e25  ...            1\n",
              "1950  046cb513a5ed6d4f7506af8f88636609  ...            1\n",
              "2119  04cc9ab9d21b11d7aca691cf7facaaa1  ...            1\n",
              "5947  0d79a28c125a4b427a4ee97d86e4546b  ...            1\n",
              "\n",
              "[5 rows x 22 columns]"
            ]
          },
          "metadata": {
            "tags": []
          },
          "execution_count": 96
        }
      ]
    },
    {
      "cell_type": "code",
      "metadata": {
        "id": "mrQGt9r0OrZR",
        "colab_type": "code",
        "colab": {
          "base_uri": "https://localhost:8080/",
          "height": 1000
        },
        "outputId": "e96df079-73e1-4d3d-f9eb-52e9f2e223db"
      },
      "source": [
        "\n",
        "\n",
        "\n"
      ],
      "execution_count": 85,
      "outputs": [
        {
          "output_type": "display_data",
          "data": {
            "text/html": [
              "<pre>recommendations finished on 1000/96352 queries. users per second: 72207.4</pre>"
            ],
            "text/plain": [
              "recommendations finished on 1000/96352 queries. users per second: 72207.4"
            ]
          },
          "metadata": {
            "tags": []
          }
        },
        {
          "output_type": "display_data",
          "data": {
            "text/html": [
              "<pre>recommendations finished on 2000/96352 queries. users per second: 68460.3</pre>"
            ],
            "text/plain": [
              "recommendations finished on 2000/96352 queries. users per second: 68460.3"
            ]
          },
          "metadata": {
            "tags": []
          }
        },
        {
          "output_type": "display_data",
          "data": {
            "text/html": [
              "<pre>recommendations finished on 3000/96352 queries. users per second: 68184.9</pre>"
            ],
            "text/plain": [
              "recommendations finished on 3000/96352 queries. users per second: 68184.9"
            ]
          },
          "metadata": {
            "tags": []
          }
        },
        {
          "output_type": "display_data",
          "data": {
            "text/html": [
              "<pre>recommendations finished on 4000/96352 queries. users per second: 68232.6</pre>"
            ],
            "text/plain": [
              "recommendations finished on 4000/96352 queries. users per second: 68232.6"
            ]
          },
          "metadata": {
            "tags": []
          }
        },
        {
          "output_type": "display_data",
          "data": {
            "text/html": [
              "<pre>recommendations finished on 5000/96352 queries. users per second: 68230.5</pre>"
            ],
            "text/plain": [
              "recommendations finished on 5000/96352 queries. users per second: 68230.5"
            ]
          },
          "metadata": {
            "tags": []
          }
        },
        {
          "output_type": "display_data",
          "data": {
            "text/html": [
              "<pre>recommendations finished on 6000/96352 queries. users per second: 68035.7</pre>"
            ],
            "text/plain": [
              "recommendations finished on 6000/96352 queries. users per second: 68035.7"
            ]
          },
          "metadata": {
            "tags": []
          }
        },
        {
          "output_type": "display_data",
          "data": {
            "text/html": [
              "<pre>recommendations finished on 7000/96352 queries. users per second: 67736.3</pre>"
            ],
            "text/plain": [
              "recommendations finished on 7000/96352 queries. users per second: 67736.3"
            ]
          },
          "metadata": {
            "tags": []
          }
        },
        {
          "output_type": "display_data",
          "data": {
            "text/html": [
              "<pre>recommendations finished on 8000/96352 queries. users per second: 67598.4</pre>"
            ],
            "text/plain": [
              "recommendations finished on 8000/96352 queries. users per second: 67598.4"
            ]
          },
          "metadata": {
            "tags": []
          }
        },
        {
          "output_type": "display_data",
          "data": {
            "text/html": [
              "<pre>recommendations finished on 9000/96352 queries. users per second: 67574.7</pre>"
            ],
            "text/plain": [
              "recommendations finished on 9000/96352 queries. users per second: 67574.7"
            ]
          },
          "metadata": {
            "tags": []
          }
        },
        {
          "output_type": "display_data",
          "data": {
            "text/html": [
              "<pre>recommendations finished on 10000/96352 queries. users per second: 67553</pre>"
            ],
            "text/plain": [
              "recommendations finished on 10000/96352 queries. users per second: 67553"
            ]
          },
          "metadata": {
            "tags": []
          }
        },
        {
          "output_type": "display_data",
          "data": {
            "text/html": [
              "<pre>recommendations finished on 11000/96352 queries. users per second: 67631.1</pre>"
            ],
            "text/plain": [
              "recommendations finished on 11000/96352 queries. users per second: 67631.1"
            ]
          },
          "metadata": {
            "tags": []
          }
        },
        {
          "output_type": "display_data",
          "data": {
            "text/html": [
              "<pre>recommendations finished on 12000/96352 queries. users per second: 67487.8</pre>"
            ],
            "text/plain": [
              "recommendations finished on 12000/96352 queries. users per second: 67487.8"
            ]
          },
          "metadata": {
            "tags": []
          }
        },
        {
          "output_type": "display_data",
          "data": {
            "text/html": [
              "<pre>recommendations finished on 13000/96352 queries. users per second: 67543.3</pre>"
            ],
            "text/plain": [
              "recommendations finished on 13000/96352 queries. users per second: 67543.3"
            ]
          },
          "metadata": {
            "tags": []
          }
        },
        {
          "output_type": "display_data",
          "data": {
            "text/html": [
              "<pre>recommendations finished on 14000/96352 queries. users per second: 67301.5</pre>"
            ],
            "text/plain": [
              "recommendations finished on 14000/96352 queries. users per second: 67301.5"
            ]
          },
          "metadata": {
            "tags": []
          }
        },
        {
          "output_type": "display_data",
          "data": {
            "text/html": [
              "<pre>recommendations finished on 15000/96352 queries. users per second: 67350.6</pre>"
            ],
            "text/plain": [
              "recommendations finished on 15000/96352 queries. users per second: 67350.6"
            ]
          },
          "metadata": {
            "tags": []
          }
        },
        {
          "output_type": "display_data",
          "data": {
            "text/html": [
              "<pre>recommendations finished on 16000/96352 queries. users per second: 67221.2</pre>"
            ],
            "text/plain": [
              "recommendations finished on 16000/96352 queries. users per second: 67221.2"
            ]
          },
          "metadata": {
            "tags": []
          }
        },
        {
          "output_type": "display_data",
          "data": {
            "text/html": [
              "<pre>recommendations finished on 17000/96352 queries. users per second: 67297.9</pre>"
            ],
            "text/plain": [
              "recommendations finished on 17000/96352 queries. users per second: 67297.9"
            ]
          },
          "metadata": {
            "tags": []
          }
        },
        {
          "output_type": "display_data",
          "data": {
            "text/html": [
              "<pre>recommendations finished on 18000/96352 queries. users per second: 67253.3</pre>"
            ],
            "text/plain": [
              "recommendations finished on 18000/96352 queries. users per second: 67253.3"
            ]
          },
          "metadata": {
            "tags": []
          }
        },
        {
          "output_type": "display_data",
          "data": {
            "text/html": [
              "<pre>recommendations finished on 19000/96352 queries. users per second: 67341</pre>"
            ],
            "text/plain": [
              "recommendations finished on 19000/96352 queries. users per second: 67341"
            ]
          },
          "metadata": {
            "tags": []
          }
        },
        {
          "output_type": "display_data",
          "data": {
            "text/html": [
              "<pre>recommendations finished on 20000/96352 queries. users per second: 67411.6</pre>"
            ],
            "text/plain": [
              "recommendations finished on 20000/96352 queries. users per second: 67411.6"
            ]
          },
          "metadata": {
            "tags": []
          }
        },
        {
          "output_type": "display_data",
          "data": {
            "text/html": [
              "<pre>recommendations finished on 21000/96352 queries. users per second: 67393</pre>"
            ],
            "text/plain": [
              "recommendations finished on 21000/96352 queries. users per second: 67393"
            ]
          },
          "metadata": {
            "tags": []
          }
        },
        {
          "output_type": "display_data",
          "data": {
            "text/html": [
              "<pre>recommendations finished on 22000/96352 queries. users per second: 67379.7</pre>"
            ],
            "text/plain": [
              "recommendations finished on 22000/96352 queries. users per second: 67379.7"
            ]
          },
          "metadata": {
            "tags": []
          }
        },
        {
          "output_type": "display_data",
          "data": {
            "text/html": [
              "<pre>recommendations finished on 23000/96352 queries. users per second: 67426.7</pre>"
            ],
            "text/plain": [
              "recommendations finished on 23000/96352 queries. users per second: 67426.7"
            ]
          },
          "metadata": {
            "tags": []
          }
        },
        {
          "output_type": "display_data",
          "data": {
            "text/html": [
              "<pre>recommendations finished on 24000/96352 queries. users per second: 67361.2</pre>"
            ],
            "text/plain": [
              "recommendations finished on 24000/96352 queries. users per second: 67361.2"
            ]
          },
          "metadata": {
            "tags": []
          }
        },
        {
          "output_type": "display_data",
          "data": {
            "text/html": [
              "<pre>recommendations finished on 25000/96352 queries. users per second: 67438.9</pre>"
            ],
            "text/plain": [
              "recommendations finished on 25000/96352 queries. users per second: 67438.9"
            ]
          },
          "metadata": {
            "tags": []
          }
        },
        {
          "output_type": "display_data",
          "data": {
            "text/html": [
              "<pre>recommendations finished on 26000/96352 queries. users per second: 67458</pre>"
            ],
            "text/plain": [
              "recommendations finished on 26000/96352 queries. users per second: 67458"
            ]
          },
          "metadata": {
            "tags": []
          }
        },
        {
          "output_type": "display_data",
          "data": {
            "text/html": [
              "<pre>recommendations finished on 27000/96352 queries. users per second: 67475.5</pre>"
            ],
            "text/plain": [
              "recommendations finished on 27000/96352 queries. users per second: 67475.5"
            ]
          },
          "metadata": {
            "tags": []
          }
        },
        {
          "output_type": "display_data",
          "data": {
            "text/html": [
              "<pre>recommendations finished on 28000/96352 queries. users per second: 67528.5</pre>"
            ],
            "text/plain": [
              "recommendations finished on 28000/96352 queries. users per second: 67528.5"
            ]
          },
          "metadata": {
            "tags": []
          }
        },
        {
          "output_type": "display_data",
          "data": {
            "text/html": [
              "<pre>recommendations finished on 29000/96352 queries. users per second: 67513.6</pre>"
            ],
            "text/plain": [
              "recommendations finished on 29000/96352 queries. users per second: 67513.6"
            ]
          },
          "metadata": {
            "tags": []
          }
        },
        {
          "output_type": "display_data",
          "data": {
            "text/html": [
              "<pre>recommendations finished on 30000/96352 queries. users per second: 67593.1</pre>"
            ],
            "text/plain": [
              "recommendations finished on 30000/96352 queries. users per second: 67593.1"
            ]
          },
          "metadata": {
            "tags": []
          }
        },
        {
          "output_type": "display_data",
          "data": {
            "text/html": [
              "<pre>recommendations finished on 31000/96352 queries. users per second: 67592.5</pre>"
            ],
            "text/plain": [
              "recommendations finished on 31000/96352 queries. users per second: 67592.5"
            ]
          },
          "metadata": {
            "tags": []
          }
        },
        {
          "output_type": "display_data",
          "data": {
            "text/html": [
              "<pre>recommendations finished on 32000/96352 queries. users per second: 67571</pre>"
            ],
            "text/plain": [
              "recommendations finished on 32000/96352 queries. users per second: 67571"
            ]
          },
          "metadata": {
            "tags": []
          }
        },
        {
          "output_type": "display_data",
          "data": {
            "text/html": [
              "<pre>recommendations finished on 33000/96352 queries. users per second: 67605.2</pre>"
            ],
            "text/plain": [
              "recommendations finished on 33000/96352 queries. users per second: 67605.2"
            ]
          },
          "metadata": {
            "tags": []
          }
        },
        {
          "output_type": "display_data",
          "data": {
            "text/html": [
              "<pre>recommendations finished on 34000/96352 queries. users per second: 67603</pre>"
            ],
            "text/plain": [
              "recommendations finished on 34000/96352 queries. users per second: 67603"
            ]
          },
          "metadata": {
            "tags": []
          }
        },
        {
          "output_type": "display_data",
          "data": {
            "text/html": [
              "<pre>recommendations finished on 35000/96352 queries. users per second: 67580.6</pre>"
            ],
            "text/plain": [
              "recommendations finished on 35000/96352 queries. users per second: 67580.6"
            ]
          },
          "metadata": {
            "tags": []
          }
        },
        {
          "output_type": "display_data",
          "data": {
            "text/html": [
              "<pre>recommendations finished on 36000/96352 queries. users per second: 67543.4</pre>"
            ],
            "text/plain": [
              "recommendations finished on 36000/96352 queries. users per second: 67543.4"
            ]
          },
          "metadata": {
            "tags": []
          }
        },
        {
          "output_type": "display_data",
          "data": {
            "text/html": [
              "<pre>recommendations finished on 37000/96352 queries. users per second: 67552.9</pre>"
            ],
            "text/plain": [
              "recommendations finished on 37000/96352 queries. users per second: 67552.9"
            ]
          },
          "metadata": {
            "tags": []
          }
        },
        {
          "output_type": "display_data",
          "data": {
            "text/html": [
              "<pre>recommendations finished on 38000/96352 queries. users per second: 67609.6</pre>"
            ],
            "text/plain": [
              "recommendations finished on 38000/96352 queries. users per second: 67609.6"
            ]
          },
          "metadata": {
            "tags": []
          }
        },
        {
          "output_type": "display_data",
          "data": {
            "text/html": [
              "<pre>recommendations finished on 39000/96352 queries. users per second: 67609.1</pre>"
            ],
            "text/plain": [
              "recommendations finished on 39000/96352 queries. users per second: 67609.1"
            ]
          },
          "metadata": {
            "tags": []
          }
        },
        {
          "output_type": "display_data",
          "data": {
            "text/html": [
              "<pre>recommendations finished on 40000/96352 queries. users per second: 67550.2</pre>"
            ],
            "text/plain": [
              "recommendations finished on 40000/96352 queries. users per second: 67550.2"
            ]
          },
          "metadata": {
            "tags": []
          }
        },
        {
          "output_type": "display_data",
          "data": {
            "text/html": [
              "<pre>recommendations finished on 41000/96352 queries. users per second: 67548.9</pre>"
            ],
            "text/plain": [
              "recommendations finished on 41000/96352 queries. users per second: 67548.9"
            ]
          },
          "metadata": {
            "tags": []
          }
        },
        {
          "output_type": "display_data",
          "data": {
            "text/html": [
              "<pre>recommendations finished on 42000/96352 queries. users per second: 67590.1</pre>"
            ],
            "text/plain": [
              "recommendations finished on 42000/96352 queries. users per second: 67590.1"
            ]
          },
          "metadata": {
            "tags": []
          }
        },
        {
          "output_type": "display_data",
          "data": {
            "text/html": [
              "<pre>recommendations finished on 43000/96352 queries. users per second: 67587.9</pre>"
            ],
            "text/plain": [
              "recommendations finished on 43000/96352 queries. users per second: 67587.9"
            ]
          },
          "metadata": {
            "tags": []
          }
        },
        {
          "output_type": "display_data",
          "data": {
            "text/html": [
              "<pre>recommendations finished on 44000/96352 queries. users per second: 67405.9</pre>"
            ],
            "text/plain": [
              "recommendations finished on 44000/96352 queries. users per second: 67405.9"
            ]
          },
          "metadata": {
            "tags": []
          }
        },
        {
          "output_type": "display_data",
          "data": {
            "text/html": [
              "<pre>recommendations finished on 45000/96352 queries. users per second: 67294.1</pre>"
            ],
            "text/plain": [
              "recommendations finished on 45000/96352 queries. users per second: 67294.1"
            ]
          },
          "metadata": {
            "tags": []
          }
        },
        {
          "output_type": "display_data",
          "data": {
            "text/html": [
              "<pre>recommendations finished on 46000/96352 queries. users per second: 67277</pre>"
            ],
            "text/plain": [
              "recommendations finished on 46000/96352 queries. users per second: 67277"
            ]
          },
          "metadata": {
            "tags": []
          }
        },
        {
          "output_type": "display_data",
          "data": {
            "text/html": [
              "<pre>recommendations finished on 47000/96352 queries. users per second: 67170.9</pre>"
            ],
            "text/plain": [
              "recommendations finished on 47000/96352 queries. users per second: 67170.9"
            ]
          },
          "metadata": {
            "tags": []
          }
        },
        {
          "output_type": "display_data",
          "data": {
            "text/html": [
              "<pre>recommendations finished on 48000/96352 queries. users per second: 67095.5</pre>"
            ],
            "text/plain": [
              "recommendations finished on 48000/96352 queries. users per second: 67095.5"
            ]
          },
          "metadata": {
            "tags": []
          }
        },
        {
          "output_type": "display_data",
          "data": {
            "text/html": [
              "<pre>recommendations finished on 49000/96352 queries. users per second: 67030.9</pre>"
            ],
            "text/plain": [
              "recommendations finished on 49000/96352 queries. users per second: 67030.9"
            ]
          },
          "metadata": {
            "tags": []
          }
        },
        {
          "output_type": "display_data",
          "data": {
            "text/html": [
              "<pre>recommendations finished on 50000/96352 queries. users per second: 67018.9</pre>"
            ],
            "text/plain": [
              "recommendations finished on 50000/96352 queries. users per second: 67018.9"
            ]
          },
          "metadata": {
            "tags": []
          }
        },
        {
          "output_type": "display_data",
          "data": {
            "text/html": [
              "<pre>recommendations finished on 51000/96352 queries. users per second: 66961.6</pre>"
            ],
            "text/plain": [
              "recommendations finished on 51000/96352 queries. users per second: 66961.6"
            ]
          },
          "metadata": {
            "tags": []
          }
        },
        {
          "output_type": "display_data",
          "data": {
            "text/html": [
              "<pre>recommendations finished on 52000/96352 queries. users per second: 66899.4</pre>"
            ],
            "text/plain": [
              "recommendations finished on 52000/96352 queries. users per second: 66899.4"
            ]
          },
          "metadata": {
            "tags": []
          }
        },
        {
          "output_type": "display_data",
          "data": {
            "text/html": [
              "<pre>recommendations finished on 53000/96352 queries. users per second: 66830.3</pre>"
            ],
            "text/plain": [
              "recommendations finished on 53000/96352 queries. users per second: 66830.3"
            ]
          },
          "metadata": {
            "tags": []
          }
        },
        {
          "output_type": "display_data",
          "data": {
            "text/html": [
              "<pre>recommendations finished on 54000/96352 queries. users per second: 66801.6</pre>"
            ],
            "text/plain": [
              "recommendations finished on 54000/96352 queries. users per second: 66801.6"
            ]
          },
          "metadata": {
            "tags": []
          }
        },
        {
          "output_type": "display_data",
          "data": {
            "text/html": [
              "<pre>recommendations finished on 55000/96352 queries. users per second: 66775.8</pre>"
            ],
            "text/plain": [
              "recommendations finished on 55000/96352 queries. users per second: 66775.8"
            ]
          },
          "metadata": {
            "tags": []
          }
        },
        {
          "output_type": "display_data",
          "data": {
            "text/html": [
              "<pre>recommendations finished on 56000/96352 queries. users per second: 66803.5</pre>"
            ],
            "text/plain": [
              "recommendations finished on 56000/96352 queries. users per second: 66803.5"
            ]
          },
          "metadata": {
            "tags": []
          }
        },
        {
          "output_type": "display_data",
          "data": {
            "text/html": [
              "<pre>recommendations finished on 57000/96352 queries. users per second: 66835.4</pre>"
            ],
            "text/plain": [
              "recommendations finished on 57000/96352 queries. users per second: 66835.4"
            ]
          },
          "metadata": {
            "tags": []
          }
        },
        {
          "output_type": "display_data",
          "data": {
            "text/html": [
              "<pre>recommendations finished on 58000/96352 queries. users per second: 66847.7</pre>"
            ],
            "text/plain": [
              "recommendations finished on 58000/96352 queries. users per second: 66847.7"
            ]
          },
          "metadata": {
            "tags": []
          }
        },
        {
          "output_type": "display_data",
          "data": {
            "text/html": [
              "<pre>recommendations finished on 59000/96352 queries. users per second: 66830.8</pre>"
            ],
            "text/plain": [
              "recommendations finished on 59000/96352 queries. users per second: 66830.8"
            ]
          },
          "metadata": {
            "tags": []
          }
        },
        {
          "output_type": "display_data",
          "data": {
            "text/html": [
              "<pre>recommendations finished on 60000/96352 queries. users per second: 66851.8</pre>"
            ],
            "text/plain": [
              "recommendations finished on 60000/96352 queries. users per second: 66851.8"
            ]
          },
          "metadata": {
            "tags": []
          }
        },
        {
          "output_type": "display_data",
          "data": {
            "text/html": [
              "<pre>recommendations finished on 61000/96352 queries. users per second: 66873.8</pre>"
            ],
            "text/plain": [
              "recommendations finished on 61000/96352 queries. users per second: 66873.8"
            ]
          },
          "metadata": {
            "tags": []
          }
        },
        {
          "output_type": "display_data",
          "data": {
            "text/html": [
              "<pre>recommendations finished on 62000/96352 queries. users per second: 66890.7</pre>"
            ],
            "text/plain": [
              "recommendations finished on 62000/96352 queries. users per second: 66890.7"
            ]
          },
          "metadata": {
            "tags": []
          }
        },
        {
          "output_type": "display_data",
          "data": {
            "text/html": [
              "<pre>recommendations finished on 63000/96352 queries. users per second: 66785.9</pre>"
            ],
            "text/plain": [
              "recommendations finished on 63000/96352 queries. users per second: 66785.9"
            ]
          },
          "metadata": {
            "tags": []
          }
        },
        {
          "output_type": "display_data",
          "data": {
            "text/html": [
              "<pre>recommendations finished on 64000/96352 queries. users per second: 66812.3</pre>"
            ],
            "text/plain": [
              "recommendations finished on 64000/96352 queries. users per second: 66812.3"
            ]
          },
          "metadata": {
            "tags": []
          }
        },
        {
          "output_type": "display_data",
          "data": {
            "text/html": [
              "<pre>recommendations finished on 65000/96352 queries. users per second: 66837.8</pre>"
            ],
            "text/plain": [
              "recommendations finished on 65000/96352 queries. users per second: 66837.8"
            ]
          },
          "metadata": {
            "tags": []
          }
        },
        {
          "output_type": "display_data",
          "data": {
            "text/html": [
              "<pre>recommendations finished on 66000/96352 queries. users per second: 66891.2</pre>"
            ],
            "text/plain": [
              "recommendations finished on 66000/96352 queries. users per second: 66891.2"
            ]
          },
          "metadata": {
            "tags": []
          }
        },
        {
          "output_type": "display_data",
          "data": {
            "text/html": [
              "<pre>recommendations finished on 67000/96352 queries. users per second: 66878.3</pre>"
            ],
            "text/plain": [
              "recommendations finished on 67000/96352 queries. users per second: 66878.3"
            ]
          },
          "metadata": {
            "tags": []
          }
        },
        {
          "output_type": "display_data",
          "data": {
            "text/html": [
              "<pre>recommendations finished on 68000/96352 queries. users per second: 66897.7</pre>"
            ],
            "text/plain": [
              "recommendations finished on 68000/96352 queries. users per second: 66897.7"
            ]
          },
          "metadata": {
            "tags": []
          }
        },
        {
          "output_type": "display_data",
          "data": {
            "text/html": [
              "<pre>recommendations finished on 69000/96352 queries. users per second: 66910.2</pre>"
            ],
            "text/plain": [
              "recommendations finished on 69000/96352 queries. users per second: 66910.2"
            ]
          },
          "metadata": {
            "tags": []
          }
        },
        {
          "output_type": "display_data",
          "data": {
            "text/html": [
              "<pre>recommendations finished on 70000/96352 queries. users per second: 66936.1</pre>"
            ],
            "text/plain": [
              "recommendations finished on 70000/96352 queries. users per second: 66936.1"
            ]
          },
          "metadata": {
            "tags": []
          }
        },
        {
          "output_type": "display_data",
          "data": {
            "text/html": [
              "<pre>recommendations finished on 71000/96352 queries. users per second: 66914.3</pre>"
            ],
            "text/plain": [
              "recommendations finished on 71000/96352 queries. users per second: 66914.3"
            ]
          },
          "metadata": {
            "tags": []
          }
        },
        {
          "output_type": "display_data",
          "data": {
            "text/html": [
              "<pre>recommendations finished on 72000/96352 queries. users per second: 66937.1</pre>"
            ],
            "text/plain": [
              "recommendations finished on 72000/96352 queries. users per second: 66937.1"
            ]
          },
          "metadata": {
            "tags": []
          }
        },
        {
          "output_type": "display_data",
          "data": {
            "text/html": [
              "<pre>recommendations finished on 73000/96352 queries. users per second: 66947.8</pre>"
            ],
            "text/plain": [
              "recommendations finished on 73000/96352 queries. users per second: 66947.8"
            ]
          },
          "metadata": {
            "tags": []
          }
        },
        {
          "output_type": "display_data",
          "data": {
            "text/html": [
              "<pre>recommendations finished on 74000/96352 queries. users per second: 66966.8</pre>"
            ],
            "text/plain": [
              "recommendations finished on 74000/96352 queries. users per second: 66966.8"
            ]
          },
          "metadata": {
            "tags": []
          }
        },
        {
          "output_type": "display_data",
          "data": {
            "text/html": [
              "<pre>recommendations finished on 75000/96352 queries. users per second: 66973.2</pre>"
            ],
            "text/plain": [
              "recommendations finished on 75000/96352 queries. users per second: 66973.2"
            ]
          },
          "metadata": {
            "tags": []
          }
        },
        {
          "output_type": "display_data",
          "data": {
            "text/html": [
              "<pre>recommendations finished on 76000/96352 queries. users per second: 66989.2</pre>"
            ],
            "text/plain": [
              "recommendations finished on 76000/96352 queries. users per second: 66989.2"
            ]
          },
          "metadata": {
            "tags": []
          }
        },
        {
          "output_type": "display_data",
          "data": {
            "text/html": [
              "<pre>recommendations finished on 77000/96352 queries. users per second: 67009.8</pre>"
            ],
            "text/plain": [
              "recommendations finished on 77000/96352 queries. users per second: 67009.8"
            ]
          },
          "metadata": {
            "tags": []
          }
        },
        {
          "output_type": "display_data",
          "data": {
            "text/html": [
              "<pre>recommendations finished on 78000/96352 queries. users per second: 67047</pre>"
            ],
            "text/plain": [
              "recommendations finished on 78000/96352 queries. users per second: 67047"
            ]
          },
          "metadata": {
            "tags": []
          }
        },
        {
          "output_type": "display_data",
          "data": {
            "text/html": [
              "<pre>recommendations finished on 79000/96352 queries. users per second: 67008.6</pre>"
            ],
            "text/plain": [
              "recommendations finished on 79000/96352 queries. users per second: 67008.6"
            ]
          },
          "metadata": {
            "tags": []
          }
        },
        {
          "output_type": "display_data",
          "data": {
            "text/html": [
              "<pre>recommendations finished on 80000/96352 queries. users per second: 67031.9</pre>"
            ],
            "text/plain": [
              "recommendations finished on 80000/96352 queries. users per second: 67031.9"
            ]
          },
          "metadata": {
            "tags": []
          }
        },
        {
          "output_type": "display_data",
          "data": {
            "text/html": [
              "<pre>recommendations finished on 81000/96352 queries. users per second: 67035.2</pre>"
            ],
            "text/plain": [
              "recommendations finished on 81000/96352 queries. users per second: 67035.2"
            ]
          },
          "metadata": {
            "tags": []
          }
        },
        {
          "output_type": "display_data",
          "data": {
            "text/html": [
              "<pre>recommendations finished on 82000/96352 queries. users per second: 67020.1</pre>"
            ],
            "text/plain": [
              "recommendations finished on 82000/96352 queries. users per second: 67020.1"
            ]
          },
          "metadata": {
            "tags": []
          }
        },
        {
          "output_type": "display_data",
          "data": {
            "text/html": [
              "<pre>recommendations finished on 83000/96352 queries. users per second: 66976.6</pre>"
            ],
            "text/plain": [
              "recommendations finished on 83000/96352 queries. users per second: 66976.6"
            ]
          },
          "metadata": {
            "tags": []
          }
        },
        {
          "output_type": "display_data",
          "data": {
            "text/html": [
              "<pre>recommendations finished on 84000/96352 queries. users per second: 66993.4</pre>"
            ],
            "text/plain": [
              "recommendations finished on 84000/96352 queries. users per second: 66993.4"
            ]
          },
          "metadata": {
            "tags": []
          }
        },
        {
          "output_type": "display_data",
          "data": {
            "text/html": [
              "<pre>recommendations finished on 85000/96352 queries. users per second: 67014.1</pre>"
            ],
            "text/plain": [
              "recommendations finished on 85000/96352 queries. users per second: 67014.1"
            ]
          },
          "metadata": {
            "tags": []
          }
        },
        {
          "output_type": "display_data",
          "data": {
            "text/html": [
              "<pre>recommendations finished on 86000/96352 queries. users per second: 67038.1</pre>"
            ],
            "text/plain": [
              "recommendations finished on 86000/96352 queries. users per second: 67038.1"
            ]
          },
          "metadata": {
            "tags": []
          }
        },
        {
          "output_type": "display_data",
          "data": {
            "text/html": [
              "<pre>recommendations finished on 87000/96352 queries. users per second: 66977.9</pre>"
            ],
            "text/plain": [
              "recommendations finished on 87000/96352 queries. users per second: 66977.9"
            ]
          },
          "metadata": {
            "tags": []
          }
        },
        {
          "output_type": "display_data",
          "data": {
            "text/html": [
              "<pre>recommendations finished on 88000/96352 queries. users per second: 66947</pre>"
            ],
            "text/plain": [
              "recommendations finished on 88000/96352 queries. users per second: 66947"
            ]
          },
          "metadata": {
            "tags": []
          }
        },
        {
          "output_type": "display_data",
          "data": {
            "text/html": [
              "<pre>recommendations finished on 89000/96352 queries. users per second: 66944.5</pre>"
            ],
            "text/plain": [
              "recommendations finished on 89000/96352 queries. users per second: 66944.5"
            ]
          },
          "metadata": {
            "tags": []
          }
        },
        {
          "output_type": "display_data",
          "data": {
            "text/html": [
              "<pre>recommendations finished on 90000/96352 queries. users per second: 66963.5</pre>"
            ],
            "text/plain": [
              "recommendations finished on 90000/96352 queries. users per second: 66963.5"
            ]
          },
          "metadata": {
            "tags": []
          }
        },
        {
          "output_type": "display_data",
          "data": {
            "text/html": [
              "<pre>recommendations finished on 91000/96352 queries. users per second: 66960.5</pre>"
            ],
            "text/plain": [
              "recommendations finished on 91000/96352 queries. users per second: 66960.5"
            ]
          },
          "metadata": {
            "tags": []
          }
        },
        {
          "output_type": "display_data",
          "data": {
            "text/html": [
              "<pre>recommendations finished on 92000/96352 queries. users per second: 66951.3</pre>"
            ],
            "text/plain": [
              "recommendations finished on 92000/96352 queries. users per second: 66951.3"
            ]
          },
          "metadata": {
            "tags": []
          }
        },
        {
          "output_type": "display_data",
          "data": {
            "text/html": [
              "<pre>recommendations finished on 93000/96352 queries. users per second: 66919.6</pre>"
            ],
            "text/plain": [
              "recommendations finished on 93000/96352 queries. users per second: 66919.6"
            ]
          },
          "metadata": {
            "tags": []
          }
        },
        {
          "output_type": "display_data",
          "data": {
            "text/html": [
              "<pre>recommendations finished on 94000/96352 queries. users per second: 66853.1</pre>"
            ],
            "text/plain": [
              "recommendations finished on 94000/96352 queries. users per second: 66853.1"
            ]
          },
          "metadata": {
            "tags": []
          }
        },
        {
          "output_type": "display_data",
          "data": {
            "text/html": [
              "<pre>recommendations finished on 95000/96352 queries. users per second: 66535.6</pre>"
            ],
            "text/plain": [
              "recommendations finished on 95000/96352 queries. users per second: 66535.6"
            ]
          },
          "metadata": {
            "tags": []
          }
        },
        {
          "output_type": "display_data",
          "data": {
            "text/html": [
              "<pre>recommendations finished on 96000/96352 queries. users per second: 65970.2</pre>"
            ],
            "text/plain": [
              "recommendations finished on 96000/96352 queries. users per second: 65970.2"
            ]
          },
          "metadata": {
            "tags": []
          }
        },
        {
          "output_type": "stream",
          "text": [
            "+-------------------------------+-------------------------------+----------+------+\n",
            "|          customer_id          |           product_id          |  score   | rank |\n",
            "+-------------------------------+-------------------------------+----------+------+\n",
            "| 0000366f3b9a7992bf8c76cfdf... | 34f99d82cfc355d08d8db780d1... | 312650.0 |  1   |\n",
            "| 0000366f3b9a7992bf8c76cfdf... | a233df9a388d27dbdfd31731d4... | 278416.0 |  2   |\n",
            "| 0000366f3b9a7992bf8c76cfdf... | a3cd9517ebf5a50dca25acce54... | 271336.0 |  3   |\n",
            "| 0000b849f77a49e4a4ce2b2a4c... | 34f99d82cfc355d08d8db780d1... | 312650.0 |  1   |\n",
            "| 0000b849f77a49e4a4ce2b2a4c... | a233df9a388d27dbdfd31731d4... | 278416.0 |  2   |\n",
            "| 0000b849f77a49e4a4ce2b2a4c... | a3cd9517ebf5a50dca25acce54... | 271336.0 |  3   |\n",
            "+-------------------------------+-------------------------------+----------+------+\n",
            "[289056 rows x 4 columns]\n",
            "\n"
          ],
          "name": "stdout"
        }
      ]
    },
    {
      "cell_type": "code",
      "metadata": {
        "id": "vBgXDCdcIYlP",
        "colab_type": "code",
        "colab": {}
      },
      "source": [
        "# se definen parametros para recomendar el nu´meruo de productos a recomendar y una previsualziación definida del resultado\n",
        "user_id = 'customer_id'\n",
        "item_id = 'product_id'\n",
        "users_to_recommend = list(datos_clientes[user_id])\n",
        "n_rec = 5 # number of items to recommend\n",
        "n_display = 5 # to display the first few rows in an output dataset\n",
        "# Se define una función que retorne un modelo resultado segun el enfoque que se requiere:\n",
        "# 1. Popularity : Es el item que más se a consumido en todos los clientes\n",
        "# 2. cosine :\n",
        "# 3. Pearson: \n",
        "def model(train_data, name, user_id, item_id, target, users_to_recommend, n_rec, n_display):\n",
        "    if name == 'popularity':\n",
        "        model = tc.popularity_recommender.create(train_data, user_id=user_id, item_id=item_id, target=target);\n",
        "    elif name == 'cosine':\n",
        "        model = tc.item_similarity_recommender.create(train_data, user_id=user_id, item_id=item_id, target=target, similarity_type='cosine')\n",
        "    elif name == 'pearson':\n",
        "        model = tc.item_similarity_recommender.create(train_data,user_id=user_id,item_id=item_id,target=target,similarity_type='pearson')\n",
        "        \n",
        "    recom = model.recommend(users=users_to_recommend, k=3);\n",
        "    recom.print_rows(6)\n",
        "    return model"
      ],
      "execution_count": 0,
      "outputs": []
    },
    {
      "cell_type": "code",
      "metadata": {
        "id": "k93xEDCMKowY",
        "colab_type": "code",
        "colab": {}
      },
      "source": [
        "name = 'popularity'\n",
        "target = 'total_value'\n",
        "train_dataF=tc.SFrame(train_data_dummy)\n",
        "test_dataF=tc.SFrame(test_data_dummy)\n",
        "popularity_model = model(train_dataF, name, user_id, item_id, target, users_to_recommend, n_rec, n_display)"
      ],
      "execution_count": 0,
      "outputs": []
    },
    {
      "cell_type": "markdown",
      "metadata": {
        "id": "rt1oYyEtGEn3",
        "colab_type": "text"
      },
      "source": [
        "### 1.3 Motor de recomendación por productos\n",
        "Se realiza la ejecución del modelo desde los tres datasets definidos de información, con el fin de asegurar el mejor valor a ser entregado al equipo de ventas y analistas de la organización"
      ]
    },
    {
      "cell_type": "code",
      "metadata": {
        "id": "tL7YB9rAGMXy",
        "colab_type": "code",
        "colab": {}
      },
      "source": [
        "name = 'popularity'\n",
        "target = 'total_value'\n",
        "train_dataF=tc.SFrame(train_data)\n",
        "test_dataF=tc.SFrame(test_data)\n",
        "popularity_model = model(train_dataF, name, user_id, item_id, target, users_to_recommend, n_rec, n_display)"
      ],
      "execution_count": 0,
      "outputs": []
    },
    {
      "cell_type": "code",
      "metadata": {
        "id": "EtogO3mDntP5",
        "colab_type": "code",
        "trusted": true,
        "colab": {}
      },
      "source": [
        "pd.crosstab(datos_facturacion['customer_id'],datos_facturacion['product_id'],values=datos_facturacion['total_value'], aggfunc='sum')  # margins=True, margins_name=\"total_value\")\n"
      ],
      "execution_count": 0,
      "outputs": []
    },
    {
      "cell_type": "markdown",
      "metadata": {
        "id": "LclIGAmB8JRT",
        "colab_type": "text"
      },
      "source": [
        "### 1. Motor de recomendación"
      ]
    },
    {
      "cell_type": "code",
      "metadata": {
        "id": "dNftsM2c8MJH",
        "colab_type": "code",
        "outputId": "1a0da483-d95e-4adc-d3b5-9d596cbe94e5",
        "trusted": true,
        "colab": {
          "base_uri": "https://localhost:8080/",
          "height": 206
        }
      },
      "source": [
        "datos_facturacion.head()\n",
        "cols = ['customer_id', 'product_id','total_value']\n",
        "datos_proceso= pd.DataFrame(datos_facturacion, columns=cols, dtype=object)\n",
        "datos_proceso.dtypes\n",
        "datos_proceso.head()"
      ],
      "execution_count": 0,
      "outputs": [
        {
          "output_type": "execute_result",
          "data": {
            "text/html": [
              "<div>\n",
              "<table border=\"1\" class=\"dataframe\">\n",
              "  <thead>\n",
              "    <tr style=\"text-align: right;\">\n",
              "      <th></th>\n",
              "      <th>customer_id</th>\n",
              "      <th>product_id</th>\n",
              "      <th>total_value</th>\n",
              "    </tr>\n",
              "  </thead>\n",
              "  <tbody>\n",
              "    <tr>\n",
              "      <th>0</th>\n",
              "      <td>871766c5855e863f6eccc05f988b23cb</td>\n",
              "      <td>4244733e06e7ecb4970a6e2683c13e61</td>\n",
              "      <td>7219</td>\n",
              "    </tr>\n",
              "    <tr>\n",
              "      <th>1</th>\n",
              "      <td>eb28e67c4c0b83846050ddfb8a35d051</td>\n",
              "      <td>e5f2d52b802189ee658865ca93d83a8f</td>\n",
              "      <td>25983</td>\n",
              "    </tr>\n",
              "    <tr>\n",
              "      <th>2</th>\n",
              "      <td>3818d81c6709e39d06b2738a8d3a2474</td>\n",
              "      <td>c777355d18b72b67abbeef9df44fd0fd</td>\n",
              "      <td>21687</td>\n",
              "    </tr>\n",
              "    <tr>\n",
              "      <th>3</th>\n",
              "      <td>af861d436cfc08b2c2ddefd0ba074622</td>\n",
              "      <td>7634da152a4610f1595efa32f14722fc</td>\n",
              "      <td>2578</td>\n",
              "    </tr>\n",
              "    <tr>\n",
              "      <th>4</th>\n",
              "      <td>64b576fb70d441e8f1b2d7d446e483c5</td>\n",
              "      <td>ac6c3623068f30de03045865e4e10089</td>\n",
              "      <td>21804</td>\n",
              "    </tr>\n",
              "  </tbody>\n",
              "</table>\n",
              "</div>"
            ],
            "text/plain": [
              "                        customer_id                        product_id  \\\n",
              "0  871766c5855e863f6eccc05f988b23cb  4244733e06e7ecb4970a6e2683c13e61   \n",
              "1  eb28e67c4c0b83846050ddfb8a35d051  e5f2d52b802189ee658865ca93d83a8f   \n",
              "2  3818d81c6709e39d06b2738a8d3a2474  c777355d18b72b67abbeef9df44fd0fd   \n",
              "3  af861d436cfc08b2c2ddefd0ba074622  7634da152a4610f1595efa32f14722fc   \n",
              "4  64b576fb70d441e8f1b2d7d446e483c5  ac6c3623068f30de03045865e4e10089   \n",
              "\n",
              "  total_value  \n",
              "0        7219  \n",
              "1       25983  \n",
              "2       21687  \n",
              "3        2578  \n",
              "4       21804  "
            ]
          },
          "metadata": {
            "tags": []
          },
          "execution_count": 32
        }
      ]
    },
    {
      "cell_type": "code",
      "metadata": {
        "id": "pkSRa5oPK8Fd",
        "colab_type": "code",
        "outputId": "75ae0353-c820-432f-ec35-f9d5ded432f8",
        "trusted": true,
        "colab": {
          "base_uri": "https://localhost:8080/",
          "height": 226
        }
      },
      "source": [
        "datos_dummy = datos_facturacion.copy()\n",
        "datos_dummy['total_dummy'] = 1\n",
        "datos_dummy.head()"
      ],
      "execution_count": 0,
      "outputs": [
        {
          "output_type": "execute_result",
          "data": {
            "text/html": [
              "<div>\n",
              "<table border=\"1\" class=\"dataframe\">\n",
              "  <thead>\n",
              "    <tr style=\"text-align: right;\">\n",
              "      <th></th>\n",
              "      <th>order_id</th>\n",
              "      <th>order_item_id</th>\n",
              "      <th>product_id</th>\n",
              "      <th>customer_id</th>\n",
              "      <th>customer_zip_code_prefix</th>\n",
              "      <th>seller_id</th>\n",
              "      <th>shipping_limit_date</th>\n",
              "      <th>price</th>\n",
              "      <th>freight_value</th>\n",
              "      <th>total_value</th>\n",
              "      <th>...</th>\n",
              "      <th>voucher</th>\n",
              "      <th>not_defined</th>\n",
              "      <th>num_txn</th>\n",
              "      <th>order_status</th>\n",
              "      <th>order_purchase_timestamp</th>\n",
              "      <th>order_approved_at</th>\n",
              "      <th>order_delivered_carrier_date</th>\n",
              "      <th>order_delivered_customer_date</th>\n",
              "      <th>order_estimated_delivery_date</th>\n",
              "      <th>total_dummy</th>\n",
              "    </tr>\n",
              "  </thead>\n",
              "  <tbody>\n",
              "    <tr>\n",
              "      <th>0</th>\n",
              "      <td>00010242fe8c5a6d1ba2dd792cb16214</td>\n",
              "      <td>1</td>\n",
              "      <td>4244733e06e7ecb4970a6e2683c13e61</td>\n",
              "      <td>871766c5855e863f6eccc05f988b23cb</td>\n",
              "      <td>28013</td>\n",
              "      <td>48436dade18ac8b2bce089ec2a041202</td>\n",
              "      <td>2017-09-19 09:45:35</td>\n",
              "      <td>5890</td>\n",
              "      <td>1329</td>\n",
              "      <td>7219</td>\n",
              "      <td>...</td>\n",
              "      <td>0</td>\n",
              "      <td>0</td>\n",
              "      <td>1</td>\n",
              "      <td>delivered</td>\n",
              "      <td>2017-09-13 08:59:02</td>\n",
              "      <td>2017-09-13 09:45:35</td>\n",
              "      <td>2017-09-19 18:34:16</td>\n",
              "      <td>2017-09-20 23:43:48</td>\n",
              "      <td>2017-09-29</td>\n",
              "      <td>1</td>\n",
              "    </tr>\n",
              "    <tr>\n",
              "      <th>1</th>\n",
              "      <td>00018f77f2f0320c557190d7a144bdd3</td>\n",
              "      <td>1</td>\n",
              "      <td>e5f2d52b802189ee658865ca93d83a8f</td>\n",
              "      <td>eb28e67c4c0b83846050ddfb8a35d051</td>\n",
              "      <td>15775</td>\n",
              "      <td>dd7ddc04e1b6c2c614352b383efe2d36</td>\n",
              "      <td>2017-05-03 11:05:13</td>\n",
              "      <td>23990</td>\n",
              "      <td>1993</td>\n",
              "      <td>25983</td>\n",
              "      <td>...</td>\n",
              "      <td>0</td>\n",
              "      <td>0</td>\n",
              "      <td>1</td>\n",
              "      <td>delivered</td>\n",
              "      <td>2017-04-26 10:53:06</td>\n",
              "      <td>2017-04-26 11:05:13</td>\n",
              "      <td>2017-05-04 14:35:00</td>\n",
              "      <td>2017-05-12 16:04:24</td>\n",
              "      <td>2017-05-15</td>\n",
              "      <td>1</td>\n",
              "    </tr>\n",
              "    <tr>\n",
              "      <th>2</th>\n",
              "      <td>000229ec398224ef6ca0657da4fc703e</td>\n",
              "      <td>1</td>\n",
              "      <td>c777355d18b72b67abbeef9df44fd0fd</td>\n",
              "      <td>3818d81c6709e39d06b2738a8d3a2474</td>\n",
              "      <td>35661</td>\n",
              "      <td>5b51032eddd242adc84c38acab88f23d</td>\n",
              "      <td>2018-01-18 14:48:30</td>\n",
              "      <td>19900</td>\n",
              "      <td>1787</td>\n",
              "      <td>21687</td>\n",
              "      <td>...</td>\n",
              "      <td>0</td>\n",
              "      <td>0</td>\n",
              "      <td>1</td>\n",
              "      <td>delivered</td>\n",
              "      <td>2018-01-14 14:33:31</td>\n",
              "      <td>2018-01-14 14:48:30</td>\n",
              "      <td>2018-01-16 12:36:48</td>\n",
              "      <td>2018-01-22 13:19:16</td>\n",
              "      <td>2018-02-05</td>\n",
              "      <td>1</td>\n",
              "    </tr>\n",
              "    <tr>\n",
              "      <th>3</th>\n",
              "      <td>00024acbcdf0a6daa1e931b038114c75</td>\n",
              "      <td>1</td>\n",
              "      <td>7634da152a4610f1595efa32f14722fc</td>\n",
              "      <td>af861d436cfc08b2c2ddefd0ba074622</td>\n",
              "      <td>12952</td>\n",
              "      <td>9d7a1d34a5052409006425275ba1c2b4</td>\n",
              "      <td>2018-08-15 10:10:18</td>\n",
              "      <td>1299</td>\n",
              "      <td>1279</td>\n",
              "      <td>2578</td>\n",
              "      <td>...</td>\n",
              "      <td>0</td>\n",
              "      <td>0</td>\n",
              "      <td>1</td>\n",
              "      <td>delivered</td>\n",
              "      <td>2018-08-08 10:00:35</td>\n",
              "      <td>2018-08-08 10:10:18</td>\n",
              "      <td>2018-08-10 13:28:00</td>\n",
              "      <td>2018-08-14 13:32:39</td>\n",
              "      <td>2018-08-20</td>\n",
              "      <td>1</td>\n",
              "    </tr>\n",
              "    <tr>\n",
              "      <th>4</th>\n",
              "      <td>00042b26cf59d7ce69dfabb4e55b4fd9</td>\n",
              "      <td>1</td>\n",
              "      <td>ac6c3623068f30de03045865e4e10089</td>\n",
              "      <td>64b576fb70d441e8f1b2d7d446e483c5</td>\n",
              "      <td>13226</td>\n",
              "      <td>df560393f3a51e74553ab94004ba5c87</td>\n",
              "      <td>2017-02-13 13:57:51</td>\n",
              "      <td>19990</td>\n",
              "      <td>1814</td>\n",
              "      <td>21804</td>\n",
              "      <td>...</td>\n",
              "      <td>0</td>\n",
              "      <td>0</td>\n",
              "      <td>1</td>\n",
              "      <td>delivered</td>\n",
              "      <td>2017-02-04 13:57:51</td>\n",
              "      <td>2017-02-04 14:10:13</td>\n",
              "      <td>2017-02-16 09:46:09</td>\n",
              "      <td>2017-03-01 16:42:31</td>\n",
              "      <td>2017-03-17</td>\n",
              "      <td>1</td>\n",
              "    </tr>\n",
              "  </tbody>\n",
              "</table>\n",
              "<p>5 rows × 23 columns</p>\n",
              "</div>"
            ],
            "text/plain": [
              "                           order_id  order_item_id  \\\n",
              "0  00010242fe8c5a6d1ba2dd792cb16214              1   \n",
              "1  00018f77f2f0320c557190d7a144bdd3              1   \n",
              "2  000229ec398224ef6ca0657da4fc703e              1   \n",
              "3  00024acbcdf0a6daa1e931b038114c75              1   \n",
              "4  00042b26cf59d7ce69dfabb4e55b4fd9              1   \n",
              "\n",
              "                         product_id                       customer_id  \\\n",
              "0  4244733e06e7ecb4970a6e2683c13e61  871766c5855e863f6eccc05f988b23cb   \n",
              "1  e5f2d52b802189ee658865ca93d83a8f  eb28e67c4c0b83846050ddfb8a35d051   \n",
              "2  c777355d18b72b67abbeef9df44fd0fd  3818d81c6709e39d06b2738a8d3a2474   \n",
              "3  7634da152a4610f1595efa32f14722fc  af861d436cfc08b2c2ddefd0ba074622   \n",
              "4  ac6c3623068f30de03045865e4e10089  64b576fb70d441e8f1b2d7d446e483c5   \n",
              "\n",
              "   customer_zip_code_prefix                         seller_id  \\\n",
              "0                     28013  48436dade18ac8b2bce089ec2a041202   \n",
              "1                     15775  dd7ddc04e1b6c2c614352b383efe2d36   \n",
              "2                     35661  5b51032eddd242adc84c38acab88f23d   \n",
              "3                     12952  9d7a1d34a5052409006425275ba1c2b4   \n",
              "4                     13226  df560393f3a51e74553ab94004ba5c87   \n",
              "\n",
              "  shipping_limit_date  price  freight_value  total_value     ...      voucher  \\\n",
              "0 2017-09-19 09:45:35   5890           1329         7219     ...            0   \n",
              "1 2017-05-03 11:05:13  23990           1993        25983     ...            0   \n",
              "2 2018-01-18 14:48:30  19900           1787        21687     ...            0   \n",
              "3 2018-08-15 10:10:18   1299           1279         2578     ...            0   \n",
              "4 2017-02-13 13:57:51  19990           1814        21804     ...            0   \n",
              "\n",
              "   not_defined  num_txn  order_status  order_purchase_timestamp  \\\n",
              "0            0        1     delivered       2017-09-13 08:59:02   \n",
              "1            0        1     delivered       2017-04-26 10:53:06   \n",
              "2            0        1     delivered       2018-01-14 14:33:31   \n",
              "3            0        1     delivered       2018-08-08 10:00:35   \n",
              "4            0        1     delivered       2017-02-04 13:57:51   \n",
              "\n",
              "    order_approved_at order_delivered_carrier_date  \\\n",
              "0 2017-09-13 09:45:35          2017-09-19 18:34:16   \n",
              "1 2017-04-26 11:05:13          2017-05-04 14:35:00   \n",
              "2 2018-01-14 14:48:30          2018-01-16 12:36:48   \n",
              "3 2018-08-08 10:10:18          2018-08-10 13:28:00   \n",
              "4 2017-02-04 14:10:13          2017-02-16 09:46:09   \n",
              "\n",
              "  order_delivered_customer_date order_estimated_delivery_date total_dummy  \n",
              "0           2017-09-20 23:43:48                    2017-09-29           1  \n",
              "1           2017-05-12 16:04:24                    2017-05-15           1  \n",
              "2           2018-01-22 13:19:16                    2018-02-05           1  \n",
              "3           2018-08-14 13:32:39                    2018-08-20           1  \n",
              "4           2017-03-01 16:42:31                    2017-03-17           1  \n",
              "\n",
              "[5 rows x 23 columns]"
            ]
          },
          "metadata": {
            "tags": []
          },
          "execution_count": 38
        }
      ]
    },
    {
      "cell_type": "markdown",
      "metadata": {
        "id": "aXWcTVTkFTBJ",
        "colab_type": "text"
      },
      "source": [
        "### 1.1 Colaborativo"
      ]
    },
    {
      "cell_type": "code",
      "metadata": {
        "id": "iOQV0Spz8Nst",
        "colab_type": "code",
        "trusted": true,
        "colab": {}
      },
      "source": [
        "# Se genera una pivot especifica para los campos requeridos del motor de recomendación \n",
        "matrix_usuario_producto = datos_proceso.pivot_table(index='customer_id',columns='product_id', values='total_value',aggfunc='sum')\n",
        "# Se comprueba resultado\n",
        "matrix_usuario_producto.head()"
      ],
      "execution_count": 0,
      "outputs": []
    },
    {
      "cell_type": "markdown",
      "metadata": {
        "id": "9ufvM7BjI9hB",
        "colab_type": "text"
      },
      "source": [
        "Se procede a normalizar la compras para ser comparables entre los valores"
      ]
    },
    {
      "cell_type": "code",
      "metadata": {
        "id": "bFpmf4uWRFJE",
        "colab_type": "code",
        "outputId": "eaccc206-967e-4447-c3f3-be512ba0d75d",
        "trusted": true,
        "colab": {
          "base_uri": "https://localhost:8080/",
          "height": 225
        }
      },
      "source": [
        "matrix_usuario_producto_norm = (matrix_usuario_producto-matrix_usuario_producto.min())/(matrix_usuario_producto.max()-matrix_usuario_producto.min())\n",
        "# Se crea una tabla como resultado de la normalización  \n",
        "d = matrix_usuario_producto_norm.reset_index() \n",
        "d.index.names = ['value_freq'] \n",
        "data_norm = pd.melt(d, id_vars=['customer_id'], value_name='value_freq').dropna()\n",
        "print(data_norm.shape)\n",
        "data_norm.head()"
      ],
      "execution_count": 0,
      "outputs": [
        {
          "output_type": "error",
          "ename": "TypeError",
          "evalue": "Could not operate array([24210.,  4909.,  9290., ...,  6811.,  4104., 10012.]) with block values ",
          "traceback": [
            "\u001b[0;31m---------------------------------------------------------------------------\u001b[0m",
            "\u001b[0;31mMemoryError\u001b[0m                               Traceback (most recent call last)",
            "\u001b[0;32m~/anaconda3_420/lib/python3.5/site-packages/pandas/core/internals.py\u001b[0m in \u001b[0;36meval\u001b[0;34m(self, func, other, raise_on_error, try_cast, mgr)\u001b[0m\n\u001b[1;32m   1158\u001b[0m             \u001b[0;32mwith\u001b[0m \u001b[0mnp\u001b[0m\u001b[0;34m.\u001b[0m\u001b[0merrstate\u001b[0m\u001b[0;34m(\u001b[0m\u001b[0mall\u001b[0m\u001b[0;34m=\u001b[0m\u001b[0;34m'ignore'\u001b[0m\u001b[0;34m)\u001b[0m\u001b[0;34m:\u001b[0m\u001b[0;34m\u001b[0m\u001b[0m\n\u001b[0;32m-> 1159\u001b[0;31m                 \u001b[0mresult\u001b[0m \u001b[0;34m=\u001b[0m \u001b[0mget_result\u001b[0m\u001b[0;34m(\u001b[0m\u001b[0mother\u001b[0m\u001b[0;34m)\u001b[0m\u001b[0;34m\u001b[0m\u001b[0m\n\u001b[0m\u001b[1;32m   1160\u001b[0m \u001b[0;34m\u001b[0m\u001b[0m\n",
            "\u001b[0;32m~/anaconda3_420/lib/python3.5/site-packages/pandas/core/internals.py\u001b[0m in \u001b[0;36mget_result\u001b[0;34m(other)\u001b[0m\n\u001b[1;32m   1128\u001b[0m             \u001b[0;32melse\u001b[0m\u001b[0;34m:\u001b[0m\u001b[0;34m\u001b[0m\u001b[0m\n\u001b[0;32m-> 1129\u001b[0;31m                 \u001b[0mresult\u001b[0m \u001b[0;34m=\u001b[0m \u001b[0mfunc\u001b[0m\u001b[0;34m(\u001b[0m\u001b[0mvalues\u001b[0m\u001b[0;34m,\u001b[0m \u001b[0mother\u001b[0m\u001b[0;34m)\u001b[0m\u001b[0;34m\u001b[0m\u001b[0m\n\u001b[0m\u001b[1;32m   1130\u001b[0m \u001b[0;34m\u001b[0m\u001b[0m\n",
            "\u001b[0;32m~/anaconda3_420/lib/python3.5/site-packages/pandas/core/ops.py\u001b[0m in \u001b[0;36mna_op\u001b[0;34m(x, y)\u001b[0m\n\u001b[1;32m   1169\u001b[0m             result = expressions.evaluate(op, str_rep, x, y,\n\u001b[0;32m-> 1170\u001b[0;31m                                           raise_on_error=True, **eval_kwargs)\n\u001b[0m\u001b[1;32m   1171\u001b[0m         \u001b[0;32mexcept\u001b[0m \u001b[0mTypeError\u001b[0m\u001b[0;34m:\u001b[0m\u001b[0;34m\u001b[0m\u001b[0m\n",
            "\u001b[0;32m~/anaconda3_420/lib/python3.5/site-packages/pandas/computation/expressions.py\u001b[0m in \u001b[0;36mevaluate\u001b[0;34m(op, op_str, a, b, raise_on_error, use_numexpr, **eval_kwargs)\u001b[0m\n\u001b[1;32m    209\u001b[0m         return _evaluate(op, op_str, a, b, raise_on_error=raise_on_error,\n\u001b[0;32m--> 210\u001b[0;31m                          **eval_kwargs)\n\u001b[0m\u001b[1;32m    211\u001b[0m     \u001b[0;32mreturn\u001b[0m \u001b[0m_evaluate_standard\u001b[0m\u001b[0;34m(\u001b[0m\u001b[0mop\u001b[0m\u001b[0;34m,\u001b[0m \u001b[0mop_str\u001b[0m\u001b[0;34m,\u001b[0m \u001b[0ma\u001b[0m\u001b[0;34m,\u001b[0m \u001b[0mb\u001b[0m\u001b[0;34m,\u001b[0m \u001b[0mraise_on_error\u001b[0m\u001b[0;34m=\u001b[0m\u001b[0mraise_on_error\u001b[0m\u001b[0;34m)\u001b[0m\u001b[0;34m\u001b[0m\u001b[0m\n",
            "\u001b[0;32m~/anaconda3_420/lib/python3.5/site-packages/pandas/computation/expressions.py\u001b[0m in \u001b[0;36m_evaluate_numexpr\u001b[0;34m(op, op_str, a, b, raise_on_error, truediv, reversed, **eval_kwargs)\u001b[0m\n\u001b[1;32m    108\u001b[0m                                  \u001b[0mcasting\u001b[0m\u001b[0;34m=\u001b[0m\u001b[0;34m'safe'\u001b[0m\u001b[0;34m,\u001b[0m \u001b[0mtruediv\u001b[0m\u001b[0;34m=\u001b[0m\u001b[0mtruediv\u001b[0m\u001b[0;34m,\u001b[0m\u001b[0;34m\u001b[0m\u001b[0m\n\u001b[0;32m--> 109\u001b[0;31m                                  **eval_kwargs)\n\u001b[0m\u001b[1;32m    110\u001b[0m         \u001b[0;32mexcept\u001b[0m \u001b[0mValueError\u001b[0m \u001b[0;32mas\u001b[0m \u001b[0mdetail\u001b[0m\u001b[0;34m:\u001b[0m\u001b[0;34m\u001b[0m\u001b[0m\n",
            "\u001b[0;32m~/anaconda3_420/lib/python3.5/site-packages/numexpr/necompiler.py\u001b[0m in \u001b[0;36mevaluate\u001b[0;34m(ex, local_dict, global_dict, out, order, casting, **kwargs)\u001b[0m\n\u001b[1;32m    801\u001b[0m     \u001b[0;32mwith\u001b[0m \u001b[0mevaluate_lock\u001b[0m\u001b[0;34m:\u001b[0m\u001b[0;34m\u001b[0m\u001b[0m\n\u001b[0;32m--> 802\u001b[0;31m         \u001b[0;32mreturn\u001b[0m \u001b[0mcompiled_ex\u001b[0m\u001b[0;34m(\u001b[0m\u001b[0;34m*\u001b[0m\u001b[0marguments\u001b[0m\u001b[0;34m,\u001b[0m \u001b[0;34m**\u001b[0m\u001b[0mkwargs\u001b[0m\u001b[0;34m)\u001b[0m\u001b[0;34m\u001b[0m\u001b[0m\n\u001b[0m\u001b[1;32m    803\u001b[0m \u001b[0;34m\u001b[0m\u001b[0m\n",
            "\u001b[0;31mMemoryError\u001b[0m: ",
            "\nDuring handling of the above exception, another exception occurred:\n",
            "\u001b[0;31mTypeError\u001b[0m                                 Traceback (most recent call last)",
            "\u001b[0;32m<ipython-input-36-ee59b7320c47>\u001b[0m in \u001b[0;36m<module>\u001b[0;34m()\u001b[0m\n\u001b[0;32m----> 1\u001b[0;31m \u001b[0mmatrix_usuario_producto_norm\u001b[0m \u001b[0;34m=\u001b[0m \u001b[0;34m(\u001b[0m\u001b[0mmatrix_usuario_producto\u001b[0m\u001b[0;34m-\u001b[0m\u001b[0mmatrix_usuario_producto\u001b[0m\u001b[0;34m.\u001b[0m\u001b[0mmin\u001b[0m\u001b[0;34m(\u001b[0m\u001b[0;34m)\u001b[0m\u001b[0;34m)\u001b[0m\u001b[0;34m/\u001b[0m\u001b[0;34m(\u001b[0m\u001b[0mmatrix_usuario_producto\u001b[0m\u001b[0;34m.\u001b[0m\u001b[0mmax\u001b[0m\u001b[0;34m(\u001b[0m\u001b[0;34m)\u001b[0m\u001b[0;34m-\u001b[0m\u001b[0mmatrix_usuario_producto\u001b[0m\u001b[0;34m.\u001b[0m\u001b[0mmin\u001b[0m\u001b[0;34m(\u001b[0m\u001b[0;34m)\u001b[0m\u001b[0;34m)\u001b[0m\u001b[0;34m\u001b[0m\u001b[0m\n\u001b[0m\u001b[1;32m      2\u001b[0m \u001b[0;31m# Se crea una tabla como resultado de la normalización\u001b[0m\u001b[0;34m\u001b[0m\u001b[0;34m\u001b[0m\u001b[0m\n\u001b[1;32m      3\u001b[0m \u001b[0md\u001b[0m \u001b[0;34m=\u001b[0m \u001b[0mmatrix_usuario_producto_norm\u001b[0m\u001b[0;34m.\u001b[0m\u001b[0mreset_index\u001b[0m\u001b[0;34m(\u001b[0m\u001b[0;34m)\u001b[0m\u001b[0;34m\u001b[0m\u001b[0m\n\u001b[1;32m      4\u001b[0m \u001b[0md\u001b[0m\u001b[0;34m.\u001b[0m\u001b[0mindex\u001b[0m\u001b[0;34m.\u001b[0m\u001b[0mnames\u001b[0m \u001b[0;34m=\u001b[0m \u001b[0;34m[\u001b[0m\u001b[0;34m'value_freq'\u001b[0m\u001b[0;34m]\u001b[0m\u001b[0;34m\u001b[0m\u001b[0m\n\u001b[1;32m      5\u001b[0m \u001b[0mdata_norm\u001b[0m \u001b[0;34m=\u001b[0m \u001b[0mpd\u001b[0m\u001b[0;34m.\u001b[0m\u001b[0mmelt\u001b[0m\u001b[0;34m(\u001b[0m\u001b[0md\u001b[0m\u001b[0;34m,\u001b[0m \u001b[0mid_vars\u001b[0m\u001b[0;34m=\u001b[0m\u001b[0;34m[\u001b[0m\u001b[0;34m'customer_id'\u001b[0m\u001b[0;34m]\u001b[0m\u001b[0;34m,\u001b[0m \u001b[0mvalue_name\u001b[0m\u001b[0;34m=\u001b[0m\u001b[0;34m'value_freq'\u001b[0m\u001b[0;34m)\u001b[0m\u001b[0;34m.\u001b[0m\u001b[0mdropna\u001b[0m\u001b[0;34m(\u001b[0m\u001b[0;34m)\u001b[0m\u001b[0;34m\u001b[0m\u001b[0m\n",
            "\u001b[0;32m~/anaconda3_420/lib/python3.5/site-packages/pandas/core/ops.py\u001b[0m in \u001b[0;36mf\u001b[0;34m(self, other, axis, level, fill_value)\u001b[0m\n\u001b[1;32m   1228\u001b[0m             \u001b[0;32mreturn\u001b[0m \u001b[0mself\u001b[0m\u001b[0;34m.\u001b[0m\u001b[0m_combine_frame\u001b[0m\u001b[0;34m(\u001b[0m\u001b[0mother\u001b[0m\u001b[0;34m,\u001b[0m \u001b[0mna_op\u001b[0m\u001b[0;34m,\u001b[0m \u001b[0mfill_value\u001b[0m\u001b[0;34m,\u001b[0m \u001b[0mlevel\u001b[0m\u001b[0;34m)\u001b[0m\u001b[0;34m\u001b[0m\u001b[0m\n\u001b[1;32m   1229\u001b[0m         \u001b[0;32melif\u001b[0m \u001b[0misinstance\u001b[0m\u001b[0;34m(\u001b[0m\u001b[0mother\u001b[0m\u001b[0;34m,\u001b[0m \u001b[0mABCSeries\u001b[0m\u001b[0;34m)\u001b[0m\u001b[0;34m:\u001b[0m\u001b[0;34m\u001b[0m\u001b[0m\n\u001b[0;32m-> 1230\u001b[0;31m             \u001b[0;32mreturn\u001b[0m \u001b[0mself\u001b[0m\u001b[0;34m.\u001b[0m\u001b[0m_combine_series\u001b[0m\u001b[0;34m(\u001b[0m\u001b[0mother\u001b[0m\u001b[0;34m,\u001b[0m \u001b[0mna_op\u001b[0m\u001b[0;34m,\u001b[0m \u001b[0mfill_value\u001b[0m\u001b[0;34m,\u001b[0m \u001b[0maxis\u001b[0m\u001b[0;34m,\u001b[0m \u001b[0mlevel\u001b[0m\u001b[0;34m)\u001b[0m\u001b[0;34m\u001b[0m\u001b[0m\n\u001b[0m\u001b[1;32m   1231\u001b[0m         \u001b[0;32melse\u001b[0m\u001b[0;34m:\u001b[0m\u001b[0;34m\u001b[0m\u001b[0m\n\u001b[1;32m   1232\u001b[0m             \u001b[0;32mif\u001b[0m \u001b[0mfill_value\u001b[0m \u001b[0;32mis\u001b[0m \u001b[0;32mnot\u001b[0m \u001b[0;32mNone\u001b[0m\u001b[0;34m:\u001b[0m\u001b[0;34m\u001b[0m\u001b[0m\n",
            "\u001b[0;32m~/anaconda3_420/lib/python3.5/site-packages/pandas/core/frame.py\u001b[0m in \u001b[0;36m_combine_series\u001b[0;34m(self, other, func, fill_value, axis, level)\u001b[0m\n\u001b[1;32m   3583\u001b[0m                                                    fill_value=fill_value)\n\u001b[1;32m   3584\u001b[0m         return self._combine_series_infer(other, func, level=level,\n\u001b[0;32m-> 3585\u001b[0;31m                                           fill_value=fill_value)\n\u001b[0m\u001b[1;32m   3586\u001b[0m \u001b[0;34m\u001b[0m\u001b[0m\n\u001b[1;32m   3587\u001b[0m     \u001b[0;32mdef\u001b[0m \u001b[0m_combine_series_infer\u001b[0m\u001b[0;34m(\u001b[0m\u001b[0mself\u001b[0m\u001b[0;34m,\u001b[0m \u001b[0mother\u001b[0m\u001b[0;34m,\u001b[0m \u001b[0mfunc\u001b[0m\u001b[0;34m,\u001b[0m \u001b[0mlevel\u001b[0m\u001b[0;34m=\u001b[0m\u001b[0;32mNone\u001b[0m\u001b[0;34m,\u001b[0m \u001b[0mfill_value\u001b[0m\u001b[0;34m=\u001b[0m\u001b[0;32mNone\u001b[0m\u001b[0;34m)\u001b[0m\u001b[0;34m:\u001b[0m\u001b[0;34m\u001b[0m\u001b[0m\n",
            "\u001b[0;32m~/anaconda3_420/lib/python3.5/site-packages/pandas/core/frame.py\u001b[0m in \u001b[0;36m_combine_series_infer\u001b[0;34m(self, other, func, level, fill_value)\u001b[0m\n\u001b[1;32m   3595\u001b[0m \u001b[0;34m\u001b[0m\u001b[0m\n\u001b[1;32m   3596\u001b[0m         return self._combine_match_columns(other, func, level=level,\n\u001b[0;32m-> 3597\u001b[0;31m                                            fill_value=fill_value)\n\u001b[0m\u001b[1;32m   3598\u001b[0m \u001b[0;34m\u001b[0m\u001b[0m\n\u001b[1;32m   3599\u001b[0m     \u001b[0;32mdef\u001b[0m \u001b[0m_combine_match_index\u001b[0m\u001b[0;34m(\u001b[0m\u001b[0mself\u001b[0m\u001b[0;34m,\u001b[0m \u001b[0mother\u001b[0m\u001b[0;34m,\u001b[0m \u001b[0mfunc\u001b[0m\u001b[0;34m,\u001b[0m \u001b[0mlevel\u001b[0m\u001b[0;34m=\u001b[0m\u001b[0;32mNone\u001b[0m\u001b[0;34m,\u001b[0m \u001b[0mfill_value\u001b[0m\u001b[0;34m=\u001b[0m\u001b[0;32mNone\u001b[0m\u001b[0;34m)\u001b[0m\u001b[0;34m:\u001b[0m\u001b[0;34m\u001b[0m\u001b[0m\n",
            "\u001b[0;32m~/anaconda3_420/lib/python3.5/site-packages/pandas/core/frame.py\u001b[0m in \u001b[0;36m_combine_match_columns\u001b[0;34m(self, other, func, level, fill_value)\u001b[0m\n\u001b[1;32m   3615\u001b[0m \u001b[0;34m\u001b[0m\u001b[0m\n\u001b[1;32m   3616\u001b[0m         new_data = left._data.eval(func=func, other=right,\n\u001b[0;32m-> 3617\u001b[0;31m                                    axes=[left.columns, self.index])\n\u001b[0m\u001b[1;32m   3618\u001b[0m         \u001b[0;32mreturn\u001b[0m \u001b[0mself\u001b[0m\u001b[0;34m.\u001b[0m\u001b[0m_constructor\u001b[0m\u001b[0;34m(\u001b[0m\u001b[0mnew_data\u001b[0m\u001b[0;34m)\u001b[0m\u001b[0;34m\u001b[0m\u001b[0m\n\u001b[1;32m   3619\u001b[0m \u001b[0;34m\u001b[0m\u001b[0m\n",
            "\u001b[0;32m~/anaconda3_420/lib/python3.5/site-packages/pandas/core/internals.py\u001b[0m in \u001b[0;36meval\u001b[0;34m(self, **kwargs)\u001b[0m\n\u001b[1;32m   3160\u001b[0m \u001b[0;34m\u001b[0m\u001b[0m\n\u001b[1;32m   3161\u001b[0m     \u001b[0;32mdef\u001b[0m \u001b[0meval\u001b[0m\u001b[0;34m(\u001b[0m\u001b[0mself\u001b[0m\u001b[0;34m,\u001b[0m \u001b[0;34m**\u001b[0m\u001b[0mkwargs\u001b[0m\u001b[0;34m)\u001b[0m\u001b[0;34m:\u001b[0m\u001b[0;34m\u001b[0m\u001b[0m\n\u001b[0;32m-> 3162\u001b[0;31m         \u001b[0;32mreturn\u001b[0m \u001b[0mself\u001b[0m\u001b[0;34m.\u001b[0m\u001b[0mapply\u001b[0m\u001b[0;34m(\u001b[0m\u001b[0;34m'eval'\u001b[0m\u001b[0;34m,\u001b[0m \u001b[0;34m**\u001b[0m\u001b[0mkwargs\u001b[0m\u001b[0;34m)\u001b[0m\u001b[0;34m\u001b[0m\u001b[0m\n\u001b[0m\u001b[1;32m   3163\u001b[0m \u001b[0;34m\u001b[0m\u001b[0m\n\u001b[1;32m   3164\u001b[0m     \u001b[0;32mdef\u001b[0m \u001b[0mquantile\u001b[0m\u001b[0;34m(\u001b[0m\u001b[0mself\u001b[0m\u001b[0;34m,\u001b[0m \u001b[0;34m**\u001b[0m\u001b[0mkwargs\u001b[0m\u001b[0;34m)\u001b[0m\u001b[0;34m:\u001b[0m\u001b[0;34m\u001b[0m\u001b[0m\n",
            "\u001b[0;32m~/anaconda3_420/lib/python3.5/site-packages/pandas/core/internals.py\u001b[0m in \u001b[0;36mapply\u001b[0;34m(self, f, axes, filter, do_integrity_check, consolidate, **kwargs)\u001b[0m\n\u001b[1;32m   3054\u001b[0m \u001b[0;34m\u001b[0m\u001b[0m\n\u001b[1;32m   3055\u001b[0m             \u001b[0mkwargs\u001b[0m\u001b[0;34m[\u001b[0m\u001b[0;34m'mgr'\u001b[0m\u001b[0;34m]\u001b[0m \u001b[0;34m=\u001b[0m \u001b[0mself\u001b[0m\u001b[0;34m\u001b[0m\u001b[0m\n\u001b[0;32m-> 3056\u001b[0;31m             \u001b[0mapplied\u001b[0m \u001b[0;34m=\u001b[0m \u001b[0mgetattr\u001b[0m\u001b[0;34m(\u001b[0m\u001b[0mb\u001b[0m\u001b[0;34m,\u001b[0m \u001b[0mf\u001b[0m\u001b[0;34m)\u001b[0m\u001b[0;34m(\u001b[0m\u001b[0;34m**\u001b[0m\u001b[0mkwargs\u001b[0m\u001b[0;34m)\u001b[0m\u001b[0;34m\u001b[0m\u001b[0m\n\u001b[0m\u001b[1;32m   3057\u001b[0m             \u001b[0mresult_blocks\u001b[0m \u001b[0;34m=\u001b[0m \u001b[0m_extend_blocks\u001b[0m\u001b[0;34m(\u001b[0m\u001b[0mapplied\u001b[0m\u001b[0;34m,\u001b[0m \u001b[0mresult_blocks\u001b[0m\u001b[0;34m)\u001b[0m\u001b[0;34m\u001b[0m\u001b[0m\n\u001b[1;32m   3058\u001b[0m \u001b[0;34m\u001b[0m\u001b[0m\n",
            "\u001b[0;32m~/anaconda3_420/lib/python3.5/site-packages/pandas/core/internals.py\u001b[0m in \u001b[0;36meval\u001b[0;34m(self, func, other, raise_on_error, try_cast, mgr)\u001b[0m\n\u001b[1;32m   1164\u001b[0m             \u001b[0;32mraise\u001b[0m\u001b[0;34m\u001b[0m\u001b[0m\n\u001b[1;32m   1165\u001b[0m         \u001b[0;32mexcept\u001b[0m \u001b[0mException\u001b[0m \u001b[0;32mas\u001b[0m \u001b[0mdetail\u001b[0m\u001b[0;34m:\u001b[0m\u001b[0;34m\u001b[0m\u001b[0m\n\u001b[0;32m-> 1166\u001b[0;31m             \u001b[0mresult\u001b[0m \u001b[0;34m=\u001b[0m \u001b[0mhandle_error\u001b[0m\u001b[0;34m(\u001b[0m\u001b[0;34m)\u001b[0m\u001b[0;34m\u001b[0m\u001b[0m\n\u001b[0m\u001b[1;32m   1167\u001b[0m \u001b[0;34m\u001b[0m\u001b[0m\n\u001b[1;32m   1168\u001b[0m         \u001b[0;31m# technically a broadcast error in numpy can 'work' by returning a\u001b[0m\u001b[0;34m\u001b[0m\u001b[0;34m\u001b[0m\u001b[0m\n",
            "\u001b[0;32m~/anaconda3_420/lib/python3.5/site-packages/pandas/core/internals.py\u001b[0m in \u001b[0;36mhandle_error\u001b[0;34m()\u001b[0m\n\u001b[1;32m   1147\u001b[0m             \u001b[0;32mif\u001b[0m \u001b[0mraise_on_error\u001b[0m\u001b[0;34m:\u001b[0m\u001b[0;34m\u001b[0m\u001b[0m\n\u001b[1;32m   1148\u001b[0m                 raise TypeError('Could not operate %s with block values %s' %\n\u001b[0;32m-> 1149\u001b[0;31m                                 (repr(other), str(detail)))\n\u001b[0m\u001b[1;32m   1150\u001b[0m             \u001b[0;32melse\u001b[0m\u001b[0;34m:\u001b[0m\u001b[0;34m\u001b[0m\u001b[0m\n\u001b[1;32m   1151\u001b[0m                 \u001b[0;31m# return the values\u001b[0m\u001b[0;34m\u001b[0m\u001b[0;34m\u001b[0m\u001b[0m\n",
            "\u001b[0;31mTypeError\u001b[0m: Could not operate array([24210.,  4909.,  9290., ...,  6811.,  4104., 10012.]) with block values "
          ]
        }
      ]
    },
    {
      "cell_type": "code",
      "metadata": {
        "id": "5MFntGA4JSzU",
        "colab_type": "code",
        "trusted": true,
        "colab": {}
      },
      "source": [
        "def split_data(data):\n",
        "    '''\n",
        "    Splits dataset into training and test set.\n",
        "    \n",
        "    Args:\n",
        "        data (pandas.DataFrame)\n",
        "        \n",
        "    Returns\n",
        "        train_data (tc.SFrame)\n",
        "        test_data (tc.SFrame)\n",
        "    '''\n",
        "    train, test = train_test_split(data, test_size = .2)\n",
        "    train_data = tc.SFrame(train)\n",
        "    test_data = tc.SFrame(test)\n",
        "    return train_data, test_data\n",
        "  \n",
        "  \n",
        "\n",
        "#train_data, test_data = train_test_split(datos_facturacion, test_size = .2)\n",
        "#train_data, test_data = train_test_split(datos_dummy, test_size = .2)\n",
        "\n",
        "\n",
        "train_data, test_data = split_data(datos_facturacion)\n",
        "train_data_dummy, test_data_dummy = split_data(datos_dummy)\n",
        "train_data_norm, test_data_norm = split_data(data_norm)"
      ],
      "execution_count": 0,
      "outputs": []
    },
    {
      "cell_type": "code",
      "metadata": {
        "id": "VGi6-R1EKjHB",
        "colab_type": "code",
        "trusted": true,
        "colab": {}
      },
      "source": [
        "#A more complicated but common approach to predict purchase items is collaborative filtering. \n",
        "#I will discuss more about the popularity model and collaborative filtering in the later section. For now, let’s first define our variables to use in the models:\n",
        "\n",
        "# constant variables to define field names include:\n",
        "user_id = 'customer_id'\n",
        "item_id = 'product_id'\n",
        "users_to_recommend = list(datos_clientes[user_id])\n",
        "n_rec = 10 # number of items to recommend\n",
        "n_display = 30 # to display the first few rows in an output dataset"
      ],
      "execution_count": 0,
      "outputs": []
    },
    {
      "cell_type": "code",
      "metadata": {
        "id": "fr2hDc2JMolD",
        "colab_type": "code",
        "trusted": true,
        "colab": {}
      },
      "source": [
        "def model(train_data, name, user_id, item_id, target, users_to_recommend, n_rec, n_display):\n",
        "    if name == 'popularity':\n",
        "        model = tc.popularity_recommender.create(train_data, \n",
        "                                                    user_id=user_id, \n",
        "                                                    item_id=item_id, \n",
        "                                                    target=target)\n",
        "    elif name == 'cosine':\n",
        "        model = tc.item_similarity_recommender.create(train_data, \n",
        "                                                    user_id=user_id, \n",
        "                                                    item_id=item_id, \n",
        "                                                    target=target, \n",
        "                                                    similarity_type='cosine')\n",
        "    elif name == 'pearson':\n",
        "        model = tc.item_similarity_recommender.create(train_data, \n",
        "                                                    user_id=user_id, \n",
        "                                                    item_id=item_id, \n",
        "                                                    target=target, \n",
        "                                                    similarity_type='pearson')\n",
        "        \n",
        "    recom = model.recommend(users=users_to_recommend, k=n_rec)\n",
        "    recom.print_rows(n_display)\n",
        "    return model"
      ],
      "execution_count": 0,
      "outputs": []
    },
    {
      "cell_type": "code",
      "metadata": {
        "id": "hh_vUIr5Moon",
        "colab_type": "code",
        "trusted": true,
        "colab": {}
      },
      "source": [
        "name = 'popularity'\n",
        "target = 'total_value'\n",
        "popularity_model = model(train_data, name, user_id, item_id, target, users_to_recommend, n_rec, n_display)"
      ],
      "execution_count": 0,
      "outputs": []
    },
    {
      "cell_type": "code",
      "metadata": {
        "id": "5xfjcb-nMozK",
        "colab_type": "code",
        "trusted": true,
        "colab": {}
      },
      "source": [
        "name = 'popularity'\n",
        "target = 'total_dummy'\n",
        "pop_dummy = model(train_data_dummy, name, user_id, item_id, target, users_to_recommend, n_rec, n_display)"
      ],
      "execution_count": 0,
      "outputs": []
    },
    {
      "cell_type": "code",
      "metadata": {
        "id": "GpBNCc1JMo34",
        "colab_type": "code",
        "trusted": true,
        "colab": {}
      },
      "source": [
        "name = 'popularity'\n",
        "target = 'value_freq'\n",
        "pop_norm = model(train_data_norm, name, user_id, item_id, target, users_to_recommend, n_rec, n_display)"
      ],
      "execution_count": 0,
      "outputs": []
    },
    {
      "cell_type": "code",
      "metadata": {
        "id": "AD7_lRS2Mo6F",
        "colab_type": "code",
        "trusted": true,
        "colab": {}
      },
      "source": [
        "#colaborativa\n",
        "name = 'cosine'\n",
        "target = 'total_value'\n",
        "cos = model(train_data, name, user_id, item_id, target, users_to_recommend, n_rec, n_display)"
      ],
      "execution_count": 0,
      "outputs": []
    },
    {
      "cell_type": "code",
      "metadata": {
        "id": "G41BNhmAMpAK",
        "colab_type": "code",
        "trusted": true,
        "colab": {}
      },
      "source": [
        "name = 'cosine'\n",
        "target = 'total_dummy'\n",
        "cos_dummy = model(train_data_dummy, name, user_id, item_id, target, users_to_recommend, n_rec, n_display)\n"
      ],
      "execution_count": 0,
      "outputs": []
    },
    {
      "cell_type": "code",
      "metadata": {
        "id": "SuzckFzVMo9e",
        "colab_type": "code",
        "trusted": true,
        "colab": {}
      },
      "source": [
        "\n",
        "name = 'cosine'\n",
        "target = 'value_freq'\n",
        "cos_norm = model(train_data_norm, name, user_id, item_id, target, users_to_recommend, n_rec, n_display)\n"
      ],
      "execution_count": 0,
      "outputs": []
    },
    {
      "cell_type": "code",
      "metadata": {
        "id": "U_0RuA1CMo1X",
        "colab_type": "code",
        "trusted": true,
        "colab": {}
      },
      "source": [
        "name = 'pearson'\n",
        "target = 'total_value'\n",
        "pear = model(train_data, name, user_id, item_id, target, users_to_recommend, n_rec, n_display)"
      ],
      "execution_count": 0,
      "outputs": []
    },
    {
      "cell_type": "code",
      "metadata": {
        "id": "Ps6wOv1_Mox9",
        "colab_type": "code",
        "trusted": true,
        "colab": {}
      },
      "source": [
        "name = 'pearson'\n",
        "target = 'total_dummy'\n",
        "pear_dummy = model(train_data_dummy, name, user_id, item_id, target, users_to_recommend, n_rec, n_display)"
      ],
      "execution_count": 0,
      "outputs": []
    },
    {
      "cell_type": "code",
      "metadata": {
        "id": "nASXZmJaMov1",
        "colab_type": "code",
        "trusted": true,
        "colab": {}
      },
      "source": [
        "name = 'pearson'\n",
        "target = 'value_freq'\n",
        "pear_norm = model(train_data_norm, name, user_id, item_id, target, users_to_recommend, n_rec, n_display)\n"
      ],
      "execution_count": 0,
      "outputs": []
    },
    {
      "cell_type": "code",
      "metadata": {
        "id": "W-ld6TA6Rqgb",
        "colab_type": "code",
        "trusted": true,
        "colab": {}
      },
      "source": [
        "models_w_counts = [popularity_model, cos, pear]\n",
        "models_w_dummy = [pop_dummy, cos_dummy, pear_dummy]\n",
        "models_w_norm = [pop_norm, cos_norm, pear_norm]\n",
        "names_w_counts = ['Popularity Model on Purchase Counts', 'Cosine Similarity on Purchase Counts', 'Pearson Similarity on Purchase Counts']\n",
        "names_w_dummy = ['Popularity Model on Purchase Dummy', 'Cosine Similarity on Purchase Dummy', 'Pearson Similarity on Purchase Dummy']\n",
        "names_w_norm = ['Popularity Model on Scaled Purchase Counts', 'Cosine Similarity on Scaled Purchase Counts', 'Pearson Similarity on Scaled Purchase Counts']"
      ],
      "execution_count": 0,
      "outputs": []
    },
    {
      "cell_type": "code",
      "metadata": {
        "id": "ZUzFVxu4Rqnc",
        "colab_type": "code",
        "trusted": true,
        "colab": {}
      },
      "source": [
        "eval_counts = tc.recommender.util.compare_models(test_data, models_w_counts, model_names=names_w_counts)"
      ],
      "execution_count": 0,
      "outputs": []
    },
    {
      "cell_type": "code",
      "metadata": {
        "id": "wylVm8Ejy4Tc",
        "colab_type": "code",
        "trusted": true,
        "colab": {}
      },
      "source": [
        "eval_dummy = tc.recommender.util.compare_models(test_data_dummy, models_w_dummy, model_names=names_w_dummy)\n"
      ],
      "execution_count": 0,
      "outputs": []
    },
    {
      "cell_type": "code",
      "metadata": {
        "id": "mRwJ6dP3y6Cr",
        "colab_type": "code",
        "trusted": true,
        "colab": {}
      },
      "source": [
        "eval_norm = tc.recommender.util.compare_models(test_data_norm, models_w_norm, model_names=names_w_norm)"
      ],
      "execution_count": 0,
      "outputs": []
    },
    {
      "cell_type": "code",
      "metadata": {
        "id": "biOrWqe5Rqwl",
        "colab_type": "code",
        "trusted": true,
        "colab": {}
      },
      "source": [
        "final_model = tc.item_similarity_recommender.create(tc.SFrame(data_norm), \n",
        "                                            user_id=user_id, \n",
        "                                            item_id=item_id, \n",
        "                                            target='value_freq', similarity_type='cosine')\n",
        "recom = final_model.recommend(users=users_to_recommend, k=n_rec)\n",
        "recom.print_rows(n_display)"
      ],
      "execution_count": 0,
      "outputs": []
    },
    {
      "cell_type": "code",
      "metadata": {
        "id": "dItyeJf0Rq2q",
        "colab_type": "code",
        "trusted": true,
        "colab": {}
      },
      "source": [
        "df_rec = recom.to_dataframe()\n",
        "print(df_rec.shape)\n",
        "df_rec.head()"
      ],
      "execution_count": 0,
      "outputs": []
    },
    {
      "cell_type": "code",
      "metadata": {
        "id": "x_r_3EtlRqzo",
        "colab_type": "code",
        "trusted": true,
        "colab": {}
      },
      "source": [
        "def create_output(model, users_to_recommend, n_rec, print_csv=True):\n",
        "    recomendation = model.recommend(users=users_to_recommend, k=n_rec)\n",
        "    df_rec = recomendation.to_dataframe()\n",
        "    df_rec['recommendedProducts'] = df_rec.groupby([user_id])[item_id] \\\n",
        "        .transform(lambda x: '|'.join(x.astype(str)))\n",
        "    df_output = df_rec[['customer_id', 'recommendedProducts']].drop_duplicates() \\\n",
        "        .sort_values('customer_id').set_index('customer_id')\n",
        "    if print_csv:\n",
        "        df_output.to_csv(directorio+'option1_recommendation.csv')\n",
        "        print(\"An output file can be found in 'output' folder with name 'option1_recommendation.csv'\")\n",
        "    return df_output"
      ],
      "execution_count": 0,
      "outputs": []
    },
    {
      "cell_type": "code",
      "metadata": {
        "id": "0CeASpebRquR",
        "colab_type": "code",
        "trusted": true,
        "colab": {}
      },
      "source": [
        "df_output = create_output(pear_norm, users_to_recommend, n_rec, print_csv=True)\n",
        "print(df_output.shape)\n",
        "df_output.head()"
      ],
      "execution_count": 0,
      "outputs": []
    },
    {
      "cell_type": "code",
      "metadata": {
        "id": "rGhER8WeRqrH",
        "colab_type": "code",
        "trusted": true,
        "colab": {}
      },
      "source": [
        "def customer_recomendation(customer_id):\n",
        "    if customer_id not in df_output.index:\n",
        "        print('Customer not found.')\n",
        "        return customer_id\n",
        "    return df_output.loc[customer_id]"
      ],
      "execution_count": 0,
      "outputs": []
    },
    {
      "cell_type": "code",
      "metadata": {
        "id": "8BRnRuxIRqkT",
        "colab_type": "code",
        "trusted": true,
        "colab": {}
      },
      "source": [
        "customer_recomendation('000379cdec625522490c315e70c7a9fb')"
      ],
      "execution_count": 0,
      "outputs": []
    },
    {
      "cell_type": "code",
      "metadata": {
        "id": "KA63KR10RqdQ",
        "colab_type": "code",
        "trusted": true,
        "colab": {}
      },
      "source": [
        "#train_data.groupby('product_id').agg({'total_value':'mean'}).sort_values(ascending=False)"
      ],
      "execution_count": 0,
      "outputs": []
    },
    {
      "cell_type": "code",
      "metadata": {
        "id": "tZc2nayDMos7",
        "colab_type": "code",
        "trusted": true,
        "colab": {}
      },
      "source": [
        ""
      ],
      "execution_count": 0,
      "outputs": []
    },
    {
      "cell_type": "code",
      "metadata": {
        "id": "rzKGO3Ek8PNR",
        "colab_type": "code",
        "trusted": true,
        "colab": {}
      },
      "source": [
        "# se genera el enfoque de recomendación con base colaborativo (usuarios a usuarios) cuando tienen historia\n",
        "matrix_usuarios = pd.DataFrame(cosine_similarity(matrix_usuario_producto.fillna(0)))\n",
        "# Se verifica resultado\n",
        "matrix_usuarios.head()"
      ],
      "execution_count": 0,
      "outputs": []
    },
    {
      "cell_type": "code",
      "metadata": {
        "id": "7yLm3eHlMVQ9",
        "colab_type": "code",
        "trusted": true,
        "colab": {}
      },
      "source": [
        ""
      ],
      "execution_count": 0,
      "outputs": []
    },
    {
      "cell_type": "code",
      "metadata": {
        "id": "AD2xlcdFnIJS",
        "colab_type": "code",
        "trusted": true,
        "colab": {}
      },
      "source": [
        "# se cambian los nombres de las columnas con los IDs de los usuarios\n",
        "matrix_usuarios.columns = matrix_usuario_producto.index\n",
        "matrix_usuarios['c_id'] = matrix_usuario_producto.index\n",
        "matrix_usuarios = matrix_usuarios.set_index('c_id')\n",
        "matrix_usuarios.head(10)"
      ],
      "execution_count": 0,
      "outputs": []
    },
    {
      "cell_type": "markdown",
      "metadata": {
        "id": "cznSlOk08S-S",
        "colab_type": "text"
      },
      "source": [
        "#### Aplicación para un cliente\n",
        "En este momento ya se tiene la nueva herramienta de recomendación para ser entregada a los vendedores, a traves de esta se podra tomar a un cliente especifico y generarle una estrategia personalizada de penetración con base en la información historica de clientes similares. <br>\n",
        "Se visualizará a continuación como es el resultado de analizar un cliente con esta herramienta. El objtivo de este producto es que sea integrado a una herramienta BI , la cual facilite el uso de la misma a traves de dispositivos mobiles brindandole así al asesor la posibilidad de ir directamente a visitar a los clientes como parte de esta estrategia de fidelización del cliente. <br>\n",
        "Para este ejemplo se tomará al primer cliente con el id : **0281f03348b06722b7e0f92455daafd4** , el cual se visualiza en la anterior matriz. \n"
      ]
    },
    {
      "cell_type": "code",
      "metadata": {
        "id": "bUb00ID38Qen",
        "colab_type": "code",
        "trusted": true,
        "colab": {}
      },
      "source": [
        "# Se identifican los  usuarios que se relacionan mas con el un cliente analizado, apoyando realizar una penentración de productos proactiva\n",
        "matrix_usuarios.loc['0005ef4cd20d2893f0d9fbd94d3c0d97'].sort_values(ascending=False).head(10)  # se obtienen los primeros cuatro clientes\n",
        "# Ahora se analizará como se pueden penetrarle nuevos productos al cliente 17396 con base en la venta de 12347"
      ],
      "execution_count": 0,
      "outputs": []
    },
    {
      "cell_type": "code",
      "metadata": {
        "id": "SpNoyNJ28dDt",
        "colab_type": "code",
        "trusted": true,
        "colab": {}
      },
      "source": [
        "# Se identifican los productos comprados por aeb3d464f6b83eecd79d6fd58d6208fb    \n",
        "productos_comprados_ref = set(matrix_usuarios.loc['0005ef4cd20d2893f0d9fbd94d3c0d97'].iloc[matrix_usuarios.loc['0005ef4cd20d2893f0d9fbd94d3c0d97'].to_numpy().nonzero()].index)\n",
        "print('Productos comprados cliente referencia:' + str(productos_comprados_ref))\n",
        "# Se identifican los productos comprados por d482c96cc23e02b643f79768912442c2        \n",
        "productos_comprados_target = set(matrix_usuarios.loc['bf429f20c75a39eab83442cda8e59832'].iloc[matrix_usuarios.loc['bf429f20c75a39eab83442cda8e59832'].to_numpy().nonzero()].index)\n",
        "print('Productos cliente a venderle nuevo productos:' + str(productos_comprados_target))\n",
        "# Producto con oportunidad de penetrar al cliente d482c96cc23e02b643f79768912442c2\n",
        "recomendados = productos_comprados_ref - productos_comprados_target\n",
        "print('Productos a venderle:' + str(recomendados))\n",
        "\n"
      ],
      "execution_count": 0,
      "outputs": []
    },
    {
      "cell_type": "code",
      "metadata": {
        "id": "rB1ENRMW8ehz",
        "colab_type": "code",
        "trusted": true,
        "colab": {}
      },
      "source": [
        "datos_producto.loc[datos_producto['product_id'].isin(recomendados),['product_id', 'product_category_name_english']].drop_duplicates().set_index('product_id')"
      ],
      "execution_count": 0,
      "outputs": []
    },
    {
      "cell_type": "markdown",
      "metadata": {
        "id": "-MCWVzpFFXGt",
        "colab_type": "text"
      },
      "source": [
        "### 1.2 Producto"
      ]
    },
    {
      "cell_type": "code",
      "metadata": {
        "id": "iZEVh_F0Fkey",
        "colab_type": "code",
        "trusted": true,
        "colab": {}
      },
      "source": [
        "# se genera el enfoque de recomendación con base en los productos (producto a producto), lo cual es un factor interesante para los nuevos clientes que no tienen historia o\n",
        "# sobre clientes que estan en el proceso de lead a new business. Para este enfoque se realiza a traves de la matriz transpuesta original ya que su enfoque es con vista al producto. \n",
        "matrix_producto = pd.DataFrame(cosine_similarity(matrix_usuario_producto.fillna(0).T))\n",
        "# se cambian los nombres de las columnas con los IDs de los productos\n",
        "matrix_producto.columns = matrix_usuario_producto.T.index\n",
        "matrix_producto['p_id'] = matrix_usuario_producto.T.index\n",
        "matrix_producto = matrix_producto.set_index('p_id')\n",
        "# Se verifica resultado\n",
        "matrix_producto.head()"
      ],
      "execution_count": 0,
      "outputs": []
    },
    {
      "cell_type": "code",
      "metadata": {
        "id": "cjlJf-A5GcK_",
        "colab_type": "code",
        "trusted": true,
        "colab": {}
      },
      "source": [
        "# Se identifican el top de clientes\n",
        "top_10_prod = list(matrix_producto.loc['0009406fd7479715e4bef61dd91f2462'].sort_values(ascending=False).iloc[:10].index)\n",
        "datos_producto.loc[datos_producto['product_id'].isin(top_10_prod)]"
      ],
      "execution_count": 0,
      "outputs": []
    },
    {
      "cell_type": "markdown",
      "metadata": {
        "id": "fcY-GkQiG68d",
        "colab_type": "text"
      },
      "source": [
        "## 2. Segmentación de Clientes"
      ]
    },
    {
      "cell_type": "code",
      "metadata": {
        "id": "2O-Ll5wcq6u_",
        "colab_type": "code",
        "trusted": true,
        "colab": {}
      },
      "source": [
        "from numpy import inf\n",
        "def prevDivision(numerador, denominador):\n",
        "  return numerador / denominador if denominador else 0\n",
        "  "
      ],
      "execution_count": 0,
      "outputs": []
    },
    {
      "cell_type": "code",
      "metadata": {
        "id": "NeaI_BBmG-jQ",
        "colab_type": "code",
        "trusted": true,
        "colab": {}
      },
      "source": [
        "# Agrupo la información de cliente para poder segmentarlo \n",
        "\n",
        "informacion_cliente = datos_facturacion.groupby('customer_id').agg({\n",
        "    'total_value': sum,\n",
        "    'product_id': lambda x: x.nunique(),\n",
        "    'num_txn': sum,\n",
        "    \n",
        "}).fillna(0)\n",
        "\n",
        "informacion_cliente.columns = ['IMP_TOTAL_VENTAS', 'NUM_TOTAL_PRODUCTOS','NUM_TOTAL_TXN']\n",
        "# ESTE HAY QUE CAMBIARLO POR LA MEDIANA\n",
        "informacion_cliente['IMP_VENTA_PROMEDIO'] = informacion_cliente['IMP_TOTAL_VENTAS']/informacion_cliente['NUM_TOTAL_TXN']\n",
        "informacion_cliente.head()"
      ],
      "execution_count": 0,
      "outputs": []
    },
    {
      "cell_type": "code",
      "metadata": {
        "id": "Lt3AfpL9Q3hc",
        "colab_type": "code",
        "trusted": true,
        "colab": {}
      },
      "source": [
        "# Limpiar posibles errores\n",
        "informacion_cliente=informacion_cliente.dropna()\n",
        "informacion_cliente=informacion_cliente[~informacion_cliente.isin([np.nan, np.inf, -np.inf]).any(1)]\n",
        "\n",
        "# se pinta el codo\n",
        "X = np.array(informacion_cliente[[\"IMP_TOTAL_VENTAS\",\"NUM_TOTAL_PRODUCTOS\",\"NUM_TOTAL_TXN\",\"IMP_VENTA_PROMEDIO\"]].dropna())\n",
        "Nc = range(1, 20)\n",
        "kmeans = [KMeans(n_clusters=i) for i in Nc]\n",
        "kmeans\n",
        "score = [kmeans[i].fit(X).score(X) for i in range(len(kmeans))]\n",
        "score\n",
        "\n",
        "plt.plot(Nc,score, 'ro-', markersize=8, lw=2)\n",
        "plt.xlabel('Number of Clusters')\n",
        "plt.ylabel('Score')\n",
        "plt.title('Elbow Curve')\n",
        "plt.show()"
      ],
      "execution_count": 0,
      "outputs": []
    },
    {
      "cell_type": "code",
      "metadata": {
        "id": "xYP5CNkiUmA3",
        "colab_type": "code",
        "trusted": true,
        "colab": {}
      },
      "source": [
        "# Feature Scaling\n",
        "from sklearn.preprocessing import StandardScaler\n",
        "\n",
        "X = informacion_cliente.iloc[:, :].values\n",
        "sc_X = StandardScaler()\n",
        "X= sc_X.fit_transform(X)\n",
        "wcss = [] #With in cluster sum of squers(Inertia)\n",
        "#n_clusters is no.of clusters given by this method,\n",
        "#k-means++ is an random initialization methods for centriods to avoid random\n",
        "#intialization trap,\n",
        "#max_iter is max no of iterations defined when k-means is running\n",
        "#n_init is no of times k-means will run with different initial centroids\n",
        "\n",
        "for i in range(1,11): #From 2-10 doing multiple random initializations can make a huge difference to find a better local optima\n",
        "    kmeans = KMeans(n_clusters = i, init ='k-means++',max_iter=300,n_init=10)\n",
        "    kmeans.fit(X)\n",
        "    wcss.append(kmeans.inertia_)\n",
        "plt.plot(range(1,11) , wcss)\n",
        "plt.title('The Elbow Method')\n",
        "plt.xlabel('Number Of Customer Clusters(customer type clusters)')\n",
        "plt.ylabel('With in cluster sum of squers(WCSS)')\n",
        "plt.show()"
      ],
      "execution_count": 0,
      "outputs": []
    },
    {
      "cell_type": "code",
      "metadata": {
        "id": "W0t-7_tZb0QX",
        "colab_type": "code",
        "trusted": true,
        "colab": {}
      },
      "source": [
        "# Fitting K-Means to the dataset\n",
        "kmeans = KMeans(n_clusters = 3, init = 'k-means++')\n",
        "y_kmeans = kmeans.fit_predict(X)\n",
        "\n",
        "# Visualising the clusters\n",
        "plt.scatter(X[y_kmeans == 0, 0], X[y_kmeans == 0, 1], s = 50, c = 'red', label = 'Customer Type 1')\n",
        "plt.scatter(X[y_kmeans == 1, 0], X[y_kmeans == 1, 1], s = 50, c = 'blue', label = 'Customer Type 2')\n",
        "plt.scatter(X[y_kmeans == 2, 0], X[y_kmeans == 2, 1], s = 50, c = 'green', label = 'Customer Type 3')\n",
        "plt.scatter(kmeans.cluster_centers_[:, 0], kmeans.cluster_centers_[:, 1], s = 100, c = 'yellow', label = 'Centroids')\n",
        "plt.title('Type Of Customers(customer type clusters)')\n",
        "plt.xlabel('Number of items Purchased(Quantity)')\n",
        "plt.ylabel('Product price per unit in sterling(Unit Price)')\n",
        "plt.legend()\n",
        "plt.show()\n",
        "\n",
        "x=[];y=[]\n",
        "for i in range(4339):\n",
        "    x.append(X[i][0])\n",
        "    y.append(X[i][1])\n",
        "plt.scatter(x,y)\n",
        "plt.title('Plot of training data')\n",
        "plt.xlabel('Number of items Purchased(Quantity)')\n",
        "plt.ylabel('Product price per unit in sterling(Unit Price)')\n",
        "plt.show()\n"
      ],
      "execution_count": 0,
      "outputs": []
    },
    {
      "cell_type": "code",
      "metadata": {
        "id": "Qe4ZBmfEej2C",
        "colab_type": "code",
        "trusted": true,
        "colab": {}
      },
      "source": [
        "num_clusters= 4\n",
        "\n",
        "#X = np.array(informacion_cliente[[\"IMP_TOTAL_VENTAS\",\"NUM_TOTAL_PRODUCTOS\",\"NUM_TOTAL_TXN\",\"IMP_VENTA_PROMEDIO\"]])\n",
        "\n",
        "# Normalizo los datos previo a la segmentación\n",
        "ranking_cliente = informacion_cliente.rank(method='first')\n",
        "cliente_normalizado = (ranking_cliente - ranking_cliente.mean()) / ranking_cliente.std()\n",
        "kmeans = KMeans(n_clusters=num_clusters).fit(cliente_normalizado[['IMP_TOTAL_VENTAS', 'NUM_TOTAL_TXN', 'IMP_VENTA_PROMEDIO']])\n",
        "\n",
        "\n",
        "cliente_clusters = cliente_normalizado[['IMP_TOTAL_VENTAS', 'NUM_TOTAL_TXN', 'IMP_VENTA_PROMEDIO']].copy(deep=True)\n",
        "cliente_clusters['Cluster'] = kmeans.labels_\n",
        "cliente_clusters.groupby('Cluster').count()['IMP_TOTAL_VENTAS']\n",
        "\n"
      ],
      "execution_count": 0,
      "outputs": []
    },
    {
      "cell_type": "code",
      "metadata": {
        "id": "CRwn9ZCGfO5E",
        "colab_type": "code",
        "trusted": true,
        "colab": {}
      },
      "source": [
        "# clustering ventas vs cantidad\n",
        "plt.scatter(\n",
        "    cliente_clusters.loc[cliente_clusters['Cluster'] == 0]['NUM_TOTAL_TXN'], \n",
        "    cliente_clusters.loc[cliente_clusters['Cluster'] == 0]['IMP_TOTAL_VENTAS'],\n",
        "    c='blue'\n",
        ")\n",
        "\n",
        "plt.scatter(\n",
        "    cliente_clusters.loc[cliente_clusters['Cluster'] == 1]['NUM_TOTAL_TXN'], \n",
        "    cliente_clusters.loc[cliente_clusters['Cluster'] == 1]['IMP_TOTAL_VENTAS'],\n",
        "    c='red'\n",
        ")\n",
        "\n",
        "plt.scatter(\n",
        "    cliente_clusters.loc[cliente_clusters['Cluster'] == 2]['NUM_TOTAL_TXN'], \n",
        "    cliente_clusters.loc[cliente_clusters['Cluster'] == 2]['IMP_TOTAL_VENTAS'],\n",
        "    c='orange'\n",
        ")\n",
        "\n",
        "plt.scatter(\n",
        "    cliente_clusters.loc[cliente_clusters['Cluster'] == 3]['NUM_TOTAL_TXN'], \n",
        "    cliente_clusters.loc[cliente_clusters['Cluster'] == 3]['IMP_TOTAL_VENTAS'],\n",
        "    c='green'\n",
        ")\n",
        "\n",
        "\n",
        "plt.scatter(\n",
        "    cliente_clusters.loc[cliente_clusters['Cluster'] == 4]['NUM_TOTAL_TXN'], \n",
        "    cliente_clusters.loc[cliente_clusters['Cluster'] == 4]['IMP_TOTAL_VENTAS'],\n",
        "    c='yellow'\n",
        ")\n",
        "\n",
        "\n",
        "plt.scatter(\n",
        "    cliente_clusters.loc[cliente_clusters['Cluster'] == 5]['NUM_TOTAL_TXN'], \n",
        "    cliente_clusters.loc[cliente_clusters['Cluster'] == 5]['IMP_TOTAL_VENTAS'],\n",
        "    c='black'\n",
        ")\n",
        "\n",
        "\n",
        "plt.title('Ventas  vs. No. Transacciones Clusters')\n",
        "plt.xlabel('Número Transacciones')\n",
        "plt.ylabel('Total Ventas')\n",
        "\n",
        "plt.grid()\n",
        "plt.show()\n",
        "\n",
        "# clustering cantidad vs promedio de facturación\n",
        "plt.scatter(\n",
        "    cliente_clusters.loc[cliente_clusters['Cluster'] == 0]['NUM_TOTAL_TXN'], \n",
        "    cliente_clusters.loc[cliente_clusters['Cluster'] == 0]['IMP_VENTA_PROMEDIO'],\n",
        "    c='blue'\n",
        ")\n",
        "\n",
        "plt.scatter(\n",
        "    cliente_clusters.loc[cliente_clusters['Cluster'] == 1]['NUM_TOTAL_TXN'], \n",
        "    cliente_clusters.loc[cliente_clusters['Cluster'] == 1]['IMP_VENTA_PROMEDIO'],\n",
        "    c='red'\n",
        ")\n",
        "\n",
        "plt.scatter(\n",
        "    cliente_clusters.loc[cliente_clusters['Cluster'] == 2]['NUM_TOTAL_TXN'], \n",
        "    cliente_clusters.loc[cliente_clusters['Cluster'] == 2]['IMP_VENTA_PROMEDIO'],\n",
        "    c='orange'\n",
        ")\n",
        "\n",
        "plt.scatter(\n",
        "    cliente_clusters.loc[cliente_clusters['Cluster'] == 3]['NUM_TOTAL_TXN'], \n",
        "    cliente_clusters.loc[cliente_clusters['Cluster'] == 3]['IMP_VENTA_PROMEDIO'],\n",
        "    c='green'\n",
        ")\n",
        "\n",
        "plt.scatter(\n",
        "    cliente_clusters.loc[cliente_clusters['Cluster'] == 4]['NUM_TOTAL_TXN'], \n",
        "    cliente_clusters.loc[cliente_clusters['Cluster'] == 4]['IMP_VENTA_PROMEDIO'],\n",
        "    c='yellow'\n",
        ")\n",
        "plt.scatter(\n",
        "    cliente_clusters.loc[cliente_clusters['Cluster'] == 5]['NUM_TOTAL_TXN'], \n",
        "    cliente_clusters.loc[cliente_clusters['Cluster'] == 5]['IMP_VENTA_PROMEDIO'],\n",
        "    c='black'\n",
        ")\n",
        "plt.title('Promedio Ventas vs. No. Transacciones Clusters')\n",
        "plt.xlabel('Número Transacciones')\n",
        "plt.ylabel('Promedio Ventas')\n",
        "\n",
        "plt.grid()\n",
        "plt.show()\n",
        "# clustering ventas vs promedio de facturación\n",
        "plt.scatter(\n",
        "    \n",
        "    cliente_clusters.loc[cliente_clusters['Cluster'] == 0]['IMP_TOTAL_VENTAS'], \n",
        "    cliente_clusters.loc[cliente_clusters['Cluster'] == 0]['IMP_VENTA_PROMEDIO'],\n",
        "    c='blue'\n",
        ")\n",
        "\n",
        "plt.scatter(\n",
        "    cliente_clusters.loc[cliente_clusters['Cluster'] == 1]['IMP_TOTAL_VENTAS'], \n",
        "    cliente_clusters.loc[cliente_clusters['Cluster'] == 1]['IMP_VENTA_PROMEDIO'],\n",
        "    c='red'\n",
        ")\n",
        "\n",
        "plt.scatter(\n",
        "    cliente_clusters.loc[cliente_clusters['Cluster'] == 2]['IMP_TOTAL_VENTAS'], \n",
        "    cliente_clusters.loc[cliente_clusters['Cluster'] == 2]['IMP_VENTA_PROMEDIO'],\n",
        "    c='orange'\n",
        ")\n",
        "\n",
        "plt.scatter(\n",
        "    cliente_clusters.loc[cliente_clusters['Cluster'] == 3]['IMP_TOTAL_VENTAS'], \n",
        "    cliente_clusters.loc[cliente_clusters['Cluster'] == 3]['IMP_VENTA_PROMEDIO'],\n",
        "    c='green'\n",
        ")\n",
        "\n",
        "plt.scatter(\n",
        "    cliente_clusters.loc[cliente_clusters['Cluster'] == 4]['IMP_TOTAL_VENTAS'], \n",
        "    cliente_clusters.loc[cliente_clusters['Cluster'] == 4]['IMP_VENTA_PROMEDIO'],\n",
        "    c='yellow'\n",
        ")\n",
        "\n",
        "plt.scatter(\n",
        "    cliente_clusters.loc[cliente_clusters['Cluster'] == 5]['IMP_TOTAL_VENTAS'], \n",
        "    cliente_clusters.loc[cliente_clusters['Cluster'] == 5]['IMP_VENTA_PROMEDIO'],\n",
        "    c='black'\n",
        ")\n",
        "\n",
        "plt.title('Total Ventas vs. Promedio Ventas Clusters')\n",
        "plt.xlabel('Total Ventas')\n",
        "plt.ylabel('Promedio Ventas')\n",
        "\n"
      ],
      "execution_count": 0,
      "outputs": []
    },
    {
      "cell_type": "code",
      "metadata": {
        "id": "P18nwXxUiKAC",
        "colab_type": "code",
        "trusted": true,
        "colab": {}
      },
      "source": [
        "# identificar el número de clientes por cluster\n",
        "for n_cluster in [3,4,5,6,7,8]:\n",
        "    kmeans = KMeans(n_clusters=n_cluster).fit(\n",
        "        cliente_normalizado[['IMP_TOTAL_VENTAS', 'NUM_TOTAL_TXN', 'IMP_VENTA_PROMEDIO']]\n",
        "    )\n",
        "    silhouette_avg = silhouette_score(\n",
        "        cliente_normalizado[['IMP_TOTAL_VENTAS', 'NUM_TOTAL_TXN', 'IMP_VENTA_PROMEDIO']], \n",
        "        kmeans.labels_\n",
        "    )\n",
        "    \n",
        "    print('Scoring silueta para %i Clusters: %0.4f' % (n_cluster, silhouette_avg))"
      ],
      "execution_count": 0,
      "outputs": []
    },
    {
      "cell_type": "code",
      "metadata": {
        "id": "ANJ0a2Bvj9t4",
        "colab_type": "code",
        "trusted": true,
        "colab": {}
      },
      "source": [
        "# identificar el número de clientes por cluster\n",
        "for n_cluster in [3,4,5,6,7,8]:\n",
        "    kmeans = KMeans(n_clusters=n_cluster).fit(\n",
        "        cliente_normalizado[['IMP_TOTAL_VENTAS', 'NUM_TOTAL_TXN']]\n",
        "    )\n",
        "    silhouette_avg = silhouette_score(\n",
        "        cliente_normalizado[['IMP_TOTAL_VENTAS', 'NUM_TOTAL_TXN']], \n",
        "        kmeans.labels_\n",
        "    )\n",
        "    \n",
        "    print('Scoring silueta para %i Clusters: %0.4f' % (n_cluster, silhouette_avg))"
      ],
      "execution_count": 0,
      "outputs": []
    },
    {
      "cell_type": "code",
      "metadata": {
        "id": "awtZdHNIjTts",
        "colab_type": "code",
        "trusted": true,
        "colab": {}
      },
      "source": [
        "# identificar el número de clientes por cluster\n",
        "for n_cluster in [3,4,5,6,7,8]:\n",
        "    kmeans = KMeans(n_clusters=n_cluster).fit(\n",
        "        cliente_normalizado[['IMP_TOTAL_VENTAS', 'NUM_TOTAL_PRODUCTOS', 'IMP_VENTA_PROMEDIO']]\n",
        "    )\n",
        "    silhouette_avg = silhouette_score(\n",
        "        cliente_normalizado[['IMP_TOTAL_VENTAS', 'NUM_TOTAL_PRODUCTOS', 'IMP_VENTA_PROMEDIO']], \n",
        "        kmeans.labels_\n",
        "    )\n",
        "    \n",
        "    print('Scoring silueta para %i Clusters: %0.4f' % (n_cluster, silhouette_avg))"
      ],
      "execution_count": 0,
      "outputs": []
    },
    {
      "cell_type": "code",
      "metadata": {
        "id": "YrjUJZGQjXtl",
        "colab_type": "code",
        "trusted": true,
        "colab": {}
      },
      "source": [
        "# identificar el número de clientes por cluster\n",
        "for n_cluster in [3,4,5,6,7,8]:\n",
        "    kmeans = KMeans(n_clusters=n_cluster).fit(\n",
        "        cliente_normalizado[['IMP_TOTAL_VENTAS', 'NUM_TOTAL_PRODUCTOS', 'NUM_TOTAL_TXN']]\n",
        "    )\n",
        "    silhouette_avg = silhouette_score(\n",
        "        cliente_normalizado[['IMP_TOTAL_VENTAS', 'NUM_TOTAL_PRODUCTOS', 'NUM_TOTAL_TXN']], \n",
        "        kmeans.labels_\n",
        "    )\n",
        "    \n",
        "    print('Scoring silueta para %i Clusters: %0.4f' % (n_cluster, silhouette_avg))"
      ],
      "execution_count": 0,
      "outputs": []
    },
    {
      "cell_type": "code",
      "metadata": {
        "id": "H-KMfAypjdtb",
        "colab_type": "code",
        "trusted": true,
        "colab": {}
      },
      "source": [
        "# identificar el número de clientes por cluster\n",
        "for n_cluster in [3,4,5,6,7,8]:\n",
        "    kmeans = KMeans(n_clusters=n_cluster).fit(\n",
        "        cliente_normalizado[['IMP_VENTA_PROMEDIO', 'NUM_TOTAL_PRODUCTOS', 'NUM_TOTAL_TXN']]\n",
        "    )\n",
        "    silhouette_avg = silhouette_score(\n",
        "        cliente_normalizado[['IMP_VENTA_PROMEDIO', 'NUM_TOTAL_PRODUCTOS', 'NUM_TOTAL_TXN']], \n",
        "        kmeans.labels_\n",
        "    )\n",
        "    \n",
        "    print('Scoring silueta para %i Clusters: %0.4f' % (n_cluster, silhouette_avg))"
      ],
      "execution_count": 0,
      "outputs": []
    },
    {
      "cell_type": "markdown",
      "metadata": {
        "id": "AaoYclXRzvnk",
        "colab_type": "text"
      },
      "source": [
        "## Generando nueva data al dataset actual"
      ]
    },
    {
      "cell_type": "code",
      "metadata": {
        "id": "szW16a07zvMV",
        "colab_type": "code",
        "trusted": true,
        "colab": {}
      },
      "source": [
        "kmeans = KMeans(n_clusters=4).fit(\n",
        "    cliente_normalizado[['IMP_TOTAL_VENTAS', 'NUM_TOTAL_TXN']]\n",
        ")"
      ],
      "execution_count": 0,
      "outputs": []
    },
    {
      "cell_type": "code",
      "metadata": {
        "id": "MIG0SeUH0IpJ",
        "colab_type": "code",
        "trusted": true,
        "colab": {}
      },
      "source": [
        "cliente_normalizado['DATA_SEG'] = kmeans.labels_"
      ],
      "execution_count": 0,
      "outputs": []
    },
    {
      "cell_type": "code",
      "metadata": {
        "id": "Rff5fzVM0UTN",
        "colab_type": "code",
        "trusted": true,
        "colab": {}
      },
      "source": [
        "cliente_normalizado.head()\n",
        "kmeans.cluster_centers_"
      ],
      "execution_count": 0,
      "outputs": []
    },
    {
      "cell_type": "code",
      "metadata": {
        "id": "cDMuOwSL0ezA",
        "colab_type": "code",
        "trusted": true,
        "colab": {}
      },
      "source": [
        "high_value_cluster = cliente_normalizado.loc[cliente_normalizado['DATA_SEG'] == 3]\n",
        "high_value_cluster.head()"
      ],
      "execution_count": 0,
      "outputs": []
    },
    {
      "cell_type": "code",
      "metadata": {
        "id": "CF4aVbcs0mx1",
        "colab_type": "code",
        "trusted": true,
        "colab": {}
      },
      "source": [
        "informacion_cliente.loc[high_value_cluster.index].describe()"
      ],
      "execution_count": 0,
      "outputs": []
    },
    {
      "cell_type": "code",
      "metadata": {
        "id": "Z-kQwZsY7vMC",
        "colab_type": "code",
        "trusted": true,
        "colab": {}
      },
      "source": [
        "datos_facturacion.head()"
      ],
      "execution_count": 0,
      "outputs": []
    },
    {
      "cell_type": "markdown",
      "metadata": {
        "id": "8bNLBxPP8AkR",
        "colab_type": "text"
      },
      "source": [
        ""
      ]
    },
    {
      "cell_type": "code",
      "metadata": {
        "id": "qfjmO3TO03g7",
        "colab_type": "code",
        "trusted": true,
        "colab": {}
      },
      "source": [
        "pd.DataFrame(\n",
        "    datos_facturacion.loc[\n",
        "        datos_facturacion['customer_id'].isin(high_value_cluster.index)\n",
        "    ].groupby('product_id').count()[\n",
        "        'total_value'\n",
        "    ].sort_values(ascending=False).head()\n",
        ")"
      ],
      "execution_count": 0,
      "outputs": []
    },
    {
      "cell_type": "markdown",
      "metadata": {
        "id": "OfeaQuYktRev",
        "colab_type": "text"
      },
      "source": [
        "## 3. Matriz de Factorización\n",
        "\n",
        "Una vez utilizado los posibles escenarios para las recomendaciónde productos, se procede a generar el motor de recomendación .  Para ello se realiza la matriz de Factorización, la cual se utilizo como referencia el sigueinte paper [Probabilistic Matrix Factorization](https://https://papers.nips.cc/paper/3208-probabilistic-matrix-factorization.pdf)"
      ]
    },
    {
      "cell_type": "code",
      "metadata": {
        "id": "VShZUVT1th5R",
        "colab_type": "code",
        "trusted": true,
        "colab": {}
      },
      "source": [
        "matrix_usuario_producto.values"
      ],
      "execution_count": 0,
      "outputs": []
    },
    {
      "cell_type": "markdown",
      "metadata": {
        "id": "jnRmo9Tqxhdr",
        "colab_type": "text"
      },
      "source": [
        "**Enfoque Cliente**"
      ]
    },
    {
      "cell_type": "code",
      "metadata": {
        "id": "xvJQxegSvl5I",
        "colab_type": "code",
        "trusted": true,
        "colab": {}
      },
      "source": [
        "from sklearn.neighbors import NearestNeighbors\n",
        "from scipy.sparse import csr_matrix\n",
        "# Se convierte la table pivote de cliente - producto a una sparse matrix\n",
        "mat_cliente_prod = csr_matrix(matrix_usuario_producto.values)\n",
        "# Se procede a identificar la relación entre los clientes\n",
        "model_knn = NearestNeighbors(metric='cosine', algorithm='brute', n_neighbors=20, n_jobs=-1)\n"
      ],
      "execution_count": 0,
      "outputs": []
    },
    {
      "cell_type": "code",
      "metadata": {
        "id": "mW_1TKBmxoqy",
        "colab_type": "code",
        "trusted": true,
        "colab": {}
      },
      "source": [
        "final_productos = matrix_usuario_producto.fillna(matrix_usuario_producto.mean(axis=0))\n",
        "final_productos.head()"
      ],
      "execution_count": 0,
      "outputs": []
    },
    {
      "cell_type": "code",
      "metadata": {
        "id": "B9DijYeXyAWU",
        "colab_type": "code",
        "trusted": true,
        "colab": {}
      },
      "source": [
        "final_clientes = matrix_usuario_producto.apply(lambda row: row.fillna(0), axis=1)\n",
        "final_clientes.head()"
      ],
      "execution_count": 0,
      "outputs": []
    },
    {
      "cell_type": "markdown",
      "metadata": {
        "id": "Cqx87j0m1qPY",
        "colab_type": "text"
      },
      "source": [
        "## Similaridad Usuarios"
      ]
    },
    {
      "cell_type": "code",
      "metadata": {
        "id": "BnT4RYwd1sTc",
        "colab_type": "code",
        "trusted": true,
        "colab": {}
      },
      "source": [
        "b = cosine_similarity(final_clientes)\n",
        "np.fill_diagonal(b, 0 )\n",
        "sim_usuario = pd.DataFrame(b,index=final_clientes.index)\n",
        "sim_usuario.columns=final_clientes.index\n",
        "sim_usuario.head()"
      ],
      "execution_count": 0,
      "outputs": []
    },
    {
      "cell_type": "code",
      "metadata": {
        "id": "adVisQ89xzO7",
        "colab_type": "code",
        "trusted": true,
        "colab": {}
      },
      "source": [
        "# user similarity on replacing NAN by item(movie) avg\n",
        "cosine = cosine_similarity(final_productos)\n",
        "np.fill_diagonal(cosine, 0 )\n",
        "sim_producto =pd.DataFrame(cosine,index=final_productos.index)\n",
        "sim_producto.columns=final_clientes.index\n",
        "sim_producto.head()"
      ],
      "execution_count": 0,
      "outputs": []
    },
    {
      "cell_type": "markdown",
      "metadata": {
        "id": "bh3dDtSn2S19",
        "colab_type": "text"
      },
      "source": [
        "##Función para encontrar similares"
      ]
    },
    {
      "cell_type": "code",
      "metadata": {
        "id": "3gh7k44K2PM8",
        "colab_type": "code",
        "trusted": true,
        "colab": {}
      },
      "source": [
        "def identificar_similares(data,cantidad):\n",
        "    order = np.argsort(data.values, axis=1)[:, :cantidad]\n",
        "    data = data.apply(lambda x: pd.Series(x.sort_values(ascending=False).iloc[:cantidad].index, \n",
        "          index=['top{}'.format(i) for i in range(1, cantidad+1)]), axis=1)\n",
        "    return data"
      ],
      "execution_count": 0,
      "outputs": []
    },
    {
      "cell_type": "code",
      "metadata": {
        "id": "56xvLwnmyZgB",
        "colab_type": "code",
        "trusted": true,
        "colab": {}
      },
      "source": [
        "identificar_similares(sim_producto,20)"
      ],
      "execution_count": 0,
      "outputs": []
    },
    {
      "cell_type": "code",
      "metadata": {
        "id": "VRBNZbgc2xiC",
        "colab_type": "code",
        "trusted": true,
        "colab": {}
      },
      "source": [
        "identificar_similares(sim_usuario,20)"
      ],
      "execution_count": 0,
      "outputs": []
    },
    {
      "cell_type": "markdown",
      "metadata": {
        "id": "v_UHUnsY28cB",
        "colab_type": "text"
      },
      "source": [
        "## Función similitud de productos entre usuarios"
      ]
    },
    {
      "cell_type": "code",
      "metadata": {
        "id": "gQ8Nu5aN26f6",
        "colab_type": "code",
        "trusted": true,
        "colab": {}
      },
      "source": [
        "def identificar_productos( cliente1, cliente2 ):\n",
        "    common_movies = datos_facturacion[datos_facturacion.c_id == cliente1].merge(\n",
        "    datos_facturacion[datos_facturacion.c_id == cliente2],\n",
        "    on = \"p_id\",\n",
        "    how = \"inner\" )\n",
        "    return common_movies.merge( datos_producto, on = 'p_id' )"
      ],
      "execution_count": 0,
      "outputs": []
    },
    {
      "cell_type": "code",
      "metadata": {
        "id": "6EfibgM33c1L",
        "colab_type": "code",
        "trusted": true,
        "colab": {}
      },
      "source": [
        "#identificar_productos(7,16)"
      ],
      "execution_count": 0,
      "outputs": []
    },
    {
      "cell_type": "markdown",
      "metadata": {
        "id": "xAanz30-PpAg",
        "colab_type": "text"
      },
      "source": [
        "#Identificar Churn"
      ]
    },
    {
      "cell_type": "code",
      "metadata": {
        "id": "jJ1xy4CiPsjC",
        "colab_type": "code",
        "trusted": true,
        "colab": {}
      },
      "source": [
        "import seaborn as sns\n",
        "import matplotlib.pyplot as plt\n",
        "!pip install lifetimes\n",
        "from lifetimes.utils import *\n",
        "from lifetimes import BetaGeoFitter,GammaGammaFitter\n",
        "from lifetimes.plotting import plot_probability_alive_matrix, plot_frequency_recency_matrix, plot_period_transactions, plot_cumulative_transactions,plot_incremental_transactions\n",
        "from lifetimes.generate_data import beta_geometric_nbd_model\n",
        "from lifetimes.plotting import plot_calibration_purchases_vs_holdout_purchases, plot_period_transactions,plot_history_alive"
      ],
      "execution_count": 0,
      "outputs": []
    },
    {
      "cell_type": "code",
      "metadata": {
        "id": "dqk64AVaQycP",
        "colab_type": "code",
        "trusted": true,
        "colab": {}
      },
      "source": [
        "datos_modelo = pd.ExcelFile(directorio+'data_model.xlsx')\n",
        "datos_facturacion = pd.read_excel(datos_modelo, sheet_name='fac_txn')\n",
        "datos_producto = pd.read_excel(datos_modelo, sheet_name='product')\n",
        "datos_clientes = pd.read_excel(datos_modelo, sheet_name='customer')\n",
        "print('PRODUCTOS :'+ datos_producto.columns)\n",
        "print('CLIENTES:'+ datos_clientes.columns)\n",
        "print('FACTURACION:'+ datos_facturacion.columns)\n"
      ],
      "execution_count": 0,
      "outputs": []
    },
    {
      "cell_type": "code",
      "metadata": {
        "id": "KjRT-5UkbEbU",
        "colab_type": "code",
        "trusted": true,
        "colab": {}
      },
      "source": [
        "datos_clientes.groupby('customer_id').size().value_counts()\n",
        "# la mayoria de clientes solo tienen una compra"
      ],
      "execution_count": 0,
      "outputs": []
    },
    {
      "cell_type": "code",
      "metadata": {
        "id": "uriCF1qTbV_Y",
        "colab_type": "code",
        "trusted": true,
        "colab": {}
      },
      "source": [
        "datos_facturacion.drop_duplicates('order_id',keep='first',inplace=True)"
      ],
      "execution_count": 0,
      "outputs": []
    },
    {
      "cell_type": "code",
      "metadata": {
        "id": "iRXs_-Rgl_fZ",
        "colab_type": "code",
        "trusted": true,
        "colab": {}
      },
      "source": [
        "datos_facturacion['date'] = pd.to_datetime(datos_facturacion['order_purchase_timestamp']).dt.date\n",
        "datos_facturacion = datos_facturacion.drop('order_purchase_timestamp',axis=1)\n",
        "datos_facturacion.head()"
      ],
      "execution_count": 0,
      "outputs": []
    },
    {
      "cell_type": "code",
      "metadata": {
        "id": "AIhstouf8BeO",
        "colab_type": "code",
        "trusted": true,
        "colab": {}
      },
      "source": [
        "transaction_data = datos_facturacion[['customer_id','date','total_value']]\n",
        "transaction_data.head()"
      ],
      "execution_count": 0,
      "outputs": []
    },
    {
      "cell_type": "code",
      "metadata": {
        "id": "XWFCOxmVmPL3",
        "colab_type": "code",
        "trusted": true,
        "colab": {}
      },
      "source": [
        "summary = summary_data_from_transaction_data(transaction_data,'customer_id','date',monetary_value_col='total_value',)\n",
        "summary.describe()"
      ],
      "execution_count": 0,
      "outputs": []
    },
    {
      "cell_type": "code",
      "metadata": {
        "id": "6GsJ8kN19Xti",
        "colab_type": "code",
        "trusted": true,
        "colab": {}
      },
      "source": [
        "summary.head()"
      ],
      "execution_count": 0,
      "outputs": []
    },
    {
      "cell_type": "code",
      "metadata": {
        "id": "0KbayNkvmb40",
        "colab_type": "code",
        "trusted": true,
        "colab": {}
      },
      "source": [
        "summary[summary['frequency']>0].head()"
      ],
      "execution_count": 0,
      "outputs": []
    },
    {
      "cell_type": "code",
      "metadata": {
        "id": "0YaALcxvmek3",
        "colab_type": "code",
        "trusted": true,
        "colab": {}
      },
      "source": [
        "datos_facturacion[datos_facturacion['customer_id']=='004288347e5e88a27ded2bb23747066c']"
      ],
      "execution_count": 0,
      "outputs": []
    },
    {
      "cell_type": "code",
      "metadata": {
        "id": "3vP-Zdb-n3V3",
        "colab_type": "code",
        "trusted": true,
        "colab": {}
      },
      "source": [
        "bgf = BetaGeoFitter(penalizer_coef=0.0)\n",
        "bgf.fit(summary['frequency'], summary['recency'], summary['T']);"
      ],
      "execution_count": 0,
      "outputs": []
    },
    {
      "cell_type": "code",
      "metadata": {
        "id": "KHi6s__7n9Cr",
        "colab_type": "code",
        "trusted": true,
        "colab": {}
      },
      "source": [
        "plot_frequency_recency_matrix(bgf);"
      ],
      "execution_count": 0,
      "outputs": []
    },
    {
      "cell_type": "code",
      "metadata": {
        "id": "Df5aLkB9oDbG",
        "colab_type": "code",
        "trusted": true,
        "colab": {}
      },
      "source": [
        "plot_probability_alive_matrix(bgf);"
      ],
      "execution_count": 0,
      "outputs": []
    },
    {
      "cell_type": "code",
      "metadata": {
        "id": "6_Zn9kDaoFGI",
        "colab_type": "code",
        "trusted": true,
        "colab": {}
      },
      "source": [
        "plot_period_transactions(bgf).set_yscale('log');"
      ],
      "execution_count": 0,
      "outputs": []
    },
    {
      "cell_type": "code",
      "metadata": {
        "id": "OA7x6jlMoIrm",
        "colab_type": "code",
        "trusted": true,
        "colab": {}
      },
      "source": [
        "summary_cal_holdout = calibration_and_holdout_data(datos_facturacion, 'customer_id', 'date',calibration_period_end='2017-09-03', observation_period_end='2018-09-03' )"
      ],
      "execution_count": 0,
      "outputs": []
    },
    {
      "cell_type": "code",
      "metadata": {
        "id": "VAXcOQsmoOqD",
        "colab_type": "code",
        "trusted": true,
        "colab": {}
      },
      "source": [
        "bgf.fit(summary_cal_holdout['frequency_cal'], summary_cal_holdout['recency_cal'], summary_cal_holdout['T_cal'])\n",
        "plot_cumulative_transactions(bgf, datos_facturacion, 'date', 'customer_id', 730, 365);"
      ],
      "execution_count": 0,
      "outputs": []
    },
    {
      "cell_type": "code",
      "metadata": {
        "id": "PaW-dF0toVGc",
        "colab_type": "code",
        "trusted": true,
        "colab": {}
      },
      "source": [
        "plot_incremental_transactions(bgf, datos_facturacion, 'date', 'customer_id', 730, 365);"
      ],
      "execution_count": 0,
      "outputs": []
    },
    {
      "cell_type": "code",
      "metadata": {
        "id": "OPVIja8ToZdU",
        "colab_type": "code",
        "trusted": true,
        "colab": {}
      },
      "source": [
        "plot_calibration_purchases_vs_holdout_purchases(bgf, summary_cal_holdout);"
      ],
      "execution_count": 0,
      "outputs": []
    },
    {
      "cell_type": "code",
      "metadata": {
        "id": "UfYFNAU9odNA",
        "colab_type": "code",
        "trusted": true,
        "colab": {}
      },
      "source": [
        "datos_clientes.groupby('customer_id').size().value_counts()"
      ],
      "execution_count": 0,
      "outputs": []
    },
    {
      "cell_type": "code",
      "metadata": {
        "id": "wRGw8-hgojGk",
        "colab_type": "code",
        "trusted": true,
        "colab": {}
      },
      "source": [
        "df = summary[summary['frequency']>0]\n",
        "df['prob_alive'] = bgf.conditional_probability_alive(df['frequency'],df['recency'],df['T'])\n",
        "sns.distplot(df['prob_alive']);"
      ],
      "execution_count": 0,
      "outputs": []
    },
    {
      "cell_type": "code",
      "metadata": {
        "id": "DK3cV6iBol32",
        "colab_type": "code",
        "trusted": true,
        "colab": {}
      },
      "source": [
        "df['churn'] = ['churned' if p < .1 else 'not churned' for p in df['prob_alive']]\n",
        "sns.countplot(df['churn']);"
      ],
      "execution_count": 0,
      "outputs": []
    },
    {
      "cell_type": "code",
      "metadata": {
        "id": "KER05dnhoqI0",
        "colab_type": "code",
        "trusted": true,
        "colab": {}
      },
      "source": [
        "sns.distplot(df[df['churn']=='not churned']['prob_alive']).set_title('Probability alive, not churned');"
      ],
      "execution_count": 0,
      "outputs": []
    },
    {
      "cell_type": "code",
      "metadata": {
        "id": "V3iPEAWJouYt",
        "colab_type": "code",
        "trusted": true,
        "colab": {}
      },
      "source": [
        "df['churn'][(df['prob_alive']>=.1) & (df['prob_alive']<.2)] = \"high risk\"\n",
        "df['churn'].value_counts()"
      ],
      "execution_count": 0,
      "outputs": []
    },
    {
      "cell_type": "code",
      "metadata": {
        "id": "ZgPbv6dhADHG",
        "colab_type": "code",
        "trusted": true,
        "colab": {}
      },
      "source": [
        "#df[df['churn'] =='high risk'].head()\n",
        "df[df['churn'] =='churned'].head()"
      ],
      "execution_count": 0,
      "outputs": []
    },
    {
      "cell_type": "code",
      "metadata": {
        "id": "4X68gk2EBasa",
        "colab_type": "code",
        "trusted": true,
        "colab": {}
      },
      "source": [
        "df['definition'] = df['churn'].apply(lambda x: 1 if x == 'churned' else 0)"
      ],
      "execution_count": 0,
      "outputs": []
    },
    {
      "cell_type": "code",
      "metadata": {
        "id": "gFmwF8dGBxyX",
        "colab_type": "code",
        "trusted": true,
        "colab": {}
      },
      "source": [
        "df['definition'].count()"
      ],
      "execution_count": 0,
      "outputs": []
    },
    {
      "cell_type": "code",
      "metadata": {
        "id": "hUN1npymB9-l",
        "colab_type": "code",
        "trusted": true,
        "colab": {}
      },
      "source": [
        "datos_clientes.count()"
      ],
      "execution_count": 0,
      "outputs": []
    },
    {
      "cell_type": "code",
      "metadata": {
        "id": "WxddTBErCM3O",
        "colab_type": "code",
        "trusted": true,
        "colab": {}
      },
      "source": [
        "prueba_clientes = pd.merge(datos_clientes,df[['definition']],on='customer_id', how='left')\n",
        "prueba_clientes['definition'].fillna(0, inplace=True)\n",
        "print(prueba_clientes.count())\n",
        "prueba_clientes.head()"
      ],
      "execution_count": 0,
      "outputs": []
    },
    {
      "cell_type": "code",
      "metadata": {
        "id": "aSAwMAtSC2_v",
        "colab_type": "code",
        "trusted": true,
        "colab": {}
      },
      "source": [
        "prueba_clientes['definition'].mean()"
      ],
      "execution_count": 0,
      "outputs": []
    },
    {
      "cell_type": "code",
      "metadata": {
        "id": "H3ArHA99Dsdf",
        "colab_type": "code",
        "trusted": true,
        "colab": {}
      },
      "source": [
        "\n",
        "#df[1].fillna(0, inplace=True)"
      ],
      "execution_count": 0,
      "outputs": []
    }
  ]
}