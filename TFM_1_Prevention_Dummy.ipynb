{
  "cells": [
    {
      "metadata": {
        "id": "lz4R_jT47a3L",
        "colab_type": "code",
        "outputId": "cad508ec-fdc9-419f-e997-d6a9ca66f04a",
        "colab": {
          "base_uri": "https://localhost:8080/",
          "height": 36
        },
        "trusted": true
      },
      "cell_type": "code",
      "source": "#from google.colab import drive\n#drive.mount('/content/drive')\ndirectorio=\"data/\"",
      "execution_count": 5,
      "outputs": []
    },
    {
      "metadata": {
        "id": "rlke_DiE7xb2",
        "colab_type": "code",
        "colab": {
          "base_uri": "https://localhost:8080/",
          "height": 455
        },
        "outputId": "652c947a-adb6-4cc7-c260-d7aa54ae6f2b",
        "trusted": true,
        "scrolled": true
      },
      "cell_type": "code",
      "source": "# librerias requeridas\n#!pip install turicreate\nimport matplotlib.pyplot as plt\nimport pandas as pd\nimport numpy as np\n%matplotlib inline\nfrom sklearn.metrics.pairwise import cosine_similarity\nfrom sklearn.cluster import KMeans\nfrom sklearn.metrics import silhouette_score\nimport time\n#import turicreate as tc\nfrom sklearn.model_selection import train_test_split\n\nimport sys\nsys.path.append(\"..\")",
      "execution_count": 1,
      "outputs": [
        {
          "output_type": "stream",
          "text": "/home/nbuser/anaconda3_420/lib/python3.5/site-packages/matplotlib/font_manager.py:281: UserWarning: Matplotlib is building the font cache using fc-list. This may take a moment.\n  'Matplotlib is building the font cache using fc-list. '\n",
          "name": "stderr"
        }
      ]
    },
    {
      "metadata": {
        "trusted": true
      },
      "cell_type": "code",
      "source": "!pip install --upgrade pip",
      "execution_count": 2,
      "outputs": [
        {
          "output_type": "stream",
          "text": "Collecting pip\n\u001b[?25l  Downloading https://files.pythonhosted.org/packages/30/db/9e38760b32e3e7f40cce46dd5fb107b8c73840df38f0046d8e6514e675a1/pip-19.2.3-py2.py3-none-any.whl (1.4MB)\n\u001b[K     |████████████████████████████████| 1.4MB 3.5MB/s eta 0:00:01██████████████████▊            | 870kB 3.5MB/s eta 0:00:01\n\u001b[?25hInstalling collected packages: pip\n  Found existing installation: pip 19.2.2\n    Uninstalling pip-19.2.2:\n      Successfully uninstalled pip-19.2.2\nSuccessfully installed pip-19.2.3\n",
          "name": "stdout"
        }
      ]
    },
    {
      "metadata": {
        "id": "k1PvPRCY79m-",
        "colab_type": "text"
      },
      "cell_type": "markdown",
      "source": "## Prevensión Fuga de Clientes\nEl enfoque de la prevensión es disminuir el impactacto latente de la posibilidad de que alguno de los clientes deje de comprar productos. \nCon este fin se realiza la estrategia en dos sentidos: <br>\n1. Aumentar la penetración de los productos a los clientes con el fin de fortalecer la relación comercial y su fidelización : Este enfoque hace parte de la primera parte del notebook, con el objetivo de generar un motor de recomendación con el cual se facilite la venta de nuevos productos por medio de estrategia de datos . <br>\n2. El segundo enfoque es a traves de una nueva segmentación, que permita de igual forma identificar no solo como y que es posible comprar, sino generar nuevos dimensiones de analisis, para que los equipos de business intelligence, comerciales y financieros, tengan mas herramientas durantes sus estrategias de negocio"
    },
    {
      "metadata": {
        "id": "yOOOIWlw8Ahk",
        "colab_type": "code",
        "outputId": "c7047efe-255e-45e6-ebe4-93cc96e03ccb",
        "colab": {
          "base_uri": "https://localhost:8080/",
          "height": 55
        },
        "trusted": true
      },
      "cell_type": "code",
      "source": "# Se cargan los datos de la información de la facturación\n#datos_modelo = pd.ExcelFile(directorio+'Datos-excel.xlsx')\n#datos_modelo = pd.ExcelFile(directorio+'data_model.xlsx')\ndatos_modelo = pd.ExcelFile(directorio+'txn_datos.xlsx')\ndatos_facturacion = pd.read_excel(datos_modelo, sheet_name='fac_txn')\n# Se elimian los datos nulos de las dimensiones importantes del analisis que son productos y clientes\ndatos_facturacion = datos_facturacion.dropna(subset=['customer_id'])\ndatos_facturacion = datos_facturacion.dropna(subset=['product_id'])\n# Se elimina posibles chargeback que se presenten\ndatos_facturacion = datos_facturacion.loc[datos_facturacion['total_value'] > 0]\n#datos_facturacion[\"total_value\"]=datos_facturacion[\"total_value\"].astype(object)\n# Se descarcatan las ordenes que han sido canceladas\n#datos_facturacion = datos_facturacion.loc[datos_facturacion['order_status'] != 'canceled']\nprint(datos_facturacion.shape)\ndatos_modelo = pd.ExcelFile(directorio+'datos_dim.xlsx')\n\ndatos_producto = pd.read_excel(datos_modelo, sheet_name='product')\ndatos_clientes = pd.read_excel(datos_modelo, sheet_name='customer')\nprint(datos_producto.shape)\n",
      "execution_count": 6,
      "outputs": [
        {
          "output_type": "stream",
          "text": "(10000, 22)\n(6088, 10)\n",
          "name": "stdout"
        }
      ]
    },
    {
      "metadata": {
        "id": "EtogO3mDntP5",
        "colab_type": "code",
        "outputId": "1435986d-2ca5-4232-cd14-f343abdc6518",
        "colab": {
          "base_uri": "https://localhost:8080/",
          "height": 1000
        },
        "trusted": true
      },
      "cell_type": "code",
      "source": "pd.crosstab(datos_facturacion['customer_id'],datos_facturacion['product_id'],values=datos_facturacion['total_value'], aggfunc='sum')  # margins=True, margins_name=\"total_value\")\n",
      "execution_count": 45,
      "outputs": [
        {
          "output_type": "execute_result",
          "execution_count": 45,
          "data": {
            "text/html": "<div>\n<table border=\"1\" class=\"dataframe\">\n  <thead>\n    <tr style=\"text-align: right;\">\n      <th>product_id</th>\n      <th>0009406fd7479715e4bef61dd91f2462</th>\n      <th>001b72dfd63e9833e8c02742adf472e3</th>\n      <th>002c6dab60557c48cfd6c2222ef7fd76</th>\n      <th>0030e635639c898b323826589761cf23</th>\n      <th>004636c889c7c3dad6631f136b7fa082</th>\n      <th>005030ef108f58b46b78116f754d8d38</th>\n      <th>006baa9a5b8f95895f15273a35bc2664</th>\n      <th>008cff0e5792219fae03e570f980b330</th>\n      <th>00905d58c87afcbce21420b3712cacaa</th>\n      <th>00917855135d67fb060dcd81863166a4</th>\n      <th>...</th>\n      <th>ff96895c6b1d31f34b2d82f86670fa85</th>\n      <th>ffb2e8c1ddc7c3e590d2bc4c91de53e1</th>\n      <th>ffbc83054b3741a8d67fc59d9cf9d42d</th>\n      <th>ffbfa9e143fda4420454d0f4e88a3cd5</th>\n      <th>ffc0b406806006602c5853b00ab5f7fd</th>\n      <th>ffc9caf33e2d1e9f44e3e06da19085f7</th>\n      <th>ffccf0ce5eff1a158891296990107d08</th>\n      <th>ffd34459c21034d1da6df9800de0d7a3</th>\n      <th>ffd4bf4306745865e5692f69bd237893</th>\n      <th>ffd63ee42a5c8cc5a15a1c8e2aa50011</th>\n    </tr>\n    <tr>\n      <th>customer_id</th>\n      <th></th>\n      <th></th>\n      <th></th>\n      <th></th>\n      <th></th>\n      <th></th>\n      <th></th>\n      <th></th>\n      <th></th>\n      <th></th>\n      <th></th>\n      <th></th>\n      <th></th>\n      <th></th>\n      <th></th>\n      <th></th>\n      <th></th>\n      <th></th>\n      <th></th>\n      <th></th>\n      <th></th>\n    </tr>\n  </thead>\n  <tbody>\n    <tr>\n      <th>0005ef4cd20d2893f0d9fbd94d3c0d97</th>\n      <td>NaN</td>\n      <td>NaN</td>\n      <td>NaN</td>\n      <td>NaN</td>\n      <td>NaN</td>\n      <td>NaN</td>\n      <td>NaN</td>\n      <td>NaN</td>\n      <td>NaN</td>\n      <td>NaN</td>\n      <td>...</td>\n      <td>NaN</td>\n      <td>NaN</td>\n      <td>NaN</td>\n      <td>NaN</td>\n      <td>NaN</td>\n      <td>NaN</td>\n      <td>NaN</td>\n      <td>NaN</td>\n      <td>NaN</td>\n      <td>NaN</td>\n    </tr>\n    <tr>\n      <th>001ae5a1788703d64536c30362503e49</th>\n      <td>NaN</td>\n      <td>NaN</td>\n      <td>NaN</td>\n      <td>NaN</td>\n      <td>NaN</td>\n      <td>NaN</td>\n      <td>NaN</td>\n      <td>NaN</td>\n      <td>NaN</td>\n      <td>NaN</td>\n      <td>...</td>\n      <td>NaN</td>\n      <td>NaN</td>\n      <td>NaN</td>\n      <td>NaN</td>\n      <td>NaN</td>\n      <td>NaN</td>\n      <td>NaN</td>\n      <td>NaN</td>\n      <td>NaN</td>\n      <td>NaN</td>\n    </tr>\n    <tr>\n      <th>0027324a96d26a2bc7d69262f83c8403</th>\n      <td>NaN</td>\n      <td>NaN</td>\n      <td>NaN</td>\n      <td>NaN</td>\n      <td>NaN</td>\n      <td>NaN</td>\n      <td>NaN</td>\n      <td>NaN</td>\n      <td>NaN</td>\n      <td>NaN</td>\n      <td>...</td>\n      <td>NaN</td>\n      <td>NaN</td>\n      <td>NaN</td>\n      <td>NaN</td>\n      <td>NaN</td>\n      <td>NaN</td>\n      <td>NaN</td>\n      <td>NaN</td>\n      <td>NaN</td>\n      <td>NaN</td>\n    </tr>\n    <tr>\n      <th>003035f5ec76f2220098377482de93c9</th>\n      <td>NaN</td>\n      <td>NaN</td>\n      <td>NaN</td>\n      <td>NaN</td>\n      <td>NaN</td>\n      <td>NaN</td>\n      <td>NaN</td>\n      <td>NaN</td>\n      <td>NaN</td>\n      <td>NaN</td>\n      <td>...</td>\n      <td>NaN</td>\n      <td>NaN</td>\n      <td>NaN</td>\n      <td>NaN</td>\n      <td>NaN</td>\n      <td>NaN</td>\n      <td>NaN</td>\n      <td>NaN</td>\n      <td>NaN</td>\n      <td>NaN</td>\n    </tr>\n    <tr>\n      <th>00324c9f4d710e7bac5c5ba679714430</th>\n      <td>NaN</td>\n      <td>NaN</td>\n      <td>NaN</td>\n      <td>NaN</td>\n      <td>NaN</td>\n      <td>NaN</td>\n      <td>NaN</td>\n      <td>NaN</td>\n      <td>NaN</td>\n      <td>NaN</td>\n      <td>...</td>\n      <td>NaN</td>\n      <td>NaN</td>\n      <td>NaN</td>\n      <td>NaN</td>\n      <td>NaN</td>\n      <td>NaN</td>\n      <td>NaN</td>\n      <td>NaN</td>\n      <td>NaN</td>\n      <td>NaN</td>\n    </tr>\n    <tr>\n      <th>0036d365b138cc0ee06bed755bcb5044</th>\n      <td>NaN</td>\n      <td>NaN</td>\n      <td>NaN</td>\n      <td>NaN</td>\n      <td>NaN</td>\n      <td>NaN</td>\n      <td>NaN</td>\n      <td>NaN</td>\n      <td>NaN</td>\n      <td>NaN</td>\n      <td>...</td>\n      <td>NaN</td>\n      <td>NaN</td>\n      <td>NaN</td>\n      <td>NaN</td>\n      <td>NaN</td>\n      <td>NaN</td>\n      <td>NaN</td>\n      <td>NaN</td>\n      <td>NaN</td>\n      <td>NaN</td>\n    </tr>\n    <tr>\n      <th>003ac9408252444b489b1bfc013f5f8c</th>\n      <td>NaN</td>\n      <td>NaN</td>\n      <td>NaN</td>\n      <td>NaN</td>\n      <td>NaN</td>\n      <td>NaN</td>\n      <td>NaN</td>\n      <td>NaN</td>\n      <td>NaN</td>\n      <td>NaN</td>\n      <td>...</td>\n      <td>NaN</td>\n      <td>NaN</td>\n      <td>NaN</td>\n      <td>NaN</td>\n      <td>NaN</td>\n      <td>NaN</td>\n      <td>NaN</td>\n      <td>NaN</td>\n      <td>NaN</td>\n      <td>NaN</td>\n    </tr>\n    <tr>\n      <th>003c457932a554e4df13834237b1ed00</th>\n      <td>NaN</td>\n      <td>NaN</td>\n      <td>NaN</td>\n      <td>NaN</td>\n      <td>NaN</td>\n      <td>NaN</td>\n      <td>NaN</td>\n      <td>NaN</td>\n      <td>NaN</td>\n      <td>NaN</td>\n      <td>...</td>\n      <td>NaN</td>\n      <td>NaN</td>\n      <td>NaN</td>\n      <td>NaN</td>\n      <td>NaN</td>\n      <td>NaN</td>\n      <td>NaN</td>\n      <td>NaN</td>\n      <td>NaN</td>\n      <td>NaN</td>\n    </tr>\n    <tr>\n      <th>004288347e5e88a27ded2bb23747066c</th>\n      <td>NaN</td>\n      <td>NaN</td>\n      <td>NaN</td>\n      <td>NaN</td>\n      <td>NaN</td>\n      <td>NaN</td>\n      <td>NaN</td>\n      <td>NaN</td>\n      <td>NaN</td>\n      <td>NaN</td>\n      <td>...</td>\n      <td>NaN</td>\n      <td>NaN</td>\n      <td>NaN</td>\n      <td>NaN</td>\n      <td>NaN</td>\n      <td>NaN</td>\n      <td>NaN</td>\n      <td>NaN</td>\n      <td>NaN</td>\n      <td>NaN</td>\n    </tr>\n    <tr>\n      <th>0043d65f8039b4a4d43bc7b0f450ac2c</th>\n      <td>NaN</td>\n      <td>NaN</td>\n      <td>NaN</td>\n      <td>NaN</td>\n      <td>NaN</td>\n      <td>NaN</td>\n      <td>NaN</td>\n      <td>NaN</td>\n      <td>NaN</td>\n      <td>NaN</td>\n      <td>...</td>\n      <td>NaN</td>\n      <td>NaN</td>\n      <td>NaN</td>\n      <td>NaN</td>\n      <td>NaN</td>\n      <td>NaN</td>\n      <td>NaN</td>\n      <td>NaN</td>\n      <td>NaN</td>\n      <td>NaN</td>\n    </tr>\n    <tr>\n      <th>00504b68faa074d0f40adcb4f7727f71</th>\n      <td>NaN</td>\n      <td>NaN</td>\n      <td>NaN</td>\n      <td>NaN</td>\n      <td>NaN</td>\n      <td>NaN</td>\n      <td>NaN</td>\n      <td>NaN</td>\n      <td>NaN</td>\n      <td>NaN</td>\n      <td>...</td>\n      <td>NaN</td>\n      <td>NaN</td>\n      <td>NaN</td>\n      <td>NaN</td>\n      <td>NaN</td>\n      <td>NaN</td>\n      <td>NaN</td>\n      <td>NaN</td>\n      <td>NaN</td>\n      <td>NaN</td>\n    </tr>\n    <tr>\n      <th>005ee3e015ec18092d7782e507cf68fe</th>\n      <td>NaN</td>\n      <td>NaN</td>\n      <td>NaN</td>\n      <td>NaN</td>\n      <td>NaN</td>\n      <td>NaN</td>\n      <td>NaN</td>\n      <td>NaN</td>\n      <td>NaN</td>\n      <td>NaN</td>\n      <td>...</td>\n      <td>NaN</td>\n      <td>NaN</td>\n      <td>NaN</td>\n      <td>NaN</td>\n      <td>NaN</td>\n      <td>NaN</td>\n      <td>NaN</td>\n      <td>NaN</td>\n      <td>NaN</td>\n      <td>NaN</td>\n    </tr>\n    <tr>\n      <th>006ab6f5e82340e927757563a9fbe7e4</th>\n      <td>NaN</td>\n      <td>NaN</td>\n      <td>NaN</td>\n      <td>NaN</td>\n      <td>NaN</td>\n      <td>NaN</td>\n      <td>NaN</td>\n      <td>NaN</td>\n      <td>NaN</td>\n      <td>NaN</td>\n      <td>...</td>\n      <td>NaN</td>\n      <td>NaN</td>\n      <td>NaN</td>\n      <td>NaN</td>\n      <td>NaN</td>\n      <td>NaN</td>\n      <td>NaN</td>\n      <td>NaN</td>\n      <td>NaN</td>\n      <td>NaN</td>\n    </tr>\n    <tr>\n      <th>006ec5b170182812131c7d9b219c036f</th>\n      <td>NaN</td>\n      <td>NaN</td>\n      <td>NaN</td>\n      <td>NaN</td>\n      <td>NaN</td>\n      <td>NaN</td>\n      <td>NaN</td>\n      <td>NaN</td>\n      <td>NaN</td>\n      <td>NaN</td>\n      <td>...</td>\n      <td>NaN</td>\n      <td>NaN</td>\n      <td>NaN</td>\n      <td>NaN</td>\n      <td>NaN</td>\n      <td>NaN</td>\n      <td>NaN</td>\n      <td>NaN</td>\n      <td>NaN</td>\n      <td>NaN</td>\n    </tr>\n    <tr>\n      <th>007ba48697b079e78f168b051462dd1b</th>\n      <td>NaN</td>\n      <td>NaN</td>\n      <td>NaN</td>\n      <td>NaN</td>\n      <td>NaN</td>\n      <td>NaN</td>\n      <td>NaN</td>\n      <td>NaN</td>\n      <td>NaN</td>\n      <td>NaN</td>\n      <td>...</td>\n      <td>NaN</td>\n      <td>NaN</td>\n      <td>NaN</td>\n      <td>NaN</td>\n      <td>NaN</td>\n      <td>NaN</td>\n      <td>NaN</td>\n      <td>NaN</td>\n      <td>NaN</td>\n      <td>NaN</td>\n    </tr>\n    <tr>\n      <th>0083e758383b3deb6c6dac1b0b431ac0</th>\n      <td>NaN</td>\n      <td>NaN</td>\n      <td>NaN</td>\n      <td>NaN</td>\n      <td>NaN</td>\n      <td>NaN</td>\n      <td>NaN</td>\n      <td>NaN</td>\n      <td>NaN</td>\n      <td>NaN</td>\n      <td>...</td>\n      <td>NaN</td>\n      <td>NaN</td>\n      <td>NaN</td>\n      <td>NaN</td>\n      <td>NaN</td>\n      <td>NaN</td>\n      <td>NaN</td>\n      <td>NaN</td>\n      <td>NaN</td>\n      <td>NaN</td>\n    </tr>\n    <tr>\n      <th>0087c31081ea8d160baa06bf4ad4d76f</th>\n      <td>NaN</td>\n      <td>NaN</td>\n      <td>NaN</td>\n      <td>NaN</td>\n      <td>NaN</td>\n      <td>NaN</td>\n      <td>NaN</td>\n      <td>NaN</td>\n      <td>NaN</td>\n      <td>NaN</td>\n      <td>...</td>\n      <td>NaN</td>\n      <td>NaN</td>\n      <td>NaN</td>\n      <td>NaN</td>\n      <td>NaN</td>\n      <td>NaN</td>\n      <td>NaN</td>\n      <td>NaN</td>\n      <td>NaN</td>\n      <td>NaN</td>\n    </tr>\n    <tr>\n      <th>009210a1646725341917560a13f7799f</th>\n      <td>NaN</td>\n      <td>NaN</td>\n      <td>NaN</td>\n      <td>NaN</td>\n      <td>NaN</td>\n      <td>NaN</td>\n      <td>NaN</td>\n      <td>NaN</td>\n      <td>NaN</td>\n      <td>NaN</td>\n      <td>...</td>\n      <td>NaN</td>\n      <td>NaN</td>\n      <td>NaN</td>\n      <td>NaN</td>\n      <td>NaN</td>\n      <td>NaN</td>\n      <td>NaN</td>\n      <td>NaN</td>\n      <td>NaN</td>\n      <td>NaN</td>\n    </tr>\n    <tr>\n      <th>009e70fcdd4ea3769c73210414e73c64</th>\n      <td>NaN</td>\n      <td>NaN</td>\n      <td>NaN</td>\n      <td>NaN</td>\n      <td>NaN</td>\n      <td>NaN</td>\n      <td>NaN</td>\n      <td>NaN</td>\n      <td>NaN</td>\n      <td>NaN</td>\n      <td>...</td>\n      <td>NaN</td>\n      <td>NaN</td>\n      <td>NaN</td>\n      <td>NaN</td>\n      <td>NaN</td>\n      <td>NaN</td>\n      <td>NaN</td>\n      <td>NaN</td>\n      <td>NaN</td>\n      <td>NaN</td>\n    </tr>\n    <tr>\n      <th>00b1066a65657ee1759544f6b61a4e2c</th>\n      <td>NaN</td>\n      <td>NaN</td>\n      <td>NaN</td>\n      <td>NaN</td>\n      <td>NaN</td>\n      <td>NaN</td>\n      <td>NaN</td>\n      <td>NaN</td>\n      <td>NaN</td>\n      <td>NaN</td>\n      <td>...</td>\n      <td>NaN</td>\n      <td>NaN</td>\n      <td>NaN</td>\n      <td>NaN</td>\n      <td>NaN</td>\n      <td>NaN</td>\n      <td>NaN</td>\n      <td>NaN</td>\n      <td>NaN</td>\n      <td>NaN</td>\n    </tr>\n    <tr>\n      <th>00b5ba65365dad1d25811bf5e45fc983</th>\n      <td>NaN</td>\n      <td>NaN</td>\n      <td>NaN</td>\n      <td>NaN</td>\n      <td>NaN</td>\n      <td>NaN</td>\n      <td>NaN</td>\n      <td>NaN</td>\n      <td>NaN</td>\n      <td>NaN</td>\n      <td>...</td>\n      <td>NaN</td>\n      <td>NaN</td>\n      <td>NaN</td>\n      <td>NaN</td>\n      <td>NaN</td>\n      <td>NaN</td>\n      <td>NaN</td>\n      <td>NaN</td>\n      <td>NaN</td>\n      <td>NaN</td>\n    </tr>\n    <tr>\n      <th>00b72937dcd829c0d8ca72ec77cd073c</th>\n      <td>NaN</td>\n      <td>NaN</td>\n      <td>NaN</td>\n      <td>NaN</td>\n      <td>NaN</td>\n      <td>NaN</td>\n      <td>NaN</td>\n      <td>NaN</td>\n      <td>NaN</td>\n      <td>NaN</td>\n      <td>...</td>\n      <td>NaN</td>\n      <td>NaN</td>\n      <td>NaN</td>\n      <td>NaN</td>\n      <td>NaN</td>\n      <td>NaN</td>\n      <td>NaN</td>\n      <td>NaN</td>\n      <td>NaN</td>\n      <td>NaN</td>\n    </tr>\n    <tr>\n      <th>00ba737b18a7996f68cb8a99556bedd4</th>\n      <td>NaN</td>\n      <td>NaN</td>\n      <td>NaN</td>\n      <td>NaN</td>\n      <td>NaN</td>\n      <td>NaN</td>\n      <td>NaN</td>\n      <td>NaN</td>\n      <td>NaN</td>\n      <td>NaN</td>\n      <td>...</td>\n      <td>NaN</td>\n      <td>NaN</td>\n      <td>NaN</td>\n      <td>NaN</td>\n      <td>NaN</td>\n      <td>NaN</td>\n      <td>NaN</td>\n      <td>NaN</td>\n      <td>NaN</td>\n      <td>NaN</td>\n    </tr>\n    <tr>\n      <th>00bab5c446ba511117719c775a3f78e8</th>\n      <td>NaN</td>\n      <td>NaN</td>\n      <td>NaN</td>\n      <td>NaN</td>\n      <td>NaN</td>\n      <td>NaN</td>\n      <td>NaN</td>\n      <td>NaN</td>\n      <td>NaN</td>\n      <td>NaN</td>\n      <td>...</td>\n      <td>NaN</td>\n      <td>NaN</td>\n      <td>NaN</td>\n      <td>NaN</td>\n      <td>NaN</td>\n      <td>NaN</td>\n      <td>NaN</td>\n      <td>NaN</td>\n      <td>NaN</td>\n      <td>NaN</td>\n    </tr>\n    <tr>\n      <th>00bd194837f2ad36d45985a6205df78a</th>\n      <td>NaN</td>\n      <td>NaN</td>\n      <td>NaN</td>\n      <td>NaN</td>\n      <td>NaN</td>\n      <td>NaN</td>\n      <td>NaN</td>\n      <td>NaN</td>\n      <td>NaN</td>\n      <td>NaN</td>\n      <td>...</td>\n      <td>NaN</td>\n      <td>NaN</td>\n      <td>NaN</td>\n      <td>NaN</td>\n      <td>NaN</td>\n      <td>NaN</td>\n      <td>NaN</td>\n      <td>NaN</td>\n      <td>NaN</td>\n      <td>NaN</td>\n    </tr>\n    <tr>\n      <th>00c19498681c665889d1212be870e8df</th>\n      <td>NaN</td>\n      <td>NaN</td>\n      <td>NaN</td>\n      <td>NaN</td>\n      <td>NaN</td>\n      <td>NaN</td>\n      <td>NaN</td>\n      <td>NaN</td>\n      <td>NaN</td>\n      <td>NaN</td>\n      <td>...</td>\n      <td>NaN</td>\n      <td>NaN</td>\n      <td>NaN</td>\n      <td>NaN</td>\n      <td>NaN</td>\n      <td>NaN</td>\n      <td>NaN</td>\n      <td>NaN</td>\n      <td>NaN</td>\n      <td>NaN</td>\n    </tr>\n    <tr>\n      <th>00c31de6420048cb3f668c99153debf7</th>\n      <td>NaN</td>\n      <td>NaN</td>\n      <td>NaN</td>\n      <td>NaN</td>\n      <td>NaN</td>\n      <td>NaN</td>\n      <td>NaN</td>\n      <td>NaN</td>\n      <td>NaN</td>\n      <td>NaN</td>\n      <td>...</td>\n      <td>NaN</td>\n      <td>NaN</td>\n      <td>NaN</td>\n      <td>NaN</td>\n      <td>NaN</td>\n      <td>NaN</td>\n      <td>NaN</td>\n      <td>NaN</td>\n      <td>NaN</td>\n      <td>NaN</td>\n    </tr>\n    <tr>\n      <th>00d7812c158831a996a6b3f4698643b5</th>\n      <td>NaN</td>\n      <td>NaN</td>\n      <td>NaN</td>\n      <td>NaN</td>\n      <td>NaN</td>\n      <td>NaN</td>\n      <td>NaN</td>\n      <td>NaN</td>\n      <td>NaN</td>\n      <td>NaN</td>\n      <td>...</td>\n      <td>NaN</td>\n      <td>NaN</td>\n      <td>NaN</td>\n      <td>NaN</td>\n      <td>NaN</td>\n      <td>NaN</td>\n      <td>NaN</td>\n      <td>NaN</td>\n      <td>NaN</td>\n      <td>NaN</td>\n    </tr>\n    <tr>\n      <th>00d890d6e36244f39e22a9fb95e68756</th>\n      <td>NaN</td>\n      <td>NaN</td>\n      <td>NaN</td>\n      <td>NaN</td>\n      <td>NaN</td>\n      <td>NaN</td>\n      <td>NaN</td>\n      <td>NaN</td>\n      <td>NaN</td>\n      <td>NaN</td>\n      <td>...</td>\n      <td>NaN</td>\n      <td>NaN</td>\n      <td>NaN</td>\n      <td>NaN</td>\n      <td>NaN</td>\n      <td>NaN</td>\n      <td>NaN</td>\n      <td>NaN</td>\n      <td>NaN</td>\n      <td>NaN</td>\n    </tr>\n    <tr>\n      <th>00d8a60ad2500432d9edd109cfddfd9e</th>\n      <td>NaN</td>\n      <td>NaN</td>\n      <td>NaN</td>\n      <td>NaN</td>\n      <td>NaN</td>\n      <td>NaN</td>\n      <td>NaN</td>\n      <td>NaN</td>\n      <td>NaN</td>\n      <td>NaN</td>\n      <td>...</td>\n      <td>NaN</td>\n      <td>NaN</td>\n      <td>NaN</td>\n      <td>NaN</td>\n      <td>NaN</td>\n      <td>NaN</td>\n      <td>NaN</td>\n      <td>NaN</td>\n      <td>NaN</td>\n      <td>NaN</td>\n    </tr>\n    <tr>\n      <th>...</th>\n      <td>...</td>\n      <td>...</td>\n      <td>...</td>\n      <td>...</td>\n      <td>...</td>\n      <td>...</td>\n      <td>...</td>\n      <td>...</td>\n      <td>...</td>\n      <td>...</td>\n      <td>...</td>\n      <td>...</td>\n      <td>...</td>\n      <td>...</td>\n      <td>...</td>\n      <td>...</td>\n      <td>...</td>\n      <td>...</td>\n      <td>...</td>\n      <td>...</td>\n      <td>...</td>\n    </tr>\n    <tr>\n      <th>ff1595b176859956405b859adb938cb0</th>\n      <td>NaN</td>\n      <td>NaN</td>\n      <td>NaN</td>\n      <td>NaN</td>\n      <td>NaN</td>\n      <td>NaN</td>\n      <td>NaN</td>\n      <td>NaN</td>\n      <td>NaN</td>\n      <td>NaN</td>\n      <td>...</td>\n      <td>NaN</td>\n      <td>NaN</td>\n      <td>NaN</td>\n      <td>NaN</td>\n      <td>NaN</td>\n      <td>NaN</td>\n      <td>NaN</td>\n      <td>NaN</td>\n      <td>NaN</td>\n      <td>NaN</td>\n    </tr>\n    <tr>\n      <th>ff2521c4012e1a212bbd12c9ed5acc48</th>\n      <td>NaN</td>\n      <td>NaN</td>\n      <td>NaN</td>\n      <td>NaN</td>\n      <td>NaN</td>\n      <td>NaN</td>\n      <td>NaN</td>\n      <td>NaN</td>\n      <td>NaN</td>\n      <td>NaN</td>\n      <td>...</td>\n      <td>NaN</td>\n      <td>NaN</td>\n      <td>NaN</td>\n      <td>NaN</td>\n      <td>NaN</td>\n      <td>NaN</td>\n      <td>NaN</td>\n      <td>NaN</td>\n      <td>NaN</td>\n      <td>NaN</td>\n    </tr>\n    <tr>\n      <th>ff2ac5ec37484dd6da5b68adbf162bc5</th>\n      <td>NaN</td>\n      <td>NaN</td>\n      <td>NaN</td>\n      <td>NaN</td>\n      <td>NaN</td>\n      <td>NaN</td>\n      <td>NaN</td>\n      <td>NaN</td>\n      <td>NaN</td>\n      <td>NaN</td>\n      <td>...</td>\n      <td>NaN</td>\n      <td>NaN</td>\n      <td>NaN</td>\n      <td>NaN</td>\n      <td>NaN</td>\n      <td>NaN</td>\n      <td>NaN</td>\n      <td>NaN</td>\n      <td>NaN</td>\n      <td>NaN</td>\n    </tr>\n    <tr>\n      <th>ff2aeaf91fcca5d94c48812a08969300</th>\n      <td>NaN</td>\n      <td>NaN</td>\n      <td>NaN</td>\n      <td>NaN</td>\n      <td>NaN</td>\n      <td>NaN</td>\n      <td>NaN</td>\n      <td>NaN</td>\n      <td>NaN</td>\n      <td>NaN</td>\n      <td>...</td>\n      <td>NaN</td>\n      <td>NaN</td>\n      <td>NaN</td>\n      <td>NaN</td>\n      <td>NaN</td>\n      <td>NaN</td>\n      <td>NaN</td>\n      <td>NaN</td>\n      <td>NaN</td>\n      <td>NaN</td>\n    </tr>\n    <tr>\n      <th>ff36fa1d315d885d3c5171ea09996142</th>\n      <td>NaN</td>\n      <td>NaN</td>\n      <td>NaN</td>\n      <td>NaN</td>\n      <td>NaN</td>\n      <td>NaN</td>\n      <td>NaN</td>\n      <td>NaN</td>\n      <td>NaN</td>\n      <td>NaN</td>\n      <td>...</td>\n      <td>NaN</td>\n      <td>NaN</td>\n      <td>NaN</td>\n      <td>NaN</td>\n      <td>NaN</td>\n      <td>NaN</td>\n      <td>NaN</td>\n      <td>NaN</td>\n      <td>NaN</td>\n      <td>NaN</td>\n    </tr>\n    <tr>\n      <th>ff49569c47039afb2424f276d9071368</th>\n      <td>NaN</td>\n      <td>NaN</td>\n      <td>NaN</td>\n      <td>NaN</td>\n      <td>NaN</td>\n      <td>NaN</td>\n      <td>NaN</td>\n      <td>NaN</td>\n      <td>NaN</td>\n      <td>NaN</td>\n      <td>...</td>\n      <td>NaN</td>\n      <td>NaN</td>\n      <td>NaN</td>\n      <td>NaN</td>\n      <td>NaN</td>\n      <td>NaN</td>\n      <td>NaN</td>\n      <td>NaN</td>\n      <td>NaN</td>\n      <td>NaN</td>\n    </tr>\n    <tr>\n      <th>ff5017601705e932d5545e0eb337cd0b</th>\n      <td>NaN</td>\n      <td>NaN</td>\n      <td>NaN</td>\n      <td>NaN</td>\n      <td>NaN</td>\n      <td>NaN</td>\n      <td>NaN</td>\n      <td>NaN</td>\n      <td>NaN</td>\n      <td>NaN</td>\n      <td>...</td>\n      <td>NaN</td>\n      <td>NaN</td>\n      <td>NaN</td>\n      <td>NaN</td>\n      <td>NaN</td>\n      <td>NaN</td>\n      <td>NaN</td>\n      <td>NaN</td>\n      <td>NaN</td>\n      <td>NaN</td>\n    </tr>\n    <tr>\n      <th>ff53f01e01b4920e90f47e742878cd19</th>\n      <td>NaN</td>\n      <td>NaN</td>\n      <td>NaN</td>\n      <td>NaN</td>\n      <td>NaN</td>\n      <td>NaN</td>\n      <td>NaN</td>\n      <td>NaN</td>\n      <td>NaN</td>\n      <td>NaN</td>\n      <td>...</td>\n      <td>NaN</td>\n      <td>NaN</td>\n      <td>NaN</td>\n      <td>NaN</td>\n      <td>NaN</td>\n      <td>NaN</td>\n      <td>NaN</td>\n      <td>NaN</td>\n      <td>NaN</td>\n      <td>NaN</td>\n    </tr>\n    <tr>\n      <th>ff60ab8b394052bf2dae9fc5dba4c70e</th>\n      <td>NaN</td>\n      <td>NaN</td>\n      <td>NaN</td>\n      <td>NaN</td>\n      <td>NaN</td>\n      <td>NaN</td>\n      <td>NaN</td>\n      <td>NaN</td>\n      <td>NaN</td>\n      <td>NaN</td>\n      <td>...</td>\n      <td>NaN</td>\n      <td>NaN</td>\n      <td>NaN</td>\n      <td>NaN</td>\n      <td>NaN</td>\n      <td>NaN</td>\n      <td>NaN</td>\n      <td>NaN</td>\n      <td>NaN</td>\n      <td>NaN</td>\n    </tr>\n    <tr>\n      <th>ff68ad2883e793597f1c343dd6505f5d</th>\n      <td>NaN</td>\n      <td>NaN</td>\n      <td>NaN</td>\n      <td>NaN</td>\n      <td>NaN</td>\n      <td>NaN</td>\n      <td>NaN</td>\n      <td>NaN</td>\n      <td>NaN</td>\n      <td>NaN</td>\n      <td>...</td>\n      <td>NaN</td>\n      <td>NaN</td>\n      <td>NaN</td>\n      <td>NaN</td>\n      <td>NaN</td>\n      <td>NaN</td>\n      <td>NaN</td>\n      <td>NaN</td>\n      <td>NaN</td>\n      <td>NaN</td>\n    </tr>\n    <tr>\n      <th>ff69760e24ee8cd6a88ff1e0110f0701</th>\n      <td>NaN</td>\n      <td>NaN</td>\n      <td>NaN</td>\n      <td>NaN</td>\n      <td>NaN</td>\n      <td>NaN</td>\n      <td>NaN</td>\n      <td>NaN</td>\n      <td>NaN</td>\n      <td>NaN</td>\n      <td>...</td>\n      <td>NaN</td>\n      <td>NaN</td>\n      <td>NaN</td>\n      <td>NaN</td>\n      <td>NaN</td>\n      <td>NaN</td>\n      <td>NaN</td>\n      <td>NaN</td>\n      <td>NaN</td>\n      <td>NaN</td>\n    </tr>\n    <tr>\n      <th>ff6c80eff6bc50a0c3b10abd65847a2a</th>\n      <td>NaN</td>\n      <td>NaN</td>\n      <td>NaN</td>\n      <td>NaN</td>\n      <td>NaN</td>\n      <td>NaN</td>\n      <td>NaN</td>\n      <td>NaN</td>\n      <td>NaN</td>\n      <td>NaN</td>\n      <td>...</td>\n      <td>NaN</td>\n      <td>NaN</td>\n      <td>NaN</td>\n      <td>NaN</td>\n      <td>NaN</td>\n      <td>NaN</td>\n      <td>NaN</td>\n      <td>NaN</td>\n      <td>NaN</td>\n      <td>NaN</td>\n    </tr>\n    <tr>\n      <th>ff6d4669ac6694f4ad278d23c4c7caa5</th>\n      <td>NaN</td>\n      <td>NaN</td>\n      <td>NaN</td>\n      <td>NaN</td>\n      <td>NaN</td>\n      <td>NaN</td>\n      <td>NaN</td>\n      <td>NaN</td>\n      <td>NaN</td>\n      <td>NaN</td>\n      <td>...</td>\n      <td>NaN</td>\n      <td>NaN</td>\n      <td>NaN</td>\n      <td>NaN</td>\n      <td>NaN</td>\n      <td>NaN</td>\n      <td>NaN</td>\n      <td>NaN</td>\n      <td>NaN</td>\n      <td>NaN</td>\n    </tr>\n    <tr>\n      <th>ff70aa1b53f643263ead50eed3166164</th>\n      <td>NaN</td>\n      <td>NaN</td>\n      <td>NaN</td>\n      <td>NaN</td>\n      <td>NaN</td>\n      <td>NaN</td>\n      <td>NaN</td>\n      <td>NaN</td>\n      <td>NaN</td>\n      <td>NaN</td>\n      <td>...</td>\n      <td>NaN</td>\n      <td>NaN</td>\n      <td>NaN</td>\n      <td>NaN</td>\n      <td>NaN</td>\n      <td>NaN</td>\n      <td>NaN</td>\n      <td>NaN</td>\n      <td>NaN</td>\n      <td>NaN</td>\n    </tr>\n    <tr>\n      <th>ff7e4c6d850a75c37a13d0bfcdee483e</th>\n      <td>NaN</td>\n      <td>NaN</td>\n      <td>NaN</td>\n      <td>NaN</td>\n      <td>NaN</td>\n      <td>NaN</td>\n      <td>NaN</td>\n      <td>NaN</td>\n      <td>NaN</td>\n      <td>NaN</td>\n      <td>...</td>\n      <td>NaN</td>\n      <td>NaN</td>\n      <td>NaN</td>\n      <td>NaN</td>\n      <td>NaN</td>\n      <td>NaN</td>\n      <td>NaN</td>\n      <td>NaN</td>\n      <td>NaN</td>\n      <td>NaN</td>\n    </tr>\n    <tr>\n      <th>ff7f36f6ba0f1126bb95b635322cf9d2</th>\n      <td>NaN</td>\n      <td>NaN</td>\n      <td>NaN</td>\n      <td>NaN</td>\n      <td>NaN</td>\n      <td>NaN</td>\n      <td>NaN</td>\n      <td>NaN</td>\n      <td>NaN</td>\n      <td>NaN</td>\n      <td>...</td>\n      <td>NaN</td>\n      <td>NaN</td>\n      <td>NaN</td>\n      <td>NaN</td>\n      <td>NaN</td>\n      <td>NaN</td>\n      <td>NaN</td>\n      <td>NaN</td>\n      <td>NaN</td>\n      <td>NaN</td>\n    </tr>\n    <tr>\n      <th>ff885973dca75f1361dd79cf033cf6fb</th>\n      <td>NaN</td>\n      <td>NaN</td>\n      <td>NaN</td>\n      <td>NaN</td>\n      <td>NaN</td>\n      <td>NaN</td>\n      <td>NaN</td>\n      <td>NaN</td>\n      <td>NaN</td>\n      <td>NaN</td>\n      <td>...</td>\n      <td>NaN</td>\n      <td>NaN</td>\n      <td>NaN</td>\n      <td>NaN</td>\n      <td>NaN</td>\n      <td>NaN</td>\n      <td>NaN</td>\n      <td>NaN</td>\n      <td>NaN</td>\n      <td>NaN</td>\n    </tr>\n    <tr>\n      <th>ff96fbbcff0db5c4442796b8ab8b474d</th>\n      <td>NaN</td>\n      <td>NaN</td>\n      <td>NaN</td>\n      <td>NaN</td>\n      <td>NaN</td>\n      <td>NaN</td>\n      <td>NaN</td>\n      <td>NaN</td>\n      <td>NaN</td>\n      <td>NaN</td>\n      <td>...</td>\n      <td>NaN</td>\n      <td>NaN</td>\n      <td>NaN</td>\n      <td>NaN</td>\n      <td>NaN</td>\n      <td>NaN</td>\n      <td>NaN</td>\n      <td>NaN</td>\n      <td>NaN</td>\n      <td>NaN</td>\n    </tr>\n    <tr>\n      <th>ff994a455350d9f24c79a7482b89dfe6</th>\n      <td>NaN</td>\n      <td>NaN</td>\n      <td>NaN</td>\n      <td>NaN</td>\n      <td>NaN</td>\n      <td>NaN</td>\n      <td>NaN</td>\n      <td>NaN</td>\n      <td>NaN</td>\n      <td>NaN</td>\n      <td>...</td>\n      <td>NaN</td>\n      <td>NaN</td>\n      <td>NaN</td>\n      <td>NaN</td>\n      <td>NaN</td>\n      <td>NaN</td>\n      <td>NaN</td>\n      <td>NaN</td>\n      <td>NaN</td>\n      <td>NaN</td>\n    </tr>\n    <tr>\n      <th>ff9d2f60401262b9da1e868f956fb2a8</th>\n      <td>NaN</td>\n      <td>NaN</td>\n      <td>NaN</td>\n      <td>NaN</td>\n      <td>NaN</td>\n      <td>NaN</td>\n      <td>NaN</td>\n      <td>NaN</td>\n      <td>NaN</td>\n      <td>NaN</td>\n      <td>...</td>\n      <td>NaN</td>\n      <td>NaN</td>\n      <td>NaN</td>\n      <td>NaN</td>\n      <td>NaN</td>\n      <td>NaN</td>\n      <td>NaN</td>\n      <td>NaN</td>\n      <td>NaN</td>\n      <td>NaN</td>\n    </tr>\n    <tr>\n      <th>ffa00504cf231ac90f01bf4e86f9782d</th>\n      <td>NaN</td>\n      <td>NaN</td>\n      <td>NaN</td>\n      <td>NaN</td>\n      <td>NaN</td>\n      <td>NaN</td>\n      <td>NaN</td>\n      <td>NaN</td>\n      <td>NaN</td>\n      <td>NaN</td>\n      <td>...</td>\n      <td>NaN</td>\n      <td>NaN</td>\n      <td>NaN</td>\n      <td>NaN</td>\n      <td>NaN</td>\n      <td>NaN</td>\n      <td>NaN</td>\n      <td>NaN</td>\n      <td>NaN</td>\n      <td>NaN</td>\n    </tr>\n    <tr>\n      <th>ffa8c46ffe06ca740ae232f5966c5a01</th>\n      <td>NaN</td>\n      <td>NaN</td>\n      <td>NaN</td>\n      <td>NaN</td>\n      <td>NaN</td>\n      <td>NaN</td>\n      <td>NaN</td>\n      <td>NaN</td>\n      <td>NaN</td>\n      <td>NaN</td>\n      <td>...</td>\n      <td>NaN</td>\n      <td>NaN</td>\n      <td>NaN</td>\n      <td>NaN</td>\n      <td>NaN</td>\n      <td>NaN</td>\n      <td>NaN</td>\n      <td>NaN</td>\n      <td>NaN</td>\n      <td>NaN</td>\n    </tr>\n    <tr>\n      <th>ffb7a3f4d1afe09714753add843d23b0</th>\n      <td>NaN</td>\n      <td>NaN</td>\n      <td>NaN</td>\n      <td>NaN</td>\n      <td>NaN</td>\n      <td>NaN</td>\n      <td>NaN</td>\n      <td>NaN</td>\n      <td>NaN</td>\n      <td>NaN</td>\n      <td>...</td>\n      <td>NaN</td>\n      <td>NaN</td>\n      <td>NaN</td>\n      <td>NaN</td>\n      <td>NaN</td>\n      <td>NaN</td>\n      <td>NaN</td>\n      <td>NaN</td>\n      <td>NaN</td>\n      <td>NaN</td>\n    </tr>\n    <tr>\n      <th>ffcb3eb07f2a033d45949fcecd160d98</th>\n      <td>NaN</td>\n      <td>NaN</td>\n      <td>NaN</td>\n      <td>NaN</td>\n      <td>NaN</td>\n      <td>NaN</td>\n      <td>NaN</td>\n      <td>NaN</td>\n      <td>NaN</td>\n      <td>NaN</td>\n      <td>...</td>\n      <td>NaN</td>\n      <td>NaN</td>\n      <td>NaN</td>\n      <td>NaN</td>\n      <td>NaN</td>\n      <td>NaN</td>\n      <td>NaN</td>\n      <td>NaN</td>\n      <td>NaN</td>\n      <td>NaN</td>\n    </tr>\n    <tr>\n      <th>ffcd4b43c08405501a6bf2c66be83e83</th>\n      <td>NaN</td>\n      <td>NaN</td>\n      <td>NaN</td>\n      <td>NaN</td>\n      <td>NaN</td>\n      <td>NaN</td>\n      <td>NaN</td>\n      <td>NaN</td>\n      <td>NaN</td>\n      <td>NaN</td>\n      <td>...</td>\n      <td>NaN</td>\n      <td>NaN</td>\n      <td>NaN</td>\n      <td>NaN</td>\n      <td>NaN</td>\n      <td>NaN</td>\n      <td>NaN</td>\n      <td>NaN</td>\n      <td>NaN</td>\n      <td>NaN</td>\n    </tr>\n    <tr>\n      <th>ffe96c782a5bc522bd8bad3bc638981a</th>\n      <td>NaN</td>\n      <td>NaN</td>\n      <td>NaN</td>\n      <td>NaN</td>\n      <td>NaN</td>\n      <td>NaN</td>\n      <td>NaN</td>\n      <td>NaN</td>\n      <td>NaN</td>\n      <td>NaN</td>\n      <td>...</td>\n      <td>NaN</td>\n      <td>NaN</td>\n      <td>NaN</td>\n      <td>NaN</td>\n      <td>NaN</td>\n      <td>NaN</td>\n      <td>NaN</td>\n      <td>NaN</td>\n      <td>NaN</td>\n      <td>NaN</td>\n    </tr>\n    <tr>\n      <th>ffe9e41fbd14db4a7361347c56af5447</th>\n      <td>NaN</td>\n      <td>NaN</td>\n      <td>NaN</td>\n      <td>NaN</td>\n      <td>NaN</td>\n      <td>NaN</td>\n      <td>NaN</td>\n      <td>NaN</td>\n      <td>NaN</td>\n      <td>NaN</td>\n      <td>...</td>\n      <td>NaN</td>\n      <td>NaN</td>\n      <td>NaN</td>\n      <td>NaN</td>\n      <td>NaN</td>\n      <td>NaN</td>\n      <td>NaN</td>\n      <td>NaN</td>\n      <td>NaN</td>\n      <td>NaN</td>\n    </tr>\n    <tr>\n      <th>ffec10ad4229ba46818560e1c8b40a68</th>\n      <td>NaN</td>\n      <td>NaN</td>\n      <td>NaN</td>\n      <td>NaN</td>\n      <td>NaN</td>\n      <td>NaN</td>\n      <td>NaN</td>\n      <td>NaN</td>\n      <td>NaN</td>\n      <td>NaN</td>\n      <td>...</td>\n      <td>NaN</td>\n      <td>NaN</td>\n      <td>NaN</td>\n      <td>NaN</td>\n      <td>NaN</td>\n      <td>NaN</td>\n      <td>NaN</td>\n      <td>NaN</td>\n      <td>NaN</td>\n      <td>NaN</td>\n    </tr>\n    <tr>\n      <th>ffec490ab531184a483efe2eedd68908</th>\n      <td>NaN</td>\n      <td>NaN</td>\n      <td>NaN</td>\n      <td>NaN</td>\n      <td>NaN</td>\n      <td>NaN</td>\n      <td>NaN</td>\n      <td>NaN</td>\n      <td>NaN</td>\n      <td>NaN</td>\n      <td>...</td>\n      <td>NaN</td>\n      <td>NaN</td>\n      <td>NaN</td>\n      <td>NaN</td>\n      <td>NaN</td>\n      <td>NaN</td>\n      <td>NaN</td>\n      <td>NaN</td>\n      <td>NaN</td>\n      <td>NaN</td>\n    </tr>\n    <tr>\n      <th>fffcc512b7dfecaffd80f13614af1d16</th>\n      <td>NaN</td>\n      <td>NaN</td>\n      <td>NaN</td>\n      <td>NaN</td>\n      <td>NaN</td>\n      <td>NaN</td>\n      <td>NaN</td>\n      <td>NaN</td>\n      <td>NaN</td>\n      <td>NaN</td>\n      <td>...</td>\n      <td>NaN</td>\n      <td>NaN</td>\n      <td>NaN</td>\n      <td>NaN</td>\n      <td>NaN</td>\n      <td>NaN</td>\n      <td>NaN</td>\n      <td>NaN</td>\n      <td>NaN</td>\n      <td>NaN</td>\n    </tr>\n  </tbody>\n</table>\n<p>8775 rows × 6088 columns</p>\n</div>",
            "text/plain": "product_id                        0009406fd7479715e4bef61dd91f2462  \\\ncustomer_id                                                          \n0005ef4cd20d2893f0d9fbd94d3c0d97                               NaN   \n001ae5a1788703d64536c30362503e49                               NaN   \n0027324a96d26a2bc7d69262f83c8403                               NaN   \n003035f5ec76f2220098377482de93c9                               NaN   \n00324c9f4d710e7bac5c5ba679714430                               NaN   \n0036d365b138cc0ee06bed755bcb5044                               NaN   \n003ac9408252444b489b1bfc013f5f8c                               NaN   \n003c457932a554e4df13834237b1ed00                               NaN   \n004288347e5e88a27ded2bb23747066c                               NaN   \n0043d65f8039b4a4d43bc7b0f450ac2c                               NaN   \n00504b68faa074d0f40adcb4f7727f71                               NaN   \n005ee3e015ec18092d7782e507cf68fe                               NaN   \n006ab6f5e82340e927757563a9fbe7e4                               NaN   \n006ec5b170182812131c7d9b219c036f                               NaN   \n007ba48697b079e78f168b051462dd1b                               NaN   \n0083e758383b3deb6c6dac1b0b431ac0                               NaN   \n0087c31081ea8d160baa06bf4ad4d76f                               NaN   \n009210a1646725341917560a13f7799f                               NaN   \n009e70fcdd4ea3769c73210414e73c64                               NaN   \n00b1066a65657ee1759544f6b61a4e2c                               NaN   \n00b5ba65365dad1d25811bf5e45fc983                               NaN   \n00b72937dcd829c0d8ca72ec77cd073c                               NaN   \n00ba737b18a7996f68cb8a99556bedd4                               NaN   \n00bab5c446ba511117719c775a3f78e8                               NaN   \n00bd194837f2ad36d45985a6205df78a                               NaN   \n00c19498681c665889d1212be870e8df                               NaN   \n00c31de6420048cb3f668c99153debf7                               NaN   \n00d7812c158831a996a6b3f4698643b5                               NaN   \n00d890d6e36244f39e22a9fb95e68756                               NaN   \n00d8a60ad2500432d9edd109cfddfd9e                               NaN   \n...                                                            ...   \nff1595b176859956405b859adb938cb0                               NaN   \nff2521c4012e1a212bbd12c9ed5acc48                               NaN   \nff2ac5ec37484dd6da5b68adbf162bc5                               NaN   \nff2aeaf91fcca5d94c48812a08969300                               NaN   \nff36fa1d315d885d3c5171ea09996142                               NaN   \nff49569c47039afb2424f276d9071368                               NaN   \nff5017601705e932d5545e0eb337cd0b                               NaN   \nff53f01e01b4920e90f47e742878cd19                               NaN   \nff60ab8b394052bf2dae9fc5dba4c70e                               NaN   \nff68ad2883e793597f1c343dd6505f5d                               NaN   \nff69760e24ee8cd6a88ff1e0110f0701                               NaN   \nff6c80eff6bc50a0c3b10abd65847a2a                               NaN   \nff6d4669ac6694f4ad278d23c4c7caa5                               NaN   \nff70aa1b53f643263ead50eed3166164                               NaN   \nff7e4c6d850a75c37a13d0bfcdee483e                               NaN   \nff7f36f6ba0f1126bb95b635322cf9d2                               NaN   \nff885973dca75f1361dd79cf033cf6fb                               NaN   \nff96fbbcff0db5c4442796b8ab8b474d                               NaN   \nff994a455350d9f24c79a7482b89dfe6                               NaN   \nff9d2f60401262b9da1e868f956fb2a8                               NaN   \nffa00504cf231ac90f01bf4e86f9782d                               NaN   \nffa8c46ffe06ca740ae232f5966c5a01                               NaN   \nffb7a3f4d1afe09714753add843d23b0                               NaN   \nffcb3eb07f2a033d45949fcecd160d98                               NaN   \nffcd4b43c08405501a6bf2c66be83e83                               NaN   \nffe96c782a5bc522bd8bad3bc638981a                               NaN   \nffe9e41fbd14db4a7361347c56af5447                               NaN   \nffec10ad4229ba46818560e1c8b40a68                               NaN   \nffec490ab531184a483efe2eedd68908                               NaN   \nfffcc512b7dfecaffd80f13614af1d16                               NaN   \n\nproduct_id                        001b72dfd63e9833e8c02742adf472e3  \\\ncustomer_id                                                          \n0005ef4cd20d2893f0d9fbd94d3c0d97                               NaN   \n001ae5a1788703d64536c30362503e49                               NaN   \n0027324a96d26a2bc7d69262f83c8403                               NaN   \n003035f5ec76f2220098377482de93c9                               NaN   \n00324c9f4d710e7bac5c5ba679714430                               NaN   \n0036d365b138cc0ee06bed755bcb5044                               NaN   \n003ac9408252444b489b1bfc013f5f8c                               NaN   \n003c457932a554e4df13834237b1ed00                               NaN   \n004288347e5e88a27ded2bb23747066c                               NaN   \n0043d65f8039b4a4d43bc7b0f450ac2c                               NaN   \n00504b68faa074d0f40adcb4f7727f71                               NaN   \n005ee3e015ec18092d7782e507cf68fe                               NaN   \n006ab6f5e82340e927757563a9fbe7e4                               NaN   \n006ec5b170182812131c7d9b219c036f                               NaN   \n007ba48697b079e78f168b051462dd1b                               NaN   \n0083e758383b3deb6c6dac1b0b431ac0                               NaN   \n0087c31081ea8d160baa06bf4ad4d76f                               NaN   \n009210a1646725341917560a13f7799f                               NaN   \n009e70fcdd4ea3769c73210414e73c64                               NaN   \n00b1066a65657ee1759544f6b61a4e2c                               NaN   \n00b5ba65365dad1d25811bf5e45fc983                               NaN   \n00b72937dcd829c0d8ca72ec77cd073c                               NaN   \n00ba737b18a7996f68cb8a99556bedd4                               NaN   \n00bab5c446ba511117719c775a3f78e8                               NaN   \n00bd194837f2ad36d45985a6205df78a                               NaN   \n00c19498681c665889d1212be870e8df                               NaN   \n00c31de6420048cb3f668c99153debf7                               NaN   \n00d7812c158831a996a6b3f4698643b5                               NaN   \n00d890d6e36244f39e22a9fb95e68756                               NaN   \n00d8a60ad2500432d9edd109cfddfd9e                               NaN   \n...                                                            ...   \nff1595b176859956405b859adb938cb0                               NaN   \nff2521c4012e1a212bbd12c9ed5acc48                               NaN   \nff2ac5ec37484dd6da5b68adbf162bc5                               NaN   \nff2aeaf91fcca5d94c48812a08969300                               NaN   \nff36fa1d315d885d3c5171ea09996142                               NaN   \nff49569c47039afb2424f276d9071368                               NaN   \nff5017601705e932d5545e0eb337cd0b                               NaN   \nff53f01e01b4920e90f47e742878cd19                               NaN   \nff60ab8b394052bf2dae9fc5dba4c70e                               NaN   \nff68ad2883e793597f1c343dd6505f5d                               NaN   \nff69760e24ee8cd6a88ff1e0110f0701                               NaN   \nff6c80eff6bc50a0c3b10abd65847a2a                               NaN   \nff6d4669ac6694f4ad278d23c4c7caa5                               NaN   \nff70aa1b53f643263ead50eed3166164                               NaN   \nff7e4c6d850a75c37a13d0bfcdee483e                               NaN   \nff7f36f6ba0f1126bb95b635322cf9d2                               NaN   \nff885973dca75f1361dd79cf033cf6fb                               NaN   \nff96fbbcff0db5c4442796b8ab8b474d                               NaN   \nff994a455350d9f24c79a7482b89dfe6                               NaN   \nff9d2f60401262b9da1e868f956fb2a8                               NaN   \nffa00504cf231ac90f01bf4e86f9782d                               NaN   \nffa8c46ffe06ca740ae232f5966c5a01                               NaN   \nffb7a3f4d1afe09714753add843d23b0                               NaN   \nffcb3eb07f2a033d45949fcecd160d98                               NaN   \nffcd4b43c08405501a6bf2c66be83e83                               NaN   \nffe96c782a5bc522bd8bad3bc638981a                               NaN   \nffe9e41fbd14db4a7361347c56af5447                               NaN   \nffec10ad4229ba46818560e1c8b40a68                               NaN   \nffec490ab531184a483efe2eedd68908                               NaN   \nfffcc512b7dfecaffd80f13614af1d16                               NaN   \n\nproduct_id                        002c6dab60557c48cfd6c2222ef7fd76  \\\ncustomer_id                                                          \n0005ef4cd20d2893f0d9fbd94d3c0d97                               NaN   \n001ae5a1788703d64536c30362503e49                               NaN   \n0027324a96d26a2bc7d69262f83c8403                               NaN   \n003035f5ec76f2220098377482de93c9                               NaN   \n00324c9f4d710e7bac5c5ba679714430                               NaN   \n0036d365b138cc0ee06bed755bcb5044                               NaN   \n003ac9408252444b489b1bfc013f5f8c                               NaN   \n003c457932a554e4df13834237b1ed00                               NaN   \n004288347e5e88a27ded2bb23747066c                               NaN   \n0043d65f8039b4a4d43bc7b0f450ac2c                               NaN   \n00504b68faa074d0f40adcb4f7727f71                               NaN   \n005ee3e015ec18092d7782e507cf68fe                               NaN   \n006ab6f5e82340e927757563a9fbe7e4                               NaN   \n006ec5b170182812131c7d9b219c036f                               NaN   \n007ba48697b079e78f168b051462dd1b                               NaN   \n0083e758383b3deb6c6dac1b0b431ac0                               NaN   \n0087c31081ea8d160baa06bf4ad4d76f                               NaN   \n009210a1646725341917560a13f7799f                               NaN   \n009e70fcdd4ea3769c73210414e73c64                               NaN   \n00b1066a65657ee1759544f6b61a4e2c                               NaN   \n00b5ba65365dad1d25811bf5e45fc983                               NaN   \n00b72937dcd829c0d8ca72ec77cd073c                               NaN   \n00ba737b18a7996f68cb8a99556bedd4                               NaN   \n00bab5c446ba511117719c775a3f78e8                               NaN   \n00bd194837f2ad36d45985a6205df78a                               NaN   \n00c19498681c665889d1212be870e8df                               NaN   \n00c31de6420048cb3f668c99153debf7                               NaN   \n00d7812c158831a996a6b3f4698643b5                               NaN   \n00d890d6e36244f39e22a9fb95e68756                               NaN   \n00d8a60ad2500432d9edd109cfddfd9e                               NaN   \n...                                                            ...   \nff1595b176859956405b859adb938cb0                               NaN   \nff2521c4012e1a212bbd12c9ed5acc48                               NaN   \nff2ac5ec37484dd6da5b68adbf162bc5                               NaN   \nff2aeaf91fcca5d94c48812a08969300                               NaN   \nff36fa1d315d885d3c5171ea09996142                               NaN   \nff49569c47039afb2424f276d9071368                               NaN   \nff5017601705e932d5545e0eb337cd0b                               NaN   \nff53f01e01b4920e90f47e742878cd19                               NaN   \nff60ab8b394052bf2dae9fc5dba4c70e                               NaN   \nff68ad2883e793597f1c343dd6505f5d                               NaN   \nff69760e24ee8cd6a88ff1e0110f0701                               NaN   \nff6c80eff6bc50a0c3b10abd65847a2a                               NaN   \nff6d4669ac6694f4ad278d23c4c7caa5                               NaN   \nff70aa1b53f643263ead50eed3166164                               NaN   \nff7e4c6d850a75c37a13d0bfcdee483e                               NaN   \nff7f36f6ba0f1126bb95b635322cf9d2                               NaN   \nff885973dca75f1361dd79cf033cf6fb                               NaN   \nff96fbbcff0db5c4442796b8ab8b474d                               NaN   \nff994a455350d9f24c79a7482b89dfe6                               NaN   \nff9d2f60401262b9da1e868f956fb2a8                               NaN   \nffa00504cf231ac90f01bf4e86f9782d                               NaN   \nffa8c46ffe06ca740ae232f5966c5a01                               NaN   \nffb7a3f4d1afe09714753add843d23b0                               NaN   \nffcb3eb07f2a033d45949fcecd160d98                               NaN   \nffcd4b43c08405501a6bf2c66be83e83                               NaN   \nffe96c782a5bc522bd8bad3bc638981a                               NaN   \nffe9e41fbd14db4a7361347c56af5447                               NaN   \nffec10ad4229ba46818560e1c8b40a68                               NaN   \nffec490ab531184a483efe2eedd68908                               NaN   \nfffcc512b7dfecaffd80f13614af1d16                               NaN   \n\nproduct_id                        0030e635639c898b323826589761cf23  \\\ncustomer_id                                                          \n0005ef4cd20d2893f0d9fbd94d3c0d97                               NaN   \n001ae5a1788703d64536c30362503e49                               NaN   \n0027324a96d26a2bc7d69262f83c8403                               NaN   \n003035f5ec76f2220098377482de93c9                               NaN   \n00324c9f4d710e7bac5c5ba679714430                               NaN   \n0036d365b138cc0ee06bed755bcb5044                               NaN   \n003ac9408252444b489b1bfc013f5f8c                               NaN   \n003c457932a554e4df13834237b1ed00                               NaN   \n004288347e5e88a27ded2bb23747066c                               NaN   \n0043d65f8039b4a4d43bc7b0f450ac2c                               NaN   \n00504b68faa074d0f40adcb4f7727f71                               NaN   \n005ee3e015ec18092d7782e507cf68fe                               NaN   \n006ab6f5e82340e927757563a9fbe7e4                               NaN   \n006ec5b170182812131c7d9b219c036f                               NaN   \n007ba48697b079e78f168b051462dd1b                               NaN   \n0083e758383b3deb6c6dac1b0b431ac0                               NaN   \n0087c31081ea8d160baa06bf4ad4d76f                               NaN   \n009210a1646725341917560a13f7799f                               NaN   \n009e70fcdd4ea3769c73210414e73c64                               NaN   \n00b1066a65657ee1759544f6b61a4e2c                               NaN   \n00b5ba65365dad1d25811bf5e45fc983                               NaN   \n00b72937dcd829c0d8ca72ec77cd073c                               NaN   \n00ba737b18a7996f68cb8a99556bedd4                               NaN   \n00bab5c446ba511117719c775a3f78e8                               NaN   \n00bd194837f2ad36d45985a6205df78a                               NaN   \n00c19498681c665889d1212be870e8df                               NaN   \n00c31de6420048cb3f668c99153debf7                               NaN   \n00d7812c158831a996a6b3f4698643b5                               NaN   \n00d890d6e36244f39e22a9fb95e68756                               NaN   \n00d8a60ad2500432d9edd109cfddfd9e                               NaN   \n...                                                            ...   \nff1595b176859956405b859adb938cb0                               NaN   \nff2521c4012e1a212bbd12c9ed5acc48                               NaN   \nff2ac5ec37484dd6da5b68adbf162bc5                               NaN   \nff2aeaf91fcca5d94c48812a08969300                               NaN   \nff36fa1d315d885d3c5171ea09996142                               NaN   \nff49569c47039afb2424f276d9071368                               NaN   \nff5017601705e932d5545e0eb337cd0b                               NaN   \nff53f01e01b4920e90f47e742878cd19                               NaN   \nff60ab8b394052bf2dae9fc5dba4c70e                               NaN   \nff68ad2883e793597f1c343dd6505f5d                               NaN   \nff69760e24ee8cd6a88ff1e0110f0701                               NaN   \nff6c80eff6bc50a0c3b10abd65847a2a                               NaN   \nff6d4669ac6694f4ad278d23c4c7caa5                               NaN   \nff70aa1b53f643263ead50eed3166164                               NaN   \nff7e4c6d850a75c37a13d0bfcdee483e                               NaN   \nff7f36f6ba0f1126bb95b635322cf9d2                               NaN   \nff885973dca75f1361dd79cf033cf6fb                               NaN   \nff96fbbcff0db5c4442796b8ab8b474d                               NaN   \nff994a455350d9f24c79a7482b89dfe6                               NaN   \nff9d2f60401262b9da1e868f956fb2a8                               NaN   \nffa00504cf231ac90f01bf4e86f9782d                               NaN   \nffa8c46ffe06ca740ae232f5966c5a01                               NaN   \nffb7a3f4d1afe09714753add843d23b0                               NaN   \nffcb3eb07f2a033d45949fcecd160d98                               NaN   \nffcd4b43c08405501a6bf2c66be83e83                               NaN   \nffe96c782a5bc522bd8bad3bc638981a                               NaN   \nffe9e41fbd14db4a7361347c56af5447                               NaN   \nffec10ad4229ba46818560e1c8b40a68                               NaN   \nffec490ab531184a483efe2eedd68908                               NaN   \nfffcc512b7dfecaffd80f13614af1d16                               NaN   \n\nproduct_id                        004636c889c7c3dad6631f136b7fa082  \\\ncustomer_id                                                          \n0005ef4cd20d2893f0d9fbd94d3c0d97                               NaN   \n001ae5a1788703d64536c30362503e49                               NaN   \n0027324a96d26a2bc7d69262f83c8403                               NaN   \n003035f5ec76f2220098377482de93c9                               NaN   \n00324c9f4d710e7bac5c5ba679714430                               NaN   \n0036d365b138cc0ee06bed755bcb5044                               NaN   \n003ac9408252444b489b1bfc013f5f8c                               NaN   \n003c457932a554e4df13834237b1ed00                               NaN   \n004288347e5e88a27ded2bb23747066c                               NaN   \n0043d65f8039b4a4d43bc7b0f450ac2c                               NaN   \n00504b68faa074d0f40adcb4f7727f71                               NaN   \n005ee3e015ec18092d7782e507cf68fe                               NaN   \n006ab6f5e82340e927757563a9fbe7e4                               NaN   \n006ec5b170182812131c7d9b219c036f                               NaN   \n007ba48697b079e78f168b051462dd1b                               NaN   \n0083e758383b3deb6c6dac1b0b431ac0                               NaN   \n0087c31081ea8d160baa06bf4ad4d76f                               NaN   \n009210a1646725341917560a13f7799f                               NaN   \n009e70fcdd4ea3769c73210414e73c64                               NaN   \n00b1066a65657ee1759544f6b61a4e2c                               NaN   \n00b5ba65365dad1d25811bf5e45fc983                               NaN   \n00b72937dcd829c0d8ca72ec77cd073c                               NaN   \n00ba737b18a7996f68cb8a99556bedd4                               NaN   \n00bab5c446ba511117719c775a3f78e8                               NaN   \n00bd194837f2ad36d45985a6205df78a                               NaN   \n00c19498681c665889d1212be870e8df                               NaN   \n00c31de6420048cb3f668c99153debf7                               NaN   \n00d7812c158831a996a6b3f4698643b5                               NaN   \n00d890d6e36244f39e22a9fb95e68756                               NaN   \n00d8a60ad2500432d9edd109cfddfd9e                               NaN   \n...                                                            ...   \nff1595b176859956405b859adb938cb0                               NaN   \nff2521c4012e1a212bbd12c9ed5acc48                               NaN   \nff2ac5ec37484dd6da5b68adbf162bc5                               NaN   \nff2aeaf91fcca5d94c48812a08969300                               NaN   \nff36fa1d315d885d3c5171ea09996142                               NaN   \nff49569c47039afb2424f276d9071368                               NaN   \nff5017601705e932d5545e0eb337cd0b                               NaN   \nff53f01e01b4920e90f47e742878cd19                               NaN   \nff60ab8b394052bf2dae9fc5dba4c70e                               NaN   \nff68ad2883e793597f1c343dd6505f5d                               NaN   \nff69760e24ee8cd6a88ff1e0110f0701                               NaN   \nff6c80eff6bc50a0c3b10abd65847a2a                               NaN   \nff6d4669ac6694f4ad278d23c4c7caa5                               NaN   \nff70aa1b53f643263ead50eed3166164                               NaN   \nff7e4c6d850a75c37a13d0bfcdee483e                               NaN   \nff7f36f6ba0f1126bb95b635322cf9d2                               NaN   \nff885973dca75f1361dd79cf033cf6fb                               NaN   \nff96fbbcff0db5c4442796b8ab8b474d                               NaN   \nff994a455350d9f24c79a7482b89dfe6                               NaN   \nff9d2f60401262b9da1e868f956fb2a8                               NaN   \nffa00504cf231ac90f01bf4e86f9782d                               NaN   \nffa8c46ffe06ca740ae232f5966c5a01                               NaN   \nffb7a3f4d1afe09714753add843d23b0                               NaN   \nffcb3eb07f2a033d45949fcecd160d98                               NaN   \nffcd4b43c08405501a6bf2c66be83e83                               NaN   \nffe96c782a5bc522bd8bad3bc638981a                               NaN   \nffe9e41fbd14db4a7361347c56af5447                               NaN   \nffec10ad4229ba46818560e1c8b40a68                               NaN   \nffec490ab531184a483efe2eedd68908                               NaN   \nfffcc512b7dfecaffd80f13614af1d16                               NaN   \n\nproduct_id                        005030ef108f58b46b78116f754d8d38  \\\ncustomer_id                                                          \n0005ef4cd20d2893f0d9fbd94d3c0d97                               NaN   \n001ae5a1788703d64536c30362503e49                               NaN   \n0027324a96d26a2bc7d69262f83c8403                               NaN   \n003035f5ec76f2220098377482de93c9                               NaN   \n00324c9f4d710e7bac5c5ba679714430                               NaN   \n0036d365b138cc0ee06bed755bcb5044                               NaN   \n003ac9408252444b489b1bfc013f5f8c                               NaN   \n003c457932a554e4df13834237b1ed00                               NaN   \n004288347e5e88a27ded2bb23747066c                               NaN   \n0043d65f8039b4a4d43bc7b0f450ac2c                               NaN   \n00504b68faa074d0f40adcb4f7727f71                               NaN   \n005ee3e015ec18092d7782e507cf68fe                               NaN   \n006ab6f5e82340e927757563a9fbe7e4                               NaN   \n006ec5b170182812131c7d9b219c036f                               NaN   \n007ba48697b079e78f168b051462dd1b                               NaN   \n0083e758383b3deb6c6dac1b0b431ac0                               NaN   \n0087c31081ea8d160baa06bf4ad4d76f                               NaN   \n009210a1646725341917560a13f7799f                               NaN   \n009e70fcdd4ea3769c73210414e73c64                               NaN   \n00b1066a65657ee1759544f6b61a4e2c                               NaN   \n00b5ba65365dad1d25811bf5e45fc983                               NaN   \n00b72937dcd829c0d8ca72ec77cd073c                               NaN   \n00ba737b18a7996f68cb8a99556bedd4                               NaN   \n00bab5c446ba511117719c775a3f78e8                               NaN   \n00bd194837f2ad36d45985a6205df78a                               NaN   \n00c19498681c665889d1212be870e8df                               NaN   \n00c31de6420048cb3f668c99153debf7                               NaN   \n00d7812c158831a996a6b3f4698643b5                               NaN   \n00d890d6e36244f39e22a9fb95e68756                               NaN   \n00d8a60ad2500432d9edd109cfddfd9e                               NaN   \n...                                                            ...   \nff1595b176859956405b859adb938cb0                               NaN   \nff2521c4012e1a212bbd12c9ed5acc48                               NaN   \nff2ac5ec37484dd6da5b68adbf162bc5                               NaN   \nff2aeaf91fcca5d94c48812a08969300                               NaN   \nff36fa1d315d885d3c5171ea09996142                               NaN   \nff49569c47039afb2424f276d9071368                               NaN   \nff5017601705e932d5545e0eb337cd0b                               NaN   \nff53f01e01b4920e90f47e742878cd19                               NaN   \nff60ab8b394052bf2dae9fc5dba4c70e                               NaN   \nff68ad2883e793597f1c343dd6505f5d                               NaN   \nff69760e24ee8cd6a88ff1e0110f0701                               NaN   \nff6c80eff6bc50a0c3b10abd65847a2a                               NaN   \nff6d4669ac6694f4ad278d23c4c7caa5                               NaN   \nff70aa1b53f643263ead50eed3166164                               NaN   \nff7e4c6d850a75c37a13d0bfcdee483e                               NaN   \nff7f36f6ba0f1126bb95b635322cf9d2                               NaN   \nff885973dca75f1361dd79cf033cf6fb                               NaN   \nff96fbbcff0db5c4442796b8ab8b474d                               NaN   \nff994a455350d9f24c79a7482b89dfe6                               NaN   \nff9d2f60401262b9da1e868f956fb2a8                               NaN   \nffa00504cf231ac90f01bf4e86f9782d                               NaN   \nffa8c46ffe06ca740ae232f5966c5a01                               NaN   \nffb7a3f4d1afe09714753add843d23b0                               NaN   \nffcb3eb07f2a033d45949fcecd160d98                               NaN   \nffcd4b43c08405501a6bf2c66be83e83                               NaN   \nffe96c782a5bc522bd8bad3bc638981a                               NaN   \nffe9e41fbd14db4a7361347c56af5447                               NaN   \nffec10ad4229ba46818560e1c8b40a68                               NaN   \nffec490ab531184a483efe2eedd68908                               NaN   \nfffcc512b7dfecaffd80f13614af1d16                               NaN   \n\nproduct_id                        006baa9a5b8f95895f15273a35bc2664  \\\ncustomer_id                                                          \n0005ef4cd20d2893f0d9fbd94d3c0d97                               NaN   \n001ae5a1788703d64536c30362503e49                               NaN   \n0027324a96d26a2bc7d69262f83c8403                               NaN   \n003035f5ec76f2220098377482de93c9                               NaN   \n00324c9f4d710e7bac5c5ba679714430                               NaN   \n0036d365b138cc0ee06bed755bcb5044                               NaN   \n003ac9408252444b489b1bfc013f5f8c                               NaN   \n003c457932a554e4df13834237b1ed00                               NaN   \n004288347e5e88a27ded2bb23747066c                               NaN   \n0043d65f8039b4a4d43bc7b0f450ac2c                               NaN   \n00504b68faa074d0f40adcb4f7727f71                               NaN   \n005ee3e015ec18092d7782e507cf68fe                               NaN   \n006ab6f5e82340e927757563a9fbe7e4                               NaN   \n006ec5b170182812131c7d9b219c036f                               NaN   \n007ba48697b079e78f168b051462dd1b                               NaN   \n0083e758383b3deb6c6dac1b0b431ac0                               NaN   \n0087c31081ea8d160baa06bf4ad4d76f                               NaN   \n009210a1646725341917560a13f7799f                               NaN   \n009e70fcdd4ea3769c73210414e73c64                               NaN   \n00b1066a65657ee1759544f6b61a4e2c                               NaN   \n00b5ba65365dad1d25811bf5e45fc983                               NaN   \n00b72937dcd829c0d8ca72ec77cd073c                               NaN   \n00ba737b18a7996f68cb8a99556bedd4                               NaN   \n00bab5c446ba511117719c775a3f78e8                               NaN   \n00bd194837f2ad36d45985a6205df78a                               NaN   \n00c19498681c665889d1212be870e8df                               NaN   \n00c31de6420048cb3f668c99153debf7                               NaN   \n00d7812c158831a996a6b3f4698643b5                               NaN   \n00d890d6e36244f39e22a9fb95e68756                               NaN   \n00d8a60ad2500432d9edd109cfddfd9e                               NaN   \n...                                                            ...   \nff1595b176859956405b859adb938cb0                               NaN   \nff2521c4012e1a212bbd12c9ed5acc48                               NaN   \nff2ac5ec37484dd6da5b68adbf162bc5                               NaN   \nff2aeaf91fcca5d94c48812a08969300                               NaN   \nff36fa1d315d885d3c5171ea09996142                               NaN   \nff49569c47039afb2424f276d9071368                               NaN   \nff5017601705e932d5545e0eb337cd0b                               NaN   \nff53f01e01b4920e90f47e742878cd19                               NaN   \nff60ab8b394052bf2dae9fc5dba4c70e                               NaN   \nff68ad2883e793597f1c343dd6505f5d                               NaN   \nff69760e24ee8cd6a88ff1e0110f0701                               NaN   \nff6c80eff6bc50a0c3b10abd65847a2a                               NaN   \nff6d4669ac6694f4ad278d23c4c7caa5                               NaN   \nff70aa1b53f643263ead50eed3166164                               NaN   \nff7e4c6d850a75c37a13d0bfcdee483e                               NaN   \nff7f36f6ba0f1126bb95b635322cf9d2                               NaN   \nff885973dca75f1361dd79cf033cf6fb                               NaN   \nff96fbbcff0db5c4442796b8ab8b474d                               NaN   \nff994a455350d9f24c79a7482b89dfe6                               NaN   \nff9d2f60401262b9da1e868f956fb2a8                               NaN   \nffa00504cf231ac90f01bf4e86f9782d                               NaN   \nffa8c46ffe06ca740ae232f5966c5a01                               NaN   \nffb7a3f4d1afe09714753add843d23b0                               NaN   \nffcb3eb07f2a033d45949fcecd160d98                               NaN   \nffcd4b43c08405501a6bf2c66be83e83                               NaN   \nffe96c782a5bc522bd8bad3bc638981a                               NaN   \nffe9e41fbd14db4a7361347c56af5447                               NaN   \nffec10ad4229ba46818560e1c8b40a68                               NaN   \nffec490ab531184a483efe2eedd68908                               NaN   \nfffcc512b7dfecaffd80f13614af1d16                               NaN   \n\nproduct_id                        008cff0e5792219fae03e570f980b330  \\\ncustomer_id                                                          \n0005ef4cd20d2893f0d9fbd94d3c0d97                               NaN   \n001ae5a1788703d64536c30362503e49                               NaN   \n0027324a96d26a2bc7d69262f83c8403                               NaN   \n003035f5ec76f2220098377482de93c9                               NaN   \n00324c9f4d710e7bac5c5ba679714430                               NaN   \n0036d365b138cc0ee06bed755bcb5044                               NaN   \n003ac9408252444b489b1bfc013f5f8c                               NaN   \n003c457932a554e4df13834237b1ed00                               NaN   \n004288347e5e88a27ded2bb23747066c                               NaN   \n0043d65f8039b4a4d43bc7b0f450ac2c                               NaN   \n00504b68faa074d0f40adcb4f7727f71                               NaN   \n005ee3e015ec18092d7782e507cf68fe                               NaN   \n006ab6f5e82340e927757563a9fbe7e4                               NaN   \n006ec5b170182812131c7d9b219c036f                               NaN   \n007ba48697b079e78f168b051462dd1b                               NaN   \n0083e758383b3deb6c6dac1b0b431ac0                               NaN   \n0087c31081ea8d160baa06bf4ad4d76f                               NaN   \n009210a1646725341917560a13f7799f                               NaN   \n009e70fcdd4ea3769c73210414e73c64                               NaN   \n00b1066a65657ee1759544f6b61a4e2c                               NaN   \n00b5ba65365dad1d25811bf5e45fc983                               NaN   \n00b72937dcd829c0d8ca72ec77cd073c                               NaN   \n00ba737b18a7996f68cb8a99556bedd4                               NaN   \n00bab5c446ba511117719c775a3f78e8                               NaN   \n00bd194837f2ad36d45985a6205df78a                               NaN   \n00c19498681c665889d1212be870e8df                               NaN   \n00c31de6420048cb3f668c99153debf7                               NaN   \n00d7812c158831a996a6b3f4698643b5                               NaN   \n00d890d6e36244f39e22a9fb95e68756                               NaN   \n00d8a60ad2500432d9edd109cfddfd9e                               NaN   \n...                                                            ...   \nff1595b176859956405b859adb938cb0                               NaN   \nff2521c4012e1a212bbd12c9ed5acc48                               NaN   \nff2ac5ec37484dd6da5b68adbf162bc5                               NaN   \nff2aeaf91fcca5d94c48812a08969300                               NaN   \nff36fa1d315d885d3c5171ea09996142                               NaN   \nff49569c47039afb2424f276d9071368                               NaN   \nff5017601705e932d5545e0eb337cd0b                               NaN   \nff53f01e01b4920e90f47e742878cd19                               NaN   \nff60ab8b394052bf2dae9fc5dba4c70e                               NaN   \nff68ad2883e793597f1c343dd6505f5d                               NaN   \nff69760e24ee8cd6a88ff1e0110f0701                               NaN   \nff6c80eff6bc50a0c3b10abd65847a2a                               NaN   \nff6d4669ac6694f4ad278d23c4c7caa5                               NaN   \nff70aa1b53f643263ead50eed3166164                               NaN   \nff7e4c6d850a75c37a13d0bfcdee483e                               NaN   \nff7f36f6ba0f1126bb95b635322cf9d2                               NaN   \nff885973dca75f1361dd79cf033cf6fb                               NaN   \nff96fbbcff0db5c4442796b8ab8b474d                               NaN   \nff994a455350d9f24c79a7482b89dfe6                               NaN   \nff9d2f60401262b9da1e868f956fb2a8                               NaN   \nffa00504cf231ac90f01bf4e86f9782d                               NaN   \nffa8c46ffe06ca740ae232f5966c5a01                               NaN   \nffb7a3f4d1afe09714753add843d23b0                               NaN   \nffcb3eb07f2a033d45949fcecd160d98                               NaN   \nffcd4b43c08405501a6bf2c66be83e83                               NaN   \nffe96c782a5bc522bd8bad3bc638981a                               NaN   \nffe9e41fbd14db4a7361347c56af5447                               NaN   \nffec10ad4229ba46818560e1c8b40a68                               NaN   \nffec490ab531184a483efe2eedd68908                               NaN   \nfffcc512b7dfecaffd80f13614af1d16                               NaN   \n\nproduct_id                        00905d58c87afcbce21420b3712cacaa  \\\ncustomer_id                                                          \n0005ef4cd20d2893f0d9fbd94d3c0d97                               NaN   \n001ae5a1788703d64536c30362503e49                               NaN   \n0027324a96d26a2bc7d69262f83c8403                               NaN   \n003035f5ec76f2220098377482de93c9                               NaN   \n00324c9f4d710e7bac5c5ba679714430                               NaN   \n0036d365b138cc0ee06bed755bcb5044                               NaN   \n003ac9408252444b489b1bfc013f5f8c                               NaN   \n003c457932a554e4df13834237b1ed00                               NaN   \n004288347e5e88a27ded2bb23747066c                               NaN   \n0043d65f8039b4a4d43bc7b0f450ac2c                               NaN   \n00504b68faa074d0f40adcb4f7727f71                               NaN   \n005ee3e015ec18092d7782e507cf68fe                               NaN   \n006ab6f5e82340e927757563a9fbe7e4                               NaN   \n006ec5b170182812131c7d9b219c036f                               NaN   \n007ba48697b079e78f168b051462dd1b                               NaN   \n0083e758383b3deb6c6dac1b0b431ac0                               NaN   \n0087c31081ea8d160baa06bf4ad4d76f                               NaN   \n009210a1646725341917560a13f7799f                               NaN   \n009e70fcdd4ea3769c73210414e73c64                               NaN   \n00b1066a65657ee1759544f6b61a4e2c                               NaN   \n00b5ba65365dad1d25811bf5e45fc983                               NaN   \n00b72937dcd829c0d8ca72ec77cd073c                               NaN   \n00ba737b18a7996f68cb8a99556bedd4                               NaN   \n00bab5c446ba511117719c775a3f78e8                               NaN   \n00bd194837f2ad36d45985a6205df78a                               NaN   \n00c19498681c665889d1212be870e8df                               NaN   \n00c31de6420048cb3f668c99153debf7                               NaN   \n00d7812c158831a996a6b3f4698643b5                               NaN   \n00d890d6e36244f39e22a9fb95e68756                               NaN   \n00d8a60ad2500432d9edd109cfddfd9e                               NaN   \n...                                                            ...   \nff1595b176859956405b859adb938cb0                               NaN   \nff2521c4012e1a212bbd12c9ed5acc48                               NaN   \nff2ac5ec37484dd6da5b68adbf162bc5                               NaN   \nff2aeaf91fcca5d94c48812a08969300                               NaN   \nff36fa1d315d885d3c5171ea09996142                               NaN   \nff49569c47039afb2424f276d9071368                               NaN   \nff5017601705e932d5545e0eb337cd0b                               NaN   \nff53f01e01b4920e90f47e742878cd19                               NaN   \nff60ab8b394052bf2dae9fc5dba4c70e                               NaN   \nff68ad2883e793597f1c343dd6505f5d                               NaN   \nff69760e24ee8cd6a88ff1e0110f0701                               NaN   \nff6c80eff6bc50a0c3b10abd65847a2a                               NaN   \nff6d4669ac6694f4ad278d23c4c7caa5                               NaN   \nff70aa1b53f643263ead50eed3166164                               NaN   \nff7e4c6d850a75c37a13d0bfcdee483e                               NaN   \nff7f36f6ba0f1126bb95b635322cf9d2                               NaN   \nff885973dca75f1361dd79cf033cf6fb                               NaN   \nff96fbbcff0db5c4442796b8ab8b474d                               NaN   \nff994a455350d9f24c79a7482b89dfe6                               NaN   \nff9d2f60401262b9da1e868f956fb2a8                               NaN   \nffa00504cf231ac90f01bf4e86f9782d                               NaN   \nffa8c46ffe06ca740ae232f5966c5a01                               NaN   \nffb7a3f4d1afe09714753add843d23b0                               NaN   \nffcb3eb07f2a033d45949fcecd160d98                               NaN   \nffcd4b43c08405501a6bf2c66be83e83                               NaN   \nffe96c782a5bc522bd8bad3bc638981a                               NaN   \nffe9e41fbd14db4a7361347c56af5447                               NaN   \nffec10ad4229ba46818560e1c8b40a68                               NaN   \nffec490ab531184a483efe2eedd68908                               NaN   \nfffcc512b7dfecaffd80f13614af1d16                               NaN   \n\nproduct_id                        00917855135d67fb060dcd81863166a4  \\\ncustomer_id                                                          \n0005ef4cd20d2893f0d9fbd94d3c0d97                               NaN   \n001ae5a1788703d64536c30362503e49                               NaN   \n0027324a96d26a2bc7d69262f83c8403                               NaN   \n003035f5ec76f2220098377482de93c9                               NaN   \n00324c9f4d710e7bac5c5ba679714430                               NaN   \n0036d365b138cc0ee06bed755bcb5044                               NaN   \n003ac9408252444b489b1bfc013f5f8c                               NaN   \n003c457932a554e4df13834237b1ed00                               NaN   \n004288347e5e88a27ded2bb23747066c                               NaN   \n0043d65f8039b4a4d43bc7b0f450ac2c                               NaN   \n00504b68faa074d0f40adcb4f7727f71                               NaN   \n005ee3e015ec18092d7782e507cf68fe                               NaN   \n006ab6f5e82340e927757563a9fbe7e4                               NaN   \n006ec5b170182812131c7d9b219c036f                               NaN   \n007ba48697b079e78f168b051462dd1b                               NaN   \n0083e758383b3deb6c6dac1b0b431ac0                               NaN   \n0087c31081ea8d160baa06bf4ad4d76f                               NaN   \n009210a1646725341917560a13f7799f                               NaN   \n009e70fcdd4ea3769c73210414e73c64                               NaN   \n00b1066a65657ee1759544f6b61a4e2c                               NaN   \n00b5ba65365dad1d25811bf5e45fc983                               NaN   \n00b72937dcd829c0d8ca72ec77cd073c                               NaN   \n00ba737b18a7996f68cb8a99556bedd4                               NaN   \n00bab5c446ba511117719c775a3f78e8                               NaN   \n00bd194837f2ad36d45985a6205df78a                               NaN   \n00c19498681c665889d1212be870e8df                               NaN   \n00c31de6420048cb3f668c99153debf7                               NaN   \n00d7812c158831a996a6b3f4698643b5                               NaN   \n00d890d6e36244f39e22a9fb95e68756                               NaN   \n00d8a60ad2500432d9edd109cfddfd9e                               NaN   \n...                                                            ...   \nff1595b176859956405b859adb938cb0                               NaN   \nff2521c4012e1a212bbd12c9ed5acc48                               NaN   \nff2ac5ec37484dd6da5b68adbf162bc5                               NaN   \nff2aeaf91fcca5d94c48812a08969300                               NaN   \nff36fa1d315d885d3c5171ea09996142                               NaN   \nff49569c47039afb2424f276d9071368                               NaN   \nff5017601705e932d5545e0eb337cd0b                               NaN   \nff53f01e01b4920e90f47e742878cd19                               NaN   \nff60ab8b394052bf2dae9fc5dba4c70e                               NaN   \nff68ad2883e793597f1c343dd6505f5d                               NaN   \nff69760e24ee8cd6a88ff1e0110f0701                               NaN   \nff6c80eff6bc50a0c3b10abd65847a2a                               NaN   \nff6d4669ac6694f4ad278d23c4c7caa5                               NaN   \nff70aa1b53f643263ead50eed3166164                               NaN   \nff7e4c6d850a75c37a13d0bfcdee483e                               NaN   \nff7f36f6ba0f1126bb95b635322cf9d2                               NaN   \nff885973dca75f1361dd79cf033cf6fb                               NaN   \nff96fbbcff0db5c4442796b8ab8b474d                               NaN   \nff994a455350d9f24c79a7482b89dfe6                               NaN   \nff9d2f60401262b9da1e868f956fb2a8                               NaN   \nffa00504cf231ac90f01bf4e86f9782d                               NaN   \nffa8c46ffe06ca740ae232f5966c5a01                               NaN   \nffb7a3f4d1afe09714753add843d23b0                               NaN   \nffcb3eb07f2a033d45949fcecd160d98                               NaN   \nffcd4b43c08405501a6bf2c66be83e83                               NaN   \nffe96c782a5bc522bd8bad3bc638981a                               NaN   \nffe9e41fbd14db4a7361347c56af5447                               NaN   \nffec10ad4229ba46818560e1c8b40a68                               NaN   \nffec490ab531184a483efe2eedd68908                               NaN   \nfffcc512b7dfecaffd80f13614af1d16                               NaN   \n\nproduct_id                                      ...                 \\\ncustomer_id                                     ...                  \n0005ef4cd20d2893f0d9fbd94d3c0d97                ...                  \n001ae5a1788703d64536c30362503e49                ...                  \n0027324a96d26a2bc7d69262f83c8403                ...                  \n003035f5ec76f2220098377482de93c9                ...                  \n00324c9f4d710e7bac5c5ba679714430                ...                  \n0036d365b138cc0ee06bed755bcb5044                ...                  \n003ac9408252444b489b1bfc013f5f8c                ...                  \n003c457932a554e4df13834237b1ed00                ...                  \n004288347e5e88a27ded2bb23747066c                ...                  \n0043d65f8039b4a4d43bc7b0f450ac2c                ...                  \n00504b68faa074d0f40adcb4f7727f71                ...                  \n005ee3e015ec18092d7782e507cf68fe                ...                  \n006ab6f5e82340e927757563a9fbe7e4                ...                  \n006ec5b170182812131c7d9b219c036f                ...                  \n007ba48697b079e78f168b051462dd1b                ...                  \n0083e758383b3deb6c6dac1b0b431ac0                ...                  \n0087c31081ea8d160baa06bf4ad4d76f                ...                  \n009210a1646725341917560a13f7799f                ...                  \n009e70fcdd4ea3769c73210414e73c64                ...                  \n00b1066a65657ee1759544f6b61a4e2c                ...                  \n00b5ba65365dad1d25811bf5e45fc983                ...                  \n00b72937dcd829c0d8ca72ec77cd073c                ...                  \n00ba737b18a7996f68cb8a99556bedd4                ...                  \n00bab5c446ba511117719c775a3f78e8                ...                  \n00bd194837f2ad36d45985a6205df78a                ...                  \n00c19498681c665889d1212be870e8df                ...                  \n00c31de6420048cb3f668c99153debf7                ...                  \n00d7812c158831a996a6b3f4698643b5                ...                  \n00d890d6e36244f39e22a9fb95e68756                ...                  \n00d8a60ad2500432d9edd109cfddfd9e                ...                  \n...                                             ...                  \nff1595b176859956405b859adb938cb0                ...                  \nff2521c4012e1a212bbd12c9ed5acc48                ...                  \nff2ac5ec37484dd6da5b68adbf162bc5                ...                  \nff2aeaf91fcca5d94c48812a08969300                ...                  \nff36fa1d315d885d3c5171ea09996142                ...                  \nff49569c47039afb2424f276d9071368                ...                  \nff5017601705e932d5545e0eb337cd0b                ...                  \nff53f01e01b4920e90f47e742878cd19                ...                  \nff60ab8b394052bf2dae9fc5dba4c70e                ...                  \nff68ad2883e793597f1c343dd6505f5d                ...                  \nff69760e24ee8cd6a88ff1e0110f0701                ...                  \nff6c80eff6bc50a0c3b10abd65847a2a                ...                  \nff6d4669ac6694f4ad278d23c4c7caa5                ...                  \nff70aa1b53f643263ead50eed3166164                ...                  \nff7e4c6d850a75c37a13d0bfcdee483e                ...                  \nff7f36f6ba0f1126bb95b635322cf9d2                ...                  \nff885973dca75f1361dd79cf033cf6fb                ...                  \nff96fbbcff0db5c4442796b8ab8b474d                ...                  \nff994a455350d9f24c79a7482b89dfe6                ...                  \nff9d2f60401262b9da1e868f956fb2a8                ...                  \nffa00504cf231ac90f01bf4e86f9782d                ...                  \nffa8c46ffe06ca740ae232f5966c5a01                ...                  \nffb7a3f4d1afe09714753add843d23b0                ...                  \nffcb3eb07f2a033d45949fcecd160d98                ...                  \nffcd4b43c08405501a6bf2c66be83e83                ...                  \nffe96c782a5bc522bd8bad3bc638981a                ...                  \nffe9e41fbd14db4a7361347c56af5447                ...                  \nffec10ad4229ba46818560e1c8b40a68                ...                  \nffec490ab531184a483efe2eedd68908                ...                  \nfffcc512b7dfecaffd80f13614af1d16                ...                  \n\nproduct_id                        ff96895c6b1d31f34b2d82f86670fa85  \\\ncustomer_id                                                          \n0005ef4cd20d2893f0d9fbd94d3c0d97                               NaN   \n001ae5a1788703d64536c30362503e49                               NaN   \n0027324a96d26a2bc7d69262f83c8403                               NaN   \n003035f5ec76f2220098377482de93c9                               NaN   \n00324c9f4d710e7bac5c5ba679714430                               NaN   \n0036d365b138cc0ee06bed755bcb5044                               NaN   \n003ac9408252444b489b1bfc013f5f8c                               NaN   \n003c457932a554e4df13834237b1ed00                               NaN   \n004288347e5e88a27ded2bb23747066c                               NaN   \n0043d65f8039b4a4d43bc7b0f450ac2c                               NaN   \n00504b68faa074d0f40adcb4f7727f71                               NaN   \n005ee3e015ec18092d7782e507cf68fe                               NaN   \n006ab6f5e82340e927757563a9fbe7e4                               NaN   \n006ec5b170182812131c7d9b219c036f                               NaN   \n007ba48697b079e78f168b051462dd1b                               NaN   \n0083e758383b3deb6c6dac1b0b431ac0                               NaN   \n0087c31081ea8d160baa06bf4ad4d76f                               NaN   \n009210a1646725341917560a13f7799f                               NaN   \n009e70fcdd4ea3769c73210414e73c64                               NaN   \n00b1066a65657ee1759544f6b61a4e2c                               NaN   \n00b5ba65365dad1d25811bf5e45fc983                               NaN   \n00b72937dcd829c0d8ca72ec77cd073c                               NaN   \n00ba737b18a7996f68cb8a99556bedd4                               NaN   \n00bab5c446ba511117719c775a3f78e8                               NaN   \n00bd194837f2ad36d45985a6205df78a                               NaN   \n00c19498681c665889d1212be870e8df                               NaN   \n00c31de6420048cb3f668c99153debf7                               NaN   \n00d7812c158831a996a6b3f4698643b5                               NaN   \n00d890d6e36244f39e22a9fb95e68756                               NaN   \n00d8a60ad2500432d9edd109cfddfd9e                               NaN   \n...                                                            ...   \nff1595b176859956405b859adb938cb0                               NaN   \nff2521c4012e1a212bbd12c9ed5acc48                               NaN   \nff2ac5ec37484dd6da5b68adbf162bc5                               NaN   \nff2aeaf91fcca5d94c48812a08969300                               NaN   \nff36fa1d315d885d3c5171ea09996142                               NaN   \nff49569c47039afb2424f276d9071368                               NaN   \nff5017601705e932d5545e0eb337cd0b                               NaN   \nff53f01e01b4920e90f47e742878cd19                               NaN   \nff60ab8b394052bf2dae9fc5dba4c70e                               NaN   \nff68ad2883e793597f1c343dd6505f5d                               NaN   \nff69760e24ee8cd6a88ff1e0110f0701                               NaN   \nff6c80eff6bc50a0c3b10abd65847a2a                               NaN   \nff6d4669ac6694f4ad278d23c4c7caa5                               NaN   \nff70aa1b53f643263ead50eed3166164                               NaN   \nff7e4c6d850a75c37a13d0bfcdee483e                               NaN   \nff7f36f6ba0f1126bb95b635322cf9d2                               NaN   \nff885973dca75f1361dd79cf033cf6fb                               NaN   \nff96fbbcff0db5c4442796b8ab8b474d                               NaN   \nff994a455350d9f24c79a7482b89dfe6                               NaN   \nff9d2f60401262b9da1e868f956fb2a8                               NaN   \nffa00504cf231ac90f01bf4e86f9782d                               NaN   \nffa8c46ffe06ca740ae232f5966c5a01                               NaN   \nffb7a3f4d1afe09714753add843d23b0                               NaN   \nffcb3eb07f2a033d45949fcecd160d98                               NaN   \nffcd4b43c08405501a6bf2c66be83e83                               NaN   \nffe96c782a5bc522bd8bad3bc638981a                               NaN   \nffe9e41fbd14db4a7361347c56af5447                               NaN   \nffec10ad4229ba46818560e1c8b40a68                               NaN   \nffec490ab531184a483efe2eedd68908                               NaN   \nfffcc512b7dfecaffd80f13614af1d16                               NaN   \n\nproduct_id                        ffb2e8c1ddc7c3e590d2bc4c91de53e1  \\\ncustomer_id                                                          \n0005ef4cd20d2893f0d9fbd94d3c0d97                               NaN   \n001ae5a1788703d64536c30362503e49                               NaN   \n0027324a96d26a2bc7d69262f83c8403                               NaN   \n003035f5ec76f2220098377482de93c9                               NaN   \n00324c9f4d710e7bac5c5ba679714430                               NaN   \n0036d365b138cc0ee06bed755bcb5044                               NaN   \n003ac9408252444b489b1bfc013f5f8c                               NaN   \n003c457932a554e4df13834237b1ed00                               NaN   \n004288347e5e88a27ded2bb23747066c                               NaN   \n0043d65f8039b4a4d43bc7b0f450ac2c                               NaN   \n00504b68faa074d0f40adcb4f7727f71                               NaN   \n005ee3e015ec18092d7782e507cf68fe                               NaN   \n006ab6f5e82340e927757563a9fbe7e4                               NaN   \n006ec5b170182812131c7d9b219c036f                               NaN   \n007ba48697b079e78f168b051462dd1b                               NaN   \n0083e758383b3deb6c6dac1b0b431ac0                               NaN   \n0087c31081ea8d160baa06bf4ad4d76f                               NaN   \n009210a1646725341917560a13f7799f                               NaN   \n009e70fcdd4ea3769c73210414e73c64                               NaN   \n00b1066a65657ee1759544f6b61a4e2c                               NaN   \n00b5ba65365dad1d25811bf5e45fc983                               NaN   \n00b72937dcd829c0d8ca72ec77cd073c                               NaN   \n00ba737b18a7996f68cb8a99556bedd4                               NaN   \n00bab5c446ba511117719c775a3f78e8                               NaN   \n00bd194837f2ad36d45985a6205df78a                               NaN   \n00c19498681c665889d1212be870e8df                               NaN   \n00c31de6420048cb3f668c99153debf7                               NaN   \n00d7812c158831a996a6b3f4698643b5                               NaN   \n00d890d6e36244f39e22a9fb95e68756                               NaN   \n00d8a60ad2500432d9edd109cfddfd9e                               NaN   \n...                                                            ...   \nff1595b176859956405b859adb938cb0                               NaN   \nff2521c4012e1a212bbd12c9ed5acc48                               NaN   \nff2ac5ec37484dd6da5b68adbf162bc5                               NaN   \nff2aeaf91fcca5d94c48812a08969300                               NaN   \nff36fa1d315d885d3c5171ea09996142                               NaN   \nff49569c47039afb2424f276d9071368                               NaN   \nff5017601705e932d5545e0eb337cd0b                               NaN   \nff53f01e01b4920e90f47e742878cd19                               NaN   \nff60ab8b394052bf2dae9fc5dba4c70e                               NaN   \nff68ad2883e793597f1c343dd6505f5d                               NaN   \nff69760e24ee8cd6a88ff1e0110f0701                               NaN   \nff6c80eff6bc50a0c3b10abd65847a2a                               NaN   \nff6d4669ac6694f4ad278d23c4c7caa5                               NaN   \nff70aa1b53f643263ead50eed3166164                               NaN   \nff7e4c6d850a75c37a13d0bfcdee483e                               NaN   \nff7f36f6ba0f1126bb95b635322cf9d2                               NaN   \nff885973dca75f1361dd79cf033cf6fb                               NaN   \nff96fbbcff0db5c4442796b8ab8b474d                               NaN   \nff994a455350d9f24c79a7482b89dfe6                               NaN   \nff9d2f60401262b9da1e868f956fb2a8                               NaN   \nffa00504cf231ac90f01bf4e86f9782d                               NaN   \nffa8c46ffe06ca740ae232f5966c5a01                               NaN   \nffb7a3f4d1afe09714753add843d23b0                               NaN   \nffcb3eb07f2a033d45949fcecd160d98                               NaN   \nffcd4b43c08405501a6bf2c66be83e83                               NaN   \nffe96c782a5bc522bd8bad3bc638981a                               NaN   \nffe9e41fbd14db4a7361347c56af5447                               NaN   \nffec10ad4229ba46818560e1c8b40a68                               NaN   \nffec490ab531184a483efe2eedd68908                               NaN   \nfffcc512b7dfecaffd80f13614af1d16                               NaN   \n\nproduct_id                        ffbc83054b3741a8d67fc59d9cf9d42d  \\\ncustomer_id                                                          \n0005ef4cd20d2893f0d9fbd94d3c0d97                               NaN   \n001ae5a1788703d64536c30362503e49                               NaN   \n0027324a96d26a2bc7d69262f83c8403                               NaN   \n003035f5ec76f2220098377482de93c9                               NaN   \n00324c9f4d710e7bac5c5ba679714430                               NaN   \n0036d365b138cc0ee06bed755bcb5044                               NaN   \n003ac9408252444b489b1bfc013f5f8c                               NaN   \n003c457932a554e4df13834237b1ed00                               NaN   \n004288347e5e88a27ded2bb23747066c                               NaN   \n0043d65f8039b4a4d43bc7b0f450ac2c                               NaN   \n00504b68faa074d0f40adcb4f7727f71                               NaN   \n005ee3e015ec18092d7782e507cf68fe                               NaN   \n006ab6f5e82340e927757563a9fbe7e4                               NaN   \n006ec5b170182812131c7d9b219c036f                               NaN   \n007ba48697b079e78f168b051462dd1b                               NaN   \n0083e758383b3deb6c6dac1b0b431ac0                               NaN   \n0087c31081ea8d160baa06bf4ad4d76f                               NaN   \n009210a1646725341917560a13f7799f                               NaN   \n009e70fcdd4ea3769c73210414e73c64                               NaN   \n00b1066a65657ee1759544f6b61a4e2c                               NaN   \n00b5ba65365dad1d25811bf5e45fc983                               NaN   \n00b72937dcd829c0d8ca72ec77cd073c                               NaN   \n00ba737b18a7996f68cb8a99556bedd4                               NaN   \n00bab5c446ba511117719c775a3f78e8                               NaN   \n00bd194837f2ad36d45985a6205df78a                               NaN   \n00c19498681c665889d1212be870e8df                               NaN   \n00c31de6420048cb3f668c99153debf7                               NaN   \n00d7812c158831a996a6b3f4698643b5                               NaN   \n00d890d6e36244f39e22a9fb95e68756                               NaN   \n00d8a60ad2500432d9edd109cfddfd9e                               NaN   \n...                                                            ...   \nff1595b176859956405b859adb938cb0                               NaN   \nff2521c4012e1a212bbd12c9ed5acc48                               NaN   \nff2ac5ec37484dd6da5b68adbf162bc5                               NaN   \nff2aeaf91fcca5d94c48812a08969300                               NaN   \nff36fa1d315d885d3c5171ea09996142                               NaN   \nff49569c47039afb2424f276d9071368                               NaN   \nff5017601705e932d5545e0eb337cd0b                               NaN   \nff53f01e01b4920e90f47e742878cd19                               NaN   \nff60ab8b394052bf2dae9fc5dba4c70e                               NaN   \nff68ad2883e793597f1c343dd6505f5d                               NaN   \nff69760e24ee8cd6a88ff1e0110f0701                               NaN   \nff6c80eff6bc50a0c3b10abd65847a2a                               NaN   \nff6d4669ac6694f4ad278d23c4c7caa5                               NaN   \nff70aa1b53f643263ead50eed3166164                               NaN   \nff7e4c6d850a75c37a13d0bfcdee483e                               NaN   \nff7f36f6ba0f1126bb95b635322cf9d2                               NaN   \nff885973dca75f1361dd79cf033cf6fb                               NaN   \nff96fbbcff0db5c4442796b8ab8b474d                               NaN   \nff994a455350d9f24c79a7482b89dfe6                               NaN   \nff9d2f60401262b9da1e868f956fb2a8                               NaN   \nffa00504cf231ac90f01bf4e86f9782d                               NaN   \nffa8c46ffe06ca740ae232f5966c5a01                               NaN   \nffb7a3f4d1afe09714753add843d23b0                               NaN   \nffcb3eb07f2a033d45949fcecd160d98                               NaN   \nffcd4b43c08405501a6bf2c66be83e83                               NaN   \nffe96c782a5bc522bd8bad3bc638981a                               NaN   \nffe9e41fbd14db4a7361347c56af5447                               NaN   \nffec10ad4229ba46818560e1c8b40a68                               NaN   \nffec490ab531184a483efe2eedd68908                               NaN   \nfffcc512b7dfecaffd80f13614af1d16                               NaN   \n\nproduct_id                        ffbfa9e143fda4420454d0f4e88a3cd5  \\\ncustomer_id                                                          \n0005ef4cd20d2893f0d9fbd94d3c0d97                               NaN   \n001ae5a1788703d64536c30362503e49                               NaN   \n0027324a96d26a2bc7d69262f83c8403                               NaN   \n003035f5ec76f2220098377482de93c9                               NaN   \n00324c9f4d710e7bac5c5ba679714430                               NaN   \n0036d365b138cc0ee06bed755bcb5044                               NaN   \n003ac9408252444b489b1bfc013f5f8c                               NaN   \n003c457932a554e4df13834237b1ed00                               NaN   \n004288347e5e88a27ded2bb23747066c                               NaN   \n0043d65f8039b4a4d43bc7b0f450ac2c                               NaN   \n00504b68faa074d0f40adcb4f7727f71                               NaN   \n005ee3e015ec18092d7782e507cf68fe                               NaN   \n006ab6f5e82340e927757563a9fbe7e4                               NaN   \n006ec5b170182812131c7d9b219c036f                               NaN   \n007ba48697b079e78f168b051462dd1b                               NaN   \n0083e758383b3deb6c6dac1b0b431ac0                               NaN   \n0087c31081ea8d160baa06bf4ad4d76f                               NaN   \n009210a1646725341917560a13f7799f                               NaN   \n009e70fcdd4ea3769c73210414e73c64                               NaN   \n00b1066a65657ee1759544f6b61a4e2c                               NaN   \n00b5ba65365dad1d25811bf5e45fc983                               NaN   \n00b72937dcd829c0d8ca72ec77cd073c                               NaN   \n00ba737b18a7996f68cb8a99556bedd4                               NaN   \n00bab5c446ba511117719c775a3f78e8                               NaN   \n00bd194837f2ad36d45985a6205df78a                               NaN   \n00c19498681c665889d1212be870e8df                               NaN   \n00c31de6420048cb3f668c99153debf7                               NaN   \n00d7812c158831a996a6b3f4698643b5                               NaN   \n00d890d6e36244f39e22a9fb95e68756                               NaN   \n00d8a60ad2500432d9edd109cfddfd9e                               NaN   \n...                                                            ...   \nff1595b176859956405b859adb938cb0                               NaN   \nff2521c4012e1a212bbd12c9ed5acc48                               NaN   \nff2ac5ec37484dd6da5b68adbf162bc5                               NaN   \nff2aeaf91fcca5d94c48812a08969300                               NaN   \nff36fa1d315d885d3c5171ea09996142                               NaN   \nff49569c47039afb2424f276d9071368                               NaN   \nff5017601705e932d5545e0eb337cd0b                               NaN   \nff53f01e01b4920e90f47e742878cd19                               NaN   \nff60ab8b394052bf2dae9fc5dba4c70e                               NaN   \nff68ad2883e793597f1c343dd6505f5d                               NaN   \nff69760e24ee8cd6a88ff1e0110f0701                               NaN   \nff6c80eff6bc50a0c3b10abd65847a2a                               NaN   \nff6d4669ac6694f4ad278d23c4c7caa5                               NaN   \nff70aa1b53f643263ead50eed3166164                               NaN   \nff7e4c6d850a75c37a13d0bfcdee483e                               NaN   \nff7f36f6ba0f1126bb95b635322cf9d2                               NaN   \nff885973dca75f1361dd79cf033cf6fb                               NaN   \nff96fbbcff0db5c4442796b8ab8b474d                               NaN   \nff994a455350d9f24c79a7482b89dfe6                               NaN   \nff9d2f60401262b9da1e868f956fb2a8                               NaN   \nffa00504cf231ac90f01bf4e86f9782d                               NaN   \nffa8c46ffe06ca740ae232f5966c5a01                               NaN   \nffb7a3f4d1afe09714753add843d23b0                               NaN   \nffcb3eb07f2a033d45949fcecd160d98                               NaN   \nffcd4b43c08405501a6bf2c66be83e83                               NaN   \nffe96c782a5bc522bd8bad3bc638981a                               NaN   \nffe9e41fbd14db4a7361347c56af5447                               NaN   \nffec10ad4229ba46818560e1c8b40a68                               NaN   \nffec490ab531184a483efe2eedd68908                               NaN   \nfffcc512b7dfecaffd80f13614af1d16                               NaN   \n\nproduct_id                        ffc0b406806006602c5853b00ab5f7fd  \\\ncustomer_id                                                          \n0005ef4cd20d2893f0d9fbd94d3c0d97                               NaN   \n001ae5a1788703d64536c30362503e49                               NaN   \n0027324a96d26a2bc7d69262f83c8403                               NaN   \n003035f5ec76f2220098377482de93c9                               NaN   \n00324c9f4d710e7bac5c5ba679714430                               NaN   \n0036d365b138cc0ee06bed755bcb5044                               NaN   \n003ac9408252444b489b1bfc013f5f8c                               NaN   \n003c457932a554e4df13834237b1ed00                               NaN   \n004288347e5e88a27ded2bb23747066c                               NaN   \n0043d65f8039b4a4d43bc7b0f450ac2c                               NaN   \n00504b68faa074d0f40adcb4f7727f71                               NaN   \n005ee3e015ec18092d7782e507cf68fe                               NaN   \n006ab6f5e82340e927757563a9fbe7e4                               NaN   \n006ec5b170182812131c7d9b219c036f                               NaN   \n007ba48697b079e78f168b051462dd1b                               NaN   \n0083e758383b3deb6c6dac1b0b431ac0                               NaN   \n0087c31081ea8d160baa06bf4ad4d76f                               NaN   \n009210a1646725341917560a13f7799f                               NaN   \n009e70fcdd4ea3769c73210414e73c64                               NaN   \n00b1066a65657ee1759544f6b61a4e2c                               NaN   \n00b5ba65365dad1d25811bf5e45fc983                               NaN   \n00b72937dcd829c0d8ca72ec77cd073c                               NaN   \n00ba737b18a7996f68cb8a99556bedd4                               NaN   \n00bab5c446ba511117719c775a3f78e8                               NaN   \n00bd194837f2ad36d45985a6205df78a                               NaN   \n00c19498681c665889d1212be870e8df                               NaN   \n00c31de6420048cb3f668c99153debf7                               NaN   \n00d7812c158831a996a6b3f4698643b5                               NaN   \n00d890d6e36244f39e22a9fb95e68756                               NaN   \n00d8a60ad2500432d9edd109cfddfd9e                               NaN   \n...                                                            ...   \nff1595b176859956405b859adb938cb0                               NaN   \nff2521c4012e1a212bbd12c9ed5acc48                               NaN   \nff2ac5ec37484dd6da5b68adbf162bc5                               NaN   \nff2aeaf91fcca5d94c48812a08969300                               NaN   \nff36fa1d315d885d3c5171ea09996142                               NaN   \nff49569c47039afb2424f276d9071368                               NaN   \nff5017601705e932d5545e0eb337cd0b                               NaN   \nff53f01e01b4920e90f47e742878cd19                               NaN   \nff60ab8b394052bf2dae9fc5dba4c70e                               NaN   \nff68ad2883e793597f1c343dd6505f5d                               NaN   \nff69760e24ee8cd6a88ff1e0110f0701                               NaN   \nff6c80eff6bc50a0c3b10abd65847a2a                               NaN   \nff6d4669ac6694f4ad278d23c4c7caa5                               NaN   \nff70aa1b53f643263ead50eed3166164                               NaN   \nff7e4c6d850a75c37a13d0bfcdee483e                               NaN   \nff7f36f6ba0f1126bb95b635322cf9d2                               NaN   \nff885973dca75f1361dd79cf033cf6fb                               NaN   \nff96fbbcff0db5c4442796b8ab8b474d                               NaN   \nff994a455350d9f24c79a7482b89dfe6                               NaN   \nff9d2f60401262b9da1e868f956fb2a8                               NaN   \nffa00504cf231ac90f01bf4e86f9782d                               NaN   \nffa8c46ffe06ca740ae232f5966c5a01                               NaN   \nffb7a3f4d1afe09714753add843d23b0                               NaN   \nffcb3eb07f2a033d45949fcecd160d98                               NaN   \nffcd4b43c08405501a6bf2c66be83e83                               NaN   \nffe96c782a5bc522bd8bad3bc638981a                               NaN   \nffe9e41fbd14db4a7361347c56af5447                               NaN   \nffec10ad4229ba46818560e1c8b40a68                               NaN   \nffec490ab531184a483efe2eedd68908                               NaN   \nfffcc512b7dfecaffd80f13614af1d16                               NaN   \n\nproduct_id                        ffc9caf33e2d1e9f44e3e06da19085f7  \\\ncustomer_id                                                          \n0005ef4cd20d2893f0d9fbd94d3c0d97                               NaN   \n001ae5a1788703d64536c30362503e49                               NaN   \n0027324a96d26a2bc7d69262f83c8403                               NaN   \n003035f5ec76f2220098377482de93c9                               NaN   \n00324c9f4d710e7bac5c5ba679714430                               NaN   \n0036d365b138cc0ee06bed755bcb5044                               NaN   \n003ac9408252444b489b1bfc013f5f8c                               NaN   \n003c457932a554e4df13834237b1ed00                               NaN   \n004288347e5e88a27ded2bb23747066c                               NaN   \n0043d65f8039b4a4d43bc7b0f450ac2c                               NaN   \n00504b68faa074d0f40adcb4f7727f71                               NaN   \n005ee3e015ec18092d7782e507cf68fe                               NaN   \n006ab6f5e82340e927757563a9fbe7e4                               NaN   \n006ec5b170182812131c7d9b219c036f                               NaN   \n007ba48697b079e78f168b051462dd1b                               NaN   \n0083e758383b3deb6c6dac1b0b431ac0                               NaN   \n0087c31081ea8d160baa06bf4ad4d76f                               NaN   \n009210a1646725341917560a13f7799f                               NaN   \n009e70fcdd4ea3769c73210414e73c64                               NaN   \n00b1066a65657ee1759544f6b61a4e2c                               NaN   \n00b5ba65365dad1d25811bf5e45fc983                               NaN   \n00b72937dcd829c0d8ca72ec77cd073c                               NaN   \n00ba737b18a7996f68cb8a99556bedd4                               NaN   \n00bab5c446ba511117719c775a3f78e8                               NaN   \n00bd194837f2ad36d45985a6205df78a                               NaN   \n00c19498681c665889d1212be870e8df                               NaN   \n00c31de6420048cb3f668c99153debf7                               NaN   \n00d7812c158831a996a6b3f4698643b5                               NaN   \n00d890d6e36244f39e22a9fb95e68756                               NaN   \n00d8a60ad2500432d9edd109cfddfd9e                               NaN   \n...                                                            ...   \nff1595b176859956405b859adb938cb0                               NaN   \nff2521c4012e1a212bbd12c9ed5acc48                               NaN   \nff2ac5ec37484dd6da5b68adbf162bc5                               NaN   \nff2aeaf91fcca5d94c48812a08969300                               NaN   \nff36fa1d315d885d3c5171ea09996142                               NaN   \nff49569c47039afb2424f276d9071368                               NaN   \nff5017601705e932d5545e0eb337cd0b                               NaN   \nff53f01e01b4920e90f47e742878cd19                               NaN   \nff60ab8b394052bf2dae9fc5dba4c70e                               NaN   \nff68ad2883e793597f1c343dd6505f5d                               NaN   \nff69760e24ee8cd6a88ff1e0110f0701                               NaN   \nff6c80eff6bc50a0c3b10abd65847a2a                               NaN   \nff6d4669ac6694f4ad278d23c4c7caa5                               NaN   \nff70aa1b53f643263ead50eed3166164                               NaN   \nff7e4c6d850a75c37a13d0bfcdee483e                               NaN   \nff7f36f6ba0f1126bb95b635322cf9d2                               NaN   \nff885973dca75f1361dd79cf033cf6fb                               NaN   \nff96fbbcff0db5c4442796b8ab8b474d                               NaN   \nff994a455350d9f24c79a7482b89dfe6                               NaN   \nff9d2f60401262b9da1e868f956fb2a8                               NaN   \nffa00504cf231ac90f01bf4e86f9782d                               NaN   \nffa8c46ffe06ca740ae232f5966c5a01                               NaN   \nffb7a3f4d1afe09714753add843d23b0                               NaN   \nffcb3eb07f2a033d45949fcecd160d98                               NaN   \nffcd4b43c08405501a6bf2c66be83e83                               NaN   \nffe96c782a5bc522bd8bad3bc638981a                               NaN   \nffe9e41fbd14db4a7361347c56af5447                               NaN   \nffec10ad4229ba46818560e1c8b40a68                               NaN   \nffec490ab531184a483efe2eedd68908                               NaN   \nfffcc512b7dfecaffd80f13614af1d16                               NaN   \n\nproduct_id                        ffccf0ce5eff1a158891296990107d08  \\\ncustomer_id                                                          \n0005ef4cd20d2893f0d9fbd94d3c0d97                               NaN   \n001ae5a1788703d64536c30362503e49                               NaN   \n0027324a96d26a2bc7d69262f83c8403                               NaN   \n003035f5ec76f2220098377482de93c9                               NaN   \n00324c9f4d710e7bac5c5ba679714430                               NaN   \n0036d365b138cc0ee06bed755bcb5044                               NaN   \n003ac9408252444b489b1bfc013f5f8c                               NaN   \n003c457932a554e4df13834237b1ed00                               NaN   \n004288347e5e88a27ded2bb23747066c                               NaN   \n0043d65f8039b4a4d43bc7b0f450ac2c                               NaN   \n00504b68faa074d0f40adcb4f7727f71                               NaN   \n005ee3e015ec18092d7782e507cf68fe                               NaN   \n006ab6f5e82340e927757563a9fbe7e4                               NaN   \n006ec5b170182812131c7d9b219c036f                               NaN   \n007ba48697b079e78f168b051462dd1b                               NaN   \n0083e758383b3deb6c6dac1b0b431ac0                               NaN   \n0087c31081ea8d160baa06bf4ad4d76f                               NaN   \n009210a1646725341917560a13f7799f                               NaN   \n009e70fcdd4ea3769c73210414e73c64                               NaN   \n00b1066a65657ee1759544f6b61a4e2c                               NaN   \n00b5ba65365dad1d25811bf5e45fc983                               NaN   \n00b72937dcd829c0d8ca72ec77cd073c                               NaN   \n00ba737b18a7996f68cb8a99556bedd4                               NaN   \n00bab5c446ba511117719c775a3f78e8                               NaN   \n00bd194837f2ad36d45985a6205df78a                               NaN   \n00c19498681c665889d1212be870e8df                               NaN   \n00c31de6420048cb3f668c99153debf7                               NaN   \n00d7812c158831a996a6b3f4698643b5                               NaN   \n00d890d6e36244f39e22a9fb95e68756                               NaN   \n00d8a60ad2500432d9edd109cfddfd9e                               NaN   \n...                                                            ...   \nff1595b176859956405b859adb938cb0                               NaN   \nff2521c4012e1a212bbd12c9ed5acc48                               NaN   \nff2ac5ec37484dd6da5b68adbf162bc5                               NaN   \nff2aeaf91fcca5d94c48812a08969300                               NaN   \nff36fa1d315d885d3c5171ea09996142                               NaN   \nff49569c47039afb2424f276d9071368                               NaN   \nff5017601705e932d5545e0eb337cd0b                               NaN   \nff53f01e01b4920e90f47e742878cd19                               NaN   \nff60ab8b394052bf2dae9fc5dba4c70e                               NaN   \nff68ad2883e793597f1c343dd6505f5d                               NaN   \nff69760e24ee8cd6a88ff1e0110f0701                               NaN   \nff6c80eff6bc50a0c3b10abd65847a2a                               NaN   \nff6d4669ac6694f4ad278d23c4c7caa5                               NaN   \nff70aa1b53f643263ead50eed3166164                               NaN   \nff7e4c6d850a75c37a13d0bfcdee483e                               NaN   \nff7f36f6ba0f1126bb95b635322cf9d2                               NaN   \nff885973dca75f1361dd79cf033cf6fb                               NaN   \nff96fbbcff0db5c4442796b8ab8b474d                               NaN   \nff994a455350d9f24c79a7482b89dfe6                               NaN   \nff9d2f60401262b9da1e868f956fb2a8                               NaN   \nffa00504cf231ac90f01bf4e86f9782d                               NaN   \nffa8c46ffe06ca740ae232f5966c5a01                               NaN   \nffb7a3f4d1afe09714753add843d23b0                               NaN   \nffcb3eb07f2a033d45949fcecd160d98                               NaN   \nffcd4b43c08405501a6bf2c66be83e83                               NaN   \nffe96c782a5bc522bd8bad3bc638981a                               NaN   \nffe9e41fbd14db4a7361347c56af5447                               NaN   \nffec10ad4229ba46818560e1c8b40a68                               NaN   \nffec490ab531184a483efe2eedd68908                               NaN   \nfffcc512b7dfecaffd80f13614af1d16                               NaN   \n\nproduct_id                        ffd34459c21034d1da6df9800de0d7a3  \\\ncustomer_id                                                          \n0005ef4cd20d2893f0d9fbd94d3c0d97                               NaN   \n001ae5a1788703d64536c30362503e49                               NaN   \n0027324a96d26a2bc7d69262f83c8403                               NaN   \n003035f5ec76f2220098377482de93c9                               NaN   \n00324c9f4d710e7bac5c5ba679714430                               NaN   \n0036d365b138cc0ee06bed755bcb5044                               NaN   \n003ac9408252444b489b1bfc013f5f8c                               NaN   \n003c457932a554e4df13834237b1ed00                               NaN   \n004288347e5e88a27ded2bb23747066c                               NaN   \n0043d65f8039b4a4d43bc7b0f450ac2c                               NaN   \n00504b68faa074d0f40adcb4f7727f71                               NaN   \n005ee3e015ec18092d7782e507cf68fe                               NaN   \n006ab6f5e82340e927757563a9fbe7e4                               NaN   \n006ec5b170182812131c7d9b219c036f                               NaN   \n007ba48697b079e78f168b051462dd1b                               NaN   \n0083e758383b3deb6c6dac1b0b431ac0                               NaN   \n0087c31081ea8d160baa06bf4ad4d76f                               NaN   \n009210a1646725341917560a13f7799f                               NaN   \n009e70fcdd4ea3769c73210414e73c64                               NaN   \n00b1066a65657ee1759544f6b61a4e2c                               NaN   \n00b5ba65365dad1d25811bf5e45fc983                               NaN   \n00b72937dcd829c0d8ca72ec77cd073c                               NaN   \n00ba737b18a7996f68cb8a99556bedd4                               NaN   \n00bab5c446ba511117719c775a3f78e8                               NaN   \n00bd194837f2ad36d45985a6205df78a                               NaN   \n00c19498681c665889d1212be870e8df                               NaN   \n00c31de6420048cb3f668c99153debf7                               NaN   \n00d7812c158831a996a6b3f4698643b5                               NaN   \n00d890d6e36244f39e22a9fb95e68756                               NaN   \n00d8a60ad2500432d9edd109cfddfd9e                               NaN   \n...                                                            ...   \nff1595b176859956405b859adb938cb0                               NaN   \nff2521c4012e1a212bbd12c9ed5acc48                               NaN   \nff2ac5ec37484dd6da5b68adbf162bc5                               NaN   \nff2aeaf91fcca5d94c48812a08969300                               NaN   \nff36fa1d315d885d3c5171ea09996142                               NaN   \nff49569c47039afb2424f276d9071368                               NaN   \nff5017601705e932d5545e0eb337cd0b                               NaN   \nff53f01e01b4920e90f47e742878cd19                               NaN   \nff60ab8b394052bf2dae9fc5dba4c70e                               NaN   \nff68ad2883e793597f1c343dd6505f5d                               NaN   \nff69760e24ee8cd6a88ff1e0110f0701                               NaN   \nff6c80eff6bc50a0c3b10abd65847a2a                               NaN   \nff6d4669ac6694f4ad278d23c4c7caa5                               NaN   \nff70aa1b53f643263ead50eed3166164                               NaN   \nff7e4c6d850a75c37a13d0bfcdee483e                               NaN   \nff7f36f6ba0f1126bb95b635322cf9d2                               NaN   \nff885973dca75f1361dd79cf033cf6fb                               NaN   \nff96fbbcff0db5c4442796b8ab8b474d                               NaN   \nff994a455350d9f24c79a7482b89dfe6                               NaN   \nff9d2f60401262b9da1e868f956fb2a8                               NaN   \nffa00504cf231ac90f01bf4e86f9782d                               NaN   \nffa8c46ffe06ca740ae232f5966c5a01                               NaN   \nffb7a3f4d1afe09714753add843d23b0                               NaN   \nffcb3eb07f2a033d45949fcecd160d98                               NaN   \nffcd4b43c08405501a6bf2c66be83e83                               NaN   \nffe96c782a5bc522bd8bad3bc638981a                               NaN   \nffe9e41fbd14db4a7361347c56af5447                               NaN   \nffec10ad4229ba46818560e1c8b40a68                               NaN   \nffec490ab531184a483efe2eedd68908                               NaN   \nfffcc512b7dfecaffd80f13614af1d16                               NaN   \n\nproduct_id                        ffd4bf4306745865e5692f69bd237893  \\\ncustomer_id                                                          \n0005ef4cd20d2893f0d9fbd94d3c0d97                               NaN   \n001ae5a1788703d64536c30362503e49                               NaN   \n0027324a96d26a2bc7d69262f83c8403                               NaN   \n003035f5ec76f2220098377482de93c9                               NaN   \n00324c9f4d710e7bac5c5ba679714430                               NaN   \n0036d365b138cc0ee06bed755bcb5044                               NaN   \n003ac9408252444b489b1bfc013f5f8c                               NaN   \n003c457932a554e4df13834237b1ed00                               NaN   \n004288347e5e88a27ded2bb23747066c                               NaN   \n0043d65f8039b4a4d43bc7b0f450ac2c                               NaN   \n00504b68faa074d0f40adcb4f7727f71                               NaN   \n005ee3e015ec18092d7782e507cf68fe                               NaN   \n006ab6f5e82340e927757563a9fbe7e4                               NaN   \n006ec5b170182812131c7d9b219c036f                               NaN   \n007ba48697b079e78f168b051462dd1b                               NaN   \n0083e758383b3deb6c6dac1b0b431ac0                               NaN   \n0087c31081ea8d160baa06bf4ad4d76f                               NaN   \n009210a1646725341917560a13f7799f                               NaN   \n009e70fcdd4ea3769c73210414e73c64                               NaN   \n00b1066a65657ee1759544f6b61a4e2c                               NaN   \n00b5ba65365dad1d25811bf5e45fc983                               NaN   \n00b72937dcd829c0d8ca72ec77cd073c                               NaN   \n00ba737b18a7996f68cb8a99556bedd4                               NaN   \n00bab5c446ba511117719c775a3f78e8                               NaN   \n00bd194837f2ad36d45985a6205df78a                               NaN   \n00c19498681c665889d1212be870e8df                               NaN   \n00c31de6420048cb3f668c99153debf7                               NaN   \n00d7812c158831a996a6b3f4698643b5                               NaN   \n00d890d6e36244f39e22a9fb95e68756                               NaN   \n00d8a60ad2500432d9edd109cfddfd9e                               NaN   \n...                                                            ...   \nff1595b176859956405b859adb938cb0                               NaN   \nff2521c4012e1a212bbd12c9ed5acc48                               NaN   \nff2ac5ec37484dd6da5b68adbf162bc5                               NaN   \nff2aeaf91fcca5d94c48812a08969300                               NaN   \nff36fa1d315d885d3c5171ea09996142                               NaN   \nff49569c47039afb2424f276d9071368                               NaN   \nff5017601705e932d5545e0eb337cd0b                               NaN   \nff53f01e01b4920e90f47e742878cd19                               NaN   \nff60ab8b394052bf2dae9fc5dba4c70e                               NaN   \nff68ad2883e793597f1c343dd6505f5d                               NaN   \nff69760e24ee8cd6a88ff1e0110f0701                               NaN   \nff6c80eff6bc50a0c3b10abd65847a2a                               NaN   \nff6d4669ac6694f4ad278d23c4c7caa5                               NaN   \nff70aa1b53f643263ead50eed3166164                               NaN   \nff7e4c6d850a75c37a13d0bfcdee483e                               NaN   \nff7f36f6ba0f1126bb95b635322cf9d2                               NaN   \nff885973dca75f1361dd79cf033cf6fb                               NaN   \nff96fbbcff0db5c4442796b8ab8b474d                               NaN   \nff994a455350d9f24c79a7482b89dfe6                               NaN   \nff9d2f60401262b9da1e868f956fb2a8                               NaN   \nffa00504cf231ac90f01bf4e86f9782d                               NaN   \nffa8c46ffe06ca740ae232f5966c5a01                               NaN   \nffb7a3f4d1afe09714753add843d23b0                               NaN   \nffcb3eb07f2a033d45949fcecd160d98                               NaN   \nffcd4b43c08405501a6bf2c66be83e83                               NaN   \nffe96c782a5bc522bd8bad3bc638981a                               NaN   \nffe9e41fbd14db4a7361347c56af5447                               NaN   \nffec10ad4229ba46818560e1c8b40a68                               NaN   \nffec490ab531184a483efe2eedd68908                               NaN   \nfffcc512b7dfecaffd80f13614af1d16                               NaN   \n\nproduct_id                        ffd63ee42a5c8cc5a15a1c8e2aa50011  \ncustomer_id                                                         \n0005ef4cd20d2893f0d9fbd94d3c0d97                               NaN  \n001ae5a1788703d64536c30362503e49                               NaN  \n0027324a96d26a2bc7d69262f83c8403                               NaN  \n003035f5ec76f2220098377482de93c9                               NaN  \n00324c9f4d710e7bac5c5ba679714430                               NaN  \n0036d365b138cc0ee06bed755bcb5044                               NaN  \n003ac9408252444b489b1bfc013f5f8c                               NaN  \n003c457932a554e4df13834237b1ed00                               NaN  \n004288347e5e88a27ded2bb23747066c                               NaN  \n0043d65f8039b4a4d43bc7b0f450ac2c                               NaN  \n00504b68faa074d0f40adcb4f7727f71                               NaN  \n005ee3e015ec18092d7782e507cf68fe                               NaN  \n006ab6f5e82340e927757563a9fbe7e4                               NaN  \n006ec5b170182812131c7d9b219c036f                               NaN  \n007ba48697b079e78f168b051462dd1b                               NaN  \n0083e758383b3deb6c6dac1b0b431ac0                               NaN  \n0087c31081ea8d160baa06bf4ad4d76f                               NaN  \n009210a1646725341917560a13f7799f                               NaN  \n009e70fcdd4ea3769c73210414e73c64                               NaN  \n00b1066a65657ee1759544f6b61a4e2c                               NaN  \n00b5ba65365dad1d25811bf5e45fc983                               NaN  \n00b72937dcd829c0d8ca72ec77cd073c                               NaN  \n00ba737b18a7996f68cb8a99556bedd4                               NaN  \n00bab5c446ba511117719c775a3f78e8                               NaN  \n00bd194837f2ad36d45985a6205df78a                               NaN  \n00c19498681c665889d1212be870e8df                               NaN  \n00c31de6420048cb3f668c99153debf7                               NaN  \n00d7812c158831a996a6b3f4698643b5                               NaN  \n00d890d6e36244f39e22a9fb95e68756                               NaN  \n00d8a60ad2500432d9edd109cfddfd9e                               NaN  \n...                                                            ...  \nff1595b176859956405b859adb938cb0                               NaN  \nff2521c4012e1a212bbd12c9ed5acc48                               NaN  \nff2ac5ec37484dd6da5b68adbf162bc5                               NaN  \nff2aeaf91fcca5d94c48812a08969300                               NaN  \nff36fa1d315d885d3c5171ea09996142                               NaN  \nff49569c47039afb2424f276d9071368                               NaN  \nff5017601705e932d5545e0eb337cd0b                               NaN  \nff53f01e01b4920e90f47e742878cd19                               NaN  \nff60ab8b394052bf2dae9fc5dba4c70e                               NaN  \nff68ad2883e793597f1c343dd6505f5d                               NaN  \nff69760e24ee8cd6a88ff1e0110f0701                               NaN  \nff6c80eff6bc50a0c3b10abd65847a2a                               NaN  \nff6d4669ac6694f4ad278d23c4c7caa5                               NaN  \nff70aa1b53f643263ead50eed3166164                               NaN  \nff7e4c6d850a75c37a13d0bfcdee483e                               NaN  \nff7f36f6ba0f1126bb95b635322cf9d2                               NaN  \nff885973dca75f1361dd79cf033cf6fb                               NaN  \nff96fbbcff0db5c4442796b8ab8b474d                               NaN  \nff994a455350d9f24c79a7482b89dfe6                               NaN  \nff9d2f60401262b9da1e868f956fb2a8                               NaN  \nffa00504cf231ac90f01bf4e86f9782d                               NaN  \nffa8c46ffe06ca740ae232f5966c5a01                               NaN  \nffb7a3f4d1afe09714753add843d23b0                               NaN  \nffcb3eb07f2a033d45949fcecd160d98                               NaN  \nffcd4b43c08405501a6bf2c66be83e83                               NaN  \nffe96c782a5bc522bd8bad3bc638981a                               NaN  \nffe9e41fbd14db4a7361347c56af5447                               NaN  \nffec10ad4229ba46818560e1c8b40a68                               NaN  \nffec490ab531184a483efe2eedd68908                               NaN  \nfffcc512b7dfecaffd80f13614af1d16                               NaN  \n\n[8775 rows x 6088 columns]"
          },
          "metadata": {}
        }
      ]
    },
    {
      "metadata": {
        "id": "LclIGAmB8JRT",
        "colab_type": "text"
      },
      "cell_type": "markdown",
      "source": "### 1. Motor de recomendación"
    },
    {
      "metadata": {
        "id": "dNftsM2c8MJH",
        "colab_type": "code",
        "outputId": "1a0da483-d95e-4adc-d3b5-9d596cbe94e5",
        "colab": {
          "base_uri": "https://localhost:8080/",
          "height": 206
        },
        "trusted": true
      },
      "cell_type": "code",
      "source": "datos_facturacion.head()\ncols = ['customer_id', 'product_id','total_value']\ndatos_proceso= pd.DataFrame(datos_facturacion, columns=cols, dtype=object)\ndatos_proceso.dtypes\ndatos_proceso.head()",
      "execution_count": 32,
      "outputs": [
        {
          "output_type": "execute_result",
          "execution_count": 32,
          "data": {
            "text/html": "<div>\n<table border=\"1\" class=\"dataframe\">\n  <thead>\n    <tr style=\"text-align: right;\">\n      <th></th>\n      <th>customer_id</th>\n      <th>product_id</th>\n      <th>total_value</th>\n    </tr>\n  </thead>\n  <tbody>\n    <tr>\n      <th>0</th>\n      <td>871766c5855e863f6eccc05f988b23cb</td>\n      <td>4244733e06e7ecb4970a6e2683c13e61</td>\n      <td>7219</td>\n    </tr>\n    <tr>\n      <th>1</th>\n      <td>eb28e67c4c0b83846050ddfb8a35d051</td>\n      <td>e5f2d52b802189ee658865ca93d83a8f</td>\n      <td>25983</td>\n    </tr>\n    <tr>\n      <th>2</th>\n      <td>3818d81c6709e39d06b2738a8d3a2474</td>\n      <td>c777355d18b72b67abbeef9df44fd0fd</td>\n      <td>21687</td>\n    </tr>\n    <tr>\n      <th>3</th>\n      <td>af861d436cfc08b2c2ddefd0ba074622</td>\n      <td>7634da152a4610f1595efa32f14722fc</td>\n      <td>2578</td>\n    </tr>\n    <tr>\n      <th>4</th>\n      <td>64b576fb70d441e8f1b2d7d446e483c5</td>\n      <td>ac6c3623068f30de03045865e4e10089</td>\n      <td>21804</td>\n    </tr>\n  </tbody>\n</table>\n</div>",
            "text/plain": "                        customer_id                        product_id  \\\n0  871766c5855e863f6eccc05f988b23cb  4244733e06e7ecb4970a6e2683c13e61   \n1  eb28e67c4c0b83846050ddfb8a35d051  e5f2d52b802189ee658865ca93d83a8f   \n2  3818d81c6709e39d06b2738a8d3a2474  c777355d18b72b67abbeef9df44fd0fd   \n3  af861d436cfc08b2c2ddefd0ba074622  7634da152a4610f1595efa32f14722fc   \n4  64b576fb70d441e8f1b2d7d446e483c5  ac6c3623068f30de03045865e4e10089   \n\n  total_value  \n0        7219  \n1       25983  \n2       21687  \n3        2578  \n4       21804  "
          },
          "metadata": {}
        }
      ]
    },
    {
      "metadata": {
        "id": "pkSRa5oPK8Fd",
        "colab_type": "code",
        "outputId": "75ae0353-c820-432f-ec35-f9d5ded432f8",
        "colab": {
          "base_uri": "https://localhost:8080/",
          "height": 226
        },
        "trusted": true
      },
      "cell_type": "code",
      "source": "datos_dummy = datos_facturacion.copy()\ndatos_dummy['total_dummy'] = 1\ndatos_dummy.head()",
      "execution_count": 38,
      "outputs": [
        {
          "output_type": "execute_result",
          "execution_count": 38,
          "data": {
            "text/html": "<div>\n<table border=\"1\" class=\"dataframe\">\n  <thead>\n    <tr style=\"text-align: right;\">\n      <th></th>\n      <th>order_id</th>\n      <th>order_item_id</th>\n      <th>product_id</th>\n      <th>customer_id</th>\n      <th>customer_zip_code_prefix</th>\n      <th>seller_id</th>\n      <th>shipping_limit_date</th>\n      <th>price</th>\n      <th>freight_value</th>\n      <th>total_value</th>\n      <th>...</th>\n      <th>voucher</th>\n      <th>not_defined</th>\n      <th>num_txn</th>\n      <th>order_status</th>\n      <th>order_purchase_timestamp</th>\n      <th>order_approved_at</th>\n      <th>order_delivered_carrier_date</th>\n      <th>order_delivered_customer_date</th>\n      <th>order_estimated_delivery_date</th>\n      <th>total_dummy</th>\n    </tr>\n  </thead>\n  <tbody>\n    <tr>\n      <th>0</th>\n      <td>00010242fe8c5a6d1ba2dd792cb16214</td>\n      <td>1</td>\n      <td>4244733e06e7ecb4970a6e2683c13e61</td>\n      <td>871766c5855e863f6eccc05f988b23cb</td>\n      <td>28013</td>\n      <td>48436dade18ac8b2bce089ec2a041202</td>\n      <td>2017-09-19 09:45:35</td>\n      <td>5890</td>\n      <td>1329</td>\n      <td>7219</td>\n      <td>...</td>\n      <td>0</td>\n      <td>0</td>\n      <td>1</td>\n      <td>delivered</td>\n      <td>2017-09-13 08:59:02</td>\n      <td>2017-09-13 09:45:35</td>\n      <td>2017-09-19 18:34:16</td>\n      <td>2017-09-20 23:43:48</td>\n      <td>2017-09-29</td>\n      <td>1</td>\n    </tr>\n    <tr>\n      <th>1</th>\n      <td>00018f77f2f0320c557190d7a144bdd3</td>\n      <td>1</td>\n      <td>e5f2d52b802189ee658865ca93d83a8f</td>\n      <td>eb28e67c4c0b83846050ddfb8a35d051</td>\n      <td>15775</td>\n      <td>dd7ddc04e1b6c2c614352b383efe2d36</td>\n      <td>2017-05-03 11:05:13</td>\n      <td>23990</td>\n      <td>1993</td>\n      <td>25983</td>\n      <td>...</td>\n      <td>0</td>\n      <td>0</td>\n      <td>1</td>\n      <td>delivered</td>\n      <td>2017-04-26 10:53:06</td>\n      <td>2017-04-26 11:05:13</td>\n      <td>2017-05-04 14:35:00</td>\n      <td>2017-05-12 16:04:24</td>\n      <td>2017-05-15</td>\n      <td>1</td>\n    </tr>\n    <tr>\n      <th>2</th>\n      <td>000229ec398224ef6ca0657da4fc703e</td>\n      <td>1</td>\n      <td>c777355d18b72b67abbeef9df44fd0fd</td>\n      <td>3818d81c6709e39d06b2738a8d3a2474</td>\n      <td>35661</td>\n      <td>5b51032eddd242adc84c38acab88f23d</td>\n      <td>2018-01-18 14:48:30</td>\n      <td>19900</td>\n      <td>1787</td>\n      <td>21687</td>\n      <td>...</td>\n      <td>0</td>\n      <td>0</td>\n      <td>1</td>\n      <td>delivered</td>\n      <td>2018-01-14 14:33:31</td>\n      <td>2018-01-14 14:48:30</td>\n      <td>2018-01-16 12:36:48</td>\n      <td>2018-01-22 13:19:16</td>\n      <td>2018-02-05</td>\n      <td>1</td>\n    </tr>\n    <tr>\n      <th>3</th>\n      <td>00024acbcdf0a6daa1e931b038114c75</td>\n      <td>1</td>\n      <td>7634da152a4610f1595efa32f14722fc</td>\n      <td>af861d436cfc08b2c2ddefd0ba074622</td>\n      <td>12952</td>\n      <td>9d7a1d34a5052409006425275ba1c2b4</td>\n      <td>2018-08-15 10:10:18</td>\n      <td>1299</td>\n      <td>1279</td>\n      <td>2578</td>\n      <td>...</td>\n      <td>0</td>\n      <td>0</td>\n      <td>1</td>\n      <td>delivered</td>\n      <td>2018-08-08 10:00:35</td>\n      <td>2018-08-08 10:10:18</td>\n      <td>2018-08-10 13:28:00</td>\n      <td>2018-08-14 13:32:39</td>\n      <td>2018-08-20</td>\n      <td>1</td>\n    </tr>\n    <tr>\n      <th>4</th>\n      <td>00042b26cf59d7ce69dfabb4e55b4fd9</td>\n      <td>1</td>\n      <td>ac6c3623068f30de03045865e4e10089</td>\n      <td>64b576fb70d441e8f1b2d7d446e483c5</td>\n      <td>13226</td>\n      <td>df560393f3a51e74553ab94004ba5c87</td>\n      <td>2017-02-13 13:57:51</td>\n      <td>19990</td>\n      <td>1814</td>\n      <td>21804</td>\n      <td>...</td>\n      <td>0</td>\n      <td>0</td>\n      <td>1</td>\n      <td>delivered</td>\n      <td>2017-02-04 13:57:51</td>\n      <td>2017-02-04 14:10:13</td>\n      <td>2017-02-16 09:46:09</td>\n      <td>2017-03-01 16:42:31</td>\n      <td>2017-03-17</td>\n      <td>1</td>\n    </tr>\n  </tbody>\n</table>\n<p>5 rows × 23 columns</p>\n</div>",
            "text/plain": "                           order_id  order_item_id  \\\n0  00010242fe8c5a6d1ba2dd792cb16214              1   \n1  00018f77f2f0320c557190d7a144bdd3              1   \n2  000229ec398224ef6ca0657da4fc703e              1   \n3  00024acbcdf0a6daa1e931b038114c75              1   \n4  00042b26cf59d7ce69dfabb4e55b4fd9              1   \n\n                         product_id                       customer_id  \\\n0  4244733e06e7ecb4970a6e2683c13e61  871766c5855e863f6eccc05f988b23cb   \n1  e5f2d52b802189ee658865ca93d83a8f  eb28e67c4c0b83846050ddfb8a35d051   \n2  c777355d18b72b67abbeef9df44fd0fd  3818d81c6709e39d06b2738a8d3a2474   \n3  7634da152a4610f1595efa32f14722fc  af861d436cfc08b2c2ddefd0ba074622   \n4  ac6c3623068f30de03045865e4e10089  64b576fb70d441e8f1b2d7d446e483c5   \n\n   customer_zip_code_prefix                         seller_id  \\\n0                     28013  48436dade18ac8b2bce089ec2a041202   \n1                     15775  dd7ddc04e1b6c2c614352b383efe2d36   \n2                     35661  5b51032eddd242adc84c38acab88f23d   \n3                     12952  9d7a1d34a5052409006425275ba1c2b4   \n4                     13226  df560393f3a51e74553ab94004ba5c87   \n\n  shipping_limit_date  price  freight_value  total_value     ...      voucher  \\\n0 2017-09-19 09:45:35   5890           1329         7219     ...            0   \n1 2017-05-03 11:05:13  23990           1993        25983     ...            0   \n2 2018-01-18 14:48:30  19900           1787        21687     ...            0   \n3 2018-08-15 10:10:18   1299           1279         2578     ...            0   \n4 2017-02-13 13:57:51  19990           1814        21804     ...            0   \n\n   not_defined  num_txn  order_status  order_purchase_timestamp  \\\n0            0        1     delivered       2017-09-13 08:59:02   \n1            0        1     delivered       2017-04-26 10:53:06   \n2            0        1     delivered       2018-01-14 14:33:31   \n3            0        1     delivered       2018-08-08 10:00:35   \n4            0        1     delivered       2017-02-04 13:57:51   \n\n    order_approved_at order_delivered_carrier_date  \\\n0 2017-09-13 09:45:35          2017-09-19 18:34:16   \n1 2017-04-26 11:05:13          2017-05-04 14:35:00   \n2 2018-01-14 14:48:30          2018-01-16 12:36:48   \n3 2018-08-08 10:10:18          2018-08-10 13:28:00   \n4 2017-02-04 14:10:13          2017-02-16 09:46:09   \n\n  order_delivered_customer_date order_estimated_delivery_date total_dummy  \n0           2017-09-20 23:43:48                    2017-09-29           1  \n1           2017-05-12 16:04:24                    2017-05-15           1  \n2           2018-01-22 13:19:16                    2018-02-05           1  \n3           2018-08-14 13:32:39                    2018-08-20           1  \n4           2017-03-01 16:42:31                    2017-03-17           1  \n\n[5 rows x 23 columns]"
          },
          "metadata": {}
        }
      ]
    },
    {
      "metadata": {
        "id": "aXWcTVTkFTBJ",
        "colab_type": "text"
      },
      "cell_type": "markdown",
      "source": "### 1.1 Colaborativo"
    },
    {
      "metadata": {
        "id": "iOQV0Spz8Nst",
        "colab_type": "code",
        "outputId": "f1706985-2512-4de3-ef2d-9f2440e85863",
        "colab": {
          "base_uri": "https://localhost:8080/",
          "height": 287
        },
        "trusted": true
      },
      "cell_type": "code",
      "source": "# Se genera una pivot especifica para los campos requeridos del motor de recomendación \nmatrix_usuario_producto = datos_proceso.pivot_table(index='customer_id',columns='product_id', values='total_value',aggfunc='sum')\n# Se comprueba resultado\nmatrix_usuario_producto.head()",
      "execution_count": 39,
      "outputs": [
        {
          "output_type": "error",
          "ename": "MemoryError",
          "evalue": "",
          "traceback": [
            "\u001b[0;31m---------------------------------------------------------------------------\u001b[0m",
            "\u001b[0;31mMemoryError\u001b[0m                               Traceback (most recent call last)",
            "\u001b[0;32m<ipython-input-39-3f0e79913a04>\u001b[0m in \u001b[0;36m<module>\u001b[0;34m()\u001b[0m\n\u001b[1;32m      1\u001b[0m \u001b[0;31m# Se genera una pivot especifica para los campos requeridos del motor de recomendación\u001b[0m\u001b[0;34m\u001b[0m\u001b[0;34m\u001b[0m\u001b[0m\n\u001b[0;32m----> 2\u001b[0;31m \u001b[0mmatrix_usuario_producto\u001b[0m \u001b[0;34m=\u001b[0m \u001b[0mdatos_proceso\u001b[0m\u001b[0;34m.\u001b[0m\u001b[0mpivot_table\u001b[0m\u001b[0;34m(\u001b[0m\u001b[0mindex\u001b[0m\u001b[0;34m=\u001b[0m\u001b[0;34m'customer_id'\u001b[0m\u001b[0;34m,\u001b[0m\u001b[0mcolumns\u001b[0m\u001b[0;34m=\u001b[0m\u001b[0;34m'product_id'\u001b[0m\u001b[0;34m,\u001b[0m \u001b[0mvalues\u001b[0m\u001b[0;34m=\u001b[0m\u001b[0;34m'total_value'\u001b[0m\u001b[0;34m,\u001b[0m\u001b[0maggfunc\u001b[0m\u001b[0;34m=\u001b[0m\u001b[0;34m'sum'\u001b[0m\u001b[0;34m)\u001b[0m\u001b[0;34m\u001b[0m\u001b[0m\n\u001b[0m\u001b[1;32m      3\u001b[0m \u001b[0;31m# Se comprueba resultado\u001b[0m\u001b[0;34m\u001b[0m\u001b[0;34m\u001b[0m\u001b[0m\n\u001b[1;32m      4\u001b[0m \u001b[0mmatrix_usuario_producto\u001b[0m\u001b[0;34m.\u001b[0m\u001b[0mhead\u001b[0m\u001b[0;34m(\u001b[0m\u001b[0;34m)\u001b[0m\u001b[0;34m\u001b[0m\u001b[0m\n",
            "\u001b[0;32m~/anaconda3_420/lib/python3.5/site-packages/pandas/tools/pivot.py\u001b[0m in \u001b[0;36mpivot_table\u001b[0;34m(data, values, index, columns, aggfunc, fill_value, margins, dropna, margins_name)\u001b[0m\n\u001b[1;32m    131\u001b[0m         to_unstack = [agged.index.names[i] or i\n\u001b[1;32m    132\u001b[0m                       for i in range(len(index), len(keys))]\n\u001b[0;32m--> 133\u001b[0;31m         \u001b[0mtable\u001b[0m \u001b[0;34m=\u001b[0m \u001b[0magged\u001b[0m\u001b[0;34m.\u001b[0m\u001b[0munstack\u001b[0m\u001b[0;34m(\u001b[0m\u001b[0mto_unstack\u001b[0m\u001b[0;34m)\u001b[0m\u001b[0;34m\u001b[0m\u001b[0m\n\u001b[0m\u001b[1;32m    134\u001b[0m \u001b[0;34m\u001b[0m\u001b[0m\n\u001b[1;32m    135\u001b[0m     \u001b[0;32mif\u001b[0m \u001b[0;32mnot\u001b[0m \u001b[0mdropna\u001b[0m\u001b[0;34m:\u001b[0m\u001b[0;34m\u001b[0m\u001b[0m\n",
            "\u001b[0;32m~/anaconda3_420/lib/python3.5/site-packages/pandas/core/frame.py\u001b[0m in \u001b[0;36munstack\u001b[0;34m(self, level, fill_value)\u001b[0m\n\u001b[1;32m   4034\u001b[0m         \"\"\"\n\u001b[1;32m   4035\u001b[0m         \u001b[0;32mfrom\u001b[0m \u001b[0mpandas\u001b[0m\u001b[0;34m.\u001b[0m\u001b[0mcore\u001b[0m\u001b[0;34m.\u001b[0m\u001b[0mreshape\u001b[0m \u001b[0;32mimport\u001b[0m \u001b[0munstack\u001b[0m\u001b[0;34m\u001b[0m\u001b[0m\n\u001b[0;32m-> 4036\u001b[0;31m         \u001b[0;32mreturn\u001b[0m \u001b[0munstack\u001b[0m\u001b[0;34m(\u001b[0m\u001b[0mself\u001b[0m\u001b[0;34m,\u001b[0m \u001b[0mlevel\u001b[0m\u001b[0;34m,\u001b[0m \u001b[0mfill_value\u001b[0m\u001b[0;34m)\u001b[0m\u001b[0;34m\u001b[0m\u001b[0m\n\u001b[0m\u001b[1;32m   4037\u001b[0m \u001b[0;34m\u001b[0m\u001b[0m\n\u001b[1;32m   4038\u001b[0m     \u001b[0;31m# ----------------------------------------------------------------------\u001b[0m\u001b[0;34m\u001b[0m\u001b[0;34m\u001b[0m\u001b[0m\n",
            "\u001b[0;32m~/anaconda3_420/lib/python3.5/site-packages/pandas/core/reshape.py\u001b[0m in \u001b[0;36munstack\u001b[0;34m(obj, level, fill_value)\u001b[0m\n\u001b[1;32m    402\u001b[0m \u001b[0;32mdef\u001b[0m \u001b[0munstack\u001b[0m\u001b[0;34m(\u001b[0m\u001b[0mobj\u001b[0m\u001b[0;34m,\u001b[0m \u001b[0mlevel\u001b[0m\u001b[0;34m,\u001b[0m \u001b[0mfill_value\u001b[0m\u001b[0;34m=\u001b[0m\u001b[0;32mNone\u001b[0m\u001b[0;34m)\u001b[0m\u001b[0;34m:\u001b[0m\u001b[0;34m\u001b[0m\u001b[0m\n\u001b[1;32m    403\u001b[0m     \u001b[0;32mif\u001b[0m \u001b[0misinstance\u001b[0m\u001b[0;34m(\u001b[0m\u001b[0mlevel\u001b[0m\u001b[0;34m,\u001b[0m \u001b[0;34m(\u001b[0m\u001b[0mtuple\u001b[0m\u001b[0;34m,\u001b[0m \u001b[0mlist\u001b[0m\u001b[0;34m)\u001b[0m\u001b[0;34m)\u001b[0m\u001b[0;34m:\u001b[0m\u001b[0;34m\u001b[0m\u001b[0m\n\u001b[0;32m--> 404\u001b[0;31m         \u001b[0;32mreturn\u001b[0m \u001b[0m_unstack_multiple\u001b[0m\u001b[0;34m(\u001b[0m\u001b[0mobj\u001b[0m\u001b[0;34m,\u001b[0m \u001b[0mlevel\u001b[0m\u001b[0;34m)\u001b[0m\u001b[0;34m\u001b[0m\u001b[0m\n\u001b[0m\u001b[1;32m    405\u001b[0m \u001b[0;34m\u001b[0m\u001b[0m\n\u001b[1;32m    406\u001b[0m     \u001b[0;32mif\u001b[0m \u001b[0misinstance\u001b[0m\u001b[0;34m(\u001b[0m\u001b[0mobj\u001b[0m\u001b[0;34m,\u001b[0m \u001b[0mDataFrame\u001b[0m\u001b[0;34m)\u001b[0m\u001b[0;34m:\u001b[0m\u001b[0;34m\u001b[0m\u001b[0m\n",
            "\u001b[0;32m~/anaconda3_420/lib/python3.5/site-packages/pandas/core/reshape.py\u001b[0m in \u001b[0;36m_unstack_multiple\u001b[0;34m(data, clocs)\u001b[0m\n\u001b[1;32m    297\u001b[0m         \u001b[0mdummy\u001b[0m\u001b[0;34m.\u001b[0m\u001b[0mindex\u001b[0m \u001b[0;34m=\u001b[0m \u001b[0mdummy_index\u001b[0m\u001b[0;34m\u001b[0m\u001b[0m\n\u001b[1;32m    298\u001b[0m \u001b[0;34m\u001b[0m\u001b[0m\n\u001b[0;32m--> 299\u001b[0;31m         \u001b[0munstacked\u001b[0m \u001b[0;34m=\u001b[0m \u001b[0mdummy\u001b[0m\u001b[0;34m.\u001b[0m\u001b[0munstack\u001b[0m\u001b[0;34m(\u001b[0m\u001b[0;34m'__placeholder__'\u001b[0m\u001b[0;34m)\u001b[0m\u001b[0;34m\u001b[0m\u001b[0m\n\u001b[0m\u001b[1;32m    300\u001b[0m         \u001b[0;32mif\u001b[0m \u001b[0misinstance\u001b[0m\u001b[0;34m(\u001b[0m\u001b[0munstacked\u001b[0m\u001b[0;34m,\u001b[0m \u001b[0mSeries\u001b[0m\u001b[0;34m)\u001b[0m\u001b[0;34m:\u001b[0m\u001b[0;34m\u001b[0m\u001b[0m\n\u001b[1;32m    301\u001b[0m             \u001b[0munstcols\u001b[0m \u001b[0;34m=\u001b[0m \u001b[0munstacked\u001b[0m\u001b[0;34m.\u001b[0m\u001b[0mindex\u001b[0m\u001b[0;34m\u001b[0m\u001b[0m\n",
            "\u001b[0;32m~/anaconda3_420/lib/python3.5/site-packages/pandas/core/frame.py\u001b[0m in \u001b[0;36munstack\u001b[0;34m(self, level, fill_value)\u001b[0m\n\u001b[1;32m   4034\u001b[0m         \"\"\"\n\u001b[1;32m   4035\u001b[0m         \u001b[0;32mfrom\u001b[0m \u001b[0mpandas\u001b[0m\u001b[0;34m.\u001b[0m\u001b[0mcore\u001b[0m\u001b[0;34m.\u001b[0m\u001b[0mreshape\u001b[0m \u001b[0;32mimport\u001b[0m \u001b[0munstack\u001b[0m\u001b[0;34m\u001b[0m\u001b[0m\n\u001b[0;32m-> 4036\u001b[0;31m         \u001b[0;32mreturn\u001b[0m \u001b[0munstack\u001b[0m\u001b[0;34m(\u001b[0m\u001b[0mself\u001b[0m\u001b[0;34m,\u001b[0m \u001b[0mlevel\u001b[0m\u001b[0;34m,\u001b[0m \u001b[0mfill_value\u001b[0m\u001b[0;34m)\u001b[0m\u001b[0;34m\u001b[0m\u001b[0m\n\u001b[0m\u001b[1;32m   4037\u001b[0m \u001b[0;34m\u001b[0m\u001b[0m\n\u001b[1;32m   4038\u001b[0m     \u001b[0;31m# ----------------------------------------------------------------------\u001b[0m\u001b[0;34m\u001b[0m\u001b[0;34m\u001b[0m\u001b[0m\n",
            "\u001b[0;32m~/anaconda3_420/lib/python3.5/site-packages/pandas/core/reshape.py\u001b[0m in \u001b[0;36munstack\u001b[0;34m(obj, level, fill_value)\u001b[0m\n\u001b[1;32m    406\u001b[0m     \u001b[0;32mif\u001b[0m \u001b[0misinstance\u001b[0m\u001b[0;34m(\u001b[0m\u001b[0mobj\u001b[0m\u001b[0;34m,\u001b[0m \u001b[0mDataFrame\u001b[0m\u001b[0;34m)\u001b[0m\u001b[0;34m:\u001b[0m\u001b[0;34m\u001b[0m\u001b[0m\n\u001b[1;32m    407\u001b[0m         \u001b[0;32mif\u001b[0m \u001b[0misinstance\u001b[0m\u001b[0;34m(\u001b[0m\u001b[0mobj\u001b[0m\u001b[0;34m.\u001b[0m\u001b[0mindex\u001b[0m\u001b[0;34m,\u001b[0m \u001b[0mMultiIndex\u001b[0m\u001b[0;34m)\u001b[0m\u001b[0;34m:\u001b[0m\u001b[0;34m\u001b[0m\u001b[0m\n\u001b[0;32m--> 408\u001b[0;31m             \u001b[0;32mreturn\u001b[0m \u001b[0m_unstack_frame\u001b[0m\u001b[0;34m(\u001b[0m\u001b[0mobj\u001b[0m\u001b[0;34m,\u001b[0m \u001b[0mlevel\u001b[0m\u001b[0;34m,\u001b[0m \u001b[0mfill_value\u001b[0m\u001b[0;34m=\u001b[0m\u001b[0mfill_value\u001b[0m\u001b[0;34m)\u001b[0m\u001b[0;34m\u001b[0m\u001b[0m\n\u001b[0m\u001b[1;32m    409\u001b[0m         \u001b[0;32melse\u001b[0m\u001b[0;34m:\u001b[0m\u001b[0;34m\u001b[0m\u001b[0m\n\u001b[1;32m    410\u001b[0m             \u001b[0;32mreturn\u001b[0m \u001b[0mobj\u001b[0m\u001b[0;34m.\u001b[0m\u001b[0mT\u001b[0m\u001b[0;34m.\u001b[0m\u001b[0mstack\u001b[0m\u001b[0;34m(\u001b[0m\u001b[0mdropna\u001b[0m\u001b[0;34m=\u001b[0m\u001b[0;32mFalse\u001b[0m\u001b[0;34m)\u001b[0m\u001b[0;34m\u001b[0m\u001b[0m\n",
            "\u001b[0;32m~/anaconda3_420/lib/python3.5/site-packages/pandas/core/reshape.py\u001b[0m in \u001b[0;36m_unstack_frame\u001b[0;34m(obj, level, fill_value)\u001b[0m\n\u001b[1;32m    449\u001b[0m         unstacker = _Unstacker(obj.values, obj.index, level=level,\n\u001b[1;32m    450\u001b[0m                                \u001b[0mvalue_columns\u001b[0m\u001b[0;34m=\u001b[0m\u001b[0mobj\u001b[0m\u001b[0;34m.\u001b[0m\u001b[0mcolumns\u001b[0m\u001b[0;34m,\u001b[0m\u001b[0;34m\u001b[0m\u001b[0m\n\u001b[0;32m--> 451\u001b[0;31m                                fill_value=fill_value)\n\u001b[0m\u001b[1;32m    452\u001b[0m         \u001b[0;32mreturn\u001b[0m \u001b[0munstacker\u001b[0m\u001b[0;34m.\u001b[0m\u001b[0mget_result\u001b[0m\u001b[0;34m(\u001b[0m\u001b[0;34m)\u001b[0m\u001b[0;34m\u001b[0m\u001b[0m\n\u001b[1;32m    453\u001b[0m \u001b[0;34m\u001b[0m\u001b[0m\n",
            "\u001b[0;32m~/anaconda3_420/lib/python3.5/site-packages/pandas/core/reshape.py\u001b[0m in \u001b[0;36m__init__\u001b[0;34m(self, values, index, level, value_columns, fill_value)\u001b[0m\n\u001b[1;32m    101\u001b[0m \u001b[0;34m\u001b[0m\u001b[0m\n\u001b[1;32m    102\u001b[0m         \u001b[0mself\u001b[0m\u001b[0;34m.\u001b[0m\u001b[0m_make_sorted_values_labels\u001b[0m\u001b[0;34m(\u001b[0m\u001b[0;34m)\u001b[0m\u001b[0;34m\u001b[0m\u001b[0m\n\u001b[0;32m--> 103\u001b[0;31m         \u001b[0mself\u001b[0m\u001b[0;34m.\u001b[0m\u001b[0m_make_selectors\u001b[0m\u001b[0;34m(\u001b[0m\u001b[0;34m)\u001b[0m\u001b[0;34m\u001b[0m\u001b[0m\n\u001b[0m\u001b[1;32m    104\u001b[0m \u001b[0;34m\u001b[0m\u001b[0m\n\u001b[1;32m    105\u001b[0m     \u001b[0;32mdef\u001b[0m \u001b[0m_make_sorted_values_labels\u001b[0m\u001b[0;34m(\u001b[0m\u001b[0mself\u001b[0m\u001b[0;34m)\u001b[0m\u001b[0;34m:\u001b[0m\u001b[0;34m\u001b[0m\u001b[0m\n",
            "\u001b[0;32m~/anaconda3_420/lib/python3.5/site-packages/pandas/core/reshape.py\u001b[0m in \u001b[0;36m_make_selectors\u001b[0;34m(self)\u001b[0m\n\u001b[1;32m    135\u001b[0m \u001b[0;34m\u001b[0m\u001b[0m\n\u001b[1;32m    136\u001b[0m         \u001b[0mselector\u001b[0m \u001b[0;34m=\u001b[0m \u001b[0mself\u001b[0m\u001b[0;34m.\u001b[0m\u001b[0msorted_labels\u001b[0m\u001b[0;34m[\u001b[0m\u001b[0;34m-\u001b[0m\u001b[0;36m1\u001b[0m\u001b[0;34m]\u001b[0m \u001b[0;34m+\u001b[0m \u001b[0mstride\u001b[0m \u001b[0;34m*\u001b[0m \u001b[0mcomp_index\u001b[0m \u001b[0;34m+\u001b[0m \u001b[0mself\u001b[0m\u001b[0;34m.\u001b[0m\u001b[0mlift\u001b[0m\u001b[0;34m\u001b[0m\u001b[0m\n\u001b[0;32m--> 137\u001b[0;31m         \u001b[0mmask\u001b[0m \u001b[0;34m=\u001b[0m \u001b[0mnp\u001b[0m\u001b[0;34m.\u001b[0m\u001b[0mzeros\u001b[0m\u001b[0;34m(\u001b[0m\u001b[0mnp\u001b[0m\u001b[0;34m.\u001b[0m\u001b[0mprod\u001b[0m\u001b[0;34m(\u001b[0m\u001b[0mself\u001b[0m\u001b[0;34m.\u001b[0m\u001b[0mfull_shape\u001b[0m\u001b[0;34m)\u001b[0m\u001b[0;34m,\u001b[0m \u001b[0mdtype\u001b[0m\u001b[0;34m=\u001b[0m\u001b[0mbool\u001b[0m\u001b[0;34m)\u001b[0m\u001b[0;34m\u001b[0m\u001b[0m\n\u001b[0m\u001b[1;32m    138\u001b[0m         \u001b[0mmask\u001b[0m\u001b[0;34m.\u001b[0m\u001b[0mput\u001b[0m\u001b[0;34m(\u001b[0m\u001b[0mselector\u001b[0m\u001b[0;34m,\u001b[0m \u001b[0;32mTrue\u001b[0m\u001b[0;34m)\u001b[0m\u001b[0;34m\u001b[0m\u001b[0m\n\u001b[1;32m    139\u001b[0m \u001b[0;34m\u001b[0m\u001b[0m\n",
            "\u001b[0;31mMemoryError\u001b[0m: "
          ]
        }
      ]
    },
    {
      "metadata": {
        "id": "9ufvM7BjI9hB",
        "colab_type": "text"
      },
      "cell_type": "markdown",
      "source": "Se procede a normalizar la compras para ser comparables entre los valores"
    },
    {
      "metadata": {
        "id": "bFpmf4uWRFJE",
        "colab_type": "code",
        "outputId": "eaccc206-967e-4447-c3f3-be512ba0d75d",
        "colab": {
          "base_uri": "https://localhost:8080/",
          "height": 225
        },
        "trusted": true
      },
      "cell_type": "code",
      "source": "matrix_usuario_producto_norm = (matrix_usuario_producto-matrix_usuario_producto.min())/(matrix_usuario_producto.max()-matrix_usuario_producto.min())\n# Se crea una tabla como resultado de la normalización  \nd = matrix_usuario_producto_norm.reset_index() \nd.index.names = ['value_freq'] \ndata_norm = pd.melt(d, id_vars=['customer_id'], value_name='value_freq').dropna()\nprint(data_norm.shape)\ndata_norm.head()",
      "execution_count": 36,
      "outputs": [
        {
          "output_type": "error",
          "ename": "TypeError",
          "evalue": "Could not operate array([24210.,  4909.,  9290., ...,  6811.,  4104., 10012.]) with block values ",
          "traceback": [
            "\u001b[0;31m---------------------------------------------------------------------------\u001b[0m",
            "\u001b[0;31mMemoryError\u001b[0m                               Traceback (most recent call last)",
            "\u001b[0;32m~/anaconda3_420/lib/python3.5/site-packages/pandas/core/internals.py\u001b[0m in \u001b[0;36meval\u001b[0;34m(self, func, other, raise_on_error, try_cast, mgr)\u001b[0m\n\u001b[1;32m   1158\u001b[0m             \u001b[0;32mwith\u001b[0m \u001b[0mnp\u001b[0m\u001b[0;34m.\u001b[0m\u001b[0merrstate\u001b[0m\u001b[0;34m(\u001b[0m\u001b[0mall\u001b[0m\u001b[0;34m=\u001b[0m\u001b[0;34m'ignore'\u001b[0m\u001b[0;34m)\u001b[0m\u001b[0;34m:\u001b[0m\u001b[0;34m\u001b[0m\u001b[0m\n\u001b[0;32m-> 1159\u001b[0;31m                 \u001b[0mresult\u001b[0m \u001b[0;34m=\u001b[0m \u001b[0mget_result\u001b[0m\u001b[0;34m(\u001b[0m\u001b[0mother\u001b[0m\u001b[0;34m)\u001b[0m\u001b[0;34m\u001b[0m\u001b[0m\n\u001b[0m\u001b[1;32m   1160\u001b[0m \u001b[0;34m\u001b[0m\u001b[0m\n",
            "\u001b[0;32m~/anaconda3_420/lib/python3.5/site-packages/pandas/core/internals.py\u001b[0m in \u001b[0;36mget_result\u001b[0;34m(other)\u001b[0m\n\u001b[1;32m   1128\u001b[0m             \u001b[0;32melse\u001b[0m\u001b[0;34m:\u001b[0m\u001b[0;34m\u001b[0m\u001b[0m\n\u001b[0;32m-> 1129\u001b[0;31m                 \u001b[0mresult\u001b[0m \u001b[0;34m=\u001b[0m \u001b[0mfunc\u001b[0m\u001b[0;34m(\u001b[0m\u001b[0mvalues\u001b[0m\u001b[0;34m,\u001b[0m \u001b[0mother\u001b[0m\u001b[0;34m)\u001b[0m\u001b[0;34m\u001b[0m\u001b[0m\n\u001b[0m\u001b[1;32m   1130\u001b[0m \u001b[0;34m\u001b[0m\u001b[0m\n",
            "\u001b[0;32m~/anaconda3_420/lib/python3.5/site-packages/pandas/core/ops.py\u001b[0m in \u001b[0;36mna_op\u001b[0;34m(x, y)\u001b[0m\n\u001b[1;32m   1169\u001b[0m             result = expressions.evaluate(op, str_rep, x, y,\n\u001b[0;32m-> 1170\u001b[0;31m                                           raise_on_error=True, **eval_kwargs)\n\u001b[0m\u001b[1;32m   1171\u001b[0m         \u001b[0;32mexcept\u001b[0m \u001b[0mTypeError\u001b[0m\u001b[0;34m:\u001b[0m\u001b[0;34m\u001b[0m\u001b[0m\n",
            "\u001b[0;32m~/anaconda3_420/lib/python3.5/site-packages/pandas/computation/expressions.py\u001b[0m in \u001b[0;36mevaluate\u001b[0;34m(op, op_str, a, b, raise_on_error, use_numexpr, **eval_kwargs)\u001b[0m\n\u001b[1;32m    209\u001b[0m         return _evaluate(op, op_str, a, b, raise_on_error=raise_on_error,\n\u001b[0;32m--> 210\u001b[0;31m                          **eval_kwargs)\n\u001b[0m\u001b[1;32m    211\u001b[0m     \u001b[0;32mreturn\u001b[0m \u001b[0m_evaluate_standard\u001b[0m\u001b[0;34m(\u001b[0m\u001b[0mop\u001b[0m\u001b[0;34m,\u001b[0m \u001b[0mop_str\u001b[0m\u001b[0;34m,\u001b[0m \u001b[0ma\u001b[0m\u001b[0;34m,\u001b[0m \u001b[0mb\u001b[0m\u001b[0;34m,\u001b[0m \u001b[0mraise_on_error\u001b[0m\u001b[0;34m=\u001b[0m\u001b[0mraise_on_error\u001b[0m\u001b[0;34m)\u001b[0m\u001b[0;34m\u001b[0m\u001b[0m\n",
            "\u001b[0;32m~/anaconda3_420/lib/python3.5/site-packages/pandas/computation/expressions.py\u001b[0m in \u001b[0;36m_evaluate_numexpr\u001b[0;34m(op, op_str, a, b, raise_on_error, truediv, reversed, **eval_kwargs)\u001b[0m\n\u001b[1;32m    108\u001b[0m                                  \u001b[0mcasting\u001b[0m\u001b[0;34m=\u001b[0m\u001b[0;34m'safe'\u001b[0m\u001b[0;34m,\u001b[0m \u001b[0mtruediv\u001b[0m\u001b[0;34m=\u001b[0m\u001b[0mtruediv\u001b[0m\u001b[0;34m,\u001b[0m\u001b[0;34m\u001b[0m\u001b[0m\n\u001b[0;32m--> 109\u001b[0;31m                                  **eval_kwargs)\n\u001b[0m\u001b[1;32m    110\u001b[0m         \u001b[0;32mexcept\u001b[0m \u001b[0mValueError\u001b[0m \u001b[0;32mas\u001b[0m \u001b[0mdetail\u001b[0m\u001b[0;34m:\u001b[0m\u001b[0;34m\u001b[0m\u001b[0m\n",
            "\u001b[0;32m~/anaconda3_420/lib/python3.5/site-packages/numexpr/necompiler.py\u001b[0m in \u001b[0;36mevaluate\u001b[0;34m(ex, local_dict, global_dict, out, order, casting, **kwargs)\u001b[0m\n\u001b[1;32m    801\u001b[0m     \u001b[0;32mwith\u001b[0m \u001b[0mevaluate_lock\u001b[0m\u001b[0;34m:\u001b[0m\u001b[0;34m\u001b[0m\u001b[0m\n\u001b[0;32m--> 802\u001b[0;31m         \u001b[0;32mreturn\u001b[0m \u001b[0mcompiled_ex\u001b[0m\u001b[0;34m(\u001b[0m\u001b[0;34m*\u001b[0m\u001b[0marguments\u001b[0m\u001b[0;34m,\u001b[0m \u001b[0;34m**\u001b[0m\u001b[0mkwargs\u001b[0m\u001b[0;34m)\u001b[0m\u001b[0;34m\u001b[0m\u001b[0m\n\u001b[0m\u001b[1;32m    803\u001b[0m \u001b[0;34m\u001b[0m\u001b[0m\n",
            "\u001b[0;31mMemoryError\u001b[0m: ",
            "\nDuring handling of the above exception, another exception occurred:\n",
            "\u001b[0;31mTypeError\u001b[0m                                 Traceback (most recent call last)",
            "\u001b[0;32m<ipython-input-36-ee59b7320c47>\u001b[0m in \u001b[0;36m<module>\u001b[0;34m()\u001b[0m\n\u001b[0;32m----> 1\u001b[0;31m \u001b[0mmatrix_usuario_producto_norm\u001b[0m \u001b[0;34m=\u001b[0m \u001b[0;34m(\u001b[0m\u001b[0mmatrix_usuario_producto\u001b[0m\u001b[0;34m-\u001b[0m\u001b[0mmatrix_usuario_producto\u001b[0m\u001b[0;34m.\u001b[0m\u001b[0mmin\u001b[0m\u001b[0;34m(\u001b[0m\u001b[0;34m)\u001b[0m\u001b[0;34m)\u001b[0m\u001b[0;34m/\u001b[0m\u001b[0;34m(\u001b[0m\u001b[0mmatrix_usuario_producto\u001b[0m\u001b[0;34m.\u001b[0m\u001b[0mmax\u001b[0m\u001b[0;34m(\u001b[0m\u001b[0;34m)\u001b[0m\u001b[0;34m-\u001b[0m\u001b[0mmatrix_usuario_producto\u001b[0m\u001b[0;34m.\u001b[0m\u001b[0mmin\u001b[0m\u001b[0;34m(\u001b[0m\u001b[0;34m)\u001b[0m\u001b[0;34m)\u001b[0m\u001b[0;34m\u001b[0m\u001b[0m\n\u001b[0m\u001b[1;32m      2\u001b[0m \u001b[0;31m# Se crea una tabla como resultado de la normalización\u001b[0m\u001b[0;34m\u001b[0m\u001b[0;34m\u001b[0m\u001b[0m\n\u001b[1;32m      3\u001b[0m \u001b[0md\u001b[0m \u001b[0;34m=\u001b[0m \u001b[0mmatrix_usuario_producto_norm\u001b[0m\u001b[0;34m.\u001b[0m\u001b[0mreset_index\u001b[0m\u001b[0;34m(\u001b[0m\u001b[0;34m)\u001b[0m\u001b[0;34m\u001b[0m\u001b[0m\n\u001b[1;32m      4\u001b[0m \u001b[0md\u001b[0m\u001b[0;34m.\u001b[0m\u001b[0mindex\u001b[0m\u001b[0;34m.\u001b[0m\u001b[0mnames\u001b[0m \u001b[0;34m=\u001b[0m \u001b[0;34m[\u001b[0m\u001b[0;34m'value_freq'\u001b[0m\u001b[0;34m]\u001b[0m\u001b[0;34m\u001b[0m\u001b[0m\n\u001b[1;32m      5\u001b[0m \u001b[0mdata_norm\u001b[0m \u001b[0;34m=\u001b[0m \u001b[0mpd\u001b[0m\u001b[0;34m.\u001b[0m\u001b[0mmelt\u001b[0m\u001b[0;34m(\u001b[0m\u001b[0md\u001b[0m\u001b[0;34m,\u001b[0m \u001b[0mid_vars\u001b[0m\u001b[0;34m=\u001b[0m\u001b[0;34m[\u001b[0m\u001b[0;34m'customer_id'\u001b[0m\u001b[0;34m]\u001b[0m\u001b[0;34m,\u001b[0m \u001b[0mvalue_name\u001b[0m\u001b[0;34m=\u001b[0m\u001b[0;34m'value_freq'\u001b[0m\u001b[0;34m)\u001b[0m\u001b[0;34m.\u001b[0m\u001b[0mdropna\u001b[0m\u001b[0;34m(\u001b[0m\u001b[0;34m)\u001b[0m\u001b[0;34m\u001b[0m\u001b[0m\n",
            "\u001b[0;32m~/anaconda3_420/lib/python3.5/site-packages/pandas/core/ops.py\u001b[0m in \u001b[0;36mf\u001b[0;34m(self, other, axis, level, fill_value)\u001b[0m\n\u001b[1;32m   1228\u001b[0m             \u001b[0;32mreturn\u001b[0m \u001b[0mself\u001b[0m\u001b[0;34m.\u001b[0m\u001b[0m_combine_frame\u001b[0m\u001b[0;34m(\u001b[0m\u001b[0mother\u001b[0m\u001b[0;34m,\u001b[0m \u001b[0mna_op\u001b[0m\u001b[0;34m,\u001b[0m \u001b[0mfill_value\u001b[0m\u001b[0;34m,\u001b[0m \u001b[0mlevel\u001b[0m\u001b[0;34m)\u001b[0m\u001b[0;34m\u001b[0m\u001b[0m\n\u001b[1;32m   1229\u001b[0m         \u001b[0;32melif\u001b[0m \u001b[0misinstance\u001b[0m\u001b[0;34m(\u001b[0m\u001b[0mother\u001b[0m\u001b[0;34m,\u001b[0m \u001b[0mABCSeries\u001b[0m\u001b[0;34m)\u001b[0m\u001b[0;34m:\u001b[0m\u001b[0;34m\u001b[0m\u001b[0m\n\u001b[0;32m-> 1230\u001b[0;31m             \u001b[0;32mreturn\u001b[0m \u001b[0mself\u001b[0m\u001b[0;34m.\u001b[0m\u001b[0m_combine_series\u001b[0m\u001b[0;34m(\u001b[0m\u001b[0mother\u001b[0m\u001b[0;34m,\u001b[0m \u001b[0mna_op\u001b[0m\u001b[0;34m,\u001b[0m \u001b[0mfill_value\u001b[0m\u001b[0;34m,\u001b[0m \u001b[0maxis\u001b[0m\u001b[0;34m,\u001b[0m \u001b[0mlevel\u001b[0m\u001b[0;34m)\u001b[0m\u001b[0;34m\u001b[0m\u001b[0m\n\u001b[0m\u001b[1;32m   1231\u001b[0m         \u001b[0;32melse\u001b[0m\u001b[0;34m:\u001b[0m\u001b[0;34m\u001b[0m\u001b[0m\n\u001b[1;32m   1232\u001b[0m             \u001b[0;32mif\u001b[0m \u001b[0mfill_value\u001b[0m \u001b[0;32mis\u001b[0m \u001b[0;32mnot\u001b[0m \u001b[0;32mNone\u001b[0m\u001b[0;34m:\u001b[0m\u001b[0;34m\u001b[0m\u001b[0m\n",
            "\u001b[0;32m~/anaconda3_420/lib/python3.5/site-packages/pandas/core/frame.py\u001b[0m in \u001b[0;36m_combine_series\u001b[0;34m(self, other, func, fill_value, axis, level)\u001b[0m\n\u001b[1;32m   3583\u001b[0m                                                    fill_value=fill_value)\n\u001b[1;32m   3584\u001b[0m         return self._combine_series_infer(other, func, level=level,\n\u001b[0;32m-> 3585\u001b[0;31m                                           fill_value=fill_value)\n\u001b[0m\u001b[1;32m   3586\u001b[0m \u001b[0;34m\u001b[0m\u001b[0m\n\u001b[1;32m   3587\u001b[0m     \u001b[0;32mdef\u001b[0m \u001b[0m_combine_series_infer\u001b[0m\u001b[0;34m(\u001b[0m\u001b[0mself\u001b[0m\u001b[0;34m,\u001b[0m \u001b[0mother\u001b[0m\u001b[0;34m,\u001b[0m \u001b[0mfunc\u001b[0m\u001b[0;34m,\u001b[0m \u001b[0mlevel\u001b[0m\u001b[0;34m=\u001b[0m\u001b[0;32mNone\u001b[0m\u001b[0;34m,\u001b[0m \u001b[0mfill_value\u001b[0m\u001b[0;34m=\u001b[0m\u001b[0;32mNone\u001b[0m\u001b[0;34m)\u001b[0m\u001b[0;34m:\u001b[0m\u001b[0;34m\u001b[0m\u001b[0m\n",
            "\u001b[0;32m~/anaconda3_420/lib/python3.5/site-packages/pandas/core/frame.py\u001b[0m in \u001b[0;36m_combine_series_infer\u001b[0;34m(self, other, func, level, fill_value)\u001b[0m\n\u001b[1;32m   3595\u001b[0m \u001b[0;34m\u001b[0m\u001b[0m\n\u001b[1;32m   3596\u001b[0m         return self._combine_match_columns(other, func, level=level,\n\u001b[0;32m-> 3597\u001b[0;31m                                            fill_value=fill_value)\n\u001b[0m\u001b[1;32m   3598\u001b[0m \u001b[0;34m\u001b[0m\u001b[0m\n\u001b[1;32m   3599\u001b[0m     \u001b[0;32mdef\u001b[0m \u001b[0m_combine_match_index\u001b[0m\u001b[0;34m(\u001b[0m\u001b[0mself\u001b[0m\u001b[0;34m,\u001b[0m \u001b[0mother\u001b[0m\u001b[0;34m,\u001b[0m \u001b[0mfunc\u001b[0m\u001b[0;34m,\u001b[0m \u001b[0mlevel\u001b[0m\u001b[0;34m=\u001b[0m\u001b[0;32mNone\u001b[0m\u001b[0;34m,\u001b[0m \u001b[0mfill_value\u001b[0m\u001b[0;34m=\u001b[0m\u001b[0;32mNone\u001b[0m\u001b[0;34m)\u001b[0m\u001b[0;34m:\u001b[0m\u001b[0;34m\u001b[0m\u001b[0m\n",
            "\u001b[0;32m~/anaconda3_420/lib/python3.5/site-packages/pandas/core/frame.py\u001b[0m in \u001b[0;36m_combine_match_columns\u001b[0;34m(self, other, func, level, fill_value)\u001b[0m\n\u001b[1;32m   3615\u001b[0m \u001b[0;34m\u001b[0m\u001b[0m\n\u001b[1;32m   3616\u001b[0m         new_data = left._data.eval(func=func, other=right,\n\u001b[0;32m-> 3617\u001b[0;31m                                    axes=[left.columns, self.index])\n\u001b[0m\u001b[1;32m   3618\u001b[0m         \u001b[0;32mreturn\u001b[0m \u001b[0mself\u001b[0m\u001b[0;34m.\u001b[0m\u001b[0m_constructor\u001b[0m\u001b[0;34m(\u001b[0m\u001b[0mnew_data\u001b[0m\u001b[0;34m)\u001b[0m\u001b[0;34m\u001b[0m\u001b[0m\n\u001b[1;32m   3619\u001b[0m \u001b[0;34m\u001b[0m\u001b[0m\n",
            "\u001b[0;32m~/anaconda3_420/lib/python3.5/site-packages/pandas/core/internals.py\u001b[0m in \u001b[0;36meval\u001b[0;34m(self, **kwargs)\u001b[0m\n\u001b[1;32m   3160\u001b[0m \u001b[0;34m\u001b[0m\u001b[0m\n\u001b[1;32m   3161\u001b[0m     \u001b[0;32mdef\u001b[0m \u001b[0meval\u001b[0m\u001b[0;34m(\u001b[0m\u001b[0mself\u001b[0m\u001b[0;34m,\u001b[0m \u001b[0;34m**\u001b[0m\u001b[0mkwargs\u001b[0m\u001b[0;34m)\u001b[0m\u001b[0;34m:\u001b[0m\u001b[0;34m\u001b[0m\u001b[0m\n\u001b[0;32m-> 3162\u001b[0;31m         \u001b[0;32mreturn\u001b[0m \u001b[0mself\u001b[0m\u001b[0;34m.\u001b[0m\u001b[0mapply\u001b[0m\u001b[0;34m(\u001b[0m\u001b[0;34m'eval'\u001b[0m\u001b[0;34m,\u001b[0m \u001b[0;34m**\u001b[0m\u001b[0mkwargs\u001b[0m\u001b[0;34m)\u001b[0m\u001b[0;34m\u001b[0m\u001b[0m\n\u001b[0m\u001b[1;32m   3163\u001b[0m \u001b[0;34m\u001b[0m\u001b[0m\n\u001b[1;32m   3164\u001b[0m     \u001b[0;32mdef\u001b[0m \u001b[0mquantile\u001b[0m\u001b[0;34m(\u001b[0m\u001b[0mself\u001b[0m\u001b[0;34m,\u001b[0m \u001b[0;34m**\u001b[0m\u001b[0mkwargs\u001b[0m\u001b[0;34m)\u001b[0m\u001b[0;34m:\u001b[0m\u001b[0;34m\u001b[0m\u001b[0m\n",
            "\u001b[0;32m~/anaconda3_420/lib/python3.5/site-packages/pandas/core/internals.py\u001b[0m in \u001b[0;36mapply\u001b[0;34m(self, f, axes, filter, do_integrity_check, consolidate, **kwargs)\u001b[0m\n\u001b[1;32m   3054\u001b[0m \u001b[0;34m\u001b[0m\u001b[0m\n\u001b[1;32m   3055\u001b[0m             \u001b[0mkwargs\u001b[0m\u001b[0;34m[\u001b[0m\u001b[0;34m'mgr'\u001b[0m\u001b[0;34m]\u001b[0m \u001b[0;34m=\u001b[0m \u001b[0mself\u001b[0m\u001b[0;34m\u001b[0m\u001b[0m\n\u001b[0;32m-> 3056\u001b[0;31m             \u001b[0mapplied\u001b[0m \u001b[0;34m=\u001b[0m \u001b[0mgetattr\u001b[0m\u001b[0;34m(\u001b[0m\u001b[0mb\u001b[0m\u001b[0;34m,\u001b[0m \u001b[0mf\u001b[0m\u001b[0;34m)\u001b[0m\u001b[0;34m(\u001b[0m\u001b[0;34m**\u001b[0m\u001b[0mkwargs\u001b[0m\u001b[0;34m)\u001b[0m\u001b[0;34m\u001b[0m\u001b[0m\n\u001b[0m\u001b[1;32m   3057\u001b[0m             \u001b[0mresult_blocks\u001b[0m \u001b[0;34m=\u001b[0m \u001b[0m_extend_blocks\u001b[0m\u001b[0;34m(\u001b[0m\u001b[0mapplied\u001b[0m\u001b[0;34m,\u001b[0m \u001b[0mresult_blocks\u001b[0m\u001b[0;34m)\u001b[0m\u001b[0;34m\u001b[0m\u001b[0m\n\u001b[1;32m   3058\u001b[0m \u001b[0;34m\u001b[0m\u001b[0m\n",
            "\u001b[0;32m~/anaconda3_420/lib/python3.5/site-packages/pandas/core/internals.py\u001b[0m in \u001b[0;36meval\u001b[0;34m(self, func, other, raise_on_error, try_cast, mgr)\u001b[0m\n\u001b[1;32m   1164\u001b[0m             \u001b[0;32mraise\u001b[0m\u001b[0;34m\u001b[0m\u001b[0m\n\u001b[1;32m   1165\u001b[0m         \u001b[0;32mexcept\u001b[0m \u001b[0mException\u001b[0m \u001b[0;32mas\u001b[0m \u001b[0mdetail\u001b[0m\u001b[0;34m:\u001b[0m\u001b[0;34m\u001b[0m\u001b[0m\n\u001b[0;32m-> 1166\u001b[0;31m             \u001b[0mresult\u001b[0m \u001b[0;34m=\u001b[0m \u001b[0mhandle_error\u001b[0m\u001b[0;34m(\u001b[0m\u001b[0;34m)\u001b[0m\u001b[0;34m\u001b[0m\u001b[0m\n\u001b[0m\u001b[1;32m   1167\u001b[0m \u001b[0;34m\u001b[0m\u001b[0m\n\u001b[1;32m   1168\u001b[0m         \u001b[0;31m# technically a broadcast error in numpy can 'work' by returning a\u001b[0m\u001b[0;34m\u001b[0m\u001b[0;34m\u001b[0m\u001b[0m\n",
            "\u001b[0;32m~/anaconda3_420/lib/python3.5/site-packages/pandas/core/internals.py\u001b[0m in \u001b[0;36mhandle_error\u001b[0;34m()\u001b[0m\n\u001b[1;32m   1147\u001b[0m             \u001b[0;32mif\u001b[0m \u001b[0mraise_on_error\u001b[0m\u001b[0;34m:\u001b[0m\u001b[0;34m\u001b[0m\u001b[0m\n\u001b[1;32m   1148\u001b[0m                 raise TypeError('Could not operate %s with block values %s' %\n\u001b[0;32m-> 1149\u001b[0;31m                                 (repr(other), str(detail)))\n\u001b[0m\u001b[1;32m   1150\u001b[0m             \u001b[0;32melse\u001b[0m\u001b[0;34m:\u001b[0m\u001b[0;34m\u001b[0m\u001b[0m\n\u001b[1;32m   1151\u001b[0m                 \u001b[0;31m# return the values\u001b[0m\u001b[0;34m\u001b[0m\u001b[0;34m\u001b[0m\u001b[0m\n",
            "\u001b[0;31mTypeError\u001b[0m: Could not operate array([24210.,  4909.,  9290., ...,  6811.,  4104., 10012.]) with block values "
          ]
        }
      ]
    },
    {
      "metadata": {
        "id": "5MFntGA4JSzU",
        "colab_type": "code",
        "colab": {},
        "trusted": true
      },
      "cell_type": "code",
      "source": "def split_data(data):\n    '''\n    Splits dataset into training and test set.\n    \n    Args:\n        data (pandas.DataFrame)\n        \n    Returns\n        train_data (tc.SFrame)\n        test_data (tc.SFrame)\n    '''\n    train, test = train_test_split(data, test_size = .2)\n    train_data = tc.SFrame(train)\n    test_data = tc.SFrame(test)\n    return train_data, test_data\n  \n  \n\n#train_data, test_data = train_test_split(datos_facturacion, test_size = .2)\n#train_data, test_data = train_test_split(datos_dummy, test_size = .2)\n\n\ntrain_data, test_data = split_data(datos_facturacion)\ntrain_data_dummy, test_data_dummy = split_data(datos_dummy)\ntrain_data_norm, test_data_norm = split_data(data_norm)",
      "execution_count": null,
      "outputs": []
    },
    {
      "metadata": {
        "id": "VGi6-R1EKjHB",
        "colab_type": "code",
        "colab": {},
        "trusted": true
      },
      "cell_type": "code",
      "source": "#A more complicated but common approach to predict purchase items is collaborative filtering. \n#I will discuss more about the popularity model and collaborative filtering in the later section. For now, let’s first define our variables to use in the models:\n\n# constant variables to define field names include:\nuser_id = 'customer_id'\nitem_id = 'product_id'\nusers_to_recommend = list(datos_clientes[user_id])\nn_rec = 10 # number of items to recommend\nn_display = 30 # to display the first few rows in an output dataset",
      "execution_count": null,
      "outputs": []
    },
    {
      "metadata": {
        "id": "fr2hDc2JMolD",
        "colab_type": "code",
        "colab": {},
        "trusted": true
      },
      "cell_type": "code",
      "source": "def model(train_data, name, user_id, item_id, target, users_to_recommend, n_rec, n_display):\n    if name == 'popularity':\n        model = tc.popularity_recommender.create(train_data, \n                                                    user_id=user_id, \n                                                    item_id=item_id, \n                                                    target=target)\n    elif name == 'cosine':\n        model = tc.item_similarity_recommender.create(train_data, \n                                                    user_id=user_id, \n                                                    item_id=item_id, \n                                                    target=target, \n                                                    similarity_type='cosine')\n    elif name == 'pearson':\n        model = tc.item_similarity_recommender.create(train_data, \n                                                    user_id=user_id, \n                                                    item_id=item_id, \n                                                    target=target, \n                                                    similarity_type='pearson')\n        \n    recom = model.recommend(users=users_to_recommend, k=n_rec)\n    recom.print_rows(n_display)\n    return model",
      "execution_count": null,
      "outputs": []
    },
    {
      "metadata": {
        "id": "hh_vUIr5Moon",
        "colab_type": "code",
        "outputId": "3d3f11be-479a-471a-a0b3-79b4ca8ab7d6",
        "colab": {
          "base_uri": "https://localhost:8080/",
          "height": 1000
        },
        "trusted": true
      },
      "cell_type": "code",
      "source": "name = 'popularity'\ntarget = 'total_value'\npopularity_model = model(train_data, name, user_id, item_id, target, users_to_recommend, n_rec, n_display)",
      "execution_count": null,
      "outputs": []
    },
    {
      "metadata": {
        "id": "5xfjcb-nMozK",
        "colab_type": "code",
        "outputId": "74d1bf3d-dafa-4db1-8ea8-00adc66b9bc3",
        "colab": {
          "base_uri": "https://localhost:8080/",
          "height": 965
        },
        "trusted": true
      },
      "cell_type": "code",
      "source": "name = 'popularity'\ntarget = 'total_dummy'\npop_dummy = model(train_data_dummy, name, user_id, item_id, target, users_to_recommend, n_rec, n_display)",
      "execution_count": null,
      "outputs": []
    },
    {
      "metadata": {
        "id": "GpBNCc1JMo34",
        "colab_type": "code",
        "outputId": "ac69efe7-a7ce-401d-ac66-4cbb17b0f505",
        "colab": {
          "base_uri": "https://localhost:8080/",
          "height": 911
        },
        "trusted": true
      },
      "cell_type": "code",
      "source": "name = 'popularity'\ntarget = 'value_freq'\npop_norm = model(train_data_norm, name, user_id, item_id, target, users_to_recommend, n_rec, n_display)",
      "execution_count": null,
      "outputs": []
    },
    {
      "metadata": {
        "id": "AD7_lRS2Mo6F",
        "colab_type": "code",
        "outputId": "bb032b44-b595-4f81-d3d0-0d27c1a804af",
        "colab": {
          "base_uri": "https://localhost:8080/",
          "height": 1000
        },
        "trusted": true
      },
      "cell_type": "code",
      "source": "#colaborativa\nname = 'cosine'\ntarget = 'total_value'\ncos = model(train_data, name, user_id, item_id, target, users_to_recommend, n_rec, n_display)",
      "execution_count": null,
      "outputs": []
    },
    {
      "metadata": {
        "id": "G41BNhmAMpAK",
        "colab_type": "code",
        "outputId": "e5fba8f1-e17a-4893-c887-984cc1bb40c1",
        "colab": {
          "base_uri": "https://localhost:8080/",
          "height": 1000
        },
        "trusted": true
      },
      "cell_type": "code",
      "source": "name = 'cosine'\ntarget = 'total_dummy'\ncos_dummy = model(train_data_dummy, name, user_id, item_id, target, users_to_recommend, n_rec, n_display)\n",
      "execution_count": null,
      "outputs": []
    },
    {
      "metadata": {
        "id": "SuzckFzVMo9e",
        "colab_type": "code",
        "outputId": "13377af2-74b4-455c-d3e0-0c94f5f58209",
        "colab": {
          "base_uri": "https://localhost:8080/",
          "height": 1000
        },
        "trusted": true
      },
      "cell_type": "code",
      "source": "\nname = 'cosine'\ntarget = 'value_freq'\ncos_norm = model(train_data_norm, name, user_id, item_id, target, users_to_recommend, n_rec, n_display)\n",
      "execution_count": null,
      "outputs": []
    },
    {
      "metadata": {
        "id": "U_0RuA1CMo1X",
        "colab_type": "code",
        "outputId": "fef31402-f54e-47cd-8ad1-25ae52d9df61",
        "colab": {
          "base_uri": "https://localhost:8080/",
          "height": 1000
        },
        "trusted": true
      },
      "cell_type": "code",
      "source": "name = 'pearson'\ntarget = 'total_value'\npear = model(train_data, name, user_id, item_id, target, users_to_recommend, n_rec, n_display)",
      "execution_count": null,
      "outputs": []
    },
    {
      "metadata": {
        "id": "Ps6wOv1_Mox9",
        "colab_type": "code",
        "outputId": "44736b04-b9e4-4881-e38e-1c71cce060ee",
        "colab": {
          "base_uri": "https://localhost:8080/",
          "height": 1000
        },
        "trusted": true
      },
      "cell_type": "code",
      "source": "name = 'pearson'\ntarget = 'total_dummy'\npear_dummy = model(train_data_dummy, name, user_id, item_id, target, users_to_recommend, n_rec, n_display)",
      "execution_count": null,
      "outputs": []
    },
    {
      "metadata": {
        "id": "nASXZmJaMov1",
        "colab_type": "code",
        "outputId": "4a3a6648-92f1-494a-db25-e5b6ffd9d345",
        "colab": {
          "base_uri": "https://localhost:8080/",
          "height": 1000
        },
        "trusted": true
      },
      "cell_type": "code",
      "source": "name = 'pearson'\ntarget = 'value_freq'\npear_norm = model(train_data_norm, name, user_id, item_id, target, users_to_recommend, n_rec, n_display)\n",
      "execution_count": null,
      "outputs": []
    },
    {
      "metadata": {
        "id": "W-ld6TA6Rqgb",
        "colab_type": "code",
        "colab": {},
        "trusted": true
      },
      "cell_type": "code",
      "source": "models_w_counts = [popularity_model, cos, pear]\nmodels_w_dummy = [pop_dummy, cos_dummy, pear_dummy]\nmodels_w_norm = [pop_norm, cos_norm, pear_norm]\nnames_w_counts = ['Popularity Model on Purchase Counts', 'Cosine Similarity on Purchase Counts', 'Pearson Similarity on Purchase Counts']\nnames_w_dummy = ['Popularity Model on Purchase Dummy', 'Cosine Similarity on Purchase Dummy', 'Pearson Similarity on Purchase Dummy']\nnames_w_norm = ['Popularity Model on Scaled Purchase Counts', 'Cosine Similarity on Scaled Purchase Counts', 'Pearson Similarity on Scaled Purchase Counts']",
      "execution_count": null,
      "outputs": []
    },
    {
      "metadata": {
        "id": "ZUzFVxu4Rqnc",
        "colab_type": "code",
        "outputId": "532bab5f-67b8-4608-91f9-1a5af6ba8d1d",
        "colab": {
          "base_uri": "https://localhost:8080/",
          "height": 1000
        },
        "trusted": true
      },
      "cell_type": "code",
      "source": "eval_counts = tc.recommender.util.compare_models(test_data, models_w_counts, model_names=names_w_counts)",
      "execution_count": null,
      "outputs": []
    },
    {
      "metadata": {
        "id": "wylVm8Ejy4Tc",
        "colab_type": "code",
        "colab": {
          "base_uri": "https://localhost:8080/",
          "height": 1000
        },
        "outputId": "c29a6423-d4a7-42a5-b565-2dcfdb9ac623",
        "trusted": true
      },
      "cell_type": "code",
      "source": "eval_dummy = tc.recommender.util.compare_models(test_data_dummy, models_w_dummy, model_names=names_w_dummy)\n",
      "execution_count": null,
      "outputs": []
    },
    {
      "metadata": {
        "id": "mRwJ6dP3y6Cr",
        "colab_type": "code",
        "colab": {
          "base_uri": "https://localhost:8080/",
          "height": 1000
        },
        "outputId": "fceca496-2fbe-4951-ca03-788a66363dab",
        "trusted": true
      },
      "cell_type": "code",
      "source": "eval_norm = tc.recommender.util.compare_models(test_data_norm, models_w_norm, model_names=names_w_norm)",
      "execution_count": null,
      "outputs": []
    },
    {
      "metadata": {
        "id": "biOrWqe5Rqwl",
        "colab_type": "code",
        "outputId": "ba5a9ca0-8c25-4fc1-c27c-93e744f15de2",
        "colab": {
          "base_uri": "https://localhost:8080/",
          "height": 1000
        },
        "trusted": true
      },
      "cell_type": "code",
      "source": "final_model = tc.item_similarity_recommender.create(tc.SFrame(data_norm), \n                                            user_id=user_id, \n                                            item_id=item_id, \n                                            target='value_freq', similarity_type='cosine')\nrecom = final_model.recommend(users=users_to_recommend, k=n_rec)\nrecom.print_rows(n_display)",
      "execution_count": null,
      "outputs": []
    },
    {
      "metadata": {
        "id": "dItyeJf0Rq2q",
        "colab_type": "code",
        "outputId": "8edd5271-1a8b-43d1-e699-c4f4764fccf5",
        "colab": {
          "base_uri": "https://localhost:8080/",
          "height": 225
        },
        "trusted": true
      },
      "cell_type": "code",
      "source": "df_rec = recom.to_dataframe()\nprint(df_rec.shape)\ndf_rec.head()",
      "execution_count": null,
      "outputs": []
    },
    {
      "metadata": {
        "id": "x_r_3EtlRqzo",
        "colab_type": "code",
        "colab": {},
        "trusted": true
      },
      "cell_type": "code",
      "source": "def create_output(model, users_to_recommend, n_rec, print_csv=True):\n    recomendation = model.recommend(users=users_to_recommend, k=n_rec)\n    df_rec = recomendation.to_dataframe()\n    df_rec['recommendedProducts'] = df_rec.groupby([user_id])[item_id] \\\n        .transform(lambda x: '|'.join(x.astype(str)))\n    df_output = df_rec[['customer_id', 'recommendedProducts']].drop_duplicates() \\\n        .sort_values('customer_id').set_index('customer_id')\n    if print_csv:\n        df_output.to_csv(directorio+'option1_recommendation.csv')\n        print(\"An output file can be found in 'output' folder with name 'option1_recommendation.csv'\")\n    return df_output",
      "execution_count": null,
      "outputs": []
    },
    {
      "metadata": {
        "id": "0CeASpebRquR",
        "colab_type": "code",
        "outputId": "6ef3b48f-0ea4-43e7-dff2-4fea76f8e822",
        "colab": {
          "base_uri": "https://localhost:8080/",
          "height": 415
        },
        "trusted": true
      },
      "cell_type": "code",
      "source": "df_output = create_output(pear_norm, users_to_recommend, n_rec, print_csv=True)\nprint(df_output.shape)\ndf_output.head()",
      "execution_count": null,
      "outputs": []
    },
    {
      "metadata": {
        "id": "rGhER8WeRqrH",
        "colab_type": "code",
        "colab": {},
        "trusted": true
      },
      "cell_type": "code",
      "source": "def customer_recomendation(customer_id):\n    if customer_id not in df_output.index:\n        print('Customer not found.')\n        return customer_id\n    return df_output.loc[customer_id]",
      "execution_count": null,
      "outputs": []
    },
    {
      "metadata": {
        "id": "8BRnRuxIRqkT",
        "colab_type": "code",
        "outputId": "523326d9-3c13-4ded-b7de-e42b25014bf7",
        "colab": {
          "base_uri": "https://localhost:8080/",
          "height": 55
        },
        "trusted": true
      },
      "cell_type": "code",
      "source": "customer_recomendation('000379cdec625522490c315e70c7a9fb')",
      "execution_count": null,
      "outputs": []
    },
    {
      "metadata": {
        "id": "KA63KR10RqdQ",
        "colab_type": "code",
        "colab": {},
        "trusted": true
      },
      "cell_type": "code",
      "source": "#train_data.groupby('product_id').agg({'total_value':'mean'}).sort_values(ascending=False)",
      "execution_count": null,
      "outputs": []
    },
    {
      "metadata": {
        "id": "tZc2nayDMos7",
        "colab_type": "code",
        "colab": {},
        "trusted": true
      },
      "cell_type": "code",
      "source": "",
      "execution_count": null,
      "outputs": []
    },
    {
      "metadata": {
        "id": "rzKGO3Ek8PNR",
        "colab_type": "code",
        "colab": {
          "base_uri": "https://localhost:8080/",
          "height": 256
        },
        "outputId": "3ce0599f-2df9-4040-832d-e2960d9affc0",
        "trusted": true
      },
      "cell_type": "code",
      "source": "# se genera el enfoque de recomendación con base colaborativo (usuarios a usuarios) cuando tienen historia\nmatrix_usuarios = pd.DataFrame(cosine_similarity(matrix_usuario_producto.fillna(0)))\n# Se verifica resultado\nmatrix_usuarios.head()",
      "execution_count": null,
      "outputs": []
    },
    {
      "metadata": {
        "id": "7yLm3eHlMVQ9",
        "colab_type": "code",
        "colab": {},
        "trusted": true
      },
      "cell_type": "code",
      "source": "",
      "execution_count": null,
      "outputs": []
    },
    {
      "metadata": {
        "id": "AD2xlcdFnIJS",
        "colab_type": "code",
        "outputId": "181f60c0-1be8-4adf-f1ad-2a9db2d6cc7e",
        "colab": {
          "base_uri": "https://localhost:8080/",
          "height": 444
        },
        "trusted": true
      },
      "cell_type": "code",
      "source": "# se cambian los nombres de las columnas con los IDs de los usuarios\nmatrix_usuarios.columns = matrix_usuario_producto.index\nmatrix_usuarios['c_id'] = matrix_usuario_producto.index\nmatrix_usuarios = matrix_usuarios.set_index('c_id')\nmatrix_usuarios.head(10)",
      "execution_count": null,
      "outputs": []
    },
    {
      "metadata": {
        "id": "cznSlOk08S-S",
        "colab_type": "text"
      },
      "cell_type": "markdown",
      "source": "#### Aplicación para un cliente\nEn este momento ya se tiene la nueva herramienta de recomendación para ser entregada a los vendedores, a traves de esta se podra tomar a un cliente especifico y generarle una estrategia personalizada de penetración con base en la información historica de clientes similares. <br>\nSe visualizará a continuación como es el resultado de analizar un cliente con esta herramienta. El objtivo de este producto es que sea integrado a una herramienta BI , la cual facilite el uso de la misma a traves de dispositivos mobiles brindandole así al asesor la posibilidad de ir directamente a visitar a los clientes como parte de esta estrategia de fidelización del cliente. <br>\nPara este ejemplo se tomará al primer cliente con el id : **0281f03348b06722b7e0f92455daafd4** , el cual se visualiza en la anterior matriz. \n"
    },
    {
      "metadata": {
        "id": "bUb00ID38Qen",
        "colab_type": "code",
        "outputId": "47c5bbb2-0c17-4515-8cb1-5688e4350206",
        "colab": {
          "base_uri": "https://localhost:8080/",
          "height": 245
        },
        "trusted": true
      },
      "cell_type": "code",
      "source": "# Se identifican los  usuarios que se relacionan mas con el un cliente analizado, apoyando realizar una penentración de productos proactiva\nmatrix_usuarios.loc['0005ef4cd20d2893f0d9fbd94d3c0d97'].sort_values(ascending=False).head(10)  # se obtienen los primeros cuatro clientes\n# Ahora se analizará como se pueden penetrarle nuevos productos al cliente 17396 con base en la venta de 12347",
      "execution_count": null,
      "outputs": []
    },
    {
      "metadata": {
        "id": "SpNoyNJ28dDt",
        "colab_type": "code",
        "outputId": "c399ed84-27ca-4f5b-8237-e30a645c0f0f",
        "colab": {
          "base_uri": "https://localhost:8080/",
          "height": 74
        },
        "trusted": true
      },
      "cell_type": "code",
      "source": "# Se identifican los productos comprados por aeb3d464f6b83eecd79d6fd58d6208fb    \nproductos_comprados_ref = set(matrix_usuarios.loc['0005ef4cd20d2893f0d9fbd94d3c0d97'].iloc[matrix_usuarios.loc['0005ef4cd20d2893f0d9fbd94d3c0d97'].to_numpy().nonzero()].index)\nprint('Productos comprados cliente referencia:' + str(productos_comprados_ref))\n# Se identifican los productos comprados por d482c96cc23e02b643f79768912442c2        \nproductos_comprados_target = set(matrix_usuarios.loc['bf429f20c75a39eab83442cda8e59832'].iloc[matrix_usuarios.loc['bf429f20c75a39eab83442cda8e59832'].to_numpy().nonzero()].index)\nprint('Productos cliente a venderle nuevo productos:' + str(productos_comprados_target))\n# Producto con oportunidad de penetrar al cliente d482c96cc23e02b643f79768912442c2\nrecomendados = productos_comprados_ref - productos_comprados_target\nprint('Productos a venderle:' + str(recomendados))\n\n",
      "execution_count": null,
      "outputs": []
    },
    {
      "metadata": {
        "id": "rB1ENRMW8ehz",
        "colab_type": "code",
        "outputId": "ec5ff3da-35f0-4e5c-fc47-80ce6f2c260f",
        "colab": {
          "base_uri": "https://localhost:8080/",
          "height": 81
        },
        "trusted": true
      },
      "cell_type": "code",
      "source": "datos_producto.loc[datos_producto['product_id'].isin(recomendados),['product_id', 'product_category_name_english']].drop_duplicates().set_index('product_id')",
      "execution_count": null,
      "outputs": []
    },
    {
      "metadata": {
        "id": "-MCWVzpFFXGt",
        "colab_type": "text"
      },
      "cell_type": "markdown",
      "source": "### 1.2 Producto"
    },
    {
      "metadata": {
        "id": "iZEVh_F0Fkey",
        "colab_type": "code",
        "outputId": "f1380ade-9005-4280-e4eb-6ac2123230be",
        "colab": {
          "base_uri": "https://localhost:8080/",
          "height": 287
        },
        "trusted": true
      },
      "cell_type": "code",
      "source": "# se genera el enfoque de recomendación con base en los productos (producto a producto), lo cual es un factor interesante para los nuevos clientes que no tienen historia o\n# sobre clientes que estan en el proceso de lead a new business. Para este enfoque se realiza a traves de la matriz transpuesta original ya que su enfoque es con vista al producto. \nmatrix_producto = pd.DataFrame(cosine_similarity(matrix_usuario_producto.fillna(0).T))\n# se cambian los nombres de las columnas con los IDs de los productos\nmatrix_producto.columns = matrix_usuario_producto.T.index\nmatrix_producto['p_id'] = matrix_usuario_producto.T.index\nmatrix_producto = matrix_producto.set_index('p_id')\n# Se verifica resultado\nmatrix_producto.head()",
      "execution_count": null,
      "outputs": []
    },
    {
      "metadata": {
        "id": "cjlJf-A5GcK_",
        "colab_type": "code",
        "outputId": "04fe6881-f713-4195-bb57-bb172b9d9e4d",
        "colab": {
          "base_uri": "https://localhost:8080/",
          "height": 383
        },
        "trusted": true
      },
      "cell_type": "code",
      "source": "# Se identifican el top de clientes\ntop_10_prod = list(matrix_producto.loc['0009406fd7479715e4bef61dd91f2462'].sort_values(ascending=False).iloc[:10].index)\ndatos_producto.loc[datos_producto['product_id'].isin(top_10_prod)]",
      "execution_count": null,
      "outputs": []
    },
    {
      "metadata": {
        "id": "fcY-GkQiG68d",
        "colab_type": "text"
      },
      "cell_type": "markdown",
      "source": "## 2. Segmentación de Clientes"
    },
    {
      "metadata": {
        "id": "2O-Ll5wcq6u_",
        "colab_type": "code",
        "colab": {},
        "trusted": true
      },
      "cell_type": "code",
      "source": "from numpy import inf\ndef prevDivision(numerador, denominador):\n  return numerador / denominador if denominador else 0\n  ",
      "execution_count": null,
      "outputs": []
    },
    {
      "metadata": {
        "id": "NeaI_BBmG-jQ",
        "colab_type": "code",
        "outputId": "6842e9c8-bc9f-4304-bb5b-bf350031737a",
        "colab": {
          "base_uri": "https://localhost:8080/",
          "height": 238
        },
        "trusted": true
      },
      "cell_type": "code",
      "source": "# Agrupo la información de cliente para poder segmentarlo \n\ninformacion_cliente = datos_facturacion.groupby('customer_id').agg({\n    'total_value': sum,\n    'product_id': lambda x: x.nunique(),\n    'num_txn': sum,\n    \n}).fillna(0)\n\ninformacion_cliente.columns = ['IMP_TOTAL_VENTAS', 'NUM_TOTAL_PRODUCTOS','NUM_TOTAL_TXN']\n# ESTE HAY QUE CAMBIARLO POR LA MEDIANA\ninformacion_cliente['IMP_VENTA_PROMEDIO'] = informacion_cliente['IMP_TOTAL_VENTAS']/informacion_cliente['NUM_TOTAL_TXN']\ninformacion_cliente.head()",
      "execution_count": null,
      "outputs": []
    },
    {
      "metadata": {
        "id": "Lt3AfpL9Q3hc",
        "colab_type": "code",
        "outputId": "7d5a27b3-c4da-4686-cdb1-3b598a882af2",
        "colab": {
          "base_uri": "https://localhost:8080/",
          "height": 295
        },
        "trusted": true
      },
      "cell_type": "code",
      "source": "# Limpiar posibles errores\ninformacion_cliente=informacion_cliente.dropna()\ninformacion_cliente=informacion_cliente[~informacion_cliente.isin([np.nan, np.inf, -np.inf]).any(1)]\n\n# se pinta el codo\nX = np.array(informacion_cliente[[\"IMP_TOTAL_VENTAS\",\"NUM_TOTAL_PRODUCTOS\",\"NUM_TOTAL_TXN\",\"IMP_VENTA_PROMEDIO\"]].dropna())\nNc = range(1, 20)\nkmeans = [KMeans(n_clusters=i) for i in Nc]\nkmeans\nscore = [kmeans[i].fit(X).score(X) for i in range(len(kmeans))]\nscore\n\nplt.plot(Nc,score, 'ro-', markersize=8, lw=2)\nplt.xlabel('Number of Clusters')\nplt.ylabel('Score')\nplt.title('Elbow Curve')\nplt.show()",
      "execution_count": null,
      "outputs": []
    },
    {
      "metadata": {
        "id": "xYP5CNkiUmA3",
        "colab_type": "code",
        "outputId": "938ebb3d-f7f4-4430-a4cb-49bb1e4c496f",
        "colab": {
          "base_uri": "https://localhost:8080/",
          "height": 295
        },
        "trusted": true
      },
      "cell_type": "code",
      "source": "# Feature Scaling\nfrom sklearn.preprocessing import StandardScaler\n\nX = informacion_cliente.iloc[:, :].values\nsc_X = StandardScaler()\nX= sc_X.fit_transform(X)\nwcss = [] #With in cluster sum of squers(Inertia)\n#n_clusters is no.of clusters given by this method,\n#k-means++ is an random initialization methods for centriods to avoid random\n#intialization trap,\n#max_iter is max no of iterations defined when k-means is running\n#n_init is no of times k-means will run with different initial centroids\n\nfor i in range(1,11): #From 2-10 doing multiple random initializations can make a huge difference to find a better local optima\n    kmeans = KMeans(n_clusters = i, init ='k-means++',max_iter=300,n_init=10)\n    kmeans.fit(X)\n    wcss.append(kmeans.inertia_)\nplt.plot(range(1,11) , wcss)\nplt.title('The Elbow Method')\nplt.xlabel('Number Of Customer Clusters(customer type clusters)')\nplt.ylabel('With in cluster sum of squers(WCSS)')\nplt.show()",
      "execution_count": null,
      "outputs": []
    },
    {
      "metadata": {
        "id": "W0t-7_tZb0QX",
        "colab_type": "code",
        "outputId": "e11c6a75-2ff9-47e1-a9d6-c2ab67f7161b",
        "colab": {
          "base_uri": "https://localhost:8080/",
          "height": 573
        },
        "trusted": true
      },
      "cell_type": "code",
      "source": "# Fitting K-Means to the dataset\nkmeans = KMeans(n_clusters = 3, init = 'k-means++')\ny_kmeans = kmeans.fit_predict(X)\n\n# Visualising the clusters\nplt.scatter(X[y_kmeans == 0, 0], X[y_kmeans == 0, 1], s = 50, c = 'red', label = 'Customer Type 1')\nplt.scatter(X[y_kmeans == 1, 0], X[y_kmeans == 1, 1], s = 50, c = 'blue', label = 'Customer Type 2')\nplt.scatter(X[y_kmeans == 2, 0], X[y_kmeans == 2, 1], s = 50, c = 'green', label = 'Customer Type 3')\nplt.scatter(kmeans.cluster_centers_[:, 0], kmeans.cluster_centers_[:, 1], s = 100, c = 'yellow', label = 'Centroids')\nplt.title('Type Of Customers(customer type clusters)')\nplt.xlabel('Number of items Purchased(Quantity)')\nplt.ylabel('Product price per unit in sterling(Unit Price)')\nplt.legend()\nplt.show()\n\nx=[];y=[]\nfor i in range(4339):\n    x.append(X[i][0])\n    y.append(X[i][1])\nplt.scatter(x,y)\nplt.title('Plot of training data')\nplt.xlabel('Number of items Purchased(Quantity)')\nplt.ylabel('Product price per unit in sterling(Unit Price)')\nplt.show()\n",
      "execution_count": null,
      "outputs": []
    },
    {
      "metadata": {
        "id": "Qe4ZBmfEej2C",
        "colab_type": "code",
        "outputId": "4d7fa935-5110-4e04-bccf-8d8b6f8d20f9",
        "colab": {
          "base_uri": "https://localhost:8080/",
          "height": 131
        },
        "trusted": true
      },
      "cell_type": "code",
      "source": "num_clusters= 4\n\n#X = np.array(informacion_cliente[[\"IMP_TOTAL_VENTAS\",\"NUM_TOTAL_PRODUCTOS\",\"NUM_TOTAL_TXN\",\"IMP_VENTA_PROMEDIO\"]])\n\n# Normalizo los datos previo a la segmentación\nranking_cliente = informacion_cliente.rank(method='first')\ncliente_normalizado = (ranking_cliente - ranking_cliente.mean()) / ranking_cliente.std()\nkmeans = KMeans(n_clusters=num_clusters).fit(cliente_normalizado[['IMP_TOTAL_VENTAS', 'NUM_TOTAL_TXN', 'IMP_VENTA_PROMEDIO']])\n\n\ncliente_clusters = cliente_normalizado[['IMP_TOTAL_VENTAS', 'NUM_TOTAL_TXN', 'IMP_VENTA_PROMEDIO']].copy(deep=True)\ncliente_clusters['Cluster'] = kmeans.labels_\ncliente_clusters.groupby('Cluster').count()['IMP_TOTAL_VENTAS']\n\n",
      "execution_count": null,
      "outputs": []
    },
    {
      "metadata": {
        "id": "CRwn9ZCGfO5E",
        "colab_type": "code",
        "outputId": "5cbf4935-76bf-49b4-fd2a-10436e9c8f93",
        "colab": {
          "base_uri": "https://localhost:8080/",
          "height": 870
        },
        "trusted": true
      },
      "cell_type": "code",
      "source": "# clustering ventas vs cantidad\nplt.scatter(\n    cliente_clusters.loc[cliente_clusters['Cluster'] == 0]['NUM_TOTAL_TXN'], \n    cliente_clusters.loc[cliente_clusters['Cluster'] == 0]['IMP_TOTAL_VENTAS'],\n    c='blue'\n)\n\nplt.scatter(\n    cliente_clusters.loc[cliente_clusters['Cluster'] == 1]['NUM_TOTAL_TXN'], \n    cliente_clusters.loc[cliente_clusters['Cluster'] == 1]['IMP_TOTAL_VENTAS'],\n    c='red'\n)\n\nplt.scatter(\n    cliente_clusters.loc[cliente_clusters['Cluster'] == 2]['NUM_TOTAL_TXN'], \n    cliente_clusters.loc[cliente_clusters['Cluster'] == 2]['IMP_TOTAL_VENTAS'],\n    c='orange'\n)\n\nplt.scatter(\n    cliente_clusters.loc[cliente_clusters['Cluster'] == 3]['NUM_TOTAL_TXN'], \n    cliente_clusters.loc[cliente_clusters['Cluster'] == 3]['IMP_TOTAL_VENTAS'],\n    c='green'\n)\n\n\nplt.scatter(\n    cliente_clusters.loc[cliente_clusters['Cluster'] == 4]['NUM_TOTAL_TXN'], \n    cliente_clusters.loc[cliente_clusters['Cluster'] == 4]['IMP_TOTAL_VENTAS'],\n    c='yellow'\n)\n\n\nplt.scatter(\n    cliente_clusters.loc[cliente_clusters['Cluster'] == 5]['NUM_TOTAL_TXN'], \n    cliente_clusters.loc[cliente_clusters['Cluster'] == 5]['IMP_TOTAL_VENTAS'],\n    c='black'\n)\n\n\nplt.title('Ventas  vs. No. Transacciones Clusters')\nplt.xlabel('Número Transacciones')\nplt.ylabel('Total Ventas')\n\nplt.grid()\nplt.show()\n\n# clustering cantidad vs promedio de facturación\nplt.scatter(\n    cliente_clusters.loc[cliente_clusters['Cluster'] == 0]['NUM_TOTAL_TXN'], \n    cliente_clusters.loc[cliente_clusters['Cluster'] == 0]['IMP_VENTA_PROMEDIO'],\n    c='blue'\n)\n\nplt.scatter(\n    cliente_clusters.loc[cliente_clusters['Cluster'] == 1]['NUM_TOTAL_TXN'], \n    cliente_clusters.loc[cliente_clusters['Cluster'] == 1]['IMP_VENTA_PROMEDIO'],\n    c='red'\n)\n\nplt.scatter(\n    cliente_clusters.loc[cliente_clusters['Cluster'] == 2]['NUM_TOTAL_TXN'], \n    cliente_clusters.loc[cliente_clusters['Cluster'] == 2]['IMP_VENTA_PROMEDIO'],\n    c='orange'\n)\n\nplt.scatter(\n    cliente_clusters.loc[cliente_clusters['Cluster'] == 3]['NUM_TOTAL_TXN'], \n    cliente_clusters.loc[cliente_clusters['Cluster'] == 3]['IMP_VENTA_PROMEDIO'],\n    c='green'\n)\n\nplt.scatter(\n    cliente_clusters.loc[cliente_clusters['Cluster'] == 4]['NUM_TOTAL_TXN'], \n    cliente_clusters.loc[cliente_clusters['Cluster'] == 4]['IMP_VENTA_PROMEDIO'],\n    c='yellow'\n)\nplt.scatter(\n    cliente_clusters.loc[cliente_clusters['Cluster'] == 5]['NUM_TOTAL_TXN'], \n    cliente_clusters.loc[cliente_clusters['Cluster'] == 5]['IMP_VENTA_PROMEDIO'],\n    c='black'\n)\nplt.title('Promedio Ventas vs. No. Transacciones Clusters')\nplt.xlabel('Número Transacciones')\nplt.ylabel('Promedio Ventas')\n\nplt.grid()\nplt.show()\n# clustering ventas vs promedio de facturación\nplt.scatter(\n    \n    cliente_clusters.loc[cliente_clusters['Cluster'] == 0]['IMP_TOTAL_VENTAS'], \n    cliente_clusters.loc[cliente_clusters['Cluster'] == 0]['IMP_VENTA_PROMEDIO'],\n    c='blue'\n)\n\nplt.scatter(\n    cliente_clusters.loc[cliente_clusters['Cluster'] == 1]['IMP_TOTAL_VENTAS'], \n    cliente_clusters.loc[cliente_clusters['Cluster'] == 1]['IMP_VENTA_PROMEDIO'],\n    c='red'\n)\n\nplt.scatter(\n    cliente_clusters.loc[cliente_clusters['Cluster'] == 2]['IMP_TOTAL_VENTAS'], \n    cliente_clusters.loc[cliente_clusters['Cluster'] == 2]['IMP_VENTA_PROMEDIO'],\n    c='orange'\n)\n\nplt.scatter(\n    cliente_clusters.loc[cliente_clusters['Cluster'] == 3]['IMP_TOTAL_VENTAS'], \n    cliente_clusters.loc[cliente_clusters['Cluster'] == 3]['IMP_VENTA_PROMEDIO'],\n    c='green'\n)\n\nplt.scatter(\n    cliente_clusters.loc[cliente_clusters['Cluster'] == 4]['IMP_TOTAL_VENTAS'], \n    cliente_clusters.loc[cliente_clusters['Cluster'] == 4]['IMP_VENTA_PROMEDIO'],\n    c='yellow'\n)\n\nplt.scatter(\n    cliente_clusters.loc[cliente_clusters['Cluster'] == 5]['IMP_TOTAL_VENTAS'], \n    cliente_clusters.loc[cliente_clusters['Cluster'] == 5]['IMP_VENTA_PROMEDIO'],\n    c='black'\n)\n\nplt.title('Total Ventas vs. Promedio Ventas Clusters')\nplt.xlabel('Total Ventas')\nplt.ylabel('Promedio Ventas')\n\n",
      "execution_count": null,
      "outputs": []
    },
    {
      "metadata": {
        "id": "P18nwXxUiKAC",
        "colab_type": "code",
        "outputId": "6a756bb6-ae5f-424b-8bea-fbc84cb07451",
        "colab": {
          "base_uri": "https://localhost:8080/",
          "height": 131
        },
        "trusted": true
      },
      "cell_type": "code",
      "source": "# identificar el número de clientes por cluster\nfor n_cluster in [3,4,5,6,7,8]:\n    kmeans = KMeans(n_clusters=n_cluster).fit(\n        cliente_normalizado[['IMP_TOTAL_VENTAS', 'NUM_TOTAL_TXN', 'IMP_VENTA_PROMEDIO']]\n    )\n    silhouette_avg = silhouette_score(\n        cliente_normalizado[['IMP_TOTAL_VENTAS', 'NUM_TOTAL_TXN', 'IMP_VENTA_PROMEDIO']], \n        kmeans.labels_\n    )\n    \n    print('Scoring silueta para %i Clusters: %0.4f' % (n_cluster, silhouette_avg))",
      "execution_count": null,
      "outputs": []
    },
    {
      "metadata": {
        "id": "ANJ0a2Bvj9t4",
        "colab_type": "code",
        "colab": {
          "base_uri": "https://localhost:8080/",
          "height": 131
        },
        "outputId": "c3493196-c598-4d35-aa36-11cabe6ae0be",
        "trusted": true
      },
      "cell_type": "code",
      "source": "# identificar el número de clientes por cluster\nfor n_cluster in [3,4,5,6,7,8]:\n    kmeans = KMeans(n_clusters=n_cluster).fit(\n        cliente_normalizado[['IMP_TOTAL_VENTAS', 'NUM_TOTAL_TXN']]\n    )\n    silhouette_avg = silhouette_score(\n        cliente_normalizado[['IMP_TOTAL_VENTAS', 'NUM_TOTAL_TXN']], \n        kmeans.labels_\n    )\n    \n    print('Scoring silueta para %i Clusters: %0.4f' % (n_cluster, silhouette_avg))",
      "execution_count": null,
      "outputs": []
    },
    {
      "metadata": {
        "id": "awtZdHNIjTts",
        "colab_type": "code",
        "colab": {
          "base_uri": "https://localhost:8080/",
          "height": 131
        },
        "outputId": "08692f87-7c8f-4320-a33d-e85b10ea1f2a",
        "trusted": true
      },
      "cell_type": "code",
      "source": "# identificar el número de clientes por cluster\nfor n_cluster in [3,4,5,6,7,8]:\n    kmeans = KMeans(n_clusters=n_cluster).fit(\n        cliente_normalizado[['IMP_TOTAL_VENTAS', 'NUM_TOTAL_PRODUCTOS', 'IMP_VENTA_PROMEDIO']]\n    )\n    silhouette_avg = silhouette_score(\n        cliente_normalizado[['IMP_TOTAL_VENTAS', 'NUM_TOTAL_PRODUCTOS', 'IMP_VENTA_PROMEDIO']], \n        kmeans.labels_\n    )\n    \n    print('Scoring silueta para %i Clusters: %0.4f' % (n_cluster, silhouette_avg))",
      "execution_count": null,
      "outputs": []
    },
    {
      "metadata": {
        "id": "YrjUJZGQjXtl",
        "colab_type": "code",
        "colab": {
          "base_uri": "https://localhost:8080/",
          "height": 131
        },
        "outputId": "5180321d-bf9e-49e9-fd1a-c1641f179b27",
        "trusted": true
      },
      "cell_type": "code",
      "source": "# identificar el número de clientes por cluster\nfor n_cluster in [3,4,5,6,7,8]:\n    kmeans = KMeans(n_clusters=n_cluster).fit(\n        cliente_normalizado[['IMP_TOTAL_VENTAS', 'NUM_TOTAL_PRODUCTOS', 'NUM_TOTAL_TXN']]\n    )\n    silhouette_avg = silhouette_score(\n        cliente_normalizado[['IMP_TOTAL_VENTAS', 'NUM_TOTAL_PRODUCTOS', 'NUM_TOTAL_TXN']], \n        kmeans.labels_\n    )\n    \n    print('Scoring silueta para %i Clusters: %0.4f' % (n_cluster, silhouette_avg))",
      "execution_count": null,
      "outputs": []
    },
    {
      "metadata": {
        "id": "H-KMfAypjdtb",
        "colab_type": "code",
        "colab": {
          "base_uri": "https://localhost:8080/",
          "height": 131
        },
        "outputId": "3b9259d0-f661-4e90-d21c-a01bce1103aa",
        "trusted": true
      },
      "cell_type": "code",
      "source": "# identificar el número de clientes por cluster\nfor n_cluster in [3,4,5,6,7,8]:\n    kmeans = KMeans(n_clusters=n_cluster).fit(\n        cliente_normalizado[['IMP_VENTA_PROMEDIO', 'NUM_TOTAL_PRODUCTOS', 'NUM_TOTAL_TXN']]\n    )\n    silhouette_avg = silhouette_score(\n        cliente_normalizado[['IMP_VENTA_PROMEDIO', 'NUM_TOTAL_PRODUCTOS', 'NUM_TOTAL_TXN']], \n        kmeans.labels_\n    )\n    \n    print('Scoring silueta para %i Clusters: %0.4f' % (n_cluster, silhouette_avg))",
      "execution_count": null,
      "outputs": []
    },
    {
      "metadata": {
        "id": "AaoYclXRzvnk",
        "colab_type": "text"
      },
      "cell_type": "markdown",
      "source": "## Generando nueva data al dataset actual"
    },
    {
      "metadata": {
        "id": "szW16a07zvMV",
        "colab_type": "code",
        "colab": {},
        "trusted": true
      },
      "cell_type": "code",
      "source": "kmeans = KMeans(n_clusters=4).fit(\n    cliente_normalizado[['IMP_TOTAL_VENTAS', 'NUM_TOTAL_TXN']]\n)",
      "execution_count": null,
      "outputs": []
    },
    {
      "metadata": {
        "id": "MIG0SeUH0IpJ",
        "colab_type": "code",
        "colab": {},
        "trusted": true
      },
      "cell_type": "code",
      "source": "cliente_normalizado['DATA_SEG'] = kmeans.labels_",
      "execution_count": null,
      "outputs": []
    },
    {
      "metadata": {
        "id": "Rff5fzVM0UTN",
        "colab_type": "code",
        "colab": {
          "base_uri": "https://localhost:8080/",
          "height": 93
        },
        "outputId": "243bb240-5744-4f7e-f1ae-e05abe05a3f5",
        "trusted": true
      },
      "cell_type": "code",
      "source": "cliente_normalizado.head()\nkmeans.cluster_centers_",
      "execution_count": null,
      "outputs": []
    },
    {
      "metadata": {
        "id": "cDMuOwSL0ezA",
        "colab_type": "code",
        "colab": {
          "base_uri": "https://localhost:8080/",
          "height": 238
        },
        "outputId": "dd7e3885-fde9-4980-81e2-5b73faf27b63",
        "trusted": true
      },
      "cell_type": "code",
      "source": "high_value_cluster = cliente_normalizado.loc[cliente_normalizado['DATA_SEG'] == 3]\nhigh_value_cluster.head()",
      "execution_count": null,
      "outputs": []
    },
    {
      "metadata": {
        "id": "CF4aVbcs0mx1",
        "colab_type": "code",
        "colab": {
          "base_uri": "https://localhost:8080/",
          "height": 300
        },
        "outputId": "35f6b70f-c4eb-4f88-e41d-09553a9197e7",
        "trusted": true
      },
      "cell_type": "code",
      "source": "informacion_cliente.loc[high_value_cluster.index].describe()",
      "execution_count": null,
      "outputs": []
    },
    {
      "metadata": {
        "id": "Z-kQwZsY7vMC",
        "colab_type": "code",
        "colab": {
          "base_uri": "https://localhost:8080/",
          "height": 226
        },
        "outputId": "f70295cc-17c9-433f-f4ff-e65782746b7a",
        "trusted": true
      },
      "cell_type": "code",
      "source": "datos_facturacion.head()",
      "execution_count": null,
      "outputs": []
    },
    {
      "metadata": {
        "id": "8bNLBxPP8AkR",
        "colab_type": "text"
      },
      "cell_type": "markdown",
      "source": ""
    },
    {
      "metadata": {
        "id": "qfjmO3TO03g7",
        "colab_type": "code",
        "colab": {
          "base_uri": "https://localhost:8080/",
          "height": 238
        },
        "outputId": "51fc6eeb-c2c4-4cc9-d7f6-e831c69791aa",
        "trusted": true
      },
      "cell_type": "code",
      "source": "pd.DataFrame(\n    datos_facturacion.loc[\n        datos_facturacion['customer_id'].isin(high_value_cluster.index)\n    ].groupby('product_id').count()[\n        'total_value'\n    ].sort_values(ascending=False).head()\n)",
      "execution_count": null,
      "outputs": []
    },
    {
      "metadata": {
        "id": "OfeaQuYktRev",
        "colab_type": "text"
      },
      "cell_type": "markdown",
      "source": "## 3. Matriz de Factorización\n\nUna vez utilizado los posibles escenarios para las recomendaciónde productos, se procede a generar el motor de recomendación .  Para ello se realiza la matriz de Factorización, la cual se utilizo como referencia el sigueinte paper [Probabilistic Matrix Factorization](https://https://papers.nips.cc/paper/3208-probabilistic-matrix-factorization.pdf)"
    },
    {
      "metadata": {
        "id": "VShZUVT1th5R",
        "colab_type": "code",
        "outputId": "10487f52-4880-400d-84e0-bef8aca77dd8",
        "colab": {
          "base_uri": "https://localhost:8080/",
          "height": 150
        },
        "trusted": true
      },
      "cell_type": "code",
      "source": "matrix_usuario_producto.values",
      "execution_count": null,
      "outputs": []
    },
    {
      "metadata": {
        "id": "jnRmo9Tqxhdr",
        "colab_type": "text"
      },
      "cell_type": "markdown",
      "source": "**Enfoque Cliente**"
    },
    {
      "metadata": {
        "id": "xvJQxegSvl5I",
        "colab_type": "code",
        "colab": {},
        "trusted": true
      },
      "cell_type": "code",
      "source": "from sklearn.neighbors import NearestNeighbors\nfrom scipy.sparse import csr_matrix\n# Se convierte la table pivote de cliente - producto a una sparse matrix\nmat_cliente_prod = csr_matrix(matrix_usuario_producto.values)\n# Se procede a identificar la relación entre los clientes\nmodel_knn = NearestNeighbors(metric='cosine', algorithm='brute', n_neighbors=20, n_jobs=-1)\n",
      "execution_count": null,
      "outputs": []
    },
    {
      "metadata": {
        "id": "mW_1TKBmxoqy",
        "colab_type": "code",
        "outputId": "d7bf2d66-361c-4add-8ce7-5194e96b6671",
        "colab": {
          "base_uri": "https://localhost:8080/",
          "height": 287
        },
        "trusted": true
      },
      "cell_type": "code",
      "source": "final_productos = matrix_usuario_producto.fillna(matrix_usuario_producto.mean(axis=0))\nfinal_productos.head()",
      "execution_count": null,
      "outputs": []
    },
    {
      "metadata": {
        "id": "B9DijYeXyAWU",
        "colab_type": "code",
        "outputId": "8c0dfceb-bc09-49b1-9dc6-459c8f7f2259",
        "colab": {
          "base_uri": "https://localhost:8080/",
          "height": 287
        },
        "trusted": true
      },
      "cell_type": "code",
      "source": "final_clientes = matrix_usuario_producto.apply(lambda row: row.fillna(0), axis=1)\nfinal_clientes.head()",
      "execution_count": null,
      "outputs": []
    },
    {
      "metadata": {
        "id": "Cqx87j0m1qPY",
        "colab_type": "text"
      },
      "cell_type": "markdown",
      "source": "## Similaridad Usuarios"
    },
    {
      "metadata": {
        "id": "BnT4RYwd1sTc",
        "colab_type": "code",
        "outputId": "310cafa0-e4e9-4f13-f307-60a40de4268a",
        "colab": {
          "base_uri": "https://localhost:8080/",
          "height": 287
        },
        "trusted": true
      },
      "cell_type": "code",
      "source": "b = cosine_similarity(final_clientes)\nnp.fill_diagonal(b, 0 )\nsim_usuario = pd.DataFrame(b,index=final_clientes.index)\nsim_usuario.columns=final_clientes.index\nsim_usuario.head()",
      "execution_count": null,
      "outputs": []
    },
    {
      "metadata": {
        "id": "adVisQ89xzO7",
        "colab_type": "code",
        "outputId": "7045093b-29cc-45f6-b119-f36ee3a7c576",
        "colab": {
          "base_uri": "https://localhost:8080/",
          "height": 287
        },
        "trusted": true
      },
      "cell_type": "code",
      "source": "# user similarity on replacing NAN by item(movie) avg\ncosine = cosine_similarity(final_productos)\nnp.fill_diagonal(cosine, 0 )\nsim_producto =pd.DataFrame(cosine,index=final_productos.index)\nsim_producto.columns=final_clientes.index\nsim_producto.head()",
      "execution_count": null,
      "outputs": []
    },
    {
      "metadata": {
        "id": "bh3dDtSn2S19",
        "colab_type": "text"
      },
      "cell_type": "markdown",
      "source": "##Función para encontrar similares"
    },
    {
      "metadata": {
        "id": "3gh7k44K2PM8",
        "colab_type": "code",
        "colab": {},
        "trusted": true
      },
      "cell_type": "code",
      "source": "def identificar_similares(data,cantidad):\n    order = np.argsort(data.values, axis=1)[:, :cantidad]\n    data = data.apply(lambda x: pd.Series(x.sort_values(ascending=False).iloc[:cantidad].index, \n          index=['top{}'.format(i) for i in range(1, cantidad+1)]), axis=1)\n    return data",
      "execution_count": null,
      "outputs": []
    },
    {
      "metadata": {
        "id": "56xvLwnmyZgB",
        "colab_type": "code",
        "outputId": "c80e97fc-a4bc-4bfa-b55a-3056e274e1dd",
        "colab": {
          "base_uri": "https://localhost:8080/",
          "height": 1000
        },
        "trusted": true
      },
      "cell_type": "code",
      "source": "identificar_similares(sim_producto,20)",
      "execution_count": null,
      "outputs": []
    },
    {
      "metadata": {
        "id": "VRBNZbgc2xiC",
        "colab_type": "code",
        "outputId": "3509f7aa-d8fd-4cb7-b8f3-a9b43eefde9d",
        "colab": {
          "base_uri": "https://localhost:8080/",
          "height": 1000
        },
        "trusted": true
      },
      "cell_type": "code",
      "source": "identificar_similares(sim_usuario,20)",
      "execution_count": null,
      "outputs": []
    },
    {
      "metadata": {
        "id": "v_UHUnsY28cB",
        "colab_type": "text"
      },
      "cell_type": "markdown",
      "source": "## Función similitud de productos entre usuarios"
    },
    {
      "metadata": {
        "id": "gQ8Nu5aN26f6",
        "colab_type": "code",
        "colab": {},
        "trusted": true
      },
      "cell_type": "code",
      "source": "def identificar_productos( cliente1, cliente2 ):\n    common_movies = datos_facturacion[datos_facturacion.c_id == cliente1].merge(\n    datos_facturacion[datos_facturacion.c_id == cliente2],\n    on = \"p_id\",\n    how = \"inner\" )\n    return common_movies.merge( datos_producto, on = 'p_id' )",
      "execution_count": null,
      "outputs": []
    },
    {
      "metadata": {
        "id": "6EfibgM33c1L",
        "colab_type": "code",
        "colab": {},
        "trusted": true
      },
      "cell_type": "code",
      "source": "#identificar_productos(7,16)",
      "execution_count": null,
      "outputs": []
    },
    {
      "metadata": {
        "id": "xAanz30-PpAg",
        "colab_type": "text"
      },
      "cell_type": "markdown",
      "source": "#Identificar Churn"
    },
    {
      "metadata": {
        "id": "jJ1xy4CiPsjC",
        "colab_type": "code",
        "colab": {
          "base_uri": "https://localhost:8080/",
          "height": 207
        },
        "outputId": "bc07fe30-83bb-4e7b-e234-586a794407b2",
        "trusted": true
      },
      "cell_type": "code",
      "source": "import seaborn as sns\nimport matplotlib.pyplot as plt\n!pip install lifetimes\nfrom lifetimes.utils import *\nfrom lifetimes import BetaGeoFitter,GammaGammaFitter\nfrom lifetimes.plotting import plot_probability_alive_matrix, plot_frequency_recency_matrix, plot_period_transactions, plot_cumulative_transactions,plot_incremental_transactions\nfrom lifetimes.generate_data import beta_geometric_nbd_model\nfrom lifetimes.plotting import plot_calibration_purchases_vs_holdout_purchases, plot_period_transactions,plot_history_alive",
      "execution_count": null,
      "outputs": []
    },
    {
      "metadata": {
        "id": "dqk64AVaQycP",
        "colab_type": "code",
        "colab": {
          "base_uri": "https://localhost:8080/",
          "height": 474
        },
        "outputId": "e1956441-d6c7-4f57-b2c1-27dad12e1283",
        "trusted": true
      },
      "cell_type": "code",
      "source": "datos_modelo = pd.ExcelFile(directorio+'data_model.xlsx')\ndatos_facturacion = pd.read_excel(datos_modelo, sheet_name='fac_txn')\ndatos_producto = pd.read_excel(datos_modelo, sheet_name='product')\ndatos_clientes = pd.read_excel(datos_modelo, sheet_name='customer')\nprint('PRODUCTOS :'+ datos_producto.columns)\nprint('CLIENTES:'+ datos_clientes.columns)\nprint('FACTURACION:'+ datos_facturacion.columns)\n",
      "execution_count": null,
      "outputs": []
    },
    {
      "metadata": {
        "id": "KjRT-5UkbEbU",
        "colab_type": "code",
        "colab": {
          "base_uri": "https://localhost:8080/",
          "height": 93
        },
        "outputId": "b3e5e845-e9cc-49dd-a575-a6e57d78342a",
        "trusted": true
      },
      "cell_type": "code",
      "source": "datos_clientes.groupby('customer_id').size().value_counts()\n# la mayoria de clientes solo tienen una compra",
      "execution_count": null,
      "outputs": []
    },
    {
      "metadata": {
        "id": "uriCF1qTbV_Y",
        "colab_type": "code",
        "colab": {},
        "trusted": true
      },
      "cell_type": "code",
      "source": "datos_facturacion.drop_duplicates('order_id',keep='first',inplace=True)",
      "execution_count": null,
      "outputs": []
    },
    {
      "metadata": {
        "id": "iRXs_-Rgl_fZ",
        "colab_type": "code",
        "colab": {
          "base_uri": "https://localhost:8080/",
          "height": 226
        },
        "outputId": "69614a81-f704-4d9c-e821-b10ea6668b50",
        "trusted": true
      },
      "cell_type": "code",
      "source": "datos_facturacion['date'] = pd.to_datetime(datos_facturacion['order_purchase_timestamp']).dt.date\ndatos_facturacion = datos_facturacion.drop('order_purchase_timestamp',axis=1)\ndatos_facturacion.head()",
      "execution_count": null,
      "outputs": []
    },
    {
      "metadata": {
        "id": "AIhstouf8BeO",
        "colab_type": "code",
        "colab": {
          "base_uri": "https://localhost:8080/",
          "height": 206
        },
        "outputId": "ffaa067c-31e3-4f9e-b470-d639973c309e",
        "trusted": true
      },
      "cell_type": "code",
      "source": "transaction_data = datos_facturacion[['customer_id','date','total_value']]\ntransaction_data.head()",
      "execution_count": null,
      "outputs": []
    },
    {
      "metadata": {
        "id": "XWFCOxmVmPL3",
        "colab_type": "code",
        "colab": {
          "base_uri": "https://localhost:8080/",
          "height": 300
        },
        "outputId": "51251a4d-539f-476d-ae97-2e3c81a622ff",
        "trusted": true
      },
      "cell_type": "code",
      "source": "summary = summary_data_from_transaction_data(transaction_data,'customer_id','date',monetary_value_col='total_value',)\nsummary.describe()",
      "execution_count": null,
      "outputs": []
    },
    {
      "metadata": {
        "id": "6GsJ8kN19Xti",
        "colab_type": "code",
        "colab": {
          "base_uri": "https://localhost:8080/",
          "height": 238
        },
        "outputId": "832c4dbf-19b5-46b6-d39d-f69722ece84a",
        "trusted": true
      },
      "cell_type": "code",
      "source": "summary.head()",
      "execution_count": null,
      "outputs": []
    },
    {
      "metadata": {
        "id": "0KbayNkvmb40",
        "colab_type": "code",
        "colab": {
          "base_uri": "https://localhost:8080/",
          "height": 238
        },
        "outputId": "b32cedf5-276b-4a56-94ec-5592dbdd69f9",
        "trusted": true
      },
      "cell_type": "code",
      "source": "summary[summary['frequency']>0].head()",
      "execution_count": null,
      "outputs": []
    },
    {
      "metadata": {
        "id": "0YaALcxvmek3",
        "colab_type": "code",
        "colab": {
          "base_uri": "https://localhost:8080/",
          "height": 132
        },
        "outputId": "cdd1daa5-a1a7-4786-f776-9ea22fba8bcc",
        "trusted": true
      },
      "cell_type": "code",
      "source": "datos_facturacion[datos_facturacion['customer_id']=='004288347e5e88a27ded2bb23747066c']",
      "execution_count": null,
      "outputs": []
    },
    {
      "metadata": {
        "id": "3vP-Zdb-n3V3",
        "colab_type": "code",
        "colab": {},
        "trusted": true
      },
      "cell_type": "code",
      "source": "bgf = BetaGeoFitter(penalizer_coef=0.0)\nbgf.fit(summary['frequency'], summary['recency'], summary['T']);",
      "execution_count": null,
      "outputs": []
    },
    {
      "metadata": {
        "id": "KHi6s__7n9Cr",
        "colab_type": "code",
        "colab": {
          "base_uri": "https://localhost:8080/",
          "height": 310
        },
        "outputId": "c0106ec5-e8e5-4193-ccde-2a0a2d328996",
        "trusted": true
      },
      "cell_type": "code",
      "source": "plot_frequency_recency_matrix(bgf);",
      "execution_count": null,
      "outputs": []
    },
    {
      "metadata": {
        "id": "Df5aLkB9oDbG",
        "colab_type": "code",
        "colab": {
          "base_uri": "https://localhost:8080/",
          "height": 310
        },
        "outputId": "cb96ca3a-1880-4ab3-96b4-b219b44a9c51",
        "trusted": true
      },
      "cell_type": "code",
      "source": "plot_probability_alive_matrix(bgf);",
      "execution_count": null,
      "outputs": []
    },
    {
      "metadata": {
        "id": "6_Zn9kDaoFGI",
        "colab_type": "code",
        "colab": {
          "base_uri": "https://localhost:8080/",
          "height": 368
        },
        "outputId": "cf37ba38-0d66-4d6b-d936-802d1c9670ff",
        "trusted": true
      },
      "cell_type": "code",
      "source": "plot_period_transactions(bgf).set_yscale('log');",
      "execution_count": null,
      "outputs": []
    },
    {
      "metadata": {
        "id": "OA7x6jlMoIrm",
        "colab_type": "code",
        "colab": {},
        "trusted": true
      },
      "cell_type": "code",
      "source": "summary_cal_holdout = calibration_and_holdout_data(datos_facturacion, 'customer_id', 'date',calibration_period_end='2017-09-03', observation_period_end='2018-09-03' )",
      "execution_count": null,
      "outputs": []
    },
    {
      "metadata": {
        "id": "VAXcOQsmoOqD",
        "colab_type": "code",
        "colab": {
          "base_uri": "https://localhost:8080/",
          "height": 295
        },
        "outputId": "bc675595-4e03-4083-a750-5e1119df82f5",
        "trusted": true
      },
      "cell_type": "code",
      "source": "bgf.fit(summary_cal_holdout['frequency_cal'], summary_cal_holdout['recency_cal'], summary_cal_holdout['T_cal'])\nplot_cumulative_transactions(bgf, datos_facturacion, 'date', 'customer_id', 730, 365);",
      "execution_count": null,
      "outputs": []
    },
    {
      "metadata": {
        "id": "PaW-dF0toVGc",
        "colab_type": "code",
        "colab": {
          "base_uri": "https://localhost:8080/",
          "height": 295
        },
        "outputId": "6f3158af-ccc9-4524-b7d6-62dce181c466",
        "trusted": true
      },
      "cell_type": "code",
      "source": "plot_incremental_transactions(bgf, datos_facturacion, 'date', 'customer_id', 730, 365);",
      "execution_count": null,
      "outputs": []
    },
    {
      "metadata": {
        "id": "OPVIja8ToZdU",
        "colab_type": "code",
        "colab": {
          "base_uri": "https://localhost:8080/",
          "height": 295
        },
        "outputId": "7646fccf-e0c8-4fc1-9b56-2370b2cb55d1",
        "trusted": true
      },
      "cell_type": "code",
      "source": "plot_calibration_purchases_vs_holdout_purchases(bgf, summary_cal_holdout);",
      "execution_count": null,
      "outputs": []
    },
    {
      "metadata": {
        "id": "UfYFNAU9odNA",
        "colab_type": "code",
        "colab": {
          "base_uri": "https://localhost:8080/",
          "height": 93
        },
        "outputId": "0d69436c-a156-449f-8941-802402d6ba36",
        "trusted": true
      },
      "cell_type": "code",
      "source": "datos_clientes.groupby('customer_id').size().value_counts()",
      "execution_count": null,
      "outputs": []
    },
    {
      "metadata": {
        "id": "wRGw8-hgojGk",
        "colab_type": "code",
        "colab": {
          "base_uri": "https://localhost:8080/",
          "height": 284
        },
        "outputId": "704eda79-b207-45e1-f0fc-27a02e848cc0",
        "trusted": true
      },
      "cell_type": "code",
      "source": "df = summary[summary['frequency']>0]\ndf['prob_alive'] = bgf.conditional_probability_alive(df['frequency'],df['recency'],df['T'])\nsns.distplot(df['prob_alive']);",
      "execution_count": null,
      "outputs": []
    },
    {
      "metadata": {
        "id": "DK3cV6iBol32",
        "colab_type": "code",
        "colab": {
          "base_uri": "https://localhost:8080/",
          "height": 283
        },
        "outputId": "6ca98ee3-f629-4e6b-af1b-6572de9efe0f",
        "trusted": true
      },
      "cell_type": "code",
      "source": "df['churn'] = ['churned' if p < .1 else 'not churned' for p in df['prob_alive']]\nsns.countplot(df['churn']);",
      "execution_count": null,
      "outputs": []
    },
    {
      "metadata": {
        "id": "KER05dnhoqI0",
        "colab_type": "code",
        "colab": {
          "base_uri": "https://localhost:8080/",
          "height": 296
        },
        "outputId": "e5e11f8f-de67-4e0c-816e-fba347a28461",
        "trusted": true
      },
      "cell_type": "code",
      "source": "sns.distplot(df[df['churn']=='not churned']['prob_alive']).set_title('Probability alive, not churned');",
      "execution_count": null,
      "outputs": []
    },
    {
      "metadata": {
        "id": "V3iPEAWJouYt",
        "colab_type": "code",
        "colab": {
          "base_uri": "https://localhost:8080/",
          "height": 93
        },
        "outputId": "61047a0c-e5e0-4b9e-fb3f-2d3c4532b5c6",
        "trusted": true
      },
      "cell_type": "code",
      "source": "df['churn'][(df['prob_alive']>=.1) & (df['prob_alive']<.2)] = \"high risk\"\ndf['churn'].value_counts()",
      "execution_count": null,
      "outputs": []
    },
    {
      "metadata": {
        "id": "ZgPbv6dhADHG",
        "colab_type": "code",
        "colab": {
          "base_uri": "https://localhost:8080/",
          "height": 238
        },
        "outputId": "20841a36-6a97-4883-f667-c657f337dbb7",
        "trusted": true
      },
      "cell_type": "code",
      "source": "#df[df['churn'] =='high risk'].head()\ndf[df['churn'] =='churned'].head()",
      "execution_count": null,
      "outputs": []
    },
    {
      "metadata": {
        "id": "4X68gk2EBasa",
        "colab_type": "code",
        "colab": {},
        "trusted": true
      },
      "cell_type": "code",
      "source": "df['definition'] = df['churn'].apply(lambda x: 1 if x == 'churned' else 0)",
      "execution_count": null,
      "outputs": []
    },
    {
      "metadata": {
        "id": "gFmwF8dGBxyX",
        "colab_type": "code",
        "colab": {
          "base_uri": "https://localhost:8080/",
          "height": 36
        },
        "outputId": "93bf1e52-f1e7-4fd8-f9c0-99e8de8159b0",
        "trusted": true
      },
      "cell_type": "code",
      "source": "df['definition'].count()",
      "execution_count": null,
      "outputs": []
    },
    {
      "metadata": {
        "id": "hUN1npymB9-l",
        "colab_type": "code",
        "colab": {
          "base_uri": "https://localhost:8080/",
          "height": 112
        },
        "outputId": "b6df3aa2-50db-440e-f2df-a1f2c9f9d54c",
        "trusted": true
      },
      "cell_type": "code",
      "source": "datos_clientes.count()",
      "execution_count": null,
      "outputs": []
    },
    {
      "metadata": {
        "id": "WxddTBErCM3O",
        "colab_type": "code",
        "colab": {
          "base_uri": "https://localhost:8080/",
          "height": 321
        },
        "outputId": "622f12de-d94a-4e06-d664-43be0be90984",
        "trusted": true
      },
      "cell_type": "code",
      "source": "prueba_clientes = pd.merge(datos_clientes,df[['definition']],on='customer_id', how='left')\nprueba_clientes['definition'].fillna(0, inplace=True)\nprint(prueba_clientes.count())\nprueba_clientes.head()",
      "execution_count": null,
      "outputs": []
    },
    {
      "metadata": {
        "id": "aSAwMAtSC2_v",
        "colab_type": "code",
        "colab": {
          "base_uri": "https://localhost:8080/",
          "height": 36
        },
        "outputId": "6e1045cb-9a0e-4a06-ba45-846e28f2bdb2",
        "trusted": true
      },
      "cell_type": "code",
      "source": "prueba_clientes['definition'].mean()",
      "execution_count": null,
      "outputs": []
    },
    {
      "metadata": {
        "id": "H3ArHA99Dsdf",
        "colab_type": "code",
        "colab": {},
        "trusted": true
      },
      "cell_type": "code",
      "source": "\n#df[1].fillna(0, inplace=True)",
      "execution_count": null,
      "outputs": []
    }
  ],
  "metadata": {
    "colab": {
      "name": "TFM-1_Prevention-Dummy.ipynb",
      "version": "0.3.2",
      "provenance": [],
      "collapsed_sections": [],
      "machine_shape": "hm"
    },
    "kernelspec": {
      "name": "python3",
      "display_name": "Python 3",
      "language": "python"
    },
    "language_info": {
      "mimetype": "text/x-python",
      "nbconvert_exporter": "python",
      "name": "python",
      "file_extension": ".py",
      "version": "3.5.4",
      "pygments_lexer": "ipython3",
      "codemirror_mode": {
        "version": 3,
        "name": "ipython"
      }
    }
  },
  "nbformat": 4,
  "nbformat_minor": 1
}