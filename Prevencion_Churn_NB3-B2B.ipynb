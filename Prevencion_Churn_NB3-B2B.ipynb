{
  "nbformat": 4,
  "nbformat_minor": 0,
  "metadata": {
    "colab": {
      "name": "Prevencion_Churn-NB3.ipynb",
      "provenance": [],
      "collapsed_sections": [],
      "machine_shape": "hm"
    },
    "kernelspec": {
      "name": "python3",
      "display_name": "Python 3",
      "language": "python"
    },
    "language_info": {
      "mimetype": "text/x-python",
      "nbconvert_exporter": "python",
      "name": "python",
      "file_extension": ".py",
      "version": "3.5.4",
      "pygments_lexer": "ipython3",
      "codemirror_mode": {
        "version": 3,
        "name": "ipython"
      }
    }
  },
  "cells": [
    {
      "cell_type": "markdown",
      "metadata": {
        "id": "k1PvPRCY79m-",
        "colab_type": "text"
      },
      "source": [
        "# Prevención Fuga de Clientes\n",
        "El enfoque de la prevención es disminuir el impacto latente de la posibilidad de que alguno de los clientes deje de comprar productos. \n",
        "Con este fin se realiza la estrategia en 3 sentidos: <br>\n",
        "**1.Motor de Recomendación** <br>\n",
        "**Objetivo:** Aumentar la penetración de los productos a los clientes con el fin de fortalecer la relación comercial y su fidelización. <br>\n",
        "Este enfoque hace parte de la primera parte del notebook, con el objetivo de generar un motor de recomendación con el cual se facilite la venta de nuevos productos por medio de estrategia de datos. <br>\n",
        "*Notebook 1: Motor de recomendación* <br>\n",
        "\n",
        "**2.Nueva segmentación de información con base en los datos de los clientes y sus transacciones** <br>\n",
        "**Objetivo:** Generar nueva información de los clientes, con el objetivo de realizar una mejor gestión de estos y plantear estrategias con base en esta nueva característica de información desarrollada. <br>\n",
        "El segundo enfoque es a través de una nueva segmentación, que permita de igual forma identificar no solo como y que es posible comprar, sino generar nuevas dimensiones de análisis, para que los equipos de business intelligence, comerciales y financieros, tengan más herramientas durante sus estrategias de negocio. <br>\n",
        "*Notebook 2: Segmentación de datos* <br>\n",
        "\n",
        "**3.Predecir la Fuga de clientes** <br>\n",
        "**Objetivo:** Desarrollar un marcaje de fuga de clientes con base en la historia transaccional de cliente, permitiendo esto entrenar un modelo de Machine Learning para predecir la posible baja de clientes. <br>\n",
        "El Tercer enfoque tiene dos frentes de trabajo, el primero permite establecer a través de variables de tendencias de compra y montos, si el cliente se encuentra \"vivo\" o no. Con base en este resultado, se activa el segundo frente, el cual a través de algoritmos de Machine Learning permite predecir la fuga de clientes con base en el marcaje realizado en la primera etapa. <br>\n",
        "*Notebook 3: Predicción Fuga Clientes* <br>\n"
      ]
    },
    {
      "cell_type": "markdown",
      "metadata": {
        "id": "orpOJu6j8zxg",
        "colab_type": "text"
      },
      "source": [
        "### Fuente de datos\n",
        "Los datos usando durante la tesis son de dominio publico y hacen referencia a un comercio de Brasil. <br>\n",
        "Estos datos han sido modelados en un modelo dimensional con el fin de mejorar el performance del análisis del actual tesis y permitir generar modelos de reporting/dashboard con herramientas de BI.<br>\n",
        "Los datos han sido migrados a la plataforma github con el fin que sean de dominio publico. <br>\n"
      ]
    },
    {
      "cell_type": "markdown",
      "metadata": {
        "id": "1LmmcB9U8gN_",
        "colab_type": "text"
      },
      "source": [
        "## 3.Predicción Fuga de Clientes\n",
        "Una vez se han implementado todas las estrategias de retención de clientes, es necesario conocer cuales de estos se pueden ir, con el fin de que los equipos de fidelización puedan evitar que esta perdida suceda. <br>\n",
        "Para ello es necesario abordarse en dos enfoques:\n",
        "\n",
        "*   El primero centrado a identificar cuales de estos clientes ya definitivamente son bajas en la organización, utilizando los datos como fuente predominante para esta marcación, ya que actualmente no se cuenta con esta data.\n",
        "*  Como sigueinte paso, una vez , identificado quienes son marcados como churn, se procede a obtener este input, con el fin de entrenar  algoritmos de machine learning supervisado que nos permitan predecir la fuga de estos clientes y seleccionar el que de un mejor resultado. \n",
        "\n",
        "\n",
        "\n",
        "### 3.1 Carga de librerias y datos"
      ]
    },
    {
      "cell_type": "code",
      "metadata": {
        "id": "rlke_DiE7xb2",
        "colab_type": "code",
        "trusted": true,
        "scrolled": true,
        "outputId": "49df8579-6bee-468f-a04d-b56f85b082f2",
        "colab": {
          "base_uri": "https://localhost:8080/",
          "height": 272
        }
      },
      "source": [
        "!pip install lifetimes\n",
        "\n",
        "# librerias requeridas\n",
        "import matplotlib.pyplot as plt\n",
        "import pandas as pd\n",
        "import numpy as np\n",
        "%matplotlib inline\n",
        "\n",
        "from sklearn import metrics\n",
        "from sklearn import tree\n",
        "from sklearn import svm\n",
        "from sklearn import ensemble\n",
        "from sklearn import neighbors\n",
        "from sklearn import linear_model\n",
        "from sklearn import preprocessing\n",
        "from google.colab import files\n",
        "from lifetimes.utils import *\n",
        "from lifetimes import BetaGeoFitter,GammaGammaFitter\n",
        "from lifetimes.plotting import plot_probability_alive_matrix, plot_frequency_recency_matrix, plot_period_transactions, plot_cumulative_transactions,plot_incremental_transactions\n",
        "from lifetimes.generate_data import beta_geometric_nbd_model\n",
        "from lifetimes.plotting import plot_calibration_purchases_vs_holdout_purchases, plot_period_transactions,plot_history_alive\n",
        "\n",
        "\n",
        "## metodos de selección\n",
        "from sklearn.feature_selection import SelectKBest\n",
        "from sklearn.feature_selection import chi2\n",
        "from sklearn.ensemble import ExtraTreesClassifier\n",
        "from sklearn.linear_model import LogisticRegression\n",
        "from sklearn.decomposition import PCA\n",
        "from sklearn.feature_selection import RFE\n",
        "\n",
        "## machine larning\n",
        "from keras.models import Sequential\n",
        "from keras.layers import Dense, Dropout\n",
        "from keras.callbacks import EarlyStopping\n",
        "from keras.utils import to_categorical\n",
        "from sklearn.model_selection import train_test_split\n",
        "from sklearn.metrics import classification_report, confusion_matrix, accuracy_score\n",
        "from sklearn.ensemble import RandomForestClassifier as rfc\n",
        "from sklearn.svm import SVC as svc \n",
        "from sklearn.linear_model import LogisticRegression\n",
        "from sklearn.ensemble import GradientBoostingClassifier\n",
        "from sklearn.preprocessing import MinMaxScaler\n",
        "from sklearn import tree\n",
        "import graphviz \n",
        "from sklearn.preprocessing import LabelEncoder\n",
        "from sklearn.preprocessing import StandardScaler\n",
        "\n",
        "##\n",
        "\n",
        "from sklearn import model_selection\n",
        "from sklearn.linear_model import LogisticRegression\n",
        "from sklearn.svm import SVC\n",
        "from sklearn.neighbors import KNeighborsClassifier\n",
        "from sklearn.tree import DecisionTreeClassifier\n",
        "from sklearn.naive_bayes import GaussianNB\n",
        "from sklearn.discriminant_analysis import LinearDiscriminantAnalysis"
      ],
      "execution_count": 2,
      "outputs": [
        {
          "output_type": "stream",
          "text": [
            "Collecting lifetimes\n",
            "\u001b[?25l  Downloading https://files.pythonhosted.org/packages/13/58/4b3f394c4c2c66294c402e836274f7537c41482676112a97fe982ad28082/Lifetimes-0.11.1-py2.py3-none-any.whl (581kB)\n",
            "\u001b[K     |████████████████████████████████| 583kB 3.5MB/s \n",
            "\u001b[?25hRequirement already satisfied: numpy>=1.10.0 in /usr/local/lib/python3.6/dist-packages (from lifetimes) (1.16.5)\n",
            "Requirement already satisfied: pandas>=0.24.0 in /usr/local/lib/python3.6/dist-packages (from lifetimes) (0.24.2)\n",
            "Requirement already satisfied: autograd>=1.2.0 in /usr/local/lib/python3.6/dist-packages (from lifetimes) (1.3)\n",
            "Requirement already satisfied: scipy>=1.0.0 in /usr/local/lib/python3.6/dist-packages (from lifetimes) (1.3.1)\n",
            "Requirement already satisfied: dill>=0.2.6 in /usr/local/lib/python3.6/dist-packages (from lifetimes) (0.3.1.1)\n",
            "Requirement already satisfied: pytz>=2011k in /usr/local/lib/python3.6/dist-packages (from pandas>=0.24.0->lifetimes) (2018.9)\n",
            "Requirement already satisfied: python-dateutil>=2.5.0 in /usr/local/lib/python3.6/dist-packages (from pandas>=0.24.0->lifetimes) (2.5.3)\n",
            "Requirement already satisfied: future>=0.15.2 in /usr/local/lib/python3.6/dist-packages (from autograd>=1.2.0->lifetimes) (0.16.0)\n",
            "Requirement already satisfied: six>=1.5 in /usr/local/lib/python3.6/dist-packages (from python-dateutil>=2.5.0->pandas>=0.24.0->lifetimes) (1.12.0)\n",
            "Installing collected packages: lifetimes\n",
            "Successfully installed lifetimes-0.11.1\n"
          ],
          "name": "stdout"
        },
        {
          "output_type": "stream",
          "text": [
            "Using TensorFlow backend.\n"
          ],
          "name": "stderr"
        }
      ]
    },
    {
      "cell_type": "code",
      "metadata": {
        "id": "wcjQe--m9v7_",
        "colab_type": "code",
        "outputId": "85d8323c-6fc5-4a10-baa5-6c27b2778d8f",
        "colab": {
          "base_uri": "https://localhost:8080/",
          "height": 34
        }
      },
      "source": [
        "## Localización y carga de los datos\n",
        "## Localización y carga de los datos\n",
        "url = 'https://github.com/masdatascience/TFM-AI/blob/master/2019Tabla.xlsx?raw=true'\n",
        "datos_modelo = pd.ExcelFile(url)\n",
        "t1 = pd.read_excel(datos_modelo, sheet_name='table_col')\n",
        "url = 'https://github.com/masdatascience/TFM-AI/blob/master/2018Tabla-1.xlsx?raw=true'\n",
        "datos_modelo = pd.ExcelFile(url)\n",
        "t2 = pd.read_excel(datos_modelo, sheet_name='Hoja1')\n",
        "url = 'https://github.com/masdatascience/TFM-AI/blob/master/2018Tabla-2.xlsx?raw=true'\n",
        "datos_modelo = pd.ExcelFile(url)\n",
        "t3 = pd.read_excel(datos_modelo, sheet_name='Hoja2')\n",
        "\n",
        "\n",
        "datos_facturacion = pd.concat([t1,t2,t3])\n",
        "\n",
        "\n",
        "# Se elimian los datos nulos de las dimensiones importantes del analisis que son productos y clientes\n",
        "datos_facturacion = datos_facturacion.dropna(subset=['ID_CLIENTE'])\n",
        "datos_facturacion = datos_facturacion.dropna(subset=['ID_PRODUCTO'])\n",
        "# Se elimina posibles chargeback que se presenten\n",
        "datos_facturacion = datos_facturacion.loc[datos_facturacion['IMP_PRECIO_TOTAL'] > 0]\n",
        "\n",
        "print(\"Facturación:\"+ str(datos_facturacion.shape) ) # + \" Clientes:\"+str(datos_clientes.shape)+\" Productos:\"+str(datos_producto.shape))"
      ],
      "execution_count": 3,
      "outputs": [
        {
          "output_type": "stream",
          "text": [
            "Facturación:(499836, 28)\n"
          ],
          "name": "stdout"
        }
      ]
    },
    {
      "cell_type": "markdown",
      "metadata": {
        "id": "gknP4zvnDMY2",
        "colab_type": "text"
      },
      "source": [
        "### 3.2 Preparación de los datos \n",
        "En esta sección se estarán depurando los datos y generando las funciones requeridas para este capitulo"
      ]
    },
    {
      "cell_type": "markdown",
      "metadata": {
        "id": "nGPFk-v0D00A",
        "colab_type": "text"
      },
      "source": [
        "#### 3.2.1 Limpieza de datos\n",
        "\n"
      ]
    },
    {
      "cell_type": "code",
      "metadata": {
        "id": "F3iR_xdeL3V9",
        "colab_type": "code",
        "colab": {}
      },
      "source": [
        "# Se elimian los datos nulos de las dimensiones importantes del analisis que son productos y clientes\n",
        "datos_facturacion = datos_facturacion.dropna(subset=['ID_CLIENTE'])\n",
        "datos_facturacion = datos_facturacion.dropna(subset=['ID_PRODUCTO'])\n",
        "# Se elimina posibles chargeback que se presenten\n",
        "datos_facturacion = datos_facturacion.loc[datos_facturacion['IMP_PRECIO_TOTAL'] > 0]\n",
        "datos_facturacion = datos_facturacion.loc[datos_facturacion['NUM_CAJAS'] > 0]\n",
        "\n"
      ],
      "execution_count": 0,
      "outputs": []
    },
    {
      "cell_type": "markdown",
      "metadata": {
        "id": "YURTaD1qFEU7",
        "colab_type": "text"
      },
      "source": [
        "## 3.3 Marcar Clientes Perdidos\n",
        "En este capitulo se realizará el marcaje de los clientes que se den como perdidos, con base en el comportamiento de compras, frecuencia y montos , a través de aplicar el modelo RFM\n",
        "\n"
      ]
    },
    {
      "cell_type": "markdown",
      "metadata": {
        "id": "yIJVbE6Lgm3A",
        "colab_type": "text"
      },
      "source": [
        "### 3.3.1 Modelo RFM\n",
        "\n",
        "Este modelo utiliza tres variables iniciales para medir al cliente :\n",
        "\n",
        "\n",
        "*   Recencia (Recency): Se puede clasificar esto en la cantida de dias sin compras\n",
        "*   Frecuencia (Frecuency): Cuantas veces ha comprado,  Más de 5 veces, Entre 2 y 4 o solo 1 vez\n",
        "*   Valor Monetario (Monetary): Su costo , Más de 100 USD, Entre 50 y 99 USD o Menos de 50 USD"
      ]
    },
    {
      "cell_type": "code",
      "metadata": {
        "id": "ZLcjmx-ryY5s",
        "colab_type": "code",
        "colab": {}
      },
      "source": [
        "# se realiza un subconjunto de columnas con los cuales se analizará el comportamiento de compra\n",
        "transaction_data = datos_facturacion[['ID_CLIENTE','FEC_VENTA','IMP_PRECIO_TOTAL']]\n",
        "# se crea el modelo RFM\n",
        "modelo_rfm = summary_data_from_transaction_data(transaction_data,'ID_CLIENTE','FEC_VENTA',monetary_value_col='IMP_PRECIO_TOTAL',)"
      ],
      "execution_count": 0,
      "outputs": []
    },
    {
      "cell_type": "markdown",
      "metadata": {
        "id": "0oAW6WUckGL8",
        "colab_type": "text"
      },
      "source": [
        "Los datos que obtenemos del modelo RFM son :\n",
        "\n",
        "*   **Frecuencia**: Representa el número de compras repetidas que ha realizado el cliente. Esto significa, que es el recuento de períodos en los que el cliente realizó una compra. Por lo tanto, si usa días como unidades, entonces es el recuento de días en que el cliente realizó una compra.\n",
        "*   **T**: Tepresenta la edad del cliente en las unidades de tiempo elegidas  Esto es igual a la duración entre la primera compra de un cliente y el final del período\n",
        "*   **Recencia**:Es el tiempo que ha pasado desde su última compra. Esto es igual a la duración entre la primera compra de un cliente y su última compra. (Por lo tanto, si solo han realizado 1 compra, la antigüedad es 0.)\n",
        "\n",
        "Por lo Anterior descrito, podemos definir una hipotesis en donde si la Recencia es inferior a 1 , su Frecuencia es inferior a 1 , ya podemos tener una referencia de un posible Churn. Para proponer un valor para T , se utiliza la siguiente visualización de un mapa de calor, en donde se indica en amarillo los clientes que estan vivos y en morado los que no. \n",
        "\n",
        "\n"
      ]
    },
    {
      "cell_type": "code",
      "metadata": {
        "id": "6LtsVvVShjqK",
        "colab_type": "code",
        "outputId": "a8c97c3e-c594-4dfc-e82b-9d49253da59a",
        "colab": {
          "base_uri": "https://localhost:8080/",
          "height": 344
        }
      },
      "source": [
        "# Se comprueba como es el comportamiento de los clientes\n",
        "bgf = BetaGeoFitter(penalizer_coef=0.0)\n",
        "bgf.fit(modelo_rfm['frequency'], modelo_rfm['recency'], modelo_rfm['T'])\n",
        "plot_frequency_recency_matrix(bgf);"
      ],
      "execution_count": 7,
      "outputs": [
        {
          "output_type": "stream",
          "text": [
            "/usr/local/lib/python3.6/dist-packages/lifetimes/fitters/beta_geo_fitter.py:205: RuntimeWarning: overflow encountered in double_scalars\n",
            "  denominator = 1 + (x > 0) * (a / (b + x - 1)) * ((alpha + T) / (alpha + recency)) ** (r + x)\n"
          ],
          "name": "stderr"
        },
        {
          "output_type": "display_data",
          "data": {
            "image/png": "[encoded data removed]",
            "text/plain": [
              "<Figure size 432x288 with 2 Axes>"
            ]
          },
          "metadata": {
            "tags": []
          }
        }
      ]
    },
    {
      "cell_type": "code",
      "metadata": {
        "id": "dwElNTtMS1qv",
        "colab_type": "code",
        "colab": {
          "base_uri": "https://localhost:8080/",
          "height": 327
        },
        "outputId": "1e98941f-7fbf-4cd3-f19f-767cc94f36fc"
      },
      "source": [
        "plot_probability_alive_matrix(bgf)"
      ],
      "execution_count": 9,
      "outputs": [
        {
          "output_type": "execute_result",
          "data": {
            "text/plain": [
              "<matplotlib.axes._subplots.AxesSubplot at 0x7f13625d3d68>"
            ]
          },
          "metadata": {
            "tags": []
          },
          "execution_count": 9
        },
        {
          "output_type": "display_data",
          "data": {
            "image/png": "[encoded data removed]",
            "text/plain": [
              "<Figure size 432x288 with 2 Axes>"
            ]
          },
          "metadata": {
            "tags": []
          }
        }
      ]
    },
    {
      "cell_type": "code",
      "metadata": {
        "id": "qry179G_S3DS",
        "colab_type": "code",
        "colab": {
          "base_uri": "https://localhost:8080/",
          "height": 292
        },
        "outputId": "5c4bf081-a0a2-440a-c264-6906903898a4"
      },
      "source": [
        "plot_period_transactions(bgf).set_yscale('log');"
      ],
      "execution_count": 10,
      "outputs": [
        {
          "output_type": "display_data",
          "data": {
            "image/png": "[encoded data removed]",
            "text/plain": [
              "<Figure size 432x288 with 1 Axes>"
            ]
          },
          "metadata": {
            "tags": []
          }
        }
      ]
    },
    {
      "cell_type": "code",
      "metadata": {
        "id": "Jenfq0m7S6Us",
        "colab_type": "code",
        "colab": {}
      },
      "source": [
        "modelo_rfm['predicted_purchases'] = bgf.conditional_expected_number_of_purchases_up_to_time(1, modelo_rfm['frequency'], modelo_rfm['recency'], modelo_rfm['T'])"
      ],
      "execution_count": 0,
      "outputs": []
    },
    {
      "cell_type": "code",
      "metadata": {
        "id": "k71eqUm8S8N3",
        "colab_type": "code",
        "colab": {
          "base_uri": "https://localhost:8080/",
          "height": 297
        },
        "outputId": "223005e0-8dfe-416e-e1aa-695dec340b2b"
      },
      "source": [
        "modelo_rfm.describe()"
      ],
      "execution_count": 13,
      "outputs": [
        {
          "output_type": "execute_result",
          "data": {
            "text/html": [
              "<div>\n",
              "<style scoped>\n",
              "    .dataframe tbody tr th:only-of-type {\n",
              "        vertical-align: middle;\n",
              "    }\n",
              "\n",
              "    .dataframe tbody tr th {\n",
              "        vertical-align: top;\n",
              "    }\n",
              "\n",
              "    .dataframe thead th {\n",
              "        text-align: right;\n",
              "    }\n",
              "</style>\n",
              "<table border=\"1\" class=\"dataframe\">\n",
              "  <thead>\n",
              "    <tr style=\"text-align: right;\">\n",
              "      <th></th>\n",
              "      <th>frequency</th>\n",
              "      <th>recency</th>\n",
              "      <th>T</th>\n",
              "      <th>monetary_value</th>\n",
              "      <th>churn</th>\n",
              "      <th>predicted_purchases</th>\n",
              "    </tr>\n",
              "  </thead>\n",
              "  <tbody>\n",
              "    <tr>\n",
              "      <th>count</th>\n",
              "      <td>23035.000000</td>\n",
              "      <td>23035.000000</td>\n",
              "      <td>23035.000000</td>\n",
              "      <td>2.303500e+04</td>\n",
              "      <td>23035.000000</td>\n",
              "      <td>2.303500e+04</td>\n",
              "    </tr>\n",
              "    <tr>\n",
              "      <th>mean</th>\n",
              "      <td>7.623008</td>\n",
              "      <td>227.914608</td>\n",
              "      <td>382.049316</td>\n",
              "      <td>4.349876e+05</td>\n",
              "      <td>0.093770</td>\n",
              "      <td>1.669854e-02</td>\n",
              "    </tr>\n",
              "    <tr>\n",
              "      <th>std</th>\n",
              "      <td>15.461408</td>\n",
              "      <td>208.114797</td>\n",
              "      <td>165.124649</td>\n",
              "      <td>2.206825e+06</td>\n",
              "      <td>0.291515</td>\n",
              "      <td>2.841776e-02</td>\n",
              "    </tr>\n",
              "    <tr>\n",
              "      <th>min</th>\n",
              "      <td>0.000000</td>\n",
              "      <td>0.000000</td>\n",
              "      <td>0.000000</td>\n",
              "      <td>0.000000e+00</td>\n",
              "      <td>0.000000</td>\n",
              "      <td>2.448443e-20</td>\n",
              "    </tr>\n",
              "    <tr>\n",
              "      <th>25%</th>\n",
              "      <td>0.000000</td>\n",
              "      <td>0.000000</td>\n",
              "      <td>256.000000</td>\n",
              "      <td>0.000000e+00</td>\n",
              "      <td>0.000000</td>\n",
              "      <td>2.521091e-03</td>\n",
              "    </tr>\n",
              "    <tr>\n",
              "      <th>50%</th>\n",
              "      <td>2.000000</td>\n",
              "      <td>192.000000</td>\n",
              "      <td>447.000000</td>\n",
              "      <td>6.607740e+04</td>\n",
              "      <td>0.000000</td>\n",
              "      <td>7.627823e-03</td>\n",
              "    </tr>\n",
              "    <tr>\n",
              "      <th>75%</th>\n",
              "      <td>9.000000</td>\n",
              "      <td>454.000000</td>\n",
              "      <td>523.000000</td>\n",
              "      <td>2.399113e+05</td>\n",
              "      <td>0.000000</td>\n",
              "      <td>2.070392e-02</td>\n",
              "    </tr>\n",
              "    <tr>\n",
              "      <th>max</th>\n",
              "      <td>401.000000</td>\n",
              "      <td>545.000000</td>\n",
              "      <td>545.000000</td>\n",
              "      <td>1.231964e+08</td>\n",
              "      <td>1.000000</td>\n",
              "      <td>7.016022e-01</td>\n",
              "    </tr>\n",
              "  </tbody>\n",
              "</table>\n",
              "</div>"
            ],
            "text/plain": [
              "          frequency       recency  ...         churn  predicted_purchases\n",
              "count  23035.000000  23035.000000  ...  23035.000000         2.303500e+04\n",
              "mean       7.623008    227.914608  ...      0.093770         1.669854e-02\n",
              "std       15.461408    208.114797  ...      0.291515         2.841776e-02\n",
              "min        0.000000      0.000000  ...      0.000000         2.448443e-20\n",
              "25%        0.000000      0.000000  ...      0.000000         2.521091e-03\n",
              "50%        2.000000    192.000000  ...      0.000000         7.627823e-03\n",
              "75%        9.000000    454.000000  ...      0.000000         2.070392e-02\n",
              "max      401.000000    545.000000  ...      1.000000         7.016022e-01\n",
              "\n",
              "[8 rows x 6 columns]"
            ]
          },
          "metadata": {
            "tags": []
          },
          "execution_count": 13
        }
      ]
    },
    {
      "cell_type": "markdown",
      "metadata": {
        "id": "9uF8YsgNlp9C",
        "colab_type": "text"
      },
      "source": [
        "### 3.3.2 Definición y aplicación de hipotesis con RFM\n",
        "Con base en este resultado se pueden proponer la siguiente hiporesis de marcaje de clientes perdidos:\n",
        "\n",
        "1.   **Frecuencia**: Cualquier cliente que tenga una Frencuencia inferior a 1 \n",
        "2.   **T**: Se observa que a nivel 400 en adelante los valores se encuentra morados\n",
        "3.   **Recencia**: Por su misma formula, todo lo que sea inferior a 1 , se puede marcar como churn"
      ]
    },
    {
      "cell_type": "code",
      "metadata": {
        "id": "bGbfrYbJlozG",
        "colab_type": "code",
        "outputId": "26ac25fb-6209-43db-ad10-694151562e8e",
        "colab": {
          "base_uri": "https://localhost:8080/",
          "height": 51
        }
      },
      "source": [
        "# Se aplica la hipotesis \n",
        "copia_modelo_rfm = modelo_rfm.copy()\n",
        "copia_modelo_rfm['CHURN'] = np.where( (modelo_rfm['frequency']>=2) & (modelo_rfm['T']>=180) & (modelo_rfm['recency']<=350)  , 1, 0) \n",
        "# Se integra esta caracteristicas a los clienes\n",
        "nuevos_datos_facturacion = datos_facturacion.copy()\n",
        "nuevos_datos_facturacion = pd.merge(nuevos_datos_facturacion,copia_modelo_rfm[['CHURN']],on='ID_CLIENTE', how='left').fillna(0)\n",
        "print(\"Datos actualizados de Transacciones:\"+str(datos_facturacion.shape))\n",
        "print(\"Se identifica que el porcentaje de clientes de baja es: \"+str(round(nuevos_datos_facturacion.CHURN.mean(),2)*100)+\"%\")"
      ],
      "execution_count": 15,
      "outputs": [
        {
          "output_type": "stream",
          "text": [
            "Datos actualizados de Transacciones:(499531, 28)\n",
            "Se identifica que el porcentaje de clientes de baja es: 9.0%\n"
          ],
          "name": "stdout"
        }
      ]
    },
    {
      "cell_type": "markdown",
      "metadata": {
        "id": "eFrBgpJzpfnY",
        "colab_type": "text"
      },
      "source": [
        "## 3.4 Predecir perdida de Clientes\n",
        "En este capitulo con los clientes marcados como perdidos, se procede a realizar una serie de pruebas, de integración de nuevas variables con los clientes , como tambien de tecnicas de codificación que permitan generar mejorar resultados a los algoritmos a ser utilizados. <br>\n",
        "Como alcance de estos algoritmos se implementaran los siguienes:\n",
        "\n",
        "*   Random Forest\n",
        "*   Regresión lineal\n",
        "*   Gradient Boosting Classifier\n",
        "*   Support Vector Machine\n",
        "*   Redes neuronales\n",
        "\n"
      ]
    },
    {
      "cell_type": "markdown",
      "metadata": {
        "id": "Ybywjczrslbx",
        "colab_type": "text"
      },
      "source": [
        "### 3.4.1 Definición de funciones\n"
      ]
    },
    {
      "cell_type": "code",
      "metadata": {
        "id": "PAuQor9JqQgb",
        "colab_type": "code",
        "colab": {}
      },
      "source": [
        "# Random Forest\n",
        "def randomForest():\n",
        "  print(\"-------------------------------------------------------------------------------\")\n",
        "  print(\"En ejecución algoritmo de Random Forest\")\n",
        "  rfc_object = rfc(n_estimators=200, random_state=0)\n",
        "  rfc_object.fit(train_features, train_labels)\n",
        "  predicted_labels = rfc_object.predict(test_features)\n",
        "  # se verifican resultados\n",
        "  print(classification_report(test_labels, predicted_labels))\n",
        "  print(confusion_matrix(test_labels, predicted_labels))\n",
        "  print(accuracy_score(test_labels, predicted_labels))\n",
        "\n",
        "  # Regresión lineal\n",
        "def regresionLineal():\n",
        "  print(\"-------------------------------------------------------------------------------\")\n",
        "  print(\"En ejecución algoritmo de Regresión lineal\")\n",
        "  # Algoritmo\n",
        "  lr_object = LogisticRegression()\n",
        "  lr_object.fit(train_features, train_labels)\n",
        "  predicted_labels = lr_object.predict(test_features)\n",
        "  # se verifican resultados\n",
        "  print(classification_report(test_labels, predicted_labels))\n",
        "  print(confusion_matrix(test_labels, predicted_labels))\n",
        "  print(accuracy_score(test_labels, predicted_labels))\n",
        "  \n",
        "  \n",
        "#Gradient Boosting Classifier\n",
        "def gradientBoost():\n",
        "  print(\"-------------------------------------------------------------------------------\")\n",
        "  print(\"En ejecución algoritmo de Gradient Boosting Classifier\")\n",
        "  gb = GradientBoostingClassifier()\n",
        "  gb.fit(train_features, train_labels)\n",
        "  predicted_labels = gb.predict(test_features)\n",
        "  # se verifican resultados\n",
        "  print(classification_report(test_labels, predicted_labels))\n",
        "  print(confusion_matrix(test_labels, predicted_labels))\n",
        "  print(accuracy_score(test_labels, predicted_labels))\n",
        "  \n",
        "# SVM  \n",
        "def SVM():\n",
        "  print(\"-------------------------------------------------------------------------------\")\n",
        "  print(\"En ejecución algoritmo de Support Vector Machine\")\n",
        "  scaling = MinMaxScaler(feature_range=(-1,1)).fit(train_features)\n",
        "  X_train = scaling.transform(train_features)\n",
        "  svc_object = svc(kernel='rbf', degree=8)\n",
        "  svc_object.fit(X_train, train_labels)\n",
        "  predicted_labels = svc_object.predict(test_features) \n",
        "  # se verifican resultados\n",
        "  print(classification_report(test_labels, predicted_labels))\n",
        "  print(confusion_matrix(test_labels, predicted_labels))\n",
        "  print(accuracy_score(test_labels, predicted_labels))\n",
        "\n",
        "# Redes neuronales\n",
        "def redesNeuronales():\n",
        "  print(\"-------------------------------------------------------------------------------\")\n",
        "  print(\"En ejecución algoritmo de Redes Neuronales\")\n",
        "  # Se genera el modelo \n",
        "  modelo = Sequential()\n",
        "  #Se define un monitor de parada temprana para que el modelo deje de entrenar cuando ya no mejore\n",
        "  early_stopping_monitor = EarlyStopping(patience=3)\n",
        "  #Se obtienen las columnas de entrenamiento\n",
        "  scale = StandardScaler()\n",
        "  X_dataset = scale.fit_transform(datos)\n",
        "  Y_dataset =clase.values \n",
        "  n_cols = X_dataset.shape[1]\n",
        "  #Se agregan las capas, aumentar el número de nodos en cada capa aumenta la capacidad del modelo pero por Collab lo dejare en esa cantidad\n",
        "  modelo.add (Dense (128, activation = 'relu', input_shape = (n_cols,))) \n",
        "  modelo.add( Dropout(0.3))\n",
        "  modelo.add (Dense (64, activation = 'relu')) \n",
        "  modelo.add( Dropout(0.25))\n",
        "  modelo.add (Dense (64, activation = 'sigmoid')) \n",
        "  modelo.add( Dropout(0.4))\n",
        "  modelo.add (Dense (64, activation = 'sigmoid')) \n",
        "  modelo.add( Dropout(0.25))\n",
        "  modelo.add (Dense (1, activation = 'sigmoid')) \n",
        "  modelo.compile(optimizer='adam', loss='binary_crossentropy', metrics=['accuracy'])\n",
        "  resultado=modelo.fit(X_dataset, Y_dataset, batch_size=30, epochs=30, validation_split=0.4, callbacks=[early_stopping_monitor])\n",
        "  # se verifican resultados\n",
        "  predicted_labels = modelo.predict(test_features)\n",
        "  print(classification_report(test_labels, predicted_labels.round()))\n",
        "  print(confusion_matrix(test_labels, predicted_labels.round()))\n",
        "  print(accuracy_score(test_labels, predicted_labels.round()))\n",
        "  \n",
        "    \n",
        "  # Se tienen dos tipos horizontal (H) o Vertical (V)\n",
        "  def codificacion(datos, campo, tipo):\n",
        "      if tipo == 'V':\n",
        "          enconder = LabelEncoder()\n",
        "          datos[campo]= enconder.fit_transform(datos[campo])\n",
        "          return  datos\n",
        "      elif modelo == 'H':\n",
        "          col_vertical = pd.get_dummies(datos.campo).iloc[:,1:]\n",
        "          datos =  datos.drop([campo], axis=1)\n",
        "          datos =  pd.concat([datos,col_vertical], axis=1)\n",
        "          return datos\n",
        "      else : \n",
        "          print(\"ERROR: Verifique el tipo de solicitud\")\n"
      ],
      "execution_count": 0,
      "outputs": []
    },
    {
      "cell_type": "markdown",
      "metadata": {
        "id": "5GesnudFsuGE",
        "colab_type": "text"
      },
      "source": [
        "### 3.4.2 Completar información de Clientes\n",
        "El objetivo de este enfoque es mejorar la data que se le puede entregar a los algoritmos con el fin de encontrar las caracteristicas claves de información que pueden ser utilizar \n"
      ]
    },
    {
      "cell_type": "markdown",
      "metadata": {
        "id": "Fan-fYsbtHPd",
        "colab_type": "text"
      },
      "source": [
        "### 3.4.3 Enfoque de la ejecución de los algoritmos\n",
        "\n",
        "El dataset de clientes, tiene cinco (5) caracteristicas definidas : customer_id, customer_state, customer_city, customer_zip_code_prefix y churn. Con lo se puede realizar el entrenamiento directo con los algoritmos de Machine Learning definidos . <br>\n",
        "De igual forma, se tienen relaciones que impactan en la relacion con el cliente, como son los productos comprados, vendedores, entre otros, los cuales se han integrado en un dataset adicional denominado como transacciones del cliente, con el fin de integrarlos en una segunda validación , e identificar su impacto en el churn del cliente. Sus nuevas caracteristicas son seis (6) :  order_id, seller_id, product_id, order_status, date, price."
      ]
    },
    {
      "cell_type": "markdown",
      "metadata": {
        "id": "6IOcQktsG9lk",
        "colab_type": "text"
      },
      "source": [
        "#### 3.4.3.1 Funciones de selección de variables\n",
        "Se estarán identificando los mejores 4  y 5 variables para entrenar a los algoritmos, para ello, se definen los siguientes metodos de selección de caracteristicas, a ser utilizadas para obtener las más relevantes: \n",
        "\n",
        "1.   Importancia de la característica con Extra Trees\n",
        "2.   Selección univariante\n",
        "3.   Eliminación de características recursivas\n",
        "4.   PCA \n"
      ]
    },
    {
      "cell_type": "code",
      "metadata": {
        "id": "cHVbvqKmG9TD",
        "colab_type": "code",
        "colab": {}
      },
      "source": [
        "from sklearn.ensemble import RandomForestClassifier\n",
        "from sklearn.ensemble import RandomForestRegressor\n",
        "from collections import defaultdict\n",
        "from sklearn.model_selection import ShuffleSplit\n",
        "\n",
        "def sel_EXT(datos, clase, num_variables):\n",
        "    # Se aplica el metodo\n",
        "    model = ExtraTreesClassifier()\n",
        "    model.fit(datos, clase)\n",
        "  # Se imprimen resultados\n",
        "    print(\"=====================================\")  \n",
        "    print(\"Metodo: Importancia de la característica con Extra Trees\")\n",
        "    print(\"=====================================\")  \n",
        "    print(model.feature_importances_)\n",
        "    caracteristicas = pd.Series(model.feature_importances_, index=datos.columns)\n",
        "    caracteristicas.nlargest(num_variables).plot(kind='barh')\n",
        "    plt.show()\n",
        "\n",
        "def sel_univariante(datos, clase, num_variables):\n",
        "    # Se aplica el metodo\n",
        "    univariante = SelectKBest(score_func=chi2, k=num_variables)\n",
        "    fit = univariante.fit(datos, clase)\n",
        "    # Se imprimen resultados\n",
        "    print(\"=====================================\")  \n",
        "    print(\"Metodo: Selección univariante\")\n",
        "    print(\"=====================================\")  \n",
        "    df_puntajes = pd.DataFrame(fit.scores_)\n",
        "    df_columnas = pd.DataFrame(datos.columns)\n",
        "    caracteristicas = pd.concat([df_columnas,df_puntajes],axis=1)\n",
        "    caracteristicas.columns = ['Caracteristica','Valor']  #naming the dataframe columns\n",
        "    print(caracteristicas.nlargest(num_variables,'Valor'))  #print 10 best features\n",
        "  \n",
        "\n",
        "\n",
        "def sel_correlacion(datos, clase, num_variables):\n",
        "    print(\"=====================================\")  \n",
        "    print(\"Metodo: Matriz de correlaciones\")\n",
        "    print(\"=====================================\")  \n",
        "    #get correlations of each features in dataset\n",
        "    data = pd.concat([datos, clase], axis=1)\n",
        "    corrmat =  data.corr()\n",
        "    top_corr_features = corrmat.index\n",
        "    plt.figure(figsize=(20,20))\n",
        "    #plot heat map\n",
        "    g=sns.heatmap(data[top_corr_features].corr(),annot=True,cmap=\"RdYlGn\")\n",
        "              \n",
        "\n",
        "def sel_recursiva(datos, clase, num_variables):\n",
        "    # Se aplica el metodo  \n",
        "    model = LogisticRegression(solver=\"liblinear\", multi_class=\"auto\")\n",
        "    rfe = RFE(model, num_variables)\n",
        "    fit = rfe.fit(datos, clase)\n",
        "    # Se imprimen resultados\n",
        "    print(\"=====================================\")  \n",
        "    print(\"Metodo: Eliminación de características recursivas\")\n",
        "    print(\"=====================================\")  \n",
        "    print(\"Ranking de caracteristicas en su posición en los datos:\"+ str(fit.ranking_))\n",
        "    #print(\"Se identifican los siguientes features:\" +str(clientes_cod.drop('churn',axis=1).columns[fit.support_]))  \n",
        "    \n",
        "def sel_randomForest(datos, clase, num_variables):\n",
        "    print(\"=====================================\")  \n",
        "    print(\"Metodo: ean decrease accuracy\")\n",
        "    print(\"=====================================\")  \n",
        "    names = datos.columns\n",
        "    rf = RandomForestRegressor()\n",
        "    rf.fit(datos, clase)\n",
        "    print (\"Caracteristicas ordenadas por su puntaje:\")\n",
        "    print (sorted(zip(map(lambda x: round(x, 4), rf.feature_importances_), names), \n",
        "                 reverse=True))\n",
        "\n",
        "\n",
        "def sel_boruta(datos, clase, num_variables):\n",
        "    from sklearn.ensemble import RandomForestClassifier\n",
        "    from boruta import BorutaPy\n",
        "    rfc = RandomForestClassifier(n_estimators=1000, n_jobs=-1, class_weight='balanced')\n",
        "    boruta_selector = BorutaPy(rfc, n_estimators='auto', verbose=2)\n",
        "    boruta_selector.fit(datos.to_numpy(),clase.to_numpy())\n",
        "    print(\"==============BORUTA==============\")\n",
        "    print (boruta_selector.n_features_)\n",
        "    X_filtered = boruta_selector.transform(datos.to_numpy())\n",
        "    X_filtered.shape\n",
        "    features = [f for f in datos.columns if f not in ['TARGET','SK_ID_CURR']]\n",
        "    final_features = list()\n",
        "    indexes = np.where(boruta_selector.support_ == True)\n",
        "    for x in np.nditer(indexes):\n",
        "        final_features.append(features[x])\n",
        "    print(final_features)"
      ],
      "execution_count": 0,
      "outputs": []
    },
    {
      "cell_type": "markdown",
      "metadata": {
        "id": "tKTroq1c35by",
        "colab_type": "text"
      },
      "source": [
        "#### 3.4.3.2 Selección de variables dataset clientes transaccional\n",
        "Se aplican los diferentes metodos de selección de variables con agrupaciones de cuatro caracteristicas. Con los resultados obtenidos entre los diferentes metodos, se procederá a seleccionar las caracteristicas relevantes"
      ]
    },
    {
      "cell_type": "code",
      "metadata": {
        "id": "qUnILDN-9ihx",
        "colab_type": "code",
        "outputId": "6d1ee6de-d32a-46f0-cbe3-9c513db72579",
        "colab": {
          "base_uri": "https://localhost:8080/",
          "height": 425
        }
      },
      "source": [
        "# Se transforman los valores categoricos a númericos\n",
        "clientes_cod = datos_facturacion.drop(['ID_CLIENTE','ID_PAIS','DESC_SEGMENTO','DESC_SUB_SEGMENTO','DESC_DISTRIBUIDOR', 'DESC_LOC_DISTRIBUIDOR', 'DESC_PRODUCTO', 'DESC_CLIENTE',\t'DESC_HOLDING',\t'DESC_VENDEDOR'],axis=1)\n",
        "\n",
        "enconder = LabelEncoder()\n",
        "clientes_cod['ID_VENDEDOR'] = enconder.fit_transform(clientes_cod['ID_VENDEDOR'])\n",
        "clientes_cod['ID_PRODUCTO'] = enconder.fit_transform(clientes_cod['ID_PRODUCTO'])\n",
        "clientes_cod['ID_DISTRIBUIDOR'] = enconder.fit_transform(clientes_cod['ID_DISTRIBUIDOR'])\n",
        "clientes_cod['ID_LOC_DISTRIBUIDOR'] = enconder.fit_transform(clientes_cod['ID_LOC_DISTRIBUIDOR'])\n",
        "clientes_cod['ID_HOLDING'] = enconder.fit_transform(clientes_cod['ID_HOLDING'])\n",
        "clientes_cod['ID_LOC_DISTRIBUIDOR'] = enconder.fit_transform(clientes_cod['ID_LOC_DISTRIBUIDOR'])\n",
        "#clientes_cod['ID_PAIS'] = enconder.fit_transform(clientes_cod['ID_PAIS'])\n",
        "clientes_cod['FEC_VENTA'] = enconder.fit_transform(clientes_cod['FEC_VENTA'])\n",
        "clientes_cod['DESC_CATEGORIA'] = enconder.fit_transform(clientes_cod['DESC_CATEGORIA'])\n",
        "clientes_cod['DESC_SUB_CAT1'] = enconder.fit_transform(clientes_cod['DESC_SUB_CAT1'])\n",
        "clientes_cod['DESC_SUB_CAT2'] = enconder.fit_transform(clientes_cod['DESC_SUB_CAT2'])\n",
        "clientes_cod['DESC_SUB_CAT3'] = enconder.fit_transform(clientes_cod['DESC_SUB_CAT3'])\n",
        "# Se definen los datos de caracteristicas y el clasificador de churn \n",
        "datos = clientes_cod.drop(['CHURN'],axis=1)\n",
        "clase = clientes_cod.CHURN\n",
        "print(\"Orden de las columnas:\")\n",
        "datos.dtypes"
      ],
      "execution_count": 18,
      "outputs": [
        {
          "output_type": "error",
          "ename": "TypeError",
          "evalue": "ignored",
          "traceback": [
            "\u001b[0;31m---------------------------------------------------------------------------\u001b[0m",
            "\u001b[0;31mTypeError\u001b[0m                                 Traceback (most recent call last)",
            "\u001b[0;32m/usr/local/lib/python3.6/dist-packages/sklearn/preprocessing/label.py\u001b[0m in \u001b[0;36m_encode\u001b[0;34m(values, uniques, encode)\u001b[0m\n\u001b[1;32m    104\u001b[0m         \u001b[0;32mtry\u001b[0m\u001b[0;34m:\u001b[0m\u001b[0;34m\u001b[0m\u001b[0;34m\u001b[0m\u001b[0m\n\u001b[0;32m--> 105\u001b[0;31m             \u001b[0mres\u001b[0m \u001b[0;34m=\u001b[0m \u001b[0m_encode_python\u001b[0m\u001b[0;34m(\u001b[0m\u001b[0mvalues\u001b[0m\u001b[0;34m,\u001b[0m \u001b[0muniques\u001b[0m\u001b[0;34m,\u001b[0m \u001b[0mencode\u001b[0m\u001b[0;34m)\u001b[0m\u001b[0;34m\u001b[0m\u001b[0;34m\u001b[0m\u001b[0m\n\u001b[0m\u001b[1;32m    106\u001b[0m         \u001b[0;32mexcept\u001b[0m \u001b[0mTypeError\u001b[0m\u001b[0;34m:\u001b[0m\u001b[0;34m\u001b[0m\u001b[0;34m\u001b[0m\u001b[0m\n",
            "\u001b[0;32m/usr/local/lib/python3.6/dist-packages/sklearn/preprocessing/label.py\u001b[0m in \u001b[0;36m_encode_python\u001b[0;34m(values, uniques, encode)\u001b[0m\n\u001b[1;32m     58\u001b[0m     \u001b[0;32mif\u001b[0m \u001b[0muniques\u001b[0m \u001b[0;32mis\u001b[0m \u001b[0;32mNone\u001b[0m\u001b[0;34m:\u001b[0m\u001b[0;34m\u001b[0m\u001b[0;34m\u001b[0m\u001b[0m\n\u001b[0;32m---> 59\u001b[0;31m         \u001b[0muniques\u001b[0m \u001b[0;34m=\u001b[0m \u001b[0msorted\u001b[0m\u001b[0;34m(\u001b[0m\u001b[0mset\u001b[0m\u001b[0;34m(\u001b[0m\u001b[0mvalues\u001b[0m\u001b[0;34m)\u001b[0m\u001b[0;34m)\u001b[0m\u001b[0;34m\u001b[0m\u001b[0;34m\u001b[0m\u001b[0m\n\u001b[0m\u001b[1;32m     60\u001b[0m         \u001b[0muniques\u001b[0m \u001b[0;34m=\u001b[0m \u001b[0mnp\u001b[0m\u001b[0;34m.\u001b[0m\u001b[0marray\u001b[0m\u001b[0;34m(\u001b[0m\u001b[0muniques\u001b[0m\u001b[0;34m,\u001b[0m \u001b[0mdtype\u001b[0m\u001b[0;34m=\u001b[0m\u001b[0mvalues\u001b[0m\u001b[0;34m.\u001b[0m\u001b[0mdtype\u001b[0m\u001b[0;34m)\u001b[0m\u001b[0;34m\u001b[0m\u001b[0;34m\u001b[0m\u001b[0m\n",
            "\u001b[0;31mTypeError\u001b[0m: '<' not supported between instances of 'str' and 'int'",
            "\nDuring handling of the above exception, another exception occurred:\n",
            "\u001b[0;31mTypeError\u001b[0m                                 Traceback (most recent call last)",
            "\u001b[0;32m<ipython-input-18-a1b6690db8f9>\u001b[0m in \u001b[0;36m<module>\u001b[0;34m()\u001b[0m\n\u001b[1;32m      2\u001b[0m \u001b[0;34m\u001b[0m\u001b[0m\n\u001b[1;32m      3\u001b[0m \u001b[0menconder\u001b[0m \u001b[0;34m=\u001b[0m \u001b[0mLabelEncoder\u001b[0m\u001b[0;34m(\u001b[0m\u001b[0;34m)\u001b[0m\u001b[0;34m\u001b[0m\u001b[0;34m\u001b[0m\u001b[0m\n\u001b[0;32m----> 4\u001b[0;31m \u001b[0mclientes_cod\u001b[0m\u001b[0;34m[\u001b[0m\u001b[0;34m'ID_VENDEDOR'\u001b[0m\u001b[0;34m]\u001b[0m \u001b[0;34m=\u001b[0m \u001b[0menconder\u001b[0m\u001b[0;34m.\u001b[0m\u001b[0mfit_transform\u001b[0m\u001b[0;34m(\u001b[0m\u001b[0mclientes_cod\u001b[0m\u001b[0;34m[\u001b[0m\u001b[0;34m'ID_VENDEDOR'\u001b[0m\u001b[0;34m]\u001b[0m\u001b[0;34m)\u001b[0m\u001b[0;34m\u001b[0m\u001b[0;34m\u001b[0m\u001b[0m\n\u001b[0m\u001b[1;32m      5\u001b[0m \u001b[0mclientes_cod\u001b[0m\u001b[0;34m[\u001b[0m\u001b[0;34m'ID_PRODUCTO'\u001b[0m\u001b[0;34m]\u001b[0m \u001b[0;34m=\u001b[0m \u001b[0menconder\u001b[0m\u001b[0;34m.\u001b[0m\u001b[0mfit_transform\u001b[0m\u001b[0;34m(\u001b[0m\u001b[0mclientes_cod\u001b[0m\u001b[0;34m[\u001b[0m\u001b[0;34m'ID_PRODUCTO'\u001b[0m\u001b[0;34m]\u001b[0m\u001b[0;34m)\u001b[0m\u001b[0;34m\u001b[0m\u001b[0;34m\u001b[0m\u001b[0m\n\u001b[1;32m      6\u001b[0m \u001b[0mclientes_cod\u001b[0m\u001b[0;34m[\u001b[0m\u001b[0;34m'ID_DISTRIBUIDOR'\u001b[0m\u001b[0;34m]\u001b[0m \u001b[0;34m=\u001b[0m \u001b[0menconder\u001b[0m\u001b[0;34m.\u001b[0m\u001b[0mfit_transform\u001b[0m\u001b[0;34m(\u001b[0m\u001b[0mclientes_cod\u001b[0m\u001b[0;34m[\u001b[0m\u001b[0;34m'ID_DISTRIBUIDOR'\u001b[0m\u001b[0;34m]\u001b[0m\u001b[0;34m)\u001b[0m\u001b[0;34m\u001b[0m\u001b[0;34m\u001b[0m\u001b[0m\n",
            "\u001b[0;32m/usr/local/lib/python3.6/dist-packages/sklearn/preprocessing/label.py\u001b[0m in \u001b[0;36mfit_transform\u001b[0;34m(self, y)\u001b[0m\n\u001b[1;32m    234\u001b[0m         \"\"\"\n\u001b[1;32m    235\u001b[0m         \u001b[0my\u001b[0m \u001b[0;34m=\u001b[0m \u001b[0mcolumn_or_1d\u001b[0m\u001b[0;34m(\u001b[0m\u001b[0my\u001b[0m\u001b[0;34m,\u001b[0m \u001b[0mwarn\u001b[0m\u001b[0;34m=\u001b[0m\u001b[0;32mTrue\u001b[0m\u001b[0;34m)\u001b[0m\u001b[0;34m\u001b[0m\u001b[0;34m\u001b[0m\u001b[0m\n\u001b[0;32m--> 236\u001b[0;31m         \u001b[0mself\u001b[0m\u001b[0;34m.\u001b[0m\u001b[0mclasses_\u001b[0m\u001b[0;34m,\u001b[0m \u001b[0my\u001b[0m \u001b[0;34m=\u001b[0m \u001b[0m_encode\u001b[0m\u001b[0;34m(\u001b[0m\u001b[0my\u001b[0m\u001b[0;34m,\u001b[0m \u001b[0mencode\u001b[0m\u001b[0;34m=\u001b[0m\u001b[0;32mTrue\u001b[0m\u001b[0;34m)\u001b[0m\u001b[0;34m\u001b[0m\u001b[0;34m\u001b[0m\u001b[0m\n\u001b[0m\u001b[1;32m    237\u001b[0m         \u001b[0;32mreturn\u001b[0m \u001b[0my\u001b[0m\u001b[0;34m\u001b[0m\u001b[0;34m\u001b[0m\u001b[0m\n\u001b[1;32m    238\u001b[0m \u001b[0;34m\u001b[0m\u001b[0m\n",
            "\u001b[0;32m/usr/local/lib/python3.6/dist-packages/sklearn/preprocessing/label.py\u001b[0m in \u001b[0;36m_encode\u001b[0;34m(values, uniques, encode)\u001b[0m\n\u001b[1;32m    105\u001b[0m             \u001b[0mres\u001b[0m \u001b[0;34m=\u001b[0m \u001b[0m_encode_python\u001b[0m\u001b[0;34m(\u001b[0m\u001b[0mvalues\u001b[0m\u001b[0;34m,\u001b[0m \u001b[0muniques\u001b[0m\u001b[0;34m,\u001b[0m \u001b[0mencode\u001b[0m\u001b[0;34m)\u001b[0m\u001b[0;34m\u001b[0m\u001b[0;34m\u001b[0m\u001b[0m\n\u001b[1;32m    106\u001b[0m         \u001b[0;32mexcept\u001b[0m \u001b[0mTypeError\u001b[0m\u001b[0;34m:\u001b[0m\u001b[0;34m\u001b[0m\u001b[0;34m\u001b[0m\u001b[0m\n\u001b[0;32m--> 107\u001b[0;31m             \u001b[0;32mraise\u001b[0m \u001b[0mTypeError\u001b[0m\u001b[0;34m(\u001b[0m\u001b[0;34m\"argument must be a string or number\"\u001b[0m\u001b[0;34m)\u001b[0m\u001b[0;34m\u001b[0m\u001b[0;34m\u001b[0m\u001b[0m\n\u001b[0m\u001b[1;32m    108\u001b[0m         \u001b[0;32mreturn\u001b[0m \u001b[0mres\u001b[0m\u001b[0;34m\u001b[0m\u001b[0;34m\u001b[0m\u001b[0m\n\u001b[1;32m    109\u001b[0m     \u001b[0;32melse\u001b[0m\u001b[0;34m:\u001b[0m\u001b[0;34m\u001b[0m\u001b[0;34m\u001b[0m\u001b[0m\n",
            "\u001b[0;31mTypeError\u001b[0m: argument must be a string or number"
          ]
        }
      ]
    },
    {
      "cell_type": "markdown",
      "metadata": {
        "id": "HRhzSGNBQY8-",
        "colab_type": "text"
      },
      "source": [
        "##### 3.4.3.2.1 Enfoque cuatro variables y todas las caracteristicas de información"
      ]
    },
    {
      "cell_type": "code",
      "metadata": {
        "id": "5hlXs3MVKlr-",
        "colab_type": "code",
        "outputId": "ffd18a37-2712-4b0e-b305-899efeb5f5e7",
        "colab": {
          "base_uri": "https://localhost:8080/",
          "height": 454
        }
      },
      "source": [
        "# Se inicia identificando las 4 más importantes\n",
        "sel_EXT(datos,clase,4)\n",
        "sel_univariante(datos,clase,4)\n",
        "sel_recursiva(datos,clase,4)\n",
        "sel_PCA(datos,clase,4)\n",
        "# Orden Columnas\n",
        "#1:seller_id', 2:'product_id', 3:'order_status', 4:'DATE', 5:'price', 6:'customer_state', 7:'customer_city', 8:'customer_zip_code_prefix'"
      ],
      "execution_count": 0,
      "outputs": [
        {
          "output_type": "stream",
          "text": [
            "Metodo: Importancia de la característica con Extra Trees\n",
            "[0.03438217 0.03113858 0.00275334 0.83789057 0.03211228 0.00798275\n",
            " 0.02193538 0.03180492]\n",
            "Metodo: Selección univariante\n",
            "[4.813e+04 7.666e+04 5.730e+00 3.425e+06 1.073e+05 1.006e+02 7.266e+03\n",
            " 2.512e+06]\n",
            "[[ 8628   264  5890 28013]\n",
            " [29597   124 23990 15775]\n",
            " [25667   387 19900 35661]\n",
            " [15322   593  1299 12952]\n",
            " [22079    43 19990 13226]]\n",
            "Metodo: Eliminación de características recursivas\n",
            "Ranking de caracteristicas en su posición en los datos:[1 3 1 1 5 1 2 4]\n",
            "Metodo: PCA\n",
            "Resultado de las varianzas: [0.666 0.266 0.067 0.001]\n",
            "Resultado de la evaluació de los componentes:\n",
            "[[-9.656e-05  7.972e-04  5.751e-08 -2.489e-04  4.517e-02 -1.043e-04\n",
            "  -1.259e-02  9.989e-01]\n",
            " [ 8.456e-04  8.574e-03  1.132e-07  7.094e-06  9.989e-01 -4.669e-06\n",
            "  -5.709e-05 -4.517e-02]\n",
            " [ 5.345e-04 -1.000e+00  2.328e-07  2.228e-04  8.601e-03  1.968e-06\n",
            "   4.266e-04  4.147e-04]\n",
            " [ 2.537e-04 -4.371e-04 -2.234e-07 -1.119e-04 -6.223e-04 -8.187e-04\n",
            "  -9.999e-01 -1.258e-02]]\n"
          ],
          "name": "stdout"
        }
      ]
    },
    {
      "cell_type": "markdown",
      "metadata": {
        "id": "KHDN6oAqLUKF",
        "colab_type": "text"
      },
      "source": [
        "Como resultado de la priorización de las cuatro (4) variables más relevante, se obtiene la siguiente información:\n",
        "\n",
        "\n",
        "\n",
        "*   **Importancia de la característica con Extra Trees**: Identificó las siguientes caracteristicas como relevantes: **DATE, seller_id, product_id, price, customer_zip_code_prefix**. Las últimas tres variables tuvieron el mismo valor por eso no se da un resultado de 4 valores.\n",
        "*   **Selección Univariante**: Identificó las siguientes caracteristicas como relevantes: **order_status, customer_state, customer_city, seller_id**\n",
        "*   **Eliminación de características recursivas**: Identificó las siguientes caracteristicas como relevantes: **seller_id, order_status, DATE, customer_state**\n",
        "*   **PCA**: Identificó las siguientes caracteristicas como relevantes: **customer_zip_code_prefix, customer_city, price, product_id**\n",
        "\n",
        "\n",
        "Como conclusión las más relevantes, según el número de veces que aparezcan en los diferentes metodos son:\n",
        "\n",
        "1.   seller_id : Aparece en tres resultados\n",
        "2.   order_status: Aparece en dos resultados, en un ranking de 1ro y 2do\n",
        "3.   DATE:  Aparece en dos resultados, en un ranking de 1ro y 3ro\n",
        "4.   customer_zip_code_prefix: Aparece en dos resultados, en un ranking de  1ro y 4to \n",
        "5.  product_id: Aparece en dos resultados, en un ranking de 3ro y 4to\n",
        "6.  price: Aparece en dos resultaods, en un ranking de 3ro y 4to\n",
        "7.  customer_city: Aparece en dos resultados, en un ranking de 3ro y 2do\n",
        "8.  customer_state: Aparece en dos resultados, en un ranking de 2do y 4to\n",
        "\n",
        "Como resultado, se hace un ranking con base en el número de repeticiones, y si en alguna de ellas quedo de primero, de esto, se concluye que los cuatro campos claves para este experimento son *seller_id, order_status, DATE, customer_zip_code_prefix*\n",
        "\n",
        "\n"
      ]
    },
    {
      "cell_type": "markdown",
      "metadata": {
        "id": "UBAnRj3EQgGC",
        "colab_type": "text"
      },
      "source": [
        "##### 3.4.3.2.2 Enfoque cuatro variables y descartando al tiempo en el dataset"
      ]
    },
    {
      "cell_type": "code",
      "metadata": {
        "id": "76KVtXIFMdCm",
        "colab_type": "code",
        "outputId": "36a4979f-2e3b-43b7-dbc1-842689dd06ad",
        "colab": {
          "base_uri": "https://localhost:8080/"
        }
      },
      "source": [
        "# Se elimina DATE\n",
        "datos = datos.drop(['DATE'],axis=1)\n",
        "# Se aplican los metodos\n",
        "sel_EXT(datos,clase,4)\n",
        "sel_univariante(datos,clase,4)\n",
        "sel_recursiva(datos,clase,4)\n",
        "sel_PCA(datos,clase,4)\n",
        "# Orden Columnas\n",
        "#1:seller_id', 2:'product_id', 3:'order_status', 4:'price', 5:'customer_state', 6:'customer_city', 7:'customer_zip_code_prefix'"
      ],
      "execution_count": 0,
      "outputs": [
        {
          "output_type": "stream",
          "text": [
            "Metodo: Importancia de la característica con Extra Trees\n",
            "[0.218 0.213 0.006 0.223 0.022 0.107 0.21 ]\n",
            "Metodo: Selección univariante\n",
            "[4.813e+04 7.666e+04 5.730e+00 1.073e+05 1.006e+02 7.266e+03 2.512e+06]\n",
            "[[  854  8628  5890 28013]\n",
            " [ 2678 29597 23990 15775]\n",
            " [ 1117 25667 19900 35661]\n",
            " [ 1919 15322  1299 12952]\n",
            " [ 2697 22079 19990 13226]]\n",
            "Metodo: Eliminación de características recursivas\n",
            "Ranking de caracteristicas en su posición en los datos:[1 2 1 4 1 1 3]\n",
            "Metodo: PCA\n",
            "Resultado de las varianzas: [0.666 0.266 0.067 0.001]\n",
            "Resultado de la evaluació de los componentes:\n",
            "[[-9.656e-05  7.972e-04  5.751e-08  4.517e-02 -1.043e-04 -1.259e-02\n",
            "   9.989e-01]\n",
            " [ 8.456e-04  8.574e-03  1.132e-07  9.989e-01 -4.669e-06 -5.709e-05\n",
            "  -4.517e-02]\n",
            " [ 5.345e-04 -1.000e+00  2.328e-07  8.601e-03  1.968e-06  4.266e-04\n",
            "   4.146e-04]\n",
            " [ 2.533e-04 -4.370e-04 -2.236e-07 -6.223e-04 -8.187e-04 -9.999e-01\n",
            "  -1.258e-02]]\n"
          ],
          "name": "stdout"
        }
      ]
    },
    {
      "cell_type": "markdown",
      "metadata": {
        "id": "8CxzNM8XQ9BN",
        "colab_type": "text"
      },
      "source": [
        "Como resultado de la priorización de las cuatro (4) variables más relevante, se obtiene la siguiente información:\n",
        "\n",
        "*   **Importancia de la característica con Extra Trees**: Identificó las siguientes caracteristicas como relevantes: **price, seller_id, product_id, customer_state, customer_zip_code_prefix**. Las últimas tres variables tuvieron el mismo valor por eso no se da un resultado de 4 valores.\n",
        "*   **Selección Univariante**: Identificó las siguientes caracteristicas como relevantes: **order_status, customer_state, customer_city, product_id**\n",
        "*   **Eliminación de características recursivas**: Identificó las siguientes caracteristicas como relevantes: **seller_id, order_status, customer_state, customer_city**\n",
        "*   **PCA**: Identificó las siguientes caracteristicas como relevantes: **customer_zip_code_prefix, customer_city, price, product_id**\n",
        "\n",
        "\n",
        "Como conclusión las más relevantes, según el número de veces que aparezcan en los diferentes metodos son:\n",
        "\n",
        "1.   product_id: Aparece en tres resultados \n",
        "2.   customer_state: Aparece en tres resultados \n",
        "3.   seller_id : Aparece en en dos resultados, en un ranking de 1ro y 2do\n",
        "4.   order_status: Aparece en dos resultados, en un ranking de 1ro y 2do\n",
        "5.   customer_zip_code_prefix: Aparece en dos resultados, en un ranking de 1ro y 2do\n",
        "6.   price: Aparece en dos resultaods, en un ranking de 1ro y 3ro\n",
        "7.   customer_city: Aparece en dos resultados, en un ranking de 3ro y 2do\n",
        "\n",
        "Como resultado, se hace un ranking con base en el número de repeticiones, y si en alguna de ellas quedo de primero; de esto, se concluye que los cuatro campos claves para este experimento son *product_id, customer_state, seller_id, order_status*\n"
      ]
    },
    {
      "cell_type": "markdown",
      "metadata": {
        "id": "vjFSrEiUtNy6",
        "colab_type": "text"
      },
      "source": [
        "### 3.4.4 Ejecución de Experimentos\n",
        "En este capitulo, se ejecutaron los algoritmos con el fin de identificar cual es el que mejor da resultados, como tambien poner a prueba las dos agrupaciones priorizadas de variables"
      ]
    },
    {
      "cell_type": "markdown",
      "metadata": {
        "id": "qIAfmc9wZTsa",
        "colab_type": "text"
      },
      "source": [
        "#### 3.4.4.1 Ejecución de algoritmos con conjunto 1 de caracteristicas priorizadas"
      ]
    },
    {
      "cell_type": "code",
      "metadata": {
        "id": "dNFDGYciTkM6",
        "colab_type": "code",
        "outputId": "071b7fa9-8f00-4e2c-c20a-d086ddfffc56",
        "colab": {
          "base_uri": "https://localhost:8080/",
          "height": 1000
        }
      },
      "source": [
        "# Se define el primer conjunto de caracteristicas priorizadas \n",
        "grupo1 = ['seller_id', 'order_status', 'DATE', 'customer_zip_code_prefix']\n",
        "\n",
        "# Enfoque \n",
        "datos = clientes_cod.loc[:, grupo1] \n",
        "clase = clientes_cod.churn\n",
        "# Se realiza los subconjunto de datos para entrenamiento y pruebas \n",
        "train_features, test_features, train_labels, test_labels = train_test_split(datos, clase, test_size=0.3, random_state=1)\n",
        "# Ejecuto algoritmos\n",
        "randomForest()\n",
        "regresionLineal()\n",
        "gradientBoost()\n",
        "SVM()\n",
        "redesNeuronales()\n",
        "print(\"Fin de la ejecución de los algoritmos\")\n"
      ],
      "execution_count": 0,
      "outputs": [
        {
          "output_type": "stream",
          "text": [
            "-------------------------------------------------------------------------------\n",
            "En ejecución algoritmo de Random Forest\n",
            "              precision    recall  f1-score   support\n",
            "\n",
            "         0.0       1.00      0.99      0.99     25380\n",
            "         1.0       0.95      1.00      0.98      5529\n",
            "\n",
            "    accuracy                           0.99     30909\n",
            "   macro avg       0.98      0.99      0.99     30909\n",
            "weighted avg       0.99      0.99      0.99     30909\n",
            "\n",
            "[[25110   270]\n",
            " [    7  5522]]\n",
            "0.9910382089359087\n",
            "-------------------------------------------------------------------------------\n",
            "En ejecución algoritmo de Regresión lineal\n",
            "              precision    recall  f1-score   support\n",
            "\n",
            "         0.0       0.92      0.98      0.95     25380\n",
            "         1.0       0.87      0.58      0.70      5529\n",
            "\n",
            "    accuracy                           0.91     30909\n",
            "   macro avg       0.89      0.78      0.82     30909\n",
            "weighted avg       0.91      0.91      0.90     30909\n",
            "\n",
            "[[24911   469]\n",
            " [ 2301  3228]]\n",
            "0.9103820893590864\n",
            "-------------------------------------------------------------------------------\n",
            "En ejecución algoritmo de Gradient Boosting Classifier\n",
            "              precision    recall  f1-score   support\n",
            "\n",
            "         0.0       1.00      0.99      0.99     25380\n",
            "         1.0       0.95      1.00      0.97      5529\n",
            "\n",
            "    accuracy                           0.99     30909\n",
            "   macro avg       0.97      0.99      0.98     30909\n",
            "weighted avg       0.99      0.99      0.99     30909\n",
            "\n",
            "[[25068   312]\n",
            " [    1  5528]]\n",
            "0.9898734996279401\n",
            "-------------------------------------------------------------------------------\n",
            "En ejecución algoritmo de Support Vector Machine\n",
            "              precision    recall  f1-score   support\n",
            "\n",
            "         0.0       0.82      1.00      0.90     25380\n",
            "         1.0       0.00      0.00      0.00      5529\n",
            "\n",
            "    accuracy                           0.82     30909\n",
            "   macro avg       0.41      0.50      0.45     30909\n",
            "weighted avg       0.67      0.82      0.74     30909\n",
            "\n",
            "[[25380     0]\n",
            " [ 5529     0]]\n",
            "0.8211200621178297\n",
            "-------------------------------------------------------------------------------\n",
            "En ejecución algoritmo de Redes Neuronales\n",
            "WARNING:tensorflow:From /usr/local/lib/python3.6/dist-packages/keras/backend/tensorflow_backend.py:66: The name tf.get_default_graph is deprecated. Please use tf.compat.v1.get_default_graph instead.\n",
            "\n",
            "WARNING:tensorflow:From /usr/local/lib/python3.6/dist-packages/keras/backend/tensorflow_backend.py:541: The name tf.placeholder is deprecated. Please use tf.compat.v1.placeholder instead.\n",
            "\n",
            "WARNING:tensorflow:From /usr/local/lib/python3.6/dist-packages/keras/backend/tensorflow_backend.py:4432: The name tf.random_uniform is deprecated. Please use tf.random.uniform instead.\n",
            "\n",
            "WARNING:tensorflow:From /usr/local/lib/python3.6/dist-packages/keras/backend/tensorflow_backend.py:148: The name tf.placeholder_with_default is deprecated. Please use tf.compat.v1.placeholder_with_default instead.\n",
            "\n",
            "WARNING:tensorflow:From /usr/local/lib/python3.6/dist-packages/keras/backend/tensorflow_backend.py:3733: calling dropout (from tensorflow.python.ops.nn_ops) with keep_prob is deprecated and will be removed in a future version.\n",
            "Instructions for updating:\n",
            "Please use `rate` instead of `keep_prob`. Rate should be set to `rate = 1 - keep_prob`.\n"
          ],
          "name": "stdout"
        },
        {
          "output_type": "stream",
          "text": [
            "/usr/local/lib/python3.6/dist-packages/sklearn/metrics/classification.py:1437: UndefinedMetricWarning: Precision and F-score are ill-defined and being set to 0.0 in labels with no predicted samples.\n",
            "  'precision', 'predicted', average, warn_for)\n"
          ],
          "name": "stderr"
        },
        {
          "output_type": "stream",
          "text": [
            "WARNING:tensorflow:From /usr/local/lib/python3.6/dist-packages/keras/optimizers.py:793: The name tf.train.Optimizer is deprecated. Please use tf.compat.v1.train.Optimizer instead.\n",
            "\n",
            "WARNING:tensorflow:From /usr/local/lib/python3.6/dist-packages/keras/backend/tensorflow_backend.py:3657: The name tf.log is deprecated. Please use tf.math.log instead.\n",
            "\n",
            "WARNING:tensorflow:From /usr/local/lib/python3.6/dist-packages/tensorflow/python/ops/nn_impl.py:180: add_dispatch_support.<locals>.wrapper (from tensorflow.python.ops.array_ops) is deprecated and will be removed in a future version.\n",
            "Instructions for updating:\n",
            "Use tf.where in 2.0, which has the same broadcast rule as np.where\n",
            "Train on 61816 samples, validate on 41212 samples\n",
            "Epoch 1/30\n",
            "61816/61816 [==============================] - 7s 108us/step - loss: 0.0964 - acc: 0.9647 - val_loss: 0.0559 - val_acc: 0.9817\n",
            "Epoch 2/30\n",
            "61816/61816 [==============================] - 6s 93us/step - loss: 0.0582 - acc: 0.9819 - val_loss: 0.0533 - val_acc: 0.9827\n",
            "Epoch 3/30\n",
            "61816/61816 [==============================] - 5s 89us/step - loss: 0.0540 - acc: 0.9835 - val_loss: 0.0530 - val_acc: 0.9822\n",
            "Epoch 4/30\n",
            "61816/61816 [==============================] - 6s 90us/step - loss: 0.0522 - acc: 0.9846 - val_loss: 0.0455 - val_acc: 0.9882\n",
            "Epoch 5/30\n",
            "61816/61816 [==============================] - 5s 84us/step - loss: 0.0515 - acc: 0.9846 - val_loss: 0.0475 - val_acc: 0.9860\n",
            "Epoch 6/30\n",
            "61816/61816 [==============================] - 5s 87us/step - loss: 0.0501 - acc: 0.9853 - val_loss: 0.0443 - val_acc: 0.9886\n",
            "Epoch 7/30\n",
            "61816/61816 [==============================] - 5s 85us/step - loss: 0.0500 - acc: 0.9851 - val_loss: 0.0489 - val_acc: 0.9843\n",
            "Epoch 8/30\n",
            "61816/61816 [==============================] - 6s 97us/step - loss: 0.0499 - acc: 0.9853 - val_loss: 0.0466 - val_acc: 0.9865\n",
            "Epoch 9/30\n",
            "61816/61816 [==============================] - 5s 87us/step - loss: 0.0492 - acc: 0.9856 - val_loss: 0.0456 - val_acc: 0.9874\n",
            "              precision    recall  f1-score   support\n",
            "\n",
            "         0.0       0.82      1.00      0.90     25380\n",
            "         1.0       0.00      0.00      0.00      5529\n",
            "\n",
            "    accuracy                           0.82     30909\n",
            "   macro avg       0.41      0.50      0.45     30909\n",
            "weighted avg       0.67      0.82      0.74     30909\n",
            "\n",
            "[[25380     0]\n",
            " [ 5529     0]]\n",
            "0.8211200621178297\n",
            "Fin de la ejecución de los algoritmos\n"
          ],
          "name": "stdout"
        },
        {
          "output_type": "stream",
          "text": [
            "/usr/local/lib/python3.6/dist-packages/sklearn/metrics/classification.py:1437: UndefinedMetricWarning: Precision and F-score are ill-defined and being set to 0.0 in labels with no predicted samples.\n",
            "  'precision', 'predicted', average, warn_for)\n"
          ],
          "name": "stderr"
        }
      ]
    },
    {
      "cell_type": "markdown",
      "metadata": {
        "id": "b2OX1_g6ZczE",
        "colab_type": "text"
      },
      "source": [
        "#### 3.4.4.2 Ejecución de algoritmos con conjunto 2 de caracteristicas priorizadas"
      ]
    },
    {
      "cell_type": "code",
      "metadata": {
        "id": "JEPVc8KKZl7M",
        "colab_type": "code",
        "outputId": "2e0fb711-e7ed-4bec-9da9-dee4632b422f",
        "colab": {
          "base_uri": "https://localhost:8080/",
          "height": 1000
        }
      },
      "source": [
        "# Se define el segundo conjunto de caracteristicas priorizadas \n",
        "grupo2 = ['product_id', 'customer_state', 'seller_id', 'order_status']\n",
        "\n",
        "# Enfoque \n",
        "datos = clientes_cod.loc[:, grupo2] \n",
        "clase = clientes_cod.churn\n",
        "# Se realiza los subconjunto de datos para entrenamiento y pruebas \n",
        "train_features, test_features, train_labels, test_labels = train_test_split(datos, clase, test_size=0.3, random_state=1)\n",
        "# Ejecuto algoritmos\n",
        "randomForest()\n",
        "regresionLineal()\n",
        "gradientBoost()\n",
        "SVM()\n",
        "redesNeuronales()"
      ],
      "execution_count": 0,
      "outputs": [
        {
          "output_type": "stream",
          "text": [
            "-------------------------------------------------------------------------------\n",
            "En ejecución algoritmo de Random Forest\n",
            "              precision    recall  f1-score   support\n",
            "\n",
            "         0.0       0.86      0.94      0.90     25380\n",
            "         1.0       0.54      0.30      0.39      5529\n",
            "\n",
            "    accuracy                           0.83     30909\n",
            "   macro avg       0.70      0.62      0.64     30909\n",
            "weighted avg       0.80      0.83      0.81     30909\n",
            "\n",
            "[[23967  1413]\n",
            " [ 3864  1665]]\n",
            "0.8292730272736096\n",
            "-------------------------------------------------------------------------------\n",
            "En ejecución algoritmo de Regresión lineal\n"
          ],
          "name": "stdout"
        },
        {
          "output_type": "stream",
          "text": [
            "/usr/local/lib/python3.6/dist-packages/sklearn/metrics/classification.py:1437: UndefinedMetricWarning: Precision and F-score are ill-defined and being set to 0.0 in labels with no predicted samples.\n",
            "  'precision', 'predicted', average, warn_for)\n"
          ],
          "name": "stderr"
        },
        {
          "output_type": "stream",
          "text": [
            "              precision    recall  f1-score   support\n",
            "\n",
            "         0.0       0.82      1.00      0.90     25380\n",
            "         1.0       0.00      0.00      0.00      5529\n",
            "\n",
            "    accuracy                           0.82     30909\n",
            "   macro avg       0.41      0.50      0.45     30909\n",
            "weighted avg       0.67      0.82      0.74     30909\n",
            "\n",
            "[[25380     0]\n",
            " [ 5529     0]]\n",
            "0.8211200621178297\n",
            "-------------------------------------------------------------------------------\n",
            "En ejecución algoritmo de Gradient Boosting Classifier\n",
            "              precision    recall  f1-score   support\n",
            "\n",
            "         0.0       0.82      1.00      0.90     25380\n",
            "         1.0       0.74      0.01      0.02      5529\n",
            "\n",
            "    accuracy                           0.82     30909\n",
            "   macro avg       0.78      0.50      0.46     30909\n",
            "weighted avg       0.81      0.82      0.74     30909\n",
            "\n",
            "[[25365    15]\n",
            " [ 5487    42]]\n",
            "0.8219935940988061\n",
            "-------------------------------------------------------------------------------\n",
            "En ejecución algoritmo de Support Vector Machine\n"
          ],
          "name": "stdout"
        },
        {
          "output_type": "stream",
          "text": [
            "/usr/local/lib/python3.6/dist-packages/sklearn/metrics/classification.py:1437: UndefinedMetricWarning: Precision and F-score are ill-defined and being set to 0.0 in labels with no predicted samples.\n",
            "  'precision', 'predicted', average, warn_for)\n"
          ],
          "name": "stderr"
        },
        {
          "output_type": "stream",
          "text": [
            "              precision    recall  f1-score   support\n",
            "\n",
            "         0.0       0.82      1.00      0.90     25380\n",
            "         1.0       0.00      0.00      0.00      5529\n",
            "\n",
            "    accuracy                           0.82     30909\n",
            "   macro avg       0.41      0.50      0.45     30909\n",
            "weighted avg       0.67      0.82      0.74     30909\n",
            "\n",
            "[[25380     0]\n",
            " [ 5529     0]]\n",
            "0.8211200621178297\n",
            "-------------------------------------------------------------------------------\n",
            "En ejecución algoritmo de Redes Neuronales\n",
            "Train on 61816 samples, validate on 41212 samples\n",
            "Epoch 1/30\n",
            "61816/61816 [==============================] - 6s 94us/step - loss: 0.4678 - acc: 0.8259 - val_loss: 0.4702 - val_acc: 0.8201\n",
            "Epoch 2/30\n",
            "61816/61816 [==============================] - 5s 85us/step - loss: 0.4639 - acc: 0.8259 - val_loss: 0.4702 - val_acc: 0.8201\n",
            "Epoch 3/30\n",
            "61816/61816 [==============================] - 5s 86us/step - loss: 0.4630 - acc: 0.8259 - val_loss: 0.4703 - val_acc: 0.8201\n",
            "Epoch 4/30\n",
            "61816/61816 [==============================] - 5s 87us/step - loss: 0.4626 - acc: 0.8259 - val_loss: 0.4696 - val_acc: 0.8201\n",
            "Epoch 5/30\n",
            "61816/61816 [==============================] - 5s 86us/step - loss: 0.4621 - acc: 0.8259 - val_loss: 0.4704 - val_acc: 0.8201\n",
            "Epoch 6/30\n",
            "61816/61816 [==============================] - 5s 85us/step - loss: 0.4622 - acc: 0.8259 - val_loss: 0.4714 - val_acc: 0.8201\n",
            "Epoch 7/30\n",
            "61816/61816 [==============================] - 5s 86us/step - loss: 0.4621 - acc: 0.8259 - val_loss: 0.4696 - val_acc: 0.8201\n",
            "Epoch 8/30\n",
            "61816/61816 [==============================] - 5s 86us/step - loss: 0.4618 - acc: 0.8259 - val_loss: 0.4700 - val_acc: 0.8201\n",
            "Epoch 9/30\n",
            "61816/61816 [==============================] - 5s 87us/step - loss: 0.4618 - acc: 0.8259 - val_loss: 0.4698 - val_acc: 0.8201\n",
            "Epoch 10/30\n",
            "61816/61816 [==============================] - 5s 85us/step - loss: 0.4613 - acc: 0.8259 - val_loss: 0.4704 - val_acc: 0.8201\n",
            "              precision    recall  f1-score   support\n",
            "\n",
            "         0.0       0.82      1.00      0.90     25380\n",
            "         1.0       0.00      0.00      0.00      5529\n",
            "\n",
            "    accuracy                           0.82     30909\n",
            "   macro avg       0.41      0.50      0.45     30909\n",
            "weighted avg       0.67      0.82      0.74     30909\n",
            "\n",
            "[[25380     0]\n",
            " [ 5529     0]]\n",
            "0.8211200621178297\n"
          ],
          "name": "stdout"
        },
        {
          "output_type": "stream",
          "text": [
            "/usr/local/lib/python3.6/dist-packages/sklearn/metrics/classification.py:1437: UndefinedMetricWarning: Precision and F-score are ill-defined and being set to 0.0 in labels with no predicted samples.\n",
            "  'precision', 'predicted', average, warn_for)\n"
          ],
          "name": "stderr"
        }
      ]
    },
    {
      "cell_type": "markdown",
      "metadata": {
        "id": "YiOUhHhgfAM7",
        "colab_type": "text"
      },
      "source": [
        "#### 3.4.4.3 Ejecución de algoritmossin caracteristicas priorizadas"
      ]
    },
    {
      "cell_type": "code",
      "metadata": {
        "id": "HtUEmH1ie_Q-",
        "colab_type": "code",
        "outputId": "d2e78e0a-74b9-42c9-fdd4-eb6f713a8724",
        "colab": {
          "base_uri": "https://localhost:8080/",
          "height": 1000
        }
      },
      "source": [
        "# Se define el segundo conjunto de caracteristicas priorizadas \n",
        "\n",
        "# Enfoque \n",
        "datos = clientes_cod.drop('churn',axis=1) \n",
        "clase = clientes_cod.churn\n",
        "# Se realiza los subconjunto de datos para entrenamiento y pruebas \n",
        "train_features, test_features, train_labels, test_labels = train_test_split(datos, clase, test_size=0.3, random_state=1)\n",
        "# Ejecuto algoritmos\n",
        "randomForest()\n",
        "regresionLineal()\n",
        "gradientBoost()\n",
        "SVM()\n",
        "redesNeuronales()"
      ],
      "execution_count": 0,
      "outputs": [
        {
          "output_type": "stream",
          "text": [
            "-------------------------------------------------------------------------------\n",
            "En ejecución algoritmo de Random Forest\n",
            "              precision    recall  f1-score   support\n",
            "\n",
            "         0.0       1.00      0.99      0.99     25380\n",
            "         1.0       0.95      1.00      0.98      5529\n",
            "\n",
            "    accuracy                           0.99     30909\n",
            "   macro avg       0.98      0.99      0.98     30909\n",
            "weighted avg       0.99      0.99      0.99     30909\n",
            "\n",
            "[[25102   278]\n",
            " [    4  5525]]\n",
            "0.9908764437542463\n",
            "-------------------------------------------------------------------------------\n",
            "En ejecución algoritmo de Regresión lineal\n",
            "              precision    recall  f1-score   support\n",
            "\n",
            "         0.0       0.96      0.98      0.97     25380\n",
            "         1.0       0.89      0.81      0.85      5529\n",
            "\n",
            "    accuracy                           0.95     30909\n",
            "   macro avg       0.93      0.89      0.91     30909\n",
            "weighted avg       0.95      0.95      0.95     30909\n",
            "\n",
            "[[24843   537]\n",
            " [ 1056  4473]]\n",
            "0.9484616131223915\n",
            "-------------------------------------------------------------------------------\n",
            "En ejecución algoritmo de Gradient Boosting Classifier\n",
            "              precision    recall  f1-score   support\n",
            "\n",
            "         0.0       1.00      0.99      0.99     25380\n",
            "         1.0       0.95      1.00      0.97      5529\n",
            "\n",
            "    accuracy                           0.99     30909\n",
            "   macro avg       0.97      0.99      0.98     30909\n",
            "weighted avg       0.99      0.99      0.99     30909\n",
            "\n",
            "[[25068   312]\n",
            " [    2  5527]]\n",
            "0.9898411465916076\n",
            "-------------------------------------------------------------------------------\n",
            "En ejecución algoritmo de Support Vector Machine\n"
          ],
          "name": "stdout"
        },
        {
          "output_type": "stream",
          "text": [
            "/usr/local/lib/python3.6/dist-packages/sklearn/metrics/classification.py:1437: UndefinedMetricWarning: Precision and F-score are ill-defined and being set to 0.0 in labels with no predicted samples.\n",
            "  'precision', 'predicted', average, warn_for)\n"
          ],
          "name": "stderr"
        },
        {
          "output_type": "stream",
          "text": [
            "              precision    recall  f1-score   support\n",
            "\n",
            "         0.0       0.82      1.00      0.90     25380\n",
            "         1.0       0.00      0.00      0.00      5529\n",
            "\n",
            "    accuracy                           0.82     30909\n",
            "   macro avg       0.41      0.50      0.45     30909\n",
            "weighted avg       0.67      0.82      0.74     30909\n",
            "\n",
            "[[25380     0]\n",
            " [ 5529     0]]\n",
            "0.8211200621178297\n",
            "-------------------------------------------------------------------------------\n",
            "En ejecución algoritmo de Redes Neuronales\n",
            "Train on 61816 samples, validate on 41212 samples\n",
            "Epoch 1/30\n",
            "61816/61816 [==============================] - 6s 100us/step - loss: 0.1037 - acc: 0.9610 - val_loss: 0.0597 - val_acc: 0.9809\n",
            "Epoch 2/30\n",
            "61816/61816 [==============================] - 6s 89us/step - loss: 0.0662 - acc: 0.9780 - val_loss: 0.0642 - val_acc: 0.9761\n",
            "Epoch 3/30\n",
            "61816/61816 [==============================] - 6s 89us/step - loss: 0.0580 - acc: 0.9815 - val_loss: 0.0497 - val_acc: 0.9855\n",
            "Epoch 4/30\n",
            "61816/61816 [==============================] - 6s 92us/step - loss: 0.0555 - acc: 0.9824 - val_loss: 0.0470 - val_acc: 0.9868\n",
            "Epoch 5/30\n",
            "61816/61816 [==============================] - 5s 88us/step - loss: 0.0533 - acc: 0.9840 - val_loss: 0.0514 - val_acc: 0.9840\n",
            "Epoch 6/30\n",
            "61816/61816 [==============================] - 5s 88us/step - loss: 0.0520 - acc: 0.9844 - val_loss: 0.0525 - val_acc: 0.9832\n",
            "Epoch 7/30\n",
            "61816/61816 [==============================] - 5s 87us/step - loss: 0.0517 - acc: 0.9843 - val_loss: 0.0503 - val_acc: 0.9842\n",
            "              precision    recall  f1-score   support\n",
            "\n",
            "         0.0       0.82      1.00      0.90     25380\n",
            "         1.0       0.00      0.00      0.00      5529\n",
            "\n",
            "    accuracy                           0.82     30909\n",
            "   macro avg       0.41      0.50      0.45     30909\n",
            "weighted avg       0.67      0.82      0.74     30909\n",
            "\n",
            "[[25380     0]\n",
            " [ 5529     0]]\n",
            "0.8211200621178297\n"
          ],
          "name": "stdout"
        },
        {
          "output_type": "stream",
          "text": [
            "/usr/local/lib/python3.6/dist-packages/sklearn/metrics/classification.py:1437: UndefinedMetricWarning: Precision and F-score are ill-defined and being set to 0.0 in labels with no predicted samples.\n",
            "  'precision', 'predicted', average, warn_for)\n"
          ],
          "name": "stderr"
        }
      ]
    },
    {
      "cell_type": "code",
      "metadata": {
        "id": "Zx944wFQtH6l",
        "colab_type": "code",
        "outputId": "c8e216d2-677f-4fc8-f778-635d6d236a39",
        "colab": {
          "base_uri": "https://localhost:8080/",
          "height": 556
        }
      },
      "source": [
        "X= datos\n",
        "Y = clase\n",
        "\n",
        "outcome = []\n",
        "model_names = []\n",
        "models = [('LogReg', LogisticRegression()), \n",
        "          #('SVM', SVC()), \n",
        "          ('DecTree', DecisionTreeClassifier()),\n",
        "          #('KNN', KNeighborsClassifier()),\n",
        "          ('LinDisc', LinearDiscriminantAnalysis()),\n",
        "          ('Gradiente', GradientBoostingClassifier()),\n",
        "          ('RandomForest', rfc(n_estimators=200, random_state=0)),          \n",
        "          ('GaussianNB', GaussianNB())]\n",
        "\n",
        "\n",
        "  \n",
        "\n",
        "for model_name, model in models:\n",
        "    k_fold_validation = model_selection.KFold(n_splits=10, random_state=1)\n",
        "    results = model_selection.cross_val_score(model, X, Y, cv=k_fold_validation, scoring='accuracy')\n",
        "    outcome.append(results)\n",
        "    model_names.append(model_name)\n",
        "    output_message = \"%s| Mean=%f STD=%f\" % (model_name, results.mean(), results.std())\n",
        "    print(output_message)\n",
        "\n",
        "fig = plt.figure()\n",
        "fig.suptitle('Machine Learning Model Comparison')\n",
        "fig.set_size_inches(12, 5)\n",
        "ax = fig.add_subplot(111)\n",
        "plt.boxplot(outcome)\n",
        "ax.set_xticklabels(model_names)\n",
        "plt.show()"
      ],
      "execution_count": 0,
      "outputs": [
        {
          "output_type": "stream",
          "text": [
            "LogReg| Mean=0.948247 STD=0.001912\n",
            "DecTree| Mean=0.980044 STD=0.001354\n",
            "LinDisc| Mean=0.983422 STD=0.001469\n",
            "Gradiente| Mean=0.989488 STD=0.001414\n",
            "RandomForest| Mean=0.989779 STD=0.001230\n",
            "GaussianNB| Mean=0.973017 STD=0.001288\n"
          ],
          "name": "stdout"
        },
        {
          "output_type": "display_data",
          "data": {
            "text/plain": [
              "<Figure size 432x288 with 0 Axes>"
            ]
          },
          "metadata": {
            "tags": []
          }
        },
        {
          "output_type": "display_data",
          "data": {
            "text/plain": [
              "<Figure size 432x288 with 0 Axes>"
            ]
          },
          "metadata": {
            "tags": []
          }
        },
        {
          "output_type": "display_data",
          "data": {
            "text/plain": [
              "<Figure size 432x288 with 0 Axes>"
            ]
          },
          "metadata": {
            "tags": []
          }
        },
        {
          "output_type": "display_data",
          "data": {
            "text/plain": [
              "<Figure size 432x288 with 0 Axes>"
            ]
          },
          "metadata": {
            "tags": []
          }
        },
        {
          "output_type": "display_data",
          "data": {
            "text/plain": [
              "<Figure size 432x288 with 0 Axes>"
            ]
          },
          "metadata": {
            "tags": []
          }
        },
        {
          "output_type": "display_data",
          "data": {
            "image/png": "[encoded data removed]",
            "text/plain": [
              "<Figure size 1152x360 with 1 Axes>"
            ]
          },
          "metadata": {
            "tags": []
          }
        }
      ]
    },
    {
      "cell_type": "code",
      "metadata": {
        "id": "EoYX9rebxgGT",
        "colab_type": "code",
        "colab": {}
      },
      "source": [
        "from sklearn.model_selection import cross_val_score\n",
        "from sklearn.metrics import mean_squared_error,confusion_matrix, precision_score, recall_score, auc,roc_curve\n",
        "from sklearn import ensemble, linear_model, neighbors, svm, tree, neural_network\n",
        "from sklearn.pipeline import make_pipeline\n",
        "from sklearn.linear_model import Ridge\n",
        "from sklearn.preprocessing import PolynomialFeatures\n",
        "from sklearn import svm,model_selection, tree, linear_model, neighbors, naive_bayes, ensemble, discriminant_analysis, gaussian_process\n",
        "\n",
        "MLA = [\n",
        "    #Ensemble Methods\n",
        "    ensemble.AdaBoostClassifier(),\n",
        "    ensemble.BaggingClassifier(),\n",
        "    #ensemble.ExtraTreesClassifier(),\n",
        "    ensemble.GradientBoostingClassifier(),\n",
        "    ensemble.RandomForestClassifier(),\n",
        "\n",
        "    #Gaussian Processes\n",
        "    gaussian_process.GaussianProcessClassifier(),\n",
        "    \n",
        "    #GLM\n",
        "    linear_model.LogisticRegressionCV(),\n",
        "    #linear_model.PassiveAggressiveClassifier(),\n",
        "    #linear_model. RidgeClassifierCV(),\n",
        "    #linear_model.SGDClassifier(),\n",
        "    linear_model.Perceptron(),\n",
        "    \n",
        "    #Navies Bayes\n",
        "    naive_bayes.BernoulliNB(),\n",
        "    naive_bayes.GaussianNB(),\n",
        "    \n",
        "    #Nearest Neighbor\n",
        "    neighbors.KNeighborsClassifier(),\n",
        "    \n",
        "    #SVM\n",
        "    #svm.SVC(probability=True),\n",
        "    #svm.NuSVC(probability=True),\n",
        "    #svm.LinearSVC(),\n",
        "    \n",
        "    #Trees    \n",
        "    tree.DecisionTreeClassifier(),\n",
        "   #tree.ExtraTreeClassifier(),\n",
        "    \n",
        "    ]\n",
        "\n",
        "MLA_columns = []\n",
        "MLA_compare = pd.DataFrame(columns = MLA_columns)\n",
        "\n",
        "\n",
        "row_index = 0\n",
        "for alg in MLA:\n",
        "    \n",
        "    \n",
        "    predicted = alg.fit(train_features, train_labels).predict(test_features)\n",
        "    fp, tp, th = roc_curve(test_labels, predicted)\n",
        "    MLA_name = alg.__class__.__name__\n",
        "    MLA_compare.loc[row_index,'MLA Name'] = MLA_name\n",
        "    MLA_compare.loc[row_index, 'MLA Train Accuracy'] = round(alg.score(train_features, train_labels), 4)\n",
        "    MLA_compare.loc[row_index, 'MLA Test Accuracy'] = round(alg.score(test_features, test_labels), 4)\n",
        "    MLA_compare.loc[row_index, 'MLA Precission'] = precision_score(test_labels, predicted)\n",
        "    MLA_compare.loc[row_index, 'MLA Recall'] = recall_score(test_labels, predicted)\n",
        "    MLA_compare.loc[row_index, 'MLA AUC'] = auc(fp, tp)\n",
        "\n",
        "\n",
        " \n",
        "\n",
        "\n",
        "    row_index+=1\n",
        "    \n",
        "MLA_compare.sort_values(by = ['MLA Test Accuracy'], ascending = False, inplace = True)    \n",
        "MLA_compare"
      ],
      "execution_count": 0,
      "outputs": []
    },
    {
      "cell_type": "code",
      "metadata": {
        "id": "ilLv0D5Ax_Wa",
        "colab_type": "code",
        "colab": {}
      },
      "source": [
        "plt.subplots(figsize=(15,6))\n",
        "sns.barplot(x=\"MLA Name\", y=\"MLA Train Accuracy\",data=MLA_compare,palette='hot',edgecolor=sns.color_palette('dark',7))\n",
        "plt.xticks(rotation=90)\n",
        "plt.title('MLA Train Accuracy Comparison')\n",
        "plt.show()"
      ],
      "execution_count": 0,
      "outputs": []
    },
    {
      "cell_type": "code",
      "metadata": {
        "id": "Xxnzt33gx_09",
        "colab_type": "code",
        "colab": {}
      },
      "source": [
        "plt.subplots(figsize=(15,6))\n",
        "sns.barplot(x=\"MLA Name\", y=\"MLA Test Accuracy\",data=MLA_compare,palette='hot',edgecolor=sns.color_palette('dark',7))\n",
        "plt.xticks(rotation=90)\n",
        "plt.title('MLA Test Accuracy Comparison')\n",
        "plt.show()"
      ],
      "execution_count": 0,
      "outputs": []
    },
    {
      "cell_type": "code",
      "metadata": {
        "id": "M3e5R9FjyBKc",
        "colab_type": "code",
        "colab": {}
      },
      "source": [
        "plt.subplots(figsize=(15,6))\n",
        "sns.barplot(x=\"MLA Name\", y=\"MLA Precission\",data=MLA_compare,palette='hot',edgecolor=sns.color_palette('dark',7))\n",
        "plt.xticks(rotation=90)\n",
        "plt.title('MLA Precission Comparison')\n",
        "plt.show()"
      ],
      "execution_count": 0,
      "outputs": []
    },
    {
      "cell_type": "code",
      "metadata": {
        "id": "Q1ADYpVWyDAw",
        "colab_type": "code",
        "colab": {}
      },
      "source": [
        "plt.subplots(figsize=(15,6))\n",
        "sns.barplot(x=\"MLA Name\", y=\"MLA Recall\",data=MLA_compare,palette='hot',edgecolor=sns.color_palette('dark',7))\n",
        "plt.xticks(rotation=90)\n",
        "plt.title('MLA Recall Comparison')\n",
        "plt.show()"
      ],
      "execution_count": 0,
      "outputs": []
    },
    {
      "cell_type": "code",
      "metadata": {
        "id": "71KgHCQXyGsU",
        "colab_type": "code",
        "colab": {}
      },
      "source": [
        "plt.subplots(figsize=(15,6))\n",
        "sns.barplot(x=\"MLA Name\", y=\"MLA AUC\",data=MLA_compare,palette='hot',edgecolor=sns.color_palette('dark',7))\n",
        "plt.xticks(rotation=90)\n",
        "plt.title('MLA AUC Comparison')\n",
        "plt.show()"
      ],
      "execution_count": 0,
      "outputs": []
    },
    {
      "cell_type": "code",
      "metadata": {
        "id": "hKpNq15cyINJ",
        "colab_type": "code",
        "colab": {}
      },
      "source": [
        "index = 1\n",
        "for alg in MLA:\n",
        "    \n",
        "    \n",
        "    predicted = alg.fit(x_train, y_train).predict(x_test)\n",
        "    fp, tp, th = roc_curve(y_test, predicted)\n",
        "    roc_auc_mla = auc(fp, tp)\n",
        "    MLA_name = alg.__class__.__name__\n",
        "    plt.plot(fp, tp, lw=2, alpha=0.3, label='ROC %s (AUC = %0.2f)'  % (MLA_name, roc_auc_mla))\n",
        "   \n",
        "    index+=1\n",
        "\n",
        "plt.title('ROC Curve comparison')\n",
        "plt.legend(bbox_to_anchor=(1.05, 1), loc=2, borderaxespad=0.)\n",
        "plt.plot([0,1],[0,1],'r--')\n",
        "plt.xlim([0,1])\n",
        "plt.ylim([0,1])\n",
        "plt.ylabel('True Positive Rate')\n",
        "plt.xlabel('False Positive Rate')    \n",
        "plt.show()"
      ],
      "execution_count": 0,
      "outputs": []
    },
    {
      "cell_type": "markdown",
      "metadata": {
        "id": "FnUu8JGptRqJ",
        "colab_type": "text"
      },
      "source": [
        "### 3.4.5 Análisis y resultados de los experimentos\n",
        "\n",
        "\n",
        "Como resultado de los experimentos, se puede denotar que los metodos más efectivos para este tipo de información son los algoritmos de **Random Forest y Gradient Boosting Classifier**, ya que han sido los mejores, con los grupo 1, grupo2 y la totalidad de los datos.  \n",
        "\n",
        "*   **Resultado 1**: Random Forest: 99,10%    -  Gradient Boosting Classifier: 98,98%\n",
        "*   **Restulado 2**: Random Forest: 82,92%    -  Gradient Boosting Classifier: 82,19%\n",
        "*   **Restulado 3**: Random Forest: 99,08%    -  Gradient Boosting Classifier: 98,98%\n",
        "\n"
      ]
    }
  ]
}